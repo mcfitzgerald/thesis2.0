{
 "cells": [
  {
   "cell_type": "code",
   "execution_count": 1,
   "metadata": {
    "collapsed": true
   },
   "outputs": [],
   "source": [
    "import numpy as np\n",
    "import matplotlib.pyplot as plt\n",
    "from mods import models, ligtools, plotter, prep\n",
    "from scipy import optimize\n",
    "import corner\n",
    "%matplotlib inline\n",
    "%load_ext autoreload"
   ]
  },
  {
   "cell_type": "code",
   "execution_count": 38,
   "metadata": {
    "collapsed": true
   },
   "outputs": [],
   "source": [
    "ligs = np.array([ligtools.dilser() for i in range(6)])\n",
    "rtot = np.array([0.001,0.0025,0.005,0.01,0.025,0.05])\n",
    "parm = np.array([3.,2.,0.1,100.]) #k11,k21,k22,l20\n",
    "datset = np.array([models.wyman_bestfit(parm,ligs[i],rtot[i]) for i in range(len(ligs))])"
   ]
  },
  {
   "cell_type": "code",
   "execution_count": 39,
   "metadata": {
    "collapsed": false
   },
   "outputs": [],
   "source": [
    "noisedset = [np.array([np.random.normal(datset,(0.05*datset)) for i in range(3)]) for i in range(3000)]\n",
    "meanset_list = np.array([noisedset[i].mean(axis=0) for i in range(len(noisedset))])\n",
    "stdset_list = np.array([noisedset[i].std(axis=0) for i in range(len(noisedset))])"
   ]
  },
  {
   "cell_type": "code",
   "execution_count": 40,
   "metadata": {
    "collapsed": false
   },
   "outputs": [
    {
     "data": {
      "image/png": "[encoded data removed]",
      "text/plain": [
       "<matplotlib.figure.Figure at 0x10d2115c0>"
      ]
     },
     "metadata": {},
     "output_type": "display_data"
    }
   ],
   "source": [
    "a = plotter.semlogerr(ligs,meanset_list[2],stdset_list[2]) #sanity check - visualize one of the sets"
   ]
  },
  {
   "cell_type": "code",
   "execution_count": 41,
   "metadata": {
    "collapsed": true
   },
   "outputs": [],
   "source": [
    "guess = np.array([5.,3.,0.6,100.])"
   ]
  },
  {
   "cell_type": "code",
   "execution_count": 42,
   "metadata": {
    "collapsed": true
   },
   "outputs": [],
   "source": [
    "bound1 = ((0.0,0.0,0.0,0.0),(10.0,10.0,10.0,1000.0))"
   ]
  },
  {
   "cell_type": "code",
   "execution_count": 43,
   "metadata": {
    "collapsed": false
   },
   "outputs": [
    {
     "ename": "ValueError",
     "evalue": "operands could not be broadcast together with shapes (6,) (6,18) ",
     "output_type": "error",
     "traceback": [
      "\u001b[0;31m---------------------------------------------------------------------------\u001b[0m",
      "\u001b[0;31mValueError\u001b[0m                                Traceback (most recent call last)",
      "\u001b[0;32m<ipython-input-43-2466b8e76546>\u001b[0m in \u001b[0;36m<module>\u001b[0;34m()\u001b[0m\n\u001b[0;32m----> 1\u001b[0;31m \u001b[0mresult_test\u001b[0m \u001b[0;34m=\u001b[0m \u001b[0moptimize\u001b[0m\u001b[0;34m.\u001b[0m\u001b[0mleast_squares\u001b[0m\u001b[0;34m(\u001b[0m\u001b[0mmodels\u001b[0m\u001b[0;34m.\u001b[0m\u001b[0mwyman_sp\u001b[0m\u001b[0;34m,\u001b[0m\u001b[0mguess\u001b[0m\u001b[0;34m,\u001b[0m\u001b[0mbounds\u001b[0m\u001b[0;34m=\u001b[0m\u001b[0mbound1\u001b[0m\u001b[0;34m,\u001b[0m\u001b[0margs\u001b[0m\u001b[0;34m=\u001b[0m\u001b[0;34m(\u001b[0m\u001b[0mligs\u001b[0m\u001b[0;34m,\u001b[0m\u001b[0mmeanset_list\u001b[0m\u001b[0;34m[\u001b[0m\u001b[0;36m1\u001b[0m\u001b[0;34m]\u001b[0m\u001b[0;34m,\u001b[0m\u001b[0mrtot\u001b[0m\u001b[0;34m)\u001b[0m\u001b[0;34m)\u001b[0m\u001b[0;34m\u001b[0m\u001b[0m\n\u001b[0m",
      "\u001b[0;32m/Users/michael/miniconda3/envs/fitter/lib/python3.5/site-packages/scipy/optimize/_lsq/least_squares.py\u001b[0m in \u001b[0;36mleast_squares\u001b[0;34m(fun, x0, jac, bounds, method, ftol, xtol, gtol, x_scale, loss, f_scale, diff_step, tr_solver, tr_options, jac_sparsity, max_nfev, verbose, args, kwargs)\u001b[0m\n\u001b[1;32m    767\u001b[0m         \u001b[0mx0\u001b[0m \u001b[0;34m=\u001b[0m \u001b[0mmake_strictly_feasible\u001b[0m\u001b[0;34m(\u001b[0m\u001b[0mx0\u001b[0m\u001b[0;34m,\u001b[0m \u001b[0mlb\u001b[0m\u001b[0;34m,\u001b[0m \u001b[0mub\u001b[0m\u001b[0;34m)\u001b[0m\u001b[0;34m\u001b[0m\u001b[0m\n\u001b[1;32m    768\u001b[0m \u001b[0;34m\u001b[0m\u001b[0m\n\u001b[0;32m--> 769\u001b[0;31m     \u001b[0mf0\u001b[0m \u001b[0;34m=\u001b[0m \u001b[0mfun_wrapped\u001b[0m\u001b[0;34m(\u001b[0m\u001b[0mx0\u001b[0m\u001b[0;34m)\u001b[0m\u001b[0;34m\u001b[0m\u001b[0m\n\u001b[0m\u001b[1;32m    770\u001b[0m \u001b[0;34m\u001b[0m\u001b[0m\n\u001b[1;32m    771\u001b[0m     \u001b[0;32mif\u001b[0m \u001b[0mf0\u001b[0m\u001b[0;34m.\u001b[0m\u001b[0mndim\u001b[0m \u001b[0;34m!=\u001b[0m \u001b[0;36m1\u001b[0m\u001b[0;34m:\u001b[0m\u001b[0;34m\u001b[0m\u001b[0m\n",
      "\u001b[0;32m/Users/michael/miniconda3/envs/fitter/lib/python3.5/site-packages/scipy/optimize/_lsq/least_squares.py\u001b[0m in \u001b[0;36mfun_wrapped\u001b[0;34m(x)\u001b[0m\n\u001b[1;32m    762\u001b[0m \u001b[0;34m\u001b[0m\u001b[0m\n\u001b[1;32m    763\u001b[0m     \u001b[0;32mdef\u001b[0m \u001b[0mfun_wrapped\u001b[0m\u001b[0;34m(\u001b[0m\u001b[0mx\u001b[0m\u001b[0;34m)\u001b[0m\u001b[0;34m:\u001b[0m\u001b[0;34m\u001b[0m\u001b[0m\n\u001b[0;32m--> 764\u001b[0;31m         \u001b[0;32mreturn\u001b[0m \u001b[0mnp\u001b[0m\u001b[0;34m.\u001b[0m\u001b[0matleast_1d\u001b[0m\u001b[0;34m(\u001b[0m\u001b[0mfun\u001b[0m\u001b[0;34m(\u001b[0m\u001b[0mx\u001b[0m\u001b[0;34m,\u001b[0m \u001b[0;34m*\u001b[0m\u001b[0margs\u001b[0m\u001b[0;34m,\u001b[0m \u001b[0;34m**\u001b[0m\u001b[0mkwargs\u001b[0m\u001b[0;34m)\u001b[0m\u001b[0;34m)\u001b[0m\u001b[0;34m\u001b[0m\u001b[0m\n\u001b[0m\u001b[1;32m    765\u001b[0m \u001b[0;34m\u001b[0m\u001b[0m\n\u001b[1;32m    766\u001b[0m     \u001b[0;32mif\u001b[0m \u001b[0mmethod\u001b[0m \u001b[0;34m==\u001b[0m \u001b[0;34m'trf'\u001b[0m\u001b[0;34m:\u001b[0m\u001b[0;34m\u001b[0m\u001b[0m\n",
      "\u001b[0;32m/Users/michael/thesis2.0/ipythes/working_jan17/simulated_sets/mods/models.py\u001b[0m in \u001b[0;36mwyman_sp\u001b[0;34m(parm, lig, data, rtot, eps)\u001b[0m\n\u001b[1;32m     44\u001b[0m     rfree = (((-1 - k11*ligc)) + \\\n\u001b[1;32m     45\u001b[0m     (np.sqrt(np.concatenate((np.square((1 + k11*lig)) + \\\n\u001b[0;32m---> 46\u001b[0;31m     8.*l20*rtot*(1 + k21*lig + k21*k22*(np.square(lig)))))))) \\\n\u001b[0m\u001b[1;32m     47\u001b[0m     \u001b[0;34m/\u001b[0m \u001b[0;34m(\u001b[0m\u001b[0;36m4\u001b[0m\u001b[0;34m*\u001b[0m\u001b[0ml20\u001b[0m\u001b[0;34m*\u001b[0m\u001b[0;34m(\u001b[0m\u001b[0;36m1\u001b[0m \u001b[0;34m+\u001b[0m \u001b[0mk21\u001b[0m\u001b[0;34m*\u001b[0m\u001b[0mligc\u001b[0m \u001b[0;34m+\u001b[0m \u001b[0mk21\u001b[0m\u001b[0;34m*\u001b[0m\u001b[0mk22\u001b[0m\u001b[0;34m*\u001b[0m\u001b[0;34m(\u001b[0m\u001b[0mnp\u001b[0m\u001b[0;34m.\u001b[0m\u001b[0msquare\u001b[0m\u001b[0;34m(\u001b[0m\u001b[0mligc\u001b[0m\u001b[0;34m)\u001b[0m\u001b[0;34m)\u001b[0m\u001b[0;34m)\u001b[0m\u001b[0;34m)\u001b[0m\u001b[0;34m\u001b[0m\u001b[0m\n\u001b[1;32m     48\u001b[0m \u001b[0;34m\u001b[0m\u001b[0m\n",
      "\u001b[0;31mValueError\u001b[0m: operands could not be broadcast together with shapes (6,) (6,18) "
     ]
    }
   ],
   "source": [
    "result_test = optimize.least_squares(models.wyman_sp,guess,bounds=bound1,args=(ligs,meanset_list[1],rtot))"
   ]
  },
  {
   "cell_type": "code",
   "execution_count": 7,
   "metadata": {
    "collapsed": false
   },
   "outputs": [
    {
     "ename": "SyntaxError",
     "evalue": "invalid syntax (<ipython-input-7-bd50073670fd>, line 1)",
     "output_type": "error",
     "traceback": [
      "\u001b[0;36m  File \u001b[0;32m\"<ipython-input-7-bd50073670fd>\"\u001b[0;36m, line \u001b[0;32m1\u001b[0m\n\u001b[0;31m    fit_set = [optimize.least_squares(models.wyman_sp,parm,bounds=bound1,args=(ligs,meanset_list[i])) for i in range(len(meanset_list)]\u001b[0m\n\u001b[0m                                                                                                                                      ^\u001b[0m\n\u001b[0;31mSyntaxError\u001b[0m\u001b[0;31m:\u001b[0m invalid syntax\n"
     ]
    }
   ],
   "source": [
    "fit_set = [optimize.least_squares(models.wyman_sp,parm,bounds=bound1,args=(ligs,meanset_list[i])) for i in range(len(meanset_list))]"
   ]
  },
  {
   "cell_type": "code",
   "execution_count": 11,
   "metadata": {
    "collapsed": false
   },
   "outputs": [
    {
     "data": {
      "text/plain": [
       "array([[ 0.00267383,  0.00559402,  0.01009265,  0.02061928,  0.04173479,\n",
       "         0.0804449 ,  0.14350408,  0.25828764,  0.40767997,  0.61105837,\n",
       "         0.72114485,  0.85938395,  0.90596594,  0.89924494,  0.96244695,\n",
       "         0.95886148,  0.9735451 ,  0.99932716],\n",
       "       [ 0.00239209,  0.00486992,  0.01000281,  0.01947867,  0.03827831,\n",
       "         0.07167378,  0.14049626,  0.24107234,  0.3813308 ,  0.56751478,\n",
       "         0.72527697,  0.83408004,  0.93317173,  0.95622898,  0.98264568,\n",
       "         1.02261705,  0.97753931,  1.03237675],\n",
       "       [ 0.00215827,  0.00418905,  0.00898405,  0.01774062,  0.03378818,\n",
       "         0.06519805,  0.12988167,  0.23342769,  0.37244869,  0.54825753,\n",
       "         0.70961537,  0.88048188,  0.92908868,  0.93220894,  0.97013055,\n",
       "         0.96021521,  1.02827718,  0.97936968],\n",
       "       [ 0.00183556,  0.00400644,  0.00766686,  0.01592299,  0.03025801,\n",
       "         0.06245261,  0.11218864,  0.18798685,  0.35239128,  0.50588749,\n",
       "         0.65254715,  0.81811269,  0.85175737,  1.01770637,  0.99607822,\n",
       "         0.99011134,  0.96534612,  1.02824501],\n",
       "       [ 0.00169117,  0.003565  ,  0.0067271 ,  0.01342234,  0.02593066,\n",
       "         0.04899813,  0.09695996,  0.17490462,  0.29068067,  0.45486902,\n",
       "         0.63575363,  0.74703542,  0.86873127,  0.90691805,  0.94085075,\n",
       "         0.96728087,  0.99901261,  1.02616031]])"
      ]
     },
     "execution_count": 11,
     "metadata": {},
     "output_type": "execute_result"
    }
   ],
   "source": [
    "meanset_list[0]"
   ]
  },
  {
   "cell_type": "code",
   "execution_count": 21,
   "metadata": {
    "collapsed": false
   },
   "outputs": [],
   "source": [
    "a = np.concatenate(meanset_list[0]) * np.concatenate(ligs)"
   ]
  },
  {
   "cell_type": "code",
   "execution_count": 22,
   "metadata": {
    "collapsed": false
   },
   "outputs": [
    {
     "data": {
      "text/plain": [
       "108"
      ]
     },
     "execution_count": 22,
     "metadata": {},
     "output_type": "execute_result"
    }
   ],
   "source": [
    "a.size"
   ]
  },
  {
   "cell_type": "code",
   "execution_count": 23,
   "metadata": {
    "collapsed": false
   },
   "outputs": [
    {
     "data": {
      "text/plain": [
       "108"
      ]
     },
     "execution_count": 23,
     "metadata": {},
     "output_type": "execute_result"
    }
   ],
   "source": [
    "ligs.size"
   ]
  },
  {
   "cell_type": "code",
   "execution_count": 37,
   "metadata": {
    "collapsed": false
   },
   "outputs": [
    {
     "data": {
      "text/plain": [
       "list"
      ]
     },
     "execution_count": 37,
     "metadata": {},
     "output_type": "execute_result"
    }
   ],
   "source": [
    "type(meanset_list)"
   ]
  },
  {
   "cell_type": "code",
   "execution_count": 34,
   "metadata": {
    "collapsed": false
   },
   "outputs": [
    {
     "data": {
      "text/plain": [
       "array([[  1.00000000e-03,   2.00000000e-03,   4.00000000e-03,\n",
       "          8.00000000e-03,   1.60000000e-02,   3.20000000e-02,\n",
       "          6.40000000e-02,   1.28000000e-01,   2.56000000e-01,\n",
       "          5.12000000e-01,   1.02400000e+00,   2.04800000e+00,\n",
       "          4.09600000e+00,   8.19200000e+00,   1.63840000e+01,\n",
       "          3.27680000e+01,   6.55360000e+01,   1.31072000e+02],\n",
       "       [  1.00000000e-03,   2.00000000e-03,   4.00000000e-03,\n",
       "          8.00000000e-03,   1.60000000e-02,   3.20000000e-02,\n",
       "          6.40000000e-02,   1.28000000e-01,   2.56000000e-01,\n",
       "          5.12000000e-01,   1.02400000e+00,   2.04800000e+00,\n",
       "          4.09600000e+00,   8.19200000e+00,   1.63840000e+01,\n",
       "          3.27680000e+01,   6.55360000e+01,   1.31072000e+02],\n",
       "       [  1.00000000e-03,   2.00000000e-03,   4.00000000e-03,\n",
       "          8.00000000e-03,   1.60000000e-02,   3.20000000e-02,\n",
       "          6.40000000e-02,   1.28000000e-01,   2.56000000e-01,\n",
       "          5.12000000e-01,   1.02400000e+00,   2.04800000e+00,\n",
       "          4.09600000e+00,   8.19200000e+00,   1.63840000e+01,\n",
       "          3.27680000e+01,   6.55360000e+01,   1.31072000e+02],\n",
       "       [  1.00000000e-03,   2.00000000e-03,   4.00000000e-03,\n",
       "          8.00000000e-03,   1.60000000e-02,   3.20000000e-02,\n",
       "          6.40000000e-02,   1.28000000e-01,   2.56000000e-01,\n",
       "          5.12000000e-01,   1.02400000e+00,   2.04800000e+00,\n",
       "          4.09600000e+00,   8.19200000e+00,   1.63840000e+01,\n",
       "          3.27680000e+01,   6.55360000e+01,   1.31072000e+02],\n",
       "       [  1.00000000e-03,   2.00000000e-03,   4.00000000e-03,\n",
       "          8.00000000e-03,   1.60000000e-02,   3.20000000e-02,\n",
       "          6.40000000e-02,   1.28000000e-01,   2.56000000e-01,\n",
       "          5.12000000e-01,   1.02400000e+00,   2.04800000e+00,\n",
       "          4.09600000e+00,   8.19200000e+00,   1.63840000e+01,\n",
       "          3.27680000e+01,   6.55360000e+01,   1.31072000e+02],\n",
       "       [  1.00000000e-03,   2.00000000e-03,   4.00000000e-03,\n",
       "          8.00000000e-03,   1.60000000e-02,   3.20000000e-02,\n",
       "          6.40000000e-02,   1.28000000e-01,   2.56000000e-01,\n",
       "          5.12000000e-01,   1.02400000e+00,   2.04800000e+00,\n",
       "          4.09600000e+00,   8.19200000e+00,   1.63840000e+01,\n",
       "          3.27680000e+01,   6.55360000e+01,   1.31072000e+02]])"
      ]
     },
     "execution_count": 34,
     "metadata": {},
     "output_type": "execute_result"
    }
   ],
   "source": [
    "ligs"
   ]
  },
  {
   "cell_type": "code",
   "execution_count": 50,
   "metadata": {
    "collapsed": false
   },
   "outputs": [
    {
     "data": {
      "text/plain": [
       "[array([ 0.00262269,  0.00533991,  0.01069883,  0.02247273,  0.04167142,\n",
       "         0.08232673,  0.14820443,  0.26502363,  0.39430296,  0.59254049,\n",
       "         0.78037211,  0.83494085,  0.88540166,  0.95722321,  0.92833488,\n",
       "         1.04476077,  1.02628381,  1.0186471 ]),\n",
       " array([ 0.0025315 ,  0.00486989,  0.00971673,  0.01898613,  0.03875885,\n",
       "         0.07356643,  0.13418673,  0.23973463,  0.38214919,  0.56736587,\n",
       "         0.73930431,  0.82015238,  0.88245277,  0.89417078,  0.97887608,\n",
       "         1.03148862,  1.00715519,  1.03284383]),\n",
       " array([ 0.00232217,  0.0043623 ,  0.00896173,  0.01684661,  0.03621243,\n",
       "         0.06743158,  0.1200368 ,  0.22051534,  0.36486005,  0.5396305 ,\n",
       "         0.69631859,  0.820948  ,  0.92495783,  0.94645121,  0.97772023,\n",
       "         0.98278089,  0.99061075,  0.98209529]),\n",
       " array([ 0.00205803,  0.00401106,  0.00729149,  0.01501868,  0.03044732,\n",
       "         0.06158734,  0.11270377,  0.20280089,  0.31829976,  0.49138531,\n",
       "         0.67489352,  0.8060431 ,  0.89563844,  0.87872694,  0.9500544 ,\n",
       "         0.98174766,  1.00576763,  0.98758542]),\n",
       " array([ 0.0017287 ,  0.00343921,  0.00720221,  0.01352194,  0.02505389,\n",
       "         0.04922424,  0.09596666,  0.18322543,  0.29360943,  0.4479872 ,\n",
       "         0.59153722,  0.74106572,  0.82115447,  0.9453316 ,  0.9589705 ,\n",
       "         1.02874628,  1.00930075,  0.98228272]),\n",
       " array([ 0.00160132,  0.00305224,  0.00622496,  0.01203617,  0.02271119,\n",
       "         0.04760587,  0.09035065,  0.15981608,  0.272449  ,  0.41838956,\n",
       "         0.53433799,  0.66884804,  0.79421663,  0.9054528 ,  0.95196865,\n",
       "         0.9675431 ,  0.9932991 ,  0.98441009])]"
      ]
     },
     "execution_count": 50,
     "metadata": {},
     "output_type": "execute_result"
    }
   ],
   "source": [
    "list(meanset_list[0])"
   ]
  },
  {
   "cell_type": "code",
   "execution_count": 51,
   "metadata": {
    "collapsed": true
   },
   "outputs": [],
   "source": [
    "cop = meanset_list[0]"
   ]
  },
  {
   "cell_type": "code",
   "execution_count": 56,
   "metadata": {
    "collapsed": false
   },
   "outputs": [
    {
     "data": {
      "text/plain": [
       "(6, 18)"
      ]
     },
     "execution_count": 56,
     "metadata": {},
     "output_type": "execute_result"
    }
   ],
   "source": [
    "cop.shape"
   ]
  },
  {
   "cell_type": "code",
   "execution_count": 57,
   "metadata": {
    "collapsed": false
   },
   "outputs": [
    {
     "data": {
      "text/plain": [
       "dtype('float64')"
      ]
     },
     "execution_count": 57,
     "metadata": {},
     "output_type": "execute_result"
    }
   ],
   "source": [
    "cop.dtype"
   ]
  },
  {
   "cell_type": "code",
   "execution_count": 60,
   "metadata": {
    "collapsed": false
   },
   "outputs": [],
   "source": [
    "bop = cop.astype('O')"
   ]
  },
  {
   "cell_type": "code",
   "execution_count": 59,
   "metadata": {
    "collapsed": false
   },
   "outputs": [
    {
     "data": {
      "text/plain": [
       "array([[ 0.00262269,  0.00533991,  0.01069883,  0.02247273,  0.04167142,\n",
       "         0.08232673,  0.14820443,  0.26502363,  0.39430296,  0.59254049,\n",
       "         0.78037211,  0.83494085,  0.88540166,  0.95722321,  0.92833488,\n",
       "         1.04476077,  1.02628381,  1.0186471 ],\n",
       "       [ 0.0025315 ,  0.00486989,  0.00971673,  0.01898613,  0.03875885,\n",
       "         0.07356643,  0.13418673,  0.23973463,  0.38214919,  0.56736587,\n",
       "         0.73930431,  0.82015238,  0.88245277,  0.89417078,  0.97887608,\n",
       "         1.03148862,  1.00715519,  1.03284383],\n",
       "       [ 0.00232217,  0.0043623 ,  0.00896173,  0.01684661,  0.03621243,\n",
       "         0.06743158,  0.1200368 ,  0.22051534,  0.36486005,  0.5396305 ,\n",
       "         0.69631859,  0.820948  ,  0.92495783,  0.94645121,  0.97772023,\n",
       "         0.98278089,  0.99061075,  0.98209529],\n",
       "       [ 0.00205803,  0.00401106,  0.00729149,  0.01501868,  0.03044732,\n",
       "         0.06158734,  0.11270377,  0.20280089,  0.31829976,  0.49138531,\n",
       "         0.67489352,  0.8060431 ,  0.89563844,  0.87872694,  0.9500544 ,\n",
       "         0.98174766,  1.00576763,  0.98758542],\n",
       "       [ 0.0017287 ,  0.00343921,  0.00720221,  0.01352194,  0.02505389,\n",
       "         0.04922424,  0.09596666,  0.18322543,  0.29360943,  0.4479872 ,\n",
       "         0.59153722,  0.74106572,  0.82115447,  0.9453316 ,  0.9589705 ,\n",
       "         1.02874628,  1.00930075,  0.98228272],\n",
       "       [ 0.00160132,  0.00305224,  0.00622496,  0.01203617,  0.02271119,\n",
       "         0.04760587,  0.09035065,  0.15981608,  0.272449  ,  0.41838956,\n",
       "         0.53433799,  0.66884804,  0.79421663,  0.9054528 ,  0.95196865,\n",
       "         0.9675431 ,  0.9932991 ,  0.98441009]])"
      ]
     },
     "execution_count": 59,
     "metadata": {},
     "output_type": "execute_result"
    }
   ],
   "source": [
    "cop"
   ]
  },
  {
   "cell_type": "code",
   "execution_count": 64,
   "metadata": {
    "collapsed": false
   },
   "outputs": [
    {
     "data": {
      "text/plain": [
       "(6, 18)"
      ]
     },
     "execution_count": 64,
     "metadata": {},
     "output_type": "execute_result"
    }
   ],
   "source": []
  },
  {
   "cell_type": "code",
   "execution_count": 65,
   "metadata": {
    "collapsed": false
   },
   "outputs": [
    {
     "data": {
      "text/plain": [
       "array([ 0.001 ,  0.0025,  0.005 ,  0.01  ,  0.025 ,  0.05  ])"
      ]
     },
     "execution_count": 65,
     "metadata": {},
     "output_type": "execute_result"
    }
   ],
   "source": [
    "rtot"
   ]
  },
  {
   "cell_type": "code",
   "execution_count": 66,
   "metadata": {
    "collapsed": false
   },
   "outputs": [
    {
     "data": {
      "text/plain": [
       "array([ 0.001 ,  0.001 ,  0.001 ,  0.0025,  0.0025,  0.0025,  0.005 ,\n",
       "        0.005 ,  0.005 ,  0.01  ,  0.01  ,  0.01  ,  0.025 ,  0.025 ,\n",
       "        0.025 ,  0.05  ,  0.05  ,  0.05  ])"
      ]
     },
     "execution_count": 66,
     "metadata": {},
     "output_type": "execute_result"
    }
   ],
   "source": [
    "np.repeat(rtot,3)"
   ]
  },
  {
   "cell_type": "code",
   "execution_count": 67,
   "metadata": {
    "collapsed": false
   },
   "outputs": [
    {
     "ename": "ValueError",
     "evalue": "total size of new array must be unchanged",
     "output_type": "error",
     "traceback": [
      "\u001b[0;31m---------------------------------------------------------------------------\u001b[0m",
      "\u001b[0;31mValueError\u001b[0m                                Traceback (most recent call last)",
      "\u001b[0;32m<ipython-input-67-37d004f2f1f3>\u001b[0m in \u001b[0;36m<module>\u001b[0;34m()\u001b[0m\n\u001b[0;32m----> 1\u001b[0;31m \u001b[0mnp\u001b[0m\u001b[0;34m.\u001b[0m\u001b[0mreshape\u001b[0m\u001b[0;34m(\u001b[0m\u001b[0mrtot\u001b[0m\u001b[0;34m,\u001b[0m\u001b[0;34m(\u001b[0m\u001b[0;36m6\u001b[0m\u001b[0;34m,\u001b[0m\u001b[0;36m18\u001b[0m\u001b[0;34m)\u001b[0m\u001b[0;34m)\u001b[0m\u001b[0;34m\u001b[0m\u001b[0m\n\u001b[0m",
      "\u001b[0;32m/Users/michael/miniconda3/envs/fitter/lib/python3.5/site-packages/numpy/core/fromnumeric.py\u001b[0m in \u001b[0;36mreshape\u001b[0;34m(a, newshape, order)\u001b[0m\n\u001b[1;32m    222\u001b[0m     \u001b[0;32mexcept\u001b[0m \u001b[0mAttributeError\u001b[0m\u001b[0;34m:\u001b[0m\u001b[0;34m\u001b[0m\u001b[0m\n\u001b[1;32m    223\u001b[0m         \u001b[0;32mreturn\u001b[0m \u001b[0m_wrapit\u001b[0m\u001b[0;34m(\u001b[0m\u001b[0ma\u001b[0m\u001b[0;34m,\u001b[0m \u001b[0;34m'reshape'\u001b[0m\u001b[0;34m,\u001b[0m \u001b[0mnewshape\u001b[0m\u001b[0;34m,\u001b[0m \u001b[0morder\u001b[0m\u001b[0;34m=\u001b[0m\u001b[0morder\u001b[0m\u001b[0;34m)\u001b[0m\u001b[0;34m\u001b[0m\u001b[0m\n\u001b[0;32m--> 224\u001b[0;31m     \u001b[0;32mreturn\u001b[0m \u001b[0mreshape\u001b[0m\u001b[0;34m(\u001b[0m\u001b[0mnewshape\u001b[0m\u001b[0;34m,\u001b[0m \u001b[0morder\u001b[0m\u001b[0;34m=\u001b[0m\u001b[0morder\u001b[0m\u001b[0;34m)\u001b[0m\u001b[0;34m\u001b[0m\u001b[0m\n\u001b[0m\u001b[1;32m    225\u001b[0m \u001b[0;34m\u001b[0m\u001b[0m\n\u001b[1;32m    226\u001b[0m \u001b[0;34m\u001b[0m\u001b[0m\n",
      "\u001b[0;31mValueError\u001b[0m: total size of new array must be unchanged"
     ]
    }
   ],
   "source": [
    "np.reshape(rtot,(6,18))"
   ]
  },
  {
   "cell_type": "code",
   "execution_count": 68,
   "metadata": {
    "collapsed": false
   },
   "outputs": [
    {
     "ename": "ValueError",
     "evalue": "total size of new array must be unchanged",
     "output_type": "error",
     "traceback": [
      "\u001b[0;31m---------------------------------------------------------------------------\u001b[0m",
      "\u001b[0;31mValueError\u001b[0m                                Traceback (most recent call last)",
      "\u001b[0;32m<ipython-input-68-ffa2a011eb25>\u001b[0m in \u001b[0;36m<module>\u001b[0;34m()\u001b[0m\n\u001b[0;32m----> 1\u001b[0;31m \u001b[0mnp\u001b[0m\u001b[0;34m.\u001b[0m\u001b[0mreshape\u001b[0m\u001b[0;34m(\u001b[0m\u001b[0mmeanset_list\u001b[0m\u001b[0;34m[\u001b[0m\u001b[0;36m0\u001b[0m\u001b[0;34m]\u001b[0m\u001b[0;34m,\u001b[0m \u001b[0;36m6\u001b[0m\u001b[0;34m)\u001b[0m\u001b[0;34m\u001b[0m\u001b[0m\n\u001b[0m",
      "\u001b[0;32m/Users/michael/miniconda3/envs/fitter/lib/python3.5/site-packages/numpy/core/fromnumeric.py\u001b[0m in \u001b[0;36mreshape\u001b[0;34m(a, newshape, order)\u001b[0m\n\u001b[1;32m    222\u001b[0m     \u001b[0;32mexcept\u001b[0m \u001b[0mAttributeError\u001b[0m\u001b[0;34m:\u001b[0m\u001b[0;34m\u001b[0m\u001b[0m\n\u001b[1;32m    223\u001b[0m         \u001b[0;32mreturn\u001b[0m \u001b[0m_wrapit\u001b[0m\u001b[0;34m(\u001b[0m\u001b[0ma\u001b[0m\u001b[0;34m,\u001b[0m \u001b[0;34m'reshape'\u001b[0m\u001b[0;34m,\u001b[0m \u001b[0mnewshape\u001b[0m\u001b[0;34m,\u001b[0m \u001b[0morder\u001b[0m\u001b[0;34m=\u001b[0m\u001b[0morder\u001b[0m\u001b[0;34m)\u001b[0m\u001b[0;34m\u001b[0m\u001b[0m\n\u001b[0;32m--> 224\u001b[0;31m     \u001b[0;32mreturn\u001b[0m \u001b[0mreshape\u001b[0m\u001b[0;34m(\u001b[0m\u001b[0mnewshape\u001b[0m\u001b[0;34m,\u001b[0m \u001b[0morder\u001b[0m\u001b[0;34m=\u001b[0m\u001b[0morder\u001b[0m\u001b[0;34m)\u001b[0m\u001b[0;34m\u001b[0m\u001b[0m\n\u001b[0m\u001b[1;32m    225\u001b[0m \u001b[0;34m\u001b[0m\u001b[0m\n\u001b[1;32m    226\u001b[0m \u001b[0;34m\u001b[0m\u001b[0m\n",
      "\u001b[0;31mValueError\u001b[0m: total size of new array must be unchanged"
     ]
    }
   ],
   "source": [
    "np.reshape(meanset_list[0], 6)"
   ]
  },
  {
   "cell_type": "code",
   "execution_count": 71,
   "metadata": {
    "collapsed": false
   },
   "outputs": [],
   "source": [
    "lop = list(cop)"
   ]
  },
  {
   "cell_type": "code",
   "execution_count": 72,
   "metadata": {
    "collapsed": false
   },
   "outputs": [
    {
     "ename": "AttributeError",
     "evalue": "'list' object has no attribute 'shape'",
     "output_type": "error",
     "traceback": [
      "\u001b[0;31m---------------------------------------------------------------------------\u001b[0m",
      "\u001b[0;31mAttributeError\u001b[0m                            Traceback (most recent call last)",
      "\u001b[0;32m<ipython-input-72-90088276c596>\u001b[0m in \u001b[0;36m<module>\u001b[0;34m()\u001b[0m\n\u001b[0;32m----> 1\u001b[0;31m \u001b[0mlop\u001b[0m\u001b[0;34m.\u001b[0m\u001b[0mshape\u001b[0m\u001b[0;34m\u001b[0m\u001b[0m\n\u001b[0m",
      "\u001b[0;31mAttributeError\u001b[0m: 'list' object has no attribute 'shape'"
     ]
    }
   ],
   "source": [
    "lop.shape"
   ]
  },
  {
   "cell_type": "code",
   "execution_count": 75,
   "metadata": {
    "collapsed": false
   },
   "outputs": [
    {
     "data": {
      "text/plain": [
       "array([ 0.00262269,  0.00533991,  0.01069883,  0.02247273,  0.04167142,\n",
       "        0.08232673,  0.14820443,  0.26502363,  0.39430296,  0.59254049,\n",
       "        0.78037211,  0.83494085,  0.88540166,  0.95722321,  0.92833488,\n",
       "        1.04476077,  1.02628381,  1.0186471 ])"
      ]
     },
     "execution_count": 75,
     "metadata": {},
     "output_type": "execute_result"
    }
   ],
   "source": []
  },
  {
   "cell_type": "code",
   "execution_count": 77,
   "metadata": {
    "collapsed": false
   },
   "outputs": [
    {
     "ename": "ValueError",
     "evalue": "operands could not be broadcast together with shapes (6,18) (6,) ",
     "output_type": "error",
     "traceback": [
      "\u001b[0;31m---------------------------------------------------------------------------\u001b[0m",
      "\u001b[0;31mValueError\u001b[0m                                Traceback (most recent call last)",
      "\u001b[0;32m<ipython-input-77-e477333df49c>\u001b[0m in \u001b[0;36m<module>\u001b[0;34m()\u001b[0m\n\u001b[0;32m----> 1\u001b[0;31m \u001b[0mnp\u001b[0m\u001b[0;34m.\u001b[0m\u001b[0mmultiply\u001b[0m\u001b[0;34m(\u001b[0m\u001b[0mmeanset_list\u001b[0m\u001b[0;34m[\u001b[0m\u001b[0;36m0\u001b[0m\u001b[0;34m]\u001b[0m\u001b[0;34m,\u001b[0m\u001b[0mrtot\u001b[0m\u001b[0;34m.\u001b[0m\u001b[0mT\u001b[0m\u001b[0;34m)\u001b[0m\u001b[0;34m\u001b[0m\u001b[0m\n\u001b[0m",
      "\u001b[0;31mValueError\u001b[0m: operands could not be broadcast together with shapes (6,18) (6,) "
     ]
    }
   ],
   "source": [
    "np.multiply(meanset_list[0],rtot.T)"
   ]
  },
  {
   "cell_type": "code",
   "execution_count": 83,
   "metadata": {
    "collapsed": false
   },
   "outputs": [
    {
     "data": {
      "text/plain": [
       "(6,)"
      ]
     },
     "execution_count": 83,
     "metadata": {},
     "output_type": "execute_result"
    }
   ],
   "source": [
    "rtot.transpose().shape"
   ]
  },
  {
   "cell_type": "code",
   "execution_count": 84,
   "metadata": {
    "collapsed": false
   },
   "outputs": [
    {
     "data": {
      "text/plain": [
       "(6,)"
      ]
     },
     "execution_count": 84,
     "metadata": {},
     "output_type": "execute_result"
    }
   ],
   "source": [
    "rtot.shape"
   ]
  },
  {
   "cell_type": "code",
   "execution_count": 85,
   "metadata": {
    "collapsed": false
   },
   "outputs": [
    {
     "data": {
      "text/plain": [
       "array([[ 0.00262269,  0.00533991,  0.01069883,  0.02247273,  0.04167142,\n",
       "         0.08232673,  0.14820443,  0.26502363,  0.39430296,  0.59254049,\n",
       "         0.78037211,  0.83494085,  0.88540166,  0.95722321,  0.92833488,\n",
       "         1.04476077,  1.02628381,  1.0186471 ],\n",
       "       [ 0.0025315 ,  0.00486989,  0.00971673,  0.01898613,  0.03875885,\n",
       "         0.07356643,  0.13418673,  0.23973463,  0.38214919,  0.56736587,\n",
       "         0.73930431,  0.82015238,  0.88245277,  0.89417078,  0.97887608,\n",
       "         1.03148862,  1.00715519,  1.03284383],\n",
       "       [ 0.00232217,  0.0043623 ,  0.00896173,  0.01684661,  0.03621243,\n",
       "         0.06743158,  0.1200368 ,  0.22051534,  0.36486005,  0.5396305 ,\n",
       "         0.69631859,  0.820948  ,  0.92495783,  0.94645121,  0.97772023,\n",
       "         0.98278089,  0.99061075,  0.98209529],\n",
       "       [ 0.00205803,  0.00401106,  0.00729149,  0.01501868,  0.03044732,\n",
       "         0.06158734,  0.11270377,  0.20280089,  0.31829976,  0.49138531,\n",
       "         0.67489352,  0.8060431 ,  0.89563844,  0.87872694,  0.9500544 ,\n",
       "         0.98174766,  1.00576763,  0.98758542],\n",
       "       [ 0.0017287 ,  0.00343921,  0.00720221,  0.01352194,  0.02505389,\n",
       "         0.04922424,  0.09596666,  0.18322543,  0.29360943,  0.4479872 ,\n",
       "         0.59153722,  0.74106572,  0.82115447,  0.9453316 ,  0.9589705 ,\n",
       "         1.02874628,  1.00930075,  0.98228272],\n",
       "       [ 0.00160132,  0.00305224,  0.00622496,  0.01203617,  0.02271119,\n",
       "         0.04760587,  0.09035065,  0.15981608,  0.272449  ,  0.41838956,\n",
       "         0.53433799,  0.66884804,  0.79421663,  0.9054528 ,  0.95196865,\n",
       "         0.9675431 ,  0.9932991 ,  0.98441009]])"
      ]
     },
     "execution_count": 85,
     "metadata": {},
     "output_type": "execute_result"
    }
   ],
   "source": [
    "meanset_list[0]"
   ]
  },
  {
   "cell_type": "code",
   "execution_count": 86,
   "metadata": {
    "collapsed": false
   },
   "outputs": [
    {
     "data": {
      "text/plain": [
       "array([ 0.00262269,  0.00533991,  0.01069883,  0.02247273,  0.04167142,\n",
       "        0.08232673,  0.14820443,  0.26502363,  0.39430296,  0.59254049,\n",
       "        0.78037211,  0.83494085,  0.88540166,  0.95722321,  0.92833488,\n",
       "        1.04476077,  1.02628381,  1.0186471 ,  0.0025315 ,  0.00486989,\n",
       "        0.00971673,  0.01898613,  0.03875885,  0.07356643,  0.13418673,\n",
       "        0.23973463,  0.38214919,  0.56736587,  0.73930431,  0.82015238,\n",
       "        0.88245277,  0.89417078,  0.97887608,  1.03148862,  1.00715519,\n",
       "        1.03284383,  0.00232217,  0.0043623 ,  0.00896173,  0.01684661,\n",
       "        0.03621243,  0.06743158,  0.1200368 ,  0.22051534,  0.36486005,\n",
       "        0.5396305 ,  0.69631859,  0.820948  ,  0.92495783,  0.94645121,\n",
       "        0.97772023,  0.98278089,  0.99061075,  0.98209529,  0.00205803,\n",
       "        0.00401106,  0.00729149,  0.01501868,  0.03044732,  0.06158734,\n",
       "        0.11270377,  0.20280089,  0.31829976,  0.49138531,  0.67489352,\n",
       "        0.8060431 ,  0.89563844,  0.87872694,  0.9500544 ,  0.98174766,\n",
       "        1.00576763,  0.98758542,  0.0017287 ,  0.00343921,  0.00720221,\n",
       "        0.01352194,  0.02505389,  0.04922424,  0.09596666,  0.18322543,\n",
       "        0.29360943,  0.4479872 ,  0.59153722,  0.74106572,  0.82115447,\n",
       "        0.9453316 ,  0.9589705 ,  1.02874628,  1.00930075,  0.98228272,\n",
       "        0.00160132,  0.00305224,  0.00622496,  0.01203617,  0.02271119,\n",
       "        0.04760587,  0.09035065,  0.15981608,  0.272449  ,  0.41838956,\n",
       "        0.53433799,  0.66884804,  0.79421663,  0.9054528 ,  0.95196865,\n",
       "        0.9675431 ,  0.9932991 ,  0.98441009])"
      ]
     },
     "execution_count": 86,
     "metadata": {},
     "output_type": "execute_result"
    }
   ],
   "source": [
    "np.concatenate(meanset_list[0])"
   ]
  },
  {
   "cell_type": "code",
   "execution_count": 90,
   "metadata": {
    "collapsed": false
   },
   "outputs": [
    {
     "ename": "ValueError",
     "evalue": "incompatible dimensions for cross product\n(dimension must be 2 or 3)",
     "output_type": "error",
     "traceback": [
      "\u001b[0;31m---------------------------------------------------------------------------\u001b[0m",
      "\u001b[0;31mValueError\u001b[0m                                Traceback (most recent call last)",
      "\u001b[0;32m<ipython-input-90-b2b949948b7f>\u001b[0m in \u001b[0;36m<module>\u001b[0;34m()\u001b[0m\n\u001b[0;32m----> 1\u001b[0;31m \u001b[0mnp\u001b[0m\u001b[0;34m.\u001b[0m\u001b[0mcross\u001b[0m\u001b[0;34m(\u001b[0m\u001b[0mmeanset_list\u001b[0m\u001b[0;34m[\u001b[0m\u001b[0;36m0\u001b[0m\u001b[0;34m]\u001b[0m\u001b[0;34m,\u001b[0m\u001b[0mrtot\u001b[0m\u001b[0;34m)\u001b[0m\u001b[0;34m\u001b[0m\u001b[0m\n\u001b[0m",
      "\u001b[0;32m/Users/michael/miniconda3/envs/fitter/lib/python3.5/site-packages/numpy/core/numeric.py\u001b[0m in \u001b[0;36mcross\u001b[0;34m(a, b, axisa, axisb, axisc, axis)\u001b[0m\n\u001b[1;32m   1680\u001b[0m            \"(dimension must be 2 or 3)\")\n\u001b[1;32m   1681\u001b[0m     \u001b[0;32mif\u001b[0m \u001b[0ma\u001b[0m\u001b[0;34m.\u001b[0m\u001b[0mshape\u001b[0m\u001b[0;34m[\u001b[0m\u001b[0;34m-\u001b[0m\u001b[0;36m1\u001b[0m\u001b[0;34m]\u001b[0m \u001b[0;32mnot\u001b[0m \u001b[0;32min\u001b[0m \u001b[0;34m(\u001b[0m\u001b[0;36m2\u001b[0m\u001b[0;34m,\u001b[0m \u001b[0;36m3\u001b[0m\u001b[0;34m)\u001b[0m \u001b[0;32mor\u001b[0m \u001b[0mb\u001b[0m\u001b[0;34m.\u001b[0m\u001b[0mshape\u001b[0m\u001b[0;34m[\u001b[0m\u001b[0;34m-\u001b[0m\u001b[0;36m1\u001b[0m\u001b[0;34m]\u001b[0m \u001b[0;32mnot\u001b[0m \u001b[0;32min\u001b[0m \u001b[0;34m(\u001b[0m\u001b[0;36m2\u001b[0m\u001b[0;34m,\u001b[0m \u001b[0;36m3\u001b[0m\u001b[0;34m)\u001b[0m\u001b[0;34m:\u001b[0m\u001b[0;34m\u001b[0m\u001b[0m\n\u001b[0;32m-> 1682\u001b[0;31m         \u001b[0;32mraise\u001b[0m \u001b[0mValueError\u001b[0m\u001b[0;34m(\u001b[0m\u001b[0mmsg\u001b[0m\u001b[0;34m)\u001b[0m\u001b[0;34m\u001b[0m\u001b[0m\n\u001b[0m\u001b[1;32m   1683\u001b[0m \u001b[0;34m\u001b[0m\u001b[0m\n\u001b[1;32m   1684\u001b[0m     \u001b[0;31m# Create the output array\u001b[0m\u001b[0;34m\u001b[0m\u001b[0;34m\u001b[0m\u001b[0m\n",
      "\u001b[0;31mValueError\u001b[0m: incompatible dimensions for cross product\n(dimension must be 2 or 3)"
     ]
    }
   ],
   "source": [
    "np.cross(meanset_list[0],rtot)"
   ]
  },
  {
   "cell_type": "code",
   "execution_count": 92,
   "metadata": {
    "collapsed": false
   },
   "outputs": [
    {
     "data": {
      "text/plain": [
       "array([ 0.00262269,  0.00533991,  0.01069883,  0.02247273,  0.04167142,\n",
       "        0.08232673,  0.14820443,  0.26502363,  0.39430296,  0.59254049,\n",
       "        0.78037211,  0.83494085,  0.88540166,  0.95722321,  0.92833488,\n",
       "        1.04476077,  1.02628381,  1.0186471 ])"
      ]
     },
     "execution_count": 92,
     "metadata": {},
     "output_type": "execute_result"
    }
   ],
   "source": [
    "meanset_list[0][0]"
   ]
  },
  {
   "cell_type": "code",
   "execution_count": 94,
   "metadata": {
    "collapsed": false
   },
   "outputs": [
    {
     "data": {
      "text/plain": [
       "array([[  2.62268914e-06,   5.33990734e-06,   1.06988343e-05,\n",
       "          2.24727314e-05,   4.16714204e-05,   8.23267312e-05,\n",
       "          1.48204429e-04,   2.65023627e-04,   3.94302962e-04,\n",
       "          5.92540491e-04,   7.80372110e-04,   8.34940845e-04,\n",
       "          8.85401664e-04,   9.57223213e-04,   9.28334883e-04,\n",
       "          1.04476077e-03,   1.02628381e-03,   1.01864710e-03],\n",
       "       [  2.53149745e-06,   4.86988554e-06,   9.71673449e-06,\n",
       "          1.89861297e-05,   3.87588516e-05,   7.35664317e-05,\n",
       "          1.34186726e-04,   2.39734625e-04,   3.82149189e-04,\n",
       "          5.67365867e-04,   7.39304314e-04,   8.20152385e-04,\n",
       "          8.82452768e-04,   8.94170777e-04,   9.78876084e-04,\n",
       "          1.03148862e-03,   1.00715519e-03,   1.03284383e-03],\n",
       "       [  2.32217073e-06,   4.36230257e-06,   8.96172577e-06,\n",
       "          1.68466073e-05,   3.62124266e-05,   6.74315837e-05,\n",
       "          1.20036799e-04,   2.20515344e-04,   3.64860051e-04,\n",
       "          5.39630504e-04,   6.96318589e-04,   8.20948004e-04,\n",
       "          9.24957833e-04,   9.46451210e-04,   9.77720232e-04,\n",
       "          9.82780891e-04,   9.90610746e-04,   9.82095293e-04],\n",
       "       [  2.05803310e-06,   4.01105993e-06,   7.29149105e-06,\n",
       "          1.50186808e-05,   3.04473240e-05,   6.15873446e-05,\n",
       "          1.12703773e-04,   2.02800886e-04,   3.18299757e-04,\n",
       "          4.91385308e-04,   6.74893517e-04,   8.06043100e-04,\n",
       "          8.95638443e-04,   8.78726940e-04,   9.50054401e-04,\n",
       "          9.81747660e-04,   1.00576763e-03,   9.87585419e-04],\n",
       "       [  1.72869916e-06,   3.43920664e-06,   7.20220742e-06,\n",
       "          1.35219432e-05,   2.50538874e-05,   4.92242388e-05,\n",
       "          9.59666643e-05,   1.83225433e-04,   2.93609430e-04,\n",
       "          4.47987195e-04,   5.91537224e-04,   7.41065716e-04,\n",
       "          8.21154467e-04,   9.45331598e-04,   9.58970504e-04,\n",
       "          1.02874628e-03,   1.00930075e-03,   9.82282716e-04],\n",
       "       [  1.60132168e-06,   3.05224470e-06,   6.22495596e-06,\n",
       "          1.20361687e-05,   2.27111902e-05,   4.76058739e-05,\n",
       "          9.03506474e-05,   1.59816080e-04,   2.72449002e-04,\n",
       "          4.18389564e-04,   5.34337989e-04,   6.68848035e-04,\n",
       "          7.94216625e-04,   9.05452805e-04,   9.51968652e-04,\n",
       "          9.67543101e-04,   9.93299100e-04,   9.84410086e-04]])"
      ]
     },
     "execution_count": 94,
     "metadata": {},
     "output_type": "execute_result"
    }
   ],
   "source": [
    "np.multiply(rtot[0],meanset_list[0])"
   ]
  },
  {
   "cell_type": "code",
   "execution_count": 95,
   "metadata": {
    "collapsed": false
   },
   "outputs": [
    {
     "data": {
      "text/plain": [
       "0.001"
      ]
     },
     "execution_count": 95,
     "metadata": {},
     "output_type": "execute_result"
    }
   ],
   "source": [
    "rtot[0]"
   ]
  },
  {
   "cell_type": "code",
   "execution_count": 97,
   "metadata": {
    "collapsed": false
   },
   "outputs": [
    {
     "data": {
      "text/plain": [
       "array([  2.53149745e-06,   4.86988554e-06,   9.71673449e-06,\n",
       "         1.89861297e-05,   3.87588516e-05,   7.35664317e-05,\n",
       "         1.34186726e-04,   2.39734625e-04,   3.82149189e-04,\n",
       "         5.67365867e-04,   7.39304314e-04,   8.20152385e-04,\n",
       "         8.82452768e-04,   8.94170777e-04,   9.78876084e-04,\n",
       "         1.03148862e-03,   1.00715519e-03,   1.03284383e-03])"
      ]
     },
     "execution_count": 97,
     "metadata": {},
     "output_type": "execute_result"
    }
   ],
   "source": [
    "rtot[0]*meanset_list[0][]"
   ]
  },
  {
   "cell_type": "code",
   "execution_count": 100,
   "metadata": {
    "collapsed": false
   },
   "outputs": [
    {
     "data": {
      "text/plain": [
       "array([[  2.62268914e-06,   5.33990734e-06,   1.06988343e-05,\n",
       "          2.24727314e-05,   4.16714204e-05,   8.23267312e-05,\n",
       "          1.48204429e-04,   2.65023627e-04,   3.94302962e-04,\n",
       "          5.92540491e-04,   7.80372110e-04,   8.34940845e-04,\n",
       "          8.85401664e-04,   9.57223213e-04,   9.28334883e-04,\n",
       "          1.04476077e-03,   1.02628381e-03,   1.01864710e-03],\n",
       "       [  6.32874363e-06,   1.21747138e-05,   2.42918362e-05,\n",
       "          4.74653244e-05,   9.68971291e-05,   1.83916079e-04,\n",
       "          3.35466814e-04,   5.99336564e-04,   9.55372972e-04,\n",
       "          1.41841467e-03,   1.84826079e-03,   2.05038096e-03,\n",
       "          2.20613192e-03,   2.23542694e-03,   2.44719021e-03,\n",
       "          2.57872155e-03,   2.51788799e-03,   2.58210957e-03],\n",
       "       [  1.16108536e-05,   2.18115129e-05,   4.48086289e-05,\n",
       "          8.42330364e-05,   1.81062133e-04,   3.37157919e-04,\n",
       "          6.00183993e-04,   1.10257672e-03,   1.82430025e-03,\n",
       "          2.69815252e-03,   3.48159294e-03,   4.10474002e-03,\n",
       "          4.62478917e-03,   4.73225605e-03,   4.88860116e-03,\n",
       "          4.91390446e-03,   4.95305373e-03,   4.91047647e-03],\n",
       "       [  2.05803310e-05,   4.01105993e-05,   7.29149105e-05,\n",
       "          1.50186808e-04,   3.04473240e-04,   6.15873446e-04,\n",
       "          1.12703773e-03,   2.02800886e-03,   3.18299757e-03,\n",
       "          4.91385308e-03,   6.74893517e-03,   8.06043100e-03,\n",
       "          8.95638443e-03,   8.78726940e-03,   9.50054401e-03,\n",
       "          9.81747660e-03,   1.00576763e-02,   9.87585419e-03],\n",
       "       [  4.32174789e-05,   8.59801660e-05,   1.80055185e-04,\n",
       "          3.38048579e-04,   6.26347185e-04,   1.23060597e-03,\n",
       "          2.39916661e-03,   4.58063583e-03,   7.34023574e-03,\n",
       "          1.11996799e-02,   1.47884306e-02,   1.85266429e-02,\n",
       "          2.05288617e-02,   2.36332900e-02,   2.39742626e-02,\n",
       "          2.57186570e-02,   2.52325187e-02,   2.45570679e-02],\n",
       "       [  8.00660839e-05,   1.52612235e-04,   3.11247798e-04,\n",
       "          6.01808437e-04,   1.13555951e-03,   2.38029369e-03,\n",
       "          4.51753237e-03,   7.99080398e-03,   1.36224501e-02,\n",
       "          2.09194782e-02,   2.67168995e-02,   3.34424018e-02,\n",
       "          3.97108313e-02,   4.52726402e-02,   4.75984326e-02,\n",
       "          4.83771551e-02,   4.96649550e-02,   4.92205043e-02]])"
      ]
     },
     "execution_count": 100,
     "metadata": {},
     "output_type": "execute_result"
    }
   ],
   "source": [
    "meanset_list[0]*rtot[:,np.newaxis]"
   ]
  },
  {
   "cell_type": "code",
   "execution_count": 101,
   "metadata": {
    "collapsed": true
   },
   "outputs": [],
   "source": [
    "%autoreload"
   ]
  },
  {
   "cell_type": "code",
   "execution_count": 102,
   "metadata": {
    "collapsed": true
   },
   "outputs": [],
   "source": [
    "result_test = optimize.least_squares(models.wyman_sp_rect,guess,bounds=bound1,args=(ligs,meanset_list[1],rtot))"
   ]
  },
  {
   "cell_type": "code",
   "execution_count": 103,
   "metadata": {
    "collapsed": false
   },
   "outputs": [
    {
     "data": {
      "text/plain": [
       "array([  3.07697820e+00,   2.09156031e+00,   1.18851465e-01,\n",
       "         1.21369039e+02])"
      ]
     },
     "execution_count": 103,
     "metadata": {},
     "output_type": "execute_result"
    }
   ],
   "source": [
    "result_test.x"
   ]
  },
  {
   "cell_type": "code",
   "execution_count": 104,
   "metadata": {
    "collapsed": false
   },
   "outputs": [
    {
     "data": {
      "text/plain": [
       "array([   3. ,    2. ,    0.1,  100. ])"
      ]
     },
     "execution_count": 104,
     "metadata": {},
     "output_type": "execute_result"
    }
   ],
   "source": [
    "parm"
   ]
  },
  {
   "cell_type": "code",
   "execution_count": null,
   "metadata": {
    "collapsed": true
   },
   "outputs": [],
   "source": []
  }
 ],
 "metadata": {
  "anaconda-cloud": {},
  "kernelspec": {
   "display_name": "Python [conda env:fitter]",
   "language": "python",
   "name": "conda-env-fitter-py"
  },
  "language_info": {
   "codemirror_mode": {
    "name": "ipython",
    "version": 3
   },
   "file_extension": ".py",
   "mimetype": "text/x-python",
   "name": "python",
   "nbconvert_exporter": "python",
   "pygments_lexer": "ipython3",
   "version": "3.5.2"
  }
 },
 "nbformat": 4,
 "nbformat_minor": 1
}
