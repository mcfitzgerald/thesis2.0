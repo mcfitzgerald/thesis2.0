{
 "cells": [
  {
   "cell_type": "code",
   "execution_count": 1,
   "metadata": {
    "collapsed": true
   },
   "outputs": [],
   "source": [
    "from mods.class_test import Wyman"
   ]
  },
  {
   "cell_type": "code",
   "execution_count": 2,
   "metadata": {
    "collapsed": true
   },
   "outputs": [],
   "source": [
    "a = Wyman()"
   ]
  },
  {
   "cell_type": "code",
   "execution_count": 3,
   "metadata": {
    "collapsed": false
   },
   "outputs": [
    {
     "data": {
      "text/plain": [
       "array([   3. ,    2. ,    0.1,  100. ])"
      ]
     },
     "execution_count": 3,
     "metadata": {},
     "output_type": "execute_result"
    }
   ],
   "source": [
    "a.parms"
   ]
  },
  {
   "cell_type": "code",
   "execution_count": 4,
   "metadata": {
    "collapsed": false
   },
   "outputs": [
    {
     "data": {
      "text/plain": [
       "array([[ 0.00256518,  0.00545511,  0.00989306,  0.02117334,  0.04121154,\n",
       "         0.082144  ,  0.15464237,  0.24628835,  0.42738071,  0.58785002,\n",
       "         0.74224875,  0.83667829,  0.82449714,  0.92885159,  0.9740576 ,\n",
       "         0.98835181,  0.97520457,  1.02130315],\n",
       "       [ 0.00232543,  0.00501245,  0.00984035,  0.01929389,  0.03833448,\n",
       "         0.07138149,  0.14024904,  0.25005445,  0.38720946,  0.57181911,\n",
       "         0.7139615 ,  0.87122452,  0.88474844,  0.96081489,  0.95971432,\n",
       "         0.97032088,  0.9478805 ,  0.98842305],\n",
       "       [ 0.00220665,  0.00450853,  0.00862213,  0.01758895,  0.03285211,\n",
       "         0.07037425,  0.12489336,  0.22384423,  0.35667505,  0.53335192,\n",
       "         0.71490747,  0.86865997,  0.87634273,  0.92528547,  0.94855909,\n",
       "         0.9713266 ,  0.98381067,  1.03598914],\n",
       "       [ 0.00206091,  0.00394165,  0.00802176,  0.01515082,  0.03098426,\n",
       "         0.06068923,  0.11267329,  0.20584778,  0.34185577,  0.51618303,\n",
       "         0.64207463,  0.80447491,  0.8549886 ,  0.93376256,  0.99216351,\n",
       "         0.99097358,  1.0344624 ,  0.95747235],\n",
       "       [ 0.00176231,  0.00330598,  0.0066879 ,  0.01366548,  0.02607844,\n",
       "         0.05171333,  0.10286864,  0.17641196,  0.30097996,  0.46495518,\n",
       "         0.62573654,  0.72843913,  0.86144129,  0.89992371,  0.98901188,\n",
       "         0.94002381,  1.01350942,  0.93153717],\n",
       "       [ 0.00154869,  0.00318909,  0.00585102,  0.01243302,  0.02337075,\n",
       "         0.04630484,  0.09081329,  0.15555653,  0.27071743,  0.4152704 ,\n",
       "         0.57315174,  0.70286547,  0.83973489,  0.88891524,  0.99722935,\n",
       "         0.98475319,  0.98846258,  0.96886888]])"
      ]
     },
     "execution_count": 4,
     "metadata": {},
     "output_type": "execute_result"
    }
   ],
   "source": [
    "a.meanset[0]"
   ]
  },
  {
   "cell_type": "code",
   "execution_count": null,
   "metadata": {
    "collapsed": true
   },
   "outputs": [],
   "source": []
  }
 ],
 "metadata": {
  "anaconda-cloud": {},
  "kernelspec": {
   "display_name": "Python [conda env:fitter]",
   "language": "python",
   "name": "conda-env-fitter-py"
  },
  "language_info": {
   "codemirror_mode": {
    "name": "ipython",
    "version": 3
   },
   "file_extension": ".py",
   "mimetype": "text/x-python",
   "name": "python",
   "nbconvert_exporter": "python",
   "pygments_lexer": "ipython3",
   "version": "3.5.2"
  }
 },
 "nbformat": 4,
 "nbformat_minor": 1
}
