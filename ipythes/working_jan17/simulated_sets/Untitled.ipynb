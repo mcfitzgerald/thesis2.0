{
 "cells": [
  {
   "cell_type": "code",
   "execution_count": 1,
   "metadata": {
    "collapsed": true
   },
   "outputs": [],
   "source": [
    "import numpy as np\n",
    "import matplotlib.pyplot as plt\n",
    "from scipy import optimize\n",
    "from mods import prep, plotter, models, class_test\n",
    "%matplotlib inline\n",
    "%load_ext autoreload"
   ]
  },
  {
   "cell_type": "code",
   "execution_count": 11,
   "metadata": {
    "collapsed": true
   },
   "outputs": [],
   "source": [
    "sim = class_test.WymanSim(sets=100)"
   ]
  },
  {
   "cell_type": "code",
   "execution_count": 19,
   "metadata": {
    "collapsed": false
   },
   "outputs": [
    {
     "data": {
      "image/png": "[encoded data removed]",
      "text/plain": [
       "<matplotlib.figure.Figure at 0x10d245080>"
      ]
     },
     "metadata": {},
     "output_type": "display_data"
    }
   ],
   "source": [
    "plotter.semlog(sim.ligs,sim.meanset[0])"
   ]
  },
  {
   "cell_type": "code",
   "execution_count": 18,
   "metadata": {
    "collapsed": false
   },
   "outputs": [
    {
     "data": {
      "text/plain": [
       "array([  1.00000000e-03,   2.00000000e-03,   4.00000000e-03,\n",
       "         8.00000000e-03,   1.60000000e-02,   3.20000000e-02,\n",
       "         6.40000000e-02,   1.28000000e-01,   2.56000000e-01,\n",
       "         5.12000000e-01,   1.02400000e+00,   2.04800000e+00,\n",
       "         4.09600000e+00,   8.19200000e+00,   1.63840000e+01,\n",
       "         3.27680000e+01,   6.55360000e+01,   1.31072000e+02])"
      ]
     },
     "execution_count": 18,
     "metadata": {},
     "output_type": "execute_result"
    }
   ],
   "source": [
    "sim.ligs[0]"
   ]
  },
  {
   "cell_type": "code",
   "execution_count": 20,
   "metadata": {
    "collapsed": true
   },
   "outputs": [],
   "source": [
    "tgrp = sim.meanset[0]"
   ]
  },
  {
   "cell_type": "code",
   "execution_count": 21,
   "metadata": {
    "collapsed": false
   },
   "outputs": [
    {
     "data": {
      "text/plain": [
       "array([[ 0.00264664,  0.00545505,  0.01079634,  0.02105694,  0.04096678,\n",
       "         0.07842582,  0.14356946,  0.265285  ,  0.41665389,  0.58104813,\n",
       "         0.72130483,  0.86860052,  0.89769063,  0.96832605,  0.99140623,\n",
       "         0.90107086,  1.01264672,  1.00578598],\n",
       "       [ 0.00238591,  0.00498684,  0.00983014,  0.01962683,  0.03938174,\n",
       "         0.07258258,  0.14355598,  0.22839111,  0.39077248,  0.59388453,\n",
       "         0.76341388,  0.82779277,  0.91358156,  0.92232746,  1.02134362,\n",
       "         1.02931714,  0.96886914,  1.00726927],\n",
       "       [ 0.0022299 ,  0.00453442,  0.0088205 ,  0.01843416,  0.03460541,\n",
       "         0.06747634,  0.12547545,  0.23791556,  0.38534481,  0.52313893,\n",
       "         0.73036767,  0.82160648,  0.92118598,  0.93180776,  0.95620178,\n",
       "         0.9767705 ,  1.02068351,  1.01776723],\n",
       "       [ 0.00203036,  0.00413394,  0.00777637,  0.01574237,  0.03278898,\n",
       "         0.06196854,  0.11630952,  0.21051907,  0.32823976,  0.5270869 ,\n",
       "         0.65166402,  0.77914122,  0.82319111,  0.90158088,  1.02639898,\n",
       "         0.96316836,  0.99061368,  1.02359153],\n",
       "       [ 0.00172036,  0.00356938,  0.00709057,  0.01312203,  0.02550354,\n",
       "         0.05069597,  0.09605817,  0.1776965 ,  0.28194434,  0.45511216,\n",
       "         0.66023732,  0.72617387,  0.84905375,  0.9644705 ,  0.97304407,\n",
       "         0.96600512,  0.99897179,  0.99208396],\n",
       "       [ 0.00147844,  0.0030417 ,  0.00617889,  0.01198761,  0.02462813,\n",
       "         0.0481589 ,  0.08473994,  0.16202541,  0.26328305,  0.41063819,\n",
       "         0.58472579,  0.69975293,  0.80542387,  0.90994831,  0.90148098,\n",
       "         0.97956866,  0.96861536,  0.97033306]])"
      ]
     },
     "execution_count": 21,
     "metadata": {},
     "output_type": "execute_result"
    }
   ],
   "source": [
    "tgrp"
   ]
  },
  {
   "cell_type": "code",
   "execution_count": 23,
   "metadata": {
    "collapsed": false
   },
   "outputs": [],
   "source": [
    "ar = np.array([[1,2,3],[4,5,6],[7,8,9]])"
   ]
  },
  {
   "cell_type": "code",
   "execution_count": 28,
   "metadata": {
    "collapsed": false
   },
   "outputs": [
    {
     "data": {
      "text/plain": [
       "array([1, 3])"
      ]
     },
     "execution_count": 28,
     "metadata": {},
     "output_type": "execute_result"
    }
   ],
   "source": [
    "np.delete(ar[0],[1])"
   ]
  },
  {
   "cell_type": "code",
   "execution_count": 34,
   "metadata": {
    "collapsed": false
   },
   "outputs": [
    {
     "data": {
      "text/plain": [
       "array([ 0.00264664,  0.00545505,  0.01079634,  0.02105694,  0.04096678,\n",
       "        0.07842582,  0.14356946,  0.265285  ,  0.41665389,  0.58104813,\n",
       "        0.72130483,  0.86860052,  0.89769063,  0.96832605,  0.99140623,\n",
       "        0.90107086,  1.01264672])"
      ]
     },
     "execution_count": 34,
     "metadata": {},
     "output_type": "execute_result"
    }
   ],
   "source": [
    "tgrp[0][:]"
   ]
  },
  {
   "cell_type": "code",
   "execution_count": 46,
   "metadata": {
    "collapsed": false
   },
   "outputs": [
    {
     "name": "stdout",
     "output_type": "stream",
     "text": [
      "5\n",
      "6\n",
      "7\n",
      "8\n",
      "9\n",
      "10\n",
      "11\n",
      "12\n",
      "13\n",
      "14\n",
      "15\n",
      "16\n"
     ]
    }
   ],
   "source": [
    "for i in range(5,17): print(i)"
   ]
  },
  {
   "cell_type": "code",
   "execution_count": 49,
   "metadata": {
    "collapsed": false
   },
   "outputs": [
    {
     "data": {
      "text/plain": [
       "[array([ 0.00264664,  0.00545505,  0.01079634,  0.02105694,  0.04096678,\n",
       "         0.07842582,  0.14356946,  0.265285  ,  0.41665389,  0.58104813,\n",
       "         0.72130483]),\n",
       " array([ 0.00264664,  0.00545505,  0.01079634,  0.02105694,  0.04096678,\n",
       "         0.07842582,  0.14356946,  0.265285  ,  0.41665389,  0.58104813,\n",
       "         0.72130483,  0.86860052]),\n",
       " array([ 0.00264664,  0.00545505,  0.01079634,  0.02105694,  0.04096678,\n",
       "         0.07842582,  0.14356946,  0.265285  ,  0.41665389,  0.58104813,\n",
       "         0.72130483,  0.86860052,  0.89769063]),\n",
       " array([ 0.00264664,  0.00545505,  0.01079634,  0.02105694,  0.04096678,\n",
       "         0.07842582,  0.14356946,  0.265285  ,  0.41665389,  0.58104813,\n",
       "         0.72130483,  0.86860052,  0.89769063,  0.96832605]),\n",
       " array([ 0.00264664,  0.00545505,  0.01079634,  0.02105694,  0.04096678,\n",
       "         0.07842582,  0.14356946,  0.265285  ,  0.41665389,  0.58104813,\n",
       "         0.72130483,  0.86860052,  0.89769063,  0.96832605,  0.99140623]),\n",
       " array([ 0.00264664,  0.00545505,  0.01079634,  0.02105694,  0.04096678,\n",
       "         0.07842582,  0.14356946,  0.265285  ,  0.41665389,  0.58104813,\n",
       "         0.72130483,  0.86860052,  0.89769063,  0.96832605,  0.99140623,\n",
       "         0.90107086]),\n",
       " array([ 0.00264664,  0.00545505,  0.01079634,  0.02105694,  0.04096678,\n",
       "         0.07842582,  0.14356946,  0.265285  ,  0.41665389,  0.58104813,\n",
       "         0.72130483,  0.86860052,  0.89769063,  0.96832605,  0.99140623,\n",
       "         0.90107086,  1.01264672])]"
      ]
     },
     "execution_count": 49,
     "metadata": {},
     "output_type": "execute_result"
    }
   ],
   "source": [
    "#truncation function -- need to make arrays that \n",
    "[tgrp[0][:i] for i in range(11,18)]"
   ]
  },
  {
   "cell_type": "code",
   "execution_count": 50,
   "metadata": {
    "collapsed": false
   },
   "outputs": [
    {
     "data": {
      "text/plain": [
       "array([[1, 2, 3],\n",
       "       [4, 5, 6],\n",
       "       [7, 8, 9]])"
      ]
     },
     "execution_count": 50,
     "metadata": {},
     "output_type": "execute_result"
    }
   ],
   "source": [
    "ar"
   ]
  },
  {
   "cell_type": "code",
   "execution_count": 67,
   "metadata": {
    "collapsed": false
   },
   "outputs": [],
   "source": [
    "b = [np.array([i[:a] for i in ar]) for a in [1,2]]"
   ]
  },
  {
   "cell_type": "code",
   "execution_count": 68,
   "metadata": {
    "collapsed": false
   },
   "outputs": [
    {
     "data": {
      "text/plain": [
       "array([[1],\n",
       "       [4],\n",
       "       [7]])"
      ]
     },
     "execution_count": 68,
     "metadata": {},
     "output_type": "execute_result"
    }
   ],
   "source": [
    "b[0]"
   ]
  },
  {
   "cell_type": "code",
   "execution_count": 69,
   "metadata": {
    "collapsed": false
   },
   "outputs": [
    {
     "data": {
      "text/plain": [
       "array([[1, 2],\n",
       "       [4, 5],\n",
       "       [7, 8]])"
      ]
     },
     "execution_count": 69,
     "metadata": {},
     "output_type": "execute_result"
    }
   ],
   "source": [
    "b[1]"
   ]
  },
  {
   "cell_type": "code",
   "execution_count": 70,
   "metadata": {
    "collapsed": true
   },
   "outputs": [],
   "source": [
    "c = [np.array([i[:a] for i in tgrp]) for a in range(11,18)]"
   ]
  },
  {
   "cell_type": "code",
   "execution_count": 75,
   "metadata": {
    "collapsed": false
   },
   "outputs": [],
   "source": [
    "ligcop = sim.ligs"
   ]
  },
  {
   "cell_type": "code",
   "execution_count": 104,
   "metadata": {
    "collapsed": true
   },
   "outputs": [],
   "source": [
    "d = [np.array([i[:a] for i in ligcop]) for a in range(11,19)]"
   ]
  },
  {
   "cell_type": "code",
   "execution_count": 78,
   "metadata": {
    "collapsed": false
   },
   "outputs": [
    {
     "data": {
      "text/plain": [
       "array([[ 0.00264664,  0.00545505,  0.01079634,  0.02105694,  0.04096678,\n",
       "         0.07842582,  0.14356946,  0.265285  ,  0.41665389,  0.58104813,\n",
       "         0.72130483],\n",
       "       [ 0.00238591,  0.00498684,  0.00983014,  0.01962683,  0.03938174,\n",
       "         0.07258258,  0.14355598,  0.22839111,  0.39077248,  0.59388453,\n",
       "         0.76341388],\n",
       "       [ 0.0022299 ,  0.00453442,  0.0088205 ,  0.01843416,  0.03460541,\n",
       "         0.06747634,  0.12547545,  0.23791556,  0.38534481,  0.52313893,\n",
       "         0.73036767],\n",
       "       [ 0.00203036,  0.00413394,  0.00777637,  0.01574237,  0.03278898,\n",
       "         0.06196854,  0.11630952,  0.21051907,  0.32823976,  0.5270869 ,\n",
       "         0.65166402],\n",
       "       [ 0.00172036,  0.00356938,  0.00709057,  0.01312203,  0.02550354,\n",
       "         0.05069597,  0.09605817,  0.1776965 ,  0.28194434,  0.45511216,\n",
       "         0.66023732],\n",
       "       [ 0.00147844,  0.0030417 ,  0.00617889,  0.01198761,  0.02462813,\n",
       "         0.0481589 ,  0.08473994,  0.16202541,  0.26328305,  0.41063819,\n",
       "         0.58472579]])"
      ]
     },
     "execution_count": 78,
     "metadata": {},
     "output_type": "execute_result"
    }
   ],
   "source": [
    "c[0]"
   ]
  },
  {
   "cell_type": "code",
   "execution_count": 79,
   "metadata": {
    "collapsed": false
   },
   "outputs": [
    {
     "data": {
      "text/plain": [
       "array([[  1.00000000e-03,   2.00000000e-03,   4.00000000e-03,\n",
       "          8.00000000e-03,   1.60000000e-02,   3.20000000e-02,\n",
       "          6.40000000e-02,   1.28000000e-01,   2.56000000e-01,\n",
       "          5.12000000e-01,   1.02400000e+00],\n",
       "       [  1.00000000e-03,   2.00000000e-03,   4.00000000e-03,\n",
       "          8.00000000e-03,   1.60000000e-02,   3.20000000e-02,\n",
       "          6.40000000e-02,   1.28000000e-01,   2.56000000e-01,\n",
       "          5.12000000e-01,   1.02400000e+00],\n",
       "       [  1.00000000e-03,   2.00000000e-03,   4.00000000e-03,\n",
       "          8.00000000e-03,   1.60000000e-02,   3.20000000e-02,\n",
       "          6.40000000e-02,   1.28000000e-01,   2.56000000e-01,\n",
       "          5.12000000e-01,   1.02400000e+00],\n",
       "       [  1.00000000e-03,   2.00000000e-03,   4.00000000e-03,\n",
       "          8.00000000e-03,   1.60000000e-02,   3.20000000e-02,\n",
       "          6.40000000e-02,   1.28000000e-01,   2.56000000e-01,\n",
       "          5.12000000e-01,   1.02400000e+00],\n",
       "       [  1.00000000e-03,   2.00000000e-03,   4.00000000e-03,\n",
       "          8.00000000e-03,   1.60000000e-02,   3.20000000e-02,\n",
       "          6.40000000e-02,   1.28000000e-01,   2.56000000e-01,\n",
       "          5.12000000e-01,   1.02400000e+00],\n",
       "       [  1.00000000e-03,   2.00000000e-03,   4.00000000e-03,\n",
       "          8.00000000e-03,   1.60000000e-02,   3.20000000e-02,\n",
       "          6.40000000e-02,   1.28000000e-01,   2.56000000e-01,\n",
       "          5.12000000e-01,   1.02400000e+00]])"
      ]
     },
     "execution_count": 79,
     "metadata": {},
     "output_type": "execute_result"
    }
   ],
   "source": [
    "d[0]"
   ]
  },
  {
   "cell_type": "code",
   "execution_count": 81,
   "metadata": {
    "collapsed": false
   },
   "outputs": [
    {
     "data": {
      "image/png": "[encoded data removed]",
      "text/plain": [
       "<matplotlib.figure.Figure at 0x10f73d358>"
      ]
     },
     "metadata": {},
     "output_type": "display_data"
    }
   ],
   "source": [
    "plotter.semlog(d[4],c[4])"
   ]
  },
  {
   "cell_type": "code",
   "execution_count": 82,
   "metadata": {
    "collapsed": true
   },
   "outputs": [],
   "source": [
    "fit = class_test.WymanSimFit(sim)"
   ]
  },
  {
   "cell_type": "code",
   "execution_count": 84,
   "metadata": {
    "collapsed": false
   },
   "outputs": [
    {
     "data": {
      "text/plain": [
       "(array([  2.,   8.,  11.,  17.,  24.,  17.,   7.,   8.,   3.,   3.]),\n",
       " array([ 2.64010096,  2.72567655,  2.81125214,  2.89682773,  2.98240332,\n",
       "         3.06797891,  3.1535545 ,  3.23913009,  3.32470569,  3.41028128,\n",
       "         3.49585687]),\n",
       " <a list of 10 Patch objects>)"
      ]
     },
     "execution_count": 84,
     "metadata": {},
     "output_type": "execute_result"
    },
    {
     "data": {
      "image/png": "[encoded data removed]",
      "text/plain": [
       "<matplotlib.figure.Figure at 0x10fd79860>"
      ]
     },
     "metadata": {},
     "output_type": "display_data"
    }
   ],
   "source": [
    "plt.hist(fit.k11)"
   ]
  },
  {
   "cell_type": "code",
   "execution_count": 107,
   "metadata": {
    "collapsed": false
   },
   "outputs": [],
   "source": [
    "ligrange_bounds=[d[i][0][-1] for i in range(len(d))]"
   ]
  },
  {
   "cell_type": "code",
   "execution_count": 102,
   "metadata": {
    "collapsed": false
   },
   "outputs": [
    {
     "data": {
      "text/plain": [
       "array([[  1.00000000e-03,   2.00000000e-03,   4.00000000e-03,\n",
       "          8.00000000e-03,   1.60000000e-02,   3.20000000e-02,\n",
       "          6.40000000e-02,   1.28000000e-01,   2.56000000e-01,\n",
       "          5.12000000e-01,   1.02400000e+00,   2.04800000e+00,\n",
       "          4.09600000e+00,   8.19200000e+00,   1.63840000e+01,\n",
       "          3.27680000e+01,   6.55360000e+01,   1.31072000e+02],\n",
       "       [  1.00000000e-03,   2.00000000e-03,   4.00000000e-03,\n",
       "          8.00000000e-03,   1.60000000e-02,   3.20000000e-02,\n",
       "          6.40000000e-02,   1.28000000e-01,   2.56000000e-01,\n",
       "          5.12000000e-01,   1.02400000e+00,   2.04800000e+00,\n",
       "          4.09600000e+00,   8.19200000e+00,   1.63840000e+01,\n",
       "          3.27680000e+01,   6.55360000e+01,   1.31072000e+02],\n",
       "       [  1.00000000e-03,   2.00000000e-03,   4.00000000e-03,\n",
       "          8.00000000e-03,   1.60000000e-02,   3.20000000e-02,\n",
       "          6.40000000e-02,   1.28000000e-01,   2.56000000e-01,\n",
       "          5.12000000e-01,   1.02400000e+00,   2.04800000e+00,\n",
       "          4.09600000e+00,   8.19200000e+00,   1.63840000e+01,\n",
       "          3.27680000e+01,   6.55360000e+01,   1.31072000e+02],\n",
       "       [  1.00000000e-03,   2.00000000e-03,   4.00000000e-03,\n",
       "          8.00000000e-03,   1.60000000e-02,   3.20000000e-02,\n",
       "          6.40000000e-02,   1.28000000e-01,   2.56000000e-01,\n",
       "          5.12000000e-01,   1.02400000e+00,   2.04800000e+00,\n",
       "          4.09600000e+00,   8.19200000e+00,   1.63840000e+01,\n",
       "          3.27680000e+01,   6.55360000e+01,   1.31072000e+02],\n",
       "       [  1.00000000e-03,   2.00000000e-03,   4.00000000e-03,\n",
       "          8.00000000e-03,   1.60000000e-02,   3.20000000e-02,\n",
       "          6.40000000e-02,   1.28000000e-01,   2.56000000e-01,\n",
       "          5.12000000e-01,   1.02400000e+00,   2.04800000e+00,\n",
       "          4.09600000e+00,   8.19200000e+00,   1.63840000e+01,\n",
       "          3.27680000e+01,   6.55360000e+01,   1.31072000e+02],\n",
       "       [  1.00000000e-03,   2.00000000e-03,   4.00000000e-03,\n",
       "          8.00000000e-03,   1.60000000e-02,   3.20000000e-02,\n",
       "          6.40000000e-02,   1.28000000e-01,   2.56000000e-01,\n",
       "          5.12000000e-01,   1.02400000e+00,   2.04800000e+00,\n",
       "          4.09600000e+00,   8.19200000e+00,   1.63840000e+01,\n",
       "          3.27680000e+01,   6.55360000e+01,   1.31072000e+02]])"
      ]
     },
     "execution_count": 102,
     "metadata": {},
     "output_type": "execute_result"
    }
   ],
   "source": [
    "sim.ligs"
   ]
  },
  {
   "cell_type": "code",
   "execution_count": 117,
   "metadata": {
    "collapsed": true
   },
   "outputs": [],
   "source": [
    "sims = [class_test.WymanSim(ligrange=[0.001,i,2.],sets=1) for i in ligrange_bounds]"
   ]
  },
  {
   "cell_type": "code",
   "execution_count": 118,
   "metadata": {
    "collapsed": false
   },
   "outputs": [],
   "source": [
    "sim6 = sims[6]"
   ]
  },
  {
   "cell_type": "code",
   "execution_count": 119,
   "metadata": {
    "collapsed": false
   },
   "outputs": [
    {
     "data": {
      "text/plain": [
       "array([[ 0.00257566,  0.00540204,  0.01079456,  0.02034536,  0.04102408,\n",
       "         0.07918891,  0.14961748,  0.26747038,  0.42167167,  0.54285822,\n",
       "         0.73468309,  0.8689284 ,  0.91723521,  0.96144344,  0.98507823,\n",
       "         0.95411116,  0.97846518,  1.01060344],\n",
       "       [ 0.00252532,  0.00492146,  0.01022682,  0.01939753,  0.03771661,\n",
       "         0.06672726,  0.1341807 ,  0.22855085,  0.40388891,  0.58530183,\n",
       "         0.72294735,  0.84936864,  0.88272478,  0.91925731,  0.93245439,\n",
       "         1.00074626,  1.02846533,  1.03006838],\n",
       "       [ 0.00229723,  0.00459235,  0.00849755,  0.01662405,  0.03483747,\n",
       "         0.06458628,  0.12703614,  0.22855861,  0.3717018 ,  0.49775766,\n",
       "         0.68838802,  0.80621466,  0.90481373,  0.92377082,  1.01440412,\n",
       "         1.01167688,  1.01055371,  0.98176188],\n",
       "       [ 0.00194495,  0.0041651 ,  0.00806932,  0.01622547,  0.03066698,\n",
       "         0.06111053,  0.11448167,  0.19752573,  0.33604576,  0.47611999,\n",
       "         0.67231316,  0.80661361,  0.85083434,  0.9532172 ,  0.96342865,\n",
       "         0.96831851,  1.02333503,  0.97547813],\n",
       "       [ 0.00177871,  0.00351494,  0.00704929,  0.01374999,  0.02676387,\n",
       "         0.05103076,  0.10089525,  0.17386884,  0.29390156,  0.45037486,\n",
       "         0.64734095,  0.73803125,  0.87500959,  0.93404565,  0.92301342,\n",
       "         0.99860462,  0.9582245 ,  0.9522432 ],\n",
       "       [ 0.00151102,  0.00310166,  0.00625174,  0.01176036,  0.0240136 ,\n",
       "         0.04808409,  0.09264071,  0.16604896,  0.27153543,  0.44213646,\n",
       "         0.5702348 ,  0.70085981,  0.8607704 ,  0.87471858,  0.941346  ,\n",
       "         0.96056781,  1.00144812,  1.00856772]])"
      ]
     },
     "execution_count": 119,
     "metadata": {},
     "output_type": "execute_result"
    }
   ],
   "source": [
    "sim6.meanset[0]"
   ]
  },
  {
   "cell_type": "code",
   "execution_count": 130,
   "metadata": {
    "collapsed": false
   },
   "outputs": [
    {
     "data": {
      "image/png": "[encoded data removed]",
      "text/plain": [
       "<matplotlib.figure.Figure at 0x110423eb8>"
      ]
     },
     "metadata": {},
     "output_type": "display_data"
    }
   ],
   "source": [
    "plotter.semlog(sims[2].ligs[3],sims[2].meanset[0][3])\n",
    "plotter.semlog(sims[5].ligs[3],sims[5].meanset[0][3])"
   ]
  },
  {
   "cell_type": "code",
   "execution_count": 123,
   "metadata": {
    "collapsed": false
   },
   "outputs": [
    {
     "data": {
      "text/plain": [
       "array([[ 0.00257566,  0.00540204,  0.01079456,  0.02034536,  0.04102408,\n",
       "         0.07918891,  0.14961748,  0.26747038,  0.42167167,  0.54285822,\n",
       "         0.73468309,  0.8689284 ,  0.91723521,  0.96144344,  0.98507823,\n",
       "         0.95411116,  0.97846518,  1.01060344],\n",
       "       [ 0.00252532,  0.00492146,  0.01022682,  0.01939753,  0.03771661,\n",
       "         0.06672726,  0.1341807 ,  0.22855085,  0.40388891,  0.58530183,\n",
       "         0.72294735,  0.84936864,  0.88272478,  0.91925731,  0.93245439,\n",
       "         1.00074626,  1.02846533,  1.03006838],\n",
       "       [ 0.00229723,  0.00459235,  0.00849755,  0.01662405,  0.03483747,\n",
       "         0.06458628,  0.12703614,  0.22855861,  0.3717018 ,  0.49775766,\n",
       "         0.68838802,  0.80621466,  0.90481373,  0.92377082,  1.01440412,\n",
       "         1.01167688,  1.01055371,  0.98176188],\n",
       "       [ 0.00194495,  0.0041651 ,  0.00806932,  0.01622547,  0.03066698,\n",
       "         0.06111053,  0.11448167,  0.19752573,  0.33604576,  0.47611999,\n",
       "         0.67231316,  0.80661361,  0.85083434,  0.9532172 ,  0.96342865,\n",
       "         0.96831851,  1.02333503,  0.97547813],\n",
       "       [ 0.00177871,  0.00351494,  0.00704929,  0.01374999,  0.02676387,\n",
       "         0.05103076,  0.10089525,  0.17386884,  0.29390156,  0.45037486,\n",
       "         0.64734095,  0.73803125,  0.87500959,  0.93404565,  0.92301342,\n",
       "         0.99860462,  0.9582245 ,  0.9522432 ],\n",
       "       [ 0.00151102,  0.00310166,  0.00625174,  0.01176036,  0.0240136 ,\n",
       "         0.04808409,  0.09264071,  0.16604896,  0.27153543,  0.44213646,\n",
       "         0.5702348 ,  0.70085981,  0.8607704 ,  0.87471858,  0.941346  ,\n",
       "         0.96056781,  1.00144812,  1.00856772]])"
      ]
     },
     "execution_count": 123,
     "metadata": {},
     "output_type": "execute_result"
    }
   ],
   "source": [
    "sims[6].meanset[0]"
   ]
  },
  {
   "cell_type": "code",
   "execution_count": 131,
   "metadata": {
    "collapsed": true
   },
   "outputs": [],
   "source": [
    "fits = [class_test.WymanSimFit(i) for i in sims]"
   ]
  },
  {
   "cell_type": "code",
   "execution_count": 133,
   "metadata": {
    "collapsed": false
   },
   "outputs": [],
   "source": [
    "fit1 = fits[1]"
   ]
  },
  {
   "cell_type": "code",
   "execution_count": 134,
   "metadata": {
    "collapsed": false
   },
   "outputs": [
    {
     "data": {
      "text/plain": [
       "array([[  3.09857327e+00,   2.14788242e+00,   5.23565133e-02,\n",
       "          1.16447711e+02]])"
      ]
     },
     "execution_count": 134,
     "metadata": {},
     "output_type": "execute_result"
    }
   ],
   "source": [
    "fit1.ests"
   ]
  },
  {
   "cell_type": "code",
   "execution_count": 135,
   "metadata": {
    "collapsed": false
   },
   "outputs": [
    {
     "data": {
      "text/plain": [
       "[array([[   3.10654604,    2.36431183,    0.28874727,  174.0127459 ]]),\n",
       " array([[  3.09857327e+00,   2.14788242e+00,   5.23565133e-02,\n",
       "           1.16447711e+02]]),\n",
       " array([[  2.89902583e+00,   1.95846096e+00,   4.39439002e-12,\n",
       "           7.94340343e+01]]),\n",
       " array([[  3.25215315e+00,   1.98355802e+00,   1.32100783e-01,\n",
       "           1.34803092e+02]]),\n",
       " array([[  3.01306481e+00,   2.04301394e+00,   1.06991763e-17,\n",
       "           8.43332845e+01]]),\n",
       " array([[   3.00830762,    2.07647784,    0.15629934,  118.02569635]]),\n",
       " array([[   2.99925014,    2.38907076,    0.2487102 ,  134.64954725]]),\n",
       " array([[  2.93816380e+00,   1.95442218e+00,   4.95054891e-02,\n",
       "           7.97580973e+01]])]"
      ]
     },
     "execution_count": 135,
     "metadata": {},
     "output_type": "execute_result"
    }
   ],
   "source": [
    "[i.ests for i in fits]"
   ]
  },
  {
   "cell_type": "code",
   "execution_count": 144,
   "metadata": {
    "collapsed": false
   },
   "outputs": [
    {
     "data": {
      "text/plain": [
       "[0.9643804668974706,\n",
       " 1.037688318932985,\n",
       " 0.9977748460830973,\n",
       " 1.0225906169372896,\n",
       " 1.0672550854225504]"
      ]
     },
     "execution_count": 144,
     "metadata": {},
     "output_type": "execute_result"
    }
   ],
   "source": [
    "np.random.seed(13)\n",
    "[np.random.normal(1,0.05) for i in range(5)]"
   ]
  },
  {
   "cell_type": "code",
   "execution_count": 145,
   "metadata": {
    "collapsed": false
   },
   "outputs": [
    {
     "data": {
      "text/plain": [
       "[0.9643804668974706,\n",
       " 1.037688318932985,\n",
       " 0.9977748460830973,\n",
       " 1.0225906169372896,\n",
       " 1.0672550854225504]"
      ]
     },
     "execution_count": 145,
     "metadata": {},
     "output_type": "execute_result"
    }
   ],
   "source": [
    "np.random.seed(13)\n",
    "[np.random.normal(1,0.05) for i in range(5)]"
   ]
  },
  {
   "cell_type": "code",
   "execution_count": 146,
   "metadata": {
    "collapsed": false
   },
   "outputs": [
    {
     "data": {
      "text/plain": [
       "[1.0266168944147274,\n",
       " 1.0675093949861263,\n",
       " 1.043060568708466,\n",
       " 1.073934286871795,\n",
       " 0.9477311434730733]"
      ]
     },
     "execution_count": 146,
     "metadata": {},
     "output_type": "execute_result"
    }
   ],
   "source": [
    "[np.random.normal(1,0.05) for i in range(5)]"
   ]
  },
  {
   "cell_type": "code",
   "execution_count": 148,
   "metadata": {
    "collapsed": false
   },
   "outputs": [
    {
     "data": {
      "text/plain": [
       "[0.9643804668974706,\n",
       " 1.037688318932985,\n",
       " 0.9977748460830973,\n",
       " 1.0225906169372896,\n",
       " 1.0672550854225504]"
      ]
     },
     "execution_count": 148,
     "metadata": {},
     "output_type": "execute_result"
    }
   ],
   "source": [
    "np.random.seed(13)\n",
    "[np.random.normal(1,0.05) for i in range(5)]"
   ]
  },
  {
   "cell_type": "code",
   "execution_count": 170,
   "metadata": {
    "collapsed": false
   },
   "outputs": [],
   "source": [
    "%autoreload"
   ]
  },
  {
   "cell_type": "code",
   "execution_count": 172,
   "metadata": {
    "collapsed": false
   },
   "outputs": [
    {
     "name": "stdout",
     "output_type": "stream",
     "text": [
      "-0.712390662050588\n"
     ]
    },
    {
     "ename": "AttributeError",
     "evalue": "'SimMod' object has no attribute 'sets'",
     "output_type": "error",
     "traceback": [
      "\u001b[0;31m---------------------------------------------------------------------------\u001b[0m",
      "\u001b[0;31mAttributeError\u001b[0m                            Traceback (most recent call last)",
      "\u001b[0;32m<ipython-input-172-a4b243d9112b>\u001b[0m in \u001b[0;36m<module>\u001b[0;34m()\u001b[0m\n\u001b[0;32m----> 1\u001b[0;31m \u001b[0mgg\u001b[0m \u001b[0;34m=\u001b[0m \u001b[0mclass_test\u001b[0m\u001b[0;34m.\u001b[0m\u001b[0mSimMod\u001b[0m\u001b[0;34m(\u001b[0m\u001b[0;36m13\u001b[0m\u001b[0;34m)\u001b[0m\u001b[0;34m\u001b[0m\u001b[0m\n\u001b[0m",
      "\u001b[0;32m/Users/michael/thesis2.0/ipythes/working_jan17/simulated_sets/mods/class_test.py\u001b[0m in \u001b[0;36m__init__\u001b[0;34m(self, seed)\u001b[0m\n\u001b[1;32m    141\u001b[0m     \u001b[0;32mdef\u001b[0m \u001b[0m__init__\u001b[0m\u001b[0;34m(\u001b[0m\u001b[0mself\u001b[0m\u001b[0;34m,\u001b[0m \u001b[0mseed\u001b[0m\u001b[0;34m)\u001b[0m\u001b[0;34m:\u001b[0m\u001b[0;34m\u001b[0m\u001b[0m\n\u001b[1;32m    142\u001b[0m         \u001b[0mself\u001b[0m\u001b[0;34m.\u001b[0m\u001b[0mseed\u001b[0m \u001b[0;34m=\u001b[0m \u001b[0mseed\u001b[0m\u001b[0;34m\u001b[0m\u001b[0m\n\u001b[0;32m--> 143\u001b[0;31m         \u001b[0mself\u001b[0m\u001b[0;34m.\u001b[0m\u001b[0mnoised\u001b[0m \u001b[0;34m=\u001b[0m \u001b[0mSimMod\u001b[0m\u001b[0;34m.\u001b[0m\u001b[0msetter\u001b[0m\u001b[0;34m(\u001b[0m\u001b[0mself\u001b[0m\u001b[0;34m,\u001b[0m\u001b[0mself\u001b[0m\u001b[0;34m.\u001b[0m\u001b[0mseed\u001b[0m\u001b[0;34m)\u001b[0m\u001b[0;34m\u001b[0m\u001b[0m\n\u001b[0m",
      "\u001b[0;32m/Users/michael/thesis2.0/ipythes/working_jan17/simulated_sets/mods/class_test.py\u001b[0m in \u001b[0;36msetter\u001b[0;34m(self, seed)\u001b[0m\n\u001b[1;32m    137\u001b[0m         \u001b[0mnp\u001b[0m\u001b[0;34m.\u001b[0m\u001b[0mrandom\u001b[0m\u001b[0;34m.\u001b[0m\u001b[0mseed\u001b[0m\u001b[0;34m(\u001b[0m\u001b[0mseed\u001b[0m\u001b[0;34m)\u001b[0m\u001b[0;34m\u001b[0m\u001b[0m\n\u001b[1;32m    138\u001b[0m         \u001b[0mprint\u001b[0m\u001b[0;34m(\u001b[0m\u001b[0mnp\u001b[0m\u001b[0;34m.\u001b[0m\u001b[0mrandom\u001b[0m\u001b[0;34m.\u001b[0m\u001b[0mnormal\u001b[0m\u001b[0;34m(\u001b[0m\u001b[0;34m)\u001b[0m\u001b[0;34m)\u001b[0m\u001b[0;34m\u001b[0m\u001b[0m\n\u001b[0;32m--> 139\u001b[0;31m         \u001b[0;32mreturn\u001b[0m \u001b[0mnp\u001b[0m\u001b[0;34m.\u001b[0m\u001b[0marray\u001b[0m\u001b[0;34m(\u001b[0m\u001b[0;34m[\u001b[0m\u001b[0;34m[\u001b[0m\u001b[0mnp\u001b[0m\u001b[0;34m.\u001b[0m\u001b[0mrandom\u001b[0m\u001b[0;34m.\u001b[0m\u001b[0mnormal\u001b[0m\u001b[0;34m(\u001b[0m\u001b[0mself\u001b[0m\u001b[0;34m.\u001b[0m\u001b[0mbfrac\u001b[0m\u001b[0;34m,\u001b[0m\u001b[0;34m(\u001b[0m\u001b[0mself\u001b[0m\u001b[0;34m.\u001b[0m\u001b[0mnoise\u001b[0m\u001b[0;34m*\u001b[0m\u001b[0mself\u001b[0m\u001b[0;34m.\u001b[0m\u001b[0mbfrac\u001b[0m\u001b[0;34m)\u001b[0m\u001b[0;34m)\u001b[0m \u001b[0;32mfor\u001b[0m \u001b[0mi\u001b[0m \u001b[0;32min\u001b[0m \u001b[0mrange\u001b[0m\u001b[0;34m(\u001b[0m\u001b[0mself\u001b[0m\u001b[0;34m.\u001b[0m\u001b[0mreps\u001b[0m\u001b[0;34m)\u001b[0m\u001b[0;34m]\u001b[0m \u001b[0;32mfor\u001b[0m \u001b[0mi\u001b[0m \u001b[0;32min\u001b[0m \u001b[0mrange\u001b[0m\u001b[0;34m(\u001b[0m\u001b[0mself\u001b[0m\u001b[0;34m.\u001b[0m\u001b[0msets\u001b[0m\u001b[0;34m)\u001b[0m\u001b[0;34m]\u001b[0m\u001b[0;34m)\u001b[0m\u001b[0;34m\u001b[0m\u001b[0m\n\u001b[0m\u001b[1;32m    140\u001b[0m \u001b[0;34m\u001b[0m\u001b[0m\n\u001b[1;32m    141\u001b[0m     \u001b[0;32mdef\u001b[0m \u001b[0m__init__\u001b[0m\u001b[0;34m(\u001b[0m\u001b[0mself\u001b[0m\u001b[0;34m,\u001b[0m \u001b[0mseed\u001b[0m\u001b[0;34m)\u001b[0m\u001b[0;34m:\u001b[0m\u001b[0;34m\u001b[0m\u001b[0m\n",
      "\u001b[0;31mAttributeError\u001b[0m: 'SimMod' object has no attribute 'sets'"
     ]
    }
   ],
   "source": [
    "gg = class_test.SimMod(13)"
   ]
  },
  {
   "cell_type": "code",
   "execution_count": 169,
   "metadata": {
    "collapsed": false
   },
   "outputs": [
    {
     "name": "stdout",
     "output_type": "stream",
     "text": [
      "-0.712390662050588\n"
     ]
    },
    {
     "data": {
      "text/plain": [
       "array([[[[ 0.00280294,  0.00537624,  0.01096287, ...,  0.99560668,\n",
       "           1.10156905,  1.0275397 ],\n",
       "         [ 0.00245499,  0.00466361,  0.01034522, ...,  0.9991511 ,\n",
       "           1.01973766,  1.01688173],\n",
       "         [ 0.00206242,  0.00428259,  0.0089117 , ...,  0.96798778,\n",
       "           0.96709683,  1.06400247],\n",
       "         [ 0.00219705,  0.00397234,  0.0081595 , ...,  0.93859624,\n",
       "           0.95364687,  0.97424864],\n",
       "         [ 0.0017602 ,  0.00327398,  0.00697298, ...,  0.99461808,\n",
       "           0.97185321,  0.89753515],\n",
       "         [ 0.00160136,  0.00333779,  0.00626952, ...,  0.90879947,\n",
       "           0.99978259,  0.9017772 ]],\n",
       "\n",
       "        [[ 0.00270866,  0.00541002,  0.00947716, ...,  0.93900307,\n",
       "           0.96841964,  1.01768482],\n",
       "         [ 0.00235162,  0.00512369,  0.00901256, ...,  0.94667037,\n",
       "           0.96849949,  0.88705681],\n",
       "         [ 0.00218622,  0.0046115 ,  0.00844712, ...,  1.02420318,\n",
       "           0.95569426,  0.94415   ],\n",
       "         [ 0.00189837,  0.00413267,  0.00836226, ...,  0.95794488,\n",
       "           1.03514751,  0.99965394],\n",
       "         [ 0.0016927 ,  0.00332123,  0.00652755, ...,  0.95599115,\n",
       "           1.03580837,  0.99523768],\n",
       "         [ 0.00160381,  0.00318344,  0.00591364, ...,  0.94669198,\n",
       "           1.003882  ,  0.9861531 ]],\n",
       "\n",
       "        [[ 0.00284982,  0.00489511,  0.01104334, ...,  0.98160285,\n",
       "           0.92184678,  0.97070402],\n",
       "         [ 0.00222077,  0.00513551,  0.01022801, ...,  1.01322767,\n",
       "           1.03588622,  0.94444901],\n",
       "         [ 0.00219679,  0.00438944,  0.00893332, ...,  0.94234422,\n",
       "           1.02834637,  1.02703882],\n",
       "         [ 0.00185687,  0.004115  ,  0.00835055, ...,  1.11185077,\n",
       "           1.01066269,  1.04579614],\n",
       "         [ 0.00174231,  0.00336033,  0.00710183, ...,  0.9526924 ,\n",
       "           1.02674498,  0.96770632],\n",
       "         [ 0.00153201,  0.00297431,  0.00648709, ...,  1.01511072,\n",
       "           1.0034918 ,  1.03474172]]],\n",
       "\n",
       "\n",
       "       [[[ 0.00277181,  0.00544254,  0.01063222, ...,  1.05462401,\n",
       "           0.99664988,  1.01551035],\n",
       "         [ 0.00245273,  0.00447861,  0.01004244, ...,  0.98038623,\n",
       "           0.940747  ,  0.91729234],\n",
       "         [ 0.00220642,  0.00473656,  0.00942397, ...,  0.82853166,\n",
       "           1.01717081,  1.04838856],\n",
       "         [ 0.00186431,  0.00394511,  0.00816868, ...,  1.05498313,\n",
       "           0.9633271 ,  0.9879312 ],\n",
       "         [ 0.00182798,  0.00372147,  0.00644836, ...,  1.02364165,\n",
       "           0.9621389 ,  0.9714286 ],\n",
       "         [ 0.00162601,  0.00276587,  0.00680087, ...,  0.97742503,\n",
       "           0.91090563,  0.89994973]],\n",
       "\n",
       "        [[ 0.00268624,  0.0051984 ,  0.01096475, ...,  0.96278772,\n",
       "           0.86065338,  1.02130909],\n",
       "         [ 0.00249615,  0.00487125,  0.00888499, ...,  1.01979073,\n",
       "           0.98080556,  1.06494734],\n",
       "         [ 0.00217289,  0.0043264 ,  0.00856321, ...,  0.99835051,\n",
       "           1.02059777,  0.97639557],\n",
       "         [ 0.00192925,  0.00403588,  0.00812152, ...,  1.00455698,\n",
       "           0.93694163,  1.06646252],\n",
       "         [ 0.00166647,  0.00325659,  0.00684851, ...,  0.93820912,\n",
       "           0.94686334,  0.96809284],\n",
       "         [ 0.0015505 ,  0.00316901,  0.00612667, ...,  0.96214417,\n",
       "           0.98803728,  0.96523405]],\n",
       "\n",
       "        [[ 0.00270846,  0.00537861,  0.01125882, ...,  1.01143671,\n",
       "           0.95282648,  0.89014188],\n",
       "         [ 0.00243376,  0.00471232,  0.00973985, ...,  0.97409931,\n",
       "           1.05233891,  1.02695362],\n",
       "         [ 0.00233937,  0.0046068 ,  0.00850649, ...,  1.02255233,\n",
       "           0.89659127,  1.03727547],\n",
       "         [ 0.00201437,  0.00390485,  0.00832583, ...,  0.9761718 ,\n",
       "           0.97730052,  1.02123596],\n",
       "         [ 0.00171467,  0.0034723 ,  0.00694989, ...,  0.90653803,\n",
       "           0.92682495,  1.07991829],\n",
       "         [ 0.00142782,  0.00306151,  0.00636809, ...,  1.02804478,\n",
       "           0.95106054,  1.07656511]]],\n",
       "\n",
       "\n",
       "       [[[ 0.00265052,  0.00567986,  0.01231069, ...,  0.9498506 ,\n",
       "           1.01132369,  1.09057256],\n",
       "         [ 0.00259483,  0.00475421,  0.00964568, ...,  0.96762092,\n",
       "           0.93885653,  1.0247016 ],\n",
       "         [ 0.00228215,  0.0044875 ,  0.0099156 , ...,  0.99864147,\n",
       "           0.98158707,  1.01802233],\n",
       "         [ 0.0019753 ,  0.00401967,  0.00728877, ...,  0.93857816,\n",
       "           0.99825616,  0.9203413 ],\n",
       "         [ 0.00177061,  0.0035893 ,  0.00711787, ...,  1.01005748,\n",
       "           1.087662  ,  0.95864632],\n",
       "         [ 0.0014644 ,  0.00301378,  0.00627268, ...,  1.03702198,\n",
       "           0.97370605,  0.92434251]],\n",
       "\n",
       "        [[ 0.00272834,  0.0060452 ,  0.01069396, ...,  1.04758833,\n",
       "           0.98025343,  0.95877707],\n",
       "         [ 0.00254828,  0.00501035,  0.00978485, ...,  0.99751326,\n",
       "           1.01914251,  0.91419302],\n",
       "         [ 0.00236405,  0.00404765,  0.0089998 , ...,  0.93253572,\n",
       "           0.97078919,  0.91260906],\n",
       "         [ 0.00181822,  0.00404563,  0.00723079, ...,  0.97655027,\n",
       "           0.98748857,  1.03414808],\n",
       "         [ 0.00179056,  0.00340596,  0.00643919, ...,  0.9484543 ,\n",
       "           0.97952354,  0.99698788],\n",
       "         [ 0.0015697 ,  0.00290235,  0.00628491, ...,  0.98671331,\n",
       "           1.0515002 ,  0.9121255 ]],\n",
       "\n",
       "        [[ 0.00289078,  0.00547675,  0.01003503, ...,  1.00043966,\n",
       "           0.91848202,  1.04758278],\n",
       "         [ 0.0023515 ,  0.00496533,  0.0101499 , ...,  0.93351643,\n",
       "           1.07956675,  1.10783579],\n",
       "         [ 0.00221089,  0.00439695,  0.00877975, ...,  1.05236913,\n",
       "           1.05805058,  1.03509653],\n",
       "         [ 0.0018595 ,  0.00386222,  0.00787156, ...,  1.03842005,\n",
       "           1.13102022,  1.04842611],\n",
       "         [ 0.00167445,  0.00351147,  0.00618297, ...,  1.06491067,\n",
       "           0.97235062,  0.99584695],\n",
       "         [ 0.00173483,  0.00330757,  0.00618036, ...,  0.97338979,\n",
       "           1.04008969,  0.97689936]]],\n",
       "\n",
       "\n",
       "       ..., \n",
       "       [[[ 0.00254507,  0.00551511,  0.01005974, ...,  0.94780992,\n",
       "           0.92574201,  1.01334773],\n",
       "         [ 0.00227979,  0.00502673,  0.00936312, ...,  0.99321546,\n",
       "           0.97658289,  0.99469802],\n",
       "         [ 0.00240168,  0.0047575 ,  0.00938676, ...,  1.01313343,\n",
       "           0.96245855,  0.92538808],\n",
       "         [ 0.00194606,  0.00400005,  0.00791676, ...,  1.00545246,\n",
       "           0.96957158,  0.95757613],\n",
       "         [ 0.00193639,  0.00352342,  0.00630803, ...,  0.98557114,\n",
       "           1.01298452,  1.00972893],\n",
       "         [ 0.00165346,  0.00340615,  0.00639848, ...,  1.00344667,\n",
       "           1.09905515,  0.98388003]],\n",
       "\n",
       "        [[ 0.00289894,  0.00585207,  0.01078931, ...,  0.99049295,\n",
       "           1.00657545,  1.00171858],\n",
       "         [ 0.00240966,  0.00491903,  0.00970647, ...,  1.00440345,\n",
       "           0.9943069 ,  0.91556735],\n",
       "         [ 0.00213684,  0.00481118,  0.00867159, ...,  1.06522482,\n",
       "           1.00298773,  0.91055429],\n",
       "         [ 0.0020326 ,  0.003802  ,  0.00718056, ...,  0.99777813,\n",
       "           0.93434971,  0.91305883],\n",
       "         [ 0.00162983,  0.00332563,  0.00684046, ...,  1.02282673,\n",
       "           0.94355719,  1.02553031],\n",
       "         [ 0.00176753,  0.00283571,  0.00623209, ...,  0.97897207,\n",
       "           1.01239458,  0.97998846]],\n",
       "\n",
       "        [[ 0.00290143,  0.00551531,  0.01102423, ...,  0.97363508,\n",
       "           0.97591811,  1.05528468],\n",
       "         [ 0.00249472,  0.00487974,  0.00935166, ...,  1.06281778,\n",
       "           1.0186966 ,  0.95944608],\n",
       "         [ 0.00232204,  0.00457006,  0.01009389, ...,  0.99846363,\n",
       "           0.99440447,  1.00748704],\n",
       "         [ 0.00192589,  0.00390083,  0.00782324, ...,  0.92204758,\n",
       "           1.00538471,  0.92481393],\n",
       "         [ 0.00169539,  0.00327883,  0.00668434, ...,  0.99918042,\n",
       "           1.01318502,  1.0486853 ],\n",
       "         [ 0.0016637 ,  0.0030549 ,  0.00652885, ...,  0.96038112,\n",
       "           0.93820644,  1.09081527]]],\n",
       "\n",
       "\n",
       "       [[[ 0.00260782,  0.00567626,  0.01021424, ...,  0.9383303 ,\n",
       "           0.97768313,  0.95357747],\n",
       "         [ 0.00249437,  0.00474128,  0.0103239 , ...,  0.91849526,\n",
       "           0.96842516,  1.05680655],\n",
       "         [ 0.00208108,  0.00441154,  0.00854068, ...,  0.98250127,\n",
       "           1.08320324,  1.01155984],\n",
       "         [ 0.00195327,  0.00375536,  0.00763264, ...,  0.97567687,\n",
       "           1.01005588,  1.01904679],\n",
       "         [ 0.0017522 ,  0.00355981,  0.00691253, ...,  0.95046211,\n",
       "           0.97028758,  1.05279476],\n",
       "         [ 0.00145311,  0.00301195,  0.00562965, ...,  0.9036003 ,\n",
       "           1.00391762,  0.9903751 ]],\n",
       "\n",
       "        [[ 0.00302135,  0.00510575,  0.00900346, ...,  1.02971425,\n",
       "           0.99502164,  1.04258431],\n",
       "         [ 0.00236133,  0.00486944,  0.0096028 , ...,  1.05662647,\n",
       "           0.99272093,  0.98234866],\n",
       "         [ 0.00224579,  0.00419661,  0.00958778, ...,  0.90338424,\n",
       "           0.94997916,  0.97575501],\n",
       "         [ 0.0018941 ,  0.00420124,  0.00756142, ...,  0.98769342,\n",
       "           1.00551694,  1.01977546],\n",
       "         [ 0.00167   ,  0.00336582,  0.00711312, ...,  1.00335462,\n",
       "           0.97869207,  1.01279177],\n",
       "         [ 0.00167989,  0.00315718,  0.006557  , ...,  0.93458642,\n",
       "           1.06073495,  0.90110738]],\n",
       "\n",
       "        [[ 0.0026746 ,  0.00577281,  0.0097425 , ...,  1.03019712,\n",
       "           1.02285645,  0.92345565],\n",
       "         [ 0.00249613,  0.00514234,  0.00933564, ...,  1.0972939 ,\n",
       "           1.01860741,  1.02957169],\n",
       "         [ 0.00219939,  0.00435709,  0.00923902, ...,  0.95657213,\n",
       "           1.05940385,  0.94292357],\n",
       "         [ 0.00216894,  0.00368262,  0.00805734, ...,  0.88494403,\n",
       "           1.00252035,  1.02587674],\n",
       "         [ 0.00172007,  0.00339957,  0.00679051, ...,  0.963201  ,\n",
       "           1.01716088,  1.04433321],\n",
       "         [ 0.0015585 ,  0.00302705,  0.00616712, ...,  0.94262836,\n",
       "           0.938712  ,  1.06942736]]],\n",
       "\n",
       "\n",
       "       [[[ 0.00287098,  0.00501404,  0.01015134, ...,  1.05616349,\n",
       "           0.98098011,  1.02690563],\n",
       "         [ 0.0024467 ,  0.00485089,  0.01014593, ...,  0.9220412 ,\n",
       "           0.96526167,  0.97342618],\n",
       "         [ 0.00213752,  0.00447473,  0.00934054, ...,  0.95783626,\n",
       "           0.98714692,  1.00170367],\n",
       "         [ 0.00196747,  0.00411143,  0.0081551 , ...,  0.99649994,\n",
       "           0.93924268,  1.01057975],\n",
       "         [ 0.00191269,  0.00325903,  0.00643062, ...,  1.03185885,\n",
       "           1.01591694,  1.02041548],\n",
       "         [ 0.00156427,  0.00334499,  0.00641427, ...,  0.87762854,\n",
       "           1.05601537,  0.98031874]],\n",
       "\n",
       "        [[ 0.0026235 ,  0.00585271,  0.01091429, ...,  0.94639107,\n",
       "           0.97832383,  1.06210384],\n",
       "         [ 0.0026283 ,  0.00494298,  0.00995637, ...,  0.98594291,\n",
       "           0.96206172,  1.03245569],\n",
       "         [ 0.00221686,  0.00427975,  0.00828988, ...,  1.04088958,\n",
       "           0.96224073,  0.96260832],\n",
       "         [ 0.00199855,  0.00385921,  0.00787193, ...,  0.94202034,\n",
       "           0.96764565,  0.94529675],\n",
       "         [ 0.00184743,  0.00322555,  0.00657482, ...,  0.99417317,\n",
       "           0.95042031,  0.96364754],\n",
       "         [ 0.00151871,  0.00299787,  0.00584335, ...,  1.01138172,\n",
       "           0.8888307 ,  0.91477524]],\n",
       "\n",
       "        [[ 0.00269194,  0.00562849,  0.01095581, ...,  1.05030012,\n",
       "           0.99978879,  0.95981384],\n",
       "         [ 0.00241232,  0.0048596 ,  0.00995433, ...,  0.95957822,\n",
       "           1.01314642,  1.06749893],\n",
       "         [ 0.00234433,  0.00489215,  0.00860512, ...,  0.99726406,\n",
       "           1.03919749,  1.0302101 ],\n",
       "         [ 0.0020479 ,  0.00377764,  0.00785306, ...,  1.03198305,\n",
       "           0.98596074,  0.98155218],\n",
       "         [ 0.00163715,  0.00340616,  0.0062222 , ...,  1.06940047,\n",
       "           0.90061139,  0.99977294],\n",
       "         [ 0.00146481,  0.00296149,  0.00539211, ...,  1.02317194,\n",
       "           0.92989628,  1.00542315]]]])"
      ]
     },
     "execution_count": 169,
     "metadata": {},
     "output_type": "execute_result"
    }
   ],
   "source": [
    "gg.setter(13)"
   ]
  },
  {
   "cell_type": "code",
   "execution_count": null,
   "metadata": {
    "collapsed": true
   },
   "outputs": [],
   "source": []
  }
 ],
 "metadata": {
  "anaconda-cloud": {},
  "kernelspec": {
   "display_name": "Python [conda env:fitter]",
   "language": "python",
   "name": "conda-env-fitter-py"
  },
  "language_info": {
   "codemirror_mode": {
    "name": "ipython",
    "version": 3
   },
   "file_extension": ".py",
   "mimetype": "text/x-python",
   "name": "python",
   "nbconvert_exporter": "python",
   "pygments_lexer": "ipython3",
   "version": "3.5.2"
  }
 },
 "nbformat": 4,
 "nbformat_minor": 1
}
