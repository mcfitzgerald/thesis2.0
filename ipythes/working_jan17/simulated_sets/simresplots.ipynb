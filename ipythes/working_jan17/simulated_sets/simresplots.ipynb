{
 "cells": [
  {
   "cell_type": "code",
   "execution_count": 3,
   "metadata": {
    "collapsed": false
   },
   "outputs": [
    {
     "name": "stdout",
     "output_type": "stream",
     "text": [
      "The autoreload extension is already loaded. To reload it, use:\n",
      "  %reload_ext autoreload\n"
     ]
    }
   ],
   "source": [
    "import numpy as np\n",
    "import matplotlib.pyplot as plt\n",
    "from scipy import optimize\n",
    "from mods import prep, plotter, models, class_test\n",
    "%matplotlib inline\n",
    "%load_ext autoreload"
   ]
  },
  {
   "cell_type": "code",
   "execution_count": 2,
   "metadata": {
    "collapsed": false
   },
   "outputs": [
    {
     "name": "stdout",
     "output_type": "stream",
     "text": [
      "hootie hoo! the indices match!\n",
      "hootie hoo! the indices match!\n",
      "hootie hoo! the indices match!\n"
     ]
    }
   ],
   "source": [
    "WT_08_lbl, WT_08_rtot, WT_08_lig, WT_08_sat = prep.datprep('data/EGFR_WT_08_Sat.csv','data/EGFR_WT_08_Rtot.csv')\n",
    "WT_09_lbl, WT_09_rtot, WT_09_lig, WT_09_sat = prep.datprep('data/EGFR_WT_09_Sat.csv','data/EGFR_WT_09_Rtot.csv')\n",
    "WT_11_lbl, WT_11_rtot, WT_11_lig, WT_11_sat = prep.datprep('data/EGFR_WT_11_Sat.csv','data/EGFR_WT_11_Rtot.csv')"
   ]
  },
  {
   "cell_type": "code",
   "execution_count": 4,
   "metadata": {
    "collapsed": true
   },
   "outputs": [],
   "source": [
    "guess = np.array([10.,10.,10.,1000.])"
   ]
  },
  {
   "cell_type": "code",
   "execution_count": 5,
   "metadata": {
    "collapsed": true
   },
   "outputs": [],
   "source": [
    "bnd = ((0.,0.,0.,0.),(100.,100.,100.,10000.))"
   ]
  },
  {
   "cell_type": "code",
   "execution_count": 7,
   "metadata": {
    "collapsed": false
   },
   "outputs": [],
   "source": [
    "fit_09 = optimize.least_squares(models.wyman_sp,guess,bounds=bnd,args=(WT_09_lig,WT_09_sat,WT_09_rtot))"
   ]
  },
  {
   "cell_type": "code",
   "execution_count": 8,
   "metadata": {
    "collapsed": false
   },
   "outputs": [
    {
     "data": {
      "text/plain": [
       "array([  4.49637583e+00,   1.92957029e+00,   2.02801264e-01,\n",
       "         1.08207498e+03])"
      ]
     },
     "execution_count": 8,
     "metadata": {},
     "output_type": "execute_result"
    }
   ],
   "source": [
    "fit_09.x"
   ]
  },
  {
   "cell_type": "code",
   "execution_count": 9,
   "metadata": {
    "collapsed": true
   },
   "outputs": [],
   "source": [
    "fit_09_w = optimize.least_squares(models.wyman_sp,guess,bounds=bnd,args=(WT_09_lig,WT_09_sat,WT_09_rtot,WT_09_sat))"
   ]
  },
  {
   "cell_type": "code",
   "execution_count": 10,
   "metadata": {
    "collapsed": false
   },
   "outputs": [
    {
     "data": {
      "text/plain": [
       "array([  3.96088173e+00,   1.26911829e+00,   4.70069931e-01,\n",
       "         8.30673380e+02])"
      ]
     },
     "execution_count": 10,
     "metadata": {},
     "output_type": "execute_result"
    }
   ],
   "source": [
    "fit_09_w.x"
   ]
  },
  {
   "cell_type": "code",
   "execution_count": 11,
   "metadata": {
    "collapsed": true
   },
   "outputs": [],
   "source": [
    "fit_08 = optimize.least_squares(models.wyman_sp,guess,bounds=bnd,args=(WT_08_lig,WT_08_sat,WT_08_rtot))"
   ]
  },
  {
   "cell_type": "code",
   "execution_count": 12,
   "metadata": {
    "collapsed": false
   },
   "outputs": [
    {
     "data": {
      "text/plain": [
       "array([   3.7953011 ,    5.44192435,    0.19625125,  170.10336433])"
      ]
     },
     "execution_count": 12,
     "metadata": {},
     "output_type": "execute_result"
    }
   ],
   "source": [
    "fit_08.x"
   ]
  },
  {
   "cell_type": "code",
   "execution_count": 13,
   "metadata": {
    "collapsed": true
   },
   "outputs": [],
   "source": [
    "fit_08_w = optimize.least_squares(models.wyman_sp,guess,bounds=bnd,args=(WT_08_lig,WT_08_sat,WT_08_rtot,WT_08_sat))"
   ]
  },
  {
   "cell_type": "code",
   "execution_count": 14,
   "metadata": {
    "collapsed": false
   },
   "outputs": [
    {
     "data": {
      "text/plain": [
       "array([  6.24964725e+00,   6.00344047e+00,   4.96984733e-01,\n",
       "         3.48834478e+03])"
      ]
     },
     "execution_count": 14,
     "metadata": {},
     "output_type": "execute_result"
    }
   ],
   "source": [
    "fit_08_w.x"
   ]
  },
  {
   "cell_type": "code",
   "execution_count": 15,
   "metadata": {
    "collapsed": true
   },
   "outputs": [],
   "source": [
    "fit_11 = optimize.least_squares(models.wyman_sp,guess,bounds=bnd,args=(WT_11_lig,WT_11_sat,WT_11_rtot))"
   ]
  },
  {
   "cell_type": "code",
   "execution_count": 16,
   "metadata": {
    "collapsed": false
   },
   "outputs": [
    {
     "data": {
      "text/plain": [
       "array([  3.35243589e+00,   9.08245070e-01,   1.69321917e-01,\n",
       "         2.25993331e+02])"
      ]
     },
     "execution_count": 16,
     "metadata": {},
     "output_type": "execute_result"
    }
   ],
   "source": [
    "fit_11.x"
   ]
  },
  {
   "cell_type": "code",
   "execution_count": 17,
   "metadata": {
    "collapsed": true
   },
   "outputs": [],
   "source": [
    "fit_11_w = optimize.least_squares(models.wyman_sp,guess,bounds=bnd,args=(WT_11_lig,WT_11_sat,WT_11_rtot,WT_11_sat))"
   ]
  },
  {
   "cell_type": "code",
   "execution_count": 18,
   "metadata": {
    "collapsed": false
   },
   "outputs": [
    {
     "data": {
      "text/plain": [
       "array([  3.63854935e+00,   6.34828213e-01,   7.11039664e-02,\n",
       "         2.23405330e+02])"
      ]
     },
     "execution_count": 18,
     "metadata": {},
     "output_type": "execute_result"
    }
   ],
   "source": [
    "fit_11_w.x"
   ]
  },
  {
   "cell_type": "code",
   "execution_count": 23,
   "metadata": {
    "collapsed": false
   },
   "outputs": [
    {
     "data": {
      "image/png": "[encoded data removed]",
      "text/plain": [
       "<matplotlib.figure.Figure at 0x10f96abe0>"
      ]
     },
     "metadata": {},
     "output_type": "display_data"
    }
   ],
   "source": [
    "plotter.resplot(models.wyman_bestfit,fit_08,WT_08_lig,WT_08_rtot)"
   ]
  },
  {
   "cell_type": "code",
   "execution_count": 21,
   "metadata": {
    "collapsed": false
   },
   "outputs": [
    {
     "data": {
      "image/png": "[encoded data removed]",
      "text/plain": [
       "<matplotlib.figure.Figure at 0x10f845e80>"
      ]
     },
     "metadata": {},
     "output_type": "display_data"
    }
   ],
   "source": [
    "plotter.resplot(models.wyman_bestfit,fit_08_w,WT_08_lig,WT_08_rtot)"
   ]
  },
  {
   "cell_type": "code",
   "execution_count": 24,
   "metadata": {
    "collapsed": false
   },
   "outputs": [
    {
     "data": {
      "image/png": "[encoded data removed]",
      "text/plain": [
       "<matplotlib.figure.Figure at 0x10faaf198>"
      ]
     },
     "metadata": {},
     "output_type": "display_data"
    }
   ],
   "source": [
    "plotter.resplot(models.wyman_bestfit,fit_09,WT_09_lig,WT_09_rtot)"
   ]
  },
  {
   "cell_type": "code",
   "execution_count": 25,
   "metadata": {
    "collapsed": false
   },
   "outputs": [
    {
     "data": {
      "image/png": "[encoded data removed]",
      "text/plain": [
       "<matplotlib.figure.Figure at 0x10fcd7160>"
      ]
     },
     "metadata": {},
     "output_type": "display_data"
    }
   ],
   "source": [
    "plotter.resplot(models.wyman_bestfit,fit_09_w,WT_09_lig,WT_09_rtot)"
   ]
  },
  {
   "cell_type": "code",
   "execution_count": 26,
   "metadata": {
    "collapsed": false
   },
   "outputs": [
    {
     "data": {
      "image/png": "[encoded data removed]",
      "text/plain": [
       "<matplotlib.figure.Figure at 0x10fdf6470>"
      ]
     },
     "metadata": {},
     "output_type": "display_data"
    }
   ],
   "source": [
    "plotter.resplot(models.wyman_bestfit,fit_11,WT_11_lig,WT_11_rtot)"
   ]
  },
  {
   "cell_type": "code",
   "execution_count": 28,
   "metadata": {
    "collapsed": false
   },
   "outputs": [
    {
     "data": {
      "image/png": "[encoded data removed]",
      "text/plain": [
       "<matplotlib.figure.Figure at 0x10fe150b8>"
      ]
     },
     "metadata": {},
     "output_type": "display_data"
    }
   ],
   "source": [
    "plotter.resplot(models.wyman_bestfit,fit_11_w,WT_11_lig,WT_11_rtot)"
   ]
  },
  {
   "cell_type": "code",
   "execution_count": 29,
   "metadata": {
    "collapsed": true
   },
   "outputs": [],
   "source": [
    "from mods import class_test"
   ]
  },
  {
   "cell_type": "code",
   "execution_count": 30,
   "metadata": {
    "collapsed": true
   },
   "outputs": [],
   "source": [
    "sim = class_test.WymanSim(sets=1)"
   ]
  },
  {
   "cell_type": "code",
   "execution_count": 31,
   "metadata": {
    "collapsed": false
   },
   "outputs": [
    {
     "data": {
      "text/plain": [
       "array([[ 0.00270114,  0.00538823,  0.01072068,  0.02122155,  0.04158962,\n",
       "         0.07995809,  0.14838883,  0.25922436,  0.41318706,  0.58652335,\n",
       "         0.74071453,  0.85171564,  0.92017061,  0.95850362,  0.97883397,\n",
       "         0.98930956,  0.99462754,  0.99730691],\n",
       "       [ 0.00245828,  0.00490498,  0.00976393,  0.01934623,  0.03798528,\n",
       "         0.07328746,  0.1368788 ,  0.24163521,  0.39089596,  0.5643122 ,\n",
       "         0.72336186,  0.84051004,  0.91375548,  0.95506705,  0.97705513,\n",
       "         0.98840459,  0.99417112,  0.99707771],\n",
       "       [ 0.0022312 ,  0.00445269,  0.0088668 ,  0.01758129,  0.03456848,\n",
       "         0.06687522,  0.12552496,  0.22348911,  0.36624904,  0.53744654,\n",
       "         0.70032845,  0.82445614,  0.90407663,  0.94972034,  0.97424055,\n",
       "         0.98695999,  0.99343923,  0.99670934],\n",
       "       [ 0.00199594,  0.0039838 ,  0.00793546,  0.01574391,  0.03099184,\n",
       "         0.06009095,  0.11326691,  0.20317096,  0.33694389,  0.50263769,\n",
       "         0.66730939,  0.79914398,  0.88766661,  0.94021959,  0.96910167,\n",
       "         0.98428349,  0.99207283,  0.99601891],\n",
       "       [ 0.00171326,  0.00342004,  0.00681432,  0.01352675,  0.02665525,\n",
       "         0.05178786,  0.09799311,  0.17700229,  0.29698425,  0.45079722,\n",
       "         0.61205236,  0.75104444,  0.85276486,  0.9182719 ,  0.95659371,\n",
       "         0.97757164,  0.98859096,  0.99424488],\n",
       "       [ 0.00153748,  0.00306934,  0.00611626,  0.01214392,  0.02394136,\n",
       "         0.04655704,  0.08824681,  0.15990017,  0.26974677,  0.41298363,\n",
       "         0.56767905,  0.70766657,  0.81741406,  0.89380902,  0.94169589,\n",
       "         0.9692484 ,  0.98417501,  0.99196799]])"
      ]
     },
     "execution_count": 31,
     "metadata": {},
     "output_type": "execute_result"
    }
   ],
   "source": [
    "sim.bfrac"
   ]
  },
  {
   "cell_type": "code",
   "execution_count": 32,
   "metadata": {
    "collapsed": true
   },
   "outputs": [],
   "source": [
    "fit = class_test.WymanSimFit(sim)"
   ]
  },
  {
   "cell_type": "code",
   "execution_count": 33,
   "metadata": {
    "collapsed": false
   },
   "outputs": [
    {
     "data": {
      "text/plain": [
       "array([[   3.15297694,    2.14105044,    0.18820001,  140.55866532]])"
      ]
     },
     "execution_count": 33,
     "metadata": {},
     "output_type": "execute_result"
    }
   ],
   "source": [
    "fit.ests"
   ]
  },
  {
   "cell_type": "code",
   "execution_count": 34,
   "metadata": {
    "collapsed": true
   },
   "outputs": [],
   "source": [
    "fity = class_test.WymanSimFit(sim,weight=3)"
   ]
  },
  {
   "cell_type": "code",
   "execution_count": 35,
   "metadata": {
    "collapsed": false
   },
   "outputs": [
    {
     "data": {
      "text/plain": [
       "array([[  2.96689406e+00,   1.87069449e+00,   3.36082904e-02,\n",
       "          8.43665543e+01]])"
      ]
     },
     "execution_count": 35,
     "metadata": {},
     "output_type": "execute_result"
    }
   ],
   "source": [
    "fity.ests"
   ]
  },
  {
   "cell_type": "code",
   "execution_count": 36,
   "metadata": {
    "collapsed": false
   },
   "outputs": [
    {
     "data": {
      "text/plain": [
       "<mods.class_test.WymanSim at 0x10fcc2780>"
      ]
     },
     "execution_count": 36,
     "metadata": {},
     "output_type": "execute_result"
    }
   ],
   "source": [
    "plotter.resplot(models.wyman_bestfit,fit_11,WT_11_lig,WT_11_rtot)"
   ]
  },
  {
   "cell_type": "code",
   "execution_count": 56,
   "metadata": {
    "collapsed": false
   },
   "outputs": [
    {
     "data": {
      "text/plain": [
       "[<matplotlib.lines.Line2D at 0x113a9b0b8>]"
      ]
     },
     "execution_count": 56,
     "metadata": {},
     "output_type": "execute_result"
    },
    {
     "data": {
      "image/png": "[encoded data removed]",
      "text/plain": [
       "<matplotlib.figure.Figure at 0x10f89e1d0>"
      ]
     },
     "metadata": {},
     "output_type": "display_data"
    }
   ],
   "source": [
    "plt.plot(np.concatenate(class_test.WymanSim(parms=fit.ests[0]).bfrac),fit.fits[0].fun,'.')"
   ]
  },
  {
   "cell_type": "code",
   "execution_count": 41,
   "metadata": {
    "collapsed": false
   },
   "outputs": [
    {
     "data": {
      "text/plain": [
       "array([  7.57564548e-05,   2.45807755e-04,   3.95113964e-04,\n",
       "         3.40746431e-04,   2.06938708e-03,   7.63904055e-04,\n",
       "        -1.23035666e-03,   1.03147788e-02,   6.17832738e-04,\n",
       "        -5.60877536e-04,  -2.61713910e-02,   1.65287468e-02,\n",
       "        -2.65972201e-02,   1.43654148e-02,   2.04666962e-02,\n",
       "         2.82938171e-03,   9.35204130e-03,  -1.33618391e-04,\n",
       "        -1.52061077e-04,   5.88123155e-05,  -2.65652117e-04,\n",
       "         4.78727576e-04,   6.46758931e-04,  -1.63045160e-03,\n",
       "         4.24212843e-03,  -4.39337639e-03,   1.68700117e-02,\n",
       "        -3.15296311e-02,   4.20087892e-02,  -2.28821429e-02,\n",
       "         6.21008283e-02,  -1.44004352e-02,  -7.89427860e-03,\n",
       "         4.24387510e-02,   8.23564992e-03,  -6.03245673e-03,\n",
       "        -7.37470268e-05,  -1.61606696e-04,   7.67257283e-07,\n",
       "        -2.48199016e-04,  -1.25727429e-03,  -1.56768673e-03,\n",
       "         5.24859195e-03,  -9.82244775e-03,  -8.61687975e-03,\n",
       "        -9.56543757e-03,  -1.70847733e-02,   3.05474058e-03,\n",
       "         4.28825046e-03,   1.57840505e-02,   2.63810475e-02,\n",
       "        -4.07433069e-02,  -4.96055889e-02,   3.17127726e-03,\n",
       "         1.62259360e-05,  -2.86153110e-04,  -2.30755605e-04,\n",
       "         2.93399673e-04,  -1.70255446e-03,   4.02208007e-03,\n",
       "         4.26102479e-03,   3.18475748e-03,  -2.11962805e-03,\n",
       "         5.91748478e-03,  -2.42815226e-02,   2.34765971e-02,\n",
       "         2.69291604e-02,   1.63756183e-02,  -1.29276331e-02,\n",
       "        -3.21364619e-02,   2.92812078e-02,  -7.28122041e-03,\n",
       "        -4.45132507e-05,   1.27604170e-04,  -4.21494438e-04,\n",
       "         3.78600138e-04,  -1.68155547e-04,   1.52356106e-03,\n",
       "        -1.44652741e-03,  -2.94295644e-03,   6.19772056e-04,\n",
       "         1.07579963e-02,  -1.24447446e-03,  -1.04268198e-02,\n",
       "        -3.06210046e-02,   1.37762690e-02,   5.84337337e-03,\n",
       "        -1.86518759e-02,   1.31374885e-02,   2.08853784e-02,\n",
       "         6.23858433e-05,   2.58705796e-05,   2.54971141e-04,\n",
       "        -3.78622819e-04,   6.40281016e-04,   2.63539056e-03,\n",
       "         2.87016167e-03,   4.07624163e-03,  -5.86144528e-03,\n",
       "         5.80829678e-03,  -6.48951896e-03,   4.29877307e-02,\n",
       "        -4.31523568e-02,   1.05372374e-02,  -5.39630947e-03,\n",
       "        -6.77015379e-03,   2.01874790e-02,   4.42140373e-02])"
      ]
     },
     "execution_count": 41,
     "metadata": {},
     "output_type": "execute_result"
    }
   ],
   "source": [
    "fit.fits[0].fun"
   ]
  },
  {
   "cell_type": "code",
   "execution_count": 54,
   "metadata": {
    "collapsed": false
   },
   "outputs": [
    {
     "data": {
      "text/plain": [
       "array([ 0.00275794,  0.00550133,  0.01094488,  0.02166211,  0.04244058,\n",
       "        0.08154816,  0.15118197,  0.26362871,  0.4190513 ,  0.5927644 ,\n",
       "        0.74594834,  0.85530642,  0.92231543,  0.95968259,  0.97945304,\n",
       "        0.98962689,  0.99478821,  0.99738776,  0.0024754 ,  0.00493905,\n",
       "        0.00983146,  0.01947891,  0.03824146,  0.07376588,  0.13771902,\n",
       "        0.24296297,  0.39268055,  0.56625488,  0.72504838,  0.84170939,\n",
       "        0.91449193,  0.95547902,  0.9772736 ,  0.98851717,  0.99422828,\n",
       "        0.99710651,  0.00223116,  0.00445255,  0.00886632,  0.01757946,\n",
       "        0.03456162,  0.06685033,  0.12544103,  0.22324238,  0.36566874,\n",
       "        0.53644496,  0.6991113 ,  0.82338109,  0.9033275 ,  0.94927132,\n",
       "        0.97399364,  0.98683038,  0.9933728 ,  0.99667571,  0.00199213,\n",
       "        0.00397613,  0.00791993,  0.01571211,  0.0309255 ,  0.05994883,\n",
       "        0.11295526,  0.20249462,  0.3356026 ,  0.50045119,  0.66460152,\n",
       "        0.79662423,  0.88581642,  0.93906757,  0.96845325,  0.98393864,\n",
       "        0.99189487,  0.9959285 ,  0.00171845,  0.00343034,  0.00683456,\n",
       "        0.01356593,  0.02672858,  0.0519163 ,  0.09818964,  0.17722698,\n",
       "        0.29708998,  0.45061989,  0.61168819,  0.75081316,  0.85279049,\n",
       "        0.91842527,  0.95674215,  0.97767215,  0.98864924,  0.99427625,\n",
       "        0.00155393,  0.00310212,  0.00618138,  0.01227238,  0.0241915 ,\n",
       "        0.04703222,  0.08911058,  0.16136451,  0.27202033,  0.41626353,\n",
       "        0.5721848 ,  0.71328685,  0.82322229,  0.89860442,  0.94496025,\n",
       "        0.97119168,  0.98524176,  0.99252783])"
      ]
     },
     "execution_count": 54,
     "metadata": {},
     "output_type": "execute_result"
    }
   ],
   "source": [
    "np.concatenate(class_test.WymanSim(parms=fit.ests[0]).bfrac)"
   ]
  },
  {
   "cell_type": "code",
   "execution_count": 49,
   "metadata": {
    "collapsed": false
   },
   "outputs": [
    {
     "data": {
      "text/plain": [
       "array([   3.15297694,    2.14105044,    0.18820001,  140.55866532])"
      ]
     },
     "execution_count": 49,
     "metadata": {},
     "output_type": "execute_result"
    }
   ],
   "source": [
    "fit.ests[0]"
   ]
  },
  {
   "cell_type": "code",
   "execution_count": 59,
   "metadata": {
    "collapsed": false
   },
   "outputs": [
    {
     "data": {
      "text/plain": [
       "[<matplotlib.lines.Line2D at 0x114dd8e80>]"
      ]
     },
     "execution_count": 59,
     "metadata": {},
     "output_type": "execute_result"
    },
    {
     "data": {
      "image/png": "[encoded data removed]",
      "text/plain": [
       "<matplotlib.figure.Figure at 0x114bcaac8>"
      ]
     },
     "metadata": {},
     "output_type": "display_data"
    }
   ],
   "source": [
    "plt.plot(np.concatenate(class_test.WymanSim(parms=fity.ests[0]).bfrac),fity.fits[0].fun,'.')"
   ]
  },
  {
   "cell_type": "code",
   "execution_count": null,
   "metadata": {
    "collapsed": true
   },
   "outputs": [],
   "source": []
  }
 ],
 "metadata": {
  "anaconda-cloud": {},
  "kernelspec": {
   "display_name": "Python [conda env:fitter]",
   "language": "python",
   "name": "conda-env-fitter-py"
  },
  "language_info": {
   "codemirror_mode": {
    "name": "ipython",
    "version": 3
   },
   "file_extension": ".py",
   "mimetype": "text/x-python",
   "name": "python",
   "nbconvert_exporter": "python",
   "pygments_lexer": "ipython3",
   "version": "3.5.2"
  }
 },
 "nbformat": 4,
 "nbformat_minor": 1
}
