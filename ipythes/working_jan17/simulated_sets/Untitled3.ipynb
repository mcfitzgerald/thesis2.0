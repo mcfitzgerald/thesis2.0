{
 "cells": [
  {
   "cell_type": "code",
   "execution_count": 1,
   "metadata": {
    "collapsed": false
   },
   "outputs": [],
   "source": [
    "import matplotlib.pyplot as plt\n",
    "from scipy import optimize\n",
    "from mods import prep, plotter\n",
    "%load_ext autoreload"
   ]
  },
  {
   "cell_type": "code",
   "execution_count": 2,
   "metadata": {
    "collapsed": true
   },
   "outputs": [],
   "source": [
    "import sys"
   ]
  },
  {
   "cell_type": "code",
   "execution_count": 3,
   "metadata": {
    "collapsed": false
   },
   "outputs": [
    {
     "data": {
      "text/plain": [
       "['',\n",
       " '/Users/michael/miniconda3/envs/fitter/lib/python35.zip',\n",
       " '/Users/michael/miniconda3/envs/fitter/lib/python3.5',\n",
       " '/Users/michael/miniconda3/envs/fitter/lib/python3.5/plat-darwin',\n",
       " '/Users/michael/miniconda3/envs/fitter/lib/python3.5/lib-dynload',\n",
       " '/Users/michael/miniconda3/envs/fitter/lib/python3.5/site-packages',\n",
       " '/Users/michael/miniconda3/envs/fitter/lib/python3.5/site-packages/corner-2.0.1-py3.5.egg',\n",
       " '/Users/michael/miniconda3/envs/fitter/lib/python3.5/site-packages/emcee-2.2.1-py3.5.egg',\n",
       " '/Users/michael/miniconda3/envs/fitter/lib/python3.5/site-packages/setuptools-27.2.0-py3.5.egg',\n",
       " '/Users/michael/miniconda3/envs/fitter/lib/python3.5/site-packages/IPython/extensions',\n",
       " '/Users/michael/.ipython']"
      ]
     },
     "execution_count": 3,
     "metadata": {},
     "output_type": "execute_result"
    }
   ],
   "source": [
    "sys.path"
   ]
  },
  {
   "cell_type": "code",
   "execution_count": 4,
   "metadata": {
    "collapsed": true
   },
   "outputs": [],
   "source": [
    "sys.path.append('/Users/michael/ligbind/')"
   ]
  },
  {
   "cell_type": "code",
   "execution_count": 5,
   "metadata": {
    "collapsed": false
   },
   "outputs": [],
   "source": [
    "import ligbind"
   ]
  },
  {
   "cell_type": "code",
   "execution_count": 12,
   "metadata": {
    "collapsed": false
   },
   "outputs": [],
   "source": [
    "%autoreload"
   ]
  },
  {
   "cell_type": "code",
   "execution_count": 14,
   "metadata": {
    "collapsed": false
   },
   "outputs": [
    {
     "data": {
      "text/plain": [
       "array([  1.00000000e-03,   2.00000000e-03,   4.00000000e-03,\n",
       "         8.00000000e-03,   1.60000000e-02,   3.20000000e-02,\n",
       "         6.40000000e-02,   1.28000000e-01,   2.56000000e-01,\n",
       "         5.12000000e-01,   1.02400000e+00,   2.04800000e+00,\n",
       "         4.09600000e+00,   8.19200000e+00,   1.63840000e+01,\n",
       "         3.27680000e+01,   6.55360000e+01,   1.31072000e+02])"
      ]
     },
     "execution_count": 14,
     "metadata": {},
     "output_type": "execute_result"
    }
   ],
   "source": [
    "ligbind.test_helper()"
   ]
  },
  {
   "cell_type": "code",
   "execution_count": 15,
   "metadata": {
    "collapsed": false
   },
   "outputs": [
    {
     "name": "stdout",
     "output_type": "stream",
     "text": [
      "hootie hoo! the indices match!\n",
      "hootie hoo! the indices match!\n",
      "hootie hoo! the indices match!\n"
     ]
    }
   ],
   "source": [
    "WT_08_lbl, WT_08_rtot, WT_08_lig, WT_08_sat = prep.datprep('data/EGFR_WT_08_Sat.csv','data/EGFR_WT_08_Rtot.csv')\n",
    "WT_09_lbl, WT_09_rtot, WT_09_lig, WT_09_sat = prep.datprep('data/EGFR_WT_09_Sat.csv','data/EGFR_WT_09_Rtot.csv')\n",
    "WT_11_lbl, WT_11_rtot, WT_11_lig, WT_11_sat = prep.datprep('data/EGFR_WT_11_Sat.csv','data/EGFR_WT_11_Rtot.csv')"
   ]
  },
  {
   "cell_type": "code",
   "execution_count": 16,
   "metadata": {
    "collapsed": true
   },
   "outputs": [],
   "source": [
    "import numpy as np"
   ]
  },
  {
   "cell_type": "code",
   "execution_count": 17,
   "metadata": {
    "collapsed": false
   },
   "outputs": [
    {
     "data": {
      "text/plain": [
       "array([ 0.07355359,  0.13801485,  0.26377134,  0.40632852,  0.54438588,\n",
       "        0.66491113,  0.77776779,  0.83694946,  0.89840872,  0.92554341,\n",
       "        0.9526215 ,  0.96771107,  0.97612998,  0.98370091,  0.03896304,\n",
       "        0.07218896,  0.13609918,  0.24480396,  0.32817271,  0.39463245,\n",
       "        0.51471551,  0.63346922,  0.75938656,  0.82207472,  0.8892649 ,\n",
       "        0.92130781,  0.94906444,  0.97439799,  0.98271071,  0.03333476,\n",
       "        0.06817605,  0.07484841,  0.2161526 ,  0.29158568,  0.35719244,\n",
       "        0.47036898,  0.59519277,  0.73436921,  0.79638483,  0.8751116 ,\n",
       "        0.9094885 ,  0.94254595,  0.97087868,  0.98072815,  0.04995212,\n",
       "        0.07633046,  0.14976527,  0.25266357,  0.38059525,  0.51877965,\n",
       "        0.66698142,  0.75693923,  0.84701216,  0.89135075,  0.93204039,\n",
       "        0.95505393,  0.96577702,  0.97731942,  0.0257235 ,  0.05383462,\n",
       "        0.10354365,  0.15194302,  0.21075995,  0.31184637,  0.42484694,\n",
       "        0.57061684,  0.67072036,  0.7801341 ,  0.83516995,  0.89062309,\n",
       "        0.94332666,  0.96977477])"
      ]
     },
     "execution_count": 17,
     "metadata": {},
     "output_type": "execute_result"
    }
   ],
   "source": [
    "ligbind.test_mod(np.array([5.,2.,0.2,100.]),WT_09_lig,WT_09_rtot)"
   ]
  },
  {
   "cell_type": "code",
   "execution_count": 45,
   "metadata": {
    "collapsed": false
   },
   "outputs": [
    {
     "name": "stderr",
     "output_type": "stream",
     "text": [
      "[autoreload of ligbind failed: Traceback (most recent call last):\n",
      "  File \"/Users/michael/miniconda3/envs/fitter/lib/python3.5/site-packages/IPython/extensions/autoreload.py\", line 247, in check\n",
      "    superreload(m, reload, self.old_objects)\n",
      "ImportError: cannot import name 'WymSim'\n",
      "]\n"
     ]
    }
   ],
   "source": [
    "%autoreload"
   ]
  },
  {
   "cell_type": "code",
   "execution_count": 8,
   "metadata": {
    "collapsed": false
   },
   "outputs": [],
   "source": [
    "a = ligbind.WymSim(sets=10)"
   ]
  },
  {
   "cell_type": "code",
   "execution_count": 9,
   "metadata": {
    "collapsed": false
   },
   "outputs": [
    {
     "data": {
      "text/plain": [
       "array([[[ 0.00280168,  0.00556532,  0.01056918, ...,  0.99582046,\n",
       "          0.97955464,  1.01738291],\n",
       "        [ 0.00246272,  0.00492394,  0.00985403, ...,  1.04032324,\n",
       "          0.99934072,  0.95897145],\n",
       "        [ 0.00222463,  0.00444828,  0.00882338, ...,  0.9821678 ,\n",
       "          0.9605852 ,  0.96855944],\n",
       "        [ 0.00197007,  0.00401883,  0.00779197, ...,  1.02097728,\n",
       "          0.993234  ,  0.96968948],\n",
       "        [ 0.00170204,  0.00326877,  0.00666951, ...,  0.94554617,\n",
       "          0.95629786,  0.9524222 ],\n",
       "        [ 0.00154336,  0.00302987,  0.0058747 , ...,  0.98874529,\n",
       "          0.96127212,  0.98595593]],\n",
       "\n",
       "       [[ 0.00263089,  0.00524945,  0.01056907, ...,  1.01017801,\n",
       "          1.0068226 ,  0.99576935],\n",
       "        [ 0.00242608,  0.00498899,  0.00978171, ...,  0.96166972,\n",
       "          1.01032423,  1.02155554],\n",
       "        [ 0.00219275,  0.00428702,  0.00842139, ...,  1.01562974,\n",
       "          0.97453096,  0.99527201],\n",
       "        [ 0.00185825,  0.00402008,  0.00795957, ...,  0.98816869,\n",
       "          0.93393106,  0.99000361],\n",
       "        [ 0.00176552,  0.00346746,  0.00670718, ...,  1.00836647,\n",
       "          0.9459659 ,  1.0099272 ],\n",
       "        [ 0.00156517,  0.00300083,  0.00633308, ...,  0.95248154,\n",
       "          0.94247762,  0.99595593]],\n",
       "\n",
       "       [[ 0.00274594,  0.00531425,  0.01042316, ...,  0.98827046,\n",
       "          1.00531711,  0.99497857],\n",
       "        [ 0.00254379,  0.0050722 ,  0.00993388, ...,  0.98381789,\n",
       "          0.99036746,  0.97654492],\n",
       "        [ 0.0022066 ,  0.00442162,  0.00854721, ...,  0.99279202,\n",
       "          0.99383184,  1.00317964],\n",
       "        [ 0.0019324 ,  0.00407214,  0.00793891, ...,  1.01291759,\n",
       "          1.00353628,  1.02035368],\n",
       "        [ 0.00175182,  0.00336069,  0.00711934, ...,  1.05154452,\n",
       "          0.94214719,  0.92431882],\n",
       "        [ 0.00158487,  0.0030359 ,  0.00618146, ...,  0.95341107,\n",
       "          0.93222462,  0.98762615]],\n",
       "\n",
       "       ..., \n",
       "       [[ 0.0027816 ,  0.00531397,  0.01048755, ...,  0.96507038,\n",
       "          1.00973353,  0.96913989],\n",
       "        [ 0.00233769,  0.00506947,  0.00966818, ...,  1.00574523,\n",
       "          1.00589738,  0.98000033],\n",
       "        [ 0.00220949,  0.00430432,  0.00913213, ...,  0.99803238,\n",
       "          1.0038038 ,  1.07480831],\n",
       "        [ 0.00193486,  0.00383421,  0.0075764 , ...,  0.92539951,\n",
       "          1.00294848,  0.9851216 ],\n",
       "        [ 0.0016707 ,  0.00336953,  0.00668064, ...,  0.98355548,\n",
       "          1.00550974,  0.98811889],\n",
       "        [ 0.00156978,  0.00307793,  0.00603259, ...,  0.91153608,\n",
       "          1.02404552,  0.96600168]],\n",
       "\n",
       "       [[ 0.00279913,  0.00558801,  0.01000437, ...,  0.98375211,\n",
       "          0.97442663,  1.016136  ],\n",
       "        [ 0.0024803 ,  0.0050614 ,  0.00950262, ...,  1.00324296,\n",
       "          1.01728257,  0.9945897 ],\n",
       "        [ 0.00225482,  0.00466736,  0.00864999, ...,  0.92954621,\n",
       "          1.05562693,  0.96451197],\n",
       "        [ 0.00204108,  0.00405533,  0.00788703, ...,  0.95876646,\n",
       "          0.94779274,  0.97279671],\n",
       "        [ 0.00170308,  0.00354523,  0.00650583, ...,  0.96594192,\n",
       "          0.9588053 ,  1.00017239],\n",
       "        [ 0.00146854,  0.00300109,  0.00609657, ...,  0.96268943,\n",
       "          1.00892436,  1.05257475]],\n",
       "\n",
       "       [[ 0.00272466,  0.0056202 ,  0.01064105, ...,  1.01063455,\n",
       "          1.01213778,  1.01512484],\n",
       "        [ 0.00242068,  0.00490856,  0.01016012, ...,  1.01685624,\n",
       "          1.00389996,  0.97274252],\n",
       "        [ 0.00227593,  0.00465136,  0.00859915, ...,  1.02355725,\n",
       "          0.96008544,  1.0203018 ],\n",
       "        [ 0.00202993,  0.00380969,  0.00765393, ...,  0.97639282,\n",
       "          1.01412792,  0.98219843],\n",
       "        [ 0.0017572 ,  0.00340836,  0.00690948, ...,  1.01763683,\n",
       "          1.0541713 ,  0.98479759],\n",
       "        [ 0.00156774,  0.00319694,  0.00613565, ...,  1.03094126,\n",
       "          0.99200338,  1.00939286]]])"
      ]
     },
     "execution_count": 9,
     "metadata": {},
     "output_type": "execute_result"
    }
   ],
   "source": [
    "a.meanset"
   ]
  },
  {
   "cell_type": "code",
   "execution_count": null,
   "metadata": {
    "collapsed": true
   },
   "outputs": [],
   "source": []
  },
  {
   "cell_type": "code",
   "execution_count": null,
   "metadata": {
    "collapsed": true
   },
   "outputs": [],
   "source": [
    "a."
   ]
  },
  {
   "cell_type": "code",
   "execution_count": null,
   "metadata": {
    "collapsed": true
   },
   "outputs": [],
   "source": [
    "a."
   ]
  },
  {
   "cell_type": "code",
   "execution_count": null,
   "metadata": {
    "collapsed": true
   },
   "outputs": [],
   "source": [
    "a."
   ]
  },
  {
   "cell_type": "code",
   "execution_count": null,
   "metadata": {
    "collapsed": true
   },
   "outputs": [],
   "source": [
    "a."
   ]
  }
 ],
 "metadata": {
  "anaconda-cloud": {},
  "kernelspec": {
   "display_name": "Python [conda env:fitter]",
   "language": "python",
   "name": "conda-env-fitter-py"
  },
  "language_info": {
   "codemirror_mode": {
    "name": "ipython",
    "version": 3
   },
   "file_extension": ".py",
   "mimetype": "text/x-python",
   "name": "python",
   "nbconvert_exporter": "python",
   "pygments_lexer": "ipython3",
   "version": "3.5.2"
  }
 },
 "nbformat": 4,
 "nbformat_minor": 1
}
