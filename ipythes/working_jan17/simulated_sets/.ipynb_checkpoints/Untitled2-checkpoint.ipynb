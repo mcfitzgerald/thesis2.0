{
 "cells": [
  {
   "cell_type": "code",
   "execution_count": 45,
   "metadata": {
    "collapsed": true
   },
   "outputs": [],
   "source": [
    "class BindMod:\n",
    "    \n",
    "    def kwargset(self, **kwargs):\n",
    "        for key, value in kwargs.items():\n",
    "            setattr(self, key, value)\n",
    "\n",
    "    \n",
    "    '''Takes numpy array of free ligand concentration, a model function that returns bound fraction and a dict of \n",
    "    keyword arguments --- the parameters for the specific model, and it returns a binding model object.'''\n",
    "    \n",
    "    def __init__(self,ligs,model,**kwargs):\n",
    "        self.ligs = ligs\n",
    "        self.model = model\n",
    "        \n",
    "    def kwargset(self, **kwargs):\n",
    "        for key, value in kwargs.items():\n",
    "            setattr(self, key, value)"
   ]
  },
  {
   "cell_type": "code",
   "execution_count": 23,
   "metadata": {
    "collapsed": true
   },
   "outputs": [],
   "source": [
    "def klotz1(ligs,k1):\n",
    "    '''Single binding site with association constant k1'''\n",
    "    bfrac = (k1*ligs)/(1 + k1*ligs)\n",
    "    return bfrac"
   ]
  },
  {
   "cell_type": "code",
   "execution_count": 4,
   "metadata": {
    "collapsed": true
   },
   "outputs": [],
   "source": [
    "from mods import ligtools"
   ]
  },
  {
   "cell_type": "code",
   "execution_count": 6,
   "metadata": {
    "collapsed": false
   },
   "outputs": [],
   "source": [
    "ligs = ligtools.dilser()"
   ]
  },
  {
   "cell_type": "code",
   "execution_count": 8,
   "metadata": {
    "collapsed": false
   },
   "outputs": [
    {
     "data": {
      "text/plain": [
       "array([ 0.000999  ,  0.00199601,  0.00398406,  0.00793651,  0.01574803,\n",
       "        0.03100775,  0.06015038,  0.11347518,  0.20382166,  0.33862434,\n",
       "        0.50592885,  0.67191601,  0.80376766,  0.89120975,  0.94247584,\n",
       "        0.97038616,  0.98497054,  0.99242837])"
      ]
     },
     "execution_count": 8,
     "metadata": {},
     "output_type": "execute_result"
    }
   ],
   "source": [
    "klotz1(ligs,1.0)"
   ]
  },
  {
   "cell_type": "code",
   "execution_count": 46,
   "metadata": {
    "collapsed": false
   },
   "outputs": [],
   "source": [
    "mod1 = BindMod(ligs,klotz1,parms={'k1':1.0})"
   ]
  },
  {
   "cell_type": "code",
   "execution_count": 47,
   "metadata": {
    "collapsed": false
   },
   "outputs": [
    {
     "data": {
      "text/plain": [
       "array([  1.00000000e-03,   2.00000000e-03,   4.00000000e-03,\n",
       "         8.00000000e-03,   1.60000000e-02,   3.20000000e-02,\n",
       "         6.40000000e-02,   1.28000000e-01,   2.56000000e-01,\n",
       "         5.12000000e-01,   1.02400000e+00,   2.04800000e+00,\n",
       "         4.09600000e+00,   8.19200000e+00,   1.63840000e+01,\n",
       "         3.27680000e+01,   6.55360000e+01,   1.31072000e+02])"
      ]
     },
     "execution_count": 47,
     "metadata": {},
     "output_type": "execute_result"
    }
   ],
   "source": [
    "mod1.ligs"
   ]
  },
  {
   "cell_type": "code",
   "execution_count": 49,
   "metadata": {
    "collapsed": false
   },
   "outputs": [
    {
     "data": {
      "text/plain": [
       "{'k1': 1.0}"
      ]
     },
     "execution_count": 49,
     "metadata": {},
     "output_type": "execute_result"
    }
   ],
   "source": [
    "mod1.parms"
   ]
  },
  {
   "cell_type": "code",
   "execution_count": 44,
   "metadata": {
    "collapsed": false
   },
   "outputs": [
    {
     "data": {
      "text/plain": [
       "{'k1': 1.0}"
      ]
     },
     "execution_count": 44,
     "metadata": {},
     "output_type": "execute_result"
    }
   ],
   "source": [
    "mod1.parms"
   ]
  },
  {
   "cell_type": "code",
   "execution_count": 28,
   "metadata": {
    "collapsed": false
   },
   "outputs": [
    {
     "data": {
      "text/plain": [
       "{'ligs': array([  1.00000000e-03,   2.00000000e-03,   4.00000000e-03,\n",
       "          8.00000000e-03,   1.60000000e-02,   3.20000000e-02,\n",
       "          6.40000000e-02,   1.28000000e-01,   2.56000000e-01,\n",
       "          5.12000000e-01,   1.02400000e+00,   2.04800000e+00,\n",
       "          4.09600000e+00,   8.19200000e+00,   1.63840000e+01,\n",
       "          3.27680000e+01,   6.55360000e+01,   1.31072000e+02]),\n",
       " 'model': <function __main__.klotz1>,\n",
       " 'parms': {'k1': 1.0}}"
      ]
     },
     "execution_count": 28,
     "metadata": {},
     "output_type": "execute_result"
    }
   ],
   "source": [
    "mod1.__dict__"
   ]
  },
  {
   "cell_type": "code",
   "execution_count": 36,
   "metadata": {
    "collapsed": false
   },
   "outputs": [
    {
     "ename": "TypeError",
     "evalue": "setattr expected 3 arguments, got 2",
     "output_type": "error",
     "traceback": [
      "\u001b[0;31m---------------------------------------------------------------------------\u001b[0m",
      "\u001b[0;31mTypeError\u001b[0m                                 Traceback (most recent call last)",
      "\u001b[0;32m<ipython-input-36-d9b50ab0bf25>\u001b[0m in \u001b[0;36m<module>\u001b[0;34m()\u001b[0m\n\u001b[0;32m----> 1\u001b[0;31m \u001b[0msetattr\u001b[0m\u001b[0;34m(\u001b[0m\u001b[0mmod1\u001b[0m\u001b[0;34m,\u001b[0m\u001b[0;34m(\u001b[0m\u001b[0;34m'k1'\u001b[0m\u001b[0;34m,\u001b[0m\u001b[0;36m1\u001b[0m\u001b[0;34m)\u001b[0m\u001b[0;34m)\u001b[0m\u001b[0;34m\u001b[0m\u001b[0m\n\u001b[0m",
      "\u001b[0;31mTypeError\u001b[0m: setattr expected 3 arguments, got 2"
     ]
    }
   ],
   "source": [
    "for "
   ]
  },
  {
   "cell_type": "code",
   "execution_count": 35,
   "metadata": {
    "collapsed": false
   },
   "outputs": [
    {
     "data": {
      "text/plain": [
       "1"
      ]
     },
     "execution_count": 35,
     "metadata": {},
     "output_type": "execute_result"
    }
   ],
   "source": [
    "mod1.k1"
   ]
  },
  {
   "cell_type": "code",
   "execution_count": null,
   "metadata": {
    "collapsed": true
   },
   "outputs": [],
   "source": []
  }
 ],
 "metadata": {
  "kernelspec": {
   "display_name": "Python [conda env:fitter]",
   "language": "python",
   "name": "conda-env-fitter-py"
  },
  "language_info": {
   "codemirror_mode": {
    "name": "ipython",
    "version": 3
   },
   "file_extension": ".py",
   "mimetype": "text/x-python",
   "name": "python",
   "nbconvert_exporter": "python",
   "pygments_lexer": "ipython3",
   "version": "3.5.2"
  }
 },
 "nbformat": 4,
 "nbformat_minor": 1
}
