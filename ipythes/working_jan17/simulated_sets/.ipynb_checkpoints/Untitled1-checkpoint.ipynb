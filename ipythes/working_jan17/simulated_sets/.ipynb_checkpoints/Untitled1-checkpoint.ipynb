{
 "cells": [
  {
   "cell_type": "code",
   "execution_count": 27,
   "metadata": {
    "collapsed": true
   },
   "outputs": [],
   "source": [
    "import numpy as np\n",
    "from scipy import optimize"
   ]
  },
  {
   "cell_type": "code",
   "execution_count": 16,
   "metadata": {
    "collapsed": true
   },
   "outputs": [],
   "source": [
    "parms = [3.,2.,0.1,100.]"
   ]
  },
  {
   "cell_type": "code",
   "execution_count": 3,
   "metadata": {
    "collapsed": true
   },
   "outputs": [],
   "source": [
    "k11 = parms[0]\n",
    "k21 = parms[1]\n",
    "k22 = parms[2]\n",
    "l20 = parms[3]"
   ]
  },
  {
   "cell_type": "code",
   "execution_count": 4,
   "metadata": {
    "collapsed": true
   },
   "outputs": [],
   "source": [
    "rtot = 0.005"
   ]
  },
  {
   "cell_type": "code",
   "execution_count": 8,
   "metadata": {
    "collapsed": true
   },
   "outputs": [],
   "source": [
    "def func(x,parms,rtot,lig):\n",
    "    \n",
    "    k11 = parms[0]\n",
    "    k21 = parms[1]\n",
    "    k22 = parms[2]\n",
    "    l20 = parms[3]\n",
    "\n",
    "    return x*(1 + k11*lig) + (x**2)*l20*(1 + k21*lig + k21*k22*(lig**2)) - rtot"
   ]
  },
  {
   "cell_type": "code",
   "execution_count": 28,
   "metadata": {
    "collapsed": false
   },
   "outputs": [
    {
     "data": {
      "text/plain": [
       "array([-0.0010784 , -0.001046  , -0.00099198])"
      ]
     },
     "execution_count": 28,
     "metadata": {},
     "output_type": "execute_result"
    }
   ],
   "source": [
    "func(0.003,parms,rtot,np.array([0.002,0.005,0.01]))"
   ]
  },
  {
   "cell_type": "code",
   "execution_count": 29,
   "metadata": {
    "collapsed": false
   },
   "outputs": [],
   "source": [
    "x0 = optimize.fsolve(func,0.003,args=(parms,rtot,np.array([0.002,0.005,0.01])))"
   ]
  },
  {
   "cell_type": "code",
   "execution_count": 22,
   "metadata": {
    "collapsed": false
   },
   "outputs": [
    {
     "data": {
      "text/plain": [
       "array([ 0.00364455])"
      ]
     },
     "execution_count": 22,
     "metadata": {},
     "output_type": "execute_result"
    }
   ],
   "source": [
    "x0"
   ]
  },
  {
   "cell_type": "code",
   "execution_count": 24,
   "metadata": {
    "collapsed": true
   },
   "outputs": [],
   "source": [
    "def genfunc(parm,lig,rtot):\n",
    "        '''Generates ligand binding data according to Wyman model.\n",
    "        Takes numpy arrays containing parameters k11,k21,k22,l20; \n",
    "        free ligand concentrations, and total receptor concentrations.\n",
    "        Must be iterated against ligand data, i.e., for loop required when\n",
    "        used for more than one receptor concentration. In fitting functions,\n",
    "        the datasets are concentatenated for faster operation'''\n",
    "    \n",
    "        k11 = parm[0]\n",
    "        k21 = parm[1]\n",
    "        k22 = parm[2]\n",
    "        l20 = parm[3]\n",
    "    \n",
    "        rfree = (((-1 - k11*lig)) + \\\n",
    "        (np.sqrt((np.square((1 + k11*lig)) + \\\n",
    "        8.*l20*rtot*(1 + k21*lig + k21*k22*(np.square(lig))))))) \\\n",
    "        / (4*l20*(1 + k21*lig + k21*k22*(np.square(lig))))    \n",
    "       \n",
    "        bfrac = (k11*lig + l20*k21*rfree*lig + \\\n",
    "        2*l20*k21*k22*rfree*(np.square(lig))) \\\n",
    "        / (1 + 2*l20*rfree + k11*lig + \\\n",
    "        2*l20*k21*rfree*lig + 2*l20*k21*k22*rfree*(np.square(lig)))\n",
    "    \n",
    "        return bfrac, rfree"
   ]
  },
  {
   "cell_type": "code",
   "execution_count": 25,
   "metadata": {
    "collapsed": true
   },
   "outputs": [],
   "source": [
    "def dilser(low=0.001, limit=100., dilfactor=2.):\n",
    "    '''returns a numpy array dilution series from low to limit'''\n",
    "    #replace this with a generator/iterator someday\n",
    "    a = [low]\n",
    "    while a[-1] <= limit:\n",
    "        a.append(a[len(a)-1]*dilfactor)       \n",
    "    return np.array(a)"
   ]
  },
  {
   "cell_type": "code",
   "execution_count": 30,
   "metadata": {
    "collapsed": false
   },
   "outputs": [],
   "source": [
    "ligs = dilser()"
   ]
  },
  {
   "cell_type": "code",
   "execution_count": 31,
   "metadata": {
    "collapsed": false
   },
   "outputs": [
    {
     "data": {
      "text/plain": [
       "array([  1.00000000e-03,   2.00000000e-03,   4.00000000e-03,\n",
       "         8.00000000e-03,   1.60000000e-02,   3.20000000e-02,\n",
       "         6.40000000e-02,   1.28000000e-01,   2.56000000e-01,\n",
       "         5.12000000e-01,   1.02400000e+00,   2.04800000e+00,\n",
       "         4.09600000e+00,   8.19200000e+00,   1.63840000e+01,\n",
       "         3.27680000e+01,   6.55360000e+01,   1.31072000e+02])"
      ]
     },
     "execution_count": 31,
     "metadata": {},
     "output_type": "execute_result"
    }
   ],
   "source": [
    "ligs"
   ]
  },
  {
   "cell_type": "code",
   "execution_count": 78,
   "metadata": {
    "collapsed": false
   },
   "outputs": [],
   "source": [
    "bfrac,rfree = genfunc(parms,ligs,0.005)"
   ]
  },
  {
   "cell_type": "code",
   "execution_count": 34,
   "metadata": {
    "collapsed": false
   },
   "outputs": [
    {
     "data": {
      "text/plain": [
       "18"
      ]
     },
     "execution_count": 34,
     "metadata": {},
     "output_type": "execute_result"
    }
   ],
   "source": [
    "ligs.size"
   ]
  },
  {
   "cell_type": "code",
   "execution_count": 52,
   "metadata": {
    "collapsed": false
   },
   "outputs": [],
   "source": [
    "guess = np.ones(18)/10"
   ]
  },
  {
   "cell_type": "code",
   "execution_count": 79,
   "metadata": {
    "collapsed": false
   },
   "outputs": [],
   "source": [
    "x0 = optimize.fsolve(func,guess,args=(parms,0.005,ligs))"
   ]
  },
  {
   "cell_type": "code",
   "execution_count": 80,
   "metadata": {
    "collapsed": false
   },
   "outputs": [
    {
     "data": {
      "text/plain": [
       "array([  3.65238383e-03,   3.64454658e-03,   3.62897015e-03,\n",
       "         3.59820400e-03,   3.53817527e-03,   3.42380607e-03,\n",
       "         3.21549381e-03,   2.86556859e-03,   2.35119097e-03,\n",
       "         1.72731571e-03,   1.12639330e-03,   6.63334113e-04,\n",
       "         3.63783074e-04,   1.91097240e-04,   9.80214423e-05,\n",
       "         4.96521191e-05,   2.49894275e-05,   1.25359408e-05])"
      ]
     },
     "execution_count": 80,
     "metadata": {},
     "output_type": "execute_result"
    }
   ],
   "source": [
    "x0"
   ]
  },
  {
   "cell_type": "code",
   "execution_count": 55,
   "metadata": {
    "collapsed": true
   },
   "outputs": [],
   "source": [
    "import matplotlib.pyplot as plt"
   ]
  },
  {
   "cell_type": "code",
   "execution_count": 57,
   "metadata": {
    "collapsed": false
   },
   "outputs": [],
   "source": [
    "%matplotlib inline"
   ]
  },
  {
   "cell_type": "code",
   "execution_count": 59,
   "metadata": {
    "collapsed": false
   },
   "outputs": [
    {
     "data": {
      "text/plain": [
       "[<matplotlib.lines.Line2D at 0x10edf2cf8>]"
      ]
     },
     "execution_count": 59,
     "metadata": {},
     "output_type": "execute_result"
    },
    {
     "data": {
      "image/png": "[encoded data removed]",
      "text/plain": [
       "<matplotlib.figure.Figure at 0x10bfa52b0>"
      ]
     },
     "metadata": {},
     "output_type": "display_data"
    }
   ],
   "source": [
    "plt.semilogx(ligs,x0,'.')"
   ]
  },
  {
   "cell_type": "code",
   "execution_count": 61,
   "metadata": {
    "collapsed": false
   },
   "outputs": [],
   "source": [
    "x1 = optimize.root(func,guess,args=(parms,0.005,ligs))"
   ]
  },
  {
   "cell_type": "code",
   "execution_count": 64,
   "metadata": {
    "collapsed": false
   },
   "outputs": [
    {
     "data": {
      "text/plain": [
       "array([  3.65238383e-03,   3.64454658e-03,   3.62897015e-03,\n",
       "         3.59820400e-03,   3.53817527e-03,   3.42380607e-03,\n",
       "         3.21549381e-03,   2.86556859e-03,   2.35119097e-03,\n",
       "         1.72731571e-03,   1.12639330e-03,   6.63334113e-04,\n",
       "         3.63783074e-04,   1.91097240e-04,   9.80214423e-05,\n",
       "         4.96521191e-05,   2.49894275e-05,   1.25359408e-05])"
      ]
     },
     "execution_count": 64,
     "metadata": {},
     "output_type": "execute_result"
    }
   ],
   "source": [
    "x1.x"
   ]
  },
  {
   "cell_type": "code",
   "execution_count": 86,
   "metadata": {
    "collapsed": false
   },
   "outputs": [],
   "source": [
    "x1 = optimize.root(func,[0.01,-.01],args=(parms,0.005,ligs[8]))"
   ]
  },
  {
   "cell_type": "code",
   "execution_count": 87,
   "metadata": {
    "collapsed": false
   },
   "outputs": [
    {
     "data": {
      "text/plain": [
       "array([ 0.00235119, -0.01394382])"
      ]
     },
     "execution_count": 87,
     "metadata": {},
     "output_type": "execute_result"
    }
   ],
   "source": [
    "x1.x"
   ]
  },
  {
   "cell_type": "code",
   "execution_count": 83,
   "metadata": {
    "collapsed": false
   },
   "outputs": [
    {
     "data": {
      "text/plain": [
       "[<matplotlib.lines.Line2D at 0x10f9c8c88>]"
      ]
     },
     "execution_count": 83,
     "metadata": {},
     "output_type": "execute_result"
    },
    {
     "data": {
      "image/png": "[encoded data removed]",
      "text/plain": [
       "<matplotlib.figure.Figure at 0x10f441e48>"
      ]
     },
     "metadata": {},
     "output_type": "display_data"
    }
   ],
   "source": [
    "plt.loglog(rfree,x0,'.')"
   ]
  },
  {
   "cell_type": "code",
   "execution_count": 88,
   "metadata": {
    "collapsed": true
   },
   "outputs": [],
   "source": [
    "class Foo:\n",
    "  def setAllWithKwArgs(self, **kwargs):\n",
    "    for key, value in kwargs.items():\n",
    "      setattr(self, key, value)"
   ]
  },
  {
   "cell_type": "code",
   "execution_count": 90,
   "metadata": {
    "collapsed": false
   },
   "outputs": [],
   "source": [
    "g = Foo()"
   ]
  },
  {
   "cell_type": "code",
   "execution_count": 94,
   "metadata": {
    "collapsed": false
   },
   "outputs": [],
   "source": [
    "g.setAllWithKwArgs(h1=3)"
   ]
  },
  {
   "cell_type": "code",
   "execution_count": 95,
   "metadata": {
    "collapsed": false
   },
   "outputs": [
    {
     "data": {
      "text/plain": [
       "3"
      ]
     },
     "execution_count": 95,
     "metadata": {},
     "output_type": "execute_result"
    }
   ],
   "source": [
    "g.h1"
   ]
  },
  {
   "cell_type": "code",
   "execution_count": null,
   "metadata": {
    "collapsed": true
   },
   "outputs": [],
   "source": []
  }
 ],
 "metadata": {
  "anaconda-cloud": {},
  "kernelspec": {
   "display_name": "Python [conda env:fitter]",
   "language": "python",
   "name": "conda-env-fitter-py"
  },
  "language_info": {
   "codemirror_mode": {
    "name": "ipython",
    "version": 3
   },
   "file_extension": ".py",
   "mimetype": "text/x-python",
   "name": "python",
   "nbconvert_exporter": "python",
   "pygments_lexer": "ipython3",
   "version": "3.5.2"
  }
 },
 "nbformat": 4,
 "nbformat_minor": 1
}
