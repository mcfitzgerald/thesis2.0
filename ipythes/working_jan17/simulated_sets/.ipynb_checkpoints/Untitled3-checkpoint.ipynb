{
 "cells": [
  {
   "cell_type": "code",
   "execution_count": 1,
   "metadata": {
    "collapsed": false
   },
   "outputs": [],
   "source": [
    "import matplotlib.pyplot as plt\n",
    "from scipy import optimize\n",
    "from mods import prep, plotter\n",
    "%load_ext autoreload"
   ]
  },
  {
   "cell_type": "code",
   "execution_count": 2,
   "metadata": {
    "collapsed": true
   },
   "outputs": [],
   "source": [
    "import sys"
   ]
  },
  {
   "cell_type": "code",
   "execution_count": 3,
   "metadata": {
    "collapsed": false
   },
   "outputs": [
    {
     "data": {
      "text/plain": [
       "['',\n",
       " '/Users/michael/miniconda3/envs/fitter/lib/python35.zip',\n",
       " '/Users/michael/miniconda3/envs/fitter/lib/python3.5',\n",
       " '/Users/michael/miniconda3/envs/fitter/lib/python3.5/plat-darwin',\n",
       " '/Users/michael/miniconda3/envs/fitter/lib/python3.5/lib-dynload',\n",
       " '/Users/michael/miniconda3/envs/fitter/lib/python3.5/site-packages',\n",
       " '/Users/michael/miniconda3/envs/fitter/lib/python3.5/site-packages/corner-2.0.1-py3.5.egg',\n",
       " '/Users/michael/miniconda3/envs/fitter/lib/python3.5/site-packages/emcee-2.2.1-py3.5.egg',\n",
       " '/Users/michael/miniconda3/envs/fitter/lib/python3.5/site-packages/setuptools-27.2.0-py3.5.egg',\n",
       " '/Users/michael/miniconda3/envs/fitter/lib/python3.5/site-packages/IPython/extensions',\n",
       " '/Users/michael/.ipython']"
      ]
     },
     "execution_count": 3,
     "metadata": {},
     "output_type": "execute_result"
    }
   ],
   "source": [
    "sys.path"
   ]
  },
  {
   "cell_type": "code",
   "execution_count": 4,
   "metadata": {
    "collapsed": true
   },
   "outputs": [],
   "source": [
    "sys.path.append('./ligbind/')"
   ]
  },
  {
   "cell_type": "code",
   "execution_count": 5,
   "metadata": {
    "collapsed": false
   },
   "outputs": [],
   "source": [
    "import ligbind"
   ]
  },
  {
   "cell_type": "code",
   "execution_count": 22,
   "metadata": {
    "collapsed": false
   },
   "outputs": [],
   "source": [
    "%autoreload"
   ]
  },
  {
   "cell_type": "code",
   "execution_count": 14,
   "metadata": {
    "collapsed": false
   },
   "outputs": [
    {
     "data": {
      "text/plain": [
       "array([  1.00000000e-03,   2.00000000e-03,   4.00000000e-03,\n",
       "         8.00000000e-03,   1.60000000e-02,   3.20000000e-02,\n",
       "         6.40000000e-02,   1.28000000e-01,   2.56000000e-01,\n",
       "         5.12000000e-01,   1.02400000e+00,   2.04800000e+00,\n",
       "         4.09600000e+00,   8.19200000e+00,   1.63840000e+01,\n",
       "         3.27680000e+01,   6.55360000e+01,   1.31072000e+02])"
      ]
     },
     "execution_count": 14,
     "metadata": {},
     "output_type": "execute_result"
    }
   ],
   "source": [
    "ligbind.helpers.dilser()"
   ]
  },
  {
   "cell_type": "code",
   "execution_count": 11,
   "metadata": {
    "collapsed": false
   },
   "outputs": [
    {
     "name": "stdout",
     "output_type": "stream",
     "text": [
      "hootie hoo! the indices match!\n",
      "hootie hoo! the indices match!\n",
      "hootie hoo! the indices match!\n"
     ]
    }
   ],
   "source": [
    "WT_08_lbl, WT_08_rtot, WT_08_lig, WT_08_sat = prep.datprep('data/EGFR_WT_08_Sat.csv','data/EGFR_WT_08_Rtot.csv')\n",
    "WT_09_lbl, WT_09_rtot, WT_09_lig, WT_09_sat = prep.datprep('data/EGFR_WT_09_Sat.csv','data/EGFR_WT_09_Rtot.csv')\n",
    "WT_11_lbl, WT_11_rtot, WT_11_lig, WT_11_sat = prep.datprep('data/EGFR_WT_11_Sat.csv','data/EGFR_WT_11_Rtot.csv')"
   ]
  },
  {
   "cell_type": "code",
   "execution_count": 9,
   "metadata": {
    "collapsed": true
   },
   "outputs": [],
   "source": [
    "import numpy as np"
   ]
  },
  {
   "cell_type": "code",
   "execution_count": 32,
   "metadata": {
    "collapsed": false
   },
   "outputs": [],
   "source": [
    "a = ligbind.WymSim(sets=1)"
   ]
  },
  {
   "cell_type": "code",
   "execution_count": 37,
   "metadata": {
    "collapsed": false
   },
   "outputs": [
    {
     "data": {
      "text/plain": [
       "(6, 18)"
      ]
     },
     "execution_count": 37,
     "metadata": {},
     "output_type": "execute_result"
    }
   ],
   "source": [
    "a.meanset[0].shape"
   ]
  },
  {
   "cell_type": "code",
   "execution_count": 35,
   "metadata": {
    "collapsed": false
   },
   "outputs": [
    {
     "data": {
      "text/plain": [
       "(6, 18)"
      ]
     },
     "execution_count": 35,
     "metadata": {},
     "output_type": "execute_result"
    }
   ],
   "source": [
    "a.ligs.shape"
   ]
  },
  {
   "cell_type": "code",
   "execution_count": 39,
   "metadata": {
    "collapsed": false
   },
   "outputs": [
    {
     "data": {
      "image/png": "[encoded data removed]",
      "text/plain": [
       "<matplotlib.figure.Figure at 0x10dc54358>"
      ]
     },
     "metadata": {},
     "output_type": "display_data"
    }
   ],
   "source": [
    "%matplotlib inline\n",
    "plotter.semlog(a.ligs,a.meanset[0])"
   ]
  },
  {
   "cell_type": "code",
   "execution_count": 42,
   "metadata": {
    "collapsed": false
   },
   "outputs": [
    {
     "data": {
      "text/plain": [
       "array([ 0.04603855,  0.07301927,  0.1115632 ,  0.1925054 ,  0.2426124 ,\n",
       "        0.3466809 ,  0.4411135 ,  0.5066381 ,  0.7147752 ,  0.8130621 ,\n",
       "        0.8535332 ,  0.8901499 ,  0.8997859 ,  0.9460385 ,  0.9961456 ,\n",
       "        0.03062099,  0.05952891,  0.09614561,  0.1732334 ,  0.2310493 ,\n",
       "        0.337045  ,  0.4565311 ,  0.5683084 ,  0.6588865 ,  0.8053533 ,\n",
       "        0.8766595 ,  0.9171307 ,  0.9633833 ,  0.04411135,  0.1038544 ,\n",
       "        0.1443255 ,  0.3158458 ,  0.4507495 ,  0.5528908 ,  0.6685225 ,\n",
       "        0.7957174 ,  0.8689507 ,  0.9132763 ,  0.9094219 ,  0.9730192 ,\n",
       "        0.9710921 ,  0.07301927,  0.1115632 ,  0.1578158 ,  0.3023555 ,\n",
       "        0.4141328 ,  0.5278373 ,  0.6087794 ,  0.7494647 ,  0.8554604 ,\n",
       "        0.8381156 ,  0.9113491 ,  0.9576017 ,  0.9441114 ,  0.09421842,\n",
       "        0.1501071 ,  0.1963597 ,  0.2869379 ,  0.3871521 ,  0.466167  ,\n",
       "        0.5875803 ,  0.6955032 ,  0.7571734 ,  0.7995718 ,  0.9229122 ,\n",
       "        0.9248394 ,  0.03640257,  0.04603855,  0.09229122,  0.1520343 ,\n",
       "        0.2137045 ,  0.2657388 ,  0.3794433 ,  0.4777302 ,  0.5721628 ,\n",
       "        0.6569593 ,  0.7301927 ,  0.7802998 ,  0.8381156 ,  0.8766595 ,\n",
       "        0.9614561 ])"
      ]
     },
     "execution_count": 42,
     "metadata": {},
     "output_type": "execute_result"
    }
   ],
   "source": [
    "np.concatenate(WT_08_sat)"
   ]
  },
  {
   "cell_type": "code",
   "execution_count": 49,
   "metadata": {
    "collapsed": false
   },
   "outputs": [
    {
     "data": {
      "text/plain": [
       "array([ 0.00275204,  0.0054975 ,  0.01075104,  0.02142519,  0.04041303,\n",
       "        0.07753963,  0.14511148,  0.25079798,  0.4114257 ,  0.6080768 ,\n",
       "        0.73089188,  0.82647694,  0.93626174,  0.96059567,  0.93467849,\n",
       "        1.0387988 ,  0.99230091,  0.98886533,  0.00235985,  0.00457621,\n",
       "        0.01011954,  0.01994094,  0.03570893,  0.07442621,  0.13673512,\n",
       "        0.2411371 ,  0.36436185,  0.56864448,  0.74241057,  0.82113892,\n",
       "        0.99109226,  0.93140854,  0.98256918,  0.99018203,  0.98494978,\n",
       "        0.96709139,  0.00229095,  0.00415647,  0.00851246,  0.01779573,\n",
       "        0.03340771,  0.06889247,  0.1258995 ,  0.21114371,  0.35694404,\n",
       "        0.55238214,  0.70732463,  0.80849687,  0.93229939,  0.97604329,\n",
       "        0.97739057,  0.99952119,  1.00706749,  1.07608996,  0.00195741,\n",
       "        0.00400689,  0.00801982,  0.01612255,  0.02984877,  0.05711411,\n",
       "        0.11324703,  0.20266566,  0.33629489,  0.50511531,  0.6765101 ,\n",
       "        0.80603674,  0.88120243,  0.9295859 ,  0.93167166,  1.00382655,\n",
       "        1.0263792 ,  0.99090068,  0.00178102,  0.00341244,  0.00659245,\n",
       "        0.01325159,  0.02577925,  0.05037186,  0.09328083,  0.17640748,\n",
       "        0.31009907,  0.4657356 ,  0.643475  ,  0.75364688,  0.90126331,\n",
       "        0.93219113,  0.94698021,  0.99662136,  1.00253114,  0.99839773,\n",
       "        0.0015969 ,  0.00311243,  0.00613246,  0.0122464 ,  0.02487384,\n",
       "        0.0466367 ,  0.09066573,  0.15379631,  0.25471262,  0.40626407,\n",
       "        0.58533931,  0.69933342,  0.84373216,  0.87426628,  1.00286783,\n",
       "        0.96348174,  1.01795402,  0.94640805])"
      ]
     },
     "execution_count": 49,
     "metadata": {},
     "output_type": "execute_result"
    }
   ],
   "source": [
    "np.concatenate(a.meanset[0])"
   ]
  },
  {
   "cell_type": "code",
   "execution_count": 53,
   "metadata": {
    "collapsed": true
   },
   "outputs": [],
   "source": [
    "%autoreload"
   ]
  },
  {
   "cell_type": "code",
   "execution_count": 54,
   "metadata": {
    "collapsed": false
   },
   "outputs": [
    {
     "data": {
      "text/plain": [
       "array([[ 0.00270114,  0.00538823,  0.01072068,  0.02122155,  0.04158962,\n",
       "         0.07995809,  0.14838883,  0.25922436,  0.41318706,  0.58652335,\n",
       "         0.74071453,  0.85171564,  0.92017061,  0.95850362,  0.97883397,\n",
       "         0.98930956,  0.99462754,  0.99730691],\n",
       "       [ 0.00245828,  0.00490498,  0.00976393,  0.01934623,  0.03798528,\n",
       "         0.07328746,  0.1368788 ,  0.24163521,  0.39089596,  0.5643122 ,\n",
       "         0.72336186,  0.84051004,  0.91375548,  0.95506705,  0.97705513,\n",
       "         0.98840459,  0.99417112,  0.99707771],\n",
       "       [ 0.0022312 ,  0.00445269,  0.0088668 ,  0.01758129,  0.03456848,\n",
       "         0.06687522,  0.12552496,  0.22348911,  0.36624904,  0.53744654,\n",
       "         0.70032845,  0.82445614,  0.90407663,  0.94972034,  0.97424055,\n",
       "         0.98695999,  0.99343923,  0.99670934],\n",
       "       [ 0.00199594,  0.0039838 ,  0.00793546,  0.01574391,  0.03099184,\n",
       "         0.06009095,  0.11326691,  0.20317096,  0.33694389,  0.50263769,\n",
       "         0.66730939,  0.79914398,  0.88766661,  0.94021959,  0.96910167,\n",
       "         0.98428349,  0.99207283,  0.99601891],\n",
       "       [ 0.00171326,  0.00342004,  0.00681432,  0.01352675,  0.02665525,\n",
       "         0.05178786,  0.09799311,  0.17700229,  0.29698425,  0.45079722,\n",
       "         0.61205236,  0.75104444,  0.85276486,  0.9182719 ,  0.95659371,\n",
       "         0.97757164,  0.98859096,  0.99424488],\n",
       "       [ 0.00153748,  0.00306934,  0.00611626,  0.01214392,  0.02394136,\n",
       "         0.04655704,  0.08824681,  0.15990017,  0.26974677,  0.41298363,\n",
       "         0.56767905,  0.70766657,  0.81741406,  0.89380902,  0.94169589,\n",
       "         0.9692484 ,  0.98417501,  0.99196799]])"
      ]
     },
     "execution_count": 54,
     "metadata": {},
     "output_type": "execute_result"
    }
   ],
   "source": [
    "a.bfrac"
   ]
  },
  {
   "cell_type": "code",
   "execution_count": 55,
   "metadata": {
    "collapsed": false
   },
   "outputs": [
    {
     "ename": "ValueError",
     "evalue": "operands could not be broadcast together with shapes (108,) (6,18) ",
     "output_type": "error",
     "traceback": [
      "\u001b[0;31m---------------------------------------------------------------------------\u001b[0m",
      "\u001b[0;31mValueError\u001b[0m                                Traceback (most recent call last)",
      "\u001b[0;32m<ipython-input-55-a2fe47d0f39f>\u001b[0m in \u001b[0;36m<module>\u001b[0;34m()\u001b[0m\n\u001b[0;32m----> 1\u001b[0;31m \u001b[0mligbind\u001b[0m\u001b[0;34m.\u001b[0m\u001b[0mhelpers\u001b[0m\u001b[0;34m.\u001b[0m\u001b[0mobjfunc\u001b[0m\u001b[0;34m(\u001b[0m\u001b[0ma\u001b[0m\u001b[0;34m.\u001b[0m\u001b[0mmodfunc\u001b[0m\u001b[0;34m,\u001b[0m\u001b[0ma\u001b[0m\u001b[0;34m.\u001b[0m\u001b[0mparms\u001b[0m\u001b[0;34m,\u001b[0m\u001b[0ma\u001b[0m\u001b[0;34m.\u001b[0m\u001b[0mligs\u001b[0m\u001b[0;34m,\u001b[0m\u001b[0ma\u001b[0m\u001b[0;34m.\u001b[0m\u001b[0mrtot\u001b[0m\u001b[0;34m,\u001b[0m\u001b[0ma\u001b[0m\u001b[0;34m.\u001b[0m\u001b[0mmeanset\u001b[0m\u001b[0;34m)\u001b[0m\u001b[0;34m\u001b[0m\u001b[0m\n\u001b[0m",
      "\u001b[0;32m/Users/michael/thesis2.0/ipythes/working_jan17/simulated_sets/ligbind/ligbind/helpers.py\u001b[0m in \u001b[0;36mobjfunc\u001b[0;34m(modfunc, parm, lig, rtot, data, err)\u001b[0m\n\u001b[1;32m     14\u001b[0m     \u001b[0mdata\u001b[0m \u001b[0;34m=\u001b[0m \u001b[0mnp\u001b[0m\u001b[0;34m.\u001b[0m\u001b[0mconcatenate\u001b[0m\u001b[0;34m(\u001b[0m\u001b[0mdata\u001b[0m\u001b[0;34m)\u001b[0m\u001b[0;34m\u001b[0m\u001b[0m\n\u001b[1;32m     15\u001b[0m     \u001b[0;32mif\u001b[0m \u001b[0merr\u001b[0m \u001b[0;32mis\u001b[0m \u001b[0;32mNone\u001b[0m\u001b[0;34m:\u001b[0m\u001b[0;34m\u001b[0m\u001b[0m\n\u001b[0;32m---> 16\u001b[0;31m         \u001b[0;32mreturn\u001b[0m \u001b[0;34m(\u001b[0m\u001b[0mmodfunc\u001b[0m\u001b[0;34m(\u001b[0m\u001b[0mparm\u001b[0m\u001b[0;34m,\u001b[0m\u001b[0mlig\u001b[0m\u001b[0;34m,\u001b[0m\u001b[0mrtot\u001b[0m\u001b[0;34m)\u001b[0m \u001b[0;34m-\u001b[0m \u001b[0mdata\u001b[0m\u001b[0;34m)\u001b[0m\u001b[0;34m\u001b[0m\u001b[0m\n\u001b[0m\u001b[1;32m     17\u001b[0m     \u001b[0;32melse\u001b[0m\u001b[0;34m:\u001b[0m\u001b[0;34m\u001b[0m\u001b[0m\n\u001b[1;32m     18\u001b[0m         \u001b[0;32mreturn\u001b[0m \u001b[0;34m(\u001b[0m\u001b[0mmodfunc\u001b[0m\u001b[0;34m(\u001b[0m\u001b[0mparm\u001b[0m\u001b[0;34m,\u001b[0m\u001b[0mlig\u001b[0m\u001b[0;34m,\u001b[0m\u001b[0mrtot\u001b[0m\u001b[0;34m)\u001b[0m \u001b[0;34m-\u001b[0m \u001b[0mdata\u001b[0m\u001b[0;34m)\u001b[0m\u001b[0;34m/\u001b[0m\u001b[0;34m(\u001b[0m\u001b[0mdata\u001b[0m\u001b[0;34m)\u001b[0m\u001b[0;34m\u001b[0m\u001b[0m\n",
      "\u001b[0;31mValueError\u001b[0m: operands could not be broadcast together with shapes (108,) (6,18) "
     ]
    }
   ],
   "source": [
    "ligbind.helpers.objfunc(a.modfunc,a.parms,a.ligs,a.rtot,a.meanset)"
   ]
  },
  {
   "cell_type": "code",
   "execution_count": 57,
   "metadata": {
    "collapsed": false
   },
   "outputs": [
    {
     "name": "stdout",
     "output_type": "stream",
     "text": [
      "Help on function wymfunc in module ligbind.models:\n",
      "\n",
      "wymfunc(parm, lig, rtot)\n",
      "    Model function for dimerizing, single-site receptors as derived in \n",
      "    (Wyman and Gill, Binding and Linkage, 1990) and used by \n",
      "    (Macdonald and Pike, ...EGF-binding...negative cooperativity...aggregating system, 2008).\n",
      "    Takes numpy array of parameters [k11,k21,k22,l20], numpy array of free ligand concentrations, \n",
      "    and total receptor concentration. Returns the fraction of receptor bound to ligand. \n",
      "    \n",
      "    To generate a data set, iterate over an array of desired receptor concentrations, e.g.: \n",
      "    [wymfunc(parm,lig,i) for i in array_of_rtots]\n",
      "    \n",
      "    For use in curve fitting an objective function for use with scipy.optimize.least_squares \n",
      "    is readily constructed as: (wymfun(parm_guess,lig,rtot) - actual_data)\n",
      "\n"
     ]
    }
   ],
   "source": [
    "help(a.modfunc)"
   ]
  },
  {
   "cell_type": "code",
   "execution_count": 58,
   "metadata": {
    "collapsed": false,
    "scrolled": true
   },
   "outputs": [
    {
     "data": {
      "text/plain": [
       "array([ 0.00270114,  0.00538823,  0.01072068,  0.02122155,  0.04158962,\n",
       "        0.07995809,  0.14838883,  0.25922436,  0.41318706,  0.58652335,\n",
       "        0.74071453,  0.85171564,  0.92017061,  0.95850362,  0.97883397,\n",
       "        0.98930956,  0.99462754,  0.99730691,  0.00245828,  0.00490498,\n",
       "        0.00976393,  0.01934623,  0.03798528,  0.07328746,  0.1368788 ,\n",
       "        0.24163521,  0.39089596,  0.5643122 ,  0.72336186,  0.84051004,\n",
       "        0.91375548,  0.95506705,  0.97705513,  0.98840459,  0.99417112,\n",
       "        0.99707771,  0.0022312 ,  0.00445269,  0.0088668 ,  0.01758129,\n",
       "        0.03456848,  0.06687522,  0.12552496,  0.22348911,  0.36624904,\n",
       "        0.53744654,  0.70032845,  0.82445614,  0.90407663,  0.94972034,\n",
       "        0.97424055,  0.98695999,  0.99343923,  0.99670934,  0.00199594,\n",
       "        0.0039838 ,  0.00793546,  0.01574391,  0.03099184,  0.06009095,\n",
       "        0.11326691,  0.20317096,  0.33694389,  0.50263769,  0.66730939,\n",
       "        0.79914398,  0.88766661,  0.94021959,  0.96910167,  0.98428349,\n",
       "        0.99207283,  0.99601891,  0.00171326,  0.00342004,  0.00681432,\n",
       "        0.01352675,  0.02665525,  0.05178786,  0.09799311,  0.17700229,\n",
       "        0.29698425,  0.45079722,  0.61205236,  0.75104444,  0.85276486,\n",
       "        0.9182719 ,  0.95659371,  0.97757164,  0.98859096,  0.99424488,\n",
       "        0.00153748,  0.00306934,  0.00611626,  0.01214392,  0.02394136,\n",
       "        0.04655704,  0.08824681,  0.15990017,  0.26974677,  0.41298363,\n",
       "        0.56767905,  0.70766657,  0.81741406,  0.89380902,  0.94169589,\n",
       "        0.9692484 ,  0.98417501,  0.99196799])"
      ]
     },
     "execution_count": 58,
     "metadata": {},
     "output_type": "execute_result"
    }
   ],
   "source": [
    "a.modfunc(a.parms,a.ligs,a.rtot)"
   ]
  },
  {
   "cell_type": "code",
   "execution_count": 59,
   "metadata": {
    "collapsed": true
   },
   "outputs": [],
   "source": [
    "%autoreload"
   ]
  },
  {
   "cell_type": "code",
   "execution_count": 89,
   "metadata": {
    "collapsed": false
   },
   "outputs": [
    {
     "ename": "ValueError",
     "evalue": "zero-dimensional arrays cannot be concatenated",
     "output_type": "error",
     "traceback": [
      "\u001b[0;31m---------------------------------------------------------------------------\u001b[0m",
      "\u001b[0;31mValueError\u001b[0m                                Traceback (most recent call last)",
      "\u001b[0;32m<ipython-input-89-11007f8f2405>\u001b[0m in \u001b[0;36m<module>\u001b[0;34m()\u001b[0m\n\u001b[0;32m----> 1\u001b[0;31m \u001b[0mligbind\u001b[0m\u001b[0;34m.\u001b[0m\u001b[0mhelpers\u001b[0m\u001b[0;34m.\u001b[0m\u001b[0mobjfunc\u001b[0m\u001b[0;34m(\u001b[0m\u001b[0ma\u001b[0m\u001b[0;34m.\u001b[0m\u001b[0mmodfunc\u001b[0m\u001b[0;34m,\u001b[0m\u001b[0ma\u001b[0m\u001b[0;34m.\u001b[0m\u001b[0mparms\u001b[0m\u001b[0;34m,\u001b[0m\u001b[0ma\u001b[0m\u001b[0;34m.\u001b[0m\u001b[0mligs\u001b[0m\u001b[0;34m,\u001b[0m\u001b[0ma\u001b[0m\u001b[0;34m.\u001b[0m\u001b[0mrtot\u001b[0m\u001b[0;34m,\u001b[0m\u001b[0ma\u001b[0m\u001b[0;34m.\u001b[0m\u001b[0mmeanset\u001b[0m\u001b[0;34m[\u001b[0m\u001b[0;36m0\u001b[0m\u001b[0;34m]\u001b[0m\u001b[0;34m)\u001b[0m\u001b[0;34m\u001b[0m\u001b[0m\n\u001b[0m",
      "\u001b[0;32m/Users/michael/thesis2.0/ipythes/working_jan17/simulated_sets/ligbind/ligbind/helpers.py\u001b[0m in \u001b[0;36mobjfunc\u001b[0;34m(parm, lig, rtot, data, modfunc, err)\u001b[0m\n\u001b[1;32m     12\u001b[0m \u001b[0;34m\u001b[0m\u001b[0m\n\u001b[1;32m     13\u001b[0m \u001b[0;32mdef\u001b[0m \u001b[0mobjfunc\u001b[0m\u001b[0;34m(\u001b[0m\u001b[0mparm\u001b[0m\u001b[0;34m,\u001b[0m\u001b[0mlig\u001b[0m\u001b[0;34m,\u001b[0m\u001b[0mrtot\u001b[0m\u001b[0;34m,\u001b[0m\u001b[0mdata\u001b[0m\u001b[0;34m,\u001b[0m\u001b[0mmodfunc\u001b[0m\u001b[0;34m,\u001b[0m\u001b[0merr\u001b[0m\u001b[0;34m=\u001b[0m\u001b[0;32mNone\u001b[0m\u001b[0;34m)\u001b[0m\u001b[0;34m:\u001b[0m\u001b[0;34m\u001b[0m\u001b[0m\n\u001b[0;32m---> 14\u001b[0;31m     \u001b[0mdata\u001b[0m \u001b[0;34m=\u001b[0m \u001b[0mnp\u001b[0m\u001b[0;34m.\u001b[0m\u001b[0mconcatenate\u001b[0m\u001b[0;34m(\u001b[0m\u001b[0mdata\u001b[0m\u001b[0;34m)\u001b[0m\u001b[0;34m\u001b[0m\u001b[0m\n\u001b[0m\u001b[1;32m     15\u001b[0m     \u001b[0;32mif\u001b[0m \u001b[0merr\u001b[0m \u001b[0;32mis\u001b[0m \u001b[0;32mNone\u001b[0m\u001b[0;34m:\u001b[0m\u001b[0;34m\u001b[0m\u001b[0m\n\u001b[1;32m     16\u001b[0m         \u001b[0;32mreturn\u001b[0m \u001b[0;34m(\u001b[0m\u001b[0mmodfunc\u001b[0m\u001b[0;34m(\u001b[0m\u001b[0mparm\u001b[0m\u001b[0;34m,\u001b[0m\u001b[0mlig\u001b[0m\u001b[0;34m,\u001b[0m\u001b[0mrtot\u001b[0m\u001b[0;34m)\u001b[0m \u001b[0;34m-\u001b[0m \u001b[0mdata\u001b[0m\u001b[0;34m)\u001b[0m\u001b[0;34m\u001b[0m\u001b[0m\n",
      "\u001b[0;31mValueError\u001b[0m: zero-dimensional arrays cannot be concatenated"
     ]
    }
   ],
   "source": [
    "ligbind.helpers.objfunc(a.modfunc,a.parms,a.ligs,a.rtot,a.meanset[0])"
   ]
  },
  {
   "cell_type": "code",
   "execution_count": 62,
   "metadata": {
    "collapsed": false
   },
   "outputs": [
    {
     "data": {
      "text/plain": [
       "(1, 6, 18)"
      ]
     },
     "execution_count": 62,
     "metadata": {},
     "output_type": "execute_result"
    }
   ],
   "source": [
    "a.meanset.shape"
   ]
  },
  {
   "cell_type": "code",
   "execution_count": 64,
   "metadata": {
    "collapsed": false
   },
   "outputs": [
    {
     "data": {
      "text/plain": [
       "array([ 0.00270114,  0.00538823,  0.01072068,  0.02122155,  0.04158962,\n",
       "        0.07995809,  0.14838883,  0.25922436,  0.41318706,  0.58652335,\n",
       "        0.74071453,  0.85171564,  0.92017061,  0.95850362,  0.97883397,\n",
       "        0.98930956,  0.99462754,  0.99730691,  0.00245828,  0.00490498,\n",
       "        0.00976393,  0.01934623,  0.03798528,  0.07328746,  0.1368788 ,\n",
       "        0.24163521,  0.39089596,  0.5643122 ,  0.72336186,  0.84051004,\n",
       "        0.91375548,  0.95506705,  0.97705513,  0.98840459,  0.99417112,\n",
       "        0.99707771,  0.0022312 ,  0.00445269,  0.0088668 ,  0.01758129,\n",
       "        0.03456848,  0.06687522,  0.12552496,  0.22348911,  0.36624904,\n",
       "        0.53744654,  0.70032845,  0.82445614,  0.90407663,  0.94972034,\n",
       "        0.97424055,  0.98695999,  0.99343923,  0.99670934,  0.00199594,\n",
       "        0.0039838 ,  0.00793546,  0.01574391,  0.03099184,  0.06009095,\n",
       "        0.11326691,  0.20317096,  0.33694389,  0.50263769,  0.66730939,\n",
       "        0.79914398,  0.88766661,  0.94021959,  0.96910167,  0.98428349,\n",
       "        0.99207283,  0.99601891,  0.00171326,  0.00342004,  0.00681432,\n",
       "        0.01352675,  0.02665525,  0.05178786,  0.09799311,  0.17700229,\n",
       "        0.29698425,  0.45079722,  0.61205236,  0.75104444,  0.85276486,\n",
       "        0.9182719 ,  0.95659371,  0.97757164,  0.98859096,  0.99424488,\n",
       "        0.00153748,  0.00306934,  0.00611626,  0.01214392,  0.02394136,\n",
       "        0.04655704,  0.08824681,  0.15990017,  0.26974677,  0.41298363,\n",
       "        0.56767905,  0.70766657,  0.81741406,  0.89380902,  0.94169589,\n",
       "        0.9692484 ,  0.98417501,  0.99196799])"
      ]
     },
     "execution_count": 64,
     "metadata": {},
     "output_type": "execute_result"
    }
   ],
   "source": [
    "a.modfunc(a.parms,a.ligs,a.rtot)"
   ]
  },
  {
   "cell_type": "code",
   "execution_count": 68,
   "metadata": {
    "collapsed": false
   },
   "outputs": [
    {
     "data": {
      "text/plain": [
       "array([ 0.00275204,  0.0054975 ,  0.01075104,  0.02142519,  0.04041303,\n",
       "        0.07753963,  0.14511148,  0.25079798,  0.4114257 ,  0.6080768 ,\n",
       "        0.73089188,  0.82647694,  0.93626174,  0.96059567,  0.93467849,\n",
       "        1.0387988 ,  0.99230091,  0.98886533,  0.00235985,  0.00457621,\n",
       "        0.01011954,  0.01994094,  0.03570893,  0.07442621,  0.13673512,\n",
       "        0.2411371 ,  0.36436185,  0.56864448,  0.74241057,  0.82113892,\n",
       "        0.99109226,  0.93140854,  0.98256918,  0.99018203,  0.98494978,\n",
       "        0.96709139,  0.00229095,  0.00415647,  0.00851246,  0.01779573,\n",
       "        0.03340771,  0.06889247,  0.1258995 ,  0.21114371,  0.35694404,\n",
       "        0.55238214,  0.70732463,  0.80849687,  0.93229939,  0.97604329,\n",
       "        0.97739057,  0.99952119,  1.00706749,  1.07608996,  0.00195741,\n",
       "        0.00400689,  0.00801982,  0.01612255,  0.02984877,  0.05711411,\n",
       "        0.11324703,  0.20266566,  0.33629489,  0.50511531,  0.6765101 ,\n",
       "        0.80603674,  0.88120243,  0.9295859 ,  0.93167166,  1.00382655,\n",
       "        1.0263792 ,  0.99090068,  0.00178102,  0.00341244,  0.00659245,\n",
       "        0.01325159,  0.02577925,  0.05037186,  0.09328083,  0.17640748,\n",
       "        0.31009907,  0.4657356 ,  0.643475  ,  0.75364688,  0.90126331,\n",
       "        0.93219113,  0.94698021,  0.99662136,  1.00253114,  0.99839773,\n",
       "        0.0015969 ,  0.00311243,  0.00613246,  0.0122464 ,  0.02487384,\n",
       "        0.0466367 ,  0.09066573,  0.15379631,  0.25471262,  0.40626407,\n",
       "        0.58533931,  0.69933342,  0.84373216,  0.87426628,  1.00286783,\n",
       "        0.96348174,  1.01795402,  0.94640805])"
      ]
     },
     "execution_count": 68,
     "metadata": {},
     "output_type": "execute_result"
    }
   ],
   "source": [
    "np.concatenate(a.meanset[0])"
   ]
  },
  {
   "cell_type": "code",
   "execution_count": 72,
   "metadata": {
    "collapsed": false
   },
   "outputs": [
    {
     "ename": "TypeError",
     "evalue": "objfunc() missing 4 required positional arguments: 'parm', 'lig', 'rtot', and 'data'",
     "output_type": "error",
     "traceback": [
      "\u001b[0;31m---------------------------------------------------------------------------\u001b[0m",
      "\u001b[0;31mTypeError\u001b[0m                                 Traceback (most recent call last)",
      "\u001b[0;32m<ipython-input-72-f0139fce9586>\u001b[0m in \u001b[0;36m<module>\u001b[0;34m()\u001b[0m\n\u001b[0;32m----> 1\u001b[0;31m \u001b[0moptimize\u001b[0m\u001b[0;34m.\u001b[0m\u001b[0mleast_squares\u001b[0m\u001b[0;34m(\u001b[0m\u001b[0mligbind\u001b[0m\u001b[0;34m.\u001b[0m\u001b[0mhelpers\u001b[0m\u001b[0;34m.\u001b[0m\u001b[0mobjfunc\u001b[0m\u001b[0;34m(\u001b[0m\u001b[0ma\u001b[0m\u001b[0;34m.\u001b[0m\u001b[0mmodfunc\u001b[0m\u001b[0;34m)\u001b[0m\u001b[0;34m,\u001b[0m\u001b[0ma\u001b[0m\u001b[0;34m.\u001b[0m\u001b[0mparms\u001b[0m\u001b[0;34m,\u001b[0m\u001b[0margs\u001b[0m\u001b[0;34m=\u001b[0m\u001b[0;34m(\u001b[0m\u001b[0ma\u001b[0m\u001b[0;34m.\u001b[0m\u001b[0mligs\u001b[0m\u001b[0;34m,\u001b[0m\u001b[0ma\u001b[0m\u001b[0;34m.\u001b[0m\u001b[0mrtot\u001b[0m\u001b[0;34m,\u001b[0m\u001b[0ma\u001b[0m\u001b[0;34m.\u001b[0m\u001b[0mmeanset\u001b[0m\u001b[0;34m)\u001b[0m\u001b[0;34m)\u001b[0m\u001b[0;34m\u001b[0m\u001b[0m\n\u001b[0m",
      "\u001b[0;31mTypeError\u001b[0m: objfunc() missing 4 required positional arguments: 'parm', 'lig', 'rtot', and 'data'"
     ]
    }
   ],
   "source": [
    "optimize.least_squares(ligbind.helpers.objfunc,a.parms,args=(a.ligs,a.rtot,a.meanset))"
   ]
  },
  {
   "cell_type": "code",
   "execution_count": 73,
   "metadata": {
    "collapsed": true
   },
   "outputs": [],
   "source": [
    "def tfunc1(mod,*args):\n",
    "    return mod(*args)"
   ]
  },
  {
   "cell_type": "code",
   "execution_count": 74,
   "metadata": {
    "collapsed": true
   },
   "outputs": [],
   "source": [
    "def mod1(var):\n",
    "    return var + 1"
   ]
  },
  {
   "cell_type": "code",
   "execution_count": 79,
   "metadata": {
    "collapsed": false
   },
   "outputs": [
    {
     "data": {
      "text/plain": [
       "2"
      ]
     },
     "execution_count": 79,
     "metadata": {},
     "output_type": "execute_result"
    }
   ],
   "source": [
    "tfunc1(mod1,1)"
   ]
  },
  {
   "cell_type": "code",
   "execution_count": 101,
   "metadata": {
    "collapsed": true
   },
   "outputs": [],
   "source": [
    "%autoreload"
   ]
  },
  {
   "cell_type": "code",
   "execution_count": 104,
   "metadata": {
    "collapsed": false
   },
   "outputs": [
    {
     "ename": "NameError",
     "evalue": "name 'models' is not defined",
     "output_type": "error",
     "traceback": [
      "\u001b[0;31m---------------------------------------------------------------------------\u001b[0m",
      "\u001b[0;31mNameError\u001b[0m                                 Traceback (most recent call last)",
      "\u001b[0;32m<ipython-input-104-6045a9b3a2cc>\u001b[0m in \u001b[0;36m<module>\u001b[0;34m()\u001b[0m\n\u001b[0;32m----> 1\u001b[0;31m \u001b[0mligbind\u001b[0m\u001b[0;34m.\u001b[0m\u001b[0mhelpers\u001b[0m\u001b[0;34m.\u001b[0m\u001b[0mwymobj\u001b[0m\u001b[0;34m(\u001b[0m\u001b[0ma\u001b[0m\u001b[0;34m.\u001b[0m\u001b[0mparms\u001b[0m\u001b[0;34m,\u001b[0m\u001b[0ma\u001b[0m\u001b[0;34m.\u001b[0m\u001b[0mligs\u001b[0m\u001b[0;34m,\u001b[0m\u001b[0ma\u001b[0m\u001b[0;34m.\u001b[0m\u001b[0mrtot\u001b[0m\u001b[0;34m,\u001b[0m\u001b[0ma\u001b[0m\u001b[0;34m.\u001b[0m\u001b[0mmeanset\u001b[0m\u001b[0;34m[\u001b[0m\u001b[0;36m0\u001b[0m\u001b[0;34m]\u001b[0m\u001b[0;34m)\u001b[0m\u001b[0;34m\u001b[0m\u001b[0m\n\u001b[0m",
      "\u001b[0;32m/Users/michael/thesis2.0/ipythes/working_jan17/simulated_sets/ligbind/ligbind/helpers.py\u001b[0m in \u001b[0;36mwymobj\u001b[0;34m(parm, lig, rtot, data, err)\u001b[0m\n\u001b[1;32m     14\u001b[0m     \u001b[0mdata\u001b[0m \u001b[0;34m=\u001b[0m \u001b[0mnp\u001b[0m\u001b[0;34m.\u001b[0m\u001b[0mconcatenate\u001b[0m\u001b[0;34m(\u001b[0m\u001b[0mdata\u001b[0m\u001b[0;34m)\u001b[0m\u001b[0;34m\u001b[0m\u001b[0m\n\u001b[1;32m     15\u001b[0m     \u001b[0;32mif\u001b[0m \u001b[0merr\u001b[0m \u001b[0;32mis\u001b[0m \u001b[0;32mNone\u001b[0m\u001b[0;34m:\u001b[0m\u001b[0;34m\u001b[0m\u001b[0m\n\u001b[0;32m---> 16\u001b[0;31m         \u001b[0;32mreturn\u001b[0m \u001b[0;34m(\u001b[0m\u001b[0mmodels\u001b[0m\u001b[0;34m.\u001b[0m\u001b[0mwymfunc\u001b[0m\u001b[0;34m(\u001b[0m\u001b[0mparm\u001b[0m\u001b[0;34m,\u001b[0m\u001b[0mlig\u001b[0m\u001b[0;34m,\u001b[0m\u001b[0mrtot\u001b[0m\u001b[0;34m)\u001b[0m \u001b[0;34m-\u001b[0m \u001b[0mdata\u001b[0m\u001b[0;34m)\u001b[0m\u001b[0;34m\u001b[0m\u001b[0m\n\u001b[0m\u001b[1;32m     17\u001b[0m     \u001b[0;32melse\u001b[0m\u001b[0;34m:\u001b[0m\u001b[0;34m\u001b[0m\u001b[0m\n\u001b[1;32m     18\u001b[0m         \u001b[0;32mreturn\u001b[0m \u001b[0;34m(\u001b[0m\u001b[0mmodels\u001b[0m\u001b[0;34m.\u001b[0m\u001b[0mwymfunc\u001b[0m\u001b[0;34m(\u001b[0m\u001b[0mparm\u001b[0m\u001b[0;34m,\u001b[0m\u001b[0mlig\u001b[0m\u001b[0;34m,\u001b[0m\u001b[0mrtot\u001b[0m\u001b[0;34m)\u001b[0m \u001b[0;34m-\u001b[0m \u001b[0mdata\u001b[0m\u001b[0;34m)\u001b[0m\u001b[0;34m/\u001b[0m\u001b[0;34m(\u001b[0m\u001b[0merr\u001b[0m\u001b[0;34m)\u001b[0m\u001b[0;34m\u001b[0m\u001b[0m\n",
      "\u001b[0;31mNameError\u001b[0m: name 'models' is not defined"
     ]
    }
   ],
   "source": [
    "ligbind.helpers.wymobj(a.parms,a.ligs,a.rtot,a.meanset[0])"
   ]
  },
  {
   "cell_type": "code",
   "execution_count": 88,
   "metadata": {
    "collapsed": false
   },
   "outputs": [
    {
     "data": {
      "text/plain": [
       "<function ligbind.models.wymfunc>"
      ]
     },
     "execution_count": 88,
     "metadata": {},
     "output_type": "execute_result"
    }
   ],
   "source": [
    "a.modfunc"
   ]
  },
  {
   "cell_type": "code",
   "execution_count": 100,
   "metadata": {
    "collapsed": false
   },
   "outputs": [
    {
     "ename": "AssertionError",
     "evalue": "Must provide model function!",
     "output_type": "error",
     "traceback": [
      "\u001b[0;31m---------------------------------------------------------------------------\u001b[0m",
      "\u001b[0;31mAssertionError\u001b[0m                            Traceback (most recent call last)",
      "\u001b[0;32m<ipython-input-100-0229e37c7070>\u001b[0m in \u001b[0;36m<module>\u001b[0;34m()\u001b[0m\n\u001b[0;32m----> 1\u001b[0;31m \u001b[0moptimize\u001b[0m\u001b[0;34m.\u001b[0m\u001b[0mleast_squares\u001b[0m\u001b[0;34m(\u001b[0m\u001b[0mligbind\u001b[0m\u001b[0;34m.\u001b[0m\u001b[0mhelpers\u001b[0m\u001b[0;34m.\u001b[0m\u001b[0mobjfunc\u001b[0m\u001b[0;34m,\u001b[0m\u001b[0ma\u001b[0m\u001b[0;34m.\u001b[0m\u001b[0mparms\u001b[0m\u001b[0;34m,\u001b[0m\u001b[0margs\u001b[0m\u001b[0;34m=\u001b[0m\u001b[0;34m(\u001b[0m\u001b[0ma\u001b[0m\u001b[0;34m.\u001b[0m\u001b[0mrtot\u001b[0m\u001b[0;34m,\u001b[0m\u001b[0ma\u001b[0m\u001b[0;34m.\u001b[0m\u001b[0mmeanset\u001b[0m\u001b[0;34m[\u001b[0m\u001b[0;36m0\u001b[0m\u001b[0;34m]\u001b[0m\u001b[0;34m,\u001b[0m\u001b[0ma\u001b[0m\u001b[0;34m.\u001b[0m\u001b[0mmodfunc\u001b[0m\u001b[0;34m)\u001b[0m\u001b[0;34m)\u001b[0m\u001b[0;34m\u001b[0m\u001b[0m\n\u001b[0m",
      "\u001b[0;32m/Users/michael/miniconda3/envs/fitter/lib/python3.5/site-packages/scipy/optimize/_lsq/least_squares.py\u001b[0m in \u001b[0;36mleast_squares\u001b[0;34m(fun, x0, jac, bounds, method, ftol, xtol, gtol, x_scale, loss, f_scale, diff_step, tr_solver, tr_options, jac_sparsity, max_nfev, verbose, args, kwargs)\u001b[0m\n\u001b[1;32m    767\u001b[0m         \u001b[0mx0\u001b[0m \u001b[0;34m=\u001b[0m \u001b[0mmake_strictly_feasible\u001b[0m\u001b[0;34m(\u001b[0m\u001b[0mx0\u001b[0m\u001b[0;34m,\u001b[0m \u001b[0mlb\u001b[0m\u001b[0;34m,\u001b[0m \u001b[0mub\u001b[0m\u001b[0;34m)\u001b[0m\u001b[0;34m\u001b[0m\u001b[0m\n\u001b[1;32m    768\u001b[0m \u001b[0;34m\u001b[0m\u001b[0m\n\u001b[0;32m--> 769\u001b[0;31m     \u001b[0mf0\u001b[0m \u001b[0;34m=\u001b[0m \u001b[0mfun_wrapped\u001b[0m\u001b[0;34m(\u001b[0m\u001b[0mx0\u001b[0m\u001b[0;34m)\u001b[0m\u001b[0;34m\u001b[0m\u001b[0m\n\u001b[0m\u001b[1;32m    770\u001b[0m \u001b[0;34m\u001b[0m\u001b[0m\n\u001b[1;32m    771\u001b[0m     \u001b[0;32mif\u001b[0m \u001b[0mf0\u001b[0m\u001b[0;34m.\u001b[0m\u001b[0mndim\u001b[0m \u001b[0;34m!=\u001b[0m \u001b[0;36m1\u001b[0m\u001b[0;34m:\u001b[0m\u001b[0;34m\u001b[0m\u001b[0m\n",
      "\u001b[0;32m/Users/michael/miniconda3/envs/fitter/lib/python3.5/site-packages/scipy/optimize/_lsq/least_squares.py\u001b[0m in \u001b[0;36mfun_wrapped\u001b[0;34m(x)\u001b[0m\n\u001b[1;32m    762\u001b[0m \u001b[0;34m\u001b[0m\u001b[0m\n\u001b[1;32m    763\u001b[0m     \u001b[0;32mdef\u001b[0m \u001b[0mfun_wrapped\u001b[0m\u001b[0;34m(\u001b[0m\u001b[0mx\u001b[0m\u001b[0;34m)\u001b[0m\u001b[0;34m:\u001b[0m\u001b[0;34m\u001b[0m\u001b[0m\n\u001b[0;32m--> 764\u001b[0;31m         \u001b[0;32mreturn\u001b[0m \u001b[0mnp\u001b[0m\u001b[0;34m.\u001b[0m\u001b[0matleast_1d\u001b[0m\u001b[0;34m(\u001b[0m\u001b[0mfun\u001b[0m\u001b[0;34m(\u001b[0m\u001b[0mx\u001b[0m\u001b[0;34m,\u001b[0m \u001b[0;34m*\u001b[0m\u001b[0margs\u001b[0m\u001b[0;34m,\u001b[0m \u001b[0;34m**\u001b[0m\u001b[0mkwargs\u001b[0m\u001b[0;34m)\u001b[0m\u001b[0;34m)\u001b[0m\u001b[0;34m\u001b[0m\u001b[0m\n\u001b[0m\u001b[1;32m    765\u001b[0m \u001b[0;34m\u001b[0m\u001b[0m\n\u001b[1;32m    766\u001b[0m     \u001b[0;32mif\u001b[0m \u001b[0mmethod\u001b[0m \u001b[0;34m==\u001b[0m \u001b[0;34m'trf'\u001b[0m\u001b[0;34m:\u001b[0m\u001b[0;34m\u001b[0m\u001b[0m\n",
      "\u001b[0;32m/Users/michael/thesis2.0/ipythes/working_jan17/simulated_sets/ligbind/ligbind/helpers.py\u001b[0m in \u001b[0;36mobjfunc\u001b[0;34m(parm, lig, rtot, data, modfunc, err)\u001b[0m\n\u001b[1;32m     12\u001b[0m \u001b[0;34m\u001b[0m\u001b[0m\n\u001b[1;32m     13\u001b[0m \u001b[0;32mdef\u001b[0m \u001b[0mobjfunc\u001b[0m\u001b[0;34m(\u001b[0m\u001b[0mparm\u001b[0m\u001b[0;34m,\u001b[0m\u001b[0mlig\u001b[0m\u001b[0;34m,\u001b[0m\u001b[0mrtot\u001b[0m\u001b[0;34m,\u001b[0m\u001b[0mdata\u001b[0m\u001b[0;34m,\u001b[0m\u001b[0mmodfunc\u001b[0m\u001b[0;34m=\u001b[0m\u001b[0;36m1\u001b[0m\u001b[0;34m,\u001b[0m\u001b[0merr\u001b[0m\u001b[0;34m=\u001b[0m\u001b[0;32mNone\u001b[0m\u001b[0;34m)\u001b[0m\u001b[0;34m:\u001b[0m\u001b[0;34m\u001b[0m\u001b[0m\n\u001b[0;32m---> 14\u001b[0;31m     \u001b[0;32massert\u001b[0m \u001b[0mmodfunc\u001b[0m \u001b[0;34m!=\u001b[0m \u001b[0;36m1\u001b[0m\u001b[0;34m,\u001b[0m \u001b[0;34m'Must provide model function!'\u001b[0m\u001b[0;34m\u001b[0m\u001b[0m\n\u001b[0m\u001b[1;32m     15\u001b[0m     \u001b[0mdata\u001b[0m \u001b[0;34m=\u001b[0m \u001b[0mnp\u001b[0m\u001b[0;34m.\u001b[0m\u001b[0mconcatenate\u001b[0m\u001b[0;34m(\u001b[0m\u001b[0mdata\u001b[0m\u001b[0;34m)\u001b[0m\u001b[0;34m\u001b[0m\u001b[0m\n\u001b[1;32m     16\u001b[0m     \u001b[0;32mif\u001b[0m \u001b[0merr\u001b[0m \u001b[0;32mis\u001b[0m \u001b[0;32mNone\u001b[0m\u001b[0;34m:\u001b[0m\u001b[0;34m\u001b[0m\u001b[0m\n",
      "\u001b[0;31mAssertionError\u001b[0m: Must provide model function!"
     ]
    }
   ],
   "source": [
    "optimize.least_squares(ligbind.helpers.objfunc,a.parms,args=(a.rtot,a.meanset[0],a.modfunc))"
   ]
  },
  {
   "cell_type": "code",
   "execution_count": 105,
   "metadata": {
    "collapsed": true
   },
   "outputs": [],
   "source": [
    "%autoreload"
   ]
  },
  {
   "cell_type": "code",
   "execution_count": 108,
   "metadata": {
    "collapsed": false
   },
   "outputs": [
    {
     "data": {
      "text/plain": [
       "array([ -5.08990694e-05,  -1.09271615e-04,  -3.03611886e-05,\n",
       "        -2.03635869e-04,   1.17658811e-03,   2.41845657e-03,\n",
       "         3.27734920e-03,   8.42638783e-03,   1.76136450e-03,\n",
       "        -2.15534474e-02,   9.82265001e-03,   2.52387012e-02,\n",
       "        -1.60911276e-02,  -2.09204800e-03,   4.41554871e-02,\n",
       "        -4.94892446e-02,   2.32663268e-03,   8.44158245e-03,\n",
       "         9.84297263e-05,   3.28769851e-04,  -3.55610523e-04,\n",
       "        -5.94709945e-04,   2.27635447e-03,  -1.13874692e-03,\n",
       "         1.43674420e-04,   4.98112244e-04,   2.65341036e-02,\n",
       "        -4.33228014e-03,  -1.90487093e-02,   1.93711206e-02,\n",
       "        -7.73367720e-02,   2.36585153e-02,  -5.51405005e-03,\n",
       "        -1.77743918e-03,   9.22133826e-03,   2.99863158e-02,\n",
       "        -5.97578935e-05,   2.96214292e-04,   3.54343512e-04,\n",
       "        -2.14446160e-04,   1.16076909e-03,  -2.01725147e-03,\n",
       "        -3.74537800e-04,   1.23454003e-02,   9.30500082e-03,\n",
       "        -1.49356039e-02,  -6.99618635e-03,   1.59592692e-02,\n",
       "        -2.82227598e-02,  -2.63229556e-02,  -3.15002170e-03,\n",
       "        -1.25611955e-02,  -1.36282609e-02,  -7.93806227e-02,\n",
       "         3.85305132e-05,  -2.30951071e-05,  -8.43595207e-05,\n",
       "        -3.78634867e-04,   1.14306861e-03,   2.97683895e-03,\n",
       "         1.98859635e-05,   5.05308674e-04,   6.49008071e-04,\n",
       "        -2.47761360e-03,  -9.20070248e-03,  -6.89275849e-03,\n",
       "         6.46417083e-03,   1.06336900e-02,   3.74300065e-02,\n",
       "        -1.95430632e-02,  -3.43063714e-02,   5.11823156e-03,\n",
       "        -6.77540347e-05,   7.60085549e-06,   2.21864712e-04,\n",
       "         2.75163121e-04,   8.75993427e-04,   1.41599857e-03,\n",
       "         4.71228097e-03,   5.94807742e-04,  -1.31148226e-02,\n",
       "        -1.49383717e-02,  -3.14226476e-02,  -2.60244405e-03,\n",
       "        -4.84984495e-02,  -1.39192306e-02,   9.61350110e-03,\n",
       "        -1.90497133e-02,  -1.39401783e-02,  -4.15284983e-03,\n",
       "        -5.94195870e-05,  -4.30936452e-05,  -1.61926132e-05,\n",
       "        -1.02475959e-04,  -9.32484839e-04,  -7.96610270e-05,\n",
       "        -2.41892562e-03,   6.10385738e-03,   1.50341511e-02,\n",
       "         6.71956083e-03,  -1.76602656e-02,   8.33314773e-03,\n",
       "        -2.63180992e-02,   1.95427378e-02,  -6.11719414e-02,\n",
       "         5.76666286e-03,  -3.37790128e-02,   4.55599441e-02])"
      ]
     },
     "execution_count": 108,
     "metadata": {},
     "output_type": "execute_result"
    }
   ],
   "source": [
    "ligbind.helpers.wymobj(a.parms,a.ligs,a.rtot,a.meanset[0])"
   ]
  },
  {
   "cell_type": "code",
   "execution_count": 109,
   "metadata": {
    "collapsed": true
   },
   "outputs": [],
   "source": [
    "%autoreload"
   ]
  },
  {
   "cell_type": "code",
   "execution_count": 111,
   "metadata": {
    "collapsed": false
   },
   "outputs": [
    {
     "data": {
      "text/plain": [
       "array([ -5.08990694e-05,  -1.09271615e-04,  -3.03611886e-05,\n",
       "        -2.03635869e-04,   1.17658811e-03,   2.41845657e-03,\n",
       "         3.27734920e-03,   8.42638783e-03,   1.76136450e-03,\n",
       "        -2.15534474e-02,   9.82265001e-03,   2.52387012e-02,\n",
       "        -1.60911276e-02,  -2.09204800e-03,   4.41554871e-02,\n",
       "        -4.94892446e-02,   2.32663268e-03,   8.44158245e-03,\n",
       "         9.84297263e-05,   3.28769851e-04,  -3.55610523e-04,\n",
       "        -5.94709945e-04,   2.27635447e-03,  -1.13874692e-03,\n",
       "         1.43674420e-04,   4.98112244e-04,   2.65341036e-02,\n",
       "        -4.33228014e-03,  -1.90487093e-02,   1.93711206e-02,\n",
       "        -7.73367720e-02,   2.36585153e-02,  -5.51405005e-03,\n",
       "        -1.77743918e-03,   9.22133826e-03,   2.99863158e-02,\n",
       "        -5.97578935e-05,   2.96214292e-04,   3.54343512e-04,\n",
       "        -2.14446160e-04,   1.16076909e-03,  -2.01725147e-03,\n",
       "        -3.74537800e-04,   1.23454003e-02,   9.30500082e-03,\n",
       "        -1.49356039e-02,  -6.99618635e-03,   1.59592692e-02,\n",
       "        -2.82227598e-02,  -2.63229556e-02,  -3.15002170e-03,\n",
       "        -1.25611955e-02,  -1.36282609e-02,  -7.93806227e-02,\n",
       "         3.85305132e-05,  -2.30951071e-05,  -8.43595207e-05,\n",
       "        -3.78634867e-04,   1.14306861e-03,   2.97683895e-03,\n",
       "         1.98859635e-05,   5.05308674e-04,   6.49008071e-04,\n",
       "        -2.47761360e-03,  -9.20070248e-03,  -6.89275849e-03,\n",
       "         6.46417083e-03,   1.06336900e-02,   3.74300065e-02,\n",
       "        -1.95430632e-02,  -3.43063714e-02,   5.11823156e-03,\n",
       "        -6.77540347e-05,   7.60085549e-06,   2.21864712e-04,\n",
       "         2.75163121e-04,   8.75993427e-04,   1.41599857e-03,\n",
       "         4.71228097e-03,   5.94807742e-04,  -1.31148226e-02,\n",
       "        -1.49383717e-02,  -3.14226476e-02,  -2.60244405e-03,\n",
       "        -4.84984495e-02,  -1.39192306e-02,   9.61350110e-03,\n",
       "        -1.90497133e-02,  -1.39401783e-02,  -4.15284983e-03,\n",
       "        -5.94195870e-05,  -4.30936452e-05,  -1.61926132e-05,\n",
       "        -1.02475959e-04,  -9.32484839e-04,  -7.96610270e-05,\n",
       "        -2.41892562e-03,   6.10385738e-03,   1.50341511e-02,\n",
       "         6.71956083e-03,  -1.76602656e-02,   8.33314773e-03,\n",
       "        -2.63180992e-02,   1.95427378e-02,  -6.11719414e-02,\n",
       "         5.76666286e-03,  -3.37790128e-02,   4.55599441e-02])"
      ]
     },
     "execution_count": 111,
     "metadata": {},
     "output_type": "execute_result"
    }
   ],
   "source": [
    "ligbind.helpers.wymobj2(a.parms,a.modfunc,a.meanset[0],a.ligs,a.rtot)"
   ]
  },
  {
   "cell_type": "code",
   "execution_count": 115,
   "metadata": {
    "collapsed": false
   },
   "outputs": [
    {
     "data": {
      "text/plain": [
       "array([  2.89994975e+00,   1.52654280e+00,   6.33597598e-02,\n",
       "         7.02827771e+01])"
      ]
     },
     "execution_count": 115,
     "metadata": {},
     "output_type": "execute_result"
    }
   ],
   "source": [
    "optimize.least_squares(ligbind.helpers.wymobj2,a.parms,args=(a.modfunc,a.meanset[0],a.ligs,a.rtot)).x"
   ]
  },
  {
   "cell_type": "code",
   "execution_count": 116,
   "metadata": {
    "collapsed": false
   },
   "outputs": [
    {
     "data": {
      "text/plain": [
       "array([   3. ,    2. ,    0.1,  100. ])"
      ]
     },
     "execution_count": 116,
     "metadata": {},
     "output_type": "execute_result"
    }
   ],
   "source": [
    "a.parms"
   ]
  },
  {
   "cell_type": "code",
   "execution_count": 149,
   "metadata": {
    "collapsed": true
   },
   "outputs": [],
   "source": [
    "%autoreload"
   ]
  },
  {
   "cell_type": "code",
   "execution_count": 150,
   "metadata": {
    "collapsed": true
   },
   "outputs": [],
   "source": [
    "sim = ligbind.WymSim(sets=10)"
   ]
  },
  {
   "cell_type": "code",
   "execution_count": 151,
   "metadata": {
    "collapsed": false
   },
   "outputs": [
    {
     "data": {
      "image/png": "[encoded data removed]",
      "text/plain": [
       "<matplotlib.figure.Figure at 0x1134f1518>"
      ]
     },
     "metadata": {},
     "output_type": "display_data"
    }
   ],
   "source": [
    "plotter.semlog(sim.ligs,sim.meanset[0])"
   ]
  },
  {
   "cell_type": "code",
   "execution_count": 153,
   "metadata": {
    "collapsed": false
   },
   "outputs": [],
   "source": [
    "%autoreload"
   ]
  },
  {
   "cell_type": "code",
   "execution_count": 155,
   "metadata": {
    "collapsed": false
   },
   "outputs": [
    {
     "ename": "TypeError",
     "evalue": "wymfunc() takes 3 positional arguments but 4 were given",
     "output_type": "error",
     "traceback": [
      "\u001b[0;31m---------------------------------------------------------------------------\u001b[0m",
      "\u001b[0;31mTypeError\u001b[0m                                 Traceback (most recent call last)",
      "\u001b[0;32m<ipython-input-155-8aefe065bcf1>\u001b[0m in \u001b[0;36m<module>\u001b[0;34m()\u001b[0m\n\u001b[0;32m----> 1\u001b[0;31m \u001b[0mfit\u001b[0m \u001b[0;34m=\u001b[0m \u001b[0mligbind\u001b[0m\u001b[0;34m.\u001b[0m\u001b[0mWymFit\u001b[0m\u001b[0;34m(\u001b[0m\u001b[0msim\u001b[0m\u001b[0;34m,\u001b[0m\u001b[0mweight\u001b[0m\u001b[0;34m=\u001b[0m\u001b[0;36m1\u001b[0m\u001b[0;34m)\u001b[0m\u001b[0;34m\u001b[0m\u001b[0m\n\u001b[0m",
      "\u001b[0;32m/Users/michael/thesis2.0/ipythes/working_jan17/simulated_sets/ligbind/ligbind/core.py\u001b[0m in \u001b[0;36m__init__\u001b[0;34m(self, model, guess, bounds, weight, **kwargs)\u001b[0m\n\u001b[1;32m     40\u001b[0m         \u001b[0mself\u001b[0m\u001b[0;34m.\u001b[0m\u001b[0mguess\u001b[0m \u001b[0;34m=\u001b[0m \u001b[0mguess\u001b[0m\u001b[0;34m\u001b[0m\u001b[0m\n\u001b[1;32m     41\u001b[0m         \u001b[0mself\u001b[0m\u001b[0;34m.\u001b[0m\u001b[0mbounds\u001b[0m \u001b[0;34m=\u001b[0m \u001b[0mbounds\u001b[0m\u001b[0;34m\u001b[0m\u001b[0m\n\u001b[0;32m---> 42\u001b[0;31m         \u001b[0mself\u001b[0m\u001b[0;34m.\u001b[0m\u001b[0mfits\u001b[0m \u001b[0;34m=\u001b[0m \u001b[0mhelpers\u001b[0m\u001b[0;34m.\u001b[0m\u001b[0mfitwrap\u001b[0m\u001b[0;34m(\u001b[0m\u001b[0mself\u001b[0m\u001b[0;34m,\u001b[0m\u001b[0mweight\u001b[0m\u001b[0;34m=\u001b[0m\u001b[0mweight\u001b[0m\u001b[0;34m,\u001b[0m\u001b[0;34m**\u001b[0m\u001b[0mkwargs\u001b[0m\u001b[0;34m)\u001b[0m\u001b[0;34m\u001b[0m\u001b[0m\n\u001b[0m\u001b[1;32m     43\u001b[0m         \u001b[0mself\u001b[0m\u001b[0;34m.\u001b[0m\u001b[0mests\u001b[0m \u001b[0;34m=\u001b[0m \u001b[0mnp\u001b[0m\u001b[0;34m.\u001b[0m\u001b[0marray\u001b[0m\u001b[0;34m(\u001b[0m\u001b[0;34m[\u001b[0m\u001b[0mself\u001b[0m\u001b[0;34m.\u001b[0m\u001b[0mfits\u001b[0m\u001b[0;34m[\u001b[0m\u001b[0mi\u001b[0m\u001b[0;34m]\u001b[0m\u001b[0;34m.\u001b[0m\u001b[0mx\u001b[0m \u001b[0;32mfor\u001b[0m \u001b[0mi\u001b[0m \u001b[0;32min\u001b[0m \u001b[0mrange\u001b[0m\u001b[0;34m(\u001b[0m\u001b[0mlen\u001b[0m\u001b[0;34m(\u001b[0m\u001b[0mself\u001b[0m\u001b[0;34m.\u001b[0m\u001b[0mfits\u001b[0m\u001b[0;34m)\u001b[0m\u001b[0;34m)\u001b[0m\u001b[0;34m]\u001b[0m\u001b[0;34m)\u001b[0m\u001b[0;34m\u001b[0m\u001b[0m\n\u001b[1;32m     44\u001b[0m         \u001b[0mself\u001b[0m\u001b[0;34m.\u001b[0m\u001b[0mk11\u001b[0m \u001b[0;34m=\u001b[0m \u001b[0mself\u001b[0m\u001b[0;34m.\u001b[0m\u001b[0mests\u001b[0m\u001b[0;34m[\u001b[0m\u001b[0;34m:\u001b[0m\u001b[0;34m,\u001b[0m\u001b[0;36m0\u001b[0m\u001b[0;34m]\u001b[0m\u001b[0;34m\u001b[0m\u001b[0m\n",
      "\u001b[0;32m/Users/michael/thesis2.0/ipythes/working_jan17/simulated_sets/ligbind/ligbind/helpers.py\u001b[0m in \u001b[0;36mfitwrap\u001b[0;34m(self, weight, **kwargs)\u001b[0m\n\u001b[1;32m     34\u001b[0m \u001b[0;32mdef\u001b[0m \u001b[0mfitwrap\u001b[0m\u001b[0;34m(\u001b[0m\u001b[0mself\u001b[0m\u001b[0;34m,\u001b[0m\u001b[0mweight\u001b[0m\u001b[0;34m=\u001b[0m\u001b[0;36m0\u001b[0m\u001b[0;34m,\u001b[0m\u001b[0;34m**\u001b[0m\u001b[0mkwargs\u001b[0m\u001b[0;34m)\u001b[0m\u001b[0;34m:\u001b[0m\u001b[0;34m\u001b[0m\u001b[0m\n\u001b[1;32m     35\u001b[0m     \u001b[0;32mif\u001b[0m \u001b[0mweight\u001b[0m \u001b[0;34m==\u001b[0m \u001b[0;36m1\u001b[0m\u001b[0;34m:\u001b[0m\u001b[0;34m\u001b[0m\u001b[0m\n\u001b[0;32m---> 36\u001b[0;31m         \u001b[0;32mreturn\u001b[0m \u001b[0mfitter\u001b[0m\u001b[0;34m(\u001b[0m\u001b[0mself\u001b[0m\u001b[0;34m,\u001b[0m\u001b[0merr\u001b[0m\u001b[0;34m=\u001b[0m\u001b[0;34m(\u001b[0m\u001b[0mself\u001b[0m\u001b[0;34m.\u001b[0m\u001b[0mmodel\u001b[0m\u001b[0;34m.\u001b[0m\u001b[0mstdset\u001b[0m\u001b[0;34m)\u001b[0m\u001b[0;34m,\u001b[0m\u001b[0;34m**\u001b[0m\u001b[0mkwargs\u001b[0m\u001b[0;34m)\u001b[0m\u001b[0;34m\u001b[0m\u001b[0m\n\u001b[0m\u001b[1;32m     37\u001b[0m     \u001b[0;32melif\u001b[0m \u001b[0mweight\u001b[0m \u001b[0;34m==\u001b[0m \u001b[0;36m2\u001b[0m\u001b[0;34m:\u001b[0m\u001b[0;34m\u001b[0m\u001b[0m\n\u001b[1;32m     38\u001b[0m         \u001b[0;32mreturn\u001b[0m \u001b[0mfitter\u001b[0m\u001b[0;34m(\u001b[0m\u001b[0mself\u001b[0m\u001b[0;34m,\u001b[0m\u001b[0merr\u001b[0m\u001b[0;34m=\u001b[0m\u001b[0;34m(\u001b[0m\u001b[0mself\u001b[0m\u001b[0;34m.\u001b[0m\u001b[0mmodel\u001b[0m\u001b[0;34m.\u001b[0m\u001b[0mmeanset\u001b[0m\u001b[0;34m)\u001b[0m\u001b[0;34m,\u001b[0m\u001b[0;34m**\u001b[0m\u001b[0mkwargs\u001b[0m\u001b[0;34m)\u001b[0m\u001b[0;34m\u001b[0m\u001b[0m\n",
      "\u001b[0;32m/Users/michael/thesis2.0/ipythes/working_jan17/simulated_sets/ligbind/ligbind/helpers.py\u001b[0m in \u001b[0;36mfitter\u001b[0;34m(self, err, **kwargs)\u001b[0m\n\u001b[1;32m     30\u001b[0m         return [optimize.least_squares(objfunc,self.guess,bounds=self.bounds, \\\n\u001b[1;32m     31\u001b[0m                 args=(self.model.modfunc,self.model.meanset[i],self.model.ligs,self.model.rtot,err[i]),**kwargs) \\\n\u001b[0;32m---> 32\u001b[0;31m                 for i in range(self.model.meanset.shape[0])]\n\u001b[0m\u001b[1;32m     33\u001b[0m \u001b[0;34m\u001b[0m\u001b[0m\n\u001b[1;32m     34\u001b[0m \u001b[0;32mdef\u001b[0m \u001b[0mfitwrap\u001b[0m\u001b[0;34m(\u001b[0m\u001b[0mself\u001b[0m\u001b[0;34m,\u001b[0m\u001b[0mweight\u001b[0m\u001b[0;34m=\u001b[0m\u001b[0;36m0\u001b[0m\u001b[0;34m,\u001b[0m\u001b[0;34m**\u001b[0m\u001b[0mkwargs\u001b[0m\u001b[0;34m)\u001b[0m\u001b[0;34m:\u001b[0m\u001b[0;34m\u001b[0m\u001b[0m\n",
      "\u001b[0;32m/Users/michael/thesis2.0/ipythes/working_jan17/simulated_sets/ligbind/ligbind/helpers.py\u001b[0m in \u001b[0;36m<listcomp>\u001b[0;34m(.0)\u001b[0m\n\u001b[1;32m     30\u001b[0m         return [optimize.least_squares(objfunc,self.guess,bounds=self.bounds, \\\n\u001b[1;32m     31\u001b[0m                 args=(self.model.modfunc,self.model.meanset[i],self.model.ligs,self.model.rtot,err[i]),**kwargs) \\\n\u001b[0;32m---> 32\u001b[0;31m                 for i in range(self.model.meanset.shape[0])]\n\u001b[0m\u001b[1;32m     33\u001b[0m \u001b[0;34m\u001b[0m\u001b[0m\n\u001b[1;32m     34\u001b[0m \u001b[0;32mdef\u001b[0m \u001b[0mfitwrap\u001b[0m\u001b[0;34m(\u001b[0m\u001b[0mself\u001b[0m\u001b[0;34m,\u001b[0m\u001b[0mweight\u001b[0m\u001b[0;34m=\u001b[0m\u001b[0;36m0\u001b[0m\u001b[0;34m,\u001b[0m\u001b[0;34m**\u001b[0m\u001b[0mkwargs\u001b[0m\u001b[0;34m)\u001b[0m\u001b[0;34m:\u001b[0m\u001b[0;34m\u001b[0m\u001b[0m\n",
      "\u001b[0;32m/Users/michael/miniconda3/envs/fitter/lib/python3.5/site-packages/scipy/optimize/_lsq/least_squares.py\u001b[0m in \u001b[0;36mleast_squares\u001b[0;34m(fun, x0, jac, bounds, method, ftol, xtol, gtol, x_scale, loss, f_scale, diff_step, tr_solver, tr_options, jac_sparsity, max_nfev, verbose, args, kwargs)\u001b[0m\n\u001b[1;32m    767\u001b[0m         \u001b[0mx0\u001b[0m \u001b[0;34m=\u001b[0m \u001b[0mmake_strictly_feasible\u001b[0m\u001b[0;34m(\u001b[0m\u001b[0mx0\u001b[0m\u001b[0;34m,\u001b[0m \u001b[0mlb\u001b[0m\u001b[0;34m,\u001b[0m \u001b[0mub\u001b[0m\u001b[0;34m)\u001b[0m\u001b[0;34m\u001b[0m\u001b[0m\n\u001b[1;32m    768\u001b[0m \u001b[0;34m\u001b[0m\u001b[0m\n\u001b[0;32m--> 769\u001b[0;31m     \u001b[0mf0\u001b[0m \u001b[0;34m=\u001b[0m \u001b[0mfun_wrapped\u001b[0m\u001b[0;34m(\u001b[0m\u001b[0mx0\u001b[0m\u001b[0;34m)\u001b[0m\u001b[0;34m\u001b[0m\u001b[0m\n\u001b[0m\u001b[1;32m    770\u001b[0m \u001b[0;34m\u001b[0m\u001b[0m\n\u001b[1;32m    771\u001b[0m     \u001b[0;32mif\u001b[0m \u001b[0mf0\u001b[0m\u001b[0;34m.\u001b[0m\u001b[0mndim\u001b[0m \u001b[0;34m!=\u001b[0m \u001b[0;36m1\u001b[0m\u001b[0;34m:\u001b[0m\u001b[0;34m\u001b[0m\u001b[0m\n",
      "\u001b[0;32m/Users/michael/miniconda3/envs/fitter/lib/python3.5/site-packages/scipy/optimize/_lsq/least_squares.py\u001b[0m in \u001b[0;36mfun_wrapped\u001b[0;34m(x)\u001b[0m\n\u001b[1;32m    762\u001b[0m \u001b[0;34m\u001b[0m\u001b[0m\n\u001b[1;32m    763\u001b[0m     \u001b[0;32mdef\u001b[0m \u001b[0mfun_wrapped\u001b[0m\u001b[0;34m(\u001b[0m\u001b[0mx\u001b[0m\u001b[0;34m)\u001b[0m\u001b[0;34m:\u001b[0m\u001b[0;34m\u001b[0m\u001b[0m\n\u001b[0;32m--> 764\u001b[0;31m         \u001b[0;32mreturn\u001b[0m \u001b[0mnp\u001b[0m\u001b[0;34m.\u001b[0m\u001b[0matleast_1d\u001b[0m\u001b[0;34m(\u001b[0m\u001b[0mfun\u001b[0m\u001b[0;34m(\u001b[0m\u001b[0mx\u001b[0m\u001b[0;34m,\u001b[0m \u001b[0;34m*\u001b[0m\u001b[0margs\u001b[0m\u001b[0;34m,\u001b[0m \u001b[0;34m**\u001b[0m\u001b[0mkwargs\u001b[0m\u001b[0;34m)\u001b[0m\u001b[0;34m)\u001b[0m\u001b[0;34m\u001b[0m\u001b[0m\n\u001b[0m\u001b[1;32m    765\u001b[0m \u001b[0;34m\u001b[0m\u001b[0m\n\u001b[1;32m    766\u001b[0m     \u001b[0;32mif\u001b[0m \u001b[0mmethod\u001b[0m \u001b[0;34m==\u001b[0m \u001b[0;34m'trf'\u001b[0m\u001b[0;34m:\u001b[0m\u001b[0;34m\u001b[0m\u001b[0m\n",
      "\u001b[0;32m/Users/michael/thesis2.0/ipythes/working_jan17/simulated_sets/ligbind/ligbind/helpers.py\u001b[0m in \u001b[0;36mobjfunc\u001b[0;34m(parm, model, data, err, *modelargs)\u001b[0m\n\u001b[1;32m     15\u001b[0m     \u001b[0mdata\u001b[0m \u001b[0;34m=\u001b[0m \u001b[0mnp\u001b[0m\u001b[0;34m.\u001b[0m\u001b[0mconcatenate\u001b[0m\u001b[0;34m(\u001b[0m\u001b[0mdata\u001b[0m\u001b[0;34m)\u001b[0m\u001b[0;34m\u001b[0m\u001b[0m\n\u001b[1;32m     16\u001b[0m     \u001b[0;32mif\u001b[0m \u001b[0merr\u001b[0m \u001b[0;32mis\u001b[0m \u001b[0;32mNone\u001b[0m\u001b[0;34m:\u001b[0m\u001b[0;34m\u001b[0m\u001b[0m\n\u001b[0;32m---> 17\u001b[0;31m         \u001b[0;32mreturn\u001b[0m \u001b[0;34m(\u001b[0m\u001b[0mmodel\u001b[0m\u001b[0;34m(\u001b[0m\u001b[0mparm\u001b[0m\u001b[0;34m,\u001b[0m\u001b[0;34m*\u001b[0m\u001b[0mmodelargs\u001b[0m\u001b[0;34m)\u001b[0m \u001b[0;34m-\u001b[0m \u001b[0mdata\u001b[0m\u001b[0;34m)\u001b[0m\u001b[0;34m\u001b[0m\u001b[0m\n\u001b[0m\u001b[1;32m     18\u001b[0m     \u001b[0;32melse\u001b[0m\u001b[0;34m:\u001b[0m\u001b[0;34m\u001b[0m\u001b[0m\n\u001b[1;32m     19\u001b[0m         \u001b[0;32mreturn\u001b[0m \u001b[0;34m(\u001b[0m\u001b[0mmodel\u001b[0m\u001b[0;34m(\u001b[0m\u001b[0mparm\u001b[0m\u001b[0;34m,\u001b[0m\u001b[0;34m*\u001b[0m\u001b[0mmodelargs\u001b[0m\u001b[0;34m)\u001b[0m \u001b[0;34m-\u001b[0m \u001b[0mdata\u001b[0m\u001b[0;34m)\u001b[0m\u001b[0;34m/\u001b[0m\u001b[0;34m(\u001b[0m\u001b[0merr\u001b[0m\u001b[0;34m)\u001b[0m\u001b[0;34m\u001b[0m\u001b[0m\n",
      "\u001b[0;31mTypeError\u001b[0m: wymfunc() takes 3 positional arguments but 4 were given"
     ]
    }
   ],
   "source": [
    "fit = ligbind.WymFit(sim,weight=1)"
   ]
  },
  {
   "cell_type": "code",
   "execution_count": 144,
   "metadata": {
    "collapsed": false
   },
   "outputs": [
    {
     "data": {
      "text/plain": [
       "array([  10.,   10.,   10.,  100.])"
      ]
     },
     "execution_count": 144,
     "metadata": {},
     "output_type": "execute_result"
    }
   ],
   "source": [
    "fit.guess"
   ]
  },
  {
   "cell_type": "code",
   "execution_count": 145,
   "metadata": {
    "collapsed": false
   },
   "outputs": [
    {
     "data": {
      "text/plain": [
       "array([ 3.04670996,  2.98868836,  2.87478873,  2.96771658,  3.34101302,\n",
       "        2.92573255,  2.86148152,  2.89192181,  2.94812836,  3.04807659])"
      ]
     },
     "execution_count": 145,
     "metadata": {},
     "output_type": "execute_result"
    }
   ],
   "source": [
    "fit.k11"
   ]
  },
  {
   "cell_type": "code",
   "execution_count": 158,
   "metadata": {
    "collapsed": false
   },
   "outputs": [],
   "source": [
    "%autoreload"
   ]
  },
  {
   "cell_type": "code",
   "execution_count": 159,
   "metadata": {
    "collapsed": false
   },
   "outputs": [
    {
     "ename": "TypeError",
     "evalue": "unhashable type: 'numpy.ndarray'",
     "output_type": "error",
     "traceback": [
      "\u001b[0;31m---------------------------------------------------------------------------\u001b[0m",
      "\u001b[0;31mTypeError\u001b[0m                                 Traceback (most recent call last)",
      "\u001b[0;32m<ipython-input-159-8aefe065bcf1>\u001b[0m in \u001b[0;36m<module>\u001b[0;34m()\u001b[0m\n\u001b[0;32m----> 1\u001b[0;31m \u001b[0mfit\u001b[0m \u001b[0;34m=\u001b[0m \u001b[0mligbind\u001b[0m\u001b[0;34m.\u001b[0m\u001b[0mWymFit\u001b[0m\u001b[0;34m(\u001b[0m\u001b[0msim\u001b[0m\u001b[0;34m,\u001b[0m\u001b[0mweight\u001b[0m\u001b[0;34m=\u001b[0m\u001b[0;36m1\u001b[0m\u001b[0;34m)\u001b[0m\u001b[0;34m\u001b[0m\u001b[0m\n\u001b[0m",
      "\u001b[0;32m/Users/michael/thesis2.0/ipythes/working_jan17/simulated_sets/ligbind/ligbind/core.py\u001b[0m in \u001b[0;36m__init__\u001b[0;34m(self, model, guess, bounds, weight, **kwargs)\u001b[0m\n\u001b[1;32m     40\u001b[0m         \u001b[0mself\u001b[0m\u001b[0;34m.\u001b[0m\u001b[0mguess\u001b[0m \u001b[0;34m=\u001b[0m \u001b[0mguess\u001b[0m\u001b[0;34m\u001b[0m\u001b[0m\n\u001b[1;32m     41\u001b[0m         \u001b[0mself\u001b[0m\u001b[0;34m.\u001b[0m\u001b[0mbounds\u001b[0m \u001b[0;34m=\u001b[0m \u001b[0mbounds\u001b[0m\u001b[0;34m\u001b[0m\u001b[0m\n\u001b[0;32m---> 42\u001b[0;31m         \u001b[0mself\u001b[0m\u001b[0;34m.\u001b[0m\u001b[0mfits\u001b[0m \u001b[0;34m=\u001b[0m \u001b[0mhelpers\u001b[0m\u001b[0;34m.\u001b[0m\u001b[0mfitwrap\u001b[0m\u001b[0;34m(\u001b[0m\u001b[0mself\u001b[0m\u001b[0;34m,\u001b[0m\u001b[0mweight\u001b[0m\u001b[0;34m=\u001b[0m\u001b[0mweight\u001b[0m\u001b[0;34m,\u001b[0m\u001b[0;34m**\u001b[0m\u001b[0mkwargs\u001b[0m\u001b[0;34m)\u001b[0m\u001b[0;34m\u001b[0m\u001b[0m\n\u001b[0m\u001b[1;32m     43\u001b[0m         \u001b[0mself\u001b[0m\u001b[0;34m.\u001b[0m\u001b[0mests\u001b[0m \u001b[0;34m=\u001b[0m \u001b[0mnp\u001b[0m\u001b[0;34m.\u001b[0m\u001b[0marray\u001b[0m\u001b[0;34m(\u001b[0m\u001b[0;34m[\u001b[0m\u001b[0mself\u001b[0m\u001b[0;34m.\u001b[0m\u001b[0mfits\u001b[0m\u001b[0;34m[\u001b[0m\u001b[0mi\u001b[0m\u001b[0;34m]\u001b[0m\u001b[0;34m.\u001b[0m\u001b[0mx\u001b[0m \u001b[0;32mfor\u001b[0m \u001b[0mi\u001b[0m \u001b[0;32min\u001b[0m \u001b[0mrange\u001b[0m\u001b[0;34m(\u001b[0m\u001b[0mlen\u001b[0m\u001b[0;34m(\u001b[0m\u001b[0mself\u001b[0m\u001b[0;34m.\u001b[0m\u001b[0mfits\u001b[0m\u001b[0;34m)\u001b[0m\u001b[0;34m)\u001b[0m\u001b[0;34m]\u001b[0m\u001b[0;34m)\u001b[0m\u001b[0;34m\u001b[0m\u001b[0m\n\u001b[1;32m     44\u001b[0m         \u001b[0mself\u001b[0m\u001b[0;34m.\u001b[0m\u001b[0mk11\u001b[0m \u001b[0;34m=\u001b[0m \u001b[0mself\u001b[0m\u001b[0;34m.\u001b[0m\u001b[0mests\u001b[0m\u001b[0;34m[\u001b[0m\u001b[0;34m:\u001b[0m\u001b[0;34m,\u001b[0m\u001b[0;36m0\u001b[0m\u001b[0;34m]\u001b[0m\u001b[0;34m\u001b[0m\u001b[0m\n",
      "\u001b[0;32m/Users/michael/thesis2.0/ipythes/working_jan17/simulated_sets/ligbind/ligbind/helpers.py\u001b[0m in \u001b[0;36mfitwrap\u001b[0;34m(self, weight, **kwargs)\u001b[0m\n\u001b[1;32m     34\u001b[0m \u001b[0;32mdef\u001b[0m \u001b[0mfitwrap\u001b[0m\u001b[0;34m(\u001b[0m\u001b[0mself\u001b[0m\u001b[0;34m,\u001b[0m\u001b[0mweight\u001b[0m\u001b[0;34m=\u001b[0m\u001b[0;36m0\u001b[0m\u001b[0;34m,\u001b[0m\u001b[0;34m**\u001b[0m\u001b[0mkwargs\u001b[0m\u001b[0;34m)\u001b[0m\u001b[0;34m:\u001b[0m\u001b[0;34m\u001b[0m\u001b[0m\n\u001b[1;32m     35\u001b[0m     \u001b[0;32mif\u001b[0m \u001b[0mweight\u001b[0m \u001b[0;34m==\u001b[0m \u001b[0;36m1\u001b[0m\u001b[0;34m:\u001b[0m\u001b[0;34m\u001b[0m\u001b[0m\n\u001b[0;32m---> 36\u001b[0;31m         \u001b[0;32mreturn\u001b[0m \u001b[0mfitter\u001b[0m\u001b[0;34m(\u001b[0m\u001b[0mself\u001b[0m\u001b[0;34m,\u001b[0m\u001b[0merr\u001b[0m\u001b[0;34m=\u001b[0m\u001b[0;34m(\u001b[0m\u001b[0mself\u001b[0m\u001b[0;34m.\u001b[0m\u001b[0mmodel\u001b[0m\u001b[0;34m.\u001b[0m\u001b[0mstdset\u001b[0m\u001b[0;34m)\u001b[0m\u001b[0;34m,\u001b[0m\u001b[0;34m**\u001b[0m\u001b[0mkwargs\u001b[0m\u001b[0;34m)\u001b[0m\u001b[0;34m\u001b[0m\u001b[0m\n\u001b[0m\u001b[1;32m     37\u001b[0m     \u001b[0;32melif\u001b[0m \u001b[0mweight\u001b[0m \u001b[0;34m==\u001b[0m \u001b[0;36m2\u001b[0m\u001b[0;34m:\u001b[0m\u001b[0;34m\u001b[0m\u001b[0m\n\u001b[1;32m     38\u001b[0m         \u001b[0;32mreturn\u001b[0m \u001b[0mfitter\u001b[0m\u001b[0;34m(\u001b[0m\u001b[0mself\u001b[0m\u001b[0;34m,\u001b[0m\u001b[0merr\u001b[0m\u001b[0;34m=\u001b[0m\u001b[0;34m(\u001b[0m\u001b[0mself\u001b[0m\u001b[0;34m.\u001b[0m\u001b[0mmodel\u001b[0m\u001b[0;34m.\u001b[0m\u001b[0mmeanset\u001b[0m\u001b[0;34m)\u001b[0m\u001b[0;34m,\u001b[0m\u001b[0;34m**\u001b[0m\u001b[0mkwargs\u001b[0m\u001b[0;34m)\u001b[0m\u001b[0;34m\u001b[0m\u001b[0m\n",
      "\u001b[0;32m/Users/michael/thesis2.0/ipythes/working_jan17/simulated_sets/ligbind/ligbind/helpers.py\u001b[0m in \u001b[0;36mfitter\u001b[0;34m(self, err, **kwargs)\u001b[0m\n\u001b[1;32m     30\u001b[0m         return [optimize.least_squares(objfunc,self.guess,bounds=self.bounds, \\\n\u001b[1;32m     31\u001b[0m                 args=(self.model.modfunc,self.model.meanset[i],self.model.ligs,self.model.rtot,{err:err[i]}),**kwargs) \\\n\u001b[0;32m---> 32\u001b[0;31m                 for i in range(self.model.meanset.shape[0])]\n\u001b[0m\u001b[1;32m     33\u001b[0m \u001b[0;34m\u001b[0m\u001b[0m\n\u001b[1;32m     34\u001b[0m \u001b[0;32mdef\u001b[0m \u001b[0mfitwrap\u001b[0m\u001b[0;34m(\u001b[0m\u001b[0mself\u001b[0m\u001b[0;34m,\u001b[0m\u001b[0mweight\u001b[0m\u001b[0;34m=\u001b[0m\u001b[0;36m0\u001b[0m\u001b[0;34m,\u001b[0m\u001b[0;34m**\u001b[0m\u001b[0mkwargs\u001b[0m\u001b[0;34m)\u001b[0m\u001b[0;34m:\u001b[0m\u001b[0;34m\u001b[0m\u001b[0m\n",
      "\u001b[0;32m/Users/michael/thesis2.0/ipythes/working_jan17/simulated_sets/ligbind/ligbind/helpers.py\u001b[0m in \u001b[0;36m<listcomp>\u001b[0;34m(.0)\u001b[0m\n\u001b[1;32m     30\u001b[0m         return [optimize.least_squares(objfunc,self.guess,bounds=self.bounds, \\\n\u001b[1;32m     31\u001b[0m                 args=(self.model.modfunc,self.model.meanset[i],self.model.ligs,self.model.rtot,{err:err[i]}),**kwargs) \\\n\u001b[0;32m---> 32\u001b[0;31m                 for i in range(self.model.meanset.shape[0])]\n\u001b[0m\u001b[1;32m     33\u001b[0m \u001b[0;34m\u001b[0m\u001b[0m\n\u001b[1;32m     34\u001b[0m \u001b[0;32mdef\u001b[0m \u001b[0mfitwrap\u001b[0m\u001b[0;34m(\u001b[0m\u001b[0mself\u001b[0m\u001b[0;34m,\u001b[0m\u001b[0mweight\u001b[0m\u001b[0;34m=\u001b[0m\u001b[0;36m0\u001b[0m\u001b[0;34m,\u001b[0m\u001b[0;34m**\u001b[0m\u001b[0mkwargs\u001b[0m\u001b[0;34m)\u001b[0m\u001b[0;34m:\u001b[0m\u001b[0;34m\u001b[0m\u001b[0m\n",
      "\u001b[0;31mTypeError\u001b[0m: unhashable type: 'numpy.ndarray'"
     ]
    }
   ],
   "source": [
    "fit = ligbind.WymFit(sim,weight=1)"
   ]
  },
  {
   "cell_type": "code",
   "execution_count": 163,
   "metadata": {
    "collapsed": false
   },
   "outputs": [
    {
     "ename": "ValueError",
     "evalue": "operands could not be broadcast together with shapes (108,) (1,6,18) ",
     "output_type": "error",
     "traceback": [
      "\u001b[0;31m---------------------------------------------------------------------------\u001b[0m",
      "\u001b[0;31mValueError\u001b[0m                                Traceback (most recent call last)",
      "\u001b[0;32m<ipython-input-163-8a7c2c0f1b86>\u001b[0m in \u001b[0;36m<module>\u001b[0;34m()\u001b[0m\n\u001b[0;32m----> 1\u001b[0;31m \u001b[0mligbind\u001b[0m\u001b[0;34m.\u001b[0m\u001b[0mhelpers\u001b[0m\u001b[0;34m.\u001b[0m\u001b[0mobjfunc\u001b[0m\u001b[0;34m(\u001b[0m\u001b[0ma\u001b[0m\u001b[0;34m.\u001b[0m\u001b[0mparms\u001b[0m\u001b[0;34m,\u001b[0m\u001b[0ma\u001b[0m\u001b[0;34m.\u001b[0m\u001b[0mmodfunc\u001b[0m\u001b[0;34m,\u001b[0m\u001b[0ma\u001b[0m\u001b[0;34m.\u001b[0m\u001b[0mmeanset\u001b[0m\u001b[0;34m[\u001b[0m\u001b[0;36m0\u001b[0m\u001b[0;34m]\u001b[0m\u001b[0;34m,\u001b[0m\u001b[0ma\u001b[0m\u001b[0;34m.\u001b[0m\u001b[0mligs\u001b[0m\u001b[0;34m,\u001b[0m\u001b[0ma\u001b[0m\u001b[0;34m.\u001b[0m\u001b[0mrtot\u001b[0m\u001b[0;34m,\u001b[0m\u001b[0merr\u001b[0m\u001b[0;34m=\u001b[0m\u001b[0ma\u001b[0m\u001b[0;34m.\u001b[0m\u001b[0mmeanset\u001b[0m\u001b[0;34m)\u001b[0m\u001b[0;34m\u001b[0m\u001b[0m\n\u001b[0m",
      "\u001b[0;32m/Users/michael/thesis2.0/ipythes/working_jan17/simulated_sets/ligbind/ligbind/helpers.py\u001b[0m in \u001b[0;36mobjfunc\u001b[0;34m(parm, model, data, err, *modelargs)\u001b[0m\n\u001b[1;32m     17\u001b[0m         \u001b[0;32mreturn\u001b[0m \u001b[0;34m(\u001b[0m\u001b[0mmodel\u001b[0m\u001b[0;34m(\u001b[0m\u001b[0mparm\u001b[0m\u001b[0;34m,\u001b[0m\u001b[0;34m*\u001b[0m\u001b[0mmodelargs\u001b[0m\u001b[0;34m)\u001b[0m \u001b[0;34m-\u001b[0m \u001b[0mdata\u001b[0m\u001b[0;34m)\u001b[0m\u001b[0;34m\u001b[0m\u001b[0m\n\u001b[1;32m     18\u001b[0m     \u001b[0;32melse\u001b[0m\u001b[0;34m:\u001b[0m\u001b[0;34m\u001b[0m\u001b[0m\n\u001b[0;32m---> 19\u001b[0;31m         \u001b[0;32mreturn\u001b[0m \u001b[0;34m(\u001b[0m\u001b[0mmodel\u001b[0m\u001b[0;34m(\u001b[0m\u001b[0mparm\u001b[0m\u001b[0;34m,\u001b[0m\u001b[0;34m*\u001b[0m\u001b[0mmodelargs\u001b[0m\u001b[0;34m)\u001b[0m \u001b[0;34m-\u001b[0m \u001b[0mdata\u001b[0m\u001b[0;34m)\u001b[0m\u001b[0;34m/\u001b[0m\u001b[0;34m(\u001b[0m\u001b[0merr\u001b[0m\u001b[0;34m)\u001b[0m\u001b[0;34m\u001b[0m\u001b[0m\n\u001b[0m\u001b[1;32m     20\u001b[0m \u001b[0;34m\u001b[0m\u001b[0m\n\u001b[1;32m     21\u001b[0m \u001b[0;34m\u001b[0m\u001b[0m\n",
      "\u001b[0;31mValueError\u001b[0m: operands could not be broadcast together with shapes (108,) (1,6,18) "
     ]
    }
   ],
   "source": [
    "ligbind.helpers.objfunc(a.parms,a.modfunc,a.meanset[0],a.ligs,a.rtot,err=a.meanset)"
   ]
  },
  {
   "cell_type": "code",
   "execution_count": 164,
   "metadata": {
    "collapsed": true
   },
   "outputs": [],
   "source": [
    "%autoreload"
   ]
  },
  {
   "cell_type": "code",
   "execution_count": 165,
   "metadata": {
    "collapsed": false
   },
   "outputs": [
    {
     "data": {
      "text/plain": [
       "array([-0.01849502, -0.01987659, -0.00282402, -0.00950451,  0.02911408,\n",
       "        0.03118994,  0.02258504,  0.03359831,  0.00428112, -0.03544527,\n",
       "        0.01343927,  0.0305377 , -0.01718657, -0.00217787,  0.04724136,\n",
       "       -0.04764084,  0.00234468,  0.00853664,  0.04171013,  0.0718433 ,\n",
       "       -0.03514099, -0.02982357,  0.06374749, -0.01530035,  0.00105075,\n",
       "        0.00206568,  0.07282349, -0.00761861, -0.02565792,  0.02359055,\n",
       "       -0.07803186,  0.02540079, -0.00561187, -0.00179506,  0.00936224,\n",
       "        0.0310067 , -0.02608429,  0.0712658 ,  0.04162645, -0.01205042,\n",
       "        0.03474555, -0.02928116, -0.0029749 ,  0.05846918,  0.02606851,\n",
       "       -0.02703854, -0.00989105,  0.01973943, -0.03027221, -0.02696905,\n",
       "       -0.00322289, -0.01256721, -0.01353262, -0.07376765,  0.01968443,\n",
       "       -0.00576384, -0.01051888, -0.0234848 ,  0.03829533,  0.0521209 ,\n",
       "        0.0001756 ,  0.00249331,  0.00192988, -0.00490505, -0.01360024,\n",
       "       -0.00855142,  0.00733563,  0.01143917,  0.0401751 , -0.01946857,\n",
       "       -0.03342466,  0.00516523, -0.03804234,  0.00222739,  0.03365434,\n",
       "        0.02076454,  0.03398056,  0.0281109 ,  0.05051714,  0.00337178,\n",
       "       -0.04229236, -0.03207479, -0.04883274, -0.00345313, -0.05381163,\n",
       "       -0.01493173,  0.01015174, -0.01911429, -0.01390498, -0.00415951,\n",
       "       -0.03720924, -0.01384566, -0.00264048, -0.00836785, -0.03748857,\n",
       "       -0.00170812, -0.0266796 ,  0.03968793,  0.05902397,  0.01653988,\n",
       "       -0.03017099,  0.01191584, -0.03119248,  0.0223533 , -0.06099701,\n",
       "        0.00598523, -0.03318324,  0.04813985])"
      ]
     },
     "execution_count": 165,
     "metadata": {},
     "output_type": "execute_result"
    }
   ],
   "source": [
    "ligbind.helpers.objfunc(a.parms,a.modfunc,a.meanset[0],a.ligs,a.rtot,err=a.meanset[0])"
   ]
  },
  {
   "cell_type": "code",
   "execution_count": 166,
   "metadata": {
    "collapsed": false
   },
   "outputs": [
    {
     "ename": "AttributeError",
     "evalue": "'WymSim' object has no attribute 'model'",
     "output_type": "error",
     "traceback": [
      "\u001b[0;31m---------------------------------------------------------------------------\u001b[0m",
      "\u001b[0;31mAttributeError\u001b[0m                            Traceback (most recent call last)",
      "\u001b[0;32m<ipython-input-166-147162b0e90c>\u001b[0m in \u001b[0;36m<module>\u001b[0;34m()\u001b[0m\n\u001b[0;32m----> 1\u001b[0;31m \u001b[0mligbind\u001b[0m\u001b[0;34m.\u001b[0m\u001b[0mhelpers\u001b[0m\u001b[0;34m.\u001b[0m\u001b[0mfitter\u001b[0m\u001b[0;34m(\u001b[0m\u001b[0msim\u001b[0m\u001b[0;34m)\u001b[0m\u001b[0;34m\u001b[0m\u001b[0m\n\u001b[0m",
      "\u001b[0;32m/Users/michael/thesis2.0/ipythes/working_jan17/simulated_sets/ligbind/ligbind/helpers.py\u001b[0m in \u001b[0;36mfitter\u001b[0;34m(self, err, **kwargs)\u001b[0m\n\u001b[1;32m     27\u001b[0m         return [optimize.least_squares(objfunc,self.guess,bounds=self.bounds, \\\n\u001b[1;32m     28\u001b[0m                 args=(self.model.modfunc,self.model.meanset[i],self.model.ligs,self.model.rtot),**kwargs) \\\n\u001b[0;32m---> 29\u001b[0;31m                 for i in range(self.model.meanset.shape[0])]\n\u001b[0m\u001b[1;32m     30\u001b[0m     \u001b[0;32melse\u001b[0m\u001b[0;34m:\u001b[0m\u001b[0;34m\u001b[0m\u001b[0m\n\u001b[1;32m     31\u001b[0m         return [optimize.least_squares(objfunc,self.guess,bounds=self.bounds, \\\n",
      "\u001b[0;31mAttributeError\u001b[0m: 'WymSim' object has no attribute 'model'"
     ]
    }
   ],
   "source": [
    "ligbind.helpers.fitter()"
   ]
  },
  {
   "cell_type": "code",
   "execution_count": 174,
   "metadata": {
    "collapsed": false
   },
   "outputs": [
    {
     "ename": "TypeError",
     "evalue": "least_squares() got an unexpected keyword argument 'err'",
     "output_type": "error",
     "traceback": [
      "\u001b[0;31m---------------------------------------------------------------------------\u001b[0m",
      "\u001b[0;31mTypeError\u001b[0m                                 Traceback (most recent call last)",
      "\u001b[0;32m<ipython-input-174-c6d53a3953e8>\u001b[0m in \u001b[0;36m<module>\u001b[0;34m()\u001b[0m\n\u001b[0;32m----> 1\u001b[0;31m \u001b[0moptimize\u001b[0m\u001b[0;34m.\u001b[0m\u001b[0mleast_squares\u001b[0m\u001b[0;34m(\u001b[0m\u001b[0mligbind\u001b[0m\u001b[0;34m.\u001b[0m\u001b[0mhelpers\u001b[0m\u001b[0;34m.\u001b[0m\u001b[0mobjfunc\u001b[0m\u001b[0;34m,\u001b[0m\u001b[0ma\u001b[0m\u001b[0;34m.\u001b[0m\u001b[0mparms\u001b[0m\u001b[0;34m,\u001b[0m\u001b[0margs\u001b[0m\u001b[0;34m=\u001b[0m\u001b[0;34m(\u001b[0m\u001b[0ma\u001b[0m\u001b[0;34m.\u001b[0m\u001b[0mmodfunc\u001b[0m\u001b[0;34m,\u001b[0m\u001b[0ma\u001b[0m\u001b[0;34m.\u001b[0m\u001b[0mmeanset\u001b[0m\u001b[0;34m[\u001b[0m\u001b[0;36m0\u001b[0m\u001b[0;34m]\u001b[0m\u001b[0;34m,\u001b[0m\u001b[0ma\u001b[0m\u001b[0;34m.\u001b[0m\u001b[0mligs\u001b[0m\u001b[0;34m,\u001b[0m\u001b[0ma\u001b[0m\u001b[0;34m.\u001b[0m\u001b[0mrtot\u001b[0m\u001b[0;34m)\u001b[0m\u001b[0;34m,\u001b[0m\u001b[0merr\u001b[0m\u001b[0;34m=\u001b[0m\u001b[0ma\u001b[0m\u001b[0;34m.\u001b[0m\u001b[0mmeanset\u001b[0m\u001b[0;34m[\u001b[0m\u001b[0;36m0\u001b[0m\u001b[0;34m]\u001b[0m\u001b[0;34m)\u001b[0m\u001b[0;34m.\u001b[0m\u001b[0mx\u001b[0m\u001b[0;34m\u001b[0m\u001b[0m\n\u001b[0m",
      "\u001b[0;31mTypeError\u001b[0m: least_squares() got an unexpected keyword argument 'err'"
     ]
    }
   ],
   "source": [
    "optimize.least_squares(ligbind.helpers.objfunc,a.parms,args=(a.modfunc,a.meanset[0],a.ligs,a.rtot),err=a.meanset[0]).x"
   ]
  },
  {
   "cell_type": "code",
   "execution_count": 179,
   "metadata": {
    "collapsed": true
   },
   "outputs": [],
   "source": [
    "%autoreload"
   ]
  },
  {
   "cell_type": "code",
   "execution_count": 176,
   "metadata": {
    "collapsed": false
   },
   "outputs": [
    {
     "data": {
      "text/plain": [
       "array([ -5.08990694e-05,  -1.09271615e-04,  -3.03611886e-05,\n",
       "        -2.03635869e-04,   1.17658811e-03,   2.41845657e-03,\n",
       "         3.27734920e-03,   8.42638783e-03,   1.76136450e-03,\n",
       "        -2.15534474e-02,   9.82265001e-03,   2.52387012e-02,\n",
       "        -1.60911276e-02,  -2.09204800e-03,   4.41554871e-02,\n",
       "        -4.94892446e-02,   2.32663268e-03,   8.44158245e-03,\n",
       "         9.84297263e-05,   3.28769851e-04,  -3.55610523e-04,\n",
       "        -5.94709945e-04,   2.27635447e-03,  -1.13874692e-03,\n",
       "         1.43674420e-04,   4.98112244e-04,   2.65341036e-02,\n",
       "        -4.33228014e-03,  -1.90487093e-02,   1.93711206e-02,\n",
       "        -7.73367720e-02,   2.36585153e-02,  -5.51405005e-03,\n",
       "        -1.77743918e-03,   9.22133826e-03,   2.99863158e-02,\n",
       "        -5.97578935e-05,   2.96214292e-04,   3.54343512e-04,\n",
       "        -2.14446160e-04,   1.16076909e-03,  -2.01725147e-03,\n",
       "        -3.74537800e-04,   1.23454003e-02,   9.30500082e-03,\n",
       "        -1.49356039e-02,  -6.99618635e-03,   1.59592692e-02,\n",
       "        -2.82227598e-02,  -2.63229556e-02,  -3.15002170e-03,\n",
       "        -1.25611955e-02,  -1.36282609e-02,  -7.93806227e-02,\n",
       "         3.85305132e-05,  -2.30951071e-05,  -8.43595207e-05,\n",
       "        -3.78634867e-04,   1.14306861e-03,   2.97683895e-03,\n",
       "         1.98859635e-05,   5.05308674e-04,   6.49008071e-04,\n",
       "        -2.47761360e-03,  -9.20070248e-03,  -6.89275849e-03,\n",
       "         6.46417083e-03,   1.06336900e-02,   3.74300065e-02,\n",
       "        -1.95430632e-02,  -3.43063714e-02,   5.11823156e-03,\n",
       "        -6.77540347e-05,   7.60085549e-06,   2.21864712e-04,\n",
       "         2.75163121e-04,   8.75993427e-04,   1.41599857e-03,\n",
       "         4.71228097e-03,   5.94807742e-04,  -1.31148226e-02,\n",
       "        -1.49383717e-02,  -3.14226476e-02,  -2.60244405e-03,\n",
       "        -4.84984495e-02,  -1.39192306e-02,   9.61350110e-03,\n",
       "        -1.90497133e-02,  -1.39401783e-02,  -4.15284983e-03,\n",
       "        -5.94195870e-05,  -4.30936452e-05,  -1.61926132e-05,\n",
       "        -1.02475959e-04,  -9.32484839e-04,  -7.96610270e-05,\n",
       "        -2.41892562e-03,   6.10385738e-03,   1.50341511e-02,\n",
       "         6.71956083e-03,  -1.76602656e-02,   8.33314773e-03,\n",
       "        -2.63180992e-02,   1.95427378e-02,  -6.11719414e-02,\n",
       "         5.76666286e-03,  -3.37790128e-02,   4.55599441e-02])"
      ]
     },
     "execution_count": 176,
     "metadata": {},
     "output_type": "execute_result"
    }
   ],
   "source": [
    "ligbind.helpers.objfunc(a.parms,a.modfunc,a.meanset[0],a.ligs,a.rtot)"
   ]
  },
  {
   "cell_type": "code",
   "execution_count": 180,
   "metadata": {
    "collapsed": false
   },
   "outputs": [
    {
     "data": {
      "text/plain": [
       "array([-0.01849502, -0.01987659, -0.00282402, -0.00950451,  0.02911408,\n",
       "        0.03118994,  0.02258504,  0.03359831,  0.00428112, -0.03544527,\n",
       "        0.01343927,  0.0305377 , -0.01718657, -0.00217787,  0.04724136,\n",
       "       -0.04764084,  0.00234468,  0.00853664,  0.04171013,  0.0718433 ,\n",
       "       -0.03514099, -0.02982357,  0.06374749, -0.01530035,  0.00105075,\n",
       "        0.00206568,  0.07282349, -0.00761861, -0.02565792,  0.02359055,\n",
       "       -0.07803186,  0.02540079, -0.00561187, -0.00179506,  0.00936224,\n",
       "        0.0310067 , -0.02608429,  0.0712658 ,  0.04162645, -0.01205042,\n",
       "        0.03474555, -0.02928116, -0.0029749 ,  0.05846918,  0.02606851,\n",
       "       -0.02703854, -0.00989105,  0.01973943, -0.03027221, -0.02696905,\n",
       "       -0.00322289, -0.01256721, -0.01353262, -0.07376765,  0.01968443,\n",
       "       -0.00576384, -0.01051888, -0.0234848 ,  0.03829533,  0.0521209 ,\n",
       "        0.0001756 ,  0.00249331,  0.00192988, -0.00490505, -0.01360024,\n",
       "       -0.00855142,  0.00733563,  0.01143917,  0.0401751 , -0.01946857,\n",
       "       -0.03342466,  0.00516523, -0.03804234,  0.00222739,  0.03365434,\n",
       "        0.02076454,  0.03398056,  0.0281109 ,  0.05051714,  0.00337178,\n",
       "       -0.04229236, -0.03207479, -0.04883274, -0.00345313, -0.05381163,\n",
       "       -0.01493173,  0.01015174, -0.01911429, -0.01390498, -0.00415951,\n",
       "       -0.03720924, -0.01384566, -0.00264048, -0.00836785, -0.03748857,\n",
       "       -0.00170812, -0.0266796 ,  0.03968793,  0.05902397,  0.01653988,\n",
       "       -0.03017099,  0.01191584, -0.03119248,  0.0223533 , -0.06099701,\n",
       "        0.00598523, -0.03318324,  0.04813985])"
      ]
     },
     "execution_count": 180,
     "metadata": {},
     "output_type": "execute_result"
    }
   ],
   "source": [
    "ligbind.helpers.objfunc_wt(a.parms,a.modfunc,a.meanset[0],a.meanset[0],a.ligs,a.rtot)"
   ]
  },
  {
   "cell_type": "code",
   "execution_count": 191,
   "metadata": {
    "collapsed": true
   },
   "outputs": [],
   "source": [
    "%autoreload"
   ]
  },
  {
   "cell_type": "code",
   "execution_count": 200,
   "metadata": {
    "collapsed": false
   },
   "outputs": [],
   "source": [
    "sim = ligbind.WymSim(sets=1)"
   ]
  },
  {
   "cell_type": "code",
   "execution_count": 201,
   "metadata": {
    "collapsed": false
   },
   "outputs": [],
   "source": [
    "fit = ligbind.WymFit(sim)"
   ]
  },
  {
   "cell_type": "code",
   "execution_count": 202,
   "metadata": {
    "collapsed": false
   },
   "outputs": [
    {
     "data": {
      "text/plain": [
       "array([ 2.91545999])"
      ]
     },
     "execution_count": 202,
     "metadata": {},
     "output_type": "execute_result"
    }
   ],
   "source": [
    "fit.k11"
   ]
  },
  {
   "cell_type": "code",
   "execution_count": 203,
   "metadata": {
    "collapsed": true
   },
   "outputs": [],
   "source": [
    "fit = ligbind.WymFit(sim,weight=1)"
   ]
  },
  {
   "cell_type": "code",
   "execution_count": 204,
   "metadata": {
    "collapsed": false
   },
   "outputs": [
    {
     "data": {
      "text/plain": [
       "array([ 3.05315533])"
      ]
     },
     "execution_count": 204,
     "metadata": {},
     "output_type": "execute_result"
    }
   ],
   "source": [
    "fit.k11"
   ]
  },
  {
   "cell_type": "code",
   "execution_count": 205,
   "metadata": {
    "collapsed": true
   },
   "outputs": [],
   "source": [
    "fit = ligbind.WymFit(sim,weight=2)"
   ]
  },
  {
   "cell_type": "code",
   "execution_count": 206,
   "metadata": {
    "collapsed": false
   },
   "outputs": [
    {
     "data": {
      "text/plain": [
       "array([ 3.09447159])"
      ]
     },
     "execution_count": 206,
     "metadata": {},
     "output_type": "execute_result"
    }
   ],
   "source": [
    "fit.k11"
   ]
  },
  {
   "cell_type": "code",
   "execution_count": 207,
   "metadata": {
    "collapsed": true
   },
   "outputs": [],
   "source": [
    "sim2 = sim"
   ]
  },
  {
   "cell_type": "code",
   "execution_count": 216,
   "metadata": {
    "collapsed": false
   },
   "outputs": [
    {
     "data": {
      "text/plain": [
       "array([ 0.00273505,  0.00567117,  0.01081074,  0.02156871,  0.04246017,\n",
       "        0.08057386,  0.1449613 ,  0.24753945,  0.42427891,  0.58297736,\n",
       "        0.76425809,  0.83366682,  0.88542614])"
      ]
     },
     "execution_count": 216,
     "metadata": {},
     "output_type": "execute_result"
    }
   ],
   "source": [
    "sim2.meanset[0][0][:-5]"
   ]
  },
  {
   "cell_type": "code",
   "execution_count": 221,
   "metadata": {
    "collapsed": false
   },
   "outputs": [
    {
     "data": {
      "text/plain": [
       "[-0.3123284815435444,\n",
       " 0.3392847060461844,\n",
       " -0.15590853388271336,\n",
       " -0.5017896732977485,\n",
       " 0.2355688917260193,\n",
       " -1.7636052568042102,\n",
       " -1.0958620439447126]"
      ]
     },
     "execution_count": 221,
     "metadata": {},
     "output_type": "execute_result"
    }
   ],
   "source": [
    "np.random.seed(15)\n",
    "[np.random.normal() for i in range(7)]"
   ]
  },
  {
   "cell_type": "code",
   "execution_count": 222,
   "metadata": {
    "collapsed": false
   },
   "outputs": [
    {
     "data": {
      "text/plain": [
       "[-1.0877657414779511,\n",
       " -0.30517005215449283,\n",
       " -0.4737483719561787,\n",
       " -0.20059453852255774,\n",
       " 0.35519677301463215,\n",
       " 0.6895177232276195,\n",
       " 0.41058967536886726]"
      ]
     },
     "execution_count": 222,
     "metadata": {},
     "output_type": "execute_result"
    }
   ],
   "source": [
    "[np.random.normal() for i in range(7)]"
   ]
  },
  {
   "cell_type": "code",
   "execution_count": 223,
   "metadata": {
    "collapsed": false
   },
   "outputs": [
    {
     "data": {
      "text/plain": [
       "[-0.3123284815435444,\n",
       " 0.3392847060461844,\n",
       " -0.15590853388271336,\n",
       " -0.5017896732977485,\n",
       " 0.2355688917260193,\n",
       " -1.7636052568042102,\n",
       " -1.0958620439447126]"
      ]
     },
     "execution_count": 223,
     "metadata": {},
     "output_type": "execute_result"
    }
   ],
   "source": [
    "np.random.seed(15)\n",
    "[np.random.normal() for i in range(7)]"
   ]
  },
  {
   "cell_type": "code",
   "execution_count": 225,
   "metadata": {
    "collapsed": true
   },
   "outputs": [],
   "source": [
    "%autoreload"
   ]
  },
  {
   "cell_type": "code",
   "execution_count": 236,
   "metadata": {
    "collapsed": false
   },
   "outputs": [],
   "source": [
    "q = ligbind.WymSimTest(sets=1)"
   ]
  },
  {
   "cell_type": "code",
   "execution_count": 237,
   "metadata": {
    "collapsed": true
   },
   "outputs": [],
   "source": [
    "q1 = ligbind.WymSimTest(sets=1)"
   ]
  },
  {
   "cell_type": "code",
   "execution_count": 231,
   "metadata": {
    "collapsed": false
   },
   "outputs": [
    {
     "data": {
      "text/plain": [
       "array([[ 0.00270114,  0.00538823,  0.01072068,  0.02122155,  0.04158962,\n",
       "         0.07995809,  0.14838883,  0.25922436,  0.41318706,  0.58652335,\n",
       "         0.74071453,  0.85171564,  0.92017061,  0.95850362,  0.97883397,\n",
       "         0.98930956,  0.99462754,  0.99730691],\n",
       "       [ 0.00245828,  0.00490498,  0.00976393,  0.01934623,  0.03798528,\n",
       "         0.07328746,  0.1368788 ,  0.24163521,  0.39089596,  0.5643122 ,\n",
       "         0.72336186,  0.84051004,  0.91375548,  0.95506705,  0.97705513,\n",
       "         0.98840459,  0.99417112,  0.99707771],\n",
       "       [ 0.0022312 ,  0.00445269,  0.0088668 ,  0.01758129,  0.03456848,\n",
       "         0.06687522,  0.12552496,  0.22348911,  0.36624904,  0.53744654,\n",
       "         0.70032845,  0.82445614,  0.90407663,  0.94972034,  0.97424055,\n",
       "         0.98695999,  0.99343923,  0.99670934],\n",
       "       [ 0.00199594,  0.0039838 ,  0.00793546,  0.01574391,  0.03099184,\n",
       "         0.06009095,  0.11326691,  0.20317096,  0.33694389,  0.50263769,\n",
       "         0.66730939,  0.79914398,  0.88766661,  0.94021959,  0.96910167,\n",
       "         0.98428349,  0.99207283,  0.99601891],\n",
       "       [ 0.00171326,  0.00342004,  0.00681432,  0.01352675,  0.02665525,\n",
       "         0.05178786,  0.09799311,  0.17700229,  0.29698425,  0.45079722,\n",
       "         0.61205236,  0.75104444,  0.85276486,  0.9182719 ,  0.95659371,\n",
       "         0.97757164,  0.98859096,  0.99424488],\n",
       "       [ 0.00153748,  0.00306934,  0.00611626,  0.01214392,  0.02394136,\n",
       "         0.04655704,  0.08824681,  0.15990017,  0.26974677,  0.41298363,\n",
       "         0.56767905,  0.70766657,  0.81741406,  0.89380902,  0.94169589,\n",
       "         0.9692484 ,  0.98417501,  0.99196799]])"
      ]
     },
     "execution_count": 231,
     "metadata": {},
     "output_type": "execute_result"
    }
   ],
   "source": [
    "q.bfrac"
   ]
  },
  {
   "cell_type": "code",
   "execution_count": 233,
   "metadata": {
    "collapsed": false
   },
   "outputs": [
    {
     "data": {
      "text/plain": [
       "array([[[ 0.00285723,  0.00552087,  0.01062263,  0.02169948,  0.04234289,\n",
       "          0.0781014 ,  0.14567606,  0.25004185,  0.41348775,  0.60589387,\n",
       "          0.76907874,  0.85919198,  0.91247572,  0.95677999,  0.972374  ,\n",
       "          0.99273375,  0.97852965,  1.03073272],\n",
       "        [ 0.00242688,  0.00482434,  0.00956499,  0.01918714,  0.03789355,\n",
       "          0.07017042,  0.13976147,  0.23412444,  0.38262786,  0.58976243,\n",
       "          0.74341268,  0.86400806,  0.88793001,  0.94960804,  0.92172542,\n",
       "          0.93136425,  0.96030692,  0.98644254],\n",
       "        [ 0.00216741,  0.00428931,  0.00874465,  0.01828014,  0.03448915,\n",
       "          0.06751756,  0.13019756,  0.21939485,  0.36211205,  0.53782346,\n",
       "          0.68416273,  0.84104894,  0.94626566,  0.96564281,  1.01582561,\n",
       "          1.00072362,  1.05701349,  0.96149661],\n",
       "        [ 0.0018654 ,  0.00401131,  0.00775996,  0.01547102,  0.03131623,\n",
       "          0.06189808,  0.11326318,  0.19597788,  0.33457891,  0.4954645 ,\n",
       "          0.66817152,  0.7651621 ,  0.86704916,  0.99355371,  0.95431057,\n",
       "          1.02020657,  1.0045231 ,  0.93858243],\n",
       "        [ 0.00169589,  0.00342806,  0.00679294,  0.01332371,  0.02651859,\n",
       "          0.05130047,  0.10146774,  0.17806364,  0.30251172,  0.45009189,\n",
       "          0.59196995,  0.74495516,  0.87552017,  0.96361088,  0.93119349,\n",
       "          0.98637666,  0.9893228 ,  1.0208343 ],\n",
       "        [ 0.0014779 ,  0.00301504,  0.00625283,  0.01188798,  0.02339151,\n",
       "          0.04580101,  0.08956906,  0.15740512,  0.26841688,  0.40817108,\n",
       "          0.57128607,  0.689093  ,  0.78057635,  0.91713112,  0.93517448,\n",
       "          0.9979859 ,  0.99262975,  1.02994726]]])"
      ]
     },
     "execution_count": 233,
     "metadata": {},
     "output_type": "execute_result"
    }
   ],
   "source": [
    "q.meanset"
   ]
  },
  {
   "cell_type": "code",
   "execution_count": 238,
   "metadata": {
    "collapsed": false
   },
   "outputs": [
    {
     "data": {
      "text/plain": [
       "array([[[ True,  True,  True,  True,  True,  True,  True,  True,  True,\n",
       "          True,  True,  True,  True,  True,  True,  True,  True,  True],\n",
       "        [ True,  True,  True,  True,  True,  True,  True,  True,  True,\n",
       "          True,  True,  True,  True,  True,  True,  True,  True,  True],\n",
       "        [ True,  True,  True,  True,  True,  True,  True,  True,  True,\n",
       "          True,  True,  True,  True,  True,  True,  True,  True,  True],\n",
       "        [ True,  True,  True,  True,  True,  True,  True,  True,  True,\n",
       "          True,  True,  True,  True,  True,  True,  True,  True,  True],\n",
       "        [ True,  True,  True,  True,  True,  True,  True,  True,  True,\n",
       "          True,  True,  True,  True,  True,  True,  True,  True,  True],\n",
       "        [ True,  True,  True,  True,  True,  True,  True,  True,  True,\n",
       "          True,  True,  True,  True,  True,  True,  True,  True,  True]]], dtype=bool)"
      ]
     },
     "execution_count": 238,
     "metadata": {},
     "output_type": "execute_result"
    }
   ],
   "source": [
    "q.meanset == q.meanset"
   ]
  },
  {
   "cell_type": "code",
   "execution_count": 240,
   "metadata": {
    "collapsed": true
   },
   "outputs": [],
   "source": [
    "q = ligbind.WymSimTest(ligrange=np.array([0.001,100.,2.]), sets=1)"
   ]
  },
  {
   "cell_type": "code",
   "execution_count": 241,
   "metadata": {
    "collapsed": true
   },
   "outputs": [],
   "source": [
    "q1 = ligbind.WymSimTest(ligrange=np.array([0.001,50.,2.]), sets=1)"
   ]
  },
  {
   "cell_type": "code",
   "execution_count": 244,
   "metadata": {
    "collapsed": false
   },
   "outputs": [
    {
     "data": {
      "text/plain": [
       "array([ 0.00285723,  0.00552087,  0.01062263,  0.02169948,  0.04234289,\n",
       "        0.0781014 ,  0.14567606,  0.25004185,  0.41348775,  0.60589387,\n",
       "        0.76907874,  0.85919198,  0.91247572,  0.95677999,  0.972374  ,\n",
       "        0.99273375,  0.97852965,  1.03073272])"
      ]
     },
     "execution_count": 244,
     "metadata": {},
     "output_type": "execute_result"
    }
   ],
   "source": [
    "q.meanset[0][0]"
   ]
  },
  {
   "cell_type": "code",
   "execution_count": 245,
   "metadata": {
    "collapsed": false
   },
   "outputs": [
    {
     "data": {
      "text/plain": [
       "array([ 0.00271497,  0.00550807,  0.01047065,  0.0217452 ,  0.04153718,\n",
       "        0.07896375,  0.14826851,  0.2651968 ,  0.4129047 ,  0.59990969,\n",
       "        0.76336695,  0.86016994,  0.95262037,  0.95631538,  0.96415416,\n",
       "        1.04113365,  0.99546701])"
      ]
     },
     "execution_count": 245,
     "metadata": {},
     "output_type": "execute_result"
    }
   ],
   "source": [
    "q1.meanset[0][0]"
   ]
  },
  {
   "cell_type": "code",
   "execution_count": 247,
   "metadata": {
    "collapsed": false
   },
   "outputs": [
    {
     "data": {
      "text/plain": [
       "array([  1.00000000e-03,   2.00000000e-03,   4.00000000e-03,\n",
       "         8.00000000e-03,   1.60000000e-02,   3.20000000e-02,\n",
       "         6.40000000e-02,   1.28000000e-01,   2.56000000e-01,\n",
       "         5.12000000e-01,   1.02400000e+00,   2.04800000e+00,\n",
       "         4.09600000e+00,   8.19200000e+00,   1.63840000e+01,\n",
       "         3.27680000e+01,   6.55360000e+01,   1.31072000e+02])"
      ]
     },
     "execution_count": 247,
     "metadata": {},
     "output_type": "execute_result"
    }
   ],
   "source": [
    "q.ligs[0]"
   ]
  },
  {
   "cell_type": "code",
   "execution_count": 248,
   "metadata": {
    "collapsed": false
   },
   "outputs": [
    {
     "data": {
      "text/plain": [
       "array([  1.00000000e-03,   2.00000000e-03,   4.00000000e-03,\n",
       "         8.00000000e-03,   1.60000000e-02,   3.20000000e-02,\n",
       "         6.40000000e-02,   1.28000000e-01,   2.56000000e-01,\n",
       "         5.12000000e-01,   1.02400000e+00,   2.04800000e+00,\n",
       "         4.09600000e+00,   8.19200000e+00,   1.63840000e+01,\n",
       "         3.27680000e+01,   6.55360000e+01])"
      ]
     },
     "execution_count": 248,
     "metadata": {},
     "output_type": "execute_result"
    }
   ],
   "source": [
    "q1.ligs[0]"
   ]
  },
  {
   "cell_type": "code",
   "execution_count": 253,
   "metadata": {
    "collapsed": false
   },
   "outputs": [
    {
     "data": {
      "text/plain": [
       "[-0.712390662050588,\n",
       " 0.753766378659703,\n",
       " -0.044503078338053455,\n",
       " 0.45181233874578974,\n",
       " 1.3451017084510097,\n",
       " 0.5323378882945463,\n",
       " 1.3501878997225267,\n",
       " 0.8612113741693206,\n",
       " 1.4786857374358966,\n",
       " -1.0453771305385342]"
      ]
     },
     "execution_count": 253,
     "metadata": {},
     "output_type": "execute_result"
    }
   ],
   "source": [
    "np.random.seed(13)\n",
    "[np.random.normal() for i in range(10)]"
   ]
  },
  {
   "cell_type": "code",
   "execution_count": 254,
   "metadata": {
    "collapsed": false
   },
   "outputs": [
    {
     "data": {
      "text/plain": [
       "[-0.712390662050588,\n",
       " 0.753766378659703,\n",
       " -0.044503078338053455,\n",
       " 0.45181233874578974,\n",
       " 1.3451017084510097]"
      ]
     },
     "execution_count": 254,
     "metadata": {},
     "output_type": "execute_result"
    }
   ],
   "source": [
    "np.random.seed(13)\n",
    "[np.random.normal() for i in range(5)]"
   ]
  },
  {
   "cell_type": "code",
   "execution_count": 281,
   "metadata": {
    "collapsed": true
   },
   "outputs": [],
   "source": [
    "%autoreload"
   ]
  },
  {
   "cell_type": "code",
   "execution_count": 282,
   "metadata": {
    "collapsed": true
   },
   "outputs": [],
   "source": [
    "ligrange1 = np.array([0.001,100.,2.])\n",
    "ligrange2 = np.array([0.001,10.,2.])"
   ]
  },
  {
   "cell_type": "code",
   "execution_count": 283,
   "metadata": {
    "collapsed": true
   },
   "outputs": [],
   "source": [
    "t1 = ligbind.WymSimTest(ligrange=ligrange1,sets=1)"
   ]
  },
  {
   "cell_type": "code",
   "execution_count": 284,
   "metadata": {
    "collapsed": true
   },
   "outputs": [],
   "source": [
    "t2 = ligbind.WymSimTest(ligrange=ligrange2,sets=1)"
   ]
  },
  {
   "cell_type": "code",
   "execution_count": 285,
   "metadata": {
    "collapsed": false
   },
   "outputs": [
    {
     "data": {
      "text/plain": [
       "array([  1.00000000e-03,   2.00000000e-03,   4.00000000e-03,\n",
       "         8.00000000e-03,   1.60000000e-02,   3.20000000e-02,\n",
       "         6.40000000e-02,   1.28000000e-01,   2.56000000e-01,\n",
       "         5.12000000e-01,   1.02400000e+00,   2.04800000e+00,\n",
       "         4.09600000e+00,   8.19200000e+00,   1.63840000e+01,\n",
       "         3.27680000e+01,   6.55360000e+01,   1.31072000e+02])"
      ]
     },
     "execution_count": 285,
     "metadata": {},
     "output_type": "execute_result"
    }
   ],
   "source": [
    "t1.ligs[0]"
   ]
  },
  {
   "cell_type": "code",
   "execution_count": 286,
   "metadata": {
    "collapsed": false
   },
   "outputs": [
    {
     "data": {
      "text/plain": [
       "array([  1.00000000e-03,   2.00000000e-03,   4.00000000e-03,\n",
       "         8.00000000e-03,   1.60000000e-02,   3.20000000e-02,\n",
       "         6.40000000e-02,   1.28000000e-01,   2.56000000e-01,\n",
       "         5.12000000e-01,   1.02400000e+00,   2.04800000e+00,\n",
       "         4.09600000e+00,   8.19200000e+00,   1.63840000e+01])"
      ]
     },
     "execution_count": 286,
     "metadata": {},
     "output_type": "execute_result"
    }
   ],
   "source": [
    "t2.ligs[0]"
   ]
  },
  {
   "cell_type": "code",
   "execution_count": 287,
   "metadata": {
    "collapsed": false
   },
   "outputs": [
    {
     "data": {
      "text/plain": [
       "array([ 0.00270114,  0.00538823,  0.01072068,  0.02122155,  0.04158962,\n",
       "        0.07995809,  0.14838883,  0.25922436,  0.41318706,  0.58652335,\n",
       "        0.74071453,  0.85171564,  0.92017061,  0.95850362,  0.97883397,\n",
       "        0.98930956,  0.99462754,  0.99730691])"
      ]
     },
     "execution_count": 287,
     "metadata": {},
     "output_type": "execute_result"
    }
   ],
   "source": [
    "t1.bfrac[0]"
   ]
  },
  {
   "cell_type": "code",
   "execution_count": 288,
   "metadata": {
    "collapsed": false
   },
   "outputs": [
    {
     "data": {
      "text/plain": [
       "array([ 0.00270114,  0.00538823,  0.01072068,  0.02122155,  0.04158962,\n",
       "        0.07995809,  0.14838883,  0.25922436,  0.41318706,  0.58652335,\n",
       "        0.74071453,  0.85171564,  0.92017061,  0.95850362,  0.97883397])"
      ]
     },
     "execution_count": 288,
     "metadata": {},
     "output_type": "execute_result"
    }
   ],
   "source": [
    "t2.bfrac[0]"
   ]
  },
  {
   "cell_type": "code",
   "execution_count": 291,
   "metadata": {
    "collapsed": false
   },
   "outputs": [
    {
     "data": {
      "text/plain": [
       "array([ 0.00285723,  0.00552087,  0.01062263,  0.02169948,  0.04234289,\n",
       "        0.0781014 ,  0.14567606,  0.25004185,  0.41348775,  0.60589387,\n",
       "        0.76907874,  0.85919198,  0.91247572,  0.95677999,  0.972374  ,\n",
       "        0.99273375,  0.97852965,  1.03073272])"
      ]
     },
     "execution_count": 291,
     "metadata": {},
     "output_type": "execute_result"
    }
   ],
   "source": [
    "t1.meanset[0][0]"
   ]
  },
  {
   "cell_type": "code",
   "execution_count": 292,
   "metadata": {
    "collapsed": false
   },
   "outputs": [
    {
     "data": {
      "text/plain": [
       "array([ 0.00273506,  0.00524469,  0.01024191,  0.0210119 ,  0.040384  ,\n",
       "        0.07671517,  0.15527145,  0.25556501,  0.39265778,  0.57074354,\n",
       "        0.72988006,  0.83421376,  0.91689038,  1.00344518,  0.95383161])"
      ]
     },
     "execution_count": 292,
     "metadata": {},
     "output_type": "execute_result"
    }
   ],
   "source": [
    "t2.meanset[0][0]"
   ]
  },
  {
   "cell_type": "code",
   "execution_count": 293,
   "metadata": {
    "collapsed": false
   },
   "outputs": [
    {
     "data": {
      "text/plain": [
       "array([ 0.00265896,  0.00547964,  0.01063711,  0.02068911,  0.04207948,\n",
       "        0.07290736,  0.14025814,  0.24512559,  0.40688245,  0.57263013,\n",
       "        0.73328536,  0.86684197,  0.95189431,  0.9781812 ,  0.95118297,\n",
       "        1.01895871,  0.98652449,  1.07710216])"
      ]
     },
     "execution_count": 293,
     "metadata": {},
     "output_type": "execute_result"
    }
   ],
   "source": [
    "t1.noised[0][0][0]"
   ]
  },
  {
   "cell_type": "code",
   "execution_count": 294,
   "metadata": {
    "collapsed": false
   },
   "outputs": [
    {
     "data": {
      "text/plain": [
       "array([ 0.00272982,  0.00523744,  0.00965723,  0.02139698,  0.0430558 ,\n",
       "        0.08165623,  0.15214359,  0.24984557,  0.4242029 ,  0.53284564,\n",
       "        0.68410894,  0.77210179,  0.95614376,  0.98946629,  1.01009228])"
      ]
     },
     "execution_count": 294,
     "metadata": {},
     "output_type": "execute_result"
    }
   ],
   "source": [
    "t2.noised[0][0][0]"
   ]
  },
  {
   "cell_type": "code",
   "execution_count": 302,
   "metadata": {
    "collapsed": false
   },
   "outputs": [
    {
     "data": {
      "text/plain": [
       "[[1.7886284734303186, 0.43650985051198943, 0.09649746807200862],\n",
       " [-1.8634927033644908, -0.27738820251439905, -0.35475897926898675],\n",
       " [-0.08274148148245977, -0.6270006768238473, -0.04381816897592824]]"
      ]
     },
     "execution_count": 302,
     "metadata": {},
     "output_type": "execute_result"
    }
   ],
   "source": [
    "np.random.seed(3)\n",
    "[[np.random.normal() for i in range(3)] for i in range(3)]"
   ]
  },
  {
   "cell_type": "code",
   "execution_count": 303,
   "metadata": {
    "collapsed": false
   },
   "outputs": [
    {
     "data": {
      "text/plain": [
       "[[1.7886284734303186, 0.43650985051198943, 0.09649746807200862],\n",
       " [-1.8634927033644908, -0.27738820251439905, -0.35475897926898675],\n",
       " [-0.08274148148245977, -0.6270006768238473, -0.04381816897592824]]"
      ]
     },
     "execution_count": 303,
     "metadata": {},
     "output_type": "execute_result"
    }
   ],
   "source": [
    "np.random.seed(3)\n",
    "[[np.random.normal() for i in range(3)] for i in range(3)]"
   ]
  },
  {
   "cell_type": "code",
   "execution_count": 331,
   "metadata": {
    "collapsed": false
   },
   "outputs": [],
   "source": [
    "np.random.seed(11)\n",
    "thing = [[np.random.normal(t1.bfrac[0][:5],(0.05*t1.bfrac[0][:5])) for i in range(3)] for i in range(1)]"
   ]
  },
  {
   "cell_type": "code",
   "execution_count": 332,
   "metadata": {
    "collapsed": false
   },
   "outputs": [
    {
     "data": {
      "text/plain": [
       "[[array([ 0.00293742,  0.00531116,  0.01046094,  0.01840617,  0.04157239]),\n",
       "  array([ 0.00265797,  0.00524366,  0.01088975,  0.02166832,  0.03937372]),\n",
       "  array([ 0.00258145,  0.00526006,  0.01109037,  0.02181702,  0.03887475])]]"
      ]
     },
     "execution_count": 332,
     "metadata": {},
     "output_type": "execute_result"
    }
   ],
   "source": [
    "thing"
   ]
  },
  {
   "cell_type": "code",
   "execution_count": 315,
   "metadata": {
    "collapsed": true
   },
   "outputs": [],
   "source": [
    "thing2 = [[np.random.normal(t1.bfrac,(0.05*t1.bfrac)) for i in range(3)] for i in range(1)]"
   ]
  },
  {
   "cell_type": "code",
   "execution_count": 317,
   "metadata": {
    "collapsed": false
   },
   "outputs": [
    {
     "data": {
      "text/plain": [
       "array([[ 0.00249037,  0.00511124,  0.01016092,  0.01922309,  0.0429687 ,\n",
       "         0.08069877,  0.14525194,  0.24769032,  0.38052575,  0.5595515 ,\n",
       "         0.80915318,  0.75756735,  0.9266951 ,  0.99414256,  0.98549652,\n",
       "         0.97363865,  1.03282491,  0.94228907],\n",
       "       [ 0.00252657,  0.00525585,  0.00925553,  0.01855319,  0.03824347,\n",
       "         0.07691362,  0.14604385,  0.24985839,  0.37781066,  0.53286837,\n",
       "         0.73214993,  0.85724701,  0.8634737 ,  0.95792225,  0.99328585,\n",
       "         1.04005189,  0.94493168,  1.02484456],\n",
       "       [ 0.00210075,  0.00435771,  0.0088321 ,  0.01891563,  0.040297  ,\n",
       "         0.06772302,  0.12863353,  0.23474784,  0.34131378,  0.55802169,\n",
       "         0.65684716,  0.89161271,  0.96932799,  0.97353646,  0.93494463,\n",
       "         1.0692737 ,  1.00633846,  1.00220337],\n",
       "       [ 0.00205378,  0.00364272,  0.00810548,  0.01652804,  0.03151716,\n",
       "         0.06052739,  0.10786602,  0.20970855,  0.34032123,  0.50286548,\n",
       "         0.6485178 ,  0.83335418,  0.9430208 ,  0.95846672,  1.01255372,\n",
       "         1.04954263,  1.0708514 ,  1.0072565 ],\n",
       "       [ 0.00169499,  0.00334909,  0.006819  ,  0.01390007,  0.02790562,\n",
       "         0.05068286,  0.09872736,  0.16818244,  0.31575312,  0.44197375,\n",
       "         0.62300568,  0.72403049,  0.84004689,  0.88677535,  1.03814172,\n",
       "         0.99513683,  0.98036367,  0.94713546],\n",
       "       [ 0.00149057,  0.00315661,  0.00662573,  0.01127509,  0.02284359,\n",
       "         0.04614783,  0.08547468,  0.14663499,  0.2700072 ,  0.42849204,\n",
       "         0.52291439,  0.71513103,  0.85684092,  0.93762029,  0.92192636,\n",
       "         1.08094212,  1.01149144,  0.9517404 ]])"
      ]
     },
     "execution_count": 317,
     "metadata": {},
     "output_type": "execute_result"
    }
   ],
   "source": [
    "thing2[0][0]"
   ]
  },
  {
   "cell_type": "code",
   "execution_count": 318,
   "metadata": {
    "collapsed": false
   },
   "outputs": [
    {
     "data": {
      "text/plain": [
       "array([[ 0.00283408,  0.00508579,  0.01120058,  0.01988241,  0.04323354,\n",
       "         0.07762507,  0.15678977,  0.26882444,  0.42242609,  0.58824282,\n",
       "         0.78097296,  0.77491891,  0.9400718 ,  0.97831746,  1.00634655,\n",
       "         1.03017936,  1.17875589,  1.00313032],\n",
       "       [ 0.00255717,  0.00494235,  0.0105317 ,  0.01739147,  0.04121013,\n",
       "         0.07078174,  0.12139615,  0.22860883,  0.38748501,  0.56979295,\n",
       "         0.72170206,  0.87483721,  0.91214833,  0.95204916,  0.87233849,\n",
       "         1.01248924,  1.04438877,  0.97610553],\n",
       "       [ 0.00202179,  0.00415513,  0.00960876,  0.01704839,  0.03341979,\n",
       "         0.06413517,  0.12979836,  0.21692028,  0.35033493,  0.49696706,\n",
       "         0.69655371,  0.86571801,  0.89738949,  0.99161344,  0.98278592,\n",
       "         0.99425545,  1.00232917,  0.99842574],\n",
       "       [ 0.00209835,  0.00408097,  0.00770608,  0.01584516,  0.03087413,\n",
       "         0.06154795,  0.11428811,  0.20738247,  0.31205517,  0.51217753,\n",
       "         0.71113868,  0.74519401,  0.95872132,  0.95418527,  0.9590352 ,\n",
       "         0.8954771 ,  1.0460216 ,  0.94773443],\n",
       "       [ 0.00166947,  0.0035134 ,  0.00646489,  0.01285932,  0.02512086,\n",
       "         0.0514995 ,  0.10087674,  0.18056894,  0.30303386,  0.44303945,\n",
       "         0.61635109,  0.72513187,  0.93794222,  0.92721252,  0.86308737,\n",
       "         0.92530539,  1.06774263,  0.92631373],\n",
       "       [ 0.00150384,  0.00313128,  0.0057809 ,  0.01279156,  0.02595133,\n",
       "         0.04463717,  0.09322964,  0.15277483,  0.25628708,  0.41805683,\n",
       "         0.57443248,  0.68657685,  0.85182819,  0.82815063,  0.90140703,\n",
       "         0.91701224,  1.02149314,  1.03184025]])"
      ]
     },
     "execution_count": 318,
     "metadata": {},
     "output_type": "execute_result"
    }
   ],
   "source": [
    "thing2[0][1]"
   ]
  },
  {
   "cell_type": "code",
   "execution_count": 319,
   "metadata": {
    "collapsed": false
   },
   "outputs": [
    {
     "data": {
      "text/plain": [
       "array([[ 0.00279122,  0.00503918,  0.01079185,  0.02170716,  0.03822714,\n",
       "         0.07667304,  0.15318077,  0.26834458,  0.41846005,  0.60242036,\n",
       "         0.75271766,  0.85810004,  0.91514386,  0.91674007,  0.96681642,\n",
       "         0.96937918,  1.10989367,  1.01028391],\n",
       "       [ 0.00245697,  0.00484809,  0.00970768,  0.01908286,  0.03901982,\n",
       "         0.07317956,  0.14242978,  0.23323626,  0.39774122,  0.5890617 ,\n",
       "         0.68161451,  0.84756065,  0.92504345,  0.93908175,  0.95325597,\n",
       "         0.89673451,  1.05127736,  0.95056783],\n",
       "       [ 0.00209282,  0.00459916,  0.00805448,  0.01842807,  0.03531899,\n",
       "         0.06887509,  0.12449565,  0.20988593,  0.33166116,  0.57659447,\n",
       "         0.68380276,  0.80315709,  0.97559645,  0.91973755,  0.96264905,\n",
       "         0.97526459,  0.98661134,  0.94490827],\n",
       "       [ 0.00194003,  0.00423986,  0.00823744,  0.01340033,  0.02795692,\n",
       "         0.06109338,  0.11262721,  0.19936632,  0.35451113,  0.45779589,\n",
       "         0.70733435,  0.80440199,  0.91200669,  0.95213076,  1.01010149,\n",
       "         0.97196362,  0.96517485,  1.0349419 ],\n",
       "       [ 0.00172826,  0.00320556,  0.00727415,  0.01434564,  0.02857634,\n",
       "         0.05199423,  0.0997106 ,  0.17362559,  0.2825385 ,  0.45227295,\n",
       "         0.61745398,  0.72615627,  0.93077983,  0.84407944,  0.91759603,\n",
       "         0.94475597,  1.05241466,  0.98148919],\n",
       "       [ 0.00151251,  0.00293344,  0.00588247,  0.01135176,  0.02515702,\n",
       "         0.04797445,  0.09261517,  0.15460459,  0.30362584,  0.39272034,\n",
       "         0.5093837 ,  0.69733075,  0.82301823,  0.92761023,  0.89379037,\n",
       "         0.99788268,  1.06821629,  0.94971389]])"
      ]
     },
     "execution_count": 319,
     "metadata": {},
     "output_type": "execute_result"
    }
   ],
   "source": [
    "thing2[0][2]"
   ]
  },
  {
   "cell_type": "code",
   "execution_count": 322,
   "metadata": {
    "collapsed": false
   },
   "outputs": [
    {
     "data": {
      "text/plain": [
       "array([ 0.00270114,  0.00538823,  0.01072068,  0.02122155,  0.04158962,\n",
       "        0.07995809,  0.14838883,  0.25922436,  0.41318706,  0.58652335,\n",
       "        0.74071453,  0.85171564,  0.92017061,  0.95850362,  0.97883397,\n",
       "        0.98930956,  0.99462754,  0.99730691])"
      ]
     },
     "execution_count": 322,
     "metadata": {},
     "output_type": "execute_result"
    }
   ],
   "source": [
    "t1.bfrac[0]"
   ]
  },
  {
   "cell_type": "code",
   "execution_count": 333,
   "metadata": {
    "collapsed": true
   },
   "outputs": [],
   "source": [
    "np.random.seed(11)\n",
    "thing = [[np.random.normal(t1.bfrac,(0.05*t1.bfrac)) for i in range(3)] for i in range(1)]"
   ]
  },
  {
   "cell_type": "code",
   "execution_count": 334,
   "metadata": {
    "collapsed": false
   },
   "outputs": [
    {
     "data": {
      "text/plain": [
       "[[array([ 0.00293742,  0.00531116,  0.01046094,  0.01840617,  0.04157239]),\n",
       "  array([ 0.00265797,  0.00524366,  0.01088975,  0.02166832,  0.03937372]),\n",
       "  array([ 0.00258145,  0.00526006,  0.01109037,  0.02181702,  0.03887475])]]"
      ]
     },
     "execution_count": 334,
     "metadata": {},
     "output_type": "execute_result"
    }
   ],
   "source": [
    "thing"
   ]
  },
  {
   "cell_type": "code",
   "execution_count": 337,
   "metadata": {
    "collapsed": true
   },
   "outputs": [],
   "source": [
    "np.random.seed(11)\n",
    "thing = [[np.random.normal(t1.bfrac[0][:3],(0.05*t1.bfrac[0][:3])) for i in range(3)] for i in range(1)]"
   ]
  },
  {
   "cell_type": "code",
   "execution_count": 338,
   "metadata": {
    "collapsed": false
   },
   "outputs": [
    {
     "data": {
      "text/plain": [
       "[[array([ 0.00293742,  0.00531116,  0.01046094]),\n",
       "  array([ 0.00234279,  0.005386  ,  0.01054935]),\n",
       "  array([ 0.00262867,  0.00547321,  0.01094638])]]"
      ]
     },
     "execution_count": 338,
     "metadata": {},
     "output_type": "execute_result"
    }
   ],
   "source": [
    "thing"
   ]
  },
  {
   "cell_type": "code",
   "execution_count": 339,
   "metadata": {
    "collapsed": true
   },
   "outputs": [],
   "source": [
    "thing = [[np.random.normal(t1.bfrac,(0.05*t1.bfrac)) for i in range(3)] for i in range(1)]"
   ]
  },
  {
   "cell_type": "code",
   "execution_count": 340,
   "metadata": {
    "collapsed": false
   },
   "outputs": [
    {
     "data": {
      "text/plain": [
       "[[array([[ 0.00255723,  0.00514947,  0.01046567,  0.02195336,  0.04275661,\n",
       "           0.07473863,  0.14008295,  0.26877467,  0.44571798,  0.58561204,\n",
       "           0.71540259,  0.89837388,  0.90592745,  0.99328543,  1.05464817,\n",
       "           1.02047676,  0.99828246,  1.03382188],\n",
       "         [ 0.0023793 ,  0.0048613 ,  0.00948372,  0.01914853,  0.0370613 ,\n",
       "           0.07260671,  0.13427443,  0.24271022,  0.39214041,  0.57267382,\n",
       "           0.77409742,  0.77550236,  0.97294941,  0.94373755,  0.91685162,\n",
       "           0.97988356,  0.99873627,  1.05029965],\n",
       "         [ 0.00211276,  0.00450108,  0.00891904,  0.01610085,  0.03251899,\n",
       "           0.06888182,  0.12989051,  0.23564369,  0.37602462,  0.5480668 ,\n",
       "           0.70463083,  0.8742987 ,  0.86596681,  0.94298238,  0.99301193,\n",
       "           0.9091138 ,  1.05855637,  0.95719654],\n",
       "         [ 0.00198878,  0.00441339,  0.00760636,  0.01532719,  0.03341185,\n",
       "           0.05684546,  0.11082002,  0.20841363,  0.34461599,  0.51755815,\n",
       "           0.67967151,  0.85290152,  0.9327575 ,  0.96820421,  0.93601646,\n",
       "           0.94916623,  0.89741472,  1.03024772],\n",
       "         [ 0.0015571 ,  0.00357038,  0.00744341,  0.01280872,  0.02574299,\n",
       "           0.05055475,  0.10206135,  0.16936152,  0.29504581,  0.4390069 ,\n",
       "           0.60436263,  0.79953467,  0.81165286,  0.92156665,  0.96958455,\n",
       "           1.01954208,  0.92610837,  1.04966759],\n",
       "         [ 0.00157091,  0.00320351,  0.00613818,  0.0111487 ,  0.02316649,\n",
       "           0.04846069,  0.08840916,  0.15951079,  0.29390975,  0.45845016,\n",
       "           0.56662694,  0.7760592 ,  0.73593539,  0.80223573,  0.982521  ,\n",
       "           0.95655313,  1.01266545,  1.01758816]]),\n",
       "  array([[ 0.00268907,  0.00557201,  0.01080147,  0.01959583,  0.04204475,\n",
       "           0.08070035,  0.16198701,  0.24459252,  0.41353821,  0.57407648,\n",
       "           0.73579211,  0.92237416,  0.93759131,  0.93623921,  0.98636323,\n",
       "           1.02720806,  0.94519317,  0.98412539],\n",
       "         [ 0.00264784,  0.00511495,  0.00974205,  0.01888434,  0.03769267,\n",
       "           0.06760372,  0.14333288,  0.24575695,  0.39359848,  0.52770463,\n",
       "           0.69750303,  0.8621313 ,  0.92552997,  0.93134651,  1.00172684,\n",
       "           1.03479947,  0.96061683,  0.97061236],\n",
       "         [ 0.00213415,  0.00419548,  0.00922   ,  0.01802964,  0.03515392,\n",
       "           0.06295593,  0.11896021,  0.22273295,  0.35868216,  0.54067344,\n",
       "           0.67585296,  0.85141688,  0.98542002,  1.0231625 ,  1.05266077,\n",
       "           0.99046468,  1.03921568,  0.97792984],\n",
       "         [ 0.00208775,  0.00390842,  0.00774145,  0.01523665,  0.03207523,\n",
       "           0.06091842,  0.11432214,  0.19159219,  0.33933291,  0.4664297 ,\n",
       "           0.71657394,  0.79388747,  0.89629602,  0.93527642,  0.89235063,\n",
       "           0.91677278,  0.99066813,  1.0703454 ],\n",
       "         [ 0.00161773,  0.00329942,  0.00679823,  0.01238558,  0.02439309,\n",
       "           0.05072244,  0.09777128,  0.17354036,  0.31976624,  0.44709634,\n",
       "           0.62308052,  0.81105476,  0.92540856,  0.84529133,  0.93855013,\n",
       "           1.03439326,  0.92043459,  0.94831098],\n",
       "         [ 0.00143774,  0.00286032,  0.00576942,  0.0122513 ,  0.02546035,\n",
       "           0.05011405,  0.08829926,  0.14414543,  0.26898294,  0.40597938,\n",
       "           0.57767931,  0.70312289,  0.74400566,  0.91227884,  0.84433228,\n",
       "           0.93580394,  0.99951587,  1.00934561]]),\n",
       "  array([[ 0.00291336,  0.00475177,  0.01090292,  0.02195304,  0.04090918,\n",
       "           0.08250888,  0.14021261,  0.26774024,  0.42430624,  0.55773592,\n",
       "           0.71602504,  0.84363184,  0.88998509,  1.00855654,  0.98740697,\n",
       "           1.05434347,  1.05307432,  1.00034107],\n",
       "         [ 0.00243455,  0.00467281,  0.00937112,  0.01857122,  0.03864594,\n",
       "           0.07004938,  0.13741713,  0.24396203,  0.38119716,  0.55905776,\n",
       "           0.77563813,  0.90825437,  0.87799872,  0.94577361,  0.95887546,\n",
       "           0.97477614,  1.0704806 ,  1.03130014],\n",
       "         [ 0.00237175,  0.00484828,  0.0086716 ,  0.01741672,  0.03463832,\n",
       "           0.07030604,  0.12495383,  0.23070542,  0.38764364,  0.56870524,\n",
       "           0.71596954,  0.79194308,  0.83382526,  1.00298223,  0.99648245,\n",
       "           0.94069743,  0.96835111,  0.97434315],\n",
       "         [ 0.00182879,  0.0040339 ,  0.00762318,  0.01551216,  0.03213808,\n",
       "           0.05980361,  0.11634241,  0.20746178,  0.33747743,  0.50386491,\n",
       "           0.729423  ,  0.79232425,  0.95990811,  0.89725152,  1.00444484,\n",
       "           0.99269446,  0.95589915,  0.86417267],\n",
       "         [ 0.00184989,  0.0032225 ,  0.00648619,  0.01361443,  0.0267314 ,\n",
       "           0.05250977,  0.09674822,  0.16373052,  0.30985871,  0.43040571,\n",
       "           0.61888562,  0.77261598,  0.90317287,  0.90826717,  0.94198466,\n",
       "           0.96616769,  0.89721623,  0.95672127],\n",
       "         [ 0.00146027,  0.00289287,  0.00616755,  0.01195479,  0.02585219,\n",
       "           0.05002312,  0.0799408 ,  0.16088019,  0.25624372,  0.42446851,\n",
       "           0.57216711,  0.74059135,  0.83011802,  0.92782768,  0.92763775,\n",
       "           0.84770013,  0.92585856,  0.94956473]])]]"
      ]
     },
     "execution_count": 340,
     "metadata": {},
     "output_type": "execute_result"
    }
   ],
   "source": [
    "thing"
   ]
  },
  {
   "cell_type": "code",
   "execution_count": 342,
   "metadata": {
    "collapsed": false
   },
   "outputs": [
    {
     "data": {
      "text/plain": [
       "[[]]"
      ]
     },
     "execution_count": 342,
     "metadata": {},
     "output_type": "execute_result"
    }
   ],
   "source": [
    "[i[:-6] for i in thing]"
   ]
  },
  {
   "cell_type": "code",
   "execution_count": 346,
   "metadata": {
    "collapsed": false
   },
   "outputs": [
    {
     "data": {
      "text/plain": [
       "array([[ 0.00255723,  0.00514947,  0.01046567,  0.02195336,  0.04275661,\n",
       "         0.07473863,  0.14008295,  0.26877467,  0.44571798,  0.58561204,\n",
       "         0.71540259,  0.89837388,  0.90592745,  0.99328543,  1.05464817,\n",
       "         1.02047676,  0.99828246,  1.03382188],\n",
       "       [ 0.0023793 ,  0.0048613 ,  0.00948372,  0.01914853,  0.0370613 ,\n",
       "         0.07260671,  0.13427443,  0.24271022,  0.39214041,  0.57267382,\n",
       "         0.77409742,  0.77550236,  0.97294941,  0.94373755,  0.91685162,\n",
       "         0.97988356,  0.99873627,  1.05029965],\n",
       "       [ 0.00211276,  0.00450108,  0.00891904,  0.01610085,  0.03251899,\n",
       "         0.06888182,  0.12989051,  0.23564369,  0.37602462,  0.5480668 ,\n",
       "         0.70463083,  0.8742987 ,  0.86596681,  0.94298238,  0.99301193,\n",
       "         0.9091138 ,  1.05855637,  0.95719654],\n",
       "       [ 0.00198878,  0.00441339,  0.00760636,  0.01532719,  0.03341185,\n",
       "         0.05684546,  0.11082002,  0.20841363,  0.34461599,  0.51755815,\n",
       "         0.67967151,  0.85290152,  0.9327575 ,  0.96820421,  0.93601646,\n",
       "         0.94916623,  0.89741472,  1.03024772],\n",
       "       [ 0.0015571 ,  0.00357038,  0.00744341,  0.01280872,  0.02574299,\n",
       "         0.05055475,  0.10206135,  0.16936152,  0.29504581,  0.4390069 ,\n",
       "         0.60436263,  0.79953467,  0.81165286,  0.92156665,  0.96958455,\n",
       "         1.01954208,  0.92610837,  1.04966759],\n",
       "       [ 0.00157091,  0.00320351,  0.00613818,  0.0111487 ,  0.02316649,\n",
       "         0.04846069,  0.08840916,  0.15951079,  0.29390975,  0.45845016,\n",
       "         0.56662694,  0.7760592 ,  0.73593539,  0.80223573,  0.982521  ,\n",
       "         0.95655313,  1.01266545,  1.01758816]])"
      ]
     },
     "execution_count": 346,
     "metadata": {},
     "output_type": "execute_result"
    }
   ],
   "source": [
    "[i for i in thing[0]][0]"
   ]
  },
  {
   "cell_type": "code",
   "execution_count": 355,
   "metadata": {
    "collapsed": false
   },
   "outputs": [
    {
     "data": {
      "text/plain": [
       "[[0.0025572250080059633],\n",
       " [0.0051494692156104369],\n",
       " [0.010465670830610105],\n",
       " [0.021953357454921271],\n",
       " [0.042756606251552448],\n",
       " [0.074738631164654221],\n",
       " [0.1400829479644593],\n",
       " [0.26877467323774873],\n",
       " [0.44571798229812165],\n",
       " [0.58561204131494826],\n",
       " [0.71540258510380994],\n",
       " [0.89837388355000869],\n",
       " [0.90592744522893631],\n",
       " [0.99328542592010516],\n",
       " [1.0546481715734493],\n",
       " [1.0204767577690481],\n",
       " [0.99828245938552695],\n",
       " [1.0338218754595545]]"
      ]
     },
     "execution_count": 355,
     "metadata": {},
     "output_type": "execute_result"
    }
   ],
   "source": [
    "[[i][:] for i in thing[0][0][0]]"
   ]
  },
  {
   "cell_type": "code",
   "execution_count": 365,
   "metadata": {
    "collapsed": true
   },
   "outputs": [],
   "source": [
    "simtest = ligbind.WymSim(sets=2)"
   ]
  },
  {
   "cell_type": "code",
   "execution_count": 363,
   "metadata": {
    "collapsed": false
   },
   "outputs": [
    {
     "data": {
      "text/plain": [
       "array([ 0.0027073 ,  0.00544488,  0.01073655,  0.02161577,  0.04257643])"
      ]
     },
     "execution_count": 363,
     "metadata": {},
     "output_type": "execute_result"
    }
   ],
   "source": [
    "simtest.meanset[0][0][:5]"
   ]
  },
  {
   "cell_type": "code",
   "execution_count": 366,
   "metadata": {
    "collapsed": false
   },
   "outputs": [
    {
     "data": {
      "text/plain": [
       "(2, 6, 18)"
      ]
     },
     "execution_count": 366,
     "metadata": {},
     "output_type": "execute_result"
    }
   ],
   "source": [
    "simtest.meanset.shape"
   ]
  },
  {
   "cell_type": "code",
   "execution_count": 375,
   "metadata": {
    "collapsed": false
   },
   "outputs": [],
   "source": [
    "holder = []\n",
    "for i in simtest.meanset:\n",
    "    for j in i:\n",
    "        j[:3]"
   ]
  },
  {
   "cell_type": "code",
   "execution_count": 380,
   "metadata": {
    "collapsed": false
   },
   "outputs": [
    {
     "data": {
      "text/plain": [
       "array([[[ 0.00262185,  0.00489967,  0.0099003 ],\n",
       "        [ 0.00239018,  0.0047878 ,  0.00961059],\n",
       "        [ 0.00224205,  0.00425678,  0.00896608],\n",
       "        [ 0.00209445,  0.00420289,  0.00798568],\n",
       "        [ 0.00167468,  0.00340372,  0.00688772],\n",
       "        [ 0.0015703 ,  0.00314561,  0.00624514]],\n",
       "\n",
       "       [[ 0.00277669,  0.0054472 ,  0.01060857],\n",
       "        [ 0.0025515 ,  0.00501814,  0.00991486],\n",
       "        [ 0.00232195,  0.00453086,  0.00902062],\n",
       "        [ 0.00200701,  0.00377914,  0.00790675],\n",
       "        [ 0.00184407,  0.00348142,  0.0066887 ],\n",
       "        [ 0.00157674,  0.00300332,  0.00598378]]])"
      ]
     },
     "execution_count": 380,
     "metadata": {},
     "output_type": "execute_result"
    }
   ],
   "source": [
    "np.array([[j[:3] for j in i] for i in simtest.meanset])"
   ]
  },
  {
   "cell_type": "code",
   "execution_count": 379,
   "metadata": {
    "collapsed": false
   },
   "outputs": [
    {
     "data": {
      "text/plain": [
       "array([[[ 0.00262185,  0.00489967,  0.0099003 ,  0.02134049,  0.0402419 ,\n",
       "          0.08197942,  0.14761341,  0.25666084,  0.43347175,  0.54841968,\n",
       "          0.69998551,  0.85454424,  0.95313894,  0.95475851,  0.92654427,\n",
       "          1.02313748,  0.97653471,  1.00776444],\n",
       "        [ 0.00239018,  0.0047878 ,  0.00961059,  0.01887797,  0.03670832,\n",
       "          0.07185095,  0.13771222,  0.2459528 ,  0.39934961,  0.57085804,\n",
       "          0.72834527,  0.83293139,  0.91851799,  0.94465069,  1.01366147,\n",
       "          0.92895616,  0.92542591,  1.02662375],\n",
       "        [ 0.00224205,  0.00425678,  0.00896608,  0.01726346,  0.0356443 ,\n",
       "          0.06658222,  0.12747523,  0.21464981,  0.37675847,  0.5605541 ,\n",
       "          0.73260975,  0.82376239,  0.93902615,  0.91215593,  0.99090261,\n",
       "          0.98688753,  1.02835557,  0.98368347],\n",
       "        [ 0.00209445,  0.00420289,  0.00798568,  0.01618883,  0.03247329,\n",
       "          0.0620458 ,  0.11004269,  0.20223241,  0.34447183,  0.50720097,\n",
       "          0.64360164,  0.7930642 ,  0.85841643,  0.94502994,  0.98800041,\n",
       "          0.97499834,  1.02955109,  0.9374818 ],\n",
       "        [ 0.00167468,  0.00340372,  0.00688772,  0.01354328,  0.02664472,\n",
       "          0.05220244,  0.09924871,  0.18557425,  0.28531713,  0.44917334,\n",
       "          0.59203831,  0.74494476,  0.87098106,  0.93148418,  0.95389356,\n",
       "          0.99132133,  0.99698181,  0.98177168],\n",
       "        [ 0.0015703 ,  0.00314561,  0.00624514,  0.01177312,  0.02372577,\n",
       "          0.04671189,  0.08900725,  0.15979682,  0.27633616,  0.4010043 ,\n",
       "          0.60515799,  0.69564302,  0.79829675,  0.93173448,  0.95624776,\n",
       "          0.97130072,  0.95014697,  0.97520941]],\n",
       "\n",
       "       [[ 0.00277669,  0.0054472 ,  0.01060857,  0.02090762,  0.03958803,\n",
       "          0.08340385,  0.14790273,  0.25729416,  0.40809056,  0.57536715,\n",
       "          0.7574921 ,  0.83755537,  0.90979163,  0.97460035,  0.95955191,\n",
       "          0.98884572,  0.97465923,  0.99601582],\n",
       "        [ 0.0025515 ,  0.00501814,  0.00991486,  0.01943393,  0.03898813,\n",
       "          0.07586672,  0.13648001,  0.2463708 ,  0.3915507 ,  0.53171246,\n",
       "          0.73638022,  0.87858965,  0.91916337,  0.96237929,  0.99153023,\n",
       "          0.93395089,  1.01031037,  1.00227384],\n",
       "        [ 0.00232195,  0.00453086,  0.00902062,  0.01685279,  0.03403615,\n",
       "          0.06456024,  0.12686018,  0.22330017,  0.35429404,  0.52484152,\n",
       "          0.70562591,  0.83738824,  0.86274276,  0.94879815,  0.98970555,\n",
       "          0.98657435,  0.97642933,  0.96207045],\n",
       "        [ 0.00200701,  0.00377914,  0.00790675,  0.01571077,  0.03065643,\n",
       "          0.05825853,  0.11487887,  0.20350969,  0.33206633,  0.50116793,\n",
       "          0.67826835,  0.7809054 ,  0.87484074,  0.96386993,  0.95175076,\n",
       "          0.94822778,  1.01590802,  1.00836877],\n",
       "        [ 0.00184407,  0.00348142,  0.0066887 ,  0.01444044,  0.0270457 ,\n",
       "          0.05165052,  0.09683275,  0.17504236,  0.31121233,  0.44581541,\n",
       "          0.62164827,  0.75043152,  0.8335332 ,  0.88287402,  0.96410612,\n",
       "          0.96158685,  0.9780459 ,  0.99864069],\n",
       "        [ 0.00157674,  0.00300332,  0.00598378,  0.01248363,  0.02357449,\n",
       "          0.04854338,  0.08896275,  0.15344476,  0.25183065,  0.41481576,\n",
       "          0.57205782,  0.70379033,  0.83770468,  0.86730221,  0.90066644,\n",
       "          0.95304047,  0.99061898,  0.97151627]]])"
      ]
     },
     "execution_count": 379,
     "metadata": {},
     "output_type": "execute_result"
    }
   ],
   "source": [
    "simtest.meanset"
   ]
  },
  {
   "cell_type": "code",
   "execution_count": 385,
   "metadata": {
    "collapsed": false
   },
   "outputs": [
    {
     "data": {
      "text/plain": [
       "array([ 0.001,  0.002,  0.004,  0.008])"
      ]
     },
     "execution_count": 385,
     "metadata": {},
     "output_type": "execute_result"
    }
   ],
   "source": [
    "a.ligs[0][0:4]"
   ]
  },
  {
   "cell_type": "code",
   "execution_count": 404,
   "metadata": {
    "collapsed": false
   },
   "outputs": [],
   "source": [
    "%autoreload"
   ]
  },
  {
   "cell_type": "code",
   "execution_count": 405,
   "metadata": {
    "collapsed": true
   },
   "outputs": [],
   "source": [
    "testsim = ligbind.WymSimTest(sets=10)"
   ]
  },
  {
   "cell_type": "code",
   "execution_count": 403,
   "metadata": {
    "collapsed": false
   },
   "outputs": [
    {
     "ename": "AttributeError",
     "evalue": "'WymSimTest' object has no attribute 'dr'",
     "output_type": "error",
     "traceback": [
      "\u001b[0;31m---------------------------------------------------------------------------\u001b[0m",
      "\u001b[0;31mAttributeError\u001b[0m                            Traceback (most recent call last)",
      "\u001b[0;32m<ipython-input-403-6ab099cc9671>\u001b[0m in \u001b[0;36m<module>\u001b[0;34m()\u001b[0m\n\u001b[0;32m----> 1\u001b[0;31m \u001b[0mtestsim\u001b[0m\u001b[0;34m.\u001b[0m\u001b[0mdr\u001b[0m\u001b[0;34m\u001b[0m\u001b[0m\n\u001b[0m",
      "\u001b[0;31mAttributeError\u001b[0m: 'WymSimTest' object has no attribute 'dr'"
     ]
    }
   ],
   "source": [
    "testsim.dr"
   ]
  },
  {
   "cell_type": "code",
   "execution_count": null,
   "metadata": {
    "collapsed": true
   },
   "outputs": [],
   "source": [
    "d."
   ]
  }
 ],
 "metadata": {
  "anaconda-cloud": {},
  "kernelspec": {
   "display_name": "Python [conda env:fitter]",
   "language": "python",
   "name": "conda-env-fitter-py"
  },
  "language_info": {
   "codemirror_mode": {
    "name": "ipython",
    "version": 3
   },
   "file_extension": ".py",
   "mimetype": "text/x-python",
   "name": "python",
   "nbconvert_exporter": "python",
   "pygments_lexer": "ipython3",
   "version": "3.5.2"
  }
 },
 "nbformat": 4,
 "nbformat_minor": 1
}
