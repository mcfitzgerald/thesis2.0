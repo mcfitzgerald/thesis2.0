{
 "cells": [
  {
   "cell_type": "code",
   "execution_count": 1,
   "metadata": {
    "collapsed": true
   },
   "outputs": [],
   "source": [
    "from mods import class_test\n",
    "%load_ext autoreload"
   ]
  },
  {
   "cell_type": "code",
   "execution_count": 2,
   "metadata": {
    "collapsed": true
   },
   "outputs": [],
   "source": [
    "a = class_test.WymanSim(sets=10)"
   ]
  },
  {
   "cell_type": "code",
   "execution_count": 4,
   "metadata": {
    "collapsed": false
   },
   "outputs": [
    {
     "data": {
      "text/plain": [
       "array([[  1.00000000e-03,   2.00000000e-03,   4.00000000e-03,\n",
       "          8.00000000e-03,   1.60000000e-02,   3.20000000e-02,\n",
       "          6.40000000e-02,   1.28000000e-01,   2.56000000e-01,\n",
       "          5.12000000e-01,   1.02400000e+00,   2.04800000e+00,\n",
       "          4.09600000e+00,   8.19200000e+00,   1.63840000e+01,\n",
       "          3.27680000e+01,   6.55360000e+01,   1.31072000e+02],\n",
       "       [  1.00000000e-03,   2.00000000e-03,   4.00000000e-03,\n",
       "          8.00000000e-03,   1.60000000e-02,   3.20000000e-02,\n",
       "          6.40000000e-02,   1.28000000e-01,   2.56000000e-01,\n",
       "          5.12000000e-01,   1.02400000e+00,   2.04800000e+00,\n",
       "          4.09600000e+00,   8.19200000e+00,   1.63840000e+01,\n",
       "          3.27680000e+01,   6.55360000e+01,   1.31072000e+02],\n",
       "       [  1.00000000e-03,   2.00000000e-03,   4.00000000e-03,\n",
       "          8.00000000e-03,   1.60000000e-02,   3.20000000e-02,\n",
       "          6.40000000e-02,   1.28000000e-01,   2.56000000e-01,\n",
       "          5.12000000e-01,   1.02400000e+00,   2.04800000e+00,\n",
       "          4.09600000e+00,   8.19200000e+00,   1.63840000e+01,\n",
       "          3.27680000e+01,   6.55360000e+01,   1.31072000e+02],\n",
       "       [  1.00000000e-03,   2.00000000e-03,   4.00000000e-03,\n",
       "          8.00000000e-03,   1.60000000e-02,   3.20000000e-02,\n",
       "          6.40000000e-02,   1.28000000e-01,   2.56000000e-01,\n",
       "          5.12000000e-01,   1.02400000e+00,   2.04800000e+00,\n",
       "          4.09600000e+00,   8.19200000e+00,   1.63840000e+01,\n",
       "          3.27680000e+01,   6.55360000e+01,   1.31072000e+02],\n",
       "       [  1.00000000e-03,   2.00000000e-03,   4.00000000e-03,\n",
       "          8.00000000e-03,   1.60000000e-02,   3.20000000e-02,\n",
       "          6.40000000e-02,   1.28000000e-01,   2.56000000e-01,\n",
       "          5.12000000e-01,   1.02400000e+00,   2.04800000e+00,\n",
       "          4.09600000e+00,   8.19200000e+00,   1.63840000e+01,\n",
       "          3.27680000e+01,   6.55360000e+01,   1.31072000e+02],\n",
       "       [  1.00000000e-03,   2.00000000e-03,   4.00000000e-03,\n",
       "          8.00000000e-03,   1.60000000e-02,   3.20000000e-02,\n",
       "          6.40000000e-02,   1.28000000e-01,   2.56000000e-01,\n",
       "          5.12000000e-01,   1.02400000e+00,   2.04800000e+00,\n",
       "          4.09600000e+00,   8.19200000e+00,   1.63840000e+01,\n",
       "          3.27680000e+01,   6.55360000e+01,   1.31072000e+02]])"
      ]
     },
     "execution_count": 4,
     "metadata": {},
     "output_type": "execute_result"
    }
   ],
   "source": [
    "a.ligs"
   ]
  },
  {
   "cell_type": "code",
   "execution_count": 5,
   "metadata": {
    "collapsed": true
   },
   "outputs": [],
   "source": [
    "def genfunc(parm,lig,rtot):\n",
    "        '''Generates ligand binding data according to Wyman model.\n",
    "        Takes numpy arrays containing parameters k11,k21,k22,l20; \n",
    "        free ligand concentrations, and total receptor concentrations.\n",
    "        Must be iterated against ligand data, i.e., for loop required when\n",
    "        used for more than one receptor concentration. In fitting functions,\n",
    "        the datasets are concentatenated for faster operation'''\n",
    "    \n",
    "        k11 = parm[0]\n",
    "        k21 = parm[1]\n",
    "        k22 = parm[2]\n",
    "        l20 = parm[3]\n",
    "    \n",
    "        rfree = (((-1 - k11*lig)) + \\\n",
    "        (np.sqrt((np.square((1 + k11*lig)) + \\\n",
    "        8.*l20*rtot*(1 + k21*lig + k21*k22*(np.square(lig))))))) \\\n",
    "        / (4*l20*(1 + k21*lig + k21*k22*(np.square(lig))))    \n",
    "       \n",
    "        bfrac = (k11*lig + l20*k21*rfree*lig + \\\n",
    "        2*l20*k21*k22*rfree*(np.square(lig))) \\\n",
    "        / (1 + 2*l20*rfree + k11*lig + \\\n",
    "        2*l20*k21*rfree*lig + 2*l20*k21*k22*rfree*(np.square(lig)))\n",
    "    \n",
    "        return bfrac"
   ]
  },
  {
   "cell_type": "code",
   "execution_count": 7,
   "metadata": {
    "collapsed": false
   },
   "outputs": [],
   "source": [
    "import numpy as np"
   ]
  },
  {
   "cell_type": "code",
   "execution_count": 11,
   "metadata": {
    "collapsed": false
   },
   "outputs": [
    {
     "data": {
      "text/plain": [
       "[array([ 0.00270114,  0.00538823,  0.01072068,  0.02122155,  0.04158962,\n",
       "         0.07995809,  0.14838883,  0.25922436,  0.41318706,  0.58652335,\n",
       "         0.74071453,  0.85171564,  0.92017061,  0.95850362,  0.97883397,\n",
       "         0.98930956,  0.99462754,  0.99730691]),\n",
       " array([ 0.00245828,  0.00490498,  0.00976393,  0.01934623,  0.03798528,\n",
       "         0.07328746,  0.1368788 ,  0.24163521,  0.39089596,  0.5643122 ,\n",
       "         0.72336186,  0.84051004,  0.91375548,  0.95506705,  0.97705513,\n",
       "         0.98840459,  0.99417112,  0.99707771]),\n",
       " array([ 0.0022312 ,  0.00445269,  0.0088668 ,  0.01758129,  0.03456848,\n",
       "         0.06687522,  0.12552496,  0.22348911,  0.36624904,  0.53744654,\n",
       "         0.70032845,  0.82445614,  0.90407663,  0.94972034,  0.97424055,\n",
       "         0.98695999,  0.99343923,  0.99670934]),\n",
       " array([ 0.00199594,  0.0039838 ,  0.00793546,  0.01574391,  0.03099184,\n",
       "         0.06009095,  0.11326691,  0.20317096,  0.33694389,  0.50263769,\n",
       "         0.66730939,  0.79914398,  0.88766661,  0.94021959,  0.96910167,\n",
       "         0.98428349,  0.99207283,  0.99601891]),\n",
       " array([ 0.00171326,  0.00342004,  0.00681432,  0.01352675,  0.02665525,\n",
       "         0.05178786,  0.09799311,  0.17700229,  0.29698425,  0.45079722,\n",
       "         0.61205236,  0.75104444,  0.85276486,  0.9182719 ,  0.95659371,\n",
       "         0.97757164,  0.98859096,  0.99424488]),\n",
       " array([ 0.00153748,  0.00306934,  0.00611626,  0.01214392,  0.02394136,\n",
       "         0.04655704,  0.08824681,  0.15990017,  0.26974677,  0.41298363,\n",
       "         0.56767905,  0.70766657,  0.81741406,  0.89380902,  0.94169589,\n",
       "         0.9692484 ,  0.98417501,  0.99196799])]"
      ]
     },
     "execution_count": 11,
     "metadata": {},
     "output_type": "execute_result"
    }
   ],
   "source": [
    "[genfunc(a.parms,a.ligs[i],a.rtot[i]) for i in range(len(a.rtot))]"
   ]
  },
  {
   "cell_type": "code",
   "execution_count": 9,
   "metadata": {
    "collapsed": false
   },
   "outputs": [
    {
     "data": {
      "text/plain": [
       "(6, 18)"
      ]
     },
     "execution_count": 9,
     "metadata": {},
     "output_type": "execute_result"
    }
   ],
   "source": [
    "a.ligs.shape"
   ]
  },
  {
   "cell_type": "code",
   "execution_count": 10,
   "metadata": {
    "collapsed": false
   },
   "outputs": [
    {
     "data": {
      "text/plain": [
       "(6,)"
      ]
     },
     "execution_count": 10,
     "metadata": {},
     "output_type": "execute_result"
    }
   ],
   "source": [
    "a.rtot.shape"
   ]
  },
  {
   "cell_type": "code",
   "execution_count": 12,
   "metadata": {
    "collapsed": false
   },
   "outputs": [
    {
     "data": {
      "text/plain": [
       "array([[ 0.00270114,  0.00538823,  0.01072068,  0.02122155,  0.04158962,\n",
       "         0.07995809,  0.14838883,  0.25922436,  0.41318706,  0.58652335,\n",
       "         0.74071453,  0.85171564,  0.92017061,  0.95850362,  0.97883397,\n",
       "         0.98930956,  0.99462754,  0.99730691],\n",
       "       [ 0.00245828,  0.00490498,  0.00976393,  0.01934623,  0.03798528,\n",
       "         0.07328746,  0.1368788 ,  0.24163521,  0.39089596,  0.5643122 ,\n",
       "         0.72336186,  0.84051004,  0.91375548,  0.95506705,  0.97705513,\n",
       "         0.98840459,  0.99417112,  0.99707771],\n",
       "       [ 0.0022312 ,  0.00445269,  0.0088668 ,  0.01758129,  0.03456848,\n",
       "         0.06687522,  0.12552496,  0.22348911,  0.36624904,  0.53744654,\n",
       "         0.70032845,  0.82445614,  0.90407663,  0.94972034,  0.97424055,\n",
       "         0.98695999,  0.99343923,  0.99670934],\n",
       "       [ 0.00199594,  0.0039838 ,  0.00793546,  0.01574391,  0.03099184,\n",
       "         0.06009095,  0.11326691,  0.20317096,  0.33694389,  0.50263769,\n",
       "         0.66730939,  0.79914398,  0.88766661,  0.94021959,  0.96910167,\n",
       "         0.98428349,  0.99207283,  0.99601891],\n",
       "       [ 0.00171326,  0.00342004,  0.00681432,  0.01352675,  0.02665525,\n",
       "         0.05178786,  0.09799311,  0.17700229,  0.29698425,  0.45079722,\n",
       "         0.61205236,  0.75104444,  0.85276486,  0.9182719 ,  0.95659371,\n",
       "         0.97757164,  0.98859096,  0.99424488],\n",
       "       [ 0.00153748,  0.00306934,  0.00611626,  0.01214392,  0.02394136,\n",
       "         0.04655704,  0.08824681,  0.15990017,  0.26974677,  0.41298363,\n",
       "         0.56767905,  0.70766657,  0.81741406,  0.89380902,  0.94169589,\n",
       "         0.9692484 ,  0.98417501,  0.99196799]])"
      ]
     },
     "execution_count": 12,
     "metadata": {},
     "output_type": "execute_result"
    }
   ],
   "source": [
    "a.bfrac"
   ]
  },
  {
   "cell_type": "code",
   "execution_count": 13,
   "metadata": {
    "collapsed": true
   },
   "outputs": [],
   "source": [
    "    def fitfunc(parm,lig,data,rtot,eps=None):\n",
    "        k11 = parm[0]\n",
    "        k21 = parm[1]\n",
    "        k22 = parm[2]\n",
    "        l20 = parm[3]\n",
    "    \n",
    "        ligc = np.concatenate(lig)\n",
    "        datac = np.concatenate(data)\n",
    "        rtot_tr = rtot[:,None]\n",
    "    \n",
    "        rfree = (((-1 - k11*ligc)) + \\\n",
    "        (np.sqrt(np.concatenate((np.square((1 + k11*lig)) + \\\n",
    "        8.*l20*rtot_tr*(1 + k21*lig + k21*k22*(np.square(lig)))))))) \\\n",
    "        / (4*l20*(1 + k21*ligc + k21*k22*(np.square(ligc))))    \n",
    "       \n",
    "        bfrac = (k11*ligc + l20*k21*rfree*ligc + \\\n",
    "        2*l20*k21*k22*rfree*(np.square(ligc))) \\\n",
    "        / (1 + 2*l20*rfree + k11*ligc + \\\n",
    "        2*l20*k21*rfree*ligc + 2*l20*k21*k22*rfree*(np.square(ligc)))\n",
    "    \n",
    "        residual = (bfrac - datac)\n",
    "\n",
    "        if eps is None:\n",
    "            return residual\n",
    "        else:\n",
    "            weights = 1/(np.concatenate(eps))\n",
    "            return (residual*weights)"
   ]
  },
  {
   "cell_type": "code",
   "execution_count": 14,
   "metadata": {
    "collapsed": false
   },
   "outputs": [
    {
     "data": {
      "text/plain": [
       "array([ 0.,  0.,  0.,  0.,  0.,  0.,  0.,  0.,  0.,  0.,  0.,  0.,  0.,\n",
       "        0.,  0.,  0.,  0.,  0.,  0.,  0.,  0.,  0.,  0.,  0.,  0.,  0.,\n",
       "        0.,  0.,  0.,  0.,  0.,  0.,  0.,  0.,  0.,  0.,  0.,  0.,  0.,\n",
       "        0.,  0.,  0.,  0.,  0.,  0.,  0.,  0.,  0.,  0.,  0.,  0.,  0.,\n",
       "        0.,  0.,  0.,  0.,  0.,  0.,  0.,  0.,  0.,  0.,  0.,  0.,  0.,\n",
       "        0.,  0.,  0.,  0.,  0.,  0.,  0.,  0.,  0.,  0.,  0.,  0.,  0.,\n",
       "        0.,  0.,  0.,  0.,  0.,  0.,  0.,  0.,  0.,  0.,  0.,  0.,  0.,\n",
       "        0.,  0.,  0.,  0.,  0.,  0.,  0.,  0.,  0.,  0.,  0.,  0.,  0.,\n",
       "        0.,  0.,  0.,  0.])"
      ]
     },
     "execution_count": 14,
     "metadata": {},
     "output_type": "execute_result"
    }
   ],
   "source": [
    "fitfunc(a.parms,a.ligs,a.bfrac,a.rtot)"
   ]
  },
  {
   "cell_type": "code",
   "execution_count": 18,
   "metadata": {
    "collapsed": false
   },
   "outputs": [
    {
     "data": {
      "text/plain": [
       "array([ 0.,  0.,  0.,  0.,  0.,  0.,  0.,  0.,  0.,  0.,  0.,  0.,  0.,\n",
       "        0.,  0.,  0.,  0.,  0.,  0.,  0.,  0.,  0.,  0.,  0.,  0.,  0.,\n",
       "        0.,  0.,  0.,  0.,  0.,  0.,  0.,  0.,  0.,  0.,  0.,  0.,  0.,\n",
       "        0.,  0.,  0.,  0.,  0.,  0.,  0.,  0.,  0.,  0.,  0.,  0.,  0.,\n",
       "        0.,  0.,  0.,  0.,  0.,  0.,  0.,  0.,  0.,  0.,  0.,  0.,  0.,\n",
       "        0.,  0.,  0.,  0.,  0.,  0.,  0.,  0.,  0.,  0.,  0.,  0.,  0.,\n",
       "        0.,  0.,  0.,  0.,  0.,  0.,  0.,  0.,  0.,  0.,  0.,  0.,  0.,\n",
       "        0.,  0.,  0.,  0.,  0.,  0.,  0.,  0.,  0.,  0.,  0.,  0.,  0.,\n",
       "        0.,  0.,  0.,  0.])"
      ]
     },
     "execution_count": 18,
     "metadata": {},
     "output_type": "execute_result"
    }
   ],
   "source": [
    "np.concatenate(genfunc(a.parms,a.ligs,a.rtot[:,None]) - a.bfrac)"
   ]
  },
  {
   "cell_type": "code",
   "execution_count": 21,
   "metadata": {
    "collapsed": false
   },
   "outputs": [],
   "source": [
    "b = a.rtot[:,None]"
   ]
  },
  {
   "cell_type": "code",
   "execution_count": 22,
   "metadata": {
    "collapsed": false
   },
   "outputs": [
    {
     "data": {
      "text/plain": [
       "(6, 1)"
      ]
     },
     "execution_count": 22,
     "metadata": {},
     "output_type": "execute_result"
    }
   ],
   "source": [
    "b.shape"
   ]
  },
  {
   "cell_type": "code",
   "execution_count": 23,
   "metadata": {
    "collapsed": false
   },
   "outputs": [
    {
     "name": "stdout",
     "output_type": "stream",
     "text": [
      "The autoreload extension is already loaded. To reload it, use:\n",
      "  %reload_ext autoreload\n"
     ]
    }
   ],
   "source": [
    "import matplotlib.pyplot as plt\n",
    "from scipy import optimize\n",
    "from mods import prep, plotter, models\n",
    "%matplotlib inline\n",
    "%load_ext autoreload"
   ]
  },
  {
   "cell_type": "code",
   "execution_count": 24,
   "metadata": {
    "collapsed": false
   },
   "outputs": [
    {
     "name": "stdout",
     "output_type": "stream",
     "text": [
      "hootie hoo! the indices match!\n",
      "hootie hoo! the indices match!\n",
      "hootie hoo! the indices match!\n"
     ]
    }
   ],
   "source": [
    "WT_08_lbl, WT_08_rtot, WT_08_lig, WT_08_sat = prep.datprep('data/EGFR_WT_08_Sat.csv','data/EGFR_WT_08_Rtot.csv')\n",
    "WT_09_lbl, WT_09_rtot, WT_09_lig, WT_09_sat = prep.datprep('data/EGFR_WT_09_Sat.csv','data/EGFR_WT_09_Rtot.csv')\n",
    "WT_11_lbl, WT_11_rtot, WT_11_lig, WT_11_sat = prep.datprep('data/EGFR_WT_11_Sat.csv','data/EGFR_WT_11_Rtot.csv')"
   ]
  },
  {
   "cell_type": "code",
   "execution_count": 92,
   "metadata": {
    "collapsed": false
   },
   "outputs": [
    {
     "data": {
      "text/plain": [
       "[array([ 0.07356727,  0.13805996,  0.26391362,  0.4066037 ,  0.54476812,\n",
       "         0.6653328 ,  0.77815172,  0.83727598,  0.89864326,  0.92572586,\n",
       "         0.95274448,  0.96779755,  0.97619503,  0.98374601]),\n",
       " array([ 0.03897864,  0.07224109,  0.13627453,  0.24531341,  0.32900344,\n",
       "         0.39573137,  0.51625286,  0.63526762,  0.76111632,  0.82358509,\n",
       "         0.89037168,  0.92215386,  0.94964638,  0.97470659,  0.98292272]),\n",
       " array([ 0.03336024,  0.06828017,  0.07497334,  0.21708435,  0.29316284,\n",
       "         0.35939415,  0.47365107,  0.59939562,  0.73877076,  0.80042994,\n",
       "         0.87817461,  0.91190698,  0.94420723,  0.97177728,  0.98133606]),\n",
       " array([ 0.05004885,  0.0765528 ,  0.15058116,  0.2548084 ,  0.38488904,\n",
       "         0.52541559,  0.67514943,  0.76496196,  0.85361188,  0.89664831,\n",
       "         0.93572981,  0.95764163,  0.96780104,  0.97869971]),\n",
       " array([ 0.0257937 ,  0.05413871,  0.1046447 ,  0.1542589 ,  0.215073  ,\n",
       "         0.32066339,  0.43963102,  0.59265494,  0.69575725,  0.80451843,\n",
       "         0.85691144,  0.90763911,  0.95355594,  0.97563575])]"
      ]
     },
     "execution_count": 92,
     "metadata": {},
     "output_type": "execute_result"
    }
   ],
   "source": [
    "[genfunc(np.array([5.,2.,0.5,100]),WT_09_lig[i],WT_09_rtot[i]) for i in range(len(WT_09_rtot))]"
   ]
  },
  {
   "cell_type": "code",
   "execution_count": 30,
   "metadata": {
    "collapsed": false
   },
   "outputs": [
    {
     "data": {
      "text/plain": [
       "array([[ 0.00270114,  0.00538823,  0.01072068,  0.02122155,  0.04158962,\n",
       "         0.07995809,  0.14838883,  0.25922436,  0.41318706,  0.58652335,\n",
       "         0.74071453,  0.85171564,  0.92017061,  0.95850362,  0.97883397,\n",
       "         0.98930956,  0.99462754,  0.99730691],\n",
       "       [ 0.00245828,  0.00490498,  0.00976393,  0.01934623,  0.03798528,\n",
       "         0.07328746,  0.1368788 ,  0.24163521,  0.39089596,  0.5643122 ,\n",
       "         0.72336186,  0.84051004,  0.91375548,  0.95506705,  0.97705513,\n",
       "         0.98840459,  0.99417112,  0.99707771],\n",
       "       [ 0.0022312 ,  0.00445269,  0.0088668 ,  0.01758129,  0.03456848,\n",
       "         0.06687522,  0.12552496,  0.22348911,  0.36624904,  0.53744654,\n",
       "         0.70032845,  0.82445614,  0.90407663,  0.94972034,  0.97424055,\n",
       "         0.98695999,  0.99343923,  0.99670934],\n",
       "       [ 0.00199594,  0.0039838 ,  0.00793546,  0.01574391,  0.03099184,\n",
       "         0.06009095,  0.11326691,  0.20317096,  0.33694389,  0.50263769,\n",
       "         0.66730939,  0.79914398,  0.88766661,  0.94021959,  0.96910167,\n",
       "         0.98428349,  0.99207283,  0.99601891],\n",
       "       [ 0.00171326,  0.00342004,  0.00681432,  0.01352675,  0.02665525,\n",
       "         0.05178786,  0.09799311,  0.17700229,  0.29698425,  0.45079722,\n",
       "         0.61205236,  0.75104444,  0.85276486,  0.9182719 ,  0.95659371,\n",
       "         0.97757164,  0.98859096,  0.99424488],\n",
       "       [ 0.00153748,  0.00306934,  0.00611626,  0.01214392,  0.02394136,\n",
       "         0.04655704,  0.08824681,  0.15990017,  0.26974677,  0.41298363,\n",
       "         0.56767905,  0.70766657,  0.81741406,  0.89380902,  0.94169589,\n",
       "         0.9692484 ,  0.98417501,  0.99196799]])"
      ]
     },
     "execution_count": 30,
     "metadata": {},
     "output_type": "execute_result"
    }
   ],
   "source": [
    "genfunc(a.parms,a.ligs,a.rtot[:,None])"
   ]
  },
  {
   "cell_type": "code",
   "execution_count": 33,
   "metadata": {
    "collapsed": false
   },
   "outputs": [
    {
     "ename": "AttributeError",
     "evalue": "'numpy.ndarray' object has no attribute 'sqrt'",
     "output_type": "error",
     "traceback": [
      "\u001b[0;31m---------------------------------------------------------------------------\u001b[0m",
      "\u001b[0;31mAttributeError\u001b[0m                            Traceback (most recent call last)",
      "\u001b[0;32m<ipython-input-33-1eedb9baaace>\u001b[0m in \u001b[0;36m<module>\u001b[0;34m()\u001b[0m\n\u001b[0;32m----> 1\u001b[0;31m \u001b[0mgenfunc\u001b[0m\u001b[0;34m(\u001b[0m\u001b[0ma\u001b[0m\u001b[0;34m.\u001b[0m\u001b[0mparms\u001b[0m\u001b[0;34m,\u001b[0m\u001b[0mWT_09_lig\u001b[0m\u001b[0;34m,\u001b[0m\u001b[0mWT_09_rtot\u001b[0m\u001b[0;34m[\u001b[0m\u001b[0;34m:\u001b[0m\u001b[0;34m,\u001b[0m\u001b[0;32mNone\u001b[0m\u001b[0;34m]\u001b[0m\u001b[0;34m)\u001b[0m\u001b[0;34m\u001b[0m\u001b[0m\n\u001b[0m",
      "\u001b[0;32m<ipython-input-5-ce634dad3016>\u001b[0m in \u001b[0;36mgenfunc\u001b[0;34m(parm, lig, rtot)\u001b[0m\n\u001b[1;32m     12\u001b[0m         \u001b[0ml20\u001b[0m \u001b[0;34m=\u001b[0m \u001b[0mparm\u001b[0m\u001b[0;34m[\u001b[0m\u001b[0;36m3\u001b[0m\u001b[0;34m]\u001b[0m\u001b[0;34m\u001b[0m\u001b[0m\n\u001b[1;32m     13\u001b[0m \u001b[0;34m\u001b[0m\u001b[0m\n\u001b[0;32m---> 14\u001b[0;31m         \u001b[0mrfree\u001b[0m \u001b[0;34m=\u001b[0m \u001b[0;34m(\u001b[0m\u001b[0;34m(\u001b[0m\u001b[0;34m(\u001b[0m\u001b[0;34m-\u001b[0m\u001b[0;36m1\u001b[0m \u001b[0;34m-\u001b[0m \u001b[0mk11\u001b[0m\u001b[0;34m*\u001b[0m\u001b[0mlig\u001b[0m\u001b[0;34m)\u001b[0m\u001b[0;34m)\u001b[0m \u001b[0;34m+\u001b[0m         \u001b[0;34m(\u001b[0m\u001b[0mnp\u001b[0m\u001b[0;34m.\u001b[0m\u001b[0msqrt\u001b[0m\u001b[0;34m(\u001b[0m\u001b[0;34m(\u001b[0m\u001b[0mnp\u001b[0m\u001b[0;34m.\u001b[0m\u001b[0msquare\u001b[0m\u001b[0;34m(\u001b[0m\u001b[0;34m(\u001b[0m\u001b[0;36m1\u001b[0m \u001b[0;34m+\u001b[0m \u001b[0mk11\u001b[0m\u001b[0;34m*\u001b[0m\u001b[0mlig\u001b[0m\u001b[0;34m)\u001b[0m\u001b[0;34m)\u001b[0m \u001b[0;34m+\u001b[0m         \u001b[0;36m8.\u001b[0m\u001b[0;34m*\u001b[0m\u001b[0ml20\u001b[0m\u001b[0;34m*\u001b[0m\u001b[0mrtot\u001b[0m\u001b[0;34m*\u001b[0m\u001b[0;34m(\u001b[0m\u001b[0;36m1\u001b[0m \u001b[0;34m+\u001b[0m \u001b[0mk21\u001b[0m\u001b[0;34m*\u001b[0m\u001b[0mlig\u001b[0m \u001b[0;34m+\u001b[0m \u001b[0mk21\u001b[0m\u001b[0;34m*\u001b[0m\u001b[0mk22\u001b[0m\u001b[0;34m*\u001b[0m\u001b[0;34m(\u001b[0m\u001b[0mnp\u001b[0m\u001b[0;34m.\u001b[0m\u001b[0msquare\u001b[0m\u001b[0;34m(\u001b[0m\u001b[0mlig\u001b[0m\u001b[0;34m)\u001b[0m\u001b[0;34m)\u001b[0m\u001b[0;34m)\u001b[0m\u001b[0;34m)\u001b[0m\u001b[0;34m)\u001b[0m\u001b[0;34m)\u001b[0m\u001b[0;34m)\u001b[0m         \u001b[0;34m/\u001b[0m \u001b[0;34m(\u001b[0m\u001b[0;36m4\u001b[0m\u001b[0;34m*\u001b[0m\u001b[0ml20\u001b[0m\u001b[0;34m*\u001b[0m\u001b[0;34m(\u001b[0m\u001b[0;36m1\u001b[0m \u001b[0;34m+\u001b[0m \u001b[0mk21\u001b[0m\u001b[0;34m*\u001b[0m\u001b[0mlig\u001b[0m \u001b[0;34m+\u001b[0m \u001b[0mk21\u001b[0m\u001b[0;34m*\u001b[0m\u001b[0mk22\u001b[0m\u001b[0;34m*\u001b[0m\u001b[0;34m(\u001b[0m\u001b[0mnp\u001b[0m\u001b[0;34m.\u001b[0m\u001b[0msquare\u001b[0m\u001b[0;34m(\u001b[0m\u001b[0mlig\u001b[0m\u001b[0;34m)\u001b[0m\u001b[0;34m)\u001b[0m\u001b[0;34m)\u001b[0m\u001b[0;34m)\u001b[0m\u001b[0;34m\u001b[0m\u001b[0m\n\u001b[0m\u001b[1;32m     15\u001b[0m \u001b[0;34m\u001b[0m\u001b[0m\n\u001b[1;32m     16\u001b[0m         \u001b[0mbfrac\u001b[0m \u001b[0;34m=\u001b[0m \u001b[0;34m(\u001b[0m\u001b[0mk11\u001b[0m\u001b[0;34m*\u001b[0m\u001b[0mlig\u001b[0m \u001b[0;34m+\u001b[0m \u001b[0ml20\u001b[0m\u001b[0;34m*\u001b[0m\u001b[0mk21\u001b[0m\u001b[0;34m*\u001b[0m\u001b[0mrfree\u001b[0m\u001b[0;34m*\u001b[0m\u001b[0mlig\u001b[0m \u001b[0;34m+\u001b[0m         \u001b[0;36m2\u001b[0m\u001b[0;34m*\u001b[0m\u001b[0ml20\u001b[0m\u001b[0;34m*\u001b[0m\u001b[0mk21\u001b[0m\u001b[0;34m*\u001b[0m\u001b[0mk22\u001b[0m\u001b[0;34m*\u001b[0m\u001b[0mrfree\u001b[0m\u001b[0;34m*\u001b[0m\u001b[0;34m(\u001b[0m\u001b[0mnp\u001b[0m\u001b[0;34m.\u001b[0m\u001b[0msquare\u001b[0m\u001b[0;34m(\u001b[0m\u001b[0mlig\u001b[0m\u001b[0;34m)\u001b[0m\u001b[0;34m)\u001b[0m\u001b[0;34m)\u001b[0m         \u001b[0;34m/\u001b[0m \u001b[0;34m(\u001b[0m\u001b[0;36m1\u001b[0m \u001b[0;34m+\u001b[0m \u001b[0;36m2\u001b[0m\u001b[0;34m*\u001b[0m\u001b[0ml20\u001b[0m\u001b[0;34m*\u001b[0m\u001b[0mrfree\u001b[0m \u001b[0;34m+\u001b[0m \u001b[0mk11\u001b[0m\u001b[0;34m*\u001b[0m\u001b[0mlig\u001b[0m \u001b[0;34m+\u001b[0m         \u001b[0;36m2\u001b[0m\u001b[0;34m*\u001b[0m\u001b[0ml20\u001b[0m\u001b[0;34m*\u001b[0m\u001b[0mk21\u001b[0m\u001b[0;34m*\u001b[0m\u001b[0mrfree\u001b[0m\u001b[0;34m*\u001b[0m\u001b[0mlig\u001b[0m \u001b[0;34m+\u001b[0m \u001b[0;36m2\u001b[0m\u001b[0;34m*\u001b[0m\u001b[0ml20\u001b[0m\u001b[0;34m*\u001b[0m\u001b[0mk21\u001b[0m\u001b[0;34m*\u001b[0m\u001b[0mk22\u001b[0m\u001b[0;34m*\u001b[0m\u001b[0mrfree\u001b[0m\u001b[0;34m*\u001b[0m\u001b[0;34m(\u001b[0m\u001b[0mnp\u001b[0m\u001b[0;34m.\u001b[0m\u001b[0msquare\u001b[0m\u001b[0;34m(\u001b[0m\u001b[0mlig\u001b[0m\u001b[0;34m)\u001b[0m\u001b[0;34m)\u001b[0m\u001b[0;34m)\u001b[0m\u001b[0;34m\u001b[0m\u001b[0m\n",
      "\u001b[0;31mAttributeError\u001b[0m: 'numpy.ndarray' object has no attribute 'sqrt'"
     ]
    }
   ],
   "source": [
    "genfunc(a.parms,WT_09_lig,WT_09_rtot[:,None])"
   ]
  },
  {
   "cell_type": "code",
   "execution_count": 34,
   "metadata": {
    "collapsed": false
   },
   "outputs": [
    {
     "data": {
      "text/plain": [
       "numpy.ndarray"
      ]
     },
     "execution_count": 34,
     "metadata": {},
     "output_type": "execute_result"
    }
   ],
   "source": [
    "type(WT_09_lig)"
   ]
  },
  {
   "cell_type": "code",
   "execution_count": 37,
   "metadata": {
    "collapsed": false
   },
   "outputs": [
    {
     "data": {
      "text/plain": [
       "array([ 0.13091024,  0.18559224,  0.2766845 ,  0.38090537,  0.50126739,\n",
       "        0.64364027,  0.85180086,  1.02963731,  1.34876388,  1.59766267,\n",
       "        2.03009458,  2.47726846,  2.89288697,  3.51352387,  0.1015169 ,\n",
       "        0.14037407,  0.19901827,  0.2836207 ,  0.34631214,  0.3982847 ,\n",
       "        0.5036741 ,  0.63696868,  0.85137254,  1.02400342,  1.34086241,\n",
       "        1.6134835 ,  2.02925922,  2.89189523,  3.53067557,  0.10201946,\n",
       "        0.14827464,  0.15585368,  0.28498567,  0.34622507,  0.40019233,\n",
       "        0.5009982 ,  0.6367684 ,  0.85925293,  1.01366119,  1.34106152,\n",
       "        1.59695053,  2.02881862,  2.87712322,  3.54791065,  0.13553479,\n",
       "        0.16966352,  0.24663055,  0.33943379,  0.4533996 ,  0.59365512,\n",
       "        0.79717539,  0.98333656,  1.29457831,  1.56465971,  2.00848923,\n",
       "        2.48904861,  2.86229576,  3.52853794,  0.11384068,  0.16711119,\n",
       "        0.23808736,  0.29652396,  0.36201796,  0.47167022,  0.60245348,\n",
       "        0.80899011,  1.00291924,  1.32668308,  1.58786712,  2.01691001,\n",
       "        2.89037489,  4.01842631])"
      ]
     },
     "execution_count": 37,
     "metadata": {},
     "output_type": "execute_result"
    }
   ],
   "source": [
    "np.sqrt(np.concatenate(WT_09_lig))"
   ]
  },
  {
   "cell_type": "code",
   "execution_count": 51,
   "metadata": {
    "collapsed": false
   },
   "outputs": [],
   "source": [
    "def genfunc2(parm,lig,rtot):\n",
    "        '''Generates ligand binding data according to Wyman model.\n",
    "        Takes numpy arrays containing parameters k11,k21,k22,l20; \n",
    "        free ligand concentrations, and total receptor concentrations.\n",
    "        Must be iterated against ligand data, i.e., for loop required when\n",
    "        used for more than one receptor concentration. In fitting functions,\n",
    "        the datasets are concentatenated for faster operation'''\n",
    "    \n",
    "        k11 = parm[0]\n",
    "        k21 = parm[1]\n",
    "        k22 = parm[2]\n",
    "        l20 = parm[3]\n",
    "        \n",
    "        ligc = np.concatenate(lig)\n",
    "    \n",
    "        rfree = (((-1 - k11*ligc)) + \\\n",
    "        (np.sqrt(np.concatenate((np.square((1 + k11*lig)) + \\\n",
    "        8.*l20*rtot*(1 + k21*lig + k21*k22*(np.square(lig))))))) \\\n",
    "        / (4*l20*(1 + k21*ligc + k21*k22*(np.square(ligc)))))    \n",
    "       \n",
    "        bfrac = (k11*ligc + l20*k21*rfree*ligc + \\\n",
    "        2*l20*k21*k22*rfree*(np.square(ligc))) \\\n",
    "        / (1 + 2*l20*rfree + k11*ligc + \\\n",
    "        2*l20*k21*rfree*ligc + 2*l20*k21*k22*rfree*(np.square(ligc)))\n",
    "    \n",
    "        return bfrac"
   ]
  },
  {
   "cell_type": "code",
   "execution_count": 49,
   "metadata": {
    "collapsed": false
   },
   "outputs": [
    {
     "ename": "ValueError",
     "evalue": "zero-dimensional arrays cannot be concatenated",
     "output_type": "error",
     "traceback": [
      "\u001b[0;31m---------------------------------------------------------------------------\u001b[0m",
      "\u001b[0;31mValueError\u001b[0m                                Traceback (most recent call last)",
      "\u001b[0;32m<ipython-input-49-9eac797210a8>\u001b[0m in \u001b[0;36m<module>\u001b[0;34m()\u001b[0m\n\u001b[0;32m----> 1\u001b[0;31m \u001b[0mgenfunc2\u001b[0m\u001b[0;34m(\u001b[0m\u001b[0mnp\u001b[0m\u001b[0;34m.\u001b[0m\u001b[0marray\u001b[0m\u001b[0;34m(\u001b[0m\u001b[0;34m[\u001b[0m\u001b[0;36m5.\u001b[0m\u001b[0;34m,\u001b[0m\u001b[0;36m2.\u001b[0m\u001b[0;34m,\u001b[0m\u001b[0;36m0.5\u001b[0m\u001b[0;34m,\u001b[0m\u001b[0;36m100\u001b[0m\u001b[0;34m]\u001b[0m\u001b[0;34m)\u001b[0m\u001b[0;34m,\u001b[0m\u001b[0mWT_09_lig\u001b[0m\u001b[0;34m[\u001b[0m\u001b[0;36m1\u001b[0m\u001b[0;34m]\u001b[0m\u001b[0;34m,\u001b[0m\u001b[0mWT_09_rtot\u001b[0m\u001b[0;34m[\u001b[0m\u001b[0;36m1\u001b[0m\u001b[0;34m]\u001b[0m\u001b[0;34m)\u001b[0m\u001b[0;34m\u001b[0m\u001b[0m\n\u001b[0m",
      "\u001b[0;32m<ipython-input-48-6f3bf2b98631>\u001b[0m in \u001b[0;36mgenfunc2\u001b[0;34m(parm, lig, rtot)\u001b[0m\n\u001b[1;32m     12\u001b[0m         \u001b[0ml20\u001b[0m \u001b[0;34m=\u001b[0m \u001b[0mparm\u001b[0m\u001b[0;34m[\u001b[0m\u001b[0;36m3\u001b[0m\u001b[0;34m]\u001b[0m\u001b[0;34m\u001b[0m\u001b[0m\n\u001b[1;32m     13\u001b[0m \u001b[0;34m\u001b[0m\u001b[0m\n\u001b[0;32m---> 14\u001b[0;31m         \u001b[0mligc\u001b[0m \u001b[0;34m=\u001b[0m \u001b[0mnp\u001b[0m\u001b[0;34m.\u001b[0m\u001b[0mconcatenate\u001b[0m\u001b[0;34m(\u001b[0m\u001b[0mlig\u001b[0m\u001b[0;34m)\u001b[0m\u001b[0;34m\u001b[0m\u001b[0m\n\u001b[0m\u001b[1;32m     15\u001b[0m \u001b[0;34m\u001b[0m\u001b[0m\n\u001b[1;32m     16\u001b[0m         \u001b[0mrfree\u001b[0m \u001b[0;34m=\u001b[0m \u001b[0;34m(\u001b[0m\u001b[0;34m(\u001b[0m\u001b[0;34m(\u001b[0m\u001b[0;34m-\u001b[0m\u001b[0;36m1\u001b[0m \u001b[0;34m-\u001b[0m \u001b[0mk11\u001b[0m\u001b[0;34m*\u001b[0m\u001b[0mligc\u001b[0m\u001b[0;34m)\u001b[0m\u001b[0;34m)\u001b[0m \u001b[0;34m+\u001b[0m         \u001b[0;34m(\u001b[0m\u001b[0mnp\u001b[0m\u001b[0;34m.\u001b[0m\u001b[0msqrt\u001b[0m\u001b[0;34m(\u001b[0m\u001b[0mnp\u001b[0m\u001b[0;34m.\u001b[0m\u001b[0mconcatenate\u001b[0m\u001b[0;34m(\u001b[0m\u001b[0;34m(\u001b[0m\u001b[0mnp\u001b[0m\u001b[0;34m.\u001b[0m\u001b[0msquare\u001b[0m\u001b[0;34m(\u001b[0m\u001b[0;34m(\u001b[0m\u001b[0;36m1\u001b[0m \u001b[0;34m+\u001b[0m \u001b[0mk11\u001b[0m\u001b[0;34m*\u001b[0m\u001b[0mlig\u001b[0m\u001b[0;34m)\u001b[0m\u001b[0;34m)\u001b[0m \u001b[0;34m+\u001b[0m         \u001b[0;36m8.\u001b[0m\u001b[0;34m*\u001b[0m\u001b[0ml20\u001b[0m\u001b[0;34m*\u001b[0m\u001b[0mrtot\u001b[0m\u001b[0;34m*\u001b[0m\u001b[0;34m(\u001b[0m\u001b[0;36m1\u001b[0m \u001b[0;34m+\u001b[0m \u001b[0mk21\u001b[0m\u001b[0;34m*\u001b[0m\u001b[0mlig\u001b[0m \u001b[0;34m+\u001b[0m \u001b[0mk21\u001b[0m\u001b[0;34m*\u001b[0m\u001b[0mk22\u001b[0m\u001b[0;34m*\u001b[0m\u001b[0;34m(\u001b[0m\u001b[0mnp\u001b[0m\u001b[0;34m.\u001b[0m\u001b[0msquare\u001b[0m\u001b[0;34m(\u001b[0m\u001b[0mlig\u001b[0m\u001b[0;34m)\u001b[0m\u001b[0;34m)\u001b[0m\u001b[0;34m)\u001b[0m\u001b[0;34m)\u001b[0m\u001b[0;34m)\u001b[0m\u001b[0;34m)\u001b[0m\u001b[0;34m)\u001b[0m         \u001b[0;34m/\u001b[0m \u001b[0;34m(\u001b[0m\u001b[0;36m4\u001b[0m\u001b[0;34m*\u001b[0m\u001b[0ml20\u001b[0m\u001b[0;34m*\u001b[0m\u001b[0;34m(\u001b[0m\u001b[0;36m1\u001b[0m \u001b[0;34m+\u001b[0m \u001b[0mk21\u001b[0m\u001b[0;34m*\u001b[0m\u001b[0mligc\u001b[0m \u001b[0;34m+\u001b[0m \u001b[0mk21\u001b[0m\u001b[0;34m*\u001b[0m\u001b[0mk22\u001b[0m\u001b[0;34m*\u001b[0m\u001b[0;34m(\u001b[0m\u001b[0mnp\u001b[0m\u001b[0;34m.\u001b[0m\u001b[0msquare\u001b[0m\u001b[0;34m(\u001b[0m\u001b[0mligc\u001b[0m\u001b[0;34m)\u001b[0m\u001b[0;34m)\u001b[0m\u001b[0;34m)\u001b[0m\u001b[0;34m)\u001b[0m\u001b[0;34m)\u001b[0m\u001b[0;34m\u001b[0m\u001b[0m\n",
      "\u001b[0;31mValueError\u001b[0m: zero-dimensional arrays cannot be concatenated"
     ]
    }
   ],
   "source": [
    "genfunc2(np.array([5.,2.,0.5,100]),WT_09_lig[1],WT_09_rtot[1]) "
   ]
  },
  {
   "cell_type": "code",
   "execution_count": 52,
   "metadata": {
    "collapsed": false
   },
   "outputs": [
    {
     "ename": "AttributeError",
     "evalue": "'numpy.ndarray' object has no attribute 'sqrt'",
     "output_type": "error",
     "traceback": [
      "\u001b[0;31m---------------------------------------------------------------------------\u001b[0m",
      "\u001b[0;31mAttributeError\u001b[0m                            Traceback (most recent call last)",
      "\u001b[0;32m<ipython-input-52-781104d2a5cb>\u001b[0m in \u001b[0;36m<module>\u001b[0;34m()\u001b[0m\n\u001b[0;32m----> 1\u001b[0;31m \u001b[0mgenfunc2\u001b[0m\u001b[0;34m(\u001b[0m\u001b[0ma\u001b[0m\u001b[0;34m.\u001b[0m\u001b[0mparms\u001b[0m\u001b[0;34m,\u001b[0m\u001b[0mWT_09_lig\u001b[0m\u001b[0;34m,\u001b[0m\u001b[0mWT_09_rtot\u001b[0m\u001b[0;34m[\u001b[0m\u001b[0;34m:\u001b[0m\u001b[0;34m,\u001b[0m\u001b[0;32mNone\u001b[0m\u001b[0;34m]\u001b[0m\u001b[0;34m)\u001b[0m\u001b[0;34m\u001b[0m\u001b[0m\n\u001b[0m",
      "\u001b[0;32m<ipython-input-51-6f3bf2b98631>\u001b[0m in \u001b[0;36mgenfunc2\u001b[0;34m(parm, lig, rtot)\u001b[0m\n\u001b[1;32m     14\u001b[0m         \u001b[0mligc\u001b[0m \u001b[0;34m=\u001b[0m \u001b[0mnp\u001b[0m\u001b[0;34m.\u001b[0m\u001b[0mconcatenate\u001b[0m\u001b[0;34m(\u001b[0m\u001b[0mlig\u001b[0m\u001b[0;34m)\u001b[0m\u001b[0;34m\u001b[0m\u001b[0m\n\u001b[1;32m     15\u001b[0m \u001b[0;34m\u001b[0m\u001b[0m\n\u001b[0;32m---> 16\u001b[0;31m         \u001b[0mrfree\u001b[0m \u001b[0;34m=\u001b[0m \u001b[0;34m(\u001b[0m\u001b[0;34m(\u001b[0m\u001b[0;34m(\u001b[0m\u001b[0;34m-\u001b[0m\u001b[0;36m1\u001b[0m \u001b[0;34m-\u001b[0m \u001b[0mk11\u001b[0m\u001b[0;34m*\u001b[0m\u001b[0mligc\u001b[0m\u001b[0;34m)\u001b[0m\u001b[0;34m)\u001b[0m \u001b[0;34m+\u001b[0m         \u001b[0;34m(\u001b[0m\u001b[0mnp\u001b[0m\u001b[0;34m.\u001b[0m\u001b[0msqrt\u001b[0m\u001b[0;34m(\u001b[0m\u001b[0mnp\u001b[0m\u001b[0;34m.\u001b[0m\u001b[0mconcatenate\u001b[0m\u001b[0;34m(\u001b[0m\u001b[0;34m(\u001b[0m\u001b[0mnp\u001b[0m\u001b[0;34m.\u001b[0m\u001b[0msquare\u001b[0m\u001b[0;34m(\u001b[0m\u001b[0;34m(\u001b[0m\u001b[0;36m1\u001b[0m \u001b[0;34m+\u001b[0m \u001b[0mk11\u001b[0m\u001b[0;34m*\u001b[0m\u001b[0mlig\u001b[0m\u001b[0;34m)\u001b[0m\u001b[0;34m)\u001b[0m \u001b[0;34m+\u001b[0m         \u001b[0;36m8.\u001b[0m\u001b[0;34m*\u001b[0m\u001b[0ml20\u001b[0m\u001b[0;34m*\u001b[0m\u001b[0mrtot\u001b[0m\u001b[0;34m*\u001b[0m\u001b[0;34m(\u001b[0m\u001b[0;36m1\u001b[0m \u001b[0;34m+\u001b[0m \u001b[0mk21\u001b[0m\u001b[0;34m*\u001b[0m\u001b[0mlig\u001b[0m \u001b[0;34m+\u001b[0m \u001b[0mk21\u001b[0m\u001b[0;34m*\u001b[0m\u001b[0mk22\u001b[0m\u001b[0;34m*\u001b[0m\u001b[0;34m(\u001b[0m\u001b[0mnp\u001b[0m\u001b[0;34m.\u001b[0m\u001b[0msquare\u001b[0m\u001b[0;34m(\u001b[0m\u001b[0mlig\u001b[0m\u001b[0;34m)\u001b[0m\u001b[0;34m)\u001b[0m\u001b[0;34m)\u001b[0m\u001b[0;34m)\u001b[0m\u001b[0;34m)\u001b[0m\u001b[0;34m)\u001b[0m\u001b[0;34m)\u001b[0m         \u001b[0;34m/\u001b[0m \u001b[0;34m(\u001b[0m\u001b[0;36m4\u001b[0m\u001b[0;34m*\u001b[0m\u001b[0ml20\u001b[0m\u001b[0;34m*\u001b[0m\u001b[0;34m(\u001b[0m\u001b[0;36m1\u001b[0m \u001b[0;34m+\u001b[0m \u001b[0mk21\u001b[0m\u001b[0;34m*\u001b[0m\u001b[0mligc\u001b[0m \u001b[0;34m+\u001b[0m \u001b[0mk21\u001b[0m\u001b[0;34m*\u001b[0m\u001b[0mk22\u001b[0m\u001b[0;34m*\u001b[0m\u001b[0;34m(\u001b[0m\u001b[0mnp\u001b[0m\u001b[0;34m.\u001b[0m\u001b[0msquare\u001b[0m\u001b[0;34m(\u001b[0m\u001b[0mligc\u001b[0m\u001b[0;34m)\u001b[0m\u001b[0;34m)\u001b[0m\u001b[0;34m)\u001b[0m\u001b[0;34m)\u001b[0m\u001b[0;34m)\u001b[0m\u001b[0;34m\u001b[0m\u001b[0m\n\u001b[0m\u001b[1;32m     17\u001b[0m \u001b[0;34m\u001b[0m\u001b[0m\n\u001b[1;32m     18\u001b[0m         \u001b[0mbfrac\u001b[0m \u001b[0;34m=\u001b[0m \u001b[0;34m(\u001b[0m\u001b[0mk11\u001b[0m\u001b[0;34m*\u001b[0m\u001b[0mligc\u001b[0m \u001b[0;34m+\u001b[0m \u001b[0ml20\u001b[0m\u001b[0;34m*\u001b[0m\u001b[0mk21\u001b[0m\u001b[0;34m*\u001b[0m\u001b[0mrfree\u001b[0m\u001b[0;34m*\u001b[0m\u001b[0mligc\u001b[0m \u001b[0;34m+\u001b[0m         \u001b[0;36m2\u001b[0m\u001b[0;34m*\u001b[0m\u001b[0ml20\u001b[0m\u001b[0;34m*\u001b[0m\u001b[0mk21\u001b[0m\u001b[0;34m*\u001b[0m\u001b[0mk22\u001b[0m\u001b[0;34m*\u001b[0m\u001b[0mrfree\u001b[0m\u001b[0;34m*\u001b[0m\u001b[0;34m(\u001b[0m\u001b[0mnp\u001b[0m\u001b[0;34m.\u001b[0m\u001b[0msquare\u001b[0m\u001b[0;34m(\u001b[0m\u001b[0mligc\u001b[0m\u001b[0;34m)\u001b[0m\u001b[0;34m)\u001b[0m\u001b[0;34m)\u001b[0m         \u001b[0;34m/\u001b[0m \u001b[0;34m(\u001b[0m\u001b[0;36m1\u001b[0m \u001b[0;34m+\u001b[0m \u001b[0;36m2\u001b[0m\u001b[0;34m*\u001b[0m\u001b[0ml20\u001b[0m\u001b[0;34m*\u001b[0m\u001b[0mrfree\u001b[0m \u001b[0;34m+\u001b[0m \u001b[0mk11\u001b[0m\u001b[0;34m*\u001b[0m\u001b[0mligc\u001b[0m \u001b[0;34m+\u001b[0m         \u001b[0;36m2\u001b[0m\u001b[0;34m*\u001b[0m\u001b[0ml20\u001b[0m\u001b[0;34m*\u001b[0m\u001b[0mk21\u001b[0m\u001b[0;34m*\u001b[0m\u001b[0mrfree\u001b[0m\u001b[0;34m*\u001b[0m\u001b[0mligc\u001b[0m \u001b[0;34m+\u001b[0m \u001b[0;36m2\u001b[0m\u001b[0;34m*\u001b[0m\u001b[0ml20\u001b[0m\u001b[0;34m*\u001b[0m\u001b[0mk21\u001b[0m\u001b[0;34m*\u001b[0m\u001b[0mk22\u001b[0m\u001b[0;34m*\u001b[0m\u001b[0mrfree\u001b[0m\u001b[0;34m*\u001b[0m\u001b[0;34m(\u001b[0m\u001b[0mnp\u001b[0m\u001b[0;34m.\u001b[0m\u001b[0msquare\u001b[0m\u001b[0;34m(\u001b[0m\u001b[0mligc\u001b[0m\u001b[0;34m)\u001b[0m\u001b[0;34m)\u001b[0m\u001b[0;34m)\u001b[0m\u001b[0;34m\u001b[0m\u001b[0m\n",
      "\u001b[0;31mAttributeError\u001b[0m: 'numpy.ndarray' object has no attribute 'sqrt'"
     ]
    }
   ],
   "source": [
    "genfunc2(a.parms,WT_09_lig,WT_09_rtot[:,None])"
   ]
  },
  {
   "cell_type": "code",
   "execution_count": 64,
   "metadata": {
    "collapsed": false
   },
   "outputs": [],
   "source": [
    "def wrap1(parm,lig,rtot):\n",
    "    k11 = parm[0]\n",
    "    k21 = parm[1]\n",
    "    k22 = parm[2]\n",
    "    l20 = parm[3]\n",
    "        \n",
    "    ligc = np.concatenate(lig)\n",
    "    \n",
    "    return ((-1 - k11*ligc) + ((np.sqrt(np.concatenate((np.square((1 + k11*lig)) \\\n",
    "           + 8.*l20*rtot*(1 + k21*lig + k21*k22*(np.square(lig))))))) \\\n",
    "           / (4*l20*(1 + k21*ligc + k21*k22*(np.square(ligc))))))"
   ]
  },
  {
   "cell_type": "code",
   "execution_count": 65,
   "metadata": {
    "collapsed": false
   },
   "outputs": [
    {
     "data": {
      "text/plain": [
       "array([ -1.04836208,  -1.10026579,  -1.22655746,  -1.43211086,\n",
       "        -1.75059496,  -2.23955648,  -3.17340736,  -4.17719685,\n",
       "        -6.45435626,  -8.6545891 , -13.36116504, -19.40821452,\n",
       "       -26.10430662, -38.03284172,  -1.0265766 ,  -1.0547874 ,\n",
       "        -1.11452409,  -1.2370706 ,  -1.35558699,  -1.47172005,\n",
       "        -1.75696964,  -2.21319623,  -3.17068079,  -4.14206151,\n",
       "        -6.39031206,  -8.80679875, -13.35085107, -26.08702212,\n",
       "       -38.39526121,  -1.02506992,  -1.0598481 ,  -1.06677205,\n",
       "        -1.23775441,  -1.35384001,  -1.47480011,  -1.74755709,\n",
       "        -2.21127732,  -3.21024611,  -4.0780989 ,  -6.3914102 ,\n",
       "        -8.64716381, -13.34522649, -25.83121251, -38.7611769 ,\n",
       "        -1.04690046,  -1.07821491,  -1.17453   ,  -1.33798717,\n",
       "        -1.60946165,  -2.05054489,  -2.90043268,  -3.89537528,\n",
       "        -6.02308118,  -8.34029124, -13.09859555, -19.58319079,\n",
       "       -25.57568961, -38.34975287,  -1.02229928,  -1.06742535,\n",
       "        -1.15411457,  -1.24825042,  -1.37816345,  -1.65336341,\n",
       "        -2.0759634 ,  -2.95223249,  -4.00777024,  -6.27233157,\n",
       "        -8.55716681, -13.19837731, -26.05920492, -49.44094426])"
      ]
     },
     "execution_count": 65,
     "metadata": {},
     "output_type": "execute_result"
    }
   ],
   "source": [
    "wrap1(a.parms,WT_09_lig,WT_09_rtot)"
   ]
  },
  {
   "cell_type": "code",
   "execution_count": 73,
   "metadata": {
    "collapsed": true
   },
   "outputs": [],
   "source": [
    "def rfr3(parm,lig,rtot):\n",
    "    \n",
    "    k11 = parm[0]\n",
    "    k21 = parm[1]\n",
    "    k22 = parm[2]\n",
    "    l20 = parm[3]\n",
    "        \n",
    "    ligc = np.concatenate(lig)\n",
    "    \n",
    "    return (((-1 - k11*ligc)) + \\\n",
    "        (np.sqrt((np.square((1 + k11*lig)) + \\\n",
    "        8.*l20*rtot*(1 + k21*lig + k21*k22*(np.square(lig)))))) \\\n",
    "        / (4*l20*(1 + k21*ligc + k21*k22*(np.square(ligc)))))    "
   ]
  },
  {
   "cell_type": "code",
   "execution_count": 75,
   "metadata": {
    "collapsed": false
   },
   "outputs": [
    {
     "ename": "ValueError",
     "evalue": "zero-dimensional arrays cannot be concatenated",
     "output_type": "error",
     "traceback": [
      "\u001b[0;31m---------------------------------------------------------------------------\u001b[0m",
      "\u001b[0;31mValueError\u001b[0m                                Traceback (most recent call last)",
      "\u001b[0;32m<ipython-input-75-e1f103be278f>\u001b[0m in \u001b[0;36m<module>\u001b[0;34m()\u001b[0m\n\u001b[0;32m----> 1\u001b[0;31m \u001b[0mrfr3\u001b[0m\u001b[0;34m(\u001b[0m\u001b[0mnp\u001b[0m\u001b[0;34m.\u001b[0m\u001b[0marray\u001b[0m\u001b[0;34m(\u001b[0m\u001b[0;34m[\u001b[0m\u001b[0;36m5.\u001b[0m\u001b[0;34m,\u001b[0m\u001b[0;36m2.\u001b[0m\u001b[0;34m,\u001b[0m\u001b[0;36m0.2\u001b[0m\u001b[0;34m,\u001b[0m\u001b[0;36m100.\u001b[0m\u001b[0;34m]\u001b[0m\u001b[0;34m)\u001b[0m\u001b[0;34m,\u001b[0m\u001b[0mWT_09_lig\u001b[0m\u001b[0;34m[\u001b[0m\u001b[0;36m1\u001b[0m\u001b[0;34m]\u001b[0m\u001b[0;34m,\u001b[0m\u001b[0mWT_09_rtot\u001b[0m\u001b[0;34m[\u001b[0m\u001b[0;36m1\u001b[0m\u001b[0;34m]\u001b[0m\u001b[0;34m)\u001b[0m\u001b[0;34m\u001b[0m\u001b[0m\n\u001b[0m",
      "\u001b[0;32m<ipython-input-73-87bd3cadfa5f>\u001b[0m in \u001b[0;36mrfr3\u001b[0;34m(parm, lig, rtot)\u001b[0m\n\u001b[1;32m      6\u001b[0m     \u001b[0ml20\u001b[0m \u001b[0;34m=\u001b[0m \u001b[0mparm\u001b[0m\u001b[0;34m[\u001b[0m\u001b[0;36m3\u001b[0m\u001b[0;34m]\u001b[0m\u001b[0;34m\u001b[0m\u001b[0m\n\u001b[1;32m      7\u001b[0m \u001b[0;34m\u001b[0m\u001b[0m\n\u001b[0;32m----> 8\u001b[0;31m     \u001b[0mligc\u001b[0m \u001b[0;34m=\u001b[0m \u001b[0mnp\u001b[0m\u001b[0;34m.\u001b[0m\u001b[0mconcatenate\u001b[0m\u001b[0;34m(\u001b[0m\u001b[0mlig\u001b[0m\u001b[0;34m)\u001b[0m\u001b[0;34m\u001b[0m\u001b[0m\n\u001b[0m\u001b[1;32m      9\u001b[0m \u001b[0;34m\u001b[0m\u001b[0m\n\u001b[1;32m     10\u001b[0m     \u001b[0;32mreturn\u001b[0m \u001b[0;34m(\u001b[0m\u001b[0;34m(\u001b[0m\u001b[0;34m(\u001b[0m\u001b[0;34m-\u001b[0m\u001b[0;36m1\u001b[0m \u001b[0;34m-\u001b[0m \u001b[0mk11\u001b[0m\u001b[0;34m*\u001b[0m\u001b[0mligc\u001b[0m\u001b[0;34m)\u001b[0m\u001b[0;34m)\u001b[0m \u001b[0;34m+\u001b[0m         \u001b[0;34m(\u001b[0m\u001b[0mnp\u001b[0m\u001b[0;34m.\u001b[0m\u001b[0msqrt\u001b[0m\u001b[0;34m(\u001b[0m\u001b[0;34m(\u001b[0m\u001b[0mnp\u001b[0m\u001b[0;34m.\u001b[0m\u001b[0msquare\u001b[0m\u001b[0;34m(\u001b[0m\u001b[0;34m(\u001b[0m\u001b[0;36m1\u001b[0m \u001b[0;34m+\u001b[0m \u001b[0mk11\u001b[0m\u001b[0;34m*\u001b[0m\u001b[0mlig\u001b[0m\u001b[0;34m)\u001b[0m\u001b[0;34m)\u001b[0m \u001b[0;34m+\u001b[0m         \u001b[0;36m8.\u001b[0m\u001b[0;34m*\u001b[0m\u001b[0ml20\u001b[0m\u001b[0;34m*\u001b[0m\u001b[0mrtot\u001b[0m\u001b[0;34m*\u001b[0m\u001b[0;34m(\u001b[0m\u001b[0;36m1\u001b[0m \u001b[0;34m+\u001b[0m \u001b[0mk21\u001b[0m\u001b[0;34m*\u001b[0m\u001b[0mlig\u001b[0m \u001b[0;34m+\u001b[0m \u001b[0mk21\u001b[0m\u001b[0;34m*\u001b[0m\u001b[0mk22\u001b[0m\u001b[0;34m*\u001b[0m\u001b[0;34m(\u001b[0m\u001b[0mnp\u001b[0m\u001b[0;34m.\u001b[0m\u001b[0msquare\u001b[0m\u001b[0;34m(\u001b[0m\u001b[0mlig\u001b[0m\u001b[0;34m)\u001b[0m\u001b[0;34m)\u001b[0m\u001b[0;34m)\u001b[0m\u001b[0;34m)\u001b[0m\u001b[0;34m)\u001b[0m\u001b[0;34m)\u001b[0m         \u001b[0;34m/\u001b[0m \u001b[0;34m(\u001b[0m\u001b[0;36m4\u001b[0m\u001b[0;34m*\u001b[0m\u001b[0ml20\u001b[0m\u001b[0;34m*\u001b[0m\u001b[0;34m(\u001b[0m\u001b[0;36m1\u001b[0m \u001b[0;34m+\u001b[0m \u001b[0mk21\u001b[0m\u001b[0;34m*\u001b[0m\u001b[0mligc\u001b[0m \u001b[0;34m+\u001b[0m \u001b[0mk21\u001b[0m\u001b[0;34m*\u001b[0m\u001b[0mk22\u001b[0m\u001b[0;34m*\u001b[0m\u001b[0;34m(\u001b[0m\u001b[0mnp\u001b[0m\u001b[0;34m.\u001b[0m\u001b[0msquare\u001b[0m\u001b[0;34m(\u001b[0m\u001b[0mligc\u001b[0m\u001b[0;34m)\u001b[0m\u001b[0;34m)\u001b[0m\u001b[0;34m)\u001b[0m\u001b[0;34m)\u001b[0m\u001b[0;34m)\u001b[0m\u001b[0;34m\u001b[0m\u001b[0m\n",
      "\u001b[0;31mValueError\u001b[0m: zero-dimensional arrays cannot be concatenated"
     ]
    }
   ],
   "source": [
    "rfr3(np.array([5.,2.,0.2,100.]),WT_09_lig[1],WT_09_rtot[1])"
   ]
  },
  {
   "cell_type": "code",
   "execution_count": 78,
   "metadata": {
    "collapsed": true
   },
   "outputs": [],
   "source": [
    "def wyman_sp_rfree(parm,lig,rtot):\n",
    "    k11 = parm[0]\n",
    "    k21 = parm[1]\n",
    "    k22 = parm[2]\n",
    "    l20 = parm[3]\n",
    "    \n",
    "    ligc = np.concatenate(lig)\n",
    "    \n",
    "    return (((-1 - k11*ligc)) + \\\n",
    "    (np.sqrt(np.concatenate((np.square((1 + k11*lig)) + \\\n",
    "    8.*l20*rtot*(1 + k21*lig + k21*k22*(np.square(lig)))))))) \\\n",
    "    / (4*l20*(1 + k21*ligc + k21*k22*(np.square(ligc))))    "
   ]
  },
  {
   "cell_type": "code",
   "execution_count": 79,
   "metadata": {
    "collapsed": false
   },
   "outputs": [
    {
     "data": {
      "text/plain": [
       "array([  5.09107613e-04,   4.87658586e-04,   4.42200870e-04,\n",
       "         3.83745739e-04,   3.18280209e-04,   2.52020499e-04,\n",
       "         1.80157542e-04,   1.37829525e-04,   8.98705502e-05,\n",
       "         6.72474182e-05,   4.37053102e-05,   3.01443286e-05,\n",
       "         2.24352888e-05,   1.54131246e-05,   1.81525220e-03,\n",
       "         1.78004088e-03,   1.70971928e-03,   1.58124491e-03,\n",
       "         1.47383062e-03,   1.38164693e-03,   1.19714592e-03,\n",
       "         9.85739609e-04,   7.18332166e-04,   5.62930828e-04,\n",
       "         3.74848008e-04,   2.75713113e-04,   1.84099543e-04,\n",
       "         9.53034932e-05,   6.50005257e-05,   3.62855251e-03,\n",
       "         3.55560218e-03,   3.54143137e-03,   3.22444464e-03,\n",
       "         3.04000505e-03,   2.86919231e-03,   2.54700354e-03,\n",
       "         2.13948777e-03,   1.59223772e-03,   1.30324196e-03,\n",
       "         8.78779944e-04,   6.67131766e-04,   4.44368829e-04,\n",
       "         2.35481506e-04,   1.58389748e-04,   5.66444764e-03,\n",
       "         5.57457408e-03,   5.31605678e-03,   4.93051932e-03,\n",
       "         4.40480765e-03,   3.76083424e-03,   2.94343329e-03,\n",
       "         2.35233506e-03,   1.65093484e-03,   1.24850352e-03,\n",
       "         8.33339322e-04,   5.73973613e-04,   4.45884500e-04,\n",
       "         3.02216458e-04,   1.40483263e-02,   1.37873542e-02,\n",
       "         1.33164309e-02,   1.28455455e-02,   1.22554452e-02,\n",
       "         1.11897065e-02,   9.90695821e-03,   8.06867682e-03,\n",
       "         6.64576405e-03,   4.87768626e-03,   3.87196449e-03,\n",
       "         2.74835839e-03,   1.53852631e-03,   8.59108257e-04])"
      ]
     },
     "execution_count": 79,
     "metadata": {},
     "output_type": "execute_result"
    }
   ],
   "source": [
    "wyman_sp_rfree(a.parms,WT_09_lig, WT_09_rtot)"
   ]
  },
  {
   "cell_type": "markdown",
   "metadata": {},
   "source": [
    "def wyman_sp_rfree(parm,lig,rtot):\n",
    "    k11 = parm[0]\n",
    "    k21 = parm[1]\n",
    "    k22 = parm[2]\n",
    "    l20 = parm[3]\n",
    "    \n",
    "    ligc = np.concatenate(lig)\n",
    "    \n",
    "    return (((-1 - k11*ligc)) + \\\n",
    "    (np.sqrt(np.concatenate((np.square((1 + k11*lig)) + \\\n",
    "    8.*l20*rtot*(1 + k21*lig + k21*k22*(np.square(lig)))))))) \\\n",
    "    / (4*l20*(1 + k21*ligc + k21*k22*(np.square(ligc)))) "
   ]
  },
  {
   "cell_type": "code",
   "execution_count": 89,
   "metadata": {
    "collapsed": true
   },
   "outputs": [],
   "source": [
    "def wyman_sp_rfreeMOD(parm,lig,rtot):\n",
    "    k11 = parm[0]\n",
    "    k21 = parm[1]\n",
    "    k22 = parm[2]\n",
    "    l20 = parm[3]\n",
    "    \n",
    "    rtotTR = rtot[:,None]\n",
    "    #ligc = np.concatenate(lig)\n",
    "    \n",
    "    return (((-1 - k11*lig)) + \\\n",
    "    (np.sqrt(np.concatenate(np.concatenate((np.square((1 + k11*lig)) + \\\n",
    "    8.*l20*rtotTR*(1 + k21*lig + k21*k22*(np.square(lig))))))))) \\\n",
    "    / (4*l20*(1 + k21*lig + k21*k22*(np.square(lig)))) "
   ]
  },
  {
   "cell_type": "code",
   "execution_count": 90,
   "metadata": {
    "collapsed": false
   },
   "outputs": [
    {
     "ename": "ValueError",
     "evalue": "operands could not be broadcast together with shapes (5,) (360,) ",
     "output_type": "error",
     "traceback": [
      "\u001b[0;31m---------------------------------------------------------------------------\u001b[0m",
      "\u001b[0;31mValueError\u001b[0m                                Traceback (most recent call last)",
      "\u001b[0;32m<ipython-input-90-fefa6ef2841c>\u001b[0m in \u001b[0;36m<module>\u001b[0;34m()\u001b[0m\n\u001b[0;32m----> 1\u001b[0;31m \u001b[0mwyman_sp_rfreeMOD\u001b[0m\u001b[0;34m(\u001b[0m\u001b[0ma\u001b[0m\u001b[0;34m.\u001b[0m\u001b[0mparms\u001b[0m\u001b[0;34m,\u001b[0m\u001b[0mWT_09_lig\u001b[0m\u001b[0;34m,\u001b[0m \u001b[0mWT_09_rtot\u001b[0m\u001b[0;34m)\u001b[0m\u001b[0;34m\u001b[0m\u001b[0m\n\u001b[0m",
      "\u001b[0;32m<ipython-input-89-a522b9ff5775>\u001b[0m in \u001b[0;36mwyman_sp_rfreeMOD\u001b[0;34m(parm, lig, rtot)\u001b[0m\n\u001b[1;32m      8\u001b[0m     \u001b[0;31m#ligc = np.concatenate(lig)\u001b[0m\u001b[0;34m\u001b[0m\u001b[0;34m\u001b[0m\u001b[0m\n\u001b[1;32m      9\u001b[0m \u001b[0;34m\u001b[0m\u001b[0m\n\u001b[0;32m---> 10\u001b[0;31m     \u001b[0;32mreturn\u001b[0m \u001b[0;34m(\u001b[0m\u001b[0;34m(\u001b[0m\u001b[0;34m(\u001b[0m\u001b[0;34m-\u001b[0m\u001b[0;36m1\u001b[0m \u001b[0;34m-\u001b[0m \u001b[0mk11\u001b[0m\u001b[0;34m*\u001b[0m\u001b[0mlig\u001b[0m\u001b[0;34m)\u001b[0m\u001b[0;34m)\u001b[0m \u001b[0;34m+\u001b[0m     \u001b[0;34m(\u001b[0m\u001b[0mnp\u001b[0m\u001b[0;34m.\u001b[0m\u001b[0msqrt\u001b[0m\u001b[0;34m(\u001b[0m\u001b[0mnp\u001b[0m\u001b[0;34m.\u001b[0m\u001b[0mconcatenate\u001b[0m\u001b[0;34m(\u001b[0m\u001b[0mnp\u001b[0m\u001b[0;34m.\u001b[0m\u001b[0mconcatenate\u001b[0m\u001b[0;34m(\u001b[0m\u001b[0;34m(\u001b[0m\u001b[0mnp\u001b[0m\u001b[0;34m.\u001b[0m\u001b[0msquare\u001b[0m\u001b[0;34m(\u001b[0m\u001b[0;34m(\u001b[0m\u001b[0;36m1\u001b[0m \u001b[0;34m+\u001b[0m \u001b[0mk11\u001b[0m\u001b[0;34m*\u001b[0m\u001b[0mlig\u001b[0m\u001b[0;34m)\u001b[0m\u001b[0;34m)\u001b[0m \u001b[0;34m+\u001b[0m     \u001b[0;36m8.\u001b[0m\u001b[0;34m*\u001b[0m\u001b[0ml20\u001b[0m\u001b[0;34m*\u001b[0m\u001b[0mrtotTR\u001b[0m\u001b[0;34m*\u001b[0m\u001b[0;34m(\u001b[0m\u001b[0;36m1\u001b[0m \u001b[0;34m+\u001b[0m \u001b[0mk21\u001b[0m\u001b[0;34m*\u001b[0m\u001b[0mlig\u001b[0m \u001b[0;34m+\u001b[0m \u001b[0mk21\u001b[0m\u001b[0;34m*\u001b[0m\u001b[0mk22\u001b[0m\u001b[0;34m*\u001b[0m\u001b[0;34m(\u001b[0m\u001b[0mnp\u001b[0m\u001b[0;34m.\u001b[0m\u001b[0msquare\u001b[0m\u001b[0;34m(\u001b[0m\u001b[0mlig\u001b[0m\u001b[0;34m)\u001b[0m\u001b[0;34m)\u001b[0m\u001b[0;34m)\u001b[0m\u001b[0;34m)\u001b[0m\u001b[0;34m)\u001b[0m\u001b[0;34m)\u001b[0m\u001b[0;34m)\u001b[0m\u001b[0;34m)\u001b[0m\u001b[0;34m)\u001b[0m     \u001b[0;34m/\u001b[0m \u001b[0;34m(\u001b[0m\u001b[0;36m4\u001b[0m\u001b[0;34m*\u001b[0m\u001b[0ml20\u001b[0m\u001b[0;34m*\u001b[0m\u001b[0;34m(\u001b[0m\u001b[0;36m1\u001b[0m \u001b[0;34m+\u001b[0m \u001b[0mk21\u001b[0m\u001b[0;34m*\u001b[0m\u001b[0mlig\u001b[0m \u001b[0;34m+\u001b[0m \u001b[0mk21\u001b[0m\u001b[0;34m*\u001b[0m\u001b[0mk22\u001b[0m\u001b[0;34m*\u001b[0m\u001b[0;34m(\u001b[0m\u001b[0mnp\u001b[0m\u001b[0;34m.\u001b[0m\u001b[0msquare\u001b[0m\u001b[0;34m(\u001b[0m\u001b[0mlig\u001b[0m\u001b[0;34m)\u001b[0m\u001b[0;34m)\u001b[0m\u001b[0;34m)\u001b[0m\u001b[0;34m)\u001b[0m\u001b[0;34m\u001b[0m\u001b[0m\n\u001b[0m",
      "\u001b[0;31mValueError\u001b[0m: operands could not be broadcast together with shapes (5,) (360,) "
     ]
    }
   ],
   "source": [
    "wyman_sp_rfreeMOD(a.parms,WT_09_lig, WT_09_rtot)"
   ]
  },
  {
   "cell_type": "code",
   "execution_count": 91,
   "metadata": {
    "collapsed": false
   },
   "outputs": [
    {
     "data": {
      "text/plain": [
       "379"
      ]
     },
     "execution_count": 91,
     "metadata": {},
     "output_type": "execute_result"
    }
   ],
   "source": [
    "8+5+32+19+23+9+50+5+15+72+22+21+18+30+20+30\n"
   ]
  },
  {
   "cell_type": "code",
   "execution_count": 93,
   "metadata": {
    "collapsed": false
   },
   "outputs": [
    {
     "ename": "AttributeError",
     "evalue": "'numpy.ndarray' object has no attribute 'sqrt'",
     "output_type": "error",
     "traceback": [
      "\u001b[0;31m---------------------------------------------------------------------------\u001b[0m",
      "\u001b[0;31mAttributeError\u001b[0m                            Traceback (most recent call last)",
      "\u001b[0;32m<ipython-input-93-ef810af8305d>\u001b[0m in \u001b[0;36m<module>\u001b[0;34m()\u001b[0m\n\u001b[0;32m----> 1\u001b[0;31m \u001b[0mgenfunc\u001b[0m\u001b[0;34m(\u001b[0m\u001b[0mnp\u001b[0m\u001b[0;34m.\u001b[0m\u001b[0marray\u001b[0m\u001b[0;34m(\u001b[0m\u001b[0;34m[\u001b[0m\u001b[0;36m5.\u001b[0m\u001b[0;34m,\u001b[0m\u001b[0;36m2.\u001b[0m\u001b[0;34m,\u001b[0m\u001b[0;36m0.5\u001b[0m\u001b[0;34m,\u001b[0m\u001b[0;36m100\u001b[0m\u001b[0;34m]\u001b[0m\u001b[0;34m)\u001b[0m\u001b[0;34m,\u001b[0m\u001b[0mWT_09_lig\u001b[0m\u001b[0;34m,\u001b[0m\u001b[0mWT_09_rtot\u001b[0m\u001b[0;34m)\u001b[0m\u001b[0;34m\u001b[0m\u001b[0m\n\u001b[0m",
      "\u001b[0;32m<ipython-input-5-ce634dad3016>\u001b[0m in \u001b[0;36mgenfunc\u001b[0;34m(parm, lig, rtot)\u001b[0m\n\u001b[1;32m     12\u001b[0m         \u001b[0ml20\u001b[0m \u001b[0;34m=\u001b[0m \u001b[0mparm\u001b[0m\u001b[0;34m[\u001b[0m\u001b[0;36m3\u001b[0m\u001b[0;34m]\u001b[0m\u001b[0;34m\u001b[0m\u001b[0m\n\u001b[1;32m     13\u001b[0m \u001b[0;34m\u001b[0m\u001b[0m\n\u001b[0;32m---> 14\u001b[0;31m         \u001b[0mrfree\u001b[0m \u001b[0;34m=\u001b[0m \u001b[0;34m(\u001b[0m\u001b[0;34m(\u001b[0m\u001b[0;34m(\u001b[0m\u001b[0;34m-\u001b[0m\u001b[0;36m1\u001b[0m \u001b[0;34m-\u001b[0m \u001b[0mk11\u001b[0m\u001b[0;34m*\u001b[0m\u001b[0mlig\u001b[0m\u001b[0;34m)\u001b[0m\u001b[0;34m)\u001b[0m \u001b[0;34m+\u001b[0m         \u001b[0;34m(\u001b[0m\u001b[0mnp\u001b[0m\u001b[0;34m.\u001b[0m\u001b[0msqrt\u001b[0m\u001b[0;34m(\u001b[0m\u001b[0;34m(\u001b[0m\u001b[0mnp\u001b[0m\u001b[0;34m.\u001b[0m\u001b[0msquare\u001b[0m\u001b[0;34m(\u001b[0m\u001b[0;34m(\u001b[0m\u001b[0;36m1\u001b[0m \u001b[0;34m+\u001b[0m \u001b[0mk11\u001b[0m\u001b[0;34m*\u001b[0m\u001b[0mlig\u001b[0m\u001b[0;34m)\u001b[0m\u001b[0;34m)\u001b[0m \u001b[0;34m+\u001b[0m         \u001b[0;36m8.\u001b[0m\u001b[0;34m*\u001b[0m\u001b[0ml20\u001b[0m\u001b[0;34m*\u001b[0m\u001b[0mrtot\u001b[0m\u001b[0;34m*\u001b[0m\u001b[0;34m(\u001b[0m\u001b[0;36m1\u001b[0m \u001b[0;34m+\u001b[0m \u001b[0mk21\u001b[0m\u001b[0;34m*\u001b[0m\u001b[0mlig\u001b[0m \u001b[0;34m+\u001b[0m \u001b[0mk21\u001b[0m\u001b[0;34m*\u001b[0m\u001b[0mk22\u001b[0m\u001b[0;34m*\u001b[0m\u001b[0;34m(\u001b[0m\u001b[0mnp\u001b[0m\u001b[0;34m.\u001b[0m\u001b[0msquare\u001b[0m\u001b[0;34m(\u001b[0m\u001b[0mlig\u001b[0m\u001b[0;34m)\u001b[0m\u001b[0;34m)\u001b[0m\u001b[0;34m)\u001b[0m\u001b[0;34m)\u001b[0m\u001b[0;34m)\u001b[0m\u001b[0;34m)\u001b[0m\u001b[0;34m)\u001b[0m         \u001b[0;34m/\u001b[0m \u001b[0;34m(\u001b[0m\u001b[0;36m4\u001b[0m\u001b[0;34m*\u001b[0m\u001b[0ml20\u001b[0m\u001b[0;34m*\u001b[0m\u001b[0;34m(\u001b[0m\u001b[0;36m1\u001b[0m \u001b[0;34m+\u001b[0m \u001b[0mk21\u001b[0m\u001b[0;34m*\u001b[0m\u001b[0mlig\u001b[0m \u001b[0;34m+\u001b[0m \u001b[0mk21\u001b[0m\u001b[0;34m*\u001b[0m\u001b[0mk22\u001b[0m\u001b[0;34m*\u001b[0m\u001b[0;34m(\u001b[0m\u001b[0mnp\u001b[0m\u001b[0;34m.\u001b[0m\u001b[0msquare\u001b[0m\u001b[0;34m(\u001b[0m\u001b[0mlig\u001b[0m\u001b[0;34m)\u001b[0m\u001b[0;34m)\u001b[0m\u001b[0;34m)\u001b[0m\u001b[0;34m)\u001b[0m\u001b[0;34m\u001b[0m\u001b[0m\n\u001b[0m\u001b[1;32m     15\u001b[0m \u001b[0;34m\u001b[0m\u001b[0m\n\u001b[1;32m     16\u001b[0m         \u001b[0mbfrac\u001b[0m \u001b[0;34m=\u001b[0m \u001b[0;34m(\u001b[0m\u001b[0mk11\u001b[0m\u001b[0;34m*\u001b[0m\u001b[0mlig\u001b[0m \u001b[0;34m+\u001b[0m \u001b[0ml20\u001b[0m\u001b[0;34m*\u001b[0m\u001b[0mk21\u001b[0m\u001b[0;34m*\u001b[0m\u001b[0mrfree\u001b[0m\u001b[0;34m*\u001b[0m\u001b[0mlig\u001b[0m \u001b[0;34m+\u001b[0m         \u001b[0;36m2\u001b[0m\u001b[0;34m*\u001b[0m\u001b[0ml20\u001b[0m\u001b[0;34m*\u001b[0m\u001b[0mk21\u001b[0m\u001b[0;34m*\u001b[0m\u001b[0mk22\u001b[0m\u001b[0;34m*\u001b[0m\u001b[0mrfree\u001b[0m\u001b[0;34m*\u001b[0m\u001b[0;34m(\u001b[0m\u001b[0mnp\u001b[0m\u001b[0;34m.\u001b[0m\u001b[0msquare\u001b[0m\u001b[0;34m(\u001b[0m\u001b[0mlig\u001b[0m\u001b[0;34m)\u001b[0m\u001b[0;34m)\u001b[0m\u001b[0;34m)\u001b[0m         \u001b[0;34m/\u001b[0m \u001b[0;34m(\u001b[0m\u001b[0;36m1\u001b[0m \u001b[0;34m+\u001b[0m \u001b[0;36m2\u001b[0m\u001b[0;34m*\u001b[0m\u001b[0ml20\u001b[0m\u001b[0;34m*\u001b[0m\u001b[0mrfree\u001b[0m \u001b[0;34m+\u001b[0m \u001b[0mk11\u001b[0m\u001b[0;34m*\u001b[0m\u001b[0mlig\u001b[0m \u001b[0;34m+\u001b[0m         \u001b[0;36m2\u001b[0m\u001b[0;34m*\u001b[0m\u001b[0ml20\u001b[0m\u001b[0;34m*\u001b[0m\u001b[0mk21\u001b[0m\u001b[0;34m*\u001b[0m\u001b[0mrfree\u001b[0m\u001b[0;34m*\u001b[0m\u001b[0mlig\u001b[0m \u001b[0;34m+\u001b[0m \u001b[0;36m2\u001b[0m\u001b[0;34m*\u001b[0m\u001b[0ml20\u001b[0m\u001b[0;34m*\u001b[0m\u001b[0mk21\u001b[0m\u001b[0;34m*\u001b[0m\u001b[0mk22\u001b[0m\u001b[0;34m*\u001b[0m\u001b[0mrfree\u001b[0m\u001b[0;34m*\u001b[0m\u001b[0;34m(\u001b[0m\u001b[0mnp\u001b[0m\u001b[0;34m.\u001b[0m\u001b[0msquare\u001b[0m\u001b[0;34m(\u001b[0m\u001b[0mlig\u001b[0m\u001b[0;34m)\u001b[0m\u001b[0;34m)\u001b[0m\u001b[0;34m)\u001b[0m\u001b[0;34m\u001b[0m\u001b[0m\n",
      "\u001b[0;31mAttributeError\u001b[0m: 'numpy.ndarray' object has no attribute 'sqrt'"
     ]
    }
   ],
   "source": [
    "genfunc(np.array([5.,2.,0.5,100]),WT_09_lig,WT_09_rtot)"
   ]
  },
  {
   "cell_type": "code",
   "execution_count": 94,
   "metadata": {
    "collapsed": false
   },
   "outputs": [
    {
     "ename": "ValueError",
     "evalue": "operands could not be broadcast together with shapes (6,) (6,18) ",
     "output_type": "error",
     "traceback": [
      "\u001b[0;31m---------------------------------------------------------------------------\u001b[0m",
      "\u001b[0;31mValueError\u001b[0m                                Traceback (most recent call last)",
      "\u001b[0;32m<ipython-input-94-0fe3a7ba1d33>\u001b[0m in \u001b[0;36m<module>\u001b[0;34m()\u001b[0m\n\u001b[0;32m----> 1\u001b[0;31m \u001b[0mgenfunc\u001b[0m\u001b[0;34m(\u001b[0m\u001b[0mnp\u001b[0m\u001b[0;34m.\u001b[0m\u001b[0marray\u001b[0m\u001b[0;34m(\u001b[0m\u001b[0;34m[\u001b[0m\u001b[0;36m5.\u001b[0m\u001b[0;34m,\u001b[0m\u001b[0;36m2.\u001b[0m\u001b[0;34m,\u001b[0m\u001b[0;36m0.5\u001b[0m\u001b[0;34m,\u001b[0m\u001b[0;36m100\u001b[0m\u001b[0;34m]\u001b[0m\u001b[0;34m)\u001b[0m\u001b[0;34m,\u001b[0m\u001b[0ma\u001b[0m\u001b[0;34m.\u001b[0m\u001b[0mligs\u001b[0m\u001b[0;34m,\u001b[0m\u001b[0ma\u001b[0m\u001b[0;34m.\u001b[0m\u001b[0mrtot\u001b[0m\u001b[0;34m)\u001b[0m\u001b[0;34m\u001b[0m\u001b[0m\n\u001b[0m",
      "\u001b[0;32m<ipython-input-5-ce634dad3016>\u001b[0m in \u001b[0;36mgenfunc\u001b[0;34m(parm, lig, rtot)\u001b[0m\n\u001b[1;32m     12\u001b[0m         \u001b[0ml20\u001b[0m \u001b[0;34m=\u001b[0m \u001b[0mparm\u001b[0m\u001b[0;34m[\u001b[0m\u001b[0;36m3\u001b[0m\u001b[0;34m]\u001b[0m\u001b[0;34m\u001b[0m\u001b[0m\n\u001b[1;32m     13\u001b[0m \u001b[0;34m\u001b[0m\u001b[0m\n\u001b[0;32m---> 14\u001b[0;31m         \u001b[0mrfree\u001b[0m \u001b[0;34m=\u001b[0m \u001b[0;34m(\u001b[0m\u001b[0;34m(\u001b[0m\u001b[0;34m(\u001b[0m\u001b[0;34m-\u001b[0m\u001b[0;36m1\u001b[0m \u001b[0;34m-\u001b[0m \u001b[0mk11\u001b[0m\u001b[0;34m*\u001b[0m\u001b[0mlig\u001b[0m\u001b[0;34m)\u001b[0m\u001b[0;34m)\u001b[0m \u001b[0;34m+\u001b[0m         \u001b[0;34m(\u001b[0m\u001b[0mnp\u001b[0m\u001b[0;34m.\u001b[0m\u001b[0msqrt\u001b[0m\u001b[0;34m(\u001b[0m\u001b[0;34m(\u001b[0m\u001b[0mnp\u001b[0m\u001b[0;34m.\u001b[0m\u001b[0msquare\u001b[0m\u001b[0;34m(\u001b[0m\u001b[0;34m(\u001b[0m\u001b[0;36m1\u001b[0m \u001b[0;34m+\u001b[0m \u001b[0mk11\u001b[0m\u001b[0;34m*\u001b[0m\u001b[0mlig\u001b[0m\u001b[0;34m)\u001b[0m\u001b[0;34m)\u001b[0m \u001b[0;34m+\u001b[0m         \u001b[0;36m8.\u001b[0m\u001b[0;34m*\u001b[0m\u001b[0ml20\u001b[0m\u001b[0;34m*\u001b[0m\u001b[0mrtot\u001b[0m\u001b[0;34m*\u001b[0m\u001b[0;34m(\u001b[0m\u001b[0;36m1\u001b[0m \u001b[0;34m+\u001b[0m \u001b[0mk21\u001b[0m\u001b[0;34m*\u001b[0m\u001b[0mlig\u001b[0m \u001b[0;34m+\u001b[0m \u001b[0mk21\u001b[0m\u001b[0;34m*\u001b[0m\u001b[0mk22\u001b[0m\u001b[0;34m*\u001b[0m\u001b[0;34m(\u001b[0m\u001b[0mnp\u001b[0m\u001b[0;34m.\u001b[0m\u001b[0msquare\u001b[0m\u001b[0;34m(\u001b[0m\u001b[0mlig\u001b[0m\u001b[0;34m)\u001b[0m\u001b[0;34m)\u001b[0m\u001b[0;34m)\u001b[0m\u001b[0;34m)\u001b[0m\u001b[0;34m)\u001b[0m\u001b[0;34m)\u001b[0m\u001b[0;34m)\u001b[0m         \u001b[0;34m/\u001b[0m \u001b[0;34m(\u001b[0m\u001b[0;36m4\u001b[0m\u001b[0;34m*\u001b[0m\u001b[0ml20\u001b[0m\u001b[0;34m*\u001b[0m\u001b[0;34m(\u001b[0m\u001b[0;36m1\u001b[0m \u001b[0;34m+\u001b[0m \u001b[0mk21\u001b[0m\u001b[0;34m*\u001b[0m\u001b[0mlig\u001b[0m \u001b[0;34m+\u001b[0m \u001b[0mk21\u001b[0m\u001b[0;34m*\u001b[0m\u001b[0mk22\u001b[0m\u001b[0;34m*\u001b[0m\u001b[0;34m(\u001b[0m\u001b[0mnp\u001b[0m\u001b[0;34m.\u001b[0m\u001b[0msquare\u001b[0m\u001b[0;34m(\u001b[0m\u001b[0mlig\u001b[0m\u001b[0;34m)\u001b[0m\u001b[0;34m)\u001b[0m\u001b[0;34m)\u001b[0m\u001b[0;34m)\u001b[0m\u001b[0;34m\u001b[0m\u001b[0m\n\u001b[0m\u001b[1;32m     15\u001b[0m \u001b[0;34m\u001b[0m\u001b[0m\n\u001b[1;32m     16\u001b[0m         \u001b[0mbfrac\u001b[0m \u001b[0;34m=\u001b[0m \u001b[0;34m(\u001b[0m\u001b[0mk11\u001b[0m\u001b[0;34m*\u001b[0m\u001b[0mlig\u001b[0m \u001b[0;34m+\u001b[0m \u001b[0ml20\u001b[0m\u001b[0;34m*\u001b[0m\u001b[0mk21\u001b[0m\u001b[0;34m*\u001b[0m\u001b[0mrfree\u001b[0m\u001b[0;34m*\u001b[0m\u001b[0mlig\u001b[0m \u001b[0;34m+\u001b[0m         \u001b[0;36m2\u001b[0m\u001b[0;34m*\u001b[0m\u001b[0ml20\u001b[0m\u001b[0;34m*\u001b[0m\u001b[0mk21\u001b[0m\u001b[0;34m*\u001b[0m\u001b[0mk22\u001b[0m\u001b[0;34m*\u001b[0m\u001b[0mrfree\u001b[0m\u001b[0;34m*\u001b[0m\u001b[0;34m(\u001b[0m\u001b[0mnp\u001b[0m\u001b[0;34m.\u001b[0m\u001b[0msquare\u001b[0m\u001b[0;34m(\u001b[0m\u001b[0mlig\u001b[0m\u001b[0;34m)\u001b[0m\u001b[0;34m)\u001b[0m\u001b[0;34m)\u001b[0m         \u001b[0;34m/\u001b[0m \u001b[0;34m(\u001b[0m\u001b[0;36m1\u001b[0m \u001b[0;34m+\u001b[0m \u001b[0;36m2\u001b[0m\u001b[0;34m*\u001b[0m\u001b[0ml20\u001b[0m\u001b[0;34m*\u001b[0m\u001b[0mrfree\u001b[0m \u001b[0;34m+\u001b[0m \u001b[0mk11\u001b[0m\u001b[0;34m*\u001b[0m\u001b[0mlig\u001b[0m \u001b[0;34m+\u001b[0m         \u001b[0;36m2\u001b[0m\u001b[0;34m*\u001b[0m\u001b[0ml20\u001b[0m\u001b[0;34m*\u001b[0m\u001b[0mk21\u001b[0m\u001b[0;34m*\u001b[0m\u001b[0mrfree\u001b[0m\u001b[0;34m*\u001b[0m\u001b[0mlig\u001b[0m \u001b[0;34m+\u001b[0m \u001b[0;36m2\u001b[0m\u001b[0;34m*\u001b[0m\u001b[0ml20\u001b[0m\u001b[0;34m*\u001b[0m\u001b[0mk21\u001b[0m\u001b[0;34m*\u001b[0m\u001b[0mk22\u001b[0m\u001b[0;34m*\u001b[0m\u001b[0mrfree\u001b[0m\u001b[0;34m*\u001b[0m\u001b[0;34m(\u001b[0m\u001b[0mnp\u001b[0m\u001b[0;34m.\u001b[0m\u001b[0msquare\u001b[0m\u001b[0;34m(\u001b[0m\u001b[0mlig\u001b[0m\u001b[0;34m)\u001b[0m\u001b[0;34m)\u001b[0m\u001b[0;34m)\u001b[0m\u001b[0;34m\u001b[0m\u001b[0m\n",
      "\u001b[0;31mValueError\u001b[0m: operands could not be broadcast together with shapes (6,) (6,18) "
     ]
    }
   ],
   "source": [
    "genfunc(np.array([5.,2.,0.5,100]),a.ligs,a.rtot)"
   ]
  },
  {
   "cell_type": "code",
   "execution_count": 97,
   "metadata": {
    "collapsed": true
   },
   "outputs": [],
   "source": [
    "def genfunc2(parm,lig,rtot):\n",
    "        '''Generates ligand binding data according to Wyman model.\n",
    "        Takes numpy arrays containing parameters k11,k21,k22,l20; \n",
    "        free ligand concentrations, and total receptor concentrations.\n",
    "        Must be iterated against ligand data, i.e., for loop required when\n",
    "        used for more than one receptor concentration. In fitting functions,\n",
    "        the datasets are concentatenated for faster operation'''\n",
    "    \n",
    "        k11 = parm[0]\n",
    "        k21 = parm[1]\n",
    "        k22 = parm[2]\n",
    "        l20 = parm[3]\n",
    "        \n",
    "        rtotTR = rtot[:,None]\n",
    "    \n",
    "        rfree = (((-1 - k11*lig)) + \\\n",
    "        (np.sqrt((np.square((1 + k11*lig)) + \\\n",
    "        8.*l20*rtotTR*(1 + k21*lig + k21*k22*(np.square(lig))))))) \\\n",
    "        / (4*l20*(1 + k21*lig + k21*k22*(np.square(lig))))    \n",
    "       \n",
    "        bfrac = (k11*lig + l20*k21*rfree*lig + \\\n",
    "        2*l20*k21*k22*rfree*(np.square(lig))) \\\n",
    "        / (1 + 2*l20*rfree + k11*lig + \\\n",
    "        2*l20*k21*rfree*lig + 2*l20*k21*k22*rfree*(np.square(lig)))\n",
    "    \n",
    "        return bfrac"
   ]
  },
  {
   "cell_type": "code",
   "execution_count": 98,
   "metadata": {
    "collapsed": false
   },
   "outputs": [
    {
     "data": {
      "text/plain": [
       "array([[ 0.00439846,  0.00876128,  0.01738165,  0.03421209,  0.06631457,\n",
       "         0.12488398,  0.22341996,  0.36808302,  0.54199297,  0.70628381,\n",
       "         0.829668  ,  0.90761511,  0.95179705,  0.97536764,  0.98754741,\n",
       "         0.99373913,  0.99686086,  0.99842825],\n",
       "       [ 0.00391463,  0.00780227,  0.01549759,  0.03057525,  0.05953097,\n",
       "         0.11303046,  0.20501916,  0.34459292,  0.51919852,  0.6898572 ,\n",
       "         0.82026074,  0.90283286,  0.94945441,  0.97422155,  0.98698269,\n",
       "         0.99345914,  0.99672149,  0.99835873],\n",
       "       [ 0.0034618 ,  0.00690302,  0.01372442,  0.0271274 ,  0.05300848,\n",
       "         0.10132739,  0.18598294,  0.31843766,  0.4912778 ,  0.66774559,\n",
       "         0.80668263,  0.89563944,  0.94585343,  0.97244055,  0.98610038,\n",
       "         0.99302049,  0.99650286,  0.99824959],\n",
       "       [ 0.00299235,  0.00596947,  0.01187844,  0.02351808,  0.04610622,\n",
       "         0.08868337,  0.16461872,  0.28714086,  0.45463205,  0.63551939,\n",
       "         0.78505902,  0.88349768,  0.93957415,  0.9692818 ,  0.98452202,\n",
       "         0.99223242,  0.99610922,  0.99805288],\n",
       "       [ 0.00242792,  0.00484567,  0.00965087,  0.01914167,  0.03765727,\n",
       "         0.07291869,  0.13704384,  0.24419832,  0.3992847 ,  0.58046089,\n",
       "         0.74336515,  0.8578647 ,  0.92555681,  0.96201025,  0.98082971,\n",
       "         0.99037367,  0.99517691,  0.99758603],\n",
       "       [ 0.0020768 ,  0.00414596,  0.00826153,  0.01640277,  0.03233391,\n",
       "         0.06285459,  0.11899464,  0.21479032,  0.35846086,  0.53544332,\n",
       "         0.70522488,  0.83211157,  0.91055955,  0.95393992,  0.97664993,\n",
       "         0.98824779,  0.99410503,  0.99704786]])"
      ]
     },
     "execution_count": 98,
     "metadata": {},
     "output_type": "execute_result"
    }
   ],
   "source": [
    "genfunc2(np.array([5.,2.,0.5,100]),a.ligs,a.rtot)"
   ]
  },
  {
   "cell_type": "code",
   "execution_count": 99,
   "metadata": {
    "collapsed": false
   },
   "outputs": [
    {
     "ename": "AttributeError",
     "evalue": "'numpy.ndarray' object has no attribute 'sqrt'",
     "output_type": "error",
     "traceback": [
      "\u001b[0;31m---------------------------------------------------------------------------\u001b[0m",
      "\u001b[0;31mAttributeError\u001b[0m                            Traceback (most recent call last)",
      "\u001b[0;32m<ipython-input-99-1de23d375a35>\u001b[0m in \u001b[0;36m<module>\u001b[0;34m()\u001b[0m\n\u001b[0;32m----> 1\u001b[0;31m \u001b[0mgenfunc2\u001b[0m\u001b[0;34m(\u001b[0m\u001b[0mnp\u001b[0m\u001b[0;34m.\u001b[0m\u001b[0marray\u001b[0m\u001b[0;34m(\u001b[0m\u001b[0;34m[\u001b[0m\u001b[0;36m5.\u001b[0m\u001b[0;34m,\u001b[0m\u001b[0;36m2.\u001b[0m\u001b[0;34m,\u001b[0m\u001b[0;36m0.5\u001b[0m\u001b[0;34m,\u001b[0m\u001b[0;36m100\u001b[0m\u001b[0;34m]\u001b[0m\u001b[0;34m)\u001b[0m\u001b[0;34m,\u001b[0m\u001b[0mWT_09_lig\u001b[0m\u001b[0;34m,\u001b[0m\u001b[0mWT_09_rtot\u001b[0m\u001b[0;34m)\u001b[0m\u001b[0;34m\u001b[0m\u001b[0m\n\u001b[0m",
      "\u001b[0;32m<ipython-input-97-57e992218967>\u001b[0m in \u001b[0;36mgenfunc2\u001b[0;34m(parm, lig, rtot)\u001b[0m\n\u001b[1;32m     14\u001b[0m         \u001b[0mrtotTR\u001b[0m \u001b[0;34m=\u001b[0m \u001b[0mrtot\u001b[0m\u001b[0;34m[\u001b[0m\u001b[0;34m:\u001b[0m\u001b[0;34m,\u001b[0m\u001b[0;32mNone\u001b[0m\u001b[0;34m]\u001b[0m\u001b[0;34m\u001b[0m\u001b[0m\n\u001b[1;32m     15\u001b[0m \u001b[0;34m\u001b[0m\u001b[0m\n\u001b[0;32m---> 16\u001b[0;31m         \u001b[0mrfree\u001b[0m \u001b[0;34m=\u001b[0m \u001b[0;34m(\u001b[0m\u001b[0;34m(\u001b[0m\u001b[0;34m(\u001b[0m\u001b[0;34m-\u001b[0m\u001b[0;36m1\u001b[0m \u001b[0;34m-\u001b[0m \u001b[0mk11\u001b[0m\u001b[0;34m*\u001b[0m\u001b[0mlig\u001b[0m\u001b[0;34m)\u001b[0m\u001b[0;34m)\u001b[0m \u001b[0;34m+\u001b[0m         \u001b[0;34m(\u001b[0m\u001b[0mnp\u001b[0m\u001b[0;34m.\u001b[0m\u001b[0msqrt\u001b[0m\u001b[0;34m(\u001b[0m\u001b[0;34m(\u001b[0m\u001b[0mnp\u001b[0m\u001b[0;34m.\u001b[0m\u001b[0msquare\u001b[0m\u001b[0;34m(\u001b[0m\u001b[0;34m(\u001b[0m\u001b[0;36m1\u001b[0m \u001b[0;34m+\u001b[0m \u001b[0mk11\u001b[0m\u001b[0;34m*\u001b[0m\u001b[0mlig\u001b[0m\u001b[0;34m)\u001b[0m\u001b[0;34m)\u001b[0m \u001b[0;34m+\u001b[0m         \u001b[0;36m8.\u001b[0m\u001b[0;34m*\u001b[0m\u001b[0ml20\u001b[0m\u001b[0;34m*\u001b[0m\u001b[0mrtotTR\u001b[0m\u001b[0;34m*\u001b[0m\u001b[0;34m(\u001b[0m\u001b[0;36m1\u001b[0m \u001b[0;34m+\u001b[0m \u001b[0mk21\u001b[0m\u001b[0;34m*\u001b[0m\u001b[0mlig\u001b[0m \u001b[0;34m+\u001b[0m \u001b[0mk21\u001b[0m\u001b[0;34m*\u001b[0m\u001b[0mk22\u001b[0m\u001b[0;34m*\u001b[0m\u001b[0;34m(\u001b[0m\u001b[0mnp\u001b[0m\u001b[0;34m.\u001b[0m\u001b[0msquare\u001b[0m\u001b[0;34m(\u001b[0m\u001b[0mlig\u001b[0m\u001b[0;34m)\u001b[0m\u001b[0;34m)\u001b[0m\u001b[0;34m)\u001b[0m\u001b[0;34m)\u001b[0m\u001b[0;34m)\u001b[0m\u001b[0;34m)\u001b[0m\u001b[0;34m)\u001b[0m         \u001b[0;34m/\u001b[0m \u001b[0;34m(\u001b[0m\u001b[0;36m4\u001b[0m\u001b[0;34m*\u001b[0m\u001b[0ml20\u001b[0m\u001b[0;34m*\u001b[0m\u001b[0;34m(\u001b[0m\u001b[0;36m1\u001b[0m \u001b[0;34m+\u001b[0m \u001b[0mk21\u001b[0m\u001b[0;34m*\u001b[0m\u001b[0mlig\u001b[0m \u001b[0;34m+\u001b[0m \u001b[0mk21\u001b[0m\u001b[0;34m*\u001b[0m\u001b[0mk22\u001b[0m\u001b[0;34m*\u001b[0m\u001b[0;34m(\u001b[0m\u001b[0mnp\u001b[0m\u001b[0;34m.\u001b[0m\u001b[0msquare\u001b[0m\u001b[0;34m(\u001b[0m\u001b[0mlig\u001b[0m\u001b[0;34m)\u001b[0m\u001b[0;34m)\u001b[0m\u001b[0;34m)\u001b[0m\u001b[0;34m)\u001b[0m\u001b[0;34m\u001b[0m\u001b[0m\n\u001b[0m\u001b[1;32m     17\u001b[0m \u001b[0;34m\u001b[0m\u001b[0m\n\u001b[1;32m     18\u001b[0m         \u001b[0mbfrac\u001b[0m \u001b[0;34m=\u001b[0m \u001b[0;34m(\u001b[0m\u001b[0mk11\u001b[0m\u001b[0;34m*\u001b[0m\u001b[0mlig\u001b[0m \u001b[0;34m+\u001b[0m \u001b[0ml20\u001b[0m\u001b[0;34m*\u001b[0m\u001b[0mk21\u001b[0m\u001b[0;34m*\u001b[0m\u001b[0mrfree\u001b[0m\u001b[0;34m*\u001b[0m\u001b[0mlig\u001b[0m \u001b[0;34m+\u001b[0m         \u001b[0;36m2\u001b[0m\u001b[0;34m*\u001b[0m\u001b[0ml20\u001b[0m\u001b[0;34m*\u001b[0m\u001b[0mk21\u001b[0m\u001b[0;34m*\u001b[0m\u001b[0mk22\u001b[0m\u001b[0;34m*\u001b[0m\u001b[0mrfree\u001b[0m\u001b[0;34m*\u001b[0m\u001b[0;34m(\u001b[0m\u001b[0mnp\u001b[0m\u001b[0;34m.\u001b[0m\u001b[0msquare\u001b[0m\u001b[0;34m(\u001b[0m\u001b[0mlig\u001b[0m\u001b[0;34m)\u001b[0m\u001b[0;34m)\u001b[0m\u001b[0;34m)\u001b[0m         \u001b[0;34m/\u001b[0m \u001b[0;34m(\u001b[0m\u001b[0;36m1\u001b[0m \u001b[0;34m+\u001b[0m \u001b[0;36m2\u001b[0m\u001b[0;34m*\u001b[0m\u001b[0ml20\u001b[0m\u001b[0;34m*\u001b[0m\u001b[0mrfree\u001b[0m \u001b[0;34m+\u001b[0m \u001b[0mk11\u001b[0m\u001b[0;34m*\u001b[0m\u001b[0mlig\u001b[0m \u001b[0;34m+\u001b[0m         \u001b[0;36m2\u001b[0m\u001b[0;34m*\u001b[0m\u001b[0ml20\u001b[0m\u001b[0;34m*\u001b[0m\u001b[0mk21\u001b[0m\u001b[0;34m*\u001b[0m\u001b[0mrfree\u001b[0m\u001b[0;34m*\u001b[0m\u001b[0mlig\u001b[0m \u001b[0;34m+\u001b[0m \u001b[0;36m2\u001b[0m\u001b[0;34m*\u001b[0m\u001b[0ml20\u001b[0m\u001b[0;34m*\u001b[0m\u001b[0mk21\u001b[0m\u001b[0;34m*\u001b[0m\u001b[0mk22\u001b[0m\u001b[0;34m*\u001b[0m\u001b[0mrfree\u001b[0m\u001b[0;34m*\u001b[0m\u001b[0;34m(\u001b[0m\u001b[0mnp\u001b[0m\u001b[0;34m.\u001b[0m\u001b[0msquare\u001b[0m\u001b[0;34m(\u001b[0m\u001b[0mlig\u001b[0m\u001b[0;34m)\u001b[0m\u001b[0;34m)\u001b[0m\u001b[0;34m)\u001b[0m\u001b[0;34m\u001b[0m\u001b[0m\n",
      "\u001b[0;31mAttributeError\u001b[0m: 'numpy.ndarray' object has no attribute 'sqrt'"
     ]
    }
   ],
   "source": [
    "genfunc2(np.array([5.,2.,0.5,100]),WT_09_lig,WT_09_rtot)"
   ]
  },
  {
   "cell_type": "code",
   "execution_count": 102,
   "metadata": {
    "collapsed": false
   },
   "outputs": [
    {
     "ename": "TypeError",
     "evalue": "data type not understood",
     "output_type": "error",
     "traceback": [
      "\u001b[0;31m---------------------------------------------------------------------------\u001b[0m",
      "\u001b[0;31mTypeError\u001b[0m                                 Traceback (most recent call last)",
      "\u001b[0;32m<ipython-input-102-ae90a1a1b61d>\u001b[0m in \u001b[0;36m<module>\u001b[0;34m()\u001b[0m\n\u001b[0;32m----> 1\u001b[0;31m \u001b[0mnp\u001b[0m\u001b[0;34m.\u001b[0m\u001b[0mdtype\u001b[0m\u001b[0;34m(\u001b[0m\u001b[0mWT_09_lig\u001b[0m\u001b[0;34m)\u001b[0m\u001b[0;34m\u001b[0m\u001b[0m\n\u001b[0m",
      "\u001b[0;31mTypeError\u001b[0m: data type not understood"
     ]
    }
   ],
   "source": [
    "np.dtype(WT_09_lig)"
   ]
  },
  {
   "cell_type": "code",
   "execution_count": 106,
   "metadata": {
    "collapsed": false
   },
   "outputs": [
    {
     "ename": "ValueError",
     "evalue": "setting an array element with a sequence.",
     "output_type": "error",
     "traceback": [
      "\u001b[0;31m---------------------------------------------------------------------------\u001b[0m",
      "\u001b[0;31mValueError\u001b[0m                                Traceback (most recent call last)",
      "\u001b[0;32m<ipython-input-106-4a22e21d140e>\u001b[0m in \u001b[0;36m<module>\u001b[0;34m()\u001b[0m\n\u001b[0;32m----> 1\u001b[0;31m \u001b[0mb\u001b[0m \u001b[0;34m=\u001b[0m \u001b[0mWT_09_lig\u001b[0m\u001b[0;34m.\u001b[0m\u001b[0mastype\u001b[0m\u001b[0;34m(\u001b[0m\u001b[0;34m'f8'\u001b[0m\u001b[0;34m)\u001b[0m\u001b[0;34m\u001b[0m\u001b[0m\n\u001b[0m",
      "\u001b[0;31mValueError\u001b[0m: setting an array element with a sequence."
     ]
    }
   ],
   "source": [
    "b = WT_09_lig.astype('f8')"
   ]
  },
  {
   "cell_type": "code",
   "execution_count": 116,
   "metadata": {
    "collapsed": false
   },
   "outputs": [],
   "source": [
    "b = np.array([np.array([1,2]), np.array([2, 3, 4])])"
   ]
  },
  {
   "cell_type": "code",
   "execution_count": 111,
   "metadata": {
    "collapsed": false
   },
   "outputs": [
    {
     "ename": "AttributeError",
     "evalue": "'list' object has no attribute 'sqrt'",
     "output_type": "error",
     "traceback": [
      "\u001b[0;31m---------------------------------------------------------------------------\u001b[0m",
      "\u001b[0;31mAttributeError\u001b[0m                            Traceback (most recent call last)",
      "\u001b[0;32m<ipython-input-111-3f63f2638f9c>\u001b[0m in \u001b[0;36m<module>\u001b[0;34m()\u001b[0m\n\u001b[0;32m----> 1\u001b[0;31m \u001b[0mnp\u001b[0m\u001b[0;34m.\u001b[0m\u001b[0msqrt\u001b[0m\u001b[0;34m(\u001b[0m\u001b[0;34m[\u001b[0m\u001b[0;34m[\u001b[0m\u001b[0;36m1\u001b[0m\u001b[0;34m,\u001b[0m\u001b[0;36m2\u001b[0m\u001b[0;34m]\u001b[0m\u001b[0;34m,\u001b[0m \u001b[0;34m[\u001b[0m\u001b[0;36m2\u001b[0m\u001b[0;34m,\u001b[0m \u001b[0;36m3\u001b[0m\u001b[0;34m,\u001b[0m \u001b[0;36m4\u001b[0m\u001b[0;34m]\u001b[0m\u001b[0;34m]\u001b[0m\u001b[0;34m)\u001b[0m\u001b[0;34m\u001b[0m\u001b[0m\n\u001b[0m",
      "\u001b[0;31mAttributeError\u001b[0m: 'list' object has no attribute 'sqrt'"
     ]
    }
   ],
   "source": [
    "np.sqrt([[1,2], [2, 3, 4]])"
   ]
  },
  {
   "cell_type": "code",
   "execution_count": 112,
   "metadata": {
    "collapsed": true
   },
   "outputs": [],
   "source": [
    "import math"
   ]
  },
  {
   "cell_type": "code",
   "execution_count": 113,
   "metadata": {
    "collapsed": false
   },
   "outputs": [
    {
     "ename": "TypeError",
     "evalue": "only length-1 arrays can be converted to Python scalars",
     "output_type": "error",
     "traceback": [
      "\u001b[0;31m---------------------------------------------------------------------------\u001b[0m",
      "\u001b[0;31mTypeError\u001b[0m                                 Traceback (most recent call last)",
      "\u001b[0;32m<ipython-input-113-8052928458f7>\u001b[0m in \u001b[0;36m<module>\u001b[0;34m()\u001b[0m\n\u001b[0;32m----> 1\u001b[0;31m \u001b[0mmath\u001b[0m\u001b[0;34m.\u001b[0m\u001b[0msqrt\u001b[0m\u001b[0;34m(\u001b[0m\u001b[0mb\u001b[0m\u001b[0;34m)\u001b[0m\u001b[0;34m\u001b[0m\u001b[0m\n\u001b[0m",
      "\u001b[0;31mTypeError\u001b[0m: only length-1 arrays can be converted to Python scalars"
     ]
    }
   ],
   "source": [
    "math.sqrt(b)"
   ]
  },
  {
   "cell_type": "code",
   "execution_count": 115,
   "metadata": {
    "collapsed": false
   },
   "outputs": [
    {
     "data": {
      "text/plain": [
       "array([[1, 2], [2, 3, 4]], dtype=object)"
      ]
     },
     "execution_count": 115,
     "metadata": {},
     "output_type": "execute_result"
    }
   ],
   "source": [
    "b"
   ]
  },
  {
   "cell_type": "code",
   "execution_count": 117,
   "metadata": {
    "collapsed": false
   },
   "outputs": [
    {
     "data": {
      "text/plain": [
       "array([array([1, 2]), array([2, 3, 4])], dtype=object)"
      ]
     },
     "execution_count": 117,
     "metadata": {},
     "output_type": "execute_result"
    }
   ],
   "source": [
    "b"
   ]
  },
  {
   "cell_type": "code",
   "execution_count": 121,
   "metadata": {
    "collapsed": false
   },
   "outputs": [
    {
     "data": {
      "text/plain": [
       "array([array([ 1.        ,  1.41421356]),\n",
       "       array([ 1.41421356,  1.73205081,  2.        ])], dtype=object)"
      ]
     },
     "execution_count": 121,
     "metadata": {},
     "output_type": "execute_result"
    }
   ],
   "source": [
    "b**(0.5)"
   ]
  },
  {
   "cell_type": "code",
   "execution_count": 122,
   "metadata": {
    "collapsed": false
   },
   "outputs": [
    {
     "ename": "AttributeError",
     "evalue": "'numpy.ndarray' object has no attribute 'sqrt'",
     "output_type": "error",
     "traceback": [
      "\u001b[0;31m---------------------------------------------------------------------------\u001b[0m",
      "\u001b[0;31mAttributeError\u001b[0m                            Traceback (most recent call last)",
      "\u001b[0;32m<ipython-input-122-52a2a57949ff>\u001b[0m in \u001b[0;36m<module>\u001b[0;34m()\u001b[0m\n\u001b[0;32m----> 1\u001b[0;31m \u001b[0mnp\u001b[0m\u001b[0;34m.\u001b[0m\u001b[0msqrt\u001b[0m\u001b[0;34m(\u001b[0m\u001b[0mb\u001b[0m\u001b[0;34m)\u001b[0m\u001b[0;34m\u001b[0m\u001b[0m\n\u001b[0m",
      "\u001b[0;31mAttributeError\u001b[0m: 'numpy.ndarray' object has no attribute 'sqrt'"
     ]
    }
   ],
   "source": [
    "np.sqrt(b)"
   ]
  },
  {
   "cell_type": "code",
   "execution_count": 123,
   "metadata": {
    "collapsed": true
   },
   "outputs": [],
   "source": [
    "def genfunc3(parm,lig,rtot):\n",
    "        '''Generates ligand binding data according to Wyman model.\n",
    "        Takes numpy arrays containing parameters k11,k21,k22,l20; \n",
    "        free ligand concentrations, and total receptor concentrations.\n",
    "        Must be iterated against ligand data, i.e., for loop required when\n",
    "        used for more than one receptor concentration. In fitting functions,\n",
    "        the datasets are concentatenated for faster operation'''\n",
    "    \n",
    "        k11 = parm[0]\n",
    "        k21 = parm[1]\n",
    "        k22 = parm[2]\n",
    "        l20 = parm[3]\n",
    "        \n",
    "        rtotTR = rtot[:,None]\n",
    "    \n",
    "        rfree = (((-1 - k11*lig)) + \\\n",
    "        ((np.square((1 + k11*lig)) + \\\n",
    "        8.*l20*rtotTR*(1 + k21*lig + k21*k22*(np.square(lig)))))**0.5) \\\n",
    "        / (4*l20*(1 + k21*lig + k21*k22*(np.square(lig))))    \n",
    "       \n",
    "        bfrac = (k11*lig + l20*k21*rfree*lig + \\\n",
    "        2*l20*k21*k22*rfree*(np.square(lig))) \\\n",
    "        / (1 + 2*l20*rfree + k11*lig + \\\n",
    "        2*l20*k21*rfree*lig + 2*l20*k21*k22*rfree*(np.square(lig)))\n",
    "    \n",
    "        return bfrac"
   ]
  },
  {
   "cell_type": "code",
   "execution_count": 124,
   "metadata": {
    "collapsed": false
   },
   "outputs": [
    {
     "data": {
      "text/plain": [
       "array([[ 0.00439846,  0.00876128,  0.01738165,  0.03421209,  0.06631457,\n",
       "         0.12488398,  0.22341996,  0.36808302,  0.54199297,  0.70628381,\n",
       "         0.829668  ,  0.90761511,  0.95179705,  0.97536764,  0.98754741,\n",
       "         0.99373913,  0.99686086,  0.99842825],\n",
       "       [ 0.00391463,  0.00780227,  0.01549759,  0.03057525,  0.05953097,\n",
       "         0.11303046,  0.20501916,  0.34459292,  0.51919852,  0.6898572 ,\n",
       "         0.82026074,  0.90283286,  0.94945441,  0.97422155,  0.98698269,\n",
       "         0.99345914,  0.99672149,  0.99835873],\n",
       "       [ 0.0034618 ,  0.00690302,  0.01372442,  0.0271274 ,  0.05300848,\n",
       "         0.10132739,  0.18598294,  0.31843766,  0.4912778 ,  0.66774559,\n",
       "         0.80668263,  0.89563944,  0.94585343,  0.97244055,  0.98610038,\n",
       "         0.99302049,  0.99650286,  0.99824959],\n",
       "       [ 0.00299235,  0.00596947,  0.01187844,  0.02351808,  0.04610622,\n",
       "         0.08868337,  0.16461872,  0.28714086,  0.45463205,  0.63551939,\n",
       "         0.78505902,  0.88349768,  0.93957415,  0.9692818 ,  0.98452202,\n",
       "         0.99223242,  0.99610922,  0.99805288],\n",
       "       [ 0.00242792,  0.00484567,  0.00965087,  0.01914167,  0.03765727,\n",
       "         0.07291869,  0.13704384,  0.24419832,  0.3992847 ,  0.58046089,\n",
       "         0.74336515,  0.8578647 ,  0.92555681,  0.96201025,  0.98082971,\n",
       "         0.99037367,  0.99517691,  0.99758603],\n",
       "       [ 0.0020768 ,  0.00414596,  0.00826153,  0.01640277,  0.03233391,\n",
       "         0.06285459,  0.11899464,  0.21479032,  0.35846086,  0.53544332,\n",
       "         0.70522488,  0.83211157,  0.91055955,  0.95393992,  0.97664993,\n",
       "         0.98824779,  0.99410503,  0.99704786]])"
      ]
     },
     "execution_count": 124,
     "metadata": {},
     "output_type": "execute_result"
    }
   ],
   "source": [
    "genfunc2(np.array([5.,2.,0.5,100]),a.ligs,a.rtot)"
   ]
  },
  {
   "cell_type": "code",
   "execution_count": 125,
   "metadata": {
    "collapsed": false
   },
   "outputs": [
    {
     "data": {
      "text/plain": [
       "array([[ 0.00439846,  0.00876128,  0.01738165,  0.03421209,  0.06631457,\n",
       "         0.12488398,  0.22341996,  0.36808302,  0.54199297,  0.70628381,\n",
       "         0.829668  ,  0.90761511,  0.95179705,  0.97536764,  0.98754741,\n",
       "         0.99373913,  0.99686086,  0.99842825],\n",
       "       [ 0.00391463,  0.00780227,  0.01549759,  0.03057525,  0.05953097,\n",
       "         0.11303046,  0.20501916,  0.34459292,  0.51919852,  0.6898572 ,\n",
       "         0.82026074,  0.90283286,  0.94945441,  0.97422155,  0.98698269,\n",
       "         0.99345914,  0.99672149,  0.99835873],\n",
       "       [ 0.0034618 ,  0.00690302,  0.01372442,  0.0271274 ,  0.05300848,\n",
       "         0.10132739,  0.18598294,  0.31843766,  0.4912778 ,  0.66774559,\n",
       "         0.80668263,  0.89563944,  0.94585343,  0.97244055,  0.98610038,\n",
       "         0.99302049,  0.99650286,  0.99824959],\n",
       "       [ 0.00299235,  0.00596947,  0.01187844,  0.02351808,  0.04610622,\n",
       "         0.08868337,  0.16461872,  0.28714086,  0.45463205,  0.63551939,\n",
       "         0.78505902,  0.88349768,  0.93957415,  0.9692818 ,  0.98452202,\n",
       "         0.99223242,  0.99610922,  0.99805288],\n",
       "       [ 0.00242792,  0.00484567,  0.00965087,  0.01914167,  0.03765727,\n",
       "         0.07291869,  0.13704384,  0.24419832,  0.3992847 ,  0.58046089,\n",
       "         0.74336515,  0.8578647 ,  0.92555681,  0.96201025,  0.98082971,\n",
       "         0.99037367,  0.99517691,  0.99758603],\n",
       "       [ 0.0020768 ,  0.00414596,  0.00826153,  0.01640277,  0.03233391,\n",
       "         0.06285459,  0.11899464,  0.21479032,  0.35846086,  0.53544332,\n",
       "         0.70522488,  0.83211157,  0.91055955,  0.95393992,  0.97664993,\n",
       "         0.98824779,  0.99410503,  0.99704786]])"
      ]
     },
     "execution_count": 125,
     "metadata": {},
     "output_type": "execute_result"
    }
   ],
   "source": [
    "genfunc3(np.array([5.,2.,0.5,100]),a.ligs,a.rtot)"
   ]
  },
  {
   "cell_type": "code",
   "execution_count": 127,
   "metadata": {
    "collapsed": false
   },
   "outputs": [
    {
     "name": "stdout",
     "output_type": "stream",
     "text": [
      "10000 loops, best of 3: 80.8 µs per loop\n"
     ]
    }
   ],
   "source": [
    "%timeit genfunc2(np.array([5.,2.,0.5,100]),a.ligs,a.rtot)"
   ]
  },
  {
   "cell_type": "code",
   "execution_count": 128,
   "metadata": {
    "collapsed": false
   },
   "outputs": [
    {
     "name": "stdout",
     "output_type": "stream",
     "text": [
      "10000 loops, best of 3: 82.6 µs per loop\n"
     ]
    }
   ],
   "source": [
    "%timeit genfunc3(np.array([5.,2.,0.5,100]),a.ligs,a.rtot)"
   ]
  },
  {
   "cell_type": "code",
   "execution_count": 129,
   "metadata": {
    "collapsed": false
   },
   "outputs": [
    {
     "data": {
      "text/plain": [
       "array([[ array([ 0.07356727,  0.13805996,  0.26391362,  0.4066037 ,  0.54476812,\n",
       "        0.6653328 ,  0.77815172,  0.83727598,  0.89864326,  0.92572586,\n",
       "        0.95274448,  0.96779755,  0.97619503,  0.98374601]),\n",
       "        array([ 0.04550991,  0.08370906,  0.15566727,  0.27375792,  0.36097137,\n",
       "        0.42862248,  0.5471798 ,  0.66060898,  0.777976  ,  0.83576134,\n",
       "        0.89756107,  0.92707592,  0.95270729,  0.97617906,  0.98390118]),\n",
       "        array([ 0.0459419 ,  0.09254156,  0.10130536,  0.2756934 ,  0.36085377,\n",
       "        0.43099946,  0.54449752,  0.6604659 ,  0.78117888,  0.83292897,\n",
       "        0.89758855,  0.92566424,  0.95268766,  0.97593933,  0.9840549 ]),\n",
       "        array([ 0.07846127,  0.1179399 ,  0.22129512,  0.35164346,  0.49392378,\n",
       "        0.62786754,  0.75413452,  0.82421914,  0.89087396,  0.92278947,\n",
       "        0.95176852,  0.96809258,  0.97569507,  0.98388197]),\n",
       "        array([ 0.05659936,  0.11480487,  0.209271  ,  0.29201786,  0.38196813,\n",
       "        0.51398008,  0.63481844,  0.75961519,  0.82991414,  0.89557678,\n",
       "        0.92487159,  0.95215241,  0.97615455,  0.98752947])],\n",
       "       [ array([ 0.06336103,  0.12043895,  0.23603495,  0.37384324,  0.51375887,\n",
       "        0.64028901,  0.76130602,  0.82522359,  0.89153886,  0.92070269,\n",
       "        0.94968618,  0.96577221,  0.97472359,  0.98275777]),\n",
       "        array([ 0.03897864,  0.07224109,  0.13627453,  0.24531341,  0.32900344,\n",
       "        0.39573137,  0.51625286,  0.63526762,  0.76111632,  0.82358509,\n",
       "        0.89037168,  0.92215386,  0.94964638,  0.97470659,  0.98292272]),\n",
       "        array([ 0.039352  ,  0.08000372,  0.08773271,  0.24714168,  0.32888881,\n",
       "        0.39810389,  0.51347914,  0.6351156 ,  0.76457437,  0.82052111,\n",
       "        0.89040132,  0.92063644,  0.94962536,  0.97445128,  0.98308611]),\n",
       "        array([ 0.06764173,  0.10247659,  0.1962622 ,  0.31992549,  0.46157587,\n",
       "        0.60059389,  0.73540329,  0.81109925,  0.88315685,  0.9175454 ,\n",
       "        0.94864159,  0.96608699,  0.97419113,  0.98290229]),\n",
       "        array([ 0.04858331,  0.0996905 ,  0.18515741,  0.26261451,  0.34954725,\n",
       "        0.48206809,  0.60793523,  0.74130939,  0.81725975,  0.88823125,\n",
       "        0.91978428,  0.9490525 ,  0.97468049,  0.98677777])],\n",
       "       [ array([ 0.0539268 ,  0.10349143,  0.20692123,  0.33598542,  0.47393405,\n",
       "        0.60486122,  0.7351912 ,  0.80564154,  0.87944362,  0.91198087,\n",
       "        0.9442749 ,  0.96215215,  0.97207901,  0.98097294]),\n",
       "        array([ 0.0330417 ,  0.06157538,  0.11741433,  0.21540861,  0.29327113,\n",
       "        0.35709561,  0.47645822,  0.5995561 ,  0.73498353,  0.80382522,\n",
       "        0.87814155,  0.91359939,  0.94423061,  0.97206017,  0.98115537]),\n",
       "        array([ 0.03336024,  0.06828017,  0.07497334,  0.21708435,  0.29316284,\n",
       "        0.35939415,  0.47365107,  0.59939562,  0.73877076,  0.80042994,\n",
       "        0.87817461,  0.91190698,  0.94420723,  0.97177728,  0.98133606]),\n",
       "        array([ 0.05761102,  0.0877899 ,  0.17085759,  0.28470938,  0.42164622,\n",
       "        0.56316467,  0.70692279,  0.79      ,  0.870094  ,  0.90845913,\n",
       "        0.94311258,  0.96250151,  0.97148902,  0.98113277]),\n",
       "        array([ 0.04124857,  0.0853631 ,  0.16087921,  0.2313108 ,  0.31275307,\n",
       "        0.44205981,  0.57083413,  0.71335207,  0.79681779,  0.87575385,\n",
       "        0.91095649,  0.94356982,  0.97203125,  0.98541685])],\n",
       "       [ array([ 0.04682699,  0.0904229 ,  0.18323659,  0.30288163,  0.4360511 ,\n",
       "        0.56810018,  0.70544605,  0.7821266 ,  0.86407153,  0.90061274,\n",
       "        0.93704284,  0.9572467 ,  0.96846791,  0.97851911]),\n",
       "        array([ 0.02861837,  0.053519  ,  0.10276888,  0.19096924,  0.26278454,\n",
       "        0.32288993,  0.43854295,  0.56263587,  0.70522247,  0.78012949,\n",
       "        0.86261367,  0.90243538,  0.93699281,  0.96844662,  0.97872524]),\n",
       "        array([ 0.02889538,  0.05939579,  0.06527228,  0.19249813,  0.26268352,\n",
       "        0.3250763 ,  0.43577188,  0.56247073,  0.70930214,  0.776399  ,\n",
       "        0.86265068,  0.90052954,  0.93696639,  0.96812687,  0.9789294 ]),\n",
       "        array([ 0.05004885,  0.0765528 ,  0.15058116,  0.2548084 ,  0.38488904,\n",
       "        0.52541559,  0.67514943,  0.76496196,  0.85361188,  0.89664831,\n",
       "        0.93572981,  0.95764163,  0.96780104,  0.97869971]),\n",
       "        array([ 0.03576232,  0.07441403,  0.14160232,  0.20550688,  0.28100931,\n",
       "        0.40476048,  0.53322173,  0.68201559,  0.77243418,  0.8599413 ,\n",
       "        0.8994594 ,  0.93624632,  0.96841393,  0.98353947])],\n",
       "       [ array([ 0.03385725,  0.0660269 ,  0.13678476,  0.2331729 ,  0.3486828 ,\n",
       "        0.473881  ,  0.61855322,  0.70734167,  0.80989463,  0.85847295,\n",
       "        0.90875859,  0.93745265,  0.95363419,  0.96827355]),\n",
       "        array([ 0.02060856,  0.03875369,  0.07525618,  0.14282925,  0.20016214,\n",
       "        0.24993233,  0.3509392 ,  0.46845459,  0.6183035 ,  0.70494574,\n",
       "        0.80799437,  0.86094439,  0.90868825,  0.95360332,  0.96857517]),\n",
       "        array([ 0.02080932,  0.04306592,  0.04738951,  0.14402722,  0.20007992,\n",
       "        0.25177567,  0.3484302 ,  0.46829096,  0.62286808,  0.7004828 ,\n",
       "        0.80804257,  0.85836024,  0.90865111,  0.95313985,  0.96887398]),\n",
       "        array([ 0.03621279,  0.05572184,  0.11151942,  0.1936839 ,  0.3031626 ,\n",
       "        0.43208815,  0.58516731,  0.68690058,  0.79632386,  0.85311333,\n",
       "        0.90691364,  0.93801921,  0.95266771,  0.96853782]),\n",
       "        array([ 0.0257937 ,  0.05413871,  0.1046447 ,  0.1542589 ,  0.215073  ,\n",
       "        0.32066339,  0.43963102,  0.59265494,  0.69575725,  0.80451843,\n",
       "        0.85691144,  0.90763911,  0.95355594,  0.97563575])]], dtype=object)"
      ]
     },
     "execution_count": 129,
     "metadata": {},
     "output_type": "execute_result"
    }
   ],
   "source": [
    "genfunc3(np.array([5.,2.,0.5,100]),WT_09_lig,WT_09_rtot)"
   ]
  },
  {
   "cell_type": "code",
   "execution_count": 135,
   "metadata": {
    "collapsed": true
   },
   "outputs": [],
   "source": [
    "def genfunc4(parm,lig,rtot):\n",
    "        '''Generates ligand binding data according to Wyman model.\n",
    "        Takes numpy arrays containing parameters k11,k21,k22,l20; \n",
    "        free ligand concentrations, and total receptor concentrations.\n",
    "        Must be iterated against ligand data, i.e., for loop required when\n",
    "        used for more than one receptor concentration. In fitting functions,\n",
    "        the datasets are concentatenated for faster operation'''\n",
    "    \n",
    "        k11 = parm[0]\n",
    "        k21 = parm[1]\n",
    "        k22 = parm[2]\n",
    "        l20 = parm[3]\n",
    "        \n",
    "        #rtotTR = rtot[:,None]\n",
    "        rtotTR = rtot\n",
    "    \n",
    "        rfree = (((-1 - k11*lig)) + \\\n",
    "        ((np.square((1 + k11*lig)) + \\\n",
    "        8.*l20*rtotTR*(1 + k21*lig + k21*k22*(np.square(lig)))))**0.5) \\\n",
    "        / (4*l20*(1 + k21*lig + k21*k22*(np.square(lig))))    \n",
    "       \n",
    "        bfrac = (k11*lig + l20*k21*rfree*lig + \\\n",
    "        2*l20*k21*k22*rfree*(np.square(lig))) \\\n",
    "        / (1 + 2*l20*rfree + k11*lig + \\\n",
    "        2*l20*k21*rfree*lig + 2*l20*k21*k22*rfree*(np.square(lig)))\n",
    "    \n",
    "        return np.concatenate(bfrac)"
   ]
  },
  {
   "cell_type": "code",
   "execution_count": 136,
   "metadata": {
    "collapsed": false
   },
   "outputs": [
    {
     "data": {
      "text/plain": [
       "array([ 0.07356727,  0.13805996,  0.26391362,  0.4066037 ,  0.54476812,\n",
       "        0.6653328 ,  0.77815172,  0.83727598,  0.89864326,  0.92572586,\n",
       "        0.95274448,  0.96779755,  0.97619503,  0.98374601,  0.03897864,\n",
       "        0.07224109,  0.13627453,  0.24531341,  0.32900344,  0.39573137,\n",
       "        0.51625286,  0.63526762,  0.76111632,  0.82358509,  0.89037168,\n",
       "        0.92215386,  0.94964638,  0.97470659,  0.98292272,  0.03336024,\n",
       "        0.06828017,  0.07497334,  0.21708435,  0.29316284,  0.35939415,\n",
       "        0.47365107,  0.59939562,  0.73877076,  0.80042994,  0.87817461,\n",
       "        0.91190698,  0.94420723,  0.97177728,  0.98133606,  0.05004885,\n",
       "        0.0765528 ,  0.15058116,  0.2548084 ,  0.38488904,  0.52541559,\n",
       "        0.67514943,  0.76496196,  0.85361188,  0.89664831,  0.93572981,\n",
       "        0.95764163,  0.96780104,  0.97869971,  0.0257937 ,  0.05413871,\n",
       "        0.1046447 ,  0.1542589 ,  0.215073  ,  0.32066339,  0.43963102,\n",
       "        0.59265494,  0.69575725,  0.80451843,  0.85691144,  0.90763911,\n",
       "        0.95355594,  0.97563575])"
      ]
     },
     "execution_count": 136,
     "metadata": {},
     "output_type": "execute_result"
    }
   ],
   "source": [
    "genfunc4(np.array([5.,2.,0.5,100]),WT_09_lig,WT_09_rtot)"
   ]
  },
  {
   "cell_type": "code",
   "execution_count": 141,
   "metadata": {
    "collapsed": false
   },
   "outputs": [
    {
     "data": {
      "text/plain": [
       "True"
      ]
     },
     "execution_count": 141,
     "metadata": {},
     "output_type": "execute_result"
    }
   ],
   "source": [
    "WT_09_lig.shape == WT_09_rtot.shape"
   ]
  },
  {
   "cell_type": "code",
   "execution_count": 144,
   "metadata": {
    "collapsed": false
   },
   "outputs": [
    {
     "data": {
      "text/plain": [
       "5"
      ]
     },
     "execution_count": 144,
     "metadata": {},
     "output_type": "execute_result"
    }
   ],
   "source": [
    "WT_09_rtot.shape[0]"
   ]
  },
  {
   "cell_type": "code",
   "execution_count": 142,
   "metadata": {
    "collapsed": false
   },
   "outputs": [
    {
     "data": {
      "text/plain": [
       "2"
      ]
     },
     "execution_count": 142,
     "metadata": {},
     "output_type": "execute_result"
    }
   ],
   "source": [
    "a.ligs.ndim"
   ]
  },
  {
   "cell_type": "code",
   "execution_count": 143,
   "metadata": {
    "collapsed": false
   },
   "outputs": [
    {
     "data": {
      "text/plain": [
       "1"
      ]
     },
     "execution_count": 143,
     "metadata": {},
     "output_type": "execute_result"
    }
   ],
   "source": [
    "a.rtot.ndim"
   ]
  },
  {
   "cell_type": "code",
   "execution_count": 171,
   "metadata": {
    "collapsed": false
   },
   "outputs": [],
   "source": [
    "def genfunc5(parm,lig,rtot):\n",
    "        '''Generates ligand binding data according to Wyman model.\n",
    "        Takes numpy arrays containing parameters k11,k21,k22,l20; \n",
    "        free ligand concentrations, and total receptor concentrations.\n",
    "        Must be iterated against ligand data, i.e., for loop required when\n",
    "        used for more than one receptor concentration. In fitting functions,\n",
    "        the datasets are concentatenated for faster operation'''\n",
    "    \n",
    "        k11 = parm[0]\n",
    "        k21 = parm[1]\n",
    "        k22 = parm[2]\n",
    "        l20 = parm[3]\n",
    "        \n",
    "        assert lig.shape[0] == rtot.shape[0], 'First dimensions of ligs and rtots must match' \n",
    "        \n",
    "        if rtot.ndim != lig.ndim:\n",
    "            rtotX = rtot[:,None]\n",
    "        else:\n",
    "            rtotX = rtot\n",
    "        \n",
    "        rfree = (((-1 - k11*lig)) + \\\n",
    "        ((np.square((1 + k11*lig)) + \\\n",
    "        8.*l20*rtotX*(1 + k21*lig + k21*k22*(np.square(lig)))))**0.5) \\\n",
    "        / (4*l20*(1 + k21*lig + k21*k22*(np.square(lig))))    \n",
    "       \n",
    "        bfrac = (k11*lig + l20*k21*rfree*lig + \\\n",
    "        2*l20*k21*k22*rfree*(np.square(lig))) \\\n",
    "        / (1 + 2*l20*rfree + k11*lig + \\\n",
    "        2*l20*k21*rfree*lig + 2*l20*k21*k22*rfree*(np.square(lig)))\n",
    "    \n",
    "        return np.concatenate(bfrac)\n",
    "    "
   ]
  },
  {
   "cell_type": "code",
   "execution_count": 172,
   "metadata": {
    "collapsed": false
   },
   "outputs": [
    {
     "name": "stdout",
     "output_type": "stream",
     "text": [
      "1000 loops, best of 3: 451 µs per loop\n"
     ]
    }
   ],
   "source": [
    "%timeit genfunc5(np.array([5.,2.,0.5,100]),WT_09_lig,WT_09_rtot)"
   ]
  },
  {
   "cell_type": "code",
   "execution_count": 173,
   "metadata": {
    "collapsed": false
   },
   "outputs": [
    {
     "name": "stdout",
     "output_type": "stream",
     "text": [
      "10000 loops, best of 3: 89.3 µs per loop\n"
     ]
    }
   ],
   "source": [
    "%timeit genfunc5(np.array([5.,2.,0.5,100]),a.ligs,a.rtot)"
   ]
  },
  {
   "cell_type": "code",
   "execution_count": 174,
   "metadata": {
    "collapsed": false
   },
   "outputs": [
    {
     "ename": "IndexError",
     "evalue": "tuple index out of range",
     "output_type": "error",
     "traceback": [
      "\u001b[0;31m---------------------------------------------------------------------------\u001b[0m",
      "\u001b[0;31mIndexError\u001b[0m                                Traceback (most recent call last)",
      "\u001b[0;32m<ipython-input-174-cdd3e44f982a>\u001b[0m in \u001b[0;36m<module>\u001b[0;34m()\u001b[0m\n\u001b[0;32m----> 1\u001b[0;31m \u001b[0;34m[\u001b[0m\u001b[0mgenfunc5\u001b[0m\u001b[0;34m(\u001b[0m\u001b[0ma\u001b[0m\u001b[0;34m.\u001b[0m\u001b[0mparms\u001b[0m\u001b[0;34m,\u001b[0m\u001b[0ma\u001b[0m\u001b[0;34m.\u001b[0m\u001b[0mligs\u001b[0m\u001b[0;34m[\u001b[0m\u001b[0mi\u001b[0m\u001b[0;34m]\u001b[0m\u001b[0;34m,\u001b[0m\u001b[0ma\u001b[0m\u001b[0;34m.\u001b[0m\u001b[0mrtot\u001b[0m\u001b[0;34m[\u001b[0m\u001b[0mi\u001b[0m\u001b[0;34m]\u001b[0m\u001b[0;34m)\u001b[0m \u001b[0;32mfor\u001b[0m \u001b[0mi\u001b[0m \u001b[0;32min\u001b[0m \u001b[0mrange\u001b[0m\u001b[0;34m(\u001b[0m\u001b[0mlen\u001b[0m\u001b[0;34m(\u001b[0m\u001b[0ma\u001b[0m\u001b[0;34m.\u001b[0m\u001b[0mrtot\u001b[0m\u001b[0;34m)\u001b[0m\u001b[0;34m)\u001b[0m\u001b[0;34m]\u001b[0m\u001b[0;34m\u001b[0m\u001b[0m\n\u001b[0m",
      "\u001b[0;32m<ipython-input-174-cdd3e44f982a>\u001b[0m in \u001b[0;36m<listcomp>\u001b[0;34m(.0)\u001b[0m\n\u001b[0;32m----> 1\u001b[0;31m \u001b[0;34m[\u001b[0m\u001b[0mgenfunc5\u001b[0m\u001b[0;34m(\u001b[0m\u001b[0ma\u001b[0m\u001b[0;34m.\u001b[0m\u001b[0mparms\u001b[0m\u001b[0;34m,\u001b[0m\u001b[0ma\u001b[0m\u001b[0;34m.\u001b[0m\u001b[0mligs\u001b[0m\u001b[0;34m[\u001b[0m\u001b[0mi\u001b[0m\u001b[0;34m]\u001b[0m\u001b[0;34m,\u001b[0m\u001b[0ma\u001b[0m\u001b[0;34m.\u001b[0m\u001b[0mrtot\u001b[0m\u001b[0;34m[\u001b[0m\u001b[0mi\u001b[0m\u001b[0;34m]\u001b[0m\u001b[0;34m)\u001b[0m \u001b[0;32mfor\u001b[0m \u001b[0mi\u001b[0m \u001b[0;32min\u001b[0m \u001b[0mrange\u001b[0m\u001b[0;34m(\u001b[0m\u001b[0mlen\u001b[0m\u001b[0;34m(\u001b[0m\u001b[0ma\u001b[0m\u001b[0;34m.\u001b[0m\u001b[0mrtot\u001b[0m\u001b[0;34m)\u001b[0m\u001b[0;34m)\u001b[0m\u001b[0;34m]\u001b[0m\u001b[0;34m\u001b[0m\u001b[0m\n\u001b[0m",
      "\u001b[0;32m<ipython-input-171-a77bfa6d0a67>\u001b[0m in \u001b[0;36mgenfunc5\u001b[0;34m(parm, lig, rtot)\u001b[0m\n\u001b[1;32m     12\u001b[0m         \u001b[0ml20\u001b[0m \u001b[0;34m=\u001b[0m \u001b[0mparm\u001b[0m\u001b[0;34m[\u001b[0m\u001b[0;36m3\u001b[0m\u001b[0;34m]\u001b[0m\u001b[0;34m\u001b[0m\u001b[0m\n\u001b[1;32m     13\u001b[0m \u001b[0;34m\u001b[0m\u001b[0m\n\u001b[0;32m---> 14\u001b[0;31m         \u001b[0;32massert\u001b[0m \u001b[0mlig\u001b[0m\u001b[0;34m.\u001b[0m\u001b[0mshape\u001b[0m\u001b[0;34m[\u001b[0m\u001b[0;36m0\u001b[0m\u001b[0;34m]\u001b[0m \u001b[0;34m==\u001b[0m \u001b[0mrtot\u001b[0m\u001b[0;34m.\u001b[0m\u001b[0mshape\u001b[0m\u001b[0;34m[\u001b[0m\u001b[0;36m0\u001b[0m\u001b[0;34m]\u001b[0m\u001b[0;34m,\u001b[0m \u001b[0;34m'First dimensions of ligs and rtots must match'\u001b[0m\u001b[0;34m\u001b[0m\u001b[0m\n\u001b[0m\u001b[1;32m     15\u001b[0m \u001b[0;34m\u001b[0m\u001b[0m\n\u001b[1;32m     16\u001b[0m         \u001b[0;32mif\u001b[0m \u001b[0mrtot\u001b[0m\u001b[0;34m.\u001b[0m\u001b[0mndim\u001b[0m \u001b[0;34m!=\u001b[0m \u001b[0mlig\u001b[0m\u001b[0;34m.\u001b[0m\u001b[0mndim\u001b[0m\u001b[0;34m:\u001b[0m\u001b[0;34m\u001b[0m\u001b[0m\n",
      "\u001b[0;31mIndexError\u001b[0m: tuple index out of range"
     ]
    }
   ],
   "source": [
    "[genfunc5(a.parms,a.ligs[i],a.rtot[i]) for i in range(len(a.rtot))]"
   ]
  },
  {
   "cell_type": "code",
   "execution_count": 235,
   "metadata": {
    "collapsed": false
   },
   "outputs": [],
   "source": [
    "def genfunc6(parm,lig,rtot):\n",
    "        '''Generates ligand binding data according to Wyman model.\n",
    "        Takes numpy arrays containing parameters k11,k21,k22,l20; \n",
    "        free ligand concentrations, and total receptor concentrations.\n",
    "        Must be iterated against ligand data, i.e., for loop required when\n",
    "        used for more than one receptor concentration. In fitting functions,\n",
    "        the datasets are concentatenated for faster operation'''\n",
    "    \n",
    "        k11 = parm[0]\n",
    "        k21 = parm[1]\n",
    "        k22 = parm[2]\n",
    "        l20 = parm[3]\n",
    "\n",
    "        if ((rtot.ndim > 0) and (rtot.ndim != lig.ndim)):\n",
    "            rtotX = rtot[:,None] #adds dimension so that it can be broadcast\n",
    "        else:\n",
    "            rtotX = rtot #dimensions of lig and rtot\n",
    "\n",
    "        rfree = (((-1 - k11*lig)) + \\\n",
    "        ((np.square((1 + k11*lig)) + \\\n",
    "        8.*l20*rtotX*(1 + k21*lig + k21*k22*(np.square(lig)))))**0.5) \\\n",
    "        / (4*l20*(1 + k21*lig + k21*k22*(np.square(lig))))    \n",
    "       \n",
    "        bfrac = (k11*lig + l20*k21*rfree*lig + \\\n",
    "        2*l20*k21*k22*rfree*(np.square(lig))) \\\n",
    "        / (1 + 2*l20*rfree + k11*lig + \\\n",
    "        2*l20*k21*rfree*lig + 2*l20*k21*k22*rfree*(np.square(lig)))\n",
    "    \n",
    "        if ((rtot.ndim > 0) and (rtot.ndim != lig.ndim)):\n",
    "            return bfrac.flatten()\n",
    "        elif (rtot.ndim == 0):\n",
    "            return bfrac.flatten()\n",
    "        else:\n",
    "            return np.concatenate(bfrac)"
   ]
  },
  {
   "cell_type": "code",
   "execution_count": 239,
   "metadata": {
    "collapsed": false
   },
   "outputs": [
    {
     "name": "stdout",
     "output_type": "stream",
     "text": [
      "1000 loops, best of 3: 438 µs per loop\n"
     ]
    }
   ],
   "source": [
    "%timeit [genfunc6(a.parms,a.ligs[i],a.rtot[i]) for i in range(len(a.rtot))]"
   ]
  },
  {
   "cell_type": "code",
   "execution_count": 240,
   "metadata": {
    "collapsed": false
   },
   "outputs": [
    {
     "name": "stdout",
     "output_type": "stream",
     "text": [
      "10000 loops, best of 3: 85.8 µs per loop\n"
     ]
    }
   ],
   "source": [
    "%timeit genfunc6(np.array([5.,2.,0.5,100]),a.ligs,a.rtot)"
   ]
  },
  {
   "cell_type": "code",
   "execution_count": 246,
   "metadata": {
    "collapsed": false
   },
   "outputs": [
    {
     "data": {
      "text/plain": [
       "array([ 0.04596009,  0.08836981,  0.17761402,  0.29110022,  0.41648583,\n",
       "        0.54154217,  0.67505725,  0.75266283,  0.83965959,  0.88035239,\n",
       "        0.92246256,  0.94661003,  0.96030153,  0.97275059,  0.02473583,\n",
       "        0.04629043,  0.08903169,  0.1660622 ,  0.22941482,  0.28301881,\n",
       "        0.38817119,  0.5051399 ,  0.64766685,  0.72768617,  0.82174705,\n",
       "        0.87008786,  0.91399712,  0.95585221,  0.96997673,  0.0218914 ,\n",
       "        0.0451551 ,  0.04965672,  0.14887461,  0.2053043 ,  0.25671368,\n",
       "        0.35146085,  0.46715811,  0.61529696,  0.69020804,  0.79611162,\n",
       "        0.84709952,  0.89946846,  0.94737549,  0.96476433,  0.0340837 ,\n",
       "        0.05236282,  0.10435895,  0.18030873,  0.28084039,  0.39932351,\n",
       "        0.54256988,  0.64139733,  0.75379003,  0.81603523,  0.87866033,\n",
       "        0.91701743,  0.93575522,  0.95661776,  0.01922392,  0.04034699,\n",
       "        0.07801274,  0.11510496,  0.1608009 ,  0.24119159,  0.33452393,\n",
       "        0.46249802,  0.55774398,  0.67305879,  0.73805821,  0.81113727,\n",
       "        0.89168716,  0.93845805])"
      ]
     },
     "execution_count": 246,
     "metadata": {},
     "output_type": "execute_result"
    }
   ],
   "source": [
    "genfunc6(a.parms,WT_09_lig,WT_09_rtot)"
   ]
  },
  {
   "cell_type": "code",
   "execution_count": 243,
   "metadata": {
    "collapsed": false
   },
   "outputs": [
    {
     "data": {
      "text/plain": [
       "[array([ 0.04596009,  0.08836981,  0.17761402,  0.29110022,  0.41648583,\n",
       "         0.54154217,  0.67505725,  0.75266283,  0.83965959,  0.88035239,\n",
       "         0.92246256,  0.94661003,  0.96030153,  0.97275059]),\n",
       " array([ 0.02473583,  0.04629043,  0.08903169,  0.1660622 ,  0.22941482,\n",
       "         0.28301881,  0.38817119,  0.5051399 ,  0.64766685,  0.72768617,\n",
       "         0.82174705,  0.87008786,  0.91399712,  0.95585221,  0.96997673]),\n",
       " array([ 0.0218914 ,  0.0451551 ,  0.04965672,  0.14887461,  0.2053043 ,\n",
       "         0.25671368,  0.35146085,  0.46715811,  0.61529696,  0.69020804,\n",
       "         0.79611162,  0.84709952,  0.89946846,  0.94737549,  0.96476433]),\n",
       " array([ 0.0340837 ,  0.05236282,  0.10435895,  0.18030873,  0.28084039,\n",
       "         0.39932351,  0.54256988,  0.64139733,  0.75379003,  0.81603523,\n",
       "         0.87866033,  0.91701743,  0.93575522,  0.95661776]),\n",
       " array([ 0.01922392,  0.04034699,  0.07801274,  0.11510496,  0.1608009 ,\n",
       "         0.24119159,  0.33452393,  0.46249802,  0.55774398,  0.67305879,\n",
       "         0.73805821,  0.81113727,  0.89168716,  0.93845805])]"
      ]
     },
     "execution_count": 243,
     "metadata": {},
     "output_type": "execute_result"
    }
   ],
   "source": [
    "[genfunc6(a.parms,WT_09_lig[i],WT_09_rtot[i]) for i in range(len(WT_09_rtot))]"
   ]
  },
  {
   "cell_type": "code",
   "execution_count": 211,
   "metadata": {
    "collapsed": false
   },
   "outputs": [
    {
     "data": {
      "text/plain": [
       "1"
      ]
     },
     "execution_count": 211,
     "metadata": {},
     "output_type": "execute_result"
    }
   ],
   "source": [
    "WT_09_lig.ndim"
   ]
  },
  {
   "cell_type": "code",
   "execution_count": 212,
   "metadata": {
    "collapsed": false
   },
   "outputs": [
    {
     "data": {
      "text/plain": [
       "1"
      ]
     },
     "execution_count": 212,
     "metadata": {},
     "output_type": "execute_result"
    }
   ],
   "source": [
    "WT_09_rtot.ndim"
   ]
  },
  {
   "cell_type": "code",
   "execution_count": 214,
   "metadata": {
    "collapsed": false
   },
   "outputs": [
    {
     "data": {
      "text/plain": [
       "2"
      ]
     },
     "execution_count": 214,
     "metadata": {},
     "output_type": "execute_result"
    }
   ],
   "source": [
    "a.ligs.ndim"
   ]
  },
  {
   "cell_type": "code",
   "execution_count": 215,
   "metadata": {
    "collapsed": false
   },
   "outputs": [
    {
     "data": {
      "text/plain": [
       "1"
      ]
     },
     "execution_count": 215,
     "metadata": {},
     "output_type": "execute_result"
    }
   ],
   "source": [
    "a.rtot.ndim"
   ]
  },
  {
   "cell_type": "code",
   "execution_count": 247,
   "metadata": {
    "collapsed": true
   },
   "outputs": [],
   "source": [
    "def wymfunc(parm,lig,rtot):\n",
    "    '''\n",
    "    Model function for dimerizing, single-site receptors as derived in (Wyman and Gill, Binding and Linkage, 1990) and used by (Macdonald and Pike, ...EGF-binding...negative cooperativity...aggregating system, 2008).\n",
    "    \n",
    "   Takes numpy array of parameters [k11,k21,k22,l20], numpy array of free ligand concentrations, and total receptor concentration. Returns the fraction of receptor bound to ligand.\n",
    "    \n",
    "    To generate a data set, iterate over an array of desired receptor concentrations, e.g.: [wymfunc(parm,lig,i) for i in array_of_rtots]\n",
    "    \n",
    "    For use in curve fitting, the output is flattened when a full dataset is provided. For example, an objective function for use with scipy.optimize.least_squares is readily constructed as: (wymfun(parm_guess,lig,rtot) - actual_data)\n",
    "    '''\n",
    "    \n",
    "    #check if multiple receptor concentrations are being used\n",
    "    #if so, ens\n",
    "    if ((rtot.ndim > 0) and (rtot.ndim != lig.ndim)):\n",
    "        rtotX = rtot[:,None] #adds dimension so that it can be broadcast\n",
    "    else:\n",
    "        rtotX = rtot #dimensions of lig and rtot\n",
    "    \n",
    "    #unpack parameters\n",
    "    k11 = parm[0]\n",
    "    k21 = parm[1]\n",
    "    k22 = parm[2]\n",
    "    l20 = parm[3]\n",
    "    \n",
    "    ### START MODEL FUNCTION ###\n",
    "    \n",
    "    #calculate concentration of free (unoccupied) receptor\n",
    "    rfree = (((-1 - k11*lig)) + \\\n",
    "    ((np.square((1 + k11*lig)) + \\\n",
    "    8.*l20*rtotX*(1 + k21*lig + k21*k22*(np.square(lig)))))**0.5) \\\n",
    "    / (4*l20*(1 + k21*lig + k21*k22*(np.square(lig))))    \n",
    "   \n",
    "    #calculate bound fraction\n",
    "    bfrac = (k11*lig + l20*k21*rfree*lig + \\\n",
    "    2*l20*k21*k22*rfree*(np.square(lig))) \\\n",
    "    / (1 + 2*l20*rfree + k11*lig + \\\n",
    "    2*l20*k21*rfree*lig + 2*l20*k21*k22*rfree*(np.square(lig)))\n",
    "    \n",
    "    ### END MODEL FUNCTION ###\n",
    "    \n",
    "    #flatten output depending on input\n",
    "    if ((rtot.ndim > 0) and (rtot.ndim != lig.ndim)):\n",
    "        return bfrac.flatten()\n",
    "    elif (rtot.ndim == 0):\n",
    "        return bfrac.flatten()\n",
    "    else:\n",
    "        return np.concatenate(bfrac)"
   ]
  },
  {
   "cell_type": "code",
   "execution_count": 249,
   "metadata": {
    "collapsed": false
   },
   "outputs": [
    {
     "data": {
      "text/plain": [
       "array([ 0.02473583,  0.04629043,  0.08903169,  0.1660622 ,  0.22941482,\n",
       "        0.28301881,  0.38817119,  0.5051399 ,  0.64766685,  0.72768617,\n",
       "        0.82174705,  0.87008786,  0.91399712,  0.95585221,  0.96997673])"
      ]
     },
     "execution_count": 249,
     "metadata": {},
     "output_type": "execute_result"
    }
   ],
   "source": [
    "wymfunc(a.parms,WT_09_lig[1],WT_09_rtot[1])"
   ]
  },
  {
   "cell_type": "code",
   "execution_count": 250,
   "metadata": {
    "collapsed": false
   },
   "outputs": [
    {
     "data": {
      "text/plain": [
       "array([ 0.00439846,  0.00876128,  0.01738165,  0.03421209,  0.06631457,\n",
       "        0.12488398,  0.22341996,  0.36808302,  0.54199297,  0.70628381,\n",
       "        0.829668  ,  0.90761511,  0.95179705,  0.97536764,  0.98754741,\n",
       "        0.99373913,  0.99686086,  0.99842825,  0.00391463,  0.00780227,\n",
       "        0.01549759,  0.03057525,  0.05953097,  0.11303046,  0.20501916,\n",
       "        0.34459292,  0.51919852,  0.6898572 ,  0.82026074,  0.90283286,\n",
       "        0.94945441,  0.97422155,  0.98698269,  0.99345914,  0.99672149,\n",
       "        0.99835873,  0.0034618 ,  0.00690302,  0.01372442,  0.0271274 ,\n",
       "        0.05300848,  0.10132739,  0.18598294,  0.31843766,  0.4912778 ,\n",
       "        0.66774559,  0.80668263,  0.89563944,  0.94585343,  0.97244055,\n",
       "        0.98610038,  0.99302049,  0.99650286,  0.99824959,  0.00299235,\n",
       "        0.00596947,  0.01187844,  0.02351808,  0.04610622,  0.08868337,\n",
       "        0.16461872,  0.28714086,  0.45463205,  0.63551939,  0.78505902,\n",
       "        0.88349768,  0.93957415,  0.9692818 ,  0.98452202,  0.99223242,\n",
       "        0.99610922,  0.99805288,  0.00242792,  0.00484567,  0.00965087,\n",
       "        0.01914167,  0.03765727,  0.07291869,  0.13704384,  0.24419832,\n",
       "        0.3992847 ,  0.58046089,  0.74336515,  0.8578647 ,  0.92555681,\n",
       "        0.96201025,  0.98082971,  0.99037367,  0.99517691,  0.99758603,\n",
       "        0.0020768 ,  0.00414596,  0.00826153,  0.01640277,  0.03233391,\n",
       "        0.06285459,  0.11899464,  0.21479032,  0.35846086,  0.53544332,\n",
       "        0.70522488,  0.83211157,  0.91055955,  0.95393992,  0.97664993,\n",
       "        0.98824779,  0.99410503,  0.99704786])"
      ]
     },
     "execution_count": 250,
     "metadata": {},
     "output_type": "execute_result"
    }
   ],
   "source": [
    "wymfunc(np.array([5.,2.,0.5,100]),a.ligs,a.rtot)"
   ]
  },
  {
   "cell_type": "code",
   "execution_count": 251,
   "metadata": {
    "collapsed": false
   },
   "outputs": [
    {
     "data": {
      "text/plain": [
       "array([ 0.04596009,  0.08836981,  0.17761402,  0.29110022,  0.41648583,\n",
       "        0.54154217,  0.67505725,  0.75266283,  0.83965959,  0.88035239,\n",
       "        0.92246256,  0.94661003,  0.96030153,  0.97275059,  0.02473583,\n",
       "        0.04629043,  0.08903169,  0.1660622 ,  0.22941482,  0.28301881,\n",
       "        0.38817119,  0.5051399 ,  0.64766685,  0.72768617,  0.82174705,\n",
       "        0.87008786,  0.91399712,  0.95585221,  0.96997673,  0.0218914 ,\n",
       "        0.0451551 ,  0.04965672,  0.14887461,  0.2053043 ,  0.25671368,\n",
       "        0.35146085,  0.46715811,  0.61529696,  0.69020804,  0.79611162,\n",
       "        0.84709952,  0.89946846,  0.94737549,  0.96476433,  0.0340837 ,\n",
       "        0.05236282,  0.10435895,  0.18030873,  0.28084039,  0.39932351,\n",
       "        0.54256988,  0.64139733,  0.75379003,  0.81603523,  0.87866033,\n",
       "        0.91701743,  0.93575522,  0.95661776,  0.01922392,  0.04034699,\n",
       "        0.07801274,  0.11510496,  0.1608009 ,  0.24119159,  0.33452393,\n",
       "        0.46249802,  0.55774398,  0.67305879,  0.73805821,  0.81113727,\n",
       "        0.89168716,  0.93845805])"
      ]
     },
     "execution_count": 251,
     "metadata": {},
     "output_type": "execute_result"
    }
   ],
   "source": [
    "wymfunc(a.parms,WT_09_lig,WT_09_rtot)"
   ]
  },
  {
   "cell_type": "code",
   "execution_count": 252,
   "metadata": {
    "collapsed": true
   },
   "outputs": [],
   "source": [
    "import sys"
   ]
  },
  {
   "cell_type": "code",
   "execution_count": 253,
   "metadata": {
    "collapsed": false
   },
   "outputs": [
    {
     "data": {
      "text/plain": [
       "['',\n",
       " '/Users/michael/miniconda3/envs/fitter/lib/python35.zip',\n",
       " '/Users/michael/miniconda3/envs/fitter/lib/python3.5',\n",
       " '/Users/michael/miniconda3/envs/fitter/lib/python3.5/plat-darwin',\n",
       " '/Users/michael/miniconda3/envs/fitter/lib/python3.5/lib-dynload',\n",
       " '/Users/michael/miniconda3/envs/fitter/lib/python3.5/site-packages',\n",
       " '/Users/michael/miniconda3/envs/fitter/lib/python3.5/site-packages/corner-2.0.1-py3.5.egg',\n",
       " '/Users/michael/miniconda3/envs/fitter/lib/python3.5/site-packages/emcee-2.2.1-py3.5.egg',\n",
       " '/Users/michael/miniconda3/envs/fitter/lib/python3.5/site-packages/setuptools-27.2.0-py3.5.egg',\n",
       " '/Users/michael/miniconda3/envs/fitter/lib/python3.5/site-packages/IPython/extensions',\n",
       " '/Users/michael/.ipython']"
      ]
     },
     "execution_count": 253,
     "metadata": {},
     "output_type": "execute_result"
    }
   ],
   "source": [
    "sys.path"
   ]
  },
  {
   "cell_type": "code",
   "execution_count": 254,
   "metadata": {
    "collapsed": true
   },
   "outputs": [],
   "source": [
    "sys.path.append('/Users/michael/ligbind/')"
   ]
  },
  {
   "cell_type": "code",
   "execution_count": 264,
   "metadata": {
    "collapsed": true
   },
   "outputs": [],
   "source": [
    "import ligbind"
   ]
  },
  {
   "cell_type": "code",
   "execution_count": 265,
   "metadata": {
    "collapsed": false
   },
   "outputs": [
    {
     "data": {
      "text/plain": [
       "array([ 0.04596009,  0.08836981,  0.17761402,  0.29110022,  0.41648583,\n",
       "        0.54154217,  0.67505725,  0.75266283,  0.83965959,  0.88035239,\n",
       "        0.92246256,  0.94661003,  0.96030153,  0.97275059,  0.02473583,\n",
       "        0.04629043,  0.08903169,  0.1660622 ,  0.22941482,  0.28301881,\n",
       "        0.38817119,  0.5051399 ,  0.64766685,  0.72768617,  0.82174705,\n",
       "        0.87008786,  0.91399712,  0.95585221,  0.96997673,  0.0218914 ,\n",
       "        0.0451551 ,  0.04965672,  0.14887461,  0.2053043 ,  0.25671368,\n",
       "        0.35146085,  0.46715811,  0.61529696,  0.69020804,  0.79611162,\n",
       "        0.84709952,  0.89946846,  0.94737549,  0.96476433,  0.0340837 ,\n",
       "        0.05236282,  0.10435895,  0.18030873,  0.28084039,  0.39932351,\n",
       "        0.54256988,  0.64139733,  0.75379003,  0.81603523,  0.87866033,\n",
       "        0.91701743,  0.93575522,  0.95661776,  0.01922392,  0.04034699,\n",
       "        0.07801274,  0.11510496,  0.1608009 ,  0.24119159,  0.33452393,\n",
       "        0.46249802,  0.55774398,  0.67305879,  0.73805821,  0.81113727,\n",
       "        0.89168716,  0.93845805])"
      ]
     },
     "execution_count": 265,
     "metadata": {},
     "output_type": "execute_result"
    }
   ],
   "source": [
    "ligbind.test(a.parms,WT_09_lig,WT_09_rtot)"
   ]
  },
  {
   "cell_type": "code",
   "execution_count": 266,
   "metadata": {
    "collapsed": true
   },
   "outputs": [],
   "source": [
    "%autoreload"
   ]
  },
  {
   "cell_type": "code",
   "execution_count": 267,
   "metadata": {
    "collapsed": false
   },
   "outputs": [
    {
     "ename": "AttributeError",
     "evalue": "module 'ligbind' has no attribute 'test_helper'",
     "output_type": "error",
     "traceback": [
      "\u001b[0;31m---------------------------------------------------------------------------\u001b[0m",
      "\u001b[0;31mAttributeError\u001b[0m                            Traceback (most recent call last)",
      "\u001b[0;32m<ipython-input-267-fbbfca5e4636>\u001b[0m in \u001b[0;36m<module>\u001b[0;34m()\u001b[0m\n\u001b[0;32m----> 1\u001b[0;31m \u001b[0mligbind\u001b[0m\u001b[0;34m.\u001b[0m\u001b[0mtest_helper\u001b[0m\u001b[0;34m(\u001b[0m\u001b[0;34m)\u001b[0m\u001b[0;34m\u001b[0m\u001b[0m\n\u001b[0m",
      "\u001b[0;31mAttributeError\u001b[0m: module 'ligbind' has no attribute 'test_helper'"
     ]
    }
   ],
   "source": [
    "ligbind.test_helper()"
   ]
  },
  {
   "cell_type": "code",
   "execution_count": 268,
   "metadata": {
    "collapsed": false
   },
   "outputs": [
    {
     "data": {
      "text/plain": [
       "array([  1.00000000e-03,   2.00000000e-03,   4.00000000e-03,\n",
       "         8.00000000e-03,   1.60000000e-02,   3.20000000e-02,\n",
       "         6.40000000e-02,   1.28000000e-01,   2.56000000e-01,\n",
       "         5.12000000e-01,   1.02400000e+00,   2.04800000e+00,\n",
       "         4.09600000e+00,   8.19200000e+00,   1.63840000e+01,\n",
       "         3.27680000e+01,   6.55360000e+01,   1.31072000e+02])"
      ]
     },
     "execution_count": 268,
     "metadata": {},
     "output_type": "execute_result"
    }
   ],
   "source": [
    "ligbind.helpers.dilser()"
   ]
  },
  {
   "cell_type": "code",
   "execution_count": null,
   "metadata": {
    "collapsed": true
   },
   "outputs": [],
   "source": []
  }
 ],
 "metadata": {
  "anaconda-cloud": {},
  "kernelspec": {
   "display_name": "Python [conda env:fitter]",
   "language": "python",
   "name": "conda-env-fitter-py"
  },
  "language_info": {
   "codemirror_mode": {
    "name": "ipython",
    "version": 3
   },
   "file_extension": ".py",
   "mimetype": "text/x-python",
   "name": "python",
   "nbconvert_exporter": "python",
   "pygments_lexer": "ipython3",
   "version": "3.5.2"
  }
 },
 "nbformat": 4,
 "nbformat_minor": 1
}
