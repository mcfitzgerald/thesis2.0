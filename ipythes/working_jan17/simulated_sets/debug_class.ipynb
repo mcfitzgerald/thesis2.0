{
 "cells": [
  {
   "cell_type": "code",
   "execution_count": 6,
   "metadata": {
    "collapsed": true
   },
   "outputs": [],
   "source": [
    "from mods import class_test\n",
    "%load_ext autoreload"
   ]
  },
  {
   "cell_type": "code",
   "execution_count": 2,
   "metadata": {
    "collapsed": false
   },
   "outputs": [
    {
     "data": {
      "text/plain": [
       "mods.class_test.Wyman"
      ]
     },
     "execution_count": 2,
     "metadata": {},
     "output_type": "execute_result"
    }
   ],
   "source": [
    "class_test.Wyman"
   ]
  },
  {
   "cell_type": "code",
   "execution_count": 3,
   "metadata": {
    "collapsed": true
   },
   "outputs": [],
   "source": [
    "a = class_test.Wyman()"
   ]
  },
  {
   "cell_type": "code",
   "execution_count": 4,
   "metadata": {
    "collapsed": false
   },
   "outputs": [
    {
     "data": {
      "text/plain": [
       "<mods.class_test.Wyman at 0x104a49f28>"
      ]
     },
     "execution_count": 4,
     "metadata": {},
     "output_type": "execute_result"
    }
   ],
   "source": [
    "a"
   ]
  },
  {
   "cell_type": "code",
   "execution_count": 5,
   "metadata": {
    "collapsed": false
   },
   "outputs": [
    {
     "data": {
      "text/plain": [
       "'hi'"
      ]
     },
     "execution_count": 5,
     "metadata": {},
     "output_type": "execute_result"
    }
   ],
   "source": [
    "a.hat"
   ]
  },
  {
   "cell_type": "code",
   "execution_count": 104,
   "metadata": {
    "collapsed": false
   },
   "outputs": [],
   "source": [
    "%autoreload"
   ]
  },
  {
   "cell_type": "code",
   "execution_count": 105,
   "metadata": {
    "collapsed": false
   },
   "outputs": [
    {
     "ename": "TypeError",
     "evalue": "__init__() got an unexpected keyword argument 'ligs'",
     "output_type": "error",
     "traceback": [
      "\u001b[0;31m---------------------------------------------------------------------------\u001b[0m",
      "\u001b[0;31mTypeError\u001b[0m                                 Traceback (most recent call last)",
      "\u001b[0;32m<ipython-input-105-5e2e477134c0>\u001b[0m in \u001b[0;36m<module>\u001b[0;34m()\u001b[0m\n\u001b[0;32m----> 1\u001b[0;31m \u001b[0ma\u001b[0m \u001b[0;34m=\u001b[0m \u001b[0mclass_test\u001b[0m\u001b[0;34m.\u001b[0m\u001b[0mWyman\u001b[0m\u001b[0;34m(\u001b[0m\u001b[0mligs\u001b[0m\u001b[0;34m=\u001b[0m\u001b[0mdilser\u001b[0m\u001b[0;34m(\u001b[0m\u001b[0;36m0.01\u001b[0m\u001b[0;34m,\u001b[0m\u001b[0;36m100.\u001b[0m\u001b[0;34m)\u001b[0m\u001b[0;34m)\u001b[0m\u001b[0;34m\u001b[0m\u001b[0m\n\u001b[0m",
      "\u001b[0;31mTypeError\u001b[0m: __init__() got an unexpected keyword argument 'ligs'"
     ]
    }
   ],
   "source": [
    "a = class_test.Wyman(ligs=dilser(0.01,100.))"
   ]
  },
  {
   "cell_type": "code",
   "execution_count": 47,
   "metadata": {
    "collapsed": false
   },
   "outputs": [
    {
     "data": {
      "text/plain": [
       "array([  1.00000000e-03,   2.00000000e-03,   4.00000000e-03,\n",
       "         8.00000000e-03,   1.60000000e-02,   3.20000000e-02,\n",
       "         6.40000000e-02,   1.28000000e-01,   2.56000000e-01,\n",
       "         5.12000000e-01,   1.02400000e+00,   2.04800000e+00,\n",
       "         4.09600000e+00,   8.19200000e+00,   1.63840000e+01,\n",
       "         3.27680000e+01,   6.55360000e+01,   1.31072000e+02])"
      ]
     },
     "execution_count": 47,
     "metadata": {},
     "output_type": "execute_result"
    }
   ],
   "source": [
    "a.ligs"
   ]
  },
  {
   "cell_type": "code",
   "execution_count": 51,
   "metadata": {
    "collapsed": false
   },
   "outputs": [],
   "source": [
    "import numpy as np"
   ]
  },
  {
   "cell_type": "code",
   "execution_count": 52,
   "metadata": {
    "collapsed": false
   },
   "outputs": [
    {
     "data": {
      "text/plain": [
       "array([   3. ,    2. ,    0.1,  100. ])"
      ]
     },
     "execution_count": 52,
     "metadata": {},
     "output_type": "execute_result"
    }
   ],
   "source": [
    "np.array((3.,2.,0.1,100.))"
   ]
  },
  {
   "cell_type": "code",
   "execution_count": 65,
   "metadata": {
    "collapsed": true
   },
   "outputs": [],
   "source": [
    "%autoreload"
   ]
  },
  {
   "cell_type": "code",
   "execution_count": 69,
   "metadata": {
    "collapsed": false
   },
   "outputs": [],
   "source": [
    "a = class_test.Wyman(ligrange=(0.01,10.,2.))"
   ]
  },
  {
   "cell_type": "code",
   "execution_count": 58,
   "metadata": {
    "collapsed": false
   },
   "outputs": [],
   "source": [
    "b = (3.,2.,0.1,100.)"
   ]
  },
  {
   "cell_type": "code",
   "execution_count": 59,
   "metadata": {
    "collapsed": false
   },
   "outputs": [
    {
     "data": {
      "text/plain": [
       "3.0"
      ]
     },
     "execution_count": 59,
     "metadata": {},
     "output_type": "execute_result"
    }
   ],
   "source": [
    "b[0]"
   ]
  },
  {
   "cell_type": "code",
   "execution_count": 70,
   "metadata": {
    "collapsed": false
   },
   "outputs": [
    {
     "data": {
      "text/plain": [
       "array([  1.00000000e-02,   2.00000000e-02,   4.00000000e-02,\n",
       "         8.00000000e-02,   1.60000000e-01,   3.20000000e-01,\n",
       "         6.40000000e-01,   1.28000000e+00,   2.56000000e+00,\n",
       "         5.12000000e+00,   1.02400000e+01])"
      ]
     },
     "execution_count": 70,
     "metadata": {},
     "output_type": "execute_result"
    }
   ],
   "source": [
    "a.ligs"
   ]
  },
  {
   "cell_type": "code",
   "execution_count": 76,
   "metadata": {
    "collapsed": false
   },
   "outputs": [
    {
     "data": {
      "text/plain": [
       "array([  1.00069339e+00,   5.90266319e+01,   3.48172909e+03,\n",
       "         2.05372338e+05,   1.21140377e+07,   7.14555380e+08,\n",
       "         4.21485721e+10,   2.48616438e+12,   1.46648225e+14,\n",
       "         8.65015291e+15,   5.10235601e+17,   3.00966204e+19,\n",
       "         1.77527118e+21,   1.04715670e+23,   6.17673043e+24,\n",
       "         3.64338966e+26,   2.14908006e+28,   1.26765060e+30])"
      ]
     },
     "execution_count": 76,
     "metadata": {},
     "output_type": "execute_result"
    }
   ],
   "source": [
    "np.logspace(0.001,100,base=2,num=18)"
   ]
  },
  {
   "cell_type": "code",
   "execution_count": 83,
   "metadata": {
    "collapsed": false
   },
   "outputs": [
    {
     "data": {
      "text/plain": [
       "array([ 0.01,  0.02,  0.03,  0.04,  0.05])"
      ]
     },
     "execution_count": 83,
     "metadata": {},
     "output_type": "execute_result"
    }
   ],
   "source": [
    "np.arange(0.01,0.06,0.01)"
   ]
  },
  {
   "cell_type": "code",
   "execution_count": 84,
   "metadata": {
    "collapsed": true
   },
   "outputs": [],
   "source": [
    "def dilser(low=0.001, limit=100., dilfactor=2.):\n",
    "    a = [low]\n",
    "    while a[-1] <= limit:\n",
    "        a.append(a[len(a)-1]*dilfactor)       \n",
    "    return np.array(a)\n",
    "    "
   ]
  },
  {
   "cell_type": "code",
   "execution_count": 86,
   "metadata": {
    "collapsed": false
   },
   "outputs": [
    {
     "data": {
      "text/plain": [
       "array([ 0.001    ,  0.0015   ,  0.00225  ,  0.003375 ,  0.0050625])"
      ]
     },
     "execution_count": 86,
     "metadata": {},
     "output_type": "execute_result"
    }
   ],
   "source": [
    "dilser(0.001,0.005,1.5)"
   ]
  },
  {
   "cell_type": "code",
   "execution_count": 87,
   "metadata": {
    "collapsed": false
   },
   "outputs": [
    {
     "data": {
      "text/plain": [
       "71.9475"
      ]
     },
     "execution_count": 87,
     "metadata": {},
     "output_type": "execute_result"
    }
   ],
   "source": [
    "287.79/4"
   ]
  },
  {
   "cell_type": "code",
   "execution_count": 181,
   "metadata": {
    "collapsed": false
   },
   "outputs": [],
   "source": [
    "%autoreload"
   ]
  },
  {
   "cell_type": "code",
   "execution_count": 182,
   "metadata": {
    "collapsed": false
   },
   "outputs": [],
   "source": [
    "a = class_test.Wyman(parms=[5.,0.5,10.,235.])"
   ]
  },
  {
   "cell_type": "code",
   "execution_count": 178,
   "metadata": {
    "collapsed": false
   },
   "outputs": [
    {
     "data": {
      "text/plain": [
       "array([   5. ,    0.5,   10. ,  235. ])"
      ]
     },
     "execution_count": 178,
     "metadata": {},
     "output_type": "execute_result"
    }
   ],
   "source": [
    "a.parms"
   ]
  },
  {
   "cell_type": "code",
   "execution_count": 180,
   "metadata": {
    "collapsed": false
   },
   "outputs": [
    {
     "data": {
      "text/plain": [
       "array([[ 0.00376197,  0.00750324,  0.0149241 ,  0.02952222,  0.0577685 ,\n",
       "         0.11065438,  0.20348033,  0.3477734 ,  0.53060815,  0.70633894,\n",
       "         0.83495893,  0.91273709,  0.95520595,  0.97731985,  0.98859044,\n",
       "         0.99427804,  0.99713475,  0.99856631],\n",
       "       [ 0.00304943,  0.00608881,  0.01213741,  0.02411384,  0.04758344,\n",
       "         0.09259594,  0.17507316,  0.31226077,  0.50090788,  0.69283266,\n",
       "         0.83316869,  0.91459144,  0.95710453,  0.97855365,  0.98928401,\n",
       "         0.9946447 ,  0.99732314,  0.99866178],\n",
       "       [ 0.00249667,  0.00498949,  0.00996345,  0.01986342,  0.03946267,\n",
       "         0.07779464,  0.15059452,  0.27909546,  0.47027407,  0.67781447,\n",
       "         0.83112564,  0.91670334,  0.95925022,  0.9799398 ,  0.99006047,\n",
       "         0.9950544 ,  0.99753343,  0.9987683 ],\n",
       "       [ 0.00199353,  0.00398767,  0.00797753,  0.01596207,  0.03193833,\n",
       "         0.06382733,  0.12669131,  0.24476909,  0.43597991,  0.65986633,\n",
       "         0.82862466,  0.91928365,  0.96185308,  0.98161208,  0.99099417,\n",
       "         0.9955462 ,  0.99778563,  0.99889598],\n",
       "       [ 0.00145045,  0.00290527,  0.00582777,  0.01172269,  0.02369995,\n",
       "         0.04830648,  0.09937219,  0.20355563,  0.39181853,  0.63526967,\n",
       "         0.82511423,  0.92289847,  0.96547331,  0.98392532,  0.99228158,\n",
       "         0.99622312,  0.99813246,  0.9990715 ],\n",
       "       [ 0.00113706,  0.00228024,  0.00458474,  0.00926495,  0.01889882,\n",
       "         0.0391683 ,  0.08297071,  0.1779424 ,  0.3629612 ,  0.6184408 ,\n",
       "         0.82266857,  0.92541317,  0.96797805,  0.98551919,  0.99316647,\n",
       "         0.9966878 ,  0.99837038,  0.99919185]])"
      ]
     },
     "execution_count": 180,
     "metadata": {},
     "output_type": "execute_result"
    }
   ],
   "source": [
    "a.bfrac"
   ]
  },
  {
   "cell_type": "code",
   "execution_count": 159,
   "metadata": {
    "collapsed": false
   },
   "outputs": [],
   "source": [
    "b = a.noised"
   ]
  },
  {
   "cell_type": "code",
   "execution_count": 173,
   "metadata": {
    "collapsed": false
   },
   "outputs": [
    {
     "data": {
      "text/plain": [
       "array([[ 0.00365401,  0.00738506,  0.01475541,  0.02935192,  0.05810901,\n",
       "         0.11391875,  0.20393103,  0.34780294,  0.5541485 ,  0.69437299,\n",
       "         0.83423892,  0.91884254,  0.96048456,  1.00142552,  0.97034885,\n",
       "         0.9578899 ,  1.04162325,  0.95631519],\n",
       "       [ 0.00298865,  0.00610183,  0.01199202,  0.02400656,  0.04952771,\n",
       "         0.08843908,  0.17425273,  0.32248677,  0.51628099,  0.71760806,\n",
       "         0.82160571,  0.88896451,  0.93206265,  0.96291385,  1.02924103,\n",
       "         0.98408802,  0.9844062 ,  1.00852255],\n",
       "       [ 0.00237622,  0.00505601,  0.00983179,  0.02008064,  0.04094546,\n",
       "         0.07977946,  0.14870388,  0.28342453,  0.45052134,  0.66110751,\n",
       "         0.85197334,  0.92410573,  0.94272756,  0.99489824,  0.94042204,\n",
       "         0.9646388 ,  0.98731108,  0.95591761],\n",
       "       [ 0.00190656,  0.00389906,  0.00814424,  0.01638778,  0.03219976,\n",
       "         0.06006123,  0.12524363,  0.24480236,  0.42709428,  0.66978093,\n",
       "         0.8451441 ,  0.92304963,  0.97887219,  0.92959812,  0.96051399,\n",
       "         0.93990894,  0.99852609,  0.95125506],\n",
       "       [ 0.00148102,  0.00285005,  0.00573236,  0.01187105,  0.02432664,\n",
       "         0.04527085,  0.09880352,  0.20423467,  0.41053504,  0.65226005,\n",
       "         0.86718103,  0.94860677,  1.01366502,  0.98827838,  0.96479034,\n",
       "         0.99971384,  1.01383308,  1.00306854],\n",
       "       [ 0.00111499,  0.00227147,  0.0046547 ,  0.00907953,  0.01831432,\n",
       "         0.03962748,  0.0854427 ,  0.18629033,  0.35892914,  0.61318669,\n",
       "         0.84630266,  0.90347829,  0.96766293,  0.98791138,  1.02395127,\n",
       "         0.98805644,  0.99499164,  0.98664921]])"
      ]
     },
     "execution_count": 173,
     "metadata": {},
     "output_type": "execute_result"
    }
   ],
   "source": [
    "a.meanset[0]"
   ]
  },
  {
   "cell_type": "code",
   "execution_count": 161,
   "metadata": {
    "collapsed": false
   },
   "outputs": [
    {
     "data": {
      "text/plain": [
       "array([[ 0.00367636,  0.00737189,  0.01519269,  0.03230622,  0.05791074,\n",
       "         0.10863608,  0.20178809,  0.33408853,  0.51194177,  0.7239473 ,\n",
       "         0.82805729,  0.9489427 ,  0.91252329,  1.01757773,  1.02298944,\n",
       "         0.98930732,  1.00596625,  1.02515106],\n",
       "       [ 0.00296472,  0.00609621,  0.01258983,  0.0239592 ,  0.04854472,\n",
       "         0.08993632,  0.17982894,  0.30768152,  0.52096055,  0.73558317,\n",
       "         0.84020449,  0.90384526,  0.96490175,  1.00917235,  0.98003557,\n",
       "         0.93110407,  1.00038003,  0.98618021],\n",
       "       [ 0.00244244,  0.00491257,  0.01047321,  0.02064731,  0.04273448,\n",
       "         0.07542222,  0.15061151,  0.28677978,  0.47861513,  0.66272247,\n",
       "         0.86102181,  0.93005448,  0.99384656,  0.92821515,  0.99112459,\n",
       "         0.95472765,  1.00131283,  0.99552072],\n",
       "       [ 0.00204872,  0.00393284,  0.00804231,  0.01581899,  0.0334464 ,\n",
       "         0.06657326,  0.12488793,  0.25808129,  0.4385744 ,  0.65134133,\n",
       "         0.84978508,  0.8724247 ,  1.01106984,  0.99051933,  0.97088777,\n",
       "         0.96698142,  1.06418027,  0.97883077],\n",
       "       [ 0.00143236,  0.00279345,  0.00611788,  0.01129057,  0.02399297,\n",
       "         0.04786925,  0.09909391,  0.21051806,  0.39240449,  0.64600124,\n",
       "         0.81127828,  0.89218473,  0.95965584,  1.0143393 ,  0.9869079 ,\n",
       "         1.02877339,  0.99825344,  0.98673828],\n",
       "       [ 0.00111371,  0.00217539,  0.00476715,  0.00928858,  0.01887573,\n",
       "         0.04002919,  0.07978219,  0.17043645,  0.36807488,  0.61737514,\n",
       "         0.82851369,  0.94087013,  0.97078959,  0.96700944,  1.00194231,\n",
       "         0.97841685,  1.03994962,  1.01116769]])"
      ]
     },
     "execution_count": 161,
     "metadata": {},
     "output_type": "execute_result"
    }
   ],
   "source": [
    "c[0]"
   ]
  },
  {
   "cell_type": "code",
   "execution_count": 185,
   "metadata": {
    "collapsed": false
   },
   "outputs": [
    {
     "ename": "TypeError",
     "evalue": "fit() takes 0 positional arguments but 1 was given",
     "output_type": "error",
     "traceback": [
      "\u001b[0;31m---------------------------------------------------------------------------\u001b[0m",
      "\u001b[0;31mTypeError\u001b[0m                                 Traceback (most recent call last)",
      "\u001b[0;32m<ipython-input-185-bc41f69eecc6>\u001b[0m in \u001b[0;36m<module>\u001b[0;34m()\u001b[0m\n\u001b[0;32m----> 1\u001b[0;31m \u001b[0ma\u001b[0m\u001b[0;34m.\u001b[0m\u001b[0mfit\u001b[0m\u001b[0;34m(\u001b[0m\u001b[0;34m)\u001b[0m\u001b[0;34m\u001b[0m\u001b[0m\n\u001b[0m",
      "\u001b[0;31mTypeError\u001b[0m: fit() takes 0 positional arguments but 1 was given"
     ]
    }
   ],
   "source": [
    "a.fit()"
   ]
  },
  {
   "cell_type": "code",
   "execution_count": 232,
   "metadata": {
    "collapsed": true
   },
   "outputs": [],
   "source": [
    "%autoreload"
   ]
  },
  {
   "cell_type": "code",
   "execution_count": 233,
   "metadata": {
    "collapsed": false
   },
   "outputs": [],
   "source": [
    "a = class_test.WymanSim()"
   ]
  },
  {
   "cell_type": "code",
   "execution_count": 234,
   "metadata": {
    "collapsed": false
   },
   "outputs": [
    {
     "data": {
      "text/plain": [
       "array([[ 0.00259505,  0.00509312,  0.0111042 ,  0.02157993,  0.04194342,\n",
       "         0.07757481,  0.15059501,  0.25938018,  0.41337933,  0.56748272,\n",
       "         0.73460509,  0.83430443,  0.90020912,  0.96093877,  0.93146794,\n",
       "         1.01433361,  1.00283951,  0.97553343],\n",
       "       [ 0.00246985,  0.00525542,  0.0097136 ,  0.01860823,  0.0397742 ,\n",
       "         0.07760974,  0.13797775,  0.24935186,  0.3942197 ,  0.54593853,\n",
       "         0.7484398 ,  0.84566788,  0.92714215,  0.94816282,  0.97319707,\n",
       "         0.96869903,  0.95622842,  0.95452305],\n",
       "       [ 0.00233123,  0.00437447,  0.00909695,  0.01742581,  0.03351974,\n",
       "         0.06758715,  0.12799593,  0.22745323,  0.37245869,  0.56999702,\n",
       "         0.72402109,  0.79243736,  0.89788795,  0.95964897,  0.95951538,\n",
       "         0.95880115,  1.01385812,  1.03192562],\n",
       "       [ 0.00199403,  0.00380627,  0.00834998,  0.01595231,  0.03068443,\n",
       "         0.05696145,  0.11225943,  0.2011478 ,  0.33333284,  0.49800241,\n",
       "         0.63403382,  0.82392874,  0.91302716,  0.9566764 ,  0.97362434,\n",
       "         1.04371894,  0.95933882,  0.9940583 ],\n",
       "       [ 0.00175278,  0.003347  ,  0.00677629,  0.01433457,  0.02663169,\n",
       "         0.05313523,  0.10019305,  0.17541492,  0.28032487,  0.43355659,\n",
       "         0.6130904 ,  0.73458546,  0.86503905,  0.9148502 ,  0.96092811,\n",
       "         0.96443505,  1.01640778,  1.03578916],\n",
       "       [ 0.00156361,  0.00299899,  0.00587123,  0.01245342,  0.02439615,\n",
       "         0.04640783,  0.08654158,  0.16536912,  0.26893784,  0.41992203,\n",
       "         0.54790476,  0.68799174,  0.81641518,  0.90718391,  0.96831406,\n",
       "         0.98093435,  0.91473917,  1.00228301]])"
      ]
     },
     "execution_count": 234,
     "metadata": {},
     "output_type": "execute_result"
    }
   ],
   "source": [
    "a.meanset[0]"
   ]
  },
  {
   "cell_type": "code",
   "execution_count": 210,
   "metadata": {
    "collapsed": false
   },
   "outputs": [
    {
     "data": {
      "text/plain": [
       "'do'"
      ]
     },
     "execution_count": 210,
     "metadata": {},
     "output_type": "execute_result"
    }
   ],
   "source": [
    "a.who"
   ]
  },
  {
   "cell_type": "code",
   "execution_count": 197,
   "metadata": {
    "collapsed": true
   },
   "outputs": [],
   "source": [
    "b = class_test.WymanSim()"
   ]
  },
  {
   "cell_type": "code",
   "execution_count": 199,
   "metadata": {
    "collapsed": false
   },
   "outputs": [],
   "source": [
    "b.fit()"
   ]
  },
  {
   "cell_type": "code",
   "execution_count": 200,
   "metadata": {
    "collapsed": false
   },
   "outputs": [
    {
     "data": {
      "text/plain": [
       "'do'"
      ]
     },
     "execution_count": 200,
     "metadata": {},
     "output_type": "execute_result"
    }
   ],
   "source": [
    "b.who"
   ]
  },
  {
   "cell_type": "code",
   "execution_count": 214,
   "metadata": {
    "collapsed": false
   },
   "outputs": [],
   "source": [
    "import sys"
   ]
  },
  {
   "cell_type": "code",
   "execution_count": 216,
   "metadata": {
    "collapsed": false
   },
   "outputs": [
    {
     "data": {
      "text/plain": [
       "976"
      ]
     },
     "execution_count": 216,
     "metadata": {},
     "output_type": "execute_result"
    }
   ],
   "source": [
    "sys.getsizeof(b.bfrac)"
   ]
  },
  {
   "cell_type": "code",
   "execution_count": 217,
   "metadata": {
    "collapsed": true
   },
   "outputs": [],
   "source": [
    "from mods import plotter"
   ]
  },
  {
   "cell_type": "code",
   "execution_count": 218,
   "metadata": {
    "collapsed": false
   },
   "outputs": [
    {
     "data": {
      "text/plain": [
       "array([[  1.00000000e-03,   2.00000000e-03,   4.00000000e-03,\n",
       "          8.00000000e-03,   1.60000000e-02,   3.20000000e-02,\n",
       "          6.40000000e-02,   1.28000000e-01,   2.56000000e-01,\n",
       "          5.12000000e-01,   1.02400000e+00,   2.04800000e+00,\n",
       "          4.09600000e+00,   8.19200000e+00,   1.63840000e+01,\n",
       "          3.27680000e+01,   6.55360000e+01,   1.31072000e+02],\n",
       "       [  1.00000000e-03,   2.00000000e-03,   4.00000000e-03,\n",
       "          8.00000000e-03,   1.60000000e-02,   3.20000000e-02,\n",
       "          6.40000000e-02,   1.28000000e-01,   2.56000000e-01,\n",
       "          5.12000000e-01,   1.02400000e+00,   2.04800000e+00,\n",
       "          4.09600000e+00,   8.19200000e+00,   1.63840000e+01,\n",
       "          3.27680000e+01,   6.55360000e+01,   1.31072000e+02],\n",
       "       [  1.00000000e-03,   2.00000000e-03,   4.00000000e-03,\n",
       "          8.00000000e-03,   1.60000000e-02,   3.20000000e-02,\n",
       "          6.40000000e-02,   1.28000000e-01,   2.56000000e-01,\n",
       "          5.12000000e-01,   1.02400000e+00,   2.04800000e+00,\n",
       "          4.09600000e+00,   8.19200000e+00,   1.63840000e+01,\n",
       "          3.27680000e+01,   6.55360000e+01,   1.31072000e+02],\n",
       "       [  1.00000000e-03,   2.00000000e-03,   4.00000000e-03,\n",
       "          8.00000000e-03,   1.60000000e-02,   3.20000000e-02,\n",
       "          6.40000000e-02,   1.28000000e-01,   2.56000000e-01,\n",
       "          5.12000000e-01,   1.02400000e+00,   2.04800000e+00,\n",
       "          4.09600000e+00,   8.19200000e+00,   1.63840000e+01,\n",
       "          3.27680000e+01,   6.55360000e+01,   1.31072000e+02],\n",
       "       [  1.00000000e-03,   2.00000000e-03,   4.00000000e-03,\n",
       "          8.00000000e-03,   1.60000000e-02,   3.20000000e-02,\n",
       "          6.40000000e-02,   1.28000000e-01,   2.56000000e-01,\n",
       "          5.12000000e-01,   1.02400000e+00,   2.04800000e+00,\n",
       "          4.09600000e+00,   8.19200000e+00,   1.63840000e+01,\n",
       "          3.27680000e+01,   6.55360000e+01,   1.31072000e+02],\n",
       "       [  1.00000000e-03,   2.00000000e-03,   4.00000000e-03,\n",
       "          8.00000000e-03,   1.60000000e-02,   3.20000000e-02,\n",
       "          6.40000000e-02,   1.28000000e-01,   2.56000000e-01,\n",
       "          5.12000000e-01,   1.02400000e+00,   2.04800000e+00,\n",
       "          4.09600000e+00,   8.19200000e+00,   1.63840000e+01,\n",
       "          3.27680000e+01,   6.55360000e+01,   1.31072000e+02]])"
      ]
     },
     "execution_count": 218,
     "metadata": {},
     "output_type": "execute_result"
    }
   ],
   "source": [
    "b.ligs"
   ]
  },
  {
   "cell_type": "code",
   "execution_count": 224,
   "metadata": {
    "collapsed": false
   },
   "outputs": [],
   "source": [
    "plotter.semlogerr(b.ligs,b.meanset[0],b.stdset[0])"
   ]
  },
  {
   "cell_type": "code",
   "execution_count": 226,
   "metadata": {
    "collapsed": false
   },
   "outputs": [],
   "source": [
    "%matplotlib inline"
   ]
  },
  {
   "cell_type": "code",
   "execution_count": 227,
   "metadata": {
    "collapsed": false
   },
   "outputs": [
    {
     "data": {
      "image/png": "[encoded data removed]",
      "text/plain": [
       "<matplotlib.figure.Figure at 0x1165e1438>"
      ]
     },
     "metadata": {},
     "output_type": "display_data"
    }
   ],
   "source": [
    "plotter.semlogerr(b.ligs,b.meanset[0],b.stdset[0])"
   ]
  },
  {
   "cell_type": "code",
   "execution_count": 228,
   "metadata": {
    "collapsed": true
   },
   "outputs": [],
   "source": [
    "def func1(a=1, b=3, c=5):\n",
    "    return a+b+c"
   ]
  },
  {
   "cell_type": "code",
   "execution_count": 229,
   "metadata": {
    "collapsed": false
   },
   "outputs": [
    {
     "data": {
      "text/plain": [
       "9"
      ]
     },
     "execution_count": 229,
     "metadata": {},
     "output_type": "execute_result"
    }
   ],
   "source": [
    "func1()"
   ]
  },
  {
   "cell_type": "code",
   "execution_count": 230,
   "metadata": {
    "collapsed": true
   },
   "outputs": [],
   "source": [
    "def wrap1(**kwargs):\n",
    "    func1(kwargs)"
   ]
  },
  {
   "cell_type": "code",
   "execution_count": 231,
   "metadata": {
    "collapsed": false
   },
   "outputs": [
    {
     "ename": "TypeError",
     "evalue": "unsupported operand type(s) for +: 'dict' and 'int'",
     "output_type": "error",
     "traceback": [
      "\u001b[0;31m---------------------------------------------------------------------------\u001b[0m",
      "\u001b[0;31mTypeError\u001b[0m                                 Traceback (most recent call last)",
      "\u001b[0;32m<ipython-input-231-555bdd11a5fb>\u001b[0m in \u001b[0;36m<module>\u001b[0;34m()\u001b[0m\n\u001b[0;32m----> 1\u001b[0;31m \u001b[0mwrap1\u001b[0m\u001b[0;34m(\u001b[0m\u001b[0;34m)\u001b[0m\u001b[0;34m\u001b[0m\u001b[0m\n\u001b[0m",
      "\u001b[0;32m<ipython-input-230-684f59d28836>\u001b[0m in \u001b[0;36mwrap1\u001b[0;34m(**kwargs)\u001b[0m\n\u001b[1;32m      1\u001b[0m \u001b[0;32mdef\u001b[0m \u001b[0mwrap1\u001b[0m\u001b[0;34m(\u001b[0m\u001b[0;34m**\u001b[0m\u001b[0mkwargs\u001b[0m\u001b[0;34m)\u001b[0m\u001b[0;34m:\u001b[0m\u001b[0;34m\u001b[0m\u001b[0m\n\u001b[0;32m----> 2\u001b[0;31m     \u001b[0mfunc1\u001b[0m\u001b[0;34m(\u001b[0m\u001b[0mkwargs\u001b[0m\u001b[0;34m)\u001b[0m\u001b[0;34m\u001b[0m\u001b[0m\n\u001b[0m",
      "\u001b[0;32m<ipython-input-228-c7b66a9a4cdb>\u001b[0m in \u001b[0;36mfunc1\u001b[0;34m(a, b, c)\u001b[0m\n\u001b[1;32m      1\u001b[0m \u001b[0;32mdef\u001b[0m \u001b[0mfunc1\u001b[0m\u001b[0;34m(\u001b[0m\u001b[0ma\u001b[0m\u001b[0;34m=\u001b[0m\u001b[0;36m1\u001b[0m\u001b[0;34m,\u001b[0m \u001b[0mb\u001b[0m\u001b[0;34m=\u001b[0m\u001b[0;36m3\u001b[0m\u001b[0;34m,\u001b[0m \u001b[0mc\u001b[0m\u001b[0;34m=\u001b[0m\u001b[0;36m5\u001b[0m\u001b[0;34m)\u001b[0m\u001b[0;34m:\u001b[0m\u001b[0;34m\u001b[0m\u001b[0m\n\u001b[0;32m----> 2\u001b[0;31m     \u001b[0;32mreturn\u001b[0m \u001b[0ma\u001b[0m\u001b[0;34m+\u001b[0m\u001b[0mb\u001b[0m\u001b[0;34m+\u001b[0m\u001b[0mc\u001b[0m\u001b[0;34m\u001b[0m\u001b[0m\n\u001b[0m",
      "\u001b[0;31mTypeError\u001b[0m: unsupported operand type(s) for +: 'dict' and 'int'"
     ]
    }
   ],
   "source": [
    "wrap1()"
   ]
  },
  {
   "cell_type": "code",
   "execution_count": 235,
   "metadata": {
    "collapsed": false
   },
   "outputs": [
    {
     "data": {
      "text/plain": [
       "9"
      ]
     },
     "execution_count": 235,
     "metadata": {},
     "output_type": "execute_result"
    }
   ],
   "source": [
    "func1()"
   ]
  },
  {
   "cell_type": "code",
   "execution_count": 237,
   "metadata": {
    "collapsed": false
   },
   "outputs": [],
   "source": [
    "argls = {'a':4,'b':4,'c':4}"
   ]
  },
  {
   "cell_type": "code",
   "execution_count": 238,
   "metadata": {
    "collapsed": false
   },
   "outputs": [
    {
     "data": {
      "text/plain": [
       "12"
      ]
     },
     "execution_count": 238,
     "metadata": {},
     "output_type": "execute_result"
    }
   ],
   "source": [
    "func1(**argls)"
   ]
  },
  {
   "cell_type": "code",
   "execution_count": 284,
   "metadata": {
    "collapsed": false
   },
   "outputs": [],
   "source": [
    "%autoreload"
   ]
  },
  {
   "cell_type": "code",
   "execution_count": 285,
   "metadata": {
    "collapsed": true
   },
   "outputs": [],
   "source": [
    "mod1 = class_test.WymanSim(sets=10)"
   ]
  },
  {
   "cell_type": "code",
   "execution_count": 286,
   "metadata": {
    "collapsed": false
   },
   "outputs": [
    {
     "data": {
      "image/png": "[encoded data removed]",
      "text/plain": [
       "<matplotlib.figure.Figure at 0x1167f61d0>"
      ]
     },
     "metadata": {},
     "output_type": "display_data"
    }
   ],
   "source": [
    "plotter.semlogerr(mod1.ligs,mod1.meanset[0],mod1.stdset[0])"
   ]
  },
  {
   "cell_type": "code",
   "execution_count": 297,
   "metadata": {
    "collapsed": false
   },
   "outputs": [],
   "source": [
    "##opts = {'loss':'soft_l1'}\n",
    "fit1 = class_test.WymanSimFit(mod1,weight=2) #fit1 = class_test.WymanSimFit(mod1, **opts)"
   ]
  },
  {
   "cell_type": "code",
   "execution_count": 294,
   "metadata": {
    "collapsed": false
   },
   "outputs": [
    {
     "data": {
      "text/plain": [
       "array([   2.84178494,    2.20679462,    0.23519217,  109.10724691])"
      ]
     },
     "execution_count": 294,
     "metadata": {},
     "output_type": "execute_result"
    }
   ],
   "source": [
    "fit1.fits[1].x"
   ]
  },
  {
   "cell_type": "code",
   "execution_count": 296,
   "metadata": {
    "collapsed": false
   },
   "outputs": [
    {
     "data": {
      "text/plain": [
       "array([   3.1280413 ,    2.38542649,    0.366706  ,  197.19405918])"
      ]
     },
     "execution_count": 296,
     "metadata": {},
     "output_type": "execute_result"
    }
   ],
   "source": [
    "fit1.fits[1].x"
   ]
  },
  {
   "cell_type": "code",
   "execution_count": 298,
   "metadata": {
    "collapsed": false
   },
   "outputs": [
    {
     "data": {
      "text/plain": [
       "array([   3.0201117 ,    2.20495585,    0.21574153,  136.28779078])"
      ]
     },
     "execution_count": 298,
     "metadata": {},
     "output_type": "execute_result"
    }
   ],
   "source": [
    "fit1.fits[1].x"
   ]
  },
  {
   "cell_type": "code",
   "execution_count": 299,
   "metadata": {
    "collapsed": false
   },
   "outputs": [
    {
     "data": {
      "text/plain": [
       "array([   3. ,    2. ,    0.1,  100. ])"
      ]
     },
     "execution_count": 299,
     "metadata": {},
     "output_type": "execute_result"
    }
   ],
   "source": [
    "fit1.model.parms"
   ]
  },
  {
   "cell_type": "code",
   "execution_count": null,
   "metadata": {
    "collapsed": true
   },
   "outputs": [],
   "source": []
  }
 ],
 "metadata": {
  "anaconda-cloud": {},
  "kernelspec": {
   "display_name": "Python [conda env:fitter]",
   "language": "python",
   "name": "conda-env-fitter-py"
  },
  "language_info": {
   "codemirror_mode": {
    "name": "ipython",
    "version": 3
   },
   "file_extension": ".py",
   "mimetype": "text/x-python",
   "name": "python",
   "nbconvert_exporter": "python",
   "pygments_lexer": "ipython3",
   "version": "3.5.2"
  }
 },
 "nbformat": 4,
 "nbformat_minor": 1
}
