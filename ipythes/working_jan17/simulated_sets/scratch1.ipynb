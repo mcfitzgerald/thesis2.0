{
 "cells": [
  {
   "cell_type": "code",
   "execution_count": 1,
   "metadata": {
    "collapsed": true
   },
   "outputs": [],
   "source": [
    "import numpy as np\n",
    "import matplotlib.pyplot as plt\n",
    "from mods import models, ligtools, plotter, prep\n",
    "from scipy import optimize\n",
    "import corner\n",
    "%matplotlib inline\n",
    "%load_ext autoreload"
   ]
  },
  {
   "cell_type": "code",
   "execution_count": 2,
   "metadata": {
    "collapsed": false
   },
   "outputs": [
    {
     "name": "stdout",
     "output_type": "stream",
     "text": [
      "hootie hoo! the indices match!\n"
     ]
    }
   ],
   "source": [
    "WT_08_lbl, WT_08_rtot, WT_08_lig, WT_08_sat = prep.datprep('data/EGFR_WT_08_Sat.csv','data/EGFR_WT_08_Rtot.csv')"
   ]
  },
  {
   "cell_type": "code",
   "execution_count": 3,
   "metadata": {
    "collapsed": false
   },
   "outputs": [
    {
     "data": {
      "text/plain": [
       "array([ 0.001439,  0.002422,  0.003392,  0.002718,  0.01216 ,  0.02594 ])"
      ]
     },
     "execution_count": 3,
     "metadata": {},
     "output_type": "execute_result"
    }
   ],
   "source": [
    "WT_08_rtot"
   ]
  },
  {
   "cell_type": "code",
   "execution_count": 13,
   "metadata": {
    "collapsed": true
   },
   "outputs": [],
   "source": [
    "bound1 = ((0.0,0.0,0.0,0.0),(100.0,100.0,100.0,10000.0))"
   ]
  },
  {
   "cell_type": "code",
   "execution_count": 5,
   "metadata": {
    "collapsed": false
   },
   "outputs": [
    {
     "name": "stdout",
     "output_type": "stream",
     "text": [
      "hootie hoo! the indices match!\n"
     ]
    }
   ],
   "source": [
    "WT_09_lbl, WT_09_rtot, WT_09_lig, WT_09_sat = prep.datprep('data/EGFR_WT_09_Sat.csv','data/EGFR_WT_09_Rtot.csv')"
   ]
  },
  {
   "cell_type": "code",
   "execution_count": 7,
   "metadata": {
    "collapsed": true
   },
   "outputs": [],
   "source": [
    "guess = np.array([5.,3.,0.6,100.])"
   ]
  },
  {
   "cell_type": "code",
   "execution_count": 14,
   "metadata": {
    "collapsed": false
   },
   "outputs": [],
   "source": [
    "res_wt09 = optimize.least_squares(models.wyman_sp,guess,bounds=bound1,args=(WT_09_lig,WT_09_sat,WT_09_rtot))"
   ]
  },
  {
   "cell_type": "code",
   "execution_count": 15,
   "metadata": {
    "collapsed": false
   },
   "outputs": [
    {
     "data": {
      "text/plain": [
       "array([  4.49638827e+00,   1.92956941e+00,   2.02802412e-01,\n",
       "         1.08208681e+03])"
      ]
     },
     "execution_count": 15,
     "metadata": {},
     "output_type": "execute_result"
    }
   ],
   "source": [
    "res_wt09.x"
   ]
  },
  {
   "cell_type": "code",
   "execution_count": 25,
   "metadata": {
    "collapsed": false
   },
   "outputs": [
    {
     "data": {
      "text/plain": [
       "numpy.ndarray"
      ]
     },
     "execution_count": 25,
     "metadata": {},
     "output_type": "execute_result"
    }
   ],
   "source": [
    "type(WT_09_lig)"
   ]
  },
  {
   "cell_type": "code",
   "execution_count": 24,
   "metadata": {
    "collapsed": false
   },
   "outputs": [
    {
     "data": {
      "text/plain": [
       "numpy.ndarray"
      ]
     },
     "execution_count": 24,
     "metadata": {},
     "output_type": "execute_result"
    }
   ],
   "source": [
    "type(WT_09_sat)"
   ]
  },
  {
   "cell_type": "code",
   "execution_count": 22,
   "metadata": {
    "collapsed": false
   },
   "outputs": [
    {
     "data": {
      "text/plain": [
       "numpy.ndarray"
      ]
     },
     "execution_count": 22,
     "metadata": {},
     "output_type": "execute_result"
    }
   ],
   "source": [
    "type(WT_09_rtot)"
   ]
  },
  {
   "cell_type": "code",
   "execution_count": 27,
   "metadata": {
    "collapsed": false
   },
   "outputs": [
    {
     "data": {
      "text/plain": [
       "array([ array([  0.4267487,   0.7219977,   1.823194 ,   3.0881   ,   3.939354 ,\n",
       "         5.38879  ,   7.396108 ,   7.791709 ,   9.324073 ,   9.14133  ,\n",
       "         9.702964 ,   9.190478 ,  10.26665  ,  10.2495   ]),\n",
       "       array([   2.364097,    4.692846,    8.471032,   15.34647 ,   21.57494 ,\n",
       "         26.55414 ,   35.88522 ,   45.73236 ,   64.87842 ,   68.83354 ,\n",
       "         77.13876 ,   89.35084 ,   89.59837 ,   96.47381 ,  100.4316  ]),\n",
       "       array([  15.39294,   34.64131,   36.79492,  120.4458 ,  170.3361 ,\n",
       "        228.394  ,  296.916  ,  400.557  ,  512.5622 ,  655.2897 ,\n",
       "        798.2227 ,  833.6276 ,  856.7631 ,  939.9583 ,  983.6827 ]),\n",
       "       array([  117.7382,   679.1044,  1181.224 ,  1930.07  ,  2699.022 ,\n",
       "        3405.689 ,  4711.433 ,  5706.022 ,  7279.76  ,  7448.295 ,\n",
       "        8381.671 ,  8757.077 ,  9069.215 ,  8949.114 ]),\n",
       "       array([  1352.529,   3072.73 ,   5200.417,   8748.945,  12500.32 ,\n",
       "        20391.8  ,  29724.67 ,  42782.11 ,  53141.74 ,  65164.38 ,\n",
       "        70357.14 ,  69367.92 ,  86978.3  ,  97152.06 ])], dtype=object)"
      ]
     },
     "execution_count": 27,
     "metadata": {},
     "output_type": "execute_result"
    }
   ],
   "source": [
    "WT_09_sat*np.array([10,100,1000,10000,100000])"
   ]
  },
  {
   "cell_type": "code",
   "execution_count": 30,
   "metadata": {
    "collapsed": false
   },
   "outputs": [
    {
     "data": {
      "text/plain": [
       "(5,)"
      ]
     },
     "execution_count": 30,
     "metadata": {},
     "output_type": "execute_result"
    }
   ],
   "source": [
    "WT_09_sat.shape"
   ]
  },
  {
   "cell_type": "code",
   "execution_count": 34,
   "metadata": {
    "collapsed": false
   },
   "outputs": [
    {
     "data": {
      "text/plain": [
       "array([ array([ 0.04267487,  0.07219977,  0.1823194 ,  0.30881   ,  0.3939354 ,\n",
       "        0.538879  ,  0.7396108 ,  0.7791709 ,  0.9324073 ,  0.914133  ,\n",
       "        0.9702964 ,  0.9190478 ,  1.026665  ,  1.02495   ]),\n",
       "       array([ 0.02364097,  0.04692846,  0.08471032,  0.1534647 ,  0.2157494 ,\n",
       "        0.2655414 ,  0.3588522 ,  0.4573236 ,  0.6487842 ,  0.6883354 ,\n",
       "        0.7713876 ,  0.8935084 ,  0.8959837 ,  0.9647381 ,  1.004316  ]),\n",
       "       array([ 0.01539294,  0.03464131,  0.03679492,  0.1204458 ,  0.1703361 ,\n",
       "        0.228394  ,  0.296916  ,  0.400557  ,  0.5125622 ,  0.6552897 ,\n",
       "        0.7982227 ,  0.8336276 ,  0.8567631 ,  0.9399583 ,  0.9836827 ]),\n",
       "       array([ 0.01177382,  0.06791044,  0.1181224 ,  0.193007  ,  0.2699022 ,\n",
       "        0.3405689 ,  0.4711433 ,  0.5706022 ,  0.727976  ,  0.7448295 ,\n",
       "        0.8381671 ,  0.8757077 ,  0.9069215 ,  0.8949114 ]),\n",
       "       array([ 0.01352529,  0.0307273 ,  0.05200417,  0.08748945,  0.1250032 ,\n",
       "        0.203918  ,  0.2972467 ,  0.4278211 ,  0.5314174 ,  0.6516438 ,\n",
       "        0.7035714 ,  0.6936792 ,  0.869783  ,  0.9715206 ])], dtype=object)"
      ]
     },
     "execution_count": 34,
     "metadata": {},
     "output_type": "execute_result"
    }
   ],
   "source": [
    "WT_09_sat"
   ]
  },
  {
   "cell_type": "code",
   "execution_count": 35,
   "metadata": {
    "collapsed": false
   },
   "outputs": [
    {
     "data": {
      "text/plain": [
       "array([ 0.04267487,  0.07219977,  0.1823194 ,  0.30881   ,  0.3939354 ,\n",
       "        0.538879  ,  0.7396108 ,  0.7791709 ,  0.9324073 ,  0.914133  ,\n",
       "        0.9702964 ,  0.9190478 ,  1.026665  ,  1.02495   ,  0.02364097,\n",
       "        0.04692846,  0.08471032,  0.1534647 ,  0.2157494 ,  0.2655414 ,\n",
       "        0.3588522 ,  0.4573236 ,  0.6487842 ,  0.6883354 ,  0.7713876 ,\n",
       "        0.8935084 ,  0.8959837 ,  0.9647381 ,  1.004316  ,  0.01539294,\n",
       "        0.03464131,  0.03679492,  0.1204458 ,  0.1703361 ,  0.228394  ,\n",
       "        0.296916  ,  0.400557  ,  0.5125622 ,  0.6552897 ,  0.7982227 ,\n",
       "        0.8336276 ,  0.8567631 ,  0.9399583 ,  0.9836827 ,  0.01177382,\n",
       "        0.06791044,  0.1181224 ,  0.193007  ,  0.2699022 ,  0.3405689 ,\n",
       "        0.4711433 ,  0.5706022 ,  0.727976  ,  0.7448295 ,  0.8381671 ,\n",
       "        0.8757077 ,  0.9069215 ,  0.8949114 ,  0.01352529,  0.0307273 ,\n",
       "        0.05200417,  0.08748945,  0.1250032 ,  0.203918  ,  0.2972467 ,\n",
       "        0.4278211 ,  0.5314174 ,  0.6516438 ,  0.7035714 ,  0.6936792 ,\n",
       "        0.869783  ,  0.9715206 ])"
      ]
     },
     "execution_count": 35,
     "metadata": {},
     "output_type": "execute_result"
    }
   ],
   "source": [
    "np.concatenate(WT_09_sat)"
   ]
  },
  {
   "cell_type": "code",
   "execution_count": 36,
   "metadata": {
    "collapsed": true
   },
   "outputs": [],
   "source": [
    "%autoreload"
   ]
  },
  {
   "cell_type": "code",
   "execution_count": 37,
   "metadata": {
    "collapsed": false
   },
   "outputs": [
    {
     "ename": "ValueError",
     "evalue": "operands could not be broadcast together with shapes (5,) (72,) ",
     "output_type": "error",
     "traceback": [
      "\u001b[0;31m---------------------------------------------------------------------------\u001b[0m",
      "\u001b[0;31mValueError\u001b[0m                                Traceback (most recent call last)",
      "\u001b[0;32m<ipython-input-37-c4b5dbffbc04>\u001b[0m in \u001b[0;36m<module>\u001b[0;34m()\u001b[0m\n\u001b[0;32m----> 1\u001b[0;31m \u001b[0mres_wt09\u001b[0m \u001b[0;34m=\u001b[0m \u001b[0moptimize\u001b[0m\u001b[0;34m.\u001b[0m\u001b[0mleast_squares\u001b[0m\u001b[0;34m(\u001b[0m\u001b[0mmodels\u001b[0m\u001b[0;34m.\u001b[0m\u001b[0mwyman_sp\u001b[0m\u001b[0;34m,\u001b[0m\u001b[0mguess\u001b[0m\u001b[0;34m,\u001b[0m\u001b[0mbounds\u001b[0m\u001b[0;34m=\u001b[0m\u001b[0mbound1\u001b[0m\u001b[0;34m,\u001b[0m\u001b[0margs\u001b[0m\u001b[0;34m=\u001b[0m\u001b[0;34m(\u001b[0m\u001b[0mWT_09_lig\u001b[0m\u001b[0;34m,\u001b[0m\u001b[0mWT_09_sat\u001b[0m\u001b[0;34m,\u001b[0m\u001b[0mWT_09_rtot\u001b[0m\u001b[0;34m)\u001b[0m\u001b[0;34m)\u001b[0m\u001b[0;34m\u001b[0m\u001b[0m\n\u001b[0m",
      "\u001b[0;32m/Users/michael/miniconda3/envs/fitter/lib/python3.5/site-packages/scipy/optimize/_lsq/least_squares.py\u001b[0m in \u001b[0;36mleast_squares\u001b[0;34m(fun, x0, jac, bounds, method, ftol, xtol, gtol, x_scale, loss, f_scale, diff_step, tr_solver, tr_options, jac_sparsity, max_nfev, verbose, args, kwargs)\u001b[0m\n\u001b[1;32m    767\u001b[0m         \u001b[0mx0\u001b[0m \u001b[0;34m=\u001b[0m \u001b[0mmake_strictly_feasible\u001b[0m\u001b[0;34m(\u001b[0m\u001b[0mx0\u001b[0m\u001b[0;34m,\u001b[0m \u001b[0mlb\u001b[0m\u001b[0;34m,\u001b[0m \u001b[0mub\u001b[0m\u001b[0;34m)\u001b[0m\u001b[0;34m\u001b[0m\u001b[0m\n\u001b[1;32m    768\u001b[0m \u001b[0;34m\u001b[0m\u001b[0m\n\u001b[0;32m--> 769\u001b[0;31m     \u001b[0mf0\u001b[0m \u001b[0;34m=\u001b[0m \u001b[0mfun_wrapped\u001b[0m\u001b[0;34m(\u001b[0m\u001b[0mx0\u001b[0m\u001b[0;34m)\u001b[0m\u001b[0;34m\u001b[0m\u001b[0m\n\u001b[0m\u001b[1;32m    770\u001b[0m \u001b[0;34m\u001b[0m\u001b[0m\n\u001b[1;32m    771\u001b[0m     \u001b[0;32mif\u001b[0m \u001b[0mf0\u001b[0m\u001b[0;34m.\u001b[0m\u001b[0mndim\u001b[0m \u001b[0;34m!=\u001b[0m \u001b[0;36m1\u001b[0m\u001b[0;34m:\u001b[0m\u001b[0;34m\u001b[0m\u001b[0m\n",
      "\u001b[0;32m/Users/michael/miniconda3/envs/fitter/lib/python3.5/site-packages/scipy/optimize/_lsq/least_squares.py\u001b[0m in \u001b[0;36mfun_wrapped\u001b[0;34m(x)\u001b[0m\n\u001b[1;32m    762\u001b[0m \u001b[0;34m\u001b[0m\u001b[0m\n\u001b[1;32m    763\u001b[0m     \u001b[0;32mdef\u001b[0m \u001b[0mfun_wrapped\u001b[0m\u001b[0;34m(\u001b[0m\u001b[0mx\u001b[0m\u001b[0;34m)\u001b[0m\u001b[0;34m:\u001b[0m\u001b[0;34m\u001b[0m\u001b[0m\n\u001b[0;32m--> 764\u001b[0;31m         \u001b[0;32mreturn\u001b[0m \u001b[0mnp\u001b[0m\u001b[0;34m.\u001b[0m\u001b[0matleast_1d\u001b[0m\u001b[0;34m(\u001b[0m\u001b[0mfun\u001b[0m\u001b[0;34m(\u001b[0m\u001b[0mx\u001b[0m\u001b[0;34m,\u001b[0m \u001b[0;34m*\u001b[0m\u001b[0margs\u001b[0m\u001b[0;34m,\u001b[0m \u001b[0;34m**\u001b[0m\u001b[0mkwargs\u001b[0m\u001b[0;34m)\u001b[0m\u001b[0;34m)\u001b[0m\u001b[0;34m\u001b[0m\u001b[0m\n\u001b[0m\u001b[1;32m    765\u001b[0m \u001b[0;34m\u001b[0m\u001b[0m\n\u001b[1;32m    766\u001b[0m     \u001b[0;32mif\u001b[0m \u001b[0mmethod\u001b[0m \u001b[0;34m==\u001b[0m \u001b[0;34m'trf'\u001b[0m\u001b[0;34m:\u001b[0m\u001b[0;34m\u001b[0m\u001b[0m\n",
      "\u001b[0;32m/Users/michael/thesis2.0/ipythes/working_jan17/simulated_sets/mods/models.py\u001b[0m in \u001b[0;36mwyman_sp\u001b[0;34m(parm, lig, data, rtot, eps)\u001b[0m\n\u001b[1;32m     44\u001b[0m     rfree = (((-1 - k11*ligc)) + \\\n\u001b[1;32m     45\u001b[0m     (np.sqrt(np.concatenate((np.square((1 + k11*ligc)) + \\\n\u001b[0;32m---> 46\u001b[0;31m     8.*l20*rtot*(1 + k21*ligc + k21*k22*(np.square(ligc)))))))) \\\n\u001b[0m\u001b[1;32m     47\u001b[0m     \u001b[0;34m/\u001b[0m \u001b[0;34m(\u001b[0m\u001b[0;36m4\u001b[0m\u001b[0;34m*\u001b[0m\u001b[0ml20\u001b[0m\u001b[0;34m*\u001b[0m\u001b[0;34m(\u001b[0m\u001b[0;36m1\u001b[0m \u001b[0;34m+\u001b[0m \u001b[0mk21\u001b[0m\u001b[0;34m*\u001b[0m\u001b[0mligc\u001b[0m \u001b[0;34m+\u001b[0m \u001b[0mk21\u001b[0m\u001b[0;34m*\u001b[0m\u001b[0mk22\u001b[0m\u001b[0;34m*\u001b[0m\u001b[0;34m(\u001b[0m\u001b[0mnp\u001b[0m\u001b[0;34m.\u001b[0m\u001b[0msquare\u001b[0m\u001b[0;34m(\u001b[0m\u001b[0mligc\u001b[0m\u001b[0;34m)\u001b[0m\u001b[0;34m)\u001b[0m\u001b[0;34m)\u001b[0m\u001b[0;34m)\u001b[0m\u001b[0;34m\u001b[0m\u001b[0m\n\u001b[1;32m     48\u001b[0m \u001b[0;34m\u001b[0m\u001b[0m\n",
      "\u001b[0;31mValueError\u001b[0m: operands could not be broadcast together with shapes (5,) (72,) "
     ]
    }
   ],
   "source": [
    "res_wt09 = optimize.least_squares(models.wyman_sp,guess,bounds=bound1,args=(WT_09_lig,WT_09_sat,WT_09_rtot))"
   ]
  },
  {
   "cell_type": "code",
   "execution_count": 38,
   "metadata": {
    "collapsed": true
   },
   "outputs": [],
   "source": [
    "%autoreload"
   ]
  },
  {
   "cell_type": "code",
   "execution_count": 39,
   "metadata": {
    "collapsed": true
   },
   "outputs": [],
   "source": [
    "res_wt09 = optimize.least_squares(models.wyman_sp,guess,bounds=bound1,args=(WT_09_lig,WT_09_sat,WT_09_rtot))"
   ]
  },
  {
   "cell_type": "code",
   "execution_count": 49,
   "metadata": {
    "collapsed": true
   },
   "outputs": [],
   "source": [
    "ligs = [ligtools.dilser() for i in range(6)]"
   ]
  },
  {
   "cell_type": "code",
   "execution_count": 54,
   "metadata": {
    "collapsed": false
   },
   "outputs": [
    {
     "data": {
      "text/plain": [
       "array([  1.00000000e-03,   4.00000000e-03,   8.00000000e-03,\n",
       "         1.60000000e-02,   3.20000000e-02,   6.40000000e-02,\n",
       "         1.28000000e-01,   2.56000000e-01,   5.12000000e-01,\n",
       "         1.02400000e+00,   2.04800000e+00,   4.09600000e+00,\n",
       "         8.19200000e+00,   1.63840000e+01,   3.27680000e+01,\n",
       "         6.55360000e+01,   1.31072000e+02])"
      ]
     },
     "execution_count": 54,
     "metadata": {},
     "output_type": "execute_result"
    }
   ],
   "source": [
    "np.delete(ligs[0],1)"
   ]
  },
  {
   "cell_type": "code",
   "execution_count": 55,
   "metadata": {
    "collapsed": false
   },
   "outputs": [
    {
     "data": {
      "text/plain": [
       "array([  1.00000000e-03,   2.00000000e-03,   4.00000000e-03,\n",
       "         8.00000000e-03,   1.60000000e-02,   3.20000000e-02,\n",
       "         6.40000000e-02,   1.28000000e-01,   2.56000000e-01,\n",
       "         5.12000000e-01,   1.02400000e+00,   2.04800000e+00,\n",
       "         4.09600000e+00,   8.19200000e+00,   1.63840000e+01,\n",
       "         3.27680000e+01,   6.55360000e+01,   1.31072000e+02])"
      ]
     },
     "execution_count": 55,
     "metadata": {},
     "output_type": "execute_result"
    }
   ],
   "source": [
    "ligs[0]"
   ]
  },
  {
   "cell_type": "code",
   "execution_count": 56,
   "metadata": {
    "collapsed": true
   },
   "outputs": [],
   "source": [
    "ligs[0] = np.delete(ligs[0],1)"
   ]
  },
  {
   "cell_type": "code",
   "execution_count": 57,
   "metadata": {
    "collapsed": false
   },
   "outputs": [
    {
     "data": {
      "text/plain": [
       "array([  1.00000000e-03,   4.00000000e-03,   8.00000000e-03,\n",
       "         1.60000000e-02,   3.20000000e-02,   6.40000000e-02,\n",
       "         1.28000000e-01,   2.56000000e-01,   5.12000000e-01,\n",
       "         1.02400000e+00,   2.04800000e+00,   4.09600000e+00,\n",
       "         8.19200000e+00,   1.63840000e+01,   3.27680000e+01,\n",
       "         6.55360000e+01,   1.31072000e+02])"
      ]
     },
     "execution_count": 57,
     "metadata": {},
     "output_type": "execute_result"
    }
   ],
   "source": [
    "ligs[0]"
   ]
  },
  {
   "cell_type": "code",
   "execution_count": 87,
   "metadata": {
    "collapsed": false
   },
   "outputs": [],
   "source": [
    "arrarr = np.array(ligs)"
   ]
  },
  {
   "cell_type": "code",
   "execution_count": 60,
   "metadata": {
    "collapsed": true
   },
   "outputs": [],
   "source": [
    "ligs2 = [ligtools.dilser() for i in range(6)]"
   ]
  },
  {
   "cell_type": "code",
   "execution_count": 64,
   "metadata": {
    "collapsed": false
   },
   "outputs": [
    {
     "data": {
      "text/plain": [
       "array([  1.00000000e-03,   2.00000000e-03,   4.00000000e-03,\n",
       "         8.00000000e-03,   1.60000000e-02,   3.20000000e-02,\n",
       "         6.40000000e-02,   1.28000000e-01,   2.56000000e-01,\n",
       "         5.12000000e-01,   1.02400000e+00,   2.04800000e+00,\n",
       "         4.09600000e+00,   8.19200000e+00,   1.63840000e+01,\n",
       "         3.27680000e+01,   6.55360000e+01,   1.31072000e+02])"
      ]
     },
     "execution_count": 64,
     "metadata": {},
     "output_type": "execute_result"
    }
   ],
   "source": [
    "ligs2[0]"
   ]
  },
  {
   "cell_type": "code",
   "execution_count": 66,
   "metadata": {
    "collapsed": false
   },
   "outputs": [],
   "source": [
    "ligsO = np.asarray(ligs2,dtype='O')"
   ]
  },
  {
   "cell_type": "code",
   "execution_count": 69,
   "metadata": {
    "collapsed": false
   },
   "outputs": [
    {
     "data": {
      "text/plain": [
       "(6, 18)"
      ]
     },
     "execution_count": 69,
     "metadata": {},
     "output_type": "execute_result"
    }
   ],
   "source": [
    "ligsO.shape"
   ]
  },
  {
   "cell_type": "code",
   "execution_count": 72,
   "metadata": {
    "collapsed": false
   },
   "outputs": [],
   "source": [
    "b = np.array(ligs2)"
   ]
  },
  {
   "cell_type": "code",
   "execution_count": 77,
   "metadata": {
    "collapsed": false
   },
   "outputs": [
    {
     "data": {
      "text/plain": [
       "(108,)"
      ]
     },
     "execution_count": 77,
     "metadata": {},
     "output_type": "execute_result"
    }
   ],
   "source": [
    "b.flatten().shape"
   ]
  },
  {
   "cell_type": "code",
   "execution_count": 80,
   "metadata": {
    "collapsed": false
   },
   "outputs": [
    {
     "data": {
      "text/plain": [
       "array([0.001, 0.002, 0.004, 0.008, 0.016, 0.032, 0.064, 0.128, 0.256,\n",
       "       0.512, 1.024, 2.048, 4.096, 8.192, 16.384, 32.768, 65.536, 131.072,\n",
       "       0.001, 0.002, 0.004, 0.008, 0.016, 0.032, 0.064, 0.128, 0.256,\n",
       "       0.512, 1.024, 2.048, 4.096, 8.192, 16.384, 32.768, 65.536, 131.072,\n",
       "       0.001, 0.002, 0.004, 0.008, 0.016, 0.032, 0.064, 0.128, 0.256,\n",
       "       0.512, 1.024, 2.048, 4.096, 8.192, 16.384, 32.768, 65.536, 131.072,\n",
       "       0.001, 0.002, 0.004, 0.008, 0.016, 0.032, 0.064, 0.128, 0.256,\n",
       "       0.512, 1.024, 2.048, 4.096, 8.192, 16.384, 32.768, 65.536, 131.072,\n",
       "       0.001, 0.002, 0.004, 0.008, 0.016, 0.032, 0.064, 0.128, 0.256,\n",
       "       0.512, 1.024, 2.048, 4.096, 8.192, 16.384, 32.768, 65.536, 131.072,\n",
       "       0.001, 0.002, 0.004, 0.008, 0.016, 0.032, 0.064, 0.128, 0.256,\n",
       "       0.512, 1.024, 2.048, 4.096, 8.192, 16.384, 32.768, 65.536, 131.072], dtype=object)"
      ]
     },
     "execution_count": 80,
     "metadata": {},
     "output_type": "execute_result"
    }
   ],
   "source": [
    "ligsO.ravel()"
   ]
  },
  {
   "cell_type": "code",
   "execution_count": 83,
   "metadata": {
    "collapsed": false
   },
   "outputs": [],
   "source": [
    "b = np.arange(3)"
   ]
  },
  {
   "cell_type": "code",
   "execution_count": 84,
   "metadata": {
    "collapsed": false
   },
   "outputs": [
    {
     "data": {
      "text/plain": [
       "(3,)"
      ]
     },
     "execution_count": 84,
     "metadata": {},
     "output_type": "execute_result"
    }
   ],
   "source": [
    "b.shape"
   ]
  },
  {
   "cell_type": "code",
   "execution_count": 86,
   "metadata": {
    "collapsed": false
   },
   "outputs": [
    {
     "ename": "TypeError",
     "evalue": "unsupported operand type(s) for -: 'list' and 'int'",
     "output_type": "error",
     "traceback": [
      "\u001b[0;31m---------------------------------------------------------------------------\u001b[0m",
      "\u001b[0;31mTypeError\u001b[0m                                 Traceback (most recent call last)",
      "\u001b[0;32m<ipython-input-86-75dbbfa3ac1c>\u001b[0m in \u001b[0;36m<module>\u001b[0;34m()\u001b[0m\n\u001b[0;32m----> 1\u001b[0;31m \u001b[0mnp\u001b[0m\u001b[0;34m.\u001b[0m\u001b[0marange\u001b[0m\u001b[0;34m(\u001b[0m\u001b[0mligs\u001b[0m\u001b[0;34m)\u001b[0m\u001b[0;34m\u001b[0m\u001b[0m\n\u001b[0m",
      "\u001b[0;31mTypeError\u001b[0m: unsupported operand type(s) for -: 'list' and 'int'"
     ]
    }
   ],
   "source": [
    "np.arange(ligs)"
   ]
  },
  {
   "cell_type": "code",
   "execution_count": 90,
   "metadata": {
    "collapsed": false
   },
   "outputs": [
    {
     "data": {
      "text/plain": [
       "6"
      ]
     },
     "execution_count": 90,
     "metadata": {},
     "output_type": "execute_result"
    }
   ],
   "source": [
    "arrarr.size"
   ]
  },
  {
   "cell_type": "code",
   "execution_count": 92,
   "metadata": {
    "collapsed": false
   },
   "outputs": [],
   "source": [
    "flatarr = np.concatenate(arrarr)"
   ]
  },
  {
   "cell_type": "code",
   "execution_count": 93,
   "metadata": {
    "collapsed": false
   },
   "outputs": [
    {
     "ename": "ValueError",
     "evalue": "operands could not be broadcast together with shapes (6,) (107,) ",
     "output_type": "error",
     "traceback": [
      "\u001b[0;31m---------------------------------------------------------------------------\u001b[0m",
      "\u001b[0;31mValueError\u001b[0m                                Traceback (most recent call last)",
      "\u001b[0;32m<ipython-input-93-584666785bb7>\u001b[0m in \u001b[0;36m<module>\u001b[0;34m()\u001b[0m\n\u001b[0;32m----> 1\u001b[0;31m \u001b[0marrarr\u001b[0m\u001b[0;34m*\u001b[0m\u001b[0mflatarr\u001b[0m\u001b[0;34m\u001b[0m\u001b[0m\n\u001b[0m",
      "\u001b[0;31mValueError\u001b[0m: operands could not be broadcast together with shapes (6,) (107,) "
     ]
    }
   ],
   "source": [
    "arrarr*flatarr"
   ]
  },
  {
   "cell_type": "code",
   "execution_count": 97,
   "metadata": {
    "collapsed": false
   },
   "outputs": [],
   "source": [
    "irreg = np.array([np.array([0,1,2,]),np.array([0,1,2,3])])"
   ]
  },
  {
   "cell_type": "code",
   "execution_count": 96,
   "metadata": {
    "collapsed": true
   },
   "outputs": [],
   "source": [
    "things = np.array([1,2])"
   ]
  },
  {
   "cell_type": "code",
   "execution_count": 98,
   "metadata": {
    "collapsed": false
   },
   "outputs": [
    {
     "data": {
      "text/plain": [
       "array([array([0, 1, 2]), array([0, 2, 4, 6])], dtype=object)"
      ]
     },
     "execution_count": 98,
     "metadata": {},
     "output_type": "execute_result"
    }
   ],
   "source": [
    "things*irreg"
   ]
  },
  {
   "cell_type": "code",
   "execution_count": 99,
   "metadata": {
    "collapsed": false
   },
   "outputs": [
    {
     "data": {
      "text/plain": [
       "array([0, 1, 2, 0, 2, 4, 6])"
      ]
     },
     "execution_count": 99,
     "metadata": {},
     "output_type": "execute_result"
    }
   ],
   "source": [
    "np.concatenate(things*irreg)"
   ]
  },
  {
   "cell_type": "code",
   "execution_count": 107,
   "metadata": {
    "collapsed": false
   },
   "outputs": [],
   "source": [
    "reg = np.array([np.array([0,1,2,3],dtype='O'),np.array([0,1,2,3],dtype='O')],dtype='O')"
   ]
  },
  {
   "cell_type": "code",
   "execution_count": 108,
   "metadata": {
    "collapsed": false
   },
   "outputs": [
    {
     "data": {
      "text/plain": [
       "array([[0, 1, 2, 3],\n",
       "       [0, 1, 2, 3]], dtype=object)"
      ]
     },
     "execution_count": 108,
     "metadata": {},
     "output_type": "execute_result"
    }
   ],
   "source": [
    "reg."
   ]
  },
  {
   "cell_type": "code",
   "execution_count": 110,
   "metadata": {
    "collapsed": false
   },
   "outputs": [
    {
     "data": {
      "text/plain": [
       "(2,)"
      ]
     },
     "execution_count": 110,
     "metadata": {},
     "output_type": "execute_result"
    }
   ],
   "source": [
    "things.shape"
   ]
  },
  {
   "cell_type": "code",
   "execution_count": 112,
   "metadata": {
    "collapsed": false
   },
   "outputs": [
    {
     "data": {
      "text/plain": [
       "(2, 4)"
      ]
     },
     "execution_count": 112,
     "metadata": {},
     "output_type": "execute_result"
    }
   ],
   "source": [
    "reg.shape"
   ]
  },
  {
   "cell_type": "code",
   "execution_count": 117,
   "metadata": {
    "collapsed": false
   },
   "outputs": [],
   "source": [
    "things2 = things[:,np.newaxis]"
   ]
  },
  {
   "cell_type": "code",
   "execution_count": 118,
   "metadata": {
    "collapsed": false
   },
   "outputs": [
    {
     "data": {
      "text/plain": [
       "(2, 1)"
      ]
     },
     "execution_count": 118,
     "metadata": {},
     "output_type": "execute_result"
    }
   ],
   "source": [
    "things2.shape"
   ]
  },
  {
   "cell_type": "code",
   "execution_count": 119,
   "metadata": {
    "collapsed": false
   },
   "outputs": [
    {
     "data": {
      "text/plain": [
       "array([[0, 1, 2, 3],\n",
       "       [0, 2, 4, 6]], dtype=object)"
      ]
     },
     "execution_count": 119,
     "metadata": {},
     "output_type": "execute_result"
    }
   ],
   "source": [
    "things2*reg"
   ]
  },
  {
   "cell_type": "code",
   "execution_count": 125,
   "metadata": {
    "collapsed": false
   },
   "outputs": [
    {
     "data": {
      "text/plain": [
       "array([[ array([  2.51312309e-05,   4.25184446e-05,   1.07367895e-04,\n",
       "         1.81858209e-04,   2.31988557e-04,   3.17345843e-04,\n",
       "         4.35556800e-04,   4.58853743e-04,   5.49094659e-04,\n",
       "         5.38332924e-04,   5.71407550e-04,   5.41227249e-04,\n",
       "         6.04603018e-04,   6.03593055e-04])],\n",
       "       [ array([  6.01426277e-05,   1.19386002e-04,   2.15503054e-04,\n",
       "         3.90414197e-04,   5.48866474e-04,   6.75537322e-04,\n",
       "         9.12919997e-04,   1.16343124e-03,   1.65050700e-03,\n",
       "         1.75112526e-03,   1.96241005e-03,   2.27308537e-03,\n",
       "         2.27938253e-03,   2.45429373e-03,   2.55497990e-03])],\n",
       "       [ array([  9.89766042e-05,   2.22743623e-04,   2.36591336e-04,\n",
       "         7.74466494e-04,   1.09526112e-03,   1.46857342e-03,\n",
       "         1.90916988e-03,   2.57558151e-03,   3.29577495e-03,\n",
       "         4.21351277e-03,   5.13257196e-03,   5.36022547e-03,\n",
       "         5.50898673e-03,   6.04393187e-03,   6.32507976e-03])],\n",
       "       [ array([ 0.0001487 ,  0.00085771,  0.00149189,  0.00243768,  0.00340886,\n",
       "        0.00430139,  0.00595054,  0.00720671,  0.00919434,  0.0094072 ,\n",
       "        0.01058605,  0.01106019,  0.01145442,  0.01130273])],\n",
       "       [ array([ 0.00074511,  0.00169277,  0.00286491,  0.00481979,  0.00688643,\n",
       "        0.01123384,  0.01637532,  0.02356866,  0.02927578,  0.03589906,\n",
       "        0.03875975,  0.03821479,  0.04791635,  0.05352107])]], dtype=object)"
      ]
     },
     "execution_count": 125,
     "metadata": {},
     "output_type": "execute_result"
    }
   ],
   "source": [
    "WT_09_sat[:,None]*WT_09_rtot[:,None]"
   ]
  },
  {
   "cell_type": "code",
   "execution_count": 128,
   "metadata": {
    "collapsed": false
   },
   "outputs": [
    {
     "data": {
      "text/plain": [
       "array([  2.51312309e-05,   4.25184446e-05,   1.07367895e-04,\n",
       "         1.81858209e-04,   2.31988557e-04,   3.17345843e-04,\n",
       "         4.35556800e-04,   4.58853743e-04,   5.49094659e-04,\n",
       "         5.38332924e-04,   5.71407550e-04,   5.41227249e-04,\n",
       "         6.04603018e-04,   6.03593055e-04,   6.01426277e-05,\n",
       "         1.19386002e-04,   2.15503054e-04,   3.90414197e-04,\n",
       "         5.48866474e-04,   6.75537322e-04,   9.12919997e-04,\n",
       "         1.16343124e-03,   1.65050700e-03,   1.75112526e-03,\n",
       "         1.96241005e-03,   2.27308537e-03,   2.27938253e-03,\n",
       "         2.45429373e-03,   2.55497990e-03,   9.89766042e-05,\n",
       "         2.22743623e-04,   2.36591336e-04,   7.74466494e-04,\n",
       "         1.09526112e-03,   1.46857342e-03,   1.90916988e-03,\n",
       "         2.57558151e-03,   3.29577495e-03,   4.21351277e-03,\n",
       "         5.13257196e-03,   5.36022547e-03,   5.50898673e-03,\n",
       "         6.04393187e-03,   6.32507976e-03,   1.48703347e-04,\n",
       "         8.57708857e-04,   1.49188591e-03,   2.43767841e-03,\n",
       "         3.40886479e-03,   4.30138521e-03,   5.95053988e-03,\n",
       "         7.20670579e-03,   9.19433688e-03,   9.40719658e-03,\n",
       "         1.05860505e-02,   1.10601883e-02,   1.14544185e-02,\n",
       "         1.13027310e-02,   7.45108226e-04,   1.69276696e-03,\n",
       "         2.86490973e-03,   4.81979380e-03,   6.88642629e-03,\n",
       "         1.12338426e-02,   1.63753207e-02,   2.35686644e-02,\n",
       "         2.92757846e-02,   3.58990569e-02,   3.87597484e-02,\n",
       "         3.82147871e-02,   4.79163455e-02,   5.35210699e-02])"
      ]
     },
     "execution_count": 128,
     "metadata": {},
     "output_type": "execute_result"
    }
   ],
   "source": [
    "np.concatenate(np.concatenate(WT_09_sat[:,None]*WT_09_rtot[:,None]))"
   ]
  },
  {
   "cell_type": "code",
   "execution_count": 130,
   "metadata": {
    "collapsed": false
   },
   "outputs": [
    {
     "data": {
      "text/plain": [
       "array([[ 0.0017667],\n",
       "       [ 0.007632 ],\n",
       "       [ 0.01929  ],\n",
       "       [ 0.03789  ],\n",
       "       [ 0.16527  ]])"
      ]
     },
     "execution_count": 130,
     "metadata": {},
     "output_type": "execute_result"
    }
   ],
   "source": [
    "3*WT_09_rtot[:,None]"
   ]
  },
  {
   "cell_type": "code",
   "execution_count": null,
   "metadata": {
    "collapsed": true
   },
   "outputs": [],
   "source": []
  }
 ],
 "metadata": {
  "anaconda-cloud": {},
  "kernelspec": {
   "display_name": "Python [conda env:fitter]",
   "language": "python",
   "name": "conda-env-fitter-py"
  },
  "language_info": {
   "codemirror_mode": {
    "name": "ipython",
    "version": 3
   },
   "file_extension": ".py",
   "mimetype": "text/x-python",
   "name": "python",
   "nbconvert_exporter": "python",
   "pygments_lexer": "ipython3",
   "version": "3.5.2"
  }
 },
 "nbformat": 4,
 "nbformat_minor": 1
}
