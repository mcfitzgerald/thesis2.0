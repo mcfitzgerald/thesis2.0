{
 "cells": [
  {
   "cell_type": "code",
   "execution_count": 1,
   "metadata": {
    "collapsed": true
   },
   "outputs": [],
   "source": [
    "import numpy as np\n",
    "import matplotlib.pyplot as plt\n",
    "import models\n",
    "import ligtools\n",
    "import corner\n",
    "from scipy import optimize\n",
    "from Pymod import prep\n",
    "from plotter import semlog\n",
    "%matplotlib inline\n",
    "%load_ext autoreload"
   ]
  },
  {
   "cell_type": "code",
   "execution_count": 2,
   "metadata": {
    "collapsed": false
   },
   "outputs": [
    {
     "name": "stdout",
     "output_type": "stream",
     "text": [
      "hootie hoo! the indices match!\n"
     ]
    }
   ],
   "source": [
    "WT_08_lbl, WT_08_rtot, WT_08_lig, WT_08_sat = prep.datprep('Data/EGFR_WT_08_Sat.csv','Data/EGFR_WT_08_Rtot.csv')"
   ]
  },
  {
   "cell_type": "code",
   "execution_count": 3,
   "metadata": {
    "collapsed": true
   },
   "outputs": [],
   "source": [
    "parmbounds = ((0.0, 0.0, 0.0, 0.0), (10.0, 10.0, 10.0, 10000.0))"
   ]
  },
  {
   "cell_type": "code",
   "execution_count": 4,
   "metadata": {
    "collapsed": true
   },
   "outputs": [],
   "source": [
    "guess = np.array([10.,10.,10.,10.])"
   ]
  },
  {
   "cell_type": "code",
   "execution_count": 5,
   "metadata": {
    "collapsed": true
   },
   "outputs": [],
   "source": [
    "res_wt08 = optimize.least_squares(models.wyman_sp,guess,bounds=parmbounds,args=(WT_08_lig,WT_08_sat,WT_08_rtot))"
   ]
  },
  {
   "cell_type": "code",
   "execution_count": 19,
   "metadata": {
    "collapsed": true
   },
   "outputs": [],
   "source": [
    "%autoreload"
   ]
  },
  {
   "cell_type": "code",
   "execution_count": 10,
   "metadata": {
    "collapsed": false
   },
   "outputs": [
    {
     "ename": "SyntaxError",
     "evalue": "invalid syntax (<ipython-input-10-293361e888ae>, line 1)",
     "output_type": "error",
     "traceback": [
      "\u001b[0;36m  File \u001b[0;32m\"<ipython-input-10-293361e888ae>\"\u001b[0;36m, line \u001b[0;32m1\u001b[0m\n\u001b[0;31m    res_wt08 = optimize.least_squares(models.wyman_sp_relwt,guess,bounds=parmbounds,args=(WT_08_lig,WT_08_sat,WT_08_rtot,wt='1'))\u001b[0m\n\u001b[0m                                                                                                                           ^\u001b[0m\n\u001b[0;31mSyntaxError\u001b[0m\u001b[0;31m:\u001b[0m invalid syntax\n"
     ]
    }
   ],
   "source": [
    "res_wt08 = optimize.least_squares(models.wyman_sp_relwt,guess,bounds=parmbounds,args=(WT_08_lig,WT_08_sat,WT_08_rtot,wt='1'))"
   ]
  },
  {
   "cell_type": "code",
   "execution_count": 13,
   "metadata": {
    "collapsed": false
   },
   "outputs": [
    {
     "data": {
      "text/plain": [
       "array([ 0.36947118,  0.43499095,  0.52587831,  0.49135265,  0.50231751,\n",
       "        0.41310762,  0.37911947,  0.36598692,  0.18223184,  0.11246692,\n",
       "        0.10083508,  0.07628676,  0.07905449,  0.04246748, -0.00228269,\n",
       "        0.59941552,  0.56986804,  0.6017247 ,  0.56266784,  0.53287079,\n",
       "        0.43854272,  0.36500068,  0.29080769,  0.24773467,  0.15154108,\n",
       "        0.08992963,  0.06515823,  0.0251175 ,  0.52434964,  0.65700005,\n",
       "        0.63952117,  0.48785629,  0.38814254,  0.33112425,  0.2535879 ,\n",
       "        0.14649786,  0.09423136,  0.05917976,  0.0731531 ,  0.01752947,\n",
       "        0.02313479,  0.57453451,  0.63208527,  0.60605643,  0.48666691,\n",
       "        0.41306938,  0.33778568,  0.26296944,  0.18257211,  0.09883125,\n",
       "        0.13032936,  0.06683454,  0.03099678,  0.05019309,  0.57446707,\n",
       "        0.60134   ,  0.60293597,  0.51516889,  0.46012887,  0.42077089,\n",
       "        0.33401266,  0.24528291,  0.20500869,  0.17231858,  0.06051239,\n",
       "        0.06461283,  0.42477129,  0.6110051 ,  0.56882262,  0.58985509,\n",
       "        0.56544314,  0.55487159,  0.47763133,  0.41163651,  0.35346833,\n",
       "        0.29381197,  0.23492427,  0.19325133,  0.14404899,  0.11391023,\n",
       "        0.03335456])"
      ]
     },
     "execution_count": 13,
     "metadata": {},
     "output_type": "execute_result"
    }
   ],
   "source": [
    "models.wyman_sp_relwt(guess,WT_08_lig,WT_08_sat,WT_08_rtot)"
   ]
  },
  {
   "cell_type": "code",
   "execution_count": 14,
   "metadata": {
    "collapsed": false
   },
   "outputs": [
    {
     "data": {
      "text/plain": [
       "array([ 0.02697722,  0.05621631,  0.12374179,  0.18595996,  0.2448719 ,\n",
       "        0.24402519,  0.26935088,  0.29245914,  0.15928084,  0.10303006,\n",
       "        0.09571781,  0.07351487,  0.07723813,  0.04195771, -0.00226871,\n",
       "        0.04581979,  0.07886794,  0.14525929,  0.22288062,  0.2635661 ,\n",
       "        0.26325891,  0.26241628,  0.23303757,  0.21698332,  0.1438421 ,\n",
       "        0.08662809,  0.06392378,  0.02482123,  0.04862767,  0.19892815,\n",
       "        0.25604614,  0.30086743,  0.28594087,  0.27370637,  0.22712549,\n",
       "        0.1365795 ,  0.09040101,  0.05744718,  0.0717778 ,  0.01736084,\n",
       "        0.02299807,  0.09860281,  0.19166794,  0.24278929,  0.28664899,\n",
       "        0.29145792,  0.26924196,  0.21720996,  0.16739257,  0.09381841,\n",
       "        0.1256005 ,  0.06527202,  0.03063206,  0.0498921 ,  0.12719434,\n",
       "        0.22642202,  0.29816935,  0.30489273,  0.32996737,  0.3386389 ,\n",
       "        0.29468917,  0.22603841,  0.19525638,  0.16646632,  0.05944477,\n",
       "        0.06388423,  0.02688108,  0.07231403,  0.12175345,  0.21865005,\n",
       "        0.27807119,  0.33125478,  0.34694655,  0.33423418,  0.31280979,\n",
       "        0.27333019,  0.22421308,  0.18691568,  0.14104745,  0.11269793,\n",
       "        0.03317549])"
      ]
     },
     "execution_count": 14,
     "metadata": {},
     "output_type": "execute_result"
    }
   ],
   "source": [
    "models.wyman_sp(guess,WT_08_lig,WT_08_sat,WT_08_rtot)"
   ]
  },
  {
   "cell_type": "code",
   "execution_count": 15,
   "metadata": {
    "collapsed": true
   },
   "outputs": [],
   "source": [
    "res_wt08_rel = optimize.least_squares(models.wyman_sp_relwt,guess,bounds=parmbounds,args=(WT_08_lig,WT_08_sat,WT_08_rtot))"
   ]
  },
  {
   "cell_type": "code",
   "execution_count": 16,
   "metadata": {
    "collapsed": false
   },
   "outputs": [
    {
     "data": {
      "text/plain": [
       "array([ 10.,  10.,  10.,  10.])"
      ]
     },
     "execution_count": 16,
     "metadata": {},
     "output_type": "execute_result"
    }
   ],
   "source": [
    "guess"
   ]
  },
  {
   "cell_type": "code",
   "execution_count": 17,
   "metadata": {
    "collapsed": false
   },
   "outputs": [
    {
     "data": {
      "text/plain": [
       "array([   3.7952394 ,    5.44199464,    0.19623173,  170.08335415])"
      ]
     },
     "execution_count": 17,
     "metadata": {},
     "output_type": "execute_result"
    }
   ],
   "source": [
    "res_wt08.x"
   ]
  },
  {
   "cell_type": "code",
   "execution_count": 18,
   "metadata": {
    "collapsed": false
   },
   "outputs": [
    {
     "data": {
      "text/plain": [
       "array([  9.31002805e+00,   6.65787710e+00,   4.62977236e-01,\n",
       "         1.00000000e+04])"
      ]
     },
     "execution_count": 18,
     "metadata": {},
     "output_type": "execute_result"
    }
   ],
   "source": [
    "res_wt08_rel.x"
   ]
  },
  {
   "cell_type": "code",
   "execution_count": 21,
   "metadata": {
    "collapsed": true
   },
   "outputs": [],
   "source": [
    "res_wt08_rel_inv = optimize.least_squares(models.wyman_sp_relwt,guess,bounds=parmbounds,args=(WT_08_lig,WT_08_sat,WT_08_rtot))"
   ]
  },
  {
   "cell_type": "code",
   "execution_count": 22,
   "metadata": {
    "collapsed": false
   },
   "outputs": [
    {
     "data": {
      "text/plain": [
       "array([   3.79140629,    5.48493795,    0.18165818,  164.568746  ])"
      ]
     },
     "execution_count": 22,
     "metadata": {},
     "output_type": "execute_result"
    }
   ],
   "source": [
    "res_wt08_rel_inv.x"
   ]
  },
  {
   "cell_type": "code",
   "execution_count": 23,
   "metadata": {
    "collapsed": false
   },
   "outputs": [
    {
     "data": {
      "text/plain": [
       "array([  9.31002805e+00,   6.65787710e+00,   4.62977236e-01,\n",
       "         1.00000000e+04])"
      ]
     },
     "execution_count": 23,
     "metadata": {},
     "output_type": "execute_result"
    }
   ],
   "source": [
    "res_wt08_rel.x"
   ]
  },
  {
   "cell_type": "code",
   "execution_count": 34,
   "metadata": {
    "collapsed": false
   },
   "outputs": [
    {
     "data": {
      "image/png": "[encoded data removed]",
      "text/plain": [
       "<matplotlib.figure.Figure at 0x1100a87b8>"
      ]
     },
     "metadata": {},
     "output_type": "display_data"
    }
   ],
   "source": [
    "models.viewf(res_wt08_rel_inv.x,WT_08_lig,WT_08_sat,WT_08_rtot)"
   ]
  },
  {
   "cell_type": "code",
   "execution_count": 35,
   "metadata": {
    "collapsed": true
   },
   "outputs": [],
   "source": [
    "%autoreload"
   ]
  },
  {
   "cell_type": "code",
   "execution_count": 36,
   "metadata": {
    "collapsed": true
   },
   "outputs": [],
   "source": [
    "res_wt08_sqrel = optimize.least_squares(models.wyman_sp_relwt,guess,bounds=parmbounds,args=(WT_08_lig,WT_08_sat,WT_08_rtot))"
   ]
  },
  {
   "cell_type": "code",
   "execution_count": 37,
   "metadata": {
    "collapsed": false
   },
   "outputs": [
    {
     "data": {
      "text/plain": [
       "array([  4.27767623e+00,   5.72953565e+00,   3.13055093e-01,\n",
       "         3.86015148e+02])"
      ]
     },
     "execution_count": 37,
     "metadata": {},
     "output_type": "execute_result"
    }
   ],
   "source": [
    "res_wt08_sqrel.x"
   ]
  },
  {
   "cell_type": "code",
   "execution_count": 39,
   "metadata": {
    "collapsed": false
   },
   "outputs": [
    {
     "data": {
      "text/plain": [
       "array([   3.7952394 ,    5.44199464,    0.19623173,  170.08335415])"
      ]
     },
     "execution_count": 39,
     "metadata": {},
     "output_type": "execute_result"
    }
   ],
   "source": [
    "res_wt08.x"
   ]
  },
  {
   "cell_type": "code",
   "execution_count": 41,
   "metadata": {
    "collapsed": false
   },
   "outputs": [],
   "source": [
    "diff = models.wyman_sp(res_wt08.x,WT_08_lig,WT_08_sat,WT_08_rtot)"
   ]
  },
  {
   "cell_type": "code",
   "execution_count": 43,
   "metadata": {
    "collapsed": false
   },
   "outputs": [
    {
     "data": {
      "text/plain": [
       "0.025250697228220931"
      ]
     },
     "execution_count": 43,
     "metadata": {},
     "output_type": "execute_result"
    }
   ],
   "source": [
    "np.sum(diff**2)"
   ]
  },
  {
   "cell_type": "code",
   "execution_count": 44,
   "metadata": {
    "collapsed": true
   },
   "outputs": [],
   "source": [
    "diff_sqrwt = models.wyman_sp(res_wt08_sqrel.x,WT_08_lig,WT_08_sat,WT_08_rtot)"
   ]
  },
  {
   "cell_type": "code",
   "execution_count": 45,
   "metadata": {
    "collapsed": false
   },
   "outputs": [
    {
     "data": {
      "text/plain": [
       "0.02664776283165456"
      ]
     },
     "execution_count": 45,
     "metadata": {},
     "output_type": "execute_result"
    }
   ],
   "source": [
    "np.sum(diff_sqrwt**2)"
   ]
  },
  {
   "cell_type": "code",
   "execution_count": 46,
   "metadata": {
    "collapsed": false
   },
   "outputs": [
    {
     "data": {
      "text/plain": [
       "array([ 0.001439,  0.002422,  0.003392,  0.002718,  0.01216 ,  0.02594 ])"
      ]
     },
     "execution_count": 46,
     "metadata": {},
     "output_type": "execute_result"
    }
   ],
   "source": [
    "WT_08_rtot"
   ]
  }
 ],
 "metadata": {
  "anaconda-cloud": {},
  "kernelspec": {
   "display_name": "Python [conda env:fitter]",
   "language": "python",
   "name": "conda-env-fitter-py"
  },
  "language_info": {
   "codemirror_mode": {
    "name": "ipython",
    "version": 3
   },
   "file_extension": ".py",
   "mimetype": "text/x-python",
   "name": "python",
   "nbconvert_exporter": "python",
   "pygments_lexer": "ipython3",
   "version": "3.5.2"
  }
 },
 "nbformat": 4,
 "nbformat_minor": 1
}
