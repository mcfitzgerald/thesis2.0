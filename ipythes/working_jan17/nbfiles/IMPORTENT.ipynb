{
 "cells": [
  {
   "cell_type": "code",
   "execution_count": 10,
   "metadata": {
    "collapsed": false
   },
   "outputs": [
    {
     "ename": "ValueError",
     "evalue": "operands could not be broadcast together with shapes (5,) (84,) ",
     "output_type": "error",
     "traceback": [
      "\u001b[0;31m---------------------------------------------------------------------------\u001b[0m",
      "\u001b[0;31mValueError\u001b[0m                                Traceback (most recent call last)",
      "\u001b[0;32m<ipython-input-10-93de13ac0643>\u001b[0m in \u001b[0;36m<module>\u001b[0;34m()\u001b[0m\n\u001b[1;32m     86\u001b[0m \u001b[0;34m\u001b[0m\u001b[0m\n\u001b[1;32m     87\u001b[0m     \u001b[0;32mreturn\u001b[0m \u001b[0mnp\u001b[0m\u001b[0;34m.\u001b[0m\u001b[0marray\u001b[0m\u001b[0;34m(\u001b[0m\u001b[0mholder\u001b[0m\u001b[0;34m)\u001b[0m\u001b[0;34m\u001b[0m\u001b[0m\n\u001b[0;32m---> 88\u001b[0;31m \u001b[0mwyman_sim\u001b[0m\u001b[0;34m(\u001b[0m\u001b[0mligset\u001b[0m\u001b[0;34m,\u001b[0m\u001b[0mrtots\u001b[0m\u001b[0;34m,\u001b[0m\u001b[0msim_parms\u001b[0m\u001b[0;34m)\u001b[0m\u001b[0;34m\u001b[0m\u001b[0m\n\u001b[0m",
      "\u001b[0;32m<ipython-input-10-93de13ac0643>\u001b[0m in \u001b[0;36mwyman_sim\u001b[0;34m(lig, rtot, parm)\u001b[0m\n\u001b[1;32m     75\u001b[0m         \u001b[0mrtotf\u001b[0m \u001b[0;34m=\u001b[0m \u001b[0mrtots\u001b[0m\u001b[0;34m\u001b[0m\u001b[0m\n\u001b[1;32m     76\u001b[0m \u001b[0;34m\u001b[0m\u001b[0m\n\u001b[0;32m---> 77\u001b[0;31m         \u001b[0mrfreetop\u001b[0m \u001b[0;34m=\u001b[0m \u001b[0;34m(\u001b[0m\u001b[0;34m(\u001b[0m\u001b[0;34m-\u001b[0m\u001b[0;36m1\u001b[0m \u001b[0;34m-\u001b[0m \u001b[0mk11\u001b[0m\u001b[0;34m*\u001b[0m\u001b[0mligf\u001b[0m\u001b[0;34m)\u001b[0m \u001b[0;34m+\u001b[0m         \u001b[0;34m(\u001b[0m\u001b[0mnp\u001b[0m\u001b[0;34m.\u001b[0m\u001b[0msqrt\u001b[0m\u001b[0;34m(\u001b[0m\u001b[0mnp\u001b[0m\u001b[0;34m.\u001b[0m\u001b[0msquare\u001b[0m\u001b[0;34m(\u001b[0m\u001b[0mnp\u001b[0m\u001b[0;34m.\u001b[0m\u001b[0mconcatenate\u001b[0m\u001b[0;34m(\u001b[0m\u001b[0;34m(\u001b[0m\u001b[0;36m1\u001b[0m \u001b[0;34m+\u001b[0m \u001b[0mk11\u001b[0m\u001b[0;34m*\u001b[0m\u001b[0mligf\u001b[0m\u001b[0;34m)\u001b[0m\u001b[0;34m)\u001b[0m\u001b[0;34m)\u001b[0m \u001b[0;34m+\u001b[0m         \u001b[0;36m8.\u001b[0m\u001b[0;34m*\u001b[0m\u001b[0ml20\u001b[0m\u001b[0;34m*\u001b[0m\u001b[0mrtotf\u001b[0m\u001b[0;34m*\u001b[0m\u001b[0mnp\u001b[0m\u001b[0;34m.\u001b[0m\u001b[0mconcatenate\u001b[0m\u001b[0;34m(\u001b[0m\u001b[0;34m(\u001b[0m\u001b[0;36m1\u001b[0m \u001b[0;34m+\u001b[0m \u001b[0mk21\u001b[0m\u001b[0;34m*\u001b[0m\u001b[0mligf\u001b[0m \u001b[0;34m+\u001b[0m \u001b[0mk21\u001b[0m\u001b[0;34m*\u001b[0m\u001b[0mk22\u001b[0m\u001b[0;34m*\u001b[0m\u001b[0;34m(\u001b[0m\u001b[0mnp\u001b[0m\u001b[0;34m.\u001b[0m\u001b[0msquare\u001b[0m\u001b[0;34m(\u001b[0m\u001b[0mligf\u001b[0m\u001b[0;34m)\u001b[0m\u001b[0;34m)\u001b[0m\u001b[0;34m)\u001b[0m\u001b[0;34m)\u001b[0m\u001b[0;34m)\u001b[0m\u001b[0;34m)\u001b[0m\u001b[0;34m)\u001b[0m\u001b[0;34m\u001b[0m\u001b[0m\n\u001b[0m\u001b[1;32m     78\u001b[0m \u001b[0;34m\u001b[0m\u001b[0m\n\u001b[1;32m     79\u001b[0m         \u001b[0mrfreebottom\u001b[0m \u001b[0;34m=\u001b[0m \u001b[0;34m(\u001b[0m\u001b[0;36m4\u001b[0m\u001b[0;34m*\u001b[0m\u001b[0ml20\u001b[0m\u001b[0;34m*\u001b[0m\u001b[0;34m(\u001b[0m\u001b[0;36m1\u001b[0m \u001b[0;34m+\u001b[0m \u001b[0mk21\u001b[0m\u001b[0;34m*\u001b[0m\u001b[0mligf\u001b[0m \u001b[0;34m+\u001b[0m \u001b[0mk21\u001b[0m\u001b[0;34m*\u001b[0m\u001b[0mk22\u001b[0m\u001b[0;34m*\u001b[0m\u001b[0;34m(\u001b[0m\u001b[0mnp\u001b[0m\u001b[0;34m.\u001b[0m\u001b[0msquare\u001b[0m\u001b[0;34m(\u001b[0m\u001b[0mligf\u001b[0m\u001b[0;34m)\u001b[0m\u001b[0;34m)\u001b[0m\u001b[0;34m)\u001b[0m\u001b[0;34m)\u001b[0m\u001b[0;34m\u001b[0m\u001b[0m\n",
      "\u001b[0;31mValueError\u001b[0m: operands could not be broadcast together with shapes (5,) (84,) "
     ]
    }
   ],
   "source": [
    "\n",
    "# coding: utf-8\n",
    "\n",
    "# In[1]:\n",
    "\n",
    "import numpy as np\n",
    "\n",
    "\n",
    "# In[2]:\n",
    "\n",
    "def dilser(low=0.001, limit=100.0, dilfactor = 2.0):\n",
    "    \"\"\"Returns a list containing a dilution series that ranges from\n",
    "    \"low\" to \"limit\" by \"dilfactor\".\n",
    "    \"\"\"\n",
    "    a = [low]\n",
    "    while a[-1] <= limit:\n",
    "        a.append(a[len(a)-1]*dilfactor)\n",
    "    \n",
    "    return np.array(a)\n",
    "\n",
    "\n",
    "# In[3]:\n",
    "\n",
    "lig = dilser()\n",
    "\n",
    "\n",
    "# In[4]:\n",
    "\n",
    "a = np.delete(lig,[15,16])\n",
    "\n",
    "\n",
    "# In[5]:\n",
    "\n",
    "b = np.delete(lig,[14,17])\n",
    "\n",
    "\n",
    "# In[6]:\n",
    "\n",
    "c = np.delete(lig,[13,15])\n",
    "\n",
    "\n",
    "# In[7]:\n",
    "\n",
    "ligset = np.array([lig,a,lig,b,c])\n",
    "\n",
    "\n",
    "# In[8]:\n",
    "\n",
    "noiseset = np.array([np.random.normal(1,0.05,ligset[i].size) for i in range(ligset.shape[0])])\n",
    "\n",
    "\n",
    "# In[9]:\n",
    "\n",
    "rtots = np.array([0.001,0.005, 0.01, 0.02, 0.05])\n",
    "\n",
    "\n",
    "# In[10]:\n",
    "\n",
    "sim_parms = dict({'k11':3.7, 'k21':1.8, 'k22':0.12, 'l20':293.0})\n",
    "\n",
    "\n",
    "# In[11]:\n",
    "#@profile\n",
    "def wyman_sim(lig,rtot,parm):    \n",
    "    k11 = parm['k11']\n",
    "    k21 = parm['k21']\n",
    "    k22 = parm['k22']\n",
    "    l20 = parm['l20']\n",
    "    \n",
    "    holder = []\n",
    "    \n",
    "    for i in range(lig.size):\n",
    "        \n",
    "        ligf = ligset\n",
    "        rtotf = rtots\n",
    "        \n",
    "        rfreetop = (np.concatenate((-1 - k11*ligf)) + \\\n",
    "        (np.sqrt(np.square(np.concatenate((1 + k11*ligf))) + \\\n",
    "        8.*l20*rtotf*np.concatenate((1 + k21*ligf + k21*k22*(np.square(ligf)))))))\n",
    "        \n",
    "        #rfreebottom = (4*l20*(1 + k21*ligf + k21*k22*(np.square(ligf))))\n",
    "        \n",
    "        #rfree = rfreetop/rfreebottom\n",
    "        \n",
    "        #bfrac = (k11*ligf + l20*k21*rfree*ligf + \\\n",
    "        #2*l20*k21*k22*rfree*(ligf**2))/(1 + 2*l20*rfree + k11*ligf + \\\n",
    "        #2*l20*k21*rfree*ligf + 2*l20*k21*k22*rfree*(ligf**2))\n",
    "        \n",
    "        holder.append(bfrac)\n",
    "        \n",
    "    return np.array(holder)\n",
    "wyman_sim(ligset,rtots,sim_parms)"
   ]
  },
  {
   "cell_type": "code",
   "execution_count": 6,
   "metadata": {
    "collapsed": false
   },
   "outputs": [
    {
     "data": {
      "text/plain": [
       "array([ array([  1.00000000e-03,   2.00000000e-03,   4.00000000e-03,\n",
       "         8.00000000e-03,   1.60000000e-02,   3.20000000e-02,\n",
       "         6.40000000e-02,   1.28000000e-01,   2.56000000e-01,\n",
       "         5.12000000e-01,   1.02400000e+00,   2.04800000e+00,\n",
       "         4.09600000e+00,   8.19200000e+00,   1.63840000e+01,\n",
       "         3.27680000e+01,   6.55360000e+01,   1.31072000e+02]),\n",
       "       array([  1.00000000e-03,   2.00000000e-03,   4.00000000e-03,\n",
       "         8.00000000e-03,   1.60000000e-02,   3.20000000e-02,\n",
       "         6.40000000e-02,   1.28000000e-01,   2.56000000e-01,\n",
       "         5.12000000e-01,   1.02400000e+00,   2.04800000e+00,\n",
       "         4.09600000e+00,   8.19200000e+00,   1.63840000e+01,\n",
       "         1.31072000e+02]),\n",
       "       array([  1.00000000e-03,   2.00000000e-03,   4.00000000e-03,\n",
       "         8.00000000e-03,   1.60000000e-02,   3.20000000e-02,\n",
       "         6.40000000e-02,   1.28000000e-01,   2.56000000e-01,\n",
       "         5.12000000e-01,   1.02400000e+00,   2.04800000e+00,\n",
       "         4.09600000e+00,   8.19200000e+00,   1.63840000e+01,\n",
       "         3.27680000e+01,   6.55360000e+01,   1.31072000e+02]),\n",
       "       array([  1.00000000e-03,   2.00000000e-03,   4.00000000e-03,\n",
       "         8.00000000e-03,   1.60000000e-02,   3.20000000e-02,\n",
       "         6.40000000e-02,   1.28000000e-01,   2.56000000e-01,\n",
       "         5.12000000e-01,   1.02400000e+00,   2.04800000e+00,\n",
       "         4.09600000e+00,   8.19200000e+00,   3.27680000e+01,\n",
       "         6.55360000e+01]),\n",
       "       array([  1.00000000e-03,   2.00000000e-03,   4.00000000e-03,\n",
       "         8.00000000e-03,   1.60000000e-02,   3.20000000e-02,\n",
       "         6.40000000e-02,   1.28000000e-01,   2.56000000e-01,\n",
       "         5.12000000e-01,   1.02400000e+00,   2.04800000e+00,\n",
       "         4.09600000e+00,   1.63840000e+01,   6.55360000e+01,\n",
       "         1.31072000e+02])], dtype=object)"
      ]
     },
     "execution_count": 6,
     "metadata": {},
     "output_type": "execute_result"
    }
   ],
   "source": [
    "ligset"
   ]
  },
  {
   "cell_type": "code",
   "execution_count": 9,
   "metadata": {
    "collapsed": false
   },
   "outputs": [
    {
     "data": {
      "text/plain": [
       "array([  0.03162278,   0.04472136,   0.06324555,   0.08944272,\n",
       "         0.12649111,   0.17888544,   0.25298221,   0.35777088,\n",
       "         0.50596443,   0.71554175,   1.01192885,   1.43108351,\n",
       "         2.0238577 ,   2.86216701,   4.04771541,   5.72433402,\n",
       "         8.09543081,  11.44866804,   0.03162278,   0.04472136,\n",
       "         0.06324555,   0.08944272,   0.12649111,   0.17888544,\n",
       "         0.25298221,   0.35777088,   0.50596443,   0.71554175,\n",
       "         1.01192885,   1.43108351,   2.0238577 ,   2.86216701,\n",
       "         4.04771541,  11.44866804,   0.03162278,   0.04472136,\n",
       "         0.06324555,   0.08944272,   0.12649111,   0.17888544,\n",
       "         0.25298221,   0.35777088,   0.50596443,   0.71554175,\n",
       "         1.01192885,   1.43108351,   2.0238577 ,   2.86216701,\n",
       "         4.04771541,   5.72433402,   8.09543081,  11.44866804,\n",
       "         0.03162278,   0.04472136,   0.06324555,   0.08944272,\n",
       "         0.12649111,   0.17888544,   0.25298221,   0.35777088,\n",
       "         0.50596443,   0.71554175,   1.01192885,   1.43108351,\n",
       "         2.0238577 ,   2.86216701,   5.72433402,   8.09543081,\n",
       "         0.03162278,   0.04472136,   0.06324555,   0.08944272,\n",
       "         0.12649111,   0.17888544,   0.25298221,   0.35777088,\n",
       "         0.50596443,   0.71554175,   1.01192885,   1.43108351,\n",
       "         2.0238577 ,   4.04771541,   8.09543081,  11.44866804])"
      ]
     },
     "execution_count": 9,
     "metadata": {},
     "output_type": "execute_result"
    }
   ],
   "source": [
    "np.sqrt(np.concatenate(ligset))"
   ]
  },
  {
   "cell_type": "code",
   "execution_count": 11,
   "metadata": {
    "collapsed": false
   },
   "outputs": [
    {
     "ename": "TabError",
     "evalue": "inconsistent use of tabs and spaces in indentation (<ipython-input-11-f91a510e3c6b>, line 83)",
     "output_type": "error",
     "traceback": [
      "\u001b[0;36m  File \u001b[0;32m\"<ipython-input-11-f91a510e3c6b>\"\u001b[0;36m, line \u001b[0;32m83\u001b[0m\n\u001b[0;31m    return rfreetop\u001b[0m\n\u001b[0m                   ^\u001b[0m\n\u001b[0;31mTabError\u001b[0m\u001b[0;31m:\u001b[0m inconsistent use of tabs and spaces in indentation\n"
     ]
    }
   ],
   "source": [
    "# coding: utf-8\n",
    "\n",
    "# In[1]:\n",
    "\n",
    "import numpy as np\n",
    "\n",
    "\n",
    "# In[2]:\n",
    "\n",
    "def dilser(low=0.001, limit=100.0, dilfactor = 2.0):\n",
    "    \"\"\"Returns a list containing a dilution series that ranges from\n",
    "    \"low\" to \"limit\" by \"dilfactor\".\n",
    "    \"\"\"\n",
    "    a = [low]\n",
    "    while a[-1] <= limit:\n",
    "        a.append(a[len(a)-1]*dilfactor)\n",
    "    \n",
    "    return np.array(a)\n",
    "\n",
    "\n",
    "# In[3]:\n",
    "\n",
    "lig = dilser()\n",
    "\n",
    "\n",
    "# In[4]:\n",
    "\n",
    "a = np.delete(lig,[15,16])\n",
    "\n",
    "\n",
    "# In[5]:\n",
    "\n",
    "b = np.delete(lig,[14,17])\n",
    "\n",
    "\n",
    "# In[6]:\n",
    "\n",
    "c = np.delete(lig,[13,15])\n",
    "\n",
    "\n",
    "# In[7]:\n",
    "\n",
    "ligset = np.array([lig,a,lig,b,c])\n",
    "\n",
    "\n",
    "# In[8]:\n",
    "\n",
    "noiseset = np.array([np.random.normal(1,0.05,ligset[i].size) for i in range(ligset.shape[0])])\n",
    "\n",
    "\n",
    "# In[9]:\n",
    "\n",
    "rtots = np.array([0.001,0.005, 0.01, 0.02, 0.05])\n",
    "\n",
    "\n",
    "# In[10]:\n",
    "\n",
    "sim_parms = dict({'k11':3.7, 'k21':1.8, 'k22':0.12, 'l20':293.0})\n",
    "\n",
    "\n",
    "# In[11]:\n",
    "#@profile\n",
    "def wyman_sim(lig,rtot,parm):    \n",
    "    k11 = parm['k11']\n",
    "    k21 = parm['k21']\n",
    "    k22 = parm['k22']\n",
    "    l20 = parm['l20']\n",
    "    \n",
    "    \n",
    "    ligf = ligset\n",
    "    rtotf = rtots\n",
    "        \n",
    "    rfreetop = (np.concatenate((-1 - k11*ligf)) + \\\n",
    "    (np.sqrt(np.square(np.concatenate((1 + k11*ligf))) + \\\n",
    "    8.*l20*rtotf*np.concatenate((1 + k21*ligf + k21*k22*(np.square(ligf)))))))\n",
    "    \n",
    "    #rfreebottom = (4*l20*(1 + k21*ligf + k21*k22*(np.square(ligf))))\n",
    "    \n",
    "    #rfree = rfreetop/rfreebottom\n",
    "    \n",
    "    #bfrac = (k11*ligf + l20*k21*rfree*ligf + \\\n",
    "    #2*l20*k21*k22*rfree*(ligf**2))/(1 + 2*l20*rfree + k11*ligf + \\\n",
    "    #2*l20*k21*rfree*ligf + 2*l20*k21*k22*rfree*(ligf**2))\n",
    "\t\n",
    "\treturn rfreetop\n",
    "\n",
    "\n",
    "wyman_sim(ligset,rtots,sim_parms)"
   ]
  },
  {
   "cell_type": "code",
   "execution_count": 12,
   "metadata": {
    "collapsed": false
   },
   "outputs": [
    {
     "ename": "ValueError",
     "evalue": "operands could not be broadcast together with shapes (5,) (84,) ",
     "output_type": "error",
     "traceback": [
      "\u001b[0;31m---------------------------------------------------------------------------\u001b[0m",
      "\u001b[0;31mValueError\u001b[0m                                Traceback (most recent call last)",
      "\u001b[0;32m<ipython-input-12-abc3ad4cf06f>\u001b[0m in \u001b[0;36m<module>\u001b[0;34m()\u001b[0m\n\u001b[1;32m     87\u001b[0m \u001b[0;34m\u001b[0m\u001b[0m\n\u001b[1;32m     88\u001b[0m \u001b[0;34m\u001b[0m\u001b[0m\n\u001b[0;32m---> 89\u001b[0;31m \u001b[0mwyman_sim\u001b[0m\u001b[0;34m(\u001b[0m\u001b[0mligset\u001b[0m\u001b[0;34m,\u001b[0m\u001b[0mrtots\u001b[0m\u001b[0;34m,\u001b[0m\u001b[0msim_parms\u001b[0m\u001b[0;34m)\u001b[0m\u001b[0;34m\u001b[0m\u001b[0m\n\u001b[0m",
      "\u001b[0;32m<ipython-input-12-abc3ad4cf06f>\u001b[0m in \u001b[0;36mwyman_sim\u001b[0;34m(lig, rtot, parm)\u001b[0m\n\u001b[1;32m     71\u001b[0m     \u001b[0mrtotf\u001b[0m \u001b[0;34m=\u001b[0m \u001b[0mrtots\u001b[0m\u001b[0;34m\u001b[0m\u001b[0m\n\u001b[1;32m     72\u001b[0m \u001b[0;34m\u001b[0m\u001b[0m\n\u001b[0;32m---> 73\u001b[0;31m     \u001b[0mrfreetop\u001b[0m \u001b[0;34m=\u001b[0m \u001b[0;34m(\u001b[0m\u001b[0mnp\u001b[0m\u001b[0;34m.\u001b[0m\u001b[0mconcatenate\u001b[0m\u001b[0;34m(\u001b[0m\u001b[0;34m(\u001b[0m\u001b[0;34m-\u001b[0m\u001b[0;36m1\u001b[0m \u001b[0;34m-\u001b[0m \u001b[0mk11\u001b[0m\u001b[0;34m*\u001b[0m\u001b[0mligf\u001b[0m\u001b[0;34m)\u001b[0m\u001b[0;34m)\u001b[0m \u001b[0;34m+\u001b[0m     \u001b[0;34m(\u001b[0m\u001b[0mnp\u001b[0m\u001b[0;34m.\u001b[0m\u001b[0msqrt\u001b[0m\u001b[0;34m(\u001b[0m\u001b[0mnp\u001b[0m\u001b[0;34m.\u001b[0m\u001b[0msquare\u001b[0m\u001b[0;34m(\u001b[0m\u001b[0mnp\u001b[0m\u001b[0;34m.\u001b[0m\u001b[0mconcatenate\u001b[0m\u001b[0;34m(\u001b[0m\u001b[0;34m(\u001b[0m\u001b[0;36m1\u001b[0m \u001b[0;34m+\u001b[0m \u001b[0mk11\u001b[0m\u001b[0;34m*\u001b[0m\u001b[0mligf\u001b[0m\u001b[0;34m)\u001b[0m\u001b[0;34m)\u001b[0m\u001b[0;34m)\u001b[0m \u001b[0;34m+\u001b[0m     \u001b[0;36m8.\u001b[0m\u001b[0;34m*\u001b[0m\u001b[0ml20\u001b[0m\u001b[0;34m*\u001b[0m\u001b[0mrtotf\u001b[0m\u001b[0;34m*\u001b[0m\u001b[0mnp\u001b[0m\u001b[0;34m.\u001b[0m\u001b[0mconcatenate\u001b[0m\u001b[0;34m(\u001b[0m\u001b[0;34m(\u001b[0m\u001b[0;36m1\u001b[0m \u001b[0;34m+\u001b[0m \u001b[0mk21\u001b[0m\u001b[0;34m*\u001b[0m\u001b[0mligf\u001b[0m \u001b[0;34m+\u001b[0m \u001b[0mk21\u001b[0m\u001b[0;34m*\u001b[0m\u001b[0mk22\u001b[0m\u001b[0;34m*\u001b[0m\u001b[0;34m(\u001b[0m\u001b[0mnp\u001b[0m\u001b[0;34m.\u001b[0m\u001b[0msquare\u001b[0m\u001b[0;34m(\u001b[0m\u001b[0mligf\u001b[0m\u001b[0;34m)\u001b[0m\u001b[0;34m)\u001b[0m\u001b[0;34m)\u001b[0m\u001b[0;34m)\u001b[0m\u001b[0;34m)\u001b[0m\u001b[0;34m)\u001b[0m\u001b[0;34m)\u001b[0m\u001b[0;34m\u001b[0m\u001b[0m\n\u001b[0m\u001b[1;32m     74\u001b[0m \u001b[0;34m\u001b[0m\u001b[0m\n\u001b[1;32m     75\u001b[0m     \u001b[0;32mreturn\u001b[0m \u001b[0mrfreetop\u001b[0m\u001b[0;34m\u001b[0m\u001b[0m\n",
      "\u001b[0;31mValueError\u001b[0m: operands could not be broadcast together with shapes (5,) (84,) "
     ]
    }
   ],
   "source": [
    "# coding: utf-8\n",
    "\n",
    "# In[1]:\n",
    "\n",
    "import numpy as np\n",
    "\n",
    "\n",
    "# In[2]:\n",
    "\n",
    "def dilser(low=0.001, limit=100.0, dilfactor = 2.0):\n",
    "    \"\"\"Returns a list containing a dilution series that ranges from\n",
    "    \"low\" to \"limit\" by \"dilfactor\".\n",
    "    \"\"\"\n",
    "    a = [low]\n",
    "    while a[-1] <= limit:\n",
    "        a.append(a[len(a)-1]*dilfactor)\n",
    "    \n",
    "    return np.array(a)\n",
    "\n",
    "\n",
    "# In[3]:\n",
    "\n",
    "lig = dilser()\n",
    "\n",
    "\n",
    "# In[4]:\n",
    "\n",
    "a = np.delete(lig,[15,16])\n",
    "\n",
    "\n",
    "# In[5]:\n",
    "\n",
    "b = np.delete(lig,[14,17])\n",
    "\n",
    "\n",
    "# In[6]:\n",
    "\n",
    "c = np.delete(lig,[13,15])\n",
    "\n",
    "\n",
    "# In[7]:\n",
    "\n",
    "ligset = np.array([lig,a,lig,b,c])\n",
    "\n",
    "\n",
    "# In[8]:\n",
    "\n",
    "noiseset = np.array([np.random.normal(1,0.05,ligset[i].size) for i in range(ligset.shape[0])])\n",
    "\n",
    "\n",
    "# In[9]:\n",
    "\n",
    "rtots = np.array([0.001,0.005, 0.01, 0.02, 0.05])\n",
    "\n",
    "\n",
    "# In[10]:\n",
    "\n",
    "sim_parms = dict({'k11':3.7, 'k21':1.8, 'k22':0.12, 'l20':293.0})\n",
    "\n",
    "\n",
    "# In[11]:\n",
    "#@profile\n",
    "def wyman_sim(lig,rtot,parm):\n",
    "    k11 = parm['k11']\n",
    "    k21 = parm['k21']\n",
    "    k22 = parm['k22']\n",
    "    l20 = parm['l20']\n",
    "    \n",
    "    \n",
    "    ligf = ligset\n",
    "    rtotf = rtots\n",
    "    \n",
    "    rfreetop = (np.concatenate((-1 - k11*ligf)) + \\\n",
    "    (np.sqrt(np.square(np.concatenate((1 + k11*ligf))) + \\\n",
    "    8.*l20*rtotf*np.concatenate((1 + k21*ligf + k21*k22*(np.square(ligf)))))))\n",
    "    \n",
    "    return rfreetop\n",
    "    \n",
    "    #rfreebottom = (4*l20*(1 + k21*ligf + k21*k22*(np.square(ligf))))\n",
    "    \n",
    "    #rfree = rfreetop/rfreebottom\n",
    "    \n",
    "    #bfrac = (k11*ligf + l20*k21*rfree*ligf + \\\n",
    "    #2*l20*k21*k22*rfree*(ligf**2))/(1 + 2*l20*rfree + k11*ligf + \\\n",
    "    #2*l20*k21*rfree*ligf + 2*l20*k21*k22*rfree*(ligf**2))\n",
    "\n",
    "\n",
    "\n",
    "\n",
    "\n",
    "wyman_sim(ligset,rtots,sim_parms)"
   ]
  },
  {
   "cell_type": "code",
   "execution_count": 13,
   "metadata": {
    "collapsed": true
   },
   "outputs": [],
   "source": [
    "\n",
    "import numpy as np\n",
    "\n",
    "\n",
    "# In[2]:\n",
    "\n",
    "def dilser(low=0.001, limit=100.0, dilfactor = 2.0):\n",
    "    \"\"\"Returns a list containing a dilution series that ranges from\n",
    "    \"low\" to \"limit\" by \"dilfactor\".\n",
    "    \"\"\"\n",
    "    a = [low]\n",
    "    while a[-1] <= limit:\n",
    "        a.append(a[len(a)-1]*dilfactor)\n",
    "    \n",
    "    return np.array(a)\n",
    "\n",
    "\n",
    "# In[3]:\n",
    "\n",
    "lig = dilser()\n",
    "\n",
    "\n",
    "# In[4]:\n",
    "\n",
    "a = np.delete(lig,[15,16])\n",
    "\n",
    "\n",
    "# In[5]:\n",
    "\n",
    "b = np.delete(lig,[14,17])\n",
    "\n",
    "\n",
    "# In[6]:\n",
    "\n",
    "c = np.delete(lig,[13,15])\n",
    "\n",
    "\n",
    "# In[7]:\n",
    "\n",
    "ligset = np.array([lig,a,lig,b,c])\n",
    "\n",
    "\n",
    "# In[8]:\n",
    "\n",
    "noiseset = np.array([np.random.normal(1,0.05,ligset[i].size) for i in range(ligset.shape[0])])\n",
    "\n",
    "\n",
    "# In[9]:\n",
    "\n",
    "rtots = np.array([0.001,0.005, 0.01, 0.02, 0.05])"
   ]
  },
  {
   "cell_type": "code",
   "execution_count": 14,
   "metadata": {
    "collapsed": false
   },
   "outputs": [
    {
     "data": {
      "text/plain": [
       "array([ 0.001,  0.005,  0.01 ,  0.02 ,  0.05 ])"
      ]
     },
     "execution_count": 14,
     "metadata": {},
     "output_type": "execute_result"
    }
   ],
   "source": [
    "rtots"
   ]
  },
  {
   "cell_type": "code",
   "execution_count": 16,
   "metadata": {
    "collapsed": false
   },
   "outputs": [
    {
     "data": {
      "text/plain": [
       "array([ array([  1.00000000e-06,   2.00000000e-06,   4.00000000e-06,\n",
       "         8.00000000e-06,   1.60000000e-05,   3.20000000e-05,\n",
       "         6.40000000e-05,   1.28000000e-04,   2.56000000e-04,\n",
       "         5.12000000e-04,   1.02400000e-03,   2.04800000e-03,\n",
       "         4.09600000e-03,   8.19200000e-03,   1.63840000e-02,\n",
       "         3.27680000e-02,   6.55360000e-02,   1.31072000e-01]),\n",
       "       array([  5.00000000e-06,   1.00000000e-05,   2.00000000e-05,\n",
       "         4.00000000e-05,   8.00000000e-05,   1.60000000e-04,\n",
       "         3.20000000e-04,   6.40000000e-04,   1.28000000e-03,\n",
       "         2.56000000e-03,   5.12000000e-03,   1.02400000e-02,\n",
       "         2.04800000e-02,   4.09600000e-02,   8.19200000e-02,\n",
       "         6.55360000e-01]),\n",
       "       array([  1.00000000e-05,   2.00000000e-05,   4.00000000e-05,\n",
       "         8.00000000e-05,   1.60000000e-04,   3.20000000e-04,\n",
       "         6.40000000e-04,   1.28000000e-03,   2.56000000e-03,\n",
       "         5.12000000e-03,   1.02400000e-02,   2.04800000e-02,\n",
       "         4.09600000e-02,   8.19200000e-02,   1.63840000e-01,\n",
       "         3.27680000e-01,   6.55360000e-01,   1.31072000e+00]),\n",
       "       array([  2.00000000e-05,   4.00000000e-05,   8.00000000e-05,\n",
       "         1.60000000e-04,   3.20000000e-04,   6.40000000e-04,\n",
       "         1.28000000e-03,   2.56000000e-03,   5.12000000e-03,\n",
       "         1.02400000e-02,   2.04800000e-02,   4.09600000e-02,\n",
       "         8.19200000e-02,   1.63840000e-01,   6.55360000e-01,\n",
       "         1.31072000e+00]),\n",
       "       array([  5.00000000e-05,   1.00000000e-04,   2.00000000e-04,\n",
       "         4.00000000e-04,   8.00000000e-04,   1.60000000e-03,\n",
       "         3.20000000e-03,   6.40000000e-03,   1.28000000e-02,\n",
       "         2.56000000e-02,   5.12000000e-02,   1.02400000e-01,\n",
       "         2.04800000e-01,   8.19200000e-01,   3.27680000e+00,\n",
       "         6.55360000e+00])], dtype=object)"
      ]
     },
     "execution_count": 16,
     "metadata": {},
     "output_type": "execute_result"
    }
   ],
   "source": [
    "rtots*ligset"
   ]
  },
  {
   "cell_type": "code",
   "execution_count": 26,
   "metadata": {
    "collapsed": false
   },
   "outputs": [
    {
     "data": {
      "text/plain": [
       "array([ 0.00287218,  0.0057293 ,  0.01139886,  0.02256218,  0.04420898,\n",
       "        0.08495766,  0.15750031,  0.27442734,  0.43494373,  0.61140532,\n",
       "        0.76276266,  0.86736558,  0.92969257,  0.9637874 ,  0.98162164,\n",
       "        0.99074192,  0.99535363,  0.99767247,  0.00212201,  0.00423545,\n",
       "        0.00843679,  0.01673873,  0.03295043,  0.06388646,  0.12039349,\n",
       "        0.21575195,  0.3567863 ,  0.52877848,  0.69457034,  0.82154023,\n",
       "        0.90281887,  0.9492021 ,  0.97402094,  0.99668726,  0.00183875,\n",
       "        0.00367067,  0.00731417,  0.01452088,  0.02862117,  0.05563083,\n",
       "        0.10532975,  0.19035641,  0.3191859 ,  0.4825415 ,  0.64899583,\n",
       "        0.78533335,  0.87867192,  0.93494879,  0.96622051,  0.98277258,\n",
       "        0.99129847,  0.99562683,  0.0016043 ,  0.00320301,  0.00638376,\n",
       "        0.0126794 ,  0.02501369,  0.04870285,  0.09251507,  0.16819537,\n",
       "        0.28486929,  0.43720977,  0.5996735 ,  0.741466  ,  0.84618727,\n",
       "        0.91418393,  0.97630818,  0.98793257,  0.00136943,  0.00273433,\n",
       "        0.00545065,  0.01083001,  0.0213806 ,  0.04168745,  0.0794006 ,\n",
       "        0.14506012,  0.24774887,  0.38522666,  0.53808452,  0.68052705,\n",
       "        0.7957575 ,  0.93237661,  0.98135685,  0.99050848])"
      ]
     },
     "execution_count": 26,
     "metadata": {},
     "output_type": "execute_result"
    }
   ],
   "source": [
    "# coding: utf-8\n",
    "\n",
    "# In[1]:\n",
    "\n",
    "import numpy as np\n",
    "\n",
    "\n",
    "# In[2]:\n",
    "\n",
    "def dilser(low=0.001, limit=100.0, dilfactor = 2.0):\n",
    "    \"\"\"Returns a list containing a dilution series that ranges from\n",
    "    \"low\" to \"limit\" by \"dilfactor\".\n",
    "    \"\"\"\n",
    "    a = [low]\n",
    "    while a[-1] <= limit:\n",
    "        a.append(a[len(a)-1]*dilfactor)\n",
    "    \n",
    "    return np.array(a)\n",
    "\n",
    "\n",
    "# In[3]:\n",
    "\n",
    "lig = dilser()\n",
    "\n",
    "\n",
    "# In[4]:\n",
    "\n",
    "a = np.delete(lig,[15,16])\n",
    "\n",
    "\n",
    "# In[5]:\n",
    "\n",
    "b = np.delete(lig,[14,17])\n",
    "\n",
    "\n",
    "# In[6]:\n",
    "\n",
    "c = np.delete(lig,[13,15])\n",
    "\n",
    "\n",
    "# In[7]:\n",
    "\n",
    "ligset = np.array([lig,a,lig,b,c])\n",
    "\n",
    "\n",
    "# In[8]:\n",
    "\n",
    "noiseset = np.array([np.random.normal(1,0.05,ligset[i].size) for i in range(ligset.shape[0])])\n",
    "\n",
    "\n",
    "# In[9]:\n",
    "\n",
    "rtots = np.array([0.001,0.005, 0.01, 0.02, 0.05])\n",
    "\n",
    "\n",
    "# In[10]:\n",
    "\n",
    "sim_parms = dict({'k11':3.7, 'k21':1.8, 'k22':0.12, 'l20':293.0})\n",
    "\n",
    "\n",
    "# In[11]:\n",
    "#@profile\n",
    "def wyman_sim(lig,rtot,parm):\n",
    "    k11 = parm['k11']\n",
    "    k21 = parm['k21']\n",
    "    k22 = parm['k22']\n",
    "    l20 = parm['l20']\n",
    "    \n",
    "    \n",
    "    ligf = ligset\n",
    "    ligc = np.concatenate(ligset)\n",
    "    rtotf = rtots\n",
    "    \n",
    "    rfreetop = (np.concatenate((-1 - k11*ligf)) + \\\n",
    "    (np.sqrt(np.concatenate((np.square((1 + k11*ligf)) + \\\n",
    "    8.*l20*rtotf*(1 + k21*ligf + k21*k22*(np.square(ligf))))))))\n",
    "    \n",
    "    rfreebottom = np.concatenate(4*l20*(1 + k21*ligf + k21*k22*(np.square(ligf))))\n",
    "    \n",
    "    rfree = rfreetop/rfreebottom\n",
    "    \n",
    "       \n",
    "    bfrac = (k11*ligc + l20*k21*rfree*ligc + \\\n",
    "    2*l20*k21*k22*rfree*(np.square(ligc)))/(1 + 2*l20*rfree + k11*ligc + \\\n",
    "    2*l20*k21*rfree*ligc + 2*l20*k21*k22*rfree*(np.square(ligc)))\n",
    "    \n",
    "    return bfrac\n",
    "\n",
    "\n",
    "\n",
    "\n",
    "\n",
    "wyman_sim(ligset,rtots,sim_parms)"
   ]
  },
  {
   "cell_type": "code",
   "execution_count": 20,
   "metadata": {
    "collapsed": false
   },
   "outputs": [
    {
     "data": {
      "text/plain": [
       "array([ array([  1.00000000e-03,   2.00000000e-03,   4.00000000e-03,\n",
       "         8.00000000e-03,   1.60000000e-02,   3.20000000e-02,\n",
       "         6.40000000e-02,   1.28000000e-01,   2.56000000e-01,\n",
       "         5.12000000e-01,   1.02400000e+00,   2.04800000e+00,\n",
       "         4.09600000e+00,   8.19200000e+00,   1.63840000e+01,\n",
       "         3.27680000e+01,   6.55360000e+01,   1.31072000e+02]),\n",
       "       array([  1.00000000e-03,   2.00000000e-03,   4.00000000e-03,\n",
       "         8.00000000e-03,   1.60000000e-02,   3.20000000e-02,\n",
       "         6.40000000e-02,   1.28000000e-01,   2.56000000e-01,\n",
       "         5.12000000e-01,   1.02400000e+00,   2.04800000e+00,\n",
       "         4.09600000e+00,   8.19200000e+00,   1.63840000e+01,\n",
       "         1.31072000e+02]),\n",
       "       array([  1.00000000e-03,   2.00000000e-03,   4.00000000e-03,\n",
       "         8.00000000e-03,   1.60000000e-02,   3.20000000e-02,\n",
       "         6.40000000e-02,   1.28000000e-01,   2.56000000e-01,\n",
       "         5.12000000e-01,   1.02400000e+00,   2.04800000e+00,\n",
       "         4.09600000e+00,   8.19200000e+00,   1.63840000e+01,\n",
       "         3.27680000e+01,   6.55360000e+01,   1.31072000e+02]),\n",
       "       array([  1.00000000e-03,   2.00000000e-03,   4.00000000e-03,\n",
       "         8.00000000e-03,   1.60000000e-02,   3.20000000e-02,\n",
       "         6.40000000e-02,   1.28000000e-01,   2.56000000e-01,\n",
       "         5.12000000e-01,   1.02400000e+00,   2.04800000e+00,\n",
       "         4.09600000e+00,   8.19200000e+00,   3.27680000e+01,\n",
       "         6.55360000e+01]),\n",
       "       array([  1.00000000e-03,   2.00000000e-03,   4.00000000e-03,\n",
       "         8.00000000e-03,   1.60000000e-02,   3.20000000e-02,\n",
       "         6.40000000e-02,   1.28000000e-01,   2.56000000e-01,\n",
       "         5.12000000e-01,   1.02400000e+00,   2.04800000e+00,\n",
       "         4.09600000e+00,   1.63840000e+01,   6.55360000e+01,\n",
       "         1.31072000e+02])], dtype=object)"
      ]
     },
     "execution_count": 20,
     "metadata": {},
     "output_type": "execute_result"
    }
   ],
   "source": [
    "ligset"
   ]
  },
  {
   "cell_type": "code",
   "execution_count": 21,
   "metadata": {
    "collapsed": false
   },
   "outputs": [
    {
     "data": {
      "text/plain": [
       "array([ array([  1.00000000e-06,   4.00000000e-06,   1.60000000e-05,\n",
       "         6.40000000e-05,   2.56000000e-04,   1.02400000e-03,\n",
       "         4.09600000e-03,   1.63840000e-02,   6.55360000e-02,\n",
       "         2.62144000e-01,   1.04857600e+00,   4.19430400e+00,\n",
       "         1.67772160e+01,   6.71088640e+01,   2.68435456e+02,\n",
       "         1.07374182e+03,   4.29496730e+03,   1.71798692e+04]),\n",
       "       array([  1.00000000e-06,   4.00000000e-06,   1.60000000e-05,\n",
       "         6.40000000e-05,   2.56000000e-04,   1.02400000e-03,\n",
       "         4.09600000e-03,   1.63840000e-02,   6.55360000e-02,\n",
       "         2.62144000e-01,   1.04857600e+00,   4.19430400e+00,\n",
       "         1.67772160e+01,   6.71088640e+01,   2.68435456e+02,\n",
       "         1.71798692e+04]),\n",
       "       array([  1.00000000e-06,   4.00000000e-06,   1.60000000e-05,\n",
       "         6.40000000e-05,   2.56000000e-04,   1.02400000e-03,\n",
       "         4.09600000e-03,   1.63840000e-02,   6.55360000e-02,\n",
       "         2.62144000e-01,   1.04857600e+00,   4.19430400e+00,\n",
       "         1.67772160e+01,   6.71088640e+01,   2.68435456e+02,\n",
       "         1.07374182e+03,   4.29496730e+03,   1.71798692e+04]),\n",
       "       array([  1.00000000e-06,   4.00000000e-06,   1.60000000e-05,\n",
       "         6.40000000e-05,   2.56000000e-04,   1.02400000e-03,\n",
       "         4.09600000e-03,   1.63840000e-02,   6.55360000e-02,\n",
       "         2.62144000e-01,   1.04857600e+00,   4.19430400e+00,\n",
       "         1.67772160e+01,   6.71088640e+01,   1.07374182e+03,\n",
       "         4.29496730e+03]),\n",
       "       array([  1.00000000e-06,   4.00000000e-06,   1.60000000e-05,\n",
       "         6.40000000e-05,   2.56000000e-04,   1.02400000e-03,\n",
       "         4.09600000e-03,   1.63840000e-02,   6.55360000e-02,\n",
       "         2.62144000e-01,   1.04857600e+00,   4.19430400e+00,\n",
       "         1.67772160e+01,   2.68435456e+02,   4.29496730e+03,\n",
       "         1.71798692e+04])], dtype=object)"
      ]
     },
     "execution_count": 21,
     "metadata": {},
     "output_type": "execute_result"
    }
   ],
   "source": [
    "np.square(ligset)"
   ]
  },
  {
   "cell_type": "code",
   "execution_count": 23,
   "metadata": {
    "collapsed": false
   },
   "outputs": [
    {
     "data": {
      "text/plain": [
       "array([ array([  2.00000000e-03,   4.00000000e-03,   8.00000000e-03,\n",
       "         1.60000000e-02,   3.20000000e-02,   6.40000000e-02,\n",
       "         1.28000000e-01,   2.56000000e-01,   5.12000000e-01,\n",
       "         1.02400000e+00,   2.04800000e+00,   4.09600000e+00,\n",
       "         8.19200000e+00,   1.63840000e+01,   3.27680000e+01,\n",
       "         6.55360000e+01,   1.31072000e+02,   2.62144000e+02]),\n",
       "       array([  2.00000000e-03,   4.00000000e-03,   8.00000000e-03,\n",
       "         1.60000000e-02,   3.20000000e-02,   6.40000000e-02,\n",
       "         1.28000000e-01,   2.56000000e-01,   5.12000000e-01,\n",
       "         1.02400000e+00,   2.04800000e+00,   4.09600000e+00,\n",
       "         8.19200000e+00,   1.63840000e+01,   3.27680000e+01,\n",
       "         2.62144000e+02]),\n",
       "       array([  2.00000000e-03,   4.00000000e-03,   8.00000000e-03,\n",
       "         1.60000000e-02,   3.20000000e-02,   6.40000000e-02,\n",
       "         1.28000000e-01,   2.56000000e-01,   5.12000000e-01,\n",
       "         1.02400000e+00,   2.04800000e+00,   4.09600000e+00,\n",
       "         8.19200000e+00,   1.63840000e+01,   3.27680000e+01,\n",
       "         6.55360000e+01,   1.31072000e+02,   2.62144000e+02]),\n",
       "       array([  2.00000000e-03,   4.00000000e-03,   8.00000000e-03,\n",
       "         1.60000000e-02,   3.20000000e-02,   6.40000000e-02,\n",
       "         1.28000000e-01,   2.56000000e-01,   5.12000000e-01,\n",
       "         1.02400000e+00,   2.04800000e+00,   4.09600000e+00,\n",
       "         8.19200000e+00,   1.63840000e+01,   6.55360000e+01,\n",
       "         1.31072000e+02]),\n",
       "       array([  2.00000000e-03,   4.00000000e-03,   8.00000000e-03,\n",
       "         1.60000000e-02,   3.20000000e-02,   6.40000000e-02,\n",
       "         1.28000000e-01,   2.56000000e-01,   5.12000000e-01,\n",
       "         1.02400000e+00,   2.04800000e+00,   4.09600000e+00,\n",
       "         8.19200000e+00,   3.27680000e+01,   1.31072000e+02,\n",
       "         2.62144000e+02])], dtype=object)"
      ]
     },
     "execution_count": 23,
     "metadata": {},
     "output_type": "execute_result"
    }
   ],
   "source": [
    "ligset + ligset"
   ]
  },
  {
   "cell_type": "code",
   "execution_count": 24,
   "metadata": {
    "collapsed": false
   },
   "outputs": [
    {
     "data": {
      "text/plain": [
       "array([  2.00000000e-03,   4.00000000e-03,   8.00000000e-03,\n",
       "         1.60000000e-02,   3.20000000e-02,   6.40000000e-02,\n",
       "         1.28000000e-01,   2.56000000e-01,   5.12000000e-01,\n",
       "         1.02400000e+00,   2.04800000e+00,   4.09600000e+00,\n",
       "         8.19200000e+00,   1.63840000e+01,   3.27680000e+01,\n",
       "         6.55360000e+01,   1.31072000e+02,   2.62144000e+02,\n",
       "         2.00000000e-03,   4.00000000e-03,   8.00000000e-03,\n",
       "         1.60000000e-02,   3.20000000e-02,   6.40000000e-02,\n",
       "         1.28000000e-01,   2.56000000e-01,   5.12000000e-01,\n",
       "         1.02400000e+00,   2.04800000e+00,   4.09600000e+00,\n",
       "         8.19200000e+00,   1.63840000e+01,   3.27680000e+01,\n",
       "         2.62144000e+02,   2.00000000e-03,   4.00000000e-03,\n",
       "         8.00000000e-03,   1.60000000e-02,   3.20000000e-02,\n",
       "         6.40000000e-02,   1.28000000e-01,   2.56000000e-01,\n",
       "         5.12000000e-01,   1.02400000e+00,   2.04800000e+00,\n",
       "         4.09600000e+00,   8.19200000e+00,   1.63840000e+01,\n",
       "         3.27680000e+01,   6.55360000e+01,   1.31072000e+02,\n",
       "         2.62144000e+02,   2.00000000e-03,   4.00000000e-03,\n",
       "         8.00000000e-03,   1.60000000e-02,   3.20000000e-02,\n",
       "         6.40000000e-02,   1.28000000e-01,   2.56000000e-01,\n",
       "         5.12000000e-01,   1.02400000e+00,   2.04800000e+00,\n",
       "         4.09600000e+00,   8.19200000e+00,   1.63840000e+01,\n",
       "         6.55360000e+01,   1.31072000e+02,   2.00000000e-03,\n",
       "         4.00000000e-03,   8.00000000e-03,   1.60000000e-02,\n",
       "         3.20000000e-02,   6.40000000e-02,   1.28000000e-01,\n",
       "         2.56000000e-01,   5.12000000e-01,   1.02400000e+00,\n",
       "         2.04800000e+00,   4.09600000e+00,   8.19200000e+00,\n",
       "         3.27680000e+01,   1.31072000e+02,   2.62144000e+02])"
      ]
     },
     "execution_count": 24,
     "metadata": {},
     "output_type": "execute_result"
    }
   ],
   "source": [
    "np.concatenate(ligset) + np.concatenate(ligset)"
   ]
  },
  {
   "cell_type": "code",
   "execution_count": null,
   "metadata": {
    "collapsed": true
   },
   "outputs": [],
   "source": []
  }
 ],
 "metadata": {
  "anaconda-cloud": {},
  "kernelspec": {
   "display_name": "Python [conda env:fitter]",
   "language": "python",
   "name": "conda-env-fitter-py"
  },
  "language_info": {
   "codemirror_mode": {
    "name": "ipython",
    "version": 3
   },
   "file_extension": ".py",
   "mimetype": "text/x-python",
   "name": "python",
   "nbconvert_exporter": "python",
   "pygments_lexer": "ipython3",
   "version": "3.5.2"
  }
 },
 "nbformat": 4,
 "nbformat_minor": 1
}
