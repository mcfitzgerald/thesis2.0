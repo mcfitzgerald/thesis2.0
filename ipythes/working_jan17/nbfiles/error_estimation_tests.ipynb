{
 "cells": [
  {
   "cell_type": "code",
   "execution_count": 1,
   "metadata": {
    "collapsed": true
   },
   "outputs": [],
   "source": [
    "import numpy as np\n",
    "import matplotlib.pyplot as plt\n",
    "import models\n",
    "import ligtools\n",
    "import corner\n",
    "from scipy import optimize\n",
    "from Pymod import prep\n",
    "from plotter import semlog\n",
    "%matplotlib inline\n",
    "%load_ext autoreload"
   ]
  },
  {
   "cell_type": "code",
   "execution_count": 2,
   "metadata": {
    "collapsed": true
   },
   "outputs": [],
   "source": [
    "ligs = ligtools.dilser()"
   ]
  },
  {
   "cell_type": "code",
   "execution_count": 7,
   "metadata": {
    "collapsed": true
   },
   "outputs": [],
   "source": [
    "sats = ligtools.klotz1(2.0,ligs)"
   ]
  },
  {
   "cell_type": "code",
   "execution_count": 8,
   "metadata": {
    "collapsed": false
   },
   "outputs": [
    {
     "data": {
      "text/plain": [
       "[<matplotlib.lines.Line2D at 0x110a30ac8>]"
      ]
     },
     "execution_count": 8,
     "metadata": {},
     "output_type": "execute_result"
    },
    {
     "data": {
      "image/png": "[encoded data removed]",
      "text/plain": [
       "<matplotlib.figure.Figure at 0x10d2ed5c0>"
      ]
     },
     "metadata": {},
     "output_type": "display_data"
    }
   ],
   "source": [
    "plt.semilogx(ligs,sats,'.')"
   ]
  },
  {
   "cell_type": "code",
   "execution_count": 10,
   "metadata": {
    "collapsed": false
   },
   "outputs": [
    {
     "data": {
      "text/plain": [
       "array([   1.06414883,  107.11825162,  887.29172575])"
      ]
     },
     "execution_count": 10,
     "metadata": {},
     "output_type": "execute_result"
    }
   ],
   "source": [
    "np.random.normal([1.,100.,1000.],[0.05,5.,50.])"
   ]
  },
  {
   "cell_type": "code",
   "execution_count": 12,
   "metadata": {
    "collapsed": false
   },
   "outputs": [],
   "source": [
    "satr = np.random.normal(sats,(0.05*sats))"
   ]
  },
  {
   "cell_type": "code",
   "execution_count": 13,
   "metadata": {
    "collapsed": false
   },
   "outputs": [
    {
     "data": {
      "text/plain": [
       "[<matplotlib.lines.Line2D at 0x111422470>]"
      ]
     },
     "execution_count": 13,
     "metadata": {},
     "output_type": "execute_result"
    },
    {
     "data": {
      "image/png": "[encoded data removed]",
      "text/plain": [
       "<matplotlib.figure.Figure at 0x10d370358>"
      ]
     },
     "metadata": {},
     "output_type": "display_data"
    }
   ],
   "source": [
    "plt.semilogx(ligs,satr,'.')"
   ]
  },
  {
   "cell_type": "code",
   "execution_count": 14,
   "metadata": {
    "collapsed": true
   },
   "outputs": [],
   "source": [
    "satr_set = np.array([np.random.normal(sats,(0.05*sats)) for i in range(100)])"
   ]
  },
  {
   "cell_type": "code",
   "execution_count": 16,
   "metadata": {
    "collapsed": false
   },
   "outputs": [
    {
     "data": {
      "text/plain": [
       "array([ 0.00200319,  0.00400754,  0.00796041,  0.01573858,  0.03100757,\n",
       "        0.06006071,  0.11304841,  0.20379845,  0.3381096 ,  0.50915628,\n",
       "        0.66504822,  0.80348284,  0.89470909,  0.94853093,  0.97489867,\n",
       "        0.98913778,  0.98106066,  1.00336793])"
      ]
     },
     "execution_count": 16,
     "metadata": {},
     "output_type": "execute_result"
    }
   ],
   "source": [
    "satr_set.mean(axis=0)"
   ]
  },
  {
   "cell_type": "code",
   "execution_count": 18,
   "metadata": {
    "collapsed": false
   },
   "outputs": [
    {
     "data": {
      "text/plain": [
       "array([  9.51517250e-05,   2.00505947e-04,   3.92484116e-04,\n",
       "         7.54979829e-04,   1.83068295e-03,   2.81215224e-03,\n",
       "         5.85620538e-03,   1.03930606e-02,   1.66305118e-02,\n",
       "         2.47341506e-02,   3.23751769e-02,   3.89475368e-02,\n",
       "         3.96846949e-02,   4.54145398e-02,   4.83352954e-02,\n",
       "         4.79439319e-02,   5.57695397e-02,   4.70849581e-02])"
      ]
     },
     "execution_count": 18,
     "metadata": {},
     "output_type": "execute_result"
    }
   ],
   "source": [
    "satr_set.std(axis=0)"
   ]
  },
  {
   "cell_type": "code",
   "execution_count": 21,
   "metadata": {
    "collapsed": false
   },
   "outputs": [
    {
     "data": {
      "text/plain": [
       "[<matplotlib.lines.Line2D at 0x11187f6a0>]"
      ]
     },
     "execution_count": 21,
     "metadata": {},
     "output_type": "execute_result"
    },
    {
     "data": {
      "image/png": "[encoded data removed]",
      "text/plain": [
       "<matplotlib.figure.Figure at 0x11196d940>"
      ]
     },
     "metadata": {},
     "output_type": "display_data"
    }
   ],
   "source": [
    "plt.semilogx(ligs,satr_set.mean(axis=0),'.')\n",
    "plt.semilogx(ligs,sats,'x')"
   ]
  },
  {
   "cell_type": "code",
   "execution_count": 23,
   "metadata": {
    "collapsed": false
   },
   "outputs": [
    {
     "data": {
      "text/plain": [
       "0.049580266569301097"
      ]
     },
     "execution_count": 23,
     "metadata": {},
     "output_type": "execute_result"
    }
   ],
   "source": [
    "(satr_set.std(axis=0)/satr_set.mean(axis=0)).mean()"
   ]
  },
  {
   "cell_type": "code",
   "execution_count": 32,
   "metadata": {
    "collapsed": false
   },
   "outputs": [
    {
     "data": {
      "image/png": "[encoded data removed]",
      "text/plain": [
       "<matplotlib.figure.Figure at 0x11144cb70>"
      ]
     },
     "metadata": {},
     "output_type": "display_data"
    }
   ],
   "source": [
    "plt.errorbar(ligs,satr_set.mean(axis=0),satr_set.std(axis=0),linestyle='none',fmt='.')\n",
    "plt.plot(ligs,sats,'--')\n",
    "plt.xscale('log')"
   ]
  },
  {
   "cell_type": "code",
   "execution_count": 35,
   "metadata": {
    "collapsed": false
   },
   "outputs": [
    {
     "data": {
      "text/plain": [
       "[<matplotlib.lines.Line2D at 0x112952f60>]"
      ]
     },
     "execution_count": 35,
     "metadata": {},
     "output_type": "execute_result"
    },
    {
     "data": {
      "image/png": "[encoded data removed]",
      "text/plain": [
       "<matplotlib.figure.Figure at 0x112952710>"
      ]
     },
     "metadata": {},
     "output_type": "display_data"
    }
   ],
   "source": [
    "plt.semilogx(ligs,satr_set[5],'.')\n",
    "plt.semilogx(ligs,sats,'-')"
   ]
  },
  {
   "cell_type": "code",
   "execution_count": 53,
   "metadata": {
    "collapsed": false
   },
   "outputs": [],
   "source": [
    "meanholder = []\n",
    "stdholder = []\n",
    "for i in range(1000):\n",
    "    dat = np.array([np.random.normal(sats,(0.05*sats)) for i in range(3)])\n",
    "    meanholder.append(dat.mean(axis=0))\n",
    "    stdholder.append(dat.std(axis=0))\n",
    "meanholder = np.array(meanholder)\n",
    "stdholder = np.array(stdholder)"
   ]
  },
  {
   "cell_type": "code",
   "execution_count": 54,
   "metadata": {
    "collapsed": false
   },
   "outputs": [
    {
     "data": {
      "text/plain": [
       "array([ 0.0192676 ,  0.05242102,  0.03697234,  0.03961675,  0.0252123 ,\n",
       "        0.02019941,  0.01876007,  0.04501127,  0.04794623,  0.04011884,\n",
       "        0.04674381,  0.01732377,  0.01692061,  0.01191728,  0.03530454,\n",
       "        0.01537089,  0.03335906,  0.05127168])"
      ]
     },
     "execution_count": 54,
     "metadata": {},
     "output_type": "execute_result"
    }
   ],
   "source": [
    "stdholder[1]/meanholder[1]"
   ]
  },
  {
   "cell_type": "markdown",
   "metadata": {},
   "source": []
  },
  {
   "cell_type": "code",
   "execution_count": 55,
   "metadata": {
    "collapsed": false
   },
   "outputs": [],
   "source": [
    "singholder = []\n",
    "for i in range(1000):\n",
    "    singholder.append(np.random.normal(sats,(0.05*sats)))\n",
    "singholder = np.array(singholder)"
   ]
  },
  {
   "cell_type": "code",
   "execution_count": 58,
   "metadata": {
    "collapsed": false
   },
   "outputs": [
    {
     "data": {
      "text/plain": [
       "(array([   6.,   15.,   74.,  171.,  279.,  244.,  138.,   64.,    8.,    1.]),\n",
       " array([ 0.00179903,  0.00183954,  0.00188006,  0.00192057,  0.00196108,\n",
       "         0.0020016 ,  0.00204211,  0.00208262,  0.00212314,  0.00216365,\n",
       "         0.00220416]),\n",
       " <a list of 10 Patch objects>)"
      ]
     },
     "execution_count": 58,
     "metadata": {},
     "output_type": "execute_result"
    },
    {
     "data": {
      "image/png": "[encoded data removed]",
      "text/plain": [
       "<matplotlib.figure.Figure at 0x113670b70>"
      ]
     },
     "metadata": {},
     "output_type": "display_data"
    }
   ],
   "source": [
    "plt.hist(singholder[:,0])\n",
    "plt.hist(meanholder[:,0],color='red')"
   ]
  },
  {
   "cell_type": "code",
   "execution_count": 66,
   "metadata": {
    "collapsed": false
   },
   "outputs": [
    {
     "data": {
      "text/plain": [
       "5.7382068746647129e-05"
      ]
     },
     "execution_count": 66,
     "metadata": {},
     "output_type": "execute_result"
    }
   ],
   "source": [
    "meanholder[:,0].std()"
   ]
  },
  {
   "cell_type": "code",
   "execution_count": 65,
   "metadata": {
    "collapsed": false
   },
   "outputs": [
    {
     "data": {
      "text/plain": [
       "9.8750586710073728e-05"
      ]
     },
     "execution_count": 65,
     "metadata": {},
     "output_type": "execute_result"
    }
   ],
   "source": [
    "singholder[:,0].std()"
   ]
  },
  {
   "cell_type": "code",
   "execution_count": 87,
   "metadata": {
    "collapsed": false
   },
   "outputs": [],
   "source": [
    "dats = np.array([np.array([np.random.normal(sats,(0.05*sats)) for i in range(3)]) for i in range(10000)])"
   ]
  },
  {
   "cell_type": "code",
   "execution_count": 77,
   "metadata": {
    "collapsed": false
   },
   "outputs": [
    {
     "data": {
      "text/plain": [
       "array([ 0.04018533,  0.0422891 ,  0.02034097,  0.01390876,  0.03822663,\n",
       "        0.02539303,  0.02127989,  0.024962  ,  0.05019422,  0.02937789,\n",
       "        0.02407379,  0.04358004,  0.01537741,  0.0323142 ,  0.03449493,\n",
       "        0.00801101,  0.03251713,  0.00447232])"
      ]
     },
     "execution_count": 77,
     "metadata": {},
     "output_type": "execute_result"
    }
   ],
   "source": [
    "dat[0].std(axis=0) / dat[0].mean(axis=0)"
   ]
  },
  {
   "cell_type": "code",
   "execution_count": 82,
   "metadata": {
    "collapsed": false
   },
   "outputs": [
    {
     "data": {
      "text/plain": [
       "[<matplotlib.lines.Line2D at 0x114be7c88>]"
      ]
     },
     "execution_count": 82,
     "metadata": {},
     "output_type": "execute_result"
    },
    {
     "data": {
      "image/png": "[encoded data removed]",
      "text/plain": [
       "<matplotlib.figure.Figure at 0x114b77470>"
      ]
     },
     "metadata": {},
     "output_type": "display_data"
    }
   ],
   "source": [
    "plt.semilogx(ligs,dat[4].mean(axis=0),'.')\n",
    "plt.semilogx(ligs,sats,'--')"
   ]
  },
  {
   "cell_type": "code",
   "execution_count": 92,
   "metadata": {
    "collapsed": false
   },
   "outputs": [
    {
     "data": {
      "text/plain": [
       "10000"
      ]
     },
     "execution_count": 92,
     "metadata": {},
     "output_type": "execute_result"
    }
   ],
   "source": [
    "dats.shape[0]"
   ]
  },
  {
   "cell_type": "code",
   "execution_count": 93,
   "metadata": {
    "collapsed": false
   },
   "outputs": [],
   "source": [
    "dats_means = np.array([dats[i].mean(axis=0) for i in range(dats.shape[0])])"
   ]
  },
  {
   "cell_type": "code",
   "execution_count": 94,
   "metadata": {
    "collapsed": false
   },
   "outputs": [
    {
     "data": {
      "text/plain": [
       "array([ 0.00201624,  0.00396402,  0.00746316,  0.01551423,  0.03145773,\n",
       "        0.05668021,  0.11137154,  0.20442587,  0.34701167,  0.50931637,\n",
       "        0.7110616 ,  0.81019513,  0.91513824,  0.92309874,  0.95824912,\n",
       "        1.00841561,  0.95196861,  1.01314712])"
      ]
     },
     "execution_count": 94,
     "metadata": {},
     "output_type": "execute_result"
    }
   ],
   "source": [
    "dats_means[0]"
   ]
  },
  {
   "cell_type": "code",
   "execution_count": 96,
   "metadata": {
    "collapsed": false
   },
   "outputs": [
    {
     "data": {
      "text/plain": [
       "(10000, 18)"
      ]
     },
     "execution_count": 96,
     "metadata": {},
     "output_type": "execute_result"
    }
   ],
   "source": [
    "dats_means.shape"
   ]
  },
  {
   "cell_type": "code",
   "execution_count": 97,
   "metadata": {
    "collapsed": true
   },
   "outputs": [],
   "source": [
    "parm = np.array([0.6])"
   ]
  },
  {
   "cell_type": "code",
   "execution_count": 98,
   "metadata": {
    "collapsed": true
   },
   "outputs": [],
   "source": [
    "bound1 = ((0.),(10.))"
   ]
  },
  {
   "cell_type": "code",
   "execution_count": 100,
   "metadata": {
    "collapsed": false
   },
   "outputs": [],
   "source": [
    "resset = [optimize.least_squares(ligtools.klotz1_obj,parm,bounds=bound1,args=(ligs,dats_means[i])) for i in range(dats_means.shape[0])]"
   ]
  },
  {
   "cell_type": "code",
   "execution_count": 102,
   "metadata": {
    "collapsed": false
   },
   "outputs": [
    {
     "data": {
      "text/plain": [
       "10000"
      ]
     },
     "execution_count": 102,
     "metadata": {},
     "output_type": "execute_result"
    }
   ],
   "source": [
    "len(resset)"
   ]
  },
  {
   "cell_type": "code",
   "execution_count": 106,
   "metadata": {
    "collapsed": false
   },
   "outputs": [
    {
     "data": {
      "text/plain": [
       "array([ 1.93873787])"
      ]
     },
     "execution_count": 106,
     "metadata": {},
     "output_type": "execute_result"
    }
   ],
   "source": [
    "resset[6].x"
   ]
  },
  {
   "cell_type": "code",
   "execution_count": 107,
   "metadata": {
    "collapsed": true
   },
   "outputs": [],
   "source": [
    "resset_wt = [optimize.least_squares(ligtools.klotz1_obj,parm,bounds=bound1,args=(ligs,dats_means[i],(dats_means[i]*0.05))) for i in range(dats_means.shape[0])]"
   ]
  },
  {
   "cell_type": "code",
   "execution_count": 108,
   "metadata": {
    "collapsed": true
   },
   "outputs": [],
   "source": [
    "ests = np.array([resset[i].x for i in range(len(resset))])"
   ]
  },
  {
   "cell_type": "code",
   "execution_count": 109,
   "metadata": {
    "collapsed": false
   },
   "outputs": [
    {
     "data": {
      "text/plain": [
       "array([ 1.93873787])"
      ]
     },
     "execution_count": 109,
     "metadata": {},
     "output_type": "execute_result"
    }
   ],
   "source": [
    "ests[6]"
   ]
  },
  {
   "cell_type": "code",
   "execution_count": 110,
   "metadata": {
    "collapsed": true
   },
   "outputs": [],
   "source": [
    "ests_wt = np.array([resset_wt[i].x for i in range(len(resset))])"
   ]
  },
  {
   "cell_type": "code",
   "execution_count": 111,
   "metadata": {
    "collapsed": false
   },
   "outputs": [
    {
     "data": {
      "text/plain": [
       "2.0006691769463254"
      ]
     },
     "execution_count": 111,
     "metadata": {},
     "output_type": "execute_result"
    }
   ],
   "source": [
    "ests.mean()"
   ]
  },
  {
   "cell_type": "code",
   "execution_count": 112,
   "metadata": {
    "collapsed": false
   },
   "outputs": [
    {
     "data": {
      "text/plain": [
       "1.9962831412165412"
      ]
     },
     "execution_count": 112,
     "metadata": {},
     "output_type": "execute_result"
    }
   ],
   "source": [
    "ests_wt.mean()"
   ]
  },
  {
   "cell_type": "code",
   "execution_count": 113,
   "metadata": {
    "collapsed": true
   },
   "outputs": [],
   "source": [
    "hold = np.hstack([ests,ests_wt])"
   ]
  },
  {
   "cell_type": "code",
   "execution_count": 114,
   "metadata": {
    "collapsed": false
   },
   "outputs": [
    {
     "data": {
      "text/plain": [
       "array([[ 2.1100439 ,  1.97579476],\n",
       "       [ 2.12024826,  2.02242479],\n",
       "       [ 1.97388801,  2.01263531],\n",
       "       ..., \n",
       "       [ 1.95775449,  1.98892404],\n",
       "       [ 1.91821112,  1.9938646 ],\n",
       "       [ 1.92975048,  1.98892045]])"
      ]
     },
     "execution_count": 114,
     "metadata": {},
     "output_type": "execute_result"
    }
   ],
   "source": [
    "hold"
   ]
  },
  {
   "cell_type": "code",
   "execution_count": 115,
   "metadata": {
    "collapsed": false
   },
   "outputs": [
    {
     "data": {
      "text/plain": [
       "{'boxes': [<matplotlib.lines.Line2D at 0x11835ba58>,\n",
       "  <matplotlib.lines.Line2D at 0x118393ac8>],\n",
       " 'caps': [<matplotlib.lines.Line2D at 0x118384a90>,\n",
       "  <matplotlib.lines.Line2D at 0x11838c978>,\n",
       "  <matplotlib.lines.Line2D at 0x11839ea90>,\n",
       "  <matplotlib.lines.Line2D at 0x11839ec18>],\n",
       " 'fliers': [<matplotlib.lines.Line2D at 0x1183939e8>,\n",
       "  <matplotlib.lines.Line2D at 0x1183a5c88>],\n",
       " 'means': [],\n",
       " 'medians': [<matplotlib.lines.Line2D at 0x11838cb00>,\n",
       "  <matplotlib.lines.Line2D at 0x1183a5470>],\n",
       " 'whiskers': [<matplotlib.lines.Line2D at 0x118356828>,\n",
       "  <matplotlib.lines.Line2D at 0x1183544e0>,\n",
       "  <matplotlib.lines.Line2D at 0x118399a20>,\n",
       "  <matplotlib.lines.Line2D at 0x118399ba8>]}"
      ]
     },
     "execution_count": 115,
     "metadata": {},
     "output_type": "execute_result"
    },
    {
     "data": {
      "image/png": "[encoded data removed]",
      "text/plain": [
       "<matplotlib.figure.Figure at 0x114bdcf60>"
      ]
     },
     "metadata": {},
     "output_type": "display_data"
    }
   ],
   "source": [
    "plt.boxplot(hold)"
   ]
  },
  {
   "cell_type": "code",
   "execution_count": 120,
   "metadata": {
    "collapsed": false
   },
   "outputs": [
    {
     "data": {
      "text/plain": [
       "array([ 0.06557468,  0.02216892,  0.03541115,  0.03177004,  0.03250443,\n",
       "        0.00716055,  0.03023544,  0.02090031,  0.0426439 ,  0.07603177,\n",
       "        0.0326249 ,  0.07597751,  0.04078639,  0.0261039 ,  0.0269495 ,\n",
       "        0.02036168,  0.04644482,  0.03328113])"
      ]
     },
     "execution_count": 120,
     "metadata": {},
     "output_type": "execute_result"
    }
   ],
   "source": [
    "  dats[0].std(axis=0)/dats[0].mean(axis=0)"
   ]
  },
  {
   "cell_type": "code",
   "execution_count": 121,
   "metadata": {
    "collapsed": true
   },
   "outputs": [],
   "source": [
    "dats_std = np.array([dats[i].std(axis=0) for i in range(dats.shape[0])])"
   ]
  },
  {
   "cell_type": "code",
   "execution_count": 122,
   "metadata": {
    "collapsed": false
   },
   "outputs": [
    {
     "data": {
      "text/plain": [
       "array([  4.52033604e-05,   2.48658167e-05,   1.37382592e-04,\n",
       "         7.08670765e-04,   7.29436318e-04,   1.30258647e-03,\n",
       "         6.00797568e-03,   7.32508340e-03,   5.96236057e-03,\n",
       "         1.73741642e-02,   3.28124332e-02,   3.50939059e-02,\n",
       "         2.63049414e-02,   3.42041056e-02,   1.89124193e-02,\n",
       "         4.25186728e-02,   3.96677676e-02,   4.25582591e-02])"
      ]
     },
     "execution_count": 122,
     "metadata": {},
     "output_type": "execute_result"
    }
   ],
   "source": [
    "dats_std[1]"
   ]
  },
  {
   "cell_type": "code",
   "execution_count": 124,
   "metadata": {
    "collapsed": false
   },
   "outputs": [],
   "source": [
    "resset_tru_wt = [optimize.least_squares(ligtools.klotz1_obj,parm,bounds=bound1,args=(ligs,dats_means[i],dats_std[i])) for i in range(dats_means.shape[0])]"
   ]
  },
  {
   "cell_type": "code",
   "execution_count": 126,
   "metadata": {
    "collapsed": true
   },
   "outputs": [],
   "source": [
    "ests_tru_wt = np.array([resset_tru_wt[i].x for i in range(len(resset_tru_wt))])"
   ]
  },
  {
   "cell_type": "code",
   "execution_count": 127,
   "metadata": {
    "collapsed": true
   },
   "outputs": [],
   "source": [
    "hold = np.hstack([ests,ests_wt,ests_tru_wt])"
   ]
  },
  {
   "cell_type": "code",
   "execution_count": 135,
   "metadata": {
    "collapsed": false
   },
   "outputs": [
    {
     "data": {
      "image/png": "[encoded data removed]",
      "text/plain": [
       "<matplotlib.figure.Figure at 0x1183b65f8>"
      ]
     },
     "metadata": {},
     "output_type": "display_data"
    }
   ],
   "source": [
    "bplot = plt.boxplot(hold)"
   ]
  },
  {
   "cell_type": "code",
   "execution_count": 129,
   "metadata": {
    "collapsed": false
   },
   "outputs": [
    {
     "data": {
      "text/plain": [
       "array([[ 2.1100439 ,  1.97579476,  1.90885742],\n",
       "       [ 2.12024826,  2.02242479,  2.08087796],\n",
       "       [ 1.97388801,  2.01263531,  2.04149327],\n",
       "       ..., \n",
       "       [ 1.95775449,  1.98892404,  1.98037092],\n",
       "       [ 1.91821112,  1.9938646 ,  1.97098313],\n",
       "       [ 1.92975048,  1.98892045,  2.00461949]])"
      ]
     },
     "execution_count": 129,
     "metadata": {},
     "output_type": "execute_result"
    }
   ],
   "source": [
    "hold"
   ]
  },
  {
   "cell_type": "code",
   "execution_count": 132,
   "metadata": {
    "collapsed": false
   },
   "outputs": [
    {
     "name": "stdout",
     "output_type": "stream",
     "text": [
      "2.00066917695 2.00012491687\n"
     ]
    }
   ],
   "source": [
    "print(ests.mean(),np.median(ests))"
   ]
  },
  {
   "cell_type": "code",
   "execution_count": 133,
   "metadata": {
    "collapsed": false
   },
   "outputs": [
    {
     "name": "stdout",
     "output_type": "stream",
     "text": [
      "1.99628314122 1.99622513417\n"
     ]
    }
   ],
   "source": [
    "print(ests_wt.mean(),np.median(ests_wt))"
   ]
  },
  {
   "cell_type": "code",
   "execution_count": 134,
   "metadata": {
    "collapsed": false
   },
   "outputs": [
    {
     "name": "stdout",
     "output_type": "stream",
     "text": [
      "1.99969355911 1.9992205585\n"
     ]
    }
   ],
   "source": [
    "print(ests_tru_wt.mean(),np.median(ests_tru_wt))"
   ]
  },
  {
   "cell_type": "code",
   "execution_count": 137,
   "metadata": {
    "collapsed": false
   },
   "outputs": [
    {
     "data": {
      "text/plain": [
       "dict_values([[<matplotlib.lines.Line2D object at 0x1197fec50>, <matplotlib.lines.Line2D object at 0x119801c18>, <matplotlib.lines.Line2D object at 0x11980dd30>, <matplotlib.lines.Line2D object at 0x11980deb8>, <matplotlib.lines.Line2D object at 0x119818fd0>, <matplotlib.lines.Line2D object at 0x11981ceb8>], [<matplotlib.lines.Line2D object at 0x119801da0>, <matplotlib.lines.Line2D object at 0x119807c88>, <matplotlib.lines.Line2D object at 0x119811da0>, <matplotlib.lines.Line2D object at 0x119811f28>, <matplotlib.lines.Line2D object at 0x11981cfd0>, <matplotlib.lines.Line2D object at 0x119820f28>], [<matplotlib.lines.Line2D object at 0x1197fe9e8>, <matplotlib.lines.Line2D object at 0x11980add8>, <matplotlib.lines.Line2D object at 0x119818748>], [<matplotlib.lines.Line2D object at 0x11980acf8>, <matplotlib.lines.Line2D object at 0x119814f98>, <matplotlib.lines.Line2D object at 0x119824f98>], [], [<matplotlib.lines.Line2D object at 0x119807e10>, <matplotlib.lines.Line2D object at 0x119814780>, <matplotlib.lines.Line2D object at 0x1198240f0>]])"
      ]
     },
     "execution_count": 137,
     "metadata": {},
     "output_type": "execute_result"
    }
   ],
   "source": [
    "bplot.values()"
   ]
  },
  {
   "cell_type": "code",
   "execution_count": 143,
   "metadata": {
    "collapsed": false
   },
   "outputs": [],
   "source": [
    "a = bplot.get('fliers')[0]"
   ]
  },
  {
   "cell_type": "code",
   "execution_count": 144,
   "metadata": {
    "collapsed": false
   },
   "outputs": [
    {
     "data": {
      "text/plain": [
       "matplotlib.lines.Line2D"
      ]
     },
     "execution_count": 144,
     "metadata": {},
     "output_type": "execute_result"
    }
   ],
   "source": [
    "type(a)"
   ]
  },
  {
   "cell_type": "code",
   "execution_count": 145,
   "metadata": {
    "collapsed": false
   },
   "outputs": [
    {
     "ename": "AttributeError",
     "evalue": "'Line2D' object has no attribute 'xdata'",
     "output_type": "error",
     "traceback": [
      "\u001b[0;31m---------------------------------------------------------------------------\u001b[0m",
      "\u001b[0;31mAttributeError\u001b[0m                            Traceback (most recent call last)",
      "\u001b[0;32m<ipython-input-145-001789a79123>\u001b[0m in \u001b[0;36m<module>\u001b[0;34m()\u001b[0m\n\u001b[0;32m----> 1\u001b[0;31m \u001b[0ma\u001b[0m\u001b[0;34m.\u001b[0m\u001b[0mxdata\u001b[0m\u001b[0;34m\u001b[0m\u001b[0m\n\u001b[0m",
      "\u001b[0;31mAttributeError\u001b[0m: 'Line2D' object has no attribute 'xdata'"
     ]
    }
   ],
   "source": []
  },
  {
   "cell_type": "code",
   "execution_count": 147,
   "metadata": {
    "collapsed": false
   },
   "outputs": [
    {
     "data": {
      "text/plain": [
       "dict_values([[<matplotlib.lines.Line2D object at 0x1197fec50>, <matplotlib.lines.Line2D object at 0x119801c18>, <matplotlib.lines.Line2D object at 0x11980dd30>, <matplotlib.lines.Line2D object at 0x11980deb8>, <matplotlib.lines.Line2D object at 0x119818fd0>, <matplotlib.lines.Line2D object at 0x11981ceb8>], [<matplotlib.lines.Line2D object at 0x119801da0>, <matplotlib.lines.Line2D object at 0x119807c88>, <matplotlib.lines.Line2D object at 0x119811da0>, <matplotlib.lines.Line2D object at 0x119811f28>, <matplotlib.lines.Line2D object at 0x11981cfd0>, <matplotlib.lines.Line2D object at 0x119820f28>], [<matplotlib.lines.Line2D object at 0x1197fe9e8>, <matplotlib.lines.Line2D object at 0x11980add8>, <matplotlib.lines.Line2D object at 0x119818748>], [<matplotlib.lines.Line2D object at 0x11980acf8>, <matplotlib.lines.Line2D object at 0x119814f98>, <matplotlib.lines.Line2D object at 0x119824f98>], [], [<matplotlib.lines.Line2D object at 0x119807e10>, <matplotlib.lines.Line2D object at 0x119814780>, <matplotlib.lines.Line2D object at 0x1198240f0>]])"
      ]
     },
     "execution_count": 147,
     "metadata": {},
     "output_type": "execute_result"
    }
   ],
   "source": [
    "bplot.values()"
   ]
  },
  {
   "cell_type": "code",
   "execution_count": 148,
   "metadata": {
    "collapsed": false
   },
   "outputs": [
    {
     "ename": "AttributeError",
     "evalue": "'Line2D' object has no attribute 'values'",
     "output_type": "error",
     "traceback": [
      "\u001b[0;31m---------------------------------------------------------------------------\u001b[0m",
      "\u001b[0;31mAttributeError\u001b[0m                            Traceback (most recent call last)",
      "\u001b[0;32m<ipython-input-148-99a6701d085f>\u001b[0m in \u001b[0;36m<module>\u001b[0;34m()\u001b[0m\n\u001b[0;32m----> 1\u001b[0;31m \u001b[0ma\u001b[0m\u001b[0;34m.\u001b[0m\u001b[0mvalues\u001b[0m\u001b[0;34m\u001b[0m\u001b[0m\n\u001b[0m",
      "\u001b[0;31mAttributeError\u001b[0m: 'Line2D' object has no attribute 'values'"
     ]
    }
   ],
   "source": [
    "a.values"
   ]
  },
  {
   "cell_type": "code",
   "execution_count": 159,
   "metadata": {
    "collapsed": false
   },
   "outputs": [],
   "source": [
    "a = bplot['fliers'][2].get_ydata()"
   ]
  },
  {
   "cell_type": "code",
   "execution_count": 156,
   "metadata": {
    "collapsed": true
   },
   "outputs": [],
   "source": [
    "a = np.array([1,2,3,4])"
   ]
  },
  {
   "cell_type": "code",
   "execution_count": 157,
   "metadata": {
    "collapsed": false
   },
   "outputs": [
    {
     "data": {
      "text/plain": [
       "(array([3]),)"
      ]
     },
     "execution_count": 157,
     "metadata": {},
     "output_type": "execute_result"
    }
   ],
   "source": [
    "np.where(a==4)"
   ]
  },
  {
   "cell_type": "code",
   "execution_count": 158,
   "metadata": {
    "collapsed": false
   },
   "outputs": [
    {
     "data": {
      "text/plain": [
       "(array([], dtype=int64), array([], dtype=int64))"
      ]
     },
     "execution_count": 158,
     "metadata": {},
     "output_type": "execute_result"
    }
   ],
   "source": [
    "np.where(ests_tru_wt==2.2216576)"
   ]
  },
  {
   "cell_type": "code",
   "execution_count": 169,
   "metadata": {
    "collapsed": false
   },
   "outputs": [
    {
     "name": "stdout",
     "output_type": "stream",
     "text": [
      "290\n",
      "508\n",
      "610\n",
      "615\n",
      "651\n"
     ]
    }
   ],
   "source": [
    "for i in a[0:5]:\n",
    "    print(np.where(ests_tru_wt==i)[0][0])"
   ]
  },
  {
   "cell_type": "code",
   "execution_count": 176,
   "metadata": {
    "collapsed": false
   },
   "outputs": [
    {
     "data": {
      "text/plain": [
       "array([ 1.97604577,  2.02298658])"
      ]
     },
     "execution_count": 176,
     "metadata": {},
     "output_type": "execute_result"
    }
   ],
   "source": [
    "np.percentile(ests_tru_wt,[25,75])"
   ]
  },
  {
   "cell_type": "code",
   "execution_count": 174,
   "metadata": {
    "collapsed": false
   },
   "outputs": [],
   "source": [
    "a.sort()"
   ]
  },
  {
   "cell_type": "code",
   "execution_count": 178,
   "metadata": {
    "collapsed": false
   },
   "outputs": [],
   "source": [
    "iqr = np.percentile(ests_tru_wt,[25,75])[1] - np.percentile(ests_tru_wt,[25,75])[0]"
   ]
  },
  {
   "cell_type": "code",
   "execution_count": 179,
   "metadata": {
    "collapsed": false
   },
   "outputs": [
    {
     "data": {
      "text/plain": [
       "0.046940813902383915"
      ]
     },
     "execution_count": 179,
     "metadata": {},
     "output_type": "execute_result"
    }
   ],
   "source": [
    "iqr"
   ]
  },
  {
   "cell_type": "code",
   "execution_count": 180,
   "metadata": {
    "collapsed": false
   },
   "outputs": [
    {
     "data": {
      "text/plain": [
       "0.070411220853575873"
      ]
     },
     "execution_count": 180,
     "metadata": {},
     "output_type": "execute_result"
    }
   ],
   "source": [
    "iqr * 1.5"
   ]
  },
  {
   "cell_type": "code",
   "execution_count": 181,
   "metadata": {
    "collapsed": true
   },
   "outputs": [],
   "source": [
    "fq = np.percentile(ests_tru_wt,25)"
   ]
  },
  {
   "cell_type": "code",
   "execution_count": 183,
   "metadata": {
    "collapsed": true
   },
   "outputs": [],
   "source": [
    "uq = np.percentile(ests_tru_wt,75)"
   ]
  },
  {
   "cell_type": "code",
   "execution_count": 185,
   "metadata": {
    "collapsed": false
   },
   "outputs": [],
   "source": [
    "iqr = uq-fq"
   ]
  },
  {
   "cell_type": "code",
   "execution_count": 186,
   "metadata": {
    "collapsed": false
   },
   "outputs": [
    {
     "data": {
      "text/plain": [
       "0.046940813902383915"
      ]
     },
     "execution_count": 186,
     "metadata": {},
     "output_type": "execute_result"
    }
   ],
   "source": [
    "iqr"
   ]
  },
  {
   "cell_type": "code",
   "execution_count": 187,
   "metadata": {
    "collapsed": false
   },
   "outputs": [
    {
     "data": {
      "text/plain": [
       "2.093397803136166"
      ]
     },
     "execution_count": 187,
     "metadata": {},
     "output_type": "execute_result"
    }
   ],
   "source": [
    "uq + (1.5*iqr)"
   ]
  },
  {
   "cell_type": "code",
   "execution_count": 188,
   "metadata": {
    "collapsed": false
   },
   "outputs": [
    {
     "data": {
      "text/plain": [
       "1.9056345475266303"
      ]
     },
     "execution_count": 188,
     "metadata": {},
     "output_type": "execute_result"
    }
   ],
   "source": [
    "fq-(1.5*iqr)"
   ]
  },
  {
   "cell_type": "code",
   "execution_count": 189,
   "metadata": {
    "collapsed": false
   },
   "outputs": [
    {
     "data": {
      "text/plain": [
       "array([ 1.32133106,  1.52406163,  1.62853535,  1.71283853,  1.75135363,\n",
       "        1.77091701,  1.77815302,  1.78159994,  1.79359014,  1.79822237,\n",
       "        1.80015345,  1.80091884,  1.81183098,  1.81267785,  1.81359406,\n",
       "        1.82198577,  1.82671743,  1.82872546,  1.82891974,  1.83152418,\n",
       "        1.83159496,  1.83968913,  1.83980696,  1.84214863,  1.84400531,\n",
       "        1.84614786,  1.84712788,  1.84831093,  1.85043445,  1.85117541,\n",
       "        1.8558189 ,  1.85687884,  1.85863065,  1.8593463 ,  1.86014131,\n",
       "        1.86031192,  1.86535112,  1.86535454,  1.86616312,  1.86633479,\n",
       "        1.86703682,  1.86835706,  1.86924861,  1.86993363,  1.87024518,\n",
       "        1.87090569,  1.87111243,  1.87156474,  1.87171722,  1.87220495,\n",
       "        1.87270962,  1.87315218,  1.87462374,  1.87520008,  1.87551404,\n",
       "        1.87577056,  1.87640026,  1.87652092,  1.87657849,  1.87726032,\n",
       "        1.87792173,  1.87845464,  1.87956691,  1.87966606,  1.87976362,\n",
       "        1.88001946,  1.8801124 ,  1.88182291,  1.88204784,  1.8822728 ,\n",
       "        1.8832838 ,  1.88337918,  1.88503927,  1.88523673,  1.88525054,\n",
       "        1.88586992,  1.88652708,  1.88669879,  1.88706252,  1.88712731,\n",
       "        1.88714303,  1.88762995,  1.88867933,  1.88895744,  1.89016432,\n",
       "        1.89035435,  1.89089777,  1.89090334,  1.89109598,  1.8918159 ,\n",
       "        1.89289022,  1.89337992,  1.89347013,  1.89387612,  1.89388058,\n",
       "        1.89417034,  1.8945112 ,  1.89470481,  1.89474081,  1.89507466,\n",
       "        1.89508792,  1.89570147,  1.89578214,  1.89697286,  1.89704849,\n",
       "        1.89707681,  1.89743317,  1.89744897,  1.89770471,  1.89778594,\n",
       "        1.89802983,  1.89816862,  1.89842151,  1.89862634,  1.89871932,\n",
       "        1.89874604,  1.89877359,  1.89884329,  1.89910498,  1.89929621,\n",
       "        1.89947846,  1.89970713,  1.89983295,  1.89995431,  1.90016875,\n",
       "        1.90018779,  1.90031496,  1.90065295,  1.90106971,  1.90197817,\n",
       "        1.90223223,  1.90276003,  1.90279951,  1.90361618,  1.90361725,\n",
       "        1.90374792,  1.90395776,  1.90397254,  1.90402975,  1.90428564,\n",
       "        1.90473096,  1.90497122,  1.90502864,  1.90504913,  1.90527575,\n",
       "        1.90528957,  1.90562254,  2.09351301,  2.0936337 ,  2.09393188,\n",
       "        2.09422889,  2.09438154,  2.0944059 ,  2.09454828,  2.09460212,\n",
       "        2.09469887,  2.09470641,  2.09500124,  2.09537022,  2.09570324,\n",
       "        2.09593583,  2.09675827,  2.09687958,  2.09704675,  2.0970999 ,\n",
       "        2.09795542,  2.09804722,  2.09805203,  2.09808408,  2.09814484,\n",
       "        2.09816237,  2.09828627,  2.09839682,  2.09856024,  2.09882573,\n",
       "        2.09920824,  2.09921075,  2.09936062,  2.09937966,  2.09941017,\n",
       "        2.09965671,  2.10086055,  2.10255848,  2.10262702,  2.10346539,\n",
       "        2.10386497,  2.10389985,  2.10399845,  2.10413425,  2.10457167,\n",
       "        2.10471339,  2.10477443,  2.10522142,  2.10554302,  2.1059052 ,\n",
       "        2.10596418,  2.10617494,  2.10638108,  2.10695139,  2.10701234,\n",
       "        2.10739308,  2.10850841,  2.10856013,  2.10913032,  2.10996975,\n",
       "        2.11027603,  2.11057501,  2.11069612,  2.11070234,  2.11089014,\n",
       "        2.11116934,  2.11171926,  2.1130901 ,  2.11333954,  2.11368794,\n",
       "        2.11385443,  2.11413116,  2.11442592,  2.11481375,  2.11536061,\n",
       "        2.11566972,  2.11569615,  2.11629998,  2.11681838,  2.11731784,\n",
       "        2.11737015,  2.11785222,  2.11871798,  2.11904281,  2.11969946,\n",
       "        2.11977179,  2.11993969,  2.12018065,  2.12037982,  2.12060934,\n",
       "        2.12074584,  2.12156259,  2.12186131,  2.121942  ,  2.12243034,\n",
       "        2.12369552,  2.12415834,  2.12512751,  2.12513607,  2.12555972,\n",
       "        2.12594458,  2.12649967,  2.12655306,  2.12694287,  2.12738227,\n",
       "        2.1276782 ,  2.12783558,  2.12796045,  2.12843468,  2.12898757,\n",
       "        2.13357664,  2.13447067,  2.1345229 ,  2.13582285,  2.13648086,\n",
       "        2.13680949,  2.13941998,  2.14142677,  2.14261728,  2.14357986,\n",
       "        2.14377114,  2.14643115,  2.14866288,  2.14902237,  2.15014354,\n",
       "        2.15123516,  2.152556  ,  2.15256818,  2.15287504,  2.15342525,\n",
       "        2.16212694,  2.16287944,  2.16405169,  2.16487108,  2.16741319,\n",
       "        2.16802114,  2.1778847 ,  2.18232638,  2.20241484,  2.20267962,\n",
       "        2.20538718,  2.20946664,  2.20956431,  2.21467471,  2.21580673,\n",
       "        2.2216576 ,  2.22748858,  2.22767629,  2.25227109,  2.25583174,\n",
       "        2.30511714,  2.36414845,  2.38623353,  2.44504614,  3.42512013,\n",
       "        3.54254198])"
      ]
     },
     "execution_count": 189,
     "metadata": {},
     "output_type": "execute_result"
    }
   ],
   "source": [
    "a"
   ]
  },
  {
   "cell_type": "code",
   "execution_count": 190,
   "metadata": {
    "collapsed": true
   },
   "outputs": [],
   "source": [
    "a = bplot['fliers'][2].get_ydata()"
   ]
  },
  {
   "cell_type": "code",
   "execution_count": 191,
   "metadata": {
    "collapsed": false
   },
   "outputs": [
    {
     "data": {
      "text/plain": [
       "array([ 1.32133106,  1.52406163,  1.62853535,  1.71283853,  1.75135363,\n",
       "        1.77091701,  1.77815302,  1.78159994,  1.79359014,  1.79822237,\n",
       "        1.80015345,  1.80091884,  1.81183098,  1.81267785,  1.81359406,\n",
       "        1.82198577,  1.82671743,  1.82872546,  1.82891974,  1.83152418,\n",
       "        1.83159496,  1.83968913,  1.83980696,  1.84214863,  1.84400531,\n",
       "        1.84614786,  1.84712788,  1.84831093,  1.85043445,  1.85117541,\n",
       "        1.8558189 ,  1.85687884,  1.85863065,  1.8593463 ,  1.86014131,\n",
       "        1.86031192,  1.86535112,  1.86535454,  1.86616312,  1.86633479,\n",
       "        1.86703682,  1.86835706,  1.86924861,  1.86993363,  1.87024518,\n",
       "        1.87090569,  1.87111243,  1.87156474,  1.87171722,  1.87220495,\n",
       "        1.87270962,  1.87315218,  1.87462374,  1.87520008,  1.87551404,\n",
       "        1.87577056,  1.87640026,  1.87652092,  1.87657849,  1.87726032,\n",
       "        1.87792173,  1.87845464,  1.87956691,  1.87966606,  1.87976362,\n",
       "        1.88001946,  1.8801124 ,  1.88182291,  1.88204784,  1.8822728 ,\n",
       "        1.8832838 ,  1.88337918,  1.88503927,  1.88523673,  1.88525054,\n",
       "        1.88586992,  1.88652708,  1.88669879,  1.88706252,  1.88712731,\n",
       "        1.88714303,  1.88762995,  1.88867933,  1.88895744,  1.89016432,\n",
       "        1.89035435,  1.89089777,  1.89090334,  1.89109598,  1.8918159 ,\n",
       "        1.89289022,  1.89337992,  1.89347013,  1.89387612,  1.89388058,\n",
       "        1.89417034,  1.8945112 ,  1.89470481,  1.89474081,  1.89507466,\n",
       "        1.89508792,  1.89570147,  1.89578214,  1.89697286,  1.89704849,\n",
       "        1.89707681,  1.89743317,  1.89744897,  1.89770471,  1.89778594,\n",
       "        1.89802983,  1.89816862,  1.89842151,  1.89862634,  1.89871932,\n",
       "        1.89874604,  1.89877359,  1.89884329,  1.89910498,  1.89929621,\n",
       "        1.89947846,  1.89970713,  1.89983295,  1.89995431,  1.90016875,\n",
       "        1.90018779,  1.90031496,  1.90065295,  1.90106971,  1.90197817,\n",
       "        1.90223223,  1.90276003,  1.90279951,  1.90361618,  1.90361725,\n",
       "        1.90374792,  1.90395776,  1.90397254,  1.90402975,  1.90428564,\n",
       "        1.90473096,  1.90497122,  1.90502864,  1.90504913,  1.90527575,\n",
       "        1.90528957,  1.90562254,  2.09351301,  2.0936337 ,  2.09393188,\n",
       "        2.09422889,  2.09438154,  2.0944059 ,  2.09454828,  2.09460212,\n",
       "        2.09469887,  2.09470641,  2.09500124,  2.09537022,  2.09570324,\n",
       "        2.09593583,  2.09675827,  2.09687958,  2.09704675,  2.0970999 ,\n",
       "        2.09795542,  2.09804722,  2.09805203,  2.09808408,  2.09814484,\n",
       "        2.09816237,  2.09828627,  2.09839682,  2.09856024,  2.09882573,\n",
       "        2.09920824,  2.09921075,  2.09936062,  2.09937966,  2.09941017,\n",
       "        2.09965671,  2.10086055,  2.10255848,  2.10262702,  2.10346539,\n",
       "        2.10386497,  2.10389985,  2.10399845,  2.10413425,  2.10457167,\n",
       "        2.10471339,  2.10477443,  2.10522142,  2.10554302,  2.1059052 ,\n",
       "        2.10596418,  2.10617494,  2.10638108,  2.10695139,  2.10701234,\n",
       "        2.10739308,  2.10850841,  2.10856013,  2.10913032,  2.10996975,\n",
       "        2.11027603,  2.11057501,  2.11069612,  2.11070234,  2.11089014,\n",
       "        2.11116934,  2.11171926,  2.1130901 ,  2.11333954,  2.11368794,\n",
       "        2.11385443,  2.11413116,  2.11442592,  2.11481375,  2.11536061,\n",
       "        2.11566972,  2.11569615,  2.11629998,  2.11681838,  2.11731784,\n",
       "        2.11737015,  2.11785222,  2.11871798,  2.11904281,  2.11969946,\n",
       "        2.11977179,  2.11993969,  2.12018065,  2.12037982,  2.12060934,\n",
       "        2.12074584,  2.12156259,  2.12186131,  2.121942  ,  2.12243034,\n",
       "        2.12369552,  2.12415834,  2.12512751,  2.12513607,  2.12555972,\n",
       "        2.12594458,  2.12649967,  2.12655306,  2.12694287,  2.12738227,\n",
       "        2.1276782 ,  2.12783558,  2.12796045,  2.12843468,  2.12898757,\n",
       "        2.13357664,  2.13447067,  2.1345229 ,  2.13582285,  2.13648086,\n",
       "        2.13680949,  2.13941998,  2.14142677,  2.14261728,  2.14357986,\n",
       "        2.14377114,  2.14643115,  2.14866288,  2.14902237,  2.15014354,\n",
       "        2.15123516,  2.152556  ,  2.15256818,  2.15287504,  2.15342525,\n",
       "        2.16212694,  2.16287944,  2.16405169,  2.16487108,  2.16741319,\n",
       "        2.16802114,  2.1778847 ,  2.18232638,  2.20241484,  2.20267962,\n",
       "        2.20538718,  2.20946664,  2.20956431,  2.21467471,  2.21580673,\n",
       "        2.2216576 ,  2.22748858,  2.22767629,  2.25227109,  2.25583174,\n",
       "        2.30511714,  2.36414845,  2.38623353,  2.44504614,  3.42512013,\n",
       "        3.54254198])"
      ]
     },
     "execution_count": 191,
     "metadata": {},
     "output_type": "execute_result"
    }
   ],
   "source": [
    "a"
   ]
  },
  {
   "cell_type": "code",
   "execution_count": 194,
   "metadata": {
    "collapsed": false
   },
   "outputs": [
    {
     "data": {
      "text/plain": [
       "7323"
      ]
     },
     "execution_count": 194,
     "metadata": {},
     "output_type": "execute_result"
    }
   ],
   "source": [
    "np.where(ests_tru_wt==a[1])[0][0]"
   ]
  },
  {
   "cell_type": "code",
   "execution_count": 196,
   "metadata": {
    "collapsed": false
   },
   "outputs": [],
   "source": [
    "inds = [np.where(ests_tru_wt==a[i])[0][0] for i in range(len(a))]"
   ]
  },
  {
   "cell_type": "code",
   "execution_count": 199,
   "metadata": {
    "collapsed": false
   },
   "outputs": [],
   "source": [
    "flier_sets = np.array([dats_means[i] for i in inds])"
   ]
  },
  {
   "cell_type": "code",
   "execution_count": 200,
   "metadata": {
    "collapsed": true
   },
   "outputs": [],
   "source": [
    "flier_stds = np.array([dats_std[i] for i in inds])"
   ]
  },
  {
   "cell_type": "code",
   "execution_count": 202,
   "metadata": {
    "collapsed": false
   },
   "outputs": [
    {
     "data": {
      "text/plain": [
       "0.035723542531546713"
      ]
     },
     "execution_count": 202,
     "metadata": {},
     "output_type": "execute_result"
    }
   ],
   "source": [
    "np.mean(flier_stds/flier_sets)"
   ]
  },
  {
   "cell_type": "code",
   "execution_count": 204,
   "metadata": {
    "collapsed": true
   },
   "outputs": [],
   "source": [
    "testar = np.array([1,2,3,2,5,6])"
   ]
  },
  {
   "cell_type": "code",
   "execution_count": 207,
   "metadata": {
    "collapsed": false
   },
   "outputs": [],
   "source": [
    "inds1 = np.where(testar == 2)[0]"
   ]
  },
  {
   "cell_type": "code",
   "execution_count": 208,
   "metadata": {
    "collapsed": false
   },
   "outputs": [
    {
     "data": {
      "text/plain": [
       "array([1, 3, 5, 6])"
      ]
     },
     "execution_count": 208,
     "metadata": {},
     "output_type": "execute_result"
    }
   ],
   "source": [
    "np.delete(testar,inds1)"
   ]
  },
  {
   "cell_type": "code",
   "execution_count": 209,
   "metadata": {
    "collapsed": false
   },
   "outputs": [
    {
     "data": {
      "text/plain": [
       "array([1, 2, 3, 2, 5, 6])"
      ]
     },
     "execution_count": 209,
     "metadata": {},
     "output_type": "execute_result"
    }
   ],
   "source": [
    "testar"
   ]
  },
  {
   "cell_type": "code",
   "execution_count": 210,
   "metadata": {
    "collapsed": true
   },
   "outputs": [],
   "source": [
    "nonfliers = np.delete(ests_tru_wt,inds)"
   ]
  },
  {
   "cell_type": "code",
   "execution_count": 214,
   "metadata": {
    "collapsed": false
   },
   "outputs": [
    {
     "data": {
      "text/plain": [
       "9699"
      ]
     },
     "execution_count": 214,
     "metadata": {},
     "output_type": "execute_result"
    }
   ],
   "source": [
    "nonfliers.size"
   ]
  },
  {
   "cell_type": "code",
   "execution_count": 217,
   "metadata": {
    "collapsed": false
   },
   "outputs": [
    {
     "data": {
      "text/plain": [
       "301"
      ]
     },
     "execution_count": 217,
     "metadata": {},
     "output_type": "execute_result"
    }
   ],
   "source": [
    "len(inds)"
   ]
  },
  {
   "cell_type": "code",
   "execution_count": null,
   "metadata": {
    "collapsed": true
   },
   "outputs": [],
   "source": []
  }
 ],
 "metadata": {
  "anaconda-cloud": {},
  "kernelspec": {
   "display_name": "Python [conda env:fitter]",
   "language": "python",
   "name": "conda-env-fitter-py"
  },
  "language_info": {
   "codemirror_mode": {
    "name": "ipython",
    "version": 3
   },
   "file_extension": ".py",
   "mimetype": "text/x-python",
   "name": "python",
   "nbconvert_exporter": "python",
   "pygments_lexer": "ipython3",
   "version": "3.5.2"
  }
 },
 "nbformat": 4,
 "nbformat_minor": 1
}
