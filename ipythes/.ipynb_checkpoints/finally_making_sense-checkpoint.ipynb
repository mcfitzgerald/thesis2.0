{
 "cells": [
  {
   "cell_type": "code",
   "execution_count": 63,
   "metadata": {
    "collapsed": true
   },
   "outputs": [],
   "source": [
    "import numpy as np"
   ]
  },
  {
   "cell_type": "code",
   "execution_count": 64,
   "metadata": {
    "collapsed": true
   },
   "outputs": [],
   "source": [
    "import lmfit as lft"
   ]
  },
  {
   "cell_type": "code",
   "execution_count": 65,
   "metadata": {
    "collapsed": true
   },
   "outputs": [],
   "source": [
    "import ligmods"
   ]
  },
  {
   "cell_type": "code",
   "execution_count": 66,
   "metadata": {
    "collapsed": true
   },
   "outputs": [],
   "source": [
    "L = ligmods.dilser()"
   ]
  },
  {
   "cell_type": "code",
   "execution_count": 67,
   "metadata": {
    "collapsed": true
   },
   "outputs": [],
   "source": [
    "def klotz1(flig,k1):\n",
    "    \"returns bound fraction given free ligand, L, and K (assoc.)\"\n",
    "    return (flig*k1)/(1+(flig*k1))"
   ]
  },
  {
   "cell_type": "code",
   "execution_count": 68,
   "metadata": {
    "collapsed": false
   },
   "outputs": [],
   "source": [
    "B = klotz1(L,2)"
   ]
  },
  {
   "cell_type": "code",
   "execution_count": 69,
   "metadata": {
    "collapsed": true
   },
   "outputs": [],
   "source": [
    "import matplotlib.pyplot as plt"
   ]
  },
  {
   "cell_type": "code",
   "execution_count": 70,
   "metadata": {
    "collapsed": true
   },
   "outputs": [],
   "source": [
    "%matplotlib inline"
   ]
  },
  {
   "cell_type": "code",
   "execution_count": 71,
   "metadata": {
    "collapsed": false
   },
   "outputs": [
    {
     "data": {
      "text/plain": [
       "[<matplotlib.lines.Line2D at 0x110a52e10>]"
      ]
     },
     "execution_count": 71,
     "metadata": {},
     "output_type": "execute_result"
    },
    {
     "data": {
      "image/png": "[encoded data removed]",
      "text/plain": [
       "<matplotlib.figure.Figure at 0x104a1d5c0>"
      ]
     },
     "metadata": {},
     "output_type": "display_data"
    }
   ],
   "source": [
    "plt.semilogx(L,B)"
   ]
  },
  {
   "cell_type": "code",
   "execution_count": 72,
   "metadata": {
    "collapsed": true
   },
   "outputs": [],
   "source": [
    "datset = []\n",
    "for i in range(5):\n",
    "    datset.append(ligmods.noiser(B))"
   ]
  },
  {
   "cell_type": "code",
   "execution_count": 73,
   "metadata": {
    "collapsed": true
   },
   "outputs": [],
   "source": [
    "datset = np.array(datset)"
   ]
  },
  {
   "cell_type": "code",
   "execution_count": 74,
   "metadata": {
    "collapsed": false
   },
   "outputs": [
    {
     "data": {
      "text/plain": [
       "array([[ 0.0020645 ,  0.00397066,  0.00816959,  0.01512572,  0.02948414,\n",
       "         0.06083156,  0.10846994,  0.20363406,  0.34109011,  0.48310599,\n",
       "         0.69178908,  0.78301688,  1.00085284,  0.94205716,  0.96697417,\n",
       "         1.00184185,  0.93674876,  0.89911   ],\n",
       "       [ 0.00209165,  0.00430797,  0.00799895,  0.01725618,  0.03035988,\n",
       "         0.0616098 ,  0.11414763,  0.20248603,  0.32930843,  0.54336229,\n",
       "         0.67204594,  0.78626534,  0.9475001 ,  0.9427605 ,  0.96582632,\n",
       "         0.93996292,  0.91307529,  1.03895896],\n",
       "       [ 0.00211733,  0.00386485,  0.0076793 ,  0.01617572,  0.02786437,\n",
       "         0.0569784 ,  0.12059621,  0.21564255,  0.34262204,  0.47534793,\n",
       "         0.6414833 ,  0.77070767,  0.96590474,  0.87794637,  1.0872848 ,\n",
       "         0.99742407,  0.92835765,  1.00304902],\n",
       "       [ 0.00196498,  0.00410785,  0.008     ,  0.01619819,  0.02967823,\n",
       "         0.05902585,  0.11501472,  0.21683295,  0.35304764,  0.46858293,\n",
       "         0.68888722,  0.77918005,  0.89101595,  0.96621815,  0.99933724,\n",
       "         0.98872979,  0.96678775,  0.96200982],\n",
       "       [ 0.0022058 ,  0.0041223 ,  0.00855011,  0.01725433,  0.03157319,\n",
       "         0.05988637,  0.11414861,  0.20252199,  0.34111805,  0.54256177,\n",
       "         0.65453451,  0.82882735,  0.9496487 ,  0.86221321,  0.92318823,\n",
       "         0.93755521,  0.96091674,  1.01591317]])"
      ]
     },
     "execution_count": 74,
     "metadata": {},
     "output_type": "execute_result"
    }
   ],
   "source": [
    "datset"
   ]
  },
  {
   "cell_type": "code",
   "execution_count": 75,
   "metadata": {
    "collapsed": true
   },
   "outputs": [],
   "source": [
    "datset_hi = []\n",
    "for i in range(4):\n",
    "    datset_hi.append(ligmods.noiser(B))"
   ]
  },
  {
   "cell_type": "code",
   "execution_count": 76,
   "metadata": {
    "collapsed": true
   },
   "outputs": [],
   "source": [
    "datset_hi.append(ligmods.noiser(B,percent=0.2))"
   ]
  },
  {
   "cell_type": "code",
   "execution_count": 77,
   "metadata": {
    "collapsed": true
   },
   "outputs": [],
   "source": [
    "datset_hi = np.array(datset_hi)"
   ]
  },
  {
   "cell_type": "code",
   "execution_count": 78,
   "metadata": {
    "collapsed": false
   },
   "outputs": [
    {
     "data": {
      "text/plain": [
       "array([[ 0.00208723,  0.00384093,  0.00809703,  0.01540056,  0.03037473,\n",
       "         0.06138161,  0.09959745,  0.2082986 ,  0.36938596,  0.5249268 ,\n",
       "         0.68423711,  0.74769207,  0.86632021,  0.93569116,  0.95613947,\n",
       "         1.05952693,  0.95533674,  1.12623756],\n",
       "       [ 0.00210321,  0.00388515,  0.00784434,  0.01560041,  0.03341738,\n",
       "         0.05563314,  0.11743339,  0.19422176,  0.35967269,  0.46648518,\n",
       "         0.65813945,  0.89697707,  0.86875034,  0.95618485,  0.96828386,\n",
       "         0.91410525,  1.03830838,  1.02830652],\n",
       "       [ 0.00211047,  0.00403549,  0.00797687,  0.01601563,  0.03345345,\n",
       "         0.05864377,  0.11373425,  0.20543624,  0.33866959,  0.49752757,\n",
       "         0.66826208,  0.81079976,  0.93372757,  0.98350673,  0.94958298,\n",
       "         0.97685333,  1.02696681,  1.04016791],\n",
       "       [ 0.00196008,  0.00371222,  0.00746939,  0.01596473,  0.03171546,\n",
       "         0.05830691,  0.11065512,  0.21507686,  0.31475241,  0.51079154,\n",
       "         0.65371137,  0.78225365,  0.92028466,  0.99162291,  1.04383441,\n",
       "         1.01578001,  0.99255713,  1.0481697 ],\n",
       "       [ 0.0015962 ,  0.00484419,  0.00520846,  0.01783786,  0.03425598,\n",
       "         0.05683551,  0.0879774 ,  0.17854023,  0.39343975,  0.49140397,\n",
       "         0.74160196,  1.08193428,  0.55566532,  0.72099202,  0.87844996,\n",
       "         1.31547891,  0.86722283,  1.10732059]])"
      ]
     },
     "execution_count": 78,
     "metadata": {},
     "output_type": "execute_result"
    }
   ],
   "source": [
    "datset_hi[0:5]"
   ]
  },
  {
   "cell_type": "code",
   "execution_count": 79,
   "metadata": {
    "collapsed": false
   },
   "outputs": [
    {
     "data": {
      "text/plain": [
       "[<matplotlib.lines.Line2D at 0x11043b710>]"
      ]
     },
     "execution_count": 79,
     "metadata": {},
     "output_type": "execute_result"
    },
    {
     "data": {
      "image/png": "[encoded data removed]",
      "text/plain": [
       "<matplotlib.figure.Figure at 0x11043b4a8>"
      ]
     },
     "metadata": {},
     "output_type": "display_data"
    }
   ],
   "source": [
    "for i in range(4):\n",
    "    plt.semilogx(L,datset_hi[i],'+')\n",
    "plt.semilogx(L,datset_hi[4],'bo')"
   ]
  },
  {
   "cell_type": "code",
   "execution_count": 80,
   "metadata": {
    "collapsed": false
   },
   "outputs": [],
   "source": [
    "params = lft.Parameters()"
   ]
  },
  {
   "cell_type": "code",
   "execution_count": 81,
   "metadata": {
    "collapsed": true
   },
   "outputs": [],
   "source": [
    "params.add('k1',value=47)"
   ]
  },
  {
   "cell_type": "code",
   "execution_count": 82,
   "metadata": {
    "collapsed": false
   },
   "outputs": [
    {
     "data": {
      "text/plain": [
       "Parameters([('k1', <Parameter 'k1', 47, bounds=[-inf:inf]>)])"
      ]
     },
     "execution_count": 82,
     "metadata": {},
     "output_type": "execute_result"
    }
   ],
   "source": [
    "params"
   ]
  },
  {
   "cell_type": "code",
   "execution_count": 83,
   "metadata": {
    "collapsed": true
   },
   "outputs": [],
   "source": [
    "params1 = params"
   ]
  },
  {
   "cell_type": "code",
   "execution_count": 84,
   "metadata": {
    "collapsed": true
   },
   "outputs": [],
   "source": [
    "def objfun(params,x,data,eps=None):\n",
    "    nexp, npts = data.shape #number of experiments and number of data points per exp\n",
    "    resid = np.zeros(data.shape)\n",
    "    k1 = params['k1']\n",
    "    model = klotz1(x,k1)\n",
    "    \n",
    "    if eps is None:\n",
    "        for i in range(nexp):\n",
    "            resid[i, :] = (data[i, :] - model)\n",
    "            return resid.flatten()\n",
    "    else:\n",
    "        for i in range(nexp):\n",
    "            weights = 1/(np.square(eps[i, :]))\n",
    "            resid[i, :] = (data[i, :] - model)*weights\n",
    "            return resid.flatten()"
   ]
  },
  {
   "cell_type": "code",
   "execution_count": 85,
   "metadata": {
    "collapsed": false
   },
   "outputs": [],
   "source": [
    "minner1 = lft.Minimizer(objfun,params1,fcn_args=(L,datset))"
   ]
  },
  {
   "cell_type": "code",
   "execution_count": 86,
   "metadata": {
    "collapsed": false
   },
   "outputs": [],
   "source": [
    "result1 = minner1.minimize()"
   ]
  },
  {
   "cell_type": "code",
   "execution_count": 87,
   "metadata": {
    "collapsed": false
   },
   "outputs": [
    {
     "name": "stdout",
     "output_type": "stream",
     "text": [
      "[[Fit Statistics]]\n",
      "    # function evals   = 20\n",
      "    # data points      = 90\n",
      "    # variables        = 1\n",
      "    chi-square         = 0.026\n",
      "    reduced chi-square = 0.000\n",
      "    Akaike info crit   = -731.077\n",
      "    Bayesian info crit = -728.577\n",
      "[[Variables]]\n",
      "    k1:   2.04390453 +/- 0.071391 (3.49%) (init= 47)\n",
      "[[Correlations]] (unreported correlations are <  0.100)\n"
     ]
    }
   ],
   "source": [
    "lft.report_fit(result1)"
   ]
  },
  {
   "cell_type": "code",
   "execution_count": 88,
   "metadata": {
    "collapsed": false
   },
   "outputs": [
    {
     "data": {
      "text/plain": [
       "Parameters([('k1', <Parameter 'k1', 47, bounds=[-inf:inf]>)])"
      ]
     },
     "execution_count": 88,
     "metadata": {},
     "output_type": "execute_result"
    }
   ],
   "source": [
    "params1"
   ]
  },
  {
   "cell_type": "code",
   "execution_count": 89,
   "metadata": {
    "collapsed": true
   },
   "outputs": [],
   "source": [
    "minner2 = lft.Minimizer(objfun,params1,fcn_args=(L,datset_hi))"
   ]
  },
  {
   "cell_type": "code",
   "execution_count": 90,
   "metadata": {
    "collapsed": false
   },
   "outputs": [],
   "source": [
    "result2 = minner2.minimize()"
   ]
  },
  {
   "cell_type": "code",
   "execution_count": 91,
   "metadata": {
    "collapsed": false
   },
   "outputs": [
    {
     "name": "stdout",
     "output_type": "stream",
     "text": [
      "[[Fit Statistics]]\n",
      "    # function evals   = 20\n",
      "    # data points      = 90\n",
      "    # variables        = 1\n",
      "    chi-square         = 0.029\n",
      "    reduced chi-square = 0.000\n",
      "    Akaike info crit   = -720.110\n",
      "    Bayesian info crit = -717.610\n",
      "[[Variables]]\n",
      "    k1:   2.02600809 +/- 0.075208 (3.71%) (init= 47)\n",
      "[[Correlations]] (unreported correlations are <  0.100)\n"
     ]
    }
   ],
   "source": [
    "lft.report_fit(result2)"
   ]
  },
  {
   "cell_type": "code",
   "execution_count": 92,
   "metadata": {
    "collapsed": false
   },
   "outputs": [],
   "source": [
    "result2_1 = minner2.minimize(method='nelder')"
   ]
  },
  {
   "cell_type": "code",
   "execution_count": 93,
   "metadata": {
    "collapsed": false
   },
   "outputs": [
    {
     "name": "stdout",
     "output_type": "stream",
     "text": [
      "[[Fit Statistics]]\n",
      "    # function evals   = 49\n",
      "    # data points      = 90\n",
      "    # variables        = 1\n",
      "    chi-square         = 0.029\n",
      "    reduced chi-square = 0.000\n",
      "    Akaike info crit   = -720.110\n",
      "    Bayesian info crit = -717.610\n",
      "[[Variables]]\n",
      "    k1:   2.02598571 (init= 47)\n",
      "[[Correlations]] (unreported correlations are <  0.100)\n"
     ]
    }
   ],
   "source": [
    "lft.report_fit(result2_1)"
   ]
  },
  {
   "cell_type": "code",
   "execution_count": 94,
   "metadata": {
    "collapsed": false
   },
   "outputs": [
    {
     "data": {
      "text/plain": [
       "array([[ 0.0020645 ,  0.00397066,  0.00816959,  0.01512572,  0.02948414,\n",
       "         0.06083156,  0.10846994,  0.20363406,  0.34109011,  0.48310599,\n",
       "         0.69178908,  0.78301688,  1.00085284,  0.94205716,  0.96697417,\n",
       "         1.00184185,  0.93674876,  0.89911   ],\n",
       "       [ 0.00209165,  0.00430797,  0.00799895,  0.01725618,  0.03035988,\n",
       "         0.0616098 ,  0.11414763,  0.20248603,  0.32930843,  0.54336229,\n",
       "         0.67204594,  0.78626534,  0.9475001 ,  0.9427605 ,  0.96582632,\n",
       "         0.93996292,  0.91307529,  1.03895896],\n",
       "       [ 0.00211733,  0.00386485,  0.0076793 ,  0.01617572,  0.02786437,\n",
       "         0.0569784 ,  0.12059621,  0.21564255,  0.34262204,  0.47534793,\n",
       "         0.6414833 ,  0.77070767,  0.96590474,  0.87794637,  1.0872848 ,\n",
       "         0.99742407,  0.92835765,  1.00304902],\n",
       "       [ 0.00196498,  0.00410785,  0.008     ,  0.01619819,  0.02967823,\n",
       "         0.05902585,  0.11501472,  0.21683295,  0.35304764,  0.46858293,\n",
       "         0.68888722,  0.77918005,  0.89101595,  0.96621815,  0.99933724,\n",
       "         0.98872979,  0.96678775,  0.96200982],\n",
       "       [ 0.0022058 ,  0.0041223 ,  0.00855011,  0.01725433,  0.03157319,\n",
       "         0.05988637,  0.11414861,  0.20252199,  0.34111805,  0.54256177,\n",
       "         0.65453451,  0.82882735,  0.9496487 ,  0.86221321,  0.92318823,\n",
       "         0.93755521,  0.96091674,  1.01591317]])"
      ]
     },
     "execution_count": 94,
     "metadata": {},
     "output_type": "execute_result"
    }
   ],
   "source": [
    "datset"
   ]
  },
  {
   "cell_type": "code",
   "execution_count": 95,
   "metadata": {
    "collapsed": false
   },
   "outputs": [
    {
     "data": {
      "text/plain": [
       "(5, 18)"
      ]
     },
     "execution_count": 95,
     "metadata": {},
     "output_type": "execute_result"
    }
   ],
   "source": [
    "datset.shape"
   ]
  },
  {
   "cell_type": "code",
   "execution_count": 96,
   "metadata": {
    "collapsed": true
   },
   "outputs": [],
   "source": [
    "datset_errs = np.ones(datset.shape)"
   ]
  },
  {
   "cell_type": "code",
   "execution_count": 97,
   "metadata": {
    "collapsed": false
   },
   "outputs": [
    {
     "data": {
      "text/plain": [
       "array([[ 1.,  1.,  1.,  1.,  1.,  1.,  1.,  1.,  1.,  1.,  1.,  1.,  1.,\n",
       "         1.,  1.,  1.,  1.,  1.],\n",
       "       [ 1.,  1.,  1.,  1.,  1.,  1.,  1.,  1.,  1.,  1.,  1.,  1.,  1.,\n",
       "         1.,  1.,  1.,  1.,  1.],\n",
       "       [ 1.,  1.,  1.,  1.,  1.,  1.,  1.,  1.,  1.,  1.,  1.,  1.,  1.,\n",
       "         1.,  1.,  1.,  1.,  1.],\n",
       "       [ 1.,  1.,  1.,  1.,  1.,  1.,  1.,  1.,  1.,  1.,  1.,  1.,  1.,\n",
       "         1.,  1.,  1.,  1.,  1.],\n",
       "       [ 1.,  1.,  1.,  1.,  1.,  1.,  1.,  1.,  1.,  1.,  1.,  1.,  1.,\n",
       "         1.,  1.,  1.,  1.,  1.]])"
      ]
     },
     "execution_count": 97,
     "metadata": {},
     "output_type": "execute_result"
    }
   ],
   "source": [
    "datset_errs"
   ]
  },
  {
   "cell_type": "code",
   "execution_count": 98,
   "metadata": {
    "collapsed": false
   },
   "outputs": [],
   "source": [
    "twoz = datset_errs * 2"
   ]
  },
  {
   "cell_type": "code",
   "execution_count": 99,
   "metadata": {
    "collapsed": true
   },
   "outputs": [],
   "source": [
    "furs = twoz*2"
   ]
  },
  {
   "cell_type": "code",
   "execution_count": 100,
   "metadata": {
    "collapsed": false
   },
   "outputs": [
    {
     "data": {
      "text/plain": [
       "array([[ 4.,  4.,  4.,  4.,  4.,  4.,  4.,  4.,  4.,  4.,  4.,  4.,  4.,\n",
       "         4.,  4.,  4.,  4.,  4.],\n",
       "       [ 4.,  4.,  4.,  4.,  4.,  4.,  4.,  4.,  4.,  4.,  4.,  4.,  4.,\n",
       "         4.,  4.,  4.,  4.,  4.],\n",
       "       [ 4.,  4.,  4.,  4.,  4.,  4.,  4.,  4.,  4.,  4.,  4.,  4.,  4.,\n",
       "         4.,  4.,  4.,  4.,  4.],\n",
       "       [ 4.,  4.,  4.,  4.,  4.,  4.,  4.,  4.,  4.,  4.,  4.,  4.,  4.,\n",
       "         4.,  4.,  4.,  4.,  4.],\n",
       "       [ 4.,  4.,  4.,  4.,  4.,  4.,  4.,  4.,  4.,  4.,  4.,  4.,  4.,\n",
       "         4.,  4.,  4.,  4.,  4.]])"
      ]
     },
     "execution_count": 100,
     "metadata": {},
     "output_type": "execute_result"
    }
   ],
   "source": [
    "furs"
   ]
  },
  {
   "cell_type": "code",
   "execution_count": 101,
   "metadata": {
    "collapsed": false
   },
   "outputs": [
    {
     "data": {
      "text/plain": [
       "array([[ 8.,  8.,  8.,  8.,  8.,  8.,  8.,  8.,  8.,  8.,  8.,  8.,  8.,\n",
       "         8.,  8.,  8.,  8.,  8.],\n",
       "       [ 8.,  8.,  8.,  8.,  8.,  8.,  8.,  8.,  8.,  8.,  8.,  8.,  8.,\n",
       "         8.,  8.,  8.,  8.,  8.],\n",
       "       [ 8.,  8.,  8.,  8.,  8.,  8.,  8.,  8.,  8.,  8.,  8.,  8.,  8.,\n",
       "         8.,  8.,  8.,  8.,  8.],\n",
       "       [ 8.,  8.,  8.,  8.,  8.,  8.,  8.,  8.,  8.,  8.,  8.,  8.,  8.,\n",
       "         8.,  8.,  8.,  8.,  8.],\n",
       "       [ 8.,  8.,  8.,  8.,  8.,  8.,  8.,  8.,  8.,  8.,  8.,  8.,  8.,\n",
       "         8.,  8.,  8.,  8.,  8.]])"
      ]
     },
     "execution_count": 101,
     "metadata": {},
     "output_type": "execute_result"
    }
   ],
   "source": [
    "twoz * furs"
   ]
  },
  {
   "cell_type": "code",
   "execution_count": 102,
   "metadata": {
    "collapsed": false
   },
   "outputs": [
    {
     "name": "stderr",
     "output_type": "stream",
     "text": [
      "/Users/michael/miniconda3/envs/fitter/lib/python3.5/site-packages/ipykernel/__main__.py:1: VisibleDeprecationWarning: using a non-integer number instead of an integer will result in an error in the future\n",
      "  if __name__ == '__main__':\n"
     ]
    },
    {
     "data": {
      "text/plain": [
       "array([], shape=(1, 0), dtype=float64)"
      ]
     },
     "execution_count": 102,
     "metadata": {},
     "output_type": "execute_result"
    }
   ],
   "source": [
    "np.random.randn(1,0.10)"
   ]
  },
  {
   "cell_type": "code",
   "execution_count": 103,
   "metadata": {
    "collapsed": false
   },
   "outputs": [],
   "source": [
    "testvars = np.random.normal(1,0.1,100)"
   ]
  },
  {
   "cell_type": "code",
   "execution_count": 104,
   "metadata": {
    "collapsed": false
   },
   "outputs": [
    {
     "data": {
      "text/plain": [
       "1.0032197443696176"
      ]
     },
     "execution_count": 104,
     "metadata": {},
     "output_type": "execute_result"
    }
   ],
   "source": [
    "np.average(testvars)"
   ]
  },
  {
   "cell_type": "code",
   "execution_count": 105,
   "metadata": {
    "collapsed": false
   },
   "outputs": [
    {
     "data": {
      "text/plain": [
       "0.10385937877479574"
      ]
     },
     "execution_count": 105,
     "metadata": {},
     "output_type": "execute_result"
    }
   ],
   "source": [
    "np.std(testvars)"
   ]
  },
  {
   "cell_type": "code",
   "execution_count": 106,
   "metadata": {
    "collapsed": false
   },
   "outputs": [
    {
     "data": {
      "text/plain": [
       "1.2204502122886725"
      ]
     },
     "execution_count": 106,
     "metadata": {},
     "output_type": "execute_result"
    }
   ],
   "source": [
    "np.max(testvars)"
   ]
  },
  {
   "cell_type": "code",
   "execution_count": 107,
   "metadata": {
    "collapsed": false
   },
   "outputs": [
    {
     "data": {
      "text/plain": [
       "0.76923074796718982"
      ]
     },
     "execution_count": 107,
     "metadata": {},
     "output_type": "execute_result"
    }
   ],
   "source": [
    "np.min(testvars)"
   ]
  },
  {
   "cell_type": "code",
   "execution_count": 108,
   "metadata": {
    "collapsed": false
   },
   "outputs": [],
   "source": [
    "errs = np.random.normal(1,0.05,datset.shape)"
   ]
  },
  {
   "cell_type": "code",
   "execution_count": 109,
   "metadata": {
    "collapsed": false
   },
   "outputs": [
    {
     "data": {
      "text/plain": [
       "array([[ 0.98884378,  0.9566731 ,  1.11291901,  0.96249349,  1.06990087,\n",
       "         0.98176942,  0.99349346,  1.08577398,  0.97070084,  1.06548438,\n",
       "         0.93436565,  1.01073042,  0.95406404,  1.01866768,  0.98691212,\n",
       "         0.99861513,  0.98720685,  0.95615044],\n",
       "       [ 0.97775304,  1.01008356,  0.98980536,  1.05761579,  1.00126945,\n",
       "         1.07612343,  0.98227262,  1.03271879,  1.0120252 ,  0.92578324,\n",
       "         0.94379941,  1.06576046,  1.11410183,  0.97971581,  1.01578019,\n",
       "         1.05283616,  0.93651671,  0.97086455],\n",
       "       [ 0.99607298,  0.99998757,  0.94030688,  1.0264623 ,  1.06169795,\n",
       "         0.97882529,  1.10141617,  1.0294271 ,  1.03850576,  1.00952057,\n",
       "         0.91079487,  0.97577244,  0.9655981 ,  0.9566211 ,  0.99872823,\n",
       "         1.01644412,  0.9656906 ,  1.04514934],\n",
       "       [ 0.96414459,  0.96241466,  0.96343861,  0.9840393 ,  0.97475398,\n",
       "         0.95024637,  1.02869265,  1.06678961,  0.96756916,  0.98551918,\n",
       "         1.05305078,  1.07482693,  1.04125055,  1.02517217,  0.98460804,\n",
       "         1.04611578,  1.00704887,  1.03195015],\n",
       "       [ 1.00253046,  0.91310478,  1.02722361,  0.90739682,  1.10412875,\n",
       "         1.03898271,  0.98229872,  1.05196203,  0.99803568,  1.01737619,\n",
       "         1.06827286,  0.96690295,  0.93901149,  0.97030135,  1.08892275,\n",
       "         0.90924276,  1.04821377,  0.96713073]])"
      ]
     },
     "execution_count": 109,
     "metadata": {},
     "output_type": "execute_result"
    }
   ],
   "source": [
    "errs"
   ]
  },
  {
   "cell_type": "code",
   "execution_count": 110,
   "metadata": {
    "collapsed": true
   },
   "outputs": [],
   "source": [
    "datset_sds = errs*datset"
   ]
  },
  {
   "cell_type": "code",
   "execution_count": 111,
   "metadata": {
    "collapsed": false
   },
   "outputs": [],
   "source": [
    "errs = np.random.rand(10)"
   ]
  },
  {
   "cell_type": "code",
   "execution_count": 112,
   "metadata": {
    "collapsed": false
   },
   "outputs": [
    {
     "data": {
      "text/plain": [
       "array([ 0.55996411,  0.57992902,  0.11964011,  0.91101202,  0.1467871 ,\n",
       "        0.82471537,  0.57754992,  0.95357451,  0.63502282,  0.77327999])"
      ]
     },
     "execution_count": 112,
     "metadata": {},
     "output_type": "execute_result"
    }
   ],
   "source": [
    "errs"
   ]
  },
  {
   "cell_type": "code",
   "execution_count": 113,
   "metadata": {
    "collapsed": true
   },
   "outputs": [],
   "source": [
    "errs = np.random.normal(1,0.05,20)"
   ]
  },
  {
   "cell_type": "code",
   "execution_count": 114,
   "metadata": {
    "collapsed": false
   },
   "outputs": [
    {
     "data": {
      "text/plain": [
       "array([ 0.90593955,  1.01175392,  0.954418  ,  1.03209013,  0.99029647,\n",
       "        1.09642805,  1.00034805,  1.03174524,  1.03942732,  0.90863954,\n",
       "        0.97583422,  1.02571867,  0.97900568,  0.99820819,  0.98963799,\n",
       "        1.11019332,  0.96393722,  1.02192598,  1.03371696,  0.9886953 ])"
      ]
     },
     "execution_count": 114,
     "metadata": {},
     "output_type": "execute_result"
    }
   ],
   "source": [
    "errs"
   ]
  },
  {
   "cell_type": "code",
   "execution_count": 115,
   "metadata": {
    "collapsed": false
   },
   "outputs": [],
   "source": [
    "errs*=0.05"
   ]
  },
  {
   "cell_type": "code",
   "execution_count": 116,
   "metadata": {
    "collapsed": false
   },
   "outputs": [
    {
     "data": {
      "text/plain": [
       "array([ 0.04529698,  0.0505877 ,  0.0477209 ,  0.05160451,  0.04951482,\n",
       "        0.0548214 ,  0.0500174 ,  0.05158726,  0.05197137,  0.04543198,\n",
       "        0.04879171,  0.05128593,  0.04895028,  0.04991041,  0.0494819 ,\n",
       "        0.05550967,  0.04819686,  0.0510963 ,  0.05168585,  0.04943476])"
      ]
     },
     "execution_count": 116,
     "metadata": {},
     "output_type": "execute_result"
    }
   ],
   "source": [
    "errs"
   ]
  },
  {
   "cell_type": "code",
   "execution_count": 117,
   "metadata": {
    "collapsed": true
   },
   "outputs": [],
   "source": [
    "errs = np.random.normal(1,0.05,datset.shape)"
   ]
  },
  {
   "cell_type": "code",
   "execution_count": 118,
   "metadata": {
    "collapsed": true
   },
   "outputs": [],
   "source": [
    "errs *= 0.05"
   ]
  },
  {
   "cell_type": "code",
   "execution_count": 119,
   "metadata": {
    "collapsed": true
   },
   "outputs": [],
   "source": [
    "datset_sds = errs * datset"
   ]
  },
  {
   "cell_type": "code",
   "execution_count": 120,
   "metadata": {
    "collapsed": false
   },
   "outputs": [
    {
     "data": {
      "text/plain": [
       "array([[  1.04370453e-04,   2.03910135e-04,   3.88641628e-04,\n",
       "          7.17641768e-04,   1.55252904e-03,   2.94178594e-03,\n",
       "          5.43042629e-03,   1.00736792e-02,   1.69953992e-02,\n",
       "          2.53924688e-02,   3.34635635e-02,   3.99942992e-02,\n",
       "          4.62937636e-02,   4.93489982e-02,   4.67919755e-02,\n",
       "          4.85864228e-02,   4.77778447e-02,   4.20906048e-02],\n",
       "       [  1.02147243e-04,   1.95332975e-04,   3.98715678e-04,\n",
       "          8.52833129e-04,   1.56556982e-03,   3.11561922e-03,\n",
       "          5.85036598e-03,   9.75778885e-03,   1.46338572e-02,\n",
       "          2.56469607e-02,   3.54078893e-02,   4.06973314e-02,\n",
       "          4.69955041e-02,   4.45791783e-02,   4.52554315e-02,\n",
       "          4.89087385e-02,   4.78985832e-02,   5.09846714e-02],\n",
       "       [  9.07001678e-05,   1.95933550e-04,   3.47396307e-04,\n",
       "          8.10337453e-04,   1.45774000e-03,   3.06714371e-03,\n",
       "          6.23669907e-03,   1.08954872e-02,   1.72292821e-02,\n",
       "          2.16414693e-02,   3.03439669e-02,   3.76295181e-02,\n",
       "          5.02540797e-02,   4.68775663e-02,   5.09503343e-02,\n",
       "          5.01874598e-02,   4.85805350e-02,   4.97610329e-02],\n",
       "       [  9.30801501e-05,   1.97954753e-04,   3.89814981e-04,\n",
       "          8.95655746e-04,   1.44961709e-03,   3.06525096e-03,\n",
       "          5.44681184e-03,   1.08532935e-02,   1.76244228e-02,\n",
       "          2.55267915e-02,   3.31954032e-02,   4.07329655e-02,\n",
       "          4.41959466e-02,   4.56445353e-02,   5.02245935e-02,\n",
       "          4.95874128e-02,   5.07424632e-02,   4.38468728e-02],\n",
       "       [  1.21909630e-04,   2.23405034e-04,   4.34703213e-04,\n",
       "          9.19957202e-04,   1.64417470e-03,   3.00015346e-03,\n",
       "          5.90445268e-03,   1.00933801e-02,   1.67247988e-02,\n",
       "          2.60218944e-02,   3.20038067e-02,   3.79056472e-02,\n",
       "          4.56660477e-02,   4.15017327e-02,   4.67608163e-02,\n",
       "          4.81905985e-02,   4.67138830e-02,   4.88756143e-02]])"
      ]
     },
     "execution_count": 120,
     "metadata": {},
     "output_type": "execute_result"
    }
   ],
   "source": [
    "datset_sds"
   ]
  },
  {
   "cell_type": "code",
   "execution_count": 121,
   "metadata": {
    "collapsed": false
   },
   "outputs": [
    {
     "data": {
      "image/png": "[encoded data removed]",
      "text/plain": [
       "<matplotlib.figure.Figure at 0x11043eb00>"
      ]
     },
     "metadata": {},
     "output_type": "display_data"
    }
   ],
   "source": [
    "for i in range(5):\n",
    "    plt.semilogx(L,datset[i],'+')\n",
    "    "
   ]
  },
  {
   "cell_type": "code",
   "execution_count": 122,
   "metadata": {
    "collapsed": false
   },
   "outputs": [
    {
     "ename": "TypeError",
     "evalue": "errorbar() missing 2 required positional arguments: 'x' and 'y'",
     "output_type": "error",
     "traceback": [
      "\u001b[0;31m---------------------------------------------------------------------------\u001b[0m",
      "\u001b[0;31mTypeError\u001b[0m                                 Traceback (most recent call last)",
      "\u001b[0;32m<ipython-input-122-2248833ffd3f>\u001b[0m in \u001b[0;36m<module>\u001b[0;34m()\u001b[0m\n\u001b[1;32m      1\u001b[0m \u001b[0mplt\u001b[0m\u001b[0;34m.\u001b[0m\u001b[0msemilogx\u001b[0m\u001b[0;34m(\u001b[0m\u001b[0mL\u001b[0m\u001b[0;34m,\u001b[0m\u001b[0mdatset\u001b[0m\u001b[0;34m[\u001b[0m\u001b[0;36m1\u001b[0m\u001b[0;34m]\u001b[0m\u001b[0;34m,\u001b[0m\u001b[0;34m'o'\u001b[0m\u001b[0;34m)\u001b[0m\u001b[0;34m\u001b[0m\u001b[0m\n\u001b[0;32m----> 2\u001b[0;31m \u001b[0mplt\u001b[0m\u001b[0;34m.\u001b[0m\u001b[0merrorbar\u001b[0m\u001b[0;34m(\u001b[0m\u001b[0;34m)\u001b[0m\u001b[0;34m\u001b[0m\u001b[0m\n\u001b[0m",
      "\u001b[0;31mTypeError\u001b[0m: errorbar() missing 2 required positional arguments: 'x' and 'y'"
     ]
    },
    {
     "data": {
      "image/png": "[encoded data removed]",
      "text/plain": [
       "<matplotlib.figure.Figure at 0x1115509b0>"
      ]
     },
     "metadata": {},
     "output_type": "display_data"
    }
   ],
   "source": [
    "plt.semilogx(L,datset[1],'o')\n",
    "plt.errorbar()"
   ]
  },
  {
   "cell_type": "code",
   "execution_count": 123,
   "metadata": {
    "collapsed": false,
    "scrolled": true
   },
   "outputs": [
    {
     "data": {
      "image/png": "[encoded data removed]",
      "text/plain": [
       "<matplotlib.figure.Figure at 0x11047b128>"
      ]
     },
     "metadata": {},
     "output_type": "display_data"
    }
   ],
   "source": [
    "for i in range(5):\n",
    "    plt.errorbar(L, datset[i], yerr=(datset_sds[i]), marker='+', linestyle='None')\n",
    "    plt.xscale('log')"
   ]
  },
  {
   "cell_type": "code",
   "execution_count": 124,
   "metadata": {
    "collapsed": false
   },
   "outputs": [
    {
     "data": {
      "text/plain": [
       "Parameters([('k1', <Parameter 'k1', 47, bounds=[-inf:inf]>)])"
      ]
     },
     "execution_count": 124,
     "metadata": {},
     "output_type": "execute_result"
    }
   ],
   "source": [
    "params"
   ]
  },
  {
   "cell_type": "code",
   "execution_count": 125,
   "metadata": {
    "collapsed": false
   },
   "outputs": [
    {
     "data": {
      "text/plain": [
       "Parameters([('k1', <Parameter 'k1', 47, bounds=[-inf:inf]>)])"
      ]
     },
     "execution_count": 125,
     "metadata": {},
     "output_type": "execute_result"
    }
   ],
   "source": [
    "minner1.params"
   ]
  },
  {
   "cell_type": "code",
   "execution_count": 126,
   "metadata": {
    "collapsed": false
   },
   "outputs": [
    {
     "data": {
      "text/plain": [
       "Parameters([('k1',\n",
       "             <Parameter 'k1', value=2.0439045340951605 +/- 0.0714, bounds=[-inf:inf]>)])"
      ]
     },
     "execution_count": 126,
     "metadata": {},
     "output_type": "execute_result"
    }
   ],
   "source": [
    "result1.params"
   ]
  },
  {
   "cell_type": "code",
   "execution_count": 127,
   "metadata": {
    "collapsed": false
   },
   "outputs": [],
   "source": [
    "minner_wts = lft.Minimizer(objfun, params, fcn_args=(L,datset,datset_sds))"
   ]
  },
  {
   "cell_type": "code",
   "execution_count": 128,
   "metadata": {
    "collapsed": false
   },
   "outputs": [],
   "source": [
    "result_wts = minner_wts.minimize()"
   ]
  },
  {
   "cell_type": "code",
   "execution_count": 129,
   "metadata": {
    "collapsed": false
   },
   "outputs": [
    {
     "name": "stdout",
     "output_type": "stream",
     "text": [
      "[[Fit Statistics]]\n",
      "    # function evals   = 11\n",
      "    # data points      = 90\n",
      "    # variables        = 1\n",
      "    chi-square         = 15152523.467\n",
      "    reduced chi-square = 170253.073\n",
      "    Akaike info crit   = 1085.048\n",
      "    Bayesian info crit = 1087.548\n",
      "[[Variables]]\n",
      "    k1:   2.04981779 +/- 0.003832 (0.19%) (init= 47)\n",
      "[[Correlations]] (unreported correlations are <  0.100)\n"
     ]
    }
   ],
   "source": [
    "lft.report_fit(result_wts)"
   ]
  },
  {
   "cell_type": "code",
   "execution_count": 130,
   "metadata": {
    "collapsed": false
   },
   "outputs": [
    {
     "data": {
      "text/plain": [
       "Parameters([('k1',\n",
       "             <Parameter 'k1', value=2.0498177909187838 +/- 0.00383, bounds=[-inf:inf]>)])"
      ]
     },
     "execution_count": 130,
     "metadata": {},
     "output_type": "execute_result"
    }
   ],
   "source": [
    "result_wts.params"
   ]
  },
  {
   "cell_type": "code",
   "execution_count": 152,
   "metadata": {
    "collapsed": true
   },
   "outputs": [],
   "source": [
    "result_wts.params.add('noise', value=0.01, min=0.0001, max=0.1)"
   ]
  },
  {
   "cell_type": "code",
   "execution_count": 153,
   "metadata": {
    "collapsed": true
   },
   "outputs": [],
   "source": [
    "def lnprob(params,x,data,eps=None):\n",
    "    noise = params['noise']\n",
    "    return -0.5 * np.sum((objfun(params,x,data,eps) / noise)**2 + np.log(2 * np.pi * noise**2))"
   ]
  },
  {
   "cell_type": "code",
   "execution_count": 159,
   "metadata": {
    "collapsed": true
   },
   "outputs": [],
   "source": [
    "mcmc_wts = lft.Minimizer(lnprob, result_wts.params, fcn_args=(L,datset))"
   ]
  },
  {
   "cell_type": "code",
   "execution_count": 163,
   "metadata": {
    "collapsed": false
   },
   "outputs": [],
   "source": [
    "result_mcmc_wts = mcmc_wts.emcee(burn=500, steps=1000, thin=30, is_weighted=False)"
   ]
  },
  {
   "cell_type": "code",
   "execution_count": 145,
   "metadata": {
    "collapsed": true
   },
   "outputs": [],
   "source": [
    "import corner"
   ]
  },
  {
   "cell_type": "code",
   "execution_count": 164,
   "metadata": {
    "collapsed": false
   },
   "outputs": [
    {
     "data": {
      "image/png": "[encoded data removed]",
      "text/plain": [
       "<matplotlib.figure.Figure at 0x1115588d0>"
      ]
     },
     "execution_count": 164,
     "metadata": {},
     "output_type": "execute_result"
    },
    {
     "data": {
      "image/png": "[encoded data removed]",
      "text/plain": [
       "<matplotlib.figure.Figure at 0x1115588d0>"
      ]
     },
     "metadata": {},
     "output_type": "display_data"
    }
   ],
   "source": [
    "corner.corner(result_mcmc_wts.flatchain, bins=30)"
   ]
  },
  {
   "cell_type": "code",
   "execution_count": null,
   "metadata": {
    "collapsed": true
   },
   "outputs": [],
   "source": []
  }
 ],
 "metadata": {
  "anaconda-cloud": {},
  "kernelspec": {
   "display_name": "Python [conda env:fitter]",
   "language": "python",
   "name": "conda-env-fitter-py"
  },
  "language_info": {
   "codemirror_mode": {
    "name": "ipython",
    "version": 3
   },
   "file_extension": ".py",
   "mimetype": "text/x-python",
   "name": "python",
   "nbconvert_exporter": "python",
   "pygments_lexer": "ipython3",
   "version": "3.5.2"
  }
 },
 "nbformat": 4,
 "nbformat_minor": 1
}
