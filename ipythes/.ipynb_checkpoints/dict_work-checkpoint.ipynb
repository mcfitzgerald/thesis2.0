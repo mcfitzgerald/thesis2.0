{
 "cells": [
  {
   "cell_type": "code",
   "execution_count": 1,
   "metadata": {
    "collapsed": false
   },
   "outputs": [
    {
     "name": "stdout",
     "output_type": "stream",
     "text": [
      "107k.csv                      Untitled.ipynb\r\n",
      "1200K.csv                     Untitled1.ipynb\r\n",
      "120k.csv                      \u001b[34m__pycache__\u001b[m\u001b[m/\r\n",
      "12k.csv                       dataframefromcsv1.ipynb\r\n",
      "1600k.csv                     derp.csv\r\n",
      "187K.csv                      emcee site example.ipynb\r\n",
      "20K.csv                       emcee_lmfit_ex.ipynb\r\n",
      "231k.csv                      finally_making_sense.ipynb\r\n",
      "24k.csv                       getting_to_dict-of-dfs.ipynb\r\n",
      "256K.csv                      klotzfitter.py\r\n",
      "387k.csv                      krinkle.ipynb\r\n",
      "43k.csv                       ligmods.py\r\n",
      "447k.csv                      lurk.csv\r\n",
      "46K.csv                       minfuncs.py\r\n",
      "502k.csv                      mult_obj.py\r\n",
      "82k.csv                       multifit.py\r\n",
      "92k.csv                       objfun.py\r\n",
      "All_WT_for_coopfit_tsv.csv    panders.ipynb\r\n",
      "Multifit Exampls.ipynb\r\n"
     ]
    }
   ],
   "source": [
    "ls"
   ]
  },
  {
   "cell_type": "code",
   "execution_count": 2,
   "metadata": {
    "collapsed": true
   },
   "outputs": [],
   "source": [
    "import pandas as pd"
   ]
  },
  {
   "cell_type": "code",
   "execution_count": 3,
   "metadata": {
    "collapsed": true
   },
   "outputs": [],
   "source": [
    "df = pd.read_csv('All_WT_for_coopfit_tsv.csv', sep='\\t')"
   ]
  },
  {
   "cell_type": "code",
   "execution_count": 21,
   "metadata": {
    "collapsed": true
   },
   "outputs": [],
   "source": [
    "colist = df.columns.tolist()[1:]"
   ]
  },
  {
   "cell_type": "code",
   "execution_count": 22,
   "metadata": {
    "collapsed": false
   },
   "outputs": [
    {
     "data": {
      "text/plain": [
       "['24k',\n",
       " '43k',\n",
       " '92k',\n",
       " '120k',\n",
       " '231k',\n",
       " '447k',\n",
       " '20K',\n",
       " '46K',\n",
       " '187K',\n",
       " '256K',\n",
       " '1200K',\n",
       " '12k',\n",
       " '82k',\n",
       " '107k',\n",
       " '387k',\n",
       " '502k',\n",
       " '1600k']"
      ]
     },
     "execution_count": 22,
     "metadata": {},
     "output_type": "execute_result"
    }
   ],
   "source": [
    "colist"
   ]
  },
  {
   "cell_type": "code",
   "execution_count": 10,
   "metadata": {
    "collapsed": false
   },
   "outputs": [],
   "source": [
    "word = 'Word'"
   ]
  },
  {
   "cell_type": "code",
   "execution_count": 11,
   "metadata": {
    "collapsed": false
   },
   "outputs": [
    {
     "name": "stdout",
     "output_type": "stream",
     "text": [
      "word\n"
     ]
    }
   ],
   "source": [
    "print(word.lower())"
   ]
  },
  {
   "cell_type": "code",
   "execution_count": 12,
   "metadata": {
    "collapsed": true
   },
   "outputs": [],
   "source": [
    "word = '24K'"
   ]
  },
  {
   "cell_type": "code",
   "execution_count": 13,
   "metadata": {
    "collapsed": false
   },
   "outputs": [
    {
     "name": "stdout",
     "output_type": "stream",
     "text": [
      "24k\n"
     ]
    }
   ],
   "source": [
    "print(word.lower())"
   ]
  },
  {
   "cell_type": "code",
   "execution_count": 19,
   "metadata": {
    "collapsed": false
   },
   "outputs": [],
   "source": [
    "for i in range(len(colist)):\n",
    "    colist[i] = colist[i].lower()"
   ]
  },
  {
   "cell_type": "code",
   "execution_count": 20,
   "metadata": {
    "collapsed": false
   },
   "outputs": [
    {
     "data": {
      "text/plain": [
       "['24k',\n",
       " '43k',\n",
       " '92k',\n",
       " '120k',\n",
       " '231k',\n",
       " '447k',\n",
       " '20k',\n",
       " '46k',\n",
       " '187k',\n",
       " '256k',\n",
       " '1200k',\n",
       " '12k',\n",
       " '82k',\n",
       " '107k',\n",
       " '387k',\n",
       " '502k',\n",
       " '1600k']"
      ]
     },
     "execution_count": 20,
     "metadata": {},
     "output_type": "execute_result"
    }
   ],
   "source": [
    "colist"
   ]
  },
  {
   "cell_type": "code",
   "execution_count": 26,
   "metadata": {
    "collapsed": true
   },
   "outputs": [],
   "source": [
    "dflist = [df[['[egf]', i]].dropna() for i in colist]"
   ]
  },
  {
   "cell_type": "code",
   "execution_count": 27,
   "metadata": {
    "collapsed": false
   },
   "outputs": [
    {
     "data": {
      "text/plain": [
       "[        [egf]       24k\n",
       " 0    0.007969  0.046039\n",
       " 1    0.014993  0.073019\n",
       " 2    0.030995  0.111563\n",
       " 3    0.061095  0.192505\n",
       " 4    0.095149  0.242612\n",
       " 5    0.143965  0.346681\n",
       " 6    0.243969  0.441114\n",
       " 7    0.394505  0.506638\n",
       " 8    0.686923  0.714775\n",
       " 9    1.079399  0.813062\n",
       " 10   1.847583  0.853533\n",
       " 11   2.618645  0.890150\n",
       " 12   4.197115  0.899786\n",
       " 13   8.121298  0.946039\n",
       " 14  16.013240  0.996146,        [egf]       43k\n",
       " 15  0.008435  0.030621\n",
       " 16  0.016325  0.059529\n",
       " 17  0.032193  0.096146\n",
       " 18  0.065900  0.173233\n",
       " 19  0.097893  0.231049\n",
       " 20  0.149518  0.337045\n",
       " 21  0.253313  0.456531\n",
       " 22  0.397988  0.568308\n",
       " 23  0.693843  0.658886\n",
       " 24  1.831155  0.805353\n",
       " 25  2.570049  0.876659\n",
       " 26  5.068029  0.917131\n",
       " 27  8.196809  0.963383,         [egf]       92k\n",
       " 28   0.010478  0.044111\n",
       " 29   0.043951  0.103854\n",
       " 30   0.067175  0.144326\n",
       " 31   0.159764  0.315846\n",
       " 32   0.275784  0.450749\n",
       " 33   0.467318  0.552891\n",
       " 34   0.837885  0.668523\n",
       " 35   1.341291  0.795717\n",
       " 36   2.295071  0.868951\n",
       " 37   3.222072  0.913276\n",
       " 38   5.068438  0.909422\n",
       " 39   9.992324  0.973019\n",
       " 40  16.322630  0.971092,         [egf]      120k\n",
       " 41   0.067166  0.157816\n",
       " 42   0.043947  0.111563\n",
       " 43   0.142679  0.302355\n",
       " 44   0.237226  0.414133\n",
       " 45   0.387043  0.527837\n",
       " 46   0.467044  0.608779\n",
       " 47   1.080119  0.749465\n",
       " 48   1.830193  0.855460\n",
       " 49   2.595465  0.838116\n",
       " 50   4.079464  0.911349\n",
       " 51   8.197306  0.957602\n",
       " 52  16.173890  0.944111\n",
       " 53   0.021059  0.073019,        [egf]      231k\n",
       " 54  0.061702  0.150107\n",
       " 55  0.097928  0.196360\n",
       " 56  0.142702  0.286938\n",
       " 57  0.244107  0.387152\n",
       " 58  0.390966  0.466167\n",
       " 59  0.700945  0.587580\n",
       " 60  1.090977  0.695503\n",
       " 61  1.849451  0.757173\n",
       " 62  2.621134  0.799572\n",
       " 63  5.115771  0.922912\n",
       " 64  8.046807  0.924839\n",
       " 65  0.029852  0.094218,         [egf]      447k\n",
       " 66   0.007675  0.036403\n",
       " 67   0.014997  0.046039\n",
       " 68   0.029573  0.092291\n",
       " 69   0.061121  0.152034\n",
       " 70   0.096991  0.213705\n",
       " 71   0.144087  0.265739\n",
       " 72   0.248778  0.379443\n",
       " 73   0.394625  0.477730\n",
       " 74   0.687951  0.572163\n",
       " 75   1.177004  0.656959\n",
       " 76   1.832599  0.730193\n",
       " 77   2.572647  0.780300\n",
       " 78   4.082598  0.838116\n",
       " 79   8.050874  0.876659\n",
       " 80  16.019070  0.961456,         [egf]       20K\n",
       " 81   0.017137  0.042675\n",
       " 82   0.034444  0.072200\n",
       " 83   0.076554  0.182319\n",
       " 84   0.145089  0.308810\n",
       " 85   0.251269  0.393935\n",
       " 86   0.414273  0.538879\n",
       " 87   0.725565  0.739611\n",
       " 88   1.060153  0.779171\n",
       " 89   1.819164  0.932407\n",
       " 90   2.552526  0.914133\n",
       " 91   4.121284  0.970296\n",
       " 92   6.136859  0.919048\n",
       " 93   8.368795  1.026665\n",
       " 94  12.344850  1.024950,          [egf]       46K\n",
       " 95    0.010306  0.023641\n",
       " 96    0.019705  0.046928\n",
       " 97    0.039608  0.084710\n",
       " 98    0.080441  0.153465\n",
       " 99    0.119932  0.215749\n",
       " 100   0.158631  0.265541\n",
       " 101   0.253688  0.358852\n",
       " 102   0.405729  0.457324\n",
       " 103   0.724835  0.648784\n",
       " 104   1.048583  0.688335\n",
       " 105   1.797912  0.771388\n",
       " 106   2.603329  0.893508\n",
       " 107   4.117893  0.895984\n",
       " 108   8.363058  0.964738\n",
       " 109  12.465670  1.004316,          [egf]      187K\n",
       " 110   0.010408  0.015393\n",
       " 111   0.021985  0.034641\n",
       " 112   0.024290  0.036795\n",
       " 113   0.081217  0.120446\n",
       " 114   0.119872  0.170336\n",
       " 115   0.160154  0.228394\n",
       " 116   0.250999  0.296916\n",
       " 117   0.405474  0.400557\n",
       " 118   0.738316  0.512562\n",
       " 119   1.027509  0.655290\n",
       " 120   1.798446  0.798223\n",
       " 121   2.550251  0.833628\n",
       " 122   4.116105  0.856763\n",
       " 123   8.277838  0.939958\n",
       " 124  12.587670  0.983683,          [egf]      256K\n",
       " 125   0.018370  0.011774\n",
       " 126   0.028786  0.067910\n",
       " 127   0.060827  0.118122\n",
       " 128   0.115215  0.193007\n",
       " 129   0.205571  0.269902\n",
       " 130   0.352426  0.340569\n",
       " 131   0.635489  0.471143\n",
       " 132   0.966951  0.570602\n",
       " 133   1.675933  0.727976\n",
       " 134   2.448160  0.744830\n",
       " 135   4.034029  0.838167\n",
       " 136   6.195363  0.875708\n",
       " 137   8.192737  0.906922\n",
       " 138  12.450580  0.894911,          [egf]     1200K\n",
       " 139   0.012960  0.013525\n",
       " 140   0.027926  0.030727\n",
       " 141   0.056686  0.052004\n",
       " 142   0.087926  0.087489\n",
       " 143   0.131057  0.125003\n",
       " 144   0.222473  0.203918\n",
       " 145   0.362950  0.297247\n",
       " 146   0.654465  0.427821\n",
       " 147   1.005847  0.531417\n",
       " 148   1.760088  0.651644\n",
       " 149   2.521322  0.703571\n",
       " 150   4.067926  0.693679\n",
       " 151   8.354267  0.869783\n",
       " 152  16.147750  0.971521,          [egf]       12k\n",
       " 153   0.016317  0.064025\n",
       " 154   0.033773  0.119760\n",
       " 155   0.068405  0.175501\n",
       " 156   0.089901  0.247054\n",
       " 157   0.165181  0.302827\n",
       " 158   0.282098  0.432504\n",
       " 159   0.431739  0.524157\n",
       " 160   0.778345  0.653817\n",
       " 161   1.068384  0.729834\n",
       " 162   1.805680  0.870709\n",
       " 163   2.669588  0.904164\n",
       " 164   4.307405  0.959979\n",
       " 165   6.418342  0.910596\n",
       " 166   8.512644  0.935132\n",
       " 167  12.848460  0.941715,          [egf]       82k\n",
       " 168   0.016119  0.025969\n",
       " 169   0.035202  0.068254\n",
       " 170   0.073283  0.134061\n",
       " 171   0.143071  0.221157\n",
       " 172   0.242842  0.330687\n",
       " 173   0.377852  0.430171\n",
       " 174   0.708994  0.618027\n",
       " 175   1.036456  0.789172\n",
       " 176   1.893233  0.832634\n",
       " 177   4.393878  0.910719\n",
       " 178   6.403579  0.996791\n",
       " 179   8.504394  0.908266\n",
       " 180  14.243820  0.948398,          [egf]      107k\n",
       " 181   0.011219  0.033923\n",
       " 182   0.018762  0.031517\n",
       " 183   0.035766  0.058174\n",
       " 184   0.067134  0.106104\n",
       " 185   0.126858  0.188734\n",
       " 186   0.226001  0.289293\n",
       " 187   0.369251  0.392119\n",
       " 188   0.666551  0.557599\n",
       " 189   1.010532  0.687315\n",
       " 190   1.779753  0.769967\n",
       " 191   2.587404  0.937756\n",
       " 192   6.364634  0.977763\n",
       " 193   8.483119  0.988864\n",
       " 194  12.654250  0.969704,          [egf]      387k\n",
       " 195   0.012981  0.026040\n",
       " 196   0.031558  0.040304\n",
       " 197   0.058247  0.071449\n",
       " 198   0.078511  0.093740\n",
       " 199   0.148339  0.173011\n",
       " 200   0.243500  0.255686\n",
       " 201   0.406682  0.367461\n",
       " 202   0.713275  0.484816\n",
       " 203   0.984659  0.568666\n",
       " 204   1.766929  0.719596\n",
       " 205   2.575723  0.812385\n",
       " 206   4.142375  0.927529\n",
       " 207   6.479044  0.871414\n",
       " 208   8.427099  0.955284\n",
       " 209  12.688550  0.894704,          [egf]      502k\n",
       " 210   0.011394  0.013768\n",
       " 211   0.023292  0.024731\n",
       " 212   0.050302  0.058063\n",
       " 213   0.098623  0.112696\n",
       " 214   0.175472  0.177434\n",
       " 215   0.297586  0.263457\n",
       " 216   0.557369  0.400940\n",
       " 217   0.826670  0.522828\n",
       " 218   1.522772  0.649122\n",
       " 219   2.283661  0.777722\n",
       " 220   3.910003  0.827921\n",
       " 221   6.106213  0.879269\n",
       " 222   9.179923  0.926152\n",
       " 223  14.138340  0.892430,          [egf]     1600k\n",
       " 224   0.010226  0.014923\n",
       " 225   0.017193  0.012516\n",
       " 226   0.036900  0.023462\n",
       " 227   0.051080  0.033431\n",
       " 228   0.096354  0.067927\n",
       " 229   0.171325  0.114756\n",
       " 230   0.279624  0.188477\n",
       " 231   0.492993  0.300234\n",
       " 232   0.672910  0.370655\n",
       " 233   1.361332  0.543935\n",
       " 234   1.965876  0.675905\n",
       " 235   3.560756  0.785414\n",
       " 236   5.559898  0.832284\n",
       " 237   7.705445  0.874716\n",
       " 238  12.271130  0.867849]"
      ]
     },
     "execution_count": 27,
     "metadata": {},
     "output_type": "execute_result"
    }
   ],
   "source": [
    "dflist"
   ]
  },
  {
   "cell_type": "code",
   "execution_count": 29,
   "metadata": {
    "collapsed": false
   },
   "outputs": [],
   "source": [
    "colist_low = [colist[i].lower() for i in range(len(colist))]"
   ]
  },
  {
   "cell_type": "code",
   "execution_count": 30,
   "metadata": {
    "collapsed": false
   },
   "outputs": [
    {
     "data": {
      "text/plain": [
       "['24k',\n",
       " '43k',\n",
       " '92k',\n",
       " '120k',\n",
       " '231k',\n",
       " '447k',\n",
       " '20k',\n",
       " '46k',\n",
       " '187k',\n",
       " '256k',\n",
       " '1200k',\n",
       " '12k',\n",
       " '82k',\n",
       " '107k',\n",
       " '387k',\n",
       " '502k',\n",
       " '1600k']"
      ]
     },
     "execution_count": 30,
     "metadata": {},
     "output_type": "execute_result"
    }
   ],
   "source": [
    "colist_low"
   ]
  },
  {
   "cell_type": "code",
   "execution_count": 40,
   "metadata": {
    "collapsed": false
   },
   "outputs": [],
   "source": [
    "dflist_low = [dflist[i].rename(columns={'[egf]':'[EGF]'+'-'+ colist_low[i], colist[i]:'[R]'+'-'+ colist_low[i]}) for i in range(len(colist_low))]"
   ]
  },
  {
   "cell_type": "code",
   "execution_count": 41,
   "metadata": {
    "collapsed": false
   },
   "outputs": [
    {
     "data": {
      "text/plain": [
       "[    [EGF]-24k   [R]-24k\n",
       " 0    0.007969  0.046039\n",
       " 1    0.014993  0.073019\n",
       " 2    0.030995  0.111563\n",
       " 3    0.061095  0.192505\n",
       " 4    0.095149  0.242612\n",
       " 5    0.143965  0.346681\n",
       " 6    0.243969  0.441114\n",
       " 7    0.394505  0.506638\n",
       " 8    0.686923  0.714775\n",
       " 9    1.079399  0.813062\n",
       " 10   1.847583  0.853533\n",
       " 11   2.618645  0.890150\n",
       " 12   4.197115  0.899786\n",
       " 13   8.121298  0.946039\n",
       " 14  16.013240  0.996146,     [EGF]-43k   [R]-43k\n",
       " 15   0.008435  0.030621\n",
       " 16   0.016325  0.059529\n",
       " 17   0.032193  0.096146\n",
       " 18   0.065900  0.173233\n",
       " 19   0.097893  0.231049\n",
       " 20   0.149518  0.337045\n",
       " 21   0.253313  0.456531\n",
       " 22   0.397988  0.568308\n",
       " 23   0.693843  0.658886\n",
       " 24   1.831155  0.805353\n",
       " 25   2.570049  0.876659\n",
       " 26   5.068029  0.917131\n",
       " 27   8.196809  0.963383,     [EGF]-92k   [R]-92k\n",
       " 28   0.010478  0.044111\n",
       " 29   0.043951  0.103854\n",
       " 30   0.067175  0.144326\n",
       " 31   0.159764  0.315846\n",
       " 32   0.275784  0.450749\n",
       " 33   0.467318  0.552891\n",
       " 34   0.837885  0.668523\n",
       " 35   1.341291  0.795717\n",
       " 36   2.295071  0.868951\n",
       " 37   3.222072  0.913276\n",
       " 38   5.068438  0.909422\n",
       " 39   9.992324  0.973019\n",
       " 40  16.322630  0.971092,     [EGF]-120k  [R]-120k\n",
       " 41    0.067166  0.157816\n",
       " 42    0.043947  0.111563\n",
       " 43    0.142679  0.302355\n",
       " 44    0.237226  0.414133\n",
       " 45    0.387043  0.527837\n",
       " 46    0.467044  0.608779\n",
       " 47    1.080119  0.749465\n",
       " 48    1.830193  0.855460\n",
       " 49    2.595465  0.838116\n",
       " 50    4.079464  0.911349\n",
       " 51    8.197306  0.957602\n",
       " 52   16.173890  0.944111\n",
       " 53    0.021059  0.073019,     [EGF]-231k  [R]-231k\n",
       " 54    0.061702  0.150107\n",
       " 55    0.097928  0.196360\n",
       " 56    0.142702  0.286938\n",
       " 57    0.244107  0.387152\n",
       " 58    0.390966  0.466167\n",
       " 59    0.700945  0.587580\n",
       " 60    1.090977  0.695503\n",
       " 61    1.849451  0.757173\n",
       " 62    2.621134  0.799572\n",
       " 63    5.115771  0.922912\n",
       " 64    8.046807  0.924839\n",
       " 65    0.029852  0.094218,     [EGF]-447k  [R]-447k\n",
       " 66    0.007675  0.036403\n",
       " 67    0.014997  0.046039\n",
       " 68    0.029573  0.092291\n",
       " 69    0.061121  0.152034\n",
       " 70    0.096991  0.213705\n",
       " 71    0.144087  0.265739\n",
       " 72    0.248778  0.379443\n",
       " 73    0.394625  0.477730\n",
       " 74    0.687951  0.572163\n",
       " 75    1.177004  0.656959\n",
       " 76    1.832599  0.730193\n",
       " 77    2.572647  0.780300\n",
       " 78    4.082598  0.838116\n",
       " 79    8.050874  0.876659\n",
       " 80   16.019070  0.961456,     [EGF]-20k   [R]-20k\n",
       " 81   0.017137  0.042675\n",
       " 82   0.034444  0.072200\n",
       " 83   0.076554  0.182319\n",
       " 84   0.145089  0.308810\n",
       " 85   0.251269  0.393935\n",
       " 86   0.414273  0.538879\n",
       " 87   0.725565  0.739611\n",
       " 88   1.060153  0.779171\n",
       " 89   1.819164  0.932407\n",
       " 90   2.552526  0.914133\n",
       " 91   4.121284  0.970296\n",
       " 92   6.136859  0.919048\n",
       " 93   8.368795  1.026665\n",
       " 94  12.344850  1.024950,      [EGF]-46k   [R]-46k\n",
       " 95    0.010306  0.023641\n",
       " 96    0.019705  0.046928\n",
       " 97    0.039608  0.084710\n",
       " 98    0.080441  0.153465\n",
       " 99    0.119932  0.215749\n",
       " 100   0.158631  0.265541\n",
       " 101   0.253688  0.358852\n",
       " 102   0.405729  0.457324\n",
       " 103   0.724835  0.648784\n",
       " 104   1.048583  0.688335\n",
       " 105   1.797912  0.771388\n",
       " 106   2.603329  0.893508\n",
       " 107   4.117893  0.895984\n",
       " 108   8.363058  0.964738\n",
       " 109  12.465670  1.004316,      [EGF]-187k  [R]-187k\n",
       " 110    0.010408  0.015393\n",
       " 111    0.021985  0.034641\n",
       " 112    0.024290  0.036795\n",
       " 113    0.081217  0.120446\n",
       " 114    0.119872  0.170336\n",
       " 115    0.160154  0.228394\n",
       " 116    0.250999  0.296916\n",
       " 117    0.405474  0.400557\n",
       " 118    0.738316  0.512562\n",
       " 119    1.027509  0.655290\n",
       " 120    1.798446  0.798223\n",
       " 121    2.550251  0.833628\n",
       " 122    4.116105  0.856763\n",
       " 123    8.277838  0.939958\n",
       " 124   12.587670  0.983683,      [EGF]-256k  [R]-256k\n",
       " 125    0.018370  0.011774\n",
       " 126    0.028786  0.067910\n",
       " 127    0.060827  0.118122\n",
       " 128    0.115215  0.193007\n",
       " 129    0.205571  0.269902\n",
       " 130    0.352426  0.340569\n",
       " 131    0.635489  0.471143\n",
       " 132    0.966951  0.570602\n",
       " 133    1.675933  0.727976\n",
       " 134    2.448160  0.744830\n",
       " 135    4.034029  0.838167\n",
       " 136    6.195363  0.875708\n",
       " 137    8.192737  0.906922\n",
       " 138   12.450580  0.894911,      [EGF]-1200k  [R]-1200k\n",
       " 139     0.012960   0.013525\n",
       " 140     0.027926   0.030727\n",
       " 141     0.056686   0.052004\n",
       " 142     0.087926   0.087489\n",
       " 143     0.131057   0.125003\n",
       " 144     0.222473   0.203918\n",
       " 145     0.362950   0.297247\n",
       " 146     0.654465   0.427821\n",
       " 147     1.005847   0.531417\n",
       " 148     1.760088   0.651644\n",
       " 149     2.521322   0.703571\n",
       " 150     4.067926   0.693679\n",
       " 151     8.354267   0.869783\n",
       " 152    16.147750   0.971521,      [EGF]-12k   [R]-12k\n",
       " 153   0.016317  0.064025\n",
       " 154   0.033773  0.119760\n",
       " 155   0.068405  0.175501\n",
       " 156   0.089901  0.247054\n",
       " 157   0.165181  0.302827\n",
       " 158   0.282098  0.432504\n",
       " 159   0.431739  0.524157\n",
       " 160   0.778345  0.653817\n",
       " 161   1.068384  0.729834\n",
       " 162   1.805680  0.870709\n",
       " 163   2.669588  0.904164\n",
       " 164   4.307405  0.959979\n",
       " 165   6.418342  0.910596\n",
       " 166   8.512644  0.935132\n",
       " 167  12.848460  0.941715,      [EGF]-82k   [R]-82k\n",
       " 168   0.016119  0.025969\n",
       " 169   0.035202  0.068254\n",
       " 170   0.073283  0.134061\n",
       " 171   0.143071  0.221157\n",
       " 172   0.242842  0.330687\n",
       " 173   0.377852  0.430171\n",
       " 174   0.708994  0.618027\n",
       " 175   1.036456  0.789172\n",
       " 176   1.893233  0.832634\n",
       " 177   4.393878  0.910719\n",
       " 178   6.403579  0.996791\n",
       " 179   8.504394  0.908266\n",
       " 180  14.243820  0.948398,      [EGF]-107k  [R]-107k\n",
       " 181    0.011219  0.033923\n",
       " 182    0.018762  0.031517\n",
       " 183    0.035766  0.058174\n",
       " 184    0.067134  0.106104\n",
       " 185    0.126858  0.188734\n",
       " 186    0.226001  0.289293\n",
       " 187    0.369251  0.392119\n",
       " 188    0.666551  0.557599\n",
       " 189    1.010532  0.687315\n",
       " 190    1.779753  0.769967\n",
       " 191    2.587404  0.937756\n",
       " 192    6.364634  0.977763\n",
       " 193    8.483119  0.988864\n",
       " 194   12.654250  0.969704,      [EGF]-387k  [R]-387k\n",
       " 195    0.012981  0.026040\n",
       " 196    0.031558  0.040304\n",
       " 197    0.058247  0.071449\n",
       " 198    0.078511  0.093740\n",
       " 199    0.148339  0.173011\n",
       " 200    0.243500  0.255686\n",
       " 201    0.406682  0.367461\n",
       " 202    0.713275  0.484816\n",
       " 203    0.984659  0.568666\n",
       " 204    1.766929  0.719596\n",
       " 205    2.575723  0.812385\n",
       " 206    4.142375  0.927529\n",
       " 207    6.479044  0.871414\n",
       " 208    8.427099  0.955284\n",
       " 209   12.688550  0.894704,      [EGF]-502k  [R]-502k\n",
       " 210    0.011394  0.013768\n",
       " 211    0.023292  0.024731\n",
       " 212    0.050302  0.058063\n",
       " 213    0.098623  0.112696\n",
       " 214    0.175472  0.177434\n",
       " 215    0.297586  0.263457\n",
       " 216    0.557369  0.400940\n",
       " 217    0.826670  0.522828\n",
       " 218    1.522772  0.649122\n",
       " 219    2.283661  0.777722\n",
       " 220    3.910003  0.827921\n",
       " 221    6.106213  0.879269\n",
       " 222    9.179923  0.926152\n",
       " 223   14.138340  0.892430,      [EGF]-1600k  [R]-1600k\n",
       " 224     0.010226   0.014923\n",
       " 225     0.017193   0.012516\n",
       " 226     0.036900   0.023462\n",
       " 227     0.051080   0.033431\n",
       " 228     0.096354   0.067927\n",
       " 229     0.171325   0.114756\n",
       " 230     0.279624   0.188477\n",
       " 231     0.492993   0.300234\n",
       " 232     0.672910   0.370655\n",
       " 233     1.361332   0.543935\n",
       " 234     1.965876   0.675905\n",
       " 235     3.560756   0.785414\n",
       " 236     5.559898   0.832284\n",
       " 237     7.705445   0.874716\n",
       " 238    12.271130   0.867849]"
      ]
     },
     "execution_count": 41,
     "metadata": {},
     "output_type": "execute_result"
    }
   ],
   "source": [
    "dflist_low"
   ]
  },
  {
   "cell_type": "code",
   "execution_count": 42,
   "metadata": {
    "collapsed": true
   },
   "outputs": [],
   "source": [
    "EGFR_WT_DICT = dict(zip(colist_low,dflist_low))"
   ]
  },
  {
   "cell_type": "code",
   "execution_count": 47,
   "metadata": {
    "collapsed": false
   },
   "outputs": [
    {
     "data": {
      "text/plain": [
       "['92k',\n",
       " '46k',\n",
       " '12k',\n",
       " '1600k',\n",
       " '120k',\n",
       " '231k',\n",
       " '256k',\n",
       " '20k',\n",
       " '187k',\n",
       " '82k',\n",
       " '387k',\n",
       " '24k',\n",
       " '1200k',\n",
       " '502k',\n",
       " '447k',\n",
       " '43k',\n",
       " '107k']"
      ]
     },
     "execution_count": 47,
     "metadata": {},
     "output_type": "execute_result"
    }
   ],
   "source": [
    "list(EGFR_WT_DICT.keys())"
   ]
  },
  {
   "cell_type": "code",
   "execution_count": 48,
   "metadata": {
    "collapsed": true
   },
   "outputs": [],
   "source": [
    "import matplotlib.pyplot as plt"
   ]
  },
  {
   "cell_type": "code",
   "execution_count": 54,
   "metadata": {
    "collapsed": false
   },
   "outputs": [],
   "source": [
    "a = EGFR_WT_DICT['92k']"
   ]
  },
  {
   "cell_type": "code",
   "execution_count": 55,
   "metadata": {
    "collapsed": false
   },
   "outputs": [
    {
     "data": {
      "text/plain": [
       "pandas.core.frame.DataFrame"
      ]
     },
     "execution_count": 55,
     "metadata": {},
     "output_type": "execute_result"
    }
   ],
   "source": [
    "type(a)"
   ]
  },
  {
   "cell_type": "code",
   "execution_count": 56,
   "metadata": {
    "collapsed": true
   },
   "outputs": [],
   "source": [
    "b = a.reindex()"
   ]
  },
  {
   "cell_type": "code",
   "execution_count": 64,
   "metadata": {
    "collapsed": false
   },
   "outputs": [
    {
     "data": {
      "text/plain": [
       "array([ 0.04411135,  0.1038544 ,  0.1443255 ,  0.3158458 ,  0.4507495 ,\n",
       "        0.5528908 ,  0.6685225 ,  0.7957174 ,  0.8689507 ,  0.9132763 ,\n",
       "        0.9094219 ,  0.9730192 ,  0.9710921 ])"
      ]
     },
     "execution_count": 64,
     "metadata": {},
     "output_type": "execute_result"
    }
   ],
   "source": [
    "a.values[:,1]"
   ]
  },
  {
   "cell_type": "code",
   "execution_count": 67,
   "metadata": {
    "collapsed": false
   },
   "outputs": [],
   "source": [
    "%matplotlib inline"
   ]
  },
  {
   "cell_type": "code",
   "execution_count": 69,
   "metadata": {
    "collapsed": false
   },
   "outputs": [
    {
     "data": {
      "text/plain": [
       "[<matplotlib.lines.Line2D at 0x10e83d320>]"
      ]
     },
     "execution_count": 69,
     "metadata": {},
     "output_type": "execute_result"
    },
    {
     "data": {
      "image/png": "[encoded data removed]",
      "text/plain": [
       "<matplotlib.figure.Figure at 0x10e5d27f0>"
      ]
     },
     "metadata": {},
     "output_type": "display_data"
    }
   ],
   "source": [
    "plt.semilogx(a.values[:,0], a.values[:,1],'o')"
   ]
  },
  {
   "cell_type": "code",
   "execution_count": 118,
   "metadata": {
    "collapsed": false
   },
   "outputs": [
    {
     "data": {
      "image/png": "[encoded data removed]",
      "text/plain": [
       "<matplotlib.figure.Figure at 0x10fbc0908>"
      ]
     },
     "metadata": {},
     "output_type": "display_data"
    }
   ],
   "source": [
    "for i in EGFR_WT_DICT_ord.keys():\n",
    "    plt.semilogx(EGFR_WT_DICT[i].values[:,0],EGFR_WT_DICT[i].values[:,1],'o')\n",
    "plt.savefig('test.pdf')"
   ]
  },
  {
   "cell_type": "code",
   "execution_count": 77,
   "metadata": {
    "collapsed": false
   },
   "outputs": [
    {
     "data": {
      "text/plain": [
       "['24k',\n",
       " '43k',\n",
       " '92k',\n",
       " '120k',\n",
       " '231k',\n",
       " '447k',\n",
       " '20K',\n",
       " '46K',\n",
       " '187K',\n",
       " '256K',\n",
       " '1200K',\n",
       " '12k',\n",
       " '82k',\n",
       " '107k',\n",
       " '387k',\n",
       " '502k',\n",
       " '1600k']"
      ]
     },
     "execution_count": 77,
     "metadata": {},
     "output_type": "execute_result"
    }
   ],
   "source": [
    "colist"
   ]
  },
  {
   "cell_type": "code",
   "execution_count": 78,
   "metadata": {
    "collapsed": true
   },
   "outputs": [],
   "source": [
    "import collections"
   ]
  },
  {
   "cell_type": "code",
   "execution_count": 79,
   "metadata": {
    "collapsed": true
   },
   "outputs": [],
   "source": [
    "EGFR_WT_DICT_ord = collections.OrderedDict(zip(colist_low,dflist_low))"
   ]
  },
  {
   "cell_type": "code",
   "execution_count": 80,
   "metadata": {
    "collapsed": false
   },
   "outputs": [
    {
     "data": {
      "text/plain": [
       "odict_keys(['24k', '43k', '92k', '120k', '231k', '447k', '20k', '46k', '187k', '256k', '1200k', '12k', '82k', '107k', '387k', '502k', '1600k'])"
      ]
     },
     "execution_count": 80,
     "metadata": {},
     "output_type": "execute_result"
    }
   ],
   "source": [
    "EGFR_WT_DICT_ord.keys()"
   ]
  },
  {
   "cell_type": "code",
   "execution_count": 81,
   "metadata": {
    "collapsed": true
   },
   "outputs": [],
   "source": [
    "import csv"
   ]
  },
  {
   "cell_type": "code",
   "execution_count": 108,
   "metadata": {
    "collapsed": false
   },
   "outputs": [],
   "source": [
    "with open('rtotswt.csv', 'r') as f:\n",
    "    g = csv.reader(f)\n",
    "    berb = (list(g))"
   ]
  },
  {
   "cell_type": "code",
   "execution_count": 109,
   "metadata": {
    "collapsed": false
   },
   "outputs": [
    {
     "data": {
      "text/plain": [
       "[['0.001439'],\n",
       " ['0.002422'],\n",
       " ['0.003392'],\n",
       " ['0.002718'],\n",
       " ['0.01216'],\n",
       " ['0.02594'],\n",
       " ['0.0005889'],\n",
       " ['0.002544'],\n",
       " ['0.00643'],\n",
       " ['0.01263'],\n",
       " ['0.05509'],\n",
       " ['0.001193'],\n",
       " ['0.003513'],\n",
       " ['0.006083'],\n",
       " ['0.01968'],\n",
       " ['0.03013'],\n",
       " ['0.0925']]"
      ]
     },
     "execution_count": 109,
     "metadata": {},
     "output_type": "execute_result"
    }
   ],
   "source": [
    "berb"
   ]
  },
  {
   "cell_type": "code",
   "execution_count": 113,
   "metadata": {
    "collapsed": false
   },
   "outputs": [
    {
     "data": {
      "text/plain": [
       "'0.002422'"
      ]
     },
     "execution_count": 113,
     "metadata": {},
     "output_type": "execute_result"
    }
   ],
   "source": [
    "berb[1][0]"
   ]
  },
  {
   "cell_type": "code",
   "execution_count": 114,
   "metadata": {
    "collapsed": false
   },
   "outputs": [],
   "source": [
    "berb2 = [berb[i][0] for i in range(len(berb))]"
   ]
  },
  {
   "cell_type": "code",
   "execution_count": 115,
   "metadata": {
    "collapsed": false
   },
   "outputs": [
    {
     "data": {
      "text/plain": [
       "['0.001439',\n",
       " '0.002422',\n",
       " '0.003392',\n",
       " '0.002718',\n",
       " '0.01216',\n",
       " '0.02594',\n",
       " '0.0005889',\n",
       " '0.002544',\n",
       " '0.00643',\n",
       " '0.01263',\n",
       " '0.05509',\n",
       " '0.001193',\n",
       " '0.003513',\n",
       " '0.006083',\n",
       " '0.01968',\n",
       " '0.03013',\n",
       " '0.0925']"
      ]
     },
     "execution_count": 115,
     "metadata": {},
     "output_type": "execute_result"
    }
   ],
   "source": [
    "berb2"
   ]
  },
  {
   "cell_type": "code",
   "execution_count": 116,
   "metadata": {
    "collapsed": false
   },
   "outputs": [
    {
     "data": {
      "text/plain": [
       "[<matplotlib.lines.Line2D at 0x1108f6ba8>]"
      ]
     },
     "execution_count": 116,
     "metadata": {},
     "output_type": "execute_result"
    },
    {
     "data": {
      "image/png": "[encoded data removed]",
      "text/plain": [
       "<matplotlib.figure.Figure at 0x10effcb70>"
      ]
     },
     "metadata": {},
     "output_type": "display_data"
    }
   ],
   "source": [
    "plt.plot(berb2,'o')"
   ]
  },
  {
   "cell_type": "code",
   "execution_count": 117,
   "metadata": {
    "collapsed": false
   },
   "outputs": [
    {
     "data": {
      "text/plain": [
       "OrderedDict([('24k',     [EGF]-24k   [R]-24k\n",
       "              0    0.007969  0.046039\n",
       "              1    0.014993  0.073019\n",
       "              2    0.030995  0.111563\n",
       "              3    0.061095  0.192505\n",
       "              4    0.095149  0.242612\n",
       "              5    0.143965  0.346681\n",
       "              6    0.243969  0.441114\n",
       "              7    0.394505  0.506638\n",
       "              8    0.686923  0.714775\n",
       "              9    1.079399  0.813062\n",
       "              10   1.847583  0.853533\n",
       "              11   2.618645  0.890150\n",
       "              12   4.197115  0.899786\n",
       "              13   8.121298  0.946039\n",
       "              14  16.013240  0.996146), ('43k',     [EGF]-43k   [R]-43k\n",
       "              15   0.008435  0.030621\n",
       "              16   0.016325  0.059529\n",
       "              17   0.032193  0.096146\n",
       "              18   0.065900  0.173233\n",
       "              19   0.097893  0.231049\n",
       "              20   0.149518  0.337045\n",
       "              21   0.253313  0.456531\n",
       "              22   0.397988  0.568308\n",
       "              23   0.693843  0.658886\n",
       "              24   1.831155  0.805353\n",
       "              25   2.570049  0.876659\n",
       "              26   5.068029  0.917131\n",
       "              27   8.196809  0.963383), ('92k',     [EGF]-92k   [R]-92k\n",
       "              28   0.010478  0.044111\n",
       "              29   0.043951  0.103854\n",
       "              30   0.067175  0.144326\n",
       "              31   0.159764  0.315846\n",
       "              32   0.275784  0.450749\n",
       "              33   0.467318  0.552891\n",
       "              34   0.837885  0.668523\n",
       "              35   1.341291  0.795717\n",
       "              36   2.295071  0.868951\n",
       "              37   3.222072  0.913276\n",
       "              38   5.068438  0.909422\n",
       "              39   9.992324  0.973019\n",
       "              40  16.322630  0.971092), ('120k',     [EGF]-120k  [R]-120k\n",
       "              41    0.067166  0.157816\n",
       "              42    0.043947  0.111563\n",
       "              43    0.142679  0.302355\n",
       "              44    0.237226  0.414133\n",
       "              45    0.387043  0.527837\n",
       "              46    0.467044  0.608779\n",
       "              47    1.080119  0.749465\n",
       "              48    1.830193  0.855460\n",
       "              49    2.595465  0.838116\n",
       "              50    4.079464  0.911349\n",
       "              51    8.197306  0.957602\n",
       "              52   16.173890  0.944111\n",
       "              53    0.021059  0.073019), ('231k',     [EGF]-231k  [R]-231k\n",
       "              54    0.061702  0.150107\n",
       "              55    0.097928  0.196360\n",
       "              56    0.142702  0.286938\n",
       "              57    0.244107  0.387152\n",
       "              58    0.390966  0.466167\n",
       "              59    0.700945  0.587580\n",
       "              60    1.090977  0.695503\n",
       "              61    1.849451  0.757173\n",
       "              62    2.621134  0.799572\n",
       "              63    5.115771  0.922912\n",
       "              64    8.046807  0.924839\n",
       "              65    0.029852  0.094218), ('447k',     [EGF]-447k  [R]-447k\n",
       "              66    0.007675  0.036403\n",
       "              67    0.014997  0.046039\n",
       "              68    0.029573  0.092291\n",
       "              69    0.061121  0.152034\n",
       "              70    0.096991  0.213705\n",
       "              71    0.144087  0.265739\n",
       "              72    0.248778  0.379443\n",
       "              73    0.394625  0.477730\n",
       "              74    0.687951  0.572163\n",
       "              75    1.177004  0.656959\n",
       "              76    1.832599  0.730193\n",
       "              77    2.572647  0.780300\n",
       "              78    4.082598  0.838116\n",
       "              79    8.050874  0.876659\n",
       "              80   16.019070  0.961456), ('20k',     [EGF]-20k   [R]-20k\n",
       "              81   0.017137  0.042675\n",
       "              82   0.034444  0.072200\n",
       "              83   0.076554  0.182319\n",
       "              84   0.145089  0.308810\n",
       "              85   0.251269  0.393935\n",
       "              86   0.414273  0.538879\n",
       "              87   0.725565  0.739611\n",
       "              88   1.060153  0.779171\n",
       "              89   1.819164  0.932407\n",
       "              90   2.552526  0.914133\n",
       "              91   4.121284  0.970296\n",
       "              92   6.136859  0.919048\n",
       "              93   8.368795  1.026665\n",
       "              94  12.344850  1.024950), ('46k',      [EGF]-46k   [R]-46k\n",
       "              95    0.010306  0.023641\n",
       "              96    0.019705  0.046928\n",
       "              97    0.039608  0.084710\n",
       "              98    0.080441  0.153465\n",
       "              99    0.119932  0.215749\n",
       "              100   0.158631  0.265541\n",
       "              101   0.253688  0.358852\n",
       "              102   0.405729  0.457324\n",
       "              103   0.724835  0.648784\n",
       "              104   1.048583  0.688335\n",
       "              105   1.797912  0.771388\n",
       "              106   2.603329  0.893508\n",
       "              107   4.117893  0.895984\n",
       "              108   8.363058  0.964738\n",
       "              109  12.465670  1.004316), ('187k',      [EGF]-187k  [R]-187k\n",
       "              110    0.010408  0.015393\n",
       "              111    0.021985  0.034641\n",
       "              112    0.024290  0.036795\n",
       "              113    0.081217  0.120446\n",
       "              114    0.119872  0.170336\n",
       "              115    0.160154  0.228394\n",
       "              116    0.250999  0.296916\n",
       "              117    0.405474  0.400557\n",
       "              118    0.738316  0.512562\n",
       "              119    1.027509  0.655290\n",
       "              120    1.798446  0.798223\n",
       "              121    2.550251  0.833628\n",
       "              122    4.116105  0.856763\n",
       "              123    8.277838  0.939958\n",
       "              124   12.587670  0.983683), ('256k',      [EGF]-256k  [R]-256k\n",
       "              125    0.018370  0.011774\n",
       "              126    0.028786  0.067910\n",
       "              127    0.060827  0.118122\n",
       "              128    0.115215  0.193007\n",
       "              129    0.205571  0.269902\n",
       "              130    0.352426  0.340569\n",
       "              131    0.635489  0.471143\n",
       "              132    0.966951  0.570602\n",
       "              133    1.675933  0.727976\n",
       "              134    2.448160  0.744830\n",
       "              135    4.034029  0.838167\n",
       "              136    6.195363  0.875708\n",
       "              137    8.192737  0.906922\n",
       "              138   12.450580  0.894911), ('1200k',      [EGF]-1200k  [R]-1200k\n",
       "              139     0.012960   0.013525\n",
       "              140     0.027926   0.030727\n",
       "              141     0.056686   0.052004\n",
       "              142     0.087926   0.087489\n",
       "              143     0.131057   0.125003\n",
       "              144     0.222473   0.203918\n",
       "              145     0.362950   0.297247\n",
       "              146     0.654465   0.427821\n",
       "              147     1.005847   0.531417\n",
       "              148     1.760088   0.651644\n",
       "              149     2.521322   0.703571\n",
       "              150     4.067926   0.693679\n",
       "              151     8.354267   0.869783\n",
       "              152    16.147750   0.971521), ('12k',      [EGF]-12k   [R]-12k\n",
       "              153   0.016317  0.064025\n",
       "              154   0.033773  0.119760\n",
       "              155   0.068405  0.175501\n",
       "              156   0.089901  0.247054\n",
       "              157   0.165181  0.302827\n",
       "              158   0.282098  0.432504\n",
       "              159   0.431739  0.524157\n",
       "              160   0.778345  0.653817\n",
       "              161   1.068384  0.729834\n",
       "              162   1.805680  0.870709\n",
       "              163   2.669588  0.904164\n",
       "              164   4.307405  0.959979\n",
       "              165   6.418342  0.910596\n",
       "              166   8.512644  0.935132\n",
       "              167  12.848460  0.941715), ('82k',      [EGF]-82k   [R]-82k\n",
       "              168   0.016119  0.025969\n",
       "              169   0.035202  0.068254\n",
       "              170   0.073283  0.134061\n",
       "              171   0.143071  0.221157\n",
       "              172   0.242842  0.330687\n",
       "              173   0.377852  0.430171\n",
       "              174   0.708994  0.618027\n",
       "              175   1.036456  0.789172\n",
       "              176   1.893233  0.832634\n",
       "              177   4.393878  0.910719\n",
       "              178   6.403579  0.996791\n",
       "              179   8.504394  0.908266\n",
       "              180  14.243820  0.948398), ('107k',      [EGF]-107k  [R]-107k\n",
       "              181    0.011219  0.033923\n",
       "              182    0.018762  0.031517\n",
       "              183    0.035766  0.058174\n",
       "              184    0.067134  0.106104\n",
       "              185    0.126858  0.188734\n",
       "              186    0.226001  0.289293\n",
       "              187    0.369251  0.392119\n",
       "              188    0.666551  0.557599\n",
       "              189    1.010532  0.687315\n",
       "              190    1.779753  0.769967\n",
       "              191    2.587404  0.937756\n",
       "              192    6.364634  0.977763\n",
       "              193    8.483119  0.988864\n",
       "              194   12.654250  0.969704), ('387k',      [EGF]-387k  [R]-387k\n",
       "              195    0.012981  0.026040\n",
       "              196    0.031558  0.040304\n",
       "              197    0.058247  0.071449\n",
       "              198    0.078511  0.093740\n",
       "              199    0.148339  0.173011\n",
       "              200    0.243500  0.255686\n",
       "              201    0.406682  0.367461\n",
       "              202    0.713275  0.484816\n",
       "              203    0.984659  0.568666\n",
       "              204    1.766929  0.719596\n",
       "              205    2.575723  0.812385\n",
       "              206    4.142375  0.927529\n",
       "              207    6.479044  0.871414\n",
       "              208    8.427099  0.955284\n",
       "              209   12.688550  0.894704), ('502k',      [EGF]-502k  [R]-502k\n",
       "              210    0.011394  0.013768\n",
       "              211    0.023292  0.024731\n",
       "              212    0.050302  0.058063\n",
       "              213    0.098623  0.112696\n",
       "              214    0.175472  0.177434\n",
       "              215    0.297586  0.263457\n",
       "              216    0.557369  0.400940\n",
       "              217    0.826670  0.522828\n",
       "              218    1.522772  0.649122\n",
       "              219    2.283661  0.777722\n",
       "              220    3.910003  0.827921\n",
       "              221    6.106213  0.879269\n",
       "              222    9.179923  0.926152\n",
       "              223   14.138340  0.892430), ('1600k',      [EGF]-1600k  [R]-1600k\n",
       "              224     0.010226   0.014923\n",
       "              225     0.017193   0.012516\n",
       "              226     0.036900   0.023462\n",
       "              227     0.051080   0.033431\n",
       "              228     0.096354   0.067927\n",
       "              229     0.171325   0.114756\n",
       "              230     0.279624   0.188477\n",
       "              231     0.492993   0.300234\n",
       "              232     0.672910   0.370655\n",
       "              233     1.361332   0.543935\n",
       "              234     1.965876   0.675905\n",
       "              235     3.560756   0.785414\n",
       "              236     5.559898   0.832284\n",
       "              237     7.705445   0.874716\n",
       "              238    12.271130   0.867849)])"
      ]
     },
     "execution_count": 117,
     "metadata": {},
     "output_type": "execute_result"
    }
   ],
   "source": [
    "EGFR_WT_DICT_ord['']"
   ]
  },
  {
   "cell_type": "code",
   "execution_count": 119,
   "metadata": {
    "collapsed": true
   },
   "outputs": [],
   "source": [
    "EGFR_WT_RTOTS_ord = collections.OrderedDict(zip(colist_low,berb2))"
   ]
  },
  {
   "cell_type": "code",
   "execution_count": 120,
   "metadata": {
    "collapsed": false
   },
   "outputs": [
    {
     "data": {
      "text/plain": [
       "OrderedDict([('24k', '0.001439'),\n",
       "             ('43k', '0.002422'),\n",
       "             ('92k', '0.003392'),\n",
       "             ('120k', '0.002718'),\n",
       "             ('231k', '0.01216'),\n",
       "             ('447k', '0.02594'),\n",
       "             ('20k', '0.0005889'),\n",
       "             ('46k', '0.002544'),\n",
       "             ('187k', '0.00643'),\n",
       "             ('256k', '0.01263'),\n",
       "             ('1200k', '0.05509'),\n",
       "             ('12k', '0.001193'),\n",
       "             ('82k', '0.003513'),\n",
       "             ('107k', '0.006083'),\n",
       "             ('387k', '0.01968'),\n",
       "             ('502k', '0.03013'),\n",
       "             ('1600k', '0.0925')])"
      ]
     },
     "execution_count": 120,
     "metadata": {},
     "output_type": "execute_result"
    }
   ],
   "source": [
    "EGFR_WT_RTOTS_ord"
   ]
  },
  {
   "cell_type": "code",
   "execution_count": null,
   "metadata": {
    "collapsed": true
   },
   "outputs": [],
   "source": []
  }
 ],
 "metadata": {
  "kernelspec": {
   "display_name": "Python [conda env:fitter]",
   "language": "python",
   "name": "conda-env-fitter-py"
  },
  "language_info": {
   "codemirror_mode": {
    "name": "ipython",
    "version": 3
   },
   "file_extension": ".py",
   "mimetype": "text/x-python",
   "name": "python",
   "nbconvert_exporter": "python",
   "pygments_lexer": "ipython3",
   "version": "3.5.2"
  }
 },
 "nbformat": 4,
 "nbformat_minor": 1
}
