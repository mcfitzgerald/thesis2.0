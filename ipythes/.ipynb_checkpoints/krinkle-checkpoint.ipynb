{
 "cells": [
  {
   "cell_type": "code",
   "execution_count": 1,
   "metadata": {
    "collapsed": true
   },
   "outputs": [],
   "source": [
    "import numpy as np"
   ]
  },
  {
   "cell_type": "code",
   "execution_count": 2,
   "metadata": {
    "collapsed": false
   },
   "outputs": [
    {
     "name": "stderr",
     "output_type": "stream",
     "text": [
      "ERROR:root:Line magic function `%autoreload` not found.\n"
     ]
    }
   ],
   "source": [
    "%autoreload"
   ]
  },
  {
   "cell_type": "code",
   "execution_count": 2,
   "metadata": {
    "collapsed": true
   },
   "outputs": [],
   "source": [
    "%load_ext autoreload"
   ]
  },
  {
   "cell_type": "code",
   "execution_count": 4,
   "metadata": {
    "collapsed": true
   },
   "outputs": [],
   "source": [
    "%autoreload"
   ]
  },
  {
   "cell_type": "code",
   "execution_count": 3,
   "metadata": {
    "collapsed": true
   },
   "outputs": [],
   "source": [
    "%matplotlib inline"
   ]
  },
  {
   "cell_type": "code",
   "execution_count": 4,
   "metadata": {
    "collapsed": true
   },
   "outputs": [],
   "source": [
    "import matplotlib.pyplot as plt"
   ]
  },
  {
   "cell_type": "code",
   "execution_count": 5,
   "metadata": {
    "collapsed": true
   },
   "outputs": [],
   "source": [
    "import lmfit"
   ]
  },
  {
   "cell_type": "code",
   "execution_count": 6,
   "metadata": {
    "collapsed": true
   },
   "outputs": [],
   "source": [
    "import ligmods"
   ]
  },
  {
   "cell_type": "code",
   "execution_count": 7,
   "metadata": {
    "collapsed": true
   },
   "outputs": [],
   "source": [
    "L = ligmods.dilser(0.001,100,2)"
   ]
  },
  {
   "cell_type": "code",
   "execution_count": 8,
   "metadata": {
    "collapsed": true
   },
   "outputs": [],
   "source": [
    "klotz1 = lmfit.models.ExpressionModel('(k1*x)/(1 + k1*x)')"
   ]
  },
  {
   "cell_type": "code",
   "execution_count": 9,
   "metadata": {
    "collapsed": true
   },
   "outputs": [],
   "source": [
    "params = klotz1.make_params(k1=2.0)"
   ]
  },
  {
   "cell_type": "code",
   "execution_count": 10,
   "metadata": {
    "collapsed": true
   },
   "outputs": [],
   "source": [
    "B = klotz1.eval(params,x=L)"
   ]
  },
  {
   "cell_type": "code",
   "execution_count": 11,
   "metadata": {
    "collapsed": false
   },
   "outputs": [
    {
     "data": {
      "text/plain": [
       "array([ 0.00199601,  0.00398406,  0.00793651,  0.01574803,  0.03100775,\n",
       "        0.06015038,  0.11347518,  0.20382166,  0.33862434,  0.50592885,\n",
       "        0.67191601,  0.80376766,  0.89120975,  0.94247584,  0.97038616,\n",
       "        0.98497054,  0.99242837,  0.9961998 ])"
      ]
     },
     "execution_count": 11,
     "metadata": {},
     "output_type": "execute_result"
    }
   ],
   "source": [
    "B"
   ]
  },
  {
   "cell_type": "code",
   "execution_count": 12,
   "metadata": {
    "collapsed": false
   },
   "outputs": [
    {
     "data": {
      "text/plain": [
       "[<matplotlib.lines.Line2D at 0x10f9ad358>]"
      ]
     },
     "execution_count": 12,
     "metadata": {},
     "output_type": "execute_result"
    },
    {
     "data": {
      "image/png": "[encoded data removed]",
      "text/plain": [
       "<matplotlib.figure.Figure at 0x10d70aa90>"
      ]
     },
     "metadata": {},
     "output_type": "display_data"
    }
   ],
   "source": [
    "plt.semilogx(L,B,'o')"
   ]
  },
  {
   "cell_type": "code",
   "execution_count": 13,
   "metadata": {
    "collapsed": false
   },
   "outputs": [],
   "source": [
    "L1 = ligmods.noiser(L,0.05)"
   ]
  },
  {
   "cell_type": "code",
   "execution_count": 18,
   "metadata": {
    "collapsed": true
   },
   "outputs": [],
   "source": [
    "%autoreload"
   ]
  },
  {
   "cell_type": "code",
   "execution_count": 14,
   "metadata": {
    "collapsed": false
   },
   "outputs": [],
   "source": [
    "L1 = ligmods.noiser(L,0.05)"
   ]
  },
  {
   "cell_type": "code",
   "execution_count": 20,
   "metadata": {
    "collapsed": true
   },
   "outputs": [],
   "source": [
    "%autoreload"
   ]
  },
  {
   "cell_type": "code",
   "execution_count": 15,
   "metadata": {
    "collapsed": true
   },
   "outputs": [],
   "source": [
    "B1 = ligmods.noiser(B,0.05)"
   ]
  },
  {
   "cell_type": "code",
   "execution_count": 16,
   "metadata": {
    "collapsed": false
   },
   "outputs": [
    {
     "data": {
      "text/plain": [
       "[<matplotlib.lines.Line2D at 0x110674f60>]"
      ]
     },
     "execution_count": 16,
     "metadata": {},
     "output_type": "execute_result"
    },
    {
     "data": {
      "image/png": "[encoded data removed]",
      "text/plain": [
       "<matplotlib.figure.Figure at 0x110648b70>"
      ]
     },
     "metadata": {},
     "output_type": "display_data"
    }
   ],
   "source": [
    "plt.semilogx(L,B1,'o')"
   ]
  },
  {
   "cell_type": "code",
   "execution_count": 17,
   "metadata": {
    "collapsed": true
   },
   "outputs": [],
   "source": [
    "nums = np.ones(20)"
   ]
  },
  {
   "cell_type": "code",
   "execution_count": 18,
   "metadata": {
    "collapsed": false
   },
   "outputs": [
    {
     "data": {
      "text/plain": [
       "array([ 1.,  1.,  1.,  1.,  1.,  1.,  1.,  1.,  1.,  1.,  1.,  1.,  1.,\n",
       "        1.,  1.,  1.,  1.,  1.,  1.,  1.])"
      ]
     },
     "execution_count": 18,
     "metadata": {},
     "output_type": "execute_result"
    }
   ],
   "source": [
    "nums"
   ]
  },
  {
   "cell_type": "code",
   "execution_count": 19,
   "metadata": {
    "collapsed": false
   },
   "outputs": [],
   "source": [
    "nums1 = ligmods.noiser(nums,0.05)"
   ]
  },
  {
   "cell_type": "code",
   "execution_count": 20,
   "metadata": {
    "collapsed": false
   },
   "outputs": [
    {
     "data": {
      "text/plain": [
       "array([ 0.98024032,  0.99855275,  1.00488011,  1.02876014,  0.91253454,\n",
       "        1.06097876,  0.92918246,  1.05079467,  1.01924202,  1.0232871 ,\n",
       "        1.00080764,  1.01793369,  1.06079818,  1.01240584,  1.01421344,\n",
       "        1.05851483,  1.08536659,  1.07619815,  0.9748729 ,  0.99457221])"
      ]
     },
     "execution_count": 20,
     "metadata": {},
     "output_type": "execute_result"
    }
   ],
   "source": [
    "nums1"
   ]
  },
  {
   "cell_type": "code",
   "execution_count": 21,
   "metadata": {
    "collapsed": false
   },
   "outputs": [
    {
     "data": {
      "text/plain": [
       "1.0152068167895725"
      ]
     },
     "execution_count": 21,
     "metadata": {},
     "output_type": "execute_result"
    }
   ],
   "source": [
    "np.average(nums1)"
   ]
  },
  {
   "cell_type": "code",
   "execution_count": 22,
   "metadata": {
    "collapsed": false
   },
   "outputs": [
    {
     "data": {
      "text/plain": [
       "0.043616500127682895"
      ]
     },
     "execution_count": 22,
     "metadata": {},
     "output_type": "execute_result"
    }
   ],
   "source": [
    "np.std(nums1)"
   ]
  },
  {
   "cell_type": "code",
   "execution_count": 23,
   "metadata": {
    "collapsed": true
   },
   "outputs": [],
   "source": [
    "nums2 = ligmods.noiser(nums,0.1)"
   ]
  },
  {
   "cell_type": "code",
   "execution_count": 24,
   "metadata": {
    "collapsed": false
   },
   "outputs": [
    {
     "data": {
      "text/plain": [
       "array([ 1.22459204,  0.92363535,  1.00080381,  0.90647317,  1.01812837,\n",
       "        0.81690608,  0.91845078,  0.81328901,  0.95420774,  1.05049619,\n",
       "        0.9734382 ,  0.96573306,  0.99499915,  1.09760181,  1.12734467,\n",
       "        0.92020346,  0.92970772,  1.15506743,  0.93865488,  0.99016162])"
      ]
     },
     "execution_count": 24,
     "metadata": {},
     "output_type": "execute_result"
    }
   ],
   "source": [
    "nums2"
   ]
  },
  {
   "cell_type": "code",
   "execution_count": 36,
   "metadata": {
    "collapsed": false
   },
   "outputs": [
    {
     "name": "stdout",
     "output_type": "stream",
     "text": [
      "Help on function std in module numpy.core.fromnumeric:\n",
      "\n",
      "std(a, axis=None, dtype=None, out=None, ddof=0, keepdims=<class 'numpy._globals._NoValue'>)\n",
      "    Compute the standard deviation along the specified axis.\n",
      "    \n",
      "    Returns the standard deviation, a measure of the spread of a distribution,\n",
      "    of the array elements. The standard deviation is computed for the\n",
      "    flattened array by default, otherwise over the specified axis.\n",
      "    \n",
      "    Parameters\n",
      "    ----------\n",
      "    a : array_like\n",
      "        Calculate the standard deviation of these values.\n",
      "    axis : None or int or tuple of ints, optional\n",
      "        Axis or axes along which the standard deviation is computed. The\n",
      "        default is to compute the standard deviation of the flattened array.\n",
      "    \n",
      "        .. versionadded: 1.7.0\n",
      "    \n",
      "        If this is a tuple of ints, a standard deviation is performed over\n",
      "        multiple axes, instead of a single axis or all the axes as before.\n",
      "    dtype : dtype, optional\n",
      "        Type to use in computing the standard deviation. For arrays of\n",
      "        integer type the default is float64, for arrays of float types it is\n",
      "        the same as the array type.\n",
      "    out : ndarray, optional\n",
      "        Alternative output array in which to place the result. It must have\n",
      "        the same shape as the expected output but the type (of the calculated\n",
      "        values) will be cast if necessary.\n",
      "    ddof : int, optional\n",
      "        Means Delta Degrees of Freedom.  The divisor used in calculations\n",
      "        is ``N - ddof``, where ``N`` represents the number of elements.\n",
      "        By default `ddof` is zero.\n",
      "    keepdims : bool, optional\n",
      "        If this is set to True, the axes which are reduced are left\n",
      "        in the result as dimensions with size one. With this option,\n",
      "        the result will broadcast correctly against the original `arr`.\n",
      "    \n",
      "        If the default value is passed, then `keepdims` will not be\n",
      "        passed through to the `std` method of sub-classes of\n",
      "        `ndarray`, however any non-default value will be.  If the\n",
      "        sub-classes `sum` method does not implement `keepdims` any\n",
      "        exceptions will be raised.\n",
      "    \n",
      "    Returns\n",
      "    -------\n",
      "    standard_deviation : ndarray, see dtype parameter above.\n",
      "        If `out` is None, return a new array containing the standard deviation,\n",
      "        otherwise return a reference to the output array.\n",
      "    \n",
      "    See Also\n",
      "    --------\n",
      "    var, mean, nanmean, nanstd, nanvar\n",
      "    numpy.doc.ufuncs : Section \"Output arguments\"\n",
      "    \n",
      "    Notes\n",
      "    -----\n",
      "    The standard deviation is the square root of the average of the squared\n",
      "    deviations from the mean, i.e., ``std = sqrt(mean(abs(x - x.mean())**2))``.\n",
      "    \n",
      "    The average squared deviation is normally calculated as\n",
      "    ``x.sum() / N``, where ``N = len(x)``.  If, however, `ddof` is specified,\n",
      "    the divisor ``N - ddof`` is used instead. In standard statistical\n",
      "    practice, ``ddof=1`` provides an unbiased estimator of the variance\n",
      "    of the infinite population. ``ddof=0`` provides a maximum likelihood\n",
      "    estimate of the variance for normally distributed variables. The\n",
      "    standard deviation computed in this function is the square root of\n",
      "    the estimated variance, so even with ``ddof=1``, it will not be an\n",
      "    unbiased estimate of the standard deviation per se.\n",
      "    \n",
      "    Note that, for complex numbers, `std` takes the absolute\n",
      "    value before squaring, so that the result is always real and nonnegative.\n",
      "    \n",
      "    For floating-point input, the *std* is computed using the same\n",
      "    precision the input has. Depending on the input data, this can cause\n",
      "    the results to be inaccurate, especially for float32 (see example below).\n",
      "    Specifying a higher-accuracy accumulator using the `dtype` keyword can\n",
      "    alleviate this issue.\n",
      "    \n",
      "    Examples\n",
      "    --------\n",
      "    >>> a = np.array([[1, 2], [3, 4]])\n",
      "    >>> np.std(a)\n",
      "    1.1180339887498949\n",
      "    >>> np.std(a, axis=0)\n",
      "    array([ 1.,  1.])\n",
      "    >>> np.std(a, axis=1)\n",
      "    array([ 0.5,  0.5])\n",
      "    \n",
      "    In single precision, std() can be inaccurate:\n",
      "    \n",
      "    >>> a = np.zeros((2, 512*512), dtype=np.float32)\n",
      "    >>> a[0, :] = 1.0\n",
      "    >>> a[1, :] = 0.1\n",
      "    >>> np.std(a)\n",
      "    0.45000005\n",
      "    \n",
      "    Computing the standard deviation in float64 is more accurate:\n",
      "    \n",
      "    >>> np.std(a, dtype=np.float64)\n",
      "    0.44999999925494177\n",
      "\n"
     ]
    }
   ],
   "source": [
    "help(np.std)"
   ]
  },
  {
   "cell_type": "code",
   "execution_count": 25,
   "metadata": {
    "collapsed": false
   },
   "outputs": [
    {
     "data": {
      "text/plain": [
       "0.98599472698108426"
      ]
     },
     "execution_count": 25,
     "metadata": {},
     "output_type": "execute_result"
    }
   ],
   "source": [
    "np.average(nums2)"
   ]
  },
  {
   "cell_type": "code",
   "execution_count": 26,
   "metadata": {
    "collapsed": false
   },
   "outputs": [
    {
     "data": {
      "text/plain": [
       "0.10197307162841117"
      ]
     },
     "execution_count": 26,
     "metadata": {},
     "output_type": "execute_result"
    }
   ],
   "source": [
    "np.std(nums2)"
   ]
  },
  {
   "cell_type": "code",
   "execution_count": 27,
   "metadata": {
    "collapsed": true
   },
   "outputs": [],
   "source": [
    "numslrg = np.ones(100)"
   ]
  },
  {
   "cell_type": "code",
   "execution_count": 28,
   "metadata": {
    "collapsed": true
   },
   "outputs": [],
   "source": [
    "numslrg1 = ligmods.noiser(numslrg,0.1)"
   ]
  },
  {
   "cell_type": "code",
   "execution_count": 29,
   "metadata": {
    "collapsed": false
   },
   "outputs": [
    {
     "data": {
      "text/plain": [
       "1.0087738511822666"
      ]
     },
     "execution_count": 29,
     "metadata": {},
     "output_type": "execute_result"
    }
   ],
   "source": [
    "np.average(numslrg1)"
   ]
  },
  {
   "cell_type": "code",
   "execution_count": 30,
   "metadata": {
    "collapsed": false
   },
   "outputs": [
    {
     "data": {
      "text/plain": [
       "0.094235146357455904"
      ]
     },
     "execution_count": 30,
     "metadata": {},
     "output_type": "execute_result"
    }
   ],
   "source": [
    "np.std(numslrg1)"
   ]
  },
  {
   "cell_type": "code",
   "execution_count": 31,
   "metadata": {
    "collapsed": false
   },
   "outputs": [
    {
     "name": "stderr",
     "output_type": "stream",
     "text": [
      "ERROR:root:Line magic function `%reload` not found.\n"
     ]
    }
   ],
   "source": [
    "%reload"
   ]
  },
  {
   "cell_type": "code",
   "execution_count": 32,
   "metadata": {
    "collapsed": true
   },
   "outputs": [],
   "source": [
    "%autoreload\n"
   ]
  },
  {
   "cell_type": "code",
   "execution_count": 33,
   "metadata": {
    "collapsed": false
   },
   "outputs": [
    {
     "data": {
      "text/plain": [
       "array([ 1.,  1.,  1.,  1.,  1.,  1.,  1.,  1.,  1.,  1.,  1.,  1.,  1.,\n",
       "        1.,  1.,  1.,  1.,  1.,  1.,  1.,  1.,  1.,  1.,  1.,  1.,  1.,\n",
       "        1.,  1.,  1.,  1.,  1.,  1.,  1.,  1.,  1.,  1.,  1.,  1.,  1.,\n",
       "        1.,  1.,  1.,  1.,  1.,  1.,  1.,  1.,  1.,  1.,  1.,  1.,  1.,\n",
       "        1.,  1.,  1.,  1.,  1.,  1.,  1.,  1.,  1.,  1.,  1.,  1.,  1.,\n",
       "        1.,  1.,  1.,  1.,  1.,  1.,  1.,  1.,  1.,  1.,  1.,  1.,  1.,\n",
       "        1.,  1.,  1.,  1.,  1.,  1.,  1.,  1.,  1.,  1.,  1.,  1.,  1.,\n",
       "        1.,  1.,  1.,  1.,  1.,  1.,  1.,  1.,  1.])"
      ]
     },
     "execution_count": 33,
     "metadata": {},
     "output_type": "execute_result"
    }
   ],
   "source": [
    "numslrg"
   ]
  },
  {
   "cell_type": "code",
   "execution_count": 34,
   "metadata": {
    "collapsed": true
   },
   "outputs": [],
   "source": [
    "numslrg3 = ligmods.noiser(numslrg,0.05)"
   ]
  },
  {
   "cell_type": "code",
   "execution_count": 35,
   "metadata": {
    "collapsed": false
   },
   "outputs": [
    {
     "data": {
      "text/plain": [
       "0.99759244263722324"
      ]
     },
     "execution_count": 35,
     "metadata": {},
     "output_type": "execute_result"
    }
   ],
   "source": [
    "np.average(numslrg3)"
   ]
  },
  {
   "cell_type": "code",
   "execution_count": 36,
   "metadata": {
    "collapsed": false
   },
   "outputs": [
    {
     "data": {
      "text/plain": [
       "0.043612424068464321"
      ]
     },
     "execution_count": 36,
     "metadata": {},
     "output_type": "execute_result"
    }
   ],
   "source": [
    "np.std(numslrg3)"
   ]
  },
  {
   "cell_type": "code",
   "execution_count": 37,
   "metadata": {
    "collapsed": true
   },
   "outputs": [],
   "source": [
    "numslrg4 = ligmods.noiser(numslrg,0.1)"
   ]
  },
  {
   "cell_type": "code",
   "execution_count": 38,
   "metadata": {
    "collapsed": false
   },
   "outputs": [
    {
     "data": {
      "text/plain": [
       "0.095368295331480724"
      ]
     },
     "execution_count": 38,
     "metadata": {},
     "output_type": "execute_result"
    }
   ],
   "source": [
    "np.std(numslrg4)"
   ]
  },
  {
   "cell_type": "code",
   "execution_count": 39,
   "metadata": {
    "collapsed": true
   },
   "outputs": [],
   "source": [
    "numslrg3 = ligmods.noiser(numslrg,0.05)"
   ]
  },
  {
   "cell_type": "code",
   "execution_count": 40,
   "metadata": {
    "collapsed": false
   },
   "outputs": [
    {
     "data": {
      "text/plain": [
       "1.0011197162047802"
      ]
     },
     "execution_count": 40,
     "metadata": {},
     "output_type": "execute_result"
    }
   ],
   "source": [
    "np.average(numslrg3)"
   ]
  },
  {
   "cell_type": "code",
   "execution_count": 42,
   "metadata": {
    "collapsed": false
   },
   "outputs": [
    {
     "data": {
      "text/plain": [
       "0.050415098975992355"
      ]
     },
     "execution_count": 42,
     "metadata": {},
     "output_type": "execute_result"
    }
   ],
   "source": [
    "np.std(numslrg3)"
   ]
  },
  {
   "cell_type": "code",
   "execution_count": 44,
   "metadata": {
    "collapsed": false
   },
   "outputs": [
    {
     "data": {
      "text/plain": [
       "<lmfit.ExpressionModel('(k1*x)/(1 + k1*x)')>"
      ]
     },
     "execution_count": 44,
     "metadata": {},
     "output_type": "execute_result"
    }
   ],
   "source": [
    "klotz1"
   ]
  },
  {
   "cell_type": "code",
   "execution_count": 45,
   "metadata": {
    "collapsed": true
   },
   "outputs": [],
   "source": [
    "set1 = [ligmods.noiser(B,0.05) for i in range(10)]"
   ]
  },
  {
   "cell_type": "code",
   "execution_count": 56,
   "metadata": {
    "collapsed": false
   },
   "outputs": [
    {
     "data": {
      "text/plain": [
       "[array([ 0.00194562,  0.00414687,  0.00787249,  0.01648752,  0.03044348,\n",
       "         0.05796031,  0.12245009,  0.19470123,  0.32237079,  0.53053387,\n",
       "         0.65954076,  0.76056453,  0.91560476,  0.94995922,  0.9779125 ,\n",
       "         1.0161985 ,  1.03531274,  0.99232208]),\n",
       " array([ 0.00188152,  0.00403637,  0.00796648,  0.01535569,  0.02829525,\n",
       "         0.05769777,  0.11173822,  0.21359537,  0.33787154,  0.54969937,\n",
       "         0.70257692,  0.85155304,  0.88515029,  0.96873493,  0.96745599,\n",
       "         1.04326736,  0.95920421,  0.94897571]),\n",
       " array([ 0.00187619,  0.00391836,  0.00883251,  0.01549029,  0.03046911,\n",
       "         0.05719278,  0.11164647,  0.19854274,  0.3598537 ,  0.47805152,\n",
       "         0.67999713,  0.87789253,  0.92367808,  0.97819082,  0.99104652,\n",
       "         0.9439853 ,  0.9632631 ,  0.94111242]),\n",
       " array([ 0.00190659,  0.00402612,  0.00725454,  0.01532782,  0.03317831,\n",
       "         0.06461678,  0.11521095,  0.209282  ,  0.33076369,  0.52290557,\n",
       "         0.67579432,  0.77733645,  0.92674904,  0.98934932,  0.86128948,\n",
       "         0.99245576,  0.95834472,  0.99302583]),\n",
       " array([ 0.00201834,  0.00397342,  0.00819901,  0.01810937,  0.03256556,\n",
       "         0.06236211,  0.1252315 ,  0.19225096,  0.32659764,  0.48024759,\n",
       "         0.63845965,  0.78927763,  0.83969879,  0.90074262,  0.91856662,\n",
       "         0.93316258,  1.034529  ,  0.89154943]),\n",
       " array([ 0.00203297,  0.00370442,  0.00772926,  0.01573457,  0.03134931,\n",
       "         0.06368816,  0.11464024,  0.20958595,  0.34246511,  0.47965717,\n",
       "         0.62799203,  0.87648379,  0.91988723,  0.9241953 ,  0.9285595 ,\n",
       "         1.06308586,  1.02488633,  0.98436576]),\n",
       " array([ 0.002099  ,  0.00391822,  0.00844967,  0.01515256,  0.03211868,\n",
       "         0.06141046,  0.1001101 ,  0.19320226,  0.33656245,  0.53287296,\n",
       "         0.62831684,  0.71576767,  0.93305572,  1.01577309,  0.96879816,\n",
       "         1.00097916,  0.94547714,  1.01572906]),\n",
       " array([ 0.00179331,  0.00413016,  0.0076117 ,  0.01652568,  0.03223226,\n",
       "         0.06090113,  0.10135352,  0.20806955,  0.31305959,  0.56472063,\n",
       "         0.7756953 ,  0.77727908,  0.88318622,  0.90608555,  0.99684053,\n",
       "         0.98547768,  1.0091553 ,  1.02419254]),\n",
       " array([ 0.00201375,  0.00364485,  0.00765954,  0.01530344,  0.03194171,\n",
       "         0.06153428,  0.12038501,  0.20554694,  0.33846883,  0.49118801,\n",
       "         0.67479479,  0.78450405,  0.98506279,  0.93586378,  1.06205688,\n",
       "         0.96980564,  0.9653971 ,  1.07749646]),\n",
       " array([ 0.00206466,  0.003962  ,  0.00722736,  0.01633198,  0.03005822,\n",
       "         0.06291182,  0.11492291,  0.19740322,  0.35512599,  0.51117362,\n",
       "         0.65909521,  0.84259103,  0.87826385,  0.92698175,  0.96101265,\n",
       "         0.93257161,  1.03435592,  1.00813909])]"
      ]
     },
     "execution_count": 56,
     "metadata": {},
     "output_type": "execute_result"
    }
   ],
   "source": [
    "set1"
   ]
  },
  {
   "cell_type": "code",
   "execution_count": 46,
   "metadata": {
    "collapsed": false
   },
   "outputs": [
    {
     "data": {
      "text/plain": [
       "array([ 0.00190488,  0.00415741,  0.00849306,  0.01546561,  0.02968242,\n",
       "        0.0574013 ,  0.1080536 ,  0.21305256,  0.32608562,  0.48003009,\n",
       "        0.68032108,  0.8716603 ,  0.8471923 ,  0.94681748,  1.06011751,\n",
       "        0.96955635,  1.11531163,  1.03354773])"
      ]
     },
     "execution_count": 46,
     "metadata": {},
     "output_type": "execute_result"
    }
   ],
   "source": [
    "set1[0]"
   ]
  },
  {
   "cell_type": "code",
   "execution_count": 47,
   "metadata": {
    "collapsed": false
   },
   "outputs": [
    {
     "data": {
      "text/plain": [
       "array([ 0.00185726,  0.00402342,  0.00782967,  0.01585551,  0.03241434,\n",
       "        0.06028141,  0.09943353,  0.21766275,  0.33472913,  0.5100246 ,\n",
       "        0.64215578,  0.80603054,  0.89982256,  0.94269419,  0.93852915,\n",
       "        1.01255491,  1.01058791,  1.01150045])"
      ]
     },
     "execution_count": 47,
     "metadata": {},
     "output_type": "execute_result"
    }
   ],
   "source": [
    "set1[1]"
   ]
  },
  {
   "cell_type": "code",
   "execution_count": 48,
   "metadata": {
    "collapsed": false
   },
   "outputs": [
    {
     "data": {
      "text/plain": [
       "[<matplotlib.lines.Line2D at 0x1106d3358>]"
      ]
     },
     "execution_count": 48,
     "metadata": {},
     "output_type": "execute_result"
    },
    {
     "data": {
      "image/png": "[encoded data removed]",
      "text/plain": [
       "<matplotlib.figure.Figure at 0x1106d3390>"
      ]
     },
     "metadata": {},
     "output_type": "display_data"
    }
   ],
   "source": [
    "plt.semilogx(L,set1[1],'o')\n",
    "plt.semilogx(L,set1[2],'+')"
   ]
  },
  {
   "cell_type": "code",
   "execution_count": 64,
   "metadata": {
    "collapsed": true
   },
   "outputs": [],
   "source": [
    "B1 = set1[1]"
   ]
  },
  {
   "cell_type": "code",
   "execution_count": 49,
   "metadata": {
    "collapsed": false
   },
   "outputs": [
    {
     "name": "stdout",
     "output_type": "stream",
     "text": [
      "B0\n",
      "B1\n",
      "B2\n"
     ]
    }
   ],
   "source": [
    "for i in range(3):\n",
    "    print(\"B\" + str(i))"
   ]
  },
  {
   "cell_type": "code",
   "execution_count": 50,
   "metadata": {
    "collapsed": false
   },
   "outputs": [
    {
     "data": {
      "text/plain": [
       "'BV'"
      ]
     },
     "execution_count": 50,
     "metadata": {},
     "output_type": "execute_result"
    }
   ],
   "source": [
    "\"B\" + \"V\""
   ]
  },
  {
   "cell_type": "code",
   "execution_count": 51,
   "metadata": {
    "collapsed": false
   },
   "outputs": [
    {
     "ename": "SyntaxError",
     "evalue": "can't assign to operator (<ipython-input-51-71eb93396676>, line 1)",
     "output_type": "error",
     "traceback": [
      "\u001b[0;36m  File \u001b[0;32m\"<ipython-input-51-71eb93396676>\"\u001b[0;36m, line \u001b[0;32m1\u001b[0m\n\u001b[0;31m    (\"B\" + str(3)) = 4\u001b[0m\n\u001b[0m                      ^\u001b[0m\n\u001b[0;31mSyntaxError\u001b[0m\u001b[0;31m:\u001b[0m can't assign to operator\n"
     ]
    }
   ],
   "source": [
    "(\"B\" + str(3)) = 4"
   ]
  },
  {
   "cell_type": "code",
   "execution_count": 52,
   "metadata": {
    "collapsed": false
   },
   "outputs": [
    {
     "ename": "NameError",
     "evalue": "name 'a' is not defined",
     "output_type": "error",
     "traceback": [
      "\u001b[0;31m---------------------------------------------------------------------------\u001b[0m",
      "\u001b[0;31mNameError\u001b[0m                                 Traceback (most recent call last)",
      "\u001b[0;32m<ipython-input-52-a4816e33405b>\u001b[0m in \u001b[0;36m<module>\u001b[0;34m()\u001b[0m\n\u001b[0;32m----> 1\u001b[0;31m \u001b[0mk\u001b[0m \u001b[0;34m=\u001b[0m \u001b[0;34m[\u001b[0m\u001b[0ma\u001b[0m\u001b[0;34m,\u001b[0m \u001b[0mb\u001b[0m\u001b[0;34m,\u001b[0m \u001b[0mc\u001b[0m\u001b[0;34m]\u001b[0m\u001b[0;34m\u001b[0m\u001b[0m\n\u001b[0m",
      "\u001b[0;31mNameError\u001b[0m: name 'a' is not defined"
     ]
    }
   ],
   "source": [
    "k = [a, b, c]"
   ]
  },
  {
   "cell_type": "code",
   "execution_count": 71,
   "metadata": {
    "collapsed": false
   },
   "outputs": [
    {
     "data": {
      "text/plain": [
       "[array([ 0.00194562,  0.00414687,  0.00787249,  0.01648752,  0.03044348,\n",
       "         0.05796031,  0.12245009,  0.19470123,  0.32237079,  0.53053387,\n",
       "         0.65954076,  0.76056453,  0.91560476,  0.94995922,  0.9779125 ,\n",
       "         1.0161985 ,  1.03531274,  0.99232208]),\n",
       " array([ 0.00188152,  0.00403637,  0.00796648,  0.01535569,  0.02829525,\n",
       "         0.05769777,  0.11173822,  0.21359537,  0.33787154,  0.54969937,\n",
       "         0.70257692,  0.85155304,  0.88515029,  0.96873493,  0.96745599,\n",
       "         1.04326736,  0.95920421,  0.94897571]),\n",
       " array([ 0.00187619,  0.00391836,  0.00883251,  0.01549029,  0.03046911,\n",
       "         0.05719278,  0.11164647,  0.19854274,  0.3598537 ,  0.47805152,\n",
       "         0.67999713,  0.87789253,  0.92367808,  0.97819082,  0.99104652,\n",
       "         0.9439853 ,  0.9632631 ,  0.94111242]),\n",
       " array([ 0.00190659,  0.00402612,  0.00725454,  0.01532782,  0.03317831,\n",
       "         0.06461678,  0.11521095,  0.209282  ,  0.33076369,  0.52290557,\n",
       "         0.67579432,  0.77733645,  0.92674904,  0.98934932,  0.86128948,\n",
       "         0.99245576,  0.95834472,  0.99302583]),\n",
       " array([ 0.00201834,  0.00397342,  0.00819901,  0.01810937,  0.03256556,\n",
       "         0.06236211,  0.1252315 ,  0.19225096,  0.32659764,  0.48024759,\n",
       "         0.63845965,  0.78927763,  0.83969879,  0.90074262,  0.91856662,\n",
       "         0.93316258,  1.034529  ,  0.89154943]),\n",
       " array([ 0.00203297,  0.00370442,  0.00772926,  0.01573457,  0.03134931,\n",
       "         0.06368816,  0.11464024,  0.20958595,  0.34246511,  0.47965717,\n",
       "         0.62799203,  0.87648379,  0.91988723,  0.9241953 ,  0.9285595 ,\n",
       "         1.06308586,  1.02488633,  0.98436576]),\n",
       " array([ 0.002099  ,  0.00391822,  0.00844967,  0.01515256,  0.03211868,\n",
       "         0.06141046,  0.1001101 ,  0.19320226,  0.33656245,  0.53287296,\n",
       "         0.62831684,  0.71576767,  0.93305572,  1.01577309,  0.96879816,\n",
       "         1.00097916,  0.94547714,  1.01572906]),\n",
       " array([ 0.00179331,  0.00413016,  0.0076117 ,  0.01652568,  0.03223226,\n",
       "         0.06090113,  0.10135352,  0.20806955,  0.31305959,  0.56472063,\n",
       "         0.7756953 ,  0.77727908,  0.88318622,  0.90608555,  0.99684053,\n",
       "         0.98547768,  1.0091553 ,  1.02419254]),\n",
       " array([ 0.00201375,  0.00364485,  0.00765954,  0.01530344,  0.03194171,\n",
       "         0.06153428,  0.12038501,  0.20554694,  0.33846883,  0.49118801,\n",
       "         0.67479479,  0.78450405,  0.98506279,  0.93586378,  1.06205688,\n",
       "         0.96980564,  0.9653971 ,  1.07749646]),\n",
       " array([ 0.00206466,  0.003962  ,  0.00722736,  0.01633198,  0.03005822,\n",
       "         0.06291182,  0.11492291,  0.19740322,  0.35512599,  0.51117362,\n",
       "         0.65909521,  0.84259103,  0.87826385,  0.92698175,  0.96101265,\n",
       "         0.93257161,  1.03435592,  1.00813909])]"
      ]
     },
     "execution_count": 71,
     "metadata": {},
     "output_type": "execute_result"
    }
   ],
   "source": [
    "set1"
   ]
  },
  {
   "cell_type": "code",
   "execution_count": 145,
   "metadata": {
    "collapsed": false
   },
   "outputs": [
    {
     "data": {
      "image/png": "[encoded data removed]",
      "text/plain": [
       "<matplotlib.figure.Figure at 0x1119d6b38>"
      ]
     },
     "metadata": {},
     "output_type": "display_data"
    }
   ],
   "source": [
    "for i in range(0,9):\n",
    "    plt.semilogx(L,set1[i])"
   ]
  },
  {
   "cell_type": "code",
   "execution_count": 54,
   "metadata": {
    "collapsed": false
   },
   "outputs": [
    {
     "data": {
      "text/plain": [
       "array([ 0.00190488,  0.00415741,  0.00849306,  0.01546561,  0.02968242,\n",
       "        0.0574013 ,  0.1080536 ,  0.21305256,  0.32608562,  0.48003009,\n",
       "        0.68032108,  0.8716603 ,  0.8471923 ,  0.94681748,  1.06011751,\n",
       "        0.96955635,  1.11531163,  1.03354773])"
      ]
     },
     "execution_count": 54,
     "metadata": {},
     "output_type": "execute_result"
    }
   ],
   "source": [
    "set1[0]"
   ]
  },
  {
   "cell_type": "code",
   "execution_count": 55,
   "metadata": {
    "collapsed": true
   },
   "outputs": [],
   "source": [
    "ar1 = np.array([1,2,3,4])"
   ]
  },
  {
   "cell_type": "code",
   "execution_count": 56,
   "metadata": {
    "collapsed": true
   },
   "outputs": [],
   "source": [
    "ar2 = np.array([1,2,3,4])"
   ]
  },
  {
   "cell_type": "code",
   "execution_count": 57,
   "metadata": {
    "collapsed": false
   },
   "outputs": [
    {
     "data": {
      "text/plain": [
       "array([1, 2, 3, 4])"
      ]
     },
     "execution_count": 57,
     "metadata": {},
     "output_type": "execute_result"
    }
   ],
   "source": [
    "ar1"
   ]
  },
  {
   "cell_type": "code",
   "execution_count": 58,
   "metadata": {
    "collapsed": false
   },
   "outputs": [
    {
     "data": {
      "text/plain": [
       "array([11, 12, 13, 14])"
      ]
     },
     "execution_count": 58,
     "metadata": {},
     "output_type": "execute_result"
    }
   ],
   "source": [
    "sum(ar1,ar2)"
   ]
  },
  {
   "cell_type": "code",
   "execution_count": 59,
   "metadata": {
    "collapsed": false
   },
   "outputs": [
    {
     "ename": "TypeError",
     "evalue": "only length-1 arrays can be converted to Python scalars",
     "output_type": "error",
     "traceback": [
      "\u001b[0;31m---------------------------------------------------------------------------\u001b[0m",
      "\u001b[0;31mTypeError\u001b[0m                                 Traceback (most recent call last)",
      "\u001b[0;32m<ipython-input-59-13a4a99169a0>\u001b[0m in \u001b[0;36m<module>\u001b[0;34m()\u001b[0m\n\u001b[0;32m----> 1\u001b[0;31m \u001b[0mnp\u001b[0m\u001b[0;34m.\u001b[0m\u001b[0msum\u001b[0m\u001b[0;34m(\u001b[0m\u001b[0mar1\u001b[0m\u001b[0;34m,\u001b[0m\u001b[0mar2\u001b[0m\u001b[0;34m)\u001b[0m\u001b[0;34m\u001b[0m\u001b[0m\n\u001b[0m",
      "\u001b[0;32m/Users/michael/miniconda3/envs/fitter/lib/python3.5/site-packages/numpy/core/fromnumeric.py\u001b[0m in \u001b[0;36msum\u001b[0;34m(a, axis, dtype, out, keepdims)\u001b[0m\n\u001b[1;32m   1846\u001b[0m     \u001b[0;32melse\u001b[0m\u001b[0;34m:\u001b[0m\u001b[0;34m\u001b[0m\u001b[0m\n\u001b[1;32m   1847\u001b[0m         return _methods._sum(a, axis=axis, dtype=dtype,\n\u001b[0;32m-> 1848\u001b[0;31m                             out=out, **kwargs)\n\u001b[0m\u001b[1;32m   1849\u001b[0m \u001b[0;34m\u001b[0m\u001b[0m\n\u001b[1;32m   1850\u001b[0m \u001b[0;34m\u001b[0m\u001b[0m\n",
      "\u001b[0;32m/Users/michael/miniconda3/envs/fitter/lib/python3.5/site-packages/numpy/core/_methods.py\u001b[0m in \u001b[0;36m_sum\u001b[0;34m(a, axis, dtype, out, keepdims)\u001b[0m\n\u001b[1;32m     30\u001b[0m \u001b[0;34m\u001b[0m\u001b[0m\n\u001b[1;32m     31\u001b[0m \u001b[0;32mdef\u001b[0m \u001b[0m_sum\u001b[0m\u001b[0;34m(\u001b[0m\u001b[0ma\u001b[0m\u001b[0;34m,\u001b[0m \u001b[0maxis\u001b[0m\u001b[0;34m=\u001b[0m\u001b[0;32mNone\u001b[0m\u001b[0;34m,\u001b[0m \u001b[0mdtype\u001b[0m\u001b[0;34m=\u001b[0m\u001b[0;32mNone\u001b[0m\u001b[0;34m,\u001b[0m \u001b[0mout\u001b[0m\u001b[0;34m=\u001b[0m\u001b[0;32mNone\u001b[0m\u001b[0;34m,\u001b[0m \u001b[0mkeepdims\u001b[0m\u001b[0;34m=\u001b[0m\u001b[0;32mFalse\u001b[0m\u001b[0;34m)\u001b[0m\u001b[0;34m:\u001b[0m\u001b[0;34m\u001b[0m\u001b[0m\n\u001b[0;32m---> 32\u001b[0;31m     \u001b[0;32mreturn\u001b[0m \u001b[0mumr_sum\u001b[0m\u001b[0;34m(\u001b[0m\u001b[0ma\u001b[0m\u001b[0;34m,\u001b[0m \u001b[0maxis\u001b[0m\u001b[0;34m,\u001b[0m \u001b[0mdtype\u001b[0m\u001b[0;34m,\u001b[0m \u001b[0mout\u001b[0m\u001b[0;34m,\u001b[0m \u001b[0mkeepdims\u001b[0m\u001b[0;34m)\u001b[0m\u001b[0;34m\u001b[0m\u001b[0m\n\u001b[0m\u001b[1;32m     33\u001b[0m \u001b[0;34m\u001b[0m\u001b[0m\n\u001b[1;32m     34\u001b[0m \u001b[0;32mdef\u001b[0m \u001b[0m_prod\u001b[0m\u001b[0;34m(\u001b[0m\u001b[0ma\u001b[0m\u001b[0;34m,\u001b[0m \u001b[0maxis\u001b[0m\u001b[0;34m=\u001b[0m\u001b[0;32mNone\u001b[0m\u001b[0;34m,\u001b[0m \u001b[0mdtype\u001b[0m\u001b[0;34m=\u001b[0m\u001b[0;32mNone\u001b[0m\u001b[0;34m,\u001b[0m \u001b[0mout\u001b[0m\u001b[0;34m=\u001b[0m\u001b[0;32mNone\u001b[0m\u001b[0;34m,\u001b[0m \u001b[0mkeepdims\u001b[0m\u001b[0;34m=\u001b[0m\u001b[0;32mFalse\u001b[0m\u001b[0;34m)\u001b[0m\u001b[0;34m:\u001b[0m\u001b[0;34m\u001b[0m\u001b[0m\n",
      "\u001b[0;31mTypeError\u001b[0m: only length-1 arrays can be converted to Python scalars"
     ]
    }
   ],
   "source": [
    "np.sum(ar1,ar2)"
   ]
  },
  {
   "cell_type": "code",
   "execution_count": 60,
   "metadata": {
    "collapsed": false
   },
   "outputs": [
    {
     "data": {
      "text/plain": [
       "array([2, 4, 6, 8])"
      ]
     },
     "execution_count": 60,
     "metadata": {},
     "output_type": "execute_result"
    }
   ],
   "source": [
    "ar1 + ar2"
   ]
  },
  {
   "cell_type": "code",
   "execution_count": 61,
   "metadata": {
    "collapsed": false
   },
   "outputs": [
    {
     "data": {
      "text/plain": [
       "array([2, 4, 6, 8])"
      ]
     },
     "execution_count": 61,
     "metadata": {},
     "output_type": "execute_result"
    }
   ],
   "source": [
    "np.add(ar1,ar2)"
   ]
  },
  {
   "cell_type": "code",
   "execution_count": 62,
   "metadata": {
    "collapsed": false
   },
   "outputs": [
    {
     "ename": "ValueError",
     "evalue": "invalid number of arguments",
     "output_type": "error",
     "traceback": [
      "\u001b[0;31m---------------------------------------------------------------------------\u001b[0m",
      "\u001b[0;31mValueError\u001b[0m                                Traceback (most recent call last)",
      "\u001b[0;32m<ipython-input-62-769015ead743>\u001b[0m in \u001b[0;36m<module>\u001b[0;34m()\u001b[0m\n\u001b[0;32m----> 1\u001b[0;31m \u001b[0mnp\u001b[0m\u001b[0;34m.\u001b[0m\u001b[0madd\u001b[0m\u001b[0;34m(\u001b[0m\u001b[0mset1\u001b[0m\u001b[0;34m)\u001b[0m\u001b[0;34m\u001b[0m\u001b[0m\n\u001b[0m",
      "\u001b[0;31mValueError\u001b[0m: invalid number of arguments"
     ]
    }
   ],
   "source": [
    "np.add(set1)"
   ]
  },
  {
   "cell_type": "code",
   "execution_count": 63,
   "metadata": {
    "collapsed": true
   },
   "outputs": [],
   "source": [
    "import pandas as pd"
   ]
  },
  {
   "cell_type": "code",
   "execution_count": 64,
   "metadata": {
    "collapsed": false
   },
   "outputs": [
    {
     "ename": "TypeError",
     "evalue": "list indices must be integers or slices, not tuple",
     "output_type": "error",
     "traceback": [
      "\u001b[0;31m---------------------------------------------------------------------------\u001b[0m",
      "\u001b[0;31mTypeError\u001b[0m                                 Traceback (most recent call last)",
      "\u001b[0;32m<ipython-input-64-13a6217a23eb>\u001b[0m in \u001b[0;36m<module>\u001b[0;34m()\u001b[0m\n\u001b[0;32m----> 1\u001b[0;31m \u001b[0mset1\u001b[0m\u001b[0;34m[\u001b[0m\u001b[0;36m1\u001b[0m\u001b[0;34m,\u001b[0m\u001b[0;36m3\u001b[0m\u001b[0;34m]\u001b[0m\u001b[0;34m\u001b[0m\u001b[0m\n\u001b[0m",
      "\u001b[0;31mTypeError\u001b[0m: list indices must be integers or slices, not tuple"
     ]
    }
   ],
   "source": [
    "set1[1,3]"
   ]
  },
  {
   "cell_type": "code",
   "execution_count": 65,
   "metadata": {
    "collapsed": false
   },
   "outputs": [
    {
     "data": {
      "text/plain": [
       "[array([ 0.00185726,  0.00402342,  0.00782967,  0.01585551,  0.03241434,\n",
       "         0.06028141,  0.09943353,  0.21766275,  0.33472913,  0.5100246 ,\n",
       "         0.64215578,  0.80603054,  0.89982256,  0.94269419,  0.93852915,\n",
       "         1.01255491,  1.01058791,  1.01150045]),\n",
       " array([ 0.00178815,  0.00361317,  0.00792559,  0.01527696,  0.03448961,\n",
       "         0.06287926,  0.10782834,  0.20858339,  0.32785691,  0.53122622,\n",
       "         0.64462611,  0.81596332,  0.89951975,  0.93141582,  0.87237708,\n",
       "         0.88014494,  0.98114763,  0.99923889])]"
      ]
     },
     "execution_count": 65,
     "metadata": {},
     "output_type": "execute_result"
    }
   ],
   "source": [
    "set1[1:3]"
   ]
  },
  {
   "cell_type": "code",
   "execution_count": 66,
   "metadata": {
    "collapsed": false
   },
   "outputs": [
    {
     "data": {
      "text/plain": [
       "[array([ 0.00190488,  0.00415741,  0.00849306,  0.01546561,  0.02968242,\n",
       "         0.0574013 ,  0.1080536 ,  0.21305256,  0.32608562,  0.48003009,\n",
       "         0.68032108,  0.8716603 ,  0.8471923 ,  0.94681748,  1.06011751,\n",
       "         0.96955635,  1.11531163,  1.03354773])]"
      ]
     },
     "execution_count": 66,
     "metadata": {},
     "output_type": "execute_result"
    }
   ],
   "source": [
    "set1[0:1]"
   ]
  },
  {
   "cell_type": "code",
   "execution_count": 67,
   "metadata": {
    "collapsed": false
   },
   "outputs": [
    {
     "data": {
      "text/plain": [
       "array([ 0.00190488,  0.00415741,  0.00849306,  0.01546561,  0.02968242,\n",
       "        0.0574013 ,  0.1080536 ,  0.21305256,  0.32608562,  0.48003009,\n",
       "        0.68032108,  0.8716603 ,  0.8471923 ,  0.94681748,  1.06011751,\n",
       "        0.96955635,  1.11531163,  1.03354773])"
      ]
     },
     "execution_count": 67,
     "metadata": {},
     "output_type": "execute_result"
    }
   ],
   "source": [
    "set1[0]"
   ]
  },
  {
   "cell_type": "code",
   "execution_count": 69,
   "metadata": {
    "collapsed": false
   },
   "outputs": [
    {
     "ename": "AssertionError",
     "evalue": "3 columns passed, passed data had 18 columns",
     "output_type": "error",
     "traceback": [
      "\u001b[0;31m---------------------------------------------------------------------------\u001b[0m",
      "\u001b[0;31mAssertionError\u001b[0m                            Traceback (most recent call last)",
      "\u001b[0;32m<ipython-input-69-62700e36b4f4>\u001b[0m in \u001b[0;36m<module>\u001b[0;34m()\u001b[0m\n\u001b[0;32m----> 1\u001b[0;31m \u001b[0mdf\u001b[0m \u001b[0;34m=\u001b[0m \u001b[0mpd\u001b[0m\u001b[0;34m.\u001b[0m\u001b[0mDataFrame\u001b[0m\u001b[0;34m(\u001b[0m\u001b[0mset1\u001b[0m\u001b[0;34m[\u001b[0m\u001b[0;36m0\u001b[0m\u001b[0;34m:\u001b[0m\u001b[0;36m4\u001b[0m\u001b[0;34m]\u001b[0m\u001b[0;34m,\u001b[0m \u001b[0mindex\u001b[0m\u001b[0;34m=\u001b[0m\u001b[0mL\u001b[0m\u001b[0;34m,\u001b[0m \u001b[0mcolumns\u001b[0m\u001b[0;34m=\u001b[0m\u001b[0mlist\u001b[0m\u001b[0;34m(\u001b[0m\u001b[0;34m'ABC'\u001b[0m\u001b[0;34m)\u001b[0m\u001b[0;34m)\u001b[0m\u001b[0;34m\u001b[0m\u001b[0m\n\u001b[0m",
      "\u001b[0;32m/Users/michael/miniconda3/envs/fitter/lib/python3.5/site-packages/pandas/core/frame.py\u001b[0m in \u001b[0;36m__init__\u001b[0;34m(self, data, index, columns, dtype, copy)\u001b[0m\n\u001b[1;32m    303\u001b[0m                     \u001b[0;32mif\u001b[0m \u001b[0mis_named_tuple\u001b[0m\u001b[0;34m(\u001b[0m\u001b[0mdata\u001b[0m\u001b[0;34m[\u001b[0m\u001b[0;36m0\u001b[0m\u001b[0;34m]\u001b[0m\u001b[0;34m)\u001b[0m \u001b[0;32mand\u001b[0m \u001b[0mcolumns\u001b[0m \u001b[0;32mis\u001b[0m \u001b[0;32mNone\u001b[0m\u001b[0;34m:\u001b[0m\u001b[0;34m\u001b[0m\u001b[0m\n\u001b[1;32m    304\u001b[0m                         \u001b[0mcolumns\u001b[0m \u001b[0;34m=\u001b[0m \u001b[0mdata\u001b[0m\u001b[0;34m[\u001b[0m\u001b[0;36m0\u001b[0m\u001b[0;34m]\u001b[0m\u001b[0;34m.\u001b[0m\u001b[0m_fields\u001b[0m\u001b[0;34m\u001b[0m\u001b[0m\n\u001b[0;32m--> 305\u001b[0;31m                     \u001b[0marrays\u001b[0m\u001b[0;34m,\u001b[0m \u001b[0mcolumns\u001b[0m \u001b[0;34m=\u001b[0m \u001b[0m_to_arrays\u001b[0m\u001b[0;34m(\u001b[0m\u001b[0mdata\u001b[0m\u001b[0;34m,\u001b[0m \u001b[0mcolumns\u001b[0m\u001b[0;34m,\u001b[0m \u001b[0mdtype\u001b[0m\u001b[0;34m=\u001b[0m\u001b[0mdtype\u001b[0m\u001b[0;34m)\u001b[0m\u001b[0;34m\u001b[0m\u001b[0m\n\u001b[0m\u001b[1;32m    306\u001b[0m                     \u001b[0mcolumns\u001b[0m \u001b[0;34m=\u001b[0m \u001b[0m_ensure_index\u001b[0m\u001b[0;34m(\u001b[0m\u001b[0mcolumns\u001b[0m\u001b[0;34m)\u001b[0m\u001b[0;34m\u001b[0m\u001b[0m\n\u001b[1;32m    307\u001b[0m \u001b[0;34m\u001b[0m\u001b[0m\n",
      "\u001b[0;32m/Users/michael/miniconda3/envs/fitter/lib/python3.5/site-packages/pandas/core/frame.py\u001b[0m in \u001b[0;36m_to_arrays\u001b[0;34m(data, columns, coerce_float, dtype)\u001b[0m\n\u001b[1;32m   5520\u001b[0m         \u001b[0mdata\u001b[0m \u001b[0;34m=\u001b[0m \u001b[0mlmap\u001b[0m\u001b[0;34m(\u001b[0m\u001b[0mtuple\u001b[0m\u001b[0;34m,\u001b[0m \u001b[0mdata\u001b[0m\u001b[0;34m)\u001b[0m\u001b[0;34m\u001b[0m\u001b[0m\n\u001b[1;32m   5521\u001b[0m         return _list_to_arrays(data, columns, coerce_float=coerce_float,\n\u001b[0;32m-> 5522\u001b[0;31m                                dtype=dtype)\n\u001b[0m\u001b[1;32m   5523\u001b[0m \u001b[0;34m\u001b[0m\u001b[0m\n\u001b[1;32m   5524\u001b[0m \u001b[0;34m\u001b[0m\u001b[0m\n",
      "\u001b[0;32m/Users/michael/miniconda3/envs/fitter/lib/python3.5/site-packages/pandas/core/frame.py\u001b[0m in \u001b[0;36m_list_to_arrays\u001b[0;34m(data, columns, coerce_float, dtype)\u001b[0m\n\u001b[1;32m   5577\u001b[0m         \u001b[0mcontent\u001b[0m \u001b[0;34m=\u001b[0m \u001b[0mlist\u001b[0m\u001b[0;34m(\u001b[0m\u001b[0mlib\u001b[0m\u001b[0;34m.\u001b[0m\u001b[0mto_object_array\u001b[0m\u001b[0;34m(\u001b[0m\u001b[0mdata\u001b[0m\u001b[0;34m)\u001b[0m\u001b[0;34m.\u001b[0m\u001b[0mT\u001b[0m\u001b[0;34m)\u001b[0m\u001b[0;34m\u001b[0m\u001b[0m\n\u001b[1;32m   5578\u001b[0m     return _convert_object_array(content, columns, dtype=dtype,\n\u001b[0;32m-> 5579\u001b[0;31m                                  coerce_float=coerce_float)\n\u001b[0m\u001b[1;32m   5580\u001b[0m \u001b[0;34m\u001b[0m\u001b[0m\n\u001b[1;32m   5581\u001b[0m \u001b[0;34m\u001b[0m\u001b[0m\n",
      "\u001b[0;32m/Users/michael/miniconda3/envs/fitter/lib/python3.5/site-packages/pandas/core/frame.py\u001b[0m in \u001b[0;36m_convert_object_array\u001b[0;34m(content, columns, coerce_float, dtype)\u001b[0m\n\u001b[1;32m   5636\u001b[0m             \u001b[0;31m# caller's responsibility to check for this...\u001b[0m\u001b[0;34m\u001b[0m\u001b[0;34m\u001b[0m\u001b[0m\n\u001b[1;32m   5637\u001b[0m             raise AssertionError('%d columns passed, passed data had %s '\n\u001b[0;32m-> 5638\u001b[0;31m                                  'columns' % (len(columns), len(content)))\n\u001b[0m\u001b[1;32m   5639\u001b[0m \u001b[0;34m\u001b[0m\u001b[0m\n\u001b[1;32m   5640\u001b[0m     \u001b[0;31m# provide soft conversion of object dtypes\u001b[0m\u001b[0;34m\u001b[0m\u001b[0;34m\u001b[0m\u001b[0m\n",
      "\u001b[0;31mAssertionError\u001b[0m: 3 columns passed, passed data had 18 columns"
     ]
    }
   ],
   "source": [
    "df = pd.DataFrame(set1[0:4], index=L, columns=list('ABC'))"
   ]
  },
  {
   "cell_type": "code",
   "execution_count": 72,
   "metadata": {
    "collapsed": false
   },
   "outputs": [],
   "source": [
    "a = np.random.randn(6,4)"
   ]
  },
  {
   "cell_type": "code",
   "execution_count": 73,
   "metadata": {
    "collapsed": false
   },
   "outputs": [
    {
     "ename": "NameError",
     "evalue": "name 'b' is not defined",
     "output_type": "error",
     "traceback": [
      "\u001b[0;31m---------------------------------------------------------------------------\u001b[0m",
      "\u001b[0;31mNameError\u001b[0m                                 Traceback (most recent call last)",
      "\u001b[0;32m<ipython-input-73-3b5d5c371295>\u001b[0m in \u001b[0;36m<module>\u001b[0;34m()\u001b[0m\n\u001b[0;32m----> 1\u001b[0;31m \u001b[0mb\u001b[0m\u001b[0;34m\u001b[0m\u001b[0m\n\u001b[0m",
      "\u001b[0;31mNameError\u001b[0m: name 'b' is not defined"
     ]
    }
   ],
   "source": [
    "b"
   ]
  },
  {
   "cell_type": "code",
   "execution_count": 74,
   "metadata": {
    "collapsed": false
   },
   "outputs": [
    {
     "data": {
      "text/plain": [
       "array([ 0.00199601,  0.00398406,  0.00793651,  0.01574803,  0.03100775,\n",
       "        0.06015038,  0.11347518,  0.20382166,  0.33862434,  0.50592885,\n",
       "        0.67191601,  0.80376766,  0.89120975,  0.94247584,  0.97038616,\n",
       "        0.98497054,  0.99242837,  0.9961998 ])"
      ]
     },
     "execution_count": 74,
     "metadata": {},
     "output_type": "execute_result"
    }
   ],
   "source": [
    "B"
   ]
  },
  {
   "cell_type": "code",
   "execution_count": 76,
   "metadata": {
    "collapsed": false
   },
   "outputs": [
    {
     "data": {
      "text/plain": [
       "[<matplotlib.lines.Line2D at 0x1118e7ef0>]"
      ]
     },
     "execution_count": 76,
     "metadata": {},
     "output_type": "execute_result"
    },
    {
     "data": {
      "image/png": "[encoded data removed]",
      "text/plain": [
       "<matplotlib.figure.Figure at 0x1118c25c0>"
      ]
     },
     "metadata": {},
     "output_type": "display_data"
    }
   ],
   "source": [
    "plt.semilogx(L,B,'+')"
   ]
  },
  {
   "cell_type": "code",
   "execution_count": 77,
   "metadata": {
    "collapsed": false
   },
   "outputs": [
    {
     "data": {
      "text/plain": [
       "array([ 0.00201925,  0.00425338,  0.00729821,  0.01531705,  0.02938   ,\n",
       "        0.06475842,  0.11935457,  0.19757501,  0.3275084 ,  0.47954772,\n",
       "        0.67346456,  0.76994781,  0.88771296,  0.94366108,  0.86748582,\n",
       "        1.0364251 ,  1.00602666,  1.03557138])"
      ]
     },
     "execution_count": 77,
     "metadata": {},
     "output_type": "execute_result"
    }
   ],
   "source": [
    "ligmods.noiser(B)"
   ]
  },
  {
   "cell_type": "code",
   "execution_count": 78,
   "metadata": {
    "collapsed": true
   },
   "outputs": [],
   "source": [
    "B1 = ligmods.noiser(B)"
   ]
  },
  {
   "cell_type": "code",
   "execution_count": 79,
   "metadata": {
    "collapsed": false
   },
   "outputs": [
    {
     "data": {
      "text/plain": [
       "array([ 0.00204977,  0.00399027,  0.00753404,  0.01486317,  0.03070743,\n",
       "        0.06427346,  0.11618408,  0.20755018,  0.38050534,  0.4794571 ,\n",
       "        0.60144856,  0.78897557,  0.91312063,  0.92284229,  1.00210849,\n",
       "        0.90182732,  0.86669086,  1.01687415])"
      ]
     },
     "execution_count": 79,
     "metadata": {},
     "output_type": "execute_result"
    }
   ],
   "source": [
    "B1"
   ]
  },
  {
   "cell_type": "code",
   "execution_count": 80,
   "metadata": {
    "collapsed": false
   },
   "outputs": [
    {
     "data": {
      "text/plain": [
       "array([ 0.00204977,  0.00399027,  0.00753404,  0.01486317,  0.03070743,\n",
       "        0.06427346,  0.11618408,  0.20755018,  0.38050534,  0.4794571 ,\n",
       "        0.60144856,  0.78897557,  0.91312063,  0.92284229,  1.00210849,\n",
       "        0.90182732,  0.86669086,  1.01687415])"
      ]
     },
     "execution_count": 80,
     "metadata": {},
     "output_type": "execute_result"
    }
   ],
   "source": [
    "np.transpose(B1)"
   ]
  },
  {
   "cell_type": "code",
   "execution_count": 81,
   "metadata": {
    "collapsed": false
   },
   "outputs": [
    {
     "data": {
      "text/plain": [
       "numpy.ndarray"
      ]
     },
     "execution_count": 81,
     "metadata": {},
     "output_type": "execute_result"
    }
   ],
   "source": [
    "type(B1)"
   ]
  },
  {
   "cell_type": "code",
   "execution_count": 82,
   "metadata": {
    "collapsed": false
   },
   "outputs": [
    {
     "ename": "TypeError",
     "evalue": "Index(...) must be called with a collection of some kind, 'A' was passed",
     "output_type": "error",
     "traceback": [
      "\u001b[0;31m---------------------------------------------------------------------------\u001b[0m",
      "\u001b[0;31mTypeError\u001b[0m                                 Traceback (most recent call last)",
      "\u001b[0;32m<ipython-input-82-d3226dd6a438>\u001b[0m in \u001b[0;36m<module>\u001b[0;34m()\u001b[0m\n\u001b[0;32m----> 1\u001b[0;31m \u001b[0mdf\u001b[0m \u001b[0;34m=\u001b[0m \u001b[0mpd\u001b[0m\u001b[0;34m.\u001b[0m\u001b[0mDataFrame\u001b[0m\u001b[0;34m(\u001b[0m\u001b[0mB1\u001b[0m\u001b[0;34m,\u001b[0m\u001b[0mindex\u001b[0m\u001b[0;34m=\u001b[0m\u001b[0mL\u001b[0m\u001b[0;34m,\u001b[0m\u001b[0mcolumns\u001b[0m\u001b[0;34m=\u001b[0m\u001b[0;34m'A'\u001b[0m\u001b[0;34m)\u001b[0m\u001b[0;34m\u001b[0m\u001b[0m\n\u001b[0m",
      "\u001b[0;32m/Users/michael/miniconda3/envs/fitter/lib/python3.5/site-packages/pandas/core/frame.py\u001b[0m in \u001b[0;36m__init__\u001b[0;34m(self, data, index, columns, dtype, copy)\u001b[0m\n\u001b[1;32m    295\u001b[0m             \u001b[0;32melse\u001b[0m\u001b[0;34m:\u001b[0m\u001b[0;34m\u001b[0m\u001b[0m\n\u001b[1;32m    296\u001b[0m                 mgr = self._init_ndarray(data, index, columns, dtype=dtype,\n\u001b[0;32m--> 297\u001b[0;31m                                          copy=copy)\n\u001b[0m\u001b[1;32m    298\u001b[0m         \u001b[0;32melif\u001b[0m \u001b[0misinstance\u001b[0m\u001b[0;34m(\u001b[0m\u001b[0mdata\u001b[0m\u001b[0;34m,\u001b[0m \u001b[0;34m(\u001b[0m\u001b[0mlist\u001b[0m\u001b[0;34m,\u001b[0m \u001b[0mtypes\u001b[0m\u001b[0;34m.\u001b[0m\u001b[0mGeneratorType\u001b[0m\u001b[0;34m)\u001b[0m\u001b[0;34m)\u001b[0m\u001b[0;34m:\u001b[0m\u001b[0;34m\u001b[0m\u001b[0m\n\u001b[1;32m    299\u001b[0m             \u001b[0;32mif\u001b[0m \u001b[0misinstance\u001b[0m\u001b[0;34m(\u001b[0m\u001b[0mdata\u001b[0m\u001b[0;34m,\u001b[0m \u001b[0mtypes\u001b[0m\u001b[0;34m.\u001b[0m\u001b[0mGeneratorType\u001b[0m\u001b[0;34m)\u001b[0m\u001b[0;34m:\u001b[0m\u001b[0;34m\u001b[0m\u001b[0m\n",
      "\u001b[0;32m/Users/michael/miniconda3/envs/fitter/lib/python3.5/site-packages/pandas/core/frame.py\u001b[0m in \u001b[0;36m_init_ndarray\u001b[0;34m(self, values, index, columns, dtype, copy)\u001b[0m\n\u001b[1;32m    463\u001b[0m                     \u001b[0mraise_with_traceback\u001b[0m\u001b[0;34m(\u001b[0m\u001b[0me\u001b[0m\u001b[0;34m)\u001b[0m\u001b[0;34m\u001b[0m\u001b[0m\n\u001b[1;32m    464\u001b[0m \u001b[0;34m\u001b[0m\u001b[0m\n\u001b[0;32m--> 465\u001b[0;31m         \u001b[0mindex\u001b[0m\u001b[0;34m,\u001b[0m \u001b[0mcolumns\u001b[0m \u001b[0;34m=\u001b[0m \u001b[0m_get_axes\u001b[0m\u001b[0;34m(\u001b[0m\u001b[0;34m*\u001b[0m\u001b[0mvalues\u001b[0m\u001b[0;34m.\u001b[0m\u001b[0mshape\u001b[0m\u001b[0;34m)\u001b[0m\u001b[0;34m\u001b[0m\u001b[0m\n\u001b[0m\u001b[1;32m    466\u001b[0m         \u001b[0mvalues\u001b[0m \u001b[0;34m=\u001b[0m \u001b[0mvalues\u001b[0m\u001b[0;34m.\u001b[0m\u001b[0mT\u001b[0m\u001b[0;34m\u001b[0m\u001b[0m\n\u001b[1;32m    467\u001b[0m \u001b[0;34m\u001b[0m\u001b[0m\n",
      "\u001b[0;32m/Users/michael/miniconda3/envs/fitter/lib/python3.5/site-packages/pandas/core/frame.py\u001b[0m in \u001b[0;36m_get_axes\u001b[0;34m(N, K, index, columns)\u001b[0m\n\u001b[1;32m    430\u001b[0m                 \u001b[0mcolumns\u001b[0m \u001b[0;34m=\u001b[0m \u001b[0m_default_index\u001b[0m\u001b[0;34m(\u001b[0m\u001b[0mK\u001b[0m\u001b[0;34m)\u001b[0m\u001b[0;34m\u001b[0m\u001b[0m\n\u001b[1;32m    431\u001b[0m             \u001b[0;32melse\u001b[0m\u001b[0;34m:\u001b[0m\u001b[0;34m\u001b[0m\u001b[0m\n\u001b[0;32m--> 432\u001b[0;31m                 \u001b[0mcolumns\u001b[0m \u001b[0;34m=\u001b[0m \u001b[0m_ensure_index\u001b[0m\u001b[0;34m(\u001b[0m\u001b[0mcolumns\u001b[0m\u001b[0;34m)\u001b[0m\u001b[0;34m\u001b[0m\u001b[0m\n\u001b[0m\u001b[1;32m    433\u001b[0m             \u001b[0;32mreturn\u001b[0m \u001b[0mindex\u001b[0m\u001b[0;34m,\u001b[0m \u001b[0mcolumns\u001b[0m\u001b[0;34m\u001b[0m\u001b[0m\n\u001b[1;32m    434\u001b[0m \u001b[0;34m\u001b[0m\u001b[0m\n",
      "\u001b[0;32m/Users/michael/miniconda3/envs/fitter/lib/python3.5/site-packages/pandas/indexes/base.py\u001b[0m in \u001b[0;36m_ensure_index\u001b[0;34m(index_like, copy)\u001b[0m\n\u001b[1;32m   3628\u001b[0m             \u001b[0mindex_like\u001b[0m \u001b[0;34m=\u001b[0m \u001b[0mcopy\u001b[0m\u001b[0;34m(\u001b[0m\u001b[0mindex_like\u001b[0m\u001b[0;34m)\u001b[0m\u001b[0;34m\u001b[0m\u001b[0m\n\u001b[1;32m   3629\u001b[0m \u001b[0;34m\u001b[0m\u001b[0m\n\u001b[0;32m-> 3630\u001b[0;31m     \u001b[0;32mreturn\u001b[0m \u001b[0mIndex\u001b[0m\u001b[0;34m(\u001b[0m\u001b[0mindex_like\u001b[0m\u001b[0;34m)\u001b[0m\u001b[0;34m\u001b[0m\u001b[0m\n\u001b[0m\u001b[1;32m   3631\u001b[0m \u001b[0;34m\u001b[0m\u001b[0m\n\u001b[1;32m   3632\u001b[0m \u001b[0;34m\u001b[0m\u001b[0m\n",
      "\u001b[0;32m/Users/michael/miniconda3/envs/fitter/lib/python3.5/site-packages/pandas/indexes/base.py\u001b[0m in \u001b[0;36m__new__\u001b[0;34m(cls, data, dtype, copy, name, fastpath, tupleize_cols, **kwargs)\u001b[0m\n\u001b[1;32m    291\u001b[0m                          **kwargs)\n\u001b[1;32m    292\u001b[0m         \u001b[0;32melif\u001b[0m \u001b[0mdata\u001b[0m \u001b[0;32mis\u001b[0m \u001b[0;32mNone\u001b[0m \u001b[0;32mor\u001b[0m \u001b[0mis_scalar\u001b[0m\u001b[0;34m(\u001b[0m\u001b[0mdata\u001b[0m\u001b[0;34m)\u001b[0m\u001b[0;34m:\u001b[0m\u001b[0;34m\u001b[0m\u001b[0m\n\u001b[0;32m--> 293\u001b[0;31m             \u001b[0mcls\u001b[0m\u001b[0;34m.\u001b[0m\u001b[0m_scalar_data_error\u001b[0m\u001b[0;34m(\u001b[0m\u001b[0mdata\u001b[0m\u001b[0;34m)\u001b[0m\u001b[0;34m\u001b[0m\u001b[0m\n\u001b[0m\u001b[1;32m    294\u001b[0m         \u001b[0;32melse\u001b[0m\u001b[0;34m:\u001b[0m\u001b[0;34m\u001b[0m\u001b[0m\n\u001b[1;32m    295\u001b[0m             if (tupleize_cols and isinstance(data, list) and data and\n",
      "\u001b[0;32m/Users/michael/miniconda3/envs/fitter/lib/python3.5/site-packages/pandas/indexes/base.py\u001b[0m in \u001b[0;36m_scalar_data_error\u001b[0;34m(cls, data)\u001b[0m\n\u001b[1;32m    551\u001b[0m         raise TypeError('{0}(...) must be called with a collection of some '\n\u001b[1;32m    552\u001b[0m                         'kind, {1} was passed'.format(cls.__name__,\n\u001b[0;32m--> 553\u001b[0;31m                                                       repr(data)))\n\u001b[0m\u001b[1;32m    554\u001b[0m \u001b[0;34m\u001b[0m\u001b[0m\n\u001b[1;32m    555\u001b[0m     \u001b[0;34m@\u001b[0m\u001b[0mclassmethod\u001b[0m\u001b[0;34m\u001b[0m\u001b[0m\n",
      "\u001b[0;31mTypeError\u001b[0m: Index(...) must be called with a collection of some kind, 'A' was passed"
     ]
    }
   ],
   "source": [
    "df = pd.DataFrame(B1,index=L,columns='A')"
   ]
  },
  {
   "cell_type": "code",
   "execution_count": 83,
   "metadata": {
    "collapsed": true
   },
   "outputs": [],
   "source": [
    "Bs = pd.Series(B1)"
   ]
  },
  {
   "cell_type": "code",
   "execution_count": 84,
   "metadata": {
    "collapsed": false
   },
   "outputs": [
    {
     "data": {
      "text/plain": [
       "0     0.002050\n",
       "1     0.003990\n",
       "2     0.007534\n",
       "3     0.014863\n",
       "4     0.030707\n",
       "5     0.064273\n",
       "6     0.116184\n",
       "7     0.207550\n",
       "8     0.380505\n",
       "9     0.479457\n",
       "10    0.601449\n",
       "11    0.788976\n",
       "12    0.913121\n",
       "13    0.922842\n",
       "14    1.002108\n",
       "15    0.901827\n",
       "16    0.866691\n",
       "17    1.016874\n",
       "dtype: float64"
      ]
     },
     "execution_count": 84,
     "metadata": {},
     "output_type": "execute_result"
    }
   ],
   "source": [
    "Bs"
   ]
  },
  {
   "cell_type": "code",
   "execution_count": 85,
   "metadata": {
    "collapsed": true
   },
   "outputs": [],
   "source": [
    "set2 = np.array(set1)"
   ]
  },
  {
   "cell_type": "code",
   "execution_count": 86,
   "metadata": {
    "collapsed": false
   },
   "outputs": [
    {
     "data": {
      "text/plain": [
       "array([[ 0.00190488,  0.00415741,  0.00849306,  0.01546561,  0.02968242,\n",
       "         0.0574013 ,  0.1080536 ,  0.21305256,  0.32608562,  0.48003009,\n",
       "         0.68032108,  0.8716603 ,  0.8471923 ,  0.94681748,  1.06011751,\n",
       "         0.96955635,  1.11531163,  1.03354773],\n",
       "       [ 0.00185726,  0.00402342,  0.00782967,  0.01585551,  0.03241434,\n",
       "         0.06028141,  0.09943353,  0.21766275,  0.33472913,  0.5100246 ,\n",
       "         0.64215578,  0.80603054,  0.89982256,  0.94269419,  0.93852915,\n",
       "         1.01255491,  1.01058791,  1.01150045],\n",
       "       [ 0.00178815,  0.00361317,  0.00792559,  0.01527696,  0.03448961,\n",
       "         0.06287926,  0.10782834,  0.20858339,  0.32785691,  0.53122622,\n",
       "         0.64462611,  0.81596332,  0.89951975,  0.93141582,  0.87237708,\n",
       "         0.88014494,  0.98114763,  0.99923889],\n",
       "       [ 0.00192043,  0.00390808,  0.00750243,  0.01479432,  0.028651  ,\n",
       "         0.05969035,  0.11143648,  0.21199221,  0.36021982,  0.50740223,\n",
       "         0.65392425,  0.72971958,  0.88757335,  0.93366427,  0.96320383,\n",
       "         0.92968075,  0.98215111,  0.98719227],\n",
       "       [ 0.001822  ,  0.00422242,  0.00805803,  0.01456726,  0.03162013,\n",
       "         0.05765676,  0.11682875,  0.19387262,  0.33638417,  0.52183012,\n",
       "         0.77848115,  0.81831449,  0.96045529,  1.00894651,  0.9745516 ,\n",
       "         0.9593168 ,  1.00723586,  0.92915922],\n",
       "       [ 0.00194979,  0.00402877,  0.00837122,  0.01532371,  0.03035009,\n",
       "         0.05999765,  0.11504477,  0.20386084,  0.34128335,  0.52877853,\n",
       "         0.67351585,  0.77613706,  0.93311809,  0.95296295,  0.95410367,\n",
       "         0.97220135,  0.96777282,  0.93799391],\n",
       "       [ 0.00198979,  0.00383409,  0.0082032 ,  0.01782803,  0.02979903,\n",
       "         0.06005452,  0.1201035 ,  0.20609007,  0.3488284 ,  0.5231285 ,\n",
       "         0.69094064,  0.76334193,  0.8748488 ,  0.9159663 ,  0.97774823,\n",
       "         0.98644318,  0.99588262,  0.95984449],\n",
       "       [ 0.00197625,  0.00394588,  0.0075961 ,  0.01651749,  0.03140352,\n",
       "         0.06089304,  0.11193995,  0.20177287,  0.34080538,  0.53193932,\n",
       "         0.6860253 ,  0.83198771,  0.92303228,  1.00537379,  1.02219123,\n",
       "         0.88702194,  0.99757592,  1.01274007],\n",
       "       [ 0.00217662,  0.0045683 ,  0.00823683,  0.01410466,  0.03203398,\n",
       "         0.06414598,  0.1127612 ,  0.20288905,  0.32553242,  0.53795063,\n",
       "         0.66123487,  0.79370191,  0.91733168,  0.91198019,  0.95899137,\n",
       "         0.98935676,  0.9762548 ,  1.0011631 ],\n",
       "       [ 0.00205138,  0.00384411,  0.00801749,  0.01486881,  0.03195499,\n",
       "         0.06113801,  0.11587486,  0.18475171,  0.34100632,  0.50554872,\n",
       "         0.69224864,  0.80183404,  0.93706587,  1.02450398,  1.00804239,\n",
       "         1.00853782,  1.02337415,  1.0024836 ]])"
      ]
     },
     "execution_count": 86,
     "metadata": {},
     "output_type": "execute_result"
    }
   ],
   "source": [
    "set2"
   ]
  },
  {
   "cell_type": "code",
   "execution_count": 89,
   "metadata": {
    "collapsed": false
   },
   "outputs": [
    {
     "data": {
      "text/plain": [
       "(10, 18)"
      ]
     },
     "execution_count": 89,
     "metadata": {},
     "output_type": "execute_result"
    }
   ],
   "source": [
    "set2.shape"
   ]
  },
  {
   "cell_type": "code",
   "execution_count": 91,
   "metadata": {
    "collapsed": false
   },
   "outputs": [],
   "source": [
    "df = pd.DataFrame(set2)"
   ]
  },
  {
   "cell_type": "code",
   "execution_count": 92,
   "metadata": {
    "collapsed": false
   },
   "outputs": [
    {
     "data": {
      "text/html": [
       "<div>\n",
       "<table border=\"1\" class=\"dataframe\">\n",
       "  <thead>\n",
       "    <tr style=\"text-align: right;\">\n",
       "      <th></th>\n",
       "      <th>0</th>\n",
       "      <th>1</th>\n",
       "      <th>2</th>\n",
       "      <th>3</th>\n",
       "      <th>4</th>\n",
       "      <th>5</th>\n",
       "      <th>6</th>\n",
       "      <th>7</th>\n",
       "      <th>8</th>\n",
       "      <th>9</th>\n",
       "      <th>10</th>\n",
       "      <th>11</th>\n",
       "      <th>12</th>\n",
       "      <th>13</th>\n",
       "      <th>14</th>\n",
       "      <th>15</th>\n",
       "      <th>16</th>\n",
       "      <th>17</th>\n",
       "    </tr>\n",
       "  </thead>\n",
       "  <tbody>\n",
       "    <tr>\n",
       "      <th>0</th>\n",
       "      <td>0.001905</td>\n",
       "      <td>0.004157</td>\n",
       "      <td>0.008493</td>\n",
       "      <td>0.015466</td>\n",
       "      <td>0.029682</td>\n",
       "      <td>0.057401</td>\n",
       "      <td>0.108054</td>\n",
       "      <td>0.213053</td>\n",
       "      <td>0.326086</td>\n",
       "      <td>0.480030</td>\n",
       "      <td>0.680321</td>\n",
       "      <td>0.871660</td>\n",
       "      <td>0.847192</td>\n",
       "      <td>0.946817</td>\n",
       "      <td>1.060118</td>\n",
       "      <td>0.969556</td>\n",
       "      <td>1.115312</td>\n",
       "      <td>1.033548</td>\n",
       "    </tr>\n",
       "    <tr>\n",
       "      <th>1</th>\n",
       "      <td>0.001857</td>\n",
       "      <td>0.004023</td>\n",
       "      <td>0.007830</td>\n",
       "      <td>0.015856</td>\n",
       "      <td>0.032414</td>\n",
       "      <td>0.060281</td>\n",
       "      <td>0.099434</td>\n",
       "      <td>0.217663</td>\n",
       "      <td>0.334729</td>\n",
       "      <td>0.510025</td>\n",
       "      <td>0.642156</td>\n",
       "      <td>0.806031</td>\n",
       "      <td>0.899823</td>\n",
       "      <td>0.942694</td>\n",
       "      <td>0.938529</td>\n",
       "      <td>1.012555</td>\n",
       "      <td>1.010588</td>\n",
       "      <td>1.011500</td>\n",
       "    </tr>\n",
       "    <tr>\n",
       "      <th>2</th>\n",
       "      <td>0.001788</td>\n",
       "      <td>0.003613</td>\n",
       "      <td>0.007926</td>\n",
       "      <td>0.015277</td>\n",
       "      <td>0.034490</td>\n",
       "      <td>0.062879</td>\n",
       "      <td>0.107828</td>\n",
       "      <td>0.208583</td>\n",
       "      <td>0.327857</td>\n",
       "      <td>0.531226</td>\n",
       "      <td>0.644626</td>\n",
       "      <td>0.815963</td>\n",
       "      <td>0.899520</td>\n",
       "      <td>0.931416</td>\n",
       "      <td>0.872377</td>\n",
       "      <td>0.880145</td>\n",
       "      <td>0.981148</td>\n",
       "      <td>0.999239</td>\n",
       "    </tr>\n",
       "    <tr>\n",
       "      <th>3</th>\n",
       "      <td>0.001920</td>\n",
       "      <td>0.003908</td>\n",
       "      <td>0.007502</td>\n",
       "      <td>0.014794</td>\n",
       "      <td>0.028651</td>\n",
       "      <td>0.059690</td>\n",
       "      <td>0.111436</td>\n",
       "      <td>0.211992</td>\n",
       "      <td>0.360220</td>\n",
       "      <td>0.507402</td>\n",
       "      <td>0.653924</td>\n",
       "      <td>0.729720</td>\n",
       "      <td>0.887573</td>\n",
       "      <td>0.933664</td>\n",
       "      <td>0.963204</td>\n",
       "      <td>0.929681</td>\n",
       "      <td>0.982151</td>\n",
       "      <td>0.987192</td>\n",
       "    </tr>\n",
       "    <tr>\n",
       "      <th>4</th>\n",
       "      <td>0.001822</td>\n",
       "      <td>0.004222</td>\n",
       "      <td>0.008058</td>\n",
       "      <td>0.014567</td>\n",
       "      <td>0.031620</td>\n",
       "      <td>0.057657</td>\n",
       "      <td>0.116829</td>\n",
       "      <td>0.193873</td>\n",
       "      <td>0.336384</td>\n",
       "      <td>0.521830</td>\n",
       "      <td>0.778481</td>\n",
       "      <td>0.818314</td>\n",
       "      <td>0.960455</td>\n",
       "      <td>1.008947</td>\n",
       "      <td>0.974552</td>\n",
       "      <td>0.959317</td>\n",
       "      <td>1.007236</td>\n",
       "      <td>0.929159</td>\n",
       "    </tr>\n",
       "    <tr>\n",
       "      <th>5</th>\n",
       "      <td>0.001950</td>\n",
       "      <td>0.004029</td>\n",
       "      <td>0.008371</td>\n",
       "      <td>0.015324</td>\n",
       "      <td>0.030350</td>\n",
       "      <td>0.059998</td>\n",
       "      <td>0.115045</td>\n",
       "      <td>0.203861</td>\n",
       "      <td>0.341283</td>\n",
       "      <td>0.528779</td>\n",
       "      <td>0.673516</td>\n",
       "      <td>0.776137</td>\n",
       "      <td>0.933118</td>\n",
       "      <td>0.952963</td>\n",
       "      <td>0.954104</td>\n",
       "      <td>0.972201</td>\n",
       "      <td>0.967773</td>\n",
       "      <td>0.937994</td>\n",
       "    </tr>\n",
       "    <tr>\n",
       "      <th>6</th>\n",
       "      <td>0.001990</td>\n",
       "      <td>0.003834</td>\n",
       "      <td>0.008203</td>\n",
       "      <td>0.017828</td>\n",
       "      <td>0.029799</td>\n",
       "      <td>0.060055</td>\n",
       "      <td>0.120103</td>\n",
       "      <td>0.206090</td>\n",
       "      <td>0.348828</td>\n",
       "      <td>0.523128</td>\n",
       "      <td>0.690941</td>\n",
       "      <td>0.763342</td>\n",
       "      <td>0.874849</td>\n",
       "      <td>0.915966</td>\n",
       "      <td>0.977748</td>\n",
       "      <td>0.986443</td>\n",
       "      <td>0.995883</td>\n",
       "      <td>0.959844</td>\n",
       "    </tr>\n",
       "    <tr>\n",
       "      <th>7</th>\n",
       "      <td>0.001976</td>\n",
       "      <td>0.003946</td>\n",
       "      <td>0.007596</td>\n",
       "      <td>0.016517</td>\n",
       "      <td>0.031404</td>\n",
       "      <td>0.060893</td>\n",
       "      <td>0.111940</td>\n",
       "      <td>0.201773</td>\n",
       "      <td>0.340805</td>\n",
       "      <td>0.531939</td>\n",
       "      <td>0.686025</td>\n",
       "      <td>0.831988</td>\n",
       "      <td>0.923032</td>\n",
       "      <td>1.005374</td>\n",
       "      <td>1.022191</td>\n",
       "      <td>0.887022</td>\n",
       "      <td>0.997576</td>\n",
       "      <td>1.012740</td>\n",
       "    </tr>\n",
       "    <tr>\n",
       "      <th>8</th>\n",
       "      <td>0.002177</td>\n",
       "      <td>0.004568</td>\n",
       "      <td>0.008237</td>\n",
       "      <td>0.014105</td>\n",
       "      <td>0.032034</td>\n",
       "      <td>0.064146</td>\n",
       "      <td>0.112761</td>\n",
       "      <td>0.202889</td>\n",
       "      <td>0.325532</td>\n",
       "      <td>0.537951</td>\n",
       "      <td>0.661235</td>\n",
       "      <td>0.793702</td>\n",
       "      <td>0.917332</td>\n",
       "      <td>0.911980</td>\n",
       "      <td>0.958991</td>\n",
       "      <td>0.989357</td>\n",
       "      <td>0.976255</td>\n",
       "      <td>1.001163</td>\n",
       "    </tr>\n",
       "    <tr>\n",
       "      <th>9</th>\n",
       "      <td>0.002051</td>\n",
       "      <td>0.003844</td>\n",
       "      <td>0.008017</td>\n",
       "      <td>0.014869</td>\n",
       "      <td>0.031955</td>\n",
       "      <td>0.061138</td>\n",
       "      <td>0.115875</td>\n",
       "      <td>0.184752</td>\n",
       "      <td>0.341006</td>\n",
       "      <td>0.505549</td>\n",
       "      <td>0.692249</td>\n",
       "      <td>0.801834</td>\n",
       "      <td>0.937066</td>\n",
       "      <td>1.024504</td>\n",
       "      <td>1.008042</td>\n",
       "      <td>1.008538</td>\n",
       "      <td>1.023374</td>\n",
       "      <td>1.002484</td>\n",
       "    </tr>\n",
       "  </tbody>\n",
       "</table>\n",
       "</div>"
      ],
      "text/plain": [
       "         0         1         2         3         4         5         6   \\\n",
       "0  0.001905  0.004157  0.008493  0.015466  0.029682  0.057401  0.108054   \n",
       "1  0.001857  0.004023  0.007830  0.015856  0.032414  0.060281  0.099434   \n",
       "2  0.001788  0.003613  0.007926  0.015277  0.034490  0.062879  0.107828   \n",
       "3  0.001920  0.003908  0.007502  0.014794  0.028651  0.059690  0.111436   \n",
       "4  0.001822  0.004222  0.008058  0.014567  0.031620  0.057657  0.116829   \n",
       "5  0.001950  0.004029  0.008371  0.015324  0.030350  0.059998  0.115045   \n",
       "6  0.001990  0.003834  0.008203  0.017828  0.029799  0.060055  0.120103   \n",
       "7  0.001976  0.003946  0.007596  0.016517  0.031404  0.060893  0.111940   \n",
       "8  0.002177  0.004568  0.008237  0.014105  0.032034  0.064146  0.112761   \n",
       "9  0.002051  0.003844  0.008017  0.014869  0.031955  0.061138  0.115875   \n",
       "\n",
       "         7         8         9         10        11        12        13  \\\n",
       "0  0.213053  0.326086  0.480030  0.680321  0.871660  0.847192  0.946817   \n",
       "1  0.217663  0.334729  0.510025  0.642156  0.806031  0.899823  0.942694   \n",
       "2  0.208583  0.327857  0.531226  0.644626  0.815963  0.899520  0.931416   \n",
       "3  0.211992  0.360220  0.507402  0.653924  0.729720  0.887573  0.933664   \n",
       "4  0.193873  0.336384  0.521830  0.778481  0.818314  0.960455  1.008947   \n",
       "5  0.203861  0.341283  0.528779  0.673516  0.776137  0.933118  0.952963   \n",
       "6  0.206090  0.348828  0.523128  0.690941  0.763342  0.874849  0.915966   \n",
       "7  0.201773  0.340805  0.531939  0.686025  0.831988  0.923032  1.005374   \n",
       "8  0.202889  0.325532  0.537951  0.661235  0.793702  0.917332  0.911980   \n",
       "9  0.184752  0.341006  0.505549  0.692249  0.801834  0.937066  1.024504   \n",
       "\n",
       "         14        15        16        17  \n",
       "0  1.060118  0.969556  1.115312  1.033548  \n",
       "1  0.938529  1.012555  1.010588  1.011500  \n",
       "2  0.872377  0.880145  0.981148  0.999239  \n",
       "3  0.963204  0.929681  0.982151  0.987192  \n",
       "4  0.974552  0.959317  1.007236  0.929159  \n",
       "5  0.954104  0.972201  0.967773  0.937994  \n",
       "6  0.977748  0.986443  0.995883  0.959844  \n",
       "7  1.022191  0.887022  0.997576  1.012740  \n",
       "8  0.958991  0.989357  0.976255  1.001163  \n",
       "9  1.008042  1.008538  1.023374  1.002484  "
      ]
     },
     "execution_count": 92,
     "metadata": {},
     "output_type": "execute_result"
    }
   ],
   "source": [
    "df"
   ]
  },
  {
   "cell_type": "code",
   "execution_count": 94,
   "metadata": {
    "collapsed": false
   },
   "outputs": [],
   "source": [
    "df2 = pd.DataFrame(set2.T)"
   ]
  },
  {
   "cell_type": "code",
   "execution_count": 95,
   "metadata": {
    "collapsed": false
   },
   "outputs": [
    {
     "data": {
      "text/html": [
       "<div>\n",
       "<table border=\"1\" class=\"dataframe\">\n",
       "  <thead>\n",
       "    <tr style=\"text-align: right;\">\n",
       "      <th></th>\n",
       "      <th>0</th>\n",
       "      <th>1</th>\n",
       "      <th>2</th>\n",
       "      <th>3</th>\n",
       "      <th>4</th>\n",
       "      <th>5</th>\n",
       "      <th>6</th>\n",
       "      <th>7</th>\n",
       "      <th>8</th>\n",
       "      <th>9</th>\n",
       "    </tr>\n",
       "  </thead>\n",
       "  <tbody>\n",
       "    <tr>\n",
       "      <th>0</th>\n",
       "      <td>0.001905</td>\n",
       "      <td>0.001857</td>\n",
       "      <td>0.001788</td>\n",
       "      <td>0.001920</td>\n",
       "      <td>0.001822</td>\n",
       "      <td>0.001950</td>\n",
       "      <td>0.001990</td>\n",
       "      <td>0.001976</td>\n",
       "      <td>0.002177</td>\n",
       "      <td>0.002051</td>\n",
       "    </tr>\n",
       "    <tr>\n",
       "      <th>1</th>\n",
       "      <td>0.004157</td>\n",
       "      <td>0.004023</td>\n",
       "      <td>0.003613</td>\n",
       "      <td>0.003908</td>\n",
       "      <td>0.004222</td>\n",
       "      <td>0.004029</td>\n",
       "      <td>0.003834</td>\n",
       "      <td>0.003946</td>\n",
       "      <td>0.004568</td>\n",
       "      <td>0.003844</td>\n",
       "    </tr>\n",
       "    <tr>\n",
       "      <th>2</th>\n",
       "      <td>0.008493</td>\n",
       "      <td>0.007830</td>\n",
       "      <td>0.007926</td>\n",
       "      <td>0.007502</td>\n",
       "      <td>0.008058</td>\n",
       "      <td>0.008371</td>\n",
       "      <td>0.008203</td>\n",
       "      <td>0.007596</td>\n",
       "      <td>0.008237</td>\n",
       "      <td>0.008017</td>\n",
       "    </tr>\n",
       "    <tr>\n",
       "      <th>3</th>\n",
       "      <td>0.015466</td>\n",
       "      <td>0.015856</td>\n",
       "      <td>0.015277</td>\n",
       "      <td>0.014794</td>\n",
       "      <td>0.014567</td>\n",
       "      <td>0.015324</td>\n",
       "      <td>0.017828</td>\n",
       "      <td>0.016517</td>\n",
       "      <td>0.014105</td>\n",
       "      <td>0.014869</td>\n",
       "    </tr>\n",
       "    <tr>\n",
       "      <th>4</th>\n",
       "      <td>0.029682</td>\n",
       "      <td>0.032414</td>\n",
       "      <td>0.034490</td>\n",
       "      <td>0.028651</td>\n",
       "      <td>0.031620</td>\n",
       "      <td>0.030350</td>\n",
       "      <td>0.029799</td>\n",
       "      <td>0.031404</td>\n",
       "      <td>0.032034</td>\n",
       "      <td>0.031955</td>\n",
       "    </tr>\n",
       "    <tr>\n",
       "      <th>5</th>\n",
       "      <td>0.057401</td>\n",
       "      <td>0.060281</td>\n",
       "      <td>0.062879</td>\n",
       "      <td>0.059690</td>\n",
       "      <td>0.057657</td>\n",
       "      <td>0.059998</td>\n",
       "      <td>0.060055</td>\n",
       "      <td>0.060893</td>\n",
       "      <td>0.064146</td>\n",
       "      <td>0.061138</td>\n",
       "    </tr>\n",
       "    <tr>\n",
       "      <th>6</th>\n",
       "      <td>0.108054</td>\n",
       "      <td>0.099434</td>\n",
       "      <td>0.107828</td>\n",
       "      <td>0.111436</td>\n",
       "      <td>0.116829</td>\n",
       "      <td>0.115045</td>\n",
       "      <td>0.120103</td>\n",
       "      <td>0.111940</td>\n",
       "      <td>0.112761</td>\n",
       "      <td>0.115875</td>\n",
       "    </tr>\n",
       "    <tr>\n",
       "      <th>7</th>\n",
       "      <td>0.213053</td>\n",
       "      <td>0.217663</td>\n",
       "      <td>0.208583</td>\n",
       "      <td>0.211992</td>\n",
       "      <td>0.193873</td>\n",
       "      <td>0.203861</td>\n",
       "      <td>0.206090</td>\n",
       "      <td>0.201773</td>\n",
       "      <td>0.202889</td>\n",
       "      <td>0.184752</td>\n",
       "    </tr>\n",
       "    <tr>\n",
       "      <th>8</th>\n",
       "      <td>0.326086</td>\n",
       "      <td>0.334729</td>\n",
       "      <td>0.327857</td>\n",
       "      <td>0.360220</td>\n",
       "      <td>0.336384</td>\n",
       "      <td>0.341283</td>\n",
       "      <td>0.348828</td>\n",
       "      <td>0.340805</td>\n",
       "      <td>0.325532</td>\n",
       "      <td>0.341006</td>\n",
       "    </tr>\n",
       "    <tr>\n",
       "      <th>9</th>\n",
       "      <td>0.480030</td>\n",
       "      <td>0.510025</td>\n",
       "      <td>0.531226</td>\n",
       "      <td>0.507402</td>\n",
       "      <td>0.521830</td>\n",
       "      <td>0.528779</td>\n",
       "      <td>0.523128</td>\n",
       "      <td>0.531939</td>\n",
       "      <td>0.537951</td>\n",
       "      <td>0.505549</td>\n",
       "    </tr>\n",
       "    <tr>\n",
       "      <th>10</th>\n",
       "      <td>0.680321</td>\n",
       "      <td>0.642156</td>\n",
       "      <td>0.644626</td>\n",
       "      <td>0.653924</td>\n",
       "      <td>0.778481</td>\n",
       "      <td>0.673516</td>\n",
       "      <td>0.690941</td>\n",
       "      <td>0.686025</td>\n",
       "      <td>0.661235</td>\n",
       "      <td>0.692249</td>\n",
       "    </tr>\n",
       "    <tr>\n",
       "      <th>11</th>\n",
       "      <td>0.871660</td>\n",
       "      <td>0.806031</td>\n",
       "      <td>0.815963</td>\n",
       "      <td>0.729720</td>\n",
       "      <td>0.818314</td>\n",
       "      <td>0.776137</td>\n",
       "      <td>0.763342</td>\n",
       "      <td>0.831988</td>\n",
       "      <td>0.793702</td>\n",
       "      <td>0.801834</td>\n",
       "    </tr>\n",
       "    <tr>\n",
       "      <th>12</th>\n",
       "      <td>0.847192</td>\n",
       "      <td>0.899823</td>\n",
       "      <td>0.899520</td>\n",
       "      <td>0.887573</td>\n",
       "      <td>0.960455</td>\n",
       "      <td>0.933118</td>\n",
       "      <td>0.874849</td>\n",
       "      <td>0.923032</td>\n",
       "      <td>0.917332</td>\n",
       "      <td>0.937066</td>\n",
       "    </tr>\n",
       "    <tr>\n",
       "      <th>13</th>\n",
       "      <td>0.946817</td>\n",
       "      <td>0.942694</td>\n",
       "      <td>0.931416</td>\n",
       "      <td>0.933664</td>\n",
       "      <td>1.008947</td>\n",
       "      <td>0.952963</td>\n",
       "      <td>0.915966</td>\n",
       "      <td>1.005374</td>\n",
       "      <td>0.911980</td>\n",
       "      <td>1.024504</td>\n",
       "    </tr>\n",
       "    <tr>\n",
       "      <th>14</th>\n",
       "      <td>1.060118</td>\n",
       "      <td>0.938529</td>\n",
       "      <td>0.872377</td>\n",
       "      <td>0.963204</td>\n",
       "      <td>0.974552</td>\n",
       "      <td>0.954104</td>\n",
       "      <td>0.977748</td>\n",
       "      <td>1.022191</td>\n",
       "      <td>0.958991</td>\n",
       "      <td>1.008042</td>\n",
       "    </tr>\n",
       "    <tr>\n",
       "      <th>15</th>\n",
       "      <td>0.969556</td>\n",
       "      <td>1.012555</td>\n",
       "      <td>0.880145</td>\n",
       "      <td>0.929681</td>\n",
       "      <td>0.959317</td>\n",
       "      <td>0.972201</td>\n",
       "      <td>0.986443</td>\n",
       "      <td>0.887022</td>\n",
       "      <td>0.989357</td>\n",
       "      <td>1.008538</td>\n",
       "    </tr>\n",
       "    <tr>\n",
       "      <th>16</th>\n",
       "      <td>1.115312</td>\n",
       "      <td>1.010588</td>\n",
       "      <td>0.981148</td>\n",
       "      <td>0.982151</td>\n",
       "      <td>1.007236</td>\n",
       "      <td>0.967773</td>\n",
       "      <td>0.995883</td>\n",
       "      <td>0.997576</td>\n",
       "      <td>0.976255</td>\n",
       "      <td>1.023374</td>\n",
       "    </tr>\n",
       "    <tr>\n",
       "      <th>17</th>\n",
       "      <td>1.033548</td>\n",
       "      <td>1.011500</td>\n",
       "      <td>0.999239</td>\n",
       "      <td>0.987192</td>\n",
       "      <td>0.929159</td>\n",
       "      <td>0.937994</td>\n",
       "      <td>0.959844</td>\n",
       "      <td>1.012740</td>\n",
       "      <td>1.001163</td>\n",
       "      <td>1.002484</td>\n",
       "    </tr>\n",
       "  </tbody>\n",
       "</table>\n",
       "</div>"
      ],
      "text/plain": [
       "           0         1         2         3         4         5         6  \\\n",
       "0   0.001905  0.001857  0.001788  0.001920  0.001822  0.001950  0.001990   \n",
       "1   0.004157  0.004023  0.003613  0.003908  0.004222  0.004029  0.003834   \n",
       "2   0.008493  0.007830  0.007926  0.007502  0.008058  0.008371  0.008203   \n",
       "3   0.015466  0.015856  0.015277  0.014794  0.014567  0.015324  0.017828   \n",
       "4   0.029682  0.032414  0.034490  0.028651  0.031620  0.030350  0.029799   \n",
       "5   0.057401  0.060281  0.062879  0.059690  0.057657  0.059998  0.060055   \n",
       "6   0.108054  0.099434  0.107828  0.111436  0.116829  0.115045  0.120103   \n",
       "7   0.213053  0.217663  0.208583  0.211992  0.193873  0.203861  0.206090   \n",
       "8   0.326086  0.334729  0.327857  0.360220  0.336384  0.341283  0.348828   \n",
       "9   0.480030  0.510025  0.531226  0.507402  0.521830  0.528779  0.523128   \n",
       "10  0.680321  0.642156  0.644626  0.653924  0.778481  0.673516  0.690941   \n",
       "11  0.871660  0.806031  0.815963  0.729720  0.818314  0.776137  0.763342   \n",
       "12  0.847192  0.899823  0.899520  0.887573  0.960455  0.933118  0.874849   \n",
       "13  0.946817  0.942694  0.931416  0.933664  1.008947  0.952963  0.915966   \n",
       "14  1.060118  0.938529  0.872377  0.963204  0.974552  0.954104  0.977748   \n",
       "15  0.969556  1.012555  0.880145  0.929681  0.959317  0.972201  0.986443   \n",
       "16  1.115312  1.010588  0.981148  0.982151  1.007236  0.967773  0.995883   \n",
       "17  1.033548  1.011500  0.999239  0.987192  0.929159  0.937994  0.959844   \n",
       "\n",
       "           7         8         9  \n",
       "0   0.001976  0.002177  0.002051  \n",
       "1   0.003946  0.004568  0.003844  \n",
       "2   0.007596  0.008237  0.008017  \n",
       "3   0.016517  0.014105  0.014869  \n",
       "4   0.031404  0.032034  0.031955  \n",
       "5   0.060893  0.064146  0.061138  \n",
       "6   0.111940  0.112761  0.115875  \n",
       "7   0.201773  0.202889  0.184752  \n",
       "8   0.340805  0.325532  0.341006  \n",
       "9   0.531939  0.537951  0.505549  \n",
       "10  0.686025  0.661235  0.692249  \n",
       "11  0.831988  0.793702  0.801834  \n",
       "12  0.923032  0.917332  0.937066  \n",
       "13  1.005374  0.911980  1.024504  \n",
       "14  1.022191  0.958991  1.008042  \n",
       "15  0.887022  0.989357  1.008538  \n",
       "16  0.997576  0.976255  1.023374  \n",
       "17  1.012740  1.001163  1.002484  "
      ]
     },
     "execution_count": 95,
     "metadata": {},
     "output_type": "execute_result"
    }
   ],
   "source": [
    "df2"
   ]
  },
  {
   "cell_type": "code",
   "execution_count": 96,
   "metadata": {
    "collapsed": false
   },
   "outputs": [
    {
     "data": {
      "text/plain": [
       "<bound method DataFrame.mean of            0         1         2         3         4         5         6  \\\n",
       "0   0.001905  0.001857  0.001788  0.001920  0.001822  0.001950  0.001990   \n",
       "1   0.004157  0.004023  0.003613  0.003908  0.004222  0.004029  0.003834   \n",
       "2   0.008493  0.007830  0.007926  0.007502  0.008058  0.008371  0.008203   \n",
       "3   0.015466  0.015856  0.015277  0.014794  0.014567  0.015324  0.017828   \n",
       "4   0.029682  0.032414  0.034490  0.028651  0.031620  0.030350  0.029799   \n",
       "5   0.057401  0.060281  0.062879  0.059690  0.057657  0.059998  0.060055   \n",
       "6   0.108054  0.099434  0.107828  0.111436  0.116829  0.115045  0.120103   \n",
       "7   0.213053  0.217663  0.208583  0.211992  0.193873  0.203861  0.206090   \n",
       "8   0.326086  0.334729  0.327857  0.360220  0.336384  0.341283  0.348828   \n",
       "9   0.480030  0.510025  0.531226  0.507402  0.521830  0.528779  0.523128   \n",
       "10  0.680321  0.642156  0.644626  0.653924  0.778481  0.673516  0.690941   \n",
       "11  0.871660  0.806031  0.815963  0.729720  0.818314  0.776137  0.763342   \n",
       "12  0.847192  0.899823  0.899520  0.887573  0.960455  0.933118  0.874849   \n",
       "13  0.946817  0.942694  0.931416  0.933664  1.008947  0.952963  0.915966   \n",
       "14  1.060118  0.938529  0.872377  0.963204  0.974552  0.954104  0.977748   \n",
       "15  0.969556  1.012555  0.880145  0.929681  0.959317  0.972201  0.986443   \n",
       "16  1.115312  1.010588  0.981148  0.982151  1.007236  0.967773  0.995883   \n",
       "17  1.033548  1.011500  0.999239  0.987192  0.929159  0.937994  0.959844   \n",
       "\n",
       "           7         8         9  \n",
       "0   0.001976  0.002177  0.002051  \n",
       "1   0.003946  0.004568  0.003844  \n",
       "2   0.007596  0.008237  0.008017  \n",
       "3   0.016517  0.014105  0.014869  \n",
       "4   0.031404  0.032034  0.031955  \n",
       "5   0.060893  0.064146  0.061138  \n",
       "6   0.111940  0.112761  0.115875  \n",
       "7   0.201773  0.202889  0.184752  \n",
       "8   0.340805  0.325532  0.341006  \n",
       "9   0.531939  0.537951  0.505549  \n",
       "10  0.686025  0.661235  0.692249  \n",
       "11  0.831988  0.793702  0.801834  \n",
       "12  0.923032  0.917332  0.937066  \n",
       "13  1.005374  0.911980  1.024504  \n",
       "14  1.022191  0.958991  1.008042  \n",
       "15  0.887022  0.989357  1.008538  \n",
       "16  0.997576  0.976255  1.023374  \n",
       "17  1.012740  1.001163  1.002484  >"
      ]
     },
     "execution_count": 96,
     "metadata": {},
     "output_type": "execute_result"
    }
   ],
   "source": [
    "df2.mean"
   ]
  },
  {
   "cell_type": "code",
   "execution_count": 98,
   "metadata": {
    "collapsed": false
   },
   "outputs": [
    {
     "data": {
      "text/plain": [
       "0     0.001944\n",
       "1     0.004015\n",
       "2     0.008023\n",
       "3     0.015460\n",
       "4     0.031240\n",
       "5     0.060414\n",
       "6     0.111930\n",
       "7     0.204453\n",
       "8     0.338273\n",
       "9     0.517786\n",
       "10    0.680347\n",
       "11    0.800869\n",
       "12    0.907996\n",
       "13    0.957433\n",
       "14    0.972986\n",
       "15    0.959481\n",
       "16    1.005729\n",
       "17    0.987486\n",
       "dtype: float64"
      ]
     },
     "execution_count": 98,
     "metadata": {},
     "output_type": "execute_result"
    }
   ],
   "source": [
    "df2.mean(axis=1)"
   ]
  },
  {
   "cell_type": "code",
   "execution_count": 99,
   "metadata": {
    "collapsed": false
   },
   "outputs": [
    {
     "data": {
      "text/plain": [
       "0     0.000114\n",
       "1     0.000260\n",
       "2     0.000320\n",
       "3     0.001073\n",
       "4     0.001675\n",
       "5     0.002062\n",
       "6     0.005822\n",
       "7     0.009633\n",
       "8     0.010809\n",
       "9     0.017310\n",
       "10    0.039103\n",
       "11    0.038977\n",
       "12    0.033154\n",
       "13    0.040590\n",
       "14    0.050799\n",
       "15    0.046594\n",
       "16    0.042135\n",
       "17    0.034160\n",
       "dtype: float64"
      ]
     },
     "execution_count": 99,
     "metadata": {},
     "output_type": "execute_result"
    }
   ],
   "source": [
    "df2.std(axis=1)"
   ]
  },
  {
   "cell_type": "code",
   "execution_count": 100,
   "metadata": {
    "collapsed": false
   },
   "outputs": [
    {
     "data": {
      "text/plain": [
       "[<matplotlib.lines.Line2D at 0x110a58780>]"
      ]
     },
     "execution_count": 100,
     "metadata": {},
     "output_type": "execute_result"
    },
    {
     "data": {
      "image/png": "[encoded data removed]",
      "text/plain": [
       "<matplotlib.figure.Figure at 0x1119d1be0>"
      ]
     },
     "metadata": {},
     "output_type": "display_data"
    }
   ],
   "source": [
    "plt.plot(df2.std(axis=1))"
   ]
  },
  {
   "cell_type": "code",
   "execution_count": 102,
   "metadata": {
    "collapsed": false
   },
   "outputs": [
    {
     "ename": "KeyError",
     "evalue": "(0, 1)",
     "output_type": "error",
     "traceback": [
      "\u001b[0;31m---------------------------------------------------------------------------\u001b[0m",
      "\u001b[0;31mTypeError\u001b[0m                                 Traceback (most recent call last)",
      "\u001b[0;32mpandas/index.pyx\u001b[0m in \u001b[0;36mpandas.index.IndexEngine.get_loc (pandas/index.c:4024)\u001b[0;34m()\u001b[0m\n",
      "\u001b[0;32mpandas/src/hashtable_class_helper.pxi\u001b[0m in \u001b[0;36mpandas.hashtable.Int64HashTable.get_item (pandas/hashtable.c:8120)\u001b[0;34m()\u001b[0m\n",
      "\u001b[0;31mTypeError\u001b[0m: an integer is required",
      "\nDuring handling of the above exception, another exception occurred:\n",
      "\u001b[0;31mKeyError\u001b[0m                                  Traceback (most recent call last)",
      "\u001b[0;32m<ipython-input-102-0316153e6b6d>\u001b[0m in \u001b[0;36m<module>\u001b[0;34m()\u001b[0m\n\u001b[0;32m----> 1\u001b[0;31m \u001b[0mdf2\u001b[0m\u001b[0;34m.\u001b[0m\u001b[0mmean\u001b[0m\u001b[0;34m(\u001b[0m\u001b[0maxis\u001b[0m\u001b[0;34m=\u001b[0m\u001b[0;36m1\u001b[0m\u001b[0;34m)\u001b[0m\u001b[0;34m[\u001b[0m\u001b[0;36m0\u001b[0m\u001b[0;34m,\u001b[0m\u001b[0;36m1\u001b[0m\u001b[0;34m]\u001b[0m\u001b[0;34m\u001b[0m\u001b[0m\n\u001b[0m",
      "\u001b[0;32m/Users/michael/miniconda3/envs/fitter/lib/python3.5/site-packages/pandas/core/series.py\u001b[0m in \u001b[0;36m__getitem__\u001b[0;34m(self, key)\u001b[0m\n\u001b[1;32m    599\u001b[0m         \u001b[0mkey\u001b[0m \u001b[0;34m=\u001b[0m \u001b[0mcom\u001b[0m\u001b[0;34m.\u001b[0m\u001b[0m_apply_if_callable\u001b[0m\u001b[0;34m(\u001b[0m\u001b[0mkey\u001b[0m\u001b[0;34m,\u001b[0m \u001b[0mself\u001b[0m\u001b[0;34m)\u001b[0m\u001b[0;34m\u001b[0m\u001b[0m\n\u001b[1;32m    600\u001b[0m         \u001b[0;32mtry\u001b[0m\u001b[0;34m:\u001b[0m\u001b[0;34m\u001b[0m\u001b[0m\n\u001b[0;32m--> 601\u001b[0;31m             \u001b[0mresult\u001b[0m \u001b[0;34m=\u001b[0m \u001b[0mself\u001b[0m\u001b[0;34m.\u001b[0m\u001b[0mindex\u001b[0m\u001b[0;34m.\u001b[0m\u001b[0mget_value\u001b[0m\u001b[0;34m(\u001b[0m\u001b[0mself\u001b[0m\u001b[0;34m,\u001b[0m \u001b[0mkey\u001b[0m\u001b[0;34m)\u001b[0m\u001b[0;34m\u001b[0m\u001b[0m\n\u001b[0m\u001b[1;32m    602\u001b[0m \u001b[0;34m\u001b[0m\u001b[0m\n\u001b[1;32m    603\u001b[0m             \u001b[0;32mif\u001b[0m \u001b[0;32mnot\u001b[0m \u001b[0mis_scalar\u001b[0m\u001b[0;34m(\u001b[0m\u001b[0mresult\u001b[0m\u001b[0;34m)\u001b[0m\u001b[0;34m:\u001b[0m\u001b[0;34m\u001b[0m\u001b[0m\n",
      "\u001b[0;32m/Users/michael/miniconda3/envs/fitter/lib/python3.5/site-packages/pandas/indexes/base.py\u001b[0m in \u001b[0;36mget_value\u001b[0;34m(self, series, key)\u001b[0m\n\u001b[1;32m   2137\u001b[0m         \u001b[0;32mtry\u001b[0m\u001b[0;34m:\u001b[0m\u001b[0;34m\u001b[0m\u001b[0m\n\u001b[1;32m   2138\u001b[0m             return self._engine.get_value(s, k,\n\u001b[0;32m-> 2139\u001b[0;31m                                           tz=getattr(series.dtype, 'tz', None))\n\u001b[0m\u001b[1;32m   2140\u001b[0m         \u001b[0;32mexcept\u001b[0m \u001b[0mKeyError\u001b[0m \u001b[0;32mas\u001b[0m \u001b[0me1\u001b[0m\u001b[0;34m:\u001b[0m\u001b[0;34m\u001b[0m\u001b[0m\n\u001b[1;32m   2141\u001b[0m             \u001b[0;32mif\u001b[0m \u001b[0mlen\u001b[0m\u001b[0;34m(\u001b[0m\u001b[0mself\u001b[0m\u001b[0;34m)\u001b[0m \u001b[0;34m>\u001b[0m \u001b[0;36m0\u001b[0m \u001b[0;32mand\u001b[0m \u001b[0mself\u001b[0m\u001b[0;34m.\u001b[0m\u001b[0minferred_type\u001b[0m \u001b[0;32min\u001b[0m \u001b[0;34m[\u001b[0m\u001b[0;34m'integer'\u001b[0m\u001b[0;34m,\u001b[0m \u001b[0;34m'boolean'\u001b[0m\u001b[0;34m]\u001b[0m\u001b[0;34m:\u001b[0m\u001b[0;34m\u001b[0m\u001b[0m\n",
      "\u001b[0;32mpandas/index.pyx\u001b[0m in \u001b[0;36mpandas.index.IndexEngine.get_value (pandas/index.c:3338)\u001b[0;34m()\u001b[0m\n",
      "\u001b[0;32mpandas/index.pyx\u001b[0m in \u001b[0;36mpandas.index.IndexEngine.get_value (pandas/index.c:3041)\u001b[0;34m()\u001b[0m\n",
      "\u001b[0;32mpandas/index.pyx\u001b[0m in \u001b[0;36mpandas.index.IndexEngine.get_loc (pandas/index.c:4090)\u001b[0;34m()\u001b[0m\n",
      "\u001b[0;31mKeyError\u001b[0m: (0, 1)"
     ]
    }
   ],
   "source": []
  },
  {
   "cell_type": "code",
   "execution_count": 103,
   "metadata": {
    "collapsed": true
   },
   "outputs": [],
   "source": [
    "thing = df2.mean(axis=1)"
   ]
  },
  {
   "cell_type": "code",
   "execution_count": 104,
   "metadata": {
    "collapsed": false
   },
   "outputs": [
    {
     "data": {
      "text/plain": [
       "pandas.core.series.Series"
      ]
     },
     "execution_count": 104,
     "metadata": {},
     "output_type": "execute_result"
    }
   ],
   "source": [
    "type(thing)"
   ]
  },
  {
   "cell_type": "code",
   "execution_count": 105,
   "metadata": {
    "collapsed": false
   },
   "outputs": [
    {
     "ename": "KeyError",
     "evalue": "'1'",
     "output_type": "error",
     "traceback": [
      "\u001b[0;31m---------------------------------------------------------------------------\u001b[0m",
      "\u001b[0;31mTypeError\u001b[0m                                 Traceback (most recent call last)",
      "\u001b[0;32mpandas/index.pyx\u001b[0m in \u001b[0;36mpandas.index.IndexEngine.get_loc (pandas/index.c:4024)\u001b[0;34m()\u001b[0m\n",
      "\u001b[0;32mpandas/src/hashtable_class_helper.pxi\u001b[0m in \u001b[0;36mpandas.hashtable.Int64HashTable.get_item (pandas/hashtable.c:8120)\u001b[0;34m()\u001b[0m\n",
      "\u001b[0;31mTypeError\u001b[0m: an integer is required",
      "\nDuring handling of the above exception, another exception occurred:\n",
      "\u001b[0;31mKeyError\u001b[0m                                  Traceback (most recent call last)",
      "\u001b[0;32m<ipython-input-105-8ab0b0ee07cb>\u001b[0m in \u001b[0;36m<module>\u001b[0;34m()\u001b[0m\n\u001b[0;32m----> 1\u001b[0;31m \u001b[0mthing\u001b[0m\u001b[0;34m[\u001b[0m\u001b[0;34m'1'\u001b[0m\u001b[0;34m]\u001b[0m\u001b[0;34m\u001b[0m\u001b[0m\n\u001b[0m",
      "\u001b[0;32m/Users/michael/miniconda3/envs/fitter/lib/python3.5/site-packages/pandas/core/series.py\u001b[0m in \u001b[0;36m__getitem__\u001b[0;34m(self, key)\u001b[0m\n\u001b[1;32m    599\u001b[0m         \u001b[0mkey\u001b[0m \u001b[0;34m=\u001b[0m \u001b[0mcom\u001b[0m\u001b[0;34m.\u001b[0m\u001b[0m_apply_if_callable\u001b[0m\u001b[0;34m(\u001b[0m\u001b[0mkey\u001b[0m\u001b[0;34m,\u001b[0m \u001b[0mself\u001b[0m\u001b[0;34m)\u001b[0m\u001b[0;34m\u001b[0m\u001b[0m\n\u001b[1;32m    600\u001b[0m         \u001b[0;32mtry\u001b[0m\u001b[0;34m:\u001b[0m\u001b[0;34m\u001b[0m\u001b[0m\n\u001b[0;32m--> 601\u001b[0;31m             \u001b[0mresult\u001b[0m \u001b[0;34m=\u001b[0m \u001b[0mself\u001b[0m\u001b[0;34m.\u001b[0m\u001b[0mindex\u001b[0m\u001b[0;34m.\u001b[0m\u001b[0mget_value\u001b[0m\u001b[0;34m(\u001b[0m\u001b[0mself\u001b[0m\u001b[0;34m,\u001b[0m \u001b[0mkey\u001b[0m\u001b[0;34m)\u001b[0m\u001b[0;34m\u001b[0m\u001b[0m\n\u001b[0m\u001b[1;32m    602\u001b[0m \u001b[0;34m\u001b[0m\u001b[0m\n\u001b[1;32m    603\u001b[0m             \u001b[0;32mif\u001b[0m \u001b[0;32mnot\u001b[0m \u001b[0mis_scalar\u001b[0m\u001b[0;34m(\u001b[0m\u001b[0mresult\u001b[0m\u001b[0;34m)\u001b[0m\u001b[0;34m:\u001b[0m\u001b[0;34m\u001b[0m\u001b[0m\n",
      "\u001b[0;32m/Users/michael/miniconda3/envs/fitter/lib/python3.5/site-packages/pandas/indexes/base.py\u001b[0m in \u001b[0;36mget_value\u001b[0;34m(self, series, key)\u001b[0m\n\u001b[1;32m   2137\u001b[0m         \u001b[0;32mtry\u001b[0m\u001b[0;34m:\u001b[0m\u001b[0;34m\u001b[0m\u001b[0m\n\u001b[1;32m   2138\u001b[0m             return self._engine.get_value(s, k,\n\u001b[0;32m-> 2139\u001b[0;31m                                           tz=getattr(series.dtype, 'tz', None))\n\u001b[0m\u001b[1;32m   2140\u001b[0m         \u001b[0;32mexcept\u001b[0m \u001b[0mKeyError\u001b[0m \u001b[0;32mas\u001b[0m \u001b[0me1\u001b[0m\u001b[0;34m:\u001b[0m\u001b[0;34m\u001b[0m\u001b[0m\n\u001b[1;32m   2141\u001b[0m             \u001b[0;32mif\u001b[0m \u001b[0mlen\u001b[0m\u001b[0;34m(\u001b[0m\u001b[0mself\u001b[0m\u001b[0;34m)\u001b[0m \u001b[0;34m>\u001b[0m \u001b[0;36m0\u001b[0m \u001b[0;32mand\u001b[0m \u001b[0mself\u001b[0m\u001b[0;34m.\u001b[0m\u001b[0minferred_type\u001b[0m \u001b[0;32min\u001b[0m \u001b[0;34m[\u001b[0m\u001b[0;34m'integer'\u001b[0m\u001b[0;34m,\u001b[0m \u001b[0;34m'boolean'\u001b[0m\u001b[0;34m]\u001b[0m\u001b[0;34m:\u001b[0m\u001b[0;34m\u001b[0m\u001b[0m\n",
      "\u001b[0;32mpandas/index.pyx\u001b[0m in \u001b[0;36mpandas.index.IndexEngine.get_value (pandas/index.c:3338)\u001b[0;34m()\u001b[0m\n",
      "\u001b[0;32mpandas/index.pyx\u001b[0m in \u001b[0;36mpandas.index.IndexEngine.get_value (pandas/index.c:3041)\u001b[0;34m()\u001b[0m\n",
      "\u001b[0;32mpandas/index.pyx\u001b[0m in \u001b[0;36mpandas.index.IndexEngine.get_loc (pandas/index.c:4090)\u001b[0;34m()\u001b[0m\n",
      "\u001b[0;31mKeyError\u001b[0m: '1'"
     ]
    }
   ],
   "source": [
    "thing['1']"
   ]
  },
  {
   "cell_type": "code",
   "execution_count": 106,
   "metadata": {
    "collapsed": true
   },
   "outputs": [],
   "source": [
    "columns = ['lig','bavg','std']"
   ]
  },
  {
   "cell_type": "code",
   "execution_count": 107,
   "metadata": {
    "collapsed": true
   },
   "outputs": [],
   "source": [
    "df=pd.DataFrame(columns=columns)"
   ]
  },
  {
   "cell_type": "code",
   "execution_count": 108,
   "metadata": {
    "collapsed": false
   },
   "outputs": [
    {
     "data": {
      "text/html": [
       "<div>\n",
       "<table border=\"1\" class=\"dataframe\">\n",
       "  <thead>\n",
       "    <tr style=\"text-align: right;\">\n",
       "      <th></th>\n",
       "      <th>lig</th>\n",
       "      <th>bavg</th>\n",
       "      <th>std</th>\n",
       "    </tr>\n",
       "  </thead>\n",
       "  <tbody>\n",
       "  </tbody>\n",
       "</table>\n",
       "</div>"
      ],
      "text/plain": [
       "Empty DataFrame\n",
       "Columns: [lig, bavg, std]\n",
       "Index: []"
      ]
     },
     "execution_count": 108,
     "metadata": {},
     "output_type": "execute_result"
    }
   ],
   "source": [
    "df"
   ]
  },
  {
   "cell_type": "code",
   "execution_count": 109,
   "metadata": {
    "collapsed": false
   },
   "outputs": [
    {
     "data": {
      "text/plain": [
       "array([  1.00000000e-03,   2.00000000e-03,   4.00000000e-03,\n",
       "         8.00000000e-03,   1.60000000e-02,   3.20000000e-02,\n",
       "         6.40000000e-02,   1.28000000e-01,   2.56000000e-01,\n",
       "         5.12000000e-01,   1.02400000e+00,   2.04800000e+00,\n",
       "         4.09600000e+00,   8.19200000e+00,   1.63840000e+01,\n",
       "         3.27680000e+01,   6.55360000e+01,   1.31072000e+02])"
      ]
     },
     "execution_count": 109,
     "metadata": {},
     "output_type": "execute_result"
    }
   ],
   "source": [
    "L"
   ]
  },
  {
   "cell_type": "code",
   "execution_count": 110,
   "metadata": {
    "collapsed": false
   },
   "outputs": [
    {
     "data": {
      "text/plain": [
       "array([[ 0.00190488,  0.00415741,  0.00849306,  0.01546561,  0.02968242,\n",
       "         0.0574013 ,  0.1080536 ,  0.21305256,  0.32608562,  0.48003009,\n",
       "         0.68032108,  0.8716603 ,  0.8471923 ,  0.94681748,  1.06011751,\n",
       "         0.96955635,  1.11531163,  1.03354773],\n",
       "       [ 0.00185726,  0.00402342,  0.00782967,  0.01585551,  0.03241434,\n",
       "         0.06028141,  0.09943353,  0.21766275,  0.33472913,  0.5100246 ,\n",
       "         0.64215578,  0.80603054,  0.89982256,  0.94269419,  0.93852915,\n",
       "         1.01255491,  1.01058791,  1.01150045],\n",
       "       [ 0.00178815,  0.00361317,  0.00792559,  0.01527696,  0.03448961,\n",
       "         0.06287926,  0.10782834,  0.20858339,  0.32785691,  0.53122622,\n",
       "         0.64462611,  0.81596332,  0.89951975,  0.93141582,  0.87237708,\n",
       "         0.88014494,  0.98114763,  0.99923889],\n",
       "       [ 0.00192043,  0.00390808,  0.00750243,  0.01479432,  0.028651  ,\n",
       "         0.05969035,  0.11143648,  0.21199221,  0.36021982,  0.50740223,\n",
       "         0.65392425,  0.72971958,  0.88757335,  0.93366427,  0.96320383,\n",
       "         0.92968075,  0.98215111,  0.98719227],\n",
       "       [ 0.001822  ,  0.00422242,  0.00805803,  0.01456726,  0.03162013,\n",
       "         0.05765676,  0.11682875,  0.19387262,  0.33638417,  0.52183012,\n",
       "         0.77848115,  0.81831449,  0.96045529,  1.00894651,  0.9745516 ,\n",
       "         0.9593168 ,  1.00723586,  0.92915922],\n",
       "       [ 0.00194979,  0.00402877,  0.00837122,  0.01532371,  0.03035009,\n",
       "         0.05999765,  0.11504477,  0.20386084,  0.34128335,  0.52877853,\n",
       "         0.67351585,  0.77613706,  0.93311809,  0.95296295,  0.95410367,\n",
       "         0.97220135,  0.96777282,  0.93799391],\n",
       "       [ 0.00198979,  0.00383409,  0.0082032 ,  0.01782803,  0.02979903,\n",
       "         0.06005452,  0.1201035 ,  0.20609007,  0.3488284 ,  0.5231285 ,\n",
       "         0.69094064,  0.76334193,  0.8748488 ,  0.9159663 ,  0.97774823,\n",
       "         0.98644318,  0.99588262,  0.95984449],\n",
       "       [ 0.00197625,  0.00394588,  0.0075961 ,  0.01651749,  0.03140352,\n",
       "         0.06089304,  0.11193995,  0.20177287,  0.34080538,  0.53193932,\n",
       "         0.6860253 ,  0.83198771,  0.92303228,  1.00537379,  1.02219123,\n",
       "         0.88702194,  0.99757592,  1.01274007],\n",
       "       [ 0.00217662,  0.0045683 ,  0.00823683,  0.01410466,  0.03203398,\n",
       "         0.06414598,  0.1127612 ,  0.20288905,  0.32553242,  0.53795063,\n",
       "         0.66123487,  0.79370191,  0.91733168,  0.91198019,  0.95899137,\n",
       "         0.98935676,  0.9762548 ,  1.0011631 ],\n",
       "       [ 0.00205138,  0.00384411,  0.00801749,  0.01486881,  0.03195499,\n",
       "         0.06113801,  0.11587486,  0.18475171,  0.34100632,  0.50554872,\n",
       "         0.69224864,  0.80183404,  0.93706587,  1.02450398,  1.00804239,\n",
       "         1.00853782,  1.02337415,  1.0024836 ]])"
      ]
     },
     "execution_count": 110,
     "metadata": {},
     "output_type": "execute_result"
    }
   ],
   "source": [
    "set2"
   ]
  },
  {
   "cell_type": "code",
   "execution_count": 114,
   "metadata": {
    "collapsed": false
   },
   "outputs": [
    {
     "data": {
      "text/plain": [
       "array([ 0.00194366,  0.00401457,  0.00802336,  0.01546024,  0.03123991,\n",
       "        0.06041383,  0.1119305 ,  0.20445281,  0.33827315,  0.5177859 ,\n",
       "        0.68034737,  0.80086909,  0.907996  ,  0.95743255,  0.97298561,\n",
       "        0.95948148,  1.00572945,  0.98748637])"
      ]
     },
     "execution_count": 114,
     "metadata": {},
     "output_type": "execute_result"
    }
   ],
   "source": [
    "np.mean(set2,axis=0)"
   ]
  },
  {
   "cell_type": "code",
   "execution_count": 115,
   "metadata": {
    "collapsed": false
   },
   "outputs": [
    {
     "data": {
      "text/plain": [
       "array([ 0.00010844,  0.00024684,  0.00030361,  0.00101789,  0.001589  ,\n",
       "        0.00195656,  0.00552281,  0.00913835,  0.01025427,  0.0164214 ,\n",
       "        0.03709593,  0.03697715,  0.03145308,  0.03850671,  0.04819196,\n",
       "        0.04420278,  0.0399732 ,  0.03240661])"
      ]
     },
     "execution_count": 115,
     "metadata": {},
     "output_type": "execute_result"
    }
   ],
   "source": [
    "np.std(set2,axis=0)"
   ]
  },
  {
   "cell_type": "code",
   "execution_count": 117,
   "metadata": {
    "collapsed": false
   },
   "outputs": [
    {
     "data": {
      "text/plain": [
       "array([0, 1, 2, 3, 4])"
      ]
     },
     "execution_count": 117,
     "metadata": {},
     "output_type": "execute_result"
    }
   ],
   "source": [
    "np.arange(5)"
   ]
  },
  {
   "cell_type": "code",
   "execution_count": 118,
   "metadata": {
    "collapsed": true
   },
   "outputs": [],
   "source": [
    "def func_gauss(params, x, data=[]):\n",
    "    A = params['A'].value\n",
    "    mu = params['mu'].value\n",
    "    sigma = params['sigma'].value\n",
    "    model = A*np.exp(-(x-mu)**2/(2.*sigma**2))\n",
    "\n",
    "    if data == []:\n",
    "        return model\n",
    "    return data-model"
   ]
  },
  {
   "cell_type": "code",
   "execution_count": 120,
   "metadata": {
    "collapsed": false
   },
   "outputs": [],
   "source": [
    "x  = np.linspace( -1, 2, 100 )\n",
    "data = []\n",
    "for i in np.arange(5):\n",
    "    params = lmfit.Parameters()\n",
    "    params.add( 'A'    , value=np.random.rand() )\n",
    "    params.add( 'mu'   , value=np.random.rand()+0.1 )\n",
    "    params.add( 'sigma', value=0.2+np.random.rand()*0.1 )\n",
    "    data.append(func_gauss(params,x))\n"
   ]
  },
  {
   "cell_type": "code",
   "execution_count": 121,
   "metadata": {
    "collapsed": false
   },
   "outputs": [
    {
     "data": {
      "text/plain": [
       "array([-1.        , -0.96969697, -0.93939394, -0.90909091, -0.87878788,\n",
       "       -0.84848485, -0.81818182, -0.78787879, -0.75757576, -0.72727273,\n",
       "       -0.6969697 , -0.66666667, -0.63636364, -0.60606061, -0.57575758,\n",
       "       -0.54545455, -0.51515152, -0.48484848, -0.45454545, -0.42424242,\n",
       "       -0.39393939, -0.36363636, -0.33333333, -0.3030303 , -0.27272727,\n",
       "       -0.24242424, -0.21212121, -0.18181818, -0.15151515, -0.12121212,\n",
       "       -0.09090909, -0.06060606, -0.03030303,  0.        ,  0.03030303,\n",
       "        0.06060606,  0.09090909,  0.12121212,  0.15151515,  0.18181818,\n",
       "        0.21212121,  0.24242424,  0.27272727,  0.3030303 ,  0.33333333,\n",
       "        0.36363636,  0.39393939,  0.42424242,  0.45454545,  0.48484848,\n",
       "        0.51515152,  0.54545455,  0.57575758,  0.60606061,  0.63636364,\n",
       "        0.66666667,  0.6969697 ,  0.72727273,  0.75757576,  0.78787879,\n",
       "        0.81818182,  0.84848485,  0.87878788,  0.90909091,  0.93939394,\n",
       "        0.96969697,  1.        ,  1.03030303,  1.06060606,  1.09090909,\n",
       "        1.12121212,  1.15151515,  1.18181818,  1.21212121,  1.24242424,\n",
       "        1.27272727,  1.3030303 ,  1.33333333,  1.36363636,  1.39393939,\n",
       "        1.42424242,  1.45454545,  1.48484848,  1.51515152,  1.54545455,\n",
       "        1.57575758,  1.60606061,  1.63636364,  1.66666667,  1.6969697 ,\n",
       "        1.72727273,  1.75757576,  1.78787879,  1.81818182,  1.84848485,\n",
       "        1.87878788,  1.90909091,  1.93939394,  1.96969697,  2.        ])"
      ]
     },
     "execution_count": 121,
     "metadata": {},
     "output_type": "execute_result"
    }
   ],
   "source": [
    "x"
   ]
  },
  {
   "cell_type": "code",
   "execution_count": 122,
   "metadata": {
    "collapsed": false
   },
   "outputs": [
    {
     "data": {
      "text/plain": [
       "[array([  7.05841083e-13,   1.93175670e-12,   5.19014493e-12,\n",
       "          1.36895164e-11,   3.54469028e-11,   9.01052397e-11,\n",
       "          2.24855421e-10,   5.50856200e-10,   1.32481332e-09,\n",
       "          3.12789881e-09,   7.24990419e-09,   1.64965605e-08,\n",
       "          3.68498823e-08,   8.08091188e-08,   1.73966730e-07,\n",
       "          3.67666106e-07,   7.62820848e-07,   1.55372115e-06,\n",
       "          3.10674182e-06,   6.09844085e-06,   1.17520608e-05,\n",
       "          2.22326285e-05,   4.12904063e-05,   7.52816388e-05,\n",
       "          1.34744342e-04,   2.36762859e-04,   4.08411701e-04,\n",
       "          6.91614902e-04,   1.14977291e-03,   1.87646888e-03,\n",
       "          3.00643782e-03,   4.72873143e-03,   7.30161007e-03,\n",
       "          1.10681284e-02,   1.64706714e-02,   2.40619037e-02,\n",
       "          3.45088295e-02,   4.85860998e-02,   6.71545450e-02,\n",
       "          9.11213926e-02,   1.21379921e-01,   1.58728502e-01,\n",
       "          2.03772018e-01,   2.56812253e-01,   3.17737519e-01,\n",
       "          3.85924921e-01,   4.60170434e-01,   5.38661782e-01,\n",
       "          6.19006457e-01,   6.98322058e-01,   7.73388847e-01,\n",
       "          8.40855974e-01,   8.97484357e-01,   9.40402392e-01,\n",
       "          9.67346639e-01,   9.76859475e-01,   9.68419719e-01,\n",
       "          9.42489931e-01,   9.00474416e-01,   8.44593241e-01,\n",
       "          7.77687985e-01,   7.02982869e-01,   6.23829141e-01,\n",
       "          5.43460694e-01,   4.64785086e-01,   3.90227429e-01,\n",
       "          3.21636233e-01,   2.60251778e-01,   2.06730239e-01,\n",
       "          1.61211446e-01,   1.23415386e-01,   9.27522170e-02,\n",
       "          6.84322562e-02,   4.95654419e-02,   3.52434707e-02,\n",
       "          2.46014057e-02,   1.68586479e-02,   1.13414118e-02,\n",
       "          7.49019399e-03,   4.85624484e-03,   3.09093341e-03,\n",
       "          1.93134690e-03,   1.18471119e-03,   7.13421603e-04,\n",
       "          4.21756308e-04,   2.44770166e-04,   1.39455916e-04,\n",
       "          7.80004245e-05,   4.28290611e-05,   2.30866919e-05,\n",
       "          1.22170520e-05,   6.34676919e-06,   3.23683492e-06,\n",
       "          1.62057808e-06,   7.96527793e-07,   3.84338130e-07,\n",
       "          1.82057081e-07,   8.46609703e-08,   3.86491968e-08,\n",
       "          1.73212515e-08]),\n",
       " array([  1.68202163e-04,   2.59112320e-04,   3.94399638e-04,\n",
       "          5.93166903e-04,   8.81473521e-04,   1.29429594e-03,\n",
       "          1.87780229e-03,   2.69189488e-03,   3.81292520e-03,\n",
       "          5.33642528e-03,   7.37962915e-03,   1.00834837e-02,\n",
       "          1.36137766e-02,   1.81609514e-02,   2.39381471e-02,\n",
       "          3.11770073e-02,   4.01208637e-02,   5.10150223e-02,\n",
       "          6.40940693e-02,   7.95663741e-02,   9.75962761e-02,\n",
       "          1.18284785e-01,   1.41649967e-01,   1.67608496e-01,\n",
       "          1.95960049e-01,   2.26376326e-01,   2.58396383e-01,\n",
       "          2.91429702e-01,   3.24767941e-01,   3.57605713e-01,\n",
       "          3.89069962e-01,   4.18256708e-01,   4.44273167e-01,\n",
       "          4.66282601e-01,   4.83548783e-01,   4.95476813e-01,\n",
       "          5.01647133e-01,   5.01840019e-01,   4.96048574e-01,\n",
       "          4.84479133e-01,   4.67539067e-01,   4.45812962e-01,\n",
       "          4.20029154e-01,   3.91019249e-01,   3.59673794e-01,\n",
       "          3.26897359e-01,   2.93566156e-01,   2.60490876e-01,\n",
       "          2.28386803e-01,   1.97852459e-01,   1.69357274e-01,\n",
       "          1.43237989e-01,   1.19702862e-01,   9.88422927e-02,\n",
       "          8.06441825e-02,   6.50122557e-02,   5.17856442e-02,\n",
       "          4.07582462e-02,   3.16966637e-02,   2.43558658e-02,\n",
       "          1.84920710e-02,   1.38726518e-02,   1.02831313e-02,\n",
       "          7.53153035e-03,   5.45045852e-03,   3.89739841e-03,\n",
       "          2.75364866e-03,   1.92235773e-03,   1.32602541e-03,\n",
       "          9.03777325e-04,   6.08643508e-04,   4.05001381e-04,\n",
       "          2.66282099e-04,   1.72989362e-04,   1.11042385e-04,\n",
       "          7.04287727e-05,   4.41370617e-05,   2.73305690e-05,\n",
       "          1.67219102e-05,   1.01091597e-05,   6.03859890e-06,\n",
       "          3.56409498e-06,   2.07852049e-06,   1.19770899e-06,\n",
       "          6.81930741e-07,   3.83637616e-07,   2.13252463e-07,\n",
       "          1.17127503e-07,   6.35646519e-08,   3.40850879e-08,\n",
       "          1.80594750e-08,   9.45448288e-09,   4.89060285e-09,\n",
       "          2.49964867e-09,   1.26237244e-09,   6.29923765e-10,\n",
       "          3.10584974e-10,   1.51309029e-10,   7.28351815e-11,\n",
       "          3.46425240e-11]),\n",
       " array([  3.52293031e-07,   5.85850779e-07,   9.63258292e-07,\n",
       "          1.56592618e-06,   2.51693847e-06,   3.99987757e-06,\n",
       "          6.28483068e-06,   9.76367356e-06,   1.49970453e-05,\n",
       "          2.27756585e-05,   3.41986502e-05,   5.07714741e-05,\n",
       "          7.45252370e-05,   1.08158273e-04,   1.55198995e-04,\n",
       "          2.20186583e-04,   3.08862786e-04,   4.28364134e-04,\n",
       "          5.87399271e-04,   7.96391268e-04,   1.06756017e-03,\n",
       "          1.41491717e-03,   1.85413972e-03,   2.40229691e-03,\n",
       "          3.07739819e-03,   3.89774559e-03,   4.88108161e-03,\n",
       "          6.04354047e-03,   7.39843026e-03,   8.95489543e-03,\n",
       "          1.07165313e-02,   1.26800435e-02,   1.48340600e-02,\n",
       "          1.71582150e-02,   1.96226187e-02,   2.21878187e-02,\n",
       "          2.48053316e-02,   2.74187878e-02,   2.99656876e-02,\n",
       "          3.23797157e-02,   3.45935075e-02,   3.65417171e-02,\n",
       "          3.81641934e-02,   3.94090540e-02,   4.02354365e-02,\n",
       "          4.06157249e-02,   4.05370822e-02,   4.00021696e-02,\n",
       "          3.90289973e-02,   3.76499171e-02,   3.59098376e-02,\n",
       "          3.38637962e-02,   3.15740743e-02,   2.91070638e-02,\n",
       "          2.65301040e-02,   2.39084980e-02,   2.13028847e-02,\n",
       "          1.87671069e-02,   1.63466597e-02,   1.40777582e-02,\n",
       "          1.19870072e-02,   1.00916183e-02,   8.40008436e-03,\n",
       "          6.91320231e-03,   5.62532566e-03,   4.52573226e-03,\n",
       "          3.60000274e-03,   2.83132412e-03,   2.20165432e-03,\n",
       "          1.69270571e-03,   1.28672747e-03,   9.67084603e-04,\n",
       "          7.18646229e-04,   5.28005708e-04,   3.83561377e-04,\n",
       "          2.75488774e-04,   1.95634627e-04,   1.37360016e-04,\n",
       "          9.53559340e-05,   6.54497362e-05,   4.44161449e-05,\n",
       "          2.98020821e-05,   1.97708407e-05,   1.29681030e-05,\n",
       "          8.41008822e-06,   5.39259042e-06,   3.41874813e-06,\n",
       "          2.14293777e-06,   1.32808172e-06,   8.13790889e-07,\n",
       "          4.93030325e-07,   2.95329769e-07,   1.74909583e-07,\n",
       "          1.02421886e-07,   5.92986376e-08,   3.39445026e-08,\n",
       "          1.92117518e-08,   1.07507130e-08,   5.94812869e-09,\n",
       "          3.25384026e-09]),\n",
       " array([  2.18425361e-13,   5.44757033e-13,   1.33810297e-12,\n",
       "          3.23715227e-12,   7.71300524e-12,   1.80996855e-11,\n",
       "          4.18316828e-11,   9.52196425e-11,   2.13468925e-10,\n",
       "          4.71334991e-10,   1.02497107e-09,   2.19523205e-09,\n",
       "          4.63058828e-09,   9.62008271e-09,   1.96837730e-08,\n",
       "          3.96665833e-08,   7.87278053e-08,   1.53892835e-07,\n",
       "          2.96275377e-07,   5.61771398e-07,   1.04908479e-06,\n",
       "          1.92951636e-06,   3.49520974e-06,   6.23569585e-06,\n",
       "          1.09567943e-05,   1.89613389e-05,   3.23177707e-05,\n",
       "          5.42501189e-05,   8.96905936e-05,   1.46042751e-04,\n",
       "          2.34207080e-04,   3.69919253e-04,   5.75440940e-04,\n",
       "          8.81620099e-04,   1.33029853e-03,   1.97698624e-03,\n",
       "          2.89364391e-03,   4.17131925e-03,   5.92227646e-03,\n",
       "          8.28115340e-03,   1.14045955e-02,   1.54687723e-02,\n",
       "          2.06642055e-02,   2.71874504e-02,   3.52293927e-02,\n",
       "          4.49602518e-02,   5.65118101e-02,   6.99578744e-02,\n",
       "          8.52944743e-02,   1.02421727e-01,   1.21129575e-01,\n",
       "          1.41089664e-01,   1.61855368e-01,   1.82871456e-01,\n",
       "          2.03494015e-01,   2.23020232e-01,   2.40726438e-01,\n",
       "          2.55911747e-01,   2.67943705e-01,   2.76301853e-01,\n",
       "          2.80615039e-01,   2.80688741e-01,   2.76519616e-01,\n",
       "          2.68295756e-01,   2.56382611e-01,   2.41296061e-01,\n",
       "          2.23665399e-01,   2.04189911e-01,   1.83593229e-01,\n",
       "          1.62579560e-01,   1.41795397e-01,   1.21799421e-01,\n",
       "          1.03042224e-01,   8.58562914e-02,   7.04556671e-02,\n",
       "          5.69438258e-02,   4.53277600e-02,   3.55360193e-02,\n",
       "          2.74384896e-02,   2.08659676e-02,   1.56280129e-02,\n",
       "          1.15280513e-02,   8.37519527e-03,   5.99267724e-03,\n",
       "          4.22312307e-03,   2.93111928e-03,   2.00364212e-03,\n",
       "          1.34894336e-03,   8.94446119e-04,   5.84119301e-04,\n",
       "          3.75695362e-04,   2.37989072e-04,   1.48479023e-04,\n",
       "          9.12347089e-05,   5.52130814e-05,   3.29087044e-05,\n",
       "          1.93181924e-05,   1.11688664e-05,   6.35972896e-06,\n",
       "          3.56660508e-06]),\n",
       " array([  5.91075352e-11,   1.29550908e-10,   2.80041611e-10,\n",
       "          5.97020389e-10,   1.25527896e-09,   2.60300996e-09,\n",
       "          5.32348337e-09,   1.07374329e-08,   2.13594231e-08,\n",
       "          4.19047317e-08,   8.10813745e-08,   1.54726119e-07,\n",
       "          2.91199519e-07,   5.40508049e-07,   9.89459835e-07,\n",
       "          1.78639982e-06,   3.18085340e-06,   5.58589969e-06,\n",
       "          9.67446824e-06,   1.65251559e-05,   2.78386724e-05,\n",
       "          4.62525803e-05,   7.57893013e-05,   1.22479762e-04,\n",
       "          1.95211435e-04,   3.06853206e-04,   4.75708125e-04,\n",
       "          7.27335801e-04,   1.09676568e-03,   1.63108739e-03,\n",
       "          2.39235212e-03,   3.46064829e-03,   4.93712721e-03,\n",
       "          6.94665392e-03,   9.63965521e-03,   1.31926436e-02,\n",
       "          1.78068315e-02,   2.37042360e-02,   3.11207293e-02,\n",
       "          4.02956403e-02,   5.14577565e-02,   6.48079264e-02,\n",
       "          8.04988909e-02,   9.86134513e-02,   1.19142556e-01,\n",
       "          1.41965285e-01,   1.66832975e-01,   1.93359771e-01,\n",
       "          2.21021663e-01,   2.49165584e-01,   2.77029334e-01,\n",
       "          3.03772149e-01,   3.28514573e-01,   3.50385252e-01,\n",
       "          3.68571278e-01,   3.82368097e-01,   3.91224733e-01,\n",
       "          3.94780277e-01,   3.92888290e-01,   3.85626804e-01,\n",
       "          3.73292988e-01,   3.56382971e-01,   3.35558734e-01,\n",
       "          3.11605161e-01,   2.85381114e-01,   2.57768774e-01,\n",
       "          2.29625374e-01,   2.01740892e-01,   1.74804453e-01,\n",
       "          1.49381059e-01,   1.25899229e-01,   1.04649004e-01,\n",
       "          8.57890027e-02,   6.93605663e-02,   5.53067493e-02,\n",
       "          4.34938776e-02,   3.37335940e-02,   2.58036767e-02,\n",
       "          1.94663739e-02,   1.44834833e-02,   1.06278514e-02,\n",
       "          7.69134725e-03,   5.48963987e-03,   3.86429064e-03,\n",
       "          2.68274999e-03,   1.83685601e-03,   1.24037932e-03,\n",
       "          8.26072966e-04,   5.42583766e-04,   3.51479236e-04,\n",
       "          2.24552059e-04,   1.41487770e-04,   8.79235583e-05,\n",
       "          5.38860190e-05,   3.25710257e-05,   1.94165141e-05,\n",
       "          1.14155169e-05,   6.61918307e-06,   3.78527725e-06,\n",
       "          2.13488993e-06])]"
      ]
     },
     "execution_count": 122,
     "metadata": {},
     "output_type": "execute_result"
    }
   ],
   "source": [
    "data"
   ]
  },
  {
   "cell_type": "code",
   "execution_count": 123,
   "metadata": {
    "collapsed": false
   },
   "outputs": [
    {
     "data": {
      "text/plain": [
       "array([  7.05841083e-13,   1.93175670e-12,   5.19014493e-12,\n",
       "         1.36895164e-11,   3.54469028e-11,   9.01052397e-11,\n",
       "         2.24855421e-10,   5.50856200e-10,   1.32481332e-09,\n",
       "         3.12789881e-09,   7.24990419e-09,   1.64965605e-08,\n",
       "         3.68498823e-08,   8.08091188e-08,   1.73966730e-07,\n",
       "         3.67666106e-07,   7.62820848e-07,   1.55372115e-06,\n",
       "         3.10674182e-06,   6.09844085e-06,   1.17520608e-05,\n",
       "         2.22326285e-05,   4.12904063e-05,   7.52816388e-05,\n",
       "         1.34744342e-04,   2.36762859e-04,   4.08411701e-04,\n",
       "         6.91614902e-04,   1.14977291e-03,   1.87646888e-03,\n",
       "         3.00643782e-03,   4.72873143e-03,   7.30161007e-03,\n",
       "         1.10681284e-02,   1.64706714e-02,   2.40619037e-02,\n",
       "         3.45088295e-02,   4.85860998e-02,   6.71545450e-02,\n",
       "         9.11213926e-02,   1.21379921e-01,   1.58728502e-01,\n",
       "         2.03772018e-01,   2.56812253e-01,   3.17737519e-01,\n",
       "         3.85924921e-01,   4.60170434e-01,   5.38661782e-01,\n",
       "         6.19006457e-01,   6.98322058e-01,   7.73388847e-01,\n",
       "         8.40855974e-01,   8.97484357e-01,   9.40402392e-01,\n",
       "         9.67346639e-01,   9.76859475e-01,   9.68419719e-01,\n",
       "         9.42489931e-01,   9.00474416e-01,   8.44593241e-01,\n",
       "         7.77687985e-01,   7.02982869e-01,   6.23829141e-01,\n",
       "         5.43460694e-01,   4.64785086e-01,   3.90227429e-01,\n",
       "         3.21636233e-01,   2.60251778e-01,   2.06730239e-01,\n",
       "         1.61211446e-01,   1.23415386e-01,   9.27522170e-02,\n",
       "         6.84322562e-02,   4.95654419e-02,   3.52434707e-02,\n",
       "         2.46014057e-02,   1.68586479e-02,   1.13414118e-02,\n",
       "         7.49019399e-03,   4.85624484e-03,   3.09093341e-03,\n",
       "         1.93134690e-03,   1.18471119e-03,   7.13421603e-04,\n",
       "         4.21756308e-04,   2.44770166e-04,   1.39455916e-04,\n",
       "         7.80004245e-05,   4.28290611e-05,   2.30866919e-05,\n",
       "         1.22170520e-05,   6.34676919e-06,   3.23683492e-06,\n",
       "         1.62057808e-06,   7.96527793e-07,   3.84338130e-07,\n",
       "         1.82057081e-07,   8.46609703e-08,   3.86491968e-08,\n",
       "         1.73212515e-08])"
      ]
     },
     "execution_count": 123,
     "metadata": {},
     "output_type": "execute_result"
    }
   ],
   "source": [
    "data[0]"
   ]
  },
  {
   "cell_type": "code",
   "execution_count": 126,
   "metadata": {
    "collapsed": false
   },
   "outputs": [
    {
     "data": {
      "text/plain": [
       "(18,)"
      ]
     },
     "execution_count": 126,
     "metadata": {},
     "output_type": "execute_result"
    }
   ],
   "source": [
    "set1[1].shape"
   ]
  },
  {
   "cell_type": "code",
   "execution_count": 127,
   "metadata": {
    "collapsed": true
   },
   "outputs": [],
   "source": [
    "fr = np.array([[1,2,3],[4,5,6]])"
   ]
  },
  {
   "cell_type": "code",
   "execution_count": 128,
   "metadata": {
    "collapsed": false
   },
   "outputs": [
    {
     "data": {
      "text/plain": [
       "(2, 3)"
      ]
     },
     "execution_count": 128,
     "metadata": {},
     "output_type": "execute_result"
    }
   ],
   "source": [
    "fr.shape"
   ]
  },
  {
   "cell_type": "code",
   "execution_count": 129,
   "metadata": {
    "collapsed": false
   },
   "outputs": [
    {
     "data": {
      "text/plain": [
       "array([[1, 2, 3],\n",
       "       [4, 5, 6]])"
      ]
     },
     "execution_count": 129,
     "metadata": {},
     "output_type": "execute_result"
    }
   ],
   "source": [
    "fr"
   ]
  },
  {
   "cell_type": "code",
   "execution_count": 130,
   "metadata": {
    "collapsed": false
   },
   "outputs": [
    {
     "data": {
      "text/plain": [
       "array([4, 5, 6])"
      ]
     },
     "execution_count": 130,
     "metadata": {},
     "output_type": "execute_result"
    }
   ],
   "source": [
    "fr[1,]"
   ]
  },
  {
   "cell_type": "code",
   "execution_count": 131,
   "metadata": {
    "collapsed": false
   },
   "outputs": [
    {
     "data": {
      "text/plain": [
       "array([[1, 4],\n",
       "       [2, 5],\n",
       "       [3, 6]])"
      ]
     },
     "execution_count": 131,
     "metadata": {},
     "output_type": "execute_result"
    }
   ],
   "source": [
    "fr.T"
   ]
  },
  {
   "cell_type": "code",
   "execution_count": 132,
   "metadata": {
    "collapsed": false
   },
   "outputs": [
    {
     "data": {
      "text/plain": [
       "(3, 2)"
      ]
     },
     "execution_count": 132,
     "metadata": {},
     "output_type": "execute_result"
    }
   ],
   "source": [
    "fr.T.shape"
   ]
  },
  {
   "cell_type": "code",
   "execution_count": 133,
   "metadata": {
    "collapsed": false
   },
   "outputs": [
    {
     "data": {
      "text/plain": [
       "array([  7.05841083e-13,   1.93175670e-12,   5.19014493e-12,\n",
       "         1.36895164e-11,   3.54469028e-11,   9.01052397e-11,\n",
       "         2.24855421e-10,   5.50856200e-10,   1.32481332e-09,\n",
       "         3.12789881e-09,   7.24990419e-09,   1.64965605e-08,\n",
       "         3.68498823e-08,   8.08091188e-08,   1.73966730e-07,\n",
       "         3.67666106e-07,   7.62820848e-07,   1.55372115e-06,\n",
       "         3.10674182e-06,   6.09844085e-06,   1.17520608e-05,\n",
       "         2.22326285e-05,   4.12904063e-05,   7.52816388e-05,\n",
       "         1.34744342e-04,   2.36762859e-04,   4.08411701e-04,\n",
       "         6.91614902e-04,   1.14977291e-03,   1.87646888e-03,\n",
       "         3.00643782e-03,   4.72873143e-03,   7.30161007e-03,\n",
       "         1.10681284e-02,   1.64706714e-02,   2.40619037e-02,\n",
       "         3.45088295e-02,   4.85860998e-02,   6.71545450e-02,\n",
       "         9.11213926e-02,   1.21379921e-01,   1.58728502e-01,\n",
       "         2.03772018e-01,   2.56812253e-01,   3.17737519e-01,\n",
       "         3.85924921e-01,   4.60170434e-01,   5.38661782e-01,\n",
       "         6.19006457e-01,   6.98322058e-01,   7.73388847e-01,\n",
       "         8.40855974e-01,   8.97484357e-01,   9.40402392e-01,\n",
       "         9.67346639e-01,   9.76859475e-01,   9.68419719e-01,\n",
       "         9.42489931e-01,   9.00474416e-01,   8.44593241e-01,\n",
       "         7.77687985e-01,   7.02982869e-01,   6.23829141e-01,\n",
       "         5.43460694e-01,   4.64785086e-01,   3.90227429e-01,\n",
       "         3.21636233e-01,   2.60251778e-01,   2.06730239e-01,\n",
       "         1.61211446e-01,   1.23415386e-01,   9.27522170e-02,\n",
       "         6.84322562e-02,   4.95654419e-02,   3.52434707e-02,\n",
       "         2.46014057e-02,   1.68586479e-02,   1.13414118e-02,\n",
       "         7.49019399e-03,   4.85624484e-03,   3.09093341e-03,\n",
       "         1.93134690e-03,   1.18471119e-03,   7.13421603e-04,\n",
       "         4.21756308e-04,   2.44770166e-04,   1.39455916e-04,\n",
       "         7.80004245e-05,   4.28290611e-05,   2.30866919e-05,\n",
       "         1.22170520e-05,   6.34676919e-06,   3.23683492e-06,\n",
       "         1.62057808e-06,   7.96527793e-07,   3.84338130e-07,\n",
       "         1.82057081e-07,   8.46609703e-08,   3.86491968e-08,\n",
       "         1.73212515e-08])"
      ]
     },
     "execution_count": 133,
     "metadata": {},
     "output_type": "execute_result"
    }
   ],
   "source": [
    "data[0]"
   ]
  },
  {
   "cell_type": "code",
   "execution_count": 135,
   "metadata": {
    "collapsed": false
   },
   "outputs": [
    {
     "ename": "TypeError",
     "evalue": "list indices must be integers or slices, not tuple",
     "output_type": "error",
     "traceback": [
      "\u001b[0;31m---------------------------------------------------------------------------\u001b[0m",
      "\u001b[0;31mTypeError\u001b[0m                                 Traceback (most recent call last)",
      "\u001b[0;32m<ipython-input-135-5911e790dad1>\u001b[0m in \u001b[0;36m<module>\u001b[0;34m()\u001b[0m\n\u001b[0;32m----> 1\u001b[0;31m \u001b[0mdata\u001b[0m\u001b[0;34m[\u001b[0m\u001b[0;36m0\u001b[0m\u001b[0;34m,\u001b[0m\u001b[0;34m]\u001b[0m\u001b[0;34m\u001b[0m\u001b[0m\n\u001b[0m",
      "\u001b[0;31mTypeError\u001b[0m: list indices must be integers or slices, not tuple"
     ]
    }
   ],
   "source": [
    "data[0,]"
   ]
  },
  {
   "cell_type": "code",
   "execution_count": 136,
   "metadata": {
    "collapsed": false
   },
   "outputs": [
    {
     "data": {
      "text/plain": [
       "list"
      ]
     },
     "execution_count": 136,
     "metadata": {},
     "output_type": "execute_result"
    }
   ],
   "source": [
    "type(data)"
   ]
  },
  {
   "cell_type": "code",
   "execution_count": 138,
   "metadata": {
    "collapsed": false
   },
   "outputs": [
    {
     "data": {
      "text/plain": [
       "(10, 18)"
      ]
     },
     "execution_count": 138,
     "metadata": {},
     "output_type": "execute_result"
    }
   ],
   "source": [
    "set2.shape"
   ]
  },
  {
   "cell_type": "code",
   "execution_count": 139,
   "metadata": {
    "collapsed": false
   },
   "outputs": [
    {
     "data": {
      "text/plain": [
       "numpy.ndarray"
      ]
     },
     "execution_count": 139,
     "metadata": {},
     "output_type": "execute_result"
    }
   ],
   "source": [
    "type(set2)"
   ]
  },
  {
   "cell_type": "code",
   "execution_count": 141,
   "metadata": {
    "collapsed": false
   },
   "outputs": [
    {
     "ename": "SyntaxError",
     "evalue": "invalid syntax (<ipython-input-141-478a4504cf3f>, line 1)",
     "output_type": "error",
     "traceback": [
      "\u001b[0;36m  File \u001b[0;32m\"<ipython-input-141-478a4504cf3f>\"\u001b[0;36m, line \u001b[0;32m1\u001b[0m\n\u001b[0;31m    set2[,2]\u001b[0m\n\u001b[0m         ^\u001b[0m\n\u001b[0;31mSyntaxError\u001b[0m\u001b[0;31m:\u001b[0m invalid syntax\n"
     ]
    }
   ],
   "source": [
    "set2[,2]"
   ]
  },
  {
   "cell_type": "code",
   "execution_count": 142,
   "metadata": {
    "collapsed": false
   },
   "outputs": [
    {
     "data": {
      "text/plain": [
       "array([ 0.00849306,  0.00782967,  0.00792559,  0.00750243,  0.00805803,\n",
       "        0.00837122,  0.0082032 ,  0.0075961 ,  0.00823683,  0.00801749])"
      ]
     },
     "execution_count": 142,
     "metadata": {},
     "output_type": "execute_result"
    }
   ],
   "source": [
    "set2[:,2]"
   ]
  },
  {
   "cell_type": "code",
   "execution_count": 143,
   "metadata": {
    "collapsed": false
   },
   "outputs": [
    {
     "data": {
      "text/plain": [
       "2"
      ]
     },
     "execution_count": 143,
     "metadata": {},
     "output_type": "execute_result"
    }
   ],
   "source": [
    "set2.ndim"
   ]
  },
  {
   "cell_type": "code",
   "execution_count": 144,
   "metadata": {
    "collapsed": false
   },
   "outputs": [
    {
     "data": {
      "text/plain": [
       "<lmfit.ExpressionModel('(k1*x)/(1 + k1*x)')>"
      ]
     },
     "execution_count": 144,
     "metadata": {},
     "output_type": "execute_result"
    }
   ],
   "source": [
    "klotz1"
   ]
  },
  {
   "cell_type": "code",
   "execution_count": 146,
   "metadata": {
    "collapsed": false
   },
   "outputs": [
    {
     "data": {
      "text/plain": [
       "numpy.ndarray"
      ]
     },
     "execution_count": 146,
     "metadata": {},
     "output_type": "execute_result"
    }
   ],
   "source": [
    "type(set2)"
   ]
  },
  {
   "cell_type": "code",
   "execution_count": 149,
   "metadata": {
    "collapsed": true
   },
   "outputs": [],
   "source": [
    "set3 = set2.flatten()"
   ]
  },
  {
   "cell_type": "code",
   "execution_count": 150,
   "metadata": {
    "collapsed": false
   },
   "outputs": [
    {
     "data": {
      "text/plain": [
       "array([ 0.00190488,  0.00415741,  0.00849306,  0.01546561,  0.02968242,\n",
       "        0.0574013 ,  0.1080536 ,  0.21305256,  0.32608562,  0.48003009,\n",
       "        0.68032108,  0.8716603 ,  0.8471923 ,  0.94681748,  1.06011751,\n",
       "        0.96955635,  1.11531163,  1.03354773,  0.00185726,  0.00402342,\n",
       "        0.00782967,  0.01585551,  0.03241434,  0.06028141,  0.09943353,\n",
       "        0.21766275,  0.33472913,  0.5100246 ,  0.64215578,  0.80603054,\n",
       "        0.89982256,  0.94269419,  0.93852915,  1.01255491,  1.01058791,\n",
       "        1.01150045,  0.00178815,  0.00361317,  0.00792559,  0.01527696,\n",
       "        0.03448961,  0.06287926,  0.10782834,  0.20858339,  0.32785691,\n",
       "        0.53122622,  0.64462611,  0.81596332,  0.89951975,  0.93141582,\n",
       "        0.87237708,  0.88014494,  0.98114763,  0.99923889,  0.00192043,\n",
       "        0.00390808,  0.00750243,  0.01479432,  0.028651  ,  0.05969035,\n",
       "        0.11143648,  0.21199221,  0.36021982,  0.50740223,  0.65392425,\n",
       "        0.72971958,  0.88757335,  0.93366427,  0.96320383,  0.92968075,\n",
       "        0.98215111,  0.98719227,  0.001822  ,  0.00422242,  0.00805803,\n",
       "        0.01456726,  0.03162013,  0.05765676,  0.11682875,  0.19387262,\n",
       "        0.33638417,  0.52183012,  0.77848115,  0.81831449,  0.96045529,\n",
       "        1.00894651,  0.9745516 ,  0.9593168 ,  1.00723586,  0.92915922,\n",
       "        0.00194979,  0.00402877,  0.00837122,  0.01532371,  0.03035009,\n",
       "        0.05999765,  0.11504477,  0.20386084,  0.34128335,  0.52877853,\n",
       "        0.67351585,  0.77613706,  0.93311809,  0.95296295,  0.95410367,\n",
       "        0.97220135,  0.96777282,  0.93799391,  0.00198979,  0.00383409,\n",
       "        0.0082032 ,  0.01782803,  0.02979903,  0.06005452,  0.1201035 ,\n",
       "        0.20609007,  0.3488284 ,  0.5231285 ,  0.69094064,  0.76334193,\n",
       "        0.8748488 ,  0.9159663 ,  0.97774823,  0.98644318,  0.99588262,\n",
       "        0.95984449,  0.00197625,  0.00394588,  0.0075961 ,  0.01651749,\n",
       "        0.03140352,  0.06089304,  0.11193995,  0.20177287,  0.34080538,\n",
       "        0.53193932,  0.6860253 ,  0.83198771,  0.92303228,  1.00537379,\n",
       "        1.02219123,  0.88702194,  0.99757592,  1.01274007,  0.00217662,\n",
       "        0.0045683 ,  0.00823683,  0.01410466,  0.03203398,  0.06414598,\n",
       "        0.1127612 ,  0.20288905,  0.32553242,  0.53795063,  0.66123487,\n",
       "        0.79370191,  0.91733168,  0.91198019,  0.95899137,  0.98935676,\n",
       "        0.9762548 ,  1.0011631 ,  0.00205138,  0.00384411,  0.00801749,\n",
       "        0.01486881,  0.03195499,  0.06113801,  0.11587486,  0.18475171,\n",
       "        0.34100632,  0.50554872,  0.69224864,  0.80183404,  0.93706587,\n",
       "        1.02450398,  1.00804239,  1.00853782,  1.02337415,  1.0024836 ])"
      ]
     },
     "execution_count": 150,
     "metadata": {},
     "output_type": "execute_result"
    }
   ],
   "source": [
    "set3"
   ]
  },
  {
   "cell_type": "code",
   "execution_count": 152,
   "metadata": {
    "collapsed": false
   },
   "outputs": [
    {
     "ename": "ValueError",
     "evalue": "max() arg is an empty sequence",
     "output_type": "error",
     "traceback": [
      "\u001b[0;31m---------------------------------------------------------------------------\u001b[0m",
      "\u001b[0;31mValueError\u001b[0m                                Traceback (most recent call last)",
      "\u001b[0;32m<ipython-input-152-22c3e8082243>\u001b[0m in \u001b[0;36m<module>\u001b[0;34m()\u001b[0m\n\u001b[0;32m----> 1\u001b[0;31m \u001b[0mklotz1\u001b[0m\u001b[0;34m.\u001b[0m\u001b[0mprint_param_hints\u001b[0m\u001b[0;34m(\u001b[0m\u001b[0;34m)\u001b[0m\u001b[0;34m\u001b[0m\u001b[0m\n\u001b[0m",
      "\u001b[0;32m/Users/michael/miniconda3/envs/fitter/lib/python3.5/site-packages/lmfit/model.py\u001b[0m in \u001b[0;36mprint_param_hints\u001b[0;34m(self, colwidth)\u001b[0m\n\u001b[1;32m    249\u001b[0m         \u001b[0;32mexcept\u001b[0m \u001b[0;32mfor\u001b[0m \u001b[0mfirst\u001b[0m \u001b[0;32mand\u001b[0m \u001b[0mlast\u001b[0m \u001b[0mcolumns\u001b[0m\u001b[0;34m.\u001b[0m\u001b[0;34m\u001b[0m\u001b[0m\n\u001b[1;32m    250\u001b[0m         \"\"\"\n\u001b[0;32m--> 251\u001b[0;31m         \u001b[0mname_len\u001b[0m \u001b[0;34m=\u001b[0m \u001b[0mmax\u001b[0m\u001b[0;34m(\u001b[0m\u001b[0mlen\u001b[0m\u001b[0;34m(\u001b[0m\u001b[0ms\u001b[0m\u001b[0;34m)\u001b[0m \u001b[0;32mfor\u001b[0m \u001b[0ms\u001b[0m \u001b[0;32min\u001b[0m \u001b[0mself\u001b[0m\u001b[0;34m.\u001b[0m\u001b[0mparam_hints\u001b[0m\u001b[0;34m)\u001b[0m\u001b[0;34m\u001b[0m\u001b[0m\n\u001b[0m\u001b[1;32m    252\u001b[0m         print('{:{name_len}}  {:>{n}} {:>{n}} {:>{n}} {:>{n}}    {:{n}}'\n\u001b[1;32m    253\u001b[0m               .format('Name', 'Value', 'Min', 'Max', 'Vary', 'Expr',\n",
      "\u001b[0;31mValueError\u001b[0m: max() arg is an empty sequence"
     ]
    }
   ],
   "source": [
    "klotz1.print_param_hints()"
   ]
  },
  {
   "cell_type": "code",
   "execution_count": 153,
   "metadata": {
    "collapsed": true
   },
   "outputs": [],
   "source": [
    "B1 = set2[1]"
   ]
  },
  {
   "cell_type": "code",
   "execution_count": 154,
   "metadata": {
    "collapsed": false
   },
   "outputs": [
    {
     "data": {
      "text/plain": [
       "array([ 0.00185726,  0.00402342,  0.00782967,  0.01585551,  0.03241434,\n",
       "        0.06028141,  0.09943353,  0.21766275,  0.33472913,  0.5100246 ,\n",
       "        0.64215578,  0.80603054,  0.89982256,  0.94269419,  0.93852915,\n",
       "        1.01255491,  1.01058791,  1.01150045])"
      ]
     },
     "execution_count": 154,
     "metadata": {},
     "output_type": "execute_result"
    }
   ],
   "source": [
    "B1"
   ]
  },
  {
   "cell_type": "code",
   "execution_count": 155,
   "metadata": {
    "collapsed": false
   },
   "outputs": [
    {
     "data": {
      "text/plain": [
       "array([  1.00000000e-03,   2.00000000e-03,   4.00000000e-03,\n",
       "         8.00000000e-03,   1.60000000e-02,   3.20000000e-02,\n",
       "         6.40000000e-02,   1.28000000e-01,   2.56000000e-01,\n",
       "         5.12000000e-01,   1.02400000e+00,   2.04800000e+00,\n",
       "         4.09600000e+00,   8.19200000e+00,   1.63840000e+01,\n",
       "         3.27680000e+01,   6.55360000e+01,   1.31072000e+02])"
      ]
     },
     "execution_count": 155,
     "metadata": {},
     "output_type": "execute_result"
    }
   ],
   "source": [
    "L"
   ]
  },
  {
   "cell_type": "code",
   "execution_count": 156,
   "metadata": {
    "collapsed": true
   },
   "outputs": [],
   "source": [
    "result = klotz1.fit(B1, x=L, k1=10)"
   ]
  },
  {
   "cell_type": "code",
   "execution_count": 157,
   "metadata": {
    "collapsed": false
   },
   "outputs": [
    {
     "data": {
      "text/plain": [
       "<lmfit.model.ModelResult at 0x111c91550>"
      ]
     },
     "execution_count": 157,
     "metadata": {},
     "output_type": "execute_result"
    }
   ],
   "source": [
    "result"
   ]
  },
  {
   "cell_type": "code",
   "execution_count": 158,
   "metadata": {
    "collapsed": false
   },
   "outputs": [
    {
     "name": "stdout",
     "output_type": "stream",
     "text": [
      "[[Model]]\n",
      "    Model(_eval)\n",
      "[[Fit Statistics]]\n",
      "    # function evals   = 18\n",
      "    # data points      = 18\n",
      "    # variables        = 1\n",
      "    chi-square         = 0.004\n",
      "    reduced chi-square = 0.000\n",
      "    Akaike info crit   = -151.123\n",
      "    Bayesian info crit = -150.233\n",
      "[[Variables]]\n",
      "    k1:   1.96156525 +/- 0.058515 (2.98%) (init= 10)\n",
      "[[Correlations]] (unreported correlations are <  0.100)\n",
      "\n"
     ]
    }
   ],
   "source": [
    "print(result.fit_report())"
   ]
  },
  {
   "cell_type": "code",
   "execution_count": 160,
   "metadata": {
    "collapsed": false
   },
   "outputs": [
    {
     "data": {
      "text/plain": [
       "[<matplotlib.lines.Line2D at 0x111f52908>]"
      ]
     },
     "execution_count": 160,
     "metadata": {},
     "output_type": "execute_result"
    },
    {
     "data": {
      "image/png": "[encoded data removed]",
      "text/plain": [
       "<matplotlib.figure.Figure at 0x1118eba90>"
      ]
     },
     "metadata": {},
     "output_type": "display_data"
    }
   ],
   "source": [
    "plt.semilogx(L,B1,'bo')\n",
    "plt.semilogx(L,result.init_fit, 'k--')\n",
    "plt.semilogx(L, result.best_fit, 'r-')"
   ]
  },
  {
   "cell_type": "code",
   "execution_count": 162,
   "metadata": {
    "collapsed": false
   },
   "outputs": [],
   "source": [
    "Lt = np.append(L,L)"
   ]
  },
  {
   "cell_type": "code",
   "execution_count": 163,
   "metadata": {
    "collapsed": true
   },
   "outputs": [],
   "source": [
    "Bt = np.append(set2[1],set2[2])"
   ]
  },
  {
   "cell_type": "code",
   "execution_count": 164,
   "metadata": {
    "collapsed": false
   },
   "outputs": [
    {
     "data": {
      "text/plain": [
       "array([ 0.00185726,  0.00402342,  0.00782967,  0.01585551,  0.03241434,\n",
       "        0.06028141,  0.09943353,  0.21766275,  0.33472913,  0.5100246 ,\n",
       "        0.64215578,  0.80603054,  0.89982256,  0.94269419,  0.93852915,\n",
       "        1.01255491,  1.01058791,  1.01150045,  0.00178815,  0.00361317,\n",
       "        0.00792559,  0.01527696,  0.03448961,  0.06287926,  0.10782834,\n",
       "        0.20858339,  0.32785691,  0.53122622,  0.64462611,  0.81596332,\n",
       "        0.89951975,  0.93141582,  0.87237708,  0.88014494,  0.98114763,\n",
       "        0.99923889])"
      ]
     },
     "execution_count": 164,
     "metadata": {},
     "output_type": "execute_result"
    }
   ],
   "source": [
    "Bt"
   ]
  },
  {
   "cell_type": "code",
   "execution_count": 165,
   "metadata": {
    "collapsed": false
   },
   "outputs": [
    {
     "data": {
      "text/plain": [
       "(36,)"
      ]
     },
     "execution_count": 165,
     "metadata": {},
     "output_type": "execute_result"
    }
   ],
   "source": [
    "Bt.shape"
   ]
  },
  {
   "cell_type": "code",
   "execution_count": 166,
   "metadata": {
    "collapsed": false
   },
   "outputs": [
    {
     "data": {
      "text/plain": [
       "(36,)"
      ]
     },
     "execution_count": 166,
     "metadata": {},
     "output_type": "execute_result"
    }
   ],
   "source": [
    "Lt.shape"
   ]
  },
  {
   "cell_type": "code",
   "execution_count": 173,
   "metadata": {
    "collapsed": true
   },
   "outputs": [],
   "source": [
    "result = klotz1.fit(Bt, x=Lt, k1=10)"
   ]
  },
  {
   "cell_type": "code",
   "execution_count": 174,
   "metadata": {
    "collapsed": false
   },
   "outputs": [
    {
     "name": "stdout",
     "output_type": "stream",
     "text": [
      "[[Model]]\n",
      "    Model(_eval)\n",
      "[[Fit Statistics]]\n",
      "    # function evals   = 18\n",
      "    # data points      = 36\n",
      "    # variables        = 1\n",
      "    chi-square         = 0.026\n",
      "    reduced chi-square = 0.001\n",
      "    Akaike info crit   = -258.094\n",
      "    Bayesian info crit = -256.511\n",
      "[[Variables]]\n",
      "    k1:   1.96411833 +/- 0.077518 (3.95%) (init= 10)\n",
      "[[Correlations]] (unreported correlations are <  0.100)\n",
      "\n"
     ]
    }
   ],
   "source": [
    "print(result.fit_report())"
   ]
  },
  {
   "cell_type": "code",
   "execution_count": 172,
   "metadata": {
    "collapsed": false
   },
   "outputs": [
    {
     "data": {
      "text/plain": [
       "[<matplotlib.lines.Line2D at 0x11260ff98>]"
      ]
     },
     "execution_count": 172,
     "metadata": {},
     "output_type": "execute_result"
    },
    {
     "data": {
      "image/png": "[encoded data removed]",
      "text/plain": [
       "<matplotlib.figure.Figure at 0x110610b38>"
      ]
     },
     "metadata": {},
     "output_type": "display_data"
    }
   ],
   "source": [
    "plt.semilogx(Lt,Bt,'bo')"
   ]
  },
  {
   "cell_type": "code",
   "execution_count": 175,
   "metadata": {
    "collapsed": false
   },
   "outputs": [
    {
     "data": {
      "text/plain": [
       "array([ 0.002,  0.004,  0.008,  0.016,  0.032,  0.064,  0.128,  0.256,\n",
       "        0.512])"
      ]
     },
     "execution_count": 175,
     "metadata": {},
     "output_type": "execute_result"
    }
   ],
   "source": [
    "Lt[1:10]"
   ]
  },
  {
   "cell_type": "code",
   "execution_count": 176,
   "metadata": {
    "collapsed": false
   },
   "outputs": [
    {
     "data": {
      "text/plain": [
       "36"
      ]
     },
     "execution_count": 176,
     "metadata": {},
     "output_type": "execute_result"
    }
   ],
   "source": [
    "len(Lt)"
   ]
  },
  {
   "cell_type": "code",
   "execution_count": 177,
   "metadata": {
    "collapsed": false
   },
   "outputs": [
    {
     "data": {
      "text/plain": [
       "array([  1.00000000e-03,   2.00000000e-03,   4.00000000e-03,\n",
       "         8.00000000e-03,   1.60000000e-02,   3.20000000e-02,\n",
       "         6.40000000e-02,   1.28000000e-01,   2.56000000e-01,\n",
       "         5.12000000e-01,   1.02400000e+00,   2.04800000e+00,\n",
       "         4.09600000e+00,   8.19200000e+00,   1.63840000e+01,\n",
       "         3.27680000e+01,   6.55360000e+01])"
      ]
     },
     "execution_count": 177,
     "metadata": {},
     "output_type": "execute_result"
    }
   ],
   "source": [
    "Lt[0:17]"
   ]
  },
  {
   "cell_type": "code",
   "execution_count": 178,
   "metadata": {
    "collapsed": false
   },
   "outputs": [
    {
     "data": {
      "text/plain": [
       "0.001"
      ]
     },
     "execution_count": 178,
     "metadata": {},
     "output_type": "execute_result"
    }
   ],
   "source": [
    "Lt[0]"
   ]
  },
  {
   "cell_type": "code",
   "execution_count": 179,
   "metadata": {
    "collapsed": false
   },
   "outputs": [
    {
     "data": {
      "text/plain": [
       "array([  1.00000000e-03,   2.00000000e-03,   4.00000000e-03,\n",
       "         8.00000000e-03,   1.60000000e-02,   3.20000000e-02,\n",
       "         6.40000000e-02,   1.28000000e-01,   2.56000000e-01,\n",
       "         5.12000000e-01,   1.02400000e+00,   2.04800000e+00,\n",
       "         4.09600000e+00,   8.19200000e+00,   1.63840000e+01,\n",
       "         3.27680000e+01,   6.55360000e+01,   1.31072000e+02])"
      ]
     },
     "execution_count": 179,
     "metadata": {},
     "output_type": "execute_result"
    }
   ],
   "source": [
    "Lt[0:18]"
   ]
  },
  {
   "cell_type": "code",
   "execution_count": 180,
   "metadata": {
    "collapsed": false
   },
   "outputs": [
    {
     "data": {
      "text/plain": [
       "array([  2.00000000e-03,   4.00000000e-03,   8.00000000e-03,\n",
       "         1.60000000e-02,   3.20000000e-02,   6.40000000e-02,\n",
       "         1.28000000e-01,   2.56000000e-01,   5.12000000e-01,\n",
       "         1.02400000e+00,   2.04800000e+00,   4.09600000e+00,\n",
       "         8.19200000e+00,   1.63840000e+01,   3.27680000e+01,\n",
       "         6.55360000e+01,   1.31072000e+02])"
      ]
     },
     "execution_count": 180,
     "metadata": {},
     "output_type": "execute_result"
    }
   ],
   "source": [
    "Lt[19:36]"
   ]
  },
  {
   "cell_type": "code",
   "execution_count": 181,
   "metadata": {
    "collapsed": true
   },
   "outputs": [],
   "source": [
    "def gauss(x, amp, cen, sigma):\n",
    "    \"basic gaussian\"\n",
    "    return amp*np.exp(-(x-cen)**2/(2.*sigma**2))"
   ]
  },
  {
   "cell_type": "code",
   "execution_count": 182,
   "metadata": {
    "collapsed": true
   },
   "outputs": [],
   "source": [
    "def gauss_dataset(params, i, x):\n",
    "    \"\"\"calc gaussian from params for data set i\n",
    "    using simple, hardwired naming convention\"\"\"\n",
    "    amp = params['amp_%i' % (i+1)].value\n",
    "    cen = params['cen_%i' % (i+1)].value\n",
    "    sig = params['sig_%i' % (i+1)].value\n",
    "    return gauss(x, amp, cen, sig)"
   ]
  },
  {
   "cell_type": "code",
   "execution_count": 183,
   "metadata": {
    "collapsed": true
   },
   "outputs": [],
   "source": [
    "def objective(params, x, data):\n",
    "    \"\"\" calculate total residual for fits to several data sets held\n",
    "    in a 2-D array, and modeled by Gaussian functions\"\"\"\n",
    "    ndata, nx = data.shape\n",
    "    resid = 0.0*data[:]\n",
    "    # make residual per data set\n",
    "    for i in range(ndata):\n",
    "        resid[i, :] = data[i, :] - gauss_dataset(params, i, x)\n",
    "    # now flatten this to a 1D array, as minimize() needs\n",
    "    return resid.flatten()"
   ]
  },
  {
   "cell_type": "code",
   "execution_count": 184,
   "metadata": {
    "collapsed": true
   },
   "outputs": [],
   "source": [
    "# create 5 datasets\n",
    "x  = np.linspace( -1, 2, 151)\n",
    "data = []\n",
    "for i in np.arange(5):\n",
    "    params = lmfit.Parameters()\n",
    "    amp   =  0.60 + 9.50*np.random.rand()\n",
    "    cen   = -0.20 + 1.20*np.random.rand()\n",
    "    sig   =  0.25 + 0.03*np.random.rand()\n",
    "    dat   = gauss(x, amp, cen, sig) + np.random.normal(size=len(x), scale=0.1)\n",
    "    data.append(dat)"
   ]
  },
  {
   "cell_type": "code",
   "execution_count": 185,
   "metadata": {
    "collapsed": false
   },
   "outputs": [
    {
     "data": {
      "text/plain": [
       "list"
      ]
     },
     "execution_count": 185,
     "metadata": {},
     "output_type": "execute_result"
    }
   ],
   "source": [
    "type(data)"
   ]
  },
  {
   "cell_type": "code",
   "execution_count": 186,
   "metadata": {
    "collapsed": true
   },
   "outputs": [],
   "source": [
    "partest = lmfit.Parameters()"
   ]
  },
  {
   "cell_type": "code",
   "execution_count": 187,
   "metadata": {
    "collapsed": false
   },
   "outputs": [
    {
     "data": {
      "text/plain": [
       "Parameters()"
      ]
     },
     "execution_count": 187,
     "metadata": {},
     "output_type": "execute_result"
    }
   ],
   "source": [
    "partest"
   ]
  },
  {
   "cell_type": "code",
   "execution_count": 188,
   "metadata": {
    "collapsed": true
   },
   "outputs": [],
   "source": [
    "partest.add(\"var1\", value=3)"
   ]
  },
  {
   "cell_type": "code",
   "execution_count": 190,
   "metadata": {
    "collapsed": false
   },
   "outputs": [
    {
     "data": {
      "text/plain": [
       "Parameters([('var1', <Parameter 'var1', 3, bounds=[-inf:inf]>)])"
      ]
     },
     "execution_count": 190,
     "metadata": {},
     "output_type": "execute_result"
    }
   ],
   "source": [
    "partest"
   ]
  },
  {
   "cell_type": "code",
   "execution_count": 193,
   "metadata": {
    "collapsed": false
   },
   "outputs": [
    {
     "data": {
      "text/plain": [
       "3"
      ]
     },
     "execution_count": 193,
     "metadata": {},
     "output_type": "execute_result"
    }
   ],
   "source": [
    "partest['var1'].value"
   ]
  },
  {
   "cell_type": "code",
   "execution_count": 194,
   "metadata": {
    "collapsed": false
   },
   "outputs": [
    {
     "data": {
      "text/plain": [
       "array([ 0.14748022, -0.07402191, -0.07350592, -0.00445826,  0.12435918,\n",
       "        0.06879514, -0.23210413, -0.03872331, -0.19800062, -0.01427426,\n",
       "       -0.07369884,  0.11921522,  0.13934621, -0.22768221,  0.09278859,\n",
       "        0.11645887,  0.0493804 ,  0.07920532,  0.05429932,  0.26856451,\n",
       "        0.00765641, -0.14888236, -0.1095844 ,  0.17837114,  0.16729837,\n",
       "        0.15370568, -0.06170114,  0.03099531, -0.045923  , -0.07148508,\n",
       "       -0.07990296, -0.17611056,  0.16517192, -0.10673504, -0.15158825,\n",
       "        0.25474816,  0.13704941,  0.15286855, -0.08575238, -0.09245689,\n",
       "       -0.12751548, -0.02328526,  0.03812611,  0.12659185,  0.05528262,\n",
       "        0.16152572, -0.04398801, -0.05332619, -0.06332381,  0.03465202,\n",
       "        0.04426825,  0.15479373,  0.1688528 , -0.04419426,  0.10265654,\n",
       "        0.11159048, -0.0367468 ,  0.16622435, -0.06411463,  0.18563997,\n",
       "        0.35431445,  0.40453789,  0.56443525,  0.39312404,  0.41224254,\n",
       "        0.68648331,  0.45990723,  1.00642702,  0.92582121,  0.89038692,\n",
       "        1.1954045 ,  1.1924339 ,  1.31102625,  1.31629205,  1.54998308,\n",
       "        1.60629773,  1.66132578,  2.10406922,  1.88610807,  2.06964271,\n",
       "        2.35585531,  2.30418634,  2.40864008,  2.3965763 ,  2.47312467,\n",
       "        2.52626285,  2.90152475,  2.72282322,  2.60688075,  2.54959537,\n",
       "        2.59735175,  2.62273309,  2.5499903 ,  2.52188923,  2.4608033 ,\n",
       "        2.44243592,  2.35239702,  2.16005008,  1.91296493,  2.0226006 ,\n",
       "        1.8570538 ,  1.73692292,  1.41458763,  1.44275205,  1.55667156,\n",
       "        1.43552283,  1.23924048,  1.02021997,  0.93621499,  0.79274267,\n",
       "        0.85178532,  0.6251263 ,  0.73312909,  0.39479722,  0.46358522,\n",
       "        0.49355992,  0.35501117,  0.21405561,  0.11970101,  0.15394495,\n",
       "        0.20044723,  0.19920862,  0.13345713,  0.1552916 ,  0.0264508 ,\n",
       "       -0.12948599, -0.07962031, -0.07158898,  0.15087346,  0.0187591 ,\n",
       "        0.04305166,  0.03461593, -0.1236352 ,  0.01379244,  0.06171818,\n",
       "       -0.02629614,  0.01138209,  0.1105118 ,  0.01304766,  0.01797196,\n",
       "        0.17031385, -0.08528643,  0.01805102, -0.14732329, -0.10048292,\n",
       "        0.09261163, -0.13363885,  0.01218582, -0.05520795, -0.17921981,\n",
       "       -0.01694227])"
      ]
     },
     "execution_count": 194,
     "metadata": {},
     "output_type": "execute_result"
    }
   ],
   "source": [
    "data[0]"
   ]
  },
  {
   "cell_type": "code",
   "execution_count": 195,
   "metadata": {
    "collapsed": false
   },
   "outputs": [
    {
     "data": {
      "text/plain": [
       "5"
      ]
     },
     "execution_count": 195,
     "metadata": {},
     "output_type": "execute_result"
    }
   ],
   "source": [
    "len(data)"
   ]
  },
  {
   "cell_type": "code",
   "execution_count": 196,
   "metadata": {
    "collapsed": false
   },
   "outputs": [
    {
     "data": {
      "image/png": "[encoded data removed]",
      "text/plain": [
       "<matplotlib.figure.Figure at 0x112f015f8>"
      ]
     },
     "metadata": {},
     "output_type": "display_data"
    }
   ],
   "source": [
    "for i in data:\n",
    "    plt.plot(x,i)"
   ]
  },
  {
   "cell_type": "code",
   "execution_count": 197,
   "metadata": {
    "collapsed": false
   },
   "outputs": [
    {
     "data": {
      "text/plain": [
       "array([0, 1, 2, 3, 4])"
      ]
     },
     "execution_count": 197,
     "metadata": {},
     "output_type": "execute_result"
    }
   ],
   "source": [
    "np.arange(5)"
   ]
  },
  {
   "cell_type": "code",
   "execution_count": 198,
   "metadata": {
    "collapsed": true
   },
   "outputs": [],
   "source": [
    "# data has shape (5, 151)\n",
    "data = np.array(data)\n",
    "assert(data.shape) == (5, 151)"
   ]
  },
  {
   "cell_type": "code",
   "execution_count": 199,
   "metadata": {
    "collapsed": true
   },
   "outputs": [],
   "source": [
    "assert(data.shape) == (5, 151)"
   ]
  },
  {
   "cell_type": "code",
   "execution_count": 200,
   "metadata": {
    "collapsed": false
   },
   "outputs": [
    {
     "data": {
      "text/plain": [
       "numpy.ndarray"
      ]
     },
     "execution_count": 200,
     "metadata": {},
     "output_type": "execute_result"
    }
   ],
   "source": [
    "type(data)"
   ]
  },
  {
   "cell_type": "code",
   "execution_count": 211,
   "metadata": {
    "collapsed": false
   },
   "outputs": [],
   "source": [
    "# create 5 sets of parameters, one per data set\n",
    "fit_params = lmfit.Parameters()\n",
    "for iy, y in enumerate(data):\n",
    "    fit_params.add( 'amp_%i' % (iy+1), value=0.5, min=0.0,  max=200)\n",
    "    fit_params.add( 'cen_%i' % (iy+1), value=0.4, min=-2.0,  max=2.0)\n",
    "    fit_params.add( 'sig_%i' % (iy+1), value=0.3, min=0.01, max=3.0)"
   ]
  },
  {
   "cell_type": "code",
   "execution_count": 212,
   "metadata": {
    "collapsed": false
   },
   "outputs": [
    {
     "data": {
      "text/plain": [
       "Parameters([('amp_1', <Parameter 'amp_1', 0.5, bounds=[0.0:200]>),\n",
       "            ('cen_1', <Parameter 'cen_1', 0.4, bounds=[-2.0:2.0]>),\n",
       "            ('sig_1', <Parameter 'sig_1', 0.3, bounds=[0.01:3.0]>),\n",
       "            ('amp_2', <Parameter 'amp_2', 0.5, bounds=[0.0:200]>),\n",
       "            ('cen_2', <Parameter 'cen_2', 0.4, bounds=[-2.0:2.0]>),\n",
       "            ('sig_2', <Parameter 'sig_2', 0.3, bounds=[0.01:3.0]>),\n",
       "            ('amp_3', <Parameter 'amp_3', 0.5, bounds=[0.0:200]>),\n",
       "            ('cen_3', <Parameter 'cen_3', 0.4, bounds=[-2.0:2.0]>),\n",
       "            ('sig_3', <Parameter 'sig_3', 0.3, bounds=[0.01:3.0]>),\n",
       "            ('amp_4', <Parameter 'amp_4', 0.5, bounds=[0.0:200]>),\n",
       "            ('cen_4', <Parameter 'cen_4', 0.4, bounds=[-2.0:2.0]>),\n",
       "            ('sig_4', <Parameter 'sig_4', 0.3, bounds=[0.01:3.0]>),\n",
       "            ('amp_5', <Parameter 'amp_5', 0.5, bounds=[0.0:200]>),\n",
       "            ('cen_5', <Parameter 'cen_5', 0.4, bounds=[-2.0:2.0]>),\n",
       "            ('sig_5', <Parameter 'sig_5', 0.3, bounds=[0.01:3.0]>)])"
      ]
     },
     "execution_count": 212,
     "metadata": {},
     "output_type": "execute_result"
    }
   ],
   "source": [
    "fit_params"
   ]
  },
  {
   "cell_type": "code",
   "execution_count": 215,
   "metadata": {
    "collapsed": false
   },
   "outputs": [
    {
     "data": {
      "text/plain": [
       "'string_5'"
      ]
     },
     "execution_count": 215,
     "metadata": {},
     "output_type": "execute_result"
    }
   ],
   "source": [
    "'string_%i' % 5"
   ]
  },
  {
   "cell_type": "code",
   "execution_count": 216,
   "metadata": {
    "collapsed": false
   },
   "outputs": [
    {
     "data": {
      "text/plain": [
       "'string_5'"
      ]
     },
     "execution_count": 216,
     "metadata": {},
     "output_type": "execute_result"
    }
   ],
   "source": [
    "'string_%d' % 5"
   ]
  },
  {
   "cell_type": "code",
   "execution_count": 217,
   "metadata": {
    "collapsed": false
   },
   "outputs": [
    {
     "data": {
      "text/plain": [
       "Parameters([('amp_1', <Parameter 'amp_1', 0.5, bounds=[0.0:200]>),\n",
       "            ('cen_1', <Parameter 'cen_1', 0.4, bounds=[-2.0:2.0]>),\n",
       "            ('sig_1', <Parameter 'sig_1', 0.3, bounds=[0.01:3.0]>),\n",
       "            ('amp_2', <Parameter 'amp_2', 0.5, bounds=[0.0:200]>),\n",
       "            ('cen_2', <Parameter 'cen_2', 0.4, bounds=[-2.0:2.0]>),\n",
       "            ('sig_2', <Parameter 'sig_2', 0.3, bounds=[0.01:3.0]>),\n",
       "            ('amp_3', <Parameter 'amp_3', 0.5, bounds=[0.0:200]>),\n",
       "            ('cen_3', <Parameter 'cen_3', 0.4, bounds=[-2.0:2.0]>),\n",
       "            ('sig_3', <Parameter 'sig_3', 0.3, bounds=[0.01:3.0]>),\n",
       "            ('amp_4', <Parameter 'amp_4', 0.5, bounds=[0.0:200]>),\n",
       "            ('cen_4', <Parameter 'cen_4', 0.4, bounds=[-2.0:2.0]>),\n",
       "            ('sig_4', <Parameter 'sig_4', 0.3, bounds=[0.01:3.0]>),\n",
       "            ('amp_5', <Parameter 'amp_5', 0.5, bounds=[0.0:200]>),\n",
       "            ('cen_5', <Parameter 'cen_5', 0.4, bounds=[-2.0:2.0]>),\n",
       "            ('sig_5', <Parameter 'sig_5', 0.3, bounds=[0.01:3.0]>)])"
      ]
     },
     "execution_count": 217,
     "metadata": {},
     "output_type": "execute_result"
    }
   ],
   "source": [
    "fit_params"
   ]
  },
  {
   "cell_type": "code",
   "execution_count": 218,
   "metadata": {
    "collapsed": true
   },
   "outputs": [],
   "source": [
    "for iy in (2, 3, 4, 5):\n",
    "    fit_params['sig_%i' % iy].expr='sig_1'"
   ]
  },
  {
   "cell_type": "code",
   "execution_count": 219,
   "metadata": {
    "collapsed": false
   },
   "outputs": [
    {
     "data": {
      "text/plain": [
       "Parameters([('amp_1', <Parameter 'amp_1', 0.5, bounds=[0.0:200]>),\n",
       "            ('cen_1', <Parameter 'cen_1', 0.4, bounds=[-2.0:2.0]>),\n",
       "            ('sig_1', <Parameter 'sig_1', 0.3, bounds=[0.01:3.0]>),\n",
       "            ('amp_2', <Parameter 'amp_2', 0.5, bounds=[0.0:200]>),\n",
       "            ('cen_2', <Parameter 'cen_2', 0.4, bounds=[-2.0:2.0]>),\n",
       "            ('sig_2',\n",
       "             <Parameter 'sig_2', 0.3, bounds=[0.01:3.0], expr='sig_1'>),\n",
       "            ('amp_3', <Parameter 'amp_3', 0.5, bounds=[0.0:200]>),\n",
       "            ('cen_3', <Parameter 'cen_3', 0.4, bounds=[-2.0:2.0]>),\n",
       "            ('sig_3',\n",
       "             <Parameter 'sig_3', 0.3, bounds=[0.01:3.0], expr='sig_1'>),\n",
       "            ('amp_4', <Parameter 'amp_4', 0.5, bounds=[0.0:200]>),\n",
       "            ('cen_4', <Parameter 'cen_4', 0.4, bounds=[-2.0:2.0]>),\n",
       "            ('sig_4',\n",
       "             <Parameter 'sig_4', 0.3, bounds=[0.01:3.0], expr='sig_1'>),\n",
       "            ('amp_5', <Parameter 'amp_5', 0.5, bounds=[0.0:200]>),\n",
       "            ('cen_5', <Parameter 'cen_5', 0.4, bounds=[-2.0:2.0]>),\n",
       "            ('sig_5',\n",
       "             <Parameter 'sig_5', 0.3, bounds=[0.01:3.0], expr='sig_1'>)])"
      ]
     },
     "execution_count": 219,
     "metadata": {},
     "output_type": "execute_result"
    }
   ],
   "source": [
    "fit_params"
   ]
  },
  {
   "cell_type": "code",
   "execution_count": 220,
   "metadata": {
    "collapsed": true
   },
   "outputs": [],
   "source": [
    "ndata, nx = data.shape"
   ]
  },
  {
   "cell_type": "code",
   "execution_count": 221,
   "metadata": {
    "collapsed": false
   },
   "outputs": [
    {
     "data": {
      "text/plain": [
       "5"
      ]
     },
     "execution_count": 221,
     "metadata": {},
     "output_type": "execute_result"
    }
   ],
   "source": [
    "ndata"
   ]
  },
  {
   "cell_type": "code",
   "execution_count": 222,
   "metadata": {
    "collapsed": false
   },
   "outputs": [
    {
     "data": {
      "text/plain": [
       "151"
      ]
     },
     "execution_count": 222,
     "metadata": {},
     "output_type": "execute_result"
    }
   ],
   "source": [
    "nx"
   ]
  },
  {
   "cell_type": "code",
   "execution_count": 223,
   "metadata": {
    "collapsed": false
   },
   "outputs": [
    {
     "data": {
      "text/plain": [
       "array([[  1.47480225e-01,  -7.40219092e-02,  -7.35059184e-02,\n",
       "         -4.45825941e-03,   1.24359180e-01,   6.87951356e-02,\n",
       "         -2.32104126e-01,  -3.87233071e-02,  -1.98000617e-01,\n",
       "         -1.42742603e-02,  -7.36988364e-02,   1.19215219e-01,\n",
       "          1.39346208e-01,  -2.27682214e-01,   9.27885896e-02,\n",
       "          1.16458867e-01,   4.93803963e-02,   7.92053214e-02,\n",
       "          5.42993227e-02,   2.68564509e-01,   7.65641477e-03,\n",
       "         -1.48882362e-01,  -1.09584405e-01,   1.78371137e-01,\n",
       "          1.67298372e-01,   1.53705684e-01,  -6.17011432e-02,\n",
       "          3.09953077e-02,  -4.59229996e-02,  -7.14850755e-02,\n",
       "         -7.99029550e-02,  -1.76110557e-01,   1.65171916e-01,\n",
       "         -1.06735044e-01,  -1.51588254e-01,   2.54748158e-01,\n",
       "          1.37049413e-01,   1.52868546e-01,  -8.57523789e-02,\n",
       "         -9.24568917e-02,  -1.27515476e-01,  -2.32852645e-02,\n",
       "          3.81261144e-02,   1.26591854e-01,   5.52826206e-02,\n",
       "          1.61525723e-01,  -4.39880051e-02,  -5.33261894e-02,\n",
       "         -6.33238110e-02,   3.46520230e-02,   4.42682470e-02,\n",
       "          1.54793726e-01,   1.68852804e-01,  -4.41942613e-02,\n",
       "          1.02656538e-01,   1.11590477e-01,  -3.67467961e-02,\n",
       "          1.66224350e-01,  -6.41146296e-02,   1.85639971e-01,\n",
       "          3.54314453e-01,   4.04537893e-01,   5.64435249e-01,\n",
       "          3.93124037e-01,   4.12242542e-01,   6.86483314e-01,\n",
       "          4.59907232e-01,   1.00642702e+00,   9.25821208e-01,\n",
       "          8.90386920e-01,   1.19540450e+00,   1.19243390e+00,\n",
       "          1.31102625e+00,   1.31629205e+00,   1.54998308e+00,\n",
       "          1.60629773e+00,   1.66132578e+00,   2.10406922e+00,\n",
       "          1.88610807e+00,   2.06964271e+00,   2.35585531e+00,\n",
       "          2.30418634e+00,   2.40864008e+00,   2.39657630e+00,\n",
       "          2.47312467e+00,   2.52626285e+00,   2.90152475e+00,\n",
       "          2.72282322e+00,   2.60688075e+00,   2.54959537e+00,\n",
       "          2.59735175e+00,   2.62273309e+00,   2.54999030e+00,\n",
       "          2.52188923e+00,   2.46080330e+00,   2.44243592e+00,\n",
       "          2.35239702e+00,   2.16005008e+00,   1.91296493e+00,\n",
       "          2.02260060e+00,   1.85705380e+00,   1.73692292e+00,\n",
       "          1.41458763e+00,   1.44275205e+00,   1.55667156e+00,\n",
       "          1.43552283e+00,   1.23924048e+00,   1.02021997e+00,\n",
       "          9.36214991e-01,   7.92742673e-01,   8.51785325e-01,\n",
       "          6.25126298e-01,   7.33129088e-01,   3.94797222e-01,\n",
       "          4.63585224e-01,   4.93559919e-01,   3.55011165e-01,\n",
       "          2.14055606e-01,   1.19701007e-01,   1.53944946e-01,\n",
       "          2.00447229e-01,   1.99208616e-01,   1.33457127e-01,\n",
       "          1.55291604e-01,   2.64507950e-02,  -1.29485988e-01,\n",
       "         -7.96203141e-02,  -7.15889767e-02,   1.50873456e-01,\n",
       "          1.87590978e-02,   4.30516594e-02,   3.46159268e-02,\n",
       "         -1.23635203e-01,   1.37924355e-02,   6.17181831e-02,\n",
       "         -2.62961402e-02,   1.13820894e-02,   1.10511797e-01,\n",
       "          1.30476561e-02,   1.79719584e-02,   1.70313853e-01,\n",
       "         -8.52864260e-02,   1.80510211e-02,  -1.47323292e-01,\n",
       "         -1.00482923e-01,   9.26116280e-02,  -1.33638853e-01,\n",
       "          1.21858185e-02,  -5.52079459e-02,  -1.79219810e-01,\n",
       "         -1.69422700e-02],\n",
       "       [  1.29243572e-01,   3.20934731e-02,  -3.16233992e-02,\n",
       "          7.40932788e-02,   9.06900586e-02,   5.71275691e-04,\n",
       "          1.02896506e-01,   1.61724867e-01,   1.58988610e-01,\n",
       "          1.34615821e-01,   4.02658635e-01,   9.24567066e-02,\n",
       "          1.68114670e-01,   4.07390645e-01,   5.69599831e-01,\n",
       "          5.03325213e-01,   6.56003999e-01,   7.09484613e-01,\n",
       "          8.83969617e-01,   8.98240011e-01,   1.36479286e+00,\n",
       "          1.46347281e+00,   1.55071815e+00,   1.80800240e+00,\n",
       "          2.12755801e+00,   2.25727045e+00,   2.78655472e+00,\n",
       "          3.21137459e+00,   3.61592228e+00,   3.77380132e+00,\n",
       "          4.42566378e+00,   4.84248390e+00,   5.40443768e+00,\n",
       "          5.82756109e+00,   6.15929052e+00,   6.74325028e+00,\n",
       "          6.94968379e+00,   7.70600834e+00,   7.96145224e+00,\n",
       "          8.48179074e+00,   8.86581346e+00,   9.01044057e+00,\n",
       "          9.41776472e+00,   9.64035778e+00,   9.84489984e+00,\n",
       "          1.00172600e+01,   1.00233360e+01,   1.01728885e+01,\n",
       "          1.02341782e+01,   9.81922119e+00,   9.71623053e+00,\n",
       "          9.76894523e+00,   9.32050939e+00,   8.99170037e+00,\n",
       "          8.51954707e+00,   8.22510146e+00,   7.75865864e+00,\n",
       "          7.31595928e+00,   6.89645333e+00,   6.35702082e+00,\n",
       "          5.95985363e+00,   5.68738540e+00,   5.09234787e+00,\n",
       "          4.50281832e+00,   4.26640160e+00,   3.75076641e+00,\n",
       "          3.26052129e+00,   3.04850968e+00,   2.43290433e+00,\n",
       "          2.23078163e+00,   1.96121747e+00,   1.53821527e+00,\n",
       "          1.41745055e+00,   1.36336480e+00,   9.30337242e-01,\n",
       "          8.21338781e-01,   7.87744709e-01,   4.18025504e-01,\n",
       "          5.13548470e-01,   3.40443466e-01,   4.14747639e-01,\n",
       "          2.57824246e-01,   9.11782006e-02,   1.31421927e-01,\n",
       "         -5.33310429e-02,   1.50826244e-01,  -2.08714084e-02,\n",
       "         -1.93409923e-02,   2.68515742e-02,  -5.25592898e-02,\n",
       "          4.76825491e-02,  -1.33228210e-01,  -1.30197755e-02,\n",
       "          4.84207810e-02,  -5.91275644e-02,   1.36569437e-02,\n",
       "          2.59207048e-01,  -8.30915036e-02,  -1.32339108e-01,\n",
       "         -1.25134082e-02,  -3.76138273e-02,  -6.70171669e-02,\n",
       "         -8.56743312e-02,   1.51255207e-02,  -1.79236583e-01,\n",
       "          4.76074512e-02,   1.17392433e-01,   1.19970886e-01,\n",
       "          2.41174169e-01,   3.69738445e-02,   1.31911687e-01,\n",
       "          2.72999965e-01,   3.60467798e-02,  -6.89829603e-02,\n",
       "         -4.32889754e-02,  -3.60349074e-03,  -1.60729203e-02,\n",
       "         -9.17229394e-03,   1.15019308e-01,   9.01186875e-02,\n",
       "          1.35356772e-01,   5.15058994e-02,   4.51294927e-02,\n",
       "          1.00730597e-01,  -1.31195424e-01,   4.61674759e-02,\n",
       "         -1.36211562e-01,   6.35150652e-02,   1.64130508e-02,\n",
       "          1.85153464e-01,   5.49310806e-02,   1.94905959e-01,\n",
       "          1.79628619e-01,   1.19741447e-01,  -8.08369850e-03,\n",
       "          1.10025664e-01,   7.91640739e-03,  -9.22674533e-02,\n",
       "         -1.08468370e-01,  -1.82529194e-02,  -2.53793757e-01,\n",
       "          2.61854740e-01,   7.24327025e-02,   6.34258217e-02,\n",
       "         -9.95329583e-02,   4.66737797e-02,  -6.42890891e-02,\n",
       "         -4.42617175e-02,  -1.09890161e-01,  -1.48631029e-01,\n",
       "         -7.17401359e-02],\n",
       "       [ -5.13116917e-02,  -1.80623264e-02,  -5.73521124e-02,\n",
       "          1.43324023e-01,  -8.60203585e-02,   6.25637497e-02,\n",
       "         -9.41045427e-02,   2.56816702e-02,  -2.61666616e-01,\n",
       "          1.62171093e-02,   6.79225721e-03,  -1.61295879e-01,\n",
       "         -1.42811751e-01,   4.29218395e-02,  -2.24107294e-02,\n",
       "         -6.30263667e-02,  -1.16676762e-01,  -6.96959468e-02,\n",
       "          1.05572878e-01,   2.25679728e-02,   4.90315223e-02,\n",
       "         -2.44033512e-01,  -6.74457783e-02,  -2.08147394e-01,\n",
       "         -7.19359498e-02,  -1.43448751e-01,   1.39242044e-01,\n",
       "          6.19870095e-02,   1.35883902e-02,   1.72963113e-01,\n",
       "         -8.28662400e-02,   1.37590509e-01,   2.14617569e-03,\n",
       "          3.00482670e-02,   7.13367036e-02,   1.97771159e-01,\n",
       "          1.16678386e-01,  -2.23765799e-02,   1.72106035e-01,\n",
       "          2.66443393e-01,   6.05854109e-02,   1.54558607e-03,\n",
       "          6.60900265e-02,  -4.13714192e-02,   1.21444830e-01,\n",
       "          1.98922357e-01,   3.36831438e-01,   2.98032785e-01,\n",
       "          4.66928696e-01,   1.41013358e-01,   2.25272444e-01,\n",
       "          4.31309748e-01,   4.12723570e-01,   5.33715880e-01,\n",
       "          6.20012520e-01,   7.49304702e-01,   7.89071646e-01,\n",
       "          9.33290512e-01,   1.07193682e+00,   1.13530571e+00,\n",
       "          1.22466127e+00,   1.28654559e+00,   1.38535457e+00,\n",
       "          1.48303691e+00,   1.58179839e+00,   1.78963819e+00,\n",
       "          1.95249587e+00,   2.04735345e+00,   2.02013489e+00,\n",
       "          2.31286042e+00,   2.30153026e+00,   2.23550723e+00,\n",
       "          2.49466323e+00,   2.40835217e+00,   2.39363816e+00,\n",
       "          2.49988780e+00,   2.55270594e+00,   2.60618378e+00,\n",
       "          2.58324491e+00,   2.43341560e+00,   2.45164194e+00,\n",
       "          2.37808184e+00,   2.38356250e+00,   2.30182824e+00,\n",
       "          1.92543531e+00,   2.02021582e+00,   1.87882531e+00,\n",
       "          1.77166607e+00,   1.54128087e+00,   1.58218535e+00,\n",
       "          1.52449387e+00,   1.25016121e+00,   1.24474810e+00,\n",
       "          1.15609106e+00,   9.65305796e-01,   7.78633710e-01,\n",
       "          7.91497881e-01,   6.67191547e-01,   6.39805867e-01,\n",
       "          5.40118171e-01,   4.56369804e-01,   2.61585094e-01,\n",
       "          3.76364752e-01,   2.90672985e-01,   3.44200160e-01,\n",
       "          1.52693123e-01,   1.24530278e-01,   5.53750088e-02,\n",
       "          4.72722919e-02,   1.76592294e-02,   2.79645625e-01,\n",
       "          1.88031674e-01,   6.76741406e-02,   1.94525607e-02,\n",
       "          3.22098333e-02,   3.04650113e-02,   4.89913343e-02,\n",
       "         -6.45884499e-02,  -2.29149535e-02,   1.63319896e-02,\n",
       "         -2.32682313e-01,   3.14918738e-02,  -9.17642179e-02,\n",
       "          1.02024348e-02,  -5.53521807e-02,   1.10457230e-01,\n",
       "         -1.64141007e-01,   8.61645139e-02,  -8.32748040e-03,\n",
       "         -5.60234706e-02,   7.37118235e-02,   2.00107869e-01,\n",
       "         -2.03588577e-02,  -1.26571252e-02,  -1.47804050e-02,\n",
       "          4.67820984e-02,  -1.80551717e-02,   6.12274939e-02,\n",
       "         -1.46829665e-02,   1.02963360e-01,   1.27118776e-01,\n",
       "          1.74661506e-02,   3.70887024e-01,   2.15737253e-01,\n",
       "         -1.23991861e-01,   1.30206494e-02,   1.54560150e-02,\n",
       "          1.15071792e-01,   1.19574094e-01,  -4.44667580e-02,\n",
       "          1.80265698e-01],\n",
       "       [ -7.05575915e-02,   1.51770207e-01,  -3.75742107e-02,\n",
       "          6.94707242e-02,  -1.53289413e-01,  -1.47198856e-01,\n",
       "          1.89786496e-01,   2.61810731e-02,   6.62873457e-02,\n",
       "          8.89906623e-02,  -6.85431170e-02,  -1.96069427e-02,\n",
       "         -1.20786548e-01,  -7.07108719e-02,   1.26015441e-01,\n",
       "          7.80221644e-02,  -5.77712102e-02,  -3.77922441e-02,\n",
       "          6.43825930e-02,  -1.69911248e-02,   1.46251655e-02,\n",
       "         -3.54819123e-02,  -1.13402845e-02,  -1.35485339e-01,\n",
       "          9.33146781e-03,  -8.00466455e-02,   1.71978033e-01,\n",
       "         -1.80714543e-02,   1.15228399e-01,  -9.81439793e-02,\n",
       "         -2.82183146e-01,  -2.42579085e-01,  -6.45054112e-02,\n",
       "          4.58892284e-02,  -6.16637072e-02,   1.81613857e-02,\n",
       "          4.20563719e-02,  -1.41075276e-01,   1.29497945e-01,\n",
       "         -3.75424426e-02,  -4.93392669e-02,   1.51599536e-02,\n",
       "         -9.37594977e-02,  -2.46172239e-01,  -3.56147890e-02,\n",
       "         -6.06074107e-02,   4.02051478e-02,  -1.85260660e-02,\n",
       "          4.68000076e-02,   5.28810635e-02,   3.66365519e-02,\n",
       "          6.25777065e-02,  -1.15765190e-01,   9.18265292e-02,\n",
       "          3.32841132e-02,  -9.48021789e-02,   3.33702842e-03,\n",
       "         -8.96630670e-02,  -2.79981984e-02,   2.49714157e-01,\n",
       "         -3.81430201e-02,   1.15672185e-01,   1.23452357e-01,\n",
       "          1.82317300e-01,   1.54131369e-02,   1.70926581e-01,\n",
       "          1.51564161e-01,   2.06051993e-01,   4.18874928e-02,\n",
       "          2.83500052e-01,   2.76052826e-01,   2.74472130e-01,\n",
       "          2.76343278e-01,   3.89395164e-01,   4.33629602e-01,\n",
       "          5.62908726e-01,   6.85736395e-01,   7.32448912e-01,\n",
       "          7.07191969e-01,   9.33779256e-01,   1.04216794e+00,\n",
       "          1.12379513e+00,   1.09245450e+00,   1.28481164e+00,\n",
       "          1.34242697e+00,   1.51690093e+00,   1.59698911e+00,\n",
       "          1.83213649e+00,   1.53118884e+00,   1.75468071e+00,\n",
       "          1.81957799e+00,   2.09566798e+00,   2.07303766e+00,\n",
       "          2.32736161e+00,   2.19095803e+00,   2.15728634e+00,\n",
       "          2.30286550e+00,   2.15885362e+00,   2.23397568e+00,\n",
       "          2.16569098e+00,   2.16050062e+00,   2.22036291e+00,\n",
       "          2.02080353e+00,   1.89945993e+00,   1.86198579e+00,\n",
       "          1.68497561e+00,   1.69155985e+00,   1.55619476e+00,\n",
       "          1.47383708e+00,   1.38909845e+00,   1.43914067e+00,\n",
       "          1.15944121e+00,   1.09956305e+00,   9.12345697e-01,\n",
       "          7.95610365e-01,   8.04351133e-01,   7.50419429e-01,\n",
       "          4.95896070e-01,   5.27738408e-01,   2.88593024e-01,\n",
       "          4.58642503e-01,   5.92652352e-01,   2.27277532e-01,\n",
       "          2.53214857e-01,   8.26407290e-02,   2.37795063e-01,\n",
       "          3.02186091e-01,   3.56884820e-02,   3.03049483e-01,\n",
       "          8.47652027e-02,  -2.59328886e-02,   6.99350094e-02,\n",
       "          3.96540616e-02,  -5.02432126e-02,  -5.05950876e-03,\n",
       "          9.14706377e-03,  -6.96437252e-02,   8.11295558e-02,\n",
       "          6.35566928e-03,   3.85096628e-02,   1.20253130e-01,\n",
       "         -1.54710124e-01,   1.43950759e-01,  -7.10222196e-02,\n",
       "          1.54035671e-01,   3.64578379e-02,  -1.10915247e-01,\n",
       "          6.55246965e-06,   8.67126459e-03,   1.34248795e-01,\n",
       "          2.42422444e-02],\n",
       "       [  6.39650921e-02,  -4.05754156e-02,  -1.36111345e-01,\n",
       "          1.58016637e-04,   2.16221770e-01,   3.69569989e-02,\n",
       "         -9.35038334e-02,  -3.35442045e-02,  -9.18128906e-02,\n",
       "         -5.14447231e-04,  -8.49134313e-02,   2.27549286e-01,\n",
       "         -2.32571227e-02,  -9.82032117e-02,   1.08380536e-01,\n",
       "         -7.66817318e-02,   2.21380597e-02,  -1.68938010e-01,\n",
       "          3.06401918e-02,   1.74532181e-01,   7.06091466e-02,\n",
       "         -7.26521389e-02,  -3.72948742e-03,   2.90874429e-02,\n",
       "          1.69120985e-01,   1.31803280e-02,   4.68965088e-03,\n",
       "         -6.26948262e-02,  -4.67576580e-03,   1.15079376e-01,\n",
       "         -2.26149499e-02,  -5.62621458e-03,   1.58922939e-01,\n",
       "          3.69303873e-02,   9.70991317e-02,   3.84594617e-02,\n",
       "          1.06137956e-01,   4.72305321e-02,  -8.51833028e-02,\n",
       "         -1.48436854e-02,   1.65277936e-01,  -1.70768761e-01,\n",
       "          3.61972315e-02,   1.21192707e-02,   3.82156410e-02,\n",
       "          8.55568530e-02,   1.32377656e-01,  -7.37999900e-02,\n",
       "          1.12576699e-01,   8.23843148e-03,  -1.90986868e-01,\n",
       "          5.51520897e-02,   9.25938513e-03,  -4.63232924e-02,\n",
       "         -3.80630235e-02,   5.39131368e-03,   3.44069908e-02,\n",
       "          1.99110740e-01,   1.40785144e-01,   5.37247205e-02,\n",
       "          1.90713908e-01,   1.56601693e-01,   1.19085033e-01,\n",
       "          2.95698322e-01,   3.91126863e-01,   2.66787954e-01,\n",
       "          3.84696063e-01,   3.93961527e-01,   5.08278855e-01,\n",
       "          4.46378553e-01,   5.58452944e-01,   6.04757934e-01,\n",
       "          7.86312033e-01,   9.17937482e-01,   1.03333922e+00,\n",
       "          9.54493308e-01,   1.12103930e+00,   1.27768894e+00,\n",
       "          1.38683616e+00,   1.38824180e+00,   1.67822335e+00,\n",
       "          1.78198427e+00,   1.79348421e+00,   1.93247387e+00,\n",
       "          2.01051267e+00,   2.16984043e+00,   2.19751434e+00,\n",
       "          2.48942971e+00,   2.66376927e+00,   2.50180554e+00,\n",
       "          2.59905727e+00,   2.63667471e+00,   2.58813698e+00,\n",
       "          2.91431036e+00,   2.63919957e+00,   2.65794831e+00,\n",
       "          2.80163857e+00,   2.68736687e+00,   2.61124300e+00,\n",
       "          2.59141284e+00,   2.57659461e+00,   2.33731974e+00,\n",
       "          2.17710367e+00,   1.98262455e+00,   2.28638676e+00,\n",
       "          1.85925713e+00,   1.84918911e+00,   1.81146303e+00,\n",
       "          1.70769409e+00,   1.45292163e+00,   1.51869756e+00,\n",
       "          1.40008711e+00,   1.20488593e+00,   1.30361480e+00,\n",
       "          1.16918242e+00,   9.60706569e-01,   6.55030288e-01,\n",
       "          7.45033988e-01,   6.77102355e-01,   5.40704860e-01,\n",
       "          4.23766898e-01,   3.10482891e-01,   3.40287227e-01,\n",
       "          9.49867798e-02,   1.97201644e-01,   1.70669844e-01,\n",
       "          4.71244679e-02,   1.72495409e-01,   3.46222471e-02,\n",
       "          1.17966849e-01,   1.47021509e-01,   1.88833787e-01,\n",
       "          1.63095843e-01,   3.29465459e-02,  -7.59617443e-02,\n",
       "         -6.81028546e-02,   5.08451216e-03,   4.84687459e-02,\n",
       "          7.92790704e-02,  -2.84249251e-01,   6.70662734e-02,\n",
       "         -1.30603535e-01,  -1.03374891e-01,   2.37211484e-02,\n",
       "         -1.48043642e-01,   1.00407504e-01,  -1.51735584e-01,\n",
       "         -3.54028154e-03,  -1.59274938e-01,  -6.02554045e-02,\n",
       "         -1.02515402e-03]])"
      ]
     },
     "execution_count": 223,
     "metadata": {},
     "output_type": "execute_result"
    }
   ],
   "source": [
    "data[:]"
   ]
  },
  {
   "cell_type": "code",
   "execution_count": 230,
   "metadata": {
    "collapsed": false
   },
   "outputs": [],
   "source": [
    "resid = np.zeros((5,151))"
   ]
  },
  {
   "cell_type": "code",
   "execution_count": 232,
   "metadata": {
    "collapsed": false
   },
   "outputs": [
    {
     "data": {
      "text/plain": [
       "range(0, 5)"
      ]
     },
     "execution_count": 232,
     "metadata": {},
     "output_type": "execute_result"
    }
   ],
   "source": [
    "range(ndata)"
   ]
  },
  {
   "cell_type": "code",
   "execution_count": 233,
   "metadata": {
    "collapsed": false
   },
   "outputs": [
    {
     "data": {
      "text/plain": [
       "range(0, 5)"
      ]
     },
     "execution_count": 233,
     "metadata": {},
     "output_type": "execute_result"
    }
   ],
   "source": [
    "range(0,5)"
   ]
  },
  {
   "cell_type": "code",
   "execution_count": 234,
   "metadata": {
    "collapsed": false
   },
   "outputs": [
    {
     "name": "stdout",
     "output_type": "stream",
     "text": [
      "0\n",
      "1\n",
      "2\n",
      "3\n",
      "4\n"
     ]
    }
   ],
   "source": [
    "for i in range(0,5):\n",
    "    print(i)"
   ]
  },
  {
   "cell_type": "code",
   "execution_count": 236,
   "metadata": {
    "collapsed": false
   },
   "outputs": [
    {
     "data": {
      "text/plain": [
       "array([ 0.14748022, -0.07402191, -0.07350592, -0.00445826,  0.12435918,\n",
       "        0.06879514, -0.23210413, -0.03872331, -0.19800062, -0.01427426,\n",
       "       -0.07369884,  0.11921522,  0.13934621, -0.22768221,  0.09278859,\n",
       "        0.11645887,  0.0493804 ,  0.07920532,  0.05429932,  0.26856451,\n",
       "        0.00765641, -0.14888236, -0.1095844 ,  0.17837114,  0.16729837,\n",
       "        0.15370568, -0.06170114,  0.03099531, -0.045923  , -0.07148508,\n",
       "       -0.07990296, -0.17611056,  0.16517192, -0.10673504, -0.15158825,\n",
       "        0.25474816,  0.13704941,  0.15286855, -0.08575238, -0.09245689,\n",
       "       -0.12751548, -0.02328526,  0.03812611,  0.12659185,  0.05528262,\n",
       "        0.16152572, -0.04398801, -0.05332619, -0.06332381,  0.03465202,\n",
       "        0.04426825,  0.15479373,  0.1688528 , -0.04419426,  0.10265654,\n",
       "        0.11159048, -0.0367468 ,  0.16622435, -0.06411463,  0.18563997,\n",
       "        0.35431445,  0.40453789,  0.56443525,  0.39312404,  0.41224254,\n",
       "        0.68648331,  0.45990723,  1.00642702,  0.92582121,  0.89038692,\n",
       "        1.1954045 ,  1.1924339 ,  1.31102625,  1.31629205,  1.54998308,\n",
       "        1.60629773,  1.66132578,  2.10406922,  1.88610807,  2.06964271,\n",
       "        2.35585531,  2.30418634,  2.40864008,  2.3965763 ,  2.47312467,\n",
       "        2.52626285,  2.90152475,  2.72282322,  2.60688075,  2.54959537,\n",
       "        2.59735175,  2.62273309,  2.5499903 ,  2.52188923,  2.4608033 ,\n",
       "        2.44243592,  2.35239702,  2.16005008,  1.91296493,  2.0226006 ,\n",
       "        1.8570538 ,  1.73692292,  1.41458763,  1.44275205,  1.55667156,\n",
       "        1.43552283,  1.23924048,  1.02021997,  0.93621499,  0.79274267,\n",
       "        0.85178532,  0.6251263 ,  0.73312909,  0.39479722,  0.46358522,\n",
       "        0.49355992,  0.35501117,  0.21405561,  0.11970101,  0.15394495,\n",
       "        0.20044723,  0.19920862,  0.13345713,  0.1552916 ,  0.0264508 ,\n",
       "       -0.12948599, -0.07962031, -0.07158898,  0.15087346,  0.0187591 ,\n",
       "        0.04305166,  0.03461593, -0.1236352 ,  0.01379244,  0.06171818,\n",
       "       -0.02629614,  0.01138209,  0.1105118 ,  0.01304766,  0.01797196,\n",
       "        0.17031385, -0.08528643,  0.01805102, -0.14732329, -0.10048292,\n",
       "        0.09261163, -0.13363885,  0.01218582, -0.05520795, -0.17921981,\n",
       "       -0.01694227])"
      ]
     },
     "execution_count": 236,
     "metadata": {},
     "output_type": "execute_result"
    }
   ],
   "source": [
    "data[0,:]"
   ]
  },
  {
   "cell_type": "code",
   "execution_count": 238,
   "metadata": {
    "collapsed": false
   },
   "outputs": [
    {
     "data": {
      "text/plain": [
       "<lmfit.ExpressionModel('(k1*x)/(1 + k1*x)')>"
      ]
     },
     "execution_count": 238,
     "metadata": {},
     "output_type": "execute_result"
    }
   ],
   "source": [
    "klotz1"
   ]
  },
  {
   "cell_type": "code",
   "execution_count": 239,
   "metadata": {
    "collapsed": false
   },
   "outputs": [
    {
     "ename": "AttributeError",
     "evalue": "'ExpressionModel' object has no attribute 'self'",
     "output_type": "error",
     "traceback": [
      "\u001b[0;31m---------------------------------------------------------------------------\u001b[0m",
      "\u001b[0;31mAttributeError\u001b[0m                            Traceback (most recent call last)",
      "\u001b[0;32m<ipython-input-239-e7d5aca45309>\u001b[0m in \u001b[0;36m<module>\u001b[0;34m()\u001b[0m\n\u001b[0;32m----> 1\u001b[0;31m \u001b[0mklotz1\u001b[0m\u001b[0;34m.\u001b[0m\u001b[0mself\u001b[0m\u001b[0;34m\u001b[0m\u001b[0m\n\u001b[0m",
      "\u001b[0;31mAttributeError\u001b[0m: 'ExpressionModel' object has no attribute 'self'"
     ]
    }
   ],
   "source": [
    "klotz1.self"
   ]
  },
  {
   "cell_type": "code",
   "execution_count": 243,
   "metadata": {
    "collapsed": false
   },
   "outputs": [
    {
     "data": {
      "text/plain": [
       "'(k1*x)/(1 + k1*x)'"
      ]
     },
     "execution_count": 243,
     "metadata": {},
     "output_type": "execute_result"
    }
   ],
   "source": [
    "klotz1.expr"
   ]
  },
  {
   "cell_type": "code",
   "execution_count": 241,
   "metadata": {
    "collapsed": false
   },
   "outputs": [
    {
     "name": "stdout",
     "output_type": "stream",
     "text": [
      "<function ExpressionModel.__init__.<locals>._eval at 0x10d70b2f0>\n"
     ]
    }
   ],
   "source": []
  },
  {
   "cell_type": "code",
   "execution_count": 246,
   "metadata": {
    "collapsed": false
   },
   "outputs": [],
   "source": [
    "berb = np.array([1,2,3])"
   ]
  },
  {
   "cell_type": "code",
   "execution_count": 247,
   "metadata": {
    "collapsed": false
   },
   "outputs": [
    {
     "data": {
      "text/plain": [
       "array([1, 4, 9])"
      ]
     },
     "execution_count": 247,
     "metadata": {},
     "output_type": "execute_result"
    }
   ],
   "source": [
    "np.square(berb)"
   ]
  },
  {
   "cell_type": "code",
   "execution_count": 248,
   "metadata": {
    "collapsed": false
   },
   "outputs": [
    {
     "data": {
      "text/plain": [
       "array([  1.00000000e-03,   2.00000000e-03,   4.00000000e-03,\n",
       "         8.00000000e-03,   1.60000000e-02,   3.20000000e-02,\n",
       "         6.40000000e-02,   1.28000000e-01,   2.56000000e-01,\n",
       "         5.12000000e-01,   1.02400000e+00,   2.04800000e+00,\n",
       "         4.09600000e+00,   8.19200000e+00,   1.63840000e+01,\n",
       "         3.27680000e+01,   6.55360000e+01,   1.31072000e+02])"
      ]
     },
     "execution_count": 248,
     "metadata": {},
     "output_type": "execute_result"
    }
   ],
   "source": [
    "L"
   ]
  },
  {
   "cell_type": "code",
   "execution_count": 249,
   "metadata": {
    "collapsed": false
   },
   "outputs": [
    {
     "data": {
      "text/plain": [
       "array([ 0.00185726,  0.00402342,  0.00782967,  0.01585551,  0.03241434,\n",
       "        0.06028141,  0.09943353,  0.21766275,  0.33472913,  0.5100246 ,\n",
       "        0.64215578,  0.80603054,  0.89982256,  0.94269419,  0.93852915,\n",
       "        1.01255491,  1.01058791,  1.01150045])"
      ]
     },
     "execution_count": 249,
     "metadata": {},
     "output_type": "execute_result"
    }
   ],
   "source": [
    "B1"
   ]
  },
  {
   "cell_type": "code",
   "execution_count": 251,
   "metadata": {
    "collapsed": true
   },
   "outputs": [],
   "source": [
    "from minfuncs import klotz1_obj"
   ]
  },
  {
   "cell_type": "code",
   "execution_count": 253,
   "metadata": {
    "collapsed": false
   },
   "outputs": [],
   "source": [
    "params = lmfit.Parameters()\n",
    "params.add(\"k1\", value=10)"
   ]
  },
  {
   "cell_type": "code",
   "execution_count": 254,
   "metadata": {
    "collapsed": false
   },
   "outputs": [
    {
     "ename": "NameError",
     "evalue": "name 'np' is not defined",
     "output_type": "error",
     "traceback": [
      "\u001b[0;31m---------------------------------------------------------------------------\u001b[0m",
      "\u001b[0;31mNameError\u001b[0m                                 Traceback (most recent call last)",
      "\u001b[0;32m<ipython-input-254-7aa98d20a486>\u001b[0m in \u001b[0;36m<module>\u001b[0;34m()\u001b[0m\n\u001b[0;32m----> 1\u001b[0;31m \u001b[0mklotz1_obj\u001b[0m\u001b[0;34m(\u001b[0m\u001b[0mparams\u001b[0m\u001b[0;34m,\u001b[0m \u001b[0mL\u001b[0m\u001b[0;34m,\u001b[0m \u001b[0mB1\u001b[0m\u001b[0;34m)\u001b[0m\u001b[0;34m\u001b[0m\u001b[0m\n\u001b[0m",
      "\u001b[0;32m/Users/michael/scipyplay/minfuncs.py\u001b[0m in \u001b[0;36mklotz1_obj\u001b[0;34m(params, x, data, eps)\u001b[0m\n\u001b[1;32m      4\u001b[0m     \u001b[0mk1\u001b[0m \u001b[0;34m=\u001b[0m \u001b[0mparams\u001b[0m\u001b[0;34m[\u001b[0m\u001b[0;34m'k1'\u001b[0m\u001b[0;34m]\u001b[0m\u001b[0;34m\u001b[0m\u001b[0m\n\u001b[1;32m      5\u001b[0m     \u001b[0mmodel\u001b[0m \u001b[0;34m=\u001b[0m \u001b[0;34m(\u001b[0m\u001b[0mk1\u001b[0m \u001b[0;34m*\u001b[0m \u001b[0mx\u001b[0m\u001b[0;34m)\u001b[0m\u001b[0;34m/\u001b[0m\u001b[0;34m(\u001b[0m\u001b[0;36m1\u001b[0m \u001b[0;34m+\u001b[0m \u001b[0;34m(\u001b[0m\u001b[0mk1\u001b[0m \u001b[0;34m*\u001b[0m \u001b[0mx\u001b[0m\u001b[0;34m)\u001b[0m\u001b[0;34m)\u001b[0m\u001b[0;34m\u001b[0m\u001b[0m\n\u001b[0;32m----> 6\u001b[0;31m     \u001b[0mweights\u001b[0m \u001b[0;34m=\u001b[0m \u001b[0;36m1\u001b[0m\u001b[0;34m/\u001b[0m\u001b[0mnp\u001b[0m\u001b[0;34m.\u001b[0m\u001b[0msquare\u001b[0m\u001b[0;34m(\u001b[0m\u001b[0meps\u001b[0m\u001b[0;34m)\u001b[0m\u001b[0;34m\u001b[0m\u001b[0m\n\u001b[0m\u001b[1;32m      7\u001b[0m \u001b[0;34m\u001b[0m\u001b[0m\n\u001b[1;32m      8\u001b[0m     \u001b[0;32mreturn\u001b[0m \u001b[0mweights\u001b[0m\u001b[0;34m*\u001b[0m\u001b[0;34m(\u001b[0m\u001b[0mmodel\u001b[0m \u001b[0;34m-\u001b[0m \u001b[0mdata\u001b[0m\u001b[0;34m)\u001b[0m\u001b[0;34m\u001b[0m\u001b[0m\n",
      "\u001b[0;31mNameError\u001b[0m: name 'np' is not defined"
     ]
    }
   ],
   "source": [
    "klotz1_obj(params, L, B1)"
   ]
  },
  {
   "cell_type": "code",
   "execution_count": 256,
   "metadata": {
    "collapsed": true
   },
   "outputs": [],
   "source": [
    "%autoreload klotz1_obj"
   ]
  },
  {
   "cell_type": "code",
   "execution_count": 257,
   "metadata": {
    "collapsed": false
   },
   "outputs": [
    {
     "ename": "NameError",
     "evalue": "name 'np' is not defined",
     "output_type": "error",
     "traceback": [
      "\u001b[0;31m---------------------------------------------------------------------------\u001b[0m",
      "\u001b[0;31mNameError\u001b[0m                                 Traceback (most recent call last)",
      "\u001b[0;32m<ipython-input-257-7aa98d20a486>\u001b[0m in \u001b[0;36m<module>\u001b[0;34m()\u001b[0m\n\u001b[0;32m----> 1\u001b[0;31m \u001b[0mklotz1_obj\u001b[0m\u001b[0;34m(\u001b[0m\u001b[0mparams\u001b[0m\u001b[0;34m,\u001b[0m \u001b[0mL\u001b[0m\u001b[0;34m,\u001b[0m \u001b[0mB1\u001b[0m\u001b[0;34m)\u001b[0m\u001b[0;34m\u001b[0m\u001b[0m\n\u001b[0m",
      "\u001b[0;32m/Users/michael/scipyplay/minfuncs.py\u001b[0m in \u001b[0;36mklotz1_obj\u001b[0;34m(params, x, data, eps)\u001b[0m\n\u001b[1;32m      4\u001b[0m \u001b[0;34m\u001b[0m\u001b[0m\n\u001b[1;32m      5\u001b[0m \u001b[0;32mdef\u001b[0m \u001b[0mklotz1_obj\u001b[0m\u001b[0;34m(\u001b[0m\u001b[0mparams\u001b[0m\u001b[0;34m,\u001b[0m \u001b[0mx\u001b[0m\u001b[0;34m,\u001b[0m \u001b[0mdata\u001b[0m\u001b[0;34m,\u001b[0m \u001b[0meps\u001b[0m\u001b[0;34m=\u001b[0m\u001b[0;32mNone\u001b[0m\u001b[0;34m)\u001b[0m\u001b[0;34m:\u001b[0m\u001b[0;34m\u001b[0m\u001b[0m\n\u001b[0;32m----> 6\u001b[0;31m     \u001b[0mk1\u001b[0m \u001b[0;34m=\u001b[0m \u001b[0mparams\u001b[0m\u001b[0;34m[\u001b[0m\u001b[0;34m'k1'\u001b[0m\u001b[0;34m]\u001b[0m\u001b[0;34m\u001b[0m\u001b[0m\n\u001b[0m\u001b[1;32m      7\u001b[0m     \u001b[0mmodel\u001b[0m \u001b[0;34m=\u001b[0m \u001b[0;34m(\u001b[0m\u001b[0mk1\u001b[0m \u001b[0;34m*\u001b[0m \u001b[0mx\u001b[0m\u001b[0;34m)\u001b[0m\u001b[0;34m/\u001b[0m\u001b[0;34m(\u001b[0m\u001b[0;36m1\u001b[0m \u001b[0;34m+\u001b[0m \u001b[0;34m(\u001b[0m\u001b[0mk1\u001b[0m \u001b[0;34m*\u001b[0m \u001b[0mx\u001b[0m\u001b[0;34m)\u001b[0m\u001b[0;34m)\u001b[0m\u001b[0;34m\u001b[0m\u001b[0m\n\u001b[1;32m      8\u001b[0m     \u001b[0mweights\u001b[0m \u001b[0;34m=\u001b[0m \u001b[0;36m1\u001b[0m\u001b[0;34m/\u001b[0m\u001b[0mnp\u001b[0m\u001b[0;34m.\u001b[0m\u001b[0msquare\u001b[0m\u001b[0;34m(\u001b[0m\u001b[0meps\u001b[0m\u001b[0;34m)\u001b[0m\u001b[0;34m\u001b[0m\u001b[0m\n",
      "\u001b[0;31mNameError\u001b[0m: name 'np' is not defined"
     ]
    }
   ],
   "source": [
    "klotz1_obj(params, L, B1)"
   ]
  },
  {
   "cell_type": "code",
   "execution_count": 258,
   "metadata": {
    "collapsed": false
   },
   "outputs": [
    {
     "data": {
      "text/plain": [
       "array([1, 4, 9])"
      ]
     },
     "execution_count": 258,
     "metadata": {},
     "output_type": "execute_result"
    }
   ],
   "source": [
    "np.square(np.array([1,2,3]))"
   ]
  },
  {
   "cell_type": "code",
   "execution_count": 267,
   "metadata": {
    "collapsed": false
   },
   "outputs": [],
   "source": [
    "def klotz1_obj1(params, x, data, eps=None):\n",
    "    k1 = params['k1']\n",
    "    model = (k1 * x)/(1 + (k1 * x))\n",
    "    weights = 1/(np.square(eps))\n",
    "    \n",
    "    if eps == None:\n",
    "        return model - data\n",
    "    else:\n",
    "        return weights*(model - data)"
   ]
  },
  {
   "cell_type": "code",
   "execution_count": 269,
   "metadata": {
    "collapsed": false
   },
   "outputs": [
    {
     "ename": "TypeError",
     "evalue": "unsupported operand type(s) for *: 'NoneType' and 'NoneType'",
     "output_type": "error",
     "traceback": [
      "\u001b[0;31m---------------------------------------------------------------------------\u001b[0m",
      "\u001b[0;31mTypeError\u001b[0m                                 Traceback (most recent call last)",
      "\u001b[0;32m<ipython-input-269-6ba6c8770008>\u001b[0m in \u001b[0;36m<module>\u001b[0;34m()\u001b[0m\n\u001b[0;32m----> 1\u001b[0;31m \u001b[0mklotz1_obj1\u001b[0m\u001b[0;34m(\u001b[0m\u001b[0mparams\u001b[0m\u001b[0;34m,\u001b[0m \u001b[0mL\u001b[0m\u001b[0;34m,\u001b[0m \u001b[0mB1\u001b[0m\u001b[0;34m)\u001b[0m\u001b[0;34m\u001b[0m\u001b[0m\n\u001b[0m",
      "\u001b[0;32m<ipython-input-267-193988437926>\u001b[0m in \u001b[0;36mklotz1_obj1\u001b[0;34m(params, x, data, eps)\u001b[0m\n\u001b[1;32m      2\u001b[0m     \u001b[0mk1\u001b[0m \u001b[0;34m=\u001b[0m \u001b[0mparams\u001b[0m\u001b[0;34m[\u001b[0m\u001b[0;34m'k1'\u001b[0m\u001b[0;34m]\u001b[0m\u001b[0;34m\u001b[0m\u001b[0m\n\u001b[1;32m      3\u001b[0m     \u001b[0mmodel\u001b[0m \u001b[0;34m=\u001b[0m \u001b[0;34m(\u001b[0m\u001b[0mk1\u001b[0m \u001b[0;34m*\u001b[0m \u001b[0mx\u001b[0m\u001b[0;34m)\u001b[0m\u001b[0;34m/\u001b[0m\u001b[0;34m(\u001b[0m\u001b[0;36m1\u001b[0m \u001b[0;34m+\u001b[0m \u001b[0;34m(\u001b[0m\u001b[0mk1\u001b[0m \u001b[0;34m*\u001b[0m \u001b[0mx\u001b[0m\u001b[0;34m)\u001b[0m\u001b[0;34m)\u001b[0m\u001b[0;34m\u001b[0m\u001b[0m\n\u001b[0;32m----> 4\u001b[0;31m     \u001b[0mweights\u001b[0m \u001b[0;34m=\u001b[0m \u001b[0;36m1\u001b[0m\u001b[0;34m/\u001b[0m\u001b[0;34m(\u001b[0m\u001b[0mnp\u001b[0m\u001b[0;34m.\u001b[0m\u001b[0msquare\u001b[0m\u001b[0;34m(\u001b[0m\u001b[0meps\u001b[0m\u001b[0;34m)\u001b[0m\u001b[0;34m)\u001b[0m\u001b[0;34m\u001b[0m\u001b[0m\n\u001b[0m\u001b[1;32m      5\u001b[0m \u001b[0;34m\u001b[0m\u001b[0m\n\u001b[1;32m      6\u001b[0m     \u001b[0;32mif\u001b[0m \u001b[0meps\u001b[0m \u001b[0;34m==\u001b[0m \u001b[0;32mNone\u001b[0m\u001b[0;34m:\u001b[0m\u001b[0;34m\u001b[0m\u001b[0m\n",
      "\u001b[0;31mTypeError\u001b[0m: unsupported operand type(s) for *: 'NoneType' and 'NoneType'"
     ]
    }
   ],
   "source": [
    "klotz1_obj1(params, L, B1)"
   ]
  },
  {
   "cell_type": "code",
   "execution_count": 264,
   "metadata": {
    "collapsed": true
   },
   "outputs": [],
   "source": [
    "a = None"
   ]
  },
  {
   "cell_type": "code",
   "execution_count": 265,
   "metadata": {
    "collapsed": true
   },
   "outputs": [],
   "source": [
    "a"
   ]
  },
  {
   "cell_type": "code",
   "execution_count": 266,
   "metadata": {
    "collapsed": false
   },
   "outputs": [
    {
     "name": "stdout",
     "output_type": "stream",
     "text": [
      "Yaz\n"
     ]
    }
   ],
   "source": [
    "if a == None:\n",
    "    print(\"Yaz\")"
   ]
  },
  {
   "cell_type": "code",
   "execution_count": null,
   "metadata": {
    "collapsed": true
   },
   "outputs": [],
   "source": []
  }
 ],
 "metadata": {
  "anaconda-cloud": {},
  "kernelspec": {
   "display_name": "Python [conda env:fitter]",
   "language": "python",
   "name": "conda-env-fitter-py"
  },
  "language_info": {
   "codemirror_mode": {
    "name": "ipython",
    "version": 3
   },
   "file_extension": ".py",
   "mimetype": "text/x-python",
   "name": "python",
   "nbconvert_exporter": "python",
   "pygments_lexer": "ipython3",
   "version": "3.5.2"
  }
 },
 "nbformat": 4,
 "nbformat_minor": 1
}
