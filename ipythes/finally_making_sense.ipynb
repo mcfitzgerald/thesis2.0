{
 "cells": [
  {
   "cell_type": "code",
   "execution_count": 1,
   "metadata": {
    "collapsed": true
   },
   "outputs": [],
   "source": [
    "import numpy as np"
   ]
  },
  {
   "cell_type": "code",
   "execution_count": 2,
   "metadata": {
    "collapsed": true
   },
   "outputs": [],
   "source": [
    "import lmfit as lft"
   ]
  },
  {
   "cell_type": "code",
   "execution_count": 3,
   "metadata": {
    "collapsed": true
   },
   "outputs": [],
   "source": [
    "import ligmods"
   ]
  },
  {
   "cell_type": "code",
   "execution_count": 4,
   "metadata": {
    "collapsed": true
   },
   "outputs": [],
   "source": [
    "L = ligmods.dilser()"
   ]
  },
  {
   "cell_type": "code",
   "execution_count": 5,
   "metadata": {
    "collapsed": true
   },
   "outputs": [],
   "source": [
    "def klotz1(flig,k1):\n",
    "    \"returns bound fraction given free ligand, L, and K (assoc.)\"\n",
    "    return (flig*k1)/(1+(flig*k1))"
   ]
  },
  {
   "cell_type": "code",
   "execution_count": 6,
   "metadata": {
    "collapsed": false
   },
   "outputs": [],
   "source": [
    "B = klotz1(L,2)"
   ]
  },
  {
   "cell_type": "code",
   "execution_count": 7,
   "metadata": {
    "collapsed": true
   },
   "outputs": [],
   "source": [
    "import matplotlib.pyplot as plt"
   ]
  },
  {
   "cell_type": "code",
   "execution_count": 8,
   "metadata": {
    "collapsed": true
   },
   "outputs": [],
   "source": [
    "%matplotlib inline"
   ]
  },
  {
   "cell_type": "code",
   "execution_count": 9,
   "metadata": {
    "collapsed": false
   },
   "outputs": [
    {
     "data": {
      "text/plain": [
       "[<matplotlib.lines.Line2D at 0x110338fd0>]"
      ]
     },
     "execution_count": 9,
     "metadata": {},
     "output_type": "execute_result"
    },
    {
     "data": {
      "image/png": "[encoded data removed]",
      "text/plain": [
       "<matplotlib.figure.Figure at 0x10e086400>"
      ]
     },
     "metadata": {},
     "output_type": "display_data"
    }
   ],
   "source": [
    "plt.semilogx(L,B)"
   ]
  },
  {
   "cell_type": "code",
   "execution_count": 10,
   "metadata": {
    "collapsed": true
   },
   "outputs": [],
   "source": [
    "datset = []\n",
    "for i in range(5):\n",
    "    datset.append(ligmods.noiser(B))"
   ]
  },
  {
   "cell_type": "code",
   "execution_count": 11,
   "metadata": {
    "collapsed": true
   },
   "outputs": [],
   "source": [
    "datset = np.array(datset)"
   ]
  },
  {
   "cell_type": "code",
   "execution_count": 12,
   "metadata": {
    "collapsed": false
   },
   "outputs": [
    {
     "data": {
      "text/plain": [
       "array([[ 0.00210299,  0.0039267 ,  0.00764795,  0.01548103,  0.03274121,\n",
       "         0.06005499,  0.10950204,  0.19430923,  0.32584536,  0.478009  ,\n",
       "         0.66900443,  0.88988025,  0.82438843,  0.90640442,  1.01709131,\n",
       "         0.93780868,  1.06285922,  0.91850842],\n",
       "       [ 0.00197368,  0.00443511,  0.00836273,  0.01554318,  0.03012381,\n",
       "         0.05753577,  0.11054832,  0.18347988,  0.34550276,  0.51238188,\n",
       "         0.68924559,  0.84477134,  0.86453025,  0.94703656,  1.00167655,\n",
       "         0.93160376,  0.97467366,  0.99601642],\n",
       "       [ 0.00196913,  0.00367431,  0.00831487,  0.01427664,  0.03079626,\n",
       "         0.05760657,  0.11164888,  0.19621059,  0.30598506,  0.48486154,\n",
       "         0.63500083,  0.8026114 ,  0.88380187,  0.97764762,  0.89569599,\n",
       "         0.95100712,  0.91107475,  1.04003823],\n",
       "       [ 0.00184081,  0.00404542,  0.00826435,  0.01590995,  0.03291904,\n",
       "         0.06303045,  0.12305296,  0.206278  ,  0.33408697,  0.51996781,\n",
       "         0.66550405,  0.84275289,  0.82078404,  0.99511232,  0.98740196,\n",
       "         0.97153012,  0.96577083,  1.00143101],\n",
       "       [ 0.00200363,  0.00400015,  0.00858206,  0.01474173,  0.02836993,\n",
       "         0.05991658,  0.11374724,  0.2036056 ,  0.32195957,  0.52917836,\n",
       "         0.6753053 ,  0.83047171,  0.83807491,  0.90654252,  0.96459219,\n",
       "         1.00386455,  0.97056738,  1.02214143]])"
      ]
     },
     "execution_count": 12,
     "metadata": {},
     "output_type": "execute_result"
    }
   ],
   "source": [
    "datset"
   ]
  },
  {
   "cell_type": "code",
   "execution_count": 13,
   "metadata": {
    "collapsed": true
   },
   "outputs": [],
   "source": [
    "datset_hi = []\n",
    "for i in range(4):\n",
    "    datset_hi.append(ligmods.noiser(B))"
   ]
  },
  {
   "cell_type": "code",
   "execution_count": 14,
   "metadata": {
    "collapsed": true
   },
   "outputs": [],
   "source": [
    "datset_hi.append(ligmods.noiser(B,percent=0.2))"
   ]
  },
  {
   "cell_type": "code",
   "execution_count": 15,
   "metadata": {
    "collapsed": true
   },
   "outputs": [],
   "source": [
    "datset_hi = np.array(datset_hi)"
   ]
  },
  {
   "cell_type": "code",
   "execution_count": 16,
   "metadata": {
    "collapsed": false
   },
   "outputs": [
    {
     "data": {
      "text/plain": [
       "array([[ 0.00201639,  0.00426656,  0.0079448 ,  0.01538291,  0.03040898,\n",
       "         0.05809548,  0.10990122,  0.19447398,  0.36220856,  0.51826801,\n",
       "         0.65725737,  0.76332462,  0.9073657 ,  0.97147468,  0.92531217,\n",
       "         0.96876411,  0.91215359,  0.94264049],\n",
       "       [ 0.00206167,  0.00431079,  0.00816133,  0.01550953,  0.03212326,\n",
       "         0.06056698,  0.11644401,  0.20333244,  0.34632163,  0.47293775,\n",
       "         0.65749464,  0.86219592,  0.95742526,  1.00437124,  0.93148533,\n",
       "         0.98771075,  0.91784276,  0.99134842],\n",
       "       [ 0.00209236,  0.00406222,  0.00771882,  0.0170484 ,  0.03196277,\n",
       "         0.05827464,  0.10932769,  0.19044288,  0.34305052,  0.49785956,\n",
       "         0.59893697,  0.73932999,  0.86433802,  0.96847677,  1.01583211,\n",
       "         0.99496299,  1.07453038,  0.98135064],\n",
       "       [ 0.00196503,  0.00412282,  0.00795766,  0.01613799,  0.03020114,\n",
       "         0.06245564,  0.11570057,  0.19549761,  0.3383033 ,  0.48411786,\n",
       "         0.64552566,  0.83652482,  0.87078902,  1.00129153,  0.95565982,\n",
       "         0.89741365,  0.95082258,  0.94788056],\n",
       "       [ 0.00210954,  0.00269578,  0.01105896,  0.01485448,  0.02919126,\n",
       "         0.0379814 ,  0.11941739,  0.27278841,  0.23528828,  0.62302664,\n",
       "         0.76991939,  1.03597386,  1.47471309,  1.04009806,  0.82152649,\n",
       "         0.83697542,  0.67782292,  1.22582871]])"
      ]
     },
     "execution_count": 16,
     "metadata": {},
     "output_type": "execute_result"
    }
   ],
   "source": [
    "datset_hi[0:5]"
   ]
  },
  {
   "cell_type": "code",
   "execution_count": 17,
   "metadata": {
    "collapsed": false
   },
   "outputs": [
    {
     "data": {
      "text/plain": [
       "[<matplotlib.lines.Line2D at 0x110bda240>]"
      ]
     },
     "execution_count": 17,
     "metadata": {},
     "output_type": "execute_result"
    },
    {
     "data": {
      "image/png": "[encoded data removed]",
      "text/plain": [
       "<matplotlib.figure.Figure at 0x110bda080>"
      ]
     },
     "metadata": {},
     "output_type": "display_data"
    }
   ],
   "source": [
    "for i in range(4):\n",
    "    plt.semilogx(L,datset_hi[i],'+')\n",
    "plt.semilogx(L,datset_hi[4],'bo')"
   ]
  },
  {
   "cell_type": "code",
   "execution_count": 18,
   "metadata": {
    "collapsed": false
   },
   "outputs": [],
   "source": [
    "params = lft.Parameters()"
   ]
  },
  {
   "cell_type": "code",
   "execution_count": 19,
   "metadata": {
    "collapsed": true
   },
   "outputs": [],
   "source": [
    "params.add('k1',value=47)"
   ]
  },
  {
   "cell_type": "code",
   "execution_count": 20,
   "metadata": {
    "collapsed": false
   },
   "outputs": [
    {
     "data": {
      "text/plain": [
       "Parameters([('k1', <Parameter 'k1', 47, bounds=[-inf:inf]>)])"
      ]
     },
     "execution_count": 20,
     "metadata": {},
     "output_type": "execute_result"
    }
   ],
   "source": [
    "params"
   ]
  },
  {
   "cell_type": "code",
   "execution_count": 21,
   "metadata": {
    "collapsed": true
   },
   "outputs": [],
   "source": [
    "params1 = params"
   ]
  },
  {
   "cell_type": "code",
   "execution_count": 22,
   "metadata": {
    "collapsed": true
   },
   "outputs": [],
   "source": [
    "def objfun(params,x,data,eps=None):\n",
    "    nexp, npts = data.shape #number of experiments and number of data points per exp\n",
    "    resid = np.zeros(data.shape)\n",
    "    k1 = params['k1']\n",
    "    model = klotz1(x,k1)\n",
    "    \n",
    "    if eps is None:\n",
    "        for i in range(nexp):\n",
    "            resid[i, :] = (data[i, :] - model)\n",
    "            return resid.flatten()\n",
    "    else:\n",
    "        for i in range(nexp):\n",
    "            weights = 1/(np.square(eps[i, :]))\n",
    "            resid[i, :] = (data[i, :] - model)*weights\n",
    "            return resid.flatten()"
   ]
  },
  {
   "cell_type": "code",
   "execution_count": 23,
   "metadata": {
    "collapsed": false
   },
   "outputs": [],
   "source": [
    "minner1 = lft.Minimizer(objfun,params1,fcn_args=(L,datset))"
   ]
  },
  {
   "cell_type": "code",
   "execution_count": 24,
   "metadata": {
    "collapsed": false
   },
   "outputs": [],
   "source": [
    "result1 = minner1.minimize()"
   ]
  },
  {
   "cell_type": "code",
   "execution_count": 25,
   "metadata": {
    "collapsed": false
   },
   "outputs": [
    {
     "name": "stdout",
     "output_type": "stream",
     "text": [
      "[[Fit Statistics]]\n",
      "    # function evals   = 18\n",
      "    # data points      = 90\n",
      "    # variables        = 1\n",
      "    chi-square         = 0.029\n",
      "    reduced chi-square = 0.000\n",
      "    Akaike info crit   = -720.150\n",
      "    Bayesian info crit = -717.650\n",
      "[[Variables]]\n",
      "    k1:   1.94866363 +/- 0.072322 (3.71%) (init= 47)\n",
      "[[Correlations]] (unreported correlations are <  0.100)\n"
     ]
    }
   ],
   "source": [
    "lft.report_fit(result1)"
   ]
  },
  {
   "cell_type": "code",
   "execution_count": 26,
   "metadata": {
    "collapsed": false
   },
   "outputs": [
    {
     "data": {
      "text/plain": [
       "Parameters([('k1', <Parameter 'k1', 47, bounds=[-inf:inf]>)])"
      ]
     },
     "execution_count": 26,
     "metadata": {},
     "output_type": "execute_result"
    }
   ],
   "source": [
    "params1"
   ]
  },
  {
   "cell_type": "code",
   "execution_count": 27,
   "metadata": {
    "collapsed": true
   },
   "outputs": [],
   "source": [
    "minner2 = lft.Minimizer(objfun,params1,fcn_args=(L,datset_hi))"
   ]
  },
  {
   "cell_type": "code",
   "execution_count": 28,
   "metadata": {
    "collapsed": false
   },
   "outputs": [],
   "source": [
    "result2 = minner2.minimize()"
   ]
  },
  {
   "cell_type": "code",
   "execution_count": 29,
   "metadata": {
    "collapsed": false
   },
   "outputs": [
    {
     "name": "stdout",
     "output_type": "stream",
     "text": [
      "[[Fit Statistics]]\n",
      "    # function evals   = 20\n",
      "    # data points      = 90\n",
      "    # variables        = 1\n",
      "    chi-square         = 0.015\n",
      "    reduced chi-square = 0.000\n",
      "    Akaike info crit   = -778.897\n",
      "    Bayesian info crit = -776.398\n",
      "[[Variables]]\n",
      "    k1:   1.97919583 +/- 0.053001 (2.68%) (init= 47)\n",
      "[[Correlations]] (unreported correlations are <  0.100)\n"
     ]
    }
   ],
   "source": [
    "lft.report_fit(result2)"
   ]
  },
  {
   "cell_type": "code",
   "execution_count": 30,
   "metadata": {
    "collapsed": false
   },
   "outputs": [],
   "source": [
    "result2_1 = minner2.minimize(method='nelder')"
   ]
  },
  {
   "cell_type": "code",
   "execution_count": 31,
   "metadata": {
    "collapsed": false
   },
   "outputs": [
    {
     "name": "stdout",
     "output_type": "stream",
     "text": [
      "[[Fit Statistics]]\n",
      "    # function evals   = 49\n",
      "    # data points      = 90\n",
      "    # variables        = 1\n",
      "    chi-square         = 0.015\n",
      "    reduced chi-square = 0.000\n",
      "    Akaike info crit   = -778.897\n",
      "    Bayesian info crit = -776.398\n",
      "[[Variables]]\n",
      "    k1:   1.97922668 (init= 47)\n",
      "[[Correlations]] (unreported correlations are <  0.100)\n"
     ]
    }
   ],
   "source": [
    "lft.report_fit(result2_1)"
   ]
  },
  {
   "cell_type": "code",
   "execution_count": 32,
   "metadata": {
    "collapsed": false
   },
   "outputs": [
    {
     "data": {
      "text/plain": [
       "array([[ 0.00210299,  0.0039267 ,  0.00764795,  0.01548103,  0.03274121,\n",
       "         0.06005499,  0.10950204,  0.19430923,  0.32584536,  0.478009  ,\n",
       "         0.66900443,  0.88988025,  0.82438843,  0.90640442,  1.01709131,\n",
       "         0.93780868,  1.06285922,  0.91850842],\n",
       "       [ 0.00197368,  0.00443511,  0.00836273,  0.01554318,  0.03012381,\n",
       "         0.05753577,  0.11054832,  0.18347988,  0.34550276,  0.51238188,\n",
       "         0.68924559,  0.84477134,  0.86453025,  0.94703656,  1.00167655,\n",
       "         0.93160376,  0.97467366,  0.99601642],\n",
       "       [ 0.00196913,  0.00367431,  0.00831487,  0.01427664,  0.03079626,\n",
       "         0.05760657,  0.11164888,  0.19621059,  0.30598506,  0.48486154,\n",
       "         0.63500083,  0.8026114 ,  0.88380187,  0.97764762,  0.89569599,\n",
       "         0.95100712,  0.91107475,  1.04003823],\n",
       "       [ 0.00184081,  0.00404542,  0.00826435,  0.01590995,  0.03291904,\n",
       "         0.06303045,  0.12305296,  0.206278  ,  0.33408697,  0.51996781,\n",
       "         0.66550405,  0.84275289,  0.82078404,  0.99511232,  0.98740196,\n",
       "         0.97153012,  0.96577083,  1.00143101],\n",
       "       [ 0.00200363,  0.00400015,  0.00858206,  0.01474173,  0.02836993,\n",
       "         0.05991658,  0.11374724,  0.2036056 ,  0.32195957,  0.52917836,\n",
       "         0.6753053 ,  0.83047171,  0.83807491,  0.90654252,  0.96459219,\n",
       "         1.00386455,  0.97056738,  1.02214143]])"
      ]
     },
     "execution_count": 32,
     "metadata": {},
     "output_type": "execute_result"
    }
   ],
   "source": [
    "datset"
   ]
  },
  {
   "cell_type": "code",
   "execution_count": 33,
   "metadata": {
    "collapsed": false
   },
   "outputs": [
    {
     "data": {
      "text/plain": [
       "(5, 18)"
      ]
     },
     "execution_count": 33,
     "metadata": {},
     "output_type": "execute_result"
    }
   ],
   "source": [
    "datset.shape"
   ]
  },
  {
   "cell_type": "code",
   "execution_count": 34,
   "metadata": {
    "collapsed": true
   },
   "outputs": [],
   "source": [
    "datset_errs = np.ones(datset.shape)"
   ]
  },
  {
   "cell_type": "code",
   "execution_count": 35,
   "metadata": {
    "collapsed": false
   },
   "outputs": [
    {
     "data": {
      "text/plain": [
       "array([[ 1.,  1.,  1.,  1.,  1.,  1.,  1.,  1.,  1.,  1.,  1.,  1.,  1.,\n",
       "         1.,  1.,  1.,  1.,  1.],\n",
       "       [ 1.,  1.,  1.,  1.,  1.,  1.,  1.,  1.,  1.,  1.,  1.,  1.,  1.,\n",
       "         1.,  1.,  1.,  1.,  1.],\n",
       "       [ 1.,  1.,  1.,  1.,  1.,  1.,  1.,  1.,  1.,  1.,  1.,  1.,  1.,\n",
       "         1.,  1.,  1.,  1.,  1.],\n",
       "       [ 1.,  1.,  1.,  1.,  1.,  1.,  1.,  1.,  1.,  1.,  1.,  1.,  1.,\n",
       "         1.,  1.,  1.,  1.,  1.],\n",
       "       [ 1.,  1.,  1.,  1.,  1.,  1.,  1.,  1.,  1.,  1.,  1.,  1.,  1.,\n",
       "         1.,  1.,  1.,  1.,  1.]])"
      ]
     },
     "execution_count": 35,
     "metadata": {},
     "output_type": "execute_result"
    }
   ],
   "source": [
    "datset_errs"
   ]
  },
  {
   "cell_type": "code",
   "execution_count": 36,
   "metadata": {
    "collapsed": false
   },
   "outputs": [],
   "source": [
    "twoz = datset_errs * 2"
   ]
  },
  {
   "cell_type": "code",
   "execution_count": 37,
   "metadata": {
    "collapsed": true
   },
   "outputs": [],
   "source": [
    "furs = twoz*2"
   ]
  },
  {
   "cell_type": "code",
   "execution_count": 38,
   "metadata": {
    "collapsed": false
   },
   "outputs": [
    {
     "data": {
      "text/plain": [
       "array([[ 4.,  4.,  4.,  4.,  4.,  4.,  4.,  4.,  4.,  4.,  4.,  4.,  4.,\n",
       "         4.,  4.,  4.,  4.,  4.],\n",
       "       [ 4.,  4.,  4.,  4.,  4.,  4.,  4.,  4.,  4.,  4.,  4.,  4.,  4.,\n",
       "         4.,  4.,  4.,  4.,  4.],\n",
       "       [ 4.,  4.,  4.,  4.,  4.,  4.,  4.,  4.,  4.,  4.,  4.,  4.,  4.,\n",
       "         4.,  4.,  4.,  4.,  4.],\n",
       "       [ 4.,  4.,  4.,  4.,  4.,  4.,  4.,  4.,  4.,  4.,  4.,  4.,  4.,\n",
       "         4.,  4.,  4.,  4.,  4.],\n",
       "       [ 4.,  4.,  4.,  4.,  4.,  4.,  4.,  4.,  4.,  4.,  4.,  4.,  4.,\n",
       "         4.,  4.,  4.,  4.,  4.]])"
      ]
     },
     "execution_count": 38,
     "metadata": {},
     "output_type": "execute_result"
    }
   ],
   "source": [
    "furs"
   ]
  },
  {
   "cell_type": "code",
   "execution_count": 39,
   "metadata": {
    "collapsed": false
   },
   "outputs": [
    {
     "data": {
      "text/plain": [
       "array([[ 8.,  8.,  8.,  8.,  8.,  8.,  8.,  8.,  8.,  8.,  8.,  8.,  8.,\n",
       "         8.,  8.,  8.,  8.,  8.],\n",
       "       [ 8.,  8.,  8.,  8.,  8.,  8.,  8.,  8.,  8.,  8.,  8.,  8.,  8.,\n",
       "         8.,  8.,  8.,  8.,  8.],\n",
       "       [ 8.,  8.,  8.,  8.,  8.,  8.,  8.,  8.,  8.,  8.,  8.,  8.,  8.,\n",
       "         8.,  8.,  8.,  8.,  8.],\n",
       "       [ 8.,  8.,  8.,  8.,  8.,  8.,  8.,  8.,  8.,  8.,  8.,  8.,  8.,\n",
       "         8.,  8.,  8.,  8.,  8.],\n",
       "       [ 8.,  8.,  8.,  8.,  8.,  8.,  8.,  8.,  8.,  8.,  8.,  8.,  8.,\n",
       "         8.,  8.,  8.,  8.,  8.]])"
      ]
     },
     "execution_count": 39,
     "metadata": {},
     "output_type": "execute_result"
    }
   ],
   "source": [
    "twoz * furs"
   ]
  },
  {
   "cell_type": "code",
   "execution_count": 40,
   "metadata": {
    "collapsed": false
   },
   "outputs": [
    {
     "name": "stderr",
     "output_type": "stream",
     "text": [
      "/Users/michael/miniconda3/envs/fitter/lib/python3.5/site-packages/ipykernel/__main__.py:1: VisibleDeprecationWarning: using a non-integer number instead of an integer will result in an error in the future\n",
      "  if __name__ == '__main__':\n"
     ]
    },
    {
     "data": {
      "text/plain": [
       "array([], shape=(1, 0), dtype=float64)"
      ]
     },
     "execution_count": 40,
     "metadata": {},
     "output_type": "execute_result"
    }
   ],
   "source": [
    "np.random.randn(1,0.10)"
   ]
  },
  {
   "cell_type": "code",
   "execution_count": 41,
   "metadata": {
    "collapsed": false
   },
   "outputs": [],
   "source": [
    "testvars = np.random.normal(1,0.1,100)"
   ]
  },
  {
   "cell_type": "code",
   "execution_count": 42,
   "metadata": {
    "collapsed": false
   },
   "outputs": [
    {
     "data": {
      "text/plain": [
       "1.0158981340455193"
      ]
     },
     "execution_count": 42,
     "metadata": {},
     "output_type": "execute_result"
    }
   ],
   "source": [
    "np.average(testvars)"
   ]
  },
  {
   "cell_type": "code",
   "execution_count": 43,
   "metadata": {
    "collapsed": false
   },
   "outputs": [
    {
     "data": {
      "text/plain": [
       "0.10325471735514548"
      ]
     },
     "execution_count": 43,
     "metadata": {},
     "output_type": "execute_result"
    }
   ],
   "source": [
    "np.std(testvars)"
   ]
  },
  {
   "cell_type": "code",
   "execution_count": 44,
   "metadata": {
    "collapsed": false
   },
   "outputs": [
    {
     "data": {
      "text/plain": [
       "1.2752622627279631"
      ]
     },
     "execution_count": 44,
     "metadata": {},
     "output_type": "execute_result"
    }
   ],
   "source": [
    "np.max(testvars)"
   ]
  },
  {
   "cell_type": "code",
   "execution_count": 45,
   "metadata": {
    "collapsed": false
   },
   "outputs": [
    {
     "data": {
      "text/plain": [
       "0.7320947838473344"
      ]
     },
     "execution_count": 45,
     "metadata": {},
     "output_type": "execute_result"
    }
   ],
   "source": [
    "np.min(testvars)"
   ]
  },
  {
   "cell_type": "code",
   "execution_count": 46,
   "metadata": {
    "collapsed": false
   },
   "outputs": [],
   "source": [
    "errs = np.random.normal(1,0.05,datset.shape)"
   ]
  },
  {
   "cell_type": "code",
   "execution_count": 47,
   "metadata": {
    "collapsed": false
   },
   "outputs": [
    {
     "data": {
      "text/plain": [
       "array([[ 0.9296884 ,  0.93933044,  1.01314645,  1.00186913,  0.99188924,\n",
       "         1.05035437,  0.96421564,  0.91574568,  1.00419767,  0.94170335,\n",
       "         0.92867778,  1.00102023,  0.91734658,  0.99169074,  1.04728966,\n",
       "         1.06918946,  0.96272397,  0.95356171],\n",
       "       [ 1.01706081,  0.95008755,  0.97516189,  1.01981289,  0.97222532,\n",
       "         1.12593464,  0.9861523 ,  1.07884778,  1.03067809,  1.00597914,\n",
       "         1.05941136,  0.99943012,  0.98154497,  1.01187441,  0.98724444,\n",
       "         1.13742606,  1.00425623,  0.9573058 ],\n",
       "       [ 1.00829164,  0.95078017,  0.97264729,  1.04764195,  1.06848572,\n",
       "         1.07245034,  0.97244017,  0.95403633,  1.07309045,  0.94835675,\n",
       "         1.04625669,  1.09824149,  0.93325627,  0.96315791,  1.01618118,\n",
       "         0.91297169,  1.02840905,  0.96217064],\n",
       "       [ 0.94161267,  0.92967352,  0.92433939,  0.9637043 ,  1.0387054 ,\n",
       "         1.08901774,  0.99181852,  0.9250789 ,  0.88390157,  1.01600948,\n",
       "         0.99393066,  1.06078261,  0.99592091,  1.00224069,  0.90450076,\n",
       "         0.98496642,  1.02783545,  1.0594957 ],\n",
       "       [ 0.97630313,  1.05200137,  0.98321658,  1.00444272,  1.03938972,\n",
       "         0.992851  ,  1.04411089,  0.925911  ,  1.0085525 ,  1.05441234,\n",
       "         1.02802027,  1.04893918,  1.07638803,  1.09016329,  0.94345967,\n",
       "         1.01682693,  0.98282814,  1.0214982 ]])"
      ]
     },
     "execution_count": 47,
     "metadata": {},
     "output_type": "execute_result"
    }
   ],
   "source": [
    "errs"
   ]
  },
  {
   "cell_type": "code",
   "execution_count": 48,
   "metadata": {
    "collapsed": true
   },
   "outputs": [],
   "source": [
    "datset_sds = errs*datset"
   ]
  },
  {
   "cell_type": "code",
   "execution_count": 49,
   "metadata": {
    "collapsed": false
   },
   "outputs": [],
   "source": [
    "errs = np.random.rand(10)"
   ]
  },
  {
   "cell_type": "code",
   "execution_count": 50,
   "metadata": {
    "collapsed": false
   },
   "outputs": [
    {
     "data": {
      "text/plain": [
       "array([ 0.34108571,  0.54896916,  0.71598106,  0.54937208,  0.69834183,\n",
       "        0.09164135,  0.89477728,  0.79975266,  0.80449012,  0.89511228])"
      ]
     },
     "execution_count": 50,
     "metadata": {},
     "output_type": "execute_result"
    }
   ],
   "source": [
    "errs"
   ]
  },
  {
   "cell_type": "code",
   "execution_count": 51,
   "metadata": {
    "collapsed": true
   },
   "outputs": [],
   "source": [
    "errs = np.random.normal(1,0.05,20)"
   ]
  },
  {
   "cell_type": "code",
   "execution_count": 52,
   "metadata": {
    "collapsed": false
   },
   "outputs": [
    {
     "data": {
      "text/plain": [
       "array([ 1.09993905,  1.06880694,  1.02557535,  0.97408259,  0.96786647,\n",
       "        0.97632567,  1.00301843,  1.0413388 ,  1.03224255,  1.03441099,\n",
       "        0.9975667 ,  0.97101694,  1.04326592,  0.91756161,  0.98965198,\n",
       "        0.99705637,  1.02991036,  0.94854201,  1.01260677,  0.99543449])"
      ]
     },
     "execution_count": 52,
     "metadata": {},
     "output_type": "execute_result"
    }
   ],
   "source": [
    "errs"
   ]
  },
  {
   "cell_type": "code",
   "execution_count": 53,
   "metadata": {
    "collapsed": false
   },
   "outputs": [],
   "source": [
    "errs*=0.05"
   ]
  },
  {
   "cell_type": "code",
   "execution_count": 54,
   "metadata": {
    "collapsed": false
   },
   "outputs": [
    {
     "data": {
      "text/plain": [
       "array([ 0.05499695,  0.05344035,  0.05127877,  0.04870413,  0.04839332,\n",
       "        0.04881628,  0.05015092,  0.05206694,  0.05161213,  0.05172055,\n",
       "        0.04987834,  0.04855085,  0.0521633 ,  0.04587808,  0.0494826 ,\n",
       "        0.04985282,  0.05149552,  0.0474271 ,  0.05063034,  0.04977172])"
      ]
     },
     "execution_count": 54,
     "metadata": {},
     "output_type": "execute_result"
    }
   ],
   "source": [
    "errs"
   ]
  },
  {
   "cell_type": "code",
   "execution_count": 55,
   "metadata": {
    "collapsed": true
   },
   "outputs": [],
   "source": [
    "errs = np.random.normal(1,0.05,datset.shape)"
   ]
  },
  {
   "cell_type": "code",
   "execution_count": 56,
   "metadata": {
    "collapsed": true
   },
   "outputs": [],
   "source": [
    "errs *= 0.05"
   ]
  },
  {
   "cell_type": "code",
   "execution_count": 57,
   "metadata": {
    "collapsed": true
   },
   "outputs": [],
   "source": [
    "datset_sds = errs * datset"
   ]
  },
  {
   "cell_type": "code",
   "execution_count": 58,
   "metadata": {
    "collapsed": false
   },
   "outputs": [
    {
     "data": {
      "text/plain": [
       "array([[  1.05776265e-04,   2.06377385e-04,   3.78410615e-04,\n",
       "          7.45284596e-04,   1.66211657e-03,   2.89080848e-03,\n",
       "          5.82741215e-03,   9.39487774e-03,   1.61062851e-02,\n",
       "          2.40971216e-02,   3.43239608e-02,   4.52997146e-02,\n",
       "          3.76973725e-02,   4.75873157e-02,   4.97884650e-02,\n",
       "          4.74983568e-02,   4.92545853e-02,   4.79604653e-02],\n",
       "       [  9.02268235e-05,   2.13149667e-04,   4.44874228e-04,\n",
       "          8.19181891e-04,   1.47982000e-03,   2.94508468e-03,\n",
       "          5.80742414e-03,   9.43826345e-03,   1.88321734e-02,\n",
       "          2.52368535e-02,   3.44609843e-02,   3.73377884e-02,\n",
       "          4.31298816e-02,   5.10072774e-02,   5.14708711e-02,\n",
       "          4.68806325e-02,   4.67995057e-02,   5.45054621e-02],\n",
       "       [  8.88918929e-05,   1.80160816e-04,   3.92705451e-04,\n",
       "          6.41027441e-04,   1.44791922e-03,   2.83823218e-03,\n",
       "          5.49632952e-03,   9.56578369e-03,   1.65645212e-02,\n",
       "          2.51718070e-02,   3.22135693e-02,   4.15291470e-02,\n",
       "          4.59912192e-02,   4.71967307e-02,   4.51949031e-02,\n",
       "          4.93405835e-02,   4.52700723e-02,   5.20970544e-02],\n",
       "       [  8.97667520e-05,   2.10321737e-04,   3.97786535e-04,\n",
       "          8.50448191e-04,   1.67408373e-03,   3.08566952e-03,\n",
       "          5.91250433e-03,   1.03539715e-02,   1.70953615e-02,\n",
       "          2.76604149e-02,   3.38540657e-02,   4.31454453e-02,\n",
       "          3.97891350e-02,   5.02718868e-02,   4.67676358e-02,\n",
       "          4.81339339e-02,   4.31699556e-02,   4.70913316e-02],\n",
       "       [  9.47330155e-05,   1.92118298e-04,   4.39039645e-04,\n",
       "          7.32741832e-04,   1.46428965e-03,   3.12340367e-03,\n",
       "          5.50479354e-03,   1.00990960e-02,   1.70879775e-02,\n",
       "          2.67515386e-02,   3.42606350e-02,   3.76237941e-02,\n",
       "          4.15938165e-02,   4.71512978e-02,   4.97984569e-02,\n",
       "          4.54136290e-02,   4.65016944e-02,   4.99691160e-02]])"
      ]
     },
     "execution_count": 58,
     "metadata": {},
     "output_type": "execute_result"
    }
   ],
   "source": [
    "datset_sds"
   ]
  },
  {
   "cell_type": "code",
   "execution_count": 59,
   "metadata": {
    "collapsed": false
   },
   "outputs": [
    {
     "data": {
      "image/png": "[encoded data removed]",
      "text/plain": [
       "<matplotlib.figure.Figure at 0x110ff4dd8>"
      ]
     },
     "metadata": {},
     "output_type": "display_data"
    }
   ],
   "source": [
    "for i in range(5):\n",
    "    plt.semilogx(L,datset[i],'+')\n",
    "    "
   ]
  },
  {
   "cell_type": "code",
   "execution_count": 61,
   "metadata": {
    "collapsed": false
   },
   "outputs": [
    {
     "ename": "TypeError",
     "evalue": "errorbar() missing 2 required positional arguments: 'x' and 'y'",
     "output_type": "error",
     "traceback": [
      "\u001b[0;31m---------------------------------------------------------------------------\u001b[0m",
      "\u001b[0;31mTypeError\u001b[0m                                 Traceback (most recent call last)",
      "\u001b[0;32m<ipython-input-61-2248833ffd3f>\u001b[0m in \u001b[0;36m<module>\u001b[0;34m()\u001b[0m\n\u001b[1;32m      1\u001b[0m \u001b[0mplt\u001b[0m\u001b[0;34m.\u001b[0m\u001b[0msemilogx\u001b[0m\u001b[0;34m(\u001b[0m\u001b[0mL\u001b[0m\u001b[0;34m,\u001b[0m\u001b[0mdatset\u001b[0m\u001b[0;34m[\u001b[0m\u001b[0;36m1\u001b[0m\u001b[0;34m]\u001b[0m\u001b[0;34m,\u001b[0m\u001b[0;34m'o'\u001b[0m\u001b[0;34m)\u001b[0m\u001b[0;34m\u001b[0m\u001b[0m\n\u001b[0;32m----> 2\u001b[0;31m \u001b[0mplt\u001b[0m\u001b[0;34m.\u001b[0m\u001b[0merrorbar\u001b[0m\u001b[0;34m(\u001b[0m\u001b[0;34m)\u001b[0m\u001b[0;34m\u001b[0m\u001b[0m\n\u001b[0m",
      "\u001b[0;31mTypeError\u001b[0m: errorbar() missing 2 required positional arguments: 'x' and 'y'"
     ]
    },
    {
     "data": {
      "image/png": "[encoded data removed]",
      "text/plain": [
       "<matplotlib.figure.Figure at 0x111956358>"
      ]
     },
     "metadata": {},
     "output_type": "display_data"
    }
   ],
   "source": [
    "plt.semilogx(L,datset[1],'o')\n",
    "plt.errorbar()"
   ]
  },
  {
   "cell_type": "code",
   "execution_count": 62,
   "metadata": {
    "collapsed": false,
    "scrolled": true
   },
   "outputs": [
    {
     "data": {
      "image/png": "[encoded data removed]",
      "text/plain": [
       "<matplotlib.figure.Figure at 0x111299898>"
      ]
     },
     "metadata": {},
     "output_type": "display_data"
    }
   ],
   "source": [
    "for i in range(5):\n",
    "    plt.errorbar(L, datset[i], yerr=(datset_sds[i]), marker='+', linestyle='None')\n",
    "    plt.xscale('log')"
   ]
  },
  {
   "cell_type": "code",
   "execution_count": 63,
   "metadata": {
    "collapsed": false
   },
   "outputs": [
    {
     "data": {
      "text/plain": [
       "Parameters([('k1', <Parameter 'k1', 47, bounds=[-inf:inf]>)])"
      ]
     },
     "execution_count": 63,
     "metadata": {},
     "output_type": "execute_result"
    }
   ],
   "source": [
    "params"
   ]
  },
  {
   "cell_type": "code",
   "execution_count": 65,
   "metadata": {
    "collapsed": false
   },
   "outputs": [
    {
     "data": {
      "text/plain": [
       "Parameters([('k1', <Parameter 'k1', 47, bounds=[-inf:inf]>)])"
      ]
     },
     "execution_count": 65,
     "metadata": {},
     "output_type": "execute_result"
    }
   ],
   "source": [
    "minner1.params"
   ]
  },
  {
   "cell_type": "code",
   "execution_count": 66,
   "metadata": {
    "collapsed": false
   },
   "outputs": [
    {
     "data": {
      "text/plain": [
       "Parameters([('k1',\n",
       "             <Parameter 'k1', value=1.9486636307785898 +/- 0.0723, bounds=[-inf:inf]>)])"
      ]
     },
     "execution_count": 66,
     "metadata": {},
     "output_type": "execute_result"
    }
   ],
   "source": [
    "result1.params"
   ]
  },
  {
   "cell_type": "code",
   "execution_count": 67,
   "metadata": {
    "collapsed": false
   },
   "outputs": [],
   "source": [
    "minner_wts = lft.Minimizer(objfun, params, fcn_args=(L,datset,datset_sds))"
   ]
  },
  {
   "cell_type": "code",
   "execution_count": 68,
   "metadata": {
    "collapsed": false
   },
   "outputs": [],
   "source": [
    "result_wts = minner_wts.minimize()"
   ]
  },
  {
   "cell_type": "code",
   "execution_count": 69,
   "metadata": {
    "collapsed": false
   },
   "outputs": [
    {
     "name": "stdout",
     "output_type": "stream",
     "text": [
      "[[Fit Statistics]]\n",
      "    # function evals   = 11\n",
      "    # data points      = 90\n",
      "    # variables        = 1\n",
      "    chi-square         = 49982755.262\n",
      "    reduced chi-square = 561603.992\n",
      "    Akaike info crit   = 1192.464\n",
      "    Bayesian info crit = 1194.964\n",
      "[[Variables]]\n",
      "    k1:   2.06579109 +/- 0.007117 (0.34%) (init= 47)\n",
      "[[Correlations]] (unreported correlations are <  0.100)\n"
     ]
    }
   ],
   "source": [
    "lft.report_fit(result_wts)"
   ]
  },
  {
   "cell_type": "code",
   "execution_count": 70,
   "metadata": {
    "collapsed": false
   },
   "outputs": [
    {
     "data": {
      "text/plain": [
       "Parameters([('k1',\n",
       "             <Parameter 'k1', value=2.0657910903628069 +/- 0.00712, bounds=[-inf:inf]>)])"
      ]
     },
     "execution_count": 70,
     "metadata": {},
     "output_type": "execute_result"
    }
   ],
   "source": [
    "result_wts.params"
   ]
  },
  {
   "cell_type": "code",
   "execution_count": 71,
   "metadata": {
    "collapsed": true
   },
   "outputs": [],
   "source": [
    "result_wts.params.add('noise', value=0.01, min=0.0001, max=0.1)"
   ]
  },
  {
   "cell_type": "code",
   "execution_count": 72,
   "metadata": {
    "collapsed": true
   },
   "outputs": [],
   "source": [
    "def lnprob(params,x,data,eps=None):\n",
    "    noise = params['noise']\n",
    "    return -0.5 * np.sum((objfun(params,x,data,eps) / noise)**2 + np.log(2 * np.pi * noise**2))"
   ]
  },
  {
   "cell_type": "code",
   "execution_count": 73,
   "metadata": {
    "collapsed": true
   },
   "outputs": [],
   "source": [
    "mcmc_wts = lft.Minimizer(lnprob, result_wts.params, fcn_args=(L,datset))"
   ]
  },
  {
   "cell_type": "code",
   "execution_count": 74,
   "metadata": {
    "collapsed": false
   },
   "outputs": [],
   "source": [
    "result_mcmc_wts = mcmc_wts.emcee(burn=500, steps=1000, thin=30, is_weighted=False)"
   ]
  },
  {
   "cell_type": "code",
   "execution_count": 75,
   "metadata": {
    "collapsed": true
   },
   "outputs": [],
   "source": [
    "import corner"
   ]
  },
  {
   "cell_type": "code",
   "execution_count": 76,
   "metadata": {
    "collapsed": false
   },
   "outputs": [
    {
     "data": {
      "image/png": "[encoded data removed]",
      "text/plain": [
       "<matplotlib.figure.Figure at 0x1114c01d0>"
      ]
     },
     "execution_count": 76,
     "metadata": {},
     "output_type": "execute_result"
    },
    {
     "data": {
      "image/png": "[encoded data removed]",
      "text/plain": [
       "<matplotlib.figure.Figure at 0x1114c01d0>"
      ]
     },
     "metadata": {},
     "output_type": "display_data"
    }
   ],
   "source": [
    "corner.corner(result_mcmc_wts.flatchain, bins=30)"
   ]
  },
  {
   "cell_type": "code",
   "execution_count": 77,
   "metadata": {
    "collapsed": false
   },
   "outputs": [
    {
     "data": {
      "text/plain": [
       "array([[ 0.00210299,  0.0039267 ,  0.00764795,  0.01548103,  0.03274121,\n",
       "         0.06005499,  0.10950204,  0.19430923,  0.32584536,  0.478009  ,\n",
       "         0.66900443,  0.88988025,  0.82438843,  0.90640442,  1.01709131,\n",
       "         0.93780868,  1.06285922,  0.91850842],\n",
       "       [ 0.00197368,  0.00443511,  0.00836273,  0.01554318,  0.03012381,\n",
       "         0.05753577,  0.11054832,  0.18347988,  0.34550276,  0.51238188,\n",
       "         0.68924559,  0.84477134,  0.86453025,  0.94703656,  1.00167655,\n",
       "         0.93160376,  0.97467366,  0.99601642],\n",
       "       [ 0.00196913,  0.00367431,  0.00831487,  0.01427664,  0.03079626,\n",
       "         0.05760657,  0.11164888,  0.19621059,  0.30598506,  0.48486154,\n",
       "         0.63500083,  0.8026114 ,  0.88380187,  0.97764762,  0.89569599,\n",
       "         0.95100712,  0.91107475,  1.04003823],\n",
       "       [ 0.00184081,  0.00404542,  0.00826435,  0.01590995,  0.03291904,\n",
       "         0.06303045,  0.12305296,  0.206278  ,  0.33408697,  0.51996781,\n",
       "         0.66550405,  0.84275289,  0.82078404,  0.99511232,  0.98740196,\n",
       "         0.97153012,  0.96577083,  1.00143101],\n",
       "       [ 0.00200363,  0.00400015,  0.00858206,  0.01474173,  0.02836993,\n",
       "         0.05991658,  0.11374724,  0.2036056 ,  0.32195957,  0.52917836,\n",
       "         0.6753053 ,  0.83047171,  0.83807491,  0.90654252,  0.96459219,\n",
       "         1.00386455,  0.97056738,  1.02214143]])"
      ]
     },
     "execution_count": 77,
     "metadata": {},
     "output_type": "execute_result"
    }
   ],
   "source": [
    "datset"
   ]
  },
  {
   "cell_type": "code",
   "execution_count": 78,
   "metadata": {
    "collapsed": false
   },
   "outputs": [
    {
     "data": {
      "text/plain": [
       "array([ 0.00197368,  0.00443511,  0.00836273,  0.01554318,  0.03012381,\n",
       "        0.05753577,  0.11054832,  0.18347988,  0.34550276,  0.51238188,\n",
       "        0.68924559,  0.84477134,  0.86453025,  0.94703656,  1.00167655,\n",
       "        0.93160376,  0.97467366,  0.99601642])"
      ]
     },
     "execution_count": 78,
     "metadata": {},
     "output_type": "execute_result"
    }
   ],
   "source": [
    "datset[1]"
   ]
  },
  {
   "cell_type": "code",
   "execution_count": 79,
   "metadata": {
    "collapsed": false
   },
   "outputs": [
    {
     "data": {
      "text/plain": [
       "(5, 18)"
      ]
     },
     "execution_count": 79,
     "metadata": {},
     "output_type": "execute_result"
    }
   ],
   "source": [
    "datset.shape"
   ]
  },
  {
   "cell_type": "code",
   "execution_count": null,
   "metadata": {
    "collapsed": true
   },
   "outputs": [],
   "source": []
  }
 ],
 "metadata": {
  "anaconda-cloud": {},
  "kernelspec": {
   "display_name": "Python [conda env:fitter]",
   "language": "python",
   "name": "conda-env-fitter-py"
  },
  "language_info": {
   "codemirror_mode": {
    "name": "ipython",
    "version": 3
   },
   "file_extension": ".py",
   "mimetype": "text/x-python",
   "name": "python",
   "nbconvert_exporter": "python",
   "pygments_lexer": "ipython3",
   "version": "3.5.2"
  }
 },
 "nbformat": 4,
 "nbformat_minor": 1
}
