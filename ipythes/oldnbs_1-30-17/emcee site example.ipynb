{
 "cells": [
  {
   "cell_type": "code",
   "execution_count": 3,
   "metadata": {
    "collapsed": true
   },
   "outputs": [],
   "source": [
    "import numpy as np\n",
    "\n",
    "# Choose the \"true\" parameters.\n",
    "m_true = -0.9594\n",
    "b_true = 4.294\n",
    "f_true = 0.534"
   ]
  },
  {
   "cell_type": "code",
   "execution_count": 4,
   "metadata": {
    "collapsed": true
   },
   "outputs": [],
   "source": [
    "# Generate some synthetic data from the model.\n",
    "N = 50\n",
    "x = np.sort(10*np.random.rand(N))\n",
    "yerr = 0.1+0.5*np.random.rand(N)\n",
    "y = m_true*x+b_true"
   ]
  },
  {
   "cell_type": "code",
   "execution_count": 5,
   "metadata": {
    "collapsed": false
   },
   "outputs": [
    {
     "data": {
      "text/plain": [
       "array([ 4.28082193,  4.20973969,  4.04562899,  3.75614969,  3.66990145,\n",
       "        3.63750572,  3.4788286 ,  3.29619378,  3.10831724,  2.92787835,\n",
       "        2.85747112,  2.77555511,  2.65490819,  2.59986501,  2.14541151,\n",
       "        1.86088088,  1.68397137,  1.32826038,  0.95905149,  0.63930164,\n",
       "        0.63434551,  0.51714485,  0.20231243, -0.00989648, -0.02456498,\n",
       "       -0.15415596, -0.31313337, -0.54117994, -0.8109692 , -0.915942  ,\n",
       "       -1.25298309, -1.3117923 , -1.40121554, -1.44730321, -1.55829884,\n",
       "       -1.85835944, -3.14908414, -3.44360137, -3.82667402, -4.12079849,\n",
       "       -4.45994755, -4.50473416, -4.71592834, -4.80148476, -4.80838169,\n",
       "       -5.01258732, -5.0401719 , -5.10787641, -5.1443034 , -5.27224464])"
      ]
     },
     "execution_count": 5,
     "metadata": {},
     "output_type": "execute_result"
    }
   ],
   "source": [
    "y"
   ]
  },
  {
   "cell_type": "code",
   "execution_count": 6,
   "metadata": {
    "collapsed": true
   },
   "outputs": [],
   "source": [
    "%matplotlib inline"
   ]
  },
  {
   "cell_type": "code",
   "execution_count": 7,
   "metadata": {
    "collapsed": true
   },
   "outputs": [],
   "source": [
    "import matplotlib.pyplot as plt"
   ]
  },
  {
   "cell_type": "code",
   "execution_count": 9,
   "metadata": {
    "collapsed": false
   },
   "outputs": [
    {
     "data": {
      "text/plain": [
       "[<matplotlib.lines.Line2D at 0x10d4b1b38>]"
      ]
     },
     "execution_count": 9,
     "metadata": {},
     "output_type": "execute_result"
    },
    {
     "data": {
      "image/png": "[encoded data removed]",
      "text/plain": [
       "<matplotlib.figure.Figure at 0x10ac206d8>"
      ]
     },
     "metadata": {},
     "output_type": "display_data"
    }
   ],
   "source": [
    "plt.plot(x,y,'+')"
   ]
  },
  {
   "cell_type": "code",
   "execution_count": 11,
   "metadata": {
    "collapsed": false
   },
   "outputs": [
    {
     "data": {
      "text/plain": [
       "array([ 2.28595891,  2.248001  ,  2.16036588,  2.00578393,  1.95972737,\n",
       "        1.94242806,  1.85769447,  1.76016748,  1.6598414 ,  1.56348704,\n",
       "        1.52588958,  1.48214643,  1.41772097,  1.38832792,  1.14564975,\n",
       "        0.99371039,  0.89924071,  0.70929104,  0.51213349,  0.34138708,\n",
       "        0.3387405 ,  0.27615535,  0.10803484,  0.00528472,  0.0131177 ,\n",
       "        0.08231928,  0.16721322,  0.28899009,  0.43305755,  0.48911303,\n",
       "        0.66909297,  0.70049709,  0.7482491 ,  0.77285992,  0.83213158,\n",
       "        0.99236394,  1.68161093,  1.83888313,  2.04344393,  2.20050639,\n",
       "        2.38161199,  2.40552804,  2.51830573,  2.56399286,  2.56767582,\n",
       "        2.67672163,  2.6914518 ,  2.727606  ,  2.74705802,  2.81537864])"
      ]
     },
     "execution_count": 11,
     "metadata": {},
     "output_type": "execute_result"
    }
   ],
   "source": [
    "np.abs(f_true*y)"
   ]
  },
  {
   "cell_type": "code",
   "execution_count": 12,
   "metadata": {
    "collapsed": false
   },
   "outputs": [
    {
     "data": {
      "text/plain": [
       "array([-0.3399582 , -0.80496933,  0.54849264,  0.24754649,  0.71179742])"
      ]
     },
     "execution_count": 12,
     "metadata": {},
     "output_type": "execute_result"
    }
   ],
   "source": [
    "np.random.randn(5)"
   ]
  },
  {
   "cell_type": "code",
   "execution_count": 13,
   "metadata": {
    "collapsed": true
   },
   "outputs": [],
   "source": [
    "y2 = y + np.abs(f_true*y) * np.random.randn(N)"
   ]
  },
  {
   "cell_type": "code",
   "execution_count": 14,
   "metadata": {
    "collapsed": false
   },
   "outputs": [
    {
     "data": {
      "text/plain": [
       "array([  2.54840889e+00,   5.18275259e+00,   3.25957188e+00,\n",
       "         1.63552697e+00,   1.80360312e+00,   6.40787453e+00,\n",
       "         2.73999984e+00,   2.78378221e+00,   4.79475140e+00,\n",
       "         4.36760709e+00,   9.03194980e-01,   4.67884575e-01,\n",
       "         4.14459040e+00,   2.22392346e+00,   3.24075609e+00,\n",
       "         1.48659075e+00,   2.58587738e+00,   1.30769563e+00,\n",
       "         6.89949598e-01,   1.62908314e-01,   7.06939209e-01,\n",
       "         5.02684008e-01,   7.01509285e-02,  -8.13258313e-03,\n",
       "        -3.45048694e-02,  -1.82729568e-02,  -3.33951053e-01,\n",
       "        -4.85290122e-01,  -1.69311304e-02,  -1.02246595e+00,\n",
       "        -1.77667314e+00,  -4.69249704e-03,  -1.89405591e+00,\n",
       "        -6.89679841e-01,  -1.96658242e+00,  -2.23725790e+00,\n",
       "        -3.39933473e+00,  -2.52802797e+00,  -3.61404262e+00,\n",
       "        -5.84643464e+00,  -3.73671781e+00,  -6.62562063e+00,\n",
       "        -3.45365080e+00,  -5.57979460e+00,  -2.24551793e+00,\n",
       "        -8.99621137e+00,  -6.02608561e+00,  -3.47876928e+00,\n",
       "        -4.73902936e+00,  -8.64562417e+00])"
      ]
     },
     "execution_count": 14,
     "metadata": {},
     "output_type": "execute_result"
    }
   ],
   "source": [
    "y2"
   ]
  },
  {
   "cell_type": "code",
   "execution_count": 15,
   "metadata": {
    "collapsed": false
   },
   "outputs": [
    {
     "data": {
      "text/plain": [
       "array([ 0.18655433,  0.28444037,  0.5087646 ,  0.26593249,  0.13300099,\n",
       "        0.56568398,  0.50053981,  0.56751884,  0.25002477,  0.44377764,\n",
       "        0.16468378,  0.40995497,  0.53088329,  0.5677714 ,  0.11190985,\n",
       "        0.45907697,  0.23273608,  0.2271284 ,  0.21809247,  0.47435674,\n",
       "        0.43870914,  0.12278481,  0.11017866,  0.14273805,  0.44536175,\n",
       "        0.34504059,  0.39713091,  0.53258004,  0.44045766,  0.57639103,\n",
       "        0.16891288,  0.58960871,  0.4076991 ,  0.21337758,  0.44730729,\n",
       "        0.36896358,  0.41363226,  0.38544945,  0.18720347,  0.55731411,\n",
       "        0.33180479,  0.53485821,  0.39674644,  0.22122281,  0.59298187,\n",
       "        0.20213802,  0.20931851,  0.52895961,  0.32886479,  0.33348068])"
      ]
     },
     "execution_count": 15,
     "metadata": {},
     "output_type": "execute_result"
    }
   ],
   "source": [
    "yerr"
   ]
  },
  {
   "cell_type": "code",
   "execution_count": 16,
   "metadata": {
    "collapsed": true
   },
   "outputs": [],
   "source": [
    "y3 = y2 + yerr * np.random.randn(N)"
   ]
  },
  {
   "cell_type": "code",
   "execution_count": 17,
   "metadata": {
    "collapsed": false
   },
   "outputs": [
    {
     "data": {
      "text/plain": [
       "array([  2.48529079e+00,   5.12208431e+00,   3.01804343e+00,\n",
       "         1.37604719e+00,   1.94804497e+00,   7.10245332e+00,\n",
       "         2.08037626e+00,   3.12213049e+00,   4.55003093e+00,\n",
       "         4.34861563e+00,   9.49573543e-01,  -7.64802578e-03,\n",
       "         3.95068019e+00,   1.41999640e+00,   3.16854312e+00,\n",
       "         1.58958659e+00,   2.63356085e+00,   1.48593927e+00,\n",
       "         2.99192883e-01,   6.38240252e-02,   3.95539806e-01,\n",
       "         5.88439528e-01,   2.49883162e-01,   1.77820309e-01,\n",
       "        -2.55169622e-01,  -2.53767957e-01,  -2.46597463e-01,\n",
       "        -3.28141861e-01,   3.49567767e-01,  -9.56866211e-01,\n",
       "        -1.76185966e+00,   2.90449685e-01,  -2.02622222e+00,\n",
       "        -7.42099004e-01,  -1.68902393e+00,  -2.52908111e+00,\n",
       "        -3.60289057e+00,  -2.23037330e+00,  -3.31984878e+00,\n",
       "        -6.00533543e+00,  -3.30676585e+00,  -6.41506015e+00,\n",
       "        -2.97327489e+00,  -5.71083464e+00,  -2.02193489e+00,\n",
       "        -9.15373159e+00,  -6.24522055e+00,  -3.18809663e+00,\n",
       "        -4.73033559e+00,  -8.89079644e+00])"
      ]
     },
     "execution_count": 17,
     "metadata": {},
     "output_type": "execute_result"
    }
   ],
   "source": [
    "y3"
   ]
  },
  {
   "cell_type": "code",
   "execution_count": null,
   "metadata": {
    "collapsed": true
   },
   "outputs": [],
   "source": []
  }
 ],
 "metadata": {
  "kernelspec": {
   "display_name": "Python [conda env:fitter]",
   "language": "python",
   "name": "conda-env-fitter-py"
  },
  "language_info": {
   "codemirror_mode": {
    "name": "ipython",
    "version": 3
   },
   "file_extension": ".py",
   "mimetype": "text/x-python",
   "name": "python",
   "nbconvert_exporter": "python",
   "pygments_lexer": "ipython3",
   "version": "3.5.2"
  }
 },
 "nbformat": 4,
 "nbformat_minor": 1
}
