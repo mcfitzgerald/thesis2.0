{
 "cells": [
  {
   "cell_type": "code",
   "execution_count": 61,
   "metadata": {
    "collapsed": true
   },
   "outputs": [],
   "source": [
    "import numpy as np"
   ]
  },
  {
   "cell_type": "code",
   "execution_count": 62,
   "metadata": {
    "collapsed": true
   },
   "outputs": [],
   "source": [
    "import lmfit as lft"
   ]
  },
  {
   "cell_type": "code",
   "execution_count": 63,
   "metadata": {
    "collapsed": true
   },
   "outputs": [],
   "source": [
    "import ligmods"
   ]
  },
  {
   "cell_type": "code",
   "execution_count": 64,
   "metadata": {
    "collapsed": true
   },
   "outputs": [],
   "source": [
    "L = ligmods.dilser()"
   ]
  },
  {
   "cell_type": "code",
   "execution_count": 65,
   "metadata": {
    "collapsed": true
   },
   "outputs": [],
   "source": [
    "def klotz1(flig,k1):\n",
    "    \"returns bound fraction given free ligand, L, and K (assoc.)\"\n",
    "    return (flig*k1)/(1+(flig*k1))"
   ]
  },
  {
   "cell_type": "code",
   "execution_count": 66,
   "metadata": {
    "collapsed": false
   },
   "outputs": [],
   "source": [
    "B = klotz1(L,2)"
   ]
  },
  {
   "cell_type": "code",
   "execution_count": 67,
   "metadata": {
    "collapsed": true
   },
   "outputs": [],
   "source": [
    "import matplotlib.pyplot as plt"
   ]
  },
  {
   "cell_type": "code",
   "execution_count": 68,
   "metadata": {
    "collapsed": true
   },
   "outputs": [],
   "source": [
    "%matplotlib inline"
   ]
  },
  {
   "cell_type": "code",
   "execution_count": 69,
   "metadata": {
    "collapsed": false
   },
   "outputs": [
    {
     "data": {
      "text/plain": [
       "[<matplotlib.lines.Line2D at 0x1114c43c8>]"
      ]
     },
     "execution_count": 69,
     "metadata": {},
     "output_type": "execute_result"
    },
    {
     "data": {
      "image/png": "[encoded data removed]",
      "text/plain": [
       "<matplotlib.figure.Figure at 0x111cc4748>"
      ]
     },
     "metadata": {},
     "output_type": "display_data"
    }
   ],
   "source": [
    "plt.semilogx(L,B)"
   ]
  },
  {
   "cell_type": "code",
   "execution_count": 70,
   "metadata": {
    "collapsed": true
   },
   "outputs": [],
   "source": [
    "datset = []\n",
    "for i in range(5):\n",
    "    datset.append(ligmods.noiser(B))"
   ]
  },
  {
   "cell_type": "code",
   "execution_count": 71,
   "metadata": {
    "collapsed": true
   },
   "outputs": [],
   "source": [
    "datset = np.array(datset)"
   ]
  },
  {
   "cell_type": "code",
   "execution_count": 72,
   "metadata": {
    "collapsed": false
   },
   "outputs": [
    {
     "data": {
      "text/plain": [
       "array([[ 0.00216535,  0.00383744,  0.00787106,  0.01675762,  0.03129615,\n",
       "         0.06215036,  0.10942575,  0.18306662,  0.3777844 ,  0.52229566,\n",
       "         0.69211703,  0.79763629,  0.89234875,  0.93366079,  0.97429128,\n",
       "         1.00228685,  0.98571064,  0.93548001],\n",
       "       [ 0.00198915,  0.00410239,  0.00759469,  0.01745825,  0.03017695,\n",
       "         0.05933434,  0.11174053,  0.21593811,  0.32233841,  0.50123443,\n",
       "         0.59045635,  0.88393524,  0.93780378,  0.89561906,  0.91647602,\n",
       "         0.93119443,  0.93736802,  0.99352123],\n",
       "       [ 0.00180835,  0.00412061,  0.00817626,  0.0165053 ,  0.03398984,\n",
       "         0.05655903,  0.11510444,  0.20607522,  0.34837066,  0.46055096,\n",
       "         0.60064339,  0.7379527 ,  0.86414689,  0.91487215,  0.96146738,\n",
       "         0.99834069,  1.03929653,  1.12928547],\n",
       "       [ 0.00202215,  0.00402982,  0.00842808,  0.01379452,  0.03138389,\n",
       "         0.06390113,  0.1118252 ,  0.22826528,  0.33169998,  0.51174943,\n",
       "         0.63311356,  0.84177744,  0.85801771,  0.94100063,  1.04209704,\n",
       "         0.96875623,  0.96225507,  0.98007501],\n",
       "       [ 0.00184098,  0.00387581,  0.00847307,  0.01549362,  0.03110267,\n",
       "         0.05693916,  0.11245096,  0.20952492,  0.30902773,  0.49053796,\n",
       "         0.74200136,  0.79406633,  0.82558353,  0.89779885,  0.95159951,\n",
       "         0.91427108,  1.00912802,  1.01362162]])"
      ]
     },
     "execution_count": 72,
     "metadata": {},
     "output_type": "execute_result"
    }
   ],
   "source": [
    "datset"
   ]
  },
  {
   "cell_type": "code",
   "execution_count": 73,
   "metadata": {
    "collapsed": true
   },
   "outputs": [],
   "source": [
    "datset_hi = []\n",
    "for i in range(4):\n",
    "    datset_hi.append(ligmods.noiser(B))"
   ]
  },
  {
   "cell_type": "code",
   "execution_count": 74,
   "metadata": {
    "collapsed": true
   },
   "outputs": [],
   "source": [
    "datset_hi.append(ligmods.noiser(B,percent=0.2))"
   ]
  },
  {
   "cell_type": "code",
   "execution_count": 75,
   "metadata": {
    "collapsed": true
   },
   "outputs": [],
   "source": [
    "datset_hi = np.array(datset_hi)"
   ]
  },
  {
   "cell_type": "code",
   "execution_count": 76,
   "metadata": {
    "collapsed": false
   },
   "outputs": [
    {
     "data": {
      "text/plain": [
       "array([[ 0.00187724,  0.00393101,  0.00786349,  0.01406016,  0.03238151,\n",
       "         0.05796341,  0.11827131,  0.19361001,  0.33320262,  0.52031285,\n",
       "         0.61174128,  0.81957384,  0.86740116,  0.99413731,  1.06033201,\n",
       "         0.98361759,  1.08218149,  0.96810075],\n",
       "       [ 0.00207402,  0.00436353,  0.00778438,  0.01647742,  0.02699019,\n",
       "         0.06200547,  0.11651861,  0.20336994,  0.3547509 ,  0.482354  ,\n",
       "         0.67696661,  0.82022061,  0.79320317,  1.00814525,  0.87967095,\n",
       "         1.0268228 ,  0.80765415,  0.95203818],\n",
       "       [ 0.00197448,  0.00400283,  0.00796216,  0.01471149,  0.02994043,\n",
       "         0.06496828,  0.11324511,  0.20989974,  0.34067453,  0.51373209,\n",
       "         0.72722964,  0.75389424,  0.93930348,  0.99146884,  1.0439656 ,\n",
       "         0.9524688 ,  1.05796066,  0.94472979],\n",
       "       [ 0.00205931,  0.00378524,  0.00754939,  0.0167567 ,  0.0305579 ,\n",
       "         0.0641925 ,  0.11490437,  0.20729385,  0.32166873,  0.51812871,\n",
       "         0.63868589,  0.75894897,  0.92457574,  0.96121787,  0.87393548,\n",
       "         0.94871936,  0.95627248,  0.94576387],\n",
       "       [ 0.00203924,  0.00465472,  0.00659611,  0.02140261,  0.02912508,\n",
       "         0.05101244,  0.1212155 ,  0.25818772,  0.32877104,  0.60083129,\n",
       "         0.76975112,  0.91024418,  1.04309481,  0.9753703 ,  0.92948715,\n",
       "         0.95835443,  1.37616147,  1.35164689]])"
      ]
     },
     "execution_count": 76,
     "metadata": {},
     "output_type": "execute_result"
    }
   ],
   "source": [
    "datset_hi[0:5]"
   ]
  },
  {
   "cell_type": "code",
   "execution_count": 77,
   "metadata": {
    "collapsed": false
   },
   "outputs": [
    {
     "data": {
      "text/plain": [
       "[<matplotlib.lines.Line2D at 0x11143b128>]"
      ]
     },
     "execution_count": 77,
     "metadata": {},
     "output_type": "execute_result"
    },
    {
     "data": {
      "image/png": "[encoded data removed]",
      "text/plain": [
       "<matplotlib.figure.Figure at 0x11143bcf8>"
      ]
     },
     "metadata": {},
     "output_type": "display_data"
    }
   ],
   "source": [
    "for i in range(4):\n",
    "    plt.semilogx(L,datset_hi[i],'+')\n",
    "plt.semilogx(L,datset_hi[4],'bo')"
   ]
  },
  {
   "cell_type": "code",
   "execution_count": 78,
   "metadata": {
    "collapsed": false
   },
   "outputs": [],
   "source": [
    "params = lft.Parameters()"
   ]
  },
  {
   "cell_type": "code",
   "execution_count": 79,
   "metadata": {
    "collapsed": true
   },
   "outputs": [],
   "source": [
    "params.add('k1',value=47)"
   ]
  },
  {
   "cell_type": "code",
   "execution_count": 80,
   "metadata": {
    "collapsed": false
   },
   "outputs": [
    {
     "data": {
      "text/plain": [
       "Parameters([('k1', <Parameter 'k1', 47, bounds=[-inf:inf]>)])"
      ]
     },
     "execution_count": 80,
     "metadata": {},
     "output_type": "execute_result"
    }
   ],
   "source": [
    "params"
   ]
  },
  {
   "cell_type": "code",
   "execution_count": 81,
   "metadata": {
    "collapsed": true
   },
   "outputs": [],
   "source": [
    "params1 = params"
   ]
  },
  {
   "cell_type": "code",
   "execution_count": 82,
   "metadata": {
    "collapsed": true
   },
   "outputs": [],
   "source": [
    "def objfun(params,x,data,eps=None):\n",
    "    nexp, npts = data.shape #number of experiments and number of data points per exp\n",
    "    resid = np.zeros(data.shape)\n",
    "    k1 = params['k1']\n",
    "    model = klotz1(x,k1)\n",
    "    \n",
    "    if eps is None:\n",
    "        for i in range(nexp):\n",
    "            resid[i, :] = (data[i, :] - model)\n",
    "            return resid.flatten()\n",
    "    else:\n",
    "        for i in range(nexp):\n",
    "            weights = 1/(np.square(eps[i, :]))\n",
    "            resid[i, :] = (data[i, :] - model)*weights\n",
    "            return resid.flatten()"
   ]
  },
  {
   "cell_type": "code",
   "execution_count": 83,
   "metadata": {
    "collapsed": false
   },
   "outputs": [],
   "source": [
    "minner1 = lft.Minimizer(objfun,params1,fcn_args=(L,datset))"
   ]
  },
  {
   "cell_type": "code",
   "execution_count": 84,
   "metadata": {
    "collapsed": false
   },
   "outputs": [],
   "source": [
    "result1 = minner1.minimize()"
   ]
  },
  {
   "cell_type": "code",
   "execution_count": 85,
   "metadata": {
    "collapsed": false
   },
   "outputs": [
    {
     "name": "stdout",
     "output_type": "stream",
     "text": [
      "[[Fit Statistics]]\n",
      "    # function evals   = 20\n",
      "    # data points      = 90\n",
      "    # variables        = 1\n",
      "    chi-square         = 0.006\n",
      "    reduced chi-square = 0.000\n",
      "    Akaike info crit   = -860.711\n",
      "    Bayesian info crit = -858.211\n",
      "[[Variables]]\n",
      "    k1:   2.10599421 +/- 0.035799 (1.70%) (init= 47)\n",
      "[[Correlations]] (unreported correlations are <  0.100)\n"
     ]
    }
   ],
   "source": [
    "lft.report_fit(result1)"
   ]
  },
  {
   "cell_type": "code",
   "execution_count": 86,
   "metadata": {
    "collapsed": false
   },
   "outputs": [
    {
     "data": {
      "text/plain": [
       "Parameters([('k1', <Parameter 'k1', 47, bounds=[-inf:inf]>)])"
      ]
     },
     "execution_count": 86,
     "metadata": {},
     "output_type": "execute_result"
    }
   ],
   "source": [
    "params1"
   ]
  },
  {
   "cell_type": "code",
   "execution_count": 87,
   "metadata": {
    "collapsed": true
   },
   "outputs": [],
   "source": [
    "minner2 = lft.Minimizer(objfun,params1,fcn_args=(L,datset_hi))"
   ]
  },
  {
   "cell_type": "code",
   "execution_count": 88,
   "metadata": {
    "collapsed": false
   },
   "outputs": [],
   "source": [
    "result2 = minner2.minimize()"
   ]
  },
  {
   "cell_type": "code",
   "execution_count": 89,
   "metadata": {
    "collapsed": false
   },
   "outputs": [
    {
     "name": "stdout",
     "output_type": "stream",
     "text": [
      "[[Fit Statistics]]\n",
      "    # function evals   = 20\n",
      "    # data points      = 90\n",
      "    # variables        = 1\n",
      "    chi-square         = 0.024\n",
      "    reduced chi-square = 0.000\n",
      "    Akaike info crit   = -737.664\n",
      "    Bayesian info crit = -735.165\n",
      "[[Variables]]\n",
      "    k1:   1.95067315 +/- 0.065687 (3.37%) (init= 47)\n",
      "[[Correlations]] (unreported correlations are <  0.100)\n"
     ]
    }
   ],
   "source": [
    "lft.report_fit(result2)"
   ]
  },
  {
   "cell_type": "code",
   "execution_count": 90,
   "metadata": {
    "collapsed": false
   },
   "outputs": [],
   "source": [
    "result2_1 = minner2.minimize(method='nelder')"
   ]
  },
  {
   "cell_type": "code",
   "execution_count": 91,
   "metadata": {
    "collapsed": false
   },
   "outputs": [
    {
     "name": "stdout",
     "output_type": "stream",
     "text": [
      "[[Fit Statistics]]\n",
      "    # function evals   = 49\n",
      "    # data points      = 90\n",
      "    # variables        = 1\n",
      "    chi-square         = 0.024\n",
      "    reduced chi-square = 0.000\n",
      "    Akaike info crit   = -737.664\n",
      "    Bayesian info crit = -735.165\n",
      "[[Variables]]\n",
      "    k1:   1.95068359 (init= 47)\n",
      "[[Correlations]] (unreported correlations are <  0.100)\n"
     ]
    }
   ],
   "source": [
    "lft.report_fit(result2_1)"
   ]
  },
  {
   "cell_type": "code",
   "execution_count": 92,
   "metadata": {
    "collapsed": false
   },
   "outputs": [
    {
     "data": {
      "text/plain": [
       "array([[ 0.00216535,  0.00383744,  0.00787106,  0.01675762,  0.03129615,\n",
       "         0.06215036,  0.10942575,  0.18306662,  0.3777844 ,  0.52229566,\n",
       "         0.69211703,  0.79763629,  0.89234875,  0.93366079,  0.97429128,\n",
       "         1.00228685,  0.98571064,  0.93548001],\n",
       "       [ 0.00198915,  0.00410239,  0.00759469,  0.01745825,  0.03017695,\n",
       "         0.05933434,  0.11174053,  0.21593811,  0.32233841,  0.50123443,\n",
       "         0.59045635,  0.88393524,  0.93780378,  0.89561906,  0.91647602,\n",
       "         0.93119443,  0.93736802,  0.99352123],\n",
       "       [ 0.00180835,  0.00412061,  0.00817626,  0.0165053 ,  0.03398984,\n",
       "         0.05655903,  0.11510444,  0.20607522,  0.34837066,  0.46055096,\n",
       "         0.60064339,  0.7379527 ,  0.86414689,  0.91487215,  0.96146738,\n",
       "         0.99834069,  1.03929653,  1.12928547],\n",
       "       [ 0.00202215,  0.00402982,  0.00842808,  0.01379452,  0.03138389,\n",
       "         0.06390113,  0.1118252 ,  0.22826528,  0.33169998,  0.51174943,\n",
       "         0.63311356,  0.84177744,  0.85801771,  0.94100063,  1.04209704,\n",
       "         0.96875623,  0.96225507,  0.98007501],\n",
       "       [ 0.00184098,  0.00387581,  0.00847307,  0.01549362,  0.03110267,\n",
       "         0.05693916,  0.11245096,  0.20952492,  0.30902773,  0.49053796,\n",
       "         0.74200136,  0.79406633,  0.82558353,  0.89779885,  0.95159951,\n",
       "         0.91427108,  1.00912802,  1.01362162]])"
      ]
     },
     "execution_count": 92,
     "metadata": {},
     "output_type": "execute_result"
    }
   ],
   "source": [
    "datset"
   ]
  },
  {
   "cell_type": "code",
   "execution_count": 93,
   "metadata": {
    "collapsed": false
   },
   "outputs": [
    {
     "data": {
      "text/plain": [
       "(5, 18)"
      ]
     },
     "execution_count": 93,
     "metadata": {},
     "output_type": "execute_result"
    }
   ],
   "source": [
    "datset.shape"
   ]
  },
  {
   "cell_type": "code",
   "execution_count": 94,
   "metadata": {
    "collapsed": true
   },
   "outputs": [],
   "source": [
    "datset_errs = np.ones(datset.shape)"
   ]
  },
  {
   "cell_type": "code",
   "execution_count": 95,
   "metadata": {
    "collapsed": false
   },
   "outputs": [
    {
     "data": {
      "text/plain": [
       "array([[ 1.,  1.,  1.,  1.,  1.,  1.,  1.,  1.,  1.,  1.,  1.,  1.,  1.,\n",
       "         1.,  1.,  1.,  1.,  1.],\n",
       "       [ 1.,  1.,  1.,  1.,  1.,  1.,  1.,  1.,  1.,  1.,  1.,  1.,  1.,\n",
       "         1.,  1.,  1.,  1.,  1.],\n",
       "       [ 1.,  1.,  1.,  1.,  1.,  1.,  1.,  1.,  1.,  1.,  1.,  1.,  1.,\n",
       "         1.,  1.,  1.,  1.,  1.],\n",
       "       [ 1.,  1.,  1.,  1.,  1.,  1.,  1.,  1.,  1.,  1.,  1.,  1.,  1.,\n",
       "         1.,  1.,  1.,  1.,  1.],\n",
       "       [ 1.,  1.,  1.,  1.,  1.,  1.,  1.,  1.,  1.,  1.,  1.,  1.,  1.,\n",
       "         1.,  1.,  1.,  1.,  1.]])"
      ]
     },
     "execution_count": 95,
     "metadata": {},
     "output_type": "execute_result"
    }
   ],
   "source": [
    "datset_errs"
   ]
  },
  {
   "cell_type": "code",
   "execution_count": 96,
   "metadata": {
    "collapsed": false
   },
   "outputs": [],
   "source": [
    "twoz = datset_errs * 2"
   ]
  },
  {
   "cell_type": "code",
   "execution_count": 97,
   "metadata": {
    "collapsed": true
   },
   "outputs": [],
   "source": [
    "furs = twoz*2"
   ]
  },
  {
   "cell_type": "code",
   "execution_count": 98,
   "metadata": {
    "collapsed": false
   },
   "outputs": [
    {
     "data": {
      "text/plain": [
       "array([[ 4.,  4.,  4.,  4.,  4.,  4.,  4.,  4.,  4.,  4.,  4.,  4.,  4.,\n",
       "         4.,  4.,  4.,  4.,  4.],\n",
       "       [ 4.,  4.,  4.,  4.,  4.,  4.,  4.,  4.,  4.,  4.,  4.,  4.,  4.,\n",
       "         4.,  4.,  4.,  4.,  4.],\n",
       "       [ 4.,  4.,  4.,  4.,  4.,  4.,  4.,  4.,  4.,  4.,  4.,  4.,  4.,\n",
       "         4.,  4.,  4.,  4.,  4.],\n",
       "       [ 4.,  4.,  4.,  4.,  4.,  4.,  4.,  4.,  4.,  4.,  4.,  4.,  4.,\n",
       "         4.,  4.,  4.,  4.,  4.],\n",
       "       [ 4.,  4.,  4.,  4.,  4.,  4.,  4.,  4.,  4.,  4.,  4.,  4.,  4.,\n",
       "         4.,  4.,  4.,  4.,  4.]])"
      ]
     },
     "execution_count": 98,
     "metadata": {},
     "output_type": "execute_result"
    }
   ],
   "source": [
    "furs"
   ]
  },
  {
   "cell_type": "code",
   "execution_count": 99,
   "metadata": {
    "collapsed": false
   },
   "outputs": [
    {
     "data": {
      "text/plain": [
       "array([[ 8.,  8.,  8.,  8.,  8.,  8.,  8.,  8.,  8.,  8.,  8.,  8.,  8.,\n",
       "         8.,  8.,  8.,  8.,  8.],\n",
       "       [ 8.,  8.,  8.,  8.,  8.,  8.,  8.,  8.,  8.,  8.,  8.,  8.,  8.,\n",
       "         8.,  8.,  8.,  8.,  8.],\n",
       "       [ 8.,  8.,  8.,  8.,  8.,  8.,  8.,  8.,  8.,  8.,  8.,  8.,  8.,\n",
       "         8.,  8.,  8.,  8.,  8.],\n",
       "       [ 8.,  8.,  8.,  8.,  8.,  8.,  8.,  8.,  8.,  8.,  8.,  8.,  8.,\n",
       "         8.,  8.,  8.,  8.,  8.],\n",
       "       [ 8.,  8.,  8.,  8.,  8.,  8.,  8.,  8.,  8.,  8.,  8.,  8.,  8.,\n",
       "         8.,  8.,  8.,  8.,  8.]])"
      ]
     },
     "execution_count": 99,
     "metadata": {},
     "output_type": "execute_result"
    }
   ],
   "source": [
    "twoz * furs"
   ]
  },
  {
   "cell_type": "code",
   "execution_count": 100,
   "metadata": {
    "collapsed": false
   },
   "outputs": [
    {
     "name": "stderr",
     "output_type": "stream",
     "text": [
      "/Users/michael/miniconda3/envs/fitter/lib/python3.5/site-packages/ipykernel/__main__.py:1: VisibleDeprecationWarning: using a non-integer number instead of an integer will result in an error in the future\n",
      "  if __name__ == '__main__':\n"
     ]
    },
    {
     "data": {
      "text/plain": [
       "array([], shape=(1, 0), dtype=float64)"
      ]
     },
     "execution_count": 100,
     "metadata": {},
     "output_type": "execute_result"
    }
   ],
   "source": [
    "np.random.randn(1,0.10)"
   ]
  },
  {
   "cell_type": "code",
   "execution_count": 101,
   "metadata": {
    "collapsed": false
   },
   "outputs": [],
   "source": [
    "testvars = np.random.normal(1,0.1,100)"
   ]
  },
  {
   "cell_type": "code",
   "execution_count": 102,
   "metadata": {
    "collapsed": false
   },
   "outputs": [
    {
     "data": {
      "text/plain": [
       "0.99791754493097951"
      ]
     },
     "execution_count": 102,
     "metadata": {},
     "output_type": "execute_result"
    }
   ],
   "source": [
    "np.average(testvars)"
   ]
  },
  {
   "cell_type": "code",
   "execution_count": 103,
   "metadata": {
    "collapsed": false
   },
   "outputs": [
    {
     "data": {
      "text/plain": [
       "0.097422519008472333"
      ]
     },
     "execution_count": 103,
     "metadata": {},
     "output_type": "execute_result"
    }
   ],
   "source": [
    "np.std(testvars)"
   ]
  },
  {
   "cell_type": "code",
   "execution_count": 104,
   "metadata": {
    "collapsed": false
   },
   "outputs": [
    {
     "data": {
      "text/plain": [
       "1.2784819276218666"
      ]
     },
     "execution_count": 104,
     "metadata": {},
     "output_type": "execute_result"
    }
   ],
   "source": [
    "np.max(testvars)"
   ]
  },
  {
   "cell_type": "code",
   "execution_count": 105,
   "metadata": {
    "collapsed": false
   },
   "outputs": [
    {
     "data": {
      "text/plain": [
       "0.76538946355319015"
      ]
     },
     "execution_count": 105,
     "metadata": {},
     "output_type": "execute_result"
    }
   ],
   "source": [
    "np.min(testvars)"
   ]
  },
  {
   "cell_type": "code",
   "execution_count": 106,
   "metadata": {
    "collapsed": false
   },
   "outputs": [],
   "source": [
    "errs = np.random.normal(1,0.05,datset.shape)"
   ]
  },
  {
   "cell_type": "code",
   "execution_count": 107,
   "metadata": {
    "collapsed": false
   },
   "outputs": [
    {
     "data": {
      "text/plain": [
       "array([[ 0.99602524,  1.09559521,  0.96228724,  0.94580345,  0.95845112,\n",
       "         0.99163528,  1.05366772,  0.99709618,  1.06432792,  1.0177272 ,\n",
       "         0.99667926,  0.98313588,  1.07342305,  1.00805642,  1.01110565,\n",
       "         0.98761664,  0.98675566,  1.05333058],\n",
       "       [ 1.02479793,  1.0337105 ,  0.92504185,  1.04496675,  1.00926277,\n",
       "         1.02931284,  1.00578883,  0.95531297,  1.021438  ,  1.00592025,\n",
       "         1.02326007,  0.93967542,  0.97450204,  0.99147268,  0.98075981,\n",
       "         1.04600745,  1.04182684,  1.06270382],\n",
       "       [ 1.08831002,  1.01631528,  0.97917637,  0.97230901,  0.99852602,\n",
       "         0.9581194 ,  1.0502851 ,  0.90513107,  0.96184929,  0.95276889,\n",
       "         0.99273269,  1.00624652,  1.0681076 ,  0.9604294 ,  0.90608012,\n",
       "         0.97252831,  0.98872267,  0.99511869],\n",
       "       [ 1.02280288,  1.06311521,  1.05679678,  1.01031937,  0.98595   ,\n",
       "         1.00752895,  0.88453419,  0.99388409,  0.9584128 ,  1.05195019,\n",
       "         1.0265686 ,  0.99365795,  0.88693944,  1.03250358,  1.0528697 ,\n",
       "         1.10698807,  0.94468149,  0.96798904],\n",
       "       [ 0.99938825,  0.97564712,  0.99281122,  0.95424876,  1.01186442,\n",
       "         0.9338064 ,  0.97923804,  1.1234636 ,  1.01343083,  1.0671469 ,\n",
       "         1.07228434,  0.95751544,  1.03677948,  0.93949834,  0.94373438,\n",
       "         1.03027514,  1.04818186,  1.1044253 ]])"
      ]
     },
     "execution_count": 107,
     "metadata": {},
     "output_type": "execute_result"
    }
   ],
   "source": [
    "errs"
   ]
  },
  {
   "cell_type": "code",
   "execution_count": 108,
   "metadata": {
    "collapsed": true
   },
   "outputs": [],
   "source": [
    "datset_sds = errs*datset"
   ]
  },
  {
   "cell_type": "code",
   "execution_count": 109,
   "metadata": {
    "collapsed": false
   },
   "outputs": [],
   "source": [
    "errs = np.random.rand(10)"
   ]
  },
  {
   "cell_type": "code",
   "execution_count": 110,
   "metadata": {
    "collapsed": false
   },
   "outputs": [
    {
     "data": {
      "text/plain": [
       "array([ 0.87999749,  0.68916566,  0.11694338,  0.34226022,  0.41269506,\n",
       "        0.91300537,  0.12737839,  0.88120275,  0.500851  ,  0.48259102])"
      ]
     },
     "execution_count": 110,
     "metadata": {},
     "output_type": "execute_result"
    }
   ],
   "source": [
    "errs"
   ]
  },
  {
   "cell_type": "code",
   "execution_count": 111,
   "metadata": {
    "collapsed": true
   },
   "outputs": [],
   "source": [
    "errs = np.random.normal(1,0.05,20)"
   ]
  },
  {
   "cell_type": "code",
   "execution_count": 112,
   "metadata": {
    "collapsed": false
   },
   "outputs": [
    {
     "data": {
      "text/plain": [
       "array([ 0.93087136,  1.040873  ,  0.93368521,  1.06606563,  1.01383244,\n",
       "        0.89710338,  1.04150379,  0.91196203,  0.99177167,  1.08319092,\n",
       "        1.00317185,  1.0522759 ,  1.11918689,  0.95308934,  1.02889135,\n",
       "        0.99845311,  0.97347444,  0.99003277,  1.02542927,  0.9689184 ])"
      ]
     },
     "execution_count": 112,
     "metadata": {},
     "output_type": "execute_result"
    }
   ],
   "source": [
    "errs"
   ]
  },
  {
   "cell_type": "code",
   "execution_count": 113,
   "metadata": {
    "collapsed": false
   },
   "outputs": [],
   "source": [
    "errs*=0.05"
   ]
  },
  {
   "cell_type": "code",
   "execution_count": 114,
   "metadata": {
    "collapsed": false
   },
   "outputs": [
    {
     "data": {
      "text/plain": [
       "array([ 0.04654357,  0.05204365,  0.04668426,  0.05330328,  0.05069162,\n",
       "        0.04485517,  0.05207519,  0.0455981 ,  0.04958858,  0.05415955,\n",
       "        0.05015859,  0.0526138 ,  0.05595934,  0.04765447,  0.05144457,\n",
       "        0.04992266,  0.04867372,  0.04950164,  0.05127146,  0.04844592])"
      ]
     },
     "execution_count": 114,
     "metadata": {},
     "output_type": "execute_result"
    }
   ],
   "source": [
    "errs"
   ]
  },
  {
   "cell_type": "code",
   "execution_count": 115,
   "metadata": {
    "collapsed": true
   },
   "outputs": [],
   "source": [
    "errs = np.random.normal(1,0.05,datset.shape)"
   ]
  },
  {
   "cell_type": "code",
   "execution_count": 116,
   "metadata": {
    "collapsed": true
   },
   "outputs": [],
   "source": [
    "errs *= 0.05"
   ]
  },
  {
   "cell_type": "code",
   "execution_count": 117,
   "metadata": {
    "collapsed": true
   },
   "outputs": [],
   "source": [
    "datset_sds = errs * datset"
   ]
  },
  {
   "cell_type": "code",
   "execution_count": 118,
   "metadata": {
    "collapsed": false
   },
   "outputs": [
    {
     "data": {
      "text/plain": [
       "array([[  1.07561754e-04,   1.83208952e-04,   4.21918071e-04,\n",
       "          8.82416991e-04,   1.43337578e-03,   3.28264084e-03,\n",
       "          5.29450286e-03,   9.57843175e-03,   1.77234644e-02,\n",
       "          2.42552530e-02,   3.68918163e-02,   4.15337399e-02,\n",
       "          4.28529340e-02,   4.11670939e-02,   4.99458267e-02,\n",
       "          5.19070637e-02,   4.70376485e-02,   4.49009832e-02],\n",
       "       [  9.58137837e-05,   2.13693691e-04,   3.99152250e-04,\n",
       "          8.61677800e-04,   1.35244357e-03,   2.85933483e-03,\n",
       "          6.23557509e-03,   1.11335296e-02,   1.55793840e-02,\n",
       "          2.36594980e-02,   3.05855511e-02,   4.75439492e-02,\n",
       "          4.35489553e-02,   4.59136333e-02,   4.57449169e-02,\n",
       "          4.73011276e-02,   4.76346657e-02,   4.91341323e-02],\n",
       "       [  9.12415177e-05,   2.00301102e-04,   4.20633722e-04,\n",
       "          8.45729524e-04,   1.67398797e-03,   2.81975730e-03,\n",
       "          5.77368199e-03,   1.01222747e-02,   1.77406033e-02,\n",
       "          2.20047138e-02,   3.09107839e-02,   3.78614398e-02,\n",
       "          4.29369354e-02,   4.64947688e-02,   5.10919763e-02,\n",
       "          4.96803597e-02,   4.77957541e-02,   5.75753865e-02],\n",
       "       [  1.02309562e-04,   1.96755098e-04,   4.39209797e-04,\n",
       "          7.05056812e-04,   1.57174225e-03,   3.27140704e-03,\n",
       "          5.34231865e-03,   1.22871153e-02,   1.81514539e-02,\n",
       "          2.42627231e-02,   2.96995181e-02,   4.01464421e-02,\n",
       "          4.47278805e-02,   4.62966880e-02,   5.32250001e-02,\n",
       "          4.30210776e-02,   5.36452543e-02,   5.01657603e-02],\n",
       "       [  8.65628367e-05,   1.81691121e-04,   4.31097806e-04,\n",
       "          7.50263495e-04,   1.42219127e-03,   2.81345188e-03,\n",
       "          5.32331323e-03,   1.03522114e-02,   1.49933990e-02,\n",
       "          2.41476079e-02,   3.34064799e-02,   3.95362756e-02,\n",
       "          3.98049154e-02,   4.72429113e-02,   4.81527049e-02,\n",
       "          4.43829586e-02,   5.25985986e-02,   4.73024212e-02]])"
      ]
     },
     "execution_count": 118,
     "metadata": {},
     "output_type": "execute_result"
    }
   ],
   "source": [
    "datset_sds"
   ]
  },
  {
   "cell_type": "code",
   "execution_count": 119,
   "metadata": {
    "collapsed": false
   },
   "outputs": [
    {
     "data": {
      "image/png": "[encoded data removed]",
      "text/plain": [
       "<matplotlib.figure.Figure at 0x111a65fd0>"
      ]
     },
     "metadata": {},
     "output_type": "display_data"
    }
   ],
   "source": [
    "for i in range(5):\n",
    "    plt.semilogx(L,datset[i],'+')\n",
    "    "
   ]
  },
  {
   "cell_type": "code",
   "execution_count": 120,
   "metadata": {
    "collapsed": false
   },
   "outputs": [
    {
     "data": {
      "image/png": "[encoded data removed]",
      "text/plain": [
       "<matplotlib.figure.Figure at 0x111d4d400>"
      ]
     },
     "metadata": {},
     "output_type": "display_data"
    }
   ],
   "source": [
    "for i in range(5):\n",
    "    plt.errorbar(L, datset[i], yerr=(datset_sds[i]), marker='+', linestyle='None')\n",
    "    plt.xscale('log')"
   ]
  },
  {
   "cell_type": "code",
   "execution_count": 121,
   "metadata": {
    "collapsed": false
   },
   "outputs": [
    {
     "data": {
      "text/plain": [
       "Parameters([('k1', <Parameter 'k1', 47, bounds=[-inf:inf]>)])"
      ]
     },
     "execution_count": 121,
     "metadata": {},
     "output_type": "execute_result"
    }
   ],
   "source": [
    "params"
   ]
  },
  {
   "cell_type": "code",
   "execution_count": 122,
   "metadata": {
    "collapsed": false
   },
   "outputs": [
    {
     "data": {
      "text/plain": [
       "Parameters([('k1', <Parameter 'k1', 47, bounds=[-inf:inf]>)])"
      ]
     },
     "execution_count": 122,
     "metadata": {},
     "output_type": "execute_result"
    }
   ],
   "source": [
    "minner1.params"
   ]
  },
  {
   "cell_type": "code",
   "execution_count": 123,
   "metadata": {
    "collapsed": false
   },
   "outputs": [
    {
     "data": {
      "text/plain": [
       "Parameters([('k1',\n",
       "             <Parameter 'k1', value=2.1059942129225204 +/- 0.0358, bounds=[-inf:inf]>)])"
      ]
     },
     "execution_count": 123,
     "metadata": {},
     "output_type": "execute_result"
    }
   ],
   "source": [
    "result1.params"
   ]
  },
  {
   "cell_type": "code",
   "execution_count": 124,
   "metadata": {
    "collapsed": false
   },
   "outputs": [],
   "source": [
    "minner_wts = lft.Minimizer(objfun, params, fcn_args=(L,datset,datset_sds))"
   ]
  },
  {
   "cell_type": "code",
   "execution_count": 125,
   "metadata": {
    "collapsed": false
   },
   "outputs": [],
   "source": [
    "result_wts = minner_wts.minimize()"
   ]
  },
  {
   "cell_type": "code",
   "execution_count": 126,
   "metadata": {
    "collapsed": false
   },
   "outputs": [
    {
     "name": "stdout",
     "output_type": "stream",
     "text": [
      "[[Fit Statistics]]\n",
      "    # function evals   = 11\n",
      "    # data points      = 90\n",
      "    # variables        = 1\n",
      "    chi-square         = 147410050.907\n",
      "    reduced chi-square = 1656292.707\n",
      "    Akaike info crit   = 1289.803\n",
      "    Bayesian info crit = 1292.303\n",
      "[[Variables]]\n",
      "    k1:   2.08721448 +/- 0.011974 (0.57%) (init= 47)\n",
      "[[Correlations]] (unreported correlations are <  0.100)\n"
     ]
    }
   ],
   "source": [
    "lft.report_fit(result_wts)"
   ]
  },
  {
   "cell_type": "code",
   "execution_count": 127,
   "metadata": {
    "collapsed": false
   },
   "outputs": [
    {
     "data": {
      "text/plain": [
       "Parameters([('k1',\n",
       "             <Parameter 'k1', value=2.0872144843181877 +/- 0.012, bounds=[-inf:inf]>)])"
      ]
     },
     "execution_count": 127,
     "metadata": {},
     "output_type": "execute_result"
    }
   ],
   "source": [
    "result_wts.params"
   ]
  },
  {
   "cell_type": "code",
   "execution_count": 128,
   "metadata": {
    "collapsed": true
   },
   "outputs": [],
   "source": [
    "result_wts.params.add('noise', value=0.01, min=0.0001, max=0.1)"
   ]
  },
  {
   "cell_type": "code",
   "execution_count": 129,
   "metadata": {
    "collapsed": true
   },
   "outputs": [],
   "source": [
    "def lnprob(params,x,data,eps=None):\n",
    "    noise = params['noise']\n",
    "    return -0.5 * np.sum((objfun(params,x,data,eps) / noise)**2 + np.log(2 * np.pi * noise**2))"
   ]
  },
  {
   "cell_type": "code",
   "execution_count": 130,
   "metadata": {
    "collapsed": true
   },
   "outputs": [],
   "source": [
    "mcmc_wts = lft.Minimizer(lnprob, result_wts.params, fcn_args=(L,datset))"
   ]
  },
  {
   "cell_type": "code",
   "execution_count": 131,
   "metadata": {
    "collapsed": false
   },
   "outputs": [],
   "source": [
    "result_mcmc_wts = mcmc_wts.emcee(burn=500, steps=1000, thin=30, is_weighted=False)"
   ]
  },
  {
   "cell_type": "code",
   "execution_count": 132,
   "metadata": {
    "collapsed": true
   },
   "outputs": [],
   "source": [
    "import corner"
   ]
  },
  {
   "cell_type": "code",
   "execution_count": 133,
   "metadata": {
    "collapsed": false
   },
   "outputs": [
    {
     "data": {
      "image/png": "[encoded data removed]",
      "text/plain": [
       "<matplotlib.figure.Figure at 0x110a86160>"
      ]
     },
     "execution_count": 133,
     "metadata": {},
     "output_type": "execute_result"
    },
    {
     "data": {
      "image/png": "[encoded data removed]",
      "text/plain": [
       "<matplotlib.figure.Figure at 0x110a86160>"
      ]
     },
     "metadata": {},
     "output_type": "display_data"
    }
   ],
   "source": [
    "corner.corner(result_mcmc_wts.flatchain, bins=30)"
   ]
  },
  {
   "cell_type": "code",
   "execution_count": 134,
   "metadata": {
    "collapsed": false
   },
   "outputs": [
    {
     "data": {
      "text/plain": [
       "array([[ 0.00216535,  0.00383744,  0.00787106,  0.01675762,  0.03129615,\n",
       "         0.06215036,  0.10942575,  0.18306662,  0.3777844 ,  0.52229566,\n",
       "         0.69211703,  0.79763629,  0.89234875,  0.93366079,  0.97429128,\n",
       "         1.00228685,  0.98571064,  0.93548001],\n",
       "       [ 0.00198915,  0.00410239,  0.00759469,  0.01745825,  0.03017695,\n",
       "         0.05933434,  0.11174053,  0.21593811,  0.32233841,  0.50123443,\n",
       "         0.59045635,  0.88393524,  0.93780378,  0.89561906,  0.91647602,\n",
       "         0.93119443,  0.93736802,  0.99352123],\n",
       "       [ 0.00180835,  0.00412061,  0.00817626,  0.0165053 ,  0.03398984,\n",
       "         0.05655903,  0.11510444,  0.20607522,  0.34837066,  0.46055096,\n",
       "         0.60064339,  0.7379527 ,  0.86414689,  0.91487215,  0.96146738,\n",
       "         0.99834069,  1.03929653,  1.12928547],\n",
       "       [ 0.00202215,  0.00402982,  0.00842808,  0.01379452,  0.03138389,\n",
       "         0.06390113,  0.1118252 ,  0.22826528,  0.33169998,  0.51174943,\n",
       "         0.63311356,  0.84177744,  0.85801771,  0.94100063,  1.04209704,\n",
       "         0.96875623,  0.96225507,  0.98007501],\n",
       "       [ 0.00184098,  0.00387581,  0.00847307,  0.01549362,  0.03110267,\n",
       "         0.05693916,  0.11245096,  0.20952492,  0.30902773,  0.49053796,\n",
       "         0.74200136,  0.79406633,  0.82558353,  0.89779885,  0.95159951,\n",
       "         0.91427108,  1.00912802,  1.01362162]])"
      ]
     },
     "execution_count": 134,
     "metadata": {},
     "output_type": "execute_result"
    }
   ],
   "source": [
    "datset"
   ]
  },
  {
   "cell_type": "code",
   "execution_count": 135,
   "metadata": {
    "collapsed": false
   },
   "outputs": [
    {
     "data": {
      "text/plain": [
       "array([ 0.00198915,  0.00410239,  0.00759469,  0.01745825,  0.03017695,\n",
       "        0.05933434,  0.11174053,  0.21593811,  0.32233841,  0.50123443,\n",
       "        0.59045635,  0.88393524,  0.93780378,  0.89561906,  0.91647602,\n",
       "        0.93119443,  0.93736802,  0.99352123])"
      ]
     },
     "execution_count": 135,
     "metadata": {},
     "output_type": "execute_result"
    }
   ],
   "source": [
    "datset[1]"
   ]
  },
  {
   "cell_type": "code",
   "execution_count": 136,
   "metadata": {
    "collapsed": false
   },
   "outputs": [
    {
     "data": {
      "text/plain": [
       "(5, 18)"
      ]
     },
     "execution_count": 136,
     "metadata": {},
     "output_type": "execute_result"
    }
   ],
   "source": [
    "datset.shape"
   ]
  },
  {
   "cell_type": "code",
   "execution_count": 137,
   "metadata": {
    "collapsed": false
   },
   "outputs": [
    {
     "data": {
      "text/plain": [
       "array([[ 0.00216535,  0.00383744,  0.00787106,  0.01675762,  0.03129615,\n",
       "         0.06215036,  0.10942575,  0.18306662,  0.3777844 ,  0.52229566,\n",
       "         0.69211703,  0.79763629,  0.89234875,  0.93366079,  0.97429128,\n",
       "         1.00228685,  0.98571064,  0.93548001],\n",
       "       [ 0.00198915,  0.00410239,  0.00759469,  0.01745825,  0.03017695,\n",
       "         0.05933434,  0.11174053,  0.21593811,  0.32233841,  0.50123443,\n",
       "         0.59045635,  0.88393524,  0.93780378,  0.89561906,  0.91647602,\n",
       "         0.93119443,  0.93736802,  0.99352123],\n",
       "       [ 0.00180835,  0.00412061,  0.00817626,  0.0165053 ,  0.03398984,\n",
       "         0.05655903,  0.11510444,  0.20607522,  0.34837066,  0.46055096,\n",
       "         0.60064339,  0.7379527 ,  0.86414689,  0.91487215,  0.96146738,\n",
       "         0.99834069,  1.03929653,  1.12928547],\n",
       "       [ 0.00202215,  0.00402982,  0.00842808,  0.01379452,  0.03138389,\n",
       "         0.06390113,  0.1118252 ,  0.22826528,  0.33169998,  0.51174943,\n",
       "         0.63311356,  0.84177744,  0.85801771,  0.94100063,  1.04209704,\n",
       "         0.96875623,  0.96225507,  0.98007501],\n",
       "       [ 0.00184098,  0.00387581,  0.00847307,  0.01549362,  0.03110267,\n",
       "         0.05693916,  0.11245096,  0.20952492,  0.30902773,  0.49053796,\n",
       "         0.74200136,  0.79406633,  0.82558353,  0.89779885,  0.95159951,\n",
       "         0.91427108,  1.00912802,  1.01362162]])"
      ]
     },
     "execution_count": 137,
     "metadata": {},
     "output_type": "execute_result"
    }
   ],
   "source": [
    "datset"
   ]
  },
  {
   "cell_type": "code",
   "execution_count": 140,
   "metadata": {
    "collapsed": false
   },
   "outputs": [],
   "source": [
    "datset_ed = datset"
   ]
  },
  {
   "cell_type": "code",
   "execution_count": 141,
   "metadata": {
    "collapsed": true
   },
   "outputs": [],
   "source": [
    "a = datset[1]"
   ]
  },
  {
   "cell_type": "code",
   "execution_count": 142,
   "metadata": {
    "collapsed": false
   },
   "outputs": [
    {
     "data": {
      "text/plain": [
       "array([ 0.00198915,  0.00410239,  0.00759469,  0.01745825,  0.03017695,\n",
       "        0.05933434,  0.11174053,  0.21593811,  0.32233841,  0.50123443,\n",
       "        0.59045635,  0.88393524,  0.93780378,  0.89561906,  0.91647602,\n",
       "        0.93119443,  0.93736802,  0.99352123])"
      ]
     },
     "execution_count": 142,
     "metadata": {},
     "output_type": "execute_result"
    }
   ],
   "source": [
    "a"
   ]
  },
  {
   "cell_type": "code",
   "execution_count": 145,
   "metadata": {
    "collapsed": false
   },
   "outputs": [
    {
     "data": {
      "text/plain": [
       "array([ 0.00198915,  0.00410239,  0.00759469,  0.01745825,  0.03017695,\n",
       "        0.05933434,  0.32233841,  0.50123443,  0.59045635,  0.88393524,\n",
       "        0.93780378,  0.89561906,  0.91647602,  0.93119443,  0.93736802,\n",
       "        0.99352123])"
      ]
     },
     "execution_count": 145,
     "metadata": {},
     "output_type": "execute_result"
    }
   ],
   "source": [
    "np.delete(a,[6,7])"
   ]
  },
  {
   "cell_type": "code",
   "execution_count": 146,
   "metadata": {
    "collapsed": true
   },
   "outputs": [],
   "source": [
    "datsetlist = datset.tolist()"
   ]
  },
  {
   "cell_type": "code",
   "execution_count": 147,
   "metadata": {
    "collapsed": false
   },
   "outputs": [],
   "source": [
    "datsetlist[1] = np.delete(datset_ed[1], [15,16]).tolist()"
   ]
  },
  {
   "cell_type": "code",
   "execution_count": 148,
   "metadata": {
    "collapsed": false
   },
   "outputs": [
    {
     "data": {
      "text/plain": [
       "[[0.0021653529500684898,\n",
       "  0.0038374360711251943,\n",
       "  0.007871062795100582,\n",
       "  0.016757617834792266,\n",
       "  0.03129614909050428,\n",
       "  0.062150358667197904,\n",
       "  0.10942575038877397,\n",
       "  0.18306662256702153,\n",
       "  0.3777844040959427,\n",
       "  0.5222956564828058,\n",
       "  0.692117031546628,\n",
       "  0.7976362853659018,\n",
       "  0.8923487450193887,\n",
       "  0.93366079381026,\n",
       "  0.9742912791656394,\n",
       "  1.0022868513788732,\n",
       "  0.9857106444149555,\n",
       "  0.9354800142170067],\n",
       " [0.0019891496749728415,\n",
       "  0.004102386703701615,\n",
       "  0.007594691814670061,\n",
       "  0.01745824881888713,\n",
       "  0.030176952509174165,\n",
       "  0.05933434296953377,\n",
       "  0.11174053265594268,\n",
       "  0.21593810514704498,\n",
       "  0.3223384057772006,\n",
       "  0.5012344276951713,\n",
       "  0.5904563475605931,\n",
       "  0.8839352366461701,\n",
       "  0.9378037787277318,\n",
       "  0.8956190609658387,\n",
       "  0.916476020534571,\n",
       "  0.993521225031839],\n",
       " [0.0018083524794384553,\n",
       "  0.004120613521275347,\n",
       "  0.008176259408984558,\n",
       "  0.016505297530973708,\n",
       "  0.033989839745221996,\n",
       "  0.05655903125290061,\n",
       "  0.11510443549062137,\n",
       "  0.20607521712033333,\n",
       "  0.34837066369122316,\n",
       "  0.46055096021951497,\n",
       "  0.6006433902545508,\n",
       "  0.7379526953086835,\n",
       "  0.8641468869175652,\n",
       "  0.9148721488595275,\n",
       "  0.9614673838807176,\n",
       "  0.9983406922155134,\n",
       "  1.0392965262220595,\n",
       "  1.1292854689055656],\n",
       " [0.0020221548639561423,\n",
       "  0.004029823757277879,\n",
       "  0.00842807936868638,\n",
       "  0.013794516648589945,\n",
       "  0.03138388669307771,\n",
       "  0.06390112825879321,\n",
       "  0.11182519911321709,\n",
       "  0.2282652764239375,\n",
       "  0.331699981692186,\n",
       "  0.5117494315799811,\n",
       "  0.6331135635204828,\n",
       "  0.84177744432905,\n",
       "  0.8580177078270328,\n",
       "  0.9410006333750213,\n",
       "  1.0420970379836276,\n",
       "  0.9687562303106099,\n",
       "  0.9622550698407658,\n",
       "  0.9800750123463806],\n",
       " [0.001840984739958187,\n",
       "  0.003875805725213117,\n",
       "  0.008473067440852964,\n",
       "  0.015493616024179271,\n",
       "  0.031102668472879486,\n",
       "  0.05693915663298663,\n",
       "  0.11245096181125798,\n",
       "  0.20952491736423445,\n",
       "  0.3090277258310208,\n",
       "  0.49053796479634715,\n",
       "  0.7420013584604894,\n",
       "  0.7940663326926888,\n",
       "  0.8255835301225065,\n",
       "  0.897798845331744,\n",
       "  0.9515995147313298,\n",
       "  0.9142710794633734,\n",
       "  1.0091280159215892,\n",
       "  1.0136216236884652]]"
      ]
     },
     "execution_count": 148,
     "metadata": {},
     "output_type": "execute_result"
    }
   ],
   "source": [
    "datsetlist"
   ]
  },
  {
   "cell_type": "code",
   "execution_count": 149,
   "metadata": {
    "collapsed": false
   },
   "outputs": [
    {
     "name": "stdout",
     "output_type": "stream",
     "text": [
      "18\n",
      "16\n",
      "18\n",
      "18\n",
      "18\n"
     ]
    }
   ],
   "source": [
    "for i in datsetlist:\n",
    "    print(len(i))"
   ]
  },
  {
   "cell_type": "code",
   "execution_count": 150,
   "metadata": {
    "collapsed": false
   },
   "outputs": [
    {
     "data": {
      "text/plain": [
       "array([  1.00000000e-03,   2.00000000e-03,   4.00000000e-03,\n",
       "         8.00000000e-03,   1.60000000e-02,   3.20000000e-02,\n",
       "         6.40000000e-02,   1.28000000e-01,   2.56000000e-01,\n",
       "         5.12000000e-01,   1.02400000e+00,   2.04800000e+00,\n",
       "         4.09600000e+00,   8.19200000e+00,   1.63840000e+01,\n",
       "         3.27680000e+01,   6.55360000e+01,   1.31072000e+02])"
      ]
     },
     "execution_count": 150,
     "metadata": {},
     "output_type": "execute_result"
    }
   ],
   "source": [
    "L"
   ]
  },
  {
   "cell_type": "code",
   "execution_count": 151,
   "metadata": {
    "collapsed": false
   },
   "outputs": [
    {
     "data": {
      "text/plain": [
       "18"
      ]
     },
     "execution_count": 151,
     "metadata": {},
     "output_type": "execute_result"
    }
   ],
   "source": [
    "L.size"
   ]
  },
  {
   "cell_type": "code",
   "execution_count": 152,
   "metadata": {
    "collapsed": true
   },
   "outputs": [],
   "source": [
    "liglist = L.tolist()"
   ]
  },
  {
   "cell_type": "code",
   "execution_count": 153,
   "metadata": {
    "collapsed": false
   },
   "outputs": [
    {
     "data": {
      "text/plain": [
       "[0.001,\n",
       " 0.002,\n",
       " 0.004,\n",
       " 0.008,\n",
       " 0.016,\n",
       " 0.032,\n",
       " 0.064,\n",
       " 0.128,\n",
       " 0.256,\n",
       " 0.512,\n",
       " 1.024,\n",
       " 2.048,\n",
       " 4.096,\n",
       " 8.192,\n",
       " 16.384,\n",
       " 32.768,\n",
       " 65.536,\n",
       " 131.072]"
      ]
     },
     "execution_count": 153,
     "metadata": {},
     "output_type": "execute_result"
    }
   ],
   "source": [
    "liglist"
   ]
  },
  {
   "cell_type": "code",
   "execution_count": 154,
   "metadata": {
    "collapsed": false
   },
   "outputs": [],
   "source": [
    "ligarray = [liglist for i in range(5)]"
   ]
  },
  {
   "cell_type": "code",
   "execution_count": 155,
   "metadata": {
    "collapsed": false
   },
   "outputs": [],
   "source": [
    "arb = ligarray[1]"
   ]
  },
  {
   "cell_type": "code",
   "execution_count": 156,
   "metadata": {
    "collapsed": false
   },
   "outputs": [
    {
     "data": {
      "text/plain": [
       "array([  1.00000000e-03,   2.00000000e-03,   4.00000000e-03,\n",
       "         8.00000000e-03,   1.60000000e-02,   3.20000000e-02,\n",
       "         6.40000000e-02,   1.28000000e-01,   2.56000000e-01,\n",
       "         5.12000000e-01,   1.02400000e+00,   2.04800000e+00,\n",
       "         4.09600000e+00,   8.19200000e+00,   1.63840000e+01,\n",
       "         3.27680000e+01,   6.55360000e+01,   1.31072000e+02])"
      ]
     },
     "execution_count": 156,
     "metadata": {},
     "output_type": "execute_result"
    }
   ],
   "source": [
    "L"
   ]
  },
  {
   "cell_type": "code",
   "execution_count": 157,
   "metadata": {
    "collapsed": true
   },
   "outputs": [],
   "source": [
    "L_ed = np.delete(L, [15,16])"
   ]
  },
  {
   "cell_type": "code",
   "execution_count": 158,
   "metadata": {
    "collapsed": false
   },
   "outputs": [],
   "source": [
    "led = L_ed.tolist()"
   ]
  },
  {
   "cell_type": "code",
   "execution_count": 159,
   "metadata": {
    "collapsed": false
   },
   "outputs": [
    {
     "data": {
      "text/plain": [
       "[0.001,\n",
       " 0.002,\n",
       " 0.004,\n",
       " 0.008,\n",
       " 0.016,\n",
       " 0.032,\n",
       " 0.064,\n",
       " 0.128,\n",
       " 0.256,\n",
       " 0.512,\n",
       " 1.024,\n",
       " 2.048,\n",
       " 4.096,\n",
       " 8.192,\n",
       " 16.384,\n",
       " 131.072]"
      ]
     },
     "execution_count": 159,
     "metadata": {},
     "output_type": "execute_result"
    }
   ],
   "source": [
    "led"
   ]
  },
  {
   "cell_type": "code",
   "execution_count": 160,
   "metadata": {
    "collapsed": false
   },
   "outputs": [
    {
     "data": {
      "text/plain": [
       "[0.001,\n",
       " 0.002,\n",
       " 0.004,\n",
       " 0.008,\n",
       " 0.016,\n",
       " 0.032,\n",
       " 0.064,\n",
       " 0.128,\n",
       " 0.256,\n",
       " 0.512,\n",
       " 1.024,\n",
       " 2.048,\n",
       " 4.096,\n",
       " 8.192,\n",
       " 16.384,\n",
       " 32.768,\n",
       " 65.536,\n",
       " 131.072]"
      ]
     },
     "execution_count": 160,
     "metadata": {},
     "output_type": "execute_result"
    }
   ],
   "source": [
    "liglist"
   ]
  },
  {
   "cell_type": "code",
   "execution_count": 161,
   "metadata": {
    "collapsed": true
   },
   "outputs": [],
   "source": [
    "ligarray = [liglist, led, liglist, liglist, led]"
   ]
  },
  {
   "cell_type": "code",
   "execution_count": 162,
   "metadata": {
    "collapsed": false
   },
   "outputs": [
    {
     "data": {
      "text/plain": [
       "[[0.001,\n",
       "  0.002,\n",
       "  0.004,\n",
       "  0.008,\n",
       "  0.016,\n",
       "  0.032,\n",
       "  0.064,\n",
       "  0.128,\n",
       "  0.256,\n",
       "  0.512,\n",
       "  1.024,\n",
       "  2.048,\n",
       "  4.096,\n",
       "  8.192,\n",
       "  16.384,\n",
       "  32.768,\n",
       "  65.536,\n",
       "  131.072],\n",
       " [0.001,\n",
       "  0.002,\n",
       "  0.004,\n",
       "  0.008,\n",
       "  0.016,\n",
       "  0.032,\n",
       "  0.064,\n",
       "  0.128,\n",
       "  0.256,\n",
       "  0.512,\n",
       "  1.024,\n",
       "  2.048,\n",
       "  4.096,\n",
       "  8.192,\n",
       "  16.384,\n",
       "  131.072],\n",
       " [0.001,\n",
       "  0.002,\n",
       "  0.004,\n",
       "  0.008,\n",
       "  0.016,\n",
       "  0.032,\n",
       "  0.064,\n",
       "  0.128,\n",
       "  0.256,\n",
       "  0.512,\n",
       "  1.024,\n",
       "  2.048,\n",
       "  4.096,\n",
       "  8.192,\n",
       "  16.384,\n",
       "  32.768,\n",
       "  65.536,\n",
       "  131.072],\n",
       " [0.001,\n",
       "  0.002,\n",
       "  0.004,\n",
       "  0.008,\n",
       "  0.016,\n",
       "  0.032,\n",
       "  0.064,\n",
       "  0.128,\n",
       "  0.256,\n",
       "  0.512,\n",
       "  1.024,\n",
       "  2.048,\n",
       "  4.096,\n",
       "  8.192,\n",
       "  16.384,\n",
       "  32.768,\n",
       "  65.536,\n",
       "  131.072],\n",
       " [0.001,\n",
       "  0.002,\n",
       "  0.004,\n",
       "  0.008,\n",
       "  0.016,\n",
       "  0.032,\n",
       "  0.064,\n",
       "  0.128,\n",
       "  0.256,\n",
       "  0.512,\n",
       "  1.024,\n",
       "  2.048,\n",
       "  4.096,\n",
       "  8.192,\n",
       "  16.384,\n",
       "  131.072]]"
      ]
     },
     "execution_count": 162,
     "metadata": {},
     "output_type": "execute_result"
    }
   ],
   "source": [
    "ligarray"
   ]
  },
  {
   "cell_type": "code",
   "execution_count": 163,
   "metadata": {
    "collapsed": false
   },
   "outputs": [],
   "source": [
    "ligarray = np.array(ligarray)"
   ]
  },
  {
   "cell_type": "code",
   "execution_count": 164,
   "metadata": {
    "collapsed": false
   },
   "outputs": [
    {
     "data": {
      "text/plain": [
       "(5,)"
      ]
     },
     "execution_count": 164,
     "metadata": {},
     "output_type": "execute_result"
    }
   ],
   "source": [
    "ligarray.shape"
   ]
  },
  {
   "cell_type": "code",
   "execution_count": 165,
   "metadata": {
    "collapsed": false
   },
   "outputs": [
    {
     "data": {
      "text/plain": [
       "90"
      ]
     },
     "execution_count": 165,
     "metadata": {},
     "output_type": "execute_result"
    }
   ],
   "source": [
    "datset.size"
   ]
  },
  {
   "cell_type": "code",
   "execution_count": 166,
   "metadata": {
    "collapsed": false
   },
   "outputs": [
    {
     "data": {
      "text/plain": [
       "(5, 18)"
      ]
     },
     "execution_count": 166,
     "metadata": {},
     "output_type": "execute_result"
    }
   ],
   "source": [
    "datset.shape"
   ]
  },
  {
   "cell_type": "code",
   "execution_count": 167,
   "metadata": {
    "collapsed": false
   },
   "outputs": [
    {
     "data": {
      "text/plain": [
       "[0.001,\n",
       " 0.002,\n",
       " 0.004,\n",
       " 0.008,\n",
       " 0.016,\n",
       " 0.032,\n",
       " 0.064,\n",
       " 0.128,\n",
       " 0.256,\n",
       " 0.512,\n",
       " 1.024,\n",
       " 2.048,\n",
       " 4.096,\n",
       " 8.192,\n",
       " 16.384,\n",
       " 131.072]"
      ]
     },
     "execution_count": 167,
     "metadata": {},
     "output_type": "execute_result"
    }
   ],
   "source": [
    "ligarray[1]"
   ]
  },
  {
   "cell_type": "code",
   "execution_count": 168,
   "metadata": {
    "collapsed": true
   },
   "outputs": [],
   "source": [
    "ligarray = [liglist, led, liglist, liglist, led]"
   ]
  },
  {
   "cell_type": "code",
   "execution_count": 169,
   "metadata": {
    "collapsed": false
   },
   "outputs": [],
   "source": [
    "test = np.array([np.array(i) for i in ligarray])"
   ]
  },
  {
   "cell_type": "code",
   "execution_count": 170,
   "metadata": {
    "collapsed": false
   },
   "outputs": [
    {
     "data": {
      "text/plain": [
       "(5,)"
      ]
     },
     "execution_count": 170,
     "metadata": {},
     "output_type": "execute_result"
    }
   ],
   "source": [
    "test.shape"
   ]
  },
  {
   "cell_type": "code",
   "execution_count": 171,
   "metadata": {
    "collapsed": true
   },
   "outputs": [],
   "source": [
    "testdat = test"
   ]
  },
  {
   "cell_type": "code",
   "execution_count": 172,
   "metadata": {
    "collapsed": true
   },
   "outputs": [],
   "source": [
    "ligtest = test"
   ]
  },
  {
   "cell_type": "code",
   "execution_count": 173,
   "metadata": {
    "collapsed": false
   },
   "outputs": [
    {
     "data": {
      "text/plain": [
       "0.002"
      ]
     },
     "execution_count": 173,
     "metadata": {},
     "output_type": "execute_result"
    }
   ],
   "source": [
    "ligtest[1][1]"
   ]
  },
  {
   "cell_type": "code",
   "execution_count": 174,
   "metadata": {
    "collapsed": true
   },
   "outputs": [],
   "source": [
    "bindtest = klotz1(ligtest,2)"
   ]
  },
  {
   "cell_type": "code",
   "execution_count": 175,
   "metadata": {
    "collapsed": false
   },
   "outputs": [
    {
     "data": {
      "text/plain": [
       "18"
      ]
     },
     "execution_count": 175,
     "metadata": {},
     "output_type": "execute_result"
    }
   ],
   "source": [
    "bindtest[0].size"
   ]
  },
  {
   "cell_type": "code",
   "execution_count": 176,
   "metadata": {
    "collapsed": false
   },
   "outputs": [
    {
     "data": {
      "text/plain": [
       "86"
      ]
     },
     "execution_count": 176,
     "metadata": {},
     "output_type": "execute_result"
    }
   ],
   "source": [
    "np.concatenate(bindtest).size"
   ]
  },
  {
   "cell_type": "code",
   "execution_count": 177,
   "metadata": {
    "collapsed": false
   },
   "outputs": [
    {
     "data": {
      "text/plain": [
       "(5,)"
      ]
     },
     "execution_count": 177,
     "metadata": {},
     "output_type": "execute_result"
    }
   ],
   "source": [
    "np.zeros(5).shape"
   ]
  },
  {
   "cell_type": "code",
   "execution_count": 178,
   "metadata": {
    "collapsed": false
   },
   "outputs": [
    {
     "data": {
      "text/plain": [
       "array([ 0.00216535,  0.00383744,  0.00787106,  0.01675762,  0.03129615,\n",
       "        0.06215036,  0.10942575,  0.18306662,  0.3777844 ,  0.52229566,\n",
       "        0.69211703,  0.79763629,  0.89234875,  0.93366079,  0.97429128,\n",
       "        1.00228685,  0.98571064,  0.93548001,  0.00198915,  0.00410239,\n",
       "        0.00759469,  0.01745825,  0.03017695,  0.05933434,  0.11174053,\n",
       "        0.21593811,  0.32233841,  0.50123443,  0.59045635,  0.88393524,\n",
       "        0.93780378,  0.89561906,  0.91647602,  0.93119443,  0.93736802,\n",
       "        0.99352123,  0.00180835,  0.00412061,  0.00817626,  0.0165053 ,\n",
       "        0.03398984,  0.05655903,  0.11510444,  0.20607522,  0.34837066,\n",
       "        0.46055096,  0.60064339,  0.7379527 ,  0.86414689,  0.91487215,\n",
       "        0.96146738,  0.99834069,  1.03929653,  1.12928547,  0.00202215,\n",
       "        0.00402982,  0.00842808,  0.01379452,  0.03138389,  0.06390113,\n",
       "        0.1118252 ,  0.22826528,  0.33169998,  0.51174943,  0.63311356,\n",
       "        0.84177744,  0.85801771,  0.94100063,  1.04209704,  0.96875623,\n",
       "        0.96225507,  0.98007501,  0.00184098,  0.00387581,  0.00847307,\n",
       "        0.01549362,  0.03110267,  0.05693916,  0.11245096,  0.20952492,\n",
       "        0.30902773,  0.49053796,  0.74200136,  0.79406633,  0.82558353,\n",
       "        0.89779885,  0.95159951,  0.91427108,  1.00912802,  1.01362162])"
      ]
     },
     "execution_count": 178,
     "metadata": {},
     "output_type": "execute_result"
    }
   ],
   "source": [
    "datset.flatten()"
   ]
  },
  {
   "cell_type": "code",
   "execution_count": 179,
   "metadata": {
    "collapsed": true
   },
   "outputs": [],
   "source": [
    "bindtest_n = ligmods.noiser(bindtest)"
   ]
  },
  {
   "cell_type": "code",
   "execution_count": 180,
   "metadata": {
    "collapsed": false
   },
   "outputs": [
    {
     "data": {
      "text/plain": [
       "array([ array([ 0.00189677,  0.00378597,  0.0075419 ,  0.01496503,  0.02946604,\n",
       "        0.05715968,  0.10783316,  0.19368758,  0.32178783,  0.48077392,\n",
       "        0.63850814,  0.76380409,  0.84689853,  0.89561565,  0.92213827,\n",
       "        0.93599751,  0.94308453,  0.94666844]),\n",
       "       array([ 0.00202057,  0.00403308,  0.00803415,  0.01594179,  0.03138925,\n",
       "        0.06089043,  0.11487131,  0.20632936,  0.34279058,  0.51215352,\n",
       "        0.68018289,  0.81365677,  0.9021747 ,  0.95407154,  0.98232525,\n",
       "        1.00845649]),\n",
       "       array([ 0.00189282,  0.00377811,  0.00752623,  0.01493393,  0.0294048 ,\n",
       "        0.05704089,  0.10760906,  0.19328507,  0.32111911,  0.4797748 ,\n",
       "        0.63718122,  0.76221679,  0.84513854,  0.89375443,  0.92022192,\n",
       "        0.93405236,  0.94112466,  0.94470112]),\n",
       "       array([ 0.00209417,  0.00418   ,  0.00832682,  0.01652252,  0.03253271,\n",
       "        0.06310856,  0.11905587,  0.21384558,  0.35527784,  0.53081037,\n",
       "        0.70496076,  0.84329686,  0.93503934,  0.98882669,  1.01810964,\n",
       "        1.03341128,  1.04123588,  1.04519279]),\n",
       "       array([ 0.00189942,  0.00379128,  0.00755247,  0.01498601,  0.02950734,\n",
       "        0.0572398 ,  0.1079843 ,  0.19395907,  0.32223888,  0.48144781,\n",
       "        0.63940312,  0.76487469,  0.84808561,  0.89687102,  0.92343081,\n",
       "        0.94799536])], dtype=object)"
      ]
     },
     "execution_count": 180,
     "metadata": {},
     "output_type": "execute_result"
    }
   ],
   "source": [
    "bindtest_n"
   ]
  },
  {
   "cell_type": "code",
   "execution_count": 181,
   "metadata": {
    "collapsed": true
   },
   "outputs": [],
   "source": [
    "lerst = [[1,2,3],[4,5,6]]"
   ]
  },
  {
   "cell_type": "code",
   "execution_count": 182,
   "metadata": {
    "collapsed": false
   },
   "outputs": [
    {
     "data": {
      "text/plain": [
       "array([1, 2, 3, 4, 5, 6])"
      ]
     },
     "execution_count": 182,
     "metadata": {},
     "output_type": "execute_result"
    }
   ],
   "source": [
    "np.concatenate(lerst)"
   ]
  },
  {
   "cell_type": "code",
   "execution_count": 183,
   "metadata": {
    "collapsed": false
   },
   "outputs": [
    {
     "data": {
      "text/plain": [
       "array([  1.00000000e-03,   2.00000000e-03,   4.00000000e-03,\n",
       "         8.00000000e-03,   1.60000000e-02,   3.20000000e-02,\n",
       "         6.40000000e-02,   1.28000000e-01,   2.56000000e-01,\n",
       "         5.12000000e-01,   1.02400000e+00,   2.04800000e+00,\n",
       "         4.09600000e+00,   8.19200000e+00,   1.63840000e+01,\n",
       "         1.31072000e+02])"
      ]
     },
     "execution_count": 183,
     "metadata": {},
     "output_type": "execute_result"
    }
   ],
   "source": [
    "ligtest[1]"
   ]
  },
  {
   "cell_type": "code",
   "execution_count": 184,
   "metadata": {
    "collapsed": false
   },
   "outputs": [
    {
     "data": {
      "text/plain": [
       "array([ array([ -9.92421286e-05,  -1.98088870e-04,  -3.94605607e-04,\n",
       "        -7.82996952e-04,  -1.54171493e-03,  -2.99069512e-03,\n",
       "        -5.64202059e-03,  -1.01340752e-02,  -1.68365059e-02,\n",
       "        -2.51549376e-02,  -3.34078699e-02,  -3.99635744e-02,\n",
       "        -4.43112218e-02,  -4.68601876e-02,  -4.82478975e-02,\n",
       "        -4.89730372e-02,  -4.93438428e-02,  -4.95313593e-02]),\n",
       "       array([  2.45577695e-05,   4.90176992e-05,   9.76463691e-05,\n",
       "         1.93755000e-04,   3.81502093e-04,   7.40056692e-04,\n",
       "         1.39613532e-03,   2.50770803e-03,   4.16624508e-03,\n",
       "         6.22466656e-03,   8.26688000e-03,   9.88910920e-03,\n",
       "         1.09649479e-02,   1.15956973e-02,   1.19390904e-02,\n",
       "         1.22566870e-02]),\n",
       "       array([-0.00010318, -0.00020596, -0.00041028, -0.0008141 , -0.00160295,\n",
       "       -0.00310948, -0.00586611, -0.01053659, -0.01750523, -0.02615406,\n",
       "       -0.03473479, -0.04155087, -0.0460712 , -0.04872141, -0.05016424,\n",
       "       -0.05091818, -0.05130371, -0.05149868]),\n",
       "       array([  9.81634348e-05,   1.95935780e-04,   3.90316514e-04,\n",
       "         7.74486312e-04,   1.52495754e-03,   2.95818832e-03,\n",
       "         5.58069570e-03,   1.00239248e-02,   1.66535046e-02,\n",
       "         2.48815207e-02,   3.30447493e-02,   3.95291978e-02,\n",
       "         4.38295892e-02,   4.63508495e-02,   4.77234759e-02,\n",
       "         4.84407339e-02,   4.88075091e-02,   4.89929874e-02]),\n",
       "       array([ -9.65834733e-05,  -1.92782152e-04,  -3.84034287e-04,\n",
       "        -7.62020789e-04,  -1.50041303e-03,  -2.91057565e-03,\n",
       "        -5.49087320e-03,  -9.86258754e-03,  -1.63854629e-02,\n",
       "        -2.44810473e-02,  -3.25128870e-02,  -3.88929669e-02,\n",
       "        -4.31241425e-02,  -4.56048226e-02,  -4.69553563e-02,\n",
       "        -4.82044348e-02])], dtype=object)"
      ]
     },
     "execution_count": 184,
     "metadata": {},
     "output_type": "execute_result"
    }
   ],
   "source": [
    "bindtest_n - klotz1(ligtest,2)"
   ]
  },
  {
   "cell_type": "code",
   "execution_count": 185,
   "metadata": {
    "collapsed": false
   },
   "outputs": [
    {
     "data": {
      "text/plain": [
       "array([  2.45577695e-05,   4.90176992e-05,   9.76463691e-05,\n",
       "         1.93755000e-04,   3.81502093e-04,   7.40056692e-04,\n",
       "         1.39613532e-03,   2.50770803e-03,   4.16624508e-03,\n",
       "         6.22466656e-03,   8.26688000e-03,   9.88910920e-03,\n",
       "         1.09649479e-02,   1.15956973e-02,   1.19390904e-02,\n",
       "         1.22566870e-02])"
      ]
     },
     "execution_count": 185,
     "metadata": {},
     "output_type": "execute_result"
    }
   ],
   "source": [
    "bindtest_n[1] - klotz1(ligtest[1],2)"
   ]
  },
  {
   "cell_type": "code",
   "execution_count": 186,
   "metadata": {
    "collapsed": false
   },
   "outputs": [
    {
     "data": {
      "text/plain": [
       "array([ 0.00199601,  0.00398406,  0.00793651,  0.01574803,  0.03100775,\n",
       "        0.06015038,  0.11347518,  0.20382166,  0.33862434,  0.50592885,\n",
       "        0.67191601,  0.80376766,  0.89120975,  0.94247584,  0.97038616,\n",
       "        0.9961998 ])"
      ]
     },
     "execution_count": 186,
     "metadata": {},
     "output_type": "execute_result"
    }
   ],
   "source": [
    "klotz1(ligtest[1],2)"
   ]
  },
  {
   "cell_type": "code",
   "execution_count": 189,
   "metadata": {
    "collapsed": false
   },
   "outputs": [
    {
     "data": {
      "text/plain": [
       "array([ 0.00199601,  0.00398406,  0.00793651,  0.01574803,  0.03100775,\n",
       "        0.06015038,  0.11347518,  0.20382166,  0.33862434,  0.50592885,\n",
       "        0.67191601,  0.80376766,  0.89120975,  0.94247584,  0.97038616,\n",
       "        0.9961998 ])"
      ]
     },
     "execution_count": 189,
     "metadata": {},
     "output_type": "execute_result"
    }
   ],
   "source": [
    "klotz1(ligtest[1],2)"
   ]
  },
  {
   "cell_type": "code",
   "execution_count": 191,
   "metadata": {
    "collapsed": false
   },
   "outputs": [
    {
     "data": {
      "text/plain": [
       "5"
      ]
     },
     "execution_count": 191,
     "metadata": {},
     "output_type": "execute_result"
    }
   ],
   "source": [
    "bindtest_n.size"
   ]
  },
  {
   "cell_type": "code",
   "execution_count": 192,
   "metadata": {
    "collapsed": false
   },
   "outputs": [
    {
     "data": {
      "text/plain": [
       "5"
      ]
     },
     "execution_count": 192,
     "metadata": {},
     "output_type": "execute_result"
    }
   ],
   "source": [
    "ligtest.size"
   ]
  },
  {
   "cell_type": "code",
   "execution_count": 203,
   "metadata": {
    "collapsed": false
   },
   "outputs": [
    {
     "data": {
      "text/plain": [
       "array([ -9.92421286e-05,  -1.98088870e-04,  -3.94605607e-04,\n",
       "        -7.82996952e-04,  -1.54171493e-03,  -2.99069512e-03,\n",
       "        -5.64202059e-03,  -1.01340752e-02,  -1.68365059e-02,\n",
       "        -2.51549376e-02,  -3.34078699e-02,  -3.99635744e-02,\n",
       "        -4.43112218e-02,  -4.68601876e-02,  -4.82478975e-02,\n",
       "        -4.89730372e-02,  -4.93438428e-02,  -4.95313593e-02,\n",
       "         2.45577695e-05,   4.90176992e-05,   9.76463691e-05,\n",
       "         1.93755000e-04,   3.81502093e-04,   7.40056692e-04,\n",
       "         1.39613532e-03,   2.50770803e-03,   4.16624508e-03,\n",
       "         6.22466656e-03,   8.26688000e-03,   9.88910920e-03,\n",
       "         1.09649479e-02,   1.15956973e-02,   1.19390904e-02,\n",
       "         1.22566870e-02,  -1.03183894e-04,  -2.05956697e-04,\n",
       "        -4.10278817e-04,  -8.14096551e-04,  -1.60294980e-03,\n",
       "        -3.10948156e-03,  -5.86611416e-03,  -1.05365872e-02,\n",
       "        -1.75052295e-02,  -2.61540584e-02,  -3.47347862e-02,\n",
       "        -4.15508745e-02,  -4.60712046e-02,  -4.87214120e-02,\n",
       "        -5.01642399e-02,  -5.09181812e-02,  -5.13037147e-02,\n",
       "        -5.14986791e-02,   9.81634348e-05,   1.95935780e-04,\n",
       "         3.90316514e-04,   7.74486312e-04,   1.52495754e-03,\n",
       "         2.95818832e-03,   5.58069570e-03,   1.00239248e-02,\n",
       "         1.66535046e-02,   2.48815207e-02,   3.30447493e-02,\n",
       "         3.95291978e-02,   4.38295892e-02,   4.63508495e-02,\n",
       "         4.77234759e-02,   4.84407339e-02,   4.88075091e-02,\n",
       "         4.89929874e-02,  -9.65834733e-05,  -1.92782152e-04,\n",
       "        -3.84034287e-04,  -7.62020789e-04,  -1.50041303e-03,\n",
       "        -2.91057565e-03,  -5.49087320e-03,  -9.86258754e-03,\n",
       "        -1.63854629e-02,  -2.44810473e-02,  -3.25128870e-02,\n",
       "        -3.88929669e-02,  -4.31241425e-02,  -4.56048226e-02,\n",
       "        -4.69553563e-02,  -4.82044348e-02])"
      ]
     },
     "execution_count": 203,
     "metadata": {},
     "output_type": "execute_result"
    }
   ],
   "source": [
    "np.concatenate([bindtest_n[i]-klotz1(ligtest[i],2) for i in range(bindtest_n.size)])\n",
    "    "
   ]
  },
  {
   "cell_type": "code",
   "execution_count": 204,
   "metadata": {
    "collapsed": false
   },
   "outputs": [
    {
     "data": {
      "text/plain": [
       "array([ array([  1.00000000e-03,   2.00000000e-03,   4.00000000e-03,\n",
       "         8.00000000e-03,   1.60000000e-02,   3.20000000e-02,\n",
       "         6.40000000e-02,   1.28000000e-01,   2.56000000e-01,\n",
       "         5.12000000e-01,   1.02400000e+00,   2.04800000e+00,\n",
       "         4.09600000e+00,   8.19200000e+00,   1.63840000e+01,\n",
       "         3.27680000e+01,   6.55360000e+01,   1.31072000e+02]),\n",
       "       array([  1.00000000e-03,   2.00000000e-03,   4.00000000e-03,\n",
       "         8.00000000e-03,   1.60000000e-02,   3.20000000e-02,\n",
       "         6.40000000e-02,   1.28000000e-01,   2.56000000e-01,\n",
       "         5.12000000e-01,   1.02400000e+00,   2.04800000e+00,\n",
       "         4.09600000e+00,   8.19200000e+00,   1.63840000e+01,\n",
       "         1.31072000e+02]),\n",
       "       array([  1.00000000e-03,   2.00000000e-03,   4.00000000e-03,\n",
       "         8.00000000e-03,   1.60000000e-02,   3.20000000e-02,\n",
       "         6.40000000e-02,   1.28000000e-01,   2.56000000e-01,\n",
       "         5.12000000e-01,   1.02400000e+00,   2.04800000e+00,\n",
       "         4.09600000e+00,   8.19200000e+00,   1.63840000e+01,\n",
       "         3.27680000e+01,   6.55360000e+01,   1.31072000e+02]),\n",
       "       array([  1.00000000e-03,   2.00000000e-03,   4.00000000e-03,\n",
       "         8.00000000e-03,   1.60000000e-02,   3.20000000e-02,\n",
       "         6.40000000e-02,   1.28000000e-01,   2.56000000e-01,\n",
       "         5.12000000e-01,   1.02400000e+00,   2.04800000e+00,\n",
       "         4.09600000e+00,   8.19200000e+00,   1.63840000e+01,\n",
       "         3.27680000e+01,   6.55360000e+01,   1.31072000e+02]),\n",
       "       array([  1.00000000e-03,   2.00000000e-03,   4.00000000e-03,\n",
       "         8.00000000e-03,   1.60000000e-02,   3.20000000e-02,\n",
       "         6.40000000e-02,   1.28000000e-01,   2.56000000e-01,\n",
       "         5.12000000e-01,   1.02400000e+00,   2.04800000e+00,\n",
       "         4.09600000e+00,   8.19200000e+00,   1.63840000e+01,\n",
       "         1.31072000e+02])], dtype=object)"
      ]
     },
     "execution_count": 204,
     "metadata": {},
     "output_type": "execute_result"
    }
   ],
   "source": [
    "ligtest"
   ]
  },
  {
   "cell_type": "code",
   "execution_count": 206,
   "metadata": {
    "collapsed": false
   },
   "outputs": [],
   "source": [
    "a = np.random.normal(1,0.05,)"
   ]
  },
  {
   "cell_type": "code",
   "execution_count": 207,
   "metadata": {
    "collapsed": false
   },
   "outputs": [
    {
     "data": {
      "text/plain": [
       "array([ 0.9952985 ,  1.0977587 ,  0.99182535,  1.13686621,  0.99910913,\n",
       "        1.06725731,  1.14621188,  0.99861895,  1.0365839 ,  0.92862425,\n",
       "        1.05700944,  0.77112649,  1.31114209,  0.9076368 ,  1.10030095,\n",
       "        1.16743763,  1.08464927,  1.10059148,  0.8689428 ,  0.97285537,\n",
       "        0.99975231,  1.13227336,  1.03370138,  0.97182784,  1.07543169,\n",
       "        1.24526741,  0.99823205,  0.97865062,  1.04331694,  0.99042353,\n",
       "        0.99612907,  0.90699553,  0.97593444,  0.94392889,  1.01780036,\n",
       "        1.04016585,  1.12519873,  1.13698349,  0.9913542 ,  1.01908801,\n",
       "        1.07862838,  1.02490574,  1.00107093,  1.03056678,  0.99994559,\n",
       "        1.06459   ,  0.90799908,  1.14951419,  1.07210018,  0.90815855,\n",
       "        1.0897541 ,  1.06833061,  1.01901703,  0.98776961,  0.93252421,\n",
       "        0.98758258,  1.00994754,  1.11469884,  1.14273193,  0.995362  ,\n",
       "        0.901537  ,  0.79426271,  1.14575963,  0.98576014,  0.95583861,\n",
       "        1.04135576,  1.08412725,  0.86411982,  0.93188907,  0.98761196,\n",
       "        0.86760014,  1.03820042,  1.00089494,  1.00142344,  0.85452716,\n",
       "        1.12317537,  0.97081756,  0.99226086,  0.78046041,  0.87780394,\n",
       "        1.04749041,  0.93259568,  1.1840816 ,  0.96954801,  0.94315064,\n",
       "        1.04499918,  1.01240143,  0.85294567,  0.99852787,  0.98503721,\n",
       "        1.06023451,  1.09125786,  1.07478121,  1.05398413,  1.01984902,\n",
       "        0.86254735,  0.99408191,  1.01727581,  1.00914853,  0.98380361])"
      ]
     },
     "execution_count": 207,
     "metadata": {},
     "output_type": "execute_result"
    }
   ],
   "source": [
    "a"
   ]
  },
  {
   "cell_type": "code",
   "execution_count": 208,
   "metadata": {
    "collapsed": false
   },
   "outputs": [
    {
     "data": {
      "text/plain": [
       "1.012846679923125"
      ]
     },
     "execution_count": 208,
     "metadata": {},
     "output_type": "execute_result"
    }
   ],
   "source": [
    "np.average(a)"
   ]
  },
  {
   "cell_type": "code",
   "execution_count": 209,
   "metadata": {
    "collapsed": false
   },
   "outputs": [
    {
     "data": {
      "text/plain": [
       "0.092707196001798789"
      ]
     },
     "execution_count": 209,
     "metadata": {},
     "output_type": "execute_result"
    }
   ],
   "source": [
    "np.std(a)"
   ]
  },
  {
   "cell_type": "code",
   "execution_count": 213,
   "metadata": {
    "collapsed": false
   },
   "outputs": [],
   "source": [
    "ligar = ligtest"
   ]
  },
  {
   "cell_type": "code",
   "execution_count": 214,
   "metadata": {
    "collapsed": false
   },
   "outputs": [],
   "source": [
    "bindar = klotz1(ligar,2)"
   ]
  },
  {
   "cell_type": "code",
   "execution_count": 215,
   "metadata": {
    "collapsed": false
   },
   "outputs": [
    {
     "data": {
      "text/plain": [
       "array([ array([ 0.00199601,  0.00398406,  0.00793651,  0.01574803,  0.03100775,\n",
       "        0.06015038,  0.11347518,  0.20382166,  0.33862434,  0.50592885,\n",
       "        0.67191601,  0.80376766,  0.89120975,  0.94247584,  0.97038616,\n",
       "        0.98497054,  0.99242837,  0.9961998 ]),\n",
       "       array([ 0.00199601,  0.00398406,  0.00793651,  0.01574803,  0.03100775,\n",
       "        0.06015038,  0.11347518,  0.20382166,  0.33862434,  0.50592885,\n",
       "        0.67191601,  0.80376766,  0.89120975,  0.94247584,  0.97038616,\n",
       "        0.9961998 ]),\n",
       "       array([ 0.00199601,  0.00398406,  0.00793651,  0.01574803,  0.03100775,\n",
       "        0.06015038,  0.11347518,  0.20382166,  0.33862434,  0.50592885,\n",
       "        0.67191601,  0.80376766,  0.89120975,  0.94247584,  0.97038616,\n",
       "        0.98497054,  0.99242837,  0.9961998 ]),\n",
       "       array([ 0.00199601,  0.00398406,  0.00793651,  0.01574803,  0.03100775,\n",
       "        0.06015038,  0.11347518,  0.20382166,  0.33862434,  0.50592885,\n",
       "        0.67191601,  0.80376766,  0.89120975,  0.94247584,  0.97038616,\n",
       "        0.98497054,  0.99242837,  0.9961998 ]),\n",
       "       array([ 0.00199601,  0.00398406,  0.00793651,  0.01574803,  0.03100775,\n",
       "        0.06015038,  0.11347518,  0.20382166,  0.33862434,  0.50592885,\n",
       "        0.67191601,  0.80376766,  0.89120975,  0.94247584,  0.97038616,\n",
       "        0.9961998 ])], dtype=object)"
      ]
     },
     "execution_count": 215,
     "metadata": {},
     "output_type": "execute_result"
    }
   ],
   "source": [
    "bindar"
   ]
  },
  {
   "cell_type": "code",
   "execution_count": 217,
   "metadata": {
    "collapsed": false
   },
   "outputs": [
    {
     "data": {
      "text/plain": [
       "array([ array([ 0.,  0.,  0.,  0.,  0.,  0.,  0.,  0.,  0.,  0.,  0.,  0.,  0.,\n",
       "        0.,  0.,  0.,  0.,  0.]),\n",
       "       array([ 0.,  0.,  0.,  0.,  0.,  0.,  0.,  0.,  0.,  0.,  0.,  0.,  0.,\n",
       "        0.,  0.,  0.]),\n",
       "       array([ 0.,  0.,  0.,  0.,  0.,  0.,  0.,  0.,  0.,  0.,  0.,  0.,  0.,\n",
       "        0.,  0.,  0.,  0.,  0.]),\n",
       "       array([ 0.,  0.,  0.,  0.,  0.,  0.,  0.,  0.,  0.,  0.,  0.,  0.,  0.,\n",
       "        0.,  0.,  0.,  0.,  0.]),\n",
       "       array([ 0.,  0.,  0.,  0.,  0.,  0.,  0.,  0.,  0.,  0.,  0.,  0.,  0.,\n",
       "        0.,  0.,  0.])], dtype=object)"
      ]
     },
     "execution_count": 217,
     "metadata": {},
     "output_type": "execute_result"
    }
   ],
   "source": [
    "bindar - klotz1(ligar,2)"
   ]
  },
  {
   "cell_type": "code",
   "execution_count": 218,
   "metadata": {
    "collapsed": true
   },
   "outputs": [],
   "source": [
    "bindar = ligmods.noiser(bindar)"
   ]
  },
  {
   "cell_type": "code",
   "execution_count": 219,
   "metadata": {
    "collapsed": false
   },
   "outputs": [
    {
     "data": {
      "text/plain": [
       "array([ array([  7.22336293e-05,   1.44179475e-04,   2.87214669e-04,\n",
       "         5.69906272e-04,   1.12214103e-03,   2.17678486e-03,\n",
       "         4.10655867e-03,   7.37611175e-03,   1.22544925e-02,\n",
       "         1.83090837e-02,   2.43160010e-02,   2.90875867e-02,\n",
       "         3.22520326e-02,   3.41073037e-02,   3.51173518e-02,\n",
       "         3.56451465e-02,   3.59150383e-02,   3.60515226e-02]),\n",
       "       array([ -3.98688811e-06,  -7.95789220e-06,  -1.58526265e-05,\n",
       "        -3.14556054e-05,  -6.19358432e-05,  -1.20146222e-04,\n",
       "        -2.26658830e-04,  -4.07119683e-04,  -6.76378732e-04,\n",
       "        -1.01055795e-03,  -1.34210583e-03,  -1.60547040e-03,\n",
       "        -1.78012993e-03,  -1.88253041e-03,  -1.93827935e-03,\n",
       "        -1.98984030e-03]),\n",
       "       array([  8.52837225e-05,   1.70227669e-04,   3.39104325e-04,\n",
       "         6.72868425e-04,   1.32487271e-03,   2.57005383e-03,\n",
       "         4.84847035e-03,   8.70871745e-03,   1.44684512e-02,\n",
       "         2.16168955e-02,   2.87090528e-02,   3.43426974e-02,\n",
       "         3.80788481e-02,   4.02693018e-02,   4.14618303e-02,\n",
       "         4.20849792e-02,   4.24036309e-02,   4.25647733e-02]),\n",
       "       array([-0.00013225, -0.00026397, -0.00052584, -0.00104339, -0.00205443,\n",
       "       -0.00398529, -0.00751835, -0.0135043 , -0.02243572, -0.03352057,\n",
       "       -0.04451813, -0.05325402, -0.05904754, -0.0624442 , -0.06429341,\n",
       "       -0.06525971, -0.06575383, -0.06600371]),\n",
       "       array([ -6.27311675e-05,  -1.25212410e-04,  -2.49431071e-04,\n",
       "        -4.94934093e-04,  -9.74521393e-04,  -1.89042496e-03,\n",
       "        -3.56633361e-03,  -6.40577119e-03,  -1.06423924e-02,\n",
       "        -1.59004913e-02,  -2.11171880e-02,  -2.52610632e-02,\n",
       "        -2.80092206e-02,  -2.96204275e-02,  -3.04976020e-02,\n",
       "        -3.13088810e-02])], dtype=object)"
      ]
     },
     "execution_count": 219,
     "metadata": {},
     "output_type": "execute_result"
    }
   ],
   "source": [
    "bindar - klotz1(ligar,2)"
   ]
  },
  {
   "cell_type": "code",
   "execution_count": 220,
   "metadata": {
    "collapsed": false
   },
   "outputs": [
    {
     "data": {
      "text/plain": [
       "array([ array([  7.22336293e-05,   1.44179475e-04,   2.87214669e-04,\n",
       "         5.69906272e-04,   1.12214103e-03,   2.17678486e-03,\n",
       "         4.10655867e-03,   7.37611175e-03,   1.22544925e-02,\n",
       "         1.83090837e-02,   2.43160010e-02,   2.90875867e-02,\n",
       "         3.22520326e-02,   3.41073037e-02,   3.51173518e-02,\n",
       "         3.56451465e-02,   3.59150383e-02,   3.60515226e-02]),\n",
       "       array([ -3.98688811e-06,  -7.95789220e-06,  -1.58526265e-05,\n",
       "        -3.14556054e-05,  -6.19358432e-05,  -1.20146222e-04,\n",
       "        -2.26658830e-04,  -4.07119683e-04,  -6.76378732e-04,\n",
       "        -1.01055795e-03,  -1.34210583e-03,  -1.60547040e-03,\n",
       "        -1.78012993e-03,  -1.88253041e-03,  -1.93827935e-03,\n",
       "        -1.98984030e-03]),\n",
       "       array([  8.52837225e-05,   1.70227669e-04,   3.39104325e-04,\n",
       "         6.72868425e-04,   1.32487271e-03,   2.57005383e-03,\n",
       "         4.84847035e-03,   8.70871745e-03,   1.44684512e-02,\n",
       "         2.16168955e-02,   2.87090528e-02,   3.43426974e-02,\n",
       "         3.80788481e-02,   4.02693018e-02,   4.14618303e-02,\n",
       "         4.20849792e-02,   4.24036309e-02,   4.25647733e-02]),\n",
       "       array([-0.00013225, -0.00026397, -0.00052584, -0.00104339, -0.00205443,\n",
       "       -0.00398529, -0.00751835, -0.0135043 , -0.02243572, -0.03352057,\n",
       "       -0.04451813, -0.05325402, -0.05904754, -0.0624442 , -0.06429341,\n",
       "       -0.06525971, -0.06575383, -0.06600371]),\n",
       "       array([ -6.27311675e-05,  -1.25212410e-04,  -2.49431071e-04,\n",
       "        -4.94934093e-04,  -9.74521393e-04,  -1.89042496e-03,\n",
       "        -3.56633361e-03,  -6.40577119e-03,  -1.06423924e-02,\n",
       "        -1.59004913e-02,  -2.11171880e-02,  -2.52610632e-02,\n",
       "        -2.80092206e-02,  -2.96204275e-02,  -3.04976020e-02,\n",
       "        -3.13088810e-02])], dtype=object)"
      ]
     },
     "execution_count": 220,
     "metadata": {},
     "output_type": "execute_result"
    }
   ],
   "source": [
    "bindar - klotz1(ligar,2)"
   ]
  },
  {
   "cell_type": "code",
   "execution_count": 221,
   "metadata": {
    "collapsed": true
   },
   "outputs": [],
   "source": [
    "bindar = klotz1(ligar,2)"
   ]
  },
  {
   "cell_type": "code",
   "execution_count": 222,
   "metadata": {
    "collapsed": false
   },
   "outputs": [
    {
     "data": {
      "text/plain": [
       "array([ array([ 0.00199601,  0.00398406,  0.00793651,  0.01574803,  0.03100775,\n",
       "        0.06015038,  0.11347518,  0.20382166,  0.33862434,  0.50592885,\n",
       "        0.67191601,  0.80376766,  0.89120975,  0.94247584,  0.97038616,\n",
       "        0.98497054,  0.99242837,  0.9961998 ]),\n",
       "       array([ 0.00199601,  0.00398406,  0.00793651,  0.01574803,  0.03100775,\n",
       "        0.06015038,  0.11347518,  0.20382166,  0.33862434,  0.50592885,\n",
       "        0.67191601,  0.80376766,  0.89120975,  0.94247584,  0.97038616,\n",
       "        0.9961998 ]),\n",
       "       array([ 0.00199601,  0.00398406,  0.00793651,  0.01574803,  0.03100775,\n",
       "        0.06015038,  0.11347518,  0.20382166,  0.33862434,  0.50592885,\n",
       "        0.67191601,  0.80376766,  0.89120975,  0.94247584,  0.97038616,\n",
       "        0.98497054,  0.99242837,  0.9961998 ]),\n",
       "       array([ 0.00199601,  0.00398406,  0.00793651,  0.01574803,  0.03100775,\n",
       "        0.06015038,  0.11347518,  0.20382166,  0.33862434,  0.50592885,\n",
       "        0.67191601,  0.80376766,  0.89120975,  0.94247584,  0.97038616,\n",
       "        0.98497054,  0.99242837,  0.9961998 ]),\n",
       "       array([ 0.00199601,  0.00398406,  0.00793651,  0.01574803,  0.03100775,\n",
       "        0.06015038,  0.11347518,  0.20382166,  0.33862434,  0.50592885,\n",
       "        0.67191601,  0.80376766,  0.89120975,  0.94247584,  0.97038616,\n",
       "        0.9961998 ])], dtype=object)"
      ]
     },
     "execution_count": 222,
     "metadata": {},
     "output_type": "execute_result"
    }
   ],
   "source": [
    "bindar"
   ]
  },
  {
   "cell_type": "code",
   "execution_count": 224,
   "metadata": {
    "collapsed": false
   },
   "outputs": [],
   "source": [
    "noisar = np.array([np.random.normal(1,0.05,bindar[i].size) for i in range(bindar.size)])"
   ]
  },
  {
   "cell_type": "code",
   "execution_count": 227,
   "metadata": {
    "collapsed": false
   },
   "outputs": [],
   "source": [
    "bindarn = noisar*bindar"
   ]
  },
  {
   "cell_type": "code",
   "execution_count": 228,
   "metadata": {
    "collapsed": false
   },
   "outputs": [
    {
     "data": {
      "text/plain": [
       "array([ array([ -5.81191462e-05,  -1.79504841e-04,  -5.31430637e-04,\n",
       "         5.85177026e-04,   1.98783421e-03,  -1.95155413e-03,\n",
       "        -7.00010065e-04,  -1.36659690e-02,   2.19802955e-02,\n",
       "         2.39902631e-02,  -3.24779348e-02,   8.01232172e-03,\n",
       "        -2.95929903e-02,   5.35132450e-02,   7.18835222e-02,\n",
       "         3.16722658e-02,  -1.32619548e-02,  -1.21588072e-01]),\n",
       "       array([ -3.96035900e-05,   3.31407753e-04,   5.12904337e-04,\n",
       "        -6.10904025e-04,  -6.48258544e-04,  -5.86401137e-04,\n",
       "        -3.48518125e-03,  -8.22243250e-05,   1.22475283e-02,\n",
       "        -1.56722934e-02,  -1.23918940e-02,  -2.40363876e-02,\n",
       "        -4.63403251e-02,  -1.65235337e-02,  -2.04784290e-02,\n",
       "         5.52016686e-02]),\n",
       "       array([  5.78412096e-05,   3.44061226e-05,   9.38233360e-05,\n",
       "        -6.65971246e-04,  -9.86325240e-04,  -2.42502456e-03,\n",
       "        -4.30369869e-03,  -1.85669414e-02,   8.45093029e-04,\n",
       "        -9.13479906e-04,   6.26252284e-02,  -5.80679525e-02,\n",
       "        -4.40246397e-02,  -1.42088312e-02,   1.28554642e-02,\n",
       "        -1.73644198e-02,  -1.78850270e-02,   6.65120287e-02]),\n",
       "       array([ -1.31890534e-04,   2.18943299e-04,   4.99240337e-05,\n",
       "        -8.39538411e-04,   2.17755636e-03,  -3.05840737e-03,\n",
       "        -1.73354618e-03,   1.11626998e-02,   3.26056763e-03,\n",
       "         4.41587172e-03,  -2.83769817e-02,   3.03140943e-02,\n",
       "         1.63802616e-02,   4.60120676e-02,   1.64383100e-02,\n",
       "         7.48458870e-02,   9.24183128e-03,  -3.54358887e-02]),\n",
       "       array([ -1.36288517e-05,   1.01997912e-04,  -1.62016810e-04,\n",
       "        -4.91323308e-04,   2.18345022e-04,  -3.65873478e-03,\n",
       "         3.62709315e-03,   1.08484834e-02,  -1.64030519e-02,\n",
       "         2.57561379e-02,  -8.09483103e-03,   5.58212379e-02,\n",
       "         8.47174949e-02,  -2.74258760e-03,   1.83705954e-02,\n",
       "        -4.95352604e-02])], dtype=object)"
      ]
     },
     "execution_count": 228,
     "metadata": {},
     "output_type": "execute_result"
    }
   ],
   "source": [
    "bindarn - bindar"
   ]
  },
  {
   "cell_type": "code",
   "execution_count": 229,
   "metadata": {
    "collapsed": false
   },
   "outputs": [
    {
     "data": {
      "text/plain": [
       "array([ array([ -5.81191462e-05,  -1.79504841e-04,  -5.31430637e-04,\n",
       "         5.85177026e-04,   1.98783421e-03,  -1.95155413e-03,\n",
       "        -7.00010065e-04,  -1.36659690e-02,   2.19802955e-02,\n",
       "         2.39902631e-02,  -3.24779348e-02,   8.01232172e-03,\n",
       "        -2.95929903e-02,   5.35132450e-02,   7.18835222e-02,\n",
       "         3.16722658e-02,  -1.32619548e-02,  -1.21588072e-01]),\n",
       "       array([ -3.96035900e-05,   3.31407753e-04,   5.12904337e-04,\n",
       "        -6.10904025e-04,  -6.48258544e-04,  -5.86401137e-04,\n",
       "        -3.48518125e-03,  -8.22243250e-05,   1.22475283e-02,\n",
       "        -1.56722934e-02,  -1.23918940e-02,  -2.40363876e-02,\n",
       "        -4.63403251e-02,  -1.65235337e-02,  -2.04784290e-02,\n",
       "         5.52016686e-02]),\n",
       "       array([  5.78412096e-05,   3.44061226e-05,   9.38233360e-05,\n",
       "        -6.65971246e-04,  -9.86325240e-04,  -2.42502456e-03,\n",
       "        -4.30369869e-03,  -1.85669414e-02,   8.45093029e-04,\n",
       "        -9.13479906e-04,   6.26252284e-02,  -5.80679525e-02,\n",
       "        -4.40246397e-02,  -1.42088312e-02,   1.28554642e-02,\n",
       "        -1.73644198e-02,  -1.78850270e-02,   6.65120287e-02]),\n",
       "       array([ -1.31890534e-04,   2.18943299e-04,   4.99240337e-05,\n",
       "        -8.39538411e-04,   2.17755636e-03,  -3.05840737e-03,\n",
       "        -1.73354618e-03,   1.11626998e-02,   3.26056763e-03,\n",
       "         4.41587172e-03,  -2.83769817e-02,   3.03140943e-02,\n",
       "         1.63802616e-02,   4.60120676e-02,   1.64383100e-02,\n",
       "         7.48458870e-02,   9.24183128e-03,  -3.54358887e-02]),\n",
       "       array([ -1.36288517e-05,   1.01997912e-04,  -1.62016810e-04,\n",
       "        -4.91323308e-04,   2.18345022e-04,  -3.65873478e-03,\n",
       "         3.62709315e-03,   1.08484834e-02,  -1.64030519e-02,\n",
       "         2.57561379e-02,  -8.09483103e-03,   5.58212379e-02,\n",
       "         8.47174949e-02,  -2.74258760e-03,   1.83705954e-02,\n",
       "        -4.95352604e-02])], dtype=object)"
      ]
     },
     "execution_count": 229,
     "metadata": {},
     "output_type": "execute_result"
    }
   ],
   "source": [
    "bindarn - klotz1(ligar,2)"
   ]
  },
  {
   "cell_type": "code",
   "execution_count": 230,
   "metadata": {
    "collapsed": true
   },
   "outputs": [],
   "source": [
    "def klotz_mod(flig,k1,H):\n",
    "    \"returns bound fraction given free ligand, L, and K (assoc.)\"\n",
    "    return (flig*H*k1)/(1+(flig*H*k1))"
   ]
  },
  {
   "cell_type": "code",
   "execution_count": 231,
   "metadata": {
    "collapsed": true
   },
   "outputs": [],
   "source": [
    "Har = [1,2,3,4,5]"
   ]
  },
  {
   "cell_type": "code",
   "execution_count": 232,
   "metadata": {
    "collapsed": false
   },
   "outputs": [
    {
     "data": {
      "text/plain": [
       "5"
      ]
     },
     "execution_count": 232,
     "metadata": {},
     "output_type": "execute_result"
    }
   ],
   "source": [
    "ligar.size"
   ]
  },
  {
   "cell_type": "code",
   "execution_count": 241,
   "metadata": {
    "collapsed": false
   },
   "outputs": [],
   "source": [
    "krid = np.array(klotz_mod(ligar,2,Har))"
   ]
  },
  {
   "cell_type": "code",
   "execution_count": 242,
   "metadata": {
    "collapsed": false
   },
   "outputs": [],
   "source": [
    "crud = np.array([klotz_mod(ligar[i],2,Har[i])for i in range(len(Har))])"
   ]
  },
  {
   "cell_type": "code",
   "execution_count": 237,
   "metadata": {
    "collapsed": false
   },
   "outputs": [
    {
     "data": {
      "text/plain": [
       "[1, 2, 3, 3, 4, 5]"
      ]
     },
     "execution_count": 237,
     "metadata": {},
     "output_type": "execute_result"
    }
   ],
   "source": [
    "[1,2,3] + [3, 4, 5]"
   ]
  },
  {
   "cell_type": "code",
   "execution_count": 247,
   "metadata": {
    "collapsed": false
   },
   "outputs": [
    {
     "name": "stdout",
     "output_type": "stream",
     "text": [
      "[0, 1, 2, 3, 4]\n"
     ]
    }
   ],
   "source": [
    "print(list(range(5)))"
   ]
  },
  {
   "cell_type": "code",
   "execution_count": 249,
   "metadata": {
    "collapsed": false
   },
   "outputs": [
    {
     "data": {
      "image/png": "[encoded data removed]",
      "text/plain": [
       "<matplotlib.figure.Figure at 0x112b08ac8>"
      ]
     },
     "metadata": {},
     "output_type": "display_data"
    }
   ],
   "source": [
    "for i in range(5):\n",
    "    plt.semilogx(ligar[i],krid[i],'o')"
   ]
  },
  {
   "cell_type": "code",
   "execution_count": 250,
   "metadata": {
    "collapsed": true
   },
   "outputs": [],
   "source": [
    "famar = noisar*krid"
   ]
  },
  {
   "cell_type": "code",
   "execution_count": 251,
   "metadata": {
    "collapsed": false
   },
   "outputs": [
    {
     "data": {
      "text/plain": [
       "array([ array([ 0.00193789,  0.00380456,  0.00740508,  0.01633321,  0.03299559,\n",
       "        0.05819882,  0.11277517,  0.19015569,  0.36060463,  0.52991912,\n",
       "        0.63943808,  0.81177998,  0.86161676,  0.99598908,  1.04226969,\n",
       "        1.01664281,  0.97916642,  0.87461173]),\n",
       "       array([ 0.00390501,  0.00859669,  0.01676576,  0.02980489,  0.05889285,\n",
       "        0.11236892,  0.19756165,  0.33848773,  0.52422753,  0.65110189,\n",
       "        0.78894408,  0.86455844,  0.89346983,  0.95337331,  0.96418433,\n",
       "        1.05340304]),\n",
       "       array([ 0.00613705,  0.01196011,  0.02371457,  0.04386462,  0.08480505,\n",
       "        0.15457997,  0.26693373,  0.39481887,  0.6071898 ,  0.75305829,\n",
       "        0.94017988,  0.85793627,  0.91343355,  0.96528515,  1.00304429,\n",
       "        0.97739931,  0.97948756,  1.06541101]),\n",
       "       array([ 0.00741209,  0.01661346,  0.0312028 ,  0.05694372,  0.12144411,\n",
       "        0.19345814,  0.33345122,  0.53363706,  0.6783858 ,  0.81078314,\n",
       "        0.85357135,  0.97802131,  0.98822167,  1.03305722,  1.00924008,\n",
       "        1.07189897,  1.0073909 ,  0.96351006]),\n",
       "       array([ 0.00983339,  0.02010983,  0.03767638,  0.07176303,  0.13890229,\n",
       "        0.22767843,  0.40271756,  0.59128442,  0.68426768,  0.87919152,\n",
       "        0.90005647,  1.01966132,  1.0689613 ,  0.9850653 ,  1.01274989,\n",
       "        0.94955133])], dtype=object)"
      ]
     },
     "execution_count": 251,
     "metadata": {},
     "output_type": "execute_result"
    }
   ],
   "source": [
    "famar"
   ]
  },
  {
   "cell_type": "code",
   "execution_count": 252,
   "metadata": {
    "collapsed": false
   },
   "outputs": [
    {
     "data": {
      "text/plain": [
       "array([ array([ -5.81191462e-05,  -1.79504841e-04,  -5.31430637e-04,\n",
       "         5.85177026e-04,   1.98783421e-03,  -1.95155413e-03,\n",
       "        -7.00010065e-04,  -1.36659690e-02,   2.19802955e-02,\n",
       "         2.39902631e-02,  -3.24779348e-02,   8.01232172e-03,\n",
       "        -2.95929903e-02,   5.35132450e-02,   7.18835222e-02,\n",
       "         3.16722658e-02,  -1.32619548e-02,  -1.21588072e-01]),\n",
       "       array([ -7.90493968e-05,   6.60185286e-04,   1.01773144e-03,\n",
       "        -1.20286529e-03,  -1.25752409e-03,  -1.10626030e-03,\n",
       "        -6.26000709e-03,  -1.36605492e-04,   1.82986787e-02,\n",
       "        -2.08141219e-02,  -1.48235844e-02,  -2.66513123e-02,\n",
       "        -4.90060134e-02,  -1.70128590e-02,  -2.07862087e-02,\n",
       "         5.53067570e-02]),\n",
       "       array([ 0.00017283,  0.0001024 ,  0.00027707, -0.00193691, -0.00278619,\n",
       "       -0.00649386, -0.01052292, -0.03957027,  0.00151157, -0.00136214,\n",
       "        0.08015749, -0.06680786, -0.04746729, -0.01477546,  0.01311438,\n",
       "       -0.01754017, -0.01797576,  0.06668096]),\n",
       "       array([-0.00052442,  0.00086543,  0.00019505, -0.00320666,  0.00796893,\n",
       "       -0.01036352, -0.00517312,  0.0277082 ,  0.00646979,  0.00701548,\n",
       "       -0.0376384 ,  0.03554547,  0.01783551,  0.04808668,  0.0168117 ,\n",
       "        0.07569918,  0.00929461, -0.03553717]),\n",
       "       array([ -6.76045018e-05,   5.01989725e-04,  -7.85158387e-04,\n",
       "        -2.31103926e-03,   9.71258891e-04,  -1.47458099e-02,\n",
       "         1.24736618e-02,   2.98809105e-02,  -3.48334473e-02,\n",
       "         4.25902150e-02,  -1.09755538e-02,   6.62162543e-02,\n",
       "         9.27935192e-02,  -2.87488801e-03,   1.88163754e-02,\n",
       "        -4.96863148e-02])], dtype=object)"
      ]
     },
     "execution_count": 252,
     "metadata": {},
     "output_type": "execute_result"
    }
   ],
   "source": [
    "famar-krid"
   ]
  },
  {
   "cell_type": "code",
   "execution_count": 254,
   "metadata": {
    "collapsed": false
   },
   "outputs": [
    {
     "data": {
      "image/png": "[encoded data removed]",
      "text/plain": [
       "<matplotlib.figure.Figure at 0x111f8acf8>"
      ]
     },
     "metadata": {},
     "output_type": "display_data"
    }
   ],
   "source": [
    "for i in range(5):\n",
    "    plt.semilogx(ligar[i],famar[i],'o')"
   ]
  },
  {
   "cell_type": "code",
   "execution_count": 255,
   "metadata": {
    "collapsed": false
   },
   "outputs": [
    {
     "data": {
      "text/plain": [
       "numpy.ndarray"
      ]
     },
     "execution_count": 255,
     "metadata": {},
     "output_type": "execute_result"
    }
   ],
   "source": [
    "type(famar)"
   ]
  },
  {
   "cell_type": "code",
   "execution_count": 258,
   "metadata": {
    "collapsed": false
   },
   "outputs": [],
   "source": [
    "derbly = famar - klotz_mod(ligar,2,Har)"
   ]
  },
  {
   "cell_type": "code",
   "execution_count": 292,
   "metadata": {
    "collapsed": true
   },
   "outputs": [],
   "source": [
    "def globfun(params,x,y,kpar,eps=None):\n",
    "    k1 = params['k1']\n",
    "    model = (x*kpar*k1)/(1 + (x*kpar*k1))\n",
    "    \n",
    "    if eps is None:\n",
    "        return np.concatenate((y - model))\n",
    "    else:\n",
    "        weights = 1/np.square(eps)\n",
    "        return np.concatenate((y - model)*weights)"
   ]
  },
  {
   "cell_type": "code",
   "execution_count": 293,
   "metadata": {
    "collapsed": true
   },
   "outputs": [],
   "source": [
    "globparm = lft.Parameters()"
   ]
  },
  {
   "cell_type": "code",
   "execution_count": 294,
   "metadata": {
    "collapsed": true
   },
   "outputs": [],
   "source": [
    "globparm.add('k1', value=37)"
   ]
  },
  {
   "cell_type": "code",
   "execution_count": 295,
   "metadata": {
    "collapsed": false
   },
   "outputs": [
    {
     "data": {
      "text/plain": [
       "(86,)"
      ]
     },
     "execution_count": 295,
     "metadata": {},
     "output_type": "execute_result"
    }
   ],
   "source": [
    "globfun(globparm, ligar, famar, Har).shape"
   ]
  },
  {
   "cell_type": "code",
   "execution_count": 296,
   "metadata": {
    "collapsed": true
   },
   "outputs": [],
   "source": [
    "glob_minner = lft.Minimizer(globfun,globparm,fcn_args=(ligar,famar,Har))"
   ]
  },
  {
   "cell_type": "code",
   "execution_count": 297,
   "metadata": {
    "collapsed": true
   },
   "outputs": [],
   "source": [
    "result_glob = glob_minner.minimize()"
   ]
  },
  {
   "cell_type": "code",
   "execution_count": 298,
   "metadata": {
    "collapsed": false
   },
   "outputs": [
    {
     "name": "stdout",
     "output_type": "stream",
     "text": [
      "[[Fit Statistics]]\n",
      "    # function evals   = 18\n",
      "    # data points      = 86\n",
      "    # variables        = 1\n",
      "    chi-square         = 0.089\n",
      "    reduced chi-square = 0.001\n",
      "    Akaike info crit   = -588.645\n",
      "    Bayesian info crit = -586.190\n",
      "[[Variables]]\n",
      "    k1:   2.00500370 +/- 0.059338 (2.96%) (init= 37)\n",
      "[[Correlations]] (unreported correlations are <  0.100)\n"
     ]
    }
   ],
   "source": [
    "lft.report_fit(result_glob)"
   ]
  },
  {
   "cell_type": "code",
   "execution_count": 304,
   "metadata": {
    "collapsed": false
   },
   "outputs": [],
   "source": [
    "errar = 0.05*famar"
   ]
  },
  {
   "cell_type": "code",
   "execution_count": 324,
   "metadata": {
    "collapsed": false
   },
   "outputs": [],
   "source": [
    "boundparm = lft.Parameters()"
   ]
  },
  {
   "cell_type": "code",
   "execution_count": 325,
   "metadata": {
    "collapsed": true
   },
   "outputs": [],
   "source": [
    "boundparm.add('k1',value=23,min=0.1,max=1000)"
   ]
  },
  {
   "cell_type": "code",
   "execution_count": 326,
   "metadata": {
    "collapsed": false
   },
   "outputs": [],
   "source": [
    "glob_minner_wts = lft.Minimizer(globfun,boundparm,fcn_args=(ligar,famar,Har,errar))"
   ]
  },
  {
   "cell_type": "code",
   "execution_count": 327,
   "metadata": {
    "collapsed": true
   },
   "outputs": [],
   "source": [
    "result_glob_wts = glob_minner_wts.minimize(method=\"leastsq\")"
   ]
  },
  {
   "cell_type": "code",
   "execution_count": 333,
   "metadata": {
    "collapsed": false
   },
   "outputs": [
    {
     "name": "stdout",
     "output_type": "stream",
     "text": [
      "[[Fit Statistics]]\n",
      "    # function evals   = 13\n",
      "    # data points      = 86\n",
      "    # variables        = 1\n",
      "    chi-square         = 71.387\n",
      "    reduced chi-square = 0.840\n",
      "    Akaike info crit   = -14.016\n",
      "    Bayesian info crit = -11.562\n",
      "[[Variables]]\n",
      "    k1:   1.97830142 +/- 0.015717 (0.79%) (init= 23)\n",
      "[[Correlations]] (unreported correlations are <  0.100)\n"
     ]
    }
   ],
   "source": [
    "lft.report_fit(result_glob_wts)"
   ]
  },
  {
   "cell_type": "code",
   "execution_count": 337,
   "metadata": {
    "collapsed": false
   },
   "outputs": [
    {
     "data": {
      "text/plain": [
       "lmfit.parameter.Parameters"
      ]
     },
     "execution_count": 337,
     "metadata": {},
     "output_type": "execute_result"
    }
   ],
   "source": [
    "result_glob_wts.params"
   ]
  },
  {
   "cell_type": "code",
   "execution_count": null,
   "metadata": {
    "collapsed": true
   },
   "outputs": [],
   "source": []
  }
 ],
 "metadata": {
  "anaconda-cloud": {},
  "kernelspec": {
   "display_name": "Python [conda env:fitter]",
   "language": "python",
   "name": "conda-env-fitter-py"
  },
  "language_info": {
   "codemirror_mode": {
    "name": "ipython",
    "version": 3
   },
   "file_extension": ".py",
   "mimetype": "text/x-python",
   "name": "python",
   "nbconvert_exporter": "python",
   "pygments_lexer": "ipython3",
   "version": "3.5.2"
  }
 },
 "nbformat": 4,
 "nbformat_minor": 1
}
