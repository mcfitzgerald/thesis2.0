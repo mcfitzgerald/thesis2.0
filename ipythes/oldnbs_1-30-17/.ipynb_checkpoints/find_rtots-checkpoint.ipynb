{
 "cells": [
  {
   "cell_type": "code",
   "execution_count": 1,
   "metadata": {
    "collapsed": true
   },
   "outputs": [],
   "source": [
    "import numpy as np"
   ]
  },
  {
   "cell_type": "code",
   "execution_count": 2,
   "metadata": {
    "collapsed": false
   },
   "outputs": [
    {
     "name": "stdout",
     "output_type": "stream",
     "text": [
      "All_WT_for_coopfit_tsv.csv  keyed_rtots.file.npy\r\n",
      "Untitled.ipynb              keyed_sats.file.npy\r\n",
      "comps_clean.ipynb           keylist.file.npy\r\n",
      "dict_work.ipynb             rtotswt.csv\r\n",
      "keyed_ligs.file.npy         save.file.npy\r\n"
     ]
    }
   ],
   "source": [
    "ls"
   ]
  },
  {
   "cell_type": "code",
   "execution_count": 3,
   "metadata": {
    "collapsed": false
   },
   "outputs": [],
   "source": [
    "wt_ligs = np.load('keyed_ligs.file.npy')"
   ]
  },
  {
   "cell_type": "code",
   "execution_count": 4,
   "metadata": {
    "collapsed": true
   },
   "outputs": [],
   "source": [
    "wt_sats = np.load('keyed_sats.file.npy')"
   ]
  },
  {
   "cell_type": "code",
   "execution_count": 5,
   "metadata": {
    "collapsed": false
   },
   "outputs": [],
   "source": [
    "wt_rtots = np.load('keyed_rtots.file.npy')"
   ]
  },
  {
   "cell_type": "code",
   "execution_count": 6,
   "metadata": {
    "collapsed": false
   },
   "outputs": [],
   "source": [
    "keys = np.load('keylist.file.npy')"
   ]
  },
  {
   "cell_type": "code",
   "execution_count": 7,
   "metadata": {
    "collapsed": false
   },
   "outputs": [
    {
     "data": {
      "text/plain": [
       "array([ array([  7.96945700e-03,   1.49932600e-02,   3.09951900e-02,\n",
       "         6.10952800e-02,   9.51486100e-02,   1.43964800e-01,\n",
       "         2.43969000e-01,   3.94505100e-01,   6.86923000e-01,\n",
       "         1.07939900e+00,   1.84758300e+00,   2.61864500e+00,\n",
       "         4.19711500e+00,   8.12129800e+00,   1.60132400e+01]),\n",
       "       array([ 0.00843508,  0.01632461,  0.03219274,  0.06589953,  0.09789267,\n",
       "        0.1495181 ,  0.2533132 ,  0.3979881 ,  0.6938425 ,  1.831155  ,\n",
       "        2.570049  ,  5.068029  ,  8.196809  ]),\n",
       "       array([  1.04782800e-02,   4.39510000e-02,   6.71754600e-02,\n",
       "         1.59764000e-01,   2.75784200e-01,   4.67317900e-01,\n",
       "         8.37884700e-01,   1.34129100e+00,   2.29507100e+00,\n",
       "         3.22207200e+00,   5.06843800e+00,   9.99232400e+00,\n",
       "         1.63226300e+01]),\n",
       "       array([  0.06716596,   0.04394744,   0.142679  ,   0.237226  ,\n",
       "         0.3870431 ,   0.4670442 ,   1.080119  ,   1.830193  ,\n",
       "         2.595465  ,   4.079464  ,   8.197306  ,  16.17389   ,   0.02105896]),\n",
       "       array([ 0.06170198,  0.09792828,  0.142702  ,  0.244107  ,  0.3909656 ,\n",
       "        0.7009451 ,  1.090977  ,  1.849451  ,  2.621134  ,  5.115771  ,\n",
       "        8.046807  ,  0.02985244]),\n",
       "       array([  7.67501400e-03,   1.49975000e-02,   2.95726500e-02,\n",
       "         6.11212100e-02,   9.69908500e-02,   1.44087100e-01,\n",
       "         2.48778100e-01,   3.94624700e-01,   6.87951000e-01,\n",
       "         1.17700400e+00,   1.83259900e+00,   2.57264700e+00,\n",
       "         4.08259800e+00,   8.05087400e+00,   1.60190700e+01]),\n",
       "       array([  0.01713749,   0.03444448,   0.07655431,   0.1450889 ,\n",
       "         0.251269  ,   0.4142728 ,   0.7255647 ,   1.060153  ,\n",
       "         1.819164  ,   2.552526  ,   4.121284  ,   6.136859  ,\n",
       "         8.368795  ,  12.34485   ]),\n",
       "       array([  1.03056800e-02,   1.97048800e-02,   3.96082700e-02,\n",
       "         8.04407000e-02,   1.19932100e-01,   1.58630700e-01,\n",
       "         2.53687600e-01,   4.05729100e-01,   7.24835200e-01,\n",
       "         1.04858300e+00,   1.79791200e+00,   2.60332900e+00,\n",
       "         4.11789300e+00,   8.36305800e+00,   1.24656700e+01]),\n",
       "       array([  1.04079700e-02,   2.19853700e-02,   2.42903700e-02,\n",
       "         8.12168300e-02,   1.19871800e-01,   1.60153900e-01,\n",
       "         2.50999200e-01,   4.05474000e-01,   7.38315600e-01,\n",
       "         1.02750900e+00,   1.79844600e+00,   2.55025100e+00,\n",
       "         4.11610500e+00,   8.27783800e+00,   1.25876700e+01]),\n",
       "       array([  0.01836968,   0.02878571,   0.06082663,   0.1152153 ,\n",
       "         0.2055712 ,   0.3524264 ,   0.6354886 ,   0.9669508 ,\n",
       "         1.675933  ,   2.44816   ,   4.034029  ,   6.195363  ,\n",
       "         8.192737  ,  12.45058   ]),\n",
       "       array([  1.29597000e-02,   2.79261500e-02,   5.66855900e-02,\n",
       "         8.79264600e-02,   1.31057000e-01,   2.22472800e-01,\n",
       "         3.62950200e-01,   6.54465000e-01,   1.00584700e+00,\n",
       "         1.76008800e+00,   2.52132200e+00,   4.06792600e+00,\n",
       "         8.35426700e+00,   1.61477500e+01]),\n",
       "       array([  0.01631733,   0.033773  ,   0.0684047 ,   0.08990054,\n",
       "         0.1651807 ,   0.2820976 ,   0.4317393 ,   0.7783454 ,\n",
       "         1.068384  ,   1.80568   ,   2.669588  ,   4.307405  ,\n",
       "         6.418342  ,   8.512644  ,  12.84846   ]),\n",
       "       array([  0.01611945,   0.0352023 ,   0.07328256,   0.1430707 ,\n",
       "         0.2428421 ,   0.3778524 ,   0.7089943 ,   1.036456  ,\n",
       "         1.893233  ,   4.393878  ,   6.403579  ,   8.504394  ,  14.24382   ]),\n",
       "       array([  1.12189300e-02,   1.87615200e-02,   3.57656700e-02,\n",
       "         6.71343700e-02,   1.26858200e-01,   2.26001300e-01,\n",
       "         3.69250700e-01,   6.66551200e-01,   1.01053200e+00,\n",
       "         1.77975300e+00,   2.58740400e+00,   6.36463400e+00,\n",
       "         8.48311900e+00,   1.26542500e+01]),\n",
       "       array([  0.01298098,   0.03155812,   0.05824695,   0.07851144,\n",
       "         0.1483385 ,   0.2435003 ,   0.4066816 ,   0.713275  ,\n",
       "         0.9846593 ,   1.766929  ,   2.575723  ,   4.142375  ,\n",
       "         6.479044  ,   8.427099  ,  12.68855   ]),\n",
       "       array([  1.13943300e-02,   2.32919300e-02,   5.03018300e-02,\n",
       "         9.86225200e-02,   1.75471700e-01,   2.97585600e-01,\n",
       "         5.57369200e-01,   8.26670500e-01,   1.52277200e+00,\n",
       "         2.28366100e+00,   3.91000300e+00,   6.10621300e+00,\n",
       "         9.17992300e+00,   1.41383400e+01]),\n",
       "       array([  1.02255100e-02,   1.71930400e-02,   3.69002200e-02,\n",
       "         5.10800100e-02,   9.63540600e-02,   1.71324800e-01,\n",
       "         2.79624100e-01,   4.92992600e-01,   6.72909500e-01,\n",
       "         1.36133200e+00,   1.96587600e+00,   3.56075600e+00,\n",
       "         5.55989800e+00,   7.70544500e+00,   1.22711300e+01])], dtype=object)"
      ]
     },
     "execution_count": 7,
     "metadata": {},
     "output_type": "execute_result"
    }
   ],
   "source": [
    "wt_ligs"
   ]
  },
  {
   "cell_type": "code",
   "execution_count": 8,
   "metadata": {
    "collapsed": false
   },
   "outputs": [],
   "source": [
    "import matplotlib.pyplot as plt"
   ]
  },
  {
   "cell_type": "code",
   "execution_count": 9,
   "metadata": {
    "collapsed": true
   },
   "outputs": [],
   "source": [
    "%matplotlib inline"
   ]
  },
  {
   "cell_type": "code",
   "execution_count": 14,
   "metadata": {
    "collapsed": false
   },
   "outputs": [
    {
     "data": {
      "image/png": "[encoded data removed]",
      "text/plain": [
       "<matplotlib.figure.Figure at 0x10de38400>"
      ]
     },
     "metadata": {},
     "output_type": "display_data"
    }
   ],
   "source": [
    "for i in range(len(wt_ligs)):\n",
    "    plt.semilogx(wt_ligs[i], 0*wt_ligs[i],'.')"
   ]
  },
  {
   "cell_type": "code",
   "execution_count": 29,
   "metadata": {
    "collapsed": false
   },
   "outputs": [
    {
     "data": {
      "image/png": "[encoded data removed]",
      "text/plain": [
       "<matplotlib.figure.Figure at 0x10e967710>"
      ]
     },
     "metadata": {},
     "output_type": "display_data"
    }
   ],
   "source": [
    "for i in range(len(wt_ligs)):\n",
    "    plt.semilogx(wt_ligs[i], wt_sats[i],'.',label=keys[i])\n",
    "    plt.legend(loc=4,prop={'size':6},numpoints=1)"
   ]
  },
  {
   "cell_type": "code",
   "execution_count": 54,
   "metadata": {
    "collapsed": false
   },
   "outputs": [],
   "source": [
    "#define an objective function for use with lmfit (must mesh with lmfit.Parameter class)\n",
    "def wyman_obj_lmfit_mod1(parm,lig,data,rtot,eps=None):\n",
    "    \"\"\"maximizes vector ops\"\"\"\n",
    "    k11 = parm['k11']\n",
    "    k21 = parm['k21']\n",
    "    k22 = parm['k22']\n",
    "    l20 = parm['l20']\n",
    "    \n",
    "    ligc = np.concatenate(lig)\n",
    "    datac = np.concatenate(data)\n",
    "    \n",
    "    rfree = (((-1 - k11*ligc)) + \\\n",
    "    (np.sqrt(np.concatenate((np.square((1 + k11*lig)) + \\\n",
    "    8.*l20*rtot*(1 + k21*lig + k21*k22*(np.square(lig)))))))) \\\n",
    "    / (4*l20*(1 + k21*ligc + k21*k22*(np.square(ligc))))    \n",
    "       \n",
    "    bfrac = (k11*ligc + l20*k21*rfree*ligc + \\\n",
    "    2*l20*k21*k22*rfree*(np.square(ligc))) \\\n",
    "    / (1 + 2*l20*rfree + k11*ligc + \\\n",
    "    2*l20*k21*rfree*ligc + 2*l20*k21*k22*rfree*(np.square(ligc)))\n",
    "    \n",
    "    residual = (bfrac - datac)\n",
    "    \n",
    "    if eps is None:\n",
    "        return residual\n",
    "    else:\n",
    "        weights = 1/(np.concatenate(eps))\n",
    "        return (residual*weights)"
   ]
  },
  {
   "cell_type": "code",
   "execution_count": 55,
   "metadata": {
    "collapsed": true
   },
   "outputs": [],
   "source": [
    "import lmfit"
   ]
  },
  {
   "cell_type": "code",
   "execution_count": 56,
   "metadata": {
    "collapsed": true
   },
   "outputs": [],
   "source": [
    "parms = lmfit.Parameters()"
   ]
  },
  {
   "cell_type": "code",
   "execution_count": 57,
   "metadata": {
    "collapsed": true
   },
   "outputs": [],
   "source": [
    "parms.add('k11', value=10., min=0., max=100.)\n",
    "parms.add('k21', value=10., min=0., max=100.)\n",
    "parms.add('k22', value=10., min=0., max=100.)\n",
    "parms.add('l20', value=100., min=0., max=1000.)"
   ]
  },
  {
   "cell_type": "code",
   "execution_count": 58,
   "metadata": {
    "collapsed": false
   },
   "outputs": [
    {
     "data": {
      "text/plain": [
       "array([ 0.02213806,  0.04913676,  0.11549398,  0.18092363,  0.24431849,\n",
       "        0.2478965 ,  0.27690782,  0.30072522,  0.16626253,  0.10840002,\n",
       "        0.09932107,  0.07620764,  0.07900778,  0.04291125, -0.00177434,\n",
       "        0.03895379,  0.0687844 ,  0.13390754,  0.21678881,  0.2632347 ,\n",
       "        0.2691604 ,  0.27310099,  0.24442968,  0.22650177,  0.148775  ,\n",
       "        0.09034157,  0.06593798,  0.02609997,  0.0392397 ,  0.18687686,\n",
       "        0.24903132,  0.30894503,  0.29912944,  0.28685831,  0.23729613,\n",
       "        0.14399013,  0.09521797,  0.06102913,  0.07414499,  0.0186023 ,\n",
       "        0.02376825,  0.23654699,  0.1809256 ,  0.292289  ,  0.30247698,\n",
       "        0.28140714,  0.22898622,  0.17516888,  0.09905506,  0.12950606,\n",
       "        0.06788113,  0.03198743,  0.0505936 ,  0.08687663,  0.21363379,\n",
       "        0.29756156,  0.31471185,  0.34910881,  0.35901332,  0.31118607,\n",
       "        0.23852781,  0.20355916,  0.17262664,  0.06279111,  0.06605964,\n",
       "        0.10661581,  0.01550755,  0.05459741,  0.09995461,  0.20471158,\n",
       "        0.27711656,  0.34206135,  0.36752053,  0.35571951,  0.33023165,\n",
       "        0.28560851,  0.232863  ,  0.19337587,  0.14529743,  0.11493199,\n",
       "        0.03431905,  0.09928169,  0.17937325,  0.24964245,  0.28540785,\n",
       "        0.32575851,  0.27140723,  0.14321455,  0.13781342,  0.01763362,\n",
       "        0.049791  ,  0.00707829,  0.06565511, -0.03792388, -0.03260766,\n",
       "        0.06011623,  0.10441686,  0.18595936,  0.28827823,  0.33297155,\n",
       "        0.3559143 ,  0.37148166,  0.35887091,  0.24142403,  0.23379707,\n",
       "        0.18209744,  0.07403322,  0.08332135,  0.02499635, -0.01121926,\n",
       "        0.06335514,  0.12354419,  0.13615003,  0.32131944,  0.38045954,\n",
       "        0.40079407,  0.43942768,  0.42414791,  0.3862974 ,  0.27087006,\n",
       "        0.15888299,  0.135933  ,  0.12427213,  0.05056957,  0.01007905,\n",
       "        0.11659972,  0.12616068,  0.24158304,  0.34809157,  0.42710236,\n",
       "        0.46784116,  0.41799302,  0.35543083,  0.22889983,  0.22553285,\n",
       "        0.14379141,  0.11252685,  0.0841755 ,  0.09922621,  0.06946609,\n",
       "        0.14587339,  0.28029446,  0.3728526 ,  0.45768715,  0.52283192,\n",
       "        0.528411  ,  0.47433779,  0.4049909 ,  0.31217214,  0.27123787,\n",
       "        0.29075262,  0.12265764,  0.02457394,  0.0687997 ,  0.12450699,\n",
       "        0.22665534,  0.22516895,  0.32521092,  0.31387363,  0.29604814,\n",
       "        0.23899043,  0.19008384,  0.08056286,  0.06243588,  0.01909953,\n",
       "        0.07528284,  0.05419084,  0.05119006,  0.09805414,  0.17566676,\n",
       "        0.28194392,  0.37530266,  0.39309301,  0.37745291,  0.27225187,\n",
       "        0.1339346 ,  0.12427452,  0.07041672, -0.00978333,  0.08193123,\n",
       "        0.04573536,  0.05105552,  0.10593654,  0.18369993,  0.28411169,\n",
       "        0.37757219,  0.42351371,  0.41697785,  0.33061937,  0.23730653,\n",
       "        0.18647232,  0.03207134,  0.00986228,  0.00183797,  0.02405326,\n",
       "        0.06308502,  0.166124  ,  0.27396365,  0.33497485,  0.44173308,\n",
       "        0.48426463,  0.46828167,  0.41911737,  0.3612691 ,  0.24113122,\n",
       "        0.16063151,  0.05567558,  0.11784319,  0.03645522,  0.09980917,\n",
       "        0.06221106,  0.12790156,  0.24665348,  0.38311146,  0.48554937,\n",
       "        0.52182894,  0.48034477,  0.39655637,  0.30699196,  0.19301846,\n",
       "        0.15500216,  0.10980239,  0.06658181,  0.10285377,  0.04847693,\n",
       "        0.09473754,  0.20245924,  0.26878955,  0.4204218 ,  0.54727915,\n",
       "        0.59209575,  0.57320637,  0.53674304,  0.41075645,  0.29288571,\n",
       "        0.19746833,  0.15678908,  0.11741373,  0.12721781])"
      ]
     },
     "execution_count": 58,
     "metadata": {},
     "output_type": "execute_result"
    }
   ],
   "source": [
    "wyman_obj_lmfit_mod1(parms,wt_ligs,wt_sats,wt_rtots)"
   ]
  },
  {
   "cell_type": "code",
   "execution_count": 59,
   "metadata": {
    "collapsed": true
   },
   "outputs": [],
   "source": [
    "lmfit_min = lmfit.Minimizer(wyman_obj_lmfit_mod1,parms,fcn_args=(wt_ligs,wt_sats,wt_rtots))"
   ]
  },
  {
   "cell_type": "code",
   "execution_count": 60,
   "metadata": {
    "collapsed": true
   },
   "outputs": [],
   "source": [
    "lmfit_res = lmfit_min.minimize()"
   ]
  },
  {
   "cell_type": "code",
   "execution_count": 61,
   "metadata": {
    "collapsed": false
   },
   "outputs": [
    {
     "name": "stdout",
     "output_type": "stream",
     "text": [
      "[[Fit Statistics]]\n",
      "    # function evals   = 72\n",
      "    # data points      = 239\n",
      "    # variables        = 4\n",
      "    chi-square         = 0.311\n",
      "    reduced chi-square = 0.001\n",
      "    Akaike info crit   = -1579.848\n",
      "    Bayesian info crit = -1565.942\n",
      "[[Variables]]\n",
      "    k11:   3.74740064 +/- 0.263948 (7.04%) (init= 10)\n",
      "    k21:   1.81367619 +/- 0.189873 (10.47%) (init= 10)\n",
      "    k22:   0.11553982 +/- 0.051927 (44.94%) (init= 10)\n",
      "    l20:   283.385877 +/- 90.17501 (31.82%) (init= 100)\n",
      "[[Correlations]] (unreported correlations are <  0.100)\n",
      "    C(k11, l20)                  =  0.954 \n",
      "    C(k22, l20)                  =  0.768 \n",
      "    C(k11, k22)                  =  0.622 \n",
      "    C(k21, k22)                  =  0.439 \n",
      "    C(k21, l20)                  =  0.395 \n",
      "    C(k11, k21)                  =  0.303 \n"
     ]
    }
   ],
   "source": [
    "lmfit.report_fit(lmfit_res)"
   ]
  },
  {
   "cell_type": "code",
   "execution_count": 65,
   "metadata": {
    "collapsed": true
   },
   "outputs": [],
   "source": [
    "err = 0.01*wt_sats"
   ]
  },
  {
   "cell_type": "code",
   "execution_count": 66,
   "metadata": {
    "collapsed": true
   },
   "outputs": [],
   "source": [
    "lmfit_min_wts = lmfit.Minimizer(wyman_obj_lmfit_mod1,parms,fcn_args=(wt_ligs,wt_sats,wt_rtots,err))"
   ]
  },
  {
   "cell_type": "code",
   "execution_count": 69,
   "metadata": {
    "collapsed": true
   },
   "outputs": [],
   "source": [
    "lmfit_res_wts = lmfit_min_wts.minimize(method='least_squares')"
   ]
  },
  {
   "cell_type": "code",
   "execution_count": 70,
   "metadata": {
    "collapsed": false
   },
   "outputs": [
    {
     "name": "stdout",
     "output_type": "stream",
     "text": [
      "[[Fit Statistics]]\n",
      "    # function evals   = 17\n",
      "    # data points      = 239\n",
      "    # variables        = 4\n",
      "    chi-square         = 85811.742\n",
      "    reduced chi-square = 365.156\n",
      "    Akaike info crit   = 1414.144\n",
      "    Bayesian info crit = 1428.050\n",
      "[[Variables]]\n",
      "    k11:   3.69122286 (init= 10)\n",
      "    k21:   0.71123514 (init= 10)\n",
      "    k22:   0.01637192 (init= 10)\n",
      "    l20:   211.580611 (init= 100)\n",
      "[[Correlations]] (unreported correlations are <  0.100)\n"
     ]
    }
   ],
   "source": [
    "lmfit.report_fit(lmfit_res_wts)"
   ]
  },
  {
   "cell_type": "code",
   "execution_count": 71,
   "metadata": {
    "collapsed": true
   },
   "outputs": [],
   "source": [
    "#define an objective function for use with scipy optimize (obviates parameter class)\n",
    "#eps is standard deviation\n",
    "def wyman_rtotfinder(rtot,lig,data,parm,eps=None):\n",
    "    k11 = parm[0]\n",
    "    k21 = parm[1]\n",
    "    k22 = parm[2]\n",
    "    l20 = parm[3]\n",
    "    \n",
    "    ligc = np.concatenate(lig)\n",
    "    datac = np.concatenate(data)\n",
    "    \n",
    "    rfree = (((-1 - k11*ligc)) + \\\n",
    "    (np.sqrt(np.concatenate((np.square((1 + k11*lig)) + \\\n",
    "    8.*l20*rtot*(1 + k21*lig + k21*k22*(np.square(lig)))))))) \\\n",
    "    / (4*l20*(1 + k21*ligc + k21*k22*(np.square(ligc))))    \n",
    "       \n",
    "    bfrac = (k11*ligc + l20*k21*rfree*ligc + \\\n",
    "    2*l20*k21*k22*rfree*(np.square(ligc))) \\\n",
    "    / (1 + 2*l20*rfree + k11*ligc + \\\n",
    "    2*l20*k21*rfree*ligc + 2*l20*k21*k22*rfree*(np.square(ligc)))\n",
    "    \n",
    "    residual = (bfrac - datac)\n",
    "\n",
    "    if eps is None:\n",
    "        return residual\n",
    "    else:\n",
    "        weights = 1/(np.concatenate(eps))\n",
    "        return (residual*weights)"
   ]
  },
  {
   "cell_type": "code",
   "execution_count": 72,
   "metadata": {
    "collapsed": false
   },
   "outputs": [
    {
     "data": {
      "text/plain": [
       "17"
      ]
     },
     "execution_count": 72,
     "metadata": {},
     "output_type": "execute_result"
    }
   ],
   "source": [
    "wt_rtots.size"
   ]
  },
  {
   "cell_type": "code",
   "execution_count": 73,
   "metadata": {
    "collapsed": true
   },
   "outputs": [],
   "source": [
    "from scipy import optimize"
   ]
  },
  {
   "cell_type": "code",
   "execution_count": 74,
   "metadata": {
    "collapsed": true
   },
   "outputs": [],
   "source": [
    "parmvec  = np.array([4.53370698e+00,2.30981862e+00,2.96309686e-01,9.71766880e+02])"
   ]
  },
  {
   "cell_type": "code",
   "execution_count": 75,
   "metadata": {
    "collapsed": false
   },
   "outputs": [
    {
     "data": {
      "text/plain": [
       "array([  4.53370698e+00,   2.30981862e+00,   2.96309686e-01,\n",
       "         9.71766880e+02])"
      ]
     },
     "execution_count": 75,
     "metadata": {},
     "output_type": "execute_result"
    }
   ],
   "source": [
    "bounds=((0.,0.,0.,0.),(100.,100.,100.,1000.))"
   ]
  },
  {
   "cell_type": "code",
   "execution_count": 83,
   "metadata": {
    "collapsed": false
   },
   "outputs": [],
   "source": [
    "low = tuple([0.for i in range(17)])"
   ]
  },
  {
   "cell_type": "code",
   "execution_count": 84,
   "metadata": {
    "collapsed": false
   },
   "outputs": [],
   "source": [
    "hi = tuple([1. for i in range(17)])"
   ]
  },
  {
   "cell_type": "code",
   "execution_count": 80,
   "metadata": {
    "collapsed": true
   },
   "outputs": [],
   "source": [
    "a = (1.0,\n",
    "     1.0)"
   ]
  },
  {
   "cell_type": "code",
   "execution_count": 81,
   "metadata": {
    "collapsed": true
   },
   "outputs": [],
   "source": [
    "b = (1.0, 1.0)"
   ]
  },
  {
   "cell_type": "code",
   "execution_count": 82,
   "metadata": {
    "collapsed": false
   },
   "outputs": [
    {
     "data": {
      "text/plain": [
       "True"
      ]
     },
     "execution_count": 82,
     "metadata": {},
     "output_type": "execute_result"
    }
   ],
   "source": [
    "a == b"
   ]
  },
  {
   "cell_type": "code",
   "execution_count": 85,
   "metadata": {
    "collapsed": true
   },
   "outputs": [],
   "source": [
    "bounds = (low,hi)"
   ]
  },
  {
   "cell_type": "code",
   "execution_count": 86,
   "metadata": {
    "collapsed": false
   },
   "outputs": [
    {
     "data": {
      "text/plain": [
       "((0.0,\n",
       "  0.0,\n",
       "  0.0,\n",
       "  0.0,\n",
       "  0.0,\n",
       "  0.0,\n",
       "  0.0,\n",
       "  0.0,\n",
       "  0.0,\n",
       "  0.0,\n",
       "  0.0,\n",
       "  0.0,\n",
       "  0.0,\n",
       "  0.0,\n",
       "  0.0,\n",
       "  0.0,\n",
       "  0.0),\n",
       " (1.0,\n",
       "  1.0,\n",
       "  1.0,\n",
       "  1.0,\n",
       "  1.0,\n",
       "  1.0,\n",
       "  1.0,\n",
       "  1.0,\n",
       "  1.0,\n",
       "  1.0,\n",
       "  1.0,\n",
       "  1.0,\n",
       "  1.0,\n",
       "  1.0,\n",
       "  1.0,\n",
       "  1.0,\n",
       "  1.0))"
      ]
     },
     "execution_count": 86,
     "metadata": {},
     "output_type": "execute_result"
    }
   ],
   "source": [
    "bounds"
   ]
  },
  {
   "cell_type": "code",
   "execution_count": 87,
   "metadata": {
    "collapsed": false
   },
   "outputs": [
    {
     "data": {
      "text/plain": [
       "array([-0.02525586, -0.03458103, -0.03505443, -0.05159057, -0.03838882,\n",
       "       -0.0657898 , -0.04038057,  0.0158098 , -0.05559339, -0.05834554,\n",
       "       -0.01138278, -0.00624512,  0.02497622,  0.01386826, -0.0168105 ,\n",
       "       -0.0108134 , -0.02187093, -0.02442975, -0.03641886, -0.04017456,\n",
       "       -0.07163115, -0.07574633, -0.07570361, -0.02874557,  0.01426579,\n",
       "       -0.01188266,  0.00967575, -0.00985758, -0.02118164, -0.014205  ,\n",
       "       -0.01347332, -0.05206304, -0.06852915, -0.04108145, -0.01594006,\n",
       "       -0.04549664, -0.03205799, -0.03528944,  0.00931164, -0.01601719,\n",
       "        0.00212185, -0.02162114, -0.01813806, -0.05089028, -0.05506791,\n",
       "       -0.04942945, -0.08307721, -0.02884567, -0.04118381,  0.02352815,\n",
       "       -0.00390755, -0.00584027,  0.03086377, -0.02601302, -0.05207429,\n",
       "       -0.05003247, -0.08825911, -0.09248912, -0.06975241, -0.05430348,\n",
       "       -0.06156725, -0.01748825, -0.00172706, -0.04111097, -0.00451652,\n",
       "       -0.04398114, -0.02431018, -0.02272715, -0.04752135, -0.06441747,\n",
       "       -0.08253929, -0.08427319, -0.10721791, -0.11167482, -0.08108114,\n",
       "       -0.04550838, -0.02847344, -0.01801026, -0.00722367,  0.02646567,\n",
       "       -0.01380258,  0.00900652,  0.02692325,  0.01574568,  0.01298502,\n",
       "        0.06117277,  0.04476547, -0.02476023,  0.00857245, -0.0663067 ,\n",
       "       -0.01270112, -0.03324435,  0.03798241, -0.05845591, -0.04667125,\n",
       "        0.00022401, -0.0022437 ,  0.00132715,  0.00734404,  0.00680566,\n",
       "        0.00944978,  0.01955506,  0.03708052, -0.01146792,  0.03007547,\n",
       "        0.0432387 , -0.02902602,  0.01404275, -0.01105609, -0.0358462 ,\n",
       "        0.00482894,  0.00709059,  0.00910184,  0.01749199,  0.02019898,\n",
       "        0.01025412,  0.03100592,  0.03777114,  0.07041992,  0.00288958,\n",
       "       -0.03023965, -0.01078793,  0.024243  , -0.0036726 , -0.0267335 ,\n",
       "        0.01963069, -0.01965363, -0.02187956, -0.02649921, -0.00992266,\n",
       "        0.03062627,  0.03700202,  0.03456071, -0.00847115,  0.04066919,\n",
       "        0.01643084,  0.02293284,  0.01380907,  0.05091964,  0.0050332 ,\n",
       "        0.00822294,  0.02331335,  0.02365853,  0.03032816,  0.02933262,\n",
       "        0.0269647 ,  0.02253801,  0.01437905,  0.01191676,  0.02739885,\n",
       "        0.11359435,  0.02127105, -0.03263403, -0.02077277, -0.03394456,\n",
       "       -0.01495086, -0.04564036,  0.01611028,  0.01505582,  0.03246068,\n",
       "        0.0436826 ,  0.03183848, -0.0250591 , -0.01322299, -0.02997663,\n",
       "        0.04153835,  0.02843821,  0.03391392,  0.00864436,  0.0043707 ,\n",
       "        0.00613585,  0.02033971,  0.02012175,  0.02649571, -0.00638381,\n",
       "       -0.09226421, -0.02534291, -0.00428008, -0.06300693,  0.04100952,\n",
       "        0.02065432, -0.01194449,  0.00467915,  0.00854635,  0.01193976,\n",
       "        0.01237437,  0.01882473,  0.02691311,  0.00451393, -0.02939161,\n",
       "       -0.00085113, -0.11037601, -0.05734082, -0.05002183, -0.01172991,\n",
       "       -0.00502949,  0.00906131,  0.01549372,  0.01952827,  0.01900794,\n",
       "        0.02119407,  0.01619225,  0.02747546,  0.01703687, -0.01213614,\n",
       "       -0.0384269 , -0.08542403,  0.01923506, -0.04242412,  0.04490549,\n",
       "        0.00372952,  0.01027392,  0.01405073,  0.01800019,  0.0303928 ,\n",
       "        0.03877159,  0.0358536 ,  0.00344831,  0.00949798, -0.04194113,\n",
       "       -0.00776707, -0.00559723, -0.01555378,  0.04673358, -0.00088997,\n",
       "        0.0107918 ,  0.02490171,  0.03196382,  0.04698176,  0.06902086,\n",
       "        0.07408571,  0.07350048,  0.06988182,  0.04968881, -0.00758409,\n",
       "       -0.01190919,  0.00441442, -0.00070337,  0.04720776])"
      ]
     },
     "execution_count": 87,
     "metadata": {},
     "output_type": "execute_result"
    }
   ],
   "source": [
    "wyman_rtotfinder(wt_rtots,wt_ligs,wt_sats,parmvec)"
   ]
  },
  {
   "cell_type": "code",
   "execution_count": 88,
   "metadata": {
    "collapsed": true
   },
   "outputs": [],
   "source": [
    "res_lsq_bounds = optimize.least_squares(wyman_rtotfinder,wt_rtots,bounds=bounds,args=(wt_ligs,wt_sats,parmvec))"
   ]
  },
  {
   "cell_type": "code",
   "execution_count": 89,
   "metadata": {
    "collapsed": false
   },
   "outputs": [
    {
     "data": {
      "text/plain": [
       "array([  6.16491203e-04,   8.67594149e-04,   1.54952337e-03,\n",
       "         1.11590134e-03,   3.78495491e-03,   6.07879774e-03,\n",
       "         7.77234686e-04,   3.27806192e-03,   9.06032444e-03,\n",
       "         2.02117892e-02,   2.10200813e-01,   1.47772525e-03,\n",
       "         2.92835339e-03,   4.66320679e-03,   1.93163523e-02,\n",
       "         3.80381173e-02,   9.90743823e-01])"
      ]
     },
     "execution_count": 89,
     "metadata": {},
     "output_type": "execute_result"
    }
   ],
   "source": [
    "res_lsq_bounds.x"
   ]
  },
  {
   "cell_type": "code",
   "execution_count": 90,
   "metadata": {
    "collapsed": false
   },
   "outputs": [
    {
     "data": {
      "text/plain": [
       "array([ 0.001439 ,  0.002422 ,  0.003392 ,  0.002718 ,  0.01216  ,\n",
       "        0.02594  ,  0.0005889,  0.002544 ,  0.00643  ,  0.01263  ,\n",
       "        0.05509  ,  0.001193 ,  0.003513 ,  0.006083 ,  0.01968  ,\n",
       "        0.03013  ,  0.0925   ])"
      ]
     },
     "execution_count": 90,
     "metadata": {},
     "output_type": "execute_result"
    }
   ],
   "source": [
    "wt_rtots"
   ]
  },
  {
   "cell_type": "code",
   "execution_count": 91,
   "metadata": {
    "collapsed": false
   },
   "outputs": [
    {
     "data": {
      "text/plain": [
       "array([  0.4284164 ,   0.35821393,   0.45681703,   0.41055973,\n",
       "         0.31126274,   0.2343407 ,   1.31980758,   1.28854635,\n",
       "         1.40907068,   1.60030002,   3.81558928,   1.23866325,\n",
       "         0.83357626,   0.76659655,   0.98152197,   1.26246656,  10.71074403])"
      ]
     },
     "execution_count": 91,
     "metadata": {},
     "output_type": "execute_result"
    }
   ],
   "source": [
    "res_lsq_bounds.x / wt_rtots"
   ]
  },
  {
   "cell_type": "code",
   "execution_count": 105,
   "metadata": {
    "collapsed": false
   },
   "outputs": [],
   "source": [
    "pike08_wt_ligs = wt_ligs[0:6]"
   ]
  },
  {
   "cell_type": "code",
   "execution_count": 106,
   "metadata": {
    "collapsed": true
   },
   "outputs": [],
   "source": [
    "pike08_wt_sats = wt_sats[0:6]"
   ]
  },
  {
   "cell_type": "code",
   "execution_count": 108,
   "metadata": {
    "collapsed": false
   },
   "outputs": [
    {
     "data": {
      "text/plain": [
       "6"
      ]
     },
     "execution_count": 108,
     "metadata": {},
     "output_type": "execute_result"
    }
   ],
   "source": [
    "pike08_wt_sats.size"
   ]
  },
  {
   "cell_type": "code",
   "execution_count": 110,
   "metadata": {
    "collapsed": false
   },
   "outputs": [],
   "source": [
    "pike_08_rtots = wt_rtots[0:6]"
   ]
  },
  {
   "cell_type": "code",
   "execution_count": 111,
   "metadata": {
    "collapsed": false
   },
   "outputs": [
    {
     "data": {
      "text/plain": [
       "array([ array([  7.96945700e-03,   1.49932600e-02,   3.09951900e-02,\n",
       "         6.10952800e-02,   9.51486100e-02,   1.43964800e-01,\n",
       "         2.43969000e-01,   3.94505100e-01,   6.86923000e-01,\n",
       "         1.07939900e+00,   1.84758300e+00,   2.61864500e+00,\n",
       "         4.19711500e+00,   8.12129800e+00,   1.60132400e+01]),\n",
       "       array([ 0.00843508,  0.01632461,  0.03219274,  0.06589953,  0.09789267,\n",
       "        0.1495181 ,  0.2533132 ,  0.3979881 ,  0.6938425 ,  1.831155  ,\n",
       "        2.570049  ,  5.068029  ,  8.196809  ]),\n",
       "       array([  1.04782800e-02,   4.39510000e-02,   6.71754600e-02,\n",
       "         1.59764000e-01,   2.75784200e-01,   4.67317900e-01,\n",
       "         8.37884700e-01,   1.34129100e+00,   2.29507100e+00,\n",
       "         3.22207200e+00,   5.06843800e+00,   9.99232400e+00,\n",
       "         1.63226300e+01]),\n",
       "       array([  0.06716596,   0.04394744,   0.142679  ,   0.237226  ,\n",
       "         0.3870431 ,   0.4670442 ,   1.080119  ,   1.830193  ,\n",
       "         2.595465  ,   4.079464  ,   8.197306  ,  16.17389   ,   0.02105896]),\n",
       "       array([ 0.06170198,  0.09792828,  0.142702  ,  0.244107  ,  0.3909656 ,\n",
       "        0.7009451 ,  1.090977  ,  1.849451  ,  2.621134  ,  5.115771  ,\n",
       "        8.046807  ,  0.02985244]),\n",
       "       array([  7.67501400e-03,   1.49975000e-02,   2.95726500e-02,\n",
       "         6.11212100e-02,   9.69908500e-02,   1.44087100e-01,\n",
       "         2.48778100e-01,   3.94624700e-01,   6.87951000e-01,\n",
       "         1.17700400e+00,   1.83259900e+00,   2.57264700e+00,\n",
       "         4.08259800e+00,   8.05087400e+00,   1.60190700e+01])], dtype=object)"
      ]
     },
     "execution_count": 111,
     "metadata": {},
     "output_type": "execute_result"
    }
   ],
   "source": [
    "pike08_wt_ligs"
   ]
  },
  {
   "cell_type": "code",
   "execution_count": 113,
   "metadata": {
    "collapsed": false
   },
   "outputs": [
    {
     "data": {
      "image/png": "[encoded data removed]",
      "text/plain": [
       "<matplotlib.figure.Figure at 0x10d82e390>"
      ]
     },
     "metadata": {},
     "output_type": "display_data"
    }
   ],
   "source": [
    "for i in range(len(pike08_wt_ligs)):\n",
    "    plt.semilogx(pike08_wt_ligs[i],pike08_wt_sats[i],'.')"
   ]
  },
  {
   "cell_type": "code",
   "execution_count": 133,
   "metadata": {
    "collapsed": false
   },
   "outputs": [
    {
     "data": {
      "text/plain": [
       "[<matplotlib.lines.Line2D at 0x111ad0da0>]"
      ]
     },
     "execution_count": 133,
     "metadata": {},
     "output_type": "execute_result"
    },
    {
     "data": {
      "image/png": "[encoded data removed]",
      "text/plain": [
       "<matplotlib.figure.Figure at 0x1120ce7b8>"
      ]
     },
     "metadata": {},
     "output_type": "display_data"
    }
   ],
   "source": [
    "    plt.semilogx(pike08_wt_ligs[3],pike08_wt_sats[3])"
   ]
  },
  {
   "cell_type": "code",
   "execution_count": 128,
   "metadata": {
    "collapsed": false
   },
   "outputs": [],
   "source": [
    "a = pike08_wt_ligs[3].sort()"
   ]
  },
  {
   "cell_type": "code",
   "execution_count": 130,
   "metadata": {
    "collapsed": false
   },
   "outputs": [
    {
     "data": {
      "text/plain": [
       "array([  0.02105896,   0.04394744,   0.06716596,   0.142679  ,\n",
       "         0.237226  ,   0.3870431 ,   0.4670442 ,   1.080119  ,\n",
       "         1.830193  ,   2.595465  ,   4.079464  ,   8.197306  ,  16.17389   ])"
      ]
     },
     "execution_count": 130,
     "metadata": {},
     "output_type": "execute_result"
    }
   ],
   "source": [
    "pike08_wt_ligs[3]"
   ]
  },
  {
   "cell_type": "code",
   "execution_count": 132,
   "metadata": {
    "collapsed": true
   },
   "outputs": [],
   "source": [
    "pike08_wt_sats[3].sort()"
   ]
  },
  {
   "cell_type": "code",
   "execution_count": null,
   "metadata": {
    "collapsed": true
   },
   "outputs": [],
   "source": []
  }
 ],
 "metadata": {
  "kernelspec": {
   "display_name": "Python [conda env:fitter]",
   "language": "python",
   "name": "conda-env-fitter-py"
  },
  "language_info": {
   "codemirror_mode": {
    "name": "ipython",
    "version": 3
   },
   "file_extension": ".py",
   "mimetype": "text/x-python",
   "name": "python",
   "nbconvert_exporter": "python",
   "pygments_lexer": "ipython3",
   "version": "3.5.2"
  }
 },
 "nbformat": 4,
 "nbformat_minor": 1
}
