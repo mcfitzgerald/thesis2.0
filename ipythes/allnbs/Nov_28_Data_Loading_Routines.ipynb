{
 "cells": [
  {
   "cell_type": "code",
   "execution_count": 1,
   "metadata": {
    "collapsed": true
   },
   "outputs": [],
   "source": [
    "#imports\n",
    "import csv\n",
    "import aligner_ultra\n",
    "import numpy as np\n",
    "import pandas as pd\n",
    "import matplotlib.pyplot as plt\n",
    "from collections import OrderedDict as Ord\n",
    "\n",
    "#magic\n",
    "%matplotlib inline\n",
    "%load_ext autoreload"
   ]
  },
  {
   "cell_type": "code",
   "execution_count": 2,
   "metadata": {
    "collapsed": true
   },
   "outputs": [],
   "source": [
    "#import tab sep values file\n",
    "df = pd.read_csv('All_WT_for_coopfit_tsv.csv', sep='\\t')\n",
    "\n",
    "#put saturation data column headers into list; discard receptor concentration column\n",
    "colist = df.columns.tolist()[1:]\n",
    "\n",
    "#create list of dataframes for each [lig]-sat data set for each receptor conc. and ensure sort oder (to avoid potting issues)\n",
    "dflist = [df[['[egf]', i]].dropna().sort_values(by='[egf]') for i in colist]\n",
    "\n",
    "#make headers uniform \n",
    "colist_low = [colist[i].lower() for i in range(len(colist))]\n",
    "\n",
    "#apply uniform headers to dataframe\n",
    "dflist_low = [dflist[i].rename(columns={colist[i]:colist_low[i]}) for i in range(len(colist_low))]\n",
    "\n",
    "#import total receptor concentrations\n",
    "with open('rtotswt.csv', 'r') as f:\n",
    "    g = csv.reader(f)\n",
    "    rtots = (list(g))\n",
    "    \n",
    "#convert to numerical values (floats)\n",
    "rtots = [float(rtots[i][0]) for i in range(len(rtots))]\n",
    "\n",
    "EGFR_WT_RTOTS_ord = Ord(zip(colist_low,rtots))\n",
    "\n",
    "EGFR_WT_DICT_ord = Ord(zip(colist_low,dflist_low))\n",
    "\n",
    "keylist = list(EGFR_WT_DICT_ord.keys())\n",
    "\n",
    "keyed_sats = np.array([EGFR_WT_DICT_ord[key][key].as_matrix() for key in keylist])\n",
    "\n",
    "keyed_ligs = np.array([EGFR_WT_DICT_ord[key]['[egf]'].as_matrix() for key in keylist])\n",
    "\n",
    "keyed_rtots = np.array([EGFR_WT_RTOTS_ord[key] for key in keylist])"
   ]
  },
  {
   "cell_type": "code",
   "execution_count": 3,
   "metadata": {
    "collapsed": false
   },
   "outputs": [
    {
     "data": {
      "image/png": "[encoded data removed]",
      "text/plain": [
       "<matplotlib.figure.Figure at 0x10c0d34a8>"
      ]
     },
     "metadata": {},
     "output_type": "display_data"
    }
   ],
   "source": [
    "for i in range(len(keyed_ligs)):\n",
    "    plt.semilogx(keyed_ligs[i],keyed_sats[i],'.')"
   ]
  },
  {
   "cell_type": "code",
   "execution_count": 8,
   "metadata": {
    "collapsed": false
   },
   "outputs": [
    {
     "data": {
      "text/plain": [
       "['24k', '43k', '92k', '120k', '231k', '447k']"
      ]
     },
     "execution_count": 8,
     "metadata": {},
     "output_type": "execute_result"
    }
   ],
   "source": [
    "list(EGFR_WT_DICT_ord.keys())[:6]"
   ]
  },
  {
   "cell_type": "code",
   "execution_count": 13,
   "metadata": {
    "collapsed": false
   },
   "outputs": [
    {
     "data": {
      "text/plain": [
       "['20k', '46k', '187k', '256k', '1200k']"
      ]
     },
     "execution_count": 13,
     "metadata": {},
     "output_type": "execute_result"
    }
   ],
   "source": [
    "list(EGFR_WT_DICT_ord.keys())[6:11]"
   ]
  },
  {
   "cell_type": "code",
   "execution_count": 14,
   "metadata": {
    "collapsed": false
   },
   "outputs": [
    {
     "data": {
      "text/plain": [
       "['12k', '82k', '107k', '387k', '502k', '1600k']"
      ]
     },
     "execution_count": 14,
     "metadata": {},
     "output_type": "execute_result"
    }
   ],
   "source": [
    "list(EGFR_WT_DICT_ord.keys())[11:]"
   ]
  },
  {
   "cell_type": "code",
   "execution_count": 20,
   "metadata": {
    "collapsed": false
   },
   "outputs": [
    {
     "data": {
      "text/plain": [
       "array([  0.01631733,   0.033773  ,   0.0684047 ,   0.08990054,\n",
       "         0.1651807 ,   0.2820976 ,   0.4317393 ,   0.7783454 ,\n",
       "         1.068384  ,   1.80568   ,   2.669588  ,   4.307405  ,\n",
       "         6.418342  ,   8.512644  ,  12.84846   ])"
      ]
     },
     "execution_count": 20,
     "metadata": {},
     "output_type": "execute_result"
    }
   ],
   "source": [
    "EGFR_WT_DICT_ord['12k'].values[:,0]"
   ]
  },
  {
   "cell_type": "code",
   "execution_count": null,
   "metadata": {
    "collapsed": true
   },
   "outputs": [],
   "source": []
  }
 ],
 "metadata": {
  "anaconda-cloud": {},
  "kernelspec": {
   "display_name": "Python [conda env:fitter]",
   "language": "python",
   "name": "conda-env-fitter-py"
  },
  "language_info": {
   "codemirror_mode": {
    "name": "ipython",
    "version": 3
   },
   "file_extension": ".py",
   "mimetype": "text/x-python",
   "name": "python",
   "nbconvert_exporter": "python",
   "pygments_lexer": "ipython3",
   "version": "3.5.2"
  }
 },
 "nbformat": 4,
 "nbformat_minor": 1
}
