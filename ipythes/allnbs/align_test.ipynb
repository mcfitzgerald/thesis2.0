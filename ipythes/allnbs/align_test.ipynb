{
 "cells": [
  {
   "cell_type": "code",
   "execution_count": 1,
   "metadata": {
    "collapsed": false
   },
   "outputs": [],
   "source": [
    "#imports\n",
    "import csv\n",
    "import numpy as np\n",
    "import pandas as pd\n",
    "import matplotlib.pyplot as plt\n",
    "from collections import OrderedDict as Ord\n",
    "\n",
    "#magic\n",
    "%matplotlib inline"
   ]
  },
  {
   "cell_type": "code",
   "execution_count": 2,
   "metadata": {
    "collapsed": true
   },
   "outputs": [],
   "source": [
    "#import tab sep values file\n",
    "df = pd.read_csv('All_WT_for_coopfit_tsv.csv', sep='\\t')"
   ]
  },
  {
   "cell_type": "code",
   "execution_count": 3,
   "metadata": {
    "collapsed": true
   },
   "outputs": [],
   "source": [
    "#put saturation data column headers into list\n",
    "colist = df.columns.tolist()[1:]"
   ]
  },
  {
   "cell_type": "code",
   "execution_count": 4,
   "metadata": {
    "collapsed": true
   },
   "outputs": [],
   "source": [
    "#create list of dataframes for each [lig]-sat data set for each receptor conc. and ensure sort oder (to avoid potting issues)\n",
    "dflist = [df[['[egf]', i]].dropna().sort_values(by='[egf]') for i in colist]"
   ]
  },
  {
   "cell_type": "code",
   "execution_count": 5,
   "metadata": {
    "collapsed": true
   },
   "outputs": [],
   "source": [
    "#make headers uniform \n",
    "colist_low = [colist[i].lower() for i in range(len(colist))]"
   ]
  },
  {
   "cell_type": "code",
   "execution_count": 6,
   "metadata": {
    "collapsed": true
   },
   "outputs": [],
   "source": [
    "#apply uniform headers to dataframe\n",
    "dflist_low = [dflist[i].rename(columns={colist[i]:colist_low[i]}) for i in range(len(colist_low))]"
   ]
  },
  {
   "cell_type": "code",
   "execution_count": 7,
   "metadata": {
    "collapsed": false
   },
   "outputs": [],
   "source": [
    "#import total receptor concentrations\n",
    "with open('rtotswt.csv', 'r') as f:\n",
    "    g = csv.reader(f)\n",
    "    rtots = (list(g))"
   ]
  },
  {
   "cell_type": "code",
   "execution_count": 8,
   "metadata": {
    "collapsed": true
   },
   "outputs": [],
   "source": [
    "#convert to numerical values (floats)\n",
    "rtots = [float(rtots[i][0]) for i in range(len(rtots))]"
   ]
  },
  {
   "cell_type": "code",
   "execution_count": 9,
   "metadata": {
    "collapsed": false
   },
   "outputs": [],
   "source": [
    "EGFR_WT_RTOTS_ord = Ord(zip(colist_low,rtots))"
   ]
  },
  {
   "cell_type": "code",
   "execution_count": 10,
   "metadata": {
    "collapsed": true
   },
   "outputs": [],
   "source": [
    "EGFR_WT_DICT_ord = Ord(zip(colist_low,dflist_low))"
   ]
  },
  {
   "cell_type": "code",
   "execution_count": 11,
   "metadata": {
    "collapsed": true
   },
   "outputs": [],
   "source": [
    "keylist = list(EGFR_WT_DICT_ord.keys())"
   ]
  },
  {
   "cell_type": "code",
   "execution_count": 12,
   "metadata": {
    "collapsed": true
   },
   "outputs": [],
   "source": [
    "keyed_sats = np.array([EGFR_WT_DICT_ord[key][key].as_matrix() for key in keylist])"
   ]
  },
  {
   "cell_type": "code",
   "execution_count": 13,
   "metadata": {
    "collapsed": true
   },
   "outputs": [],
   "source": [
    "keyed_ligs = np.array([EGFR_WT_DICT_ord[key]['[egf]'].as_matrix() for key in keylist])"
   ]
  },
  {
   "cell_type": "code",
   "execution_count": 14,
   "metadata": {
    "collapsed": true
   },
   "outputs": [],
   "source": [
    "keyed_rtots = np.array([EGFR_WT_RTOTS_ord[key] for key in keylist])"
   ]
  },
  {
   "cell_type": "code",
   "execution_count": 23,
   "metadata": {
    "collapsed": true
   },
   "outputs": [],
   "source": [
    "def init_nanarr(shape):\n",
    "    nanarr = np.empty(shape)\n",
    "    nanarr[:] = np.NAN\n",
    "    return nanarr\n",
    "\n",
    "def aligner(arr1, arr2):\n",
    "    if arr1.shape > arr2.shape:\n",
    "        arr_long = arr1\n",
    "        arr_short = arr2\n",
    "        aligned_arr = init_nanarr(arr1.shape)\n",
    "    else:\n",
    "        arr_long = arr2\n",
    "        arr_short = arr1\n",
    "        aligned_arr = init_nanarr(arr2.shape)\n",
    "        \n",
    "    indices = []\n",
    "    \n",
    "    for i in range(arr_short.shape[0]):\n",
    "        x = np.abs(arr_long - arr_short[i])\n",
    "        indices.append(np.argmin(x))\n",
    "        \n",
    "    for i in range(len(indices)):\n",
    "        aligned_arr[indices[i]] = arr_short[i]\n",
    "        \n",
    "    return np.array([arr_long,aligned_arr])"
   ]
  },
  {
   "cell_type": "code",
   "execution_count": 25,
   "metadata": {
    "collapsed": false
   },
   "outputs": [],
   "source": [
    "a = aligner(keyed_ligs[0],keyed_ligs[1])"
   ]
  },
  {
   "cell_type": "code",
   "execution_count": 29,
   "metadata": {
    "collapsed": false
   },
   "outputs": [],
   "source": [
    "b = np.array([[1,2,3],[4,5,6]])"
   ]
  },
  {
   "cell_type": "code",
   "execution_count": 32,
   "metadata": {
    "collapsed": false
   },
   "outputs": [
    {
     "data": {
      "text/plain": [
       "array([ 2.5,  3.5,  4.5])"
      ]
     },
     "execution_count": 32,
     "metadata": {},
     "output_type": "execute_result"
    }
   ],
   "source": [
    "np.average(b,axis=0)"
   ]
  },
  {
   "cell_type": "code",
   "execution_count": 35,
   "metadata": {
    "collapsed": false
   },
   "outputs": [
    {
     "data": {
      "text/plain": [
       "array([  8.20226750e-03,   1.56589350e-02,   3.15939650e-02,\n",
       "         6.34974050e-02,   9.65206400e-02,   1.46741450e-01,\n",
       "         2.48641100e-01,   3.96246600e-01,   6.90382750e-01,\n",
       "         1.07939900e+00,   1.83936900e+00,   2.59434700e+00,\n",
       "         4.63257200e+00,   8.15905350e+00,   1.60132400e+01])"
      ]
     },
     "execution_count": 35,
     "metadata": {},
     "output_type": "execute_result"
    }
   ],
   "source": [
    "np.nanmean(a,axis=0)"
   ]
  },
  {
   "cell_type": "code",
   "execution_count": 39,
   "metadata": {
    "collapsed": false
   },
   "outputs": [],
   "source": [
    "d = np.average(b,axis=0)"
   ]
  },
  {
   "cell_type": "code",
   "execution_count": 40,
   "metadata": {
    "collapsed": true
   },
   "outputs": [],
   "source": [
    "e =np.array([[1,2,3],[4,5,6],[7,8,9]])"
   ]
  },
  {
   "cell_type": "code",
   "execution_count": 41,
   "metadata": {
    "collapsed": false
   },
   "outputs": [
    {
     "data": {
      "text/plain": [
       "array([ 4.,  5.,  6.])"
      ]
     },
     "execution_count": 41,
     "metadata": {},
     "output_type": "execute_result"
    }
   ],
   "source": [
    "np.average(e,axis=0)"
   ]
  },
  {
   "cell_type": "code",
   "execution_count": 42,
   "metadata": {
    "collapsed": true
   },
   "outputs": [],
   "source": [
    "g = np.array([d,[7,8,9]])"
   ]
  },
  {
   "cell_type": "code",
   "execution_count": 43,
   "metadata": {
    "collapsed": false
   },
   "outputs": [
    {
     "data": {
      "text/plain": [
       "array([[ 2.5,  3.5,  4.5],\n",
       "       [ 7. ,  8. ,  9. ]])"
      ]
     },
     "execution_count": 43,
     "metadata": {},
     "output_type": "execute_result"
    }
   ],
   "source": [
    "g"
   ]
  },
  {
   "cell_type": "code",
   "execution_count": 44,
   "metadata": {
    "collapsed": false
   },
   "outputs": [
    {
     "data": {
      "text/plain": [
       "array([ 4.75,  5.75,  6.75])"
      ]
     },
     "execution_count": 44,
     "metadata": {},
     "output_type": "execute_result"
    }
   ],
   "source": [
    "np.average(g,axis=0)"
   ]
  },
  {
   "cell_type": "code",
   "execution_count": 53,
   "metadata": {
    "collapsed": true
   },
   "outputs": [],
   "source": [
    "sub = keyed_ligs[0:3]"
   ]
  },
  {
   "cell_type": "code",
   "execution_count": 54,
   "metadata": {
    "collapsed": false
   },
   "outputs": [
    {
     "data": {
      "text/plain": [
       "array([ array([  7.96945700e-03,   1.49932600e-02,   3.09951900e-02,\n",
       "         6.10952800e-02,   9.51486100e-02,   1.43964800e-01,\n",
       "         2.43969000e-01,   3.94505100e-01,   6.86923000e-01,\n",
       "         1.07939900e+00,   1.84758300e+00,   2.61864500e+00,\n",
       "         4.19711500e+00,   8.12129800e+00,   1.60132400e+01]),\n",
       "       array([ 0.00843508,  0.01632461,  0.03219274,  0.06589953,  0.09789267,\n",
       "        0.1495181 ,  0.2533132 ,  0.3979881 ,  0.6938425 ,  1.831155  ,\n",
       "        2.570049  ,  5.068029  ,  8.196809  ]),\n",
       "       array([  1.04782800e-02,   4.39510000e-02,   6.71754600e-02,\n",
       "         1.59764000e-01,   2.75784200e-01,   4.67317900e-01,\n",
       "         8.37884700e-01,   1.34129100e+00,   2.29507100e+00,\n",
       "         3.22207200e+00,   5.06843800e+00,   9.99232400e+00,\n",
       "         1.63226300e+01])], dtype=object)"
      ]
     },
     "execution_count": 54,
     "metadata": {},
     "output_type": "execute_result"
    }
   ],
   "source": [
    "sub"
   ]
  },
  {
   "cell_type": "code",
   "execution_count": 55,
   "metadata": {
    "collapsed": false
   },
   "outputs": [
    {
     "name": "stdout",
     "output_type": "stream",
     "text": [
      "15\n",
      "13\n",
      "13\n"
     ]
    }
   ],
   "source": [
    "for i in sub:\n",
    "    print(i.size)"
   ]
  },
  {
   "cell_type": "code",
   "execution_count": 58,
   "metadata": {
    "collapsed": false
   },
   "outputs": [],
   "source": [
    "def init_nanarr(shape):\n",
    "    nanarr = np.empty(shape)\n",
    "    nanarr[:] = np.NAN\n",
    "    return nanarr\n",
    "\n",
    "def aligner_mod2(arr_long,arr_short,aligned_arr):\n",
    "    indices = [] \n",
    "    for i in range(arr_short.shape[0]):\n",
    "        x = np.abs(arr_long - arr_short[i])\n",
    "        indices.append(np.argmin(x))\n",
    "        \n",
    "    for i in range(len(indices)):\n",
    "        aligned_arr[indices[i]] = arr_short[i]\n",
    "        \n",
    "    return aligned_arr\n",
    "    \n",
    "\n",
    "def aligner_wrap(arr1, arr2):\n",
    "    if arr1.shape > arr2.shape:\n",
    "        arr_long = arr1\n",
    "        arr_short = arr2\n",
    "        aligned_arr = init_nanarr(arr1.shape)\n",
    "        return aligner_mod2(arr_long,arr_short,aligned_arr)\n",
    "    elif arr1.shape < arr2.shape:\n",
    "        arr_long = arr2\n",
    "        arr_short = arr1\n",
    "        aligned_arr = init_nanarr(arr2.shape)\n",
    "        return aligner_mod2(arr_long,arr_short,aligned_arr)\n",
    "    else:\n",
    "        return arr2   "
   ]
  },
  {
   "cell_type": "code",
   "execution_count": 59,
   "metadata": {
    "collapsed": false
   },
   "outputs": [
    {
     "data": {
      "text/plain": [
       "array([ 0.00843508,  0.01632461,  0.03219274,  0.06589953,  0.09789267,\n",
       "        0.1495181 ,  0.2533132 ,  0.3979881 ,  0.6938425 ,         nan,\n",
       "        1.831155  ,  2.570049  ,  5.068029  ,  8.196809  ,         nan])"
      ]
     },
     "execution_count": 59,
     "metadata": {},
     "output_type": "execute_result"
    }
   ],
   "source": [
    "aligner_mod(keyed_ligs[0],keyed_ligs[1])"
   ]
  },
  {
   "cell_type": "code",
   "execution_count": 132,
   "metadata": {
    "collapsed": false
   },
   "outputs": [],
   "source": [
    "def align_datset(datset):\n",
    "    '''takes a numpy array of numpy arrays and aligns all arrays to to the first\n",
    "    largest array it finds in the super array'''\n",
    "    lng_idx = np.argmax([i.size for i in datset]) #index for first-found longest array\n",
    "    \n",
    "    oth_idxs = list(range(len([i.size for i in sub]))) #list of indices\n",
    "    oth_idxs.remove(lng_idx) #remove index for long array\n",
    "    \n",
    "    #print(lng_idx,oth_idxs) PASSED\n",
    "    \n",
    "    return np.array([aligner_mod(datset[lng_idx],datset[i]) for i in oth_idxs])\n",
    "    \n",
    "    \n",
    "    "
   ]
  },
  {
   "cell_type": "code",
   "execution_count": 61,
   "metadata": {
    "collapsed": true
   },
   "outputs": [],
   "source": [
    "a = [1,2,3,4]"
   ]
  },
  {
   "cell_type": "code",
   "execution_count": 62,
   "metadata": {
    "collapsed": false
   },
   "outputs": [
    {
     "data": {
      "text/plain": [
       "4"
      ]
     },
     "execution_count": 62,
     "metadata": {},
     "output_type": "execute_result"
    }
   ],
   "source": [
    "max(a)"
   ]
  },
  {
   "cell_type": "code",
   "execution_count": 64,
   "metadata": {
    "collapsed": false
   },
   "outputs": [
    {
     "data": {
      "text/plain": [
       "15"
      ]
     },
     "execution_count": 64,
     "metadata": {},
     "output_type": "execute_result"
    }
   ],
   "source": [
    "max([i.size for i in keyed_ligs])"
   ]
  },
  {
   "cell_type": "code",
   "execution_count": 70,
   "metadata": {
    "collapsed": false
   },
   "outputs": [
    {
     "data": {
      "text/plain": [
       "0"
      ]
     },
     "execution_count": 70,
     "metadata": {},
     "output_type": "execute_result"
    }
   ],
   "source": [
    "np.argmax([i.size for i in keyed_ligs])"
   ]
  },
  {
   "cell_type": "code",
   "execution_count": 71,
   "metadata": {
    "collapsed": true
   },
   "outputs": [],
   "source": [
    "sub = keyed_ligs[1:]"
   ]
  },
  {
   "cell_type": "code",
   "execution_count": 72,
   "metadata": {
    "collapsed": false
   },
   "outputs": [
    {
     "data": {
      "text/plain": [
       "4"
      ]
     },
     "execution_count": 72,
     "metadata": {},
     "output_type": "execute_result"
    }
   ],
   "source": [
    "np.argmax([i.size for i in sub])"
   ]
  },
  {
   "cell_type": "code",
   "execution_count": 120,
   "metadata": {
    "collapsed": false
   },
   "outputs": [],
   "source": [
    "a = (list(range(len([i.size for i in sub]))))"
   ]
  },
  {
   "cell_type": "code",
   "execution_count": 111,
   "metadata": {
    "collapsed": false
   },
   "outputs": [
    {
     "data": {
      "text/plain": [
       "list"
      ]
     },
     "execution_count": 111,
     "metadata": {},
     "output_type": "execute_result"
    }
   ],
   "source": [
    "type(a)"
   ]
  },
  {
   "cell_type": "code",
   "execution_count": 112,
   "metadata": {
    "collapsed": false
   },
   "outputs": [
    {
     "data": {
      "text/plain": [
       "list"
      ]
     },
     "execution_count": 112,
     "metadata": {},
     "output_type": "execute_result"
    }
   ],
   "source": [
    "type(a)"
   ]
  },
  {
   "cell_type": "code",
   "execution_count": 113,
   "metadata": {
    "collapsed": false
   },
   "outputs": [
    {
     "data": {
      "text/plain": [
       "[0, 1, 2, 3, 4, 5, 6, 7, 8, 9, 10, 11, 12, 13, 14, 15]"
      ]
     },
     "execution_count": 113,
     "metadata": {},
     "output_type": "execute_result"
    }
   ],
   "source": [
    "a"
   ]
  },
  {
   "cell_type": "code",
   "execution_count": 114,
   "metadata": {
    "collapsed": false
   },
   "outputs": [],
   "source": [
    "a.remove(4)"
   ]
  },
  {
   "cell_type": "code",
   "execution_count": 106,
   "metadata": {
    "collapsed": false
   },
   "outputs": [
    {
     "data": {
      "text/plain": [
       "[0, 1, 2, 3, 5, 6, 7, 8, 9, 10, 11, 12, 13, 14, 15]"
      ]
     },
     "execution_count": 106,
     "metadata": {},
     "output_type": "execute_result"
    }
   ],
   "source": [
    "a"
   ]
  },
  {
   "cell_type": "code",
   "execution_count": 118,
   "metadata": {
    "collapsed": false
   },
   "outputs": [],
   "source": [
    "a = [i for i in range(sub.size)]."
   ]
  },
  {
   "cell_type": "code",
   "execution_count": 119,
   "metadata": {
    "collapsed": true
   },
   "outputs": [],
   "source": [
    "a"
   ]
  },
  {
   "cell_type": "code",
   "execution_count": 121,
   "metadata": {
    "collapsed": false
   },
   "outputs": [
    {
     "data": {
      "text/plain": [
       "[0, 1, 2, 3, 4, 5, 6, 7, 8, 9, 10, 11, 12, 13, 14, 15]"
      ]
     },
     "execution_count": 121,
     "metadata": {},
     "output_type": "execute_result"
    }
   ],
   "source": [
    "a"
   ]
  },
  {
   "cell_type": "code",
   "execution_count": 124,
   "metadata": {
    "collapsed": false
   },
   "outputs": [
    {
     "ename": "ValueError",
     "evalue": "list.remove(x): x not in list",
     "output_type": "error",
     "traceback": [
      "\u001b[0;31m---------------------------------------------------------------------------\u001b[0m",
      "\u001b[0;31mValueError\u001b[0m                                Traceback (most recent call last)",
      "\u001b[0;32m<ipython-input-124-1ace18a8c563>\u001b[0m in \u001b[0;36m<module>\u001b[0;34m()\u001b[0m\n\u001b[0;32m----> 1\u001b[0;31m \u001b[0ma\u001b[0m\u001b[0;34m.\u001b[0m\u001b[0mremove\u001b[0m\u001b[0;34m(\u001b[0m\u001b[0;36m4\u001b[0m\u001b[0;34m)\u001b[0m\u001b[0;34m\u001b[0m\u001b[0m\n\u001b[0m",
      "\u001b[0;31mValueError\u001b[0m: list.remove(x): x not in list"
     ]
    }
   ],
   "source": [
    "a.remove(4)"
   ]
  },
  {
   "cell_type": "code",
   "execution_count": 125,
   "metadata": {
    "collapsed": false
   },
   "outputs": [
    {
     "data": {
      "text/plain": [
       "[0, 1, 2, 3, 5, 6, 7, 8, 9, 10, 11, 12, 13, 14, 15]"
      ]
     },
     "execution_count": 125,
     "metadata": {},
     "output_type": "execute_result"
    }
   ],
   "source": [
    "a"
   ]
  },
  {
   "cell_type": "code",
   "execution_count": 131,
   "metadata": {
    "collapsed": false
   },
   "outputs": [
    {
     "data": {
      "text/plain": [
       "[array([ 0.00843508,  0.01632461,  0.03219274,  0.06589953,  0.09789267,\n",
       "         0.1495181 ,  0.2533132 ,  0.3979881 ,  0.6938425 ,         nan,\n",
       "         1.831155  ,  2.570049  ,  5.068029  ,  8.196809  ,         nan]),\n",
       " array([  1.04782800e-02,              nan,   4.39510000e-02,\n",
       "          6.71754600e-02,              nan,   1.59764000e-01,\n",
       "          2.75784200e-01,   4.67317900e-01,   8.37884700e-01,\n",
       "          1.34129100e+00,              nan,   3.22207200e+00,\n",
       "          5.06843800e+00,   9.99232400e+00,   1.63226300e+01]),\n",
       " array([         nan,   0.02105896,   0.04394744,   0.06716596,\n",
       "                 nan,   0.142679  ,   0.237226  ,   0.4670442 ,\n",
       "                 nan,   1.080119  ,   1.830193  ,   2.595465  ,\n",
       "          4.079464  ,   8.197306  ,  16.17389   ]),\n",
       " array([        nan,         nan,  0.02985244,  0.06170198,  0.09792828,\n",
       "         0.142702  ,  0.244107  ,  0.3909656 ,  0.7009451 ,  1.090977  ,\n",
       "         1.849451  ,  2.621134  ,  5.115771  ,  8.046807  ,         nan]),\n",
       " array([         nan,   0.01713749,   0.03444448,   0.07655431,\n",
       "                 nan,   0.1450889 ,   0.251269  ,   0.4142728 ,\n",
       "          0.7255647 ,   1.060153  ,   1.819164  ,   2.552526  ,\n",
       "          4.121284  ,   8.368795  ,  12.34485   ]),\n",
       " array([  1.49975000e-02,   2.95726500e-02,              nan,\n",
       "          9.69908500e-02,              nan,   1.44087100e-01,\n",
       "          2.48778100e-01,   3.94624700e-01,   6.87951000e-01,\n",
       "          1.17700400e+00,   1.83259900e+00,   2.57264700e+00,\n",
       "          4.08259800e+00,   8.05087400e+00,   1.60190700e+01]),\n",
       " array([  1.49975000e-02,              nan,   2.95726500e-02,\n",
       "          9.69908500e-02,              nan,   1.44087100e-01,\n",
       "          2.48778100e-01,   3.94624700e-01,   6.87951000e-01,\n",
       "          1.17700400e+00,   1.83259900e+00,   2.57264700e+00,\n",
       "          4.08259800e+00,   8.05087400e+00,   1.60190700e+01]),\n",
       " array([         nan,   0.01836968,   0.02878571,   0.06082663,\n",
       "          0.1152153 ,          nan,   0.2055712 ,   0.3524264 ,\n",
       "          0.6354886 ,   0.9669508 ,   1.675933  ,   2.44816   ,\n",
       "          4.034029  ,   8.192737  ,  12.45058   ]),\n",
       " array([             nan,   1.29597000e-02,   2.79261500e-02,\n",
       "          5.66855900e-02,   8.79264600e-02,   1.31057000e-01,\n",
       "          2.22472800e-01,   3.62950200e-01,   6.54465000e-01,\n",
       "          1.00584700e+00,   1.76008800e+00,   2.52132200e+00,\n",
       "          4.06792600e+00,   8.35426700e+00,   1.61477500e+01]),\n",
       " array([  1.49975000e-02,   2.95726500e-02,   6.11212100e-02,\n",
       "          9.69908500e-02,   1.44087100e-01,   2.48778100e-01,\n",
       "          3.94624700e-01,   6.87951000e-01,   1.17700400e+00,\n",
       "          1.83259900e+00,   2.57264700e+00,   4.08259800e+00,\n",
       "                     nan,   8.05087400e+00,   1.60190700e+01]),\n",
       " array([         nan,   0.01611945,   0.0352023 ,   0.07328256,\n",
       "                 nan,   0.1430707 ,   0.2428421 ,   0.3778524 ,\n",
       "          0.7089943 ,   1.036456  ,   1.893233  ,          nan,\n",
       "          4.393878  ,   8.504394  ,  14.24382   ]),\n",
       " array([  1.12189300e-02,   1.87615200e-02,   3.57656700e-02,\n",
       "          6.71343700e-02,              nan,   1.26858200e-01,\n",
       "          2.26001300e-01,   3.69250700e-01,   6.66551200e-01,\n",
       "          1.01053200e+00,   1.77975300e+00,   2.58740400e+00,\n",
       "                     nan,   8.48311900e+00,   1.26542500e+01]),\n",
       " array([  1.49975000e-02,   2.95726500e-02,   6.11212100e-02,\n",
       "          9.69908500e-02,   1.44087100e-01,   2.48778100e-01,\n",
       "          3.94624700e-01,   6.87951000e-01,   1.17700400e+00,\n",
       "          1.83259900e+00,   2.57264700e+00,   4.08259800e+00,\n",
       "                     nan,   8.05087400e+00,   1.60190700e+01]),\n",
       " array([             nan,   1.13943300e-02,   2.32919300e-02,\n",
       "          5.03018300e-02,   9.86225200e-02,   1.75471700e-01,\n",
       "          2.97585600e-01,              nan,   8.26670500e-01,\n",
       "                     nan,   1.52277200e+00,   2.28366100e+00,\n",
       "          3.91000300e+00,   9.17992300e+00,   1.41383400e+01]),\n",
       " array([  7.67501400e-03,   1.49975000e-02,   2.95726500e-02,\n",
       "          6.11212100e-02,   9.69908500e-02,   1.44087100e-01,\n",
       "          2.48778100e-01,   3.94624700e-01,   6.87951000e-01,\n",
       "          1.17700400e+00,   2.57264700e+00,   4.08259800e+00,\n",
       "                     nan,   8.05087400e+00,   1.60190700e+01])]"
      ]
     },
     "execution_count": 131,
     "metadata": {},
     "output_type": "execute_result"
    }
   ],
   "source": [
    "align_datset(sub)"
   ]
  },
  {
   "cell_type": "code",
   "execution_count": 133,
   "metadata": {
    "collapsed": true
   },
   "outputs": [],
   "source": [
    "a = align_datset(keyed_ligs)"
   ]
  },
  {
   "cell_type": "code",
   "execution_count": 134,
   "metadata": {
    "collapsed": false
   },
   "outputs": [
    {
     "data": {
      "text/plain": [
       "array([[  8.43507800e-03,   1.63246100e-02,   3.21927400e-02,\n",
       "          6.58995300e-02,   9.78926700e-02,   1.49518100e-01,\n",
       "          2.53313200e-01,   3.97988100e-01,   6.93842500e-01,\n",
       "                     nan,   1.83115500e+00,   2.57004900e+00,\n",
       "          5.06802900e+00,   8.19680900e+00,              nan],\n",
       "       [  1.04782800e-02,              nan,   4.39510000e-02,\n",
       "          6.71754600e-02,              nan,   1.59764000e-01,\n",
       "          2.75784200e-01,   4.67317900e-01,   8.37884700e-01,\n",
       "          1.34129100e+00,              nan,   3.22207200e+00,\n",
       "          5.06843800e+00,   9.99232400e+00,   1.63226300e+01],\n",
       "       [             nan,   2.10589600e-02,   4.39474400e-02,\n",
       "          6.71659600e-02,              nan,   1.42679000e-01,\n",
       "          2.37226000e-01,   4.67044200e-01,              nan,\n",
       "          1.08011900e+00,   1.83019300e+00,   2.59546500e+00,\n",
       "          4.07946400e+00,   8.19730600e+00,   1.61738900e+01],\n",
       "       [             nan,              nan,   2.98524400e-02,\n",
       "          6.17019800e-02,   9.79282800e-02,   1.42702000e-01,\n",
       "          2.44107000e-01,   3.90965600e-01,   7.00945100e-01,\n",
       "          1.09097700e+00,   1.84945100e+00,   2.62113400e+00,\n",
       "          5.11577100e+00,   8.04680700e+00,              nan],\n",
       "       [  7.96945700e-03,   1.49932600e-02,   3.09951900e-02,\n",
       "          6.10952800e-02,   9.51486100e-02,   1.43964800e-01,\n",
       "          2.43969000e-01,   3.94505100e-01,   6.86923000e-01,\n",
       "          1.07939900e+00,   1.84758300e+00,   2.61864500e+00,\n",
       "          4.19711500e+00,   8.12129800e+00,   1.60132400e+01],\n",
       "       [             nan,   1.71374900e-02,   3.44444800e-02,\n",
       "          7.65543100e-02,              nan,   1.45088900e-01,\n",
       "          2.51269000e-01,   4.14272800e-01,   7.25564700e-01,\n",
       "          1.06015300e+00,   1.81916400e+00,   2.55252600e+00,\n",
       "          6.13685900e+00,   8.36879500e+00,   1.23448500e+01],\n",
       "       [  1.49932600e-02,              nan,   3.09951900e-02,\n",
       "          9.51486100e-02,              nan,   1.43964800e-01,\n",
       "          2.43969000e-01,   3.94505100e-01,   6.86923000e-01,\n",
       "          1.07939900e+00,   1.84758300e+00,   2.61864500e+00,\n",
       "          4.19711500e+00,   8.12129800e+00,   1.60132400e+01],\n",
       "       [  1.49932600e-02,              nan,   3.09951900e-02,\n",
       "          9.51486100e-02,              nan,   1.43964800e-01,\n",
       "          2.43969000e-01,   3.94505100e-01,   6.86923000e-01,\n",
       "          1.07939900e+00,   1.84758300e+00,   2.61864500e+00,\n",
       "          4.19711500e+00,   8.12129800e+00,   1.60132400e+01],\n",
       "       [             nan,   1.83696800e-02,   2.87857100e-02,\n",
       "          6.08266300e-02,   1.15215300e-01,              nan,\n",
       "          2.05571200e-01,   3.52426400e-01,   6.35488600e-01,\n",
       "          9.66950800e-01,   1.67593300e+00,   2.44816000e+00,\n",
       "          4.03402900e+00,   8.19273700e+00,   1.24505800e+01],\n",
       "       [             nan,   1.29597000e-02,   2.79261500e-02,\n",
       "          5.66855900e-02,   8.79264600e-02,   1.31057000e-01,\n",
       "          2.22472800e-01,   3.62950200e-01,   6.54465000e-01,\n",
       "          1.00584700e+00,   1.76008800e+00,   2.52132200e+00,\n",
       "          4.06792600e+00,   8.35426700e+00,   1.61477500e+01],\n",
       "       [  1.49932600e-02,   3.09951900e-02,   6.10952800e-02,\n",
       "          9.51486100e-02,   1.43964800e-01,   2.43969000e-01,\n",
       "          3.94505100e-01,   6.86923000e-01,   1.07939900e+00,\n",
       "          1.84758300e+00,   2.61864500e+00,   4.19711500e+00,\n",
       "                     nan,   8.12129800e+00,   1.60132400e+01],\n",
       "       [             nan,   1.61194500e-02,   3.52023000e-02,\n",
       "          7.32825600e-02,              nan,   1.43070700e-01,\n",
       "          2.42842100e-01,   3.77852400e-01,   7.08994300e-01,\n",
       "          1.03645600e+00,   1.89323300e+00,              nan,\n",
       "          4.39387800e+00,   8.50439400e+00,   1.42438200e+01],\n",
       "       [  1.12189300e-02,   1.87615200e-02,   3.57656700e-02,\n",
       "          6.71343700e-02,              nan,   1.26858200e-01,\n",
       "          2.26001300e-01,   3.69250700e-01,   6.66551200e-01,\n",
       "          1.01053200e+00,   1.77975300e+00,   2.58740400e+00,\n",
       "                     nan,   8.48311900e+00,   1.26542500e+01],\n",
       "       [  1.49932600e-02,   3.09951900e-02,   6.10952800e-02,\n",
       "          9.51486100e-02,   1.43964800e-01,   2.43969000e-01,\n",
       "          3.94505100e-01,   6.86923000e-01,   1.07939900e+00,\n",
       "          1.84758300e+00,   2.61864500e+00,   4.19711500e+00,\n",
       "                     nan,   8.12129800e+00,   1.60132400e+01],\n",
       "       [  1.13943300e-02,              nan,   2.32919300e-02,\n",
       "          5.03018300e-02,   9.86225200e-02,   1.75471700e-01,\n",
       "          2.97585600e-01,              nan,   8.26670500e-01,\n",
       "                     nan,   1.52277200e+00,   2.28366100e+00,\n",
       "          6.10621300e+00,   9.17992300e+00,   1.41383400e+01]])"
      ]
     },
     "execution_count": 134,
     "metadata": {},
     "output_type": "execute_result"
    }
   ],
   "source": [
    "a"
   ]
  },
  {
   "cell_type": "code",
   "execution_count": 138,
   "metadata": {
    "collapsed": false
   },
   "outputs": [],
   "source": [
    "avglig = np.nanmean(a, axis=0)"
   ]
  },
  {
   "cell_type": "code",
   "execution_count": 155,
   "metadata": {
    "collapsed": false
   },
   "outputs": [
    {
     "data": {
      "text/plain": [
       "[<matplotlib.lines.Line2D at 0x110860668>]"
      ]
     },
     "execution_count": 155,
     "metadata": {},
     "output_type": "execute_result"
    },
    {
     "data": {
      "image/png": "[encoded data removed]",
      "text/plain": [
       "<matplotlib.figure.Figure at 0x110860e48>"
      ]
     },
     "metadata": {},
     "output_type": "display_data"
    }
   ],
   "source": [
    "for i in range(keyed_ligs.size):\n",
    "    plt.semilogx(keyed_ligs[i],0*keyed_ligs[i],'.')\n",
    "plt.semilogx(avglig,0*avglig,'o')"
   ]
  },
  {
   "cell_type": "code",
   "execution_count": 153,
   "metadata": {
    "collapsed": false
   },
   "outputs": [],
   "source": [
    "stdlig = np.sqrt(np.nanvar(a, axis=0))"
   ]
  },
  {
   "cell_type": "code",
   "execution_count": 154,
   "metadata": {
    "collapsed": false
   },
   "outputs": [
    {
     "data": {
      "text/plain": [
       "array([ 0.22572979,  0.30261185,  0.29745345,  0.20514735,  0.18902502,\n",
       "        0.22615111,  0.20642562,  0.24072554,  0.18473577,  0.24382811,\n",
       "        0.15860793,  0.20818187,  0.1565952 ,  0.05987735,  0.10139037])"
      ]
     },
     "execution_count": 154,
     "metadata": {},
     "output_type": "execute_result"
    }
   ],
   "source": [
    "stdlig/avglig"
   ]
  },
  {
   "cell_type": "code",
   "execution_count": 170,
   "metadata": {
    "collapsed": false
   },
   "outputs": [
    {
     "data": {
      "image/png": "[encoded data removed]",
      "text/plain": [
       "<matplotlib.figure.Figure at 0x110e7b978>"
      ]
     },
     "metadata": {},
     "output_type": "display_data"
    }
   ],
   "source": [
    "plt.errorbar(avglig, avglig*0,marker='.', linestyle='none', xerr=stderr)\n",
    "plt.xscale('log')\n"
   ]
  },
  {
   "cell_type": "code",
   "execution_count": 159,
   "metadata": {
    "collapsed": false
   },
   "outputs": [
    {
     "data": {
      "text/plain": [
       "[<matplotlib.lines.Line2D at 0x111b108d0>]"
      ]
     },
     "execution_count": 159,
     "metadata": {},
     "output_type": "execute_result"
    },
    {
     "data": {
      "image/png": "[encoded data removed]",
      "text/plain": [
       "<matplotlib.figure.Figure at 0x1105ce748>"
      ]
     },
     "metadata": {},
     "output_type": "display_data"
    }
   ],
   "source": [
    "plt.semilogx(keyed_ligs[0],keyed_ligs[0]*0)"
   ]
  },
  {
   "cell_type": "code",
   "execution_count": 160,
   "metadata": {
    "collapsed": false
   },
   "outputs": [
    {
     "data": {
      "text/plain": [
       "17"
      ]
     },
     "execution_count": 160,
     "metadata": {},
     "output_type": "execute_result"
    }
   ],
   "source": [
    "keyed_ligs.size"
   ]
  },
  {
   "cell_type": "code",
   "execution_count": 163,
   "metadata": {
    "collapsed": false
   },
   "outputs": [],
   "source": [
    "stderr = stdlig/np.sqrt(17)"
   ]
  },
  {
   "cell_type": "code",
   "execution_count": 171,
   "metadata": {
    "collapsed": true
   },
   "outputs": [],
   "source": [
    "a = np.array([1,4,np.nan,6,np.nan])"
   ]
  },
  {
   "cell_type": "code",
   "execution_count": 172,
   "metadata": {
    "collapsed": false
   },
   "outputs": [
    {
     "data": {
      "text/plain": [
       "array([  1.,   4.,  nan,   6.,  nan])"
      ]
     },
     "execution_count": 172,
     "metadata": {},
     "output_type": "execute_result"
    }
   ],
   "source": [
    "a"
   ]
  },
  {
   "cell_type": "code",
   "execution_count": 178,
   "metadata": {
    "collapsed": false
   },
   "outputs": [],
   "source": [
    "b = np.where(a[:]==np.nan)"
   ]
  },
  {
   "cell_type": "code",
   "execution_count": 179,
   "metadata": {
    "collapsed": false
   },
   "outputs": [
    {
     "data": {
      "text/plain": [
       "(array([], dtype=int64),)"
      ]
     },
     "execution_count": 179,
     "metadata": {},
     "output_type": "execute_result"
    }
   ],
   "source": [
    "b"
   ]
  },
  {
   "cell_type": "code",
   "execution_count": 184,
   "metadata": {
    "collapsed": false
   },
   "outputs": [
    {
     "ename": "ValueError",
     "evalue": "The truth value of an array with more than one element is ambiguous. Use a.any() or a.all()",
     "output_type": "error",
     "traceback": [
      "\u001b[0;31m---------------------------------------------------------------------------\u001b[0m",
      "\u001b[0;31mValueError\u001b[0m                                Traceback (most recent call last)",
      "\u001b[0;32m<ipython-input-184-58984eab99cc>\u001b[0m in \u001b[0;36m<module>\u001b[0;34m()\u001b[0m\n\u001b[0;32m----> 1\u001b[0;31m \u001b[0mnp\u001b[0m\u001b[0;34m.\u001b[0m\u001b[0mwhere\u001b[0m\u001b[0;34m(\u001b[0m\u001b[0;32mnot\u001b[0m\u001b[0;34m(\u001b[0m\u001b[0mnp\u001b[0m\u001b[0;34m.\u001b[0m\u001b[0misnan\u001b[0m\u001b[0;34m(\u001b[0m\u001b[0ma\u001b[0m\u001b[0;34m)\u001b[0m\u001b[0;34m)\u001b[0m\u001b[0;34m)\u001b[0m\u001b[0;34m\u001b[0m\u001b[0m\n\u001b[0m",
      "\u001b[0;31mValueError\u001b[0m: The truth value of an array with more than one element is ambiguous. Use a.any() or a.all()"
     ]
    }
   ],
   "source": [
    "np.where(not(np.isnan(a)))"
   ]
  },
  {
   "cell_type": "code",
   "execution_count": 189,
   "metadata": {
    "collapsed": false
   },
   "outputs": [],
   "source": [
    "b = np.where(np.isnan(a)==False)"
   ]
  },
  {
   "cell_type": "code",
   "execution_count": 191,
   "metadata": {
    "collapsed": false
   },
   "outputs": [
    {
     "data": {
      "text/plain": [
       "array([ 1.,  4.,  6.])"
      ]
     },
     "execution_count": 191,
     "metadata": {},
     "output_type": "execute_result"
    }
   ],
   "source": [
    "a[b]"
   ]
  },
  {
   "cell_type": "code",
   "execution_count": 192,
   "metadata": {
    "collapsed": true
   },
   "outputs": [],
   "source": [
    "a = align_datset(keyed_ligs)"
   ]
  },
  {
   "cell_type": "code",
   "execution_count": 198,
   "metadata": {
    "collapsed": true
   },
   "outputs": [],
   "source": [
    "b = np.where(np.isnan(a)==False)"
   ]
  },
  {
   "cell_type": "code",
   "execution_count": 199,
   "metadata": {
    "collapsed": false
   },
   "outputs": [
    {
     "data": {
      "text/plain": [
       "[(array([ 0,  1,  2,  3,  4,  5,  6,  7,  8, 10, 11, 12, 13]),),\n",
       " (array([ 0,  2,  3,  5,  6,  7,  8,  9, 11, 12, 13, 14]),),\n",
       " (array([ 1,  2,  3,  5,  6,  7,  9, 10, 11, 12, 13, 14]),),\n",
       " (array([ 2,  3,  4,  5,  6,  7,  8,  9, 10, 11, 12, 13]),),\n",
       " (array([ 0,  1,  2,  3,  4,  5,  6,  7,  8,  9, 10, 11, 12, 13, 14]),),\n",
       " (array([ 1,  2,  3,  5,  6,  7,  8,  9, 10, 11, 12, 13, 14]),),\n",
       " (array([ 0,  2,  3,  5,  6,  7,  8,  9, 10, 11, 12, 13, 14]),),\n",
       " (array([ 0,  2,  3,  5,  6,  7,  8,  9, 10, 11, 12, 13, 14]),),\n",
       " (array([ 1,  2,  3,  4,  6,  7,  8,  9, 10, 11, 12, 13, 14]),),\n",
       " (array([ 1,  2,  3,  4,  5,  6,  7,  8,  9, 10, 11, 12, 13, 14]),),\n",
       " (array([ 0,  1,  2,  3,  4,  5,  6,  7,  8,  9, 10, 11, 13, 14]),),\n",
       " (array([ 1,  2,  3,  5,  6,  7,  8,  9, 10, 12, 13, 14]),),\n",
       " (array([ 0,  1,  2,  3,  5,  6,  7,  8,  9, 10, 11, 13, 14]),),\n",
       " (array([ 0,  1,  2,  3,  4,  5,  6,  7,  8,  9, 10, 11, 13, 14]),),\n",
       " (array([ 0,  2,  3,  4,  5,  6,  8, 10, 11, 12, 13, 14]),)]"
      ]
     },
     "execution_count": 199,
     "metadata": {},
     "output_type": "execute_result"
    }
   ],
   "source": [
    "[np.where(np.isnan(i)==False) for i in a]\n",
    "    "
   ]
  },
  {
   "cell_type": "code",
   "execution_count": 201,
   "metadata": {
    "collapsed": false
   },
   "outputs": [
    {
     "name": "stdout",
     "output_type": "stream",
     "text": [
      "15\n",
      "13\n",
      "13\n",
      "13\n",
      "12\n",
      "15\n",
      "14\n",
      "15\n",
      "15\n",
      "14\n",
      "14\n",
      "15\n",
      "13\n",
      "14\n",
      "15\n",
      "14\n",
      "15\n"
     ]
    }
   ],
   "source": [
    "for i in keyed_ligs:\n",
    "    print(i.size)"
   ]
  },
  {
   "cell_type": "code",
   "execution_count": 203,
   "metadata": {
    "collapsed": false
   },
   "outputs": [
    {
     "data": {
      "text/plain": [
       "(15, 15)"
      ]
     },
     "execution_count": 203,
     "metadata": {},
     "output_type": "execute_result"
    }
   ],
   "source": [
    "a.shape"
   ]
  },
  {
   "cell_type": "code",
   "execution_count": 204,
   "metadata": {
    "collapsed": false
   },
   "outputs": [
    {
     "data": {
      "text/plain": [
       "(17,)"
      ]
     },
     "execution_count": 204,
     "metadata": {},
     "output_type": "execute_result"
    }
   ],
   "source": [
    "keyed_ligs.shape"
   ]
  },
  {
   "cell_type": "code",
   "execution_count": 237,
   "metadata": {
    "collapsed": true
   },
   "outputs": [],
   "source": [
    "def align_datset_mod(datset):\n",
    "    '''takes a numpy array of numpy arrays and aligns all arrays to to the first\n",
    "    largest array it finds in the super array'''\n",
    "    lng_idx = np.argmax([i.size for i in datset]) #index for first-found longest array\n",
    "    \n",
    "    oth_idxs = list(range(len([i.size for i in datset]))) #list of indices\n",
    "    oth_idxs.remove(lng_idx) #remove index for long array\n",
    "    \n",
    "    #print(lng_idx,oth_idxs) PASSED\n",
    "    \n",
    "    container = [aligner_mod(datset[lng_idx],datset[i]) for i in oth_idxs]\n",
    "    container.insert(0,datset[lng_idx])\n",
    "    \n",
    "    return np.array(container)"
   ]
  },
  {
   "cell_type": "code",
   "execution_count": 209,
   "metadata": {
    "collapsed": false
   },
   "outputs": [],
   "source": [
    "a = [i.size for i in keyed_ligs]"
   ]
  },
  {
   "cell_type": "code",
   "execution_count": 214,
   "metadata": {
    "collapsed": false
   },
   "outputs": [
    {
     "data": {
      "text/plain": [
       "[15, 13, 13, 13, 12, 15, 14, 15, 15, 14, 14, 15, 13, 14, 15, 14, 15]"
      ]
     },
     "execution_count": 214,
     "metadata": {},
     "output_type": "execute_result"
    }
   ],
   "source": [
    "a"
   ]
  },
  {
   "cell_type": "code",
   "execution_count": 213,
   "metadata": {
    "collapsed": false
   },
   "outputs": [],
   "source": [
    "lng_idx = np.argmax([i.size for i in keyed_ligs])"
   ]
  },
  {
   "cell_type": "code",
   "execution_count": 215,
   "metadata": {
    "collapsed": false
   },
   "outputs": [
    {
     "data": {
      "text/plain": [
       "0"
      ]
     },
     "execution_count": 215,
     "metadata": {},
     "output_type": "execute_result"
    }
   ],
   "source": [
    "lng_idx"
   ]
  },
  {
   "cell_type": "code",
   "execution_count": 220,
   "metadata": {
    "collapsed": true
   },
   "outputs": [],
   "source": [
    "oth_idxs = list(range(len([i.size for i in keyed_ligs])))"
   ]
  },
  {
   "cell_type": "code",
   "execution_count": 221,
   "metadata": {
    "collapsed": false
   },
   "outputs": [
    {
     "data": {
      "text/plain": [
       "[0, 1, 2, 3, 4, 5, 6, 7, 8, 9, 10, 11, 12, 13, 14, 15, 16]"
      ]
     },
     "execution_count": 221,
     "metadata": {},
     "output_type": "execute_result"
    }
   ],
   "source": [
    "oth_idxs"
   ]
  },
  {
   "cell_type": "code",
   "execution_count": 222,
   "metadata": {
    "collapsed": true
   },
   "outputs": [],
   "source": [
    " oth_idxs.remove(lng_idx)"
   ]
  },
  {
   "cell_type": "code",
   "execution_count": 223,
   "metadata": {
    "collapsed": false
   },
   "outputs": [
    {
     "data": {
      "text/plain": [
       "[1, 2, 3, 4, 5, 6, 7, 8, 9, 10, 11, 12, 13, 14, 15, 16]"
      ]
     },
     "execution_count": 223,
     "metadata": {},
     "output_type": "execute_result"
    }
   ],
   "source": [
    "oth_idxs"
   ]
  },
  {
   "cell_type": "code",
   "execution_count": 224,
   "metadata": {
    "collapsed": true
   },
   "outputs": [],
   "source": [
    "h = [1,2,3]"
   ]
  },
  {
   "cell_type": "code",
   "execution_count": 235,
   "metadata": {
    "collapsed": false
   },
   "outputs": [],
   "source": [
    "h.insert(0,5)"
   ]
  },
  {
   "cell_type": "code",
   "execution_count": 236,
   "metadata": {
    "collapsed": false
   },
   "outputs": [
    {
     "data": {
      "text/plain": [
       "[5, 1, 0, 2]"
      ]
     },
     "execution_count": 236,
     "metadata": {},
     "output_type": "execute_result"
    }
   ],
   "source": [
    "h"
   ]
  },
  {
   "cell_type": "code",
   "execution_count": 240,
   "metadata": {
    "collapsed": true
   },
   "outputs": [],
   "source": [
    "a = align_datset_mod(keyed_ligs)"
   ]
  },
  {
   "cell_type": "code",
   "execution_count": 241,
   "metadata": {
    "collapsed": false
   },
   "outputs": [
    {
     "data": {
      "text/plain": [
       "(17, 15)"
      ]
     },
     "execution_count": 241,
     "metadata": {},
     "output_type": "execute_result"
    }
   ],
   "source": [
    "a.shape"
   ]
  },
  {
   "cell_type": "code",
   "execution_count": 242,
   "metadata": {
    "collapsed": false
   },
   "outputs": [
    {
     "data": {
      "text/plain": [
       "array([  7.96945700e-03,   1.49932600e-02,   3.09951900e-02,\n",
       "         6.10952800e-02,   9.51486100e-02,   1.43964800e-01,\n",
       "         2.43969000e-01,   3.94505100e-01,   6.86923000e-01,\n",
       "         1.07939900e+00,   1.84758300e+00,   2.61864500e+00,\n",
       "         4.19711500e+00,   8.12129800e+00,   1.60132400e+01])"
      ]
     },
     "execution_count": 242,
     "metadata": {},
     "output_type": "execute_result"
    }
   ],
   "source": [
    "a[0]"
   ]
  },
  {
   "cell_type": "code",
   "execution_count": 243,
   "metadata": {
    "collapsed": false
   },
   "outputs": [
    {
     "data": {
      "text/plain": [
       "array([  7.96945700e-03,   1.49932600e-02,   3.09951900e-02,\n",
       "         6.10952800e-02,   9.51486100e-02,   1.43964800e-01,\n",
       "         2.43969000e-01,   3.94505100e-01,   6.86923000e-01,\n",
       "         1.07939900e+00,   1.84758300e+00,   2.61864500e+00,\n",
       "         4.19711500e+00,   8.12129800e+00,   1.60132400e+01])"
      ]
     },
     "execution_count": 243,
     "metadata": {},
     "output_type": "execute_result"
    }
   ],
   "source": [
    "keyed_ligs[0]"
   ]
  },
  {
   "cell_type": "code",
   "execution_count": 249,
   "metadata": {
    "collapsed": false
   },
   "outputs": [],
   "source": [
    "ligav = np.nanmean(a,axis=0)"
   ]
  },
  {
   "cell_type": "code",
   "execution_count": 250,
   "metadata": {
    "collapsed": false
   },
   "outputs": [],
   "source": [
    "ligstd = np.nanstd(a,axis=0)"
   ]
  },
  {
   "cell_type": "code",
   "execution_count": 252,
   "metadata": {
    "collapsed": false
   },
   "outputs": [],
   "source": [
    "legserr = ligstd/np.sqrt(17)"
   ]
  },
  {
   "cell_type": "code",
   "execution_count": 254,
   "metadata": {
    "collapsed": false
   },
   "outputs": [
    {
     "data": {
      "text/plain": [
       "array([ 0.25996564,  0.30275182,  0.28915486,  0.20308979,  0.18251665,\n",
       "        0.21671665,  0.19745703,  0.23071232,  0.17805661,  0.23231459,\n",
       "        0.17027269,  0.22269722,  0.15466018,  0.05754028,  0.09644661])"
      ]
     },
     "execution_count": 254,
     "metadata": {},
     "output_type": "execute_result"
    }
   ],
   "source": [
    "ligstd/ligav"
   ]
  },
  {
   "cell_type": "code",
   "execution_count": 255,
   "metadata": {
    "collapsed": false
   },
   "outputs": [
    {
     "data": {
      "image/png": "[encoded data removed]",
      "text/plain": [
       "<matplotlib.figure.Figure at 0x111abe8d0>"
      ]
     },
     "metadata": {},
     "output_type": "display_data"
    }
   ],
   "source": [
    "plt.errorbar(ligav,ligav*0,xerr=ligstd,marker='o',linestyle='none')\n",
    "plt.xscale('log')"
   ]
  },
  {
   "cell_type": "code",
   "execution_count": 256,
   "metadata": {
    "collapsed": false
   },
   "outputs": [
    {
     "data": {
      "text/plain": [
       "[(array([ 0,  1,  2,  3,  4,  5,  6,  7,  8,  9, 10, 11, 12, 13, 14]),),\n",
       " (array([ 0,  1,  2,  3,  4,  5,  6,  7,  8, 10, 11, 12, 13]),),\n",
       " (array([ 0,  2,  3,  5,  6,  7,  8,  9, 11, 12, 13, 14]),),\n",
       " (array([ 1,  2,  3,  5,  6,  7,  9, 10, 11, 12, 13, 14]),),\n",
       " (array([ 2,  3,  4,  5,  6,  7,  8,  9, 10, 11, 12, 13]),),\n",
       " (array([ 0,  1,  2,  3,  4,  5,  6,  7,  8,  9, 10, 11, 12, 13, 14]),),\n",
       " (array([ 1,  2,  3,  5,  6,  7,  8,  9, 10, 11, 12, 13, 14]),),\n",
       " (array([ 0,  2,  3,  5,  6,  7,  8,  9, 10, 11, 12, 13, 14]),),\n",
       " (array([ 0,  2,  3,  5,  6,  7,  8,  9, 10, 11, 12, 13, 14]),),\n",
       " (array([ 1,  2,  3,  4,  6,  7,  8,  9, 10, 11, 12, 13, 14]),),\n",
       " (array([ 1,  2,  3,  4,  5,  6,  7,  8,  9, 10, 11, 12, 13, 14]),),\n",
       " (array([ 0,  1,  2,  3,  4,  5,  6,  7,  8,  9, 10, 11, 13, 14]),),\n",
       " (array([ 1,  2,  3,  5,  6,  7,  8,  9, 10, 12, 13, 14]),),\n",
       " (array([ 0,  1,  2,  3,  5,  6,  7,  8,  9, 10, 11, 13, 14]),),\n",
       " (array([ 0,  1,  2,  3,  4,  5,  6,  7,  8,  9, 10, 11, 13, 14]),),\n",
       " (array([ 0,  2,  3,  4,  5,  6,  8, 10, 11, 12, 13, 14]),),\n",
       " (array([ 0,  1,  2,  3,  4,  5,  6,  7,  8,  9, 10, 11, 13, 14]),)]"
      ]
     },
     "execution_count": 256,
     "metadata": {},
     "output_type": "execute_result"
    }
   ],
   "source": [
    "[np.where(np.isnan(i)==False) for i in a]"
   ]
  },
  {
   "cell_type": "code",
   "execution_count": 257,
   "metadata": {
    "collapsed": false
   },
   "outputs": [
    {
     "name": "stdout",
     "output_type": "stream",
     "text": [
      "15\n",
      "13\n",
      "13\n",
      "13\n",
      "12\n",
      "15\n",
      "14\n",
      "15\n",
      "15\n",
      "14\n",
      "14\n",
      "15\n",
      "13\n",
      "14\n",
      "15\n",
      "14\n",
      "15\n"
     ]
    }
   ],
   "source": [
    "for i in keyed_ligs:\n",
    "    print(i.size)"
   ]
  },
  {
   "cell_type": "code",
   "execution_count": 269,
   "metadata": {
    "collapsed": true
   },
   "outputs": [],
   "source": [
    "def init_nanarr(shape):\n",
    "    nanarr = np.empty(shape)\n",
    "    nanarr[:] = np.NAN\n",
    "    return nanarr\n",
    "\n",
    "def aligner_mod2(arr_long,arr_short,aligned_arr):\n",
    "    indices = [] \n",
    "    for i in range(arr_short.shape[0]):\n",
    "        x = np.abs(arr_long - arr_short[i])\n",
    "        indices.append(np.argmin(x))\n",
    "        \n",
    "    for i in range(len(indices)):\n",
    "        aligned_arr[indices[i]] = arr_short[i]\n",
    "        \n",
    "    return aligned_arr\n",
    "    \n",
    "#this needs to be cleaned up and made explicit that long array goes into slot 1\n",
    "def aligner_wrap(arr1, arr2):\n",
    "    if arr1.shape > arr2.shape:\n",
    "        arr_long = arr1\n",
    "        arr_short = arr2\n",
    "        aligned_arr = init_nanarr(arr1.shape)\n",
    "        return aligner_mod2(arr_long,arr_short,aligned_arr)\n",
    "    elif arr1.shape < arr2.shape:\n",
    "        arr_long = arr2\n",
    "        arr_short = arr1\n",
    "        aligned_arr = init_nanarr(arr2.shape)\n",
    "        return aligner_mod2(arr_long,arr_short,aligned_arr)\n",
    "    else:\n",
    "        return arr2   \n",
    "    \n",
    "def align_datset_mod2(datset):\n",
    "    '''takes a numpy array of numpy arrays and aligns all arrays to to the first\n",
    "    largest array it finds in the super array'''\n",
    "    lng_idx = np.argmax([i.size for i in datset]) #index for first-found longest array\n",
    "    \n",
    "    oth_idxs = list(range(len([i.size for i in datset]))) #list of indices\n",
    "    oth_idxs.remove(lng_idx) #remove index for long array\n",
    "    \n",
    "    #print(lng_idx,oth_idxs) PASSED\n",
    "    \n",
    "    container = [aligner_wrap(datset[lng_idx],datset[i]) for i in oth_idxs] #call aligner func\n",
    "    container.insert(0,datset[lng_idx])\n",
    "    \n",
    "    return np.array(container)"
   ]
  },
  {
   "cell_type": "code",
   "execution_count": 259,
   "metadata": {
    "collapsed": false
   },
   "outputs": [
    {
     "data": {
      "text/plain": [
       "array([ 0.00843508,  0.01632461,  0.03219274,  0.06589953,  0.09789267,\n",
       "        0.1495181 ,  0.2533132 ,  0.3979881 ,  0.6938425 ,         nan,\n",
       "        1.831155  ,  2.570049  ,  5.068029  ,  8.196809  ,         nan])"
      ]
     },
     "execution_count": 259,
     "metadata": {},
     "output_type": "execute_result"
    }
   ],
   "source": [
    "aligner_wrap(keyed_ligs[0],keyed_ligs[1])"
   ]
  },
  {
   "cell_type": "code",
   "execution_count": 260,
   "metadata": {
    "collapsed": false
   },
   "outputs": [
    {
     "data": {
      "text/plain": [
       "array([ 0.00843508,  0.01632461,  0.03219274,  0.06589953,  0.09789267,\n",
       "        0.1495181 ,  0.2533132 ,  0.3979881 ,  0.6938425 ,  1.831155  ,\n",
       "        2.570049  ,  5.068029  ,  8.196809  ])"
      ]
     },
     "execution_count": 260,
     "metadata": {},
     "output_type": "execute_result"
    }
   ],
   "source": [
    "keyed_ligs[1]"
   ]
  },
  {
   "cell_type": "code",
   "execution_count": 261,
   "metadata": {
    "collapsed": false
   },
   "outputs": [
    {
     "data": {
      "text/plain": [
       "array([  7.67501400e-03,   1.49975000e-02,   2.95726500e-02,\n",
       "         6.11212100e-02,   9.69908500e-02,   1.44087100e-01,\n",
       "         2.48778100e-01,   3.94624700e-01,   6.87951000e-01,\n",
       "         1.17700400e+00,   1.83259900e+00,   2.57264700e+00,\n",
       "         4.08259800e+00,   8.05087400e+00,   1.60190700e+01])"
      ]
     },
     "execution_count": 261,
     "metadata": {},
     "output_type": "execute_result"
    }
   ],
   "source": [
    "aligner_wrap(keyed_ligs[0],keyed_ligs[5])"
   ]
  },
  {
   "cell_type": "code",
   "execution_count": 262,
   "metadata": {
    "collapsed": false
   },
   "outputs": [
    {
     "data": {
      "text/plain": [
       "array([  7.67501400e-03,   1.49975000e-02,   2.95726500e-02,\n",
       "         6.11212100e-02,   9.69908500e-02,   1.44087100e-01,\n",
       "         2.48778100e-01,   3.94624700e-01,   6.87951000e-01,\n",
       "         1.17700400e+00,   1.83259900e+00,   2.57264700e+00,\n",
       "         4.08259800e+00,   8.05087400e+00,   1.60190700e+01])"
      ]
     },
     "execution_count": 262,
     "metadata": {},
     "output_type": "execute_result"
    }
   ],
   "source": [
    "keyed_ligs[5]"
   ]
  },
  {
   "cell_type": "code",
   "execution_count": 263,
   "metadata": {
    "collapsed": false
   },
   "outputs": [
    {
     "data": {
      "text/plain": [
       "array([ 0.00843508,  0.01632461,  0.03219274,  0.06589953,  0.09789267,\n",
       "        0.1495181 ,  0.2533132 ,  0.3979881 ,  0.6938425 ,         nan,\n",
       "        1.831155  ,  2.570049  ,  5.068029  ,  8.196809  ,         nan])"
      ]
     },
     "execution_count": 263,
     "metadata": {},
     "output_type": "execute_result"
    }
   ],
   "source": [
    "aligner_wrap(keyed_ligs[1],keyed_ligs[0])"
   ]
  },
  {
   "cell_type": "code",
   "execution_count": 270,
   "metadata": {
    "collapsed": false
   },
   "outputs": [],
   "source": [
    "a2 = align_datset_mod2(keyed_ligs)"
   ]
  },
  {
   "cell_type": "code",
   "execution_count": 271,
   "metadata": {
    "collapsed": false
   },
   "outputs": [
    {
     "data": {
      "text/plain": [
       "(17, 15)"
      ]
     },
     "execution_count": 271,
     "metadata": {},
     "output_type": "execute_result"
    }
   ],
   "source": [
    "a2.shape"
   ]
  },
  {
   "cell_type": "code",
   "execution_count": 281,
   "metadata": {
    "collapsed": false
   },
   "outputs": [],
   "source": [
    "mask = [np.where(np.isnan(i)==False) for i in a2]"
   ]
  },
  {
   "cell_type": "code",
   "execution_count": 276,
   "metadata": {
    "collapsed": true
   },
   "outputs": [],
   "source": [
    "ligavg2 = np.nanmean(a2,axis=0)"
   ]
  },
  {
   "cell_type": "code",
   "execution_count": 277,
   "metadata": {
    "collapsed": true
   },
   "outputs": [],
   "source": [
    "ligstd2 = np.nanstd(a2, axis=0)"
   ]
  },
  {
   "cell_type": "code",
   "execution_count": 278,
   "metadata": {
    "collapsed": false
   },
   "outputs": [
    {
     "data": {
      "text/plain": [
       "array([  1.06735054e-02,   1.96383271e-02,   3.66693065e-02,\n",
       "         6.76526018e-02,   1.11616821e-01,   1.63748050e-01,\n",
       "         2.68920665e-01,   4.49063388e-01,   7.50899013e-01,\n",
       "         1.19058412e+00,   1.90309181e+00,   2.85982506e+00,\n",
       "         4.94010012e+00,   8.41027865e+00,   1.39579933e+01])"
      ]
     },
     "execution_count": 278,
     "metadata": {},
     "output_type": "execute_result"
    }
   ],
   "source": [
    "ligavg2"
   ]
  },
  {
   "cell_type": "code",
   "execution_count": 279,
   "metadata": {
    "collapsed": false
   },
   "outputs": [
    {
     "data": {
      "text/plain": [
       "array([ 0.21836036,  0.29663446,  0.31129923,  0.15785425,  0.20350941,\n",
       "        0.24470393,  0.21892055,  0.26461707,  0.156729  ,  0.21699082,\n",
       "        0.1512908 ,  0.20798686,  0.1828594 ,  0.05856747,  0.11735871])"
      ]
     },
     "execution_count": 279,
     "metadata": {},
     "output_type": "execute_result"
    }
   ],
   "source": [
    "ligstd2/ligavg2"
   ]
  },
  {
   "cell_type": "code",
   "execution_count": 286,
   "metadata": {
    "collapsed": false
   },
   "outputs": [
    {
     "ename": "TypeError",
     "evalue": "list indices must be integers or slices, not tuple",
     "output_type": "error",
     "traceback": [
      "\u001b[0;31m---------------------------------------------------------------------------\u001b[0m",
      "\u001b[0;31mTypeError\u001b[0m                                 Traceback (most recent call last)",
      "\u001b[0;32m<ipython-input-286-25b18d743fc3>\u001b[0m in \u001b[0;36m<module>\u001b[0;34m()\u001b[0m\n\u001b[1;32m      1\u001b[0m \u001b[0;32mfor\u001b[0m \u001b[0mi\u001b[0m \u001b[0;32min\u001b[0m \u001b[0mmask\u001b[0m\u001b[0;34m:\u001b[0m\u001b[0;34m\u001b[0m\u001b[0m\n\u001b[0;32m----> 2\u001b[0;31m     \u001b[0mprint\u001b[0m\u001b[0;34m(\u001b[0m\u001b[0mmask\u001b[0m\u001b[0;34m[\u001b[0m\u001b[0mi\u001b[0m\u001b[0;34m]\u001b[0m\u001b[0;34m[\u001b[0m\u001b[0;36m0\u001b[0m\u001b[0;34m]\u001b[0m\u001b[0;34m)\u001b[0m\u001b[0;34m\u001b[0m\u001b[0m\n\u001b[0m",
      "\u001b[0;31mTypeError\u001b[0m: list indices must be integers or slices, not tuple"
     ]
    }
   ],
   "source": [
    "for i in mask:\n",
    "    print(mask[i][0])"
   ]
  },
  {
   "cell_type": "code",
   "execution_count": 301,
   "metadata": {
    "collapsed": false
   },
   "outputs": [
    {
     "name": "stdout",
     "output_type": "stream",
     "text": [
      "[  1.06735054e-02   1.96383271e-02   3.66693065e-02   6.76526018e-02\n",
      "   1.11616821e-01   1.63748050e-01   2.68920665e-01   4.49063388e-01\n",
      "   7.50899013e-01   1.19058412e+00   1.90309181e+00   2.85982506e+00\n",
      "   4.94010012e+00   8.41027865e+00   1.39579933e+01]\n",
      "[ 0.01067351  0.01963833  0.03666931  0.0676526   0.11161682  0.16374805\n",
      "  0.26892066  0.44906339  0.75089901  1.90309181  2.85982506  4.94010012\n",
      "  8.41027865]\n",
      "[  1.06735054e-02   3.66693065e-02   6.76526018e-02   1.63748050e-01\n",
      "   2.68920665e-01   4.49063388e-01   7.50899013e-01   1.19058412e+00\n",
      "   2.85982506e+00   4.94010012e+00   8.41027865e+00   1.39579933e+01]\n",
      "[  0.01963833   0.03666931   0.0676526    0.16374805   0.26892066\n",
      "   0.44906339   1.19058412   1.90309181   2.85982506   4.94010012\n",
      "   8.41027865  13.95799333]\n",
      "[ 0.03666931  0.0676526   0.11161682  0.16374805  0.26892066  0.44906339\n",
      "  0.75089901  1.19058412  1.90309181  2.85982506  4.94010012  8.41027865]\n",
      "[  1.06735054e-02   1.96383271e-02   3.66693065e-02   6.76526018e-02\n",
      "   1.11616821e-01   1.63748050e-01   2.68920665e-01   4.49063388e-01\n",
      "   7.50899013e-01   1.19058412e+00   1.90309181e+00   2.85982506e+00\n",
      "   4.94010012e+00   8.41027865e+00   1.39579933e+01]\n",
      "[  0.01963833   0.03666931   0.0676526    0.16374805   0.26892066\n",
      "   0.44906339   0.75089901   1.19058412   1.90309181   2.85982506\n",
      "   4.94010012   8.41027865  13.95799333]\n",
      "[  1.06735054e-02   1.96383271e-02   3.66693065e-02   6.76526018e-02\n",
      "   1.11616821e-01   1.63748050e-01   2.68920665e-01   4.49063388e-01\n",
      "   7.50899013e-01   1.19058412e+00   1.90309181e+00   2.85982506e+00\n",
      "   4.94010012e+00   8.41027865e+00   1.39579933e+01]\n",
      "[  1.06735054e-02   1.96383271e-02   3.66693065e-02   6.76526018e-02\n",
      "   1.11616821e-01   1.63748050e-01   2.68920665e-01   4.49063388e-01\n",
      "   7.50899013e-01   1.19058412e+00   1.90309181e+00   2.85982506e+00\n",
      "   4.94010012e+00   8.41027865e+00   1.39579933e+01]\n",
      "[  0.01963833   0.03666931   0.0676526    0.11161682   0.26892066\n",
      "   0.44906339   0.75089901   1.19058412   1.90309181   2.85982506\n",
      "   4.94010012   8.41027865  13.95799333]\n",
      "[  0.01963833   0.03666931   0.0676526    0.11161682   0.16374805\n",
      "   0.26892066   0.44906339   0.75089901   1.19058412   1.90309181\n",
      "   2.85982506   4.94010012   8.41027865  13.95799333]\n",
      "[  1.06735054e-02   1.96383271e-02   3.66693065e-02   6.76526018e-02\n",
      "   1.11616821e-01   1.63748050e-01   2.68920665e-01   4.49063388e-01\n",
      "   7.50899013e-01   1.19058412e+00   1.90309181e+00   2.85982506e+00\n",
      "   4.94010012e+00   8.41027865e+00   1.39579933e+01]\n",
      "[  0.01963833   0.03666931   0.0676526    0.16374805   0.26892066\n",
      "   0.44906339   0.75089901   1.19058412   1.90309181   4.94010012\n",
      "   8.41027865  13.95799333]\n",
      "[  1.06735054e-02   1.96383271e-02   3.66693065e-02   6.76526018e-02\n",
      "   1.63748050e-01   2.68920665e-01   4.49063388e-01   7.50899013e-01\n",
      "   1.19058412e+00   1.90309181e+00   2.85982506e+00   8.41027865e+00\n",
      "   1.39579933e+01]\n",
      "[  1.06735054e-02   1.96383271e-02   3.66693065e-02   6.76526018e-02\n",
      "   1.11616821e-01   1.63748050e-01   2.68920665e-01   4.49063388e-01\n",
      "   7.50899013e-01   1.19058412e+00   1.90309181e+00   2.85982506e+00\n",
      "   4.94010012e+00   8.41027865e+00   1.39579933e+01]\n",
      "[  1.06735054e-02   3.66693065e-02   6.76526018e-02   1.11616821e-01\n",
      "   1.63748050e-01   2.68920665e-01   7.50899013e-01   1.90309181e+00\n",
      "   2.85982506e+00   4.94010012e+00   8.41027865e+00   1.39579933e+01]\n",
      "[  1.06735054e-02   1.96383271e-02   3.66693065e-02   6.76526018e-02\n",
      "   1.11616821e-01   1.63748050e-01   2.68920665e-01   4.49063388e-01\n",
      "   7.50899013e-01   1.19058412e+00   1.90309181e+00   2.85982506e+00\n",
      "   4.94010012e+00   8.41027865e+00   1.39579933e+01]\n"
     ]
    }
   ],
   "source": [
    "for i in range(len(mask)):\n",
    "    print(ligavg2[mask[i][0].tolist()])"
   ]
  },
  {
   "cell_type": "code",
   "execution_count": 297,
   "metadata": {
    "collapsed": false
   },
   "outputs": [
    {
     "data": {
      "text/plain": [
       "17"
      ]
     },
     "execution_count": 297,
     "metadata": {},
     "output_type": "execute_result"
    }
   ],
   "source": [
    "len(mask)"
   ]
  },
  {
   "cell_type": "code",
   "execution_count": 304,
   "metadata": {
    "collapsed": false
   },
   "outputs": [],
   "source": [
    "adj_lig = np.array([ligavg2[mask[i][0].tolist()] for i in range(len(mask))])"
   ]
  },
  {
   "cell_type": "code",
   "execution_count": 305,
   "metadata": {
    "collapsed": false
   },
   "outputs": [
    {
     "data": {
      "text/plain": [
       "(17,)"
      ]
     },
     "execution_count": 305,
     "metadata": {},
     "output_type": "execute_result"
    }
   ],
   "source": []
  },
  {
   "cell_type": "code",
   "execution_count": 306,
   "metadata": {
    "collapsed": false
   },
   "outputs": [
    {
     "data": {
      "text/plain": [
       "17"
      ]
     },
     "execution_count": 306,
     "metadata": {},
     "output_type": "execute_result"
    }
   ],
   "source": [
    "len(adj_lig)"
   ]
  },
  {
   "cell_type": "code",
   "execution_count": 307,
   "metadata": {
    "collapsed": false
   },
   "outputs": [
    {
     "ename": "ValueError",
     "evalue": "x and y must have same first dimension",
     "output_type": "error",
     "traceback": [
      "\u001b[0;31m---------------------------------------------------------------------------\u001b[0m",
      "\u001b[0;31mValueError\u001b[0m                                Traceback (most recent call last)",
      "\u001b[0;32m<ipython-input-307-173b2a3e427d>\u001b[0m in \u001b[0;36m<module>\u001b[0;34m()\u001b[0m\n\u001b[1;32m      1\u001b[0m \u001b[0;32mfor\u001b[0m \u001b[0mi\u001b[0m \u001b[0;32min\u001b[0m \u001b[0mrange\u001b[0m\u001b[0;34m(\u001b[0m\u001b[0mlen\u001b[0m\u001b[0;34m(\u001b[0m\u001b[0madj_lig\u001b[0m\u001b[0;34m)\u001b[0m\u001b[0;34m)\u001b[0m\u001b[0;34m:\u001b[0m\u001b[0;34m\u001b[0m\u001b[0m\n\u001b[0;32m----> 2\u001b[0;31m     \u001b[0mplt\u001b[0m\u001b[0;34m.\u001b[0m\u001b[0msemilogx\u001b[0m\u001b[0;34m(\u001b[0m\u001b[0madj_lig\u001b[0m\u001b[0;34m[\u001b[0m\u001b[0mi\u001b[0m\u001b[0;34m]\u001b[0m\u001b[0;34m,\u001b[0m\u001b[0mkeyed_sats\u001b[0m\u001b[0;34m[\u001b[0m\u001b[0mi\u001b[0m\u001b[0;34m]\u001b[0m\u001b[0;34m,\u001b[0m\u001b[0;34m'o'\u001b[0m\u001b[0;34m)\u001b[0m\u001b[0;34m\u001b[0m\u001b[0m\n\u001b[0m",
      "\u001b[0;32m/Users/michael/miniconda3/envs/fitter/lib/python3.5/site-packages/matplotlib/pyplot.py\u001b[0m in \u001b[0;36msemilogx\u001b[0;34m(*args, **kwargs)\u001b[0m\n\u001b[1;32m   3273\u001b[0m         \u001b[0max\u001b[0m\u001b[0;34m.\u001b[0m\u001b[0mhold\u001b[0m\u001b[0;34m(\u001b[0m\u001b[0mhold\u001b[0m\u001b[0;34m)\u001b[0m\u001b[0;34m\u001b[0m\u001b[0m\n\u001b[1;32m   3274\u001b[0m     \u001b[0;32mtry\u001b[0m\u001b[0;34m:\u001b[0m\u001b[0;34m\u001b[0m\u001b[0m\n\u001b[0;32m-> 3275\u001b[0;31m         \u001b[0mret\u001b[0m \u001b[0;34m=\u001b[0m \u001b[0max\u001b[0m\u001b[0;34m.\u001b[0m\u001b[0msemilogx\u001b[0m\u001b[0;34m(\u001b[0m\u001b[0;34m*\u001b[0m\u001b[0margs\u001b[0m\u001b[0;34m,\u001b[0m \u001b[0;34m**\u001b[0m\u001b[0mkwargs\u001b[0m\u001b[0;34m)\u001b[0m\u001b[0;34m\u001b[0m\u001b[0m\n\u001b[0m\u001b[1;32m   3276\u001b[0m     \u001b[0;32mfinally\u001b[0m\u001b[0;34m:\u001b[0m\u001b[0;34m\u001b[0m\u001b[0m\n\u001b[1;32m   3277\u001b[0m         \u001b[0max\u001b[0m\u001b[0;34m.\u001b[0m\u001b[0mhold\u001b[0m\u001b[0;34m(\u001b[0m\u001b[0mwashold\u001b[0m\u001b[0;34m)\u001b[0m\u001b[0;34m\u001b[0m\u001b[0m\n",
      "\u001b[0;32m/Users/michael/miniconda3/envs/fitter/lib/python3.5/site-packages/matplotlib/axes/_axes.py\u001b[0m in \u001b[0;36msemilogx\u001b[0;34m(self, *args, **kwargs)\u001b[0m\n\u001b[1;32m   1572\u001b[0m         \u001b[0mb\u001b[0m \u001b[0;34m=\u001b[0m \u001b[0mself\u001b[0m\u001b[0;34m.\u001b[0m\u001b[0m_hold\u001b[0m\u001b[0;34m\u001b[0m\u001b[0m\n\u001b[1;32m   1573\u001b[0m         \u001b[0mself\u001b[0m\u001b[0;34m.\u001b[0m\u001b[0m_hold\u001b[0m \u001b[0;34m=\u001b[0m \u001b[0;32mTrue\u001b[0m  \u001b[0;31m# we've already processed the hold\u001b[0m\u001b[0;34m\u001b[0m\u001b[0m\n\u001b[0;32m-> 1574\u001b[0;31m         \u001b[0ml\u001b[0m \u001b[0;34m=\u001b[0m \u001b[0mself\u001b[0m\u001b[0;34m.\u001b[0m\u001b[0mplot\u001b[0m\u001b[0;34m(\u001b[0m\u001b[0;34m*\u001b[0m\u001b[0margs\u001b[0m\u001b[0;34m,\u001b[0m \u001b[0;34m**\u001b[0m\u001b[0mkwargs\u001b[0m\u001b[0;34m)\u001b[0m\u001b[0;34m\u001b[0m\u001b[0m\n\u001b[0m\u001b[1;32m   1575\u001b[0m         \u001b[0mself\u001b[0m\u001b[0;34m.\u001b[0m\u001b[0m_hold\u001b[0m \u001b[0;34m=\u001b[0m \u001b[0mb\u001b[0m  \u001b[0;31m# restore the hold\u001b[0m\u001b[0;34m\u001b[0m\u001b[0m\n\u001b[1;32m   1576\u001b[0m         \u001b[0;32mreturn\u001b[0m \u001b[0ml\u001b[0m\u001b[0;34m\u001b[0m\u001b[0m\n",
      "\u001b[0;32m/Users/michael/miniconda3/envs/fitter/lib/python3.5/site-packages/matplotlib/__init__.py\u001b[0m in \u001b[0;36minner\u001b[0;34m(ax, *args, **kwargs)\u001b[0m\n\u001b[1;32m   1817\u001b[0m                     warnings.warn(msg % (label_namer, func.__name__),\n\u001b[1;32m   1818\u001b[0m                                   RuntimeWarning, stacklevel=2)\n\u001b[0;32m-> 1819\u001b[0;31m             \u001b[0;32mreturn\u001b[0m \u001b[0mfunc\u001b[0m\u001b[0;34m(\u001b[0m\u001b[0max\u001b[0m\u001b[0;34m,\u001b[0m \u001b[0;34m*\u001b[0m\u001b[0margs\u001b[0m\u001b[0;34m,\u001b[0m \u001b[0;34m**\u001b[0m\u001b[0mkwargs\u001b[0m\u001b[0;34m)\u001b[0m\u001b[0;34m\u001b[0m\u001b[0m\n\u001b[0m\u001b[1;32m   1820\u001b[0m         \u001b[0mpre_doc\u001b[0m \u001b[0;34m=\u001b[0m \u001b[0minner\u001b[0m\u001b[0;34m.\u001b[0m\u001b[0m__doc__\u001b[0m\u001b[0;34m\u001b[0m\u001b[0m\n\u001b[1;32m   1821\u001b[0m         \u001b[0;32mif\u001b[0m \u001b[0mpre_doc\u001b[0m \u001b[0;32mis\u001b[0m \u001b[0;32mNone\u001b[0m\u001b[0;34m:\u001b[0m\u001b[0;34m\u001b[0m\u001b[0m\n",
      "\u001b[0;32m/Users/michael/miniconda3/envs/fitter/lib/python3.5/site-packages/matplotlib/axes/_axes.py\u001b[0m in \u001b[0;36mplot\u001b[0;34m(self, *args, **kwargs)\u001b[0m\n\u001b[1;32m   1380\u001b[0m         \u001b[0mkwargs\u001b[0m \u001b[0;34m=\u001b[0m \u001b[0mcbook\u001b[0m\u001b[0;34m.\u001b[0m\u001b[0mnormalize_kwargs\u001b[0m\u001b[0;34m(\u001b[0m\u001b[0mkwargs\u001b[0m\u001b[0;34m,\u001b[0m \u001b[0m_alias_map\u001b[0m\u001b[0;34m)\u001b[0m\u001b[0;34m\u001b[0m\u001b[0m\n\u001b[1;32m   1381\u001b[0m \u001b[0;34m\u001b[0m\u001b[0m\n\u001b[0;32m-> 1382\u001b[0;31m         \u001b[0;32mfor\u001b[0m \u001b[0mline\u001b[0m \u001b[0;32min\u001b[0m \u001b[0mself\u001b[0m\u001b[0;34m.\u001b[0m\u001b[0m_get_lines\u001b[0m\u001b[0;34m(\u001b[0m\u001b[0;34m*\u001b[0m\u001b[0margs\u001b[0m\u001b[0;34m,\u001b[0m \u001b[0;34m**\u001b[0m\u001b[0mkwargs\u001b[0m\u001b[0;34m)\u001b[0m\u001b[0;34m:\u001b[0m\u001b[0;34m\u001b[0m\u001b[0m\n\u001b[0m\u001b[1;32m   1383\u001b[0m             \u001b[0mself\u001b[0m\u001b[0;34m.\u001b[0m\u001b[0madd_line\u001b[0m\u001b[0;34m(\u001b[0m\u001b[0mline\u001b[0m\u001b[0;34m)\u001b[0m\u001b[0;34m\u001b[0m\u001b[0m\n\u001b[1;32m   1384\u001b[0m             \u001b[0mlines\u001b[0m\u001b[0;34m.\u001b[0m\u001b[0mappend\u001b[0m\u001b[0;34m(\u001b[0m\u001b[0mline\u001b[0m\u001b[0;34m)\u001b[0m\u001b[0;34m\u001b[0m\u001b[0m\n",
      "\u001b[0;32m/Users/michael/miniconda3/envs/fitter/lib/python3.5/site-packages/matplotlib/axes/_base.py\u001b[0m in \u001b[0;36m_grab_next_args\u001b[0;34m(self, *args, **kwargs)\u001b[0m\n\u001b[1;32m    379\u001b[0m                 \u001b[0;32mreturn\u001b[0m\u001b[0;34m\u001b[0m\u001b[0m\n\u001b[1;32m    380\u001b[0m             \u001b[0;32mif\u001b[0m \u001b[0mlen\u001b[0m\u001b[0;34m(\u001b[0m\u001b[0mremaining\u001b[0m\u001b[0;34m)\u001b[0m \u001b[0;34m<=\u001b[0m \u001b[0;36m3\u001b[0m\u001b[0;34m:\u001b[0m\u001b[0;34m\u001b[0m\u001b[0m\n\u001b[0;32m--> 381\u001b[0;31m                 \u001b[0;32mfor\u001b[0m \u001b[0mseg\u001b[0m \u001b[0;32min\u001b[0m \u001b[0mself\u001b[0m\u001b[0;34m.\u001b[0m\u001b[0m_plot_args\u001b[0m\u001b[0;34m(\u001b[0m\u001b[0mremaining\u001b[0m\u001b[0;34m,\u001b[0m \u001b[0mkwargs\u001b[0m\u001b[0;34m)\u001b[0m\u001b[0;34m:\u001b[0m\u001b[0;34m\u001b[0m\u001b[0m\n\u001b[0m\u001b[1;32m    382\u001b[0m                     \u001b[0;32myield\u001b[0m \u001b[0mseg\u001b[0m\u001b[0;34m\u001b[0m\u001b[0m\n\u001b[1;32m    383\u001b[0m                 \u001b[0;32mreturn\u001b[0m\u001b[0;34m\u001b[0m\u001b[0m\n",
      "\u001b[0;32m/Users/michael/miniconda3/envs/fitter/lib/python3.5/site-packages/matplotlib/axes/_base.py\u001b[0m in \u001b[0;36m_plot_args\u001b[0;34m(self, tup, kwargs)\u001b[0m\n\u001b[1;32m    357\u001b[0m             \u001b[0mx\u001b[0m\u001b[0;34m,\u001b[0m \u001b[0my\u001b[0m \u001b[0;34m=\u001b[0m \u001b[0mindex_of\u001b[0m\u001b[0;34m(\u001b[0m\u001b[0mtup\u001b[0m\u001b[0;34m[\u001b[0m\u001b[0;34m-\u001b[0m\u001b[0;36m1\u001b[0m\u001b[0;34m]\u001b[0m\u001b[0;34m)\u001b[0m\u001b[0;34m\u001b[0m\u001b[0m\n\u001b[1;32m    358\u001b[0m \u001b[0;34m\u001b[0m\u001b[0m\n\u001b[0;32m--> 359\u001b[0;31m         \u001b[0mx\u001b[0m\u001b[0;34m,\u001b[0m \u001b[0my\u001b[0m \u001b[0;34m=\u001b[0m \u001b[0mself\u001b[0m\u001b[0;34m.\u001b[0m\u001b[0m_xy_from_xy\u001b[0m\u001b[0;34m(\u001b[0m\u001b[0mx\u001b[0m\u001b[0;34m,\u001b[0m \u001b[0my\u001b[0m\u001b[0;34m)\u001b[0m\u001b[0;34m\u001b[0m\u001b[0m\n\u001b[0m\u001b[1;32m    360\u001b[0m \u001b[0;34m\u001b[0m\u001b[0m\n\u001b[1;32m    361\u001b[0m         \u001b[0;32mif\u001b[0m \u001b[0mself\u001b[0m\u001b[0;34m.\u001b[0m\u001b[0mcommand\u001b[0m \u001b[0;34m==\u001b[0m \u001b[0;34m'plot'\u001b[0m\u001b[0;34m:\u001b[0m\u001b[0;34m\u001b[0m\u001b[0m\n",
      "\u001b[0;32m/Users/michael/miniconda3/envs/fitter/lib/python3.5/site-packages/matplotlib/axes/_base.py\u001b[0m in \u001b[0;36m_xy_from_xy\u001b[0;34m(self, x, y)\u001b[0m\n\u001b[1;32m    217\u001b[0m         \u001b[0my\u001b[0m \u001b[0;34m=\u001b[0m \u001b[0m_check_1d\u001b[0m\u001b[0;34m(\u001b[0m\u001b[0my\u001b[0m\u001b[0;34m)\u001b[0m\u001b[0;34m\u001b[0m\u001b[0m\n\u001b[1;32m    218\u001b[0m         \u001b[0;32mif\u001b[0m \u001b[0mx\u001b[0m\u001b[0;34m.\u001b[0m\u001b[0mshape\u001b[0m\u001b[0;34m[\u001b[0m\u001b[0;36m0\u001b[0m\u001b[0;34m]\u001b[0m \u001b[0;34m!=\u001b[0m \u001b[0my\u001b[0m\u001b[0;34m.\u001b[0m\u001b[0mshape\u001b[0m\u001b[0;34m[\u001b[0m\u001b[0;36m0\u001b[0m\u001b[0;34m]\u001b[0m\u001b[0;34m:\u001b[0m\u001b[0;34m\u001b[0m\u001b[0m\n\u001b[0;32m--> 219\u001b[0;31m             \u001b[0;32mraise\u001b[0m \u001b[0mValueError\u001b[0m\u001b[0;34m(\u001b[0m\u001b[0;34m\"x and y must have same first dimension\"\u001b[0m\u001b[0;34m)\u001b[0m\u001b[0;34m\u001b[0m\u001b[0m\n\u001b[0m\u001b[1;32m    220\u001b[0m         \u001b[0;32mif\u001b[0m \u001b[0mx\u001b[0m\u001b[0;34m.\u001b[0m\u001b[0mndim\u001b[0m \u001b[0;34m>\u001b[0m \u001b[0;36m2\u001b[0m \u001b[0;32mor\u001b[0m \u001b[0my\u001b[0m\u001b[0;34m.\u001b[0m\u001b[0mndim\u001b[0m \u001b[0;34m>\u001b[0m \u001b[0;36m2\u001b[0m\u001b[0;34m:\u001b[0m\u001b[0;34m\u001b[0m\u001b[0m\n\u001b[1;32m    221\u001b[0m             \u001b[0;32mraise\u001b[0m \u001b[0mValueError\u001b[0m\u001b[0;34m(\u001b[0m\u001b[0;34m\"x and y can be no greater than 2-D\"\u001b[0m\u001b[0;34m)\u001b[0m\u001b[0;34m\u001b[0m\u001b[0m\n",
      "\u001b[0;31mValueError\u001b[0m: x and y must have same first dimension"
     ]
    },
    {
     "data": {
      "image/png": "[encoded data removed]",
      "text/plain": [
       "<matplotlib.figure.Figure at 0x111cd47b8>"
      ]
     },
     "metadata": {},
     "output_type": "display_data"
    }
   ],
   "source": [
    "for i in range(len(adj_lig)):\n",
    "    plt.semilogx(adj_lig[i],keyed_sats[i],'o')"
   ]
  },
  {
   "cell_type": "code",
   "execution_count": 308,
   "metadata": {
    "collapsed": false
   },
   "outputs": [
    {
     "data": {
      "text/plain": [
       "array([ array([ 0.04603855,  0.07301927,  0.1115632 ,  0.1925054 ,  0.2426124 ,\n",
       "        0.3466809 ,  0.4411135 ,  0.5066381 ,  0.7147752 ,  0.8130621 ,\n",
       "        0.8535332 ,  0.8901499 ,  0.8997859 ,  0.9460385 ,  0.9961456 ]),\n",
       "       array([ 0.03062099,  0.05952891,  0.09614561,  0.1732334 ,  0.2310493 ,\n",
       "        0.337045  ,  0.4565311 ,  0.5683084 ,  0.6588865 ,  0.8053533 ,\n",
       "        0.8766595 ,  0.9171307 ,  0.9633833 ]),\n",
       "       array([ 0.04411135,  0.1038544 ,  0.1443255 ,  0.3158458 ,  0.4507495 ,\n",
       "        0.5528908 ,  0.6685225 ,  0.7957174 ,  0.8689507 ,  0.9132763 ,\n",
       "        0.9094219 ,  0.9730192 ,  0.9710921 ]),\n",
       "       array([ 0.07301927,  0.1115632 ,  0.1578158 ,  0.3023555 ,  0.4141328 ,\n",
       "        0.5278373 ,  0.6087794 ,  0.7494647 ,  0.8554604 ,  0.8381156 ,\n",
       "        0.9113491 ,  0.9576017 ,  0.9441114 ]),\n",
       "       array([ 0.09421842,  0.1501071 ,  0.1963597 ,  0.2869379 ,  0.3871521 ,\n",
       "        0.466167  ,  0.5875803 ,  0.6955032 ,  0.7571734 ,  0.7995718 ,\n",
       "        0.9229122 ,  0.9248394 ]),\n",
       "       array([ 0.03640257,  0.04603855,  0.09229122,  0.1520343 ,  0.2137045 ,\n",
       "        0.2657388 ,  0.3794433 ,  0.4777302 ,  0.5721628 ,  0.6569593 ,\n",
       "        0.7301927 ,  0.7802998 ,  0.8381156 ,  0.8766595 ,  0.9614561 ]),\n",
       "       array([ 0.04267487,  0.07219977,  0.1823194 ,  0.30881   ,  0.3939354 ,\n",
       "        0.538879  ,  0.7396108 ,  0.7791709 ,  0.9324073 ,  0.914133  ,\n",
       "        0.9702964 ,  0.9190478 ,  1.026665  ,  1.02495   ]),\n",
       "       array([ 0.02364097,  0.04692846,  0.08471032,  0.1534647 ,  0.2157494 ,\n",
       "        0.2655414 ,  0.3588522 ,  0.4573236 ,  0.6487842 ,  0.6883354 ,\n",
       "        0.7713876 ,  0.8935084 ,  0.8959837 ,  0.9647381 ,  1.004316  ]),\n",
       "       array([ 0.01539294,  0.03464131,  0.03679492,  0.1204458 ,  0.1703361 ,\n",
       "        0.228394  ,  0.296916  ,  0.400557  ,  0.5125622 ,  0.6552897 ,\n",
       "        0.7982227 ,  0.8336276 ,  0.8567631 ,  0.9399583 ,  0.9836827 ]),\n",
       "       array([ 0.01177382,  0.06791044,  0.1181224 ,  0.193007  ,  0.2699022 ,\n",
       "        0.3405689 ,  0.4711433 ,  0.5706022 ,  0.727976  ,  0.7448295 ,\n",
       "        0.8381671 ,  0.8757077 ,  0.9069215 ,  0.8949114 ]),\n",
       "       array([ 0.01352529,  0.0307273 ,  0.05200417,  0.08748945,  0.1250032 ,\n",
       "        0.203918  ,  0.2972467 ,  0.4278211 ,  0.5314174 ,  0.6516438 ,\n",
       "        0.7035714 ,  0.6936792 ,  0.869783  ,  0.9715206 ]),\n",
       "       array([ 0.06402513,  0.1197595 ,  0.1755009 ,  0.2470541 ,  0.3028271 ,\n",
       "        0.4325044 ,  0.5241575 ,  0.6538173 ,  0.729834  ,  0.8707087 ,\n",
       "        0.9041641 ,  0.9599792 ,  0.9105962 ,  0.9351316 ,  0.9417145 ]),\n",
       "       array([ 0.02596938,  0.06825354,  0.1340607 ,  0.2211573 ,  0.3306873 ,\n",
       "        0.4301709 ,  0.6180266 ,  0.7891722 ,  0.8326337 ,  0.910719  ,\n",
       "        0.996791  ,  0.9082662 ,  0.9483975 ]),\n",
       "       array([ 0.03392266,  0.0315172 ,  0.05817377,  0.106104  ,  0.1887336 ,\n",
       "        0.2892927 ,  0.3921187 ,  0.5575989 ,  0.6873148 ,  0.7699671 ,\n",
       "        0.9377563 ,  0.9777631 ,  0.988864  ,  0.9697045 ]),\n",
       "       array([ 0.02603956,  0.04030389,  0.07144854,  0.09373984,  0.1730112 ,\n",
       "        0.2556864 ,  0.3674605 ,  0.4848157 ,  0.5686665 ,  0.7195963 ,\n",
       "        0.8123847 ,  0.9275292 ,  0.871414  ,  0.9552841 ,  0.8947037 ]),\n",
       "       array([ 0.01376838,  0.02473068,  0.05806323,  0.1126958 ,  0.1774344 ,\n",
       "        0.2634572 ,  0.4009404 ,  0.5228276 ,  0.6491222 ,  0.7777222 ,\n",
       "        0.827921  ,  0.8792691 ,  0.9261519 ,  0.8924298 ]),\n",
       "       array([ 0.01492286,  0.01251565,  0.02346215,  0.03343139,  0.0679272 ,\n",
       "        0.1147556 ,  0.1884774 ,  0.3002339 ,  0.3706555 ,  0.5439346 ,\n",
       "        0.6759051 ,  0.785414  ,  0.8322845 ,  0.874716  ,  0.8678488 ])], dtype=object)"
      ]
     },
     "execution_count": 308,
     "metadata": {},
     "output_type": "execute_result"
    }
   ],
   "source": [
    "keyed_sats"
   ]
  },
  {
   "cell_type": "code",
   "execution_count": 309,
   "metadata": {
    "collapsed": false
   },
   "outputs": [
    {
     "name": "stdout",
     "output_type": "stream",
     "text": [
      "(15,)\n",
      "(13,)\n",
      "(13,)\n",
      "(13,)\n",
      "(12,)\n",
      "(15,)\n",
      "(14,)\n",
      "(15,)\n",
      "(15,)\n",
      "(14,)\n",
      "(14,)\n",
      "(15,)\n",
      "(13,)\n",
      "(14,)\n",
      "(15,)\n",
      "(14,)\n",
      "(15,)\n"
     ]
    }
   ],
   "source": [
    "for i in keyed_ligs:\n",
    "    print(i.shape)"
   ]
  },
  {
   "cell_type": "code",
   "execution_count": 310,
   "metadata": {
    "collapsed": false
   },
   "outputs": [
    {
     "name": "stdout",
     "output_type": "stream",
     "text": [
      "(15,)\n",
      "(13,)\n",
      "(12,)\n",
      "(12,)\n",
      "(12,)\n",
      "(15,)\n",
      "(13,)\n",
      "(15,)\n",
      "(15,)\n",
      "(13,)\n",
      "(14,)\n",
      "(15,)\n",
      "(12,)\n",
      "(13,)\n",
      "(15,)\n",
      "(12,)\n",
      "(15,)\n"
     ]
    }
   ],
   "source": [
    "for i in adj_lig:\n",
    "    print(i.shape)"
   ]
  },
  {
   "cell_type": "code",
   "execution_count": 324,
   "metadata": {
    "collapsed": true
   },
   "outputs": [],
   "source": [
    "def init_nanarr(shape):\n",
    "    nanarr = np.empty(shape)\n",
    "    nanarr[:] = np.NAN\n",
    "    return nanarr\n",
    "\n",
    "def aligner(arr_long,arr_short):\n",
    "    aligned_arr = init_nanarr(arr_long.shape)\n",
    "    indices = [] \n",
    "    for i in range(len(arr_short)):\n",
    "        x = np.abs(arr_long - arr_short[i])\n",
    "        indices.append(np.argmin(x))\n",
    "        \n",
    "    for i in range(len(indices)):\n",
    "        aligned_arr[indices[i]] = arr_short[i]\n",
    "        \n",
    "    return aligned_arr\n",
    "    \n",
    "#this needs to be cleaned up and made explicit that long array goes into slot 1\n",
    "def aligner_wrap(arr1, arr2):\n",
    "    \"\"\"arr1 is array of largest size in set\"\"\"\n",
    "    if arr1.shape == arr2.shape:\n",
    "        return arr2\n",
    "    else:\n",
    "        return aligner(arr1,arr2)\n",
    "    \n",
    "def align_datset(datset):\n",
    "    '''takes a numpy array of numpy arrays and aligns all arrays to to the first\n",
    "    largest array it finds in the super array'''\n",
    "    lng_idx = np.argmax([i.size for i in datset]) #index for first-found longest array\n",
    "    \n",
    "    oth_idxs = list(range(len([i.size for i in datset]))) #list of indices\n",
    "    oth_idxs.remove(lng_idx) #remove index for long array\n",
    "    \n",
    "    #print(lng_idx,oth_idxs) PASSED\n",
    "    \n",
    "    container = [aligner_wrap(datset[lng_idx],datset[i]) for i in oth_idxs] #call aligner func\n",
    "    container.insert(0,datset[lng_idx])\n",
    "    \n",
    "    return np.array(container)"
   ]
  },
  {
   "cell_type": "code",
   "execution_count": 327,
   "metadata": {
    "collapsed": false
   },
   "outputs": [],
   "source": [
    "aligned_ligs = align_datset(keyed_ligs)"
   ]
  },
  {
   "cell_type": "code",
   "execution_count": 321,
   "metadata": {
    "collapsed": false
   },
   "outputs": [
    {
     "data": {
      "text/plain": [
       "array([ 0.00843508,  0.01632461,  0.03219274,  0.06589953,  0.09789267,\n",
       "        0.1495181 ,  0.2533132 ,  0.3979881 ,  0.6938425 ,         nan,\n",
       "        1.831155  ,  2.570049  ,  5.068029  ,  8.196809  ,         nan])"
      ]
     },
     "execution_count": 321,
     "metadata": {},
     "output_type": "execute_result"
    }
   ],
   "source": [
    "aligner(keyed_ligs[0],keyed_ligs[1])"
   ]
  },
  {
   "cell_type": "code",
   "execution_count": 323,
   "metadata": {
    "collapsed": false
   },
   "outputs": [
    {
     "data": {
      "text/plain": [
       "13"
      ]
     },
     "execution_count": 323,
     "metadata": {},
     "output_type": "execute_result"
    }
   ],
   "source": [
    "len(keyed_ligs[1])"
   ]
  },
  {
   "cell_type": "code",
   "execution_count": 328,
   "metadata": {
    "collapsed": false
   },
   "outputs": [
    {
     "data": {
      "text/plain": [
       "(17, 15)"
      ]
     },
     "execution_count": 328,
     "metadata": {},
     "output_type": "execute_result"
    }
   ],
   "source": []
  },
  {
   "cell_type": "code",
   "execution_count": 329,
   "metadata": {
    "collapsed": true
   },
   "outputs": [],
   "source": [
    "mask = [np.where(np.isnan(i)==False) for i in aligned_ligs]"
   ]
  },
  {
   "cell_type": "code",
   "execution_count": 334,
   "metadata": {
    "collapsed": false
   },
   "outputs": [
    {
     "name": "stdout",
     "output_type": "stream",
     "text": [
      "15\n",
      "13\n",
      "12\n",
      "12\n",
      "12\n",
      "15\n",
      "13\n",
      "15\n",
      "15\n",
      "13\n",
      "14\n",
      "15\n",
      "12\n",
      "13\n",
      "15\n",
      "12\n",
      "15\n"
     ]
    }
   ],
   "source": [
    "for i in mask:\n",
    "    print(i[0].size)"
   ]
  },
  {
   "cell_type": "code",
   "execution_count": 335,
   "metadata": {
    "collapsed": false
   },
   "outputs": [
    {
     "name": "stdout",
     "output_type": "stream",
     "text": [
      "15\n",
      "13\n",
      "13\n",
      "13\n",
      "12\n",
      "15\n",
      "14\n",
      "15\n",
      "15\n",
      "14\n",
      "14\n",
      "15\n",
      "13\n",
      "14\n",
      "15\n",
      "14\n",
      "15\n"
     ]
    }
   ],
   "source": [
    "for i in keyed_ligs:\n",
    "    print(i.size)"
   ]
  },
  {
   "cell_type": "code",
   "execution_count": null,
   "metadata": {
    "collapsed": true
   },
   "outputs": [],
   "source": []
  },
  {
   "cell_type": "code",
   "execution_count": 338,
   "metadata": {
    "collapsed": false
   },
   "outputs": [
    {
     "data": {
      "text/plain": [
       "array([  1.04782800e-02,              nan,   4.39510000e-02,\n",
       "         6.71754600e-02,              nan,   1.59764000e-01,\n",
       "         2.75784200e-01,   4.67317900e-01,   8.37884700e-01,\n",
       "         1.34129100e+00,              nan,   3.22207200e+00,\n",
       "         5.06843800e+00,   9.99232400e+00,   1.63226300e+01])"
      ]
     },
     "execution_count": 338,
     "metadata": {},
     "output_type": "execute_result"
    }
   ],
   "source": [
    "aligner(keyed_ligs[0],keyed_ligs[2])"
   ]
  },
  {
   "cell_type": "code",
   "execution_count": 339,
   "metadata": {
    "collapsed": false
   },
   "outputs": [
    {
     "data": {
      "text/plain": [
       "15"
      ]
     },
     "execution_count": 339,
     "metadata": {},
     "output_type": "execute_result"
    }
   ],
   "source": [
    "keyed_ligs[0].size"
   ]
  },
  {
   "cell_type": "code",
   "execution_count": 340,
   "metadata": {
    "collapsed": false
   },
   "outputs": [
    {
     "data": {
      "text/plain": [
       "13"
      ]
     },
     "execution_count": 340,
     "metadata": {},
     "output_type": "execute_result"
    }
   ],
   "source": [
    "keyed_ligs[2].size"
   ]
  },
  {
   "cell_type": "code",
   "execution_count": 342,
   "metadata": {
    "collapsed": false
   },
   "outputs": [
    {
     "data": {
      "text/plain": [
       "13"
      ]
     },
     "execution_count": 342,
     "metadata": {},
     "output_type": "execute_result"
    }
   ],
   "source": [
    "len(keyed_ligs[2])"
   ]
  },
  {
   "cell_type": "code",
   "execution_count": 344,
   "metadata": {
    "collapsed": false
   },
   "outputs": [
    {
     "data": {
      "text/plain": [
       "16.32263"
      ]
     },
     "execution_count": 344,
     "metadata": {},
     "output_type": "execute_result"
    }
   ],
   "source": [
    "keyed_ligs[2][12]"
   ]
  },
  {
   "cell_type": "code",
   "execution_count": 347,
   "metadata": {
    "collapsed": false
   },
   "outputs": [
    {
     "name": "stdout",
     "output_type": "stream",
     "text": [
      "[  2.50882300e-03   4.51498000e-03   2.05169100e-02   5.06170000e-02\n",
      "   8.46703300e-02   1.33486520e-01   2.33490720e-01   3.84026820e-01\n",
      "   6.76444720e-01   1.06892072e+00   1.83710472e+00   2.60816672e+00\n",
      "   4.18663672e+00   8.11081972e+00   1.60027617e+01]\n",
      "[  3.59815430e-02   2.89577400e-02   1.29558100e-02   1.71442800e-02\n",
      "   5.11976100e-02   1.00013800e-01   2.00018000e-01   3.50554100e-01\n",
      "   6.42972000e-01   1.03544800e+00   1.80363200e+00   2.57469400e+00\n",
      "   4.15316400e+00   8.07734700e+00   1.59692890e+01]\n",
      "[  5.92060030e-02   5.21822000e-02   3.61802700e-02   6.08018000e-03\n",
      "   2.79731500e-02   7.67893400e-02   1.76793540e-01   3.27329640e-01\n",
      "   6.19747540e-01   1.01222354e+00   1.78040754e+00   2.55146954e+00\n",
      "   4.12993954e+00   8.05412254e+00   1.59460645e+01]\n",
      "[  1.51794543e-01   1.44770740e-01   1.28768810e-01   9.86687200e-02\n",
      "   6.46153900e-02   1.57992000e-02   8.42050000e-02   2.34741100e-01\n",
      "   5.27159000e-01   9.19635000e-01   1.68781900e+00   2.45888100e+00\n",
      "   4.03735100e+00   7.96153400e+00   1.58534760e+01]\n",
      "[  0.26781474   0.26079094   0.24478901   0.21468892   0.18063559\n",
      "   0.1318194    0.0318152    0.1187209    0.4111388    0.8036148\n",
      "   1.5717988    2.3428608    3.9213308    7.8455138   15.7374558 ]\n",
      "[  0.45934844   0.45232464   0.43632271   0.40622262   0.37216929\n",
      "   0.3233531    0.2233489    0.0728128    0.2196051    0.6120811\n",
      "   1.3802651    2.1513271    3.7297971    7.6539801   15.5459221 ]\n",
      "[  0.82991524   0.82289144   0.80688951   0.77678942   0.74273609\n",
      "   0.6939199    0.5939157    0.4433796    0.1509617    0.2415143\n",
      "   1.0096983    1.7807603    3.3592303    7.2834133   15.1753553 ]\n",
      "[  1.33332154   1.32629774   1.31029581   1.28019572   1.24614239\n",
      "   1.1973262    1.097322     0.9467859    0.654368     0.261892     0.506292\n",
      "   1.277354     2.855824     6.780007    14.671949  ]\n",
      "[  2.28710154   2.28007774   2.26407581   2.23397572   2.19992239\n",
      "   2.1511062    2.051102     1.9005659    1.608148     1.215672     0.447488\n",
      "   0.323574     1.902044     5.826227    13.718169  ]\n",
      "[  3.21410254   3.20707874   3.19107681   3.16097672   3.12692339\n",
      "   3.0781072    2.978103     2.8275669    2.535149     2.142673     1.374489\n",
      "   0.603427     0.975043     4.899226    12.791168  ]\n",
      "[  5.06046854   5.05344474   5.03744281   5.00734272   4.97328939\n",
      "   4.9244732    4.824469     4.6739329    4.381515     3.989039     3.220855\n",
      "   2.449793     0.871323     3.05286     10.944802  ]\n",
      "[ 9.98435454  9.97733074  9.96132881  9.93122872  9.89717539  9.8483592\n",
      "  9.748355    9.5978189   9.305401    8.912925    8.144741    7.373679\n",
      "  5.795209    1.871026    6.020916  ]\n",
      "[ 16.31466054  16.30763674  16.29163481  16.26153472  16.22748139\n",
      "  16.1786652   16.078661    15.9281249   15.635707    15.243231    14.475047\n",
      "  13.703985    12.125515     8.201332     0.30939   ]\n"
     ]
    }
   ],
   "source": [
    "for i in range(len(keyed_ligs[2])):\n",
    "    print(np.abs(keyed_ligs[0] - keyed_ligs[2][i]))"
   ]
  },
  {
   "cell_type": "code",
   "execution_count": 449,
   "metadata": {
    "collapsed": true
   },
   "outputs": [],
   "source": [
    "def shifter(ser,target):\n",
    "    '''takes monotonic increasing sequence with repeat values and up/down shifts \n",
    "    so that all values are unique'''\n",
    "    max = target.size\n",
    "    for i in range(len(ser)-1):\n",
    "        if ser[i+1] == ser[i]:\n",
    "            if (ser[i] - ser[i-1]) > 1:\n",
    "                ser[i] = (ser[i]-1)\n",
    "            else:\n",
    "                ser[i+1] = (ser[i+1]+1)\n",
    "        else:\n",
    "            pass\n",
    "    return ser\n",
    "\n",
    "#new aligner to prevent index overwrites\n",
    "def aligner(arr_long,arr_short):\n",
    "    aligned_arr = init_nanarr(arr_long.shape)\n",
    "    indices = [] \n",
    "    for i in range(len(arr_short)):\n",
    "        x = np.abs(arr_long - arr_short[i])\n",
    "        #print(np.argmin(x))\n",
    "        indices.append(np.argmin(x))\n",
    "        \n",
    "    shifter(indices)\n",
    "    print(indices)\n",
    "        \n",
    "    for i in range(len(indices)):\n",
    "        aligned_arr[indices[i]] = arr_short[i]\n",
    "        \n",
    "    print(aligned_arr)  \n",
    "    return aligned_arr"
   ]
  },
  {
   "cell_type": "code",
   "execution_count": 453,
   "metadata": {
    "collapsed": false
   },
   "outputs": [
    {
     "name": "stdout",
     "output_type": "stream",
     "text": [
      "[0, 1, 2, 3, 4, 5, 6, 7, 8, 9, 10, 11, 12, 13, 14]\n",
      "[  7.67501400e-03   1.49975000e-02   2.95726500e-02   6.11212100e-02\n",
      "   9.69908500e-02   1.44087100e-01   2.48778100e-01   3.94624700e-01\n",
      "   6.87951000e-01   1.17700400e+00   1.83259900e+00   2.57264700e+00\n",
      "   4.08259800e+00   8.05087400e+00   1.60190700e+01]\n"
     ]
    }
   ],
   "source": [
    "inds = aligner(keyed_ligs[0],keyed_ligs[5])"
   ]
  },
  {
   "cell_type": "code",
   "execution_count": 355,
   "metadata": {
    "collapsed": false
   },
   "outputs": [
    {
     "data": {
      "text/plain": [
       "[<matplotlib.lines.Line2D at 0x111ccf7b8>]"
      ]
     },
     "execution_count": 355,
     "metadata": {},
     "output_type": "execute_result"
    },
    {
     "data": {
      "image/png": "[encoded data removed]",
      "text/plain": [
       "<matplotlib.figure.Figure at 0x1109afc88>"
      ]
     },
     "metadata": {},
     "output_type": "display_data"
    }
   ],
   "source": [
    "plt.semilogx(keyed_ligs[0], 0*keyed_ligs[0],'.')\n",
    "plt.semilogx(keyed_ligs[2], 0*keyed_ligs[2],'.', color='red')"
   ]
  },
  {
   "cell_type": "code",
   "execution_count": 362,
   "metadata": {
    "collapsed": true
   },
   "outputs": [],
   "source": [
    "j = [1,2,4,5,6]"
   ]
  },
  {
   "cell_type": "code",
   "execution_count": 363,
   "metadata": {
    "collapsed": false
   },
   "outputs": [
    {
     "data": {
      "text/plain": [
       "False"
      ]
     },
     "execution_count": 363,
     "metadata": {},
     "output_type": "execute_result"
    }
   ],
   "source": [
    "3 in j"
   ]
  },
  {
   "cell_type": "code",
   "execution_count": 364,
   "metadata": {
    "collapsed": false
   },
   "outputs": [
    {
     "name": "stdout",
     "output_type": "stream",
     "text": [
      "dee\n"
     ]
    }
   ],
   "source": [
    "if (3 in j):\n",
    "    print('hi')\n",
    "else:\n",
    "    print('dee')"
   ]
  },
  {
   "cell_type": "code",
   "execution_count": 378,
   "metadata": {
    "collapsed": false
   },
   "outputs": [
    {
     "data": {
      "text/plain": [
       "[0, 2, 3, 5, 6, 7, 8, 9, 11, 11, 12, 13, 14]"
      ]
     },
     "execution_count": 378,
     "metadata": {},
     "output_type": "execute_result"
    }
   ],
   "source": [
    "inds"
   ]
  },
  {
   "cell_type": "code",
   "execution_count": 381,
   "metadata": {
    "collapsed": false
   },
   "outputs": [],
   "source": [
    "for i in range(len(inds)-1):\n",
    "    if inds[i+1] ==  inds[i]:\n",
    "        if inds[i] - inds[i-1] > 1:\n",
    "            inds[i] = (inds[i] - 1)\n",
    "        else:\n",
    "            print('drb')"
   ]
  },
  {
   "cell_type": "code",
   "execution_count": 382,
   "metadata": {
    "collapsed": false
   },
   "outputs": [
    {
     "data": {
      "text/plain": [
       "[0, 2, 3, 5, 6, 7, 8, 9, 10, 11, 12, 13, 14]"
      ]
     },
     "execution_count": 382,
     "metadata": {},
     "output_type": "execute_result"
    }
   ],
   "source": [
    "inds"
   ]
  },
  {
   "cell_type": "code",
   "execution_count": 383,
   "metadata": {
    "collapsed": true
   },
   "outputs": [],
   "source": [
    "testser = [1,2,3,5,5,7,8]"
   ]
  },
  {
   "cell_type": "code",
   "execution_count": 400,
   "metadata": {
    "collapsed": false
   },
   "outputs": [],
   "source": [
    "def shifter(ser):\n",
    "    for i in range(len(ser)-1):\n",
    "        if ser[i+1] == ser[i]:\n",
    "            if ser[i] - ser[i-1] > 1:\n",
    "                ser[i] = (ser[i] -1)\n",
    "            else:\n",
    "                ser[i+1] = (ser[i+1] + 1) \n",
    "            return ser\n",
    "        else:\n",
    "            return ser               "
   ]
  },
  {
   "cell_type": "code",
   "execution_count": 401,
   "metadata": {
    "collapsed": true
   },
   "outputs": [],
   "source": [
    "testser = [1,2,3,4,5,5,6,7,8]"
   ]
  },
  {
   "cell_type": "code",
   "execution_count": 414,
   "metadata": {
    "collapsed": true
   },
   "outputs": [],
   "source": [
    "testser = [1,2,3,5,5,7,8]"
   ]
  },
  {
   "cell_type": "code",
   "execution_count": 403,
   "metadata": {
    "collapsed": false
   },
   "outputs": [
    {
     "data": {
      "text/plain": [
       "[1, 2, 3, 5, 5, 7, 8]"
      ]
     },
     "execution_count": 403,
     "metadata": {},
     "output_type": "execute_result"
    }
   ],
   "source": [
    "shifter(testser)"
   ]
  },
  {
   "cell_type": "code",
   "execution_count": 415,
   "metadata": {
    "collapsed": false
   },
   "outputs": [],
   "source": [
    "ser = testser"
   ]
  },
  {
   "cell_type": "code",
   "execution_count": 417,
   "metadata": {
    "collapsed": true
   },
   "outputs": [],
   "source": [
    "for i in range(len(ser)-1):\n",
    "    if ser[i+1] == ser[i]:\n",
    "        if ser[i] - ser[i-1] > 1:\n",
    "            ser[i] = (ser[i] -1)\n",
    "        else:\n",
    "            ser[i+1] = (ser[i+1] + 1)"
   ]
  },
  {
   "cell_type": "code",
   "execution_count": 418,
   "metadata": {
    "collapsed": false
   },
   "outputs": [
    {
     "data": {
      "text/plain": [
       "[1, 2, 3, 4, 5, 7, 8]"
      ]
     },
     "execution_count": 418,
     "metadata": {},
     "output_type": "execute_result"
    }
   ],
   "source": [
    "ser"
   ]
  },
  {
   "cell_type": "code",
   "execution_count": 437,
   "metadata": {
    "collapsed": false
   },
   "outputs": [
    {
     "data": {
      "text/plain": [
       "array([  1.04782800e-02,              nan,   4.39510000e-02,\n",
       "         6.71754600e-02,              nan,   1.59764000e-01,\n",
       "         2.75784200e-01,   4.67317900e-01,   8.37884700e-01,\n",
       "         1.34129100e+00,   2.29507100e+00,   3.22207200e+00,\n",
       "         5.06843800e+00,   9.99232400e+00,   1.63226300e+01])"
      ]
     },
     "execution_count": 437,
     "metadata": {},
     "output_type": "execute_result"
    }
   ],
   "source": [
    "inds"
   ]
  },
  {
   "cell_type": "code",
   "execution_count": 438,
   "metadata": {
    "collapsed": true
   },
   "outputs": [],
   "source": [
    "old_aligner = aligner(keyed_ligs[0],keyed_ligs[2])"
   ]
  },
  {
   "cell_type": "code",
   "execution_count": 439,
   "metadata": {
    "collapsed": false
   },
   "outputs": [
    {
     "data": {
      "text/plain": [
       "array([  1.04782800e-02,              nan,   4.39510000e-02,\n",
       "         6.71754600e-02,              nan,   1.59764000e-01,\n",
       "         2.75784200e-01,   4.67317900e-01,   8.37884700e-01,\n",
       "         1.34129100e+00,              nan,   3.22207200e+00,\n",
       "         5.06843800e+00,   9.99232400e+00,   1.63226300e+01])"
      ]
     },
     "execution_count": 439,
     "metadata": {},
     "output_type": "execute_result"
    }
   ],
   "source": [
    "old_aligner"
   ]
  },
  {
   "cell_type": "code",
   "execution_count": 440,
   "metadata": {
    "collapsed": false
   },
   "outputs": [
    {
     "name": "stdout",
     "output_type": "stream",
     "text": [
      "[0, 2, 3, 5, 6, 7, 8, 9, 10, 11, 12, 13, 14]\n",
      "[  1.04782800e-02              nan   4.39510000e-02   6.71754600e-02\n",
      "              nan   1.59764000e-01   2.75784200e-01   4.67317900e-01\n",
      "   8.37884700e-01   1.34129100e+00   2.29507100e+00   3.22207200e+00\n",
      "   5.06843800e+00   9.99232400e+00   1.63226300e+01]\n"
     ]
    }
   ],
   "source": [
    "new_aligner = aligner_test(keyed_ligs[0],keyed_ligs[2])"
   ]
  },
  {
   "cell_type": "code",
   "execution_count": 447,
   "metadata": {
    "collapsed": false
   },
   "outputs": [
    {
     "data": {
      "text/plain": [
       "[<matplotlib.lines.Line2D at 0x11310a208>]"
      ]
     },
     "execution_count": 447,
     "metadata": {},
     "output_type": "execute_result"
    },
    {
     "data": {
      "image/png": "[encoded data removed]",
      "text/plain": [
       "<matplotlib.figure.Figure at 0x112744c18>"
      ]
     },
     "metadata": {},
     "output_type": "display_data"
    }
   ],
   "source": [
    "plt.semilogx(keyed_ligs[0], keyed_ligs[0]*0,'.')"
   ]
  },
  {
   "cell_type": "code",
   "execution_count": 455,
   "metadata": {
    "collapsed": false
   },
   "outputs": [
    {
     "name": "stdout",
     "output_type": "stream",
     "text": [
      "15\n",
      "13\n",
      "13\n",
      "13\n",
      "12\n",
      "15\n",
      "14\n",
      "15\n",
      "15\n",
      "14\n",
      "14\n",
      "15\n",
      "13\n",
      "14\n",
      "15\n",
      "14\n",
      "15\n"
     ]
    }
   ],
   "source": [
    "for i in keyed_ligs:\n",
    "    print(i.size)"
   ]
  },
  {
   "cell_type": "code",
   "execution_count": 459,
   "metadata": {
    "collapsed": false
   },
   "outputs": [
    {
     "name": "stdout",
     "output_type": "stream",
     "text": [
      "[1, 2, 3, 5, 6, 7, 8, 9, 10, 11, 12, 13, 14, 15]\n"
     ]
    },
    {
     "ename": "IndexError",
     "evalue": "index 15 is out of bounds for axis 0 with size 15",
     "output_type": "error",
     "traceback": [
      "\u001b[0;31m---------------------------------------------------------------------------\u001b[0m",
      "\u001b[0;31mIndexError\u001b[0m                                Traceback (most recent call last)",
      "\u001b[0;32m<ipython-input-459-54df84a13593>\u001b[0m in \u001b[0;36m<module>\u001b[0;34m()\u001b[0m\n\u001b[0;32m----> 1\u001b[0;31m \u001b[0maligner_test\u001b[0m\u001b[0;34m(\u001b[0m\u001b[0mkeyed_ligs\u001b[0m\u001b[0;34m[\u001b[0m\u001b[0;36m0\u001b[0m\u001b[0;34m]\u001b[0m\u001b[0;34m,\u001b[0m\u001b[0mkeyed_ligs\u001b[0m\u001b[0;34m[\u001b[0m\u001b[0;36m6\u001b[0m\u001b[0;34m]\u001b[0m\u001b[0;34m)\u001b[0m\u001b[0;34m\u001b[0m\u001b[0m\n\u001b[0m",
      "\u001b[0;32m<ipython-input-435-38974b4b84a7>\u001b[0m in \u001b[0;36maligner_test\u001b[0;34m(arr_long, arr_short)\u001b[0m\n\u001b[1;32m     24\u001b[0m \u001b[0;34m\u001b[0m\u001b[0m\n\u001b[1;32m     25\u001b[0m     \u001b[0;32mfor\u001b[0m \u001b[0mi\u001b[0m \u001b[0;32min\u001b[0m \u001b[0mrange\u001b[0m\u001b[0;34m(\u001b[0m\u001b[0mlen\u001b[0m\u001b[0;34m(\u001b[0m\u001b[0mindices\u001b[0m\u001b[0;34m)\u001b[0m\u001b[0;34m)\u001b[0m\u001b[0;34m:\u001b[0m\u001b[0;34m\u001b[0m\u001b[0m\n\u001b[0;32m---> 26\u001b[0;31m         \u001b[0maligned_arr\u001b[0m\u001b[0;34m[\u001b[0m\u001b[0mindices\u001b[0m\u001b[0;34m[\u001b[0m\u001b[0mi\u001b[0m\u001b[0;34m]\u001b[0m\u001b[0;34m]\u001b[0m \u001b[0;34m=\u001b[0m \u001b[0marr_short\u001b[0m\u001b[0;34m[\u001b[0m\u001b[0mi\u001b[0m\u001b[0;34m]\u001b[0m\u001b[0;34m\u001b[0m\u001b[0m\n\u001b[0m\u001b[1;32m     27\u001b[0m \u001b[0;34m\u001b[0m\u001b[0m\n\u001b[1;32m     28\u001b[0m     \u001b[0mprint\u001b[0m\u001b[0;34m(\u001b[0m\u001b[0maligned_arr\u001b[0m\u001b[0;34m)\u001b[0m\u001b[0;34m\u001b[0m\u001b[0m\n",
      "\u001b[0;31mIndexError\u001b[0m: index 15 is out of bounds for axis 0 with size 15"
     ]
    }
   ],
   "source": [
    "aligner_test(keyed_ligs[0],keyed_ligs[6])"
   ]
  },
  {
   "cell_type": "code",
   "execution_count": 465,
   "metadata": {
    "collapsed": false
   },
   "outputs": [
    {
     "data": {
      "text/plain": [
       "array([  0.01713749,   0.03444448,   0.07655431,   0.1450889 ,\n",
       "         0.251269  ,   0.4142728 ,   0.7255647 ,   1.060153  ,\n",
       "         1.819164  ,   2.552526  ,   4.121284  ,   6.136859  ,\n",
       "         8.368795  ,  12.34485   ])"
      ]
     },
     "execution_count": 465,
     "metadata": {},
     "output_type": "execute_result"
    }
   ],
   "source": [
    "keyed_ligs[6]"
   ]
  },
  {
   "cell_type": "code",
   "execution_count": 532,
   "metadata": {
    "collapsed": false
   },
   "outputs": [],
   "source": [
    "def shifter(ser):\n",
    "    '''takes monotonic increasing sequence with repeat values and up/down shifts \n",
    "    so that all values are unique'''\n",
    "    for i in range(len(ser)-1):\n",
    "        if ser[i+1] == ser[i]:\n",
    "            if (ser[i] - ser[i-1]) > 1:\n",
    "                ser[i] = (ser[i]-1)\n",
    "            else:\n",
    "                ser[i+1] = (ser[i+1]+1)\n",
    "        else:\n",
    "            pass\n",
    "    \n",
    "    if ser[-1] > len(ser):\n",
    "        for i in range(len(ser)-1):\n",
    "            if (ser[i+1] - ser[i]) > 1:\n",
    "                ser[i+1] = ser[i+1]-1\n",
    "            else:\n",
    "                pass\n",
    "    else:\n",
    "        pass\n",
    "    return ser\n",
    "\n",
    "#even newer aligner to prevent index overwrites\n",
    "def aligner(arr_long,arr_short):\n",
    "    aligned_arr = init_nanarr(arr_long.shape)\n",
    "    indices = [] \n",
    "    for i in range(len(arr_short)):\n",
    "        x = np.abs(arr_long - arr_short[i])\n",
    "        #print(np.argmin(x))\n",
    "        indices.append(np.argmin(x)) #the slot in the large array should end up in\n",
    "        \n",
    "    shifter(indices)\n",
    "    #print(arr_short)\n",
    "    #print(indices)\n",
    "    #print('Length of indices array: ',len(indices))\n",
    "    #print('Length of short array: ', len(arr_short))\n",
    "        \n",
    "    for i in range(len(indices)): #this is problem\n",
    "        aligned_arr[indices[i]] = arr_short[i]\n",
    "        \n",
    "    #print(aligned_arr)  \n",
    "    return aligned_arr"
   ]
  },
  {
   "cell_type": "code",
   "execution_count": 533,
   "metadata": {
    "collapsed": false
   },
   "outputs": [
    {
     "name": "stdout",
     "output_type": "stream",
     "text": [
      "[1, 2, 3, 4, 5, 6, 7, 8, 9, 10, 11, 12, 13, 14]\n"
     ]
    },
    {
     "data": {
      "text/plain": [
       "array([         nan,   0.01713749,   0.03444448,   0.07655431,\n",
       "         0.1450889 ,   0.251269  ,   0.4142728 ,   0.7255647 ,\n",
       "         1.060153  ,   1.819164  ,   2.552526  ,   4.121284  ,\n",
       "         6.136859  ,   8.368795  ,  12.34485   ])"
      ]
     },
     "execution_count": 533,
     "metadata": {},
     "output_type": "execute_result"
    }
   ],
   "source": [
    "aligner(keyed_ligs[0],keyed_ligs[6])"
   ]
  },
  {
   "cell_type": "code",
   "execution_count": 534,
   "metadata": {
    "collapsed": false
   },
   "outputs": [
    {
     "data": {
      "text/plain": [
       "array([  7.96945700e-03,   1.49932600e-02,   3.09951900e-02,\n",
       "         6.10952800e-02,   9.51486100e-02,   1.43964800e-01,\n",
       "         2.43969000e-01,   3.94505100e-01,   6.86923000e-01,\n",
       "         1.07939900e+00,   1.84758300e+00,   2.61864500e+00,\n",
       "         4.19711500e+00,   8.12129800e+00,   1.60132400e+01])"
      ]
     },
     "execution_count": 534,
     "metadata": {},
     "output_type": "execute_result"
    }
   ],
   "source": [
    "keyed_ligs[0]"
   ]
  },
  {
   "cell_type": "code",
   "execution_count": 520,
   "metadata": {
    "collapsed": false
   },
   "outputs": [
    {
     "ename": "IndexError",
     "evalue": "index 15 is out of bounds for axis 0 with size 15",
     "output_type": "error",
     "traceback": [
      "\u001b[0;31m---------------------------------------------------------------------------\u001b[0m",
      "\u001b[0;31mIndexError\u001b[0m                                Traceback (most recent call last)",
      "\u001b[0;32m<ipython-input-520-417ddcab0799>\u001b[0m in \u001b[0;36m<module>\u001b[0;34m()\u001b[0m\n\u001b[0;32m----> 1\u001b[0;31m \u001b[0mkeyed_ligs\u001b[0m\u001b[0;34m[\u001b[0m\u001b[0;36m0\u001b[0m\u001b[0;34m]\u001b[0m\u001b[0;34m[\u001b[0m\u001b[0;36m15\u001b[0m\u001b[0;34m]\u001b[0m\u001b[0;34m\u001b[0m\u001b[0m\n\u001b[0m",
      "\u001b[0;31mIndexError\u001b[0m: index 15 is out of bounds for axis 0 with size 15"
     ]
    }
   ],
   "source": [
    "keyed_ligs[0][15]"
   ]
  },
  {
   "cell_type": "code",
   "execution_count": 525,
   "metadata": {
    "collapsed": true
   },
   "outputs": [],
   "source": [
    "a = [1,2,3,4]"
   ]
  },
  {
   "cell_type": "code",
   "execution_count": 526,
   "metadata": {
    "collapsed": false
   },
   "outputs": [
    {
     "data": {
      "text/plain": [
       "4"
      ]
     },
     "execution_count": 526,
     "metadata": {},
     "output_type": "execute_result"
    }
   ],
   "source": [
    "a[-1]"
   ]
  },
  {
   "cell_type": "code",
   "execution_count": 527,
   "metadata": {
    "collapsed": false
   },
   "outputs": [
    {
     "data": {
      "text/plain": [
       "4"
      ]
     },
     "execution_count": 527,
     "metadata": {},
     "output_type": "execute_result"
    }
   ],
   "source": [
    "len(a)"
   ]
  },
  {
   "cell_type": "code",
   "execution_count": 528,
   "metadata": {
    "collapsed": false
   },
   "outputs": [
    {
     "ename": "IndexError",
     "evalue": "list index out of range",
     "output_type": "error",
     "traceback": [
      "\u001b[0;31m---------------------------------------------------------------------------\u001b[0m",
      "\u001b[0;31mIndexError\u001b[0m                                Traceback (most recent call last)",
      "\u001b[0;32m<ipython-input-528-54d383a36828>\u001b[0m in \u001b[0;36m<module>\u001b[0;34m()\u001b[0m\n\u001b[0;32m----> 1\u001b[0;31m \u001b[0ma\u001b[0m\u001b[0;34m[\u001b[0m\u001b[0;36m4\u001b[0m\u001b[0;34m]\u001b[0m\u001b[0;34m\u001b[0m\u001b[0m\n\u001b[0m",
      "\u001b[0;31mIndexError\u001b[0m: list index out of range"
     ]
    }
   ],
   "source": [
    "a[4]"
   ]
  },
  {
   "cell_type": "code",
   "execution_count": null,
   "metadata": {
    "collapsed": true
   },
   "outputs": [],
   "source": []
  }
 ],
 "metadata": {
  "kernelspec": {
   "display_name": "Python [conda env:fitter]",
   "language": "python",
   "name": "conda-env-fitter-py"
  },
  "language_info": {
   "codemirror_mode": {
    "name": "ipython",
    "version": 3
   },
   "file_extension": ".py",
   "mimetype": "text/x-python",
   "name": "python",
   "nbconvert_exporter": "python",
   "pygments_lexer": "ipython3",
   "version": "3.5.2"
  }
 },
 "nbformat": 4,
 "nbformat_minor": 1
}
