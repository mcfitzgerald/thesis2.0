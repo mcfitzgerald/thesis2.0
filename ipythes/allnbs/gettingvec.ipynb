{
 "cells": [
  {
   "cell_type": "code",
   "execution_count": 4,
   "metadata": {
    "collapsed": false
   },
   "outputs": [
    {
     "data": {
      "text/plain": [
       "array([ 0.00287218,  0.0057293 ,  0.01139886,  0.02256218,  0.04420898,\n",
       "        0.08495766,  0.15750031,  0.27442734,  0.43494373,  0.61140532,\n",
       "        0.76276266,  0.86736558,  0.92969257,  0.9637874 ,  0.98162164,\n",
       "        0.99074192,  0.99535363,  0.99767247,  0.00212201,  0.00423545,\n",
       "        0.00843679,  0.01673873,  0.03295043,  0.06388646,  0.12039349,\n",
       "        0.21575195,  0.3567863 ,  0.52877848,  0.69457034,  0.82154023,\n",
       "        0.90281887,  0.9492021 ,  0.97402094,  0.99668726,  0.00183875,\n",
       "        0.00367067,  0.00731417,  0.01452088,  0.02862117,  0.05563083,\n",
       "        0.10532975,  0.19035641,  0.3191859 ,  0.4825415 ,  0.64899583,\n",
       "        0.78533335,  0.87867192,  0.93494879,  0.96622051,  0.98277258,\n",
       "        0.99129847,  0.99562683,  0.0016043 ,  0.00320301,  0.00638376,\n",
       "        0.0126794 ,  0.02501369,  0.04870285,  0.09251507,  0.16819537,\n",
       "        0.28486929,  0.43720977,  0.5996735 ,  0.741466  ,  0.84618727,\n",
       "        0.91418393,  0.97630818,  0.98793257,  0.00136943,  0.00273433,\n",
       "        0.00545065,  0.01083001,  0.0213806 ,  0.04168745,  0.0794006 ,\n",
       "        0.14506012,  0.24774887,  0.38522666,  0.53808452,  0.68052705,\n",
       "        0.7957575 ,  0.93237661,  0.98135685,  0.99050848])"
      ]
     },
     "execution_count": 4,
     "metadata": {},
     "output_type": "execute_result"
    }
   ],
   "source": [
    "import numpy as np\n",
    "\n",
    "def dilser(low=0.001, limit=100.0, dilfactor = 2.0):\n",
    "    \"\"\"Returns a list containing a dilution series that ranges from\n",
    "    \"low\" to \"limit\" by \"dilfactor\".\n",
    "    \"\"\"\n",
    "    a = [low]\n",
    "    while a[-1] <= limit:\n",
    "        a.append(a[len(a)-1]*dilfactor)\n",
    "    \n",
    "    return np.array(a)\n",
    "\n",
    "lig = dilser()\n",
    "\n",
    "a = np.delete(lig,[15,16])\n",
    "\n",
    "b = np.delete(lig,[14,17])\n",
    "\n",
    "c = np.delete(lig,[13,15])\n",
    "\n",
    "ligset = np.array([lig,a,lig,b,c])\n",
    "\n",
    "noiseset = np.array([np.random.normal(1,0.05,ligset[i].size) for i in range(ligset.shape[0])])\n",
    "\n",
    "rtots = np.array([0.001,0.005, 0.01, 0.02, 0.05])\n",
    "\n",
    "sim_parms = dict({'k11':3.7, 'k21':1.8, 'k22':0.12, 'l20':293.0})\n",
    "\n",
    "#@profile\n",
    "def wyman_sim(lig,rtot,parm):\n",
    "    k11 = parm['k11']\n",
    "    k21 = parm['k21']\n",
    "    k22 = parm['k22']\n",
    "    l20 = parm['l20']\n",
    "    \n",
    "    \n",
    "    ligf = ligset\n",
    "    ligc = np.concatenate(ligset)\n",
    "    rtotf = rtots\n",
    "    \n",
    "    rfreetop = (-1 - k11*ligc) + \\\n",
    "    (np.sqrt(np.concatenate((np.square((1 + k11*ligf)) + \\\n",
    "    8.*l20*rtotf*(1 + k21*ligf + k21*k22*(np.square(ligf)))))))\n",
    "    \n",
    "    rfreebottom = 4*l20*(1 + k21*ligc + k21*k22*(np.square(ligc)))\n",
    "    \n",
    "    rfree = rfreetop/rfreebottom\n",
    "       \n",
    "    \n",
    "    bfrac = (k11*ligc + l20*k21*rfree*ligc + \\\n",
    "    2*l20*k21*k22*rfree*(np.square(ligc)))/(1 + 2*l20*rfree + k11*ligc + \\\n",
    "    2*l20*k21*rfree*ligc + 2*l20*k21*k22*rfree*(np.square(ligc)))\n",
    "    \n",
    "    return bfrac\n",
    "\n",
    "\n",
    "\n",
    "\n",
    "\n",
    "wyman_sim(ligset,rtots,sim_parms)"
   ]
  },
  {
   "cell_type": "code",
   "execution_count": 5,
   "metadata": {
    "collapsed": true
   },
   "outputs": [],
   "source": [
    "def wyman_obj_vec(parm,lig,rtot,data,eps=None):\n",
    "    k11 = parm[0]\n",
    "    k21 = parm[1]\n",
    "    k22 = parm[2]\n",
    "    l20 = parm[3]\n",
    "    \n",
    "    ligc = np.concatenate(lig)\n",
    "    epsc = np.concatenate(eps)\n",
    "    datac = np.concatenate(data)\n",
    "    \n",
    "    rfree = ((-1 - k11*ligc) + \\\n",
    "    (np.sqrt(np.concatenate((np.square((1 + k11*lig)) + \\\n",
    "    8.*l20*rtot*(1 + k21*lig + k21*k22*(np.square(lig))))))) \\\n",
    "    / (4*l20*(1 + k21*ligc + k21*k22*(np.square(ligc)))))\n",
    "       \n",
    "    bfrac = (k11*ligc + l20*k21*rfree*ligc + \\\n",
    "    2*l20*k21*k22*rfree*(np.square(ligc)))/(1 + 2*l20*rfree + k11*ligc + \\\n",
    "    2*l20*k21*rfree*ligc + 2*l20*k21*k22*rfree*(np.square(ligc)))\n",
    "    \n",
    "    if eps is None:\n",
    "        return bfrac - datac\n",
    "    else:\n",
    "        return (bfrac-datac)/epsc"
   ]
  },
  {
   "cell_type": "code",
   "execution_count": 6,
   "metadata": {
    "collapsed": true
   },
   "outputs": [],
   "source": [
    "def wyman_sim_v(parm,lig,rtot):\n",
    "    k11 = parm[0]\n",
    "    k21 = parm[1]\n",
    "    k22 = parm[2]\n",
    "    l20 = parm[3]\n",
    "    \n",
    "    ligc = np.concatenate(lig)\n",
    "    \n",
    "    rfree = ((-1 - k11*ligc) + \\\n",
    "    (np.sqrt(np.concatenate((np.square((1 + k11*lig)) + \\\n",
    "    8.*l20*rtot*(1 + k21*lig + k21*k22*(np.square(lig))))))) \\\n",
    "    / (4*l20*(1 + k21*ligc + k21*k22*(np.square(ligc)))))\n",
    "       \n",
    "    bfrac = (k11*ligc + l20*k21*rfree*ligc + \\\n",
    "    2*l20*k21*k22*rfree*(np.square(ligc)))/(1 + 2*l20*rfree + k11*ligc + \\\n",
    "    2*l20*k21*rfree*ligc + 2*l20*k21*k22*rfree*(np.square(ligc)))\n",
    "    \n",
    "    return bfrac"
   ]
  },
  {
   "cell_type": "code",
   "execution_count": 7,
   "metadata": {
    "collapsed": false
   },
   "outputs": [
    {
     "data": {
      "text/plain": [
       "array([ array([  1.00000000e-03,   2.00000000e-03,   4.00000000e-03,\n",
       "         8.00000000e-03,   1.60000000e-02,   3.20000000e-02,\n",
       "         6.40000000e-02,   1.28000000e-01,   2.56000000e-01,\n",
       "         5.12000000e-01,   1.02400000e+00,   2.04800000e+00,\n",
       "         4.09600000e+00,   8.19200000e+00,   1.63840000e+01,\n",
       "         3.27680000e+01,   6.55360000e+01,   1.31072000e+02]),\n",
       "       array([  1.00000000e-03,   2.00000000e-03,   4.00000000e-03,\n",
       "         8.00000000e-03,   1.60000000e-02,   3.20000000e-02,\n",
       "         6.40000000e-02,   1.28000000e-01,   2.56000000e-01,\n",
       "         5.12000000e-01,   1.02400000e+00,   2.04800000e+00,\n",
       "         4.09600000e+00,   8.19200000e+00,   1.63840000e+01,\n",
       "         1.31072000e+02]),\n",
       "       array([  1.00000000e-03,   2.00000000e-03,   4.00000000e-03,\n",
       "         8.00000000e-03,   1.60000000e-02,   3.20000000e-02,\n",
       "         6.40000000e-02,   1.28000000e-01,   2.56000000e-01,\n",
       "         5.12000000e-01,   1.02400000e+00,   2.04800000e+00,\n",
       "         4.09600000e+00,   8.19200000e+00,   1.63840000e+01,\n",
       "         3.27680000e+01,   6.55360000e+01,   1.31072000e+02]),\n",
       "       array([  1.00000000e-03,   2.00000000e-03,   4.00000000e-03,\n",
       "         8.00000000e-03,   1.60000000e-02,   3.20000000e-02,\n",
       "         6.40000000e-02,   1.28000000e-01,   2.56000000e-01,\n",
       "         5.12000000e-01,   1.02400000e+00,   2.04800000e+00,\n",
       "         4.09600000e+00,   8.19200000e+00,   3.27680000e+01,\n",
       "         6.55360000e+01]),\n",
       "       array([  1.00000000e-03,   2.00000000e-03,   4.00000000e-03,\n",
       "         8.00000000e-03,   1.60000000e-02,   3.20000000e-02,\n",
       "         6.40000000e-02,   1.28000000e-01,   2.56000000e-01,\n",
       "         5.12000000e-01,   1.02400000e+00,   2.04800000e+00,\n",
       "         4.09600000e+00,   1.63840000e+01,   6.55360000e+01,\n",
       "         1.31072000e+02])], dtype=object)"
      ]
     },
     "execution_count": 7,
     "metadata": {},
     "output_type": "execute_result"
    }
   ],
   "source": [
    "ligset"
   ]
  },
  {
   "cell_type": "code",
   "execution_count": 8,
   "metadata": {
    "collapsed": false
   },
   "outputs": [
    {
     "data": {
      "text/plain": [
       "{'k11': 3.7, 'k21': 1.8, 'k22': 0.12, 'l20': 293.0}"
      ]
     },
     "execution_count": 8,
     "metadata": {},
     "output_type": "execute_result"
    }
   ],
   "source": [
    "sim_parms"
   ]
  },
  {
   "cell_type": "code",
   "execution_count": 11,
   "metadata": {
    "collapsed": true
   },
   "outputs": [],
   "source": [
    "parmvec = np.array([3.7,1.8,0.12,293.0],dtype=float)"
   ]
  },
  {
   "cell_type": "code",
   "execution_count": 12,
   "metadata": {
    "collapsed": false
   },
   "outputs": [
    {
     "data": {
      "text/plain": [
       "array([  3.70000000e+00,   1.80000000e+00,   1.20000000e-01,\n",
       "         2.93000000e+02])"
      ]
     },
     "execution_count": 12,
     "metadata": {},
     "output_type": "execute_result"
    }
   ],
   "source": [
    "parmvec"
   ]
  },
  {
   "cell_type": "code",
   "execution_count": 13,
   "metadata": {
    "collapsed": false
   },
   "outputs": [
    {
     "data": {
      "text/plain": [
       "array([  8.93834083e-04,   1.78493272e-03,   3.55897581e-03,\n",
       "         7.07480615e-03,   1.39802655e-02,   2.73079611e-02,\n",
       "         5.21884825e-02,   9.59154173e-02,   1.65433802e-01,\n",
       "         2.61220085e-01,   3.73776829e-01,   4.91473360e-01,\n",
       "         6.09311773e-01,   7.23118076e-01,   8.22026720e-01,\n",
       "         8.95545551e-01,   9.42692494e-01,   9.69865391e-01,\n",
       "         8.93827021e-04,   1.78491875e-03,   3.55894849e-03,\n",
       "         7.07475387e-03,   1.39801696e-02,   2.73077990e-02,\n",
       "         5.21882461e-02,   9.59151486e-02,   1.65433592e-01,\n",
       "         2.61219983e-01,   3.73776800e-01,   4.91473354e-01,\n",
       "         6.09311772e-01,   7.23118076e-01,   8.22026720e-01,\n",
       "         9.69865391e-01,   8.93821407e-04,   1.78490764e-03,\n",
       "         3.55892676e-03,   7.07471225e-03,   1.39800931e-02,\n",
       "         2.73076692e-02,   5.21880552e-02,   9.59149282e-02,\n",
       "         1.65433414e-01,   2.61219893e-01,   3.73776772e-01,\n",
       "         4.91473349e-01,   6.09311772e-01,   7.23118076e-01,\n",
       "         8.22026720e-01,   8.95545551e-01,   9.42692494e-01,\n",
       "         9.69865391e-01,   8.93813330e-04,   1.78489167e-03,\n",
       "         3.55889549e-03,   7.07465233e-03,   1.39799830e-02,\n",
       "         2.73074820e-02,   5.21877794e-02,   9.59146081e-02,\n",
       "         1.65433154e-01,   2.61219758e-01,   3.73776729e-01,\n",
       "         4.91473340e-01,   6.09311771e-01,   7.23118076e-01,\n",
       "         8.95545551e-01,   9.42692494e-01,   8.93797090e-04,\n",
       "         1.78485954e-03,   3.55883260e-03,   7.07453183e-03,\n",
       "         1.39797614e-02,   2.73071054e-02,   5.21872238e-02,\n",
       "         9.59139620e-02,   1.65432626e-01,   2.61219482e-01,\n",
       "         3.73776639e-01,   4.91473322e-01,   6.09311768e-01,\n",
       "         8.22026720e-01,   9.42692494e-01,   9.69865391e-01])"
      ]
     },
     "execution_count": 13,
     "metadata": {},
     "output_type": "execute_result"
    }
   ],
   "source": [
    "wyman_sim_v(parmvec,ligset,rtots)"
   ]
  },
  {
   "cell_type": "code",
   "execution_count": 14,
   "metadata": {
    "collapsed": false
   },
   "outputs": [
    {
     "data": {
      "text/plain": [
       "array([ 0.001,  0.005,  0.01 ,  0.02 ,  0.05 ])"
      ]
     },
     "execution_count": 14,
     "metadata": {},
     "output_type": "execute_result"
    }
   ],
   "source": [
    "rtots"
   ]
  },
  {
   "cell_type": "code",
   "execution_count": 15,
   "metadata": {
    "collapsed": false
   },
   "outputs": [
    {
     "data": {
      "text/plain": [
       "array([  3.70000000e+00,   1.80000000e+00,   1.20000000e-01,\n",
       "         2.93000000e+02])"
      ]
     },
     "execution_count": 15,
     "metadata": {},
     "output_type": "execute_result"
    }
   ],
   "source": [
    "parmvec"
   ]
  },
  {
   "cell_type": "code",
   "execution_count": 16,
   "metadata": {
    "collapsed": false
   },
   "outputs": [
    {
     "data": {
      "text/plain": [
       "3.7000000000000002"
      ]
     },
     "execution_count": 16,
     "metadata": {},
     "output_type": "execute_result"
    }
   ],
   "source": [
    "parmvec[0]"
   ]
  },
  {
   "cell_type": "code",
   "execution_count": 17,
   "metadata": {
    "collapsed": false
   },
   "outputs": [
    {
     "data": {
      "text/plain": [
       "array([ array([  1.00000000e-03,   2.00000000e-03,   4.00000000e-03,\n",
       "         8.00000000e-03,   1.60000000e-02,   3.20000000e-02,\n",
       "         6.40000000e-02,   1.28000000e-01,   2.56000000e-01,\n",
       "         5.12000000e-01,   1.02400000e+00,   2.04800000e+00,\n",
       "         4.09600000e+00,   8.19200000e+00,   1.63840000e+01,\n",
       "         3.27680000e+01,   6.55360000e+01,   1.31072000e+02]),\n",
       "       array([  1.00000000e-03,   2.00000000e-03,   4.00000000e-03,\n",
       "         8.00000000e-03,   1.60000000e-02,   3.20000000e-02,\n",
       "         6.40000000e-02,   1.28000000e-01,   2.56000000e-01,\n",
       "         5.12000000e-01,   1.02400000e+00,   2.04800000e+00,\n",
       "         4.09600000e+00,   8.19200000e+00,   1.63840000e+01,\n",
       "         1.31072000e+02]),\n",
       "       array([  1.00000000e-03,   2.00000000e-03,   4.00000000e-03,\n",
       "         8.00000000e-03,   1.60000000e-02,   3.20000000e-02,\n",
       "         6.40000000e-02,   1.28000000e-01,   2.56000000e-01,\n",
       "         5.12000000e-01,   1.02400000e+00,   2.04800000e+00,\n",
       "         4.09600000e+00,   8.19200000e+00,   1.63840000e+01,\n",
       "         3.27680000e+01,   6.55360000e+01,   1.31072000e+02]),\n",
       "       array([  1.00000000e-03,   2.00000000e-03,   4.00000000e-03,\n",
       "         8.00000000e-03,   1.60000000e-02,   3.20000000e-02,\n",
       "         6.40000000e-02,   1.28000000e-01,   2.56000000e-01,\n",
       "         5.12000000e-01,   1.02400000e+00,   2.04800000e+00,\n",
       "         4.09600000e+00,   8.19200000e+00,   3.27680000e+01,\n",
       "         6.55360000e+01]),\n",
       "       array([  1.00000000e-03,   2.00000000e-03,   4.00000000e-03,\n",
       "         8.00000000e-03,   1.60000000e-02,   3.20000000e-02,\n",
       "         6.40000000e-02,   1.28000000e-01,   2.56000000e-01,\n",
       "         5.12000000e-01,   1.02400000e+00,   2.04800000e+00,\n",
       "         4.09600000e+00,   1.63840000e+01,   6.55360000e+01,\n",
       "         1.31072000e+02])], dtype=object)"
      ]
     },
     "execution_count": 17,
     "metadata": {},
     "output_type": "execute_result"
    }
   ],
   "source": [
    "ligset"
   ]
  },
  {
   "cell_type": "code",
   "execution_count": 24,
   "metadata": {
    "collapsed": true
   },
   "outputs": [],
   "source": [
    "def wyman_sim_tryvec(parm,lig,rtot):\n",
    "    k11 = parm[0]\n",
    "    k21 = parm[1]\n",
    "    k22 = parm[2]\n",
    "    l20 = parm[3]\n",
    "    \n",
    "    ligf = lig\n",
    "    ligc = np.concatenate(lig)\n",
    "    rtotf = rtot\n",
    "    \n",
    "    rfreetop = (np.concatenate((-1 - k11*ligf)) + \\\n",
    "    (np.sqrt(np.concatenate((np.square((1 + k11*ligf)) + \\\n",
    "    8.*l20*rtotf*(1 + k21*ligf + k21*k22*(np.square(ligf))))))))\n",
    "    \n",
    "    rfreebottom = np.concatenate(4*l20*(1 + k21*ligf + k21*k22*(np.square(ligf))))\n",
    "    \n",
    "    rfree = rfreetop/rfreebottom\n",
    "    \n",
    "       \n",
    "    bfrac = (k11*ligc + l20*k21*rfree*ligc + \\\n",
    "    2*l20*k21*k22*rfree*(np.square(ligc)))/(1 + 2*l20*rfree + k11*ligc + \\\n",
    "    2*l20*k21*rfree*ligc + 2*l20*k21*k22*rfree*(np.square(ligc)))\n",
    "    \n",
    "    return bfrac\n"
   ]
  },
  {
   "cell_type": "code",
   "execution_count": 25,
   "metadata": {
    "collapsed": false
   },
   "outputs": [
    {
     "data": {
      "text/plain": [
       "array([ 0.00287218,  0.0057293 ,  0.01139886,  0.02256218,  0.04420898,\n",
       "        0.08495766,  0.15750031,  0.27442734,  0.43494373,  0.61140532,\n",
       "        0.76276266,  0.86736558,  0.92969257,  0.9637874 ,  0.98162164,\n",
       "        0.99074192,  0.99535363,  0.99767247,  0.00212201,  0.00423545,\n",
       "        0.00843679,  0.01673873,  0.03295043,  0.06388646,  0.12039349,\n",
       "        0.21575195,  0.3567863 ,  0.52877848,  0.69457034,  0.82154023,\n",
       "        0.90281887,  0.9492021 ,  0.97402094,  0.99668726,  0.00183875,\n",
       "        0.00367067,  0.00731417,  0.01452088,  0.02862117,  0.05563083,\n",
       "        0.10532975,  0.19035641,  0.3191859 ,  0.4825415 ,  0.64899583,\n",
       "        0.78533335,  0.87867192,  0.93494879,  0.96622051,  0.98277258,\n",
       "        0.99129847,  0.99562683,  0.0016043 ,  0.00320301,  0.00638376,\n",
       "        0.0126794 ,  0.02501369,  0.04870285,  0.09251507,  0.16819537,\n",
       "        0.28486929,  0.43720977,  0.5996735 ,  0.741466  ,  0.84618727,\n",
       "        0.91418393,  0.97630818,  0.98793257,  0.00136943,  0.00273433,\n",
       "        0.00545065,  0.01083001,  0.0213806 ,  0.04168745,  0.0794006 ,\n",
       "        0.14506012,  0.24774887,  0.38522666,  0.53808452,  0.68052705,\n",
       "        0.7957575 ,  0.93237661,  0.98135685,  0.99050848])"
      ]
     },
     "execution_count": 25,
     "metadata": {},
     "output_type": "execute_result"
    }
   ],
   "source": [
    "wyman_sim_tryvec(parmvec,ligset,rtots)"
   ]
  },
  {
   "cell_type": "code",
   "execution_count": 22,
   "metadata": {
    "collapsed": false
   },
   "outputs": [
    {
     "data": {
      "text/plain": [
       "array([  1.00000000e-03,   2.00000000e-03,   4.00000000e-03,\n",
       "         8.00000000e-03,   1.60000000e-02,   3.20000000e-02,\n",
       "         6.40000000e-02,   1.28000000e-01,   2.56000000e-01,\n",
       "         5.12000000e-01,   1.02400000e+00,   2.04800000e+00,\n",
       "         4.09600000e+00,   8.19200000e+00,   1.63840000e+01,\n",
       "         3.27680000e+01,   6.55360000e+01,   1.31072000e+02])"
      ]
     },
     "execution_count": 22,
     "metadata": {},
     "output_type": "execute_result"
    }
   ],
   "source": [
    "lig"
   ]
  },
  {
   "cell_type": "code",
   "execution_count": 26,
   "metadata": {
    "collapsed": true
   },
   "outputs": [],
   "source": [
    "def wyman_sim_loop(lig,rtot,parm):\n",
    "    \"\"\"\n",
    "    returns bound fraction for model of aggregating system as described by Wyman and implemened\n",
    "    by Pike\n",
    "    \n",
    "    lig \n",
    "    -------\n",
    "    is an array of arrays (created from a list of arrays -- because\n",
    "    datasets may not have a uniform number of data points in each experiment)\n",
    "    \n",
    "    this is important for the loop below that uses lig.size to generate indices. if lig \n",
    "    was a proper array, size would be the total number of cells, but in this case it is the \n",
    "    number of arrays (or experimental data sets) in the array\n",
    "    \n",
    "    rtot \n",
    "    -------\n",
    "    is a 1d array (but may work as other data structure -- test this)\n",
    "    \n",
    "    parm\n",
    "    -------\n",
    "    dict of parameter names and values or a Parameters object from the lmfit package\n",
    "     \n",
    "    \"\"\"\n",
    "    #assign parameter values\n",
    "    k11 = parm['k11']\n",
    "    k21 = parm['k21']\n",
    "    k22 = parm['k22']\n",
    "    l20 = parm['l20']\n",
    "    \n",
    "    holder = []\n",
    "    \n",
    "    for i in range(lig.size):\n",
    "        rfree = (((-1 - k11*lig[i]) + \\\n",
    "        (np.sqrt((1 + k11*lig[i])**2 + 8*l20*rtot[i]*(1 + k21*lig[i] + \\\n",
    "        k21*k22*(lig[i]**2)))))/(4*l20*(1 + k21*lig[i] + k21*k22*(lig[i]**2))))\n",
    "        \n",
    "        bfrac = (k11*lig[i] + l20*k21*rfree*lig[i] + \\\n",
    "        2*l20*k21*k22*rfree*(lig[i]**2))/(1 + 2*l20*rfree + k11*lig[i] + \\\n",
    "        2*l20*k21*rfree*lig[i] + 2*l20*k21*k22*rfree*(lig[i]**2))\n",
    "        \n",
    "        holder.append(bfrac)\n",
    "        \n",
    "    return np.array(holder)"
   ]
  },
  {
   "cell_type": "code",
   "execution_count": 27,
   "metadata": {
    "collapsed": false
   },
   "outputs": [
    {
     "data": {
      "text/plain": [
       "{'k11': 3.7, 'k21': 1.8, 'k22': 0.12, 'l20': 293.0}"
      ]
     },
     "execution_count": 27,
     "metadata": {},
     "output_type": "execute_result"
    }
   ],
   "source": [
    "sim_parms"
   ]
  },
  {
   "cell_type": "code",
   "execution_count": 30,
   "metadata": {
    "collapsed": false
   },
   "outputs": [],
   "source": [
    "loopres = wyman_sim_loop(ligset,rtots,sim_parms)"
   ]
  },
  {
   "cell_type": "code",
   "execution_count": 32,
   "metadata": {
    "collapsed": false
   },
   "outputs": [
    {
     "data": {
      "text/plain": [
       "array([ True,  True,  True,  True,  True,  True,  True,  True,  True,\n",
       "        True,  True,  True,  True,  True,  True,  True,  True,  True,\n",
       "        True,  True,  True,  True,  True,  True,  True,  True,  True,\n",
       "        True,  True,  True,  True,  True,  True,  True,  True,  True,\n",
       "        True,  True,  True,  True,  True,  True,  True,  True,  True,\n",
       "        True,  True,  True,  True,  True,  True,  True,  True,  True,\n",
       "        True,  True,  True,  True,  True,  True,  True,  True,  True,\n",
       "        True,  True,  True,  True,  True,  True,  True,  True,  True,\n",
       "        True,  True,  True,  True,  True,  True,  True,  True,  True,\n",
       "        True,  True,  True], dtype=bool)"
      ]
     },
     "execution_count": 32,
     "metadata": {},
     "output_type": "execute_result"
    }
   ],
   "source": [
    "np.concatenate(loopres) == wyman_sim_tryvec(parmvec,ligset,rtots)"
   ]
  },
  {
   "cell_type": "code",
   "execution_count": 35,
   "metadata": {
    "collapsed": true
   },
   "outputs": [],
   "source": [
    "def wyman_obj_vec_v1(parm,lig,rtot):\n",
    "    k11 = parm[0]\n",
    "    k21 = parm[1]\n",
    "    k22 = parm[2]\n",
    "    l20 = parm[3]\n",
    "    \n",
    "    #ligf = lig\n",
    "    ligc = np.concatenate(lig)\n",
    "    #rtotf = rtot\n",
    "    \n",
    "    rfreetop = (((-1 - k11*ligc)) + \\\n",
    "    (np.sqrt(np.concatenate((np.square((1 + k11*lig)) + \\\n",
    "    8.*l20*rtot*(1 + k21*lig + k21*k22*(np.square(lig))))))))\n",
    "    \n",
    "    rfreebottom = (4*l20*(1 + k21*ligc + k21*k22*(np.square(ligc))))\n",
    "    \n",
    "    rfree = rfreetop/rfreebottom\n",
    "    \n",
    "       \n",
    "    bfrac = (k11*ligc + l20*k21*rfree*ligc + \\\n",
    "    2*l20*k21*k22*rfree*(np.square(ligc)))/(1 + 2*l20*rfree + k11*ligc + \\\n",
    "    2*l20*k21*rfree*ligc + 2*l20*k21*k22*rfree*(np.square(ligc)))\n",
    "    \n",
    "    return bfrac"
   ]
  },
  {
   "cell_type": "code",
   "execution_count": 36,
   "metadata": {
    "collapsed": false
   },
   "outputs": [
    {
     "data": {
      "text/plain": [
       "array([ 0.00287218,  0.0057293 ,  0.01139886,  0.02256218,  0.04420898,\n",
       "        0.08495766,  0.15750031,  0.27442734,  0.43494373,  0.61140532,\n",
       "        0.76276266,  0.86736558,  0.92969257,  0.9637874 ,  0.98162164,\n",
       "        0.99074192,  0.99535363,  0.99767247,  0.00212201,  0.00423545,\n",
       "        0.00843679,  0.01673873,  0.03295043,  0.06388646,  0.12039349,\n",
       "        0.21575195,  0.3567863 ,  0.52877848,  0.69457034,  0.82154023,\n",
       "        0.90281887,  0.9492021 ,  0.97402094,  0.99668726,  0.00183875,\n",
       "        0.00367067,  0.00731417,  0.01452088,  0.02862117,  0.05563083,\n",
       "        0.10532975,  0.19035641,  0.3191859 ,  0.4825415 ,  0.64899583,\n",
       "        0.78533335,  0.87867192,  0.93494879,  0.96622051,  0.98277258,\n",
       "        0.99129847,  0.99562683,  0.0016043 ,  0.00320301,  0.00638376,\n",
       "        0.0126794 ,  0.02501369,  0.04870285,  0.09251507,  0.16819537,\n",
       "        0.28486929,  0.43720977,  0.5996735 ,  0.741466  ,  0.84618727,\n",
       "        0.91418393,  0.97630818,  0.98793257,  0.00136943,  0.00273433,\n",
       "        0.00545065,  0.01083001,  0.0213806 ,  0.04168745,  0.0794006 ,\n",
       "        0.14506012,  0.24774887,  0.38522666,  0.53808452,  0.68052705,\n",
       "        0.7957575 ,  0.93237661,  0.98135685,  0.99050848])"
      ]
     },
     "execution_count": 36,
     "metadata": {},
     "output_type": "execute_result"
    }
   ],
   "source": [
    "wyman_obj_vec_v1(parmvec,ligset,rtots)"
   ]
  },
  {
   "cell_type": "code",
   "execution_count": 37,
   "metadata": {
    "collapsed": true
   },
   "outputs": [],
   "source": [
    "def wyman_obj_vec_v2(parm,lig,rtot):\n",
    "    k11 = parm[0]\n",
    "    k21 = parm[1]\n",
    "    k22 = parm[2]\n",
    "    l20 = parm[3]\n",
    "    \n",
    "    ligc = np.concatenate(lig)\n",
    "    \n",
    "    rfree = (((-1 - k11*ligc)) + \\\n",
    "    (np.sqrt(np.concatenate((np.square((1 + k11*lig)) + \\\n",
    "    8.*l20*rtot*(1 + k21*lig + k21*k22*(np.square(lig)))))))) \\\n",
    "    / (4*l20*(1 + k21*ligc + k21*k22*(np.square(ligc))))    \n",
    "       \n",
    "    bfrac = (k11*ligc + l20*k21*rfree*ligc + \\\n",
    "    2*l20*k21*k22*rfree*(np.square(ligc))) \\\n",
    "    / (1 + 2*l20*rfree + k11*ligc + \\\n",
    "    2*l20*k21*rfree*ligc + 2*l20*k21*k22*rfree*(np.square(ligc)))\n",
    "    \n",
    "    return bfrac"
   ]
  },
  {
   "cell_type": "code",
   "execution_count": 38,
   "metadata": {
    "collapsed": false
   },
   "outputs": [
    {
     "data": {
      "text/plain": [
       "array([ 0.00287218,  0.0057293 ,  0.01139886,  0.02256218,  0.04420898,\n",
       "        0.08495766,  0.15750031,  0.27442734,  0.43494373,  0.61140532,\n",
       "        0.76276266,  0.86736558,  0.92969257,  0.9637874 ,  0.98162164,\n",
       "        0.99074192,  0.99535363,  0.99767247,  0.00212201,  0.00423545,\n",
       "        0.00843679,  0.01673873,  0.03295043,  0.06388646,  0.12039349,\n",
       "        0.21575195,  0.3567863 ,  0.52877848,  0.69457034,  0.82154023,\n",
       "        0.90281887,  0.9492021 ,  0.97402094,  0.99668726,  0.00183875,\n",
       "        0.00367067,  0.00731417,  0.01452088,  0.02862117,  0.05563083,\n",
       "        0.10532975,  0.19035641,  0.3191859 ,  0.4825415 ,  0.64899583,\n",
       "        0.78533335,  0.87867192,  0.93494879,  0.96622051,  0.98277258,\n",
       "        0.99129847,  0.99562683,  0.0016043 ,  0.00320301,  0.00638376,\n",
       "        0.0126794 ,  0.02501369,  0.04870285,  0.09251507,  0.16819537,\n",
       "        0.28486929,  0.43720977,  0.5996735 ,  0.741466  ,  0.84618727,\n",
       "        0.91418393,  0.97630818,  0.98793257,  0.00136943,  0.00273433,\n",
       "        0.00545065,  0.01083001,  0.0213806 ,  0.04168745,  0.0794006 ,\n",
       "        0.14506012,  0.24774887,  0.38522666,  0.53808452,  0.68052705,\n",
       "        0.7957575 ,  0.93237661,  0.98135685,  0.99050848])"
      ]
     },
     "execution_count": 38,
     "metadata": {},
     "output_type": "execute_result"
    }
   ],
   "source": [
    "wyman_obj_vec_v2(parmvec,ligset,rtots)"
   ]
  },
  {
   "cell_type": "code",
   "execution_count": 63,
   "metadata": {
    "collapsed": true
   },
   "outputs": [],
   "source": [
    "def wyman_obj_vec_v2(parm,lig,rtot,data,eps=None):\n",
    "    k11 = parm[0]\n",
    "    k21 = parm[1]\n",
    "    k22 = parm[2]\n",
    "    l20 = parm[3]\n",
    "    \n",
    "    ligc = np.concatenate(lig)\n",
    "    datac = np.concatenate(data)\n",
    "    \n",
    "    rfree = (((-1 - k11*ligc)) + \\\n",
    "    (np.sqrt(np.concatenate((np.square((1 + k11*lig)) + \\\n",
    "    8.*l20*rtot*(1 + k21*lig + k21*k22*(np.square(lig)))))))) \\\n",
    "    / (4*l20*(1 + k21*ligc + k21*k22*(np.square(ligc))))    \n",
    "       \n",
    "    bfrac = (k11*ligc + l20*k21*rfree*ligc + \\\n",
    "    2*l20*k21*k22*rfree*(np.square(ligc))) \\\n",
    "    / (1 + 2*l20*rfree + k11*ligc + \\\n",
    "    2*l20*k21*rfree*ligc + 2*l20*k21*k22*rfree*(np.square(ligc)))\n",
    "    \n",
    "    residual = (bfrac - datac)\n",
    "    \n",
    "    if eps is None:\n",
    "        return residual\n",
    "    else:\n",
    "        weights = 1/np.square(np.concatenate(eps))\n",
    "        return (residual*weights)\n"
   ]
  },
  {
   "cell_type": "code",
   "execution_count": 40,
   "metadata": {
    "collapsed": false
   },
   "outputs": [
    {
     "data": {
      "text/plain": [
       "array([ array([ 0.00287218,  0.0057293 ,  0.01139886,  0.02256218,  0.04420898,\n",
       "        0.08495766,  0.15750031,  0.27442734,  0.43494373,  0.61140532,\n",
       "        0.76276266,  0.86736558,  0.92969257,  0.9637874 ,  0.98162164,\n",
       "        0.99074192,  0.99535363,  0.99767247]),\n",
       "       array([ 0.00212201,  0.00423545,  0.00843679,  0.01673873,  0.03295043,\n",
       "        0.06388646,  0.12039349,  0.21575195,  0.3567863 ,  0.52877848,\n",
       "        0.69457034,  0.82154023,  0.90281887,  0.9492021 ,  0.97402094,\n",
       "        0.99668726]),\n",
       "       array([ 0.00183875,  0.00367067,  0.00731417,  0.01452088,  0.02862117,\n",
       "        0.05563083,  0.10532975,  0.19035641,  0.3191859 ,  0.4825415 ,\n",
       "        0.64899583,  0.78533335,  0.87867192,  0.93494879,  0.96622051,\n",
       "        0.98277258,  0.99129847,  0.99562683]),\n",
       "       array([ 0.0016043 ,  0.00320301,  0.00638376,  0.0126794 ,  0.02501369,\n",
       "        0.04870285,  0.09251507,  0.16819537,  0.28486929,  0.43720977,\n",
       "        0.5996735 ,  0.741466  ,  0.84618727,  0.91418393,  0.97630818,\n",
       "        0.98793257]),\n",
       "       array([ 0.00136943,  0.00273433,  0.00545065,  0.01083001,  0.0213806 ,\n",
       "        0.04168745,  0.0794006 ,  0.14506012,  0.24774887,  0.38522666,\n",
       "        0.53808452,  0.68052705,  0.7957575 ,  0.93237661,  0.98135685,\n",
       "        0.99050848])], dtype=object)"
      ]
     },
     "execution_count": 40,
     "metadata": {},
     "output_type": "execute_result"
    }
   ],
   "source": [
    "loopres"
   ]
  },
  {
   "cell_type": "code",
   "execution_count": 41,
   "metadata": {
    "collapsed": true
   },
   "outputs": [],
   "source": [
    "bindset = loopres"
   ]
  },
  {
   "cell_type": "code",
   "execution_count": 43,
   "metadata": {
    "collapsed": false
   },
   "outputs": [
    {
     "data": {
      "text/plain": [
       "16"
      ]
     },
     "execution_count": 43,
     "metadata": {},
     "output_type": "execute_result"
    }
   ],
   "source": [
    "bindset[1].size"
   ]
  },
  {
   "cell_type": "code",
   "execution_count": 48,
   "metadata": {
    "collapsed": true
   },
   "outputs": [],
   "source": [
    "bindset_n = np.array([np.random.normal(1.0,0.05,bindset[i].size)*bindset[i] for i in range(bindset.size)])"
   ]
  },
  {
   "cell_type": "code",
   "execution_count": 49,
   "metadata": {
    "collapsed": true
   },
   "outputs": [],
   "source": [
    "import matplotlib.pyplot as plt"
   ]
  },
  {
   "cell_type": "code",
   "execution_count": 50,
   "metadata": {
    "collapsed": false
   },
   "outputs": [
    {
     "data": {
      "text/plain": [
       "array([ array([ 0.0027471 ,  0.00608773,  0.01212052,  0.02200194,  0.04352679,\n",
       "        0.08564635,  0.15472439,  0.25613948,  0.43198947,  0.61390922,\n",
       "        0.79112583,  0.89680078,  0.99051928,  0.97921867,  0.94641666,\n",
       "        1.00229117,  0.99340181,  1.01619424]),\n",
       "       array([ 0.00208812,  0.00440377,  0.00843088,  0.0161943 ,  0.03169703,\n",
       "        0.06154888,  0.12727988,  0.22980281,  0.36503152,  0.47251327,\n",
       "        0.67260439,  0.84946156,  0.92259964,  0.975048  ,  0.91160142,\n",
       "        0.94996214]),\n",
       "       array([ 0.00199538,  0.00373431,  0.00723167,  0.01399374,  0.03036665,\n",
       "        0.05522145,  0.10514177,  0.20798013,  0.35164728,  0.44430104,\n",
       "        0.61016814,  0.75567037,  0.82810201,  1.00301349,  0.98045916,\n",
       "        0.99602268,  0.99577782,  1.02716262]),\n",
       "       array([ 0.00166542,  0.00341853,  0.00650333,  0.01199985,  0.0235626 ,\n",
       "        0.04816251,  0.0903696 ,  0.16146643,  0.29580609,  0.47485098,\n",
       "        0.63230227,  0.73280907,  0.83434105,  0.90730268,  0.98009661,\n",
       "        0.98772611]),\n",
       "       array([ 0.00128649,  0.00272734,  0.00558063,  0.01033527,  0.02177902,\n",
       "        0.04267497,  0.07838954,  0.15097566,  0.24964455,  0.40694498,\n",
       "        0.55657083,  0.66759101,  0.83880792,  0.90531472,  0.99821798,\n",
       "        1.06645179])], dtype=object)"
      ]
     },
     "execution_count": 50,
     "metadata": {},
     "output_type": "execute_result"
    }
   ],
   "source": [
    "bindset_n"
   ]
  },
  {
   "cell_type": "code",
   "execution_count": 52,
   "metadata": {
    "collapsed": false
   },
   "outputs": [],
   "source": [
    "%matplotlib inline"
   ]
  },
  {
   "cell_type": "code",
   "execution_count": 53,
   "metadata": {
    "collapsed": false
   },
   "outputs": [
    {
     "data": {
      "image/png": "[encoded data removed]",
      "text/plain": [
       "<matplotlib.figure.Figure at 0x10ac68550>"
      ]
     },
     "metadata": {},
     "output_type": "display_data"
    }
   ],
   "source": [
    "for i in range(bindset_n.size):\n",
    "    plt.semilogx(ligset[i],bindset[i],'o')"
   ]
  },
  {
   "cell_type": "code",
   "execution_count": 56,
   "metadata": {
    "collapsed": false
   },
   "outputs": [
    {
     "data": {
      "text/plain": [
       "array([  1.25074232e-04,  -3.58426575e-04,  -7.21662634e-04,\n",
       "         5.60241088e-04,   6.82192576e-04,  -6.88687827e-04,\n",
       "         2.77592310e-03,   1.82878564e-02,   2.95425749e-03,\n",
       "        -2.50390066e-03,  -2.83631698e-02,  -2.94351992e-02,\n",
       "        -6.08267060e-02,  -1.54312710e-02,   3.52049783e-02,\n",
       "        -1.15492466e-02,   1.95181850e-03,  -1.85217746e-02,\n",
       "         3.38898312e-05,  -1.68323317e-04,   5.90841032e-06,\n",
       "         5.44433724e-04,   1.25339307e-03,   2.33757785e-03,\n",
       "        -6.88638183e-03,  -1.40508614e-02,  -8.24522016e-03,\n",
       "         5.62652156e-02,   2.19659441e-02,  -2.79213294e-02,\n",
       "        -1.97807678e-02,  -2.58459026e-02,   6.24195229e-02,\n",
       "         4.67251216e-02,  -1.56631933e-04,  -6.36384810e-05,\n",
       "         8.25069770e-05,   5.27139693e-04,  -1.74548045e-03,\n",
       "         4.09387834e-04,   1.87983501e-04,  -1.76237247e-02,\n",
       "        -3.24613882e-02,   3.82404623e-02,   3.88276918e-02,\n",
       "         2.96629760e-02,   5.05699100e-02,  -6.80646954e-02,\n",
       "        -1.42386478e-02,  -1.32501026e-02,  -4.47935550e-03,\n",
       "        -3.15357949e-02,  -6.11178132e-05,  -2.15512883e-04,\n",
       "        -1.19567274e-04,   6.79552195e-04,   1.45108757e-03,\n",
       "         5.40342075e-04,   2.14547731e-03,   6.72893457e-03,\n",
       "        -1.09367966e-02,  -3.76412144e-02,  -3.26287768e-02,\n",
       "         8.65693077e-03,   1.18462239e-02,   6.88125787e-03,\n",
       "        -3.78842766e-03,   2.06461219e-04,   8.29415921e-05,\n",
       "         6.99115437e-06,  -1.29972223e-04,   4.94737746e-04,\n",
       "        -3.98417814e-04,  -9.87527446e-04,   1.01105886e-03,\n",
       "        -5.91553389e-03,  -1.89568319e-03,  -2.17183129e-02,\n",
       "        -1.84863061e-02,   1.29360413e-02,  -4.30504220e-02,\n",
       "         2.70618878e-02,  -1.68611355e-02,  -7.59433133e-02])"
      ]
     },
     "execution_count": 56,
     "metadata": {},
     "output_type": "execute_result"
    }
   ],
   "source": [
    "wyman_obj_vec_v2(parmvec,ligset,rtots,bindset_n)"
   ]
  },
  {
   "cell_type": "code",
   "execution_count": 57,
   "metadata": {
    "collapsed": true
   },
   "outputs": [],
   "source": [
    "err = 0.05*bindset_n"
   ]
  },
  {
   "cell_type": "code",
   "execution_count": 60,
   "metadata": {
    "collapsed": false
   },
   "outputs": [
    {
     "data": {
      "image/png": "[encoded data removed]",
      "text/plain": [
       "<matplotlib.figure.Figure at 0x10e04d0f0>"
      ]
     },
     "metadata": {},
     "output_type": "display_data"
    }
   ],
   "source": [
    "for i in err:\n",
    "    plt.plot(i)"
   ]
  },
  {
   "cell_type": "code",
   "execution_count": 64,
   "metadata": {
    "collapsed": false
   },
   "outputs": [
    {
     "data": {
      "text/plain": [
       "array([  6.62946680e+03,  -3.86856069e+03,  -1.96495050e+03,\n",
       "         4.62927614e+02,   1.44030270e+02,  -3.75547353e+01,\n",
       "         4.63820414e+01,   1.11498684e+02,   6.33230767e+00,\n",
       "        -2.65747243e+00,  -1.81269039e+01,  -1.46397957e+01,\n",
       "        -2.47986719e+01,  -6.43727879e+00,   1.57216933e+01,\n",
       "        -4.59860213e+00,   7.91133043e-01,  -7.17445843e+00,\n",
       "         3.10897255e+03,  -3.47179719e+03,   3.32494514e+01,\n",
       "         8.30387085e+02,   4.99010936e+02,   2.46823063e+02,\n",
       "        -1.70032370e+02,  -1.06427111e+02,  -2.47514997e+01,\n",
       "         1.00802653e+02,   1.94218443e+01,  -1.54777784e+01,\n",
       "        -9.29558177e+00,  -1.08742597e+01,   3.00448783e+01,\n",
       "         2.07108459e+01,  -1.57357865e+04,  -1.82540604e+03,\n",
       "         6.31064712e+02,   1.07675860e+03,  -7.57148625e+02,\n",
       "         5.37006280e+01,   6.80188355e+00,  -1.62972370e+02,\n",
       "        -1.05005620e+02,   7.74869326e+01,   4.17159863e+01,\n",
       "         2.07782955e+01,   2.94974511e+01,  -2.70625271e+01,\n",
       "        -5.92474579e+00,  -5.34245383e+00,  -1.80696867e+00,\n",
       "        -1.19559850e+01,  -8.81412606e+03,  -7.37659013e+03,\n",
       "        -1.13083970e+03,   1.88769143e+03,   1.04545942e+03,\n",
       "         9.31773832e+01,   1.05084637e+02,   1.03238526e+02,\n",
       "        -4.99960745e+01,  -6.67742375e+01,  -3.26445959e+01,\n",
       "         6.44825587e+00,   6.80695232e+00,   3.34367025e+00,\n",
       "        -1.57754304e+00,   8.46496968e-02,   2.00457252e+04,\n",
       "         3.75950211e+02,  -1.66933960e+03,   1.85264012e+03,\n",
       "        -3.35986802e+02,  -2.16901533e+02,   6.58142854e+01,\n",
       "        -1.03810215e+02,  -1.21669459e+01,  -5.24583581e+01,\n",
       "        -2.38709255e+01,   1.16102193e+01,  -2.44744170e+01,\n",
       "         1.32074482e+01,  -6.76855605e+00,  -2.67095810e+01])"
      ]
     },
     "execution_count": 64,
     "metadata": {},
     "output_type": "execute_result"
    }
   ],
   "source": [
    "wyman_obj_vec_v2(parmvec,ligset,rtots,bindset_n,err)"
   ]
  },
  {
   "cell_type": "code",
   "execution_count": 65,
   "metadata": {
    "collapsed": true
   },
   "outputs": [],
   "source": [
    "from scipy import optimize"
   ]
  },
  {
   "cell_type": "code",
   "execution_count": 67,
   "metadata": {
    "collapsed": false
   },
   "outputs": [
    {
     "name": "stdout",
     "output_type": "stream",
     "text": [
      "Help on function minimize in module scipy.optimize._minimize:\n",
      "\n",
      "minimize(fun, x0, args=(), method=None, jac=None, hess=None, hessp=None, bounds=None, constraints=(), tol=None, callback=None, options=None)\n",
      "    Minimization of scalar function of one or more variables.\n",
      "    \n",
      "    In general, the optimization problems are of the form::\n",
      "    \n",
      "        minimize f(x) subject to\n",
      "    \n",
      "        g_i(x) >= 0,  i = 1,...,m\n",
      "        h_j(x)  = 0,  j = 1,...,p\n",
      "    \n",
      "    where x is a vector of one or more variables.\n",
      "    ``g_i(x)`` are the inequality constraints.\n",
      "    ``h_j(x)`` are the equality constrains.\n",
      "    \n",
      "    Optionally, the lower and upper bounds for each element in x can also be\n",
      "    specified using the `bounds` argument.\n",
      "    \n",
      "    Parameters\n",
      "    ----------\n",
      "    fun : callable\n",
      "        Objective function.\n",
      "    x0 : ndarray\n",
      "        Initial guess.\n",
      "    args : tuple, optional\n",
      "        Extra arguments passed to the objective function and its\n",
      "        derivatives (Jacobian, Hessian).\n",
      "    method : str or callable, optional\n",
      "        Type of solver.  Should be one of\n",
      "    \n",
      "            - 'Nelder-Mead' :ref:`(see here) <optimize.minimize-neldermead>`\n",
      "            - 'Powell'      :ref:`(see here) <optimize.minimize-powell>`\n",
      "            - 'CG'          :ref:`(see here) <optimize.minimize-cg>`\n",
      "            - 'BFGS'        :ref:`(see here) <optimize.minimize-bfgs>`\n",
      "            - 'Newton-CG'   :ref:`(see here) <optimize.minimize-newtoncg>`\n",
      "            - 'L-BFGS-B'    :ref:`(see here) <optimize.minimize-lbfgsb>`\n",
      "            - 'TNC'         :ref:`(see here) <optimize.minimize-tnc>`\n",
      "            - 'COBYLA'      :ref:`(see here) <optimize.minimize-cobyla>`\n",
      "            - 'SLSQP'       :ref:`(see here) <optimize.minimize-slsqp>`\n",
      "            - 'dogleg'      :ref:`(see here) <optimize.minimize-dogleg>`\n",
      "            - 'trust-ncg'   :ref:`(see here) <optimize.minimize-trustncg>`\n",
      "            - custom - a callable object (added in version 0.14.0),\n",
      "              see below for description.\n",
      "    \n",
      "        If not given, chosen to be one of ``BFGS``, ``L-BFGS-B``, ``SLSQP``,\n",
      "        depending if the problem has constraints or bounds.\n",
      "    jac : bool or callable, optional\n",
      "        Jacobian (gradient) of objective function. Only for CG, BFGS,\n",
      "        Newton-CG, L-BFGS-B, TNC, SLSQP, dogleg, trust-ncg.\n",
      "        If `jac` is a Boolean and is True, `fun` is assumed to return the\n",
      "        gradient along with the objective function. If False, the\n",
      "        gradient will be estimated numerically.\n",
      "        `jac` can also be a callable returning the gradient of the\n",
      "        objective. In this case, it must accept the same arguments as `fun`.\n",
      "    hess, hessp : callable, optional\n",
      "        Hessian (matrix of second-order derivatives) of objective function or\n",
      "        Hessian of objective function times an arbitrary vector p.  Only for\n",
      "        Newton-CG, dogleg, trust-ncg.\n",
      "        Only one of `hessp` or `hess` needs to be given.  If `hess` is\n",
      "        provided, then `hessp` will be ignored.  If neither `hess` nor\n",
      "        `hessp` is provided, then the Hessian product will be approximated\n",
      "        using finite differences on `jac`. `hessp` must compute the Hessian\n",
      "        times an arbitrary vector.\n",
      "    bounds : sequence, optional\n",
      "        Bounds for variables (only for L-BFGS-B, TNC and SLSQP).\n",
      "        ``(min, max)`` pairs for each element in ``x``, defining\n",
      "        the bounds on that parameter. Use None for one of ``min`` or\n",
      "        ``max`` when there is no bound in that direction.\n",
      "    constraints : dict or sequence of dict, optional\n",
      "        Constraints definition (only for COBYLA and SLSQP).\n",
      "        Each constraint is defined in a dictionary with fields:\n",
      "    \n",
      "            type : str\n",
      "                Constraint type: 'eq' for equality, 'ineq' for inequality.\n",
      "            fun : callable\n",
      "                The function defining the constraint.\n",
      "            jac : callable, optional\n",
      "                The Jacobian of `fun` (only for SLSQP).\n",
      "            args : sequence, optional\n",
      "                Extra arguments to be passed to the function and Jacobian.\n",
      "    \n",
      "        Equality constraint means that the constraint function result is to\n",
      "        be zero whereas inequality means that it is to be non-negative.\n",
      "        Note that COBYLA only supports inequality constraints.\n",
      "    tol : float, optional\n",
      "        Tolerance for termination. For detailed control, use solver-specific\n",
      "        options.\n",
      "    options : dict, optional\n",
      "        A dictionary of solver options. All methods accept the following\n",
      "        generic options:\n",
      "    \n",
      "            maxiter : int\n",
      "                Maximum number of iterations to perform.\n",
      "            disp : bool\n",
      "                Set to True to print convergence messages.\n",
      "    \n",
      "        For method-specific options, see :func:`show_options()`.\n",
      "    callback : callable, optional\n",
      "        Called after each iteration, as ``callback(xk)``, where ``xk`` is the\n",
      "        current parameter vector.\n",
      "    \n",
      "    Returns\n",
      "    -------\n",
      "    res : OptimizeResult\n",
      "        The optimization result represented as a ``OptimizeResult`` object.\n",
      "        Important attributes are: ``x`` the solution array, ``success`` a\n",
      "        Boolean flag indicating if the optimizer exited successfully and\n",
      "        ``message`` which describes the cause of the termination. See\n",
      "        `OptimizeResult` for a description of other attributes.\n",
      "    \n",
      "    \n",
      "    See also\n",
      "    --------\n",
      "    minimize_scalar : Interface to minimization algorithms for scalar\n",
      "        univariate functions\n",
      "    show_options : Additional options accepted by the solvers\n",
      "    \n",
      "    Notes\n",
      "    -----\n",
      "    This section describes the available solvers that can be selected by the\n",
      "    'method' parameter. The default method is *BFGS*.\n",
      "    \n",
      "    **Unconstrained minimization**\n",
      "    \n",
      "    Method :ref:`Nelder-Mead <optimize.minimize-neldermead>` uses the\n",
      "    Simplex algorithm [1]_, [2]_. This algorithm is robust in many\n",
      "    applications. However, if numerical computation of derivative can be\n",
      "    trusted, other algorithms using the first and/or second derivatives\n",
      "    information might be preferred for their better performance in\n",
      "    general.\n",
      "    \n",
      "    Method :ref:`Powell <optimize.minimize-powell>` is a modification\n",
      "    of Powell's method [3]_, [4]_ which is a conjugate direction\n",
      "    method. It performs sequential one-dimensional minimizations along\n",
      "    each vector of the directions set (`direc` field in `options` and\n",
      "    `info`), which is updated at each iteration of the main\n",
      "    minimization loop. The function need not be differentiable, and no\n",
      "    derivatives are taken.\n",
      "    \n",
      "    Method :ref:`CG <optimize.minimize-cg>` uses a nonlinear conjugate\n",
      "    gradient algorithm by Polak and Ribiere, a variant of the\n",
      "    Fletcher-Reeves method described in [5]_ pp.  120-122. Only the\n",
      "    first derivatives are used.\n",
      "    \n",
      "    Method :ref:`BFGS <optimize.minimize-bfgs>` uses the quasi-Newton\n",
      "    method of Broyden, Fletcher, Goldfarb, and Shanno (BFGS) [5]_\n",
      "    pp. 136. It uses the first derivatives only. BFGS has proven good\n",
      "    performance even for non-smooth optimizations. This method also\n",
      "    returns an approximation of the Hessian inverse, stored as\n",
      "    `hess_inv` in the OptimizeResult object.\n",
      "    \n",
      "    Method :ref:`Newton-CG <optimize.minimize-newtoncg>` uses a\n",
      "    Newton-CG algorithm [5]_ pp. 168 (also known as the truncated\n",
      "    Newton method). It uses a CG method to the compute the search\n",
      "    direction. See also *TNC* method for a box-constrained\n",
      "    minimization with a similar algorithm.\n",
      "    \n",
      "    Method :ref:`dogleg <optimize.minimize-dogleg>` uses the dog-leg\n",
      "    trust-region algorithm [5]_ for unconstrained minimization. This\n",
      "    algorithm requires the gradient and Hessian; furthermore the\n",
      "    Hessian is required to be positive definite.\n",
      "    \n",
      "    Method :ref:`trust-ncg <optimize.minimize-trustncg>` uses the\n",
      "    Newton conjugate gradient trust-region algorithm [5]_ for\n",
      "    unconstrained minimization. This algorithm requires the gradient\n",
      "    and either the Hessian or a function that computes the product of\n",
      "    the Hessian with a given vector.\n",
      "    \n",
      "    **Constrained minimization**\n",
      "    \n",
      "    Method :ref:`L-BFGS-B <optimize.minimize-lbfgsb>` uses the L-BFGS-B\n",
      "    algorithm [6]_, [7]_ for bound constrained minimization.\n",
      "    \n",
      "    Method :ref:`TNC <optimize.minimize-tnc>` uses a truncated Newton\n",
      "    algorithm [5]_, [8]_ to minimize a function with variables subject\n",
      "    to bounds. This algorithm uses gradient information; it is also\n",
      "    called Newton Conjugate-Gradient. It differs from the *Newton-CG*\n",
      "    method described above as it wraps a C implementation and allows\n",
      "    each variable to be given upper and lower bounds.\n",
      "    \n",
      "    Method :ref:`COBYLA <optimize.minimize-cobyla>` uses the\n",
      "    Constrained Optimization BY Linear Approximation (COBYLA) method\n",
      "    [9]_, [10]_, [11]_. The algorithm is based on linear\n",
      "    approximations to the objective function and each constraint. The\n",
      "    method wraps a FORTRAN implementation of the algorithm. The\n",
      "    constraints functions 'fun' may return either a single number\n",
      "    or an array or list of numbers.\n",
      "    \n",
      "    Method :ref:`SLSQP <optimize.minimize-slsqp>` uses Sequential\n",
      "    Least SQuares Programming to minimize a function of several\n",
      "    variables with any combination of bounds, equality and inequality\n",
      "    constraints. The method wraps the SLSQP Optimization subroutine\n",
      "    originally implemented by Dieter Kraft [12]_. Note that the\n",
      "    wrapper handles infinite values in bounds by converting them into\n",
      "    large floating values.\n",
      "    \n",
      "    **Custom minimizers**\n",
      "    \n",
      "    It may be useful to pass a custom minimization method, for example\n",
      "    when using a frontend to this method such as `scipy.optimize.basinhopping`\n",
      "    or a different library.  You can simply pass a callable as the ``method``\n",
      "    parameter.\n",
      "    \n",
      "    The callable is called as ``method(fun, x0, args, **kwargs, **options)``\n",
      "    where ``kwargs`` corresponds to any other parameters passed to `minimize`\n",
      "    (such as `callback`, `hess`, etc.), except the `options` dict, which has\n",
      "    its contents also passed as `method` parameters pair by pair.  Also, if\n",
      "    `jac` has been passed as a bool type, `jac` and `fun` are mangled so that\n",
      "    `fun` returns just the function values and `jac` is converted to a function\n",
      "    returning the Jacobian.  The method shall return an ``OptimizeResult``\n",
      "    object.\n",
      "    \n",
      "    The provided `method` callable must be able to accept (and possibly ignore)\n",
      "    arbitrary parameters; the set of parameters accepted by `minimize` may\n",
      "    expand in future versions and then these parameters will be passed to\n",
      "    the method.  You can find an example in the scipy.optimize tutorial.\n",
      "    \n",
      "    .. versionadded:: 0.11.0\n",
      "    \n",
      "    References\n",
      "    ----------\n",
      "    .. [1] Nelder, J A, and R Mead. 1965. A Simplex Method for Function\n",
      "        Minimization. The Computer Journal 7: 308-13.\n",
      "    .. [2] Wright M H. 1996. Direct search methods: Once scorned, now\n",
      "        respectable, in Numerical Analysis 1995: Proceedings of the 1995\n",
      "        Dundee Biennial Conference in Numerical Analysis (Eds. D F\n",
      "        Griffiths and G A Watson). Addison Wesley Longman, Harlow, UK.\n",
      "        191-208.\n",
      "    .. [3] Powell, M J D. 1964. An efficient method for finding the minimum of\n",
      "       a function of several variables without calculating derivatives. The\n",
      "       Computer Journal 7: 155-162.\n",
      "    .. [4] Press W, S A Teukolsky, W T Vetterling and B P Flannery.\n",
      "       Numerical Recipes (any edition), Cambridge University Press.\n",
      "    .. [5] Nocedal, J, and S J Wright. 2006. Numerical Optimization.\n",
      "       Springer New York.\n",
      "    .. [6] Byrd, R H and P Lu and J. Nocedal. 1995. A Limited Memory\n",
      "       Algorithm for Bound Constrained Optimization. SIAM Journal on\n",
      "       Scientific and Statistical Computing 16 (5): 1190-1208.\n",
      "    .. [7] Zhu, C and R H Byrd and J Nocedal. 1997. L-BFGS-B: Algorithm\n",
      "       778: L-BFGS-B, FORTRAN routines for large scale bound constrained\n",
      "       optimization. ACM Transactions on Mathematical Software 23 (4):\n",
      "       550-560.\n",
      "    .. [8] Nash, S G. Newton-Type Minimization Via the Lanczos Method.\n",
      "       1984. SIAM Journal of Numerical Analysis 21: 770-778.\n",
      "    .. [9] Powell, M J D. A direct search optimization method that models\n",
      "       the objective and constraint functions by linear interpolation.\n",
      "       1994. Advances in Optimization and Numerical Analysis, eds. S. Gomez\n",
      "       and J-P Hennart, Kluwer Academic (Dordrecht), 51-67.\n",
      "    .. [10] Powell M J D. Direct search algorithms for optimization\n",
      "       calculations. 1998. Acta Numerica 7: 287-336.\n",
      "    .. [11] Powell M J D. A view of algorithms for optimization without\n",
      "       derivatives. 2007.Cambridge University Technical Report DAMTP\n",
      "       2007/NA03\n",
      "    .. [12] Kraft, D. A software package for sequential quadratic\n",
      "       programming. 1988. Tech. Rep. DFVLR-FB 88-28, DLR German Aerospace\n",
      "       Center -- Institute for Flight Mechanics, Koln, Germany.\n",
      "    \n",
      "    Examples\n",
      "    --------\n",
      "    Let us consider the problem of minimizing the Rosenbrock function. This\n",
      "    function (and its respective derivatives) is implemented in `rosen`\n",
      "    (resp. `rosen_der`, `rosen_hess`) in the `scipy.optimize`.\n",
      "    \n",
      "    >>> from scipy.optimize import minimize, rosen, rosen_der\n",
      "    \n",
      "    A simple application of the *Nelder-Mead* method is:\n",
      "    \n",
      "    >>> x0 = [1.3, 0.7, 0.8, 1.9, 1.2]\n",
      "    >>> res = minimize(rosen, x0, method='Nelder-Mead', tol=1e-6)\n",
      "    >>> res.x\n",
      "    array([ 1.,  1.,  1.,  1.,  1.])\n",
      "    \n",
      "    Now using the *BFGS* algorithm, using the first derivative and a few\n",
      "    options:\n",
      "    \n",
      "    >>> res = minimize(rosen, x0, method='BFGS', jac=rosen_der,\n",
      "    ...                options={'gtol': 1e-6, 'disp': True})\n",
      "    Optimization terminated successfully.\n",
      "             Current function value: 0.000000\n",
      "             Iterations: 26\n",
      "             Function evaluations: 31\n",
      "             Gradient evaluations: 31\n",
      "    >>> res.x\n",
      "    array([ 1.,  1.,  1.,  1.,  1.])\n",
      "    >>> print(res.message)\n",
      "    Optimization terminated successfully.\n",
      "    >>> res.hess_inv\n",
      "    array([[ 0.00749589,  0.01255155,  0.02396251,  0.04750988,  0.09495377],  # may vary\n",
      "           [ 0.01255155,  0.02510441,  0.04794055,  0.09502834,  0.18996269],\n",
      "           [ 0.02396251,  0.04794055,  0.09631614,  0.19092151,  0.38165151],\n",
      "           [ 0.04750988,  0.09502834,  0.19092151,  0.38341252,  0.7664427 ],\n",
      "           [ 0.09495377,  0.18996269,  0.38165151,  0.7664427,   1.53713523]])\n",
      "    \n",
      "    \n",
      "    Next, consider a minimization problem with several constraints (namely\n",
      "    Example 16.4 from [5]_). The objective function is:\n",
      "    \n",
      "    >>> fun = lambda x: (x[0] - 1)**2 + (x[1] - 2.5)**2\n",
      "    \n",
      "    There are three constraints defined as:\n",
      "    \n",
      "    >>> cons = ({'type': 'ineq', 'fun': lambda x:  x[0] - 2 * x[1] + 2},\n",
      "    ...         {'type': 'ineq', 'fun': lambda x: -x[0] - 2 * x[1] + 6},\n",
      "    ...         {'type': 'ineq', 'fun': lambda x: -x[0] + 2 * x[1] + 2})\n",
      "    \n",
      "    And variables must be positive, hence the following bounds:\n",
      "    \n",
      "    >>> bnds = ((0, None), (0, None))\n",
      "    \n",
      "    The optimization problem is solved using the SLSQP method as:\n",
      "    \n",
      "    >>> res = minimize(fun, (2, 0), method='SLSQP', bounds=bnds,\n",
      "    ...                constraints=cons)\n",
      "    \n",
      "    It should converge to the theoretical solution (1.4 ,1.7).\n",
      "\n"
     ]
    }
   ],
   "source": [
    "help(optimize.minimize)"
   ]
  },
  {
   "cell_type": "code",
   "execution_count": 68,
   "metadata": {
    "collapsed": true
   },
   "outputs": [],
   "source": [
    "parmfit = np.ones(4)"
   ]
  },
  {
   "cell_type": "code",
   "execution_count": 69,
   "metadata": {
    "collapsed": false
   },
   "outputs": [
    {
     "data": {
      "text/plain": [
       "array([ 1.,  1.,  1.,  1.])"
      ]
     },
     "execution_count": 69,
     "metadata": {},
     "output_type": "execute_result"
    }
   ],
   "source": [
    "parmfit"
   ]
  },
  {
   "cell_type": "code",
   "execution_count": 70,
   "metadata": {
    "collapsed": false
   },
   "outputs": [
    {
     "ename": "ValueError",
     "evalue": "setting an array element with a sequence.",
     "output_type": "error",
     "traceback": [
      "\u001b[0;31m---------------------------------------------------------------------------\u001b[0m",
      "\u001b[0;31mValueError\u001b[0m                                Traceback (most recent call last)",
      "\u001b[0;32m<ipython-input-70-7345883e990e>\u001b[0m in \u001b[0;36m<module>\u001b[0;34m()\u001b[0m\n\u001b[0;32m----> 1\u001b[0;31m \u001b[0moptimize\u001b[0m\u001b[0;34m.\u001b[0m\u001b[0mminimize\u001b[0m\u001b[0;34m(\u001b[0m\u001b[0mwyman_obj_vec_v2\u001b[0m\u001b[0;34m,\u001b[0m\u001b[0mparmfit\u001b[0m\u001b[0;34m,\u001b[0m\u001b[0margs\u001b[0m\u001b[0;34m=\u001b[0m\u001b[0;34m(\u001b[0m\u001b[0mligset\u001b[0m\u001b[0;34m,\u001b[0m\u001b[0mrtots\u001b[0m\u001b[0;34m,\u001b[0m\u001b[0mbindset_n\u001b[0m\u001b[0;34m)\u001b[0m\u001b[0;34m)\u001b[0m\u001b[0;34m\u001b[0m\u001b[0m\n\u001b[0m",
      "\u001b[0;32m/Users/michael/miniconda3/envs/fitter/lib/python3.5/site-packages/scipy/optimize/_minimize.py\u001b[0m in \u001b[0;36mminimize\u001b[0;34m(fun, x0, args, method, jac, hess, hessp, bounds, constraints, tol, callback, options)\u001b[0m\n\u001b[1;32m    442\u001b[0m         \u001b[0;32mreturn\u001b[0m \u001b[0m_minimize_cg\u001b[0m\u001b[0;34m(\u001b[0m\u001b[0mfun\u001b[0m\u001b[0;34m,\u001b[0m \u001b[0mx0\u001b[0m\u001b[0;34m,\u001b[0m \u001b[0margs\u001b[0m\u001b[0;34m,\u001b[0m \u001b[0mjac\u001b[0m\u001b[0;34m,\u001b[0m \u001b[0mcallback\u001b[0m\u001b[0;34m,\u001b[0m \u001b[0;34m**\u001b[0m\u001b[0moptions\u001b[0m\u001b[0;34m)\u001b[0m\u001b[0;34m\u001b[0m\u001b[0m\n\u001b[1;32m    443\u001b[0m     \u001b[0;32melif\u001b[0m \u001b[0mmeth\u001b[0m \u001b[0;34m==\u001b[0m \u001b[0;34m'bfgs'\u001b[0m\u001b[0;34m:\u001b[0m\u001b[0;34m\u001b[0m\u001b[0m\n\u001b[0;32m--> 444\u001b[0;31m         \u001b[0;32mreturn\u001b[0m \u001b[0m_minimize_bfgs\u001b[0m\u001b[0;34m(\u001b[0m\u001b[0mfun\u001b[0m\u001b[0;34m,\u001b[0m \u001b[0mx0\u001b[0m\u001b[0;34m,\u001b[0m \u001b[0margs\u001b[0m\u001b[0;34m,\u001b[0m \u001b[0mjac\u001b[0m\u001b[0;34m,\u001b[0m \u001b[0mcallback\u001b[0m\u001b[0;34m,\u001b[0m \u001b[0;34m**\u001b[0m\u001b[0moptions\u001b[0m\u001b[0;34m)\u001b[0m\u001b[0;34m\u001b[0m\u001b[0m\n\u001b[0m\u001b[1;32m    445\u001b[0m     \u001b[0;32melif\u001b[0m \u001b[0mmeth\u001b[0m \u001b[0;34m==\u001b[0m \u001b[0;34m'newton-cg'\u001b[0m\u001b[0;34m:\u001b[0m\u001b[0;34m\u001b[0m\u001b[0m\n\u001b[1;32m    446\u001b[0m         return _minimize_newtoncg(fun, x0, args, jac, hess, hessp, callback,\n",
      "\u001b[0;32m/Users/michael/miniconda3/envs/fitter/lib/python3.5/site-packages/scipy/optimize/optimize.py\u001b[0m in \u001b[0;36m_minimize_bfgs\u001b[0;34m(fun, x0, args, jac, callback, gtol, norm, eps, maxiter, disp, return_all, **unknown_options)\u001b[0m\n\u001b[1;32m    911\u001b[0m     \u001b[0;32melse\u001b[0m\u001b[0;34m:\u001b[0m\u001b[0;34m\u001b[0m\u001b[0m\n\u001b[1;32m    912\u001b[0m         \u001b[0mgrad_calls\u001b[0m\u001b[0;34m,\u001b[0m \u001b[0mmyfprime\u001b[0m \u001b[0;34m=\u001b[0m \u001b[0mwrap_function\u001b[0m\u001b[0;34m(\u001b[0m\u001b[0mfprime\u001b[0m\u001b[0;34m,\u001b[0m \u001b[0margs\u001b[0m\u001b[0;34m)\u001b[0m\u001b[0;34m\u001b[0m\u001b[0m\n\u001b[0;32m--> 913\u001b[0;31m     \u001b[0mgfk\u001b[0m \u001b[0;34m=\u001b[0m \u001b[0mmyfprime\u001b[0m\u001b[0;34m(\u001b[0m\u001b[0mx0\u001b[0m\u001b[0;34m)\u001b[0m\u001b[0;34m\u001b[0m\u001b[0m\n\u001b[0m\u001b[1;32m    914\u001b[0m     \u001b[0mk\u001b[0m \u001b[0;34m=\u001b[0m \u001b[0;36m0\u001b[0m\u001b[0;34m\u001b[0m\u001b[0m\n\u001b[1;32m    915\u001b[0m     \u001b[0mN\u001b[0m \u001b[0;34m=\u001b[0m \u001b[0mlen\u001b[0m\u001b[0;34m(\u001b[0m\u001b[0mx0\u001b[0m\u001b[0;34m)\u001b[0m\u001b[0;34m\u001b[0m\u001b[0m\n",
      "\u001b[0;32m/Users/michael/miniconda3/envs/fitter/lib/python3.5/site-packages/scipy/optimize/optimize.py\u001b[0m in \u001b[0;36mfunction_wrapper\u001b[0;34m(*wrapper_args)\u001b[0m\n\u001b[1;32m    290\u001b[0m     \u001b[0;32mdef\u001b[0m \u001b[0mfunction_wrapper\u001b[0m\u001b[0;34m(\u001b[0m\u001b[0;34m*\u001b[0m\u001b[0mwrapper_args\u001b[0m\u001b[0;34m)\u001b[0m\u001b[0;34m:\u001b[0m\u001b[0;34m\u001b[0m\u001b[0m\n\u001b[1;32m    291\u001b[0m         \u001b[0mncalls\u001b[0m\u001b[0;34m[\u001b[0m\u001b[0;36m0\u001b[0m\u001b[0;34m]\u001b[0m \u001b[0;34m+=\u001b[0m \u001b[0;36m1\u001b[0m\u001b[0;34m\u001b[0m\u001b[0m\n\u001b[0;32m--> 292\u001b[0;31m         \u001b[0;32mreturn\u001b[0m \u001b[0mfunction\u001b[0m\u001b[0;34m(\u001b[0m\u001b[0;34m*\u001b[0m\u001b[0;34m(\u001b[0m\u001b[0mwrapper_args\u001b[0m \u001b[0;34m+\u001b[0m \u001b[0margs\u001b[0m\u001b[0;34m)\u001b[0m\u001b[0;34m)\u001b[0m\u001b[0;34m\u001b[0m\u001b[0m\n\u001b[0m\u001b[1;32m    293\u001b[0m \u001b[0;34m\u001b[0m\u001b[0m\n\u001b[1;32m    294\u001b[0m     \u001b[0;32mreturn\u001b[0m \u001b[0mncalls\u001b[0m\u001b[0;34m,\u001b[0m \u001b[0mfunction_wrapper\u001b[0m\u001b[0;34m\u001b[0m\u001b[0m\n",
      "\u001b[0;32m/Users/michael/miniconda3/envs/fitter/lib/python3.5/site-packages/scipy/optimize/optimize.py\u001b[0m in \u001b[0;36mapprox_fprime\u001b[0;34m(xk, f, epsilon, *args)\u001b[0m\n\u001b[1;32m    686\u001b[0m \u001b[0;34m\u001b[0m\u001b[0m\n\u001b[1;32m    687\u001b[0m     \"\"\"\n\u001b[0;32m--> 688\u001b[0;31m     \u001b[0;32mreturn\u001b[0m \u001b[0m_approx_fprime_helper\u001b[0m\u001b[0;34m(\u001b[0m\u001b[0mxk\u001b[0m\u001b[0;34m,\u001b[0m \u001b[0mf\u001b[0m\u001b[0;34m,\u001b[0m \u001b[0mepsilon\u001b[0m\u001b[0;34m,\u001b[0m \u001b[0margs\u001b[0m\u001b[0;34m=\u001b[0m\u001b[0margs\u001b[0m\u001b[0;34m)\u001b[0m\u001b[0;34m\u001b[0m\u001b[0m\n\u001b[0m\u001b[1;32m    689\u001b[0m \u001b[0;34m\u001b[0m\u001b[0m\n\u001b[1;32m    690\u001b[0m \u001b[0;34m\u001b[0m\u001b[0m\n",
      "\u001b[0;32m/Users/michael/miniconda3/envs/fitter/lib/python3.5/site-packages/scipy/optimize/optimize.py\u001b[0m in \u001b[0;36m_approx_fprime_helper\u001b[0;34m(xk, f, epsilon, args, f0)\u001b[0m\n\u001b[1;32m    626\u001b[0m         \u001b[0mei\u001b[0m\u001b[0;34m[\u001b[0m\u001b[0mk\u001b[0m\u001b[0;34m]\u001b[0m \u001b[0;34m=\u001b[0m \u001b[0;36m1.0\u001b[0m\u001b[0;34m\u001b[0m\u001b[0m\n\u001b[1;32m    627\u001b[0m         \u001b[0md\u001b[0m \u001b[0;34m=\u001b[0m \u001b[0mepsilon\u001b[0m \u001b[0;34m*\u001b[0m \u001b[0mei\u001b[0m\u001b[0;34m\u001b[0m\u001b[0m\n\u001b[0;32m--> 628\u001b[0;31m         \u001b[0mgrad\u001b[0m\u001b[0;34m[\u001b[0m\u001b[0mk\u001b[0m\u001b[0;34m]\u001b[0m \u001b[0;34m=\u001b[0m \u001b[0;34m(\u001b[0m\u001b[0mf\u001b[0m\u001b[0;34m(\u001b[0m\u001b[0;34m*\u001b[0m\u001b[0;34m(\u001b[0m\u001b[0;34m(\u001b[0m\u001b[0mxk\u001b[0m \u001b[0;34m+\u001b[0m \u001b[0md\u001b[0m\u001b[0;34m,\u001b[0m\u001b[0;34m)\u001b[0m \u001b[0;34m+\u001b[0m \u001b[0margs\u001b[0m\u001b[0;34m)\u001b[0m\u001b[0;34m)\u001b[0m \u001b[0;34m-\u001b[0m \u001b[0mf0\u001b[0m\u001b[0;34m)\u001b[0m \u001b[0;34m/\u001b[0m \u001b[0md\u001b[0m\u001b[0;34m[\u001b[0m\u001b[0mk\u001b[0m\u001b[0;34m]\u001b[0m\u001b[0;34m\u001b[0m\u001b[0m\n\u001b[0m\u001b[1;32m    629\u001b[0m         \u001b[0mei\u001b[0m\u001b[0;34m[\u001b[0m\u001b[0mk\u001b[0m\u001b[0;34m]\u001b[0m \u001b[0;34m=\u001b[0m \u001b[0;36m0.0\u001b[0m\u001b[0;34m\u001b[0m\u001b[0m\n\u001b[1;32m    630\u001b[0m     \u001b[0;32mreturn\u001b[0m \u001b[0mgrad\u001b[0m\u001b[0;34m\u001b[0m\u001b[0m\n",
      "\u001b[0;31mValueError\u001b[0m: setting an array element with a sequence."
     ]
    }
   ],
   "source": [
    "optimize.minimize(wyman_obj_vec_v2,parmfit,args=(ligset,rtots,bindset_n))"
   ]
  },
  {
   "cell_type": "code",
   "execution_count": 71,
   "metadata": {
    "collapsed": false
   },
   "outputs": [
    {
     "data": {
      "text/plain": [
       "numpy.ndarray"
      ]
     },
     "execution_count": 71,
     "metadata": {},
     "output_type": "execute_result"
    }
   ],
   "source": [
    "type(bindset_n)"
   ]
  },
  {
   "cell_type": "code",
   "execution_count": 72,
   "metadata": {
    "collapsed": false
   },
   "outputs": [
    {
     "data": {
      "text/plain": [
       "numpy.ndarray"
      ]
     },
     "execution_count": 72,
     "metadata": {},
     "output_type": "execute_result"
    }
   ],
   "source": [
    "type(rtots)"
   ]
  },
  {
   "cell_type": "code",
   "execution_count": 73,
   "metadata": {
    "collapsed": false
   },
   "outputs": [
    {
     "data": {
      "text/plain": [
       "numpy.ndarray"
      ]
     },
     "execution_count": 73,
     "metadata": {},
     "output_type": "execute_result"
    }
   ],
   "source": [
    "type(ligset)"
   ]
  },
  {
   "cell_type": "code",
   "execution_count": 74,
   "metadata": {
    "collapsed": false
   },
   "outputs": [
    {
     "data": {
      "text/plain": [
       "numpy.ndarray"
      ]
     },
     "execution_count": 74,
     "metadata": {},
     "output_type": "execute_result"
    }
   ],
   "source": [
    "type(parmfit)"
   ]
  },
  {
   "cell_type": "code",
   "execution_count": 77,
   "metadata": {
    "collapsed": false
   },
   "outputs": [
    {
     "name": "stderr",
     "output_type": "stream",
     "text": [
      "/Users/michael/miniconda3/envs/fitter/lib/python3.5/site-packages/ipykernel/__main__.py:10: RuntimeWarning: invalid value encountered in sqrt\n"
     ]
    },
    {
     "data": {
      "text/plain": [
       " active_mask: array([ 0.,  0.,  0.,  0.])\n",
       "        cost: 0.053630363209856924\n",
       "         fun: array([ -6.50554633e-04,  -1.90344429e-03,  -3.78695501e-03,\n",
       "        -5.47307754e-03,  -1.10085663e-02,  -2.26652495e-02,\n",
       "        -3.62482564e-02,  -4.43483680e-02,  -8.25634200e-02,\n",
       "        -9.61891238e-02,  -1.09035670e-01,  -8.58779188e-02,\n",
       "        -9.49608575e-02,  -3.43272396e-02,   2.52452813e-02,\n",
       "        -1.66646598e-02,  -6.40791575e-04,  -1.98269359e-02,\n",
       "        -3.35610546e-05,  -3.03244296e-04,  -2.63992492e-04,\n",
       "         4.53439651e-06,   1.74236884e-04,   1.89035272e-04,\n",
       "        -1.11006701e-02,  -2.19499312e-02,  -2.15268717e-02,\n",
       "         3.79072438e-02,   2.42171628e-03,  -4.39637010e-02,\n",
       "        -3.05325328e-02,  -3.21614237e-02,   5.89824440e-02,\n",
       "         4.62612486e-02,   1.40701062e-05,   2.76196903e-04,\n",
       "         7.55968320e-04,   1.84973648e-03,   8.06334292e-04,\n",
       "         5.16839986e-03,   8.52459921e-03,  -4.50523713e-03,\n",
       "        -1.49020428e-02,   5.74660634e-02,   5.61095324e-02,\n",
       "         4.28345500e-02,   5.93295598e-02,  -6.28388813e-02,\n",
       "        -1.13491223e-02,  -1.17249939e-02,  -3.69504909e-03,\n",
       "        -3.11379754e-02,   2.71084807e-04,   4.46358333e-04,\n",
       "         1.19413442e-03,   3.26754037e-03,   6.47515071e-03,\n",
       "         1.00233386e-02,   1.91436772e-02,   3.46256748e-02,\n",
       "         2.91371740e-02,   1.09838434e-02,   1.67440448e-02,\n",
       "         5.09427693e-02,   4.27471113e-02,   2.65859928e-02,\n",
       "         2.35420956e-03,   3.40662774e-03,   5.06131193e-04,\n",
       "         8.50136260e-04,   1.54350262e-03,   3.79137488e-03,\n",
       "         6.00090176e-03,   1.10892858e-02,   2.26493324e-02,\n",
       "         2.95540028e-02,   4.88927560e-02,   3.94503020e-02,\n",
       "         4.27902076e-02,   6.42361017e-02,  -7.30990728e-03,\n",
       "         3.66692239e-02,  -1.60766428e-02,  -7.64133357e-02])\n",
       "        grad: array([-0.00165675,  0.00129515, -0.00149121, -0.00137925])\n",
       "         jac: array([[  9.86115666e-04,   4.82695798e-06,   1.80238983e-08,\n",
       "         -2.26834175e-06],\n",
       "       [  1.96403198e-03,   9.55016694e-06,   7.17141349e-08,\n",
       "         -4.52459990e-06],\n",
       "       [  3.89557273e-03,   1.86911590e-05,   2.83328052e-07,\n",
       "         -9.00116954e-06],\n",
       "       [  7.66358568e-03,   3.57950677e-05,   1.10546576e-06,\n",
       "         -1.78115282e-05],\n",
       "       [  1.48354439e-02,   6.56089346e-05,   4.20939085e-06,\n",
       "         -3.48731012e-05],\n",
       "       [  2.78412812e-02,   1.09949040e-04,   1.53063903e-05,\n",
       "         -6.68526895e-05],\n",
       "       [  4.93137228e-02,   1.52210285e-04,   5.10268958e-05,\n",
       "         -1.22961762e-04],\n",
       "       [  7.89409963e-02,   1.29057136e-04,   1.46147304e-04,\n",
       "         -2.09131364e-04],\n",
       "       [  1.07751383e-01,  -5.48440748e-05,   3.29543234e-04,\n",
       "         -3.10350041e-04],\n",
       "       [  1.18714532e-01,  -3.72164949e-04,   5.38789822e-04,\n",
       "         -3.75726964e-04],\n",
       "       [  1.03434568e-01,  -5.90055024e-04,   6.19451439e-04,\n",
       "         -3.56378983e-04],\n",
       "       [  7.33358556e-02,  -5.66295468e-04,   5.22805199e-04,\n",
       "         -2.68920775e-04],\n",
       "       [  4.48202393e-02,  -4.05566936e-04,   3.53132607e-04,\n",
       "         -1.70911164e-04],\n",
       "       [  2.49800036e-02,  -2.45367195e-04,   2.07751271e-04,\n",
       "         -9.73912297e-05],\n",
       "       [  1.32173306e-02,  -1.35370584e-04,   1.13064200e-04,\n",
       "         -5.21431251e-05],\n",
       "       [  6.80257884e-03,  -7.11665015e-05,   5.90314139e-05,\n",
       "         -2.70021283e-05],\n",
       "       [  3.45138003e-03,  -3.64986206e-05,   3.01626600e-05,\n",
       "         -1.37436251e-05],\n",
       "       [  1.73842384e-03,  -1.84796550e-05,   1.52522233e-05,\n",
       "         -6.93245282e-06],\n",
       "       [  9.50824752e-04,   2.24382979e-05,   8.38492728e-08,\n",
       "         -9.81926892e-06],\n",
       "       [  1.89404482e-03,   4.44082074e-05,   3.33299071e-07,\n",
       "         -1.95923207e-05],\n",
       "       [  3.75794941e-03,   8.69702771e-05,   1.31755650e-06,\n",
       "         -3.90004748e-05],\n",
       "       [  7.39751973e-03,   1.66769447e-04,   5.14567991e-06,\n",
       "         -7.72691022e-05],\n",
       "       [  1.43383252e-02,   3.06472139e-04,   1.96374663e-05,\n",
       "         -1.51651336e-04],\n",
       "       [  2.69745013e-02,   5.16369503e-04,   7.16595864e-05,\n",
       "         -2.92087595e-04],\n",
       "       [  4.80041530e-02,   7.23264875e-04,   2.40565829e-04,\n",
       "         -5.42033213e-04],\n",
       "       [  7.75120153e-02,   6.33866589e-04,   6.97831937e-04,\n",
       "         -9.36676940e-04],\n",
       "       [  1.07346523e-01,  -2.22713293e-04,   1.60708325e-03,\n",
       "         -1.42648917e-03],\n",
       "       [  1.20756409e-01,  -1.78558014e-03,   2.70726658e-03,\n",
       "         -1.79005964e-03],\n",
       "       [  1.07767814e-01,  -2.95583945e-03,   3.22031255e-03,\n",
       "         -1.76717955e-03],\n",
       "       [  7.80795435e-02,  -2.92976042e-03,   2.80175834e-03,\n",
       "         -1.38128299e-03],\n",
       "       [  4.84755792e-02,  -2.14542666e-03,   1.93462154e-03,\n",
       "         -9.00257606e-04],\n",
       "       [  2.72822356e-02,  -1.31569295e-03,   1.15374921e-03,\n",
       "         -5.21010513e-04],\n",
       "       [  1.45149288e-02,  -7.31426589e-04,   6.32738390e-04,\n",
       "         -2.81393201e-04],\n",
       "       [  1.91902163e-03,  -1.00550475e-04,   8.59593086e-05,\n",
       "         -3.77197303e-05],\n",
       "       [  9.12892998e-04,   4.13674381e-05,   1.54562080e-07,\n",
       "         -1.67644896e-05],\n",
       "       [  1.81877468e-03,   8.18976546e-05,   6.14529103e-07,\n",
       "         -3.34601156e-05],\n",
       "       [  3.60975595e-03,   1.60493931e-04,   2.43036533e-06,\n",
       "         -6.66453616e-05],\n",
       "       [  7.11031363e-03,   3.08153030e-04,   9.50212288e-06,\n",
       "         -1.32197000e-04],\n",
       "       [  1.37990460e-02,   5.67784071e-04,   3.63304570e-05,\n",
       "         -2.60065100e-04],\n",
       "       [  2.60247099e-02,   9.61873455e-04,   1.33064052e-04,\n",
       "         -5.03203336e-04],\n",
       "       [  4.65386890e-02,   1.36346344e-03,   4.49918461e-04,\n",
       "         -9.42045286e-04],\n",
       "       [  7.58320805e-02,   1.23582443e-03,   1.32262074e-03,\n",
       "         -1.65431906e-03],\n",
       "       [  1.06699129e-01,  -3.40423448e-04,   3.11660781e-03,\n",
       "         -2.58855467e-03],\n",
       "       [  1.22963626e-01,  -3.39975978e-03,   5.43373423e-03,\n",
       "         -3.37953781e-03],\n",
       "       [  1.13082209e-01,  -5.92508296e-03,   6.74086624e-03,\n",
       "         -3.49821152e-03],\n",
       "       [  8.43649572e-02,  -6.12103620e-03,   6.10683394e-03,\n",
       "         -2.85976256e-03],\n",
       "       [  5.35818311e-02,  -4.62117564e-03,   4.34993529e-03,\n",
       "         -1.92852902e-03],\n",
       "       [  3.06048173e-02,  -2.88958029e-03,   2.64677647e-03,\n",
       "         -1.14081222e-03],\n",
       "       [  1.64223681e-02,  -1.62441896e-03,   1.46843694e-03,\n",
       "         -6.23940218e-04],\n",
       "       [  8.51603585e-03,  -8.62514764e-04,   7.74646931e-04,\n",
       "         -3.26795526e-04],\n",
       "       [  4.33764093e-03,  -4.44597345e-04,   3.98028707e-04,\n",
       "         -1.67302696e-04],\n",
       "       [  2.18917413e-03,  -2.25717789e-04,   2.01745594e-04,\n",
       "         -8.46552807e-05],\n",
       "       [  8.51535060e-04,   7.19870263e-05,   2.68939927e-07,\n",
       "         -2.57370060e-05],\n",
       "       [  1.69692952e-03,   1.42584520e-04,   1.06987095e-06,\n",
       "         -5.13899765e-05],\n",
       "       [  3.36951280e-03,   2.79686930e-04,   4.23347039e-06,\n",
       "         -1.02444151e-04],\n",
       "       [  6.64333790e-03,   5.38037555e-04,   1.65742619e-05,\n",
       "         -2.03548484e-04],\n",
       "       [  1.29169900e-02,   9.95233754e-04,   6.35476878e-05,\n",
       "         -4.01767832e-04],\n",
       "       [  2.44522248e-02,   1.69977198e-03,   2.34046709e-04,\n",
       "         -7.82502951e-04],\n",
       "       [  4.40495959e-02,   2.45316219e-03,   8.00008558e-04,\n",
       "         -1.48366244e-03],\n",
       "       [  7.28023742e-02,   2.33875698e-03,   2.40101518e-03,\n",
       "         -2.66828761e-03],\n",
       "       [  1.05132764e-01,  -3.71960644e-04,   5.87274070e-03,\n",
       "         -4.35384464e-03],\n",
       "       [  1.26452161e-01,  -6.20628178e-03,   1.08737274e-02,\n",
       "         -6.07099748e-03],\n",
       "       [  1.23382769e-01,  -1.18994757e-02,   1.46350667e-02,\n",
       "         -6.85591734e-03],\n",
       "       [  9.82782943e-02,  -1.34070318e-02,   1.44846562e-02,\n",
       "         -6.14955430e-03],\n",
       "       [  6.60934880e-02,  -1.08776706e-02,   1.11338788e-02,\n",
       "         -4.48766269e-03],\n",
       "       [  3.93223900e-02,  -7.15269209e-03,   7.14860535e-03,\n",
       "         -2.80564301e-03],\n",
       "       [  1.13780131e-02,  -2.23932317e-03,   2.20204507e-03,\n",
       "         -8.46936113e-04],\n",
       "       [  5.83870174e-03,  -1.16473504e-03,   1.14243974e-03,\n",
       "         -4.37910916e-04],\n",
       "       [  7.30435173e-04,   1.32419840e-04,   4.94584351e-07,\n",
       "         -3.66864072e-05],\n",
       "       [  1.45618152e-03,   2.62493137e-04,   1.96880095e-06,\n",
       "         -7.33013539e-05],\n",
       "       [  2.89377173e-03,   5.15721033e-04,   7.79972277e-06,\n",
       "         -1.46316445e-04],\n",
       "       [  5.71446289e-03,   9.95323764e-04,   3.06095382e-05,\n",
       "         -2.91485380e-04],\n",
       "       [  1.11464897e-02,   1.85335569e-03,   1.17921307e-04,\n",
       "         -5.78365658e-04],\n",
       "       [  2.12365274e-02,   3.20973090e-03,   4.38469757e-04,\n",
       "         -1.13825607e-03],\n",
       "       [  3.87541133e-02,   4.77877349e-03,   1.52754693e-03,\n",
       "         -2.20300380e-03],\n",
       "       [  6.57316514e-02,   4.96905525e-03,   4.76036444e-03,\n",
       "         -4.12323989e-03],\n",
       "       [  9.98886604e-02,   2.51580493e-04,   1.25200703e-02,\n",
       "         -7.25153805e-03],\n",
       "       [  1.32182268e-01,  -1.23180581e-02,   2.64621801e-02,\n",
       "         -1.15465736e-02],\n",
       "       [  1.51870667e-01,  -3.00419381e-02,   4.43726114e-02,\n",
       "         -1.61611167e-02],\n",
       "       [  1.55010859e-01,  -4.56304024e-02,   6.06780986e-02,\n",
       "         -1.97570728e-02],\n",
       "       [  1.45160705e-01,  -5.41231760e-02,   7.08756289e-02,\n",
       "         -2.14317393e-02],\n",
       "       [  1.10205691e-01,  -5.24059381e-02,   7.19316515e-02,\n",
       "         -1.97437035e-02],\n",
       "       [  8.96666622e-02,  -4.78099882e-02,   6.96381358e-02,\n",
       "         -1.78842235e-02],\n",
       "       [  1.97454076e-01,  -1.10657861e-01,   1.67216257e-01,\n",
       "         -4.13635593e-02]])\n",
       "     message: 'The maximum number of function evaluations is exceeded.'\n",
       "        nfev: 400\n",
       "        njev: 383\n",
       "  optimality: 0.0016567541042298546\n",
       "      status: 0\n",
       "     success: False\n",
       "           x: array([ 2.11250891,  1.85985768, -1.22074013,  4.97604367])"
      ]
     },
     "execution_count": 77,
     "metadata": {},
     "output_type": "execute_result"
    }
   ],
   "source": [
    "optimize.least_squares(wyman_obj_vec_v2,parmfit,args=(ligset,rtots,bindset_n))"
   ]
  },
  {
   "cell_type": "code",
   "execution_count": 79,
   "metadata": {
    "collapsed": false
   },
   "outputs": [],
   "source": [
    "a = np.linspace(0,5,20)"
   ]
  },
  {
   "cell_type": "code",
   "execution_count": 80,
   "metadata": {
    "collapsed": false
   },
   "outputs": [
    {
     "data": {
      "text/plain": [
       "numpy.ndarray"
      ]
     },
     "execution_count": 80,
     "metadata": {},
     "output_type": "execute_result"
    }
   ],
   "source": [
    "type(a)"
   ]
  },
  {
   "cell_type": "code",
   "execution_count": 90,
   "metadata": {
    "collapsed": true
   },
   "outputs": [],
   "source": [
    "def wyman_obj_vec_v3(parm,lig,data,rtot,eps=None,gen=False):\n",
    "    k11 = parm[0]\n",
    "    k21 = parm[1]\n",
    "    k22 = parm[2]\n",
    "    l20 = parm[3]\n",
    "    \n",
    "    ligc = np.concatenate(lig)\n",
    "    datac = np.concatenate(data)\n",
    "    \n",
    "    rfree = (((-1 - k11*ligc)) + \\\n",
    "    (np.sqrt(np.concatenate((np.square((1 + k11*lig)) + \\\n",
    "    8.*l20*rtot*(1 + k21*lig + k21*k22*(np.square(lig)))))))) \\\n",
    "    / (4*l20*(1 + k21*ligc + k21*k22*(np.square(ligc))))    \n",
    "       \n",
    "    bfrac = (k11*ligc + l20*k21*rfree*ligc + \\\n",
    "    2*l20*k21*k22*rfree*(np.square(ligc))) \\\n",
    "    / (1 + 2*l20*rfree + k11*ligc + \\\n",
    "    2*l20*k21*rfree*ligc + 2*l20*k21*k22*rfree*(np.square(ligc)))\n",
    "    \n",
    "    residual = (bfrac - datac)\n",
    "    \n",
    "    if gen is False:\n",
    "        if eps is None:\n",
    "            return residual\n",
    "        else:\n",
    "            weights = 1/np.square(np.concatenate(eps))\n",
    "            return (residual*weights)\n",
    "    else:\n",
    "        return bfrac\n"
   ]
  },
  {
   "cell_type": "code",
   "execution_count": 88,
   "metadata": {
    "collapsed": false
   },
   "outputs": [
    {
     "data": {
      "text/plain": [
       "array([  3.70000000e+00,   1.80000000e+00,   1.20000000e-01,\n",
       "         2.93000000e+02])"
      ]
     },
     "execution_count": 88,
     "metadata": {},
     "output_type": "execute_result"
    }
   ],
   "source": [
    "parmvec"
   ]
  },
  {
   "cell_type": "code",
   "execution_count": 89,
   "metadata": {
    "collapsed": false
   },
   "outputs": [
    {
     "data": {
      "text/plain": [
       "{'k11': 3.7, 'k21': 1.8, 'k22': 0.12, 'l20': 293.0}"
      ]
     },
     "execution_count": 89,
     "metadata": {},
     "output_type": "execute_result"
    }
   ],
   "source": [
    "sim_parms"
   ]
  },
  {
   "cell_type": "code",
   "execution_count": 91,
   "metadata": {
    "collapsed": false
   },
   "outputs": [
    {
     "name": "stdout",
     "output_type": "stream",
     "text": [
      "Help on function wyman_sim_loop in module __main__:\n",
      "\n",
      "wyman_sim_loop(lig, rtot, parm)\n",
      "    returns bound fraction for model of aggregating system as described by Wyman and implemened\n",
      "    by Pike\n",
      "    \n",
      "    lig \n",
      "    -------\n",
      "    is an array of arrays (created from a list of arrays -- because\n",
      "    datasets may not have a uniform number of data points in each experiment)\n",
      "    \n",
      "    this is important for the loop below that uses lig.size to generate indices. if lig \n",
      "    was a proper array, size would be the total number of cells, but in this case it is the \n",
      "    number of arrays (or experimental data sets) in the array\n",
      "    \n",
      "    rtot \n",
      "    -------\n",
      "    is a 1d array (but may work as other data structure -- test this)\n",
      "    \n",
      "    parm\n",
      "    -------\n",
      "    dict of parameter names and values or a Parameters object from the lmfit package\n",
      "\n"
     ]
    }
   ],
   "source": [
    "help(wyman_sim_loop)"
   ]
  },
  {
   "cell_type": "code",
   "execution_count": 93,
   "metadata": {
    "collapsed": false
   },
   "outputs": [],
   "source": [
    "simloopout = wyman_sim_loop(ligset,rtots,sim_parms)"
   ]
  },
  {
   "cell_type": "code",
   "execution_count": 94,
   "metadata": {
    "collapsed": false
   },
   "outputs": [
    {
     "name": "stdout",
     "output_type": "stream",
     "text": [
      "Help on function wyman_obj_vec_v3 in module __main__:\n",
      "\n",
      "wyman_obj_vec_v3(parm, lig, data, rtot, eps=None, gen=False)\n",
      "\n"
     ]
    }
   ],
   "source": [
    "help(wyman_obj_vec_v3)"
   ]
  },
  {
   "cell_type": "code",
   "execution_count": 96,
   "metadata": {
    "collapsed": false
   },
   "outputs": [],
   "source": [
    "vecout = wyman_obj_vec_v3(parmvec,ligset,bindset_n,rtots,gen=True)"
   ]
  },
  {
   "cell_type": "code",
   "execution_count": 98,
   "metadata": {
    "collapsed": false
   },
   "outputs": [
    {
     "data": {
      "text/plain": [
       "array([ True,  True,  True,  True,  True,  True,  True,  True,  True,\n",
       "        True,  True,  True,  True,  True,  True,  True,  True,  True,\n",
       "        True,  True,  True,  True,  True,  True,  True,  True,  True,\n",
       "        True,  True,  True,  True,  True,  True,  True,  True,  True,\n",
       "        True,  True,  True,  True,  True,  True,  True,  True,  True,\n",
       "        True,  True,  True,  True,  True,  True,  True,  True,  True,\n",
       "        True,  True,  True,  True,  True,  True,  True,  True,  True,\n",
       "        True,  True,  True,  True,  True,  True,  True,  True,  True,\n",
       "        True,  True,  True,  True,  True,  True,  True,  True,  True,\n",
       "        True,  True,  True], dtype=bool)"
      ]
     },
     "execution_count": 98,
     "metadata": {},
     "output_type": "execute_result"
    }
   ],
   "source": [
    "np.concatenate(simloopout) == vecout"
   ]
  },
  {
   "cell_type": "code",
   "execution_count": 101,
   "metadata": {
    "collapsed": false
   },
   "outputs": [
    {
     "data": {
      "text/plain": [
       "array([ True,  True,  True,  True,  True,  True,  True,  True,  True,\n",
       "        True,  True,  True,  True,  True,  True,  True,  True,  True,\n",
       "        True,  True,  True,  True,  True,  True,  True,  True,  True,\n",
       "        True,  True,  True,  True,  True,  True,  True,  True,  True,\n",
       "        True,  True,  True,  True,  True,  True,  True,  True,  True,\n",
       "        True,  True,  True,  True,  True,  True,  True,  True,  True,\n",
       "        True,  True,  True,  True,  True,  True,  True,  True,  True,\n",
       "        True,  True,  True,  True,  True,  True,  True,  True,  True,\n",
       "        True,  True,  True,  True,  True,  True,  True,  True,  True,\n",
       "        True,  True,  True], dtype=bool)"
      ]
     },
     "execution_count": 101,
     "metadata": {},
     "output_type": "execute_result"
    }
   ],
   "source": [
    "np.concatenate(simloopout) == np.concatenate(bindset)"
   ]
  },
  {
   "cell_type": "code",
   "execution_count": 115,
   "metadata": {
    "collapsed": false
   },
   "outputs": [
    {
     "data": {
      "text/plain": [
       "array([  1.25074232e-04,  -3.58426575e-04,  -7.21662634e-04,\n",
       "         5.60241088e-04,   6.82192576e-04,  -6.88687827e-04,\n",
       "         2.77592310e-03,   1.82878564e-02,   2.95425749e-03,\n",
       "        -2.50390066e-03,  -2.83631698e-02,  -2.94351992e-02,\n",
       "        -6.08267060e-02,  -1.54312710e-02,   3.52049783e-02,\n",
       "        -1.15492466e-02,   1.95181850e-03,  -1.85217746e-02,\n",
       "         3.38898312e-05,  -1.68323317e-04,   5.90841032e-06,\n",
       "         5.44433724e-04,   1.25339307e-03,   2.33757785e-03,\n",
       "        -6.88638183e-03,  -1.40508614e-02,  -8.24522016e-03,\n",
       "         5.62652156e-02,   2.19659441e-02,  -2.79213294e-02,\n",
       "        -1.97807678e-02,  -2.58459026e-02,   6.24195229e-02,\n",
       "         4.67251216e-02,  -1.56631933e-04,  -6.36384810e-05,\n",
       "         8.25069770e-05,   5.27139693e-04,  -1.74548045e-03,\n",
       "         4.09387834e-04,   1.87983501e-04,  -1.76237247e-02,\n",
       "        -3.24613882e-02,   3.82404623e-02,   3.88276918e-02,\n",
       "         2.96629760e-02,   5.05699100e-02,  -6.80646954e-02,\n",
       "        -1.42386478e-02,  -1.32501026e-02,  -4.47935550e-03,\n",
       "        -3.15357949e-02,  -6.11178132e-05,  -2.15512883e-04,\n",
       "        -1.19567274e-04,   6.79552195e-04,   1.45108757e-03,\n",
       "         5.40342075e-04,   2.14547731e-03,   6.72893457e-03,\n",
       "        -1.09367966e-02,  -3.76412144e-02,  -3.26287768e-02,\n",
       "         8.65693077e-03,   1.18462239e-02,   6.88125787e-03,\n",
       "        -3.78842766e-03,   2.06461219e-04,   8.29415921e-05,\n",
       "         6.99115437e-06,  -1.29972223e-04,   4.94737746e-04,\n",
       "        -3.98417814e-04,  -9.87527446e-04,   1.01105886e-03,\n",
       "        -5.91553389e-03,  -1.89568319e-03,  -2.17183129e-02,\n",
       "        -1.84863061e-02,   1.29360413e-02,  -4.30504220e-02,\n",
       "         2.70618878e-02,  -1.68611355e-02,  -7.59433133e-02])"
      ]
     },
     "execution_count": 115,
     "metadata": {},
     "output_type": "execute_result"
    }
   ],
   "source": [
    "vecout - np.concatenate(bindset_n)"
   ]
  },
  {
   "cell_type": "code",
   "execution_count": 103,
   "metadata": {
    "collapsed": false
   },
   "outputs": [
    {
     "data": {
      "text/plain": [
       "array([ 1.,  1.,  1.,  1.])"
      ]
     },
     "execution_count": 103,
     "metadata": {},
     "output_type": "execute_result"
    }
   ],
   "source": [
    "parmfit"
   ]
  },
  {
   "cell_type": "code",
   "execution_count": 105,
   "metadata": {
    "collapsed": false
   },
   "outputs": [
    {
     "data": {
      "text/plain": [
       "array([  3.70000000e+00,   1.80000000e+00,   1.20000000e-01,\n",
       "         2.93000000e+02])"
      ]
     },
     "execution_count": 105,
     "metadata": {},
     "output_type": "execute_result"
    }
   ],
   "source": [
    "parmvec"
   ]
  },
  {
   "cell_type": "code",
   "execution_count": 111,
   "metadata": {
    "collapsed": true
   },
   "outputs": [],
   "source": [
    "parmfit[3] = 300"
   ]
  },
  {
   "cell_type": "code",
   "execution_count": 112,
   "metadata": {
    "collapsed": false
   },
   "outputs": [
    {
     "data": {
      "text/plain": [
       "array([   5.,    5.,    1.,  300.])"
      ]
     },
     "execution_count": 112,
     "metadata": {},
     "output_type": "execute_result"
    }
   ],
   "source": [
    "parmfit"
   ]
  },
  {
   "cell_type": "code",
   "execution_count": 114,
   "metadata": {
    "collapsed": false
   },
   "outputs": [],
   "source": [
    "res_lsq = optimize.least_squares(wyman_obj_vec_v3,parmvec,args=(ligset,bindset_n,rtots))"
   ]
  },
  {
   "cell_type": "code",
   "execution_count": 117,
   "metadata": {
    "collapsed": false
   },
   "outputs": [
    {
     "data": {
      "image/png": "[encoded data removed]",
      "text/plain": [
       "<matplotlib.figure.Figure at 0x10f2cb6a0>"
      ]
     },
     "metadata": {},
     "output_type": "display_data"
    }
   ],
   "source": [
    "for i in range(bindset_n.size):\n",
    "    plt.semilogx(ligset[i],bindset_n[i],'o')"
   ]
  },
  {
   "cell_type": "code",
   "execution_count": 120,
   "metadata": {
    "collapsed": false
   },
   "outputs": [
    {
     "data": {
      "text/plain": [
       "array([  4.96790055e+00,   2.23029236e+00,   2.92971309e-01,\n",
       "         1.09048524e+03])"
      ]
     },
     "execution_count": 120,
     "metadata": {},
     "output_type": "execute_result"
    }
   ],
   "source": [
    "res_lsq.x"
   ]
  },
  {
   "cell_type": "code",
   "execution_count": 121,
   "metadata": {
    "collapsed": false
   },
   "outputs": [
    {
     "name": "stdout",
     "output_type": "stream",
     "text": [
      "Help on function wyman_obj_vec_v3 in module __main__:\n",
      "\n",
      "wyman_obj_vec_v3(parm, lig, data, rtot, eps=None, gen=False)\n",
      "\n"
     ]
    }
   ],
   "source": [
    "help(wyman_obj_vec_v3)"
   ]
  },
  {
   "cell_type": "code",
   "execution_count": 125,
   "metadata": {
    "collapsed": false
   },
   "outputs": [],
   "source": [
    "def wyman_sim_parmvec(parm,lig,rtot):\n",
    "    \"\"\" Generates bound fraction for Wyman model given parameters and returns as \n",
    "    nested array simulated dataset  \n",
    "    parm is a 1-D numpy array that must describe [k11,k21,k22,l20]\n",
    "    lig is a 1-D array or 1-D array of 1-D arrays of ligand concentrations\n",
    "    rtot is a 1-D numpy array of total receptor concentrations for each data set\n",
    "    size of rtot and lig must match \n",
    "    \"\"\"\n",
    "    k11 = parm[0]\n",
    "    k21 = parm[1]\n",
    "    k22 = parm[2]\n",
    "    l20 = parm[3]\n",
    "    \n",
    "    holder = []\n",
    "    \n",
    "    for i in range(lig.size):\n",
    "        rfree = (((-1 - k11*lig[i]) + \\\n",
    "        (np.sqrt((1 + k11*lig[i])**2 + 8*l20*rtot[i]*(1 + k21*lig[i] + \\\n",
    "        k21*k22*(lig[i]**2)))))/(4*l20*(1 + k21*lig[i] + k21*k22*(lig[i]**2))))\n",
    "        \n",
    "        bfrac = (k11*lig[i] + l20*k21*rfree*lig[i] + \\\n",
    "        2*l20*k21*k22*rfree*(lig[i]**2))/(1 + 2*l20*rfree + k11*lig[i] + \\\n",
    "        2*l20*k21*rfree*lig[i] + 2*l20*k21*k22*rfree*(lig[i]**2))\n",
    "        \n",
    "        holder.append(bfrac)\n",
    "        \n",
    "    return np.array(holder)"
   ]
  },
  {
   "cell_type": "code",
   "execution_count": 126,
   "metadata": {
    "collapsed": false
   },
   "outputs": [
    {
     "data": {
      "text/plain": [
       "array([ array([ 0.00287218,  0.0057293 ,  0.01139886,  0.02256218,  0.04420898,\n",
       "        0.08495766,  0.15750031,  0.27442734,  0.43494373,  0.61140532,\n",
       "        0.76276266,  0.86736558,  0.92969257,  0.9637874 ,  0.98162164,\n",
       "        0.99074192,  0.99535363,  0.99767247]),\n",
       "       array([ 0.00212201,  0.00423545,  0.00843679,  0.01673873,  0.03295043,\n",
       "        0.06388646,  0.12039349,  0.21575195,  0.3567863 ,  0.52877848,\n",
       "        0.69457034,  0.82154023,  0.90281887,  0.9492021 ,  0.97402094,\n",
       "        0.99668726]),\n",
       "       array([ 0.00183875,  0.00367067,  0.00731417,  0.01452088,  0.02862117,\n",
       "        0.05563083,  0.10532975,  0.19035641,  0.3191859 ,  0.4825415 ,\n",
       "        0.64899583,  0.78533335,  0.87867192,  0.93494879,  0.96622051,\n",
       "        0.98277258,  0.99129847,  0.99562683]),\n",
       "       array([ 0.0016043 ,  0.00320301,  0.00638376,  0.0126794 ,  0.02501369,\n",
       "        0.04870285,  0.09251507,  0.16819537,  0.28486929,  0.43720977,\n",
       "        0.5996735 ,  0.741466  ,  0.84618727,  0.91418393,  0.97630818,\n",
       "        0.98793257]),\n",
       "       array([ 0.00136943,  0.00273433,  0.00545065,  0.01083001,  0.0213806 ,\n",
       "        0.04168745,  0.0794006 ,  0.14506012,  0.24774887,  0.38522666,\n",
       "        0.53808452,  0.68052705,  0.7957575 ,  0.93237661,  0.98135685,\n",
       "        0.99050848])], dtype=object)"
      ]
     },
     "execution_count": 126,
     "metadata": {},
     "output_type": "execute_result"
    }
   ],
   "source": [
    "wyman_sim_parmvec(parmvec,ligset,rtots)"
   ]
  },
  {
   "cell_type": "code",
   "execution_count": 127,
   "metadata": {
    "collapsed": false
   },
   "outputs": [
    {
     "data": {
      "text/plain": [
       "array([ 0.00287218,  0.0057293 ,  0.01139886,  0.02256218,  0.04420898,\n",
       "        0.08495766,  0.15750031,  0.27442734,  0.43494373,  0.61140532,\n",
       "        0.76276266,  0.86736558,  0.92969257,  0.9637874 ,  0.98162164,\n",
       "        0.99074192,  0.99535363,  0.99767247,  0.00212201,  0.00423545,\n",
       "        0.00843679,  0.01673873,  0.03295043,  0.06388646,  0.12039349,\n",
       "        0.21575195,  0.3567863 ,  0.52877848,  0.69457034,  0.82154023,\n",
       "        0.90281887,  0.9492021 ,  0.97402094,  0.99668726,  0.00183875,\n",
       "        0.00367067,  0.00731417,  0.01452088,  0.02862117,  0.05563083,\n",
       "        0.10532975,  0.19035641,  0.3191859 ,  0.4825415 ,  0.64899583,\n",
       "        0.78533335,  0.87867192,  0.93494879,  0.96622051,  0.98277258,\n",
       "        0.99129847,  0.99562683,  0.0016043 ,  0.00320301,  0.00638376,\n",
       "        0.0126794 ,  0.02501369,  0.04870285,  0.09251507,  0.16819537,\n",
       "        0.28486929,  0.43720977,  0.5996735 ,  0.741466  ,  0.84618727,\n",
       "        0.91418393,  0.97630818,  0.98793257,  0.00136943,  0.00273433,\n",
       "        0.00545065,  0.01083001,  0.0213806 ,  0.04168745,  0.0794006 ,\n",
       "        0.14506012,  0.24774887,  0.38522666,  0.53808452,  0.68052705,\n",
       "        0.7957575 ,  0.93237661,  0.98135685,  0.99050848])"
      ]
     },
     "execution_count": 127,
     "metadata": {},
     "output_type": "execute_result"
    }
   ],
   "source": [
    "vecout"
   ]
  },
  {
   "cell_type": "code",
   "execution_count": 130,
   "metadata": {
    "collapsed": false
   },
   "outputs": [],
   "source": [
    "blerby = wyman_sim_parmvec(res_lsq.x,ligset,rtots)"
   ]
  },
  {
   "cell_type": "code",
   "execution_count": 134,
   "metadata": {
    "collapsed": false
   },
   "outputs": [
    {
     "data": {
      "image/png": "[encoded data removed]",
      "text/plain": [
       "<matplotlib.figure.Figure at 0x10f5777f0>"
      ]
     },
     "metadata": {},
     "output_type": "display_data"
    }
   ],
   "source": [
    "for i in range(bindset_n.size):\n",
    "    plt.semilogx(ligset[i],bindset_n[i],'o',label='data')\n",
    "    plt.semilogx(ligset[i],blerby[i],label='fit')\n",
    "    plt.legend()"
   ]
  },
  {
   "cell_type": "code",
   "execution_count": 133,
   "metadata": {
    "collapsed": false
   },
   "outputs": [],
   "source": [
    "clr = ['b','g','r','c','m']"
   ]
  },
  {
   "cell_type": "code",
   "execution_count": 135,
   "metadata": {
    "collapsed": false
   },
   "outputs": [
    {
     "data": {
      "image/png": "[encoded data removed]",
      "text/plain": [
       "<matplotlib.figure.Figure at 0x10f3b8630>"
      ]
     },
     "metadata": {},
     "output_type": "display_data"
    }
   ],
   "source": [
    "for i in range(bindset_n.size):\n",
    "    plt.semilogx(ligset[i],bindset_n[i],'o',label='data',color=clr[i])\n",
    "    plt.semilogx(ligset[i],blerby[i],label='fit', color=clr[i])"
   ]
  },
  {
   "cell_type": "code",
   "execution_count": null,
   "metadata": {
    "collapsed": true
   },
   "outputs": [],
   "source": []
  }
 ],
 "metadata": {
  "anaconda-cloud": {},
  "kernelspec": {
   "display_name": "Python [conda env:fitter]",
   "language": "python",
   "name": "conda-env-fitter-py"
  },
  "language_info": {
   "codemirror_mode": {
    "name": "ipython",
    "version": 3
   },
   "file_extension": ".py",
   "mimetype": "text/x-python",
   "name": "python",
   "nbconvert_exporter": "python",
   "pygments_lexer": "ipython3",
   "version": "3.5.2"
  }
 },
 "nbformat": 4,
 "nbformat_minor": 1
}
