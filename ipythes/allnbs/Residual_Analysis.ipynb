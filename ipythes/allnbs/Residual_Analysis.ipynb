{
 "cells": [
  {
   "cell_type": "code",
   "execution_count": 1,
   "metadata": {
    "collapsed": true
   },
   "outputs": [],
   "source": [
    "import numpy as np\n",
    "import matplotlib.pyplot as plt\n",
    "import models\n",
    "import corner\n",
    "from scipy import optimize\n",
    "from Pymod import prep\n",
    "from plotter import semlog\n",
    "%matplotlib inline\n",
    "%load_ext autoreload"
   ]
  },
  {
   "cell_type": "code",
   "execution_count": 2,
   "metadata": {
    "collapsed": true
   },
   "outputs": [],
   "source": [
    "from ligtools import dilser"
   ]
  },
  {
   "cell_type": "code",
   "execution_count": 3,
   "metadata": {
    "collapsed": true
   },
   "outputs": [],
   "source": [
    "ligs = dilser()"
   ]
  },
  {
   "cell_type": "code",
   "execution_count": 4,
   "metadata": {
    "collapsed": false
   },
   "outputs": [
    {
     "data": {
      "text/plain": [
       "array([  1.00000000e-03,   2.00000000e-03,   4.00000000e-03,\n",
       "         8.00000000e-03,   1.60000000e-02,   3.20000000e-02,\n",
       "         6.40000000e-02,   1.28000000e-01,   2.56000000e-01,\n",
       "         5.12000000e-01,   1.02400000e+00,   2.04800000e+00,\n",
       "         4.09600000e+00,   8.19200000e+00,   1.63840000e+01,\n",
       "         3.27680000e+01,   6.55360000e+01,   1.31072000e+02])"
      ]
     },
     "execution_count": 4,
     "metadata": {},
     "output_type": "execute_result"
    }
   ],
   "source": [
    "ligs"
   ]
  },
  {
   "cell_type": "code",
   "execution_count": 7,
   "metadata": {
    "collapsed": true
   },
   "outputs": [],
   "source": [
    "def klotz1(k,free_ligand):\n",
    "    bound_fraction = (k*free_ligand)/(1 + k*free_ligand)\n",
    "    return bound_fraction"
   ]
  },
  {
   "cell_type": "code",
   "execution_count": 9,
   "metadata": {
    "collapsed": false
   },
   "outputs": [],
   "source": [
    "dat1 = klotz1(1.0,ligs)"
   ]
  },
  {
   "cell_type": "code",
   "execution_count": 10,
   "metadata": {
    "collapsed": false
   },
   "outputs": [
    {
     "data": {
      "text/plain": [
       "[<matplotlib.lines.Line2D at 0x10d334208>]"
      ]
     },
     "execution_count": 10,
     "metadata": {},
     "output_type": "execute_result"
    },
    {
     "data": {
      "image/png": "[encoded data removed]",
      "text/plain": [
       "<matplotlib.figure.Figure at 0x10d2ed390>"
      ]
     },
     "metadata": {},
     "output_type": "display_data"
    }
   ],
   "source": [
    "plt.semilogx(ligs,dat1,'.')"
   ]
  },
  {
   "cell_type": "code",
   "execution_count": 11,
   "metadata": {
    "collapsed": true
   },
   "outputs": [],
   "source": [
    "def klotz1_obj(k,lig,dat,eps=None):\n",
    "    bfrac = (k*lig)/(1 + k*lig)\n",
    "    if eps is None:\n",
    "        return (bfrac - dat)\n",
    "    else:\n",
    "        return (bfrac - dat)/eps"
   ]
  },
  {
   "cell_type": "code",
   "execution_count": 15,
   "metadata": {
    "collapsed": false
   },
   "outputs": [
    {
     "data": {
      "text/plain": [
       "array([ 0.,  0.,  0.,  0.,  0.,  0.,  0.,  0.,  0.,  0.,  0.,  0.,  0.,\n",
       "        0.,  0.,  0.,  0.,  0.])"
      ]
     },
     "execution_count": 15,
     "metadata": {},
     "output_type": "execute_result"
    }
   ],
   "source": [
    "klotz1_obj(1.,ligs,dat1)"
   ]
  },
  {
   "cell_type": "code",
   "execution_count": 18,
   "metadata": {
    "collapsed": false
   },
   "outputs": [
    {
     "data": {
      "text/plain": [
       "array([ 0.92033083,  0.92344164,  1.02907876,  0.97509946,  1.02711051,\n",
       "        0.98412046,  0.97211735,  1.03091134,  0.94729827,  1.01373997,\n",
       "        1.03904073,  1.00205051,  1.1013236 ,  1.02542915,  0.99911867,\n",
       "        0.93178438,  0.97338045,  1.05888107])"
      ]
     },
     "execution_count": 18,
     "metadata": {},
     "output_type": "execute_result"
    }
   ],
   "source": [
    "np.random.normal(1,.05, len(ligs))"
   ]
  },
  {
   "cell_type": "code",
   "execution_count": 20,
   "metadata": {
    "collapsed": false
   },
   "outputs": [],
   "source": [
    "import ligtools"
   ]
  },
  {
   "cell_type": "code",
   "execution_count": 21,
   "metadata": {
    "collapsed": true
   },
   "outputs": [],
   "source": [
    "%autoreload"
   ]
  },
  {
   "cell_type": "code",
   "execution_count": 23,
   "metadata": {
    "collapsed": false
   },
   "outputs": [],
   "source": [
    "dat1n = ligtools.noiser(dat1,0.05)"
   ]
  },
  {
   "cell_type": "code",
   "execution_count": 24,
   "metadata": {
    "collapsed": false
   },
   "outputs": [
    {
     "data": {
      "text/plain": [
       "[<matplotlib.lines.Line2D at 0x110316fd0>]"
      ]
     },
     "execution_count": 24,
     "metadata": {},
     "output_type": "execute_result"
    },
    {
     "data": {
      "image/png": "[encoded data removed]",
      "text/plain": [
       "<matplotlib.figure.Figure at 0x1049402b0>"
      ]
     },
     "metadata": {},
     "output_type": "display_data"
    }
   ],
   "source": [
    "plt.semilogx(ligs,dat1n)"
   ]
  },
  {
   "cell_type": "code",
   "execution_count": 29,
   "metadata": {
    "collapsed": false
   },
   "outputs": [],
   "source": [
    "set1 = np.array([ligtools.noiser(dat1,0.05) for i in range(5)])"
   ]
  },
  {
   "cell_type": "code",
   "execution_count": 31,
   "metadata": {
    "collapsed": false
   },
   "outputs": [
    {
     "data": {
      "text/plain": [
       "array([[  7.34627372e-05,   2.34110563e-05,   1.96480932e-04,\n",
       "         -2.72048184e-04,   1.44262539e-03,  -9.15800659e-04,\n",
       "         -3.32538314e-03,   1.93170547e-03,   1.45786670e-02,\n",
       "         -1.29630238e-03,  -2.04772716e-02,  -4.12080606e-03,\n",
       "          4.07491914e-02,  -5.16025896e-02,   1.72413911e-02,\n",
       "         -3.24789859e-02,  -2.95496644e-03,  -1.81561805e-02],\n",
       "       [ -1.05102565e-05,   1.08224168e-05,   1.81737736e-05,\n",
       "         -1.01912932e-04,   5.34906072e-04,  -9.81437603e-04,\n",
       "         -1.47806780e-03,  -7.44708729e-03,  -1.23746068e-02,\n",
       "          1.01613196e-02,   1.63590734e-02,   1.12640648e-02,\n",
       "         -2.60166208e-02,  -3.73069785e-02,   3.90122096e-02,\n",
       "          3.36436590e-02,   3.73633555e-02,   9.47468207e-02],\n",
       "       [  3.44806774e-05,  -2.91795399e-05,  -1.28758425e-04,\n",
       "          4.01823249e-05,  -7.49815688e-04,  -1.27244675e-03,\n",
       "         -2.81886644e-03,   1.13800526e-02,  -7.23712808e-03,\n",
       "          2.34726040e-02,  -1.81573307e-02,   2.00114993e-02,\n",
       "         -3.73839779e-03,   1.83295837e-02,  -1.38559000e-02,\n",
       "         -1.99905193e-02,   1.10173715e-02,  -9.07254732e-03],\n",
       "       [  1.45685983e-04,  -2.52548519e-05,  -1.31300509e-04,\n",
       "          1.47595706e-06,   1.43249152e-03,  -2.37573155e-03,\n",
       "         -7.46509884e-05,  -1.30482005e-03,  -1.23481212e-02,\n",
       "          2.70550882e-03,  -2.94444482e-02,   2.65125570e-02,\n",
       "          9.02684878e-02,   2.65578711e-02,  -5.58661206e-02,\n",
       "          4.91865570e-02,   9.27134900e-02,  -3.73741199e-02],\n",
       "       [ -2.20514823e-05,  -1.24651396e-04,   6.86251726e-05,\n",
       "         -1.16794926e-04,  -6.95414084e-04,   2.15211041e-03,\n",
       "          5.52864396e-03,  -4.84034480e-03,  -4.53805705e-03,\n",
       "          3.44730000e-02,   9.82823883e-03,  -5.17832475e-02,\n",
       "         -6.08526191e-02,   9.14402686e-03,  -5.96532696e-03,\n",
       "          3.59043072e-02,   5.19311710e-02,  -3.69149995e-02]])"
      ]
     },
     "execution_count": 31,
     "metadata": {},
     "output_type": "execute_result"
    }
   ],
   "source": [
    "klotz1_obj(1.,ligs,set1)"
   ]
  },
  {
   "cell_type": "code",
   "execution_count": 32,
   "metadata": {
    "collapsed": true
   },
   "outputs": [],
   "source": [
    "setcon = np.concatenate(set1)"
   ]
  },
  {
   "cell_type": "code",
   "execution_count": 33,
   "metadata": {
    "collapsed": false
   },
   "outputs": [
    {
     "ename": "ValueError",
     "evalue": "operands could not be broadcast together with shapes (18,) (90,) ",
     "output_type": "error",
     "traceback": [
      "\u001b[0;31m---------------------------------------------------------------------------\u001b[0m",
      "\u001b[0;31mValueError\u001b[0m                                Traceback (most recent call last)",
      "\u001b[0;32m<ipython-input-33-cd417e74e63e>\u001b[0m in \u001b[0;36m<module>\u001b[0;34m()\u001b[0m\n\u001b[0;32m----> 1\u001b[0;31m \u001b[0mklotz1_obj\u001b[0m\u001b[0;34m(\u001b[0m\u001b[0;36m1.\u001b[0m\u001b[0;34m,\u001b[0m\u001b[0mligs\u001b[0m\u001b[0;34m,\u001b[0m\u001b[0msetcon\u001b[0m\u001b[0;34m)\u001b[0m\u001b[0;34m\u001b[0m\u001b[0m\n\u001b[0m",
      "\u001b[0;32m<ipython-input-11-a93d265614d9>\u001b[0m in \u001b[0;36mklotz1_obj\u001b[0;34m(k, lig, dat, eps)\u001b[0m\n\u001b[1;32m      2\u001b[0m     \u001b[0mbfrac\u001b[0m \u001b[0;34m=\u001b[0m \u001b[0;34m(\u001b[0m\u001b[0mk\u001b[0m\u001b[0;34m*\u001b[0m\u001b[0mlig\u001b[0m\u001b[0;34m)\u001b[0m\u001b[0;34m/\u001b[0m\u001b[0;34m(\u001b[0m\u001b[0;36m1\u001b[0m \u001b[0;34m+\u001b[0m \u001b[0mk\u001b[0m\u001b[0;34m*\u001b[0m\u001b[0mlig\u001b[0m\u001b[0;34m)\u001b[0m\u001b[0;34m\u001b[0m\u001b[0m\n\u001b[1;32m      3\u001b[0m     \u001b[0;32mif\u001b[0m \u001b[0meps\u001b[0m \u001b[0;32mis\u001b[0m \u001b[0;32mNone\u001b[0m\u001b[0;34m:\u001b[0m\u001b[0;34m\u001b[0m\u001b[0m\n\u001b[0;32m----> 4\u001b[0;31m         \u001b[0;32mreturn\u001b[0m \u001b[0;34m(\u001b[0m\u001b[0mbfrac\u001b[0m \u001b[0;34m-\u001b[0m \u001b[0mdat\u001b[0m\u001b[0;34m)\u001b[0m\u001b[0;34m\u001b[0m\u001b[0m\n\u001b[0m\u001b[1;32m      5\u001b[0m     \u001b[0;32melse\u001b[0m\u001b[0;34m:\u001b[0m\u001b[0;34m\u001b[0m\u001b[0m\n\u001b[1;32m      6\u001b[0m         \u001b[0;32mreturn\u001b[0m \u001b[0;34m(\u001b[0m\u001b[0mbfrac\u001b[0m \u001b[0;34m-\u001b[0m \u001b[0mdat\u001b[0m\u001b[0;34m)\u001b[0m\u001b[0;34m/\u001b[0m\u001b[0meps\u001b[0m\u001b[0;34m\u001b[0m\u001b[0m\n",
      "\u001b[0;31mValueError\u001b[0m: operands could not be broadcast together with shapes (18,) (90,) "
     ]
    }
   ],
   "source": [
    "klotz1_obj(1.,ligs,setcon)"
   ]
  },
  {
   "cell_type": "code",
   "execution_count": 34,
   "metadata": {
    "collapsed": false
   },
   "outputs": [
    {
     "ename": "ValueError",
     "evalue": "x and y must have same first dimension",
     "output_type": "error",
     "traceback": [
      "\u001b[0;31m---------------------------------------------------------------------------\u001b[0m",
      "\u001b[0;31mValueError\u001b[0m                                Traceback (most recent call last)",
      "\u001b[0;32m<ipython-input-34-d8678a01e4e1>\u001b[0m in \u001b[0;36m<module>\u001b[0;34m()\u001b[0m\n\u001b[0;32m----> 1\u001b[0;31m \u001b[0mplt\u001b[0m\u001b[0;34m.\u001b[0m\u001b[0msemilogx\u001b[0m\u001b[0;34m(\u001b[0m\u001b[0mligs\u001b[0m\u001b[0;34m,\u001b[0m\u001b[0mset1\u001b[0m\u001b[0;34m,\u001b[0m\u001b[0;34m'.'\u001b[0m\u001b[0;34m)\u001b[0m\u001b[0;34m\u001b[0m\u001b[0m\n\u001b[0m",
      "\u001b[0;32m/Users/michael/miniconda3/envs/fitter/lib/python3.5/site-packages/matplotlib/pyplot.py\u001b[0m in \u001b[0;36msemilogx\u001b[0;34m(*args, **kwargs)\u001b[0m\n\u001b[1;32m   3273\u001b[0m         \u001b[0max\u001b[0m\u001b[0;34m.\u001b[0m\u001b[0mhold\u001b[0m\u001b[0;34m(\u001b[0m\u001b[0mhold\u001b[0m\u001b[0;34m)\u001b[0m\u001b[0;34m\u001b[0m\u001b[0m\n\u001b[1;32m   3274\u001b[0m     \u001b[0;32mtry\u001b[0m\u001b[0;34m:\u001b[0m\u001b[0;34m\u001b[0m\u001b[0m\n\u001b[0;32m-> 3275\u001b[0;31m         \u001b[0mret\u001b[0m \u001b[0;34m=\u001b[0m \u001b[0max\u001b[0m\u001b[0;34m.\u001b[0m\u001b[0msemilogx\u001b[0m\u001b[0;34m(\u001b[0m\u001b[0;34m*\u001b[0m\u001b[0margs\u001b[0m\u001b[0;34m,\u001b[0m \u001b[0;34m**\u001b[0m\u001b[0mkwargs\u001b[0m\u001b[0;34m)\u001b[0m\u001b[0;34m\u001b[0m\u001b[0m\n\u001b[0m\u001b[1;32m   3276\u001b[0m     \u001b[0;32mfinally\u001b[0m\u001b[0;34m:\u001b[0m\u001b[0;34m\u001b[0m\u001b[0m\n\u001b[1;32m   3277\u001b[0m         \u001b[0max\u001b[0m\u001b[0;34m.\u001b[0m\u001b[0mhold\u001b[0m\u001b[0;34m(\u001b[0m\u001b[0mwashold\u001b[0m\u001b[0;34m)\u001b[0m\u001b[0;34m\u001b[0m\u001b[0m\n",
      "\u001b[0;32m/Users/michael/miniconda3/envs/fitter/lib/python3.5/site-packages/matplotlib/axes/_axes.py\u001b[0m in \u001b[0;36msemilogx\u001b[0;34m(self, *args, **kwargs)\u001b[0m\n\u001b[1;32m   1572\u001b[0m         \u001b[0mb\u001b[0m \u001b[0;34m=\u001b[0m \u001b[0mself\u001b[0m\u001b[0;34m.\u001b[0m\u001b[0m_hold\u001b[0m\u001b[0;34m\u001b[0m\u001b[0m\n\u001b[1;32m   1573\u001b[0m         \u001b[0mself\u001b[0m\u001b[0;34m.\u001b[0m\u001b[0m_hold\u001b[0m \u001b[0;34m=\u001b[0m \u001b[0;32mTrue\u001b[0m  \u001b[0;31m# we've already processed the hold\u001b[0m\u001b[0;34m\u001b[0m\u001b[0m\n\u001b[0;32m-> 1574\u001b[0;31m         \u001b[0ml\u001b[0m \u001b[0;34m=\u001b[0m \u001b[0mself\u001b[0m\u001b[0;34m.\u001b[0m\u001b[0mplot\u001b[0m\u001b[0;34m(\u001b[0m\u001b[0;34m*\u001b[0m\u001b[0margs\u001b[0m\u001b[0;34m,\u001b[0m \u001b[0;34m**\u001b[0m\u001b[0mkwargs\u001b[0m\u001b[0;34m)\u001b[0m\u001b[0;34m\u001b[0m\u001b[0m\n\u001b[0m\u001b[1;32m   1575\u001b[0m         \u001b[0mself\u001b[0m\u001b[0;34m.\u001b[0m\u001b[0m_hold\u001b[0m \u001b[0;34m=\u001b[0m \u001b[0mb\u001b[0m  \u001b[0;31m# restore the hold\u001b[0m\u001b[0;34m\u001b[0m\u001b[0m\n\u001b[1;32m   1576\u001b[0m         \u001b[0;32mreturn\u001b[0m \u001b[0ml\u001b[0m\u001b[0;34m\u001b[0m\u001b[0m\n",
      "\u001b[0;32m/Users/michael/miniconda3/envs/fitter/lib/python3.5/site-packages/matplotlib/__init__.py\u001b[0m in \u001b[0;36minner\u001b[0;34m(ax, *args, **kwargs)\u001b[0m\n\u001b[1;32m   1817\u001b[0m                     warnings.warn(msg % (label_namer, func.__name__),\n\u001b[1;32m   1818\u001b[0m                                   RuntimeWarning, stacklevel=2)\n\u001b[0;32m-> 1819\u001b[0;31m             \u001b[0;32mreturn\u001b[0m \u001b[0mfunc\u001b[0m\u001b[0;34m(\u001b[0m\u001b[0max\u001b[0m\u001b[0;34m,\u001b[0m \u001b[0;34m*\u001b[0m\u001b[0margs\u001b[0m\u001b[0;34m,\u001b[0m \u001b[0;34m**\u001b[0m\u001b[0mkwargs\u001b[0m\u001b[0;34m)\u001b[0m\u001b[0;34m\u001b[0m\u001b[0m\n\u001b[0m\u001b[1;32m   1820\u001b[0m         \u001b[0mpre_doc\u001b[0m \u001b[0;34m=\u001b[0m \u001b[0minner\u001b[0m\u001b[0;34m.\u001b[0m\u001b[0m__doc__\u001b[0m\u001b[0;34m\u001b[0m\u001b[0m\n\u001b[1;32m   1821\u001b[0m         \u001b[0;32mif\u001b[0m \u001b[0mpre_doc\u001b[0m \u001b[0;32mis\u001b[0m \u001b[0;32mNone\u001b[0m\u001b[0;34m:\u001b[0m\u001b[0;34m\u001b[0m\u001b[0m\n",
      "\u001b[0;32m/Users/michael/miniconda3/envs/fitter/lib/python3.5/site-packages/matplotlib/axes/_axes.py\u001b[0m in \u001b[0;36mplot\u001b[0;34m(self, *args, **kwargs)\u001b[0m\n\u001b[1;32m   1380\u001b[0m         \u001b[0mkwargs\u001b[0m \u001b[0;34m=\u001b[0m \u001b[0mcbook\u001b[0m\u001b[0;34m.\u001b[0m\u001b[0mnormalize_kwargs\u001b[0m\u001b[0;34m(\u001b[0m\u001b[0mkwargs\u001b[0m\u001b[0;34m,\u001b[0m \u001b[0m_alias_map\u001b[0m\u001b[0;34m)\u001b[0m\u001b[0;34m\u001b[0m\u001b[0m\n\u001b[1;32m   1381\u001b[0m \u001b[0;34m\u001b[0m\u001b[0m\n\u001b[0;32m-> 1382\u001b[0;31m         \u001b[0;32mfor\u001b[0m \u001b[0mline\u001b[0m \u001b[0;32min\u001b[0m \u001b[0mself\u001b[0m\u001b[0;34m.\u001b[0m\u001b[0m_get_lines\u001b[0m\u001b[0;34m(\u001b[0m\u001b[0;34m*\u001b[0m\u001b[0margs\u001b[0m\u001b[0;34m,\u001b[0m \u001b[0;34m**\u001b[0m\u001b[0mkwargs\u001b[0m\u001b[0;34m)\u001b[0m\u001b[0;34m:\u001b[0m\u001b[0;34m\u001b[0m\u001b[0m\n\u001b[0m\u001b[1;32m   1383\u001b[0m             \u001b[0mself\u001b[0m\u001b[0;34m.\u001b[0m\u001b[0madd_line\u001b[0m\u001b[0;34m(\u001b[0m\u001b[0mline\u001b[0m\u001b[0;34m)\u001b[0m\u001b[0;34m\u001b[0m\u001b[0m\n\u001b[1;32m   1384\u001b[0m             \u001b[0mlines\u001b[0m\u001b[0;34m.\u001b[0m\u001b[0mappend\u001b[0m\u001b[0;34m(\u001b[0m\u001b[0mline\u001b[0m\u001b[0;34m)\u001b[0m\u001b[0;34m\u001b[0m\u001b[0m\n",
      "\u001b[0;32m/Users/michael/miniconda3/envs/fitter/lib/python3.5/site-packages/matplotlib/axes/_base.py\u001b[0m in \u001b[0;36m_grab_next_args\u001b[0;34m(self, *args, **kwargs)\u001b[0m\n\u001b[1;32m    379\u001b[0m                 \u001b[0;32mreturn\u001b[0m\u001b[0;34m\u001b[0m\u001b[0m\n\u001b[1;32m    380\u001b[0m             \u001b[0;32mif\u001b[0m \u001b[0mlen\u001b[0m\u001b[0;34m(\u001b[0m\u001b[0mremaining\u001b[0m\u001b[0;34m)\u001b[0m \u001b[0;34m<=\u001b[0m \u001b[0;36m3\u001b[0m\u001b[0;34m:\u001b[0m\u001b[0;34m\u001b[0m\u001b[0m\n\u001b[0;32m--> 381\u001b[0;31m                 \u001b[0;32mfor\u001b[0m \u001b[0mseg\u001b[0m \u001b[0;32min\u001b[0m \u001b[0mself\u001b[0m\u001b[0;34m.\u001b[0m\u001b[0m_plot_args\u001b[0m\u001b[0;34m(\u001b[0m\u001b[0mremaining\u001b[0m\u001b[0;34m,\u001b[0m \u001b[0mkwargs\u001b[0m\u001b[0;34m)\u001b[0m\u001b[0;34m:\u001b[0m\u001b[0;34m\u001b[0m\u001b[0m\n\u001b[0m\u001b[1;32m    382\u001b[0m                     \u001b[0;32myield\u001b[0m \u001b[0mseg\u001b[0m\u001b[0;34m\u001b[0m\u001b[0m\n\u001b[1;32m    383\u001b[0m                 \u001b[0;32mreturn\u001b[0m\u001b[0;34m\u001b[0m\u001b[0m\n",
      "\u001b[0;32m/Users/michael/miniconda3/envs/fitter/lib/python3.5/site-packages/matplotlib/axes/_base.py\u001b[0m in \u001b[0;36m_plot_args\u001b[0;34m(self, tup, kwargs)\u001b[0m\n\u001b[1;32m    357\u001b[0m             \u001b[0mx\u001b[0m\u001b[0;34m,\u001b[0m \u001b[0my\u001b[0m \u001b[0;34m=\u001b[0m \u001b[0mindex_of\u001b[0m\u001b[0;34m(\u001b[0m\u001b[0mtup\u001b[0m\u001b[0;34m[\u001b[0m\u001b[0;34m-\u001b[0m\u001b[0;36m1\u001b[0m\u001b[0;34m]\u001b[0m\u001b[0;34m)\u001b[0m\u001b[0;34m\u001b[0m\u001b[0m\n\u001b[1;32m    358\u001b[0m \u001b[0;34m\u001b[0m\u001b[0m\n\u001b[0;32m--> 359\u001b[0;31m         \u001b[0mx\u001b[0m\u001b[0;34m,\u001b[0m \u001b[0my\u001b[0m \u001b[0;34m=\u001b[0m \u001b[0mself\u001b[0m\u001b[0;34m.\u001b[0m\u001b[0m_xy_from_xy\u001b[0m\u001b[0;34m(\u001b[0m\u001b[0mx\u001b[0m\u001b[0;34m,\u001b[0m \u001b[0my\u001b[0m\u001b[0;34m)\u001b[0m\u001b[0;34m\u001b[0m\u001b[0m\n\u001b[0m\u001b[1;32m    360\u001b[0m \u001b[0;34m\u001b[0m\u001b[0m\n\u001b[1;32m    361\u001b[0m         \u001b[0;32mif\u001b[0m \u001b[0mself\u001b[0m\u001b[0;34m.\u001b[0m\u001b[0mcommand\u001b[0m \u001b[0;34m==\u001b[0m \u001b[0;34m'plot'\u001b[0m\u001b[0;34m:\u001b[0m\u001b[0;34m\u001b[0m\u001b[0m\n",
      "\u001b[0;32m/Users/michael/miniconda3/envs/fitter/lib/python3.5/site-packages/matplotlib/axes/_base.py\u001b[0m in \u001b[0;36m_xy_from_xy\u001b[0;34m(self, x, y)\u001b[0m\n\u001b[1;32m    217\u001b[0m         \u001b[0my\u001b[0m \u001b[0;34m=\u001b[0m \u001b[0m_check_1d\u001b[0m\u001b[0;34m(\u001b[0m\u001b[0my\u001b[0m\u001b[0;34m)\u001b[0m\u001b[0;34m\u001b[0m\u001b[0m\n\u001b[1;32m    218\u001b[0m         \u001b[0;32mif\u001b[0m \u001b[0mx\u001b[0m\u001b[0;34m.\u001b[0m\u001b[0mshape\u001b[0m\u001b[0;34m[\u001b[0m\u001b[0;36m0\u001b[0m\u001b[0;34m]\u001b[0m \u001b[0;34m!=\u001b[0m \u001b[0my\u001b[0m\u001b[0;34m.\u001b[0m\u001b[0mshape\u001b[0m\u001b[0;34m[\u001b[0m\u001b[0;36m0\u001b[0m\u001b[0;34m]\u001b[0m\u001b[0;34m:\u001b[0m\u001b[0;34m\u001b[0m\u001b[0m\n\u001b[0;32m--> 219\u001b[0;31m             \u001b[0;32mraise\u001b[0m \u001b[0mValueError\u001b[0m\u001b[0;34m(\u001b[0m\u001b[0;34m\"x and y must have same first dimension\"\u001b[0m\u001b[0;34m)\u001b[0m\u001b[0;34m\u001b[0m\u001b[0m\n\u001b[0m\u001b[1;32m    220\u001b[0m         \u001b[0;32mif\u001b[0m \u001b[0mx\u001b[0m\u001b[0;34m.\u001b[0m\u001b[0mndim\u001b[0m \u001b[0;34m>\u001b[0m \u001b[0;36m2\u001b[0m \u001b[0;32mor\u001b[0m \u001b[0my\u001b[0m\u001b[0;34m.\u001b[0m\u001b[0mndim\u001b[0m \u001b[0;34m>\u001b[0m \u001b[0;36m2\u001b[0m\u001b[0;34m:\u001b[0m\u001b[0;34m\u001b[0m\u001b[0m\n\u001b[1;32m    221\u001b[0m             \u001b[0;32mraise\u001b[0m \u001b[0mValueError\u001b[0m\u001b[0;34m(\u001b[0m\u001b[0;34m\"x and y can be no greater than 2-D\"\u001b[0m\u001b[0;34m)\u001b[0m\u001b[0;34m\u001b[0m\u001b[0m\n",
      "\u001b[0;31mValueError\u001b[0m: x and y must have same first dimension"
     ]
    },
    {
     "data": {
      "image/png": "[encoded data removed]",
      "text/plain": [
       "<matplotlib.figure.Figure at 0x1104a9940>"
      ]
     },
     "metadata": {},
     "output_type": "display_data"
    }
   ],
   "source": [
    "plt.semilogx(ligs,set1,'.')"
   ]
  },
  {
   "cell_type": "code",
   "execution_count": 36,
   "metadata": {
    "collapsed": false
   },
   "outputs": [],
   "source": [
    "ligset = np.array([ligs for i in range(5)])"
   ]
  },
  {
   "cell_type": "code",
   "execution_count": 39,
   "metadata": {
    "collapsed": false
   },
   "outputs": [
    {
     "data": {
      "text/plain": [
       "[<matplotlib.lines.Line2D at 0x110d2e320>,\n",
       " <matplotlib.lines.Line2D at 0x110d44b00>,\n",
       " <matplotlib.lines.Line2D at 0x110d44ef0>,\n",
       " <matplotlib.lines.Line2D at 0x110d4a0f0>,\n",
       " <matplotlib.lines.Line2D at 0x110d4a2b0>,\n",
       " <matplotlib.lines.Line2D at 0x110d4a470>,\n",
       " <matplotlib.lines.Line2D at 0x110d4a630>,\n",
       " <matplotlib.lines.Line2D at 0x110d4a7f0>,\n",
       " <matplotlib.lines.Line2D at 0x110d4a9b0>,\n",
       " <matplotlib.lines.Line2D at 0x110d4ab70>,\n",
       " <matplotlib.lines.Line2D at 0x110d4ad30>,\n",
       " <matplotlib.lines.Line2D at 0x110d4aef0>,\n",
       " <matplotlib.lines.Line2D at 0x110d4f0f0>,\n",
       " <matplotlib.lines.Line2D at 0x110d4f2b0>,\n",
       " <matplotlib.lines.Line2D at 0x110d1f6d8>,\n",
       " <matplotlib.lines.Line2D at 0x110d4f630>,\n",
       " <matplotlib.lines.Line2D at 0x110d4f7f0>,\n",
       " <matplotlib.lines.Line2D at 0x110d4f9b0>]"
      ]
     },
     "execution_count": 39,
     "metadata": {},
     "output_type": "execute_result"
    },
    {
     "data": {
      "image/png": "[encoded data removed]",
      "text/plain": [
       "<matplotlib.figure.Figure at 0x1104a9048>"
      ]
     },
     "metadata": {},
     "output_type": "display_data"
    }
   ],
   "source": [
    "plt.semilogx(ligset,set1,'.')"
   ]
  },
  {
   "cell_type": "code",
   "execution_count": 40,
   "metadata": {
    "collapsed": false
   },
   "outputs": [
    {
     "data": {
      "text/plain": [
       "array([[ -1.26177750e-04,  -3.75152838e-04,  -5.97790150e-04,\n",
       "         -1.84925564e-03,  -1.66717546e-03,  -6.96255416e-03,\n",
       "         -1.47695186e-02,  -1.86552280e-02,  -1.92562692e-02,\n",
       "         -4.93417534e-02,  -7.60982977e-02,  -5.50544030e-02,\n",
       "          3.16185225e-03,  -7.51995433e-02,   3.87976244e-03,\n",
       "         -3.96104028e-02,  -6.64200617e-03,  -2.00312057e-02],\n",
       "       [ -2.10150744e-04,  -3.87741478e-04,  -7.76097308e-04,\n",
       "         -1.67912039e-03,  -2.57489478e-03,  -7.02819110e-03,\n",
       "         -1.29222033e-02,  -2.80340208e-02,  -4.62095430e-02,\n",
       "         -3.78841314e-02,  -3.92619527e-02,  -3.96695321e-02,\n",
       "         -6.36039600e-02,  -6.09039323e-02,   2.56505809e-02,\n",
       "          2.65122420e-02,   3.36763158e-02,   9.28717954e-02],\n",
       "       [ -1.65159810e-04,  -4.27743434e-04,  -9.23029506e-04,\n",
       "         -1.53702513e-03,  -3.85961654e-03,  -7.31920025e-03,\n",
       "         -1.42630019e-02,  -9.20688084e-03,  -4.10720643e-02,\n",
       "         -2.45728470e-02,  -7.37783568e-02,  -3.09220976e-02,\n",
       "         -4.13257370e-02,  -5.26737001e-03,  -2.72175287e-02,\n",
       "         -2.71219363e-02,   7.33033177e-03,  -1.09475726e-02],\n",
       "       [ -5.39545043e-05,  -4.23818747e-04,  -9.25571591e-04,\n",
       "         -1.57573150e-03,  -1.67730933e-03,  -8.42248505e-03,\n",
       "         -1.15187864e-02,  -2.18917535e-02,  -4.61830574e-02,\n",
       "         -4.53399422e-02,  -8.50654743e-02,  -2.44210399e-02,\n",
       "          5.26811486e-02,   2.96091739e-03,  -6.92277493e-02,\n",
       "          4.20551401e-02,   8.90264502e-02,  -3.92491451e-02],\n",
       "       [ -2.21691970e-04,  -5.23215290e-04,  -7.25645909e-04,\n",
       "         -1.69400239e-03,  -3.80521493e-03,  -3.89464309e-03,\n",
       "         -5.91549149e-03,  -2.54272783e-02,  -3.83729933e-02,\n",
       "         -1.35724510e-02,  -4.57927873e-02,  -1.02716844e-01,\n",
       "         -9.84399583e-02,  -1.44529268e-02,  -1.93269556e-02,\n",
       "          2.87728902e-02,   4.82441312e-02,  -3.87900247e-02]])"
      ]
     },
     "execution_count": 40,
     "metadata": {},
     "output_type": "execute_result"
    }
   ],
   "source": [
    "klotz1_obj(0.8,ligset,set1)"
   ]
  },
  {
   "cell_type": "code",
   "execution_count": 42,
   "metadata": {
    "collapsed": true
   },
   "outputs": [],
   "source": [
    "parm = np.array([0.6])"
   ]
  },
  {
   "cell_type": "code",
   "execution_count": 43,
   "metadata": {
    "collapsed": true
   },
   "outputs": [],
   "source": [
    "bound1 = ((0.),(10.))"
   ]
  },
  {
   "cell_type": "code",
   "execution_count": 44,
   "metadata": {
    "collapsed": false
   },
   "outputs": [
    {
     "ename": "ValueError",
     "evalue": "`fun` must return at most 1-d array_like.",
     "output_type": "error",
     "traceback": [
      "\u001b[0;31m---------------------------------------------------------------------------\u001b[0m",
      "\u001b[0;31mValueError\u001b[0m                                Traceback (most recent call last)",
      "\u001b[0;32m<ipython-input-44-4bd752b949f5>\u001b[0m in \u001b[0;36m<module>\u001b[0;34m()\u001b[0m\n\u001b[0;32m----> 1\u001b[0;31m \u001b[0moptimize\u001b[0m\u001b[0;34m.\u001b[0m\u001b[0mleast_squares\u001b[0m\u001b[0;34m(\u001b[0m\u001b[0mklotz1_obj\u001b[0m\u001b[0;34m,\u001b[0m\u001b[0mparm\u001b[0m\u001b[0;34m,\u001b[0m\u001b[0mbounds\u001b[0m\u001b[0;34m=\u001b[0m\u001b[0mbound1\u001b[0m\u001b[0;34m,\u001b[0m\u001b[0margs\u001b[0m\u001b[0;34m=\u001b[0m\u001b[0;34m(\u001b[0m\u001b[0mligset\u001b[0m\u001b[0;34m,\u001b[0m\u001b[0mset1\u001b[0m\u001b[0;34m)\u001b[0m\u001b[0;34m)\u001b[0m\u001b[0;34m\u001b[0m\u001b[0m\n\u001b[0m",
      "\u001b[0;32m/Users/michael/miniconda3/envs/fitter/lib/python3.5/site-packages/scipy/optimize/_lsq/least_squares.py\u001b[0m in \u001b[0;36mleast_squares\u001b[0;34m(fun, x0, jac, bounds, method, ftol, xtol, gtol, x_scale, loss, f_scale, diff_step, tr_solver, tr_options, jac_sparsity, max_nfev, verbose, args, kwargs)\u001b[0m\n\u001b[1;32m    770\u001b[0m \u001b[0;34m\u001b[0m\u001b[0m\n\u001b[1;32m    771\u001b[0m     \u001b[0;32mif\u001b[0m \u001b[0mf0\u001b[0m\u001b[0;34m.\u001b[0m\u001b[0mndim\u001b[0m \u001b[0;34m!=\u001b[0m \u001b[0;36m1\u001b[0m\u001b[0;34m:\u001b[0m\u001b[0;34m\u001b[0m\u001b[0m\n\u001b[0;32m--> 772\u001b[0;31m         \u001b[0;32mraise\u001b[0m \u001b[0mValueError\u001b[0m\u001b[0;34m(\u001b[0m\u001b[0;34m\"`fun` must return at most 1-d array_like.\"\u001b[0m\u001b[0;34m)\u001b[0m\u001b[0;34m\u001b[0m\u001b[0m\n\u001b[0m\u001b[1;32m    773\u001b[0m \u001b[0;34m\u001b[0m\u001b[0m\n\u001b[1;32m    774\u001b[0m     \u001b[0;32mif\u001b[0m \u001b[0;32mnot\u001b[0m \u001b[0mnp\u001b[0m\u001b[0;34m.\u001b[0m\u001b[0mall\u001b[0m\u001b[0;34m(\u001b[0m\u001b[0mnp\u001b[0m\u001b[0;34m.\u001b[0m\u001b[0misfinite\u001b[0m\u001b[0;34m(\u001b[0m\u001b[0mf0\u001b[0m\u001b[0;34m)\u001b[0m\u001b[0;34m)\u001b[0m\u001b[0;34m:\u001b[0m\u001b[0;34m\u001b[0m\u001b[0m\n",
      "\u001b[0;31mValueError\u001b[0m: `fun` must return at most 1-d array_like."
     ]
    }
   ],
   "source": [
    "optimize.least_squares(klotz1_obj,parm,bounds=bound1,args=(ligset,set1))"
   ]
  },
  {
   "cell_type": "code",
   "execution_count": 45,
   "metadata": {
    "collapsed": true
   },
   "outputs": [],
   "source": [
    "%autoreload"
   ]
  },
  {
   "cell_type": "code",
   "execution_count": 48,
   "metadata": {
    "collapsed": false
   },
   "outputs": [],
   "source": [
    "res = optimize.least_squares(ligtools.klotz1_obj,parm,bounds=bound1,args=(ligset,set1))"
   ]
  },
  {
   "cell_type": "code",
   "execution_count": 49,
   "metadata": {
    "collapsed": false
   },
   "outputs": [
    {
     "data": {
      "text/plain": [
       "array([ 0.99307842])"
      ]
     },
     "execution_count": 49,
     "metadata": {},
     "output_type": "execute_result"
    }
   ],
   "source": [
    "res.x"
   ]
  },
  {
   "cell_type": "code",
   "execution_count": 53,
   "metadata": {
    "collapsed": false
   },
   "outputs": [],
   "source": [
    "meanset = set1.mean(axis=0)"
   ]
  },
  {
   "cell_type": "code",
   "execution_count": 54,
   "metadata": {
    "collapsed": false
   },
   "outputs": [
    {
     "ename": "ValueError",
     "evalue": "zero-dimensional arrays cannot be concatenated",
     "output_type": "error",
     "traceback": [
      "\u001b[0;31m---------------------------------------------------------------------------\u001b[0m",
      "\u001b[0;31mValueError\u001b[0m                                Traceback (most recent call last)",
      "\u001b[0;32m<ipython-input-54-75e15fbac9e8>\u001b[0m in \u001b[0;36m<module>\u001b[0;34m()\u001b[0m\n\u001b[0;32m----> 1\u001b[0;31m \u001b[0mres\u001b[0m \u001b[0;34m=\u001b[0m \u001b[0moptimize\u001b[0m\u001b[0;34m.\u001b[0m\u001b[0mleast_squares\u001b[0m\u001b[0;34m(\u001b[0m\u001b[0mligtools\u001b[0m\u001b[0;34m.\u001b[0m\u001b[0mklotz1_obj\u001b[0m\u001b[0;34m,\u001b[0m\u001b[0mparm\u001b[0m\u001b[0;34m,\u001b[0m\u001b[0mbounds\u001b[0m\u001b[0;34m=\u001b[0m\u001b[0mbound1\u001b[0m\u001b[0;34m,\u001b[0m\u001b[0margs\u001b[0m\u001b[0;34m=\u001b[0m\u001b[0;34m(\u001b[0m\u001b[0mligs\u001b[0m\u001b[0;34m,\u001b[0m\u001b[0mmeanset\u001b[0m\u001b[0;34m)\u001b[0m\u001b[0;34m)\u001b[0m\u001b[0;34m\u001b[0m\u001b[0m\n\u001b[0m",
      "\u001b[0;32m/Users/michael/miniconda3/envs/fitter/lib/python3.5/site-packages/scipy/optimize/_lsq/least_squares.py\u001b[0m in \u001b[0;36mleast_squares\u001b[0;34m(fun, x0, jac, bounds, method, ftol, xtol, gtol, x_scale, loss, f_scale, diff_step, tr_solver, tr_options, jac_sparsity, max_nfev, verbose, args, kwargs)\u001b[0m\n\u001b[1;32m    767\u001b[0m         \u001b[0mx0\u001b[0m \u001b[0;34m=\u001b[0m \u001b[0mmake_strictly_feasible\u001b[0m\u001b[0;34m(\u001b[0m\u001b[0mx0\u001b[0m\u001b[0;34m,\u001b[0m \u001b[0mlb\u001b[0m\u001b[0;34m,\u001b[0m \u001b[0mub\u001b[0m\u001b[0;34m)\u001b[0m\u001b[0;34m\u001b[0m\u001b[0m\n\u001b[1;32m    768\u001b[0m \u001b[0;34m\u001b[0m\u001b[0m\n\u001b[0;32m--> 769\u001b[0;31m     \u001b[0mf0\u001b[0m \u001b[0;34m=\u001b[0m \u001b[0mfun_wrapped\u001b[0m\u001b[0;34m(\u001b[0m\u001b[0mx0\u001b[0m\u001b[0;34m)\u001b[0m\u001b[0;34m\u001b[0m\u001b[0m\n\u001b[0m\u001b[1;32m    770\u001b[0m \u001b[0;34m\u001b[0m\u001b[0m\n\u001b[1;32m    771\u001b[0m     \u001b[0;32mif\u001b[0m \u001b[0mf0\u001b[0m\u001b[0;34m.\u001b[0m\u001b[0mndim\u001b[0m \u001b[0;34m!=\u001b[0m \u001b[0;36m1\u001b[0m\u001b[0;34m:\u001b[0m\u001b[0;34m\u001b[0m\u001b[0m\n",
      "\u001b[0;32m/Users/michael/miniconda3/envs/fitter/lib/python3.5/site-packages/scipy/optimize/_lsq/least_squares.py\u001b[0m in \u001b[0;36mfun_wrapped\u001b[0;34m(x)\u001b[0m\n\u001b[1;32m    762\u001b[0m \u001b[0;34m\u001b[0m\u001b[0m\n\u001b[1;32m    763\u001b[0m     \u001b[0;32mdef\u001b[0m \u001b[0mfun_wrapped\u001b[0m\u001b[0;34m(\u001b[0m\u001b[0mx\u001b[0m\u001b[0;34m)\u001b[0m\u001b[0;34m:\u001b[0m\u001b[0;34m\u001b[0m\u001b[0m\n\u001b[0;32m--> 764\u001b[0;31m         \u001b[0;32mreturn\u001b[0m \u001b[0mnp\u001b[0m\u001b[0;34m.\u001b[0m\u001b[0matleast_1d\u001b[0m\u001b[0;34m(\u001b[0m\u001b[0mfun\u001b[0m\u001b[0;34m(\u001b[0m\u001b[0mx\u001b[0m\u001b[0;34m,\u001b[0m \u001b[0;34m*\u001b[0m\u001b[0margs\u001b[0m\u001b[0;34m,\u001b[0m \u001b[0;34m**\u001b[0m\u001b[0mkwargs\u001b[0m\u001b[0;34m)\u001b[0m\u001b[0;34m)\u001b[0m\u001b[0;34m\u001b[0m\u001b[0m\n\u001b[0m\u001b[1;32m    765\u001b[0m \u001b[0;34m\u001b[0m\u001b[0m\n\u001b[1;32m    766\u001b[0m     \u001b[0;32mif\u001b[0m \u001b[0mmethod\u001b[0m \u001b[0;34m==\u001b[0m \u001b[0;34m'trf'\u001b[0m\u001b[0;34m:\u001b[0m\u001b[0;34m\u001b[0m\u001b[0m\n",
      "\u001b[0;32m/Users/michael/thesis2.0/ipythes/allnbs/ligtools.py\u001b[0m in \u001b[0;36mklotz1_obj\u001b[0;34m(k, lig, dat, eps)\u001b[0m\n\u001b[1;32m     14\u001b[0m     \u001b[0mbfrac\u001b[0m \u001b[0;34m=\u001b[0m \u001b[0;34m(\u001b[0m\u001b[0mk\u001b[0m\u001b[0;34m*\u001b[0m\u001b[0mlig\u001b[0m\u001b[0;34m)\u001b[0m\u001b[0;34m/\u001b[0m\u001b[0;34m(\u001b[0m\u001b[0;36m1\u001b[0m \u001b[0;34m+\u001b[0m \u001b[0mk\u001b[0m\u001b[0;34m*\u001b[0m\u001b[0mlig\u001b[0m\u001b[0;34m)\u001b[0m\u001b[0;34m\u001b[0m\u001b[0m\n\u001b[1;32m     15\u001b[0m     \u001b[0;32mif\u001b[0m \u001b[0meps\u001b[0m \u001b[0;32mis\u001b[0m \u001b[0;32mNone\u001b[0m\u001b[0;34m:\u001b[0m\u001b[0;34m\u001b[0m\u001b[0m\n\u001b[0;32m---> 16\u001b[0;31m         \u001b[0;32mreturn\u001b[0m \u001b[0mnp\u001b[0m\u001b[0;34m.\u001b[0m\u001b[0mconcatenate\u001b[0m\u001b[0;34m(\u001b[0m\u001b[0;34m(\u001b[0m\u001b[0mbfrac\u001b[0m \u001b[0;34m-\u001b[0m \u001b[0mdat\u001b[0m\u001b[0;34m)\u001b[0m\u001b[0;34m)\u001b[0m\u001b[0;34m\u001b[0m\u001b[0m\n\u001b[0m\u001b[1;32m     17\u001b[0m     \u001b[0;32melse\u001b[0m\u001b[0;34m:\u001b[0m\u001b[0;34m\u001b[0m\u001b[0m\n\u001b[1;32m     18\u001b[0m         \u001b[0;32mreturn\u001b[0m \u001b[0mnp\u001b[0m\u001b[0;34m.\u001b[0m\u001b[0mconcatenate\u001b[0m\u001b[0;34m(\u001b[0m\u001b[0;34m(\u001b[0m\u001b[0mbfrac\u001b[0m \u001b[0;34m-\u001b[0m \u001b[0mdat\u001b[0m\u001b[0;34m)\u001b[0m\u001b[0;34m/\u001b[0m\u001b[0meps\u001b[0m\u001b[0;34m)\u001b[0m\u001b[0;34m\u001b[0m\u001b[0m\n",
      "\u001b[0;31mValueError\u001b[0m: zero-dimensional arrays cannot be concatenated"
     ]
    }
   ],
   "source": [
    "res = optimize.least_squares(ligtools.klotz1_obj,parm,bounds=bound1,args=(ligs,meanset))"
   ]
  },
  {
   "cell_type": "code",
   "execution_count": 57,
   "metadata": {
    "collapsed": false
   },
   "outputs": [
    {
     "data": {
      "text/plain": [
       "2"
      ]
     },
     "execution_count": 57,
     "metadata": {},
     "output_type": "execute_result"
    }
   ],
   "source": [
    "ligset.ndim"
   ]
  },
  {
   "cell_type": "code",
   "execution_count": 58,
   "metadata": {
    "collapsed": false
   },
   "outputs": [
    {
     "data": {
      "text/plain": [
       "1"
      ]
     },
     "execution_count": 58,
     "metadata": {},
     "output_type": "execute_result"
    }
   ],
   "source": [
    "ligs.ndim"
   ]
  },
  {
   "cell_type": "code",
   "execution_count": 59,
   "metadata": {
    "collapsed": true
   },
   "outputs": [],
   "source": [
    "%autoreload"
   ]
  },
  {
   "cell_type": "code",
   "execution_count": 60,
   "metadata": {
    "collapsed": true
   },
   "outputs": [],
   "source": [
    "res1 = optimize.least_squares(ligtools.klotz1_obj,parm,bounds=bound1,args=(ligs,meanset))"
   ]
  },
  {
   "cell_type": "code",
   "execution_count": 61,
   "metadata": {
    "collapsed": false
   },
   "outputs": [
    {
     "data": {
      "text/plain": [
       "array([ 0.99307842])"
      ]
     },
     "execution_count": 61,
     "metadata": {},
     "output_type": "execute_result"
    }
   ],
   "source": [
    "res1.x"
   ]
  },
  {
   "cell_type": "code",
   "execution_count": 62,
   "metadata": {
    "collapsed": false
   },
   "outputs": [
    {
     "data": {
      "text/plain": [
       "array([ 0.99307842])"
      ]
     },
     "execution_count": 62,
     "metadata": {},
     "output_type": "execute_result"
    }
   ],
   "source": [
    "res.x"
   ]
  },
  {
   "cell_type": "code",
   "execution_count": 63,
   "metadata": {
    "collapsed": false
   },
   "outputs": [
    {
     "data": {
      "text/plain": [
       "array([  3.73057266e-05,  -4.27586061e-05,  -2.28227192e-05,\n",
       "        -1.44319741e-04,   2.85662246e-04,  -8.86673539e-04,\n",
       "        -8.25120744e-04,  -7.52947105e-04,  -5.50865887e-03,\n",
       "         1.23494418e-02,  -1.01145793e-02,  -1.15614269e-03,\n",
       "         6.98419315e-03,  -7.65086392e-03,  -4.26446774e-03,\n",
       "         1.30527541e-02,   3.79109168e-02,  -1.40657584e-03])"
      ]
     },
     "execution_count": 63,
     "metadata": {},
     "output_type": "execute_result"
    }
   ],
   "source": [
    "res1.fun"
   ]
  },
  {
   "cell_type": "code",
   "execution_count": 65,
   "metadata": {
    "collapsed": false
   },
   "outputs": [
    {
     "data": {
      "text/plain": [
       "array([  9.92093194e-04,   1.98221984e-03,   3.95659684e-03,\n",
       "         7.88200775e-03,   1.56407351e-02,   3.07997396e-02,\n",
       "         5.97589201e-02,   1.12778329e-01,   2.02696846e-01,\n",
       "         3.37070554e-01,   5.04192622e-01,   6.70383054e-01,\n",
       "         8.02669846e-01,   8.90534501e-01,   9.42098121e-01,\n",
       "         9.70185915e-01,   9.84867375e-01,   9.92376002e-01])"
      ]
     },
     "execution_count": 65,
     "metadata": {},
     "output_type": "execute_result"
    }
   ],
   "source": [
    "klotz1(res1.x,ligs)"
   ]
  },
  {
   "cell_type": "code",
   "execution_count": 66,
   "metadata": {
    "collapsed": false
   },
   "outputs": [
    {
     "data": {
      "text/plain": [
       "array([ 0.0010294 ,  0.00193946,  0.00393377,  0.00773769,  0.0159264 ,\n",
       "        0.02991307,  0.0589338 ,  0.11202538,  0.19718819,  0.34942   ,\n",
       "        0.49407804,  0.66922691,  0.80965404,  0.88288364,  0.93783365,\n",
       "        0.98323867,  1.02277829,  0.99096943])"
      ]
     },
     "execution_count": 66,
     "metadata": {},
     "output_type": "execute_result"
    }
   ],
   "source": [
    "res1.fun + klotz1(res1.x,ligs)"
   ]
  },
  {
   "cell_type": "code",
   "execution_count": 67,
   "metadata": {
    "collapsed": false
   },
   "outputs": [
    {
     "data": {
      "text/plain": [
       "array([ 0.000999  ,  0.00199601,  0.00398406,  0.00793651,  0.01574803,\n",
       "        0.03100775,  0.06015038,  0.11347518,  0.20382166,  0.33862434,\n",
       "        0.50592885,  0.67191601,  0.80376766,  0.89120975,  0.94247584,\n",
       "        0.97038616,  0.98497054,  0.99242837])"
      ]
     },
     "execution_count": 67,
     "metadata": {},
     "output_type": "execute_result"
    }
   ],
   "source": [
    "klotz1(1.,ligs)"
   ]
  },
  {
   "cell_type": "code",
   "execution_count": 69,
   "metadata": {
    "collapsed": false
   },
   "outputs": [
    {
     "data": {
      "text/plain": [
       "array([  3.73057266e-05,  -4.27586061e-05,  -2.28227192e-05,\n",
       "        -1.44319741e-04,   2.85662246e-04,  -8.86673539e-04,\n",
       "        -8.25120744e-04,  -7.52947105e-04,  -5.50865887e-03,\n",
       "         1.23494418e-02,  -1.01145793e-02,  -1.15614269e-03,\n",
       "         6.98419315e-03,  -7.65086392e-03,  -4.26446774e-03,\n",
       "         1.30527541e-02,   3.79109168e-02,  -1.40657584e-03])"
      ]
     },
     "execution_count": 69,
     "metadata": {},
     "output_type": "execute_result"
    }
   ],
   "source": [
    "klotz1(res1.x,ligs) - meanset"
   ]
  },
  {
   "cell_type": "code",
   "execution_count": 71,
   "metadata": {
    "collapsed": false
   },
   "outputs": [
    {
     "data": {
      "text/plain": [
       "[<matplotlib.lines.Line2D at 0x110b8fb38>]"
      ]
     },
     "execution_count": 71,
     "metadata": {},
     "output_type": "execute_result"
    },
    {
     "data": {
      "image/png": "[encoded data removed]",
      "text/plain": [
       "<matplotlib.figure.Figure at 0x110b32320>"
      ]
     },
     "metadata": {},
     "output_type": "display_data"
    }
   ],
   "source": [
    "plt.plot(klotz1(res1.x,ligs),res1.fun,'.')"
   ]
  },
  {
   "cell_type": "code",
   "execution_count": 73,
   "metadata": {
    "collapsed": false
   },
   "outputs": [
    {
     "data": {
      "text/plain": [
       "[<matplotlib.lines.Line2D at 0x110b19be0>]"
      ]
     },
     "execution_count": 73,
     "metadata": {},
     "output_type": "execute_result"
    },
    {
     "data": {
      "image/png": "[encoded data removed]",
      "text/plain": [
       "<matplotlib.figure.Figure at 0x110b19b00>"
      ]
     },
     "metadata": {},
     "output_type": "display_data"
    }
   ],
   "source": [
    "plt.semilogx(ligs,meanset,'.')\n",
    "plt.semilogx(ligs,klotz1(res1.x,ligs),'-')"
   ]
  },
  {
   "cell_type": "code",
   "execution_count": 74,
   "metadata": {
    "collapsed": true
   },
   "outputs": [],
   "source": [
    "errs = meanset*0.05"
   ]
  },
  {
   "cell_type": "code",
   "execution_count": 75,
   "metadata": {
    "collapsed": false
   },
   "outputs": [
    {
     "data": {
      "text/plain": [
       "array([  4.77393734e-05,   1.01248922e-04,   1.98970978e-04,\n",
       "         4.01316374e-04,   7.67753643e-04,   1.58432066e-03,\n",
       "         3.02920204e-03,   5.67656381e-03,   1.04102753e-02,\n",
       "         1.62360556e-02,   2.57153601e-02,   3.35769598e-02,\n",
       "         3.97842826e-02,   4.49092682e-02,   4.73181295e-02,\n",
       "         4.78566580e-02,   4.73478229e-02,   4.96891289e-02])"
      ]
     },
     "execution_count": 75,
     "metadata": {},
     "output_type": "execute_result"
    }
   ],
   "source": [
    "errs"
   ]
  },
  {
   "cell_type": "code",
   "execution_count": 78,
   "metadata": {
    "collapsed": false
   },
   "outputs": [
    {
     "name": "stdout",
     "output_type": "stream",
     "text": [
      "Help on function errorbar in module matplotlib.pyplot:\n",
      "\n",
      "errorbar(x, y, yerr=None, xerr=None, fmt='', ecolor=None, elinewidth=None, capsize=None, barsabove=False, lolims=False, uplims=False, xlolims=False, xuplims=False, errorevery=1, capthick=None, hold=None, data=None, **kwargs)\n",
      "    Plot an errorbar graph.\n",
      "    \n",
      "    Call signature::\n",
      "    \n",
      "      errorbar(x, y, yerr=None, xerr=None,\n",
      "               fmt='', ecolor=None, elinewidth=None, capsize=None,\n",
      "               barsabove=False, lolims=False, uplims=False,\n",
      "               xlolims=False, xuplims=False, errorevery=1,\n",
      "               capthick=None)\n",
      "    \n",
      "    Plot *x* versus *y* with error deltas in *yerr* and *xerr*.\n",
      "    Vertical errorbars are plotted if *yerr* is not *None*.\n",
      "    Horizontal errorbars are plotted if *xerr* is not *None*.\n",
      "    \n",
      "    *x*, *y*, *xerr*, and *yerr* can all be scalars, which plots a\n",
      "    single error bar at *x*, *y*.\n",
      "    \n",
      "    Optional keyword arguments:\n",
      "    \n",
      "      *xerr*/*yerr*: [ scalar | N, Nx1, or 2xN array-like ]\n",
      "        If a scalar number, len(N) array-like object, or an Nx1\n",
      "        array-like object, errorbars are drawn at +/-value relative\n",
      "        to the data.\n",
      "    \n",
      "        If a sequence of shape 2xN, errorbars are drawn at -row1\n",
      "        and +row2 relative to the data.\n",
      "    \n",
      "      *fmt*: [ '' | 'none' | plot format string ]\n",
      "        The plot format symbol. If *fmt* is 'none' (case-insensitive),\n",
      "        only the errorbars are plotted.  This is used for adding\n",
      "        errorbars to a bar plot, for example.  Default is '',\n",
      "        an empty plot format string; properties are\n",
      "        then identical to the defaults for :meth:`plot`.\n",
      "    \n",
      "      *ecolor*: [ *None* | mpl color ]\n",
      "        A matplotlib color arg which gives the color the errorbar lines;\n",
      "        if *None*, use the color of the line connecting the markers.\n",
      "    \n",
      "      *elinewidth*: scalar\n",
      "        The linewidth of the errorbar lines. If *None*, use the linewidth.\n",
      "    \n",
      "      *capsize*: scalar\n",
      "        The length of the error bar caps in points; if *None*, it will\n",
      "        take the value from ``errorbar.capsize``\n",
      "        :data:`rcParam<matplotlib.rcParams>`.\n",
      "    \n",
      "      *capthick*: scalar\n",
      "        An alias kwarg to *markeredgewidth* (a.k.a. - *mew*). This\n",
      "        setting is a more sensible name for the property that\n",
      "        controls the thickness of the error bar cap in points. For\n",
      "        backwards compatibility, if *mew* or *markeredgewidth* are given,\n",
      "        then they will over-ride *capthick*.  This may change in future\n",
      "        releases.\n",
      "    \n",
      "      *barsabove*: [ *True* | *False* ]\n",
      "        if *True*, will plot the errorbars above the plot\n",
      "        symbols. Default is below.\n",
      "    \n",
      "      *lolims* / *uplims* / *xlolims* / *xuplims*: [ *False* | *True* ]\n",
      "        These arguments can be used to indicate that a value gives\n",
      "        only upper/lower limits. In that case a caret symbol is\n",
      "        used to indicate this. lims-arguments may be of the same\n",
      "        type as *xerr* and *yerr*.  To use limits with inverted\n",
      "        axes, :meth:`set_xlim` or :meth:`set_ylim` must be called\n",
      "        before :meth:`errorbar`.\n",
      "    \n",
      "      *errorevery*: positive integer\n",
      "        subsamples the errorbars. e.g., if errorevery=5, errorbars for\n",
      "        every 5-th datapoint will be plotted. The data plot itself still\n",
      "        shows all data points.\n",
      "    \n",
      "    All other keyword arguments are passed on to the plot command for the\n",
      "    markers. For example, this code makes big red squares with\n",
      "    thick green edges::\n",
      "    \n",
      "      x,y,yerr = rand(3,10)\n",
      "      errorbar(x, y, yerr, marker='s',\n",
      "               mfc='red', mec='green', ms=20, mew=4)\n",
      "    \n",
      "    where *mfc*, *mec*, *ms* and *mew* are aliases for the longer\n",
      "    property names, *markerfacecolor*, *markeredgecolor*, *markersize*\n",
      "    and *markeredgewith*.\n",
      "    \n",
      "    valid kwargs for the marker properties are\n",
      "    \n",
      "      agg_filter: unknown\n",
      "      alpha: float (0.0 transparent through 1.0 opaque) \n",
      "      animated: [True | False] \n",
      "      antialiased or aa: [True | False] \n",
      "      axes: an :class:`~matplotlib.axes.Axes` instance \n",
      "      clip_box: a :class:`matplotlib.transforms.Bbox` instance \n",
      "      clip_on: [True | False] \n",
      "      clip_path: [ (:class:`~matplotlib.path.Path`, :class:`~matplotlib.transforms.Transform`) | :class:`~matplotlib.patches.Patch` | None ] \n",
      "      color or c: any matplotlib color \n",
      "      contains: a callable function \n",
      "      dash_capstyle: ['butt' | 'round' | 'projecting'] \n",
      "      dash_joinstyle: ['miter' | 'round' | 'bevel'] \n",
      "      dashes: sequence of on/off ink in points \n",
      "      drawstyle: ['default' | 'steps' | 'steps-pre' | 'steps-mid' | 'steps-post'] \n",
      "      figure: a :class:`matplotlib.figure.Figure` instance \n",
      "      fillstyle: ['full' | 'left' | 'right' | 'bottom' | 'top' | 'none'] \n",
      "      gid: an id string \n",
      "      label: string or anything printable with '%s' conversion. \n",
      "      linestyle or ls: ['solid' | 'dashed', 'dashdot', 'dotted' | (offset, on-off-dash-seq) | ``'-'`` | ``'--'`` | ``'-.'`` | ``':'`` | ``'None'`` | ``' '`` | ``''``]\n",
      "      linewidth or lw: float value in points \n",
      "      marker: :mod:`A valid marker style <matplotlib.markers>`\n",
      "      markeredgecolor or mec: any matplotlib color \n",
      "      markeredgewidth or mew: float value in points \n",
      "      markerfacecolor or mfc: any matplotlib color \n",
      "      markerfacecoloralt or mfcalt: any matplotlib color \n",
      "      markersize or ms: float \n",
      "      markevery: [None | int | length-2 tuple of int | slice | list/array of int | float | length-2 tuple of float]\n",
      "      path_effects: unknown\n",
      "      picker: float distance in points or callable pick function ``fn(artist, event)`` \n",
      "      pickradius: float distance in points \n",
      "      rasterized: [True | False | None] \n",
      "      sketch_params: unknown\n",
      "      snap: unknown\n",
      "      solid_capstyle: ['butt' | 'round' |  'projecting'] \n",
      "      solid_joinstyle: ['miter' | 'round' | 'bevel'] \n",
      "      transform: a :class:`matplotlib.transforms.Transform` instance \n",
      "      url: a url string \n",
      "      visible: [True | False] \n",
      "      xdata: 1D array \n",
      "      ydata: 1D array \n",
      "      zorder: any number \n",
      "    \n",
      "    Returns (*plotline*, *caplines*, *barlinecols*):\n",
      "    \n",
      "        *plotline*: :class:`~matplotlib.lines.Line2D` instance\n",
      "            *x*, *y* plot markers and/or line\n",
      "    \n",
      "        *caplines*: list of error bar cap\n",
      "            :class:`~matplotlib.lines.Line2D` instances\n",
      "        *barlinecols*: list of\n",
      "            :class:`~matplotlib.collections.LineCollection` instances for\n",
      "            the horizontal and vertical error ranges.\n",
      "    \n",
      "    **Example:**\n",
      "    \n",
      "    .. plot:: mpl_examples/statistics/errorbar_demo.py\n",
      "    \n",
      "    Notes\n",
      "    -----\n",
      "    \n",
      "    In addition to the above described arguments, this function can take a\n",
      "    **data** keyword argument. If such a **data** argument is given, the\n",
      "    following arguments are replaced by **data[<arg>]**:\n",
      "    \n",
      "    * All arguments with the following names: 'y', 'x', 'xerr', 'yerr'.\n",
      "    \n",
      "    \n",
      "    \n",
      "    \n",
      "    Additional kwargs: hold = [True|False] overrides default hold state\n",
      "\n"
     ]
    }
   ],
   "source": [
    "help(plt.errorbar)"
   ]
  },
  {
   "cell_type": "code",
   "execution_count": 81,
   "metadata": {
    "collapsed": false
   },
   "outputs": [
    {
     "data": {
      "image/png": "[encoded data removed]",
      "text/plain": [
       "<matplotlib.figure.Figure at 0x110d14978>"
      ]
     },
     "metadata": {},
     "output_type": "display_data"
    }
   ],
   "source": [
    "plt.errorbar(ligs,meanset,errs)\n",
    "plt.xscale('log')"
   ]
  },
  {
   "cell_type": "code",
   "execution_count": 91,
   "metadata": {
    "collapsed": false
   },
   "outputs": [
    {
     "data": {
      "text/plain": [
       "array([-0.00035515, -0.00082642, -0.00158517, -0.00324926, -0.00584636,\n",
       "       -0.01284811, -0.02360407, -0.04220884, -0.0750571 , -0.08971499,\n",
       "       -0.13373237, -0.12021113, -0.08490361, -0.06724136, -0.03869528,\n",
       "       -0.005534  ,  0.02824294, -0.00633858])"
      ]
     },
     "execution_count": 91,
     "metadata": {},
     "output_type": "execute_result"
    }
   ],
   "source": [
    "ligtools.klotz1_obj(0.6, ligs, meanset,errs)"
   ]
  },
  {
   "cell_type": "code",
   "execution_count": 92,
   "metadata": {
    "collapsed": false
   },
   "outputs": [
    {
     "data": {
      "text/plain": [
       "array([  4.77393734e-05,   1.01248922e-04,   1.98970978e-04,\n",
       "         4.01316374e-04,   7.67753643e-04,   1.58432066e-03,\n",
       "         3.02920204e-03,   5.67656381e-03,   1.04102753e-02,\n",
       "         1.62360556e-02,   2.57153601e-02,   3.35769598e-02,\n",
       "         3.97842826e-02,   4.49092682e-02,   4.73181295e-02,\n",
       "         4.78566580e-02,   4.73478229e-02,   4.96891289e-02])"
      ]
     },
     "execution_count": 92,
     "metadata": {},
     "output_type": "execute_result"
    }
   ],
   "source": [
    "errs"
   ]
  },
  {
   "cell_type": "code",
   "execution_count": 93,
   "metadata": {
    "collapsed": true
   },
   "outputs": [],
   "source": [
    "%autoreload"
   ]
  },
  {
   "cell_type": "code",
   "execution_count": 94,
   "metadata": {
    "collapsed": false
   },
   "outputs": [
    {
     "data": {
      "text/plain": [
       "array([-7.43929437, -8.16222733, -7.96681899, -8.0964985 , -7.61488608,\n",
       "       -8.10953802, -7.79217474, -7.43563196, -7.20990544, -5.52566428,\n",
       "       -5.20048619, -3.58016713, -2.13409924, -1.49727125, -0.81776864,\n",
       "       -0.11563693,  0.59649921, -0.12756467])"
      ]
     },
     "execution_count": 94,
     "metadata": {},
     "output_type": "execute_result"
    }
   ],
   "source": [
    "ligtools.klotz1_obj(0.6, ligs, meanset,errs)"
   ]
  },
  {
   "cell_type": "code",
   "execution_count": 95,
   "metadata": {
    "collapsed": true
   },
   "outputs": [],
   "source": [
    "res_wt = optimize.least_squares(ligtools.klotz1_obj,parm,bounds=bound1,args=(ligs,meanset,errs))"
   ]
  },
  {
   "cell_type": "code",
   "execution_count": 96,
   "metadata": {
    "collapsed": false
   },
   "outputs": [
    {
     "data": {
      "text/plain": [
       "array([ 0.99666271])"
      ]
     },
     "execution_count": 96,
     "metadata": {},
     "output_type": "execute_result"
    }
   ],
   "source": [
    "res_wt.x"
   ]
  },
  {
   "cell_type": "code",
   "execution_count": 98,
   "metadata": {
    "collapsed": true
   },
   "outputs": [],
   "source": [
    "%autoreload"
   ]
  },
  {
   "cell_type": "code",
   "execution_count": 99,
   "metadata": {
    "collapsed": false
   },
   "outputs": [
    {
     "data": {
      "text/plain": [
       "array([ 0.000999  ,  0.00199601,  0.00398406,  0.00793651,  0.01574803,\n",
       "        0.03100775,  0.06015038,  0.11347518,  0.20382166,  0.33862434,\n",
       "        0.50592885,  0.67191601,  0.80376766,  0.89120975,  0.94247584,\n",
       "        0.97038616,  0.98497054,  0.99242837])"
      ]
     },
     "execution_count": 99,
     "metadata": {},
     "output_type": "execute_result"
    }
   ],
   "source": [
    "ligtools.klotz1(1.,ligs)"
   ]
  },
  {
   "cell_type": "code",
   "execution_count": 142,
   "metadata": {
    "collapsed": true
   },
   "outputs": [],
   "source": [
    "results_weighted = []\n",
    "for i in range(10000):\n",
    "    dat = ligtools.noiser(ligtools.klotz1(1.,ligs),0.05)\n",
    "    err = 0.05*dat\n",
    "    results_weighted.append(optimize.least_squares(ligtools.klotz1_obj,parm,bounds=bound1,args=(ligs,dat,err)))   "
   ]
  },
  {
   "cell_type": "code",
   "execution_count": 111,
   "metadata": {
    "collapsed": false
   },
   "outputs": [],
   "source": [
    "results_wgt = np.array(results_weighted)"
   ]
  },
  {
   "cell_type": "code",
   "execution_count": 114,
   "metadata": {
    "collapsed": false
   },
   "outputs": [
    {
     "data": {
      "text/plain": [
       "0.99476820167502245"
      ]
     },
     "execution_count": 114,
     "metadata": {},
     "output_type": "execute_result"
    }
   ],
   "source": [
    "results_wgt.mean()"
   ]
  },
  {
   "cell_type": "code",
   "execution_count": 106,
   "metadata": {
    "collapsed": false
   },
   "outputs": [
    {
     "data": {
      "text/plain": [
       "array([  1.01170839e-03,   2.06370298e-03,   3.95696192e-03,\n",
       "         7.83688926e-03,   1.55933006e-02,   3.20869046e-02,\n",
       "         6.13034794e-02,   1.17105384e-01,   1.98800356e-01,\n",
       "         3.29147245e-01,   4.89332792e-01,   6.82349046e-01,\n",
       "         8.12467279e-01,   9.45540909e-01,   9.74567381e-01,\n",
       "         1.00672943e+00,   9.51050958e-01,   1.01392983e+00])"
      ]
     },
     "execution_count": 106,
     "metadata": {},
     "output_type": "execute_result"
    }
   ],
   "source": [
    "ligtools.noiser(ligtools.klotz1(1.,ligs),0.05)"
   ]
  },
  {
   "cell_type": "code",
   "execution_count": 143,
   "metadata": {
    "collapsed": true
   },
   "outputs": [],
   "source": [
    "results_unweighted = []\n",
    "for i in range(10000):\n",
    "    dat = ligtools.noiser(ligtools.klotz1(1.,ligs),0.05)\n",
    "    results_unweighted.append(optimize.least_squares(ligtools.klotz1_obj,parm,bounds=bound1,args=(ligs,dat)))"
   ]
  },
  {
   "cell_type": "code",
   "execution_count": 116,
   "metadata": {
    "collapsed": true
   },
   "outputs": [],
   "source": [
    "results_un = np.array(results_unweighted)"
   ]
  },
  {
   "cell_type": "code",
   "execution_count": 117,
   "metadata": {
    "collapsed": false
   },
   "outputs": [
    {
     "data": {
      "text/plain": [
       "1.0005306570943613"
      ]
     },
     "execution_count": 117,
     "metadata": {},
     "output_type": "execute_result"
    }
   ],
   "source": [
    "results_un.mean()"
   ]
  },
  {
   "cell_type": "code",
   "execution_count": 129,
   "metadata": {
    "collapsed": true
   },
   "outputs": [],
   "source": [
    "results = np.vstack([results_wgt,results_un])"
   ]
  },
  {
   "cell_type": "raw",
   "metadata": {},
   "source": []
  },
  {
   "cell_type": "code",
   "execution_count": 132,
   "metadata": {
    "collapsed": false
   },
   "outputs": [
    {
     "data": {
      "text/plain": [
       "{'boxes': [<matplotlib.lines.Line2D at 0x11042c828>],\n",
       " 'caps': [<matplotlib.lines.Line2D at 0x111c12f28>,\n",
       "  <matplotlib.lines.Line2D at 0x111c0f390>],\n",
       " 'fliers': [<matplotlib.lines.Line2D at 0x111c0a6d8>],\n",
       " 'means': [],\n",
       " 'medians': [<matplotlib.lines.Line2D at 0x111c0f2e8>],\n",
       " 'whiskers': [<matplotlib.lines.Line2D at 0x111c17978>,\n",
       "  <matplotlib.lines.Line2D at 0x111c170b8>]}"
      ]
     },
     "execution_count": 132,
     "metadata": {},
     "output_type": "execute_result"
    },
    {
     "data": {
      "image/png": "[encoded data removed]",
      "text/plain": [
       "<matplotlib.figure.Figure at 0x110b26748>"
      ]
     },
     "metadata": {},
     "output_type": "display_data"
    }
   ],
   "source": [
    "plt.boxplot(results)"
   ]
  },
  {
   "cell_type": "code",
   "execution_count": 139,
   "metadata": {
    "collapsed": false
   },
   "outputs": [],
   "source": [
    "results = np.stack([np.concatenate(results_unweighted),np.concatenate(results_weighted)],axis=1)"
   ]
  },
  {
   "cell_type": "code",
   "execution_count": 140,
   "metadata": {
    "collapsed": false
   },
   "outputs": [
    {
     "data": {
      "text/plain": [
       "array([[ 0.96146006,  0.98662571],\n",
       "       [ 1.01799805,  0.97325732],\n",
       "       [ 1.08571076,  0.97717147],\n",
       "       ..., \n",
       "       [ 1.04975791,  0.99152541],\n",
       "       [ 0.99523633,  1.00130028],\n",
       "       [ 1.0485709 ,  1.00423812]])"
      ]
     },
     "execution_count": 140,
     "metadata": {},
     "output_type": "execute_result"
    }
   ],
   "source": [
    "results"
   ]
  },
  {
   "cell_type": "code",
   "execution_count": 141,
   "metadata": {
    "collapsed": false
   },
   "outputs": [
    {
     "data": {
      "text/plain": [
       "{'boxes': [<matplotlib.lines.Line2D at 0x11de406d8>,\n",
       "  <matplotlib.lines.Line2D at 0x11d3e92b0>],\n",
       " 'caps': [<matplotlib.lines.Line2D at 0x11de47cf8>,\n",
       "  <matplotlib.lines.Line2D at 0x11de4ed68>,\n",
       "  <matplotlib.lines.Line2D at 0x11de64d30>,\n",
       "  <matplotlib.lines.Line2D at 0x11de6ce10>],\n",
       " 'fliers': [<matplotlib.lines.Line2D at 0x11de56ef0>,\n",
       "  <matplotlib.lines.Line2D at 0x11de72940>],\n",
       " 'means': [],\n",
       " 'medians': [<matplotlib.lines.Line2D at 0x11de4eef0>,\n",
       "  <matplotlib.lines.Line2D at 0x11de6cf98>],\n",
       " 'whiskers': [<matplotlib.lines.Line2D at 0x11de40978>,\n",
       "  <matplotlib.lines.Line2D at 0x11de47b00>,\n",
       "  <matplotlib.lines.Line2D at 0x11de5ea58>,\n",
       "  <matplotlib.lines.Line2D at 0x11de64b70>]}"
      ]
     },
     "execution_count": 141,
     "metadata": {},
     "output_type": "execute_result"
    },
    {
     "data": {
      "image/png": "[encoded data removed]",
      "text/plain": [
       "<matplotlib.figure.Figure at 0x11d3e96a0>"
      ]
     },
     "metadata": {},
     "output_type": "display_data"
    }
   ],
   "source": [
    "plt.boxplot(results)"
   ]
  },
  {
   "cell_type": "code",
   "execution_count": 144,
   "metadata": {
    "collapsed": true
   },
   "outputs": [],
   "source": [
    "parms_weighted = [i.x for i in results_weighted]"
   ]
  },
  {
   "cell_type": "code",
   "execution_count": 145,
   "metadata": {
    "collapsed": false
   },
   "outputs": [
    {
     "data": {
      "text/plain": [
       "array([ 0.99932779])"
      ]
     },
     "execution_count": 145,
     "metadata": {},
     "output_type": "execute_result"
    }
   ],
   "source": [
    "parms_weighted[1]"
   ]
  },
  {
   "cell_type": "code",
   "execution_count": 146,
   "metadata": {
    "collapsed": true
   },
   "outputs": [],
   "source": [
    "resids_weighted = [i.fun for i in results_weighted]"
   ]
  },
  {
   "cell_type": "code",
   "execution_count": 147,
   "metadata": {
    "collapsed": false
   },
   "outputs": [
    {
     "data": {
      "text/plain": [
       "array([-0.63602802, -1.47282979,  0.09140047, -1.21769494,  0.89516019,\n",
       "        0.26002951,  0.13429922,  0.37644142,  2.11472105, -0.56224935,\n",
       "        0.12052337, -0.9354021 ,  0.26066854,  0.04646241,  0.62972095,\n",
       "        0.27731325, -0.32864641,  1.4154074 ])"
      ]
     },
     "execution_count": 147,
     "metadata": {},
     "output_type": "execute_result"
    }
   ],
   "source": [
    "resids_weighted[1]"
   ]
  },
  {
   "cell_type": "code",
   "execution_count": 148,
   "metadata": {
    "collapsed": true
   },
   "outputs": [],
   "source": [
    "parms_unweighted = [i.x for i in results_unweighted]"
   ]
  },
  {
   "cell_type": "code",
   "execution_count": 149,
   "metadata": {
    "collapsed": true
   },
   "outputs": [],
   "source": [
    "resids_unweighted = [i.fun for i in results_unweighted]"
   ]
  },
  {
   "cell_type": "code",
   "execution_count": 150,
   "metadata": {
    "collapsed": false
   },
   "outputs": [
    {
     "data": {
      "text/plain": [
       "array([  8.17993700e-05,   3.52275913e-04,   2.41470086e-04,\n",
       "         9.62432708e-04,   1.34169981e-03,   2.22147766e-03,\n",
       "         2.24541902e-03,   9.37033252e-03,   3.63590043e-02,\n",
       "         1.90457288e-02,   1.68115308e-02,  -3.93532415e-02,\n",
       "        -4.61066704e-02,  -1.22929776e-02,  -3.93019640e-03,\n",
       "         2.20260907e-02,   1.31741640e-02,  -7.71055553e-02])"
      ]
     },
     "execution_count": 150,
     "metadata": {},
     "output_type": "execute_result"
    }
   ],
   "source": [
    "resids_unweighted[1]"
   ]
  },
  {
   "cell_type": "code",
   "execution_count": 151,
   "metadata": {
    "collapsed": true
   },
   "outputs": [],
   "source": [
    "parmcomp = np.stack([np.concatenate(parms_weighted),np.concatenate(parms_unweighted)],axis=1)"
   ]
  },
  {
   "cell_type": "code",
   "execution_count": 152,
   "metadata": {
    "collapsed": false
   },
   "outputs": [
    {
     "data": {
      "text/plain": [
       "array([[ 1.00584002,  1.0741017 ],\n",
       "       [ 0.99932779,  1.11882479],\n",
       "       [ 1.01354528,  0.93848481],\n",
       "       ..., \n",
       "       [ 1.01227053,  0.99999808],\n",
       "       [ 0.99399597,  1.03199452],\n",
       "       [ 0.97917427,  1.0006268 ]])"
      ]
     },
     "execution_count": 152,
     "metadata": {},
     "output_type": "execute_result"
    }
   ],
   "source": [
    "parmcomp"
   ]
  },
  {
   "cell_type": "code",
   "execution_count": 153,
   "metadata": {
    "collapsed": false
   },
   "outputs": [
    {
     "data": {
      "text/plain": [
       "{'boxes': [<matplotlib.lines.Line2D at 0x11df1aeb8>,\n",
       "  <matplotlib.lines.Line2D at 0x11df37978>],\n",
       " 'caps': [<matplotlib.lines.Line2D at 0x11df28c50>,\n",
       "  <matplotlib.lines.Line2D at 0x11df28e10>,\n",
       "  <matplotlib.lines.Line2D at 0x11dee0828>,\n",
       "  <matplotlib.lines.Line2D at 0x11ded0278>],\n",
       " 'fliers': [<matplotlib.lines.Line2D at 0x11df37860>,\n",
       "  <matplotlib.lines.Line2D at 0x11de97cf8>],\n",
       " 'means': [],\n",
       " 'medians': [<matplotlib.lines.Line2D at 0x11df30780>,\n",
       "  <matplotlib.lines.Line2D at 0x11decab70>],\n",
       " 'whiskers': [<matplotlib.lines.Line2D at 0x11df219b0>,\n",
       "  <matplotlib.lines.Line2D at 0x11df21b70>,\n",
       "  <matplotlib.lines.Line2D at 0x11df3dac8>,\n",
       "  <matplotlib.lines.Line2D at 0x11dee61d0>]}"
      ]
     },
     "execution_count": 153,
     "metadata": {},
     "output_type": "execute_result"
    },
    {
     "data": {
      "image/png": "[encoded data removed]",
      "text/plain": [
       "<matplotlib.figure.Figure at 0x11de89f60>"
      ]
     },
     "metadata": {},
     "output_type": "display_data"
    }
   ],
   "source": [
    "plt.boxplot(parmcomp)"
   ]
  },
  {
   "cell_type": "code",
   "execution_count": 155,
   "metadata": {
    "collapsed": false
   },
   "outputs": [],
   "source": [
    "from scipy import stats"
   ]
  },
  {
   "cell_type": "code",
   "execution_count": 160,
   "metadata": {
    "collapsed": false
   },
   "outputs": [
    {
     "data": {
      "text/plain": [
       "NormaltestResult(statistic=5.5060083551460446, pvalue=0.063736098748240294)"
      ]
     },
     "execution_count": 160,
     "metadata": {},
     "output_type": "execute_result"
    }
   ],
   "source": [
    "stats.normaltest(parmcomp[:,1])"
   ]
  },
  {
   "cell_type": "code",
   "execution_count": 161,
   "metadata": {
    "collapsed": false
   },
   "outputs": [
    {
     "data": {
      "text/plain": [
       "NormaltestResult(statistic=0.77348870917144619, pvalue=0.67926472364367818)"
      ]
     },
     "execution_count": 161,
     "metadata": {},
     "output_type": "execute_result"
    }
   ],
   "source": [
    "stats.normaltest(parmcomp[:,0])"
   ]
  },
  {
   "cell_type": "code",
   "execution_count": 163,
   "metadata": {
    "collapsed": false
   },
   "outputs": [
    {
     "data": {
      "text/plain": [
       "1.000415260794475"
      ]
     },
     "execution_count": 163,
     "metadata": {},
     "output_type": "execute_result"
    }
   ],
   "source": [
    "parmcomp[:,1].mean()"
   ]
  },
  {
   "cell_type": "code",
   "execution_count": 164,
   "metadata": {
    "collapsed": false
   },
   "outputs": [
    {
     "data": {
      "text/plain": [
       "0.99462574340151044"
      ]
     },
     "execution_count": 164,
     "metadata": {},
     "output_type": "execute_result"
    }
   ],
   "source": [
    "parmcomp[:,0].mean()"
   ]
  },
  {
   "cell_type": "code",
   "execution_count": 166,
   "metadata": {
    "collapsed": false
   },
   "outputs": [
    {
     "data": {
      "text/plain": [
       "0.99944050202464318"
      ]
     },
     "execution_count": 166,
     "metadata": {},
     "output_type": "execute_result"
    }
   ],
   "source": [
    " np.median(parmcomp[:,1])"
   ]
  },
  {
   "cell_type": "code",
   "execution_count": 167,
   "metadata": {
    "collapsed": false
   },
   "outputs": [
    {
     "data": {
      "text/plain": [
       "0.9945540496756522"
      ]
     },
     "execution_count": 167,
     "metadata": {},
     "output_type": "execute_result"
    }
   ],
   "source": [
    "np.median(parmcomp[:,0])"
   ]
  },
  {
   "cell_type": "code",
   "execution_count": 170,
   "metadata": {
    "collapsed": true
   },
   "outputs": [],
   "source": [
    "dat = np.array([ligtools.noiser(ligtools.klotz1(1.,ligs),0.05) for i in range(3)])"
   ]
  },
  {
   "cell_type": "code",
   "execution_count": 174,
   "metadata": {
    "collapsed": false
   },
   "outputs": [
    {
     "data": {
      "text/plain": [
       "(3, 18)"
      ]
     },
     "execution_count": 174,
     "metadata": {},
     "output_type": "execute_result"
    }
   ],
   "source": [
    "dat.shape"
   ]
  },
  {
   "cell_type": "code",
   "execution_count": 179,
   "metadata": {
    "collapsed": false
   },
   "outputs": [
    {
     "data": {
      "text/plain": [
       "array([  1.00447978e-03,   1.92581487e-03,   3.89471054e-03,\n",
       "         7.76713338e-03,   1.63737930e-02,   3.35491160e-02,\n",
       "         5.82952432e-02,   1.12759780e-01,   2.11260669e-01,\n",
       "         3.45892728e-01,   5.07884823e-01,   7.13791166e-01,\n",
       "         7.88698897e-01,   9.53906447e-01,   9.10064067e-01,\n",
       "         9.96188422e-01,   9.75943131e-01,   1.02429209e+00])"
      ]
     },
     "execution_count": 179,
     "metadata": {},
     "output_type": "execute_result"
    }
   ],
   "source": [
    "dat.mean(axis=0)"
   ]
  },
  {
   "cell_type": "code",
   "execution_count": 180,
   "metadata": {
    "collapsed": false
   },
   "outputs": [
    {
     "data": {
      "text/plain": [
       "array([  1.26407997e-05,   8.96869288e-05,   1.85809834e-04,\n",
       "         5.09418248e-04,   2.90896522e-04,   1.05214056e-03,\n",
       "         1.27423392e-03,   2.62922056e-03,   4.63289423e-03,\n",
       "         1.17425757e-02,   1.29886380e-02,   3.79537714e-02,\n",
       "         1.87996284e-02,   6.77601955e-02,   4.39054315e-02,\n",
       "         2.46208329e-02,   1.60465753e-02,   1.96835456e-02])"
      ]
     },
     "execution_count": 180,
     "metadata": {},
     "output_type": "execute_result"
    }
   ],
   "source": [
    "dat.std(axis=0)"
   ]
  },
  {
   "cell_type": "code",
   "execution_count": 181,
   "metadata": {
    "collapsed": false
   },
   "outputs": [
    {
     "data": {
      "text/plain": [
       "array([ 79.46330967,  21.47263703,  20.96073416,  15.24706549,\n",
       "        56.28734548,  31.88653442,  45.74924765,  42.88715153,\n",
       "        45.60014939,  29.45629106,  39.10223862,  18.80685736,\n",
       "        41.95289814,  14.07768144,  20.72782426,  40.46119912,\n",
       "        60.81940307,  52.03798685])"
      ]
     },
     "execution_count": 181,
     "metadata": {},
     "output_type": "execute_result"
    }
   ],
   "source": [
    "dat.mean(axis=0)/dat.std(axis=0)"
   ]
  },
  {
   "cell_type": "code",
   "execution_count": 183,
   "metadata": {
    "collapsed": false
   },
   "outputs": [],
   "source": [
    "pstd = dat.std(axis=0)/dat.mean(axis=0)"
   ]
  },
  {
   "cell_type": "code",
   "execution_count": 185,
   "metadata": {
    "collapsed": false
   },
   "outputs": [
    {
     "data": {
      "text/plain": [
       "0.033603654121047564"
      ]
     },
     "execution_count": 185,
     "metadata": {},
     "output_type": "execute_result"
    }
   ],
   "source": [
    "pstd.mean()"
   ]
  },
  {
   "cell_type": "code",
   "execution_count": 207,
   "metadata": {
    "collapsed": false
   },
   "outputs": [],
   "source": [
    "holder = []\n",
    "for i in range(10000):\n",
    "    dat = np.array([ligtools.noiser(ligtools.klotz1(1.,ligs),0.05) for i in range(3)])\n",
    "    holder.append((dat.std(axis=0)/dat.mean(axis=0)).mean())"
   ]
  },
  {
   "cell_type": "code",
   "execution_count": 208,
   "metadata": {
    "collapsed": false
   },
   "outputs": [],
   "source": [
    " dat = np.array([ligtools.noiser(ligtools.klotz1(1.,ligs),0.05) for i in range(3)])"
   ]
  },
  {
   "cell_type": "code",
   "execution_count": 209,
   "metadata": {
    "collapsed": false
   },
   "outputs": [
    {
     "data": {
      "text/plain": [
       "array([[  1.09690830e-03,   2.03709120e-03,   3.93946541e-03,\n",
       "          8.00139172e-03,   1.60136546e-02,   2.81223413e-02,\n",
       "          5.78201901e-02,   1.18589396e-01,   2.06021450e-01,\n",
       "          3.57932061e-01,   5.16856326e-01,   6.73827422e-01,\n",
       "          8.12924277e-01,   9.04509788e-01,   9.58935385e-01,\n",
       "          8.69492664e-01,   9.87541621e-01,   9.22153239e-01],\n",
       "       [  1.03192019e-03,   2.10412581e-03,   3.87815727e-03,\n",
       "          7.95267768e-03,   1.55033155e-02,   3.21356182e-02,\n",
       "          6.38238093e-02,   1.08512970e-01,   2.08233899e-01,\n",
       "          3.38555065e-01,   5.40566366e-01,   6.92941347e-01,\n",
       "          7.82762448e-01,   8.21821471e-01,   1.02158693e+00,\n",
       "          1.06183125e+00,   9.96443373e-01,   1.01761390e+00],\n",
       "       [  9.89593876e-04,   2.00897812e-03,   3.83949776e-03,\n",
       "          7.77646140e-03,   1.62621076e-02,   3.00602032e-02,\n",
       "          6.26775979e-02,   1.18610803e-01,   2.02203000e-01,\n",
       "          3.47336441e-01,   5.48615188e-01,   7.05518497e-01,\n",
       "          8.70222430e-01,   8.33744189e-01,   9.09344058e-01,\n",
       "          1.01523373e+00,   1.03583904e+00,   9.86501702e-01]])"
      ]
     },
     "execution_count": 209,
     "metadata": {},
     "output_type": "execute_result"
    }
   ],
   "source": [
    "dat"
   ]
  },
  {
   "cell_type": "code",
   "execution_count": 239,
   "metadata": {
    "collapsed": true
   },
   "outputs": [],
   "source": [
    "holder = []\n",
    "for i in range(10000):\n",
    "    dat = np.array([ligtools.noiser(ligtools.klotz1(1.,ligs),0.05) for i in range(100)])\n",
    "    holder.append((dat.std(axis=0)/dat.mean(axis=0)).mean())"
   ]
  },
  {
   "cell_type": "code",
   "execution_count": 240,
   "metadata": {
    "collapsed": true
   },
   "outputs": [],
   "source": [
    "thing = np.array(holder)"
   ]
  },
  {
   "cell_type": "code",
   "execution_count": 245,
   "metadata": {
    "collapsed": false
   },
   "outputs": [
    {
     "data": {
      "text/plain": [
       "(array([   1.,    0.,    1.,    0.,    2.,    0.,    1.,    2.,    1.,\n",
       "           1.,    4.,    2.,    3.,   10.,    9.,    6.,   10.,   12.,\n",
       "          16.,   22.,   24.,   19.,   38.,   31.,   40.,   47.,   64.,\n",
       "          68.,   81.,   79.,  111.,  108.,  137.,  148.,  176.,  161.,\n",
       "         203.,  187.,  214.,  247.,  272.,  252.,  290.,  311.,  296.,\n",
       "         312.,  321.,  343.,  336.,  332.,  332.,  313.,  328.,  289.,\n",
       "         291.,  253.,  285.,  255.,  232.,  220.,  200.,  178.,  190.,\n",
       "         158.,  165.,  133.,  119.,   93.,  114.,   75.,   69.,   58.,\n",
       "          55.,   34.,   40.,   26.,   24.,   22.,   28.,   12.,   12.,\n",
       "          10.,    5.,    5.,    2.,    5.,    5.,    5.,    2.,    2.,\n",
       "           3.,    0.,    1.,    0.,    0.,    0.,    0.,    0.,    0.,    1.]),\n",
       " array([ 0.04634216,  0.04640935,  0.04647655,  0.04654374,  0.04661093,\n",
       "         0.04667813,  0.04674532,  0.04681251,  0.04687971,  0.0469469 ,\n",
       "         0.04701409,  0.04708129,  0.04714848,  0.04721567,  0.04728287,\n",
       "         0.04735006,  0.04741725,  0.04748445,  0.04755164,  0.04761883,\n",
       "         0.04768603,  0.04775322,  0.04782041,  0.04788761,  0.0479548 ,\n",
       "         0.04802199,  0.04808919,  0.04815638,  0.04822357,  0.04829077,\n",
       "         0.04835796,  0.04842515,  0.04849235,  0.04855954,  0.04862673,\n",
       "         0.04869393,  0.04876112,  0.04882831,  0.04889551,  0.0489627 ,\n",
       "         0.04902989,  0.04909709,  0.04916428,  0.04923147,  0.04929867,\n",
       "         0.04936586,  0.04943305,  0.04950025,  0.04956744,  0.04963464,\n",
       "         0.04970183,  0.04976902,  0.04983622,  0.04990341,  0.0499706 ,\n",
       "         0.0500378 ,  0.05010499,  0.05017218,  0.05023938,  0.05030657,\n",
       "         0.05037376,  0.05044096,  0.05050815,  0.05057534,  0.05064254,\n",
       "         0.05070973,  0.05077692,  0.05084412,  0.05091131,  0.0509785 ,\n",
       "         0.0510457 ,  0.05111289,  0.05118008,  0.05124728,  0.05131447,\n",
       "         0.05138166,  0.05144886,  0.05151605,  0.05158324,  0.05165044,\n",
       "         0.05171763,  0.05178482,  0.05185202,  0.05191921,  0.0519864 ,\n",
       "         0.0520536 ,  0.05212079,  0.05218798,  0.05225518,  0.05232237,\n",
       "         0.05238956,  0.05245676,  0.05252395,  0.05259114,  0.05265834,\n",
       "         0.05272553,  0.05279272,  0.05285992,  0.05292711,  0.0529943 ,\n",
       "         0.0530615 ]),\n",
       " <a list of 100 Patch objects>)"
      ]
     },
     "execution_count": 245,
     "metadata": {},
     "output_type": "execute_result"
    },
    {
     "data": {
      "image/png": "[encoded data removed]",
      "text/plain": [
       "<matplotlib.figure.Figure at 0x115207748>"
      ]
     },
     "metadata": {},
     "output_type": "display_data"
    }
   ],
   "source": [
    "plt.hist(thing,bins=100)"
   ]
  },
  {
   "cell_type": "code",
   "execution_count": 242,
   "metadata": {
    "collapsed": false
   },
   "outputs": [
    {
     "data": {
      "text/plain": [
       "0.049634401167824166"
      ]
     },
     "execution_count": 242,
     "metadata": {},
     "output_type": "execute_result"
    }
   ],
   "source": [
    "thing.mean()"
   ]
  },
  {
   "cell_type": "code",
   "execution_count": 243,
   "metadata": {
    "collapsed": false
   },
   "outputs": [
    {
     "data": {
      "text/plain": [
       "0.00082525527285308973"
      ]
     },
     "execution_count": 243,
     "metadata": {},
     "output_type": "execute_result"
    }
   ],
   "source": [
    "thing.std()"
   ]
  },
  {
   "cell_type": "code",
   "execution_count": 244,
   "metadata": {
    "collapsed": false
   },
   "outputs": [
    {
     "data": {
      "text/plain": [
       "0.049631490820246697"
      ]
     },
     "execution_count": 244,
     "metadata": {},
     "output_type": "execute_result"
    }
   ],
   "source": [
    "np.median(thing)"
   ]
  },
  {
   "cell_type": "code",
   "execution_count": null,
   "metadata": {
    "collapsed": true
   },
   "outputs": [],
   "source": []
  }
 ],
 "metadata": {
  "anaconda-cloud": {},
  "kernelspec": {
   "display_name": "Python [conda env:fitter]",
   "language": "python",
   "name": "conda-env-fitter-py"
  },
  "language_info": {
   "codemirror_mode": {
    "name": "ipython",
    "version": 3
   },
   "file_extension": ".py",
   "mimetype": "text/x-python",
   "name": "python",
   "nbconvert_exporter": "python",
   "pygments_lexer": "ipython3",
   "version": "3.5.2"
  }
 },
 "nbformat": 4,
 "nbformat_minor": 1
}
