{
 "cells": [
  {
   "cell_type": "code",
   "execution_count": 2,
   "metadata": {
    "collapsed": false
   },
   "outputs": [
    {
     "name": "stdout",
     "output_type": "stream",
     "text": [
      "The autoreload extension is already loaded. To reload it, use:\n",
      "  %reload_ext autoreload\n"
     ]
    }
   ],
   "source": [
    "#imports\n",
    "import csv\n",
    "import Pymod.aligner_ultra as aligner\n",
    "import numpy as np\n",
    "import pandas as pd\n",
    "import matplotlib.pyplot as plt\n",
    "from collections import OrderedDict as Ord\n",
    "\n",
    "#magic\n",
    "%matplotlib inline\n",
    "%load_ext autoreload"
   ]
  },
  {
   "cell_type": "code",
   "execution_count": 4,
   "metadata": {
    "collapsed": true
   },
   "outputs": [],
   "source": [
    "egfr_wt_sats= pd.read_csv('Data/EGFR_WT_Sat.csv')"
   ]
  },
  {
   "cell_type": "code",
   "execution_count": 20,
   "metadata": {
    "collapsed": false
   },
   "outputs": [],
   "source": [
    "#put saturation data column headers into list\n",
    "colist = egfr_wt_sats.columns.tolist()[1:]"
   ]
  },
  {
   "cell_type": "code",
   "execution_count": 21,
   "metadata": {
    "collapsed": false
   },
   "outputs": [
    {
     "data": {
      "text/plain": [
       "['24k',\n",
       " '43k',\n",
       " '92k',\n",
       " '120k',\n",
       " '231k',\n",
       " '447k',\n",
       " '20k',\n",
       " '46k',\n",
       " '187k',\n",
       " '256k',\n",
       " '1200k',\n",
       " '12k',\n",
       " '82k',\n",
       " '107k',\n",
       " '387k',\n",
       " '502k',\n",
       " '1600k']"
      ]
     },
     "execution_count": 21,
     "metadata": {},
     "output_type": "execute_result"
    }
   ],
   "source": [
    "colist"
   ]
  },
  {
   "cell_type": "code",
   "execution_count": 27,
   "metadata": {
    "collapsed": false
   },
   "outputs": [
    {
     "data": {
      "text/plain": [
       "'[egf]'"
      ]
     },
     "execution_count": 27,
     "metadata": {},
     "output_type": "execute_result"
    }
   ],
   "source": [
    "egfr_wt_sats.columns[0]"
   ]
  },
  {
   "cell_type": "code",
   "execution_count": 28,
   "metadata": {
    "collapsed": true
   },
   "outputs": [],
   "source": [
    "def makedf(dat):\n",
    "    \"\"\"Takes csv file location as string, returns pandas dataframe\"\"\"\n",
    "    return pd.read_csv(dat)\n",
    "    \n",
    "def makecolist(df):\n",
    "    \"\"\"Takes dataframe returns columns headers excluding first column\"\"\"\n",
    "    return df.columns.tolist()[1:]\n",
    "    \n",
    "def makefrmlst(df,colist):\n",
    "    \"\"\"Splits dataframe containing multiple data sets into list of dataframes for \n",
    "    each dataset\"\"\"\n",
    "    xvals = df.columns[0]\n",
    "    return [df[[xvals, i]].dropna().sort_values(by=xvals) for i in colist]"
   ]
  },
  {
   "cell_type": "code",
   "execution_count": 30,
   "metadata": {
    "collapsed": false
   },
   "outputs": [],
   "source": [
    "tmp = makedf('Data/EGFR_KI_08_Sat.csv')"
   ]
  },
  {
   "cell_type": "code",
   "execution_count": 32,
   "metadata": {
    "collapsed": false
   },
   "outputs": [],
   "source": [
    "tmplst = makecolist(tmp)"
   ]
  },
  {
   "cell_type": "code",
   "execution_count": 33,
   "metadata": {
    "collapsed": false
   },
   "outputs": [
    {
     "data": {
      "text/plain": [
       "[        [egf]       41k\n",
       " 0    0.007748  0.010142\n",
       " 1    0.015429  0.018520\n",
       " 2    0.031355  0.030782\n",
       " 3    0.066715  0.047889\n",
       " 4    0.101370  0.049601\n",
       " 5    0.152462  0.072747\n",
       " 6    0.253937  0.088044\n",
       " 7    0.401917  0.148175\n",
       " 8    0.704463  0.225780\n",
       " 9    1.070390  0.297622\n",
       " 10   1.819577  0.451219\n",
       " 11   2.574158  0.528945\n",
       " 12   4.032859  0.620251\n",
       " 13   8.071280  0.795184\n",
       " 14  15.989710  0.816227,         [egf]      120k\n",
       " 15   0.008408  0.010096\n",
       " 16   0.016319  0.015566\n",
       " 17   0.031355  0.022990\n",
       " 18   0.064704  0.036218\n",
       " 19   0.101370  0.047653\n",
       " 20   0.149382  0.064967\n",
       " 21   0.253937  0.107525\n",
       " 22   0.406039  0.157909\n",
       " 23   0.704463  0.249157\n",
       " 24   1.038122  0.315172\n",
       " 25   1.782821  0.482399\n",
       " 26   2.548026  0.509471\n",
       " 27   4.116003  0.645564\n",
       " 28   8.237682  0.878939\n",
       " 29  16.486730  0.958418,         [egf]      173k\n",
       " 30   0.008322  0.008154\n",
       " 31   0.015990  0.011682\n",
       " 32   0.032330  0.021025\n",
       " 33   0.064704  0.036218\n",
       " 34   0.099322  0.055457\n",
       " 35   0.149382  0.078603\n",
       " 36   0.248808  0.127017\n",
       " 37   0.393798  0.200784\n",
       " 38   0.697312  0.286176\n",
       " 39   1.017151  0.404794\n",
       " 40   1.782821  0.519412\n",
       " 41   2.548026  0.544536\n",
       " 42   4.032859  0.668952\n",
       " 43   7.989343  0.847787\n",
       " 44  15.989710  0.921422,         [egf]      295k\n",
       " 45   0.008071  0.010119\n",
       " 46   0.015194  0.011710\n",
       " 47   0.030722  0.015209\n",
       " 48   0.062753  0.028443\n",
       " 49   0.098314  0.047670\n",
       " 50   0.149382  0.072759\n",
       " 51   0.248808  0.123120\n",
       " 52   0.397836  0.177401\n",
       " 53   0.704463  0.290066\n",
       " 54   1.017151  0.385313\n",
       " 55   1.782821  0.529153\n",
       " 56   2.548026  0.560120\n",
       " 57   8.071280  0.818561\n",
       " 58  16.153690  0.905832,         [egf]      383k\n",
       " 59   0.008494  0.010090\n",
       " 60   0.015350  0.015601\n",
       " 61   0.031355  0.022990\n",
       " 62   0.062753  0.042079\n",
       " 63   0.099322  0.076885\n",
       " 64   0.150914  0.113662\n",
       " 65   0.248808  0.165978\n",
       " 66   0.406039  0.216351\n",
       " 67   0.711688  0.352398\n",
       " 68   1.038122  0.455432\n",
       " 69   1.746808  0.589554\n",
       " 70   2.574158  0.653621\n",
       " 71   4.032859  0.737134\n",
       " 72   7.989343  0.851683\n",
       " 73  15.827390  0.987661,         [egf]      660k\n",
       " 74   0.007439  0.008217\n",
       " 75   0.014439  0.011739\n",
       " 76   0.028604  0.021094\n",
       " 77   0.059632  0.040160\n",
       " 78   0.094382  0.067174\n",
       " 79   0.143408  0.100055\n",
       " 80   0.234032  0.173804\n",
       " 81   0.385843  0.247548\n",
       " 82   0.683226  0.383590\n",
       " 83   1.017151  0.486612\n",
       " 84   1.764723  0.636301\n",
       " 85   2.522159  0.690645\n",
       " 86   4.032859  0.758562\n",
       " 87   8.071280  0.843885\n",
       " 88  16.153690  0.962325]"
      ]
     },
     "execution_count": 33,
     "metadata": {},
     "output_type": "execute_result"
    }
   ],
   "source": [
    "makefrmlst(tmp,tmplst)"
   ]
  },
  {
   "cell_type": "code",
   "execution_count": 35,
   "metadata": {
    "collapsed": false
   },
   "outputs": [],
   "source": [
    "df = pd.read_csv('Data/EGFR_KI_08_Rtot.csv')"
   ]
  },
  {
   "cell_type": "code",
   "execution_count": 41,
   "metadata": {
    "collapsed": false
   },
   "outputs": [
    {
     "data": {
      "text/plain": [
       "['41k', '120k', '173k', '295k', '383k', '660k']"
      ]
     },
     "execution_count": 41,
     "metadata": {},
     "output_type": "execute_result"
    }
   ],
   "source": []
  },
  {
   "cell_type": "code",
   "execution_count": 84,
   "metadata": {
    "collapsed": false
   },
   "outputs": [
    {
     "data": {
      "text/plain": [
       "[0.001192,\n",
       " 0.003025,\n",
       " 0.006534000000000001,\n",
       " 0.0063159999999999996,\n",
       " 0.017230000000000002,\n",
       " 0.02555]"
      ]
     },
     "execution_count": 84,
     "metadata": {},
     "output_type": "execute_result"
    }
   ],
   "source": [
    "#gets list of rtot vals\n",
    "df.iloc[:,1].values.tolist()"
   ]
  },
  {
   "cell_type": "code",
   "execution_count": 59,
   "metadata": {
    "collapsed": false
   },
   "outputs": [
    {
     "data": {
      "text/plain": [
       "['41k', '120k', '173k', '295k', '383k', '660k']"
      ]
     },
     "execution_count": 59,
     "metadata": {},
     "output_type": "execute_result"
    }
   ],
   "source": [
    "tmplst"
   ]
  },
  {
   "cell_type": "code",
   "execution_count": 77,
   "metadata": {
    "collapsed": false
   },
   "outputs": [],
   "source": [
    "def makedf(dat):\n",
    "    \"\"\"Takes csv file location as string, returns pandas dataframe\"\"\"\n",
    "    return pd.read_csv(dat)\n",
    "    \n",
    "def colist(df):\n",
    "    \"\"\"Takes dataframe returns columns headers excluding first column\"\"\"\n",
    "    return df.columns.tolist()[1:]\n",
    "    \n",
    "def framelist(df,cols):\n",
    "    \"\"\"Splits dataframe containing multiple data sets into list of dataframes for \n",
    "    each dataset\"\"\"\n",
    "    xvals = df.columns[0]\n",
    "    return [df[[xvals, i]].dropna().sort_values(by=xvals) for i in cols]\n",
    "    \n",
    "def rtotlist(df):\n",
    "    \"\"\"Takes datafram and returns list of rtot idxs\"\"\"\n",
    "    return df.iloc[:,0].tolist()\n",
    "    \n",
    "def checkidx(satdat,rtotdat):\n",
    "    sats = makedf(satdat)\n",
    "    rtots = makedf(rtotdat)\n",
    "    \n",
    "    satidx = colist(sats)\n",
    "    rtotidx = rtotlist(rtots)\n",
    "    \n",
    "    if satidx == rtotidx:\n",
    "        print('hoo hoo ray ray')\n",
    "    else:\n",
    "        print('ERROR indices don\\'t match')"
   ]
  },
  {
   "cell_type": "code",
   "execution_count": 80,
   "metadata": {
    "collapsed": false
   },
   "outputs": [
    {
     "name": "stdout",
     "output_type": "stream",
     "text": [
      "hoo hoo ray ray\n"
     ]
    }
   ],
   "source": [
    "checkidx('Data/EGFR_KI_08_Sat.csv','Data/EGFR_KI_08_Rtot.csv')"
   ]
  },
  {
   "cell_type": "code",
   "execution_count": 81,
   "metadata": {
    "collapsed": false
   },
   "outputs": [
    {
     "ename": "SyntaxError",
     "evalue": "'continue' not properly in loop (<ipython-input-81-0d5fa9133594>, line 3)",
     "output_type": "error",
     "traceback": [
      "\u001b[0;36m  File \u001b[0;32m\"<ipython-input-81-0d5fa9133594>\"\u001b[0;36m, line \u001b[0;32m3\u001b[0m\n\u001b[0;31m    continue\u001b[0m\n\u001b[0m    ^\u001b[0m\n\u001b[0;31mSyntaxError\u001b[0m\u001b[0;31m:\u001b[0m 'continue' not properly in loop\n"
     ]
    }
   ],
   "source": [
    "def testfun(a,b):\n",
    "    if a == b:\n",
    "        continue\n",
    "    else:\n",
    "        print('ERROR!')\n",
    "    \n",
    "    print((a+b),a,b)"
   ]
  },
  {
   "cell_type": "code",
   "execution_count": 85,
   "metadata": {
    "collapsed": true
   },
   "outputs": [],
   "source": [
    "df = makedf('Data/EGFR_KI_08_Sat.csv')"
   ]
  },
  {
   "cell_type": "code",
   "execution_count": 87,
   "metadata": {
    "collapsed": false
   },
   "outputs": [],
   "source": [
    "keys = colist(df)"
   ]
  },
  {
   "cell_type": "code",
   "execution_count": 88,
   "metadata": {
    "collapsed": false
   },
   "outputs": [
    {
     "data": {
      "text/plain": [
       "['41k', '120k', '173k', '295k', '383k', '660k']"
      ]
     },
     "execution_count": 88,
     "metadata": {},
     "output_type": "execute_result"
    }
   ],
   "source": [
    "keys"
   ]
  },
  {
   "cell_type": "code",
   "execution_count": 91,
   "metadata": {
    "collapsed": false
   },
   "outputs": [],
   "source": [
    "dflist = framelist(df,keys)"
   ]
  },
  {
   "cell_type": "code",
   "execution_count": 105,
   "metadata": {
    "collapsed": false
   },
   "outputs": [
    {
     "data": {
      "text/plain": [
       "array([  7.74849100e-03,   1.54287600e-02,   3.13550300e-02,\n",
       "         6.67151600e-02,   1.01369800e-01,   1.52461800e-01,\n",
       "         2.53937500e-01,   4.01916600e-01,   7.04463000e-01,\n",
       "         1.07039000e+00,   1.81957700e+00,   2.57415800e+00,\n",
       "         4.03285900e+00,   8.07128000e+00,   1.59897100e+01])"
      ]
     },
     "execution_count": 105,
     "metadata": {},
     "output_type": "execute_result"
    }
   ],
   "source": [
    "dflist[0]['[egf]'].values"
   ]
  },
  {
   "cell_type": "code",
   "execution_count": 98,
   "metadata": {
    "collapsed": false
   },
   "outputs": [
    {
     "data": {
      "text/plain": [
       "6"
      ]
     },
     "execution_count": 98,
     "metadata": {},
     "output_type": "execute_result"
    }
   ],
   "source": [
    "len(dflist)"
   ]
  },
  {
   "cell_type": "code",
   "execution_count": null,
   "metadata": {
    "collapsed": true
   },
   "outputs": [],
   "source": []
  }
 ],
 "metadata": {
  "anaconda-cloud": {},
  "kernelspec": {
   "display_name": "Python [conda env:fitter]",
   "language": "python",
   "name": "conda-env-fitter-py"
  },
  "language_info": {
   "codemirror_mode": {
    "name": "ipython",
    "version": 3
   },
   "file_extension": ".py",
   "mimetype": "text/x-python",
   "name": "python",
   "nbconvert_exporter": "python",
   "pygments_lexer": "ipython3",
   "version": "3.5.2"
  }
 },
 "nbformat": 4,
 "nbformat_minor": 1
}
