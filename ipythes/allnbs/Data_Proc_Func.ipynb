{
 "cells": [
  {
   "cell_type": "code",
   "execution_count": 3,
   "metadata": {
    "collapsed": true
   },
   "outputs": [],
   "source": [
    "#dependencies\n",
    "import numpy as np\n",
    "import pandas as pd\n",
    "from collections import OrderedDict as Ord\n",
    "\n",
    "def makedf(dat):\n",
    "    \"\"\"Takes csv file location as string, returns pandas dataframe\"\"\"\n",
    "    return pd.read_csv(dat)\n",
    "    \n",
    "def colist(df):\n",
    "    \"\"\"Takes dataframe returns columns headers excluding first column\"\"\"\n",
    "    return df.columns.tolist()[1:]\n",
    "    \n",
    "def framelist(df,cols):\n",
    "    \"\"\"Splits dataframe containing multiple data sets into list of dataframes for \n",
    "    each dataset\"\"\"\n",
    "    xvals = df.columns[0]\n",
    "    return [df[[xvals, i]].dropna().sort_values(by=xvals) for i in cols]\n",
    "    \n",
    "def rtotinds(df):\n",
    "    \"\"\"Takes datafram and returns list of rtot idxs\"\"\"\n",
    "    return df.iloc[:,0].tolist()\n",
    "    \n",
    "def checkidx(satdf,rtotdf):\n",
    "    satidx = colist(satdf)\n",
    "    rtotidx = rtotinds(rtotdf)\n",
    "    \n",
    "    #print(satidx, rtotidx)\n",
    "    return satidx == rtotidx\n",
    "    \n",
    "\n",
    "def datprep(satdat,rtotdat):\n",
    "    \"\"\"Takes csv data files (ligand binding data in first position, 'satdat',\n",
    "    and receptor concentration data, 'rtotdat' in second position) and returns \n",
    "    numpy arrays of values for fitting functions.\n",
    "    \n",
    "    Need to work in description of data files, e.g., satdat is \n",
    "    ligand binding data in Graphpad xy-table style (all xvals in\n",
    "    first column and yvals corresponding to diferent datasets in subsequent columns,\n",
    "    and rtotdat is two columns where the first column should match the data set\n",
    "    column header used in satdat, and the second column is the total receptor \n",
    "    concentration in the same units used in satdat, e.g., mmol.)\n",
    "    \"\"\"\n",
    "    sats = makedf(satdat)\n",
    "    rtots = makedf(rtotdat)\n",
    "    \n",
    "    if checkidx(sats,rtots) is True:\n",
    "        print('hootie hoo')\n",
    "    else:\n",
    "        print('oh poop')"
   ]
  },
  {
   "cell_type": "code",
   "execution_count": 5,
   "metadata": {
    "collapsed": false
   },
   "outputs": [
    {
     "name": "stdout",
     "output_type": "stream",
     "text": [
      "oh poop\n"
     ]
    }
   ],
   "source": [
    "datprep('Data/EGFR_KI_08_Sat.csv','Data/EGFR_KI_09_Rtot.csv')"
   ]
  },
  {
   "cell_type": "code",
   "execution_count": 6,
   "metadata": {
    "collapsed": true
   },
   "outputs": [],
   "source": [
    "#preps raw data csv's for analysis using numpy arrays\n",
    "\n",
    "#Takes CSV data file in graphpad table format --- first column contins all x-values\n",
    "#and subsequent columns correspond to different y-values for different datasets thus \n",
    "#fields will be missing in a diagonal pattern when there are more than one dataset.\n",
    "#Returns numpy arrays for further processing\"\n",
    "\n",
    "\n",
    "#dependencies\n",
    "import numpy as np\n",
    "import pandas as pd\n",
    "from collections import OrderedDict as Ord\n",
    "\n",
    "def makedf(dat):\n",
    "    \"\"\"Takes csv file location as string, returns pandas dataframe\"\"\"\n",
    "    return pd.read_csv(dat)\n",
    "    \n",
    "def colist(df):\n",
    "    \"\"\"Takes dataframe returns columns headers excluding first column\"\"\"\n",
    "    return df.columns.tolist()[1:]\n",
    "    \n",
    "def framelist(df,cols):\n",
    "    \"\"\"Splits dataframe containing multiple data sets into list of dataframes for \n",
    "    each dataset\"\"\"\n",
    "    xvals = df.columns[0]\n",
    "    return [df[[xvals, i]].dropna().sort_values(by=xvals) for i in cols]\n",
    "    \n",
    "def rtotinds(df):\n",
    "    \"\"\"Takes datafram and returns list of rtot idxs\"\"\"\n",
    "    return df.iloc[:,0].tolist()\n",
    "    \n",
    "def checkidx(satdf,rtotdf):\n",
    "    satidx = colist(satdf)\n",
    "    rtotidx = rtotinds(rtotdf)\n",
    "    \n",
    "    #print(satidx, rtotidx)\n",
    "    return satidx == rtotidx\n",
    "    \n",
    "def rtotlist(df):\n",
    "    \"\"\"Takes datafram and returns list of rtot values\"\"\"\n",
    "    return df.iloc[:,1].values.tolist()\n",
    "\n",
    "\n",
    "def datprep(satdat,rtotdat):\n",
    "    \"\"\"Takes csv data files (ligand binding data in first position, 'satdat',\n",
    "    and receptor concentration data, 'rtotdat' in second position) and returns \n",
    "    numpy arrays of values for fitting functions.\n",
    "    \n",
    "    Need to work in description of data files, e.g., satdat is \n",
    "    ligand binding data in Graphpad xy-table style (all xvals in\n",
    "    first column and yvals corresponding to diferent datasets in subsequent columns,\n",
    "    and rtotdat is two columns where the first column should match the data set\n",
    "    column header used in satdat, and the second column is the total receptor \n",
    "    concentration in the same units used in satdat, e.g., mmol.)\n",
    "    \"\"\"\n",
    "    sats = makedf(satdat)\n",
    "    rtots = makedf(rtotdat)\n",
    "    \n",
    "    if checkidx(stats,rtots) is True:\n",
    "        print('hootie hoo! the indices match!')\n",
    "        return colist(sats), rtotlist(rtots)\n",
    "        \n",
    "    else:\n",
    "        print('oh poop (-_-) the indices don\\'t match')"
   ]
  },
  {
   "cell_type": "code",
   "execution_count": 7,
   "metadata": {
    "collapsed": false
   },
   "outputs": [
    {
     "ename": "NameError",
     "evalue": "name 'stats' is not defined",
     "output_type": "error",
     "traceback": [
      "\u001b[0;31m---------------------------------------------------------------------------\u001b[0m",
      "\u001b[0;31mNameError\u001b[0m                                 Traceback (most recent call last)",
      "\u001b[0;32m<ipython-input-7-581c656d9580>\u001b[0m in \u001b[0;36m<module>\u001b[0;34m()\u001b[0m\n\u001b[0;32m----> 1\u001b[0;31m \u001b[0mdatprep\u001b[0m\u001b[0;34m(\u001b[0m\u001b[0;34m'Data/EGFR_KI_08_Sat.csv'\u001b[0m\u001b[0;34m,\u001b[0m\u001b[0;34m'Data/EGFR_KI_09_Rtot.csv'\u001b[0m\u001b[0;34m)\u001b[0m\u001b[0;34m\u001b[0m\u001b[0m\n\u001b[0m",
      "\u001b[0;32m<ipython-input-6-903ad984abf0>\u001b[0m in \u001b[0;36mdatprep\u001b[0;34m(satdat, rtotdat)\u001b[0m\n\u001b[1;32m     57\u001b[0m     \u001b[0mrtots\u001b[0m \u001b[0;34m=\u001b[0m \u001b[0mmakedf\u001b[0m\u001b[0;34m(\u001b[0m\u001b[0mrtotdat\u001b[0m\u001b[0;34m)\u001b[0m\u001b[0;34m\u001b[0m\u001b[0m\n\u001b[1;32m     58\u001b[0m \u001b[0;34m\u001b[0m\u001b[0m\n\u001b[0;32m---> 59\u001b[0;31m     \u001b[0;32mif\u001b[0m \u001b[0mcheckidx\u001b[0m\u001b[0;34m(\u001b[0m\u001b[0mstats\u001b[0m\u001b[0;34m,\u001b[0m\u001b[0mrtots\u001b[0m\u001b[0;34m)\u001b[0m \u001b[0;32mis\u001b[0m \u001b[0;32mTrue\u001b[0m\u001b[0;34m:\u001b[0m\u001b[0;34m\u001b[0m\u001b[0m\n\u001b[0m\u001b[1;32m     60\u001b[0m         \u001b[0mprint\u001b[0m\u001b[0;34m(\u001b[0m\u001b[0;34m'hootie hoo! the indices match!'\u001b[0m\u001b[0;34m)\u001b[0m\u001b[0;34m\u001b[0m\u001b[0m\n\u001b[1;32m     61\u001b[0m         \u001b[0;32mreturn\u001b[0m \u001b[0mcolist\u001b[0m\u001b[0;34m(\u001b[0m\u001b[0msats\u001b[0m\u001b[0;34m)\u001b[0m\u001b[0;34m,\u001b[0m \u001b[0mrtotlist\u001b[0m\u001b[0;34m(\u001b[0m\u001b[0mrtots\u001b[0m\u001b[0;34m)\u001b[0m\u001b[0;34m\u001b[0m\u001b[0m\n",
      "\u001b[0;31mNameError\u001b[0m: name 'stats' is not defined"
     ]
    }
   ],
   "source": [
    "datprep('Data/EGFR_KI_08_Sat.csv','Data/EGFR_KI_09_Rtot.csv')"
   ]
  },
  {
   "cell_type": "code",
   "execution_count": 8,
   "metadata": {
    "collapsed": true
   },
   "outputs": [],
   "source": [
    "#preps raw data csv's for analysis using numpy arrays\n",
    "\n",
    "#Takes CSV data file in graphpad table format --- first column contins all x-values\n",
    "#and subsequent columns correspond to different y-values for different datasets thus \n",
    "#fields will be missing in a diagonal pattern when there are more than one dataset.\n",
    "#Returns numpy arrays for further processing\"\n",
    "\n",
    "\n",
    "#dependencies\n",
    "import numpy as np\n",
    "import pandas as pd\n",
    "from collections import OrderedDict as Ord\n",
    "\n",
    "def makedf(dat):\n",
    "    \"\"\"Takes csv file location as string, returns pandas dataframe\"\"\"\n",
    "    return pd.read_csv(dat)\n",
    "    \n",
    "def colist(df):\n",
    "    \"\"\"Takes dataframe returns columns headers excluding first column\"\"\"\n",
    "    return df.columns.tolist()[1:]\n",
    "    \n",
    "def framelist(df,cols):\n",
    "    \"\"\"Splits dataframe containing multiple data sets into list of dataframes for \n",
    "    each dataset\"\"\"\n",
    "    xvals = df.columns[0]\n",
    "    return [df[[xvals, i]].dropna().sort_values(by=xvals) for i in cols]\n",
    "    \n",
    "def rtotinds(df):\n",
    "    \"\"\"Takes datafram and returns list of rtot idxs\"\"\"\n",
    "    return df.iloc[:,0].tolist()\n",
    "    \n",
    "def checkidx(satdf,rtotdf):\n",
    "    satidx = colist(satdf)\n",
    "    rtotidx = rtotinds(rtotdf)\n",
    "    \n",
    "    #print(satidx, rtotidx)\n",
    "    return satidx == rtotidx\n",
    "    \n",
    "def rtotlist(df):\n",
    "    \"\"\"Takes datafram and returns list of rtot values\"\"\"\n",
    "    return df.iloc[:,1].values.tolist()\n",
    "\n",
    "\n",
    "def datprep(satdat,rtotdat):\n",
    "    \"\"\"Takes csv data files (ligand binding data in first position, 'satdat',\n",
    "    and receptor concentration data, 'rtotdat' in second position) and returns \n",
    "    numpy arrays of values for fitting functions.\n",
    "    \n",
    "    Need to work in description of data files, e.g., satdat is \n",
    "    ligand binding data in Graphpad xy-table style (all xvals in\n",
    "    first column and yvals corresponding to diferent datasets in subsequent columns,\n",
    "    and rtotdat is two columns where the first column should match the data set\n",
    "    column header used in satdat, and the second column is the total receptor \n",
    "    concentration in the same units used in satdat, e.g., mmol.)\n",
    "    \"\"\"\n",
    "    sats = makedf(satdat)\n",
    "    rtots = makedf(rtotdat)\n",
    "    \n",
    "    if checkidx(sats,rtots) is True:\n",
    "        print('hootie hoo! the indices match!')\n",
    "        return colist(sats), rtotlist(rtots)\n",
    "        \n",
    "    else:\n",
    "        print('oh poop (-_-) the indices don\\'t match')"
   ]
  },
  {
   "cell_type": "code",
   "execution_count": 11,
   "metadata": {
    "collapsed": false
   },
   "outputs": [
    {
     "name": "stdout",
     "output_type": "stream",
     "text": [
      "hootie hoo! the indices match!\n"
     ]
    }
   ],
   "source": [
    "a,b = datprep('Data/EGFR_KI_08_Sat.csv','Data/EGFR_KI_08_Rtot.csv')"
   ]
  },
  {
   "cell_type": "code",
   "execution_count": 12,
   "metadata": {
    "collapsed": false
   },
   "outputs": [
    {
     "data": {
      "text/plain": [
       "['41k', '120k', '173k', '295k', '383k', '660k']"
      ]
     },
     "execution_count": 12,
     "metadata": {},
     "output_type": "execute_result"
    }
   ],
   "source": [
    "a"
   ]
  },
  {
   "cell_type": "code",
   "execution_count": 13,
   "metadata": {
    "collapsed": false
   },
   "outputs": [
    {
     "data": {
      "text/plain": [
       "[0.001192,\n",
       " 0.003025,\n",
       " 0.006534000000000001,\n",
       " 0.0063159999999999996,\n",
       " 0.017230000000000002,\n",
       " 0.02555]"
      ]
     },
     "execution_count": 13,
     "metadata": {},
     "output_type": "execute_result"
    }
   ],
   "source": [
    "b"
   ]
  },
  {
   "cell_type": "code",
   "execution_count": 14,
   "metadata": {
    "collapsed": true
   },
   "outputs": [],
   "source": [
    "#preps raw data csv's for analysis using numpy arrays\n",
    "\n",
    "#Takes CSV data file in graphpad table format --- first column contins all x-values\n",
    "#and subsequent columns correspond to different y-values for different datasets thus \n",
    "#fields will be missing in a diagonal pattern when there are more than one dataset.\n",
    "#Returns numpy arrays for further processing\"\n",
    "\n",
    "\n",
    "#dependencies\n",
    "import numpy as np\n",
    "import pandas as pd\n",
    "from collections import OrderedDict as Ord\n",
    "\n",
    "def makedf(dat):\n",
    "    \"\"\"Takes csv file location as string, returns pandas dataframe\"\"\"\n",
    "    return pd.read_csv(dat)\n",
    "    \n",
    "def colist(df):\n",
    "    \"\"\"Takes dataframe returns columns headers excluding first column\"\"\"\n",
    "    return df.columns.tolist()[1:]\n",
    "    \n",
    "def framelist(df,cols):\n",
    "    \"\"\"Splits dataframe containing multiple data sets into list of dataframes for \n",
    "    each dataset\"\"\"\n",
    "    xvals = df.columns[0]\n",
    "    return [df[[xvals, i]].dropna().sort_values(by=xvals) for i in cols]\n",
    "    \n",
    "def rtotinds(df):\n",
    "    \"\"\"Takes datafram and returns list of rtot idxs\"\"\"\n",
    "    return df.iloc[:,0].tolist()\n",
    "    \n",
    "def checkidx(satdf,rtotdf):\n",
    "    satidx = colist(satdf)\n",
    "    rtotidx = rtotinds(rtotdf)\n",
    "    \n",
    "    #print(satidx, rtotidx)\n",
    "    return satidx == rtotidx\n",
    "    \n",
    "def rtotlist(df):\n",
    "    \"\"\"Takes datafram and returns list of rtot values\"\"\"\n",
    "    return df.iloc[:,1].values.tolist()\n",
    "\n",
    "\n",
    "def datprep(satdat,rtotdat):\n",
    "    \"\"\"Takes csv data files (ligand binding data in first position, 'satdat',\n",
    "    and receptor concentration data, 'rtotdat' in second position) and returns \n",
    "    numpy arrays of values for fitting functions.\n",
    "    \n",
    "    Need to work in description of data files, e.g., satdat is \n",
    "    ligand binding data in Graphpad xy-table style (all xvals in\n",
    "    first column and yvals corresponding to diferent datasets in subsequent columns,\n",
    "    and rtotdat is two columns where the first column should match the data set\n",
    "    column header used in satdat, and the second column is the total receptor \n",
    "    concentration in the same units used in satdat, e.g., mmol.)\n",
    "    \"\"\"\n",
    "    sats = makedf(satdat)\n",
    "    rtots = makedf(rtotdat)\n",
    "    \n",
    "    if checkidx(sats,rtots) is True: \n",
    "        print('hootie hoo! the indices match!')\n",
    "        data_labels = colist(sats) #note to self: i've computed colist twice now, 'chexkidx' func is costly\n",
    "        rtotal_values = rtotlist(rtots)\n",
    "        list_of_frames = framelist(sats,data_labels)\n",
    "        \n",
    "        return data_labels, rtotal_values, list_of_frames\n",
    "        \n",
    "        \n",
    "    else:\n",
    "        print('oh poop (-_-) the indices don\\'t match')"
   ]
  },
  {
   "cell_type": "code",
   "execution_count": 16,
   "metadata": {
    "collapsed": false
   },
   "outputs": [
    {
     "name": "stdout",
     "output_type": "stream",
     "text": [
      "hootie hoo! the indices match!\n"
     ]
    }
   ],
   "source": [
    "a,b,c = datprep('Data/EGFR_KI_08_Sat.csv','Data/EGFR_KI_08_Rtot.csv')"
   ]
  },
  {
   "cell_type": "code",
   "execution_count": 17,
   "metadata": {
    "collapsed": false
   },
   "outputs": [
    {
     "data": {
      "text/plain": [
       "['41k', '120k', '173k', '295k', '383k', '660k']"
      ]
     },
     "execution_count": 17,
     "metadata": {},
     "output_type": "execute_result"
    }
   ],
   "source": [
    "a"
   ]
  },
  {
   "cell_type": "code",
   "execution_count": 19,
   "metadata": {
    "collapsed": false
   },
   "outputs": [
    {
     "data": {
      "text/plain": [
       "[0.001192,\n",
       " 0.003025,\n",
       " 0.006534000000000001,\n",
       " 0.0063159999999999996,\n",
       " 0.017230000000000002,\n",
       " 0.02555]"
      ]
     },
     "execution_count": 19,
     "metadata": {},
     "output_type": "execute_result"
    }
   ],
   "source": [
    "b"
   ]
  },
  {
   "cell_type": "code",
   "execution_count": 20,
   "metadata": {
    "collapsed": false
   },
   "outputs": [
    {
     "data": {
      "text/plain": [
       "[        [egf]       41k\n",
       " 0    0.007748  0.010142\n",
       " 1    0.015429  0.018520\n",
       " 2    0.031355  0.030782\n",
       " 3    0.066715  0.047889\n",
       " 4    0.101370  0.049601\n",
       " 5    0.152462  0.072747\n",
       " 6    0.253937  0.088044\n",
       " 7    0.401917  0.148175\n",
       " 8    0.704463  0.225780\n",
       " 9    1.070390  0.297622\n",
       " 10   1.819577  0.451219\n",
       " 11   2.574158  0.528945\n",
       " 12   4.032859  0.620251\n",
       " 13   8.071280  0.795184\n",
       " 14  15.989710  0.816227,         [egf]      120k\n",
       " 15   0.008408  0.010096\n",
       " 16   0.016319  0.015566\n",
       " 17   0.031355  0.022990\n",
       " 18   0.064704  0.036218\n",
       " 19   0.101370  0.047653\n",
       " 20   0.149382  0.064967\n",
       " 21   0.253937  0.107525\n",
       " 22   0.406039  0.157909\n",
       " 23   0.704463  0.249157\n",
       " 24   1.038122  0.315172\n",
       " 25   1.782821  0.482399\n",
       " 26   2.548026  0.509471\n",
       " 27   4.116003  0.645564\n",
       " 28   8.237682  0.878939\n",
       " 29  16.486730  0.958418,         [egf]      173k\n",
       " 30   0.008322  0.008154\n",
       " 31   0.015990  0.011682\n",
       " 32   0.032330  0.021025\n",
       " 33   0.064704  0.036218\n",
       " 34   0.099322  0.055457\n",
       " 35   0.149382  0.078603\n",
       " 36   0.248808  0.127017\n",
       " 37   0.393798  0.200784\n",
       " 38   0.697312  0.286176\n",
       " 39   1.017151  0.404794\n",
       " 40   1.782821  0.519412\n",
       " 41   2.548026  0.544536\n",
       " 42   4.032859  0.668952\n",
       " 43   7.989343  0.847787\n",
       " 44  15.989710  0.921422,         [egf]      295k\n",
       " 45   0.008071  0.010119\n",
       " 46   0.015194  0.011710\n",
       " 47   0.030722  0.015209\n",
       " 48   0.062753  0.028443\n",
       " 49   0.098314  0.047670\n",
       " 50   0.149382  0.072759\n",
       " 51   0.248808  0.123120\n",
       " 52   0.397836  0.177401\n",
       " 53   0.704463  0.290066\n",
       " 54   1.017151  0.385313\n",
       " 55   1.782821  0.529153\n",
       " 56   2.548026  0.560120\n",
       " 57   8.071280  0.818561\n",
       " 58  16.153690  0.905832,         [egf]      383k\n",
       " 59   0.008494  0.010090\n",
       " 60   0.015350  0.015601\n",
       " 61   0.031355  0.022990\n",
       " 62   0.062753  0.042079\n",
       " 63   0.099322  0.076885\n",
       " 64   0.150914  0.113662\n",
       " 65   0.248808  0.165978\n",
       " 66   0.406039  0.216351\n",
       " 67   0.711688  0.352398\n",
       " 68   1.038122  0.455432\n",
       " 69   1.746808  0.589554\n",
       " 70   2.574158  0.653621\n",
       " 71   4.032859  0.737134\n",
       " 72   7.989343  0.851683\n",
       " 73  15.827390  0.987661,         [egf]      660k\n",
       " 74   0.007439  0.008217\n",
       " 75   0.014439  0.011739\n",
       " 76   0.028604  0.021094\n",
       " 77   0.059632  0.040160\n",
       " 78   0.094382  0.067174\n",
       " 79   0.143408  0.100055\n",
       " 80   0.234032  0.173804\n",
       " 81   0.385843  0.247548\n",
       " 82   0.683226  0.383590\n",
       " 83   1.017151  0.486612\n",
       " 84   1.764723  0.636301\n",
       " 85   2.522159  0.690645\n",
       " 86   4.032859  0.758562\n",
       " 87   8.071280  0.843885\n",
       " 88  16.153690  0.962325]"
      ]
     },
     "execution_count": 20,
     "metadata": {},
     "output_type": "execute_result"
    }
   ],
   "source": [
    "c"
   ]
  },
  {
   "cell_type": "code",
   "execution_count": 34,
   "metadata": {
    "collapsed": false
   },
   "outputs": [],
   "source": [
    "sats = np.array([i.iloc[:,1].values for i in c])"
   ]
  },
  {
   "cell_type": "code",
   "execution_count": 36,
   "metadata": {
    "collapsed": true
   },
   "outputs": [],
   "source": [
    "ligs = np.array([i.iloc[:,0].values for i in c])"
   ]
  },
  {
   "cell_type": "code",
   "execution_count": 32,
   "metadata": {
    "collapsed": true
   },
   "outputs": [],
   "source": [
    "import matplotlib.pyplot as plt"
   ]
  },
  {
   "cell_type": "code",
   "execution_count": 38,
   "metadata": {
    "collapsed": true
   },
   "outputs": [],
   "source": [
    "%matplotlib inline"
   ]
  },
  {
   "cell_type": "code",
   "execution_count": 39,
   "metadata": {
    "collapsed": false
   },
   "outputs": [
    {
     "data": {
      "image/png": "[encoded data removed]",
      "text/plain": [
       "<matplotlib.figure.Figure at 0x10c092198>"
      ]
     },
     "metadata": {},
     "output_type": "display_data"
    }
   ],
   "source": [
    "for i in range(len(sats)):\n",
    "    plt.semilogx(ligs[i],sats[i],'.')"
   ]
  },
  {
   "cell_type": "code",
   "execution_count": 40,
   "metadata": {
    "collapsed": true
   },
   "outputs": [],
   "source": [
    "#preps raw data csv's for analysis using numpy arrays\n",
    "\n",
    "#Takes CSV data file in graphpad table format --- first column contins all x-values\n",
    "#and subsequent columns correspond to different y-values for different datasets thus \n",
    "#fields will be missing in a diagonal pattern when there are more than one dataset.\n",
    "#Returns numpy arrays for further processing\"\n",
    "\n",
    "\n",
    "#dependencies\n",
    "import numpy as np\n",
    "import pandas as pd\n",
    "from collections import OrderedDict as Ord\n",
    "\n",
    "def makedf(dat):\n",
    "    \"\"\"Takes csv file location as string, returns pandas dataframe\"\"\"\n",
    "    return pd.read_csv(dat)\n",
    "    \n",
    "def colist(df):\n",
    "    \"\"\"Takes dataframe returns columns headers excluding first column\"\"\"\n",
    "    return df.columns.tolist()[1:]\n",
    "    \n",
    "def framelist(df,cols):\n",
    "    \"\"\"Splits dataframe containing multiple data sets into list of dataframes for \n",
    "    each dataset\"\"\"\n",
    "    xvals = df.columns[0]\n",
    "    return [df[[xvals, i]].dropna().sort_values(by=xvals) for i in cols]\n",
    "    \n",
    "def rtotinds(df):\n",
    "    \"\"\"Takes datafram and returns list of rtot idxs\"\"\"\n",
    "    return df.iloc[:,0].tolist()\n",
    "    \n",
    "def checkidx(satdf,rtotdf):\n",
    "    satidx = colist(satdf)\n",
    "    rtotidx = rtotinds(rtotdf)\n",
    "    \n",
    "    #print(satidx, rtotidx)\n",
    "    return satidx == rtotidx\n",
    "    \n",
    "def rtotlist(df):\n",
    "    \"\"\"Takes datafram and returns list of rtot values\"\"\"\n",
    "    return df.iloc[:,1].values.tolist()\n",
    "\n",
    "\n",
    "def datprep(satdat,rtotdat):\n",
    "    \"\"\"Takes csv data files (ligand binding data in first position, 'satdat',\n",
    "    and receptor concentration data, 'rtotdat' in second position) and returns \n",
    "    numpy arrays of values for fitting functions.\n",
    "    \n",
    "    Need to work in description of data files, e.g., satdat is \n",
    "    ligand binding data in Graphpad xy-table style (all xvals in\n",
    "    first column and yvals corresponding to diferent datasets in subsequent columns,\n",
    "    and rtotdat is two columns where the first column should match the data set\n",
    "    column header used in satdat, and the second column is the total receptor \n",
    "    concentration in the same units used in satdat, e.g., mmol.)\n",
    "    \"\"\"\n",
    "    sats = makedf(satdat)\n",
    "    rtots = makedf(rtotdat)\n",
    "    \n",
    "    if checkidx(sats,rtots) is True: \n",
    "        print('hootie hoo! the indices match!')\n",
    "        \n",
    "        data_labels = colist(sats) #note to self: i've computed colist twice now, 'chexkidx' func is costly\n",
    "        \n",
    "        rtotal_values = rtotlist(rtots)\n",
    "        \n",
    "        list_of_frames = framelist(sats,data_labels)\n",
    "        \n",
    "        lig_vals = np.array([i.iloc[:,0].values for i in list_of_frames])\n",
    "        \n",
    "        sat_vals = np.array([i.iloc[:,1].values for i in list_of_frames])\n",
    "        \n",
    "        return data_labels, rtotal_values, lig_vals, sat_vals\n",
    "        \n",
    "        \n",
    "    else:\n",
    "        print('oh poop (-_-) the indices don\\'t match')"
   ]
  },
  {
   "cell_type": "code",
   "execution_count": 41,
   "metadata": {
    "collapsed": false
   },
   "outputs": [
    {
     "name": "stdout",
     "output_type": "stream",
     "text": [
      "hootie hoo! the indices match!\n"
     ]
    }
   ],
   "source": [
    "a,b,c,d = datprep('Data/EGFR_KI_08_Sat.csv','Data/EGFR_KI_08_Rtot.csv')"
   ]
  },
  {
   "cell_type": "code",
   "execution_count": 48,
   "metadata": {
    "collapsed": false
   },
   "outputs": [
    {
     "data": {
      "text/plain": [
       "<matplotlib.legend.Legend at 0x10c14d7b8>"
      ]
     },
     "execution_count": 48,
     "metadata": {},
     "output_type": "execute_result"
    },
    {
     "data": {
      "image/png": "[encoded data removed]",
      "text/plain": [
       "<matplotlib.figure.Figure at 0x10f94de48>"
      ]
     },
     "metadata": {},
     "output_type": "display_data"
    }
   ],
   "source": [
    "for i in range(len(c)):\n",
    "    plt.semilogx(c[i],d[i],'.',label=a[i])\n",
    "plt.legend()"
   ]
  },
  {
   "cell_type": "code",
   "execution_count": 50,
   "metadata": {
    "collapsed": false
   },
   "outputs": [
    {
     "name": "stdout",
     "output_type": "stream",
     "text": [
      "hootie hoo! the indices match!\n"
     ]
    }
   ],
   "source": [
    "a,b,c,d = datprep('Data/EGFR_KI_Sat.csv','Data/EGFR_KI_Rtot.csv')"
   ]
  },
  {
   "cell_type": "code",
   "execution_count": 52,
   "metadata": {
    "collapsed": false
   },
   "outputs": [
    {
     "data": {
      "text/plain": [
       "<matplotlib.legend.Legend at 0x10ec05c50>"
      ]
     },
     "execution_count": 52,
     "metadata": {},
     "output_type": "execute_result"
    },
    {
     "data": {
      "image/png": "[encoded data removed]",
      "text/plain": [
       "<matplotlib.figure.Figure at 0x10ec05cf8>"
      ]
     },
     "metadata": {},
     "output_type": "display_data"
    }
   ],
   "source": [
    "for i in range(len(c)):\n",
    "    plt.semilogx(c[i],d[i],'-',label=a[i])\n",
    "plt.legend()"
   ]
  },
  {
   "cell_type": "code",
   "execution_count": 53,
   "metadata": {
    "collapsed": false
   },
   "outputs": [
    {
     "data": {
      "text/plain": [
       "array([ array([  7.74849100e-03,   1.54287600e-02,   3.13550300e-02,\n",
       "         6.67151600e-02,   1.01369800e-01,   1.52461800e-01,\n",
       "         2.53937500e-01,   4.01916600e-01,   7.04463000e-01,\n",
       "         1.07039000e+00,   1.81957700e+00,   2.57415800e+00,\n",
       "         4.03285900e+00,   8.07128000e+00,   1.59897100e+01]),\n",
       "       array([  8.40751500e-03,   1.63193600e-02,   3.13550300e-02,\n",
       "         6.47039200e-02,   1.01369800e-01,   1.49382000e-01,\n",
       "         2.53937500e-01,   4.06038500e-01,   7.04463000e-01,\n",
       "         1.03812200e+00,   1.78282100e+00,   2.54802600e+00,\n",
       "         4.11600300e+00,   8.23768200e+00,   1.64867300e+01]),\n",
       "       array([  8.32216500e-03,   1.59897100e-02,   3.23296600e-02,\n",
       "         6.47039200e-02,   9.93220700e-02,   1.49382000e-01,\n",
       "         2.48807900e-01,   3.93797800e-01,   6.97311600e-01,\n",
       "         1.01715100e+00,   1.78282100e+00,   2.54802600e+00,\n",
       "         4.03285900e+00,   7.98934300e+00,   1.59897100e+01]),\n",
       "       array([  8.07127900e-03,   1.51944100e-02,   3.07216600e-02,\n",
       "         6.27533100e-02,   9.83138000e-02,   1.49382000e-01,\n",
       "         2.48807900e-01,   3.97836500e-01,   7.04463000e-01,\n",
       "         1.01715100e+00,   1.78282100e+00,   2.54802600e+00,\n",
       "         8.07128000e+00,   1.61536900e+01]),\n",
       "       array([  8.49374000e-03,   1.53502400e-02,   3.13550300e-02,\n",
       "         6.27533100e-02,   9.93220700e-02,   1.50914100e-01,\n",
       "         2.48807900e-01,   4.06038500e-01,   7.11687800e-01,\n",
       "         1.03812200e+00,   1.74680800e+00,   2.57415800e+00,\n",
       "         4.03285900e+00,   7.98934300e+00,   1.58273900e+01]),\n",
       "       array([  7.43861200e-03,   1.44386800e-02,   2.86039100e-02,\n",
       "         5.96320900e-02,   9.43820100e-02,   1.43407900e-01,\n",
       "         2.34032500e-01,   3.85843000e-01,   6.83225800e-01,\n",
       "         1.01715100e+00,   1.76472300e+00,   2.52215900e+00,\n",
       "         4.03285900e+00,   8.07128000e+00,   1.61536900e+01]),\n",
       "       array([  1.11483400e-02,   2.18301000e-02,   4.31711000e-02,\n",
       "         8.45354100e-02,   1.25519900e-01,   1.67176800e-01,\n",
       "         2.60800900e-01,   4.06857300e-01,   7.21720600e-01,\n",
       "         1.05065300e+00,   1.80930100e+00,   2.58236200e+00,\n",
       "         4.19100000e+00,   8.04598800e+00,   1.23063400e+01]),\n",
       "       array([  0.02339369,   0.05418831,   0.1061087 ,   0.1470219 ,\n",
       "         0.2386066 ,   0.3949722 ,   0.7217206 ,   1.030091  ,\n",
       "         1.827269  ,   2.556968  ,   4.068573  ,   8.206596  ,  12.42855   ]),\n",
       "       array([  0.01863744,   0.03949722,   0.08045989,   0.263391  ,\n",
       "         0.4108979 ,   0.7434378 ,   1.030091  ,   1.809301  ,\n",
       "         2.63391   ,   4.108979  ,   8.288099  ,  12.30634   ]),\n",
       "       array([  1.17130400e-02,   3.30608000e-02,   7.36127100e-02,\n",
       "         1.13708800e-01,   1.54469000e-01,   2.45786500e-01,\n",
       "         5.05664700e-01,   7.14623500e-01,   1.05065300e+00,\n",
       "         1.80930100e+00,   4.06857300e+00,   8.20659600e+00,\n",
       "         1.23063400e+01]),\n",
       "       array([  0.01997235,   0.03949722,   0.07888524,   0.1194685 ,\n",
       "         0.1591171 ,   0.2482274 ,   0.4028564 ,   0.7434378 ,\n",
       "         1.030091  ,   1.827269  ,   2.582362  ,   4.108979  ,\n",
       "         8.370411  ,  12.42855   ]),\n",
       "       array([  0.01575524,   0.02556968,   0.04491181,   0.08537495,\n",
       "         0.1242855 ,   0.1606973 ,   0.2457865 ,   0.3949722 ,\n",
       "         0.6869259 ,   0.9901663 ,   1.739175  ,   2.531824  ,\n",
       "         4.108979  ,   8.288099  ,  12.30634   ]),\n",
       "       array([ 0.01149396,  0.02231178,  0.04332757,  0.08496879,  0.15861   ,\n",
       "        0.2602331 ,  0.4195884 ,  0.7392664 ,  1.10014   ,  1.921572  ,\n",
       "        2.671042  ,  4.231597  ,  6.49394   ,  8.682362  ]),\n",
       "       array([  0.02001805,   0.08175179,   0.1540874 ,   0.2457726 ,\n",
       "         0.403518  ,   0.7182965 ,   1.049342  ,   1.8522    ,\n",
       "         2.65341   ,   4.243533  ,   6.536097  ,   8.458586  ,  12.93642   ]),\n",
       "       array([  0.01976403,   0.03986058,   0.08115938,   0.15274   ,\n",
       "         0.2525796 ,   0.3937537 ,   0.691015  ,   1.066542  ,\n",
       "         1.834205  ,   2.564015  ,   4.156074  ,   6.167444  ,\n",
       "         8.209081  ,  12.41944   ]),\n",
       "       array([  0.01922938,   0.03772468,   0.07778719,   0.1424777 ,\n",
       "         0.2412862 ,   0.3962728 ,   0.7127405 ,   1.052702  ,\n",
       "         1.803913  ,   2.611527  ,   4.256475  ,   6.463362  ,\n",
       "         8.451506  ,  12.57425   ]),\n",
       "       array([  0.01849429,   0.07261955,   0.1398876 ,   0.2392377 ,\n",
       "         0.3894541 ,   0.694265  ,   1.05543   ,   1.828523  ,\n",
       "         2.667993  ,   4.263285  ,   6.347795  ,   8.828998  ,  12.86864   ]),\n",
       "       array([  0.01742278,   0.03418566,   0.07053278,   0.1358678 ,\n",
       "         0.2346562 ,   0.3860301 ,   0.6810213 ,   1.03719   ,\n",
       "         1.830334  ,   2.648566  ,   4.142668  ,   8.655963  ,  12.84906   ])], dtype=object)"
      ]
     },
     "execution_count": 53,
     "metadata": {},
     "output_type": "execute_result"
    }
   ],
   "source": [
    "c"
   ]
  },
  {
   "cell_type": "code",
   "execution_count": 54,
   "metadata": {
    "collapsed": true
   },
   "outputs": [],
   "source": [
    "df = pd.read_csv('Data/EGFR_KI_Sat.csv')"
   ]
  },
  {
   "cell_type": "code",
   "execution_count": 66,
   "metadata": {
    "collapsed": false
   },
   "outputs": [
    {
     "data": {
      "text/plain": [
       "['[egf]',\n",
       " '41k',\n",
       " '120k',\n",
       " '173k',\n",
       " '295k',\n",
       " '383k',\n",
       " '660k',\n",
       " '22k',\n",
       " '57k',\n",
       " '103k',\n",
       " '150k',\n",
       " '361k',\n",
       " '485k',\n",
       " '14k',\n",
       " '42k',\n",
       " '65k',\n",
       " '112k',\n",
       " '200k',\n",
       " '263k']"
      ]
     },
     "execution_count": 66,
     "metadata": {},
     "output_type": "execute_result"
    }
   ],
   "source": [
    "df.columns.tolist()"
   ]
  },
  {
   "cell_type": "code",
   "execution_count": 67,
   "metadata": {
    "collapsed": false
   },
   "outputs": [
    {
     "data": {
      "text/plain": [
       "['41k',\n",
       " '120k',\n",
       " '173k',\n",
       " '295k',\n",
       " '383k',\n",
       " '660k',\n",
       " '22k',\n",
       " '57k',\n",
       " '103k',\n",
       " '150k',\n",
       " '361k',\n",
       " '485k',\n",
       " '14k',\n",
       " '42k',\n",
       " '65k',\n",
       " '112k',\n",
       " '200k',\n",
       " '263k']"
      ]
     },
     "execution_count": 67,
     "metadata": {},
     "output_type": "execute_result"
    }
   ],
   "source": [
    "a"
   ]
  },
  {
   "cell_type": "code",
   "execution_count": null,
   "metadata": {
    "collapsed": true
   },
   "outputs": [],
   "source": []
  }
 ],
 "metadata": {
  "kernelspec": {
   "display_name": "Python [conda env:fitter]",
   "language": "python",
   "name": "conda-env-fitter-py"
  },
  "language_info": {
   "codemirror_mode": {
    "name": "ipython",
    "version": 3
   },
   "file_extension": ".py",
   "mimetype": "text/x-python",
   "name": "python",
   "nbconvert_exporter": "python",
   "pygments_lexer": "ipython3",
   "version": "3.5.2"
  }
 },
 "nbformat": 4,
 "nbformat_minor": 1
}
