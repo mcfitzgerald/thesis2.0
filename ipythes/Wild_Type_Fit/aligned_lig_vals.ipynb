{
 "cells": [
  {
   "cell_type": "code",
   "execution_count": 1,
   "metadata": {
    "collapsed": true
   },
   "outputs": [],
   "source": [
    "#imports\n",
    "import csv\n",
    "import aligner_ultra\n",
    "import numpy as np\n",
    "import pandas as pd\n",
    "import matplotlib.pyplot as plt\n",
    "from collections import OrderedDict as Ord\n",
    "\n",
    "#magic\n",
    "%matplotlib inline\n",
    "%load_ext autoreload"
   ]
  },
  {
   "cell_type": "code",
   "execution_count": 2,
   "metadata": {
    "collapsed": true
   },
   "outputs": [],
   "source": [
    "#import tab sep values file\n",
    "df = pd.read_csv('All_WT_for_coopfit_tsv.csv', sep='\\t')\n",
    "\n",
    "#put saturation data column headers into list\n",
    "colist = df.columns.tolist()[1:]\n",
    "\n",
    "#create list of dataframes for each [lig]-sat data set for each receptor conc. and ensure sort oder (to avoid potting issues)\n",
    "dflist = [df[['[egf]', i]].dropna().sort_values(by='[egf]') for i in colist]\n",
    "\n",
    "#make headers uniform \n",
    "colist_low = [colist[i].lower() for i in range(len(colist))]\n",
    "\n",
    "#apply uniform headers to dataframe\n",
    "dflist_low = [dflist[i].rename(columns={colist[i]:colist_low[i]}) for i in range(len(colist_low))]\n",
    "\n",
    "#import total receptor concentrations\n",
    "with open('rtotswt.csv', 'r') as f:\n",
    "    g = csv.reader(f)\n",
    "    rtots = (list(g))\n",
    "    \n",
    "#convert to numerical values (floats)\n",
    "rtots = [float(rtots[i][0]) for i in range(len(rtots))]\n",
    "\n",
    "EGFR_WT_RTOTS_ord = Ord(zip(colist_low,rtots))\n",
    "\n",
    "EGFR_WT_DICT_ord = Ord(zip(colist_low,dflist_low))\n",
    "\n",
    "keylist = list(EGFR_WT_DICT_ord.keys())\n",
    "\n",
    "keyed_sats = np.array([EGFR_WT_DICT_ord[key][key].as_matrix() for key in keylist])\n",
    "\n",
    "keyed_ligs = np.array([EGFR_WT_DICT_ord[key]['[egf]'].as_matrix() for key in keylist])\n",
    "\n",
    "keyed_rtots = np.array([EGFR_WT_RTOTS_ord[key] for key in keylist])"
   ]
  },
  {
   "cell_type": "code",
   "execution_count": 3,
   "metadata": {
    "collapsed": true
   },
   "outputs": [],
   "source": [
    "old_aligned_ligs = aligner_old.align_datset(keyed_ligs)"
   ]
  },
  {
   "cell_type": "code",
   "execution_count": 5,
   "metadata": {
    "collapsed": false
   },
   "outputs": [
    {
     "ename": "NameError",
     "evalue": "name 'aligner_wrap' is not defined",
     "output_type": "error",
     "traceback": [
      "\u001b[0;31m---------------------------------------------------------------------------\u001b[0m",
      "\u001b[0;31mNameError\u001b[0m                                 Traceback (most recent call last)",
      "\u001b[0;32m<ipython-input-5-312bb15b0979>\u001b[0m in \u001b[0;36m<module>\u001b[0;34m()\u001b[0m\n\u001b[0;32m----> 1\u001b[0;31m \u001b[0mnew_aligned_ligs\u001b[0m \u001b[0;34m=\u001b[0m \u001b[0maligner_new\u001b[0m\u001b[0;34m.\u001b[0m\u001b[0malign_datset\u001b[0m\u001b[0;34m(\u001b[0m\u001b[0mkeyed_ligs\u001b[0m\u001b[0;34m)\u001b[0m\u001b[0;34m\u001b[0m\u001b[0m\n\u001b[0m",
      "\u001b[0;32m/Users/michael/thesis2.0/ipythes/Wild_Type_Fit/aligner_new.py\u001b[0m in \u001b[0;36malign_datset\u001b[0;34m(datset)\u001b[0m\n\u001b[1;32m     59\u001b[0m     \u001b[0;31m#print(lng_idx,oth_idxs) PASSED\u001b[0m\u001b[0;34m\u001b[0m\u001b[0;34m\u001b[0m\u001b[0m\n\u001b[1;32m     60\u001b[0m \u001b[0;34m\u001b[0m\u001b[0m\n\u001b[0;32m---> 61\u001b[0;31m     \u001b[0mcontainer\u001b[0m \u001b[0;34m=\u001b[0m \u001b[0;34m[\u001b[0m\u001b[0maligner_wrap\u001b[0m\u001b[0;34m(\u001b[0m\u001b[0mdatset\u001b[0m\u001b[0;34m[\u001b[0m\u001b[0mlng_idx\u001b[0m\u001b[0;34m]\u001b[0m\u001b[0;34m,\u001b[0m\u001b[0mdatset\u001b[0m\u001b[0;34m[\u001b[0m\u001b[0mi\u001b[0m\u001b[0;34m]\u001b[0m\u001b[0;34m)\u001b[0m \u001b[0;32mfor\u001b[0m \u001b[0mi\u001b[0m \u001b[0;32min\u001b[0m \u001b[0moth_idxs\u001b[0m\u001b[0;34m]\u001b[0m \u001b[0;31m#call aligner func\u001b[0m\u001b[0;34m\u001b[0m\u001b[0m\n\u001b[0m\u001b[1;32m     62\u001b[0m     \u001b[0mcontainer\u001b[0m\u001b[0;34m.\u001b[0m\u001b[0minsert\u001b[0m\u001b[0;34m(\u001b[0m\u001b[0;36m0\u001b[0m\u001b[0;34m,\u001b[0m\u001b[0mdatset\u001b[0m\u001b[0;34m[\u001b[0m\u001b[0mlng_idx\u001b[0m\u001b[0;34m]\u001b[0m\u001b[0;34m)\u001b[0m\u001b[0;34m\u001b[0m\u001b[0m\n\u001b[1;32m     63\u001b[0m \u001b[0;34m\u001b[0m\u001b[0m\n",
      "\u001b[0;32m/Users/michael/thesis2.0/ipythes/Wild_Type_Fit/aligner_new.py\u001b[0m in \u001b[0;36m<listcomp>\u001b[0;34m(.0)\u001b[0m\n\u001b[1;32m     59\u001b[0m     \u001b[0;31m#print(lng_idx,oth_idxs) PASSED\u001b[0m\u001b[0;34m\u001b[0m\u001b[0;34m\u001b[0m\u001b[0m\n\u001b[1;32m     60\u001b[0m \u001b[0;34m\u001b[0m\u001b[0m\n\u001b[0;32m---> 61\u001b[0;31m     \u001b[0mcontainer\u001b[0m \u001b[0;34m=\u001b[0m \u001b[0;34m[\u001b[0m\u001b[0maligner_wrap\u001b[0m\u001b[0;34m(\u001b[0m\u001b[0mdatset\u001b[0m\u001b[0;34m[\u001b[0m\u001b[0mlng_idx\u001b[0m\u001b[0;34m]\u001b[0m\u001b[0;34m,\u001b[0m\u001b[0mdatset\u001b[0m\u001b[0;34m[\u001b[0m\u001b[0mi\u001b[0m\u001b[0;34m]\u001b[0m\u001b[0;34m)\u001b[0m \u001b[0;32mfor\u001b[0m \u001b[0mi\u001b[0m \u001b[0;32min\u001b[0m \u001b[0moth_idxs\u001b[0m\u001b[0;34m]\u001b[0m \u001b[0;31m#call aligner func\u001b[0m\u001b[0;34m\u001b[0m\u001b[0m\n\u001b[0m\u001b[1;32m     62\u001b[0m     \u001b[0mcontainer\u001b[0m\u001b[0;34m.\u001b[0m\u001b[0minsert\u001b[0m\u001b[0;34m(\u001b[0m\u001b[0;36m0\u001b[0m\u001b[0;34m,\u001b[0m\u001b[0mdatset\u001b[0m\u001b[0;34m[\u001b[0m\u001b[0mlng_idx\u001b[0m\u001b[0;34m]\u001b[0m\u001b[0;34m)\u001b[0m\u001b[0;34m\u001b[0m\u001b[0m\n\u001b[1;32m     63\u001b[0m \u001b[0;34m\u001b[0m\u001b[0m\n",
      "\u001b[0;31mNameError\u001b[0m: name 'aligner_wrap' is not defined"
     ]
    }
   ],
   "source": [
    "new_aligned_ligs = aligner_new.align_datset(keyed_ligs)"
   ]
  },
  {
   "cell_type": "code",
   "execution_count": 6,
   "metadata": {
    "collapsed": true
   },
   "outputs": [],
   "source": [
    "%autoreload"
   ]
  },
  {
   "cell_type": "code",
   "execution_count": 7,
   "metadata": {
    "collapsed": false
   },
   "outputs": [
    {
     "ename": "IndexError",
     "evalue": "index 15 is out of bounds for axis 0 with size 15",
     "output_type": "error",
     "traceback": [
      "\u001b[0;31m---------------------------------------------------------------------------\u001b[0m",
      "\u001b[0;31mIndexError\u001b[0m                                Traceback (most recent call last)",
      "\u001b[0;32m<ipython-input-7-312bb15b0979>\u001b[0m in \u001b[0;36m<module>\u001b[0;34m()\u001b[0m\n\u001b[0;32m----> 1\u001b[0;31m \u001b[0mnew_aligned_ligs\u001b[0m \u001b[0;34m=\u001b[0m \u001b[0maligner_new\u001b[0m\u001b[0;34m.\u001b[0m\u001b[0malign_datset\u001b[0m\u001b[0;34m(\u001b[0m\u001b[0mkeyed_ligs\u001b[0m\u001b[0;34m)\u001b[0m\u001b[0;34m\u001b[0m\u001b[0m\n\u001b[0m",
      "\u001b[0;32m/Users/michael/thesis2.0/ipythes/Wild_Type_Fit/aligner_new.py\u001b[0m in \u001b[0;36malign_datset\u001b[0;34m(datset)\u001b[0m\n\u001b[1;32m     55\u001b[0m     \u001b[0;31m#print(lng_idx,oth_idxs) PASSED\u001b[0m\u001b[0;34m\u001b[0m\u001b[0;34m\u001b[0m\u001b[0m\n\u001b[1;32m     56\u001b[0m \u001b[0;34m\u001b[0m\u001b[0m\n\u001b[0;32m---> 57\u001b[0;31m     \u001b[0mcontainer\u001b[0m \u001b[0;34m=\u001b[0m \u001b[0;34m[\u001b[0m\u001b[0maligner_wrap\u001b[0m\u001b[0;34m(\u001b[0m\u001b[0mdatset\u001b[0m\u001b[0;34m[\u001b[0m\u001b[0mlng_idx\u001b[0m\u001b[0;34m]\u001b[0m\u001b[0;34m,\u001b[0m\u001b[0mdatset\u001b[0m\u001b[0;34m[\u001b[0m\u001b[0mi\u001b[0m\u001b[0;34m]\u001b[0m\u001b[0;34m)\u001b[0m \u001b[0;32mfor\u001b[0m \u001b[0mi\u001b[0m \u001b[0;32min\u001b[0m \u001b[0moth_idxs\u001b[0m\u001b[0;34m]\u001b[0m \u001b[0;31m#call aligner func\u001b[0m\u001b[0;34m\u001b[0m\u001b[0m\n\u001b[0m\u001b[1;32m     58\u001b[0m     \u001b[0mcontainer\u001b[0m\u001b[0;34m.\u001b[0m\u001b[0minsert\u001b[0m\u001b[0;34m(\u001b[0m\u001b[0;36m0\u001b[0m\u001b[0;34m,\u001b[0m\u001b[0mdatset\u001b[0m\u001b[0;34m[\u001b[0m\u001b[0mlng_idx\u001b[0m\u001b[0;34m]\u001b[0m\u001b[0;34m)\u001b[0m\u001b[0;34m\u001b[0m\u001b[0m\n\u001b[1;32m     59\u001b[0m \u001b[0;34m\u001b[0m\u001b[0m\n",
      "\u001b[0;32m/Users/michael/thesis2.0/ipythes/Wild_Type_Fit/aligner_new.py\u001b[0m in \u001b[0;36m<listcomp>\u001b[0;34m(.0)\u001b[0m\n\u001b[1;32m     55\u001b[0m     \u001b[0;31m#print(lng_idx,oth_idxs) PASSED\u001b[0m\u001b[0;34m\u001b[0m\u001b[0;34m\u001b[0m\u001b[0m\n\u001b[1;32m     56\u001b[0m \u001b[0;34m\u001b[0m\u001b[0m\n\u001b[0;32m---> 57\u001b[0;31m     \u001b[0mcontainer\u001b[0m \u001b[0;34m=\u001b[0m \u001b[0;34m[\u001b[0m\u001b[0maligner_wrap\u001b[0m\u001b[0;34m(\u001b[0m\u001b[0mdatset\u001b[0m\u001b[0;34m[\u001b[0m\u001b[0mlng_idx\u001b[0m\u001b[0;34m]\u001b[0m\u001b[0;34m,\u001b[0m\u001b[0mdatset\u001b[0m\u001b[0;34m[\u001b[0m\u001b[0mi\u001b[0m\u001b[0;34m]\u001b[0m\u001b[0;34m)\u001b[0m \u001b[0;32mfor\u001b[0m \u001b[0mi\u001b[0m \u001b[0;32min\u001b[0m \u001b[0moth_idxs\u001b[0m\u001b[0;34m]\u001b[0m \u001b[0;31m#call aligner func\u001b[0m\u001b[0;34m\u001b[0m\u001b[0m\n\u001b[0m\u001b[1;32m     58\u001b[0m     \u001b[0mcontainer\u001b[0m\u001b[0;34m.\u001b[0m\u001b[0minsert\u001b[0m\u001b[0;34m(\u001b[0m\u001b[0;36m0\u001b[0m\u001b[0;34m,\u001b[0m\u001b[0mdatset\u001b[0m\u001b[0;34m[\u001b[0m\u001b[0mlng_idx\u001b[0m\u001b[0;34m]\u001b[0m\u001b[0;34m)\u001b[0m\u001b[0;34m\u001b[0m\u001b[0m\n\u001b[1;32m     59\u001b[0m \u001b[0;34m\u001b[0m\u001b[0m\n",
      "\u001b[0;32m/Users/michael/thesis2.0/ipythes/Wild_Type_Fit/aligner_new.py\u001b[0m in \u001b[0;36maligner_wrap\u001b[0;34m(arr1, arr2)\u001b[0m\n\u001b[1;32m     43\u001b[0m         \u001b[0;32mreturn\u001b[0m \u001b[0marr2\u001b[0m\u001b[0;34m\u001b[0m\u001b[0m\n\u001b[1;32m     44\u001b[0m     \u001b[0;32melse\u001b[0m\u001b[0;34m:\u001b[0m\u001b[0;34m\u001b[0m\u001b[0m\n\u001b[0;32m---> 45\u001b[0;31m         \u001b[0;32mreturn\u001b[0m \u001b[0maligner\u001b[0m\u001b[0;34m(\u001b[0m\u001b[0marr1\u001b[0m\u001b[0;34m,\u001b[0m\u001b[0marr2\u001b[0m\u001b[0;34m)\u001b[0m\u001b[0;34m\u001b[0m\u001b[0m\n\u001b[0m\u001b[1;32m     46\u001b[0m \u001b[0;34m\u001b[0m\u001b[0m\n\u001b[1;32m     47\u001b[0m \u001b[0;32mdef\u001b[0m \u001b[0malign_datset\u001b[0m\u001b[0;34m(\u001b[0m\u001b[0mdatset\u001b[0m\u001b[0;34m)\u001b[0m\u001b[0;34m:\u001b[0m\u001b[0;34m\u001b[0m\u001b[0m\n",
      "\u001b[0;32m/Users/michael/thesis2.0/ipythes/Wild_Type_Fit/aligner_new.py\u001b[0m in \u001b[0;36maligner\u001b[0;34m(arr_long, arr_short)\u001b[0m\n\u001b[1;32m     32\u001b[0m \u001b[0;34m\u001b[0m\u001b[0m\n\u001b[1;32m     33\u001b[0m     \u001b[0;32mfor\u001b[0m \u001b[0mi\u001b[0m \u001b[0;32min\u001b[0m \u001b[0mrange\u001b[0m\u001b[0;34m(\u001b[0m\u001b[0mlen\u001b[0m\u001b[0;34m(\u001b[0m\u001b[0mindices\u001b[0m\u001b[0;34m)\u001b[0m\u001b[0;34m)\u001b[0m\u001b[0;34m:\u001b[0m\u001b[0;34m\u001b[0m\u001b[0m\n\u001b[0;32m---> 34\u001b[0;31m         \u001b[0maligned_arr\u001b[0m\u001b[0;34m[\u001b[0m\u001b[0mindices\u001b[0m\u001b[0;34m[\u001b[0m\u001b[0mi\u001b[0m\u001b[0;34m]\u001b[0m\u001b[0;34m]\u001b[0m \u001b[0;34m=\u001b[0m \u001b[0marr_short\u001b[0m\u001b[0;34m[\u001b[0m\u001b[0mi\u001b[0m\u001b[0;34m]\u001b[0m\u001b[0;34m\u001b[0m\u001b[0m\n\u001b[0m\u001b[1;32m     35\u001b[0m \u001b[0;34m\u001b[0m\u001b[0m\n\u001b[1;32m     36\u001b[0m     \u001b[0;31m#print(aligned_arr)\u001b[0m\u001b[0;34m\u001b[0m\u001b[0;34m\u001b[0m\u001b[0m\n",
      "\u001b[0;31mIndexError\u001b[0m: index 15 is out of bounds for axis 0 with size 15"
     ]
    }
   ],
   "source": [
    "new_aligned_ligs = aligner_new.align_datset(keyed_ligs)"
   ]
  },
  {
   "cell_type": "code",
   "execution_count": 8,
   "metadata": {
    "collapsed": true
   },
   "outputs": [],
   "source": [
    "%autoreload"
   ]
  },
  {
   "cell_type": "code",
   "execution_count": 11,
   "metadata": {
    "collapsed": false
   },
   "outputs": [
    {
     "name": "stdout",
     "output_type": "stream",
     "text": [
      "Hi Mike\n",
      "Hi Mike\n",
      "Hi Mike\n",
      "Hi Mike\n",
      "Hi Mike\n"
     ]
    },
    {
     "ename": "IndexError",
     "evalue": "index 15 is out of bounds for axis 0 with size 15",
     "output_type": "error",
     "traceback": [
      "\u001b[0;31m---------------------------------------------------------------------------\u001b[0m",
      "\u001b[0;31mIndexError\u001b[0m                                Traceback (most recent call last)",
      "\u001b[0;32m<ipython-input-11-c3e46737b35a>\u001b[0m in \u001b[0;36m<module>\u001b[0;34m()\u001b[0m\n\u001b[0;32m----> 1\u001b[0;31m \u001b[0maligner_new\u001b[0m\u001b[0;34m.\u001b[0m\u001b[0malign_datset\u001b[0m\u001b[0;34m(\u001b[0m\u001b[0mkeyed_ligs\u001b[0m\u001b[0;34m)\u001b[0m\u001b[0;34m\u001b[0m\u001b[0m\n\u001b[0m",
      "\u001b[0;32m/Users/michael/thesis2.0/ipythes/Wild_Type_Fit/aligner_new.py\u001b[0m in \u001b[0;36malign_datset\u001b[0;34m(datset)\u001b[0m\n\u001b[1;32m     56\u001b[0m     \u001b[0;31m#print(lng_idx,oth_idxs) PASSED\u001b[0m\u001b[0;34m\u001b[0m\u001b[0;34m\u001b[0m\u001b[0m\n\u001b[1;32m     57\u001b[0m \u001b[0;34m\u001b[0m\u001b[0m\n\u001b[0;32m---> 58\u001b[0;31m     \u001b[0mcontainer\u001b[0m \u001b[0;34m=\u001b[0m \u001b[0;34m[\u001b[0m\u001b[0maligner_wrap\u001b[0m\u001b[0;34m(\u001b[0m\u001b[0mdatset\u001b[0m\u001b[0;34m[\u001b[0m\u001b[0mlng_idx\u001b[0m\u001b[0;34m]\u001b[0m\u001b[0;34m,\u001b[0m\u001b[0mdatset\u001b[0m\u001b[0;34m[\u001b[0m\u001b[0mi\u001b[0m\u001b[0;34m]\u001b[0m\u001b[0;34m)\u001b[0m \u001b[0;32mfor\u001b[0m \u001b[0mi\u001b[0m \u001b[0;32min\u001b[0m \u001b[0moth_idxs\u001b[0m\u001b[0;34m]\u001b[0m \u001b[0;31m#call aligner func\u001b[0m\u001b[0;34m\u001b[0m\u001b[0m\n\u001b[0m\u001b[1;32m     59\u001b[0m     \u001b[0mcontainer\u001b[0m\u001b[0;34m.\u001b[0m\u001b[0minsert\u001b[0m\u001b[0;34m(\u001b[0m\u001b[0;36m0\u001b[0m\u001b[0;34m,\u001b[0m\u001b[0mdatset\u001b[0m\u001b[0;34m[\u001b[0m\u001b[0mlng_idx\u001b[0m\u001b[0;34m]\u001b[0m\u001b[0;34m)\u001b[0m\u001b[0;34m\u001b[0m\u001b[0m\n\u001b[1;32m     60\u001b[0m \u001b[0;34m\u001b[0m\u001b[0m\n",
      "\u001b[0;32m/Users/michael/thesis2.0/ipythes/Wild_Type_Fit/aligner_new.py\u001b[0m in \u001b[0;36m<listcomp>\u001b[0;34m(.0)\u001b[0m\n\u001b[1;32m     56\u001b[0m     \u001b[0;31m#print(lng_idx,oth_idxs) PASSED\u001b[0m\u001b[0;34m\u001b[0m\u001b[0;34m\u001b[0m\u001b[0m\n\u001b[1;32m     57\u001b[0m \u001b[0;34m\u001b[0m\u001b[0m\n\u001b[0;32m---> 58\u001b[0;31m     \u001b[0mcontainer\u001b[0m \u001b[0;34m=\u001b[0m \u001b[0;34m[\u001b[0m\u001b[0maligner_wrap\u001b[0m\u001b[0;34m(\u001b[0m\u001b[0mdatset\u001b[0m\u001b[0;34m[\u001b[0m\u001b[0mlng_idx\u001b[0m\u001b[0;34m]\u001b[0m\u001b[0;34m,\u001b[0m\u001b[0mdatset\u001b[0m\u001b[0;34m[\u001b[0m\u001b[0mi\u001b[0m\u001b[0;34m]\u001b[0m\u001b[0;34m)\u001b[0m \u001b[0;32mfor\u001b[0m \u001b[0mi\u001b[0m \u001b[0;32min\u001b[0m \u001b[0moth_idxs\u001b[0m\u001b[0;34m]\u001b[0m \u001b[0;31m#call aligner func\u001b[0m\u001b[0;34m\u001b[0m\u001b[0m\n\u001b[0m\u001b[1;32m     59\u001b[0m     \u001b[0mcontainer\u001b[0m\u001b[0;34m.\u001b[0m\u001b[0minsert\u001b[0m\u001b[0;34m(\u001b[0m\u001b[0;36m0\u001b[0m\u001b[0;34m,\u001b[0m\u001b[0mdatset\u001b[0m\u001b[0;34m[\u001b[0m\u001b[0mlng_idx\u001b[0m\u001b[0;34m]\u001b[0m\u001b[0;34m)\u001b[0m\u001b[0;34m\u001b[0m\u001b[0m\n\u001b[1;32m     60\u001b[0m \u001b[0;34m\u001b[0m\u001b[0m\n",
      "\u001b[0;32m/Users/michael/thesis2.0/ipythes/Wild_Type_Fit/aligner_new.py\u001b[0m in \u001b[0;36maligner_wrap\u001b[0;34m(arr1, arr2)\u001b[0m\n\u001b[1;32m     44\u001b[0m         \u001b[0;32mreturn\u001b[0m \u001b[0marr2\u001b[0m\u001b[0;34m\u001b[0m\u001b[0m\n\u001b[1;32m     45\u001b[0m     \u001b[0;32melse\u001b[0m\u001b[0;34m:\u001b[0m\u001b[0;34m\u001b[0m\u001b[0m\n\u001b[0;32m---> 46\u001b[0;31m         \u001b[0;32mreturn\u001b[0m \u001b[0maligner\u001b[0m\u001b[0;34m(\u001b[0m\u001b[0marr1\u001b[0m\u001b[0;34m,\u001b[0m\u001b[0marr2\u001b[0m\u001b[0;34m)\u001b[0m\u001b[0;34m\u001b[0m\u001b[0m\n\u001b[0m\u001b[1;32m     47\u001b[0m \u001b[0;34m\u001b[0m\u001b[0m\n\u001b[1;32m     48\u001b[0m \u001b[0;32mdef\u001b[0m \u001b[0malign_datset\u001b[0m\u001b[0;34m(\u001b[0m\u001b[0mdatset\u001b[0m\u001b[0;34m)\u001b[0m\u001b[0;34m:\u001b[0m\u001b[0;34m\u001b[0m\u001b[0m\n",
      "\u001b[0;32m/Users/michael/thesis2.0/ipythes/Wild_Type_Fit/aligner_new.py\u001b[0m in \u001b[0;36maligner\u001b[0;34m(arr_long, arr_short)\u001b[0m\n\u001b[1;32m     33\u001b[0m \u001b[0;34m\u001b[0m\u001b[0m\n\u001b[1;32m     34\u001b[0m     \u001b[0;32mfor\u001b[0m \u001b[0mi\u001b[0m \u001b[0;32min\u001b[0m \u001b[0mrange\u001b[0m\u001b[0;34m(\u001b[0m\u001b[0mlen\u001b[0m\u001b[0;34m(\u001b[0m\u001b[0mindices\u001b[0m\u001b[0;34m)\u001b[0m\u001b[0;34m)\u001b[0m\u001b[0;34m:\u001b[0m\u001b[0;34m\u001b[0m\u001b[0m\n\u001b[0;32m---> 35\u001b[0;31m         \u001b[0maligned_arr\u001b[0m\u001b[0;34m[\u001b[0m\u001b[0mindices\u001b[0m\u001b[0;34m[\u001b[0m\u001b[0mi\u001b[0m\u001b[0;34m]\u001b[0m\u001b[0;34m]\u001b[0m \u001b[0;34m=\u001b[0m \u001b[0marr_short\u001b[0m\u001b[0;34m[\u001b[0m\u001b[0mi\u001b[0m\u001b[0;34m]\u001b[0m\u001b[0;34m\u001b[0m\u001b[0m\n\u001b[0m\u001b[1;32m     36\u001b[0m \u001b[0;34m\u001b[0m\u001b[0m\n\u001b[1;32m     37\u001b[0m     \u001b[0;31m#print(aligned_arr)\u001b[0m\u001b[0;34m\u001b[0m\u001b[0;34m\u001b[0m\u001b[0m\n",
      "\u001b[0;31mIndexError\u001b[0m: index 15 is out of bounds for axis 0 with size 15"
     ]
    }
   ],
   "source": [
    "aligner_new.align_datset(keyed_ligs)"
   ]
  },
  {
   "cell_type": "code",
   "execution_count": 10,
   "metadata": {
    "collapsed": true
   },
   "outputs": [],
   "source": [
    "import aligner_ultra"
   ]
  },
  {
   "cell_type": "code",
   "execution_count": 13,
   "metadata": {
    "collapsed": false
   },
   "outputs": [],
   "source": [
    "ultra_aligned_ligs = aligner_ultra.align_datset(keyed_ligs)"
   ]
  },
  {
   "cell_type": "code",
   "execution_count": 19,
   "metadata": {
    "collapsed": false
   },
   "outputs": [],
   "source": [
    "ultra_avg = np.nanmean(ultra_aligned_ligs, axis=0)"
   ]
  },
  {
   "cell_type": "code",
   "execution_count": 18,
   "metadata": {
    "collapsed": true
   },
   "outputs": [],
   "source": [
    "old_avg = np.nanmean(old_aligned_ligs, axis=0)"
   ]
  },
  {
   "cell_type": "code",
   "execution_count": 22,
   "metadata": {
    "collapsed": false
   },
   "outputs": [
    {
     "data": {
      "text/plain": [
       "[<matplotlib.lines.Line2D at 0x10f0983c8>]"
      ]
     },
     "execution_count": 22,
     "metadata": {},
     "output_type": "execute_result"
    },
    {
     "data": {
      "image/png": "[encoded data removed]",
      "text/plain": [
       "<matplotlib.figure.Figure at 0x10f098898>"
      ]
     },
     "metadata": {},
     "output_type": "display_data"
    }
   ],
   "source": [
    "plt.semilogx(ultra_avg, ultra_avg*0,'.')\n",
    "plt.semilogx(old_avg,old_avg*0,'x')"
   ]
  },
  {
   "cell_type": "code",
   "execution_count": 25,
   "metadata": {
    "collapsed": false
   },
   "outputs": [],
   "source": [
    "ultra_space = [ultra_avg[i+1]/ultra_avg[i] for i in range(len(ultra_avg)-1)]"
   ]
  },
  {
   "cell_type": "code",
   "execution_count": 26,
   "metadata": {
    "collapsed": true
   },
   "outputs": [],
   "source": [
    "old_space = [old_avg[i+1]/old_avg[i] for i in range(len(old_avg)-1)]"
   ]
  },
  {
   "cell_type": "code",
   "execution_count": 35,
   "metadata": {
    "collapsed": false
   },
   "outputs": [
    {
     "data": {
      "text/plain": [
       "0.084016679045056469"
      ]
     },
     "execution_count": 35,
     "metadata": {},
     "output_type": "execute_result"
    }
   ],
   "source": [
    "np.std(ultra_space)/np.average(ultra_space)"
   ]
  },
  {
   "cell_type": "code",
   "execution_count": 34,
   "metadata": {
    "collapsed": false
   },
   "outputs": [
    {
     "data": {
      "text/plain": [
       "1.6735367668501531"
      ]
     },
     "execution_count": 34,
     "metadata": {},
     "output_type": "execute_result"
    }
   ],
   "source": [
    "np.average(old_space)"
   ]
  },
  {
   "cell_type": "code",
   "execution_count": 44,
   "metadata": {
    "collapsed": false
   },
   "outputs": [],
   "source": [
    "a = [np.where(np.isnan(i)==False)[0] for i in ultra_aligned_ligs]"
   ]
  },
  {
   "cell_type": "code",
   "execution_count": 48,
   "metadata": {
    "collapsed": false
   },
   "outputs": [
    {
     "data": {
      "text/plain": [
       "array([[  7.96945700e-03,   1.49932600e-02,   3.09951900e-02,\n",
       "          6.10952800e-02,   9.51486100e-02,   1.43964800e-01,\n",
       "          2.43969000e-01,   3.94505100e-01,   6.86923000e-01,\n",
       "          1.07939900e+00,   1.84758300e+00,   2.61864500e+00,\n",
       "          4.19711500e+00,   8.12129800e+00,   1.60132400e+01],\n",
       "       [  8.43507800e-03,   1.63246100e-02,   3.21927400e-02,\n",
       "          6.58995300e-02,   9.78926700e-02,   1.49518100e-01,\n",
       "          2.53313200e-01,   3.97988100e-01,   6.93842500e-01,\n",
       "                     nan,   1.83115500e+00,   2.57004900e+00,\n",
       "          5.06802900e+00,   8.19680900e+00,              nan],\n",
       "       [  1.04782800e-02,   4.39510000e-02,   6.71754600e-02,\n",
       "                     nan,   1.59764000e-01,   2.75784200e-01,\n",
       "          4.67317900e-01,   8.37884700e-01,   1.34129100e+00,\n",
       "          2.29507100e+00,   3.22207200e+00,   5.06843800e+00,\n",
       "          9.99232400e+00,   1.63226300e+01,              nan],\n",
       "       [             nan,   2.10589600e-02,   4.39474400e-02,\n",
       "          6.71659600e-02,   1.42679000e-01,   2.37226000e-01,\n",
       "          3.87043100e-01,   4.67044200e-01,   1.08011900e+00,\n",
       "          1.83019300e+00,   2.59546500e+00,   4.07946400e+00,\n",
       "          8.19730600e+00,   1.61738900e+01,              nan],\n",
       "       [             nan,              nan,   2.98524400e-02,\n",
       "          6.17019800e-02,   9.79282800e-02,   1.42702000e-01,\n",
       "          2.44107000e-01,   3.90965600e-01,   7.00945100e-01,\n",
       "          1.09097700e+00,   1.84945100e+00,   2.62113400e+00,\n",
       "          5.11577100e+00,   8.04680700e+00,              nan],\n",
       "       [  7.67501400e-03,   1.49975000e-02,   2.95726500e-02,\n",
       "          6.11212100e-02,   9.69908500e-02,   1.44087100e-01,\n",
       "          2.48778100e-01,   3.94624700e-01,   6.87951000e-01,\n",
       "          1.17700400e+00,   1.83259900e+00,   2.57264700e+00,\n",
       "          4.08259800e+00,   8.05087400e+00,   1.60190700e+01],\n",
       "       [             nan,   1.71374900e-02,   3.44444800e-02,\n",
       "          7.65543100e-02,   1.45088900e-01,   2.51269000e-01,\n",
       "          4.14272800e-01,   7.25564700e-01,   1.06015300e+00,\n",
       "          1.81916400e+00,   2.55252600e+00,   4.12128400e+00,\n",
       "          6.13685900e+00,   8.36879500e+00,   1.23448500e+01],\n",
       "       [  1.03056800e-02,   1.97048800e-02,   3.96082700e-02,\n",
       "          8.04407000e-02,   1.19932100e-01,   1.58630700e-01,\n",
       "          2.53687600e-01,   4.05729100e-01,   7.24835200e-01,\n",
       "          1.04858300e+00,   1.79791200e+00,   2.60332900e+00,\n",
       "          4.11789300e+00,   8.36305800e+00,   1.24656700e+01],\n",
       "       [  1.04079700e-02,   2.19853700e-02,   2.42903700e-02,\n",
       "          8.12168300e-02,   1.19871800e-01,   1.60153900e-01,\n",
       "          2.50999200e-01,   4.05474000e-01,   7.38315600e-01,\n",
       "          1.02750900e+00,   1.79844600e+00,   2.55025100e+00,\n",
       "          4.11610500e+00,   8.27783800e+00,   1.25876700e+01],\n",
       "       [             nan,   1.83696800e-02,   2.87857100e-02,\n",
       "          6.08266300e-02,   1.15215300e-01,   2.05571200e-01,\n",
       "          3.52426400e-01,   6.35488600e-01,   9.66950800e-01,\n",
       "          1.67593300e+00,   2.44816000e+00,   4.03402900e+00,\n",
       "          6.19536300e+00,   8.19273700e+00,   1.24505800e+01],\n",
       "       [             nan,   1.29597000e-02,   2.79261500e-02,\n",
       "          5.66855900e-02,   8.79264600e-02,   1.31057000e-01,\n",
       "          2.22472800e-01,   3.62950200e-01,   6.54465000e-01,\n",
       "          1.00584700e+00,   1.76008800e+00,   2.52132200e+00,\n",
       "          4.06792600e+00,   8.35426700e+00,   1.61477500e+01],\n",
       "       [  1.63173300e-02,   3.37730000e-02,   6.84047000e-02,\n",
       "          8.99005400e-02,   1.65180700e-01,   2.82097600e-01,\n",
       "          4.31739300e-01,   7.78345400e-01,   1.06838400e+00,\n",
       "          1.80568000e+00,   2.66958800e+00,   4.30740500e+00,\n",
       "          6.41834200e+00,   8.51264400e+00,   1.28484600e+01],\n",
       "       [             nan,   1.61194500e-02,   3.52023000e-02,\n",
       "          7.32825600e-02,   1.43070700e-01,   2.42842100e-01,\n",
       "          3.77852400e-01,   7.08994300e-01,   1.03645600e+00,\n",
       "          1.89323300e+00,              nan,   4.39387800e+00,\n",
       "          6.40357900e+00,   8.50439400e+00,   1.42438200e+01],\n",
       "       [  1.12189300e-02,   1.87615200e-02,   3.57656700e-02,\n",
       "          6.71343700e-02,              nan,   1.26858200e-01,\n",
       "          2.26001300e-01,   3.69250700e-01,   6.66551200e-01,\n",
       "          1.01053200e+00,   1.77975300e+00,   2.58740400e+00,\n",
       "          6.36463400e+00,   8.48311900e+00,   1.26542500e+01],\n",
       "       [  1.29809800e-02,   3.15581200e-02,   5.82469500e-02,\n",
       "          7.85114400e-02,   1.48338500e-01,   2.43500300e-01,\n",
       "          4.06681600e-01,   7.13275000e-01,   9.84659300e-01,\n",
       "          1.76692900e+00,   2.57572300e+00,   4.14237500e+00,\n",
       "          6.47904400e+00,   8.42709900e+00,   1.26885500e+01],\n",
       "       [  1.13943300e-02,   2.32919300e-02,   5.03018300e-02,\n",
       "          9.86225200e-02,   1.75471700e-01,   2.97585600e-01,\n",
       "          5.57369200e-01,   8.26670500e-01,              nan,\n",
       "          1.52277200e+00,   2.28366100e+00,   3.91000300e+00,\n",
       "          6.10621300e+00,   9.17992300e+00,   1.41383400e+01],\n",
       "       [  1.02255100e-02,   1.71930400e-02,   3.69002200e-02,\n",
       "          5.10800100e-02,   9.63540600e-02,   1.71324800e-01,\n",
       "          2.79624100e-01,   4.92992600e-01,   6.72909500e-01,\n",
       "          1.36133200e+00,   1.96587600e+00,   3.56075600e+00,\n",
       "          5.55989800e+00,   7.70544500e+00,   1.22711300e+01]])"
      ]
     },
     "execution_count": 48,
     "metadata": {},
     "output_type": "execute_result"
    }
   ],
   "source": [
    "ultra_aligned_ligs"
   ]
  },
  {
   "cell_type": "code",
   "execution_count": 57,
   "metadata": {
    "collapsed": false
   },
   "outputs": [],
   "source": [
    "religs = np.array([ultra_avg[a[i]] for i in range(len(ultra_aligned_ligs))])"
   ]
  },
  {
   "cell_type": "code",
   "execution_count": 58,
   "metadata": {
    "collapsed": false
   },
   "outputs": [
    {
     "data": {
      "text/plain": [
       "(17,)"
      ]
     },
     "execution_count": 58,
     "metadata": {},
     "output_type": "execute_result"
    }
   ],
   "source": [
    "religs.shape"
   ]
  },
  {
   "cell_type": "code",
   "execution_count": 59,
   "metadata": {
    "collapsed": false
   },
   "outputs": [
    {
     "name": "stdout",
     "output_type": "stream",
     "text": [
      "15\n",
      "13\n",
      "13\n",
      "13\n",
      "12\n",
      "15\n",
      "14\n",
      "15\n",
      "15\n",
      "14\n",
      "14\n",
      "15\n",
      "13\n",
      "14\n",
      "15\n",
      "14\n",
      "15\n"
     ]
    }
   ],
   "source": [
    "for i in religs:\n",
    "    print(i.size)"
   ]
  },
  {
   "cell_type": "code",
   "execution_count": 60,
   "metadata": {
    "collapsed": false
   },
   "outputs": [
    {
     "name": "stdout",
     "output_type": "stream",
     "text": [
      "15\n",
      "13\n",
      "13\n",
      "13\n",
      "12\n",
      "15\n",
      "14\n",
      "15\n",
      "15\n",
      "14\n",
      "14\n",
      "15\n",
      "13\n",
      "14\n",
      "15\n",
      "14\n",
      "15\n"
     ]
    }
   ],
   "source": [
    "for i in keyed_ligs:\n",
    "    print(i.size)"
   ]
  },
  {
   "cell_type": "code",
   "execution_count": 61,
   "metadata": {
    "collapsed": false
   },
   "outputs": [
    {
     "data": {
      "image/png": "[encoded data removed]",
      "text/plain": [
       "<matplotlib.figure.Figure at 0x10fa542e8>"
      ]
     },
     "metadata": {},
     "output_type": "display_data"
    }
   ],
   "source": [
    "for i in range(len(religs)):\n",
    "    plt.semilogx(religs[i],keyed_sats[i],'.')"
   ]
  },
  {
   "cell_type": "code",
   "execution_count": 62,
   "metadata": {
    "collapsed": false
   },
   "outputs": [
    {
     "data": {
      "image/png": "[encoded data removed]",
      "text/plain": [
       "<matplotlib.figure.Figure at 0x10f098278>"
      ]
     },
     "metadata": {},
     "output_type": "display_data"
    }
   ],
   "source": [
    "for i in range(len(keyed_ligs)):\n",
    "    plt.semilogx(keyed_ligs[i],keyed_sats[i],'.')"
   ]
  },
  {
   "cell_type": "code",
   "execution_count": 1,
   "metadata": {
    "collapsed": false
   },
   "outputs": [
    {
     "ename": "NameError",
     "evalue": "name 'np' is not defined",
     "output_type": "error",
     "traceback": [
      "\u001b[0;31m---------------------------------------------------------------------------\u001b[0m",
      "\u001b[0;31mNameError\u001b[0m                                 Traceback (most recent call last)",
      "\u001b[0;32m<ipython-input-1-ab2dc20125ea>\u001b[0m in \u001b[0;36m<module>\u001b[0;34m()\u001b[0m\n\u001b[0;32m----> 1\u001b[0;31m \u001b[0mnp\u001b[0m\u001b[0;34m.\u001b[0m\u001b[0mstd\u001b[0m\u001b[0;34m(\u001b[0m\u001b[0;34m[\u001b[0m\u001b[0mnp\u001b[0m\u001b[0;34m.\u001b[0m\u001b[0maverage\u001b[0m\u001b[0;34m(\u001b[0m\u001b[0;34m[\u001b[0m\u001b[0mi\u001b[0m\u001b[0;34m[\u001b[0m\u001b[0mj\u001b[0m\u001b[0;34m+\u001b[0m\u001b[0;36m1\u001b[0m\u001b[0;34m]\u001b[0m\u001b[0;34m/\u001b[0m\u001b[0mi\u001b[0m\u001b[0;34m[\u001b[0m\u001b[0mj\u001b[0m\u001b[0;34m]\u001b[0m \u001b[0;32mfor\u001b[0m \u001b[0mj\u001b[0m \u001b[0;32min\u001b[0m \u001b[0mrange\u001b[0m\u001b[0;34m(\u001b[0m\u001b[0mlen\u001b[0m\u001b[0;34m(\u001b[0m\u001b[0mi\u001b[0m\u001b[0;34m)\u001b[0m\u001b[0;34m-\u001b[0m\u001b[0;36m1\u001b[0m\u001b[0;34m)\u001b[0m\u001b[0;34m]\u001b[0m\u001b[0;34m)\u001b[0m \u001b[0;32mfor\u001b[0m \u001b[0mi\u001b[0m \u001b[0;32min\u001b[0m \u001b[0mkeyed_ligs\u001b[0m\u001b[0;34m]\u001b[0m\u001b[0;34m)\u001b[0m\u001b[0;34m\u001b[0m\u001b[0m\n\u001b[0m",
      "\u001b[0;31mNameError\u001b[0m: name 'np' is not defined"
     ]
    }
   ],
   "source": [
    "np.std([np.average([i[j+1]/i[j] for j in range(len(i)-1)]) for i in keyed_ligs])   "
   ]
  },
  {
   "cell_type": "code",
   "execution_count": 73,
   "metadata": {
    "collapsed": false
   },
   "outputs": [
    {
     "data": {
      "text/plain": [
       "2862.4230515098147"
      ]
     },
     "execution_count": 73,
     "metadata": {},
     "output_type": "execute_result"
    }
   ],
   "source": [
    "1.7**15"
   ]
  },
  {
   "cell_type": "code",
   "execution_count": 75,
   "metadata": {
    "collapsed": false
   },
   "outputs": [
    {
     "data": {
      "text/plain": [
       "1152.921504606848"
      ]
     },
     "execution_count": 75,
     "metadata": {},
     "output_type": "execute_result"
    }
   ],
   "source": [
    "1.6**15"
   ]
  },
  {
   "cell_type": "code",
   "execution_count": 76,
   "metadata": {
    "collapsed": false
   },
   "outputs": [
    {
     "data": {
      "text/plain": [
       "0.5882352941176471"
      ]
     },
     "execution_count": 76,
     "metadata": {},
     "output_type": "execute_result"
    }
   ],
   "source": [
    "1/1.7"
   ]
  },
  {
   "cell_type": "code",
   "execution_count": 77,
   "metadata": {
    "collapsed": false
   },
   "outputs": [
    {
     "data": {
      "text/plain": [
       "0.625"
      ]
     },
     "execution_count": 77,
     "metadata": {},
     "output_type": "execute_result"
    }
   ],
   "source": [
    "1/1.6"
   ]
  },
  {
   "cell_type": "code",
   "execution_count": 78,
   "metadata": {
    "collapsed": false
   },
   "outputs": [
    {
     "data": {
      "text/plain": [
       "0.16666666666666666"
      ]
     },
     "execution_count": 78,
     "metadata": {},
     "output_type": "execute_result"
    }
   ],
   "source": [
    "1/6"
   ]
  },
  {
   "cell_type": "code",
   "execution_count": 79,
   "metadata": {
    "collapsed": false
   },
   "outputs": [
    {
     "data": {
      "text/plain": [
       "0.125"
      ]
     },
     "execution_count": 79,
     "metadata": {},
     "output_type": "execute_result"
    }
   ],
   "source": [
    "1/8"
   ]
  },
  {
   "cell_type": "code",
   "execution_count": 80,
   "metadata": {
    "collapsed": false
   },
   "outputs": [
    {
     "data": {
      "text/plain": [
       "0.625"
      ]
     },
     "execution_count": 80,
     "metadata": {},
     "output_type": "execute_result"
    }
   ],
   "source": [
    "5/8"
   ]
  },
  {
   "cell_type": "code",
   "execution_count": 81,
   "metadata": {
    "collapsed": false
   },
   "outputs": [
    {
     "data": {
      "text/plain": [
       "0.5555555555555556"
      ]
     },
     "execution_count": 81,
     "metadata": {},
     "output_type": "execute_result"
    }
   ],
   "source": [
    "5/9"
   ]
  },
  {
   "cell_type": "code",
   "execution_count": 82,
   "metadata": {
    "collapsed": false
   },
   "outputs": [
    {
     "data": {
      "text/plain": [
       "0.5454545454545454"
      ]
     },
     "execution_count": 82,
     "metadata": {},
     "output_type": "execute_result"
    }
   ],
   "source": [
    "6/11"
   ]
  },
  {
   "cell_type": "code",
   "execution_count": 83,
   "metadata": {
    "collapsed": false
   },
   "outputs": [
    {
     "data": {
      "text/plain": [
       "0.5833333333333334"
      ]
     },
     "execution_count": 83,
     "metadata": {},
     "output_type": "execute_result"
    }
   ],
   "source": [
    "7/12"
   ]
  },
  {
   "cell_type": "code",
   "execution_count": null,
   "metadata": {
    "collapsed": true
   },
   "outputs": [],
   "source": []
  }
 ],
 "metadata": {
  "anaconda-cloud": {},
  "kernelspec": {
   "display_name": "Python [conda env:fitter]",
   "language": "python",
   "name": "conda-env-fitter-py"
  },
  "language_info": {
   "codemirror_mode": {
    "name": "ipython",
    "version": 3
   },
   "file_extension": ".py",
   "mimetype": "text/x-python",
   "name": "python",
   "nbconvert_exporter": "python",
   "pygments_lexer": "ipython3",
   "version": "3.5.2"
  }
 },
 "nbformat": 4,
 "nbformat_minor": 1
}
