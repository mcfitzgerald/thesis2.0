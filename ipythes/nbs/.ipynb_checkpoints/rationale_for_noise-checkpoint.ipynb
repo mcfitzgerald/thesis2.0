{
 "cells": [
  {
   "cell_type": "code",
   "execution_count": 1,
   "metadata": {
    "collapsed": true
   },
   "outputs": [],
   "source": [
    "import numpy as np"
   ]
  },
  {
   "cell_type": "code",
   "execution_count": 2,
   "metadata": {
    "collapsed": true
   },
   "outputs": [],
   "source": [
    "def dilser(low=0.001, limit=100.0, dilfactor = 2.0):\n",
    "    \"\"\"Returns a list containing a dilution series that ranges from\n",
    "    \"low\" to \"limit\" by \"dilfactor\".\n",
    "    \"\"\"\n",
    "    a = [low]\n",
    "    while a[-1] <= limit:\n",
    "        a.append(a[len(a)-1]*dilfactor)\n",
    "    \n",
    "    return np.array(a)"
   ]
  },
  {
   "cell_type": "code",
   "execution_count": 3,
   "metadata": {
    "collapsed": true
   },
   "outputs": [],
   "source": [
    "rtots = np.array([0.001,0.005, 0.01, 0.02, 0.05])\n",
    "\n",
    "sim_parms = dict({'k11':3.7, 'k21':1.8, 'k22':0.12, 'l20':293.0})\n",
    "\n",
    "parmvec = [3.7,1.8,0.12,293.0]"
   ]
  },
  {
   "cell_type": "code",
   "execution_count": 4,
   "metadata": {
    "collapsed": true
   },
   "outputs": [],
   "source": [
    "ligs = dilser()"
   ]
  },
  {
   "cell_type": "code",
   "execution_count": 5,
   "metadata": {
    "collapsed": true
   },
   "outputs": [],
   "source": [
    "def unibind(parm,lig,rtot):\n",
    "\n",
    "    k11 = parm[0]\n",
    "    k21 = parm[1]\n",
    "    k22 = parm[2]\n",
    "    l20 = parm[3]\n",
    "\n",
    "    rfree = (((-1 - k11*lig) + \\\n",
    "    (np.sqrt((1 + k11*lig)**2 + 8*l20*rtot*(1 + k21*lig + \\\n",
    "    k21*k22*(lig**2)))))/(4*l20*(1 + k21*lig + k21*k22*(lig**2))))\n",
    "\n",
    "    bfrac = (k11*lig + l20*k21*rfree*lig + \\\n",
    "    2*l20*k21*k22*rfree*(lig**2))/(1 + 2*l20*rfree + k11*lig + \\\n",
    "    2*l20*k21*rfree*lig + 2*l20*k21*k22*rfree*(lig**2))\n",
    "    \n",
    "    return bfrac"
   ]
  },
  {
   "cell_type": "code",
   "execution_count": 6,
   "metadata": {
    "collapsed": true
   },
   "outputs": [],
   "source": [
    "nubar = unibind(parmvec,ligs,0.05)"
   ]
  },
  {
   "cell_type": "code",
   "execution_count": 7,
   "metadata": {
    "collapsed": true
   },
   "outputs": [],
   "source": [
    "%matplotlib inline\n",
    "import matplotlib.pyplot as plt"
   ]
  },
  {
   "cell_type": "code",
   "execution_count": 8,
   "metadata": {
    "collapsed": false
   },
   "outputs": [
    {
     "data": {
      "text/plain": [
       "[<matplotlib.lines.Line2D at 0x10cea0198>]"
      ]
     },
     "execution_count": 8,
     "metadata": {},
     "output_type": "execute_result"
    },
    {
     "data": {
      "image/png": "[encoded data removed]",
      "text/plain": [
       "<matplotlib.figure.Figure at 0x109d996d8>"
      ]
     },
     "metadata": {},
     "output_type": "display_data"
    }
   ],
   "source": [
    "plt.semilogx(ligs,nubar,'o')"
   ]
  },
  {
   "cell_type": "code",
   "execution_count": 11,
   "metadata": {
    "collapsed": true
   },
   "outputs": [],
   "source": [
    "np.random.seed(16456)\n",
    "nubar_gauss = [np.random.normal(1.0,0.063,18)*nubar for i in range(5)]"
   ]
  },
  {
   "cell_type": "code",
   "execution_count": 22,
   "metadata": {
    "collapsed": false
   },
   "outputs": [
    {
     "data": {
      "image/png": "[encoded data removed]",
      "text/plain": [
       "<matplotlib.figure.Figure at 0x10cf064a8>"
      ]
     },
     "metadata": {},
     "output_type": "display_data"
    }
   ],
   "source": [
    "for i in range(len(nubar_gauss)):\n",
    "    plt.semilogx(ligs,nubar_gauss[i],'.')"
   ]
  },
  {
   "cell_type": "code",
   "execution_count": 20,
   "metadata": {
    "collapsed": false
   },
   "outputs": [],
   "source": [
    "nubar_gauss_means = np.sum(nubar_gauss,0)/5"
   ]
  },
  {
   "cell_type": "code",
   "execution_count": 39,
   "metadata": {
    "collapsed": false
   },
   "outputs": [
    {
     "data": {
      "text/plain": [
       "array([ 0.00137504,  0.00273319,  0.00534502,  0.0105298 ,  0.02065941,\n",
       "        0.04080431,  0.08007698,  0.14096649,  0.24402609,  0.3915636 ,\n",
       "        0.54025601,  0.67255809,  0.78031043,  0.81615235,  0.93507448,\n",
       "        0.94414092,  0.9794484 ,  0.94465181])"
      ]
     },
     "execution_count": 39,
     "metadata": {},
     "output_type": "execute_result"
    }
   ],
   "source": [
    "np.average(nubar_gauss,0)"
   ]
  },
  {
   "cell_type": "code",
   "execution_count": 30,
   "metadata": {
    "collapsed": false
   },
   "outputs": [
    {
     "data": {
      "text/plain": [
       "0.022454065580370615"
      ]
     },
     "execution_count": 30,
     "metadata": {},
     "output_type": "execute_result"
    }
   ],
   "source": [
    "np.std(np.std(nubar_gauss, 0) / nubar_gauss_means)"
   ]
  },
  {
   "cell_type": "code",
   "execution_count": 24,
   "metadata": {
    "collapsed": false
   },
   "outputs": [
    {
     "data": {
      "image/png": "[encoded data removed]",
      "text/plain": [
       "<matplotlib.figure.Figure at 0x10dcf4278>"
      ]
     },
     "metadata": {},
     "output_type": "display_data"
    }
   ],
   "source": [
    "for i in range(len(nubar_gauss)):\n",
    "    plt.semilogx(ligs,nubar_gauss[i],'.')\n",
    "    plt.semilogx(ligs,nubar_gauss_means,'o')"
   ]
  },
  {
   "cell_type": "code",
   "execution_count": 36,
   "metadata": {
    "collapsed": false
   },
   "outputs": [],
   "source": [
    "a = np.random.normal(0.05,0.025,10000)"
   ]
  },
  {
   "cell_type": "code",
   "execution_count": 37,
   "metadata": {
    "collapsed": false
   },
   "outputs": [
    {
     "data": {
      "text/plain": [
       "(array([   36.,   221.,   796.,  2016.,  2819.,  2439.,  1222.,   379.,\n",
       "           66.,     6.]),\n",
       " array([-0.03593812, -0.01758553,  0.00076705,  0.01911963,  0.03747222,\n",
       "         0.0558248 ,  0.07417738,  0.09252997,  0.11088255,  0.12923513,\n",
       "         0.14758772]),\n",
       " <a list of 10 Patch objects>)"
      ]
     },
     "execution_count": 37,
     "metadata": {},
     "output_type": "execute_result"
    },
    {
     "data": {
      "image/png": "[encoded data removed]",
      "text/plain": [
       "<matplotlib.figure.Figure at 0x10e1e63c8>"
      ]
     },
     "metadata": {},
     "output_type": "display_data"
    }
   ],
   "source": [
    "plt.hist(a)"
   ]
  },
  {
   "cell_type": "code",
   "execution_count": 38,
   "metadata": {
    "collapsed": false
   },
   "outputs": [
    {
     "data": {
      "text/plain": [
       "(array([  703.,  1300.,  2060.,  2316.,  1908.,  1107.,   447.,   124.,\n",
       "           32.,     3.]),\n",
       " array([  2.21032598e-05,   1.47786647e-02,   2.95352262e-02,\n",
       "          4.42917877e-02,   5.90483491e-02,   7.38049106e-02,\n",
       "          8.85614720e-02,   1.03318034e-01,   1.18074595e-01,\n",
       "          1.32831156e-01,   1.47587718e-01]),\n",
       " <a list of 10 Patch objects>)"
      ]
     },
     "execution_count": 38,
     "metadata": {},
     "output_type": "execute_result"
    },
    {
     "data": {
      "image/png": "[encoded data removed]",
      "text/plain": [
       "<matplotlib.figure.Figure at 0x10cf064a8>"
      ]
     },
     "metadata": {},
     "output_type": "display_data"
    }
   ],
   "source": [
    "plt.hist(np.abs(a))"
   ]
  },
  {
   "cell_type": "code",
   "execution_count": 45,
   "metadata": {
    "collapsed": false
   },
   "outputs": [
    {
     "data": {
      "text/plain": [
       "array([ 0.00408423, -0.00041799, -0.01976386, -0.02851028, -0.03490834,\n",
       "       -0.02164324,  0.00844655, -0.02903974, -0.01525564,  0.01618367,\n",
       "        0.00401937, -0.01184873, -0.01979605, -0.07666819,  0.0028852 ,\n",
       "       -0.02101079, -0.00194849, -0.04854346])"
      ]
     },
     "execution_count": 45,
     "metadata": {},
     "output_type": "execute_result"
    }
   ],
   "source": [
    "np.average((nubar_gauss - nubar),0) / np.average(nubar_gauss,0)"
   ]
  },
  {
   "cell_type": "code",
   "execution_count": 54,
   "metadata": {
    "collapsed": false
   },
   "outputs": [],
   "source": [
    "nubar_gauss_sigma = np.sqrt(np.sum((nubar_gauss - nubar_gauss_means)**2,0) / 5)"
   ]
  },
  {
   "cell_type": "code",
   "execution_count": 56,
   "metadata": {
    "collapsed": false
   },
   "outputs": [
    {
     "data": {
      "text/plain": [
       "0.052571494609949559"
      ]
     },
     "execution_count": 56,
     "metadata": {},
     "output_type": "execute_result"
    }
   ],
   "source": [
    "np.average(nubar_gauss_sigma/nubar_gauss_means)"
   ]
  },
  {
   "cell_type": "code",
   "execution_count": 58,
   "metadata": {
    "collapsed": true
   },
   "outputs": [],
   "source": [
    "np.random.seed(1602)\n",
    "hold_updn = []\n",
    "for i in range(5):\n",
    "    a = np.random.randn(18)\n",
    "    updn = a/np.abs(a)\n",
    "    hold_updn.append(updn)"
   ]
  },
  {
   "cell_type": "code",
   "execution_count": 59,
   "metadata": {
    "collapsed": true
   },
   "outputs": [],
   "source": [
    "np.random.seed(1603)\n",
    "hold_unoise = []\n",
    "for i in range(5):\n",
    "    hold_unoise.append(0.025 + 0.05*np.random.rand(18))"
   ]
  },
  {
   "cell_type": "code",
   "execution_count": 62,
   "metadata": {
    "collapsed": false
   },
   "outputs": [
    {
     "data": {
      "text/plain": [
       "[array([ 0.06047461,  0.04034714,  0.03622939,  0.07490481,  0.0426322 ,\n",
       "         0.0674276 ,  0.02553976,  0.04113675,  0.04989821,  0.04096645,\n",
       "         0.03246647,  0.02744356,  0.06970361,  0.06202768,  0.05376256,\n",
       "         0.07456417,  0.07155491,  0.02613595]),\n",
       " array([ 0.06435542,  0.03675238,  0.06650319,  0.05349615,  0.04053918,\n",
       "         0.05588583,  0.07357066,  0.04957818,  0.03550904,  0.05669023,\n",
       "         0.02796686,  0.03457951,  0.05486126,  0.02896174,  0.06947835,\n",
       "         0.07263172,  0.04617353,  0.03138186]),\n",
       " array([ 0.04736269,  0.02816844,  0.06164147,  0.05726298,  0.07347317,\n",
       "         0.06781032,  0.03300889,  0.06975309,  0.05267051,  0.05682791,\n",
       "         0.06506928,  0.02644145,  0.06595481,  0.06286733,  0.05759318,\n",
       "         0.06667028,  0.04918872,  0.07181953]),\n",
       " array([ 0.06300509,  0.06791077,  0.05543984,  0.05827004,  0.03210826,\n",
       "         0.02937496,  0.06170463,  0.05595037,  0.06096735,  0.05858292,\n",
       "         0.04936126,  0.03907952,  0.06436533,  0.0366764 ,  0.0360419 ,\n",
       "         0.03809039,  0.02521182,  0.05756002]),\n",
       " array([ 0.04902605,  0.0638475 ,  0.07382942,  0.04603244,  0.06662451,\n",
       "         0.07161329,  0.06012609,  0.03926706,  0.05955767,  0.06330312,\n",
       "         0.05898351,  0.05315741,  0.06648607,  0.05396925,  0.04654239,\n",
       "         0.05741242,  0.04709724,  0.05380542])]"
      ]
     },
     "execution_count": 62,
     "metadata": {},
     "output_type": "execute_result"
    }
   ],
   "source": [
    "hold_unoise"
   ]
  },
  {
   "cell_type": "code",
   "execution_count": 63,
   "metadata": {
    "collapsed": true
   },
   "outputs": [],
   "source": [
    "unar = np.array(hold_unoise)"
   ]
  },
  {
   "cell_type": "code",
   "execution_count": 64,
   "metadata": {
    "collapsed": true
   },
   "outputs": [],
   "source": [
    "updar = np.array(hold_updn)"
   ]
  },
  {
   "cell_type": "code",
   "execution_count": 65,
   "metadata": {
    "collapsed": true
   },
   "outputs": [],
   "source": [
    "nubar_uni = (unar*updar*nubar + nubar)"
   ]
  },
  {
   "cell_type": "code",
   "execution_count": 66,
   "metadata": {
    "collapsed": false
   },
   "outputs": [
    {
     "data": {
      "text/plain": [
       "array([[ 0.00128661,  0.00262401,  0.00564813,  0.01164123,  0.0204691 ,\n",
       "         0.04449833,  0.08142847,  0.15102742,  0.26011109,  0.40100803,\n",
       "         0.55555423,  0.66185097,  0.74029033,  0.82421999,  0.98250356,\n",
       "         0.89209984,  1.05157775,  0.9646206 ],\n",
       "       [ 0.0012813 ,  0.00263384,  0.00581314,  0.01140938,  0.02224735,\n",
       "         0.04401718,  0.07355905,  0.1378683 ,  0.25654619,  0.36338808,\n",
       "         0.52303599,  0.65699476,  0.75210124,  0.85327586,  0.86759663,\n",
       "         1.03399346,  0.93604414,  0.95942448],\n",
       "       [ 0.00130457,  0.00265731,  0.00578664,  0.01020985,  0.0229515 ,\n",
       "         0.04451429,  0.08202153,  0.13494173,  0.23469981,  0.40711829,\n",
       "         0.50307175,  0.66253293,  0.84824153,  0.82348216,  0.87867808,\n",
       "         1.02824676,  1.02962854,  0.91937063],\n",
       "       [ 0.00145571,  0.00292002,  0.00575284,  0.01019895,  0.0206941 ,\n",
       "         0.04291201,  0.07450122,  0.15317629,  0.26285346,  0.36265896,\n",
       "         0.51152399,  0.65393238,  0.84697669,  0.91095375,  0.89877199,\n",
       "         1.00069637,  1.00609865,  1.04752217],\n",
       "       [ 0.00130229,  0.00255975,  0.00504824,  0.01033148,  0.02280507,\n",
       "         0.03870207,  0.07462655,  0.13936404,  0.26250421,  0.40961272,\n",
       "         0.5063464 ,  0.644352  ,  0.74285071,  0.92614942,  0.88898158,\n",
       "         0.90863376,  1.02757605,  1.0438032 ]])"
      ]
     },
     "execution_count": 66,
     "metadata": {},
     "output_type": "execute_result"
    }
   ],
   "source": [
    "nubar_uni"
   ]
  },
  {
   "cell_type": "code",
   "execution_count": 71,
   "metadata": {
    "collapsed": false
   },
   "outputs": [
    {
     "data": {
      "image/png": "[encoded data removed]",
      "text/plain": [
       "<matplotlib.figure.Figure at 0x10e133470>"
      ]
     },
     "metadata": {},
     "output_type": "display_data"
    }
   ],
   "source": [
    "for i in range(5):\n",
    "    plt.semilogx(ligs,nubar_gauss[i],'.')\n",
    "    plt.semilogx(ligs,nubar_uni[i],'o',fillstyle='none')"
   ]
  },
  {
   "cell_type": "code",
   "execution_count": 72,
   "metadata": {
    "collapsed": true
   },
   "outputs": [],
   "source": [
    "nubar_uni_means = np.average(nubar_uni,0)"
   ]
  },
  {
   "cell_type": "code",
   "execution_count": 73,
   "metadata": {
    "collapsed": false
   },
   "outputs": [
    {
     "data": {
      "text/plain": [
       "array([ 0.0013261 ,  0.00267899,  0.0056098 ,  0.01075818,  0.02183342,\n",
       "        0.04292878,  0.07722736,  0.14327556,  0.25534295,  0.38875722,\n",
       "        0.51990647,  0.65593261,  0.7860921 ,  0.86761624,  0.90330637,\n",
       "        0.97273404,  1.01018503,  0.98694822])"
      ]
     },
     "execution_count": 73,
     "metadata": {},
     "output_type": "execute_result"
    }
   ],
   "source": [
    "nubar_uni_means"
   ]
  },
  {
   "cell_type": "code",
   "execution_count": 74,
   "metadata": {
    "collapsed": false
   },
   "outputs": [
    {
     "data": {
      "text/plain": [
       "array([ 0.00137504,  0.00273319,  0.00534502,  0.0105298 ,  0.02065941,\n",
       "        0.04080431,  0.08007698,  0.14096649,  0.24402609,  0.3915636 ,\n",
       "        0.54025601,  0.67255809,  0.78031043,  0.81615235,  0.93507448,\n",
       "        0.94414092,  0.9794484 ,  0.94465181])"
      ]
     },
     "execution_count": 74,
     "metadata": {},
     "output_type": "execute_result"
    }
   ],
   "source": [
    "nubar_gauss_means"
   ]
  },
  {
   "cell_type": "code",
   "execution_count": 75,
   "metadata": {
    "collapsed": true
   },
   "outputs": [],
   "source": [
    "nubar_uni_sigma = np.sqrt(np.sum((nubar_uni - nubar_uni_means)**2,0) / 5)"
   ]
  },
  {
   "cell_type": "code",
   "execution_count": 76,
   "metadata": {
    "collapsed": false
   },
   "outputs": [
    {
     "data": {
      "text/plain": [
       "array([  6.54148331e-05,   1.24776543e-04,   2.86322582e-04,\n",
       "         6.32346985e-04,   1.05118613e-03,   2.19213545e-03,\n",
       "         3.69556405e-03,   7.37708558e-03,   1.05642200e-02,\n",
       "         2.11984696e-02,   1.90688523e-02,   6.60046789e-03,\n",
       "         5.03834968e-02,   4.32226129e-02,   4.09382313e-02,\n",
       "         6.03771306e-02,   3.97678903e-02,   5.04470062e-02])"
      ]
     },
     "execution_count": 76,
     "metadata": {},
     "output_type": "execute_result"
    }
   ],
   "source": [
    "nubar_uni_sigma"
   ]
  },
  {
   "cell_type": "code",
   "execution_count": 77,
   "metadata": {
    "collapsed": false
   },
   "outputs": [
    {
     "data": {
      "text/plain": [
       "0.047705497949022672"
      ]
     },
     "execution_count": 77,
     "metadata": {},
     "output_type": "execute_result"
    }
   ],
   "source": [
    "np.average(nubar_uni_sigma/nubar_uni_means)"
   ]
  },
  {
   "cell_type": "code",
   "execution_count": 80,
   "metadata": {
    "collapsed": false
   },
   "outputs": [
    {
     "data": {
      "text/plain": [
       "0.011437998381148274"
      ]
     },
     "execution_count": 80,
     "metadata": {},
     "output_type": "execute_result"
    }
   ],
   "source": [
    "np.std(nubar_uni_sigma/nubar_uni_means)"
   ]
  },
  {
   "cell_type": "code",
   "execution_count": 79,
   "metadata": {
    "collapsed": false
   },
   "outputs": [
    {
     "data": {
      "text/plain": [
       "0.052571494609949559"
      ]
     },
     "execution_count": 79,
     "metadata": {},
     "output_type": "execute_result"
    }
   ],
   "source": [
    "np.average(nubar_gauss_sigma/nubar_gauss_means)"
   ]
  },
  {
   "cell_type": "code",
   "execution_count": 81,
   "metadata": {
    "collapsed": false
   },
   "outputs": [
    {
     "data": {
      "text/plain": [
       "0.022454065580370615"
      ]
     },
     "execution_count": 81,
     "metadata": {},
     "output_type": "execute_result"
    }
   ],
   "source": [
    "np.std(nubar_gauss_sigma/nubar_gauss_means)"
   ]
  },
  {
   "cell_type": "code",
   "execution_count": 82,
   "metadata": {
    "collapsed": false
   },
   "outputs": [
    {
     "data": {
      "text/plain": [
       "0.014433756729740645"
      ]
     },
     "execution_count": 82,
     "metadata": {},
     "output_type": "execute_result"
    }
   ],
   "source": [
    "0.05/np.sqrt(12)"
   ]
  },
  {
   "cell_type": "code",
   "execution_count": 83,
   "metadata": {
    "collapsed": false
   },
   "outputs": [
    {
     "data": {
      "text/plain": [
       "0.03425"
      ]
     },
     "execution_count": 83,
     "metadata": {},
     "output_type": "execute_result"
    }
   ],
   "source": [
    "0.685*0.05"
   ]
  },
  {
   "cell_type": "code",
   "execution_count": 85,
   "metadata": {
    "collapsed": false
   },
   "outputs": [],
   "source": [
    "normnoise = np.random.normal(1.0,0.05,10000)"
   ]
  },
  {
   "cell_type": "code",
   "execution_count": 87,
   "metadata": {
    "collapsed": false
   },
   "outputs": [
    {
     "data": {
      "text/plain": [
       "0.050148854645716973"
      ]
     },
     "execution_count": 87,
     "metadata": {},
     "output_type": "execute_result"
    }
   ],
   "source": [
    "np.sqrt(np.sum((normnoise-1)**2)/10000)"
   ]
  },
  {
   "cell_type": "code",
   "execution_count": 88,
   "metadata": {
    "collapsed": false
   },
   "outputs": [
    {
     "data": {
      "text/plain": [
       "0.99945125844922589"
      ]
     },
     "execution_count": 88,
     "metadata": {},
     "output_type": "execute_result"
    }
   ],
   "source": [
    "np.average(normnoise)"
   ]
  },
  {
   "cell_type": "code",
   "execution_count": 101,
   "metadata": {
    "collapsed": true
   },
   "outputs": [],
   "source": [
    "np.random.seed(1776)\n",
    "nubar_test = np.array([np.random.normal(1.0,0.05,18)*nubar for i in range(10000)])"
   ]
  },
  {
   "cell_type": "code",
   "execution_count": 102,
   "metadata": {
    "collapsed": false
   },
   "outputs": [],
   "source": [
    "nubar_test_mean = np.average(nubar_test,0)"
   ]
  },
  {
   "cell_type": "code",
   "execution_count": 103,
   "metadata": {
    "collapsed": true
   },
   "outputs": [],
   "source": [
    "nubar_test_sigma = np.sqrt(np.sum((nubar_test - nubar_test_mean)**2,0)/10000)"
   ]
  },
  {
   "cell_type": "code",
   "execution_count": 104,
   "metadata": {
    "collapsed": false
   },
   "outputs": [
    {
     "data": {
      "text/plain": [
       "0.049839751464806445"
      ]
     },
     "execution_count": 104,
     "metadata": {},
     "output_type": "execute_result"
    }
   ],
   "source": [
    "np.average(nubar_test_sigma/nubar_test_mean)"
   ]
  },
  {
   "cell_type": "code",
   "execution_count": 105,
   "metadata": {
    "collapsed": false
   },
   "outputs": [
    {
     "data": {
      "image/png": "[encoded data removed]",
      "text/plain": [
       "<matplotlib.figure.Figure at 0x10d719160>"
      ]
     },
     "metadata": {},
     "output_type": "display_data"
    }
   ],
   "source": [
    "plt.errorbar(ligs, nubar_test_mean, yerr=nubar_test_sigma, linestyle='', marker='o')\n",
    "plt.xscale('log')"
   ]
  },
  {
   "cell_type": "code",
   "execution_count": null,
   "metadata": {
    "collapsed": true
   },
   "outputs": [],
   "source": []
  }
 ],
 "metadata": {
  "anaconda-cloud": {},
  "kernelspec": {
   "display_name": "Python [conda env:fitter]",
   "language": "python",
   "name": "conda-env-fitter-py"
  },
  "language_info": {
   "codemirror_mode": {
    "name": "ipython",
    "version": 3
   },
   "file_extension": ".py",
   "mimetype": "text/x-python",
   "name": "python",
   "nbconvert_exporter": "python",
   "pygments_lexer": "ipython3",
   "version": "3.5.2"
  }
 },
 "nbformat": 4,
 "nbformat_minor": 1
}
