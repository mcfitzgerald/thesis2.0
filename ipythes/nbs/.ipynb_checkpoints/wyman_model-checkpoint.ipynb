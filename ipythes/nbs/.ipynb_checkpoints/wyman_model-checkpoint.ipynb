{
 "cells": [
  {
   "cell_type": "code",
   "execution_count": 1,
   "metadata": {
    "collapsed": true
   },
   "outputs": [],
   "source": [
    "import numpy as np"
   ]
  },
  {
   "cell_type": "code",
   "execution_count": 2,
   "metadata": {
    "collapsed": false
   },
   "outputs": [],
   "source": [
    "def dilser(low=0.001, limit=100.0, dilfactor = 2.0):\n",
    "    \"\"\"Returns a list containing a dilution series that ranges from\n",
    "    \"low\" to \"limit\" by \"dilfactor\".\n",
    "    \"\"\"\n",
    "    a = [low]\n",
    "    while a[-1] <= limit:\n",
    "        a.append(a[len(a)-1]*dilfactor)\n",
    "    \n",
    "    return np.array(a)"
   ]
  },
  {
   "cell_type": "code",
   "execution_count": 3,
   "metadata": {
    "collapsed": true
   },
   "outputs": [],
   "source": [
    "lig = dilser()"
   ]
  },
  {
   "cell_type": "code",
   "execution_count": 4,
   "metadata": {
    "collapsed": false
   },
   "outputs": [
    {
     "data": {
      "text/plain": [
       "array([  1.00000000e-03,   2.00000000e-03,   4.00000000e-03,\n",
       "         8.00000000e-03,   1.60000000e-02,   3.20000000e-02,\n",
       "         6.40000000e-02,   1.28000000e-01,   2.56000000e-01,\n",
       "         5.12000000e-01,   1.02400000e+00,   2.04800000e+00,\n",
       "         4.09600000e+00,   8.19200000e+00,   1.63840000e+01,\n",
       "         3.27680000e+01,   6.55360000e+01,   1.31072000e+02])"
      ]
     },
     "execution_count": 4,
     "metadata": {},
     "output_type": "execute_result"
    }
   ],
   "source": [
    "lig\n"
   ]
  },
  {
   "cell_type": "code",
   "execution_count": 5,
   "metadata": {
    "collapsed": false
   },
   "outputs": [],
   "source": [
    "a = np.delete(lig,[15,16])"
   ]
  },
  {
   "cell_type": "code",
   "execution_count": 6,
   "metadata": {
    "collapsed": false
   },
   "outputs": [
    {
     "data": {
      "text/plain": [
       "array([  1.00000000e-03,   2.00000000e-03,   4.00000000e-03,\n",
       "         8.00000000e-03,   1.60000000e-02,   3.20000000e-02,\n",
       "         6.40000000e-02,   1.28000000e-01,   2.56000000e-01,\n",
       "         5.12000000e-01,   1.02400000e+00,   2.04800000e+00,\n",
       "         4.09600000e+00,   8.19200000e+00,   1.63840000e+01,\n",
       "         3.27680000e+01,   6.55360000e+01,   1.31072000e+02])"
      ]
     },
     "execution_count": 6,
     "metadata": {},
     "output_type": "execute_result"
    }
   ],
   "source": [
    "lig"
   ]
  },
  {
   "cell_type": "code",
   "execution_count": 7,
   "metadata": {
    "collapsed": false
   },
   "outputs": [
    {
     "data": {
      "text/plain": [
       "array([  1.00000000e-03,   2.00000000e-03,   4.00000000e-03,\n",
       "         8.00000000e-03,   1.60000000e-02,   3.20000000e-02,\n",
       "         6.40000000e-02,   1.28000000e-01,   2.56000000e-01,\n",
       "         5.12000000e-01,   1.02400000e+00,   2.04800000e+00,\n",
       "         4.09600000e+00,   8.19200000e+00,   1.63840000e+01,\n",
       "         1.31072000e+02])"
      ]
     },
     "execution_count": 7,
     "metadata": {},
     "output_type": "execute_result"
    }
   ],
   "source": [
    "a"
   ]
  },
  {
   "cell_type": "code",
   "execution_count": 8,
   "metadata": {
    "collapsed": true
   },
   "outputs": [],
   "source": [
    "b = np.delete(lig,[14,17])"
   ]
  },
  {
   "cell_type": "code",
   "execution_count": 9,
   "metadata": {
    "collapsed": false
   },
   "outputs": [
    {
     "data": {
      "text/plain": [
       "18"
      ]
     },
     "execution_count": 9,
     "metadata": {},
     "output_type": "execute_result"
    }
   ],
   "source": [
    "len(lig)"
   ]
  },
  {
   "cell_type": "code",
   "execution_count": 10,
   "metadata": {
    "collapsed": true
   },
   "outputs": [],
   "source": [
    "c = np.delete(lig,[13,15])"
   ]
  },
  {
   "cell_type": "code",
   "execution_count": 11,
   "metadata": {
    "collapsed": true
   },
   "outputs": [],
   "source": [
    "ligset = np.array([lig,a,lig,b,c])"
   ]
  },
  {
   "cell_type": "code",
   "execution_count": 12,
   "metadata": {
    "collapsed": false
   },
   "outputs": [
    {
     "data": {
      "text/plain": [
       "numpy.ndarray"
      ]
     },
     "execution_count": 12,
     "metadata": {},
     "output_type": "execute_result"
    }
   ],
   "source": [
    "type(lig)"
   ]
  },
  {
   "cell_type": "code",
   "execution_count": 13,
   "metadata": {
    "collapsed": false
   },
   "outputs": [
    {
     "data": {
      "text/plain": [
       "array([ array([  1.00000000e-03,   2.00000000e-03,   4.00000000e-03,\n",
       "         8.00000000e-03,   1.60000000e-02,   3.20000000e-02,\n",
       "         6.40000000e-02,   1.28000000e-01,   2.56000000e-01,\n",
       "         5.12000000e-01,   1.02400000e+00,   2.04800000e+00,\n",
       "         4.09600000e+00,   8.19200000e+00,   1.63840000e+01,\n",
       "         3.27680000e+01,   6.55360000e+01,   1.31072000e+02]),\n",
       "       array([  1.00000000e-03,   2.00000000e-03,   4.00000000e-03,\n",
       "         8.00000000e-03,   1.60000000e-02,   3.20000000e-02,\n",
       "         6.40000000e-02,   1.28000000e-01,   2.56000000e-01,\n",
       "         5.12000000e-01,   1.02400000e+00,   2.04800000e+00,\n",
       "         4.09600000e+00,   8.19200000e+00,   1.63840000e+01,\n",
       "         1.31072000e+02]),\n",
       "       array([  1.00000000e-03,   2.00000000e-03,   4.00000000e-03,\n",
       "         8.00000000e-03,   1.60000000e-02,   3.20000000e-02,\n",
       "         6.40000000e-02,   1.28000000e-01,   2.56000000e-01,\n",
       "         5.12000000e-01,   1.02400000e+00,   2.04800000e+00,\n",
       "         4.09600000e+00,   8.19200000e+00,   1.63840000e+01,\n",
       "         3.27680000e+01,   6.55360000e+01,   1.31072000e+02]),\n",
       "       array([  1.00000000e-03,   2.00000000e-03,   4.00000000e-03,\n",
       "         8.00000000e-03,   1.60000000e-02,   3.20000000e-02,\n",
       "         6.40000000e-02,   1.28000000e-01,   2.56000000e-01,\n",
       "         5.12000000e-01,   1.02400000e+00,   2.04800000e+00,\n",
       "         4.09600000e+00,   8.19200000e+00,   3.27680000e+01,\n",
       "         6.55360000e+01]),\n",
       "       array([  1.00000000e-03,   2.00000000e-03,   4.00000000e-03,\n",
       "         8.00000000e-03,   1.60000000e-02,   3.20000000e-02,\n",
       "         6.40000000e-02,   1.28000000e-01,   2.56000000e-01,\n",
       "         5.12000000e-01,   1.02400000e+00,   2.04800000e+00,\n",
       "         4.09600000e+00,   1.63840000e+01,   6.55360000e+01,\n",
       "         1.31072000e+02])], dtype=object)"
      ]
     },
     "execution_count": 13,
     "metadata": {},
     "output_type": "execute_result"
    }
   ],
   "source": [
    "ligset"
   ]
  },
  {
   "cell_type": "code",
   "execution_count": 14,
   "metadata": {
    "collapsed": false
   },
   "outputs": [
    {
     "data": {
      "text/plain": [
       "array([  1.00000000e-03,   2.00000000e-03,   4.00000000e-03,\n",
       "         8.00000000e-03,   1.60000000e-02,   3.20000000e-02,\n",
       "         6.40000000e-02,   1.28000000e-01,   2.56000000e-01,\n",
       "         5.12000000e-01,   1.02400000e+00,   2.04800000e+00,\n",
       "         4.09600000e+00,   8.19200000e+00,   1.63840000e+01,\n",
       "         3.27680000e+01,   6.55360000e+01,   1.31072000e+02])"
      ]
     },
     "execution_count": 14,
     "metadata": {},
     "output_type": "execute_result"
    }
   ],
   "source": [
    "ligset[0]"
   ]
  },
  {
   "cell_type": "code",
   "execution_count": 15,
   "metadata": {
    "collapsed": false
   },
   "outputs": [
    {
     "data": {
      "text/plain": [
       "5"
      ]
     },
     "execution_count": 15,
     "metadata": {},
     "output_type": "execute_result"
    }
   ],
   "source": [
    "ligset.shape[0]"
   ]
  },
  {
   "cell_type": "code",
   "execution_count": 16,
   "metadata": {
    "collapsed": false
   },
   "outputs": [],
   "source": [
    "noiseset = np.array([np.random.normal(1,0.05,ligset[i].size) for i in range(ligset.shape[0])])"
   ]
  },
  {
   "cell_type": "code",
   "execution_count": 17,
   "metadata": {
    "collapsed": false
   },
   "outputs": [],
   "source": [
    "rtots = np.array([0.001,0.005, 0.01, 0.02, 0.05])"
   ]
  },
  {
   "cell_type": "code",
   "execution_count": 18,
   "metadata": {
    "collapsed": false
   },
   "outputs": [
    {
     "data": {
      "text/plain": [
       "0.001"
      ]
     },
     "execution_count": 18,
     "metadata": {},
     "output_type": "execute_result"
    }
   ],
   "source": [
    "rtots[0]"
   ]
  },
  {
   "cell_type": "code",
   "execution_count": 19,
   "metadata": {
    "collapsed": false
   },
   "outputs": [
    {
     "data": {
      "text/plain": [
       "[0.001, 0.005, 0.01, 0.02, 0.05]"
      ]
     },
     "execution_count": 19,
     "metadata": {},
     "output_type": "execute_result"
    }
   ],
   "source": [
    "rtots.tolist()"
   ]
  },
  {
   "cell_type": "code",
   "execution_count": 20,
   "metadata": {
    "collapsed": false
   },
   "outputs": [],
   "source": [
    "sim_parms = dict({'k11':3.75, 'k21':1.81, 'k22':0.115, 'l20':283.0})"
   ]
  },
  {
   "cell_type": "code",
   "execution_count": 21,
   "metadata": {
    "collapsed": false
   },
   "outputs": [
    {
     "data": {
      "text/plain": [
       "{'k11': 3.75, 'k21': 1.81, 'k22': 0.115, 'l20': 283.0}"
      ]
     },
     "execution_count": 21,
     "metadata": {},
     "output_type": "execute_result"
    }
   ],
   "source": [
    "sim_parms"
   ]
  },
  {
   "cell_type": "code",
   "execution_count": 22,
   "metadata": {
    "collapsed": false
   },
   "outputs": [],
   "source": [
    "import math"
   ]
  },
  {
   "cell_type": "code",
   "execution_count": 23,
   "metadata": {
    "collapsed": false
   },
   "outputs": [
    {
     "data": {
      "text/plain": [
       "numpy.ndarray"
      ]
     },
     "execution_count": 23,
     "metadata": {},
     "output_type": "execute_result"
    }
   ],
   "source": [
    "type(rtots)"
   ]
  },
  {
   "cell_type": "code",
   "execution_count": 24,
   "metadata": {
    "collapsed": false
   },
   "outputs": [],
   "source": [
    "assert 2+3==5, 'perp'"
   ]
  },
  {
   "cell_type": "code",
   "execution_count": 25,
   "metadata": {
    "collapsed": false
   },
   "outputs": [],
   "source": [
    "def wyman_sim(lig,rtot,parm):\n",
    "    k11 = parm['k11']\n",
    "    k21 = parm['k21']\n",
    "    k22 = parm['k22']\n",
    "    l20 = parm['l20']\n",
    "    \n",
    "    assert lig.size == rtots.size, 'unequal sets of experiments and rtots'\n",
    "    \n",
    "    nexp = lig.size\n",
    "    \n",
    "    holder = []\n",
    "    \n",
    "    for i in range(nexp):\n",
    "        R = (-1 - k11*lig[i] + np.sqrt((1 + k11*lig[i])**2 + 8*l20*rtot[i]*(1 + k21*lig[i] + k21*k22*(lig[i]**2))))/(4*l20(1 + k21*lig[i] + k21*k22*(lig[i]**2)))\n",
    "        bfrac = (k11*lig[i] + l20*k21*R*lig[i] + 2*l20*k21*k22*R*(lig[i]**2))/(1 + 2*l20*R + k11*lig[i] + 2*l20*k21*R*lig[i] +2*l20*k21*k22*R*(lig[i]**2))\n",
    "        holder.append(bfrac)\n",
    "        \n",
    "    return holder\n",
    "    \n",
    "    "
   ]
  },
  {
   "cell_type": "code",
   "execution_count": 27,
   "metadata": {
    "collapsed": false
   },
   "outputs": [
    {
     "data": {
      "text/plain": [
       "5.830951894845301"
      ]
     },
     "execution_count": 27,
     "metadata": {},
     "output_type": "execute_result"
    }
   ],
   "source": [
    "math.sqrt(34)"
   ]
  },
  {
   "cell_type": "code",
   "execution_count": 88,
   "metadata": {
    "collapsed": false
   },
   "outputs": [
    {
     "name": "stdout",
     "output_type": "stream",
     "text": [
      "[  2.21350450e-03   2.20972001e-03   2.20218951e-03   2.18728060e-03\n",
      "   2.15805707e-03   2.10187987e-03   1.99782522e-03   1.81772058e-03\n",
      "   1.53977580e-03   1.17873358e-03   8.02007416e-04   4.89023721e-04\n",
      "   2.74570424e-04   1.46256291e-04   7.55945741e-05   9.73635196e-06]\n"
     ]
    }
   ],
   "source": [
    "parm = sim_parms\n",
    "\n",
    "k11 = parm['k11']\n",
    "k21 = parm['k21']\n",
    "k22 = parm['k22']\n",
    "l20 = parm['l20']\n",
    "\n",
    "lig = ligset\n",
    "rtot = rtots\n",
    "\n",
    "i = 1\n",
    "\n",
    "R = (((-1 - k11*lig[i]) + (np.sqrt((1 + k11*lig[i])**2 + 8*l20*rtot[i]*(1 + k21*lig[i] + k21*k22*(lig[i]**2)))))/(4*l20*(1 + k21*lig[i] + k21*k22*(lig[i]**2))))\n",
    "\n",
    "\n"
   ]
  },
  {
   "cell_type": "code",
   "execution_count": 30,
   "metadata": {
    "collapsed": false
   },
   "outputs": [
    {
     "data": {
      "text/plain": [
       "0.0050000000000000001"
      ]
     },
     "execution_count": 30,
     "metadata": {},
     "output_type": "execute_result"
    }
   ],
   "source": [
    "rtot[i]"
   ]
  },
  {
   "cell_type": "code",
   "execution_count": 89,
   "metadata": {
    "collapsed": true
   },
   "outputs": [],
   "source": [
    "def wyman_sim(lig,rtot,parm):\n",
    "    k11 = parm['k11']\n",
    "    k21 = parm['k21']\n",
    "    k22 = parm['k22']\n",
    "    l20 = parm['l20']\n",
    "    \n",
    "    assert lig.size == rtots.size, 'unequal sets of experiments and rtots'\n",
    "    \n",
    "    R = (((-1 - k11*lig) + (np.sqrt((1 + k11*lig)**2 + 8*l20*rtot*(1 + k21*lig + k21*k22*(lig**2)))))/(4*l20*(1 + k21*lig + k21*k22*(lig**2))))\n",
    "    \n",
    "    print(R)"
   ]
  },
  {
   "cell_type": "code",
   "execution_count": 90,
   "metadata": {
    "collapsed": false
   },
   "outputs": [
    {
     "ename": "AttributeError",
     "evalue": "'numpy.ndarray' object has no attribute 'sqrt'",
     "output_type": "error",
     "traceback": [
      "\u001b[0;31m---------------------------------------------------------------------------\u001b[0m",
      "\u001b[0;31mAttributeError\u001b[0m                            Traceback (most recent call last)",
      "\u001b[0;32m<ipython-input-90-6e461e8bc770>\u001b[0m in \u001b[0;36m<module>\u001b[0;34m()\u001b[0m\n\u001b[0;32m----> 1\u001b[0;31m \u001b[0mwyman_sim\u001b[0m\u001b[0;34m(\u001b[0m\u001b[0mligset\u001b[0m\u001b[0;34m,\u001b[0m\u001b[0mrtots\u001b[0m\u001b[0;34m,\u001b[0m\u001b[0msim_parms\u001b[0m\u001b[0;34m)\u001b[0m\u001b[0;34m\u001b[0m\u001b[0m\n\u001b[0m",
      "\u001b[0;32m<ipython-input-89-e7aaf6ae0b24>\u001b[0m in \u001b[0;36mwyman_sim\u001b[0;34m(lig, rtot, parm)\u001b[0m\n\u001b[1;32m      7\u001b[0m     \u001b[0;32massert\u001b[0m \u001b[0mlig\u001b[0m\u001b[0;34m.\u001b[0m\u001b[0msize\u001b[0m \u001b[0;34m==\u001b[0m \u001b[0mrtots\u001b[0m\u001b[0;34m.\u001b[0m\u001b[0msize\u001b[0m\u001b[0;34m,\u001b[0m \u001b[0;34m'unequal sets of experiments and rtots'\u001b[0m\u001b[0;34m\u001b[0m\u001b[0m\n\u001b[1;32m      8\u001b[0m \u001b[0;34m\u001b[0m\u001b[0m\n\u001b[0;32m----> 9\u001b[0;31m     \u001b[0mR\u001b[0m \u001b[0;34m=\u001b[0m \u001b[0;34m(\u001b[0m\u001b[0;34m(\u001b[0m\u001b[0;34m(\u001b[0m\u001b[0;34m-\u001b[0m\u001b[0;36m1\u001b[0m \u001b[0;34m-\u001b[0m \u001b[0mk11\u001b[0m\u001b[0;34m*\u001b[0m\u001b[0mlig\u001b[0m\u001b[0;34m)\u001b[0m \u001b[0;34m+\u001b[0m \u001b[0;34m(\u001b[0m\u001b[0mnp\u001b[0m\u001b[0;34m.\u001b[0m\u001b[0msqrt\u001b[0m\u001b[0;34m(\u001b[0m\u001b[0;34m(\u001b[0m\u001b[0;36m1\u001b[0m \u001b[0;34m+\u001b[0m \u001b[0mk11\u001b[0m\u001b[0;34m*\u001b[0m\u001b[0mlig\u001b[0m\u001b[0;34m)\u001b[0m\u001b[0;34m**\u001b[0m\u001b[0;36m2\u001b[0m \u001b[0;34m+\u001b[0m \u001b[0;36m8\u001b[0m\u001b[0;34m*\u001b[0m\u001b[0ml20\u001b[0m\u001b[0;34m*\u001b[0m\u001b[0mrtot\u001b[0m\u001b[0;34m*\u001b[0m\u001b[0;34m(\u001b[0m\u001b[0;36m1\u001b[0m \u001b[0;34m+\u001b[0m \u001b[0mk21\u001b[0m\u001b[0;34m*\u001b[0m\u001b[0mlig\u001b[0m \u001b[0;34m+\u001b[0m \u001b[0mk21\u001b[0m\u001b[0;34m*\u001b[0m\u001b[0mk22\u001b[0m\u001b[0;34m*\u001b[0m\u001b[0;34m(\u001b[0m\u001b[0mlig\u001b[0m\u001b[0;34m**\u001b[0m\u001b[0;36m2\u001b[0m\u001b[0;34m)\u001b[0m\u001b[0;34m)\u001b[0m\u001b[0;34m)\u001b[0m\u001b[0;34m)\u001b[0m\u001b[0;34m)\u001b[0m\u001b[0;34m/\u001b[0m\u001b[0;34m(\u001b[0m\u001b[0;36m4\u001b[0m\u001b[0;34m*\u001b[0m\u001b[0ml20\u001b[0m\u001b[0;34m*\u001b[0m\u001b[0;34m(\u001b[0m\u001b[0;36m1\u001b[0m \u001b[0;34m+\u001b[0m \u001b[0mk21\u001b[0m\u001b[0;34m*\u001b[0m\u001b[0mlig\u001b[0m \u001b[0;34m+\u001b[0m \u001b[0mk21\u001b[0m\u001b[0;34m*\u001b[0m\u001b[0mk22\u001b[0m\u001b[0;34m*\u001b[0m\u001b[0;34m(\u001b[0m\u001b[0mlig\u001b[0m\u001b[0;34m**\u001b[0m\u001b[0;36m2\u001b[0m\u001b[0;34m)\u001b[0m\u001b[0;34m)\u001b[0m\u001b[0;34m)\u001b[0m\u001b[0;34m)\u001b[0m\u001b[0;34m\u001b[0m\u001b[0m\n\u001b[0m\u001b[1;32m     10\u001b[0m \u001b[0;34m\u001b[0m\u001b[0m\n\u001b[1;32m     11\u001b[0m     \u001b[0mprint\u001b[0m\u001b[0;34m(\u001b[0m\u001b[0mR\u001b[0m\u001b[0;34m)\u001b[0m\u001b[0;34m\u001b[0m\u001b[0m\n",
      "\u001b[0;31mAttributeError\u001b[0m: 'numpy.ndarray' object has no attribute 'sqrt'"
     ]
    }
   ],
   "source": [
    "wyman_sim(ligset,rtots,sim_parms)"
   ]
  },
  {
   "cell_type": "code",
   "execution_count": 34,
   "metadata": {
    "collapsed": false
   },
   "outputs": [
    {
     "data": {
      "text/plain": [
       "array([  1.,   2.,   3.,   4.,  nan])"
      ]
     },
     "execution_count": 34,
     "metadata": {},
     "output_type": "execute_result"
    }
   ],
   "source": [
    "nantest"
   ]
  },
  {
   "cell_type": "code",
   "execution_count": 35,
   "metadata": {
    "collapsed": false
   },
   "outputs": [
    {
     "data": {
      "text/plain": [
       "array([ 1.        ,  1.41421356,  1.73205081,  2.        ,         nan])"
      ]
     },
     "execution_count": 35,
     "metadata": {},
     "output_type": "execute_result"
    }
   ],
   "source": [
    "np.sqrt(nantest)"
   ]
  },
  {
   "cell_type": "code",
   "execution_count": 36,
   "metadata": {
    "collapsed": true
   },
   "outputs": [],
   "source": [
    "def modtest(x, H):\n",
    "    return x*H + np.square(x)/H"
   ]
  },
  {
   "cell_type": "code",
   "execution_count": 37,
   "metadata": {
    "collapsed": false
   },
   "outputs": [],
   "source": [
    "dat = modtest(nantest,2)"
   ]
  },
  {
   "cell_type": "code",
   "execution_count": 38,
   "metadata": {
    "collapsed": false
   },
   "outputs": [
    {
     "data": {
      "text/plain": [
       "array([  1.,   2.,   3.,   4.,  nan])"
      ]
     },
     "execution_count": 38,
     "metadata": {},
     "output_type": "execute_result"
    }
   ],
   "source": [
    "nantest"
   ]
  },
  {
   "cell_type": "code",
   "execution_count": 39,
   "metadata": {
    "collapsed": false
   },
   "outputs": [],
   "source": [
    "import matplotlib.pyplot as plt"
   ]
  },
  {
   "cell_type": "code",
   "execution_count": 40,
   "metadata": {
    "collapsed": true
   },
   "outputs": [],
   "source": [
    "%matplotlib inline"
   ]
  },
  {
   "cell_type": "code",
   "execution_count": 41,
   "metadata": {
    "collapsed": false
   },
   "outputs": [
    {
     "data": {
      "text/plain": [
       "[<matplotlib.lines.Line2D at 0x10cecdd30>]"
      ]
     },
     "execution_count": 41,
     "metadata": {},
     "output_type": "execute_result"
    },
    {
     "data": {
      "image/png": "[encoded data removed]",
      "text/plain": [
       "<matplotlib.figure.Figure at 0x10ab4d4e0>"
      ]
     },
     "metadata": {},
     "output_type": "display_data"
    }
   ],
   "source": [
    "plt.plot(nantest,dat, 'o')"
   ]
  },
  {
   "cell_type": "code",
   "execution_count": 43,
   "metadata": {
    "collapsed": false
   },
   "outputs": [],
   "source": [
    "lerp = [[1,2,np.NaN,4,5,6,np.NaN,8,9,10],[1,2,3,4,np.NaN,np.NaN,7,8,np.NaN,10]]"
   ]
  },
  {
   "cell_type": "code",
   "execution_count": 44,
   "metadata": {
    "collapsed": false
   },
   "outputs": [],
   "source": [
    "lerp = np.array(lerp)"
   ]
  },
  {
   "cell_type": "code",
   "execution_count": 45,
   "metadata": {
    "collapsed": false
   },
   "outputs": [
    {
     "data": {
      "text/plain": [
       "array([[ 1.        ,  1.41421356,         nan,  2.        ,  2.23606798,\n",
       "         2.44948974,         nan,  2.82842712,  3.        ,  3.16227766],\n",
       "       [ 1.        ,  1.41421356,  1.73205081,  2.        ,         nan,\n",
       "                nan,  2.64575131,  2.82842712,         nan,  3.16227766]])"
      ]
     },
     "execution_count": 45,
     "metadata": {},
     "output_type": "execute_result"
    }
   ],
   "source": [
    "np.sqrt(lerp)"
   ]
  },
  {
   "cell_type": "code",
   "execution_count": null,
   "metadata": {
    "collapsed": false
   },
   "outputs": [],
   "source": []
  },
  {
   "cell_type": "code",
   "execution_count": 46,
   "metadata": {
    "collapsed": false
   },
   "outputs": [
    {
     "data": {
      "text/plain": [
       "array([[   1.,    4.,   nan,   16.,   25.,   36.,   nan,   64.,   81.,\n",
       "         100.],\n",
       "       [   1.,    4.,    9.,   16.,   nan,   nan,   49.,   64.,   nan,\n",
       "         100.]])"
      ]
     },
     "execution_count": 46,
     "metadata": {},
     "output_type": "execute_result"
    }
   ],
   "source": [
    "lerp**2"
   ]
  },
  {
   "cell_type": "code",
   "execution_count": 47,
   "metadata": {
    "collapsed": false
   },
   "outputs": [
    {
     "data": {
      "text/plain": [
       "array([[   1.,    4.,   nan,   16.,   25.,   36.,   nan,   64.,   81.,\n",
       "         100.],\n",
       "       [   1.,    4.,    9.,   16.,   nan,   nan,   49.,   64.,   nan,\n",
       "         100.]])"
      ]
     },
     "execution_count": 47,
     "metadata": {},
     "output_type": "execute_result"
    }
   ],
   "source": [
    "np.square(lerp)"
   ]
  },
  {
   "cell_type": "code",
   "execution_count": 48,
   "metadata": {
    "collapsed": false
   },
   "outputs": [
    {
     "data": {
      "text/plain": [
       "array([[  2.5,   6. ,   nan,  16. ,  22.5,  30. ,   nan,  48. ,  58.5,  70. ],\n",
       "       [  2.5,   6. ,  10.5,  16. ,   nan,   nan,  38.5,  48. ,   nan,  70. ]])"
      ]
     },
     "execution_count": 48,
     "metadata": {},
     "output_type": "execute_result"
    }
   ],
   "source": [
    "modtest(lerp,2)"
   ]
  },
  {
   "cell_type": "code",
   "execution_count": 49,
   "metadata": {
    "collapsed": true
   },
   "outputs": [],
   "source": [
    "dat = modtest(lerp,2)"
   ]
  },
  {
   "cell_type": "code",
   "execution_count": 50,
   "metadata": {
    "collapsed": false
   },
   "outputs": [
    {
     "data": {
      "text/plain": [
       "(2, 10)"
      ]
     },
     "execution_count": 50,
     "metadata": {},
     "output_type": "execute_result"
    }
   ],
   "source": [
    "dat.shape"
   ]
  },
  {
   "cell_type": "code",
   "execution_count": 51,
   "metadata": {
    "collapsed": false
   },
   "outputs": [],
   "source": [
    "datn = np.random.normal(1,0.05,dat.shape) * dat"
   ]
  },
  {
   "cell_type": "code",
   "execution_count": 52,
   "metadata": {
    "collapsed": false
   },
   "outputs": [
    {
     "data": {
      "text/plain": [
       "array([[  2.55391195,   6.35973359,          nan,  16.32774923,\n",
       "         20.97416679,  28.1679099 ,          nan,  48.2539676 ,\n",
       "         54.43818269,  72.12594802],\n",
       "       [  2.69147414,   5.7177139 ,   9.89293808,  15.72965089,\n",
       "                 nan,          nan,  38.33147231,  47.74313759,\n",
       "                 nan,  74.58995405]])"
      ]
     },
     "execution_count": 52,
     "metadata": {},
     "output_type": "execute_result"
    }
   ],
   "source": [
    "datn"
   ]
  },
  {
   "cell_type": "code",
   "execution_count": 53,
   "metadata": {
    "collapsed": false
   },
   "outputs": [
    {
     "data": {
      "image/png": "[encoded data removed]",
      "text/plain": [
       "<matplotlib.figure.Figure at 0x10ac2a588>"
      ]
     },
     "metadata": {},
     "output_type": "display_data"
    }
   ],
   "source": [
    "for i in range(datn.shape[0]):\n",
    "    plt.plot(lerp[i],datn[i],'o')"
   ]
  },
  {
   "cell_type": "code",
   "execution_count": 54,
   "metadata": {
    "collapsed": false
   },
   "outputs": [
    {
     "name": "stdout",
     "output_type": "stream",
     "text": [
      "0\n",
      "1\n"
     ]
    }
   ],
   "source": [
    "for i in range(2):\n",
    "    print(i)"
   ]
  },
  {
   "cell_type": "code",
   "execution_count": 55,
   "metadata": {
    "collapsed": false
   },
   "outputs": [
    {
     "data": {
      "text/plain": [
       "20"
      ]
     },
     "execution_count": 55,
     "metadata": {},
     "output_type": "execute_result"
    }
   ],
   "source": [
    "datn.size"
   ]
  },
  {
   "cell_type": "code",
   "execution_count": 56,
   "metadata": {
    "collapsed": false
   },
   "outputs": [
    {
     "data": {
      "text/plain": [
       "2"
      ]
     },
     "execution_count": 56,
     "metadata": {},
     "output_type": "execute_result"
    }
   ],
   "source": [
    "datn.shape[0]"
   ]
  },
  {
   "cell_type": "code",
   "execution_count": 57,
   "metadata": {
    "collapsed": true
   },
   "outputs": [],
   "source": [
    "def resid(parm,x,data):\n",
    "    H = parm['H']\n",
    "    model = x*H + np.square(x)/H\n",
    "    return np.concatenate(model - data)\n",
    "    \n",
    "    "
   ]
  },
  {
   "cell_type": "code",
   "execution_count": 58,
   "metadata": {
    "collapsed": true
   },
   "outputs": [],
   "source": [
    "import lmfit"
   ]
  },
  {
   "cell_type": "code",
   "execution_count": 59,
   "metadata": {
    "collapsed": true
   },
   "outputs": [],
   "source": [
    "params = lmfit.Parameters()"
   ]
  },
  {
   "cell_type": "code",
   "execution_count": 60,
   "metadata": {
    "collapsed": true
   },
   "outputs": [],
   "source": [
    "params.add(\"H\", value=41.7, min=0)"
   ]
  },
  {
   "cell_type": "code",
   "execution_count": 64,
   "metadata": {
    "collapsed": false
   },
   "outputs": [
    {
     "data": {
      "text/plain": [
       "array([  39.17006886,   77.13618967,           nan,  150.85594381,\n",
       "        188.12535359,  222.89539945,           nan,  286.88080459,\n",
       "        322.80426336,  347.27213351,   39.03250667,   77.77820936,\n",
       "        115.42288926,  151.45404215,           nan,           nan,\n",
       "        254.74358764,  287.39163459,           nan,  344.80812748])"
      ]
     },
     "execution_count": 64,
     "metadata": {},
     "output_type": "execute_result"
    }
   ],
   "source": [
    "resid(params,lerp,datn)"
   ]
  },
  {
   "cell_type": "code",
   "execution_count": 66,
   "metadata": {
    "collapsed": false
   },
   "outputs": [
    {
     "data": {
      "text/plain": [
       "array([[  1.,   2.,  nan,   4.,   5.,   6.,  nan,   8.,   9.,  10.],\n",
       "       [  1.,   2.,   3.,   4.,  nan,  nan,   7.,   8.,  nan,  10.]])"
      ]
     },
     "execution_count": 66,
     "metadata": {},
     "output_type": "execute_result"
    }
   ],
   "source": [
    "lerp"
   ]
  },
  {
   "cell_type": "code",
   "execution_count": 67,
   "metadata": {
    "collapsed": false
   },
   "outputs": [
    {
     "data": {
      "text/plain": [
       "array([[False, False,  True, False, False, False,  True, False, False,\n",
       "        False],\n",
       "       [False, False, False, False,  True,  True, False, False,  True,\n",
       "        False]], dtype=bool)"
      ]
     },
     "execution_count": 67,
     "metadata": {},
     "output_type": "execute_result"
    }
   ],
   "source": [
    "np.isnan(lerp)"
   ]
  },
  {
   "cell_type": "code",
   "execution_count": 68,
   "metadata": {
    "collapsed": true
   },
   "outputs": [],
   "source": [
    "testlerp = lerp"
   ]
  },
  {
   "cell_type": "code",
   "execution_count": 69,
   "metadata": {
    "collapsed": false
   },
   "outputs": [
    {
     "data": {
      "text/plain": [
       "array([[  1.,   2.,  nan,   4.,   5.,   6.,  nan,   8.,   9.,  10.],\n",
       "       [  1.,   2.,   3.,   4.,  nan,  nan,   7.,   8.,  nan,  10.]])"
      ]
     },
     "execution_count": 69,
     "metadata": {},
     "output_type": "execute_result"
    }
   ],
   "source": [
    "~np.isnan(lerp) * testlerp"
   ]
  },
  {
   "cell_type": "code",
   "execution_count": 70,
   "metadata": {
    "collapsed": false
   },
   "outputs": [
    {
     "data": {
      "text/plain": [
       "array([  1.,   2.,   4.,   5.,   6.,   8.,   9.,  10.,   1.,   2.,   3.,\n",
       "         4.,   7.,   8.,  10.])"
      ]
     },
     "execution_count": 70,
     "metadata": {},
     "output_type": "execute_result"
    }
   ],
   "source": [
    "testlerp[np.logical_not(np.isnan(testlerp))]"
   ]
  },
  {
   "cell_type": "code",
   "execution_count": 71,
   "metadata": {
    "collapsed": true
   },
   "outputs": [],
   "source": [
    "def resid2(parm,x,data):\n",
    "    H = parm['H']\n",
    "    model = x*H + np.square(x)/H\n",
    "    resid = np.concatenate(model - data)\n",
    "    return resid[np.logical_not(np.isnan(resid))]\n",
    "    "
   ]
  },
  {
   "cell_type": "code",
   "execution_count": 72,
   "metadata": {
    "collapsed": false
   },
   "outputs": [
    {
     "data": {
      "text/plain": [
       "array([  39.17006886,   77.13618967,  150.85594381,  188.12535359,\n",
       "        222.89539945,  286.88080459,  322.80426336,  347.27213351,\n",
       "         39.03250667,   77.77820936,  115.42288926,  151.45404215,\n",
       "        254.74358764,  287.39163459,  344.80812748])"
      ]
     },
     "execution_count": 72,
     "metadata": {},
     "output_type": "execute_result"
    }
   ],
   "source": [
    "resid2(params,lerp,datn)"
   ]
  },
  {
   "cell_type": "code",
   "execution_count": 73,
   "metadata": {
    "collapsed": true
   },
   "outputs": [],
   "source": [
    "minner2 = lmfit.Minimizer(resid2,params,fcn_args=(lerp,datn))"
   ]
  },
  {
   "cell_type": "code",
   "execution_count": 74,
   "metadata": {
    "collapsed": false
   },
   "outputs": [],
   "source": [
    "result = minner2.minimize()"
   ]
  },
  {
   "cell_type": "code",
   "execution_count": 75,
   "metadata": {
    "collapsed": false
   },
   "outputs": [
    {
     "name": "stdout",
     "output_type": "stream",
     "text": [
      "[[Fit Statistics]]\n",
      "    # function evals   = 34\n",
      "    # data points      = 15\n",
      "    # variables        = 1\n",
      "    chi-square         = 45.873\n",
      "    reduced chi-square = 3.277\n",
      "    Akaike info crit   = 18.767\n",
      "    Bayesian info crit = 19.475\n",
      "[[Variables]]\n",
      "    H:   1.94218284 +/- 0.059811 (3.08%) (init= 41.7)\n",
      "[[Correlations]] (unreported correlations are <  0.100)\n"
     ]
    }
   ],
   "source": [
    "lmfit.report_fit(result)"
   ]
  },
  {
   "cell_type": "code",
   "execution_count": 76,
   "metadata": {
    "collapsed": false
   },
   "outputs": [
    {
     "data": {
      "text/plain": [
       "array([ array([  1.00000000e-03,   2.00000000e-03,   4.00000000e-03,\n",
       "         8.00000000e-03,   1.60000000e-02,   3.20000000e-02,\n",
       "         6.40000000e-02,   1.28000000e-01,   2.56000000e-01,\n",
       "         5.12000000e-01,   1.02400000e+00,   2.04800000e+00,\n",
       "         4.09600000e+00,   8.19200000e+00,   1.63840000e+01,\n",
       "         3.27680000e+01,   6.55360000e+01,   1.31072000e+02]),\n",
       "       array([  1.00000000e-03,   2.00000000e-03,   4.00000000e-03,\n",
       "         8.00000000e-03,   1.60000000e-02,   3.20000000e-02,\n",
       "         6.40000000e-02,   1.28000000e-01,   2.56000000e-01,\n",
       "         5.12000000e-01,   1.02400000e+00,   2.04800000e+00,\n",
       "         4.09600000e+00,   8.19200000e+00,   1.63840000e+01,\n",
       "         1.31072000e+02]),\n",
       "       array([  1.00000000e-03,   2.00000000e-03,   4.00000000e-03,\n",
       "         8.00000000e-03,   1.60000000e-02,   3.20000000e-02,\n",
       "         6.40000000e-02,   1.28000000e-01,   2.56000000e-01,\n",
       "         5.12000000e-01,   1.02400000e+00,   2.04800000e+00,\n",
       "         4.09600000e+00,   8.19200000e+00,   1.63840000e+01,\n",
       "         3.27680000e+01,   6.55360000e+01,   1.31072000e+02]),\n",
       "       array([  1.00000000e-03,   2.00000000e-03,   4.00000000e-03,\n",
       "         8.00000000e-03,   1.60000000e-02,   3.20000000e-02,\n",
       "         6.40000000e-02,   1.28000000e-01,   2.56000000e-01,\n",
       "         5.12000000e-01,   1.02400000e+00,   2.04800000e+00,\n",
       "         4.09600000e+00,   8.19200000e+00,   3.27680000e+01,\n",
       "         6.55360000e+01]),\n",
       "       array([  1.00000000e-03,   2.00000000e-03,   4.00000000e-03,\n",
       "         8.00000000e-03,   1.60000000e-02,   3.20000000e-02,\n",
       "         6.40000000e-02,   1.28000000e-01,   2.56000000e-01,\n",
       "         5.12000000e-01,   1.02400000e+00,   2.04800000e+00,\n",
       "         4.09600000e+00,   1.63840000e+01,   6.55360000e+01,\n",
       "         1.31072000e+02])], dtype=object)"
      ]
     },
     "execution_count": 76,
     "metadata": {},
     "output_type": "execute_result"
    }
   ],
   "source": [
    "ligset"
   ]
  },
  {
   "cell_type": "code",
   "execution_count": 77,
   "metadata": {
    "collapsed": false
   },
   "outputs": [
    {
     "data": {
      "text/plain": [
       "(5,)"
      ]
     },
     "execution_count": 77,
     "metadata": {},
     "output_type": "execute_result"
    }
   ],
   "source": [
    "ligset.shape"
   ]
  },
  {
   "cell_type": "code",
   "execution_count": 78,
   "metadata": {
    "collapsed": false
   },
   "outputs": [
    {
     "data": {
      "text/plain": [
       "5"
      ]
     },
     "execution_count": 78,
     "metadata": {},
     "output_type": "execute_result"
    }
   ],
   "source": [
    "ligset.size"
   ]
  },
  {
   "cell_type": "code",
   "execution_count": 79,
   "metadata": {
    "collapsed": false
   },
   "outputs": [
    {
     "name": "stdout",
     "output_type": "stream",
     "text": [
      "18\n",
      "16\n",
      "18\n",
      "16\n",
      "16\n"
     ]
    }
   ],
   "source": [
    "for i in ligset:\n",
    "    print(i.size)"
   ]
  },
  {
   "cell_type": "raw",
   "metadata": {
    "collapsed": true
   },
   "source": [
    "resid"
   ]
  },
  {
   "cell_type": "code",
   "execution_count": 80,
   "metadata": {
    "collapsed": false
   },
   "outputs": [
    {
     "data": {
      "text/plain": [
       "<function __main__.resid>"
      ]
     },
     "execution_count": 80,
     "metadata": {},
     "output_type": "execute_result"
    }
   ],
   "source": [
    "resid"
   ]
  },
  {
   "cell_type": "code",
   "execution_count": 81,
   "metadata": {
    "collapsed": false
   },
   "outputs": [
    {
     "name": "stdout",
     "output_type": "stream",
     "text": [
      "Help on function resid in module __main__:\n",
      "\n",
      "resid(parm, x, data)\n",
      "\n"
     ]
    }
   ],
   "source": [
    "help(resid)"
   ]
  },
  {
   "cell_type": "code",
   "execution_count": 83,
   "metadata": {
    "collapsed": false
   },
   "outputs": [
    {
     "ename": "ValueError",
     "evalue": "operands could not be broadcast together with shapes (5,) (2,10) ",
     "output_type": "error",
     "traceback": [
      "\u001b[0;31m---------------------------------------------------------------------------\u001b[0m",
      "\u001b[0;31mValueError\u001b[0m                                Traceback (most recent call last)",
      "\u001b[0;32m<ipython-input-83-e0c163d8b179>\u001b[0m in \u001b[0;36m<module>\u001b[0;34m()\u001b[0m\n\u001b[0;32m----> 1\u001b[0;31m \u001b[0mresid\u001b[0m\u001b[0;34m(\u001b[0m\u001b[0mparams\u001b[0m\u001b[0;34m,\u001b[0m \u001b[0mligset\u001b[0m\u001b[0;34m,\u001b[0m \u001b[0mdatn\u001b[0m\u001b[0;34m)\u001b[0m\u001b[0;34m\u001b[0m\u001b[0m\n\u001b[0m",
      "\u001b[0;32m<ipython-input-57-2cf1c66f55cb>\u001b[0m in \u001b[0;36mresid\u001b[0;34m(parm, x, data)\u001b[0m\n\u001b[1;32m      2\u001b[0m     \u001b[0mH\u001b[0m \u001b[0;34m=\u001b[0m \u001b[0mparm\u001b[0m\u001b[0;34m[\u001b[0m\u001b[0;34m'H'\u001b[0m\u001b[0;34m]\u001b[0m\u001b[0;34m\u001b[0m\u001b[0m\n\u001b[1;32m      3\u001b[0m     \u001b[0mmodel\u001b[0m \u001b[0;34m=\u001b[0m \u001b[0mx\u001b[0m\u001b[0;34m*\u001b[0m\u001b[0mH\u001b[0m \u001b[0;34m+\u001b[0m \u001b[0mnp\u001b[0m\u001b[0;34m.\u001b[0m\u001b[0msquare\u001b[0m\u001b[0;34m(\u001b[0m\u001b[0mx\u001b[0m\u001b[0;34m)\u001b[0m\u001b[0;34m/\u001b[0m\u001b[0mH\u001b[0m\u001b[0;34m\u001b[0m\u001b[0m\n\u001b[0;32m----> 4\u001b[0;31m     \u001b[0;32mreturn\u001b[0m \u001b[0mnp\u001b[0m\u001b[0;34m.\u001b[0m\u001b[0mconcatenate\u001b[0m\u001b[0;34m(\u001b[0m\u001b[0mmodel\u001b[0m \u001b[0;34m-\u001b[0m \u001b[0mdata\u001b[0m\u001b[0;34m)\u001b[0m\u001b[0;34m\u001b[0m\u001b[0m\n\u001b[0m\u001b[1;32m      5\u001b[0m \u001b[0;34m\u001b[0m\u001b[0m\n\u001b[1;32m      6\u001b[0m \u001b[0;34m\u001b[0m\u001b[0m\n",
      "\u001b[0;31mValueError\u001b[0m: operands could not be broadcast together with shapes (5,) (2,10) "
     ]
    }
   ],
   "source": [
    "resid(params, ligset, datn)"
   ]
  },
  {
   "cell_type": "code",
   "execution_count": 84,
   "metadata": {
    "collapsed": false
   },
   "outputs": [
    {
     "data": {
      "text/plain": [
       "array([ array([  1.00000000e-03,   2.00000000e-03,   4.00000000e-03,\n",
       "         8.00000000e-03,   1.60000000e-02,   3.20000000e-02,\n",
       "         6.40000000e-02,   1.28000000e-01,   2.56000000e-01,\n",
       "         5.12000000e-01,   1.02400000e+00,   2.04800000e+00,\n",
       "         4.09600000e+00,   8.19200000e+00,   1.63840000e+01,\n",
       "         3.27680000e+01,   6.55360000e+01,   1.31072000e+02]),\n",
       "       array([  1.00000000e-03,   2.00000000e-03,   4.00000000e-03,\n",
       "         8.00000000e-03,   1.60000000e-02,   3.20000000e-02,\n",
       "         6.40000000e-02,   1.28000000e-01,   2.56000000e-01,\n",
       "         5.12000000e-01,   1.02400000e+00,   2.04800000e+00,\n",
       "         4.09600000e+00,   8.19200000e+00,   1.63840000e+01,\n",
       "         1.31072000e+02]),\n",
       "       array([  1.00000000e-03,   2.00000000e-03,   4.00000000e-03,\n",
       "         8.00000000e-03,   1.60000000e-02,   3.20000000e-02,\n",
       "         6.40000000e-02,   1.28000000e-01,   2.56000000e-01,\n",
       "         5.12000000e-01,   1.02400000e+00,   2.04800000e+00,\n",
       "         4.09600000e+00,   8.19200000e+00,   1.63840000e+01,\n",
       "         3.27680000e+01,   6.55360000e+01,   1.31072000e+02]),\n",
       "       array([  1.00000000e-03,   2.00000000e-03,   4.00000000e-03,\n",
       "         8.00000000e-03,   1.60000000e-02,   3.20000000e-02,\n",
       "         6.40000000e-02,   1.28000000e-01,   2.56000000e-01,\n",
       "         5.12000000e-01,   1.02400000e+00,   2.04800000e+00,\n",
       "         4.09600000e+00,   8.19200000e+00,   3.27680000e+01,\n",
       "         6.55360000e+01]),\n",
       "       array([  1.00000000e-03,   2.00000000e-03,   4.00000000e-03,\n",
       "         8.00000000e-03,   1.60000000e-02,   3.20000000e-02,\n",
       "         6.40000000e-02,   1.28000000e-01,   2.56000000e-01,\n",
       "         5.12000000e-01,   1.02400000e+00,   2.04800000e+00,\n",
       "         4.09600000e+00,   1.63840000e+01,   6.55360000e+01,\n",
       "         1.31072000e+02])], dtype=object)"
      ]
     },
     "execution_count": 84,
     "metadata": {},
     "output_type": "execute_result"
    }
   ],
   "source": [
    "ligset"
   ]
  },
  {
   "cell_type": "code",
   "execution_count": 85,
   "metadata": {
    "collapsed": false
   },
   "outputs": [
    {
     "data": {
      "text/plain": [
       "array([ array([  1.00000000e-03,   2.00000000e-03,   4.00000000e-03,\n",
       "         8.00000000e-03,   1.60000000e-02,   3.20000000e-02,\n",
       "         6.40000000e-02,   1.28000000e-01,   2.56000000e-01,\n",
       "         5.12000000e-01,   1.02400000e+00,   2.04800000e+00,\n",
       "         4.09600000e+00,   8.19200000e+00,   1.63840000e+01,\n",
       "         3.27680000e+01,   6.55360000e+01,   1.31072000e+02]),\n",
       "       array([  1.00000000e-03,   2.00000000e-03,   4.00000000e-03,\n",
       "         8.00000000e-03,   1.60000000e-02,   3.20000000e-02,\n",
       "         6.40000000e-02,   1.28000000e-01,   2.56000000e-01,\n",
       "         5.12000000e-01,   1.02400000e+00,   2.04800000e+00,\n",
       "         4.09600000e+00,   8.19200000e+00,   1.63840000e+01,\n",
       "         1.31072000e+02]),\n",
       "       array([  1.00000000e-03,   2.00000000e-03,   4.00000000e-03,\n",
       "         8.00000000e-03,   1.60000000e-02,   3.20000000e-02,\n",
       "         6.40000000e-02,   1.28000000e-01,   2.56000000e-01,\n",
       "         5.12000000e-01,   1.02400000e+00,   2.04800000e+00,\n",
       "         4.09600000e+00,   8.19200000e+00,   1.63840000e+01,\n",
       "         3.27680000e+01,   6.55360000e+01,   1.31072000e+02]),\n",
       "       array([  1.00000000e-03,   2.00000000e-03,   4.00000000e-03,\n",
       "         8.00000000e-03,   1.60000000e-02,   3.20000000e-02,\n",
       "         6.40000000e-02,   1.28000000e-01,   2.56000000e-01,\n",
       "         5.12000000e-01,   1.02400000e+00,   2.04800000e+00,\n",
       "         4.09600000e+00,   8.19200000e+00,   3.27680000e+01,\n",
       "         6.55360000e+01]),\n",
       "       array([  1.00000000e-03,   2.00000000e-03,   4.00000000e-03,\n",
       "         8.00000000e-03,   1.60000000e-02,   3.20000000e-02,\n",
       "         6.40000000e-02,   1.28000000e-01,   2.56000000e-01,\n",
       "         5.12000000e-01,   1.02400000e+00,   2.04800000e+00,\n",
       "         4.09600000e+00,   1.63840000e+01,   6.55360000e+01,\n",
       "         1.31072000e+02])], dtype=object)"
      ]
     },
     "execution_count": 85,
     "metadata": {},
     "output_type": "execute_result"
    }
   ],
   "source": [
    "ligset"
   ]
  },
  {
   "cell_type": "code",
   "execution_count": 86,
   "metadata": {
    "collapsed": false
   },
   "outputs": [
    {
     "data": {
      "text/plain": [
       "array([[  2.55391195,   6.35973359,          nan,  16.32774923,\n",
       "         20.97416679,  28.1679099 ,          nan,  48.2539676 ,\n",
       "         54.43818269,  72.12594802],\n",
       "       [  2.69147414,   5.7177139 ,   9.89293808,  15.72965089,\n",
       "                 nan,          nan,  38.33147231,  47.74313759,\n",
       "                 nan,  74.58995405]])"
      ]
     },
     "execution_count": 86,
     "metadata": {},
     "output_type": "execute_result"
    }
   ],
   "source": [
    "datn"
   ]
  },
  {
   "cell_type": "code",
   "execution_count": 91,
   "metadata": {
    "collapsed": false
   },
   "outputs": [
    {
     "data": {
      "text/plain": [
       "5"
      ]
     },
     "execution_count": 91,
     "metadata": {},
     "output_type": "execute_result"
    }
   ],
   "source": [
    "ligset.size"
   ]
  },
  {
   "cell_type": "code",
   "execution_count": 99,
   "metadata": {
    "collapsed": false
   },
   "outputs": [
    {
     "data": {
      "text/plain": [
       "array([ 0.001,  0.005,  0.01 ,  0.02 ,  0.05 ])"
      ]
     },
     "execution_count": 99,
     "metadata": {},
     "output_type": "execute_result"
    }
   ],
   "source": [
    "rtot"
   ]
  },
  {
   "cell_type": "code",
   "execution_count": 100,
   "metadata": {
    "collapsed": false
   },
   "outputs": [
    {
     "data": {
      "text/plain": [
       "20"
      ]
     },
     "execution_count": 100,
     "metadata": {},
     "output_type": "execute_result"
    }
   ],
   "source": [
    "datn.size"
   ]
  },
  {
   "cell_type": "code",
   "execution_count": 101,
   "metadata": {
    "collapsed": false
   },
   "outputs": [
    {
     "data": {
      "text/plain": [
       "20"
      ]
     },
     "execution_count": 101,
     "metadata": {},
     "output_type": "execute_result"
    }
   ],
   "source": [
    "lerp.size"
   ]
  },
  {
   "cell_type": "code",
   "execution_count": 102,
   "metadata": {
    "collapsed": false
   },
   "outputs": [
    {
     "data": {
      "text/plain": [
       "array([[  1.,   2.,  nan,   4.,   5.,   6.,  nan,   8.,   9.,  10.],\n",
       "       [  1.,   2.,   3.,   4.,  nan,  nan,   7.,   8.,  nan,  10.]])"
      ]
     },
     "execution_count": 102,
     "metadata": {},
     "output_type": "execute_result"
    }
   ],
   "source": [
    "lerp"
   ]
  },
  {
   "cell_type": "code",
   "execution_count": 111,
   "metadata": {
    "collapsed": true
   },
   "outputs": [],
   "source": [
    "def wyman_sim(lig,rtot,parm):\n",
    "    \"\"\"\n",
    "    returns bound fraction for model of aggregating system as described by Wyman and implemened\n",
    "    by Pike\n",
    "    \n",
    "    lig \n",
    "    -------\n",
    "    is an array of arrays (created from a list of arrays -- because\n",
    "    datasets may not have a uniform number of data points in each experiment)\n",
    "    \n",
    "    this is important for the loop below that uses lig.size to generate indices. if lig \n",
    "    was a proper array, size would be the total number of cells, but in this case it is the \n",
    "    number of arrays (or experimental data sets) in the array\n",
    "    \n",
    "    rtot \n",
    "    -------\n",
    "    is a 1d array (but may work as other data structure -- test this)\n",
    "    \n",
    "    parm\n",
    "    -------\n",
    "    dict of parameter names and values or a Parameters object from the lmfit package\n",
    "     \n",
    "    \"\"\"\n",
    "    #assign parameter values\n",
    "    k11 = parm['k11']\n",
    "    k21 = parm['k21']\n",
    "    k22 = parm['k22']\n",
    "    l20 = parm['l20']\n",
    "    \n",
    "    holder = []\n",
    "    \n",
    "    for i in range(lig.size):\n",
    "        rfree = (((-1 - k11*lig[i]) + \\\n",
    "        (np.sqrt((1 + k11*lig[i])**2 + 8*l20*rtot[i]*(1 + k21*lig[i] + \\\n",
    "        k21*k22*(lig[i]**2)))))/(4*l20*(1 + k21*lig[i] + k21*k22*(lig[i]**2))))\n",
    "        \n",
    "        bfrac = (k11*lig[i] + l20*k21*rfree*lig[i] + \\\n",
    "        2*l20*k21*k22*rfree*(lig[i]**2))/(1 + 2*l20*rfree + k11*lig[i] + \\\n",
    "        2*l20*k21*rfree*lig[i] + 2*l20*k21*k22*rfree*(lig[i]**2))\n",
    "        \n",
    "        holder.append(bfrac)\n",
    "        \n",
    "    return np.array(holder)"
   ]
  },
  {
   "cell_type": "code",
   "execution_count": 112,
   "metadata": {
    "collapsed": false
   },
   "outputs": [],
   "source": [
    "bindset = wyman_sim(ligset,rtots,sim_parms)"
   ]
  },
  {
   "cell_type": "code",
   "execution_count": 119,
   "metadata": {
    "collapsed": false
   },
   "outputs": [
    {
     "data": {
      "text/plain": [
       "'0.005'"
      ]
     },
     "execution_count": 119,
     "metadata": {},
     "output_type": "execute_result"
    }
   ],
   "source": [
    "str(rtots[1])"
   ]
  },
  {
   "cell_type": "code",
   "execution_count": 122,
   "metadata": {
    "collapsed": false
   },
   "outputs": [
    {
     "data": {
      "image/png": "[encoded data removed]",
      "text/plain": [
       "<matplotlib.figure.Figure at 0x11013bf98>"
      ]
     },
     "metadata": {},
     "output_type": "display_data"
    }
   ],
   "source": [
    "for i in range(bindset.size):\n",
    "    plt.semilogx(ligset[i],bindset[i], 'o', label=str(rtots[i]))\n",
    "    plt.legend()\n"
   ]
  },
  {
   "cell_type": "code",
   "execution_count": 125,
   "metadata": {
    "collapsed": false
   },
   "outputs": [
    {
     "data": {
      "text/plain": [
       "array([ array([ 0.00285276,  0.00596853,  0.01210537,  0.02349822,  0.04014384,\n",
       "        0.08960026,  0.14943486,  0.29574698,  0.40468523,  0.63297952,\n",
       "        0.77950924,  0.86962938,  0.9255202 ,  1.023351  ,  1.04269251,\n",
       "        0.97890241,  1.05243787,  1.05456815]),\n",
       "       array([ 0.00213174,  0.0040496 ,  0.00862348,  0.01667313,  0.0325611 ,\n",
       "        0.06529651,  0.12757244,  0.22429499,  0.36540703,  0.50417796,\n",
       "        0.75630652,  0.83682067,  0.89959189,  0.90447932,  0.93637335,\n",
       "        1.01543281]),\n",
       "       array([ 0.00182153,  0.00370849,  0.00691442,  0.01448346,  0.03034571,\n",
       "        0.05674485,  0.10607905,  0.1937278 ,  0.32118347,  0.48173096,\n",
       "        0.65095052,  0.81092127,  0.93134172,  0.95226556,  0.93522542,\n",
       "        1.01568863,  1.07313568,  0.93918713]),\n",
       "       array([ 0.00155567,  0.0033347 ,  0.00636816,  0.01301274,  0.02646529,\n",
       "        0.04872919,  0.0905815 ,  0.16042246,  0.28583794,  0.49944088,\n",
       "        0.62919309,  0.78904722,  0.89464883,  0.91860705,  1.03148002,\n",
       "        1.05482711]),\n",
       "       array([ 0.00143057,  0.00273693,  0.00541912,  0.01082363,  0.0193889 ,\n",
       "        0.04705064,  0.0764801 ,  0.15690288,  0.23985676,  0.39630456,\n",
       "        0.53610213,  0.60814138,  0.77616313,  0.86486708,  0.98418276,\n",
       "        0.92478414])], dtype=object)"
      ]
     },
     "execution_count": 125,
     "metadata": {},
     "output_type": "execute_result"
    }
   ],
   "source": [
    "noiseset*bindset"
   ]
  },
  {
   "cell_type": "code",
   "execution_count": 126,
   "metadata": {
    "collapsed": true
   },
   "outputs": [],
   "source": [
    "bindset_n = bindset*noiseset"
   ]
  },
  {
   "cell_type": "code",
   "execution_count": 128,
   "metadata": {
    "collapsed": false
   },
   "outputs": [
    {
     "data": {
      "image/png": "[encoded data removed]",
      "text/plain": [
       "<matplotlib.figure.Figure at 0x1101a84a8>"
      ]
     },
     "metadata": {},
     "output_type": "display_data"
    }
   ],
   "source": [
    "for i in range(bindset_n.size):\n",
    "    plt.semilogx(ligset[i],bindset_n[i],'o',label=str(rtots[i]))\n",
    "    plt.legend()"
   ]
  },
  {
   "cell_type": "code",
   "execution_count": 129,
   "metadata": {
    "collapsed": true
   },
   "outputs": [],
   "source": [
    "def wyman_sim_test(lig,rtot,parm):\n",
    "    \"\"\"\n",
    "    returns bound fraction for model of aggregating system as described by Wyman and implemened\n",
    "    by Pike\n",
    "    \n",
    "    lig \n",
    "    -------\n",
    "    is an array of arrays (created from a list of arrays -- because\n",
    "    datasets may not have a uniform number of data points in each experiment)\n",
    "    \n",
    "    this is important for the loop below that uses lig.size to generate indices. if lig \n",
    "    was a proper array, size would be the total number of cells, but in this case it is the \n",
    "    number of arrays (or experimental data sets) in the array\n",
    "    \n",
    "    rtot \n",
    "    -------\n",
    "    is a 1d array (but may work as other data structure -- test this)\n",
    "    \n",
    "    parm\n",
    "    -------\n",
    "    dict of parameter names and values or a Parameters object from the lmfit package\n",
    "     \n",
    "    \"\"\"\n",
    "    #assign parameter values\n",
    "    k11 = parm['k11']\n",
    "    k21 = parm['k21']\n",
    "    k22 = parm['k22']\n",
    "    l20 = parm['l20']\n",
    "    \n",
    "    holder = []\n",
    "    \n",
    "    for i in range(lig.size):\n",
    "        rfree = (((-1 - k11*lig[i]) + \\\n",
    "        (np.sqrt((1 + k11*lig[i])**2 + 8*l20*rtot[i]*(1 + k21*lig[i] + \\\n",
    "        k21*k22*(lig[i]**2)))))/(4*l20*(1 + k21*lig[i] + k21*k22*(lig[i]**2))))\n",
    "        \n",
    "        bfrac = (k11*lig[i] + l20*k21*rfree*lig[i] + \\\n",
    "        2*l20*k21*k22*rfree*(lig[i]**2))/(1 + 2*l20*rfree + k11*lig[i] + \\\n",
    "        2*l20*k21*rfree*lig[i] + 2*l20*k21*k22*rfree*(lig[i]**2))\n",
    "        \n",
    "        holder.append(bfrac)\n",
    "        \n",
    "    return holder\n",
    "    "
   ]
  },
  {
   "cell_type": "code",
   "execution_count": 130,
   "metadata": {
    "collapsed": true
   },
   "outputs": [],
   "source": [
    "testset = wyman_sim_test(ligset,rtots,sim_parms)"
   ]
  },
  {
   "cell_type": "code",
   "execution_count": 131,
   "metadata": {
    "collapsed": false
   },
   "outputs": [
    {
     "data": {
      "text/plain": [
       "list"
      ]
     },
     "execution_count": 131,
     "metadata": {},
     "output_type": "execute_result"
    }
   ],
   "source": [
    "type(testset)"
   ]
  },
  {
   "cell_type": "code",
   "execution_count": 133,
   "metadata": {
    "collapsed": false
   },
   "outputs": [
    {
     "data": {
      "text/plain": [
       "array([ 0.00292449,  0.00583338,  0.01160484,  0.02296563,  0.04498329,\n",
       "        0.08638652,  0.15995108,  0.27812797,  0.43953192,  0.61582812,\n",
       "        0.76609041,  0.86944742,  0.93085941,  0.96440484,  0.98193913,\n",
       "        0.99090289,  0.99543468,  0.99771313,  0.00216219,  0.0043155 ,\n",
       "        0.0085957 ,  0.01705187,  0.03355858,  0.06503479,  0.12244999,\n",
       "        0.21910378,  0.36147799,  0.53409378,  0.6993101 ,  0.82494943,\n",
       "        0.90491728,  0.95037524,  0.97464249,  0.99676909,  0.0018721 ,\n",
       "        0.00373715,  0.00744625,  0.01478154,  0.02912894,  0.05659531,\n",
       "        0.10707689,  0.19326555,  0.32341389,  0.48762569,  0.65391117,\n",
       "        0.78919871,  0.88124581,  0.93647174,  0.96705629,  0.98321159,\n",
       "        0.99152363,  0.99574087,  0.00163132,  0.00325687,  0.00649081,\n",
       "        0.01289086,  0.02542632,  0.04948931,  0.09394919,  0.17061335,\n",
       "        0.28846333,  0.44169649,  0.60425927,  0.74533467,  0.84895668,\n",
       "        0.91592398,  0.97684412,  0.98821125,  0.00138956,  0.00277447,\n",
       "        0.00553044,  0.01098766,  0.02168843,  0.04227492,  0.08047453,\n",
       "        0.14687902,  0.2504736 ,  0.38867067,  0.54166901,  0.68362331,\n",
       "        0.79803141,  0.93322429,  0.98159737,  0.99063148])"
      ]
     },
     "execution_count": 133,
     "metadata": {},
     "output_type": "execute_result"
    }
   ],
   "source": [
    "np.concatenate(testset)"
   ]
  },
  {
   "cell_type": "code",
   "execution_count": 146,
   "metadata": {
    "collapsed": true
   },
   "outputs": [],
   "source": [
    "def wym_obj(parm,x,rtot,data):\n",
    "    \"\"\"\n",
    "    parms\n",
    "    --------\n",
    "    lmfit.Parameters() object containin definitions for k11, k21, k22, and l20\n",
    "    \n",
    "    x\n",
    "    --------\n",
    "    array of arrays (probably assymetric elements without \"formal\" dimensions) containing \n",
    "    free ligand concentrations, must be of same size (no. of elements) as rtots, and same \"shape\"\n",
    "    as data (same number of arrays within the array and the same number of elements in each subarray)\n",
    "    \"\"\"\n",
    "    k11 = parm['k11']\n",
    "    k21 = parm['k21']\n",
    "    k22 = parm['k22']\n",
    "    l20 = parm['l20']\n",
    "    \n",
    "    model = []\n",
    "    \n",
    "    for i in range(lig.size):\n",
    "        rfree = (((-1 - k11*lig[i]) + \\\n",
    "        (np.sqrt((1 + k11*lig[i])**2 + 8*l20*rtot[i]*(1 + k21*lig[i] + \\\n",
    "        k21*k22*(lig[i]**2)))))/(4*l20*(1 + k21*lig[i] + k21*k22*(lig[i]**2))))\n",
    "        \n",
    "        bfrac = (k11*lig[i] + l20*k21*rfree*lig[i] + \\\n",
    "        2*l20*k21*k22*rfree*(lig[i]**2))/(1 + 2*l20*rfree + k11*lig[i] + \\\n",
    "        2*l20*k21*rfree*lig[i] + 2*l20*k21*k22*rfree*(lig[i]**2))\n",
    "        \n",
    "        model.append(bfrac)\n",
    "        \n",
    "    return np.concatenate((np.array(model)) - data)\n",
    "    "
   ]
  },
  {
   "cell_type": "code",
   "execution_count": 147,
   "metadata": {
    "collapsed": false
   },
   "outputs": [
    {
     "data": {
      "text/plain": [
       "array([  7.17321903e-05,  -1.35149446e-04,  -5.00537195e-04,\n",
       "        -5.32587735e-04,   4.83945758e-03,  -3.21374584e-03,\n",
       "         1.05162250e-02,  -1.76190102e-02,   3.48466928e-02,\n",
       "        -1.71513962e-02,  -1.34188287e-02,  -1.81956689e-04,\n",
       "         5.33921090e-03,  -5.89461670e-02,  -6.07533836e-02,\n",
       "         1.20004824e-02,  -5.70031925e-02,  -5.68550158e-02,\n",
       "         3.04465565e-05,   2.65894784e-04,  -2.77813118e-05,\n",
       "         3.78743593e-04,   9.97477091e-04,  -2.61727439e-04,\n",
       "        -5.12244545e-03,  -5.19120306e-03,  -3.92903336e-03,\n",
       "         2.99158174e-02,  -5.69964127e-02,  -1.18712433e-02,\n",
       "         5.32539391e-03,   4.58959186e-02,   3.82691397e-02,\n",
       "        -1.86637219e-02,   5.05773481e-05,   2.86666865e-05,\n",
       "         5.31836039e-04,   2.98075435e-04,  -1.21676646e-03,\n",
       "        -1.49530450e-04,   9.97836589e-04,  -4.62249231e-04,\n",
       "         2.23041463e-03,   5.89472865e-03,   2.96065673e-03,\n",
       "        -2.17225636e-02,  -5.00959151e-02,  -1.57938159e-02,\n",
       "         3.18308681e-02,  -3.24770414e-02,  -8.16120558e-02,\n",
       "         5.65537459e-02,   7.56510913e-05,  -7.78265200e-05,\n",
       "         1.22655941e-04,  -1.21883892e-04,  -1.03897297e-03,\n",
       "         7.60121238e-04,   3.36769717e-03,   1.01908895e-02,\n",
       "         2.62539040e-03,  -5.77443883e-02,  -2.49338158e-02,\n",
       "        -4.37125469e-02,  -4.56921587e-02,  -2.68306643e-03,\n",
       "        -5.46359011e-02,  -6.66158532e-02,  -4.10148515e-05,\n",
       "         3.75355760e-05,   1.11314862e-04,   1.64027404e-04,\n",
       "         2.29952792e-03,  -4.77571519e-03,   3.99442163e-03,\n",
       "        -1.00238599e-02,   1.06168370e-02,  -7.63388997e-03,\n",
       "         5.56687851e-03,   7.54819294e-02,   2.18682789e-02,\n",
       "         6.83572146e-02,  -2.58538333e-03,   6.58473435e-02])"
      ]
     },
     "execution_count": 147,
     "metadata": {},
     "output_type": "execute_result"
    }
   ],
   "source": [
    "wym_obj(sim_parms,ligset,rtots,bindset_n)"
   ]
  },
  {
   "cell_type": "code",
   "execution_count": 148,
   "metadata": {
    "collapsed": true
   },
   "outputs": [],
   "source": [
    "parms = lmfit.Parameters()"
   ]
  },
  {
   "cell_type": "code",
   "execution_count": 170,
   "metadata": {
    "collapsed": true
   },
   "outputs": [],
   "source": [
    "parms.add('k11', value=10., min=0.01)\n",
    "parms.add('k21', value=10., min=0.01)\n",
    "parms.add('k22', value=10, min=0.09)\n",
    "parms.add('l20', value=100., min=0.01)"
   ]
  },
  {
   "cell_type": "code",
   "execution_count": 171,
   "metadata": {
    "collapsed": false
   },
   "outputs": [
    {
     "data": {
      "text/plain": [
       "Parameters([('k11', <Parameter 'k11', 10.0, bounds=[0.01:inf]>),\n",
       "            ('k21', <Parameter 'k21', 10.0, bounds=[0.01:inf]>),\n",
       "            ('k22', <Parameter 'k22', 10, bounds=[0.09:inf]>),\n",
       "            ('l20', <Parameter 'l20', 100.0, bounds=[0.01:inf]>)])"
      ]
     },
     "execution_count": 171,
     "metadata": {},
     "output_type": "execute_result"
    }
   ],
   "source": [
    "parms"
   ]
  },
  {
   "cell_type": "code",
   "execution_count": 172,
   "metadata": {
    "collapsed": true
   },
   "outputs": [],
   "source": [
    "wyminner = lmfit.Minimizer(wym_obj,parms,fcn_args=(ligset,rtots,bindset_n))"
   ]
  },
  {
   "cell_type": "code",
   "execution_count": 173,
   "metadata": {
    "collapsed": false
   },
   "outputs": [],
   "source": [
    "result = wyminner.minimize(method='least_squares', loss='soft_l1')"
   ]
  },
  {
   "cell_type": "code",
   "execution_count": 174,
   "metadata": {
    "collapsed": false
   },
   "outputs": [
    {
     "name": "stdout",
     "output_type": "stream",
     "text": [
      "[[Fit Statistics]]\n",
      "    # function evals   = 14\n",
      "    # data points      = 84\n",
      "    # variables        = 4\n",
      "    chi-square         = 0.069\n",
      "    reduced chi-square = 0.001\n",
      "    Akaike info crit   = -589.325\n",
      "    Bayesian info crit = -579.602\n",
      "[[Variables]]\n",
      "    k11:   3.86673774 (init= 10)\n",
      "    k21:   1.66062329 (init= 10)\n",
      "    k22:   0.09000000 (init= 10)\n",
      "    l20:   273.106752 (init= 100)\n",
      "[[Correlations]] (unreported correlations are <  0.100)\n"
     ]
    }
   ],
   "source": [
    "lmfit.report_fit(result)"
   ]
  },
  {
   "cell_type": "code",
   "execution_count": 155,
   "metadata": {
    "collapsed": false
   },
   "outputs": [
    {
     "data": {
      "text/plain": [
       "{'k11': 3.75, 'k21': 1.81, 'k22': 0.115, 'l20': 283.0}"
      ]
     },
     "execution_count": 155,
     "metadata": {},
     "output_type": "execute_result"
    }
   ],
   "source": [
    "sim_parms"
   ]
  },
  {
   "cell_type": "code",
   "execution_count": 178,
   "metadata": {
    "collapsed": false
   },
   "outputs": [
    {
     "data": {
      "text/plain": [
       "numpy.ndarray"
      ]
     },
     "execution_count": 178,
     "metadata": {},
     "output_type": "execute_result"
    }
   ],
   "source": [
    "type(ligset)"
   ]
  },
  {
   "cell_type": "code",
   "execution_count": 179,
   "metadata": {
    "collapsed": true
   },
   "outputs": [],
   "source": [
    "loar = ligset.tolist()"
   ]
  },
  {
   "cell_type": "code",
   "execution_count": 180,
   "metadata": {
    "collapsed": false
   },
   "outputs": [
    {
     "ename": "TypeError",
     "evalue": "Mismatch between array dtype ('object') and format specifier ('%.18e')",
     "output_type": "error",
     "traceback": [
      "\u001b[0;31m---------------------------------------------------------------------------\u001b[0m",
      "\u001b[0;31mTypeError\u001b[0m                                 Traceback (most recent call last)",
      "\u001b[0;32m/Users/michael/miniconda3/envs/fitter/lib/python3.5/site-packages/numpy/lib/npyio.py\u001b[0m in \u001b[0;36msavetxt\u001b[0;34m(fname, X, fmt, delimiter, newline, header, footer, comments)\u001b[0m\n\u001b[1;32m   1157\u001b[0m                 \u001b[0;32mtry\u001b[0m\u001b[0;34m:\u001b[0m\u001b[0;34m\u001b[0m\u001b[0m\n\u001b[0;32m-> 1158\u001b[0;31m                     \u001b[0mfh\u001b[0m\u001b[0;34m.\u001b[0m\u001b[0mwrite\u001b[0m\u001b[0;34m(\u001b[0m\u001b[0masbytes\u001b[0m\u001b[0;34m(\u001b[0m\u001b[0mformat\u001b[0m \u001b[0;34m%\u001b[0m \u001b[0mtuple\u001b[0m\u001b[0;34m(\u001b[0m\u001b[0mrow\u001b[0m\u001b[0;34m)\u001b[0m \u001b[0;34m+\u001b[0m \u001b[0mnewline\u001b[0m\u001b[0;34m)\u001b[0m\u001b[0;34m)\u001b[0m\u001b[0;34m\u001b[0m\u001b[0m\n\u001b[0m\u001b[1;32m   1159\u001b[0m                 \u001b[0;32mexcept\u001b[0m \u001b[0mTypeError\u001b[0m\u001b[0;34m:\u001b[0m\u001b[0;34m\u001b[0m\u001b[0m\n",
      "\u001b[0;31mTypeError\u001b[0m: only length-1 arrays can be converted to Python scalars",
      "\nDuring handling of the above exception, another exception occurred:\n",
      "\u001b[0;31mTypeError\u001b[0m                                 Traceback (most recent call last)",
      "\u001b[0;32m<ipython-input-180-75dbba37ae36>\u001b[0m in \u001b[0;36m<module>\u001b[0;34m()\u001b[0m\n\u001b[0;32m----> 1\u001b[0;31m \u001b[0mnp\u001b[0m\u001b[0;34m.\u001b[0m\u001b[0msavetxt\u001b[0m\u001b[0;34m(\u001b[0m\u001b[0;34m'thing'\u001b[0m\u001b[0;34m,\u001b[0m \u001b[0mloar\u001b[0m\u001b[0;34m)\u001b[0m\u001b[0;34m\u001b[0m\u001b[0m\n\u001b[0m",
      "\u001b[0;32m/Users/michael/miniconda3/envs/fitter/lib/python3.5/site-packages/numpy/lib/npyio.py\u001b[0m in \u001b[0;36msavetxt\u001b[0;34m(fname, X, fmt, delimiter, newline, header, footer, comments)\u001b[0m\n\u001b[1;32m   1160\u001b[0m                     raise TypeError(\"Mismatch between array dtype ('%s') and \"\n\u001b[1;32m   1161\u001b[0m                                     \u001b[0;34m\"format specifier ('%s')\"\u001b[0m\u001b[0;34m\u001b[0m\u001b[0m\n\u001b[0;32m-> 1162\u001b[0;31m                                     % (str(X.dtype), format))\n\u001b[0m\u001b[1;32m   1163\u001b[0m         \u001b[0;32mif\u001b[0m \u001b[0mlen\u001b[0m\u001b[0;34m(\u001b[0m\u001b[0mfooter\u001b[0m\u001b[0;34m)\u001b[0m \u001b[0;34m>\u001b[0m \u001b[0;36m0\u001b[0m\u001b[0;34m:\u001b[0m\u001b[0;34m\u001b[0m\u001b[0m\n\u001b[1;32m   1164\u001b[0m             \u001b[0mfooter\u001b[0m \u001b[0;34m=\u001b[0m \u001b[0mfooter\u001b[0m\u001b[0;34m.\u001b[0m\u001b[0mreplace\u001b[0m\u001b[0;34m(\u001b[0m\u001b[0;34m'\\n'\u001b[0m\u001b[0;34m,\u001b[0m \u001b[0;34m'\\n'\u001b[0m \u001b[0;34m+\u001b[0m \u001b[0mcomments\u001b[0m\u001b[0;34m)\u001b[0m\u001b[0;34m\u001b[0m\u001b[0m\n",
      "\u001b[0;31mTypeError\u001b[0m: Mismatch between array dtype ('object') and format specifier ('%.18e')"
     ]
    }
   ],
   "source": [
    "np.savetxt('thing', loar)"
   ]
  },
  {
   "cell_type": "code",
   "execution_count": 181,
   "metadata": {
    "collapsed": true
   },
   "outputs": [],
   "source": [
    "a = [i.tolist() for i in ligset]"
   ]
  },
  {
   "cell_type": "code",
   "execution_count": 182,
   "metadata": {
    "collapsed": false
   },
   "outputs": [
    {
     "data": {
      "text/plain": [
       "[[0.001,\n",
       "  0.002,\n",
       "  0.004,\n",
       "  0.008,\n",
       "  0.016,\n",
       "  0.032,\n",
       "  0.064,\n",
       "  0.128,\n",
       "  0.256,\n",
       "  0.512,\n",
       "  1.024,\n",
       "  2.048,\n",
       "  4.096,\n",
       "  8.192,\n",
       "  16.384,\n",
       "  32.768,\n",
       "  65.536,\n",
       "  131.072],\n",
       " [0.001,\n",
       "  0.002,\n",
       "  0.004,\n",
       "  0.008,\n",
       "  0.016,\n",
       "  0.032,\n",
       "  0.064,\n",
       "  0.128,\n",
       "  0.256,\n",
       "  0.512,\n",
       "  1.024,\n",
       "  2.048,\n",
       "  4.096,\n",
       "  8.192,\n",
       "  16.384,\n",
       "  131.072],\n",
       " [0.001,\n",
       "  0.002,\n",
       "  0.004,\n",
       "  0.008,\n",
       "  0.016,\n",
       "  0.032,\n",
       "  0.064,\n",
       "  0.128,\n",
       "  0.256,\n",
       "  0.512,\n",
       "  1.024,\n",
       "  2.048,\n",
       "  4.096,\n",
       "  8.192,\n",
       "  16.384,\n",
       "  32.768,\n",
       "  65.536,\n",
       "  131.072],\n",
       " [0.001,\n",
       "  0.002,\n",
       "  0.004,\n",
       "  0.008,\n",
       "  0.016,\n",
       "  0.032,\n",
       "  0.064,\n",
       "  0.128,\n",
       "  0.256,\n",
       "  0.512,\n",
       "  1.024,\n",
       "  2.048,\n",
       "  4.096,\n",
       "  8.192,\n",
       "  32.768,\n",
       "  65.536],\n",
       " [0.001,\n",
       "  0.002,\n",
       "  0.004,\n",
       "  0.008,\n",
       "  0.016,\n",
       "  0.032,\n",
       "  0.064,\n",
       "  0.128,\n",
       "  0.256,\n",
       "  0.512,\n",
       "  1.024,\n",
       "  2.048,\n",
       "  4.096,\n",
       "  16.384,\n",
       "  65.536,\n",
       "  131.072]]"
      ]
     },
     "execution_count": 182,
     "metadata": {},
     "output_type": "execute_result"
    }
   ],
   "source": [
    "a"
   ]
  },
  {
   "cell_type": "code",
   "execution_count": 183,
   "metadata": {
    "collapsed": true
   },
   "outputs": [],
   "source": [
    "import csv"
   ]
  },
  {
   "cell_type": "code",
   "execution_count": 185,
   "metadata": {
    "collapsed": false
   },
   "outputs": [],
   "source": [
    "with open(\"output.csv\", \"w\") as f:\n",
    "    writer = csv.writer(f)\n",
    "    writer.writerows(a)"
   ]
  },
  {
   "cell_type": "code",
   "execution_count": 186,
   "metadata": {
    "collapsed": true
   },
   "outputs": [],
   "source": [
    "with open(\"output2.csv\", \"w\") as f:\n",
    "    writer = csv.writer(f)\n",
    "    writer.writerows([i.tolist() for i in bindset_n])"
   ]
  },
  {
   "cell_type": "code",
   "execution_count": 187,
   "metadata": {
    "collapsed": false
   },
   "outputs": [
    {
     "data": {
      "text/plain": [
       "array([ 0.001,  0.005,  0.01 ,  0.02 ,  0.05 ])"
      ]
     },
     "execution_count": 187,
     "metadata": {},
     "output_type": "execute_result"
    }
   ],
   "source": [
    "rtots"
   ]
  },
  {
   "cell_type": "code",
   "execution_count": 188,
   "metadata": {
    "collapsed": false
   },
   "outputs": [
    {
     "data": {
      "text/plain": [
       "Parameters([('H', <Parameter 'H', 41.7, bounds=[0:inf]>)])"
      ]
     },
     "execution_count": 188,
     "metadata": {},
     "output_type": "execute_result"
    }
   ],
   "source": [
    "params"
   ]
  },
  {
   "cell_type": "code",
   "execution_count": 189,
   "metadata": {
    "collapsed": false
   },
   "outputs": [
    {
     "data": {
      "text/plain": [
       "{'k11': 3.75, 'k21': 1.81, 'k22': 0.115, 'l20': 283.0}"
      ]
     },
     "execution_count": 189,
     "metadata": {},
     "output_type": "execute_result"
    }
   ],
   "source": [
    "parm"
   ]
  },
  {
   "cell_type": "code",
   "execution_count": 190,
   "metadata": {
    "collapsed": false
   },
   "outputs": [
    {
     "data": {
      "text/plain": [
       "Parameters([('k11', <Parameter 'k11', 10.0, bounds=[0.01:inf]>),\n",
       "            ('k21', <Parameter 'k21', 10.0, bounds=[0.01:inf]>),\n",
       "            ('k22', <Parameter 'k22', 10, bounds=[0.09:inf]>),\n",
       "            ('l20', <Parameter 'l20', 100.0, bounds=[0.01:inf]>)])"
      ]
     },
     "execution_count": 190,
     "metadata": {},
     "output_type": "execute_result"
    }
   ],
   "source": [
    "parms"
   ]
  },
  {
   "cell_type": "code",
   "execution_count": 193,
   "metadata": {
    "collapsed": true
   },
   "outputs": [],
   "source": [
    "parms.add('k22', value=10.0, min=0.01)"
   ]
  },
  {
   "cell_type": "markdown",
   "metadata": {},
   "source": [
    "parms"
   ]
  },
  {
   "cell_type": "code",
   "execution_count": 194,
   "metadata": {
    "collapsed": false
   },
   "outputs": [
    {
     "data": {
      "text/plain": [
       "Parameters([('k11', <Parameter 'k11', 10.0, bounds=[0.01:inf]>),\n",
       "            ('k21', <Parameter 'k21', 10.0, bounds=[0.01:inf]>),\n",
       "            ('k22', <Parameter 'k22', 10.0, bounds=[0.01:inf]>),\n",
       "            ('l20', <Parameter 'l20', 100.0, bounds=[0.01:inf]>)])"
      ]
     },
     "execution_count": 194,
     "metadata": {},
     "output_type": "execute_result"
    }
   ],
   "source": [
    "parms"
   ]
  },
  {
   "cell_type": "code",
   "execution_count": 195,
   "metadata": {
    "collapsed": true
   },
   "outputs": [],
   "source": [
    "wyminner = lmfit.Minimizer(wym_obj,parms,fcn_args=(ligset,rtots,bindset_n))"
   ]
  },
  {
   "cell_type": "code",
   "execution_count": 196,
   "metadata": {
    "collapsed": true
   },
   "outputs": [],
   "source": [
    "result = wyminner.minimize()"
   ]
  },
  {
   "cell_type": "code",
   "execution_count": 197,
   "metadata": {
    "collapsed": false
   },
   "outputs": [
    {
     "name": "stdout",
     "output_type": "stream",
     "text": [
      "[[Fit Statistics]]\n",
      "    # function evals   = 53\n",
      "    # data points      = 84\n",
      "    # variables        = 4\n",
      "    chi-square         = 0.066\n",
      "    reduced chi-square = 0.001\n",
      "    Akaike info crit   = -592.820\n",
      "    Bayesian info crit = -583.096\n",
      "[[Variables]]\n",
      "    k11:   3.74576109 +/- 0        (0.00%) (init= 10)\n",
      "    k21:   1.59585585 +/- 0        (0.00%) (init= 10)\n",
      "    k22:   0.01000000 +/- 0        (0.00%) (init= 10)\n",
      "    l20:   221.592930 +/- 0        (0.00%) (init= 100)\n",
      "[[Correlations]] (unreported correlations are <  0.100)\n"
     ]
    }
   ],
   "source": [
    "lmfit.report_fit(result)"
   ]
  },
  {
   "cell_type": "code",
   "execution_count": 198,
   "metadata": {
    "collapsed": false
   },
   "outputs": [
    {
     "data": {
      "text/plain": [
       "{'k11': 3.75, 'k21': 1.81, 'k22': 0.115, 'l20': 283.0}"
      ]
     },
     "execution_count": 198,
     "metadata": {},
     "output_type": "execute_result"
    }
   ],
   "source": [
    "sim_parms"
   ]
  },
  {
   "cell_type": "code",
   "execution_count": 201,
   "metadata": {
    "collapsed": false
   },
   "outputs": [],
   "source": [
    "err = 0.05*bindset_n"
   ]
  },
  {
   "cell_type": "code",
   "execution_count": 203,
   "metadata": {
    "collapsed": false
   },
   "outputs": [
    {
     "data": {
      "text/plain": [
       "array([ array([ 20.,  20.,  20.,  20.,  20.,  20.,  20.,  20.,  20.,  20.,  20.,\n",
       "        20.,  20.,  20.,  20.,  20.,  20.,  20.]),\n",
       "       array([ 20.,  20.,  20.,  20.,  20.,  20.,  20.,  20.,  20.,  20.,  20.,\n",
       "        20.,  20.,  20.,  20.,  20.]),\n",
       "       array([ 20.,  20.,  20.,  20.,  20.,  20.,  20.,  20.,  20.,  20.,  20.,\n",
       "        20.,  20.,  20.,  20.,  20.,  20.,  20.]),\n",
       "       array([ 20.,  20.,  20.,  20.,  20.,  20.,  20.,  20.,  20.,  20.,  20.,\n",
       "        20.,  20.,  20.,  20.,  20.]),\n",
       "       array([ 20.,  20.,  20.,  20.,  20.,  20.,  20.,  20.,  20.,  20.,  20.,\n",
       "        20.,  20.,  20.,  20.,  20.])], dtype=object)"
      ]
     },
     "execution_count": 203,
     "metadata": {},
     "output_type": "execute_result"
    }
   ],
   "source": [
    "bindset_n / err"
   ]
  },
  {
   "cell_type": "code",
   "execution_count": 219,
   "metadata": {
    "collapsed": false
   },
   "outputs": [],
   "source": [
    "a = np.array([1,2,3])/2"
   ]
  },
  {
   "cell_type": "code",
   "execution_count": 221,
   "metadata": {
    "collapsed": false
   },
   "outputs": [],
   "source": [
    "b = np.array([1,2,2,2])/3"
   ]
  },
  {
   "cell_type": "code",
   "execution_count": 223,
   "metadata": {
    "collapsed": false
   },
   "outputs": [],
   "source": [
    "c = np.array([1,4,5])/4"
   ]
  },
  {
   "cell_type": "code",
   "execution_count": 212,
   "metadata": {
    "collapsed": false
   },
   "outputs": [],
   "source": [
    "d = [a,b,c]"
   ]
  },
  {
   "cell_type": "code",
   "execution_count": 213,
   "metadata": {
    "collapsed": true
   },
   "outputs": [],
   "source": [
    "e = np.array(d)"
   ]
  },
  {
   "cell_type": "code",
   "execution_count": 214,
   "metadata": {
    "collapsed": false
   },
   "outputs": [
    {
     "data": {
      "text/plain": [
       "array([array([1, 2, 3]), array([1, 2, 2, 2]), array([1, 4, 5])], dtype=object)"
      ]
     },
     "execution_count": 214,
     "metadata": {},
     "output_type": "execute_result"
    }
   ],
   "source": [
    "e"
   ]
  },
  {
   "cell_type": "code",
   "execution_count": 218,
   "metadata": {
    "collapsed": false
   },
   "outputs": [
    {
     "ename": "ValueError",
     "evalue": "setting an array element with a sequence.",
     "output_type": "error",
     "traceback": [
      "\u001b[0;31m---------------------------------------------------------------------------\u001b[0m",
      "\u001b[0;31mValueError\u001b[0m                                Traceback (most recent call last)",
      "\u001b[0;32m<ipython-input-218-d57d6182cae8>\u001b[0m in \u001b[0;36m<module>\u001b[0;34m()\u001b[0m\n\u001b[0;32m----> 1\u001b[0;31m \u001b[0mnp\u001b[0m\u001b[0;34m.\u001b[0m\u001b[0marray\u001b[0m\u001b[0;34m(\u001b[0m\u001b[0md\u001b[0m\u001b[0;34m,\u001b[0m\u001b[0mdtype\u001b[0m\u001b[0;34m=\u001b[0m\u001b[0mfloat\u001b[0m\u001b[0;34m)\u001b[0m\u001b[0;34m\u001b[0m\u001b[0m\n\u001b[0m",
      "\u001b[0;31mValueError\u001b[0m: setting an array element with a sequence."
     ]
    }
   ],
   "source": []
  },
  {
   "cell_type": "code",
   "execution_count": 224,
   "metadata": {
    "collapsed": false
   },
   "outputs": [
    {
     "data": {
      "text/plain": [
       "array([array([1, 2, 3]), array([1, 2, 2, 2]), array([1, 4, 5])], dtype=object)"
      ]
     },
     "execution_count": 224,
     "metadata": {},
     "output_type": "execute_result"
    }
   ],
   "source": [
    "e"
   ]
  },
  {
   "cell_type": "code",
   "execution_count": 225,
   "metadata": {
    "collapsed": true
   },
   "outputs": [],
   "source": [
    "f = [a,b,c]"
   ]
  },
  {
   "cell_type": "code",
   "execution_count": 226,
   "metadata": {
    "collapsed": false
   },
   "outputs": [
    {
     "data": {
      "text/plain": [
       "[array([ 0.5,  1. ,  1.5]),\n",
       " array([ 0.33333333,  0.66666667,  0.66666667,  0.66666667]),\n",
       " array([ 0.25,  1.  ,  1.25])]"
      ]
     },
     "execution_count": 226,
     "metadata": {},
     "output_type": "execute_result"
    }
   ],
   "source": [
    "f"
   ]
  },
  {
   "cell_type": "code",
   "execution_count": 227,
   "metadata": {
    "collapsed": true
   },
   "outputs": [],
   "source": [
    "g = np.array(f)"
   ]
  },
  {
   "cell_type": "code",
   "execution_count": 228,
   "metadata": {
    "collapsed": false
   },
   "outputs": [
    {
     "data": {
      "text/plain": [
       "array([array([ 0.5,  1. ,  1.5]),\n",
       "       array([ 0.33333333,  0.66666667,  0.66666667,  0.66666667]),\n",
       "       array([ 0.25,  1.  ,  1.25])], dtype=object)"
      ]
     },
     "execution_count": 228,
     "metadata": {},
     "output_type": "execute_result"
    }
   ],
   "source": [
    "g"
   ]
  },
  {
   "cell_type": "code",
   "execution_count": 229,
   "metadata": {
    "collapsed": false
   },
   "outputs": [
    {
     "data": {
      "text/plain": [
       "array([array([ 2.,  2.,  2.]), array([ 3.,  3.,  3.,  3.]),\n",
       "       array([ 4.,  4.,  4.])], dtype=object)"
      ]
     },
     "execution_count": 229,
     "metadata": {},
     "output_type": "execute_result"
    }
   ],
   "source": [
    "e/g"
   ]
  },
  {
   "cell_type": "code",
   "execution_count": 236,
   "metadata": {
    "collapsed": false
   },
   "outputs": [
    {
     "data": {
      "text/plain": [
       "array([array([1, 4, 9]), array([1, 4, 4, 4]), array([ 1, 16, 25])], dtype=object)"
      ]
     },
     "execution_count": 236,
     "metadata": {},
     "output_type": "execute_result"
    }
   ],
   "source": [
    "np.square(e)"
   ]
  },
  {
   "cell_type": "code",
   "execution_count": 237,
   "metadata": {
    "collapsed": false
   },
   "outputs": [
    {
     "data": {
      "text/plain": [
       "array([array([1, 2, 3]), array([1, 2, 2, 2]), array([1, 4, 5])], dtype=object)"
      ]
     },
     "execution_count": 237,
     "metadata": {},
     "output_type": "execute_result"
    }
   ],
   "source": [
    "e"
   ]
  },
  {
   "cell_type": "code",
   "execution_count": 241,
   "metadata": {
    "collapsed": false
   },
   "outputs": [
    {
     "data": {
      "text/plain": [
       "array([ array([ -3.52569667e+03,   1.51753829e+03,   1.36628058e+03,\n",
       "         3.85816961e+02,  -1.20121004e+03,   1.60122710e+02,\n",
       "        -1.88371859e+02,   8.05751041e+01,  -8.51112287e+01,\n",
       "         1.71230120e+01,   8.83348480e+00,   9.62408855e-02,\n",
       "        -2.49324675e+00,   2.25147082e+01,   2.23520804e+01,\n",
       "        -5.00933296e+00,   2.05857284e+01,   2.04493485e+01]),\n",
       "       array([ -2.67996378e+03,  -6.48551546e+03,   1.49433294e+02,\n",
       "        -5.44968089e+02,  -3.76326458e+02,   2.45543958e+01,\n",
       "         1.25899391e+02,   4.12751699e+01,   1.17704188e+01,\n",
       "        -4.70753060e+01,   3.98576628e+01,   6.78096335e+00,\n",
       "        -2.63221081e+00,  -2.24407193e+01,  -1.74586478e+01,\n",
       "         7.24028831e+00]),\n",
       "       array([ -6.09741392e+03,  -8.33766206e+02,  -4.44965990e+03,\n",
       "        -5.68383417e+02,   5.28533729e+02,   1.85753411e+01,\n",
       "        -3.54699174e+01,   4.92665650e+00,  -8.64846862e+00,\n",
       "        -1.01604908e+01,  -2.79480875e+00,   1.32133727e+01,\n",
       "         2.31017131e+01,   6.96676096e+00,  -1.45571335e+01,\n",
       "         1.25925959e+01,   2.83468650e+01,  -2.56458505e+01]),\n",
       "       array([ -1.25037768e+04,   2.79945838e+03,  -1.20982142e+03,\n",
       "         2.87917838e+02,   5.93349956e+02,  -1.28045561e+02,\n",
       "        -1.64177650e+02,  -1.58395101e+02,  -1.28532847e+01,\n",
       "         9.25979981e+01,   2.51930561e+01,   2.80840745e+01,\n",
       "         2.28347608e+01,   1.27183822e+00,   2.05407579e+01,\n",
       "         2.39483184e+01]),\n",
       "       array([  8.01644537e+03,  -2.00435960e+03,  -1.51619621e+03,\n",
       "        -5.60054903e+02,  -2.44676518e+03,   8.62913821e+02,\n",
       "        -2.73159903e+02,   1.62867029e+02,  -7.38161207e+01,\n",
       "         1.94423050e+01,  -7.74776912e+00,  -8.16382842e+01,\n",
       "        -1.45200656e+01,  -3.65549017e+01,   1.06766113e+00,\n",
       "        -3.07976448e+01])], dtype=object)"
      ]
     },
     "execution_count": 241,
     "metadata": {},
     "output_type": "execute_result"
    }
   ],
   "source": [
    "(bindset_n - bindset)*(1/(np.square(err)))"
   ]
  },
  {
   "cell_type": "code",
   "execution_count": 242,
   "metadata": {
    "collapsed": true
   },
   "outputs": [],
   "source": [
    "def wym_obj2(parm,x,rtot,data, eps=None):\n",
    "    \"\"\"\n",
    "    parms\n",
    "    --------\n",
    "    lmfit.Parameters() object containin definitions for k11, k21, k22, and l20\n",
    "    \n",
    "    x\n",
    "    --------\n",
    "    array of arrays (probably assymetric elements without \"formal\" dimensions) containing \n",
    "    free ligand concentrations, must be of same size (no. of elements) as rtots, and same \"shape\"\n",
    "    as data (same number of arrays within the array and the same number of elements in each subarray)\n",
    "    \"\"\"\n",
    "    \n",
    "    k11 = parm['k11']\n",
    "    k21 = parm['k21']\n",
    "    k22 = parm['k22']\n",
    "    l20 = parm['l20']\n",
    "    \n",
    "    model = []\n",
    "    \n",
    "    for i in range(lig.size):\n",
    "        rfree = (((-1 - k11*lig[i]) + \\\n",
    "        (np.sqrt((1 + k11*lig[i])**2 + 8*l20*rtot[i]*(1 + k21*lig[i] + \\\n",
    "        k21*k22*(lig[i]**2)))))/(4*l20*(1 + k21*lig[i] + k21*k22*(lig[i]**2))))\n",
    "        \n",
    "        bfrac = (k11*lig[i] + l20*k21*rfree*lig[i] + \\\n",
    "        2*l20*k21*k22*rfree*(lig[i]**2))/(1 + 2*l20*rfree + k11*lig[i] + \\\n",
    "        2*l20*k21*rfree*lig[i] + 2*l20*k21*k22*rfree*(lig[i]**2))\n",
    "        \n",
    "        model.append(bfrac)\n",
    "        \n",
    "    if eps is None:\n",
    "        return np.concatenate((np.array(model)) - data)\n",
    "    else:\n",
    "        weights = 1/(np.square(eps))\n",
    "        return np.concatenate(((np.array(model)) - data)*weights)"
   ]
  },
  {
   "cell_type": "code",
   "execution_count": 247,
   "metadata": {
    "collapsed": false
   },
   "outputs": [
    {
     "data": {
      "text/plain": [
       "array([  3.11887765e+05,   1.37947178e+05,   6.50802193e+04,\n",
       "         3.34955050e+04,   2.26638811e+04,   7.25344662e+03,\n",
       "         4.24077929e+03,   1.22566983e+03,   7.84579682e+02,\n",
       "         2.10230335e+02,   8.98475826e+01,   4.59029486e+01,\n",
       "         2.44100799e+01,  -1.32003431e+01,  -1.77790548e+01,\n",
       "         7.62857725e+00,  -1.94472759e+01,  -1.98810590e+01,\n",
       "         5.21452113e+05,   2.92523279e+05,   1.24693957e+05,\n",
       "         6.59020922e+04,   3.31095500e+04,   1.47282073e+04,\n",
       "         6.17291738e+03,   2.73363873e+03,   1.11668636e+03,\n",
       "         5.53038179e+02,   1.17518231e+02,   7.11191340e+01,\n",
       "         3.99682868e+01,   4.19009664e+01,   2.67800632e+01,\n",
       "        -6.22627648e+00,   6.82522185e+05,   3.26389288e+05,\n",
       "         1.90729751e+05,   8.44376053e+04,   3.65708989e+04,\n",
       "         1.97125606e+04,   9.54790342e+03,   4.01537842e+03,\n",
       "         1.64228007e+03,   6.55342055e+02,   2.62139603e+02,\n",
       "         9.30028536e+01,   2.32660462e+01,   1.70287842e+01,\n",
       "         2.75325979e+01,  -6.96994234e+00,  -2.58000701e+01,\n",
       "         2.73178318e+01,   8.91626182e+05,   3.79857970e+05,\n",
       "         2.10958066e+05,   9.98596891e+04,   4.71758494e+04,\n",
       "         2.69774714e+04,   1.36593535e+04,   6.40899618e+03,\n",
       "         2.27739012e+03,   5.90880564e+02,   3.06637577e+02,\n",
       "         1.13778856e+02,   4.41747544e+01,   3.45608195e+01,\n",
       "        -1.26327085e+01,  -2.00916175e+01,   9.64495190e+05,\n",
       "         5.35045368e+05,   2.74909980e+05,   1.38680848e+05,\n",
       "         8.89530968e+04,   2.79102497e+04,   1.98221880e+04,\n",
       "         6.79916615e+03,   3.60319882e+03,   1.21810836e+03,\n",
       "         5.58145558e+02,   3.89973992e+02,   1.38274607e+02,\n",
       "         7.01882827e+01,   6.13157178e+00,   3.49527606e+01])"
      ]
     },
     "execution_count": 247,
     "metadata": {},
     "output_type": "execute_result"
    }
   ],
   "source": [
    "wym_obj2(parms,ligset,rtots,bindset_n,err)"
   ]
  },
  {
   "cell_type": "code",
   "execution_count": 246,
   "metadata": {
    "collapsed": false
   },
   "outputs": [],
   "source": [
    "wyminner_wts = lmfit.Minimizer(wym_obj2,parms,fcn_args=(ligset,rtots,bindset_n,err))"
   ]
  },
  {
   "cell_type": "code",
   "execution_count": 248,
   "metadata": {
    "collapsed": false
   },
   "outputs": [
    {
     "data": {
      "text/plain": [
       "Parameters([('k11', <Parameter 'k11', 10.0, bounds=[0.01:inf]>),\n",
       "            ('k21', <Parameter 'k21', 10.0, bounds=[0.01:inf]>),\n",
       "            ('k22', <Parameter 'k22', 10.0, bounds=[0.01:inf]>),\n",
       "            ('l20', <Parameter 'l20', 100.0, bounds=[0.01:inf]>)])"
      ]
     },
     "execution_count": 248,
     "metadata": {},
     "output_type": "execute_result"
    }
   ],
   "source": [
    "parms"
   ]
  },
  {
   "cell_type": "code",
   "execution_count": 297,
   "metadata": {
    "collapsed": true
   },
   "outputs": [],
   "source": [
    "result = wyminner_wts.minimize(method='least_squares', loss='soft_l1')"
   ]
  },
  {
   "cell_type": "code",
   "execution_count": 298,
   "metadata": {
    "collapsed": false
   },
   "outputs": [
    {
     "name": "stdout",
     "output_type": "stream",
     "text": [
      "[[Fit Statistics]]\n",
      "    # function evals   = 221\n",
      "    # data points      = 84\n",
      "    # variables        = 4\n",
      "    chi-square         = 274387315.582\n",
      "    reduced chi-square = 3429841.445\n",
      "    Akaike info crit   = 1267.936\n",
      "    Bayesian info crit = 1277.659\n",
      "[[Variables]]\n",
      "    k11:   3.69393532 (init= 10)\n",
      "    k21:   1.82697761 (init= 10)\n",
      "    k22:   0.18537173 (init= 10)\n",
      "    l20:   305.825136 (init= 100)\n",
      "[[Correlations]] (unreported correlations are <  0.100)\n"
     ]
    }
   ],
   "source": [
    "lmfit.report_fit(result)"
   ]
  },
  {
   "cell_type": "code",
   "execution_count": 255,
   "metadata": {
    "collapsed": false
   },
   "outputs": [
    {
     "data": {
      "text/plain": [
       "{'k11': 3.75, 'k21': 1.81, 'k22': 0.115, 'l20': 283.0}"
      ]
     },
     "execution_count": 255,
     "metadata": {},
     "output_type": "execute_result"
    }
   ],
   "source": [
    "sim_parms"
   ]
  },
  {
   "cell_type": "code",
   "execution_count": 299,
   "metadata": {
    "collapsed": false
   },
   "outputs": [
    {
     "data": {
      "text/plain": [
       "Parameters([('k11', <Parameter 'k11', 3.6939353261901484, bounds=[0.01:inf]>),\n",
       "            ('k21', <Parameter 'k21', 1.8269776160154958, bounds=[0.01:inf]>),\n",
       "            ('k22', <Parameter 'k22', 0.185371732164446, bounds=[0.01:inf]>),\n",
       "            ('l20', <Parameter 'l20', 305.82513632199948, bounds=[0.01:inf]>)])"
      ]
     },
     "execution_count": 299,
     "metadata": {},
     "output_type": "execute_result"
    }
   ],
   "source": [
    "result.params"
   ]
  },
  {
   "cell_type": "code",
   "execution_count": 261,
   "metadata": {
    "collapsed": false
   },
   "outputs": [
    {
     "data": {
      "text/plain": [
       "[10.944409531811207,\n",
       " 10.944409531811207,\n",
       " 10.944409531811207,\n",
       " 100.98504889338817]"
      ]
     },
     "execution_count": 261,
     "metadata": {},
     "output_type": "execute_result"
    }
   ],
   "source": [
    "result.init_vals"
   ]
  },
  {
   "cell_type": "code",
   "execution_count": 286,
   "metadata": {
    "collapsed": true
   },
   "outputs": [],
   "source": [
    "result.params.add('noise', value = 10, min=0.001, max=1000)"
   ]
  },
  {
   "cell_type": "code",
   "execution_count": 287,
   "metadata": {
    "collapsed": false
   },
   "outputs": [],
   "source": [
    "def lnprob(parm,x,rtot,data,eps=None):\n",
    "    noise = parm['noise']\n",
    "    return -0.5 * np.sum((wym_obj2(parm,x,rtot,data,eps) / noise)**2 + np.log(2 * np.pi * noise**2))"
   ]
  },
  {
   "cell_type": "code",
   "execution_count": 289,
   "metadata": {
    "collapsed": false
   },
   "outputs": [
    {
     "data": {
      "text/plain": [
       "-1372207.1858955701"
      ]
     },
     "execution_count": 289,
     "metadata": {},
     "output_type": "execute_result"
    }
   ],
   "source": [
    "lnprob(result.params, ligset, rtots, bindset_n,err)"
   ]
  },
  {
   "cell_type": "code",
   "execution_count": 290,
   "metadata": {
    "collapsed": false
   },
   "outputs": [],
   "source": [
    "mcmc = lmfit.Minimizer(lnprob, result.params, fcn_args=(ligset,rtots,bindset_n,err))"
   ]
  },
  {
   "cell_type": "code",
   "execution_count": 276,
   "metadata": {
    "collapsed": true
   },
   "outputs": [],
   "source": [
    "import cProfile"
   ]
  },
  {
   "cell_type": "code",
   "execution_count": 291,
   "metadata": {
    "collapsed": false
   },
   "outputs": [],
   "source": [
    "result_mc = mcmc.emcee(burn=100, steps=2000, thin=10, params=result.params)"
   ]
  },
  {
   "cell_type": "code",
   "execution_count": 270,
   "metadata": {
    "collapsed": true
   },
   "outputs": [],
   "source": [
    "import corner"
   ]
  },
  {
   "cell_type": "code",
   "execution_count": 292,
   "metadata": {
    "collapsed": false
   },
   "outputs": [
    {
     "name": "stderr",
     "output_type": "stream",
     "text": [
      "WARNING:root:Too few points to create valid contours\n",
      "WARNING:root:Too few points to create valid contours\n",
      "WARNING:root:Too few points to create valid contours\n",
      "WARNING:root:Too few points to create valid contours\n",
      "WARNING:root:Too few points to create valid contours\n",
      "WARNING:root:Too few points to create valid contours\n"
     ]
    },
    {
     "data": {
      "image/png": "[encoded data removed]",
      "text/plain": [
       "<matplotlib.figure.Figure at 0x115901cf8>"
      ]
     },
     "execution_count": 292,
     "metadata": {},
     "output_type": "execute_result"
    },
    {
     "data": {
      "image/png": "[encoded data removed]",
      "text/plain": [
       "<matplotlib.figure.Figure at 0x115901cf8>"
      ]
     },
     "metadata": {},
     "output_type": "display_data"
    }
   ],
   "source": [
    "corner.corner(result_mc.flatchain)"
   ]
  },
  {
   "cell_type": "code",
   "execution_count": 337,
   "metadata": {
    "collapsed": false
   },
   "outputs": [],
   "source": [
    "def lnprob2(parm,x,rtot,data,eps=None):\n",
    "    return -0.5 * np.sum((wym_obj2(parm,x,rtot,data,eps))**2 + np.concatenate(math.log(2 * np.pi * eps**2)))"
   ]
  },
  {
   "cell_type": "code",
   "execution_count": 306,
   "metadata": {
    "collapsed": false
   },
   "outputs": [],
   "source": [
    "result.params['k11'].set(min=0.01,max=100)"
   ]
  },
  {
   "cell_type": "code",
   "execution_count": 309,
   "metadata": {
    "collapsed": false
   },
   "outputs": [
    {
     "data": {
      "text/plain": [
       "odict_keys(['k11', 'k21', 'k22', 'l20'])"
      ]
     },
     "execution_count": 309,
     "metadata": {},
     "output_type": "execute_result"
    }
   ],
   "source": [
    "result.params.keys()"
   ]
  },
  {
   "cell_type": "code",
   "execution_count": 311,
   "metadata": {
    "collapsed": false
   },
   "outputs": [],
   "source": [
    "for key in result.params.keys():\n",
    "    result.params[key].set(min=0.001,max=1000)"
   ]
  },
  {
   "cell_type": "code",
   "execution_count": 312,
   "metadata": {
    "collapsed": false
   },
   "outputs": [
    {
     "data": {
      "text/plain": [
       "Parameters([('k11',\n",
       "             <Parameter 'k11', 3.6939353261901484, bounds=[0.001:1000]>),\n",
       "            ('k21',\n",
       "             <Parameter 'k21', 1.8269776160154958, bounds=[0.001:1000]>),\n",
       "            ('k22', <Parameter 'k22', 0.185371732164446, bounds=[0.001:1000]>),\n",
       "            ('l20',\n",
       "             <Parameter 'l20', 305.82513632199948, bounds=[0.001:1000]>)])"
      ]
     },
     "execution_count": 312,
     "metadata": {},
     "output_type": "execute_result"
    }
   ],
   "source": [
    "result.params"
   ]
  },
  {
   "cell_type": "code",
   "execution_count": 338,
   "metadata": {
    "collapsed": false
   },
   "outputs": [],
   "source": [
    "mini = lmfit.Minimizer(lnprob2, result.params, fcn_args=(ligset,rtots,bindset_n,err))"
   ]
  },
  {
   "cell_type": "code",
   "execution_count": 341,
   "metadata": {
    "collapsed": false
   },
   "outputs": [
    {
     "ename": "TypeError",
     "evalue": "only length-1 arrays can be converted to Python scalars",
     "output_type": "error",
     "traceback": [
      "\u001b[0;31m---------------------------------------------------------------------------\u001b[0m",
      "\u001b[0;31mTypeError\u001b[0m                                 Traceback (most recent call last)",
      "\u001b[0;32m<ipython-input-341-c923fde5e9be>\u001b[0m in \u001b[0;36m<module>\u001b[0;34m()\u001b[0m\n\u001b[0;32m----> 1\u001b[0;31m \u001b[0mlnprob2\u001b[0m\u001b[0;34m(\u001b[0m\u001b[0mresult\u001b[0m\u001b[0;34m.\u001b[0m\u001b[0mparams\u001b[0m\u001b[0;34m,\u001b[0m \u001b[0mligset\u001b[0m\u001b[0;34m,\u001b[0m\u001b[0mrtots\u001b[0m\u001b[0;34m,\u001b[0m\u001b[0mbindset_n\u001b[0m\u001b[0;34m,\u001b[0m\u001b[0merr\u001b[0m\u001b[0;34m)\u001b[0m\u001b[0;34m\u001b[0m\u001b[0m\n\u001b[0m",
      "\u001b[0;32m<ipython-input-337-820808c1c4f6>\u001b[0m in \u001b[0;36mlnprob2\u001b[0;34m(parm, x, rtot, data, eps)\u001b[0m\n\u001b[1;32m      1\u001b[0m \u001b[0;32mdef\u001b[0m \u001b[0mlnprob2\u001b[0m\u001b[0;34m(\u001b[0m\u001b[0mparm\u001b[0m\u001b[0;34m,\u001b[0m\u001b[0mx\u001b[0m\u001b[0;34m,\u001b[0m\u001b[0mrtot\u001b[0m\u001b[0;34m,\u001b[0m\u001b[0mdata\u001b[0m\u001b[0;34m,\u001b[0m\u001b[0meps\u001b[0m\u001b[0;34m=\u001b[0m\u001b[0;32mNone\u001b[0m\u001b[0;34m)\u001b[0m\u001b[0;34m:\u001b[0m\u001b[0;34m\u001b[0m\u001b[0m\n\u001b[0;32m----> 2\u001b[0;31m     \u001b[0;32mreturn\u001b[0m \u001b[0;34m-\u001b[0m\u001b[0;36m0.5\u001b[0m \u001b[0;34m*\u001b[0m \u001b[0mnp\u001b[0m\u001b[0;34m.\u001b[0m\u001b[0msum\u001b[0m\u001b[0;34m(\u001b[0m\u001b[0;34m(\u001b[0m\u001b[0mwym_obj2\u001b[0m\u001b[0;34m(\u001b[0m\u001b[0mparm\u001b[0m\u001b[0;34m,\u001b[0m\u001b[0mx\u001b[0m\u001b[0;34m,\u001b[0m\u001b[0mrtot\u001b[0m\u001b[0;34m,\u001b[0m\u001b[0mdata\u001b[0m\u001b[0;34m,\u001b[0m\u001b[0meps\u001b[0m\u001b[0;34m)\u001b[0m\u001b[0;34m)\u001b[0m\u001b[0;34m**\u001b[0m\u001b[0;36m2\u001b[0m \u001b[0;34m+\u001b[0m \u001b[0mnp\u001b[0m\u001b[0;34m.\u001b[0m\u001b[0mconcatenate\u001b[0m\u001b[0;34m(\u001b[0m\u001b[0mmath\u001b[0m\u001b[0;34m.\u001b[0m\u001b[0mlog\u001b[0m\u001b[0;34m(\u001b[0m\u001b[0;36m2\u001b[0m \u001b[0;34m*\u001b[0m \u001b[0mnp\u001b[0m\u001b[0;34m.\u001b[0m\u001b[0mpi\u001b[0m \u001b[0;34m*\u001b[0m \u001b[0meps\u001b[0m\u001b[0;34m**\u001b[0m\u001b[0;36m2\u001b[0m\u001b[0;34m)\u001b[0m\u001b[0;34m)\u001b[0m\u001b[0;34m)\u001b[0m\u001b[0;34m\u001b[0m\u001b[0m\n\u001b[0m",
      "\u001b[0;31mTypeError\u001b[0m: only length-1 arrays can be converted to Python scalars"
     ]
    }
   ],
   "source": [
    "lnprob2(result.params, ligset,rtots,bindset_n,err)"
   ]
  },
  {
   "cell_type": "code",
   "execution_count": 331,
   "metadata": {
    "collapsed": false
   },
   "outputs": [
    {
     "data": {
      "text/plain": [
       "2.302585092994046"
      ]
     },
     "execution_count": 331,
     "metadata": {},
     "output_type": "execute_result"
    }
   ],
   "source": [
    "math.log()"
   ]
  },
  {
   "cell_type": "code",
   "execution_count": 345,
   "metadata": {
    "collapsed": false
   },
   "outputs": [
    {
     "data": {
      "text/plain": [
       "array([-15.87252722, -14.39609707, -12.981799  , -11.65524891,\n",
       "       -10.58416026,  -8.97838149,  -7.95537689,  -6.59008949,\n",
       "        -5.96287895,  -5.06822192,  -4.65176895,  -4.4329638 ,\n",
       "        -4.30838612,  -4.1074224 ,  -4.06997483,  -4.19623413,\n",
       "        -4.05136898,  -4.04732479, -16.45521915, -15.17185939,\n",
       "       -13.66012003, -12.34150129, -11.00286132,  -9.61122073,\n",
       "        -8.27172937,  -7.14317385,  -6.16707428,  -5.52323944,\n",
       "        -4.71220456,  -4.50987844,  -4.36521563,  -4.35437915,\n",
       "        -4.2850695 ,  -4.12295761, -16.76974969, -15.34785083,\n",
       "       -14.10188119, -12.62308312, -11.14378794,  -9.89196839,\n",
       "        -8.64072891,  -7.43618985,  -6.42507298,  -5.61432646,\n",
       "        -5.01223078,  -4.57275609,  -4.29584552,  -4.25141015,\n",
       "        -4.28752285,  -4.1224538 ,  -4.01241766,  -4.27906856,\n",
       "       -17.08528764, -15.56033249, -14.26647832, -12.83723976,\n",
       "       -11.41742989, -10.19654169,  -8.9565981 ,  -7.81347663,\n",
       "        -6.658248  ,  -5.54211956,  -5.08022167,  -4.62744571,\n",
       "        -4.37623548,  -4.32338115,  -4.09159812,  -4.04683373,\n",
       "       -17.25294964, -15.9554242 , -14.58923069, -13.2056348 ,\n",
       "       -12.03969646, -10.2666493 ,  -9.29503676,  -7.85784406,\n",
       "        -7.00901422,  -6.00473203,  -5.40044867,  -5.14828325,\n",
       "        -4.66037261,  -4.44394639,  -4.18547483,  -4.30997735])"
      ]
     },
     "execution_count": 345,
     "metadata": {},
     "output_type": "execute_result"
    }
   ],
   "source": [
    "np.log(np.concatenate(2 * np.pi * err**2))"
   ]
  },
  {
   "cell_type": "code",
   "execution_count": null,
   "metadata": {
    "collapsed": true
   },
   "outputs": [],
   "source": []
  }
 ],
 "metadata": {
  "anaconda-cloud": {},
  "kernelspec": {
   "display_name": "Python [conda env:fitter]",
   "language": "python",
   "name": "conda-env-fitter-py"
  },
  "language_info": {
   "codemirror_mode": {
    "name": "ipython",
    "version": 3
   },
   "file_extension": ".py",
   "mimetype": "text/x-python",
   "name": "python",
   "nbconvert_exporter": "python",
   "pygments_lexer": "ipython3",
   "version": "3.5.2"
  }
 },
 "nbformat": 4,
 "nbformat_minor": 1
}
