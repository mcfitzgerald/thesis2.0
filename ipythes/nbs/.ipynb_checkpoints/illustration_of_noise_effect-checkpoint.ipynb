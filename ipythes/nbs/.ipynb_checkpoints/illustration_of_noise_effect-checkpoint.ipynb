{
 "cells": [
  {
   "cell_type": "code",
   "execution_count": 1,
   "metadata": {
    "collapsed": true
   },
   "outputs": [],
   "source": [
    "import numpy as np"
   ]
  },
  {
   "cell_type": "code",
   "execution_count": 2,
   "metadata": {
    "collapsed": true
   },
   "outputs": [],
   "source": [
    "def dilser(low=0.001, limit=100.0, dilfactor = 2.0):\n",
    "    \"\"\"Returns a list containing a dilution series that ranges from\n",
    "    \"low\" to \"limit\" by \"dilfactor\".\n",
    "    \"\"\"\n",
    "    a = [low]\n",
    "    while a[-1] <= limit:\n",
    "        a.append(a[len(a)-1]*dilfactor)\n",
    "    \n",
    "    return np.array(a)"
   ]
  },
  {
   "cell_type": "code",
   "execution_count": 3,
   "metadata": {
    "collapsed": true
   },
   "outputs": [],
   "source": [
    "lig = dilser()\n",
    "\n",
    "a = np.delete(lig,[15,16])\n",
    "\n",
    "b = np.delete(lig,[14,17])\n",
    "\n",
    "c = np.delete(lig,[13,15])\n",
    "\n",
    "ligset = np.array([lig,a,lig,b,c])"
   ]
  },
  {
   "cell_type": "code",
   "execution_count": 4,
   "metadata": {
    "collapsed": true
   },
   "outputs": [],
   "source": [
    "rtots = np.array([0.001,0.005, 0.01, 0.02, 0.05])\n",
    "\n",
    "sim_parms = dict({'k11':3.7, 'k21':1.8, 'k22':0.12, 'l20':293.0})\n",
    "\n",
    "parmvec = [3.7,1.8,0.12,293.0]"
   ]
  },
  {
   "cell_type": "code",
   "execution_count": 5,
   "metadata": {
    "collapsed": true
   },
   "outputs": [],
   "source": [
    "def wyman_sim_parmvec(parm,lig,rtot):\n",
    "    \"\"\" Generates bound fraction for Wyman model given parameters and returns as \n",
    "    nested array simulated dataset  \n",
    "    parm is a 1-D numpy array that must describe [k11,k21,k22,l20]\n",
    "    lig is a 1-D array or 1-D array of 1-D arrays of ligand concentrations\n",
    "    rtot is a 1-D numpy array of total receptor concentrations for each data set\n",
    "    size of rtot and lig must match \n",
    "    \"\"\"\n",
    "    k11 = parm[0]\n",
    "    k21 = parm[1]\n",
    "    k22 = parm[2]\n",
    "    l20 = parm[3]\n",
    "    \n",
    "    holder = []\n",
    "    \n",
    "    for i in range(lig.size):\n",
    "        rfree = (((-1 - k11*lig[i]) + \\\n",
    "        (np.sqrt((1 + k11*lig[i])**2 + 8*l20*rtot[i]*(1 + k21*lig[i] + \\\n",
    "        k21*k22*(lig[i]**2)))))/(4*l20*(1 + k21*lig[i] + k21*k22*(lig[i]**2))))\n",
    "        \n",
    "        bfrac = (k11*lig[i] + l20*k21*rfree*lig[i] + \\\n",
    "        2*l20*k21*k22*rfree*(lig[i]**2))/(1 + 2*l20*rfree + k11*lig[i] + \\\n",
    "        2*l20*k21*rfree*lig[i] + 2*l20*k21*k22*rfree*(lig[i]**2))\n",
    "        \n",
    "        holder.append(bfrac)\n",
    "        \n",
    "    return np.array(holder)"
   ]
  },
  {
   "cell_type": "code",
   "execution_count": 6,
   "metadata": {
    "collapsed": true
   },
   "outputs": [],
   "source": [
    "bindset = wyman_sim_parmvec(parmvec,ligset,rtots)"
   ]
  },
  {
   "cell_type": "code",
   "execution_count": 7,
   "metadata": {
    "collapsed": true
   },
   "outputs": [],
   "source": [
    "#explicit noise array -- so I can recreate\n",
    "np.random.seed(5785)\n",
    "noiseset = np.array([np.random.normal(1.0,0.03,bindset[i].size) for i in range(bindset.size)])"
   ]
  },
  {
   "cell_type": "code",
   "execution_count": 8,
   "metadata": {
    "collapsed": false
   },
   "outputs": [
    {
     "data": {
      "text/plain": [
       "array([ array([ 1.00617918,  0.99023274,  1.00787412,  1.0138261 ,  0.98418485,\n",
       "        0.9947373 ,  0.93270117,  1.00012207,  1.02910715,  0.99626626,\n",
       "        1.02157297,  0.97526078,  0.94367772,  0.97143708,  0.99853889,\n",
       "        1.05128943,  1.02842383,  0.96899232]),\n",
       "       array([ 1.01087044,  0.99177023,  0.9665545 ,  1.01452523,  0.94225941,\n",
       "        0.96956474,  1.01542936,  0.98359099,  1.0034616 ,  1.04211599,\n",
       "        1.0002157 ,  0.98595672,  1.00290611,  1.03279034,  0.93744478,\n",
       "        1.03128241]),\n",
       "       array([ 1.06715146,  1.02350247,  1.02754237,  0.95969655,  1.0405557 ,\n",
       "        0.97750069,  0.94308836,  1.04585481,  1.03039661,  1.00306248,\n",
       "        1.05760845,  0.99167362,  0.94593037,  0.98543285,  1.01803083,\n",
       "        0.98665579,  1.04681933,  1.01407121]),\n",
       "       array([ 1.029253  ,  1.01940108,  0.9856499 ,  1.02474087,  1.00091153,\n",
       "        1.01694388,  0.99703627,  1.03541353,  1.00592349,  0.96563508,\n",
       "        0.98967749,  0.99979111,  0.99889777,  0.95396244,  0.9940434 ,\n",
       "        0.96808897]),\n",
       "       array([ 1.05707058,  0.99622073,  1.00363344,  1.0082037 ,  0.99099783,\n",
       "        1.0119636 ,  1.06895411,  1.0191731 ,  0.99695039,  1.06321212,\n",
       "        0.96971232,  0.99637055,  0.9729946 ,  1.03239731,  1.0205699 ,\n",
       "        1.01747927])], dtype=object)"
      ]
     },
     "execution_count": 8,
     "metadata": {},
     "output_type": "execute_result"
    }
   ],
   "source": [
    "noiseset"
   ]
  },
  {
   "cell_type": "code",
   "execution_count": 9,
   "metadata": {
    "collapsed": true
   },
   "outputs": [],
   "source": [
    "bindset_n = noiseset*bindset"
   ]
  },
  {
   "cell_type": "code",
   "execution_count": 26,
   "metadata": {
    "collapsed": true
   },
   "outputs": [],
   "source": [
    "ligs = dilser()"
   ]
  },
  {
   "cell_type": "code",
   "execution_count": 37,
   "metadata": {
    "collapsed": false
   },
   "outputs": [
    {
     "ename": "ValueError",
     "evalue": "only 2 non-keyword arguments accepted",
     "output_type": "error",
     "traceback": [
      "\u001b[0;31m---------------------------------------------------------------------------\u001b[0m",
      "\u001b[0;31mValueError\u001b[0m                                Traceback (most recent call last)",
      "\u001b[0;32m<ipython-input-37-95fe6ba90671>\u001b[0m in \u001b[0;36m<module>\u001b[0;34m()\u001b[0m\n\u001b[0;32m----> 1\u001b[0;31m \u001b[0ma\u001b[0m \u001b[0;34m=\u001b[0m \u001b[0mnp\u001b[0m\u001b[0;34m.\u001b[0m\u001b[0marray\u001b[0m\u001b[0;34m(\u001b[0m\u001b[0mligs\u001b[0m\u001b[0;34m,\u001b[0m\u001b[0mligs\u001b[0m\u001b[0;34m,\u001b[0m\u001b[0mligs\u001b[0m\u001b[0;34m,\u001b[0m\u001b[0mligs\u001b[0m\u001b[0;34m,\u001b[0m\u001b[0mligs\u001b[0m\u001b[0;34m)\u001b[0m\u001b[0;34m\u001b[0m\u001b[0m\n\u001b[0m",
      "\u001b[0;31mValueError\u001b[0m: only 2 non-keyword arguments accepted"
     ]
    }
   ],
   "source": [
    "a = np.array(ligs,ligs,ligs,ligs,ligs)"
   ]
  },
  {
   "cell_type": "code",
   "execution_count": 36,
   "metadata": {
    "collapsed": false
   },
   "outputs": [
    {
     "data": {
      "text/plain": [
       "90"
      ]
     },
     "execution_count": 36,
     "metadata": {},
     "output_type": "execute_result"
    }
   ],
   "source": [
    "a.size"
   ]
  },
  {
   "cell_type": "code",
   "execution_count": 17,
   "metadata": {
    "collapsed": false
   },
   "outputs": [
    {
     "name": "stdout",
     "output_type": "stream",
     "text": [
      "0\n"
     ]
    }
   ],
   "source": [
    "for i in range(1):\n",
    "    print(i)"
   ]
  },
  {
   "cell_type": "code",
   "execution_count": 16,
   "metadata": {
    "collapsed": false
   },
   "outputs": [
    {
     "data": {
      "text/plain": [
       "range(0, 0)"
      ]
     },
     "execution_count": 16,
     "metadata": {},
     "output_type": "execute_result"
    }
   ],
   "source": [
    "range(0)"
   ]
  },
  {
   "cell_type": "code",
   "execution_count": 38,
   "metadata": {
    "collapsed": true
   },
   "outputs": [],
   "source": [
    "def unibind(parm,lig,rtot):\n",
    "\n",
    "    k11 = parm[0]\n",
    "    k21 = parm[1]\n",
    "    k22 = parm[2]\n",
    "    l20 = parm[3]\n",
    "\n",
    "    rfree = (((-1 - k11*lig) + \\\n",
    "    (np.sqrt((1 + k11*lig)**2 + 8*l20*rtot*(1 + k21*lig + \\\n",
    "    k21*k22*(lig**2)))))/(4*l20*(1 + k21*lig + k21*k22*(lig**2))))\n",
    "\n",
    "    bfrac = (k11*lig + l20*k21*rfree*lig + \\\n",
    "    2*l20*k21*k22*rfree*(lig**2))/(1 + 2*l20*rfree + k11*lig + \\\n",
    "    2*l20*k21*rfree*lig + 2*l20*k21*k22*rfree*(lig**2))\n",
    "    \n",
    "    return bfrac"
   ]
  },
  {
   "cell_type": "code",
   "execution_count": 39,
   "metadata": {
    "collapsed": false
   },
   "outputs": [
    {
     "data": {
      "text/plain": [
       "array([  1.00000000e-03,   2.00000000e-03,   4.00000000e-03,\n",
       "         8.00000000e-03,   1.60000000e-02,   3.20000000e-02,\n",
       "         6.40000000e-02,   1.28000000e-01,   2.56000000e-01,\n",
       "         5.12000000e-01,   1.02400000e+00,   2.04800000e+00,\n",
       "         4.09600000e+00,   8.19200000e+00,   1.63840000e+01,\n",
       "         3.27680000e+01,   6.55360000e+01,   1.31072000e+02])"
      ]
     },
     "execution_count": 39,
     "metadata": {},
     "output_type": "execute_result"
    }
   ],
   "source": [
    "ligs"
   ]
  },
  {
   "cell_type": "code",
   "execution_count": 43,
   "metadata": {
    "collapsed": false
   },
   "outputs": [],
   "source": [
    "nubar = unibind(parmvec,ligs,0.05)"
   ]
  },
  {
   "cell_type": "code",
   "execution_count": 44,
   "metadata": {
    "collapsed": true
   },
   "outputs": [],
   "source": [
    "%matplotlib inline\n",
    "import matplotlib.pyplot as plt"
   ]
  },
  {
   "cell_type": "code",
   "execution_count": 45,
   "metadata": {
    "collapsed": false
   },
   "outputs": [
    {
     "data": {
      "text/plain": [
       "[<matplotlib.lines.Line2D at 0x10abf5d30>]"
      ]
     },
     "execution_count": 45,
     "metadata": {},
     "output_type": "execute_result"
    },
    {
     "data": {
      "image/png": "[encoded data removed]",
      "text/plain": [
       "<matplotlib.figure.Figure at 0x109e74198>"
      ]
     },
     "metadata": {},
     "output_type": "display_data"
    }
   ],
   "source": [
    "plt.semilogx(ligs,nubar,'o')"
   ]
  },
  {
   "cell_type": "code",
   "execution_count": 56,
   "metadata": {
    "collapsed": false
   },
   "outputs": [
    {
     "data": {
      "text/plain": [
       "array([ 0.91588205,  1.03090601,  0.99483437,  0.94383172,  0.9704123 ,\n",
       "        0.95234649,  1.00433485,  0.95871011,  0.90784668,  0.91177199,\n",
       "        1.076633  ,  1.0832029 ,  0.98519251,  0.96053105,  1.01586784,\n",
       "        1.01443123,  0.9773644 ,  0.97223896])"
      ]
     },
     "execution_count": 56,
     "metadata": {},
     "output_type": "execute_result"
    }
   ],
   "source": [
    "np.random.normal(1.0,0.05,18)"
   ]
  },
  {
   "cell_type": "code",
   "execution_count": 58,
   "metadata": {
    "collapsed": false
   },
   "outputs": [],
   "source": [
    "berb = [np.random.normal(1.0,0.05,18)*nubar for i in range(5)]"
   ]
  },
  {
   "cell_type": "code",
   "execution_count": 59,
   "metadata": {
    "collapsed": false
   },
   "outputs": [
    {
     "data": {
      "text/plain": [
       "array([ 0.00144862,  0.00258082,  0.00535899,  0.01114481,  0.02251618,\n",
       "        0.0431918 ,  0.08313389,  0.15232543,  0.25162695,  0.36704671,\n",
       "        0.55369012,  0.7006828 ,  0.77912876,  0.70432391,  0.94490068,\n",
       "        1.07351457,  1.08167188,  0.99217272])"
      ]
     },
     "execution_count": 59,
     "metadata": {},
     "output_type": "execute_result"
    }
   ],
   "source": [
    "berb[1]"
   ]
  },
  {
   "cell_type": "code",
   "execution_count": 60,
   "metadata": {
    "collapsed": false
   },
   "outputs": [
    {
     "data": {
      "text/plain": [
       "array([ 0.00139734,  0.00282889,  0.00553996,  0.01145488,  0.02007074,\n",
       "        0.03822768,  0.08304805,  0.16059293,  0.24989761,  0.38396806,\n",
       "        0.52838409,  0.72737994,  0.73555064,  0.91130251,  0.93376281,\n",
       "        0.96979018,  0.96608078,  1.00210057])"
      ]
     },
     "execution_count": 60,
     "metadata": {},
     "output_type": "execute_result"
    }
   ],
   "source": [
    "berb[0]"
   ]
  },
  {
   "cell_type": "code",
   "execution_count": 63,
   "metadata": {
    "collapsed": false
   },
   "outputs": [
    {
     "data": {
      "text/plain": [
       "5"
      ]
     },
     "execution_count": 63,
     "metadata": {},
     "output_type": "execute_result"
    }
   ],
   "source": [
    "len(berb)"
   ]
  },
  {
   "cell_type": "code",
   "execution_count": 64,
   "metadata": {
    "collapsed": false
   },
   "outputs": [
    {
     "data": {
      "image/png": "[encoded data removed]",
      "text/plain": [
       "<matplotlib.figure.Figure at 0x10d9d2cf8>"
      ]
     },
     "metadata": {},
     "output_type": "display_data"
    }
   ],
   "source": [
    "for i in range(len(berb)):\n",
    "    plt.semilogx(ligs,berb[i],'x')"
   ]
  },
  {
   "cell_type": "code",
   "execution_count": 70,
   "metadata": {
    "collapsed": false
   },
   "outputs": [],
   "source": [
    "nubmen = (berb[0] + berb[1] + berb[2] + berb[3] + berb[4])/5"
   ]
  },
  {
   "cell_type": "code",
   "execution_count": 71,
   "metadata": {
    "collapsed": false,
    "scrolled": true
   },
   "outputs": [
    {
     "data": {
      "image/png": "[encoded data removed]",
      "text/plain": [
       "<matplotlib.figure.Figure at 0x10d9d2c88>"
      ]
     },
     "metadata": {},
     "output_type": "display_data"
    }
   ],
   "source": [
    "for i in range(len(berb)):\n",
    "    plt.semilogx(ligs,berb[i],'x')\n",
    "    plt.semilogx(ligs,nubmen,'o')"
   ]
  },
  {
   "cell_type": "code",
   "execution_count": 83,
   "metadata": {
    "collapsed": false
   },
   "outputs": [],
   "source": [
    "sigma = np.sqrt(np.sum(((berb - nubmen)**2),0)/5)"
   ]
  },
  {
   "cell_type": "code",
   "execution_count": 77,
   "metadata": {
    "collapsed": false
   },
   "outputs": [
    {
     "data": {
      "text/plain": [
       "array([ 0.00665774,  0.01351892,  0.02694852,  0.05593403,  0.10614059,\n",
       "        0.21244981,  0.40536325,  0.75335143,  1.23171417,  1.8801349 ,\n",
       "        2.73441401,  3.40152164,  3.89381384,  4.27640594,  4.5895968 ,\n",
       "        5.08422089,  5.00452834,  4.79481457])"
      ]
     },
     "execution_count": 77,
     "metadata": {},
     "output_type": "execute_result"
    }
   ],
   "source": [
    "np.sum(berb,0)"
   ]
  },
  {
   "cell_type": "code",
   "execution_count": 79,
   "metadata": {
    "collapsed": false
   },
   "outputs": [
    {
     "data": {
      "text/plain": [
       "array([ 0.00665774,  0.01351892,  0.02694852,  0.05593403,  0.10614059,\n",
       "        0.21244981,  0.40536325,  0.75335143,  1.23171417,  1.8801349 ,\n",
       "        2.73441401,  3.40152164,  3.89381384,  4.27640594,  4.5895968 ,\n",
       "        5.08422089,  5.00452834,  4.79481457])"
      ]
     },
     "execution_count": 79,
     "metadata": {},
     "output_type": "execute_result"
    }
   ],
   "source": [
    "nubmen*5"
   ]
  },
  {
   "cell_type": "code",
   "execution_count": 87,
   "metadata": {
    "collapsed": false
   },
   "outputs": [
    {
     "data": {
      "image/png": "[encoded data removed]",
      "text/plain": [
       "<matplotlib.figure.Figure at 0x10e6fcfd0>"
      ]
     },
     "metadata": {},
     "output_type": "display_data"
    }
   ],
   "source": [
    "plt.errorbar(ligs, nubmen, xerr=sigma, yerr=sigma, marker='o')\n",
    "plt.xscale('log')"
   ]
  },
  {
   "cell_type": "code",
   "execution_count": 88,
   "metadata": {
    "collapsed": false
   },
   "outputs": [
    {
     "data": {
      "text/plain": [
       "array([  9.32466448e-05,   1.26910154e-04,   2.08869435e-04,\n",
       "         1.75860227e-04,   9.47981194e-04,   2.14086332e-03,\n",
       "         2.48882457e-03,   5.97621480e-03,   4.27021099e-03,\n",
       "         1.29712078e-02,   1.18500095e-02,   4.15557456e-02,\n",
       "         4.85466496e-02,   7.89031484e-02,   2.71926807e-02,\n",
       "         3.36951433e-02,   5.62233325e-02,   3.85059737e-02])"
      ]
     },
     "execution_count": 88,
     "metadata": {},
     "output_type": "execute_result"
    }
   ],
   "source": [
    "sigma"
   ]
  },
  {
   "cell_type": "code",
   "execution_count": 91,
   "metadata": {
    "collapsed": false
   },
   "outputs": [
    {
     "data": {
      "text/plain": [
       "0.043617067129268744"
      ]
     },
     "execution_count": 91,
     "metadata": {},
     "output_type": "execute_result"
    }
   ],
   "source": [
    "np.average(sigma/nubmen)"
   ]
  },
  {
   "cell_type": "code",
   "execution_count": null,
   "metadata": {
    "collapsed": true
   },
   "outputs": [],
   "source": []
  }
 ],
 "metadata": {
  "anaconda-cloud": {},
  "kernelspec": {
   "display_name": "Python [conda env:fitter]",
   "language": "python",
   "name": "conda-env-fitter-py"
  },
  "language_info": {
   "codemirror_mode": {
    "name": "ipython",
    "version": 3
   },
   "file_extension": ".py",
   "mimetype": "text/x-python",
   "name": "python",
   "nbconvert_exporter": "python",
   "pygments_lexer": "ipython3",
   "version": "3.5.2"
  }
 },
 "nbformat": 4,
 "nbformat_minor": 1
}
